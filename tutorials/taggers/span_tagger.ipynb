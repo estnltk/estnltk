{
 "cells": [
  {
   "cell_type": "markdown",
   "metadata": {},
   "source": [
    "# SpanTagger\n",
    "\n",
    "**SpanTagger** allows us to tag spans on a pre-annotated layer of the **Text object**. For example, we can tag on lemmas if we specify 'morph_analysis' as input_layer and 'lemma' as input_attribute. We also need a vocabulary with tokens and their attributes that we want to tag. In this example, the vocabulary is saved in the file *vocabulary.csv*."
   ]
  },
  {
   "cell_type": "code",
   "execution_count": 1,
   "metadata": {},
   "outputs": [],
   "source": [
    "from estnltk import Text\n",
    "from estnltk.taggers import SpanTagger\n",
    "from estnltk.taggers import Vocabulary"
   ]
  },
  {
   "cell_type": "code",
   "execution_count": 2,
   "metadata": {},
   "outputs": [],
   "source": [
    "vocabulary='span_vocabulary.csv'"
   ]
  },
  {
   "cell_type": "code",
   "execution_count": 3,
   "metadata": {},
   "outputs": [
    {
     "data": {
      "text/html": [
       "<h4>Vocabulary</h4>\n",
       "key: '_token_'\n",
       "<style  type=\"text/css\" >\n",
       "    #T_23dea_ tr:hover {\n",
       "          background-color: #11ff99;\n",
       "    }#T_23dea_row0_col0,#T_23dea_row0_col1,#T_23dea_row1_col0,#T_23dea_row1_col1,#T_23dea_row2_col0,#T_23dea_row2_col1,#T_23dea_row3_col0,#T_23dea_row3_col1{\n",
       "            background-color:  LightSteelBlue;\n",
       "        }#T_23dea_row0_col2,#T_23dea_row1_col2,#T_23dea_row2_col2,#T_23dea_row3_col2{\n",
       "            background-color:  Moccasin;\n",
       "        }</style><table id=\"T_23dea_\" ><thead>    <tr>        <th class=\"col_heading level0 col0\" >_token_</th>        <th class=\"col_heading level0 col1\" >value</th>        <th class=\"col_heading level0 col2\" >_priority_</th>    </tr></thead><tbody>\n",
       "                <tr>\n",
       "                                <td id=\"T_23dea_row0_col0\" class=\"data row0 col0\" >inimene</td>\n",
       "                        <td id=\"T_23dea_row0_col1\" class=\"data row0 col1\" >K</td>\n",
       "                        <td id=\"T_23dea_row0_col2\" class=\"data row0 col2\" >2</td>\n",
       "            </tr>\n",
       "            <tr>\n",
       "                                <td id=\"T_23dea_row1_col0\" class=\"data row1 col0\" ></td>\n",
       "                        <td id=\"T_23dea_row1_col1\" class=\"data row1 col1\" >I</td>\n",
       "                        <td id=\"T_23dea_row1_col2\" class=\"data row1 col2\" >3</td>\n",
       "            </tr>\n",
       "            <tr>\n",
       "                                <td id=\"T_23dea_row2_col0\" class=\"data row2 col0\" >päike</td>\n",
       "                        <td id=\"T_23dea_row2_col1\" class=\"data row2 col1\" >P</td>\n",
       "                        <td id=\"T_23dea_row2_col2\" class=\"data row2 col2\" >2</td>\n",
       "            </tr>\n",
       "            <tr>\n",
       "                                <td id=\"T_23dea_row3_col0\" class=\"data row3 col0\" >tundma</td>\n",
       "                        <td id=\"T_23dea_row3_col1\" class=\"data row3 col1\" >T</td>\n",
       "                        <td id=\"T_23dea_row3_col2\" class=\"data row3 col2\" >1</td>\n",
       "            </tr>\n",
       "    </tbody></table>"
      ],
      "text/plain": [
       "Vocabulary(key='_token_', len=3)"
      ]
     },
     "execution_count": 3,
     "metadata": {},
     "output_type": "execute_result"
    }
   ],
   "source": [
    "vocabulary_file = 'span_vocabulary.csv'\n",
    "Vocabulary.read_csv(vocabulary_file=vocabulary_file, key='_token_')"
   ]
  },
  {
   "cell_type": "code",
   "execution_count": 4,
   "metadata": {},
   "outputs": [],
   "source": [
    "tagger = SpanTagger(output_layer='tagged_tokens',\n",
    "                    input_layer='morph_analysis',\n",
    "                    input_attribute='lemma',\n",
    "                    vocabulary=vocabulary_file,\n",
    "                    output_attributes=['value', '_priority_'], # default: None\n",
    "                    key='_token_', # default: '_token_'\n",
    "                    validator_attribute=None, # the default:\n",
    "                    ambiguous=True # default: False\n",
    "                    )"
   ]
  },
  {
   "cell_type": "markdown",
   "metadata": {},
   "source": [
    "Let's create the **Text** object with the layer that we want to tag on, and then tag the spans:"
   ]
  },
  {
   "cell_type": "code",
   "execution_count": 5,
   "metadata": {},
   "outputs": [],
   "source": [
    "text = Text('Eestimaal tunnevad inimesed palju puudust päikesest ja energiast.').tag_layer(['morph_analysis'])"
   ]
  },
  {
   "cell_type": "code",
   "execution_count": 6,
   "metadata": {},
   "outputs": [
    {
     "data": {
      "text/html": [
       "<h4>Layer</h4>\n",
       "\n",
       "\n",
       "<table border=\"1\" class=\"dataframe\">\n",
       "  <thead>\n",
       "    <tr style=\"text-align: right;\">\n",
       "      <th>layer name</th>\n",
       "      <th>attributes</th>\n",
       "      <th>parent</th>\n",
       "      <th>enveloping</th>\n",
       "      <th>ambiguous</th>\n",
       "      <th>span count</th>\n",
       "    </tr>\n",
       "  </thead>\n",
       "  <tbody>\n",
       "    <tr>\n",
       "      <td>tagged_tokens</td>\n",
       "      <td>value, _priority_</td>\n",
       "      <td>morph_analysis</td>\n",
       "      <td>None</td>\n",
       "      <td>True</td>\n",
       "      <td>3</td>\n",
       "    </tr>\n",
       "  </tbody>\n",
       "</table>\n",
       "<table border=\"1\" class=\"dataframe\">\n",
       "  <thead>\n",
       "    <tr style=\"text-align: right;\">\n",
       "      <th>text</th>\n",
       "      <th>value</th>\n",
       "      <th>_priority_</th>\n",
       "    </tr>\n",
       "  </thead>\n",
       "  <tbody>\n",
       "    <tr>\n",
       "      <td>tunnevad</td>\n",
       "      <td>T</td>\n",
       "      <td>1</td>\n",
       "    </tr>\n",
       "    <tr>\n",
       "      <td>inimesed</td>\n",
       "      <td>K</td>\n",
       "      <td>2</td>\n",
       "    </tr>\n",
       "    <tr>\n",
       "      <td></td>\n",
       "      <td>I</td>\n",
       "      <td>3</td>\n",
       "    </tr>\n",
       "    <tr>\n",
       "      <td>päikesest</td>\n",
       "      <td>P</td>\n",
       "      <td>2</td>\n",
       "    </tr>\n",
       "  </tbody>\n",
       "</table>"
      ],
      "text/plain": [
       "Layer(name='tagged_tokens', attributes=('value', '_priority_'), spans=SL[Span('tunnevad', [{'value': 'T', '_priority_': 1}]),\n",
       "Span('inimesed', [{'value': 'K', '_priority_': 2}, {'value': 'I', '_priority_': 3}]),\n",
       "Span('päikesest', [{'value': 'P', '_priority_': 2}])])"
      ]
     },
     "execution_count": 6,
     "metadata": {},
     "output_type": "execute_result"
    }
   ],
   "source": [
    "tagger.tag(text)\n",
    "text.tagged_tokens"
   ]
  },
  {
   "cell_type": "markdown",
   "metadata": {},
   "source": [
    "`vocabulary` parameter can be a list of records."
   ]
  },
  {
   "cell_type": "code",
   "execution_count": 7,
   "metadata": {},
   "outputs": [
    {
     "data": {
      "text/html": [
       "<h4>Layer</h4>\n",
       "\n",
       "\n",
       "<table border=\"1\" class=\"dataframe\">\n",
       "  <thead>\n",
       "    <tr style=\"text-align: right;\">\n",
       "      <th>layer name</th>\n",
       "      <th>attributes</th>\n",
       "      <th>parent</th>\n",
       "      <th>enveloping</th>\n",
       "      <th>ambiguous</th>\n",
       "      <th>span count</th>\n",
       "    </tr>\n",
       "  </thead>\n",
       "  <tbody>\n",
       "    <tr>\n",
       "      <td>size</td>\n",
       "      <td></td>\n",
       "      <td>words</td>\n",
       "      <td>None</td>\n",
       "      <td>True</td>\n",
       "      <td>1</td>\n",
       "    </tr>\n",
       "  </tbody>\n",
       "</table>\n",
       "<table border=\"1\" class=\"dataframe\">\n",
       "  <thead>\n",
       "    <tr style=\"text-align: right;\">\n",
       "      <th>text</th>\n",
       "    </tr>\n",
       "  </thead>\n",
       "  <tbody>\n",
       "    <tr>\n",
       "      <td>väike</td>\n",
       "    </tr>\n",
       "  </tbody>\n",
       "</table>"
      ],
      "text/plain": [
       "Layer(name='size', attributes=(), spans=SL[Span('väike', [{}])])"
      ]
     },
     "execution_count": 7,
     "metadata": {},
     "output_type": "execute_result"
    }
   ],
   "source": [
    "text = Text('Suur ja väike.').tag_layer(['words'])\n",
    "comma_tagger = SpanTagger(input_layer='words',\n",
    "                          output_layer='size',\n",
    "                          ambiguous=True,\n",
    "                          input_attribute='text',\n",
    "                          output_attributes=[],\n",
    "                          key='_token_',\n",
    "                          vocabulary=[{'_token_': 'SUUR'}, {'_token_': 'väike'}])\n",
    "comma_tagger.tag(text)\n",
    "text.size"
   ]
  },
  {
   "cell_type": "markdown",
   "metadata": {},
   "source": [
    "The next example is case insensitive."
   ]
  },
  {
   "cell_type": "code",
   "execution_count": 8,
   "metadata": {},
   "outputs": [
    {
     "data": {
      "text/html": [
       "<h4>Layer</h4>\n",
       "\n",
       "\n",
       "<table border=\"1\" class=\"dataframe\">\n",
       "  <thead>\n",
       "    <tr style=\"text-align: right;\">\n",
       "      <th>layer name</th>\n",
       "      <th>attributes</th>\n",
       "      <th>parent</th>\n",
       "      <th>enveloping</th>\n",
       "      <th>ambiguous</th>\n",
       "      <th>span count</th>\n",
       "    </tr>\n",
       "  </thead>\n",
       "  <tbody>\n",
       "    <tr>\n",
       "      <td>size</td>\n",
       "      <td></td>\n",
       "      <td>words</td>\n",
       "      <td>None</td>\n",
       "      <td>True</td>\n",
       "      <td>2</td>\n",
       "    </tr>\n",
       "  </tbody>\n",
       "</table>\n",
       "<table border=\"1\" class=\"dataframe\">\n",
       "  <thead>\n",
       "    <tr style=\"text-align: right;\">\n",
       "      <th>text</th>\n",
       "    </tr>\n",
       "  </thead>\n",
       "  <tbody>\n",
       "    <tr>\n",
       "      <td>Suur</td>\n",
       "    </tr>\n",
       "    <tr>\n",
       "      <td>väike</td>\n",
       "    </tr>\n",
       "  </tbody>\n",
       "</table>"
      ],
      "text/plain": [
       "Layer(name='size', attributes=(), spans=SL[Span('Suur', [{}]),\n",
       "Span('väike', [{}])])"
      ]
     },
     "execution_count": 8,
     "metadata": {},
     "output_type": "execute_result"
    }
   ],
   "source": [
    "text = Text('Suur ja väike.').tag_layer(['words'])\n",
    "comma_tagger = SpanTagger(input_layer='words',\n",
    "                          output_layer='size',\n",
    "                          ambiguous=True,\n",
    "                          input_attribute='text',\n",
    "                          output_attributes=[],\n",
    "                          key='_token_',\n",
    "                          vocabulary=[{'_token_': 'SUUR'}, {'_token_': 'väike'}],\n",
    "                          case_sensitive=False\n",
    "                         )\n",
    "comma_tagger.tag(text)\n",
    "text.size"
   ]
  }
 ],
 "metadata": {
  "anaconda-cloud": {},
  "kernelspec": {
   "display_name": "Python 3",
   "language": "python",
   "name": "python3"
  },
  "language_info": {
   "codemirror_mode": {
    "name": "ipython",
    "version": 3
   },
   "file_extension": ".py",
   "mimetype": "text/x-python",
   "name": "python",
   "nbconvert_exporter": "python",
   "pygments_lexer": "ipython3",
   "version": "3.8.8"
  }
 },
 "nbformat": 4,
 "nbformat_minor": 2
}
