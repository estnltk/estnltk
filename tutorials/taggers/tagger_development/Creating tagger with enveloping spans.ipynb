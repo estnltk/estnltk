{
 "cells": [
  {
   "cell_type": "markdown",
   "id": "0433f8ef",
   "metadata": {},
   "source": [
    "# Creating a tagger with eveloping spans"
   ]
  },
  {
   "cell_type": "markdown",
   "id": "0b9203cd",
   "metadata": {},
   "source": [
    "### Defining tagger properties"
   ]
  },
  {
   "cell_type": "markdown",
   "id": "d188a9d3",
   "metadata": {},
   "source": [
    "When using eveloping spans, the layer doesn't need the parameter 'parent' since the spans wrap around the spans of the enveloped layer. Instead, the parameter 'enveloping' need to be defined in the 'make_layer_template()' function. The 'enveloping' parameter defines which layer's spans will be used for enveloping."
   ]
  },
  {
   "cell_type": "markdown",
   "id": "2647742a",
   "metadata": {},
   "source": [
    "An example of make_layer_template function."
   ]
  },
  {
   "cell_type": "markdown",
   "id": "3cf8c8c9",
   "metadata": {},
   "source": [
    "    def _make_layer_template(self):\n",
    "            layer = Layer(name=self.output_layer,\n",
    "                          text_object=None,\n",
    "                          attributes=self.output_attributes,\n",
    "                          enveloping=self.input_layers[1],\n",
    "                          ambiguous=False )\n",
    "            return layer"
   ]
  },
  {
   "cell_type": "markdown",
   "id": "86d9acb3",
   "metadata": {},
   "source": [
    "### Creating enveloping spans in tagger"
   ]
  },
  {
   "cell_type": "markdown",
   "id": "95c9f9fc",
   "metadata": {},
   "source": [
    "It's important that to remember that the input for enveloping spans are the **base spans** of the enveloped spans. So the input can be either one base span or a list of base spans."
   ]
  },
  {
   "cell_type": "markdown",
   "id": "8d095bd1",
   "metadata": {},
   "source": [
    "Example of a small entity tagger that creates enveloping spans from morph_analysis layer. This tagger will always create an enveloping span of first three words in the sentence and the second span from the last three words."
   ]
  },
  {
   "cell_type": "code",
   "execution_count": 1,
   "id": "6922eec0",
   "metadata": {},
   "outputs": [
    {
     "data": {
      "text/html": [
       "<h4>Tagger</h4>\n",
       "Minimal entity tagger example.\n",
       "<table border=\"1\" class=\"dataframe\">\n",
       "  <thead>\n",
       "    <tr style=\"text-align: right;\">\n",
       "      <th>name</th>\n",
       "      <th>output layer</th>\n",
       "      <th>output attributes</th>\n",
       "      <th>input layers</th>\n",
       "    </tr>\n",
       "  </thead>\n",
       "  <tbody>\n",
       "    <tr>\n",
       "      <td>MinimalEntityTagger</td>\n",
       "      <td>entity</td>\n",
       "      <td>()</td>\n",
       "      <td>()</td>\n",
       "    </tr>\n",
       "  </tbody>\n",
       "</table>\n",
       "<h4>Configuration</h4>\n",
       "<table border=\"1\" class=\"dataframe\">\n",
       "  <tbody>\n",
       "    <tr>\n",
       "      <th>input_morph_layer</th>\n",
       "      <td>morph_analysis</td>\n",
       "    </tr>\n",
       "    <tr>\n",
       "      <th>stanza_layer</th>\n",
       "      <td>stanza_syntax</td>\n",
       "    </tr>\n",
       "  </tbody>\n",
       "</table>"
      ],
      "text/plain": [
       "MinimalEntityTagger(input_layers=(), output_layer=entity, output_attributes=(), input_morph_layer=morph_analysis, stanza_layer=stanza_syntax)"
      ]
     },
     "execution_count": 1,
     "metadata": {},
     "output_type": "execute_result"
    }
   ],
   "source": [
    "from estnltk import EnvelopingBaseSpan, Layer, Text\n",
    "from estnltk.taggers import Tagger\n",
    "\n",
    "class MinimalEntityTagger(Tagger):\n",
    "    \"\"\" Minimal entity tagger example.\"\"\"\n",
    "    conf_param = ['input_morph_layer', 'stanza_layer']\n",
    "    output_layer = 'entity'\n",
    "    output_attributes = ()\n",
    "    input_layers = ()\n",
    "    \n",
    "    def __init__(self,\n",
    "                input_morph_layer=\"morph_analysis\",\n",
    "                stanza_layer = \"stanza_syntax\",\n",
    "                sentences_layer='sentences',\n",
    "                words_layer='words',\n",
    "                ):\n",
    "        import stanza\n",
    "        self.input_morph_layer=input_morph_layer\n",
    "        self.stanza_layer=stanza_layer\n",
    "        \n",
    "\n",
    "    def _make_layer_template(self):\n",
    "        return Layer(name=self.output_layer, text_object=None, enveloping=\"morph_analysis\")\n",
    "    \n",
    "    def _make_layer(self, text, layers, status=None):\n",
    "        layer = self._make_layer_template()\n",
    "        layer.text_object = text\n",
    "        \n",
    "        # create the list of base spans\n",
    "        base_spans = []\n",
    "        for span in layers[self.stanza_layer]:\n",
    "            base_spans.append(span.base_span)\n",
    "            \n",
    "        # create a new enveloping span with the first three words\n",
    "        # when using ˇbase_spans' as input, EnvelopingBaseSpan is used\n",
    "        new_span1 = EnvelopingBaseSpan(base_spans[:3]) \n",
    "        new_span2 = EnvelopingBaseSpan(base_spans[len(base_spans)-3:]) \n",
    "        \n",
    "        # add the span to the layer\n",
    "        layer.add_annotation(new_span1)\n",
    "        layer.add_annotation(new_span2)\n",
    "        \n",
    "        \n",
    "        return layer\n",
    "\n",
    "minimal_tagger = MinimalEntityTagger()\n",
    "minimal_tagger"
   ]
  },
  {
   "cell_type": "markdown",
   "id": "e2dd783f",
   "metadata": {},
   "source": [
    "Create the stanza_syntax layer for the example."
   ]
  },
  {
   "cell_type": "code",
   "execution_count": 2,
   "id": "c2654c9c",
   "metadata": {},
   "outputs": [],
   "source": [
    "from estnltk_neural.taggers.syntax.stanza_tagger.stanza_tagger import StanzaSyntaxTagger\n",
    "\n",
    "model_path = r\"...\\estnltk\\taggers\\syntax\\stanza_tagger\\stanza_resources\"\n",
    "input_type=\"morph_extended\"\n",
    "stanza_tagger = StanzaSyntaxTagger(input_type=input_type, input_morph_layer=input_type, \n",
    "                                   add_parent_and_children=True, resources_path=model_path)"
   ]
  },
  {
   "cell_type": "code",
   "execution_count": 3,
   "id": "2cfbda1c",
   "metadata": {},
   "outputs": [
    {
     "data": {
      "text/html": [
       "<table border=\"1\" class=\"dataframe\">\n",
       "  <thead>\n",
       "    <tr style=\"text-align: right;\">\n",
       "      <th>text</th>\n",
       "    </tr>\n",
       "  </thead>\n",
       "  <tbody>\n",
       "    <tr>\n",
       "      <td><div align = \"left\">Võtete ajal õppis Eminem lugu pidama näitlejatest , kes suhtuvad oma töösse sama tõsiselt kui tema muusikasse .</div></td>\n",
       "    </tr>\n",
       "  </tbody>\n",
       "</table>\n",
       "<table border=\"1\" class=\"dataframe\">\n",
       "  <thead>\n",
       "    <tr style=\"text-align: right;\">\n",
       "      <th>layer name</th>\n",
       "      <th>attributes</th>\n",
       "      <th>parent</th>\n",
       "      <th>enveloping</th>\n",
       "      <th>ambiguous</th>\n",
       "      <th>span count</th>\n",
       "    </tr>\n",
       "  </thead>\n",
       "  <tbody>\n",
       "    <tr>\n",
       "      <td>sentences</td>\n",
       "      <td></td>\n",
       "      <td>None</td>\n",
       "      <td>words</td>\n",
       "      <td>False</td>\n",
       "      <td>1</td>\n",
       "    </tr>\n",
       "    <tr>\n",
       "      <td>tokens</td>\n",
       "      <td></td>\n",
       "      <td>None</td>\n",
       "      <td>None</td>\n",
       "      <td>False</td>\n",
       "      <td>18</td>\n",
       "    </tr>\n",
       "    <tr>\n",
       "      <td>compound_tokens</td>\n",
       "      <td>type, normalized</td>\n",
       "      <td>None</td>\n",
       "      <td>tokens</td>\n",
       "      <td>False</td>\n",
       "      <td>0</td>\n",
       "    </tr>\n",
       "    <tr>\n",
       "      <td>words</td>\n",
       "      <td>normalized_form</td>\n",
       "      <td>None</td>\n",
       "      <td>None</td>\n",
       "      <td>True</td>\n",
       "      <td>18</td>\n",
       "    </tr>\n",
       "    <tr>\n",
       "      <td>morph_analysis</td>\n",
       "      <td>normalized_text, lemma, root, root_tokens, ending, clitic, form, partofspeech</td>\n",
       "      <td>words</td>\n",
       "      <td>None</td>\n",
       "      <td>True</td>\n",
       "      <td>18</td>\n",
       "    </tr>\n",
       "    <tr>\n",
       "      <td>morph_extended</td>\n",
       "      <td>normalized_text, lemma, root, root_tokens, ending, clitic, form, partofspeech, punctuation_type, pronoun_type, letter_case, fin, verb_extension_suffix, subcat</td>\n",
       "      <td>morph_analysis</td>\n",
       "      <td>None</td>\n",
       "      <td>True</td>\n",
       "      <td>18</td>\n",
       "    </tr>\n",
       "    <tr>\n",
       "      <td>stanza_syntax</td>\n",
       "      <td>id, lemma, upostag, xpostag, feats, head, deprel, deps, misc, parent_span, children</td>\n",
       "      <td>morph_extended</td>\n",
       "      <td>None</td>\n",
       "      <td>False</td>\n",
       "      <td>18</td>\n",
       "    </tr>\n",
       "  </tbody>\n",
       "</table>"
      ],
      "text/plain": [
       "Text(text='Võtete ajal õppis Eminem lugu pidama näitlejatest , kes suhtuvad oma töösse sama tõsiselt kui tema muusikasse .')"
      ]
     },
     "execution_count": 3,
     "metadata": {},
     "output_type": "execute_result"
    }
   ],
   "source": [
    "txt = Text(\"Võtete ajal õppis Eminem lugu pidama näitlejatest , kes suhtuvad oma töösse sama tõsiselt kui tema muusikasse .\")\n",
    "txt.tag_layer('morph_extended')\n",
    "stanza_tagger.tag( txt ) "
   ]
  },
  {
   "cell_type": "markdown",
   "id": "c0b1ac9c",
   "metadata": {},
   "source": [
    "Tag with minimal entity tagger"
   ]
  },
  {
   "cell_type": "code",
   "execution_count": 4,
   "id": "464f24a3",
   "metadata": {},
   "outputs": [
    {
     "data": {
      "text/html": [
       "<h4>Layer</h4>\n",
       "\n",
       "\n",
       "<table border=\"1\" class=\"dataframe\">\n",
       "  <thead>\n",
       "    <tr style=\"text-align: right;\">\n",
       "      <th>layer name</th>\n",
       "      <th>attributes</th>\n",
       "      <th>parent</th>\n",
       "      <th>enveloping</th>\n",
       "      <th>ambiguous</th>\n",
       "      <th>span count</th>\n",
       "    </tr>\n",
       "  </thead>\n",
       "  <tbody>\n",
       "    <tr>\n",
       "      <td>entity</td>\n",
       "      <td></td>\n",
       "      <td>None</td>\n",
       "      <td>morph_analysis</td>\n",
       "      <td>False</td>\n",
       "      <td>2</td>\n",
       "    </tr>\n",
       "  </tbody>\n",
       "</table>\n",
       "<table border=\"1\" class=\"dataframe\">\n",
       "  <thead>\n",
       "    <tr style=\"text-align: right;\">\n",
       "      <th>text</th>\n",
       "    </tr>\n",
       "  </thead>\n",
       "  <tbody>\n",
       "    <tr>\n",
       "      <td>['Võtete', 'ajal', 'õppis']</td>\n",
       "    </tr>\n",
       "    <tr>\n",
       "      <td>['tema', 'muusikasse', '.']</td>\n",
       "    </tr>\n",
       "  </tbody>\n",
       "</table>"
      ],
      "text/plain": [
       "Layer(name='entity', attributes=(), spans=SL[EnvelopingSpan(['Võtete', 'ajal', 'õppis'], [{}]),\n",
       "EnvelopingSpan(['tema', 'muusikasse', '.'], [{}])])"
      ]
     },
     "execution_count": 4,
     "metadata": {},
     "output_type": "execute_result"
    }
   ],
   "source": [
    "minimal_tagger.tag( txt )\n",
    "txt.entity"
   ]
  },
  {
   "cell_type": "markdown",
   "id": "0101ec17",
   "metadata": {},
   "source": [
    "Additional attributes can be given to the span by defining the attributes in \\_\\_init\\_\\_() \n",
    "\n",
    "and adding them to the layer with the span layer.add_annotation(new_span, **output_attributes)."
   ]
  }
 ],
 "metadata": {
  "kernelspec": {
   "display_name": "Python 3 (ipykernel)",
   "language": "python",
   "name": "python3"
  },
  "language_info": {
   "codemirror_mode": {
    "name": "ipython",
    "version": 3
   },
   "file_extension": ".py",
   "mimetype": "text/x-python",
   "name": "python",
   "nbconvert_exporter": "python",
   "pygments_lexer": "ipython3",
   "version": "3.8.3"
  }
 },
 "nbformat": 4,
 "nbformat_minor": 5
}
