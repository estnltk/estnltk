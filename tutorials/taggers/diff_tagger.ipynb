{
 "cells": [
  {
   "cell_type": "markdown",
   "metadata": {},
   "source": [
    "# DiffTagger\n",
    "The output layer of the `DiffTagger` consists of differences in input layers."
   ]
  },
  {
   "cell_type": "code",
   "execution_count": 1,
   "metadata": {},
   "outputs": [
    {
     "data": {
      "text/html": [
       "<h4>Tagger</h4>\n",
       "Finds differences of input layers.\n",
       "<table border=\"1\" class=\"dataframe\">\n",
       "  <thead>\n",
       "    <tr style=\"text-align: right;\">\n",
       "      <th>name</th>\n",
       "      <th>output layer</th>\n",
       "      <th>output attributes</th>\n",
       "      <th>input layers</th>\n",
       "    </tr>\n",
       "  </thead>\n",
       "  <tbody>\n",
       "    <tr>\n",
       "      <td>DiffTagger</td>\n",
       "      <td>diff_layer</td>\n",
       "      <td>('input_layer_name', 'span_status', 'attr', 'attr_5')</td>\n",
       "      <td>('layer_a', 'layer_b')</td>\n",
       "    </tr>\n",
       "  </tbody>\n",
       "</table>\n",
       "<h4>Configuration</h4>\n",
       "<table border=\"1\" class=\"dataframe\">\n",
       "  <tbody>\n",
       "    <tr>\n",
       "      <th>input_layer_attribute</th>\n",
       "      <td>input_layer_name</td>\n",
       "    </tr>\n",
       "    <tr>\n",
       "      <th>span_status_attribute</th>\n",
       "      <td>span_status</td>\n",
       "    </tr>\n",
       "    <tr>\n",
       "      <th>compare_function</th>\n",
       "      <td>&lt;function _operator.eq&gt;</td>\n",
       "    </tr>\n",
       "  </tbody>\n",
       "</table>"
      ],
      "text/plain": [
       "DiffTagger(input_layers=('layer_a', 'layer_b'), output_layer=diff_layer, output_attributes=('input_layer_name', 'span_status', 'attr', 'attr_5'), input_layer_attribute=input_layer_name, span_status_attribute=span_status, compare_function=<function _operator.eq>)"
      ]
     },
     "execution_count": 1,
     "metadata": {},
     "output_type": "execute_result"
    }
   ],
   "source": [
    "from estnltk import Layer, Text\n",
    "from estnltk.taggers import DiffTagger\n",
    "\n",
    "Layer.print_start_end = True\n",
    "\n",
    "diff_tagger = DiffTagger(layer_a='layer_a',\n",
    "                         layer_b='layer_b',\n",
    "                         output_layer='diff_layer',\n",
    "                         output_attributes=('span_status', 'attr', 'attr_5'),\n",
    "                         span_status_attribute='span_status')\n",
    "diff_tagger"
   ]
  },
  {
   "cell_type": "markdown",
   "metadata": {},
   "source": [
    "Create ambiguous envelopoing demo layer `layer_a`."
   ]
  },
  {
   "cell_type": "code",
   "execution_count": 2,
   "metadata": {},
   "outputs": [
    {
     "data": {
      "text/html": [
       "<h4>Layer</h4>\n",
       "\n",
       "\n",
       "<table border=\"1\" class=\"dataframe\">\n",
       "  <thead>\n",
       "    <tr style=\"text-align: right;\">\n",
       "      <th>layer name</th>\n",
       "      <th>attributes</th>\n",
       "      <th>parent</th>\n",
       "      <th>enveloping</th>\n",
       "      <th>ambiguous</th>\n",
       "      <th>span count</th>\n",
       "    </tr>\n",
       "  </thead>\n",
       "  <tbody>\n",
       "    <tr>\n",
       "      <td>layer_a</td>\n",
       "      <td>attr, attr_5</td>\n",
       "      <td>None</td>\n",
       "      <td>layer_1</td>\n",
       "      <td>True</td>\n",
       "      <td>7</td>\n",
       "    </tr>\n",
       "  </tbody>\n",
       "</table>\n",
       "<table border=\"1\" class=\"dataframe\">\n",
       "  <thead>\n",
       "    <tr style=\"text-align: right;\">\n",
       "      <th>text</th>\n",
       "      <th>start</th>\n",
       "      <th>end</th>\n",
       "      <th>attr</th>\n",
       "      <th>attr_5</th>\n",
       "    </tr>\n",
       "  </thead>\n",
       "  <tbody>\n",
       "    <tr>\n",
       "      <td>['Sada', 'kaks']</td>\n",
       "      <td>0</td>\n",
       "      <td>9</td>\n",
       "      <td>L5-0-0</td>\n",
       "      <td>SADA KAKS</td>\n",
       "    </tr>\n",
       "    <tr>\n",
       "      <td>['Sada', 'kakskümmend', 'kolm']</td>\n",
       "      <td>0</td>\n",
       "      <td>21</td>\n",
       "      <td>L5-2-4</td>\n",
       "      <td>SADA KAKSKÜMMEND KOLM</td>\n",
       "    </tr>\n",
       "    <tr>\n",
       "      <td>['Neli', 'tuhat']</td>\n",
       "      <td>23</td>\n",
       "      <td>33</td>\n",
       "      <td>L5-3-5</td>\n",
       "      <td>NELI TUHAT</td>\n",
       "    </tr>\n",
       "    <tr>\n",
       "      <td>['viis']</td>\n",
       "      <td>34</td>\n",
       "      <td>38</td>\n",
       "      <td>L5-5-7</td>\n",
       "      <td>VIIS</td>\n",
       "    </tr>\n",
       "    <tr>\n",
       "      <td>['viissada', 'kuuskümmend']</td>\n",
       "      <td>34</td>\n",
       "      <td>54</td>\n",
       "      <td>L5-6-8</td>\n",
       "      <td>VIISSADA KUUS</td>\n",
       "    </tr>\n",
       "    <tr>\n",
       "      <td></td>\n",
       "      <td>34</td>\n",
       "      <td>54</td>\n",
       "      <td>L5-6-9</td>\n",
       "      <td>VIISSADA KÜMME</td>\n",
       "    </tr>\n",
       "    <tr>\n",
       "      <td></td>\n",
       "      <td>34</td>\n",
       "      <td>54</td>\n",
       "      <td>L5-6-10</td>\n",
       "      <td>VIISSADA KUUSKÜMMEND</td>\n",
       "    </tr>\n",
       "    <tr>\n",
       "      <td>['kümme', 'koma', 'kaheksa']</td>\n",
       "      <td>47</td>\n",
       "      <td>74</td>\n",
       "      <td>L5-7-11</td>\n",
       "      <td>KÜMME KOMA KAHEKSA</td>\n",
       "    </tr>\n",
       "    <tr>\n",
       "      <td>['seitse', 'koma', 'kaheksa']</td>\n",
       "      <td>55</td>\n",
       "      <td>74</td>\n",
       "      <td>L5-8-12</td>\n",
       "      <td>seitse koma kaheksa</td>\n",
       "    </tr>\n",
       "  </tbody>\n",
       "</table>"
      ],
      "text/plain": [
       "Layer(name='layer_a', attributes=('attr', 'attr_5'), spans=SL[EnvelopingSpan(['Sada', 'kaks'], [{'attr': 'L5-0-0', 'attr_5': 'SADA KAKS'}]),\n",
       "EnvelopingSpan(['Sada', 'kakskümmend', 'kolm'], [{'attr': 'L5-2-4', 'attr_5': 'SADA KAKSKÜMMEND KOLM'}]),\n",
       "EnvelopingSpan(['Neli', 'tuhat'], [{'attr': 'L5-3-5', 'attr_5': 'NELI TUHAT'}]),\n",
       "EnvelopingSpan(['viis'], [{'attr': 'L5-5-7', 'attr_5': 'VIIS'}]),\n",
       "EnvelopingSpan(['viissada', 'kuuskümmend'], [{'attr': 'L5-6-8', 'attr_5': 'VIISSADA KUUS'}, {'attr': 'L5-6-9', 'attr_5': 'VIISSADA KÜMME'}, {'attr': 'L5-6-10', 'attr_5': 'VIISSADA KUUSKÜMMEND'}]),\n",
       "EnvelopingSpan(['kümme', 'koma', 'kaheksa'], [{'attr': 'L5-7-11', 'attr_5': 'KÜMME KOMA KAHEKSA'}]),\n",
       "EnvelopingSpan(['seitse', 'koma', 'kaheksa'], [{'attr': 'L5-8-12', 'attr_5': 'seitse koma kaheksa'}])])"
      ]
     },
     "execution_count": 2,
     "metadata": {},
     "output_type": "execute_result"
    }
   ],
   "source": [
    "text = Text('Sada kakskümmend kolm. Neli tuhat viissada kuuskümmend seitse koma kaheksa. Üheksakümmend tuhat.')\n",
    "\n",
    "layer_1 = Layer('layer_1', attributes=['attr', 'attr_1'], text_object=text, ambiguous=True)\n",
    "layer_1.add_annotation(( 0,  4),  attr='L1-0',  attr_1='SADA')\n",
    "layer_1.add_annotation(( 5,  9),  attr='L1-1',  attr_1='KAKS')\n",
    "layer_1.add_annotation(( 5, 16),  attr='L1-2',  attr_1='KAKS')\n",
    "layer_1.add_annotation(( 5, 16),  attr='L1-2',  attr_1='KÜMME')\n",
    "layer_1.add_annotation(( 5, 16),  attr='L1-2',  attr_1='KAKSKÜMMEND')\n",
    "layer_1.add_annotation(( 9, 14),  attr='L1-3',  attr_1='KÜMME')\n",
    "layer_1.add_annotation((17, 21),  attr='L1-4',  attr_1='KOLM')\n",
    "layer_1.add_annotation((23, 27),  attr='L1-5',  attr_1='NELI')\n",
    "layer_1.add_annotation((28, 33),  attr='L1-6',  attr_1='TUHAT')\n",
    "layer_1.add_annotation((34, 38),  attr='L1-7',  attr_1='VIIS')\n",
    "layer_1.add_annotation((34, 42),  attr='L1-8',  attr_1='SADA')\n",
    "layer_1.add_annotation((34, 42),  attr='L1-8',  attr_1='VIIS')\n",
    "layer_1.add_annotation((34, 42),  attr='L1-8',  attr_1='VIISSADA')\n",
    "layer_1.add_annotation((38, 42),  attr='L1-9',  attr_1='SADA')\n",
    "layer_1.add_annotation((43, 47),  attr='L1-10', attr_1='KUUS')\n",
    "layer_1.add_annotation((43, 54),  attr='L1-11', attr_1='KUUS')\n",
    "layer_1.add_annotation((43, 54),  attr='L1-11', attr_1='KÜMME')\n",
    "layer_1.add_annotation((43, 54),  attr='L1-11', attr_1='KUUSKÜMMEND')\n",
    "layer_1.add_annotation((47, 52),  attr='L1-12', attr_1='KÜMME')\n",
    "layer_1.add_annotation((55, 61),  attr='L1-13', attr_1='SEITSE')\n",
    "layer_1.add_annotation((62, 66),  attr='L1-14', attr_1='KOMA')\n",
    "layer_1.add_annotation((67, 74),  attr='L1-15', attr_1='KAHEKSA')\n",
    "layer_1.add_annotation((76, 82),  attr='L1-16', attr_1='ÜHEKSA')\n",
    "layer_1.add_annotation((76, 89),  attr='L1-17', attr_1='ÜHEKSA')\n",
    "layer_1.add_annotation((76, 89),  attr='L1-17', attr_1='KÜMME')\n",
    "layer_1.add_annotation((76, 89),  attr='L1-17', attr_1='ÜHEKSAKÜMMEND')\n",
    "layer_1.add_annotation((82, 87),  attr='L1-18', attr_1='KÜMME')\n",
    "\n",
    "layer_a = Layer('layer_a', attributes=['attr', 'attr_5'], text_object=text, ambiguous=True, enveloping='layer_1')\n",
    "layer_a.add_annotation([layer_1[0], layer_1[1]],                attr='L5-0-0',  attr_5='SADA KAKS')\n",
    "layer_a.add_annotation([layer_1[0], layer_1[2], layer_1[4]],    attr='L5-2-4',  attr_5='SADA KAKSKÜMMEND KOLM')\n",
    "layer_a.add_annotation([layer_1[5], layer_1[6]],                attr='L5-3-5',  attr_5='NELI TUHAT')\n",
    "layer_a.add_annotation([layer_1[7]],                            attr='L5-5-7',  attr_5='VIIS')\n",
    "layer_a.add_annotation([layer_1[8], layer_1[11]],               attr='L5-6-8',  attr_5='VIISSADA KUUS')\n",
    "layer_a.add_annotation([layer_1[8], layer_1[11]],               attr='L5-6-9',  attr_5='VIISSADA KÜMME')\n",
    "layer_a.add_annotation([layer_1[8], layer_1[11]],               attr='L5-6-10', attr_5='VIISSADA KUUSKÜMMEND')\n",
    "layer_a.add_annotation([layer_1[12], layer_1[14], layer_1[15]], attr='L5-7-11', attr_5='KÜMME KOMA KAHEKSA')\n",
    "layer_a.add_annotation([layer_1[13], layer_1[14], layer_1[15]], attr='L5-8-12', attr_5='seitse koma kaheksa')\n",
    "\n",
    "layer_a"
   ]
  },
  {
   "cell_type": "markdown",
   "metadata": {},
   "source": [
    "Create ambiguous envelopoing demo layer `layer_b`."
   ]
  },
  {
   "cell_type": "code",
   "execution_count": 3,
   "metadata": {},
   "outputs": [
    {
     "data": {
      "text/html": [
       "<h4>Layer</h4>\n",
       "\n",
       "\n",
       "<table border=\"1\" class=\"dataframe\">\n",
       "  <thead>\n",
       "    <tr style=\"text-align: right;\">\n",
       "      <th>layer name</th>\n",
       "      <th>attributes</th>\n",
       "      <th>parent</th>\n",
       "      <th>enveloping</th>\n",
       "      <th>ambiguous</th>\n",
       "      <th>span count</th>\n",
       "    </tr>\n",
       "  </thead>\n",
       "  <tbody>\n",
       "    <tr>\n",
       "      <td>layer_b</td>\n",
       "      <td>attr, attr_5</td>\n",
       "      <td>None</td>\n",
       "      <td>layer_1</td>\n",
       "      <td>True</td>\n",
       "      <td>5</td>\n",
       "    </tr>\n",
       "  </tbody>\n",
       "</table>\n",
       "<table border=\"1\" class=\"dataframe\">\n",
       "  <thead>\n",
       "    <tr style=\"text-align: right;\">\n",
       "      <th>text</th>\n",
       "      <th>start</th>\n",
       "      <th>end</th>\n",
       "      <th>attr</th>\n",
       "      <th>attr_5</th>\n",
       "    </tr>\n",
       "  </thead>\n",
       "  <tbody>\n",
       "    <tr>\n",
       "      <td>['Sada', 'kakskümmend']</td>\n",
       "      <td>0</td>\n",
       "      <td>16</td>\n",
       "      <td>L5-1-1</td>\n",
       "      <td>SADA KAKS</td>\n",
       "    </tr>\n",
       "    <tr>\n",
       "      <td></td>\n",
       "      <td>0</td>\n",
       "      <td>16</td>\n",
       "      <td>L5-1-2</td>\n",
       "      <td>SADA KÜMME</td>\n",
       "    </tr>\n",
       "    <tr>\n",
       "      <td></td>\n",
       "      <td>0</td>\n",
       "      <td>16</td>\n",
       "      <td>L5-1-3</td>\n",
       "      <td>SADA KAKSKÜMMEND</td>\n",
       "    </tr>\n",
       "    <tr>\n",
       "      <td>['tuhat', 'viis']</td>\n",
       "      <td>28</td>\n",
       "      <td>38</td>\n",
       "      <td>L5-4-6</td>\n",
       "      <td>TUHAT VIIS</td>\n",
       "    </tr>\n",
       "    <tr>\n",
       "      <td>['viissada', 'kuuskümmend']</td>\n",
       "      <td>34</td>\n",
       "      <td>54</td>\n",
       "      <td>L5-6-10</td>\n",
       "      <td>VIISSADA KUUSKÜMMEND</td>\n",
       "    </tr>\n",
       "    <tr>\n",
       "      <td>['kümme', 'koma', 'kaheksa']</td>\n",
       "      <td>47</td>\n",
       "      <td>74</td>\n",
       "      <td>L5-7-11</td>\n",
       "      <td>KÜMME KOMA KAHEKSA</td>\n",
       "    </tr>\n",
       "    <tr>\n",
       "      <td>['seitse', 'koma', 'kaheksa']</td>\n",
       "      <td>55</td>\n",
       "      <td>74</td>\n",
       "      <td>L5-8-12</td>\n",
       "      <td>SEITSE KOMA KAHEKSA</td>\n",
       "    </tr>\n",
       "  </tbody>\n",
       "</table>"
      ],
      "text/plain": [
       "Layer(name='layer_b', attributes=('attr', 'attr_5'), spans=SL[EnvelopingSpan(['Sada', 'kakskümmend'], [{'attr': 'L5-1-1', 'attr_5': 'SADA KAKS'}, {'attr': 'L5-1-2', 'attr_5': 'SADA KÜMME'}, {'attr': 'L5-1-3', 'attr_5': 'SADA KAKSKÜMMEND'}]),\n",
       "EnvelopingSpan(['tuhat', 'viis'], [{'attr': 'L5-4-6', 'attr_5': 'TUHAT VIIS'}]),\n",
       "EnvelopingSpan(['viissada', 'kuuskümmend'], [{'attr': 'L5-6-10', 'attr_5': 'VIISSADA KUUSKÜMMEND'}]),\n",
       "EnvelopingSpan(['kümme', 'koma', 'kaheksa'], [{'attr': 'L5-7-11', 'attr_5': 'KÜMME KOMA KAHEKSA'}]),\n",
       "EnvelopingSpan(['seitse', 'koma', 'kaheksa'], [{'attr': 'L5-8-12', 'attr_5': 'SEITSE KOMA KAHEKSA'}])])"
      ]
     },
     "execution_count": 3,
     "metadata": {},
     "output_type": "execute_result"
    }
   ],
   "source": [
    "layer_b = Layer('layer_b', attributes=['attr', 'attr_5'], text_object=text, ambiguous=True, enveloping='layer_1')\n",
    "\n",
    "layer_b.add_annotation([layer_1[0], layer_1[2]],                attr='L5-1-1',  attr_5='SADA KAKS')\n",
    "layer_b.add_annotation([layer_1[0], layer_1[2]],                attr='L5-1-2',  attr_5='SADA KÜMME')\n",
    "layer_b.add_annotation([layer_1[0], layer_1[2]],                attr='L5-1-3',  attr_5='SADA KAKSKÜMMEND')\n",
    "layer_b.add_annotation([layer_1[6], layer_1[7]],                attr='L5-4-6',  attr_5='TUHAT VIIS')\n",
    "layer_b.add_annotation([layer_1[8], layer_1[11]],               attr='L5-6-10', attr_5='VIISSADA KUUSKÜMMEND')\n",
    "layer_b.add_annotation([layer_1[12], layer_1[14], layer_1[15]], attr='L5-7-11', attr_5='KÜMME KOMA KAHEKSA')\n",
    "layer_b.add_annotation([layer_1[13], layer_1[14], layer_1[15]], attr='L5-8-12', attr_5='SEITSE KOMA KAHEKSA')\n",
    "\n",
    "layer_b"
   ]
  },
  {
   "cell_type": "markdown",
   "metadata": {},
   "source": [
    "Create and show layer of differences."
   ]
  },
  {
   "cell_type": "code",
   "execution_count": 4,
   "metadata": {},
   "outputs": [
    {
     "data": {
      "text/html": [
       "<h4>Layer</h4>\n",
       "<h4>Metadata</h4>\n",
       "<table border=\"1\" class=\"dataframe\">\n",
       "  <tbody>\n",
       "    <tr>\n",
       "      <td>conflicts</td>\n",
       "      <td>4</td>\n",
       "    </tr>\n",
       "    <tr>\n",
       "      <td>extra_annotations</td>\n",
       "      <td>5</td>\n",
       "    </tr>\n",
       "    <tr>\n",
       "      <td>extra_spans</td>\n",
       "      <td>2</td>\n",
       "    </tr>\n",
       "    <tr>\n",
       "      <td>missing_annotations</td>\n",
       "      <td>7</td>\n",
       "    </tr>\n",
       "    <tr>\n",
       "      <td>missing_spans</td>\n",
       "      <td>4</td>\n",
       "    </tr>\n",
       "    <tr>\n",
       "      <td>modified_spans</td>\n",
       "      <td>2</td>\n",
       "    </tr>\n",
       "    <tr>\n",
       "      <td>overlapped</td>\n",
       "      <td>1</td>\n",
       "    </tr>\n",
       "    <tr>\n",
       "      <td>prolonged</td>\n",
       "      <td>2</td>\n",
       "    </tr>\n",
       "    <tr>\n",
       "      <td>shortened</td>\n",
       "      <td>1</td>\n",
       "    </tr>\n",
       "    <tr>\n",
       "      <td>unchanged_annotations</td>\n",
       "      <td>2</td>\n",
       "    </tr>\n",
       "    <tr>\n",
       "      <td>unchanged_spans</td>\n",
       "      <td>1</td>\n",
       "    </tr>\n",
       "  </tbody>\n",
       "</table>\n",
       "\n",
       "<table border=\"1\" class=\"dataframe\">\n",
       "  <thead>\n",
       "    <tr style=\"text-align: right;\">\n",
       "      <th>layer name</th>\n",
       "      <th>attributes</th>\n",
       "      <th>parent</th>\n",
       "      <th>enveloping</th>\n",
       "      <th>ambiguous</th>\n",
       "      <th>span count</th>\n",
       "    </tr>\n",
       "  </thead>\n",
       "  <tbody>\n",
       "    <tr>\n",
       "      <td>diff_layer</td>\n",
       "      <td>input_layer_name, span_status, attr, attr_5</td>\n",
       "      <td>None</td>\n",
       "      <td>layer_1</td>\n",
       "      <td>True</td>\n",
       "      <td>8</td>\n",
       "    </tr>\n",
       "  </tbody>\n",
       "</table>\n",
       "<table border=\"1\" class=\"dataframe\">\n",
       "  <thead>\n",
       "    <tr style=\"text-align: right;\">\n",
       "      <th>text</th>\n",
       "      <th>start</th>\n",
       "      <th>end</th>\n",
       "      <th>input_layer_name</th>\n",
       "      <th>span_status</th>\n",
       "      <th>attr</th>\n",
       "      <th>attr_5</th>\n",
       "    </tr>\n",
       "  </thead>\n",
       "  <tbody>\n",
       "    <tr>\n",
       "      <td>['Sada', 'kaks']</td>\n",
       "      <td>0</td>\n",
       "      <td>9</td>\n",
       "      <td>layer_a</td>\n",
       "      <td>missing</td>\n",
       "      <td>L5-0-0</td>\n",
       "      <td>SADA KAKS</td>\n",
       "    </tr>\n",
       "    <tr>\n",
       "      <td>['Sada', 'kakskümmend']</td>\n",
       "      <td>0</td>\n",
       "      <td>16</td>\n",
       "      <td>layer_b</td>\n",
       "      <td>extra</td>\n",
       "      <td>L5-1-1</td>\n",
       "      <td>SADA KAKS</td>\n",
       "    </tr>\n",
       "    <tr>\n",
       "      <td></td>\n",
       "      <td>0</td>\n",
       "      <td>16</td>\n",
       "      <td>layer_b</td>\n",
       "      <td>extra</td>\n",
       "      <td>L5-1-2</td>\n",
       "      <td>SADA KÜMME</td>\n",
       "    </tr>\n",
       "    <tr>\n",
       "      <td></td>\n",
       "      <td>0</td>\n",
       "      <td>16</td>\n",
       "      <td>layer_b</td>\n",
       "      <td>extra</td>\n",
       "      <td>L5-1-3</td>\n",
       "      <td>SADA KAKSKÜMMEND</td>\n",
       "    </tr>\n",
       "    <tr>\n",
       "      <td>['Sada', 'kakskümmend', 'kolm']</td>\n",
       "      <td>0</td>\n",
       "      <td>21</td>\n",
       "      <td>layer_a</td>\n",
       "      <td>missing</td>\n",
       "      <td>L5-2-4</td>\n",
       "      <td>SADA KAKSKÜMMEND KOLM</td>\n",
       "    </tr>\n",
       "    <tr>\n",
       "      <td>['Neli', 'tuhat']</td>\n",
       "      <td>23</td>\n",
       "      <td>33</td>\n",
       "      <td>layer_a</td>\n",
       "      <td>missing</td>\n",
       "      <td>L5-3-5</td>\n",
       "      <td>NELI TUHAT</td>\n",
       "    </tr>\n",
       "    <tr>\n",
       "      <td>['tuhat', 'viis']</td>\n",
       "      <td>28</td>\n",
       "      <td>38</td>\n",
       "      <td>layer_b</td>\n",
       "      <td>extra</td>\n",
       "      <td>L5-4-6</td>\n",
       "      <td>TUHAT VIIS</td>\n",
       "    </tr>\n",
       "    <tr>\n",
       "      <td>['viis']</td>\n",
       "      <td>34</td>\n",
       "      <td>38</td>\n",
       "      <td>layer_a</td>\n",
       "      <td>missing</td>\n",
       "      <td>L5-5-7</td>\n",
       "      <td>VIIS</td>\n",
       "    </tr>\n",
       "    <tr>\n",
       "      <td>['viissada', 'kuuskümmend']</td>\n",
       "      <td>34</td>\n",
       "      <td>54</td>\n",
       "      <td>layer_a</td>\n",
       "      <td>modified</td>\n",
       "      <td>L5-6-8</td>\n",
       "      <td>VIISSADA KUUS</td>\n",
       "    </tr>\n",
       "    <tr>\n",
       "      <td></td>\n",
       "      <td>34</td>\n",
       "      <td>54</td>\n",
       "      <td>layer_a</td>\n",
       "      <td>modified</td>\n",
       "      <td>L5-6-9</td>\n",
       "      <td>VIISSADA KÜMME</td>\n",
       "    </tr>\n",
       "    <tr>\n",
       "      <td>['seitse', 'koma', 'kaheksa']</td>\n",
       "      <td>55</td>\n",
       "      <td>74</td>\n",
       "      <td>layer_a</td>\n",
       "      <td>modified</td>\n",
       "      <td>L5-8-12</td>\n",
       "      <td>seitse koma kaheksa</td>\n",
       "    </tr>\n",
       "    <tr>\n",
       "      <td></td>\n",
       "      <td>55</td>\n",
       "      <td>74</td>\n",
       "      <td>layer_b</td>\n",
       "      <td>modified</td>\n",
       "      <td>L5-8-12</td>\n",
       "      <td>SEITSE KOMA KAHEKSA</td>\n",
       "    </tr>\n",
       "  </tbody>\n",
       "</table>"
      ],
      "text/plain": [
       "Layer(name='diff_layer', attributes=('input_layer_name', 'span_status', 'attr', 'attr_5'), spans=SL[EnvelopingSpan(['Sada', 'kaks'], [{'input_layer_name': 'layer_a', 'span_status': 'missing', 'attr': 'L5-0-0', 'attr_5': 'SADA KAKS'}]),\n",
       "EnvelopingSpan(['Sada', 'kakskümmend'], [{'input_layer_name': 'layer_b', 'span_status': 'extra', 'attr': 'L5-1-1', 'attr_5': 'SADA KAKS'}, {'input_layer_name': 'layer_b', 'span_status': 'extra', 'attr': 'L5-1-2', 'attr_5': 'SADA KÜMME'}, {'input_layer_name': 'layer_b', 'span_status': 'extra', 'attr': 'L5-1-3', 'attr_5': 'SADA KAKSKÜMMEND'}]),\n",
       "EnvelopingSpan(['Sada', 'kakskümmend', 'kolm'], [{'input_layer_name': 'layer_a', 'span_status': 'missing', 'attr': 'L5-2-4', 'attr_5': 'SADA KAKSKÜMMEND KOLM'}]),\n",
       "EnvelopingSpan(['Neli', 'tuhat'], [{'input_layer_name': 'layer_a', 'span_status': 'missing', 'attr': 'L5-3-5', 'attr_5': 'NELI TUHAT'}]),\n",
       "EnvelopingSpan(['tuhat', 'viis'], [{'input_layer_name': 'layer_b', 'span_status': 'extra', 'attr': 'L5-4-6', 'attr_5': 'TUHAT VIIS'}]),\n",
       "EnvelopingSpan(['viis'], [{'input_layer_name': 'layer_a', 'span_status': 'missing', 'attr': 'L5-5-7', 'attr_5': 'VIIS'}]),\n",
       "EnvelopingSpan(['viissada', 'kuuskümmend'], [{'input_layer_name': 'layer_a', 'span_status': 'modified', 'attr': 'L5-6-8', 'attr_5': 'VIISSADA KUUS'}, {'input_layer_name': 'layer_a', 'span_status': 'modified', 'attr': 'L5-6-9', 'attr_5': 'VIISSADA KÜMME'}]),\n",
       "EnvelopingSpan(['seitse', 'koma', 'kaheksa'], [{'input_layer_name': 'layer_a', 'span_status': 'modified', 'attr': 'L5-8-12', 'attr_5': 'seitse koma kaheksa'}, {'input_layer_name': 'layer_b', 'span_status': 'modified', 'attr': 'L5-8-12', 'attr_5': 'SEITSE KOMA KAHEKSA'}])])"
      ]
     },
     "execution_count": 4,
     "metadata": {},
     "output_type": "execute_result"
    }
   ],
   "source": [
    "diff_layer = diff_tagger.make_layer(text, layers={'layer_a': layer_a, 'layer_b': layer_b})\n",
    "diff_layer"
   ]
  },
  {
   "cell_type": "markdown",
   "metadata": {},
   "source": [
    "## Diff summary\n",
    "Diff layer `meta` contains summary of differences."
   ]
  },
  {
   "cell_type": "code",
   "execution_count": 5,
   "metadata": {},
   "outputs": [
    {
     "data": {
      "text/plain": [
       "{'modified_spans': 2,\n",
       " 'missing_spans': 4,\n",
       " 'extra_spans': 2,\n",
       " 'extra_annotations': 5,\n",
       " 'missing_annotations': 7,\n",
       " 'overlapped': 1,\n",
       " 'prolonged': 2,\n",
       " 'shortened': 1,\n",
       " 'conflicts': 4,\n",
       " 'unchanged_spans': 1,\n",
       " 'unchanged_annotations': 2}"
      ]
     },
     "execution_count": 5,
     "metadata": {},
     "output_type": "execute_result"
    }
   ],
   "source": [
    "diff_layer.meta"
   ]
  },
  {
   "cell_type": "markdown",
   "metadata": {},
   "source": [
    "    unchanged_spans + modified_spans + missing_spans = length_of_old_layer\n",
    "    unchanged_spans + modified_spans + extra_spans = length_of_new_layer\n",
    "    unchanged_annotations + missing_annotations = number_of_annotations_in_old_layer\n",
    "    unchanged_annotations + extra_annotations   = number_of_annotations_in_new_layer\n",
    "    overlapped + prolonged + shortened = conflicts <= missing_spans x extra_spans\n",
    "\n",
    "A span is a **missing span** if its base span is in the first layer but not in the second layer.\n",
    "\n",
    "A span is an **extra span** if its base span is in the second layer but not in the first layer.\n",
    "\n",
    "A span is **modified** if the base span exists in the first and in the second layer but the annotations are different.\n",
    "\n",
    "A **conflict** is a pair of a missing span and an extra span that cover partially the same text. The annotations are not compared in this case."
   ]
  },
  {
   "cell_type": "markdown",
   "metadata": {},
   "source": [
    "# Iterate layer of differences"
   ]
  },
  {
   "cell_type": "code",
   "execution_count": 6,
   "metadata": {},
   "outputs": [],
   "source": [
    "from estnltk.taggers.system.diff_tagger import iterate_modified\n",
    "from estnltk.taggers.system.diff_tagger import iterate_missing\n",
    "from estnltk.taggers.system.diff_tagger import iterate_extra\n",
    "from estnltk.taggers.system.diff_tagger import iterate_diff_conflicts\n",
    "from estnltk.taggers.system.diff_tagger import iterate_overlapped\n",
    "from estnltk.taggers.system.diff_tagger import iterate_prolonged\n",
    "from estnltk.taggers.system.diff_tagger import iterate_shortened"
   ]
  },
  {
   "cell_type": "markdown",
   "metadata": {},
   "source": [
    "## Iterate modified spans\n",
    "Note that only missing and extra annotations of the span are shown."
   ]
  },
  {
   "cell_type": "code",
   "execution_count": 7,
   "metadata": {},
   "outputs": [
    {
     "data": {
      "text/html": [
       "<b>EnvelopingSpan</b>\n",
       "<table border=\"1\" class=\"dataframe\">\n",
       "  <thead>\n",
       "    <tr style=\"text-align: right;\">\n",
       "      <th>text</th>\n",
       "      <th>input_layer_name</th>\n",
       "      <th>span_status</th>\n",
       "      <th>attr</th>\n",
       "      <th>attr_5</th>\n",
       "    </tr>\n",
       "  </thead>\n",
       "  <tbody>\n",
       "    <tr>\n",
       "      <td><span style=\"font-family: monospace; white-space: pre-wrap;\"><span style=\"text-decoration: underline;\">viissada</span> <span style=\"text-decoration: underline;\">kuuskümmend</span></span></td>\n",
       "      <td>layer_a</td>\n",
       "      <td>modified</td>\n",
       "      <td>L5-6-8</td>\n",
       "      <td>VIISSADA KUUS</td>\n",
       "    </tr>\n",
       "    <tr>\n",
       "      <td></td>\n",
       "      <td>layer_a</td>\n",
       "      <td>modified</td>\n",
       "      <td>L5-6-9</td>\n",
       "      <td>VIISSADA KÜMME</td>\n",
       "    </tr>\n",
       "  </tbody>\n",
       "</table>"
      ],
      "text/plain": [
       "EnvelopingSpan(['viissada', 'kuuskümmend'], [{'input_layer_name': 'layer_a', 'span_status': 'modified', 'attr': 'L5-6-8', 'attr_5': 'VIISSADA KUUS'}, {'input_layer_name': 'layer_a', 'span_status': 'modified', 'attr': 'L5-6-9', 'attr_5': 'VIISSADA KÜMME'}])"
      ]
     },
     "metadata": {},
     "output_type": "display_data"
    },
    {
     "data": {
      "text/html": [
       "<b>EnvelopingSpan</b>\n",
       "<table border=\"1\" class=\"dataframe\">\n",
       "  <thead>\n",
       "    <tr style=\"text-align: right;\">\n",
       "      <th>text</th>\n",
       "      <th>input_layer_name</th>\n",
       "      <th>span_status</th>\n",
       "      <th>attr</th>\n",
       "      <th>attr_5</th>\n",
       "    </tr>\n",
       "  </thead>\n",
       "  <tbody>\n",
       "    <tr>\n",
       "      <td><span style=\"font-family: monospace; white-space: pre-wrap;\"><span style=\"text-decoration: underline;\">seitse</span> <span style=\"text-decoration: underline;\">koma</span> <span style=\"text-decoration: underline;\">kaheksa</span></span></td>\n",
       "      <td>layer_a</td>\n",
       "      <td>modified</td>\n",
       "      <td>L5-8-12</td>\n",
       "      <td>seitse koma kaheksa</td>\n",
       "    </tr>\n",
       "    <tr>\n",
       "      <td></td>\n",
       "      <td>layer_b</td>\n",
       "      <td>modified</td>\n",
       "      <td>L5-8-12</td>\n",
       "      <td>SEITSE KOMA KAHEKSA</td>\n",
       "    </tr>\n",
       "  </tbody>\n",
       "</table>"
      ],
      "text/plain": [
       "EnvelopingSpan(['seitse', 'koma', 'kaheksa'], [{'input_layer_name': 'layer_a', 'span_status': 'modified', 'attr': 'L5-8-12', 'attr_5': 'seitse koma kaheksa'}, {'input_layer_name': 'layer_b', 'span_status': 'modified', 'attr': 'L5-8-12', 'attr_5': 'SEITSE KOMA KAHEKSA'}])"
      ]
     },
     "metadata": {},
     "output_type": "display_data"
    }
   ],
   "source": [
    "for a in iterate_modified(diff_layer, 'span_status'):\n",
    "    display(a)"
   ]
  },
  {
   "cell_type": "markdown",
   "metadata": {},
   "source": [
    "## Iterate missing spans"
   ]
  },
  {
   "cell_type": "code",
   "execution_count": 8,
   "metadata": {},
   "outputs": [
    {
     "data": {
      "text/html": [
       "<b>EnvelopingSpan</b>\n",
       "<table border=\"1\" class=\"dataframe\">\n",
       "  <thead>\n",
       "    <tr style=\"text-align: right;\">\n",
       "      <th>text</th>\n",
       "      <th>input_layer_name</th>\n",
       "      <th>span_status</th>\n",
       "      <th>attr</th>\n",
       "      <th>attr_5</th>\n",
       "    </tr>\n",
       "  </thead>\n",
       "  <tbody>\n",
       "    <tr>\n",
       "      <td><span style=\"font-family: monospace; white-space: pre-wrap;\"><span style=\"text-decoration: underline;\">Sada</span> <span style=\"text-decoration: underline;\">kaks</span></span></td>\n",
       "      <td>layer_a</td>\n",
       "      <td>missing</td>\n",
       "      <td>L5-0-0</td>\n",
       "      <td>SADA KAKS</td>\n",
       "    </tr>\n",
       "  </tbody>\n",
       "</table>"
      ],
      "text/plain": [
       "EnvelopingSpan(['Sada', 'kaks'], [{'input_layer_name': 'layer_a', 'span_status': 'missing', 'attr': 'L5-0-0', 'attr_5': 'SADA KAKS'}])"
      ]
     },
     "metadata": {},
     "output_type": "display_data"
    },
    {
     "data": {
      "text/html": [
       "<b>EnvelopingSpan</b>\n",
       "<table border=\"1\" class=\"dataframe\">\n",
       "  <thead>\n",
       "    <tr style=\"text-align: right;\">\n",
       "      <th>text</th>\n",
       "      <th>input_layer_name</th>\n",
       "      <th>span_status</th>\n",
       "      <th>attr</th>\n",
       "      <th>attr_5</th>\n",
       "    </tr>\n",
       "  </thead>\n",
       "  <tbody>\n",
       "    <tr>\n",
       "      <td><span style=\"font-family: monospace; white-space: pre-wrap;\"><span style=\"text-decoration: underline;\">Sada</span> <span style=\"text-decoration: underline;\">kakskümmend</span> <span style=\"text-decoration: underline;\">kolm</span></span></td>\n",
       "      <td>layer_a</td>\n",
       "      <td>missing</td>\n",
       "      <td>L5-2-4</td>\n",
       "      <td>SADA KAKSKÜMMEND KOLM</td>\n",
       "    </tr>\n",
       "  </tbody>\n",
       "</table>"
      ],
      "text/plain": [
       "EnvelopingSpan(['Sada', 'kakskümmend', 'kolm'], [{'input_layer_name': 'layer_a', 'span_status': 'missing', 'attr': 'L5-2-4', 'attr_5': 'SADA KAKSKÜMMEND KOLM'}])"
      ]
     },
     "metadata": {},
     "output_type": "display_data"
    },
    {
     "data": {
      "text/html": [
       "<b>EnvelopingSpan</b>\n",
       "<table border=\"1\" class=\"dataframe\">\n",
       "  <thead>\n",
       "    <tr style=\"text-align: right;\">\n",
       "      <th>text</th>\n",
       "      <th>input_layer_name</th>\n",
       "      <th>span_status</th>\n",
       "      <th>attr</th>\n",
       "      <th>attr_5</th>\n",
       "    </tr>\n",
       "  </thead>\n",
       "  <tbody>\n",
       "    <tr>\n",
       "      <td><span style=\"font-family: monospace; white-space: pre-wrap;\"><span style=\"text-decoration: underline;\">Neli</span> <span style=\"text-decoration: underline;\">tuhat</span></span></td>\n",
       "      <td>layer_a</td>\n",
       "      <td>missing</td>\n",
       "      <td>L5-3-5</td>\n",
       "      <td>NELI TUHAT</td>\n",
       "    </tr>\n",
       "  </tbody>\n",
       "</table>"
      ],
      "text/plain": [
       "EnvelopingSpan(['Neli', 'tuhat'], [{'input_layer_name': 'layer_a', 'span_status': 'missing', 'attr': 'L5-3-5', 'attr_5': 'NELI TUHAT'}])"
      ]
     },
     "metadata": {},
     "output_type": "display_data"
    },
    {
     "data": {
      "text/html": [
       "<b>EnvelopingSpan</b>\n",
       "<table border=\"1\" class=\"dataframe\">\n",
       "  <thead>\n",
       "    <tr style=\"text-align: right;\">\n",
       "      <th>text</th>\n",
       "      <th>input_layer_name</th>\n",
       "      <th>span_status</th>\n",
       "      <th>attr</th>\n",
       "      <th>attr_5</th>\n",
       "    </tr>\n",
       "  </thead>\n",
       "  <tbody>\n",
       "    <tr>\n",
       "      <td><span style=\"font-family: monospace; white-space: pre-wrap;\"><span style=\"text-decoration: underline;\">viis</span></span></td>\n",
       "      <td>layer_a</td>\n",
       "      <td>missing</td>\n",
       "      <td>L5-5-7</td>\n",
       "      <td>VIIS</td>\n",
       "    </tr>\n",
       "  </tbody>\n",
       "</table>"
      ],
      "text/plain": [
       "EnvelopingSpan(['viis'], [{'input_layer_name': 'layer_a', 'span_status': 'missing', 'attr': 'L5-5-7', 'attr_5': 'VIIS'}])"
      ]
     },
     "metadata": {},
     "output_type": "display_data"
    }
   ],
   "source": [
    "for a in iterate_missing(diff_layer, 'span_status'):\n",
    "    display(a)"
   ]
  },
  {
   "cell_type": "markdown",
   "metadata": {},
   "source": [
    "## Iterate extra spans"
   ]
  },
  {
   "cell_type": "code",
   "execution_count": 9,
   "metadata": {},
   "outputs": [
    {
     "data": {
      "text/html": [
       "<b>EnvelopingSpan</b>\n",
       "<table border=\"1\" class=\"dataframe\">\n",
       "  <thead>\n",
       "    <tr style=\"text-align: right;\">\n",
       "      <th>text</th>\n",
       "      <th>input_layer_name</th>\n",
       "      <th>span_status</th>\n",
       "      <th>attr</th>\n",
       "      <th>attr_5</th>\n",
       "    </tr>\n",
       "  </thead>\n",
       "  <tbody>\n",
       "    <tr>\n",
       "      <td><span style=\"font-family: monospace; white-space: pre-wrap;\"><span style=\"text-decoration: underline;\">Sada</span> <span style=\"text-decoration: underline;\">kakskümmend</span></span></td>\n",
       "      <td>layer_b</td>\n",
       "      <td>extra</td>\n",
       "      <td>L5-1-1</td>\n",
       "      <td>SADA KAKS</td>\n",
       "    </tr>\n",
       "    <tr>\n",
       "      <td></td>\n",
       "      <td>layer_b</td>\n",
       "      <td>extra</td>\n",
       "      <td>L5-1-2</td>\n",
       "      <td>SADA KÜMME</td>\n",
       "    </tr>\n",
       "    <tr>\n",
       "      <td></td>\n",
       "      <td>layer_b</td>\n",
       "      <td>extra</td>\n",
       "      <td>L5-1-3</td>\n",
       "      <td>SADA KAKSKÜMMEND</td>\n",
       "    </tr>\n",
       "  </tbody>\n",
       "</table>"
      ],
      "text/plain": [
       "EnvelopingSpan(['Sada', 'kakskümmend'], [{'input_layer_name': 'layer_b', 'span_status': 'extra', 'attr': 'L5-1-1', 'attr_5': 'SADA KAKS'}, {'input_layer_name': 'layer_b', 'span_status': 'extra', 'attr': 'L5-1-2', 'attr_5': 'SADA KÜMME'}, {'input_layer_name': 'layer_b', 'span_status': 'extra', 'attr': 'L5-1-3', 'attr_5': 'SADA KAKSKÜMMEND'}])"
      ]
     },
     "metadata": {},
     "output_type": "display_data"
    },
    {
     "data": {
      "text/html": [
       "<b>EnvelopingSpan</b>\n",
       "<table border=\"1\" class=\"dataframe\">\n",
       "  <thead>\n",
       "    <tr style=\"text-align: right;\">\n",
       "      <th>text</th>\n",
       "      <th>input_layer_name</th>\n",
       "      <th>span_status</th>\n",
       "      <th>attr</th>\n",
       "      <th>attr_5</th>\n",
       "    </tr>\n",
       "  </thead>\n",
       "  <tbody>\n",
       "    <tr>\n",
       "      <td><span style=\"font-family: monospace; white-space: pre-wrap;\"><span style=\"text-decoration: underline;\">tuhat</span> <span style=\"text-decoration: underline;\">viis</span></span></td>\n",
       "      <td>layer_b</td>\n",
       "      <td>extra</td>\n",
       "      <td>L5-4-6</td>\n",
       "      <td>TUHAT VIIS</td>\n",
       "    </tr>\n",
       "  </tbody>\n",
       "</table>"
      ],
      "text/plain": [
       "EnvelopingSpan(['tuhat', 'viis'], [{'input_layer_name': 'layer_b', 'span_status': 'extra', 'attr': 'L5-4-6', 'attr_5': 'TUHAT VIIS'}])"
      ]
     },
     "metadata": {},
     "output_type": "display_data"
    }
   ],
   "source": [
    "for a in iterate_extra(diff_layer, 'span_status'):\n",
    "    display(a)"
   ]
  },
  {
   "cell_type": "markdown",
   "metadata": {},
   "source": [
    "## Iterate overlapped spans"
   ]
  },
  {
   "cell_type": "code",
   "execution_count": 10,
   "metadata": {},
   "outputs": [
    {
     "data": {
      "text/html": [
       "<b>EnvelopingSpan</b>\n",
       "<table border=\"1\" class=\"dataframe\">\n",
       "  <thead>\n",
       "    <tr style=\"text-align: right;\">\n",
       "      <th>text</th>\n",
       "      <th>input_layer_name</th>\n",
       "      <th>span_status</th>\n",
       "      <th>attr</th>\n",
       "      <th>attr_5</th>\n",
       "    </tr>\n",
       "  </thead>\n",
       "  <tbody>\n",
       "    <tr>\n",
       "      <td><span style=\"font-family: monospace; white-space: pre-wrap;\"><span style=\"text-decoration: underline;\">Neli</span> <span style=\"text-decoration: underline;\">tuhat</span></span></td>\n",
       "      <td>layer_a</td>\n",
       "      <td>missing</td>\n",
       "      <td>L5-3-5</td>\n",
       "      <td>NELI TUHAT</td>\n",
       "    </tr>\n",
       "  </tbody>\n",
       "</table>"
      ],
      "text/plain": [
       "EnvelopingSpan(['Neli', 'tuhat'], [{'input_layer_name': 'layer_a', 'span_status': 'missing', 'attr': 'L5-3-5', 'attr_5': 'NELI TUHAT'}])"
      ]
     },
     "metadata": {},
     "output_type": "display_data"
    },
    {
     "data": {
      "text/html": [
       "<b>EnvelopingSpan</b>\n",
       "<table border=\"1\" class=\"dataframe\">\n",
       "  <thead>\n",
       "    <tr style=\"text-align: right;\">\n",
       "      <th>text</th>\n",
       "      <th>input_layer_name</th>\n",
       "      <th>span_status</th>\n",
       "      <th>attr</th>\n",
       "      <th>attr_5</th>\n",
       "    </tr>\n",
       "  </thead>\n",
       "  <tbody>\n",
       "    <tr>\n",
       "      <td><span style=\"font-family: monospace; white-space: pre-wrap;\"><span style=\"text-decoration: underline;\">tuhat</span> <span style=\"text-decoration: underline;\">viis</span></span></td>\n",
       "      <td>layer_b</td>\n",
       "      <td>extra</td>\n",
       "      <td>L5-4-6</td>\n",
       "      <td>TUHAT VIIS</td>\n",
       "    </tr>\n",
       "  </tbody>\n",
       "</table>"
      ],
      "text/plain": [
       "EnvelopingSpan(['tuhat', 'viis'], [{'input_layer_name': 'layer_b', 'span_status': 'extra', 'attr': 'L5-4-6', 'attr_5': 'TUHAT VIIS'}])"
      ]
     },
     "metadata": {},
     "output_type": "display_data"
    }
   ],
   "source": [
    "for a, b in iterate_overlapped(diff_layer, 'span_status'):\n",
    "    display(a)\n",
    "    display(b)"
   ]
  },
  {
   "cell_type": "markdown",
   "metadata": {},
   "source": [
    "## Iterate prolonged spans"
   ]
  },
  {
   "cell_type": "code",
   "execution_count": 11,
   "metadata": {},
   "outputs": [
    {
     "data": {
      "text/html": [
       "<b>EnvelopingSpan</b>\n",
       "<table border=\"1\" class=\"dataframe\">\n",
       "  <thead>\n",
       "    <tr style=\"text-align: right;\">\n",
       "      <th>text</th>\n",
       "      <th>input_layer_name</th>\n",
       "      <th>span_status</th>\n",
       "      <th>attr</th>\n",
       "      <th>attr_5</th>\n",
       "    </tr>\n",
       "  </thead>\n",
       "  <tbody>\n",
       "    <tr>\n",
       "      <td><span style=\"font-family: monospace; white-space: pre-wrap;\"><span style=\"text-decoration: underline;\">Sada</span> <span style=\"text-decoration: underline;\">kaks</span></span></td>\n",
       "      <td>layer_a</td>\n",
       "      <td>missing</td>\n",
       "      <td>L5-0-0</td>\n",
       "      <td>SADA KAKS</td>\n",
       "    </tr>\n",
       "  </tbody>\n",
       "</table>"
      ],
      "text/plain": [
       "EnvelopingSpan(['Sada', 'kaks'], [{'input_layer_name': 'layer_a', 'span_status': 'missing', 'attr': 'L5-0-0', 'attr_5': 'SADA KAKS'}])"
      ]
     },
     "metadata": {},
     "output_type": "display_data"
    },
    {
     "data": {
      "text/html": [
       "<b>EnvelopingSpan</b>\n",
       "<table border=\"1\" class=\"dataframe\">\n",
       "  <thead>\n",
       "    <tr style=\"text-align: right;\">\n",
       "      <th>text</th>\n",
       "      <th>input_layer_name</th>\n",
       "      <th>span_status</th>\n",
       "      <th>attr</th>\n",
       "      <th>attr_5</th>\n",
       "    </tr>\n",
       "  </thead>\n",
       "  <tbody>\n",
       "    <tr>\n",
       "      <td><span style=\"font-family: monospace; white-space: pre-wrap;\"><span style=\"text-decoration: underline;\">Sada</span> <span style=\"text-decoration: underline;\">kakskümmend</span></span></td>\n",
       "      <td>layer_b</td>\n",
       "      <td>extra</td>\n",
       "      <td>L5-1-1</td>\n",
       "      <td>SADA KAKS</td>\n",
       "    </tr>\n",
       "    <tr>\n",
       "      <td></td>\n",
       "      <td>layer_b</td>\n",
       "      <td>extra</td>\n",
       "      <td>L5-1-2</td>\n",
       "      <td>SADA KÜMME</td>\n",
       "    </tr>\n",
       "    <tr>\n",
       "      <td></td>\n",
       "      <td>layer_b</td>\n",
       "      <td>extra</td>\n",
       "      <td>L5-1-3</td>\n",
       "      <td>SADA KAKSKÜMMEND</td>\n",
       "    </tr>\n",
       "  </tbody>\n",
       "</table>"
      ],
      "text/plain": [
       "EnvelopingSpan(['Sada', 'kakskümmend'], [{'input_layer_name': 'layer_b', 'span_status': 'extra', 'attr': 'L5-1-1', 'attr_5': 'SADA KAKS'}, {'input_layer_name': 'layer_b', 'span_status': 'extra', 'attr': 'L5-1-2', 'attr_5': 'SADA KÜMME'}, {'input_layer_name': 'layer_b', 'span_status': 'extra', 'attr': 'L5-1-3', 'attr_5': 'SADA KAKSKÜMMEND'}])"
      ]
     },
     "metadata": {},
     "output_type": "display_data"
    },
    {
     "data": {
      "text/html": [
       "<b>EnvelopingSpan</b>\n",
       "<table border=\"1\" class=\"dataframe\">\n",
       "  <thead>\n",
       "    <tr style=\"text-align: right;\">\n",
       "      <th>text</th>\n",
       "      <th>input_layer_name</th>\n",
       "      <th>span_status</th>\n",
       "      <th>attr</th>\n",
       "      <th>attr_5</th>\n",
       "    </tr>\n",
       "  </thead>\n",
       "  <tbody>\n",
       "    <tr>\n",
       "      <td><span style=\"font-family: monospace; white-space: pre-wrap;\"><span style=\"text-decoration: underline;\">viis</span></span></td>\n",
       "      <td>layer_a</td>\n",
       "      <td>missing</td>\n",
       "      <td>L5-5-7</td>\n",
       "      <td>VIIS</td>\n",
       "    </tr>\n",
       "  </tbody>\n",
       "</table>"
      ],
      "text/plain": [
       "EnvelopingSpan(['viis'], [{'input_layer_name': 'layer_a', 'span_status': 'missing', 'attr': 'L5-5-7', 'attr_5': 'VIIS'}])"
      ]
     },
     "metadata": {},
     "output_type": "display_data"
    },
    {
     "data": {
      "text/html": [
       "<b>EnvelopingSpan</b>\n",
       "<table border=\"1\" class=\"dataframe\">\n",
       "  <thead>\n",
       "    <tr style=\"text-align: right;\">\n",
       "      <th>text</th>\n",
       "      <th>input_layer_name</th>\n",
       "      <th>span_status</th>\n",
       "      <th>attr</th>\n",
       "      <th>attr_5</th>\n",
       "    </tr>\n",
       "  </thead>\n",
       "  <tbody>\n",
       "    <tr>\n",
       "      <td><span style=\"font-family: monospace; white-space: pre-wrap;\"><span style=\"text-decoration: underline;\">tuhat</span> <span style=\"text-decoration: underline;\">viis</span></span></td>\n",
       "      <td>layer_b</td>\n",
       "      <td>extra</td>\n",
       "      <td>L5-4-6</td>\n",
       "      <td>TUHAT VIIS</td>\n",
       "    </tr>\n",
       "  </tbody>\n",
       "</table>"
      ],
      "text/plain": [
       "EnvelopingSpan(['tuhat', 'viis'], [{'input_layer_name': 'layer_b', 'span_status': 'extra', 'attr': 'L5-4-6', 'attr_5': 'TUHAT VIIS'}])"
      ]
     },
     "metadata": {},
     "output_type": "display_data"
    }
   ],
   "source": [
    "for a, b in iterate_prolonged(diff_layer, 'span_status'):\n",
    "    display(a)\n",
    "    display(b)"
   ]
  },
  {
   "cell_type": "markdown",
   "metadata": {},
   "source": [
    "## Iterate shortened spans"
   ]
  },
  {
   "cell_type": "code",
   "execution_count": 12,
   "metadata": {},
   "outputs": [
    {
     "data": {
      "text/html": [
       "<b>EnvelopingSpan</b>\n",
       "<table border=\"1\" class=\"dataframe\">\n",
       "  <thead>\n",
       "    <tr style=\"text-align: right;\">\n",
       "      <th>text</th>\n",
       "      <th>input_layer_name</th>\n",
       "      <th>span_status</th>\n",
       "      <th>attr</th>\n",
       "      <th>attr_5</th>\n",
       "    </tr>\n",
       "  </thead>\n",
       "  <tbody>\n",
       "    <tr>\n",
       "      <td><span style=\"font-family: monospace; white-space: pre-wrap;\"><span style=\"text-decoration: underline;\">Sada</span> <span style=\"text-decoration: underline;\">kakskümmend</span> <span style=\"text-decoration: underline;\">kolm</span></span></td>\n",
       "      <td>layer_a</td>\n",
       "      <td>missing</td>\n",
       "      <td>L5-2-4</td>\n",
       "      <td>SADA KAKSKÜMMEND KOLM</td>\n",
       "    </tr>\n",
       "  </tbody>\n",
       "</table>"
      ],
      "text/plain": [
       "EnvelopingSpan(['Sada', 'kakskümmend', 'kolm'], [{'input_layer_name': 'layer_a', 'span_status': 'missing', 'attr': 'L5-2-4', 'attr_5': 'SADA KAKSKÜMMEND KOLM'}])"
      ]
     },
     "metadata": {},
     "output_type": "display_data"
    },
    {
     "data": {
      "text/html": [
       "<b>EnvelopingSpan</b>\n",
       "<table border=\"1\" class=\"dataframe\">\n",
       "  <thead>\n",
       "    <tr style=\"text-align: right;\">\n",
       "      <th>text</th>\n",
       "      <th>input_layer_name</th>\n",
       "      <th>span_status</th>\n",
       "      <th>attr</th>\n",
       "      <th>attr_5</th>\n",
       "    </tr>\n",
       "  </thead>\n",
       "  <tbody>\n",
       "    <tr>\n",
       "      <td><span style=\"font-family: monospace; white-space: pre-wrap;\"><span style=\"text-decoration: underline;\">Sada</span> <span style=\"text-decoration: underline;\">kakskümmend</span></span></td>\n",
       "      <td>layer_b</td>\n",
       "      <td>extra</td>\n",
       "      <td>L5-1-1</td>\n",
       "      <td>SADA KAKS</td>\n",
       "    </tr>\n",
       "    <tr>\n",
       "      <td></td>\n",
       "      <td>layer_b</td>\n",
       "      <td>extra</td>\n",
       "      <td>L5-1-2</td>\n",
       "      <td>SADA KÜMME</td>\n",
       "    </tr>\n",
       "    <tr>\n",
       "      <td></td>\n",
       "      <td>layer_b</td>\n",
       "      <td>extra</td>\n",
       "      <td>L5-1-3</td>\n",
       "      <td>SADA KAKSKÜMMEND</td>\n",
       "    </tr>\n",
       "  </tbody>\n",
       "</table>"
      ],
      "text/plain": [
       "EnvelopingSpan(['Sada', 'kakskümmend'], [{'input_layer_name': 'layer_b', 'span_status': 'extra', 'attr': 'L5-1-1', 'attr_5': 'SADA KAKS'}, {'input_layer_name': 'layer_b', 'span_status': 'extra', 'attr': 'L5-1-2', 'attr_5': 'SADA KÜMME'}, {'input_layer_name': 'layer_b', 'span_status': 'extra', 'attr': 'L5-1-3', 'attr_5': 'SADA KAKSKÜMMEND'}])"
      ]
     },
     "metadata": {},
     "output_type": "display_data"
    }
   ],
   "source": [
    "for a, b in iterate_shortened(diff_layer, 'span_status'):\n",
    "    display(a)\n",
    "    display(b)"
   ]
  },
  {
   "cell_type": "markdown",
   "metadata": {},
   "source": [
    "## Iterate all conflicts between missing and extra spans"
   ]
  },
  {
   "cell_type": "code",
   "execution_count": 13,
   "metadata": {},
   "outputs": [
    {
     "name": "stdout",
     "output_type": "stream",
     "text": [
      "Conflicting pair:\n"
     ]
    },
    {
     "data": {
      "text/html": [
       "<b>EnvelopingSpan</b>\n",
       "<table border=\"1\" class=\"dataframe\">\n",
       "  <thead>\n",
       "    <tr style=\"text-align: right;\">\n",
       "      <th>text</th>\n",
       "      <th>input_layer_name</th>\n",
       "      <th>span_status</th>\n",
       "      <th>attr</th>\n",
       "      <th>attr_5</th>\n",
       "    </tr>\n",
       "  </thead>\n",
       "  <tbody>\n",
       "    <tr>\n",
       "      <td><span style=\"font-family: monospace; white-space: pre-wrap;\"><span style=\"text-decoration: underline;\">Sada</span> <span style=\"text-decoration: underline;\">kaks</span></span></td>\n",
       "      <td>layer_a</td>\n",
       "      <td>missing</td>\n",
       "      <td>L5-0-0</td>\n",
       "      <td>SADA KAKS</td>\n",
       "    </tr>\n",
       "  </tbody>\n",
       "</table>"
      ],
      "text/plain": [
       "EnvelopingSpan(['Sada', 'kaks'], [{'input_layer_name': 'layer_a', 'span_status': 'missing', 'attr': 'L5-0-0', 'attr_5': 'SADA KAKS'}])"
      ]
     },
     "metadata": {},
     "output_type": "display_data"
    },
    {
     "data": {
      "text/html": [
       "<b>EnvelopingSpan</b>\n",
       "<table border=\"1\" class=\"dataframe\">\n",
       "  <thead>\n",
       "    <tr style=\"text-align: right;\">\n",
       "      <th>text</th>\n",
       "      <th>input_layer_name</th>\n",
       "      <th>span_status</th>\n",
       "      <th>attr</th>\n",
       "      <th>attr_5</th>\n",
       "    </tr>\n",
       "  </thead>\n",
       "  <tbody>\n",
       "    <tr>\n",
       "      <td><span style=\"font-family: monospace; white-space: pre-wrap;\"><span style=\"text-decoration: underline;\">Sada</span> <span style=\"text-decoration: underline;\">kakskümmend</span></span></td>\n",
       "      <td>layer_b</td>\n",
       "      <td>extra</td>\n",
       "      <td>L5-1-1</td>\n",
       "      <td>SADA KAKS</td>\n",
       "    </tr>\n",
       "    <tr>\n",
       "      <td></td>\n",
       "      <td>layer_b</td>\n",
       "      <td>extra</td>\n",
       "      <td>L5-1-2</td>\n",
       "      <td>SADA KÜMME</td>\n",
       "    </tr>\n",
       "    <tr>\n",
       "      <td></td>\n",
       "      <td>layer_b</td>\n",
       "      <td>extra</td>\n",
       "      <td>L5-1-3</td>\n",
       "      <td>SADA KAKSKÜMMEND</td>\n",
       "    </tr>\n",
       "  </tbody>\n",
       "</table>"
      ],
      "text/plain": [
       "EnvelopingSpan(['Sada', 'kakskümmend'], [{'input_layer_name': 'layer_b', 'span_status': 'extra', 'attr': 'L5-1-1', 'attr_5': 'SADA KAKS'}, {'input_layer_name': 'layer_b', 'span_status': 'extra', 'attr': 'L5-1-2', 'attr_5': 'SADA KÜMME'}, {'input_layer_name': 'layer_b', 'span_status': 'extra', 'attr': 'L5-1-3', 'attr_5': 'SADA KAKSKÜMMEND'}])"
      ]
     },
     "metadata": {},
     "output_type": "display_data"
    },
    {
     "name": "stdout",
     "output_type": "stream",
     "text": [
      "Conflicting pair:\n"
     ]
    },
    {
     "data": {
      "text/html": [
       "<b>EnvelopingSpan</b>\n",
       "<table border=\"1\" class=\"dataframe\">\n",
       "  <thead>\n",
       "    <tr style=\"text-align: right;\">\n",
       "      <th>text</th>\n",
       "      <th>input_layer_name</th>\n",
       "      <th>span_status</th>\n",
       "      <th>attr</th>\n",
       "      <th>attr_5</th>\n",
       "    </tr>\n",
       "  </thead>\n",
       "  <tbody>\n",
       "    <tr>\n",
       "      <td><span style=\"font-family: monospace; white-space: pre-wrap;\"><span style=\"text-decoration: underline;\">Sada</span> <span style=\"text-decoration: underline;\">kakskümmend</span> <span style=\"text-decoration: underline;\">kolm</span></span></td>\n",
       "      <td>layer_a</td>\n",
       "      <td>missing</td>\n",
       "      <td>L5-2-4</td>\n",
       "      <td>SADA KAKSKÜMMEND KOLM</td>\n",
       "    </tr>\n",
       "  </tbody>\n",
       "</table>"
      ],
      "text/plain": [
       "EnvelopingSpan(['Sada', 'kakskümmend', 'kolm'], [{'input_layer_name': 'layer_a', 'span_status': 'missing', 'attr': 'L5-2-4', 'attr_5': 'SADA KAKSKÜMMEND KOLM'}])"
      ]
     },
     "metadata": {},
     "output_type": "display_data"
    },
    {
     "data": {
      "text/html": [
       "<b>EnvelopingSpan</b>\n",
       "<table border=\"1\" class=\"dataframe\">\n",
       "  <thead>\n",
       "    <tr style=\"text-align: right;\">\n",
       "      <th>text</th>\n",
       "      <th>input_layer_name</th>\n",
       "      <th>span_status</th>\n",
       "      <th>attr</th>\n",
       "      <th>attr_5</th>\n",
       "    </tr>\n",
       "  </thead>\n",
       "  <tbody>\n",
       "    <tr>\n",
       "      <td><span style=\"font-family: monospace; white-space: pre-wrap;\"><span style=\"text-decoration: underline;\">Sada</span> <span style=\"text-decoration: underline;\">kakskümmend</span></span></td>\n",
       "      <td>layer_b</td>\n",
       "      <td>extra</td>\n",
       "      <td>L5-1-1</td>\n",
       "      <td>SADA KAKS</td>\n",
       "    </tr>\n",
       "    <tr>\n",
       "      <td></td>\n",
       "      <td>layer_b</td>\n",
       "      <td>extra</td>\n",
       "      <td>L5-1-2</td>\n",
       "      <td>SADA KÜMME</td>\n",
       "    </tr>\n",
       "    <tr>\n",
       "      <td></td>\n",
       "      <td>layer_b</td>\n",
       "      <td>extra</td>\n",
       "      <td>L5-1-3</td>\n",
       "      <td>SADA KAKSKÜMMEND</td>\n",
       "    </tr>\n",
       "  </tbody>\n",
       "</table>"
      ],
      "text/plain": [
       "EnvelopingSpan(['Sada', 'kakskümmend'], [{'input_layer_name': 'layer_b', 'span_status': 'extra', 'attr': 'L5-1-1', 'attr_5': 'SADA KAKS'}, {'input_layer_name': 'layer_b', 'span_status': 'extra', 'attr': 'L5-1-2', 'attr_5': 'SADA KÜMME'}, {'input_layer_name': 'layer_b', 'span_status': 'extra', 'attr': 'L5-1-3', 'attr_5': 'SADA KAKSKÜMMEND'}])"
      ]
     },
     "metadata": {},
     "output_type": "display_data"
    },
    {
     "name": "stdout",
     "output_type": "stream",
     "text": [
      "Conflicting pair:\n"
     ]
    },
    {
     "data": {
      "text/html": [
       "<b>EnvelopingSpan</b>\n",
       "<table border=\"1\" class=\"dataframe\">\n",
       "  <thead>\n",
       "    <tr style=\"text-align: right;\">\n",
       "      <th>text</th>\n",
       "      <th>input_layer_name</th>\n",
       "      <th>span_status</th>\n",
       "      <th>attr</th>\n",
       "      <th>attr_5</th>\n",
       "    </tr>\n",
       "  </thead>\n",
       "  <tbody>\n",
       "    <tr>\n",
       "      <td><span style=\"font-family: monospace; white-space: pre-wrap;\"><span style=\"text-decoration: underline;\">Neli</span> <span style=\"text-decoration: underline;\">tuhat</span></span></td>\n",
       "      <td>layer_a</td>\n",
       "      <td>missing</td>\n",
       "      <td>L5-3-5</td>\n",
       "      <td>NELI TUHAT</td>\n",
       "    </tr>\n",
       "  </tbody>\n",
       "</table>"
      ],
      "text/plain": [
       "EnvelopingSpan(['Neli', 'tuhat'], [{'input_layer_name': 'layer_a', 'span_status': 'missing', 'attr': 'L5-3-5', 'attr_5': 'NELI TUHAT'}])"
      ]
     },
     "metadata": {},
     "output_type": "display_data"
    },
    {
     "data": {
      "text/html": [
       "<b>EnvelopingSpan</b>\n",
       "<table border=\"1\" class=\"dataframe\">\n",
       "  <thead>\n",
       "    <tr style=\"text-align: right;\">\n",
       "      <th>text</th>\n",
       "      <th>input_layer_name</th>\n",
       "      <th>span_status</th>\n",
       "      <th>attr</th>\n",
       "      <th>attr_5</th>\n",
       "    </tr>\n",
       "  </thead>\n",
       "  <tbody>\n",
       "    <tr>\n",
       "      <td><span style=\"font-family: monospace; white-space: pre-wrap;\"><span style=\"text-decoration: underline;\">tuhat</span> <span style=\"text-decoration: underline;\">viis</span></span></td>\n",
       "      <td>layer_b</td>\n",
       "      <td>extra</td>\n",
       "      <td>L5-4-6</td>\n",
       "      <td>TUHAT VIIS</td>\n",
       "    </tr>\n",
       "  </tbody>\n",
       "</table>"
      ],
      "text/plain": [
       "EnvelopingSpan(['tuhat', 'viis'], [{'input_layer_name': 'layer_b', 'span_status': 'extra', 'attr': 'L5-4-6', 'attr_5': 'TUHAT VIIS'}])"
      ]
     },
     "metadata": {},
     "output_type": "display_data"
    },
    {
     "name": "stdout",
     "output_type": "stream",
     "text": [
      "Conflicting pair:\n"
     ]
    },
    {
     "data": {
      "text/html": [
       "<b>EnvelopingSpan</b>\n",
       "<table border=\"1\" class=\"dataframe\">\n",
       "  <thead>\n",
       "    <tr style=\"text-align: right;\">\n",
       "      <th>text</th>\n",
       "      <th>input_layer_name</th>\n",
       "      <th>span_status</th>\n",
       "      <th>attr</th>\n",
       "      <th>attr_5</th>\n",
       "    </tr>\n",
       "  </thead>\n",
       "  <tbody>\n",
       "    <tr>\n",
       "      <td><span style=\"font-family: monospace; white-space: pre-wrap;\"><span style=\"text-decoration: underline;\">viis</span></span></td>\n",
       "      <td>layer_a</td>\n",
       "      <td>missing</td>\n",
       "      <td>L5-5-7</td>\n",
       "      <td>VIIS</td>\n",
       "    </tr>\n",
       "  </tbody>\n",
       "</table>"
      ],
      "text/plain": [
       "EnvelopingSpan(['viis'], [{'input_layer_name': 'layer_a', 'span_status': 'missing', 'attr': 'L5-5-7', 'attr_5': 'VIIS'}])"
      ]
     },
     "metadata": {},
     "output_type": "display_data"
    },
    {
     "data": {
      "text/html": [
       "<b>EnvelopingSpan</b>\n",
       "<table border=\"1\" class=\"dataframe\">\n",
       "  <thead>\n",
       "    <tr style=\"text-align: right;\">\n",
       "      <th>text</th>\n",
       "      <th>input_layer_name</th>\n",
       "      <th>span_status</th>\n",
       "      <th>attr</th>\n",
       "      <th>attr_5</th>\n",
       "    </tr>\n",
       "  </thead>\n",
       "  <tbody>\n",
       "    <tr>\n",
       "      <td><span style=\"font-family: monospace; white-space: pre-wrap;\"><span style=\"text-decoration: underline;\">tuhat</span> <span style=\"text-decoration: underline;\">viis</span></span></td>\n",
       "      <td>layer_b</td>\n",
       "      <td>extra</td>\n",
       "      <td>L5-4-6</td>\n",
       "      <td>TUHAT VIIS</td>\n",
       "    </tr>\n",
       "  </tbody>\n",
       "</table>"
      ],
      "text/plain": [
       "EnvelopingSpan(['tuhat', 'viis'], [{'input_layer_name': 'layer_b', 'span_status': 'extra', 'attr': 'L5-4-6', 'attr_5': 'TUHAT VIIS'}])"
      ]
     },
     "metadata": {},
     "output_type": "display_data"
    }
   ],
   "source": [
    "for a, b in iterate_diff_conflicts(diff_layer, 'span_status'):\n",
    "    print('Conflicting pair:')\n",
    "    display(a)\n",
    "    display(b)"
   ]
  }
 ],
 "metadata": {
  "kernelspec": {
   "display_name": "Python 3 (ipykernel)",
   "language": "python",
   "name": "python3"
  },
  "language_info": {
   "codemirror_mode": {
    "name": "ipython",
    "version": 3
   },
   "file_extension": ".py",
   "mimetype": "text/x-python",
   "name": "python",
   "nbconvert_exporter": "python",
   "pygments_lexer": "ipython3",
   "version": "3.8.11"
  }
 },
 "nbformat": 4,
 "nbformat_minor": 2
}
