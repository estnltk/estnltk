{
 "cells": [
  {
   "cell_type": "markdown",
   "metadata": {},
   "source": [
    "# Experimental noun phrase chunker\n",
    "\n",
    "EstNLTK includes an experimental noun phrase chunker, which can be used to detect non-overlapping noun phrases from the text.\n",
    "\n",
    "## Basic usage\n",
    "\n",
    "The chunker uses Vabamorf's morphological analyses and dependency syntactic relations for detecting potential noun phrases.\n",
    "In the following example, we use `VislTagger` for creating the prerequisite syntactic analysis layer, but you can use any [dependency syntactic layer](https://github.com/estnltk/estnltk/blob/ba471626227238b2b83ef7a3479b315407c44807/tutorials/syntax/syntax.ipynb) that has `'deprel'` and `'head'` attributes marking the relations:"
   ]
  },
  {
   "cell_type": "code",
   "execution_count": 1,
   "metadata": {},
   "outputs": [
    {
     "name": "stdout",
     "output_type": "stream",
     "text": [
      "{'sentences', 'words', 'morph_analysis', 'morph_extended', 'compound_tokens', 'tokens', 'visl'}\n"
     ]
    }
   ],
   "source": [
    "from estnltk import Text\n",
    "from estnltk.taggers import VislTagger\n",
    "\n",
    "# Create text for analysis\n",
    "text = Text('Suur karvane kass nurrus punasel diivanil, väike hiir aga hiilis temast mööda.')\n",
    "# Add prerequisite layers\n",
    "text.tag_layer(['morph_extended'])\n",
    "syntactic_parser = VislTagger()\n",
    "syntactic_parser.tag(text)\n",
    "print(text.layers)"
   ]
  },
  {
   "cell_type": "markdown",
   "metadata": {},
   "source": [
    "Now we can use `NounPhraseChunker`. The tagger must be initialized with the name of the syntax layer:"
   ]
  },
  {
   "cell_type": "code",
   "execution_count": 2,
   "metadata": {},
   "outputs": [
    {
     "data": {
      "text/html": [
       "<h4>Layer</h4>\n",
       "\n",
       "\n",
       "<table border=\"1\" class=\"dataframe\">\n",
       "  <thead>\n",
       "    <tr style=\"text-align: right;\">\n",
       "      <th>layer name</th>\n",
       "      <th>attributes</th>\n",
       "      <th>parent</th>\n",
       "      <th>enveloping</th>\n",
       "      <th>ambiguous</th>\n",
       "      <th>span count</th>\n",
       "    </tr>\n",
       "  </thead>\n",
       "  <tbody>\n",
       "    <tr>\n",
       "      <td>np_chunks</td>\n",
       "      <td></td>\n",
       "      <td>None</td>\n",
       "      <td>words</td>\n",
       "      <td>False</td>\n",
       "      <td>4</td>\n",
       "    </tr>\n",
       "  </tbody>\n",
       "</table>\n",
       "<table border=\"1\" class=\"dataframe\">\n",
       "  <thead>\n",
       "    <tr style=\"text-align: right;\">\n",
       "      <th>text</th>\n",
       "    </tr>\n",
       "  </thead>\n",
       "  <tbody>\n",
       "    <tr>\n",
       "      <td>['Suur', 'karvane', 'kass']</td>\n",
       "    </tr>\n",
       "    <tr>\n",
       "      <td>['punasel', 'diivanil']</td>\n",
       "    </tr>\n",
       "    <tr>\n",
       "      <td>['väike', 'hiir']</td>\n",
       "    </tr>\n",
       "    <tr>\n",
       "      <td>['temast']</td>\n",
       "    </tr>\n",
       "  </tbody>\n",
       "</table>"
      ],
      "text/plain": [
       "Layer(name='np_chunks', attributes=(), spans=SL[EnvelopingSpan(['Suur', 'karvane', 'kass'], [{}]),\n",
       "EnvelopingSpan(['punasel', 'diivanil'], [{}]),\n",
       "EnvelopingSpan(['väike', 'hiir'], [{}]),\n",
       "EnvelopingSpan(['temast'], [{}])])"
      ]
     },
     "execution_count": 2,
     "metadata": {},
     "output_type": "execute_result"
    }
   ],
   "source": [
    "from estnltk.taggers.miscellaneous.np_chunker import NounPhraseChunker\n",
    "\n",
    "np_chunker = NounPhraseChunker('visl')\n",
    "np_chunker.tag(text)\n",
    "text.np_chunks"
   ]
  },
  {
   "cell_type": "markdown",
   "metadata": {},
   "source": [
    "You can use `enclosing_text` for obtaining exact strings corresponding to the chunks:"
   ]
  },
  {
   "cell_type": "code",
   "execution_count": 3,
   "metadata": {},
   "outputs": [
    {
     "data": {
      "text/plain": [
       "['Autojuhi lapitekk', 'linna koduleheküljel', 'paljude kodanike tähelepanu']"
      ]
     },
     "execution_count": 3,
     "metadata": {},
     "output_type": "execute_result"
    }
   ],
   "source": [
    "text = Text('Autojuhi lapitekk pälvis linna koduleheküljel paljude kodanike tähelepanu.')\n",
    "text.tag_layer(['morph_extended'])\n",
    "syntactic_parser.tag(text)\n",
    "np_chunker.tag(text)\n",
    "# Get phrase strings\n",
    "[chunk.enclosing_text for chunk in text.np_chunks]"
   ]
  },
  {
   "cell_type": "markdown",
   "metadata": {},
   "source": [
    "As `np_chunks` is an enveloping layer around `words`, you can iterate over all words of each chunk, and you can also access lemmas of these words via `morph_analysis` layer:"
   ]
  },
  {
   "cell_type": "code",
   "execution_count": 4,
   "metadata": {},
   "outputs": [
    {
     "name": "stdout",
     "output_type": "stream",
     "text": [
      "Autojuhi autojuht\n",
      "lapitekk lapitekk\n",
      "\n",
      "linna linn\n",
      "koduleheküljel kodulehekülg\n",
      "\n",
      "paljude palju\n",
      "kodanike kodanik\n",
      "tähelepanu tähelepanu\n",
      "\n"
     ]
    }
   ],
   "source": [
    "text = Text('Autojuhi lapitekk pälvis linna koduleheküljel paljude kodanike tähelepanu.')\n",
    "text.tag_layer(['morph_extended'])\n",
    "syntactic_parser.tag(text)\n",
    "np_chunker.tag(text)\n",
    "# Get lemmas of the words from chunks\n",
    "for chunk in text.np_chunks:\n",
    "    for word in chunk:\n",
    "        print(word.text, word.lemma[0])\n",
    "    print()"
   ]
  },
  {
   "cell_type": "markdown",
   "metadata": {},
   "source": [
    "### Chunking based on MaltParserTagger\n",
    "\n",
    "In the following example, we use MaltParserTagger to provide the input layer required for chunking:"
   ]
  },
  {
   "cell_type": "code",
   "execution_count": 5,
   "metadata": {},
   "outputs": [],
   "source": [
    "from estnltk import Text\n",
    "from estnltk.taggers import ConllMorphTagger\n",
    "from estnltk.taggers import MaltParserTagger\n",
    "\n",
    "conll_morph_tagger = ConllMorphTagger( no_visl=True,  morph_extended_layer='morph_analysis' )\n",
    "maltparser_tagger = MaltParserTagger( input_conll_morph_layer='conll_morph', \n",
    "                                      input_type='morph_analysis', \n",
    "                                      version='conllu', add_parent_and_children=False )"
   ]
  },
  {
   "cell_type": "code",
   "execution_count": 6,
   "metadata": {},
   "outputs": [
    {
     "data": {
      "text/html": [
       "<h4>Layer</h4>\n",
       "\n",
       "\n",
       "<table border=\"1\" class=\"dataframe\">\n",
       "  <thead>\n",
       "    <tr style=\"text-align: right;\">\n",
       "      <th>layer name</th>\n",
       "      <th>attributes</th>\n",
       "      <th>parent</th>\n",
       "      <th>enveloping</th>\n",
       "      <th>ambiguous</th>\n",
       "      <th>span count</th>\n",
       "    </tr>\n",
       "  </thead>\n",
       "  <tbody>\n",
       "    <tr>\n",
       "      <td>np_chunks</td>\n",
       "      <td></td>\n",
       "      <td>None</td>\n",
       "      <td>words</td>\n",
       "      <td>False</td>\n",
       "      <td>4</td>\n",
       "    </tr>\n",
       "  </tbody>\n",
       "</table>\n",
       "<table border=\"1\" class=\"dataframe\">\n",
       "  <thead>\n",
       "    <tr style=\"text-align: right;\">\n",
       "      <th>text</th>\n",
       "    </tr>\n",
       "  </thead>\n",
       "  <tbody>\n",
       "    <tr>\n",
       "      <td>['Juunikuu', 'suveseiklused']</td>\n",
       "    </tr>\n",
       "    <tr>\n",
       "      <td>['Sind']</td>\n",
       "    </tr>\n",
       "    <tr>\n",
       "      <td>['meie']</td>\n",
       "    </tr>\n",
       "    <tr>\n",
       "      <td>['uues', 'reisiportaalis']</td>\n",
       "    </tr>\n",
       "  </tbody>\n",
       "</table>"
      ],
      "text/plain": [
       "Layer(name='np_chunks', attributes=(), spans=SL[EnvelopingSpan(['Juunikuu', 'suveseiklused'], [{}]),\n",
       "EnvelopingSpan(['Sind'], [{}]),\n",
       "EnvelopingSpan(['meie'], [{}]),\n",
       "EnvelopingSpan(['uues', 'reisiportaalis'], [{}])])"
      ]
     },
     "execution_count": 6,
     "metadata": {},
     "output_type": "execute_result"
    }
   ],
   "source": [
    "# Create text and add required layers\n",
    "text = Text('Juunikuu suveseiklused ootavad Sind juba täna meie uues reisiportaalis.')\n",
    "text.tag_layer('morph_analysis')\n",
    "conll_morph_tagger.tag( text )\n",
    "maltparser_tagger.tag( text )\n",
    "# Create NP chunker based on maltparser syntactic analysis\n",
    "from estnltk.taggers.miscellaneous.np_chunker import NounPhraseChunker\n",
    "np_chunker = NounPhraseChunker('maltparser_syntax')\n",
    "np_chunker.tag(text)\n",
    "text.np_chunks"
   ]
  },
  {
   "cell_type": "markdown",
   "metadata": {},
   "source": [
    "---"
   ]
  }
 ],
 "metadata": {
  "kernelspec": {
   "display_name": "Python 3",
   "language": "python",
   "name": "python3"
  },
  "language_info": {
   "codemirror_mode": {
    "name": "ipython",
    "version": 3
   },
   "file_extension": ".py",
   "mimetype": "text/x-python",
   "name": "python",
   "nbconvert_exporter": "python",
   "pygments_lexer": "ipython3",
   "version": "3.8.8"
  }
 },
 "nbformat": 4,
 "nbformat_minor": 2
}
