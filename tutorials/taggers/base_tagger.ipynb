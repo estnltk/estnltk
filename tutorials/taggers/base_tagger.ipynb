{
 "cells": [
  {
   "cell_type": "markdown",
   "metadata": {},
   "source": [
    "# API for taggers and retaggers\n",
    "## Tagger\n",
    "Taggers are used to create layers. Tagger is a properly implemented subclass of the `Tagger` class. Most of EstNLTK's text annotation tools are implemented as taggers, and you can also make your own. To create a tagger, the following steps need to be taken:\n",
    "1. create a subclass of `Tagger`,\n",
    "1. list all the configuration attribute names of the tagger in `conf_param: Sequence[str]`,\n",
    "1. store the output layer name in `output_layer: str`,\n",
    "1. list all attribute names of the output layer in `output_attributes: Sequence[str]`,\n",
    "1. list all layer names that are needed by the tagger as an input in `input_layers: Sequence[str]`,\n",
    "1. define `__init__(self, ...)` initializing all attributes in `conf_param`,\n",
    "1. define `_make_layer_template(self) -> Layer`,\n",
    "1. define `_make_layer(self, raw_text: str, layers: Mapping[str, Layer], status: dict=None) -> Layer`.\n",
    "\n",
    "Note that the **status parameter is deprecated**. To store any metadata use `layer.meta` instead.\n",
    "\n",
    "The assumption is that the mapping `layers` contains all `input_layers`, but it can contain other layers too.\n",
    "\n",
    "Let's assume that we have an initialized tagger `tagger` and a `Text` object `text` with necessary layers.\n",
    "Then\n",
    "```python\n",
    "tagger.tag(text)\n",
    "# or just\n",
    "tagger(text)\n",
    "\n",
    "```\n",
    "creates a new layer and adds it to the `text`. To create a new layer without adding it to the `text` object one can write\n",
    "```python\n",
    "layer = tagger.make_layer(text, layers)\n",
    "```\n",
    "where \n",
    "```python\n",
    "layers = text.layers\n",
    "```\n",
    "or any other proper `dict` of layers not necessarily attached to the `text`. The layer created via `make_layer()` is still associated with the `text` object (so you can inspect locations of layer's annotations in the text), but as it is not attached to the `text` (so you cannot access it via `text[layer.name]` ).\n",
    "\n",
    "Finally, you can use \n",
    "```python\n",
    "layer = tagger.get_layer_template()\n",
    "# or \n",
    "layer = tagger._make_layer_template()\n",
    "```\n",
    "to retrieve a template of the layer -- an empty layer that contains all the proper attribute initializations, but is not associated with any `text` object. You can use `get_layer_template()` to inspect the structure of the layer created by the tagger, and also as a basis on creating a new layer with the tagger. \n",
    "However, not all taggers support the `get_layer_template()` functionality: if the exact configuration of the attribute initializations is not known before `_make_layer()` is called (because it depends on the attributes of the input layers), then the layer template cannot be constructed beforehand.\n",
    "\n",
    "Prettyprint of the tagger object starts with the first non-empty line of the docstring. The attributes in `conf_param` are printed in the given order, protected attributes (name starts with `_`) are not included.\n",
    "\n"
   ]
  },
  {
   "cell_type": "markdown",
   "metadata": {},
   "source": [
    "### Minimal tagger example\n",
    "\n",
    "This is a tagger that creates a layer `minimal` that contains nothing."
   ]
  },
  {
   "cell_type": "code",
   "execution_count": 1,
   "metadata": {},
   "outputs": [
    {
     "data": {
      "text/html": [
       "<h4>Tagger</h4>\n",
       "Minimal tagger example.\n",
       "<table border=\"1\" class=\"dataframe\">\n",
       "  <thead>\n",
       "    <tr style=\"text-align: right;\">\n",
       "      <th>name</th>\n",
       "      <th>output layer</th>\n",
       "      <th>output attributes</th>\n",
       "      <th>input layers</th>\n",
       "    </tr>\n",
       "  </thead>\n",
       "  <tbody>\n",
       "    <tr>\n",
       "      <td>MinimalTagger</td>\n",
       "      <td>minimal</td>\n",
       "      <td>()</td>\n",
       "      <td>()</td>\n",
       "    </tr>\n",
       "  </tbody>\n",
       "</table>\n",
       "No configuration parameters."
      ],
      "text/plain": [
       "MinimalTagger()"
      ]
     },
     "execution_count": 1,
     "metadata": {},
     "output_type": "execute_result"
    }
   ],
   "source": [
    "from estnltk import Span, Layer, Text\n",
    "from estnltk.taggers import Tagger\n",
    "\n",
    "class MinimalTagger(Tagger):\n",
    "    \"\"\"\n",
    "    Minimal tagger example.\n",
    "    \"\"\"\n",
    "    conf_param = ()\n",
    "    output_layer = 'minimal'\n",
    "    output_attributes = ()\n",
    "    input_layers = ()\n",
    "    \n",
    "    def __init__(self):\n",
    "        pass\n",
    "\n",
    "    def _make_layer_template(self):\n",
    "        return Layer(name=self.output_layer, text_object=None)\n",
    "    \n",
    "    def _make_layer(self, text, layers, status=None):\n",
    "        layer = self._make_layer_template()\n",
    "        layer.text_object = text\n",
    "        return layer\n",
    "\n",
    "minimal_tagger = MinimalTagger()\n",
    "minimal_tagger"
   ]
  },
  {
   "cell_type": "code",
   "execution_count": 2,
   "metadata": {},
   "outputs": [
    {
     "data": {
      "text/html": [
       "<table border=\"1\" class=\"dataframe\">\n",
       "  <thead>\n",
       "    <tr style=\"text-align: right;\">\n",
       "      <th>text</th>\n",
       "    </tr>\n",
       "  </thead>\n",
       "  <tbody>\n",
       "    <tr>\n",
       "      <td><div align = \"left\">tere</div></td>\n",
       "    </tr>\n",
       "  </tbody>\n",
       "</table>\n",
       "<table border=\"1\" class=\"dataframe\">\n",
       "  <thead>\n",
       "    <tr style=\"text-align: right;\">\n",
       "      <th>layer name</th>\n",
       "      <th>attributes</th>\n",
       "      <th>parent</th>\n",
       "      <th>enveloping</th>\n",
       "      <th>ambiguous</th>\n",
       "      <th>span count</th>\n",
       "    </tr>\n",
       "  </thead>\n",
       "  <tbody>\n",
       "    <tr>\n",
       "      <td>minimal</td>\n",
       "      <td></td>\n",
       "      <td>None</td>\n",
       "      <td>None</td>\n",
       "      <td>False</td>\n",
       "      <td>0</td>\n",
       "    </tr>\n",
       "  </tbody>\n",
       "</table>"
      ],
      "text/plain": [
       "Text(text='tere')"
      ]
     },
     "execution_count": 2,
     "metadata": {},
     "output_type": "execute_result"
    }
   ],
   "source": [
    "text = Text('tere')\n",
    "minimal_tagger.tag(text)"
   ]
  },
  {
   "cell_type": "code",
   "execution_count": 3,
   "metadata": {},
   "outputs": [
    {
     "data": {
      "text/html": [
       "<h4>Layer</h4>\n",
       "\n",
       "\n",
       "<table border=\"1\" class=\"dataframe\">\n",
       "  <thead>\n",
       "    <tr style=\"text-align: right;\">\n",
       "      <th>layer name</th>\n",
       "      <th>attributes</th>\n",
       "      <th>parent</th>\n",
       "      <th>enveloping</th>\n",
       "      <th>ambiguous</th>\n",
       "      <th>span count</th>\n",
       "    </tr>\n",
       "  </thead>\n",
       "  <tbody>\n",
       "    <tr>\n",
       "      <td>minimal</td>\n",
       "      <td></td>\n",
       "      <td>None</td>\n",
       "      <td>None</td>\n",
       "      <td>False</td>\n",
       "      <td>0</td>\n",
       "    </tr>\n",
       "  </tbody>\n",
       "</table>\n",
       "<table border=\"1\" class=\"dataframe\">\n",
       "  <thead>\n",
       "    <tr style=\"text-align: right;\">\n",
       "      <th>text</th>\n",
       "    </tr>\n",
       "  </thead>\n",
       "  <tbody>\n",
       "  </tbody>\n",
       "</table>"
      ],
      "text/plain": [
       "Layer(name='minimal', attributes=(), spans=SL[])"
      ]
     },
     "execution_count": 3,
     "metadata": {},
     "output_type": "execute_result"
    }
   ],
   "source": [
    "text.minimal"
   ]
  },
  {
   "cell_type": "code",
   "execution_count": 4,
   "metadata": {},
   "outputs": [
    {
     "data": {
      "text/html": [
       "<h4>Layer</h4>\n",
       "\n",
       "No Text object.\n",
       "<table border=\"1\" class=\"dataframe\">\n",
       "  <thead>\n",
       "    <tr style=\"text-align: right;\">\n",
       "      <th>layer name</th>\n",
       "      <th>attributes</th>\n",
       "      <th>parent</th>\n",
       "      <th>enveloping</th>\n",
       "      <th>ambiguous</th>\n",
       "      <th>span count</th>\n",
       "    </tr>\n",
       "  </thead>\n",
       "  <tbody>\n",
       "    <tr>\n",
       "      <td>minimal</td>\n",
       "      <td></td>\n",
       "      <td>None</td>\n",
       "      <td>None</td>\n",
       "      <td>False</td>\n",
       "      <td>0</td>\n",
       "    </tr>\n",
       "  </tbody>\n",
       "</table>\n",
       "<table border=\"1\" class=\"dataframe\">\n",
       "  <thead>\n",
       "    <tr style=\"text-align: right;\">\n",
       "      <th>start</th>\n",
       "      <th>end</th>\n",
       "    </tr>\n",
       "  </thead>\n",
       "  <tbody>\n",
       "  </tbody>\n",
       "</table>"
      ],
      "text/plain": [
       "Layer(name='minimal', attributes=(), spans=SL[])"
      ]
     },
     "execution_count": 4,
     "metadata": {},
     "output_type": "execute_result"
    }
   ],
   "source": [
    "minimal_tagger.get_layer_template()"
   ]
  },
  {
   "cell_type": "markdown",
   "metadata": {},
   "source": [
    "### Longer Example\n",
    "\n",
    "This is an example of a tagger that tags numbers in the text. "
   ]
  },
  {
   "cell_type": "code",
   "execution_count": 5,
   "metadata": {},
   "outputs": [
    {
     "data": {
      "text/html": [
       "<h4>Tagger</h4>\n",
       "Tags numbers.\n",
       "<table border=\"1\" class=\"dataframe\">\n",
       "  <thead>\n",
       "    <tr style=\"text-align: right;\">\n",
       "      <th>name</th>\n",
       "      <th>output layer</th>\n",
       "      <th>output attributes</th>\n",
       "      <th>input layers</th>\n",
       "    </tr>\n",
       "  </thead>\n",
       "  <tbody>\n",
       "    <tr>\n",
       "      <td>NumberTagger</td>\n",
       "      <td>numbers</td>\n",
       "      <td>()</td>\n",
       "      <td>()</td>\n",
       "    </tr>\n",
       "  </tbody>\n",
       "</table>\n",
       "<h4>Configuration</h4>\n",
       "<table border=\"1\" class=\"dataframe\">\n",
       "  <tbody>\n",
       "    <tr>\n",
       "      <th>regex</th>\n",
       "      <td>&lt;Regex -?\\d+&gt;</td>\n",
       "    </tr>\n",
       "  </tbody>\n",
       "</table>"
      ],
      "text/plain": [
       "NumberTagger(input_layers=(), output_layer=numbers, output_attributes=(), regex=<Regex -?\\d+>)"
      ]
     },
     "execution_count": 5,
     "metadata": {},
     "output_type": "execute_result"
    }
   ],
   "source": [
    "import regex as re\n",
    "\n",
    "\n",
    "class NumberTagger(Tagger):\n",
    "    \"\"\"Tags numbers.\"\"\"\n",
    "\n",
    "    conf_param = ['regex']\n",
    "\n",
    "    def __init__(self,\n",
    "                 output_layer='numbers',\n",
    "                 output_attributes=(),\n",
    "                 input_layers=()           \n",
    "                ):\n",
    "        self.output_layer = output_layer\n",
    "        self.output_attributes = output_attributes\n",
    "        self.input_layers = input_layers\n",
    "        self.regex = re.compile('-?\\d+')\n",
    "\n",
    "    def _make_layer_template(self):\n",
    "        return Layer(name=self.output_layer, text_object=None)\n",
    "\n",
    "    def _make_layer(self, text, layers, status=None):\n",
    "        layer = self._make_layer_template()\n",
    "        layer.text_object = text\n",
    "        for m in self.regex.finditer(text.text):\n",
    "            layer.add_annotation((m.start(), m.end()))\n",
    "        layer.meta['NumberTagger message'] = 'successfully created {!r} layer'.format(self.output_layer)\n",
    "        return layer\n",
    "\n",
    "number_tagger = NumberTagger()\n",
    "number_tagger"
   ]
  },
  {
   "cell_type": "code",
   "execution_count": 6,
   "metadata": {
    "scrolled": false
   },
   "outputs": [
    {
     "data": {
      "text/html": [
       "<h4>Layer</h4>\n",
       "<h4>Metadata</h4>\n",
       "<table border=\"1\" class=\"dataframe\">\n",
       "  <tbody>\n",
       "    <tr>\n",
       "      <td>NumberTagger message</td>\n",
       "      <td>successfully created 'numbers' layer</td>\n",
       "    </tr>\n",
       "  </tbody>\n",
       "</table>\n",
       "\n",
       "<table border=\"1\" class=\"dataframe\">\n",
       "  <thead>\n",
       "    <tr style=\"text-align: right;\">\n",
       "      <th>layer name</th>\n",
       "      <th>attributes</th>\n",
       "      <th>parent</th>\n",
       "      <th>enveloping</th>\n",
       "      <th>ambiguous</th>\n",
       "      <th>span count</th>\n",
       "    </tr>\n",
       "  </thead>\n",
       "  <tbody>\n",
       "    <tr>\n",
       "      <td>numbers</td>\n",
       "      <td></td>\n",
       "      <td>None</td>\n",
       "      <td>None</td>\n",
       "      <td>False</td>\n",
       "      <td>2</td>\n",
       "    </tr>\n",
       "  </tbody>\n",
       "</table>\n",
       "<table border=\"1\" class=\"dataframe\">\n",
       "  <thead>\n",
       "    <tr style=\"text-align: right;\">\n",
       "      <th>text</th>\n",
       "    </tr>\n",
       "  </thead>\n",
       "  <tbody>\n",
       "    <tr>\n",
       "      <td>-123</td>\n",
       "    </tr>\n",
       "    <tr>\n",
       "      <td>45</td>\n",
       "    </tr>\n",
       "  </tbody>\n",
       "</table>"
      ],
      "text/plain": [
       "Layer(name='numbers', attributes=(), spans=SL[Span('-123', [{}]),\n",
       "Span('45', [{}])])"
      ]
     },
     "execution_count": 6,
     "metadata": {},
     "output_type": "execute_result"
    }
   ],
   "source": [
    "text = Text('-123,45')\n",
    "number_tagger(text)\n",
    "text.numbers"
   ]
  },
  {
   "cell_type": "markdown",
   "metadata": {},
   "source": [
    "**Note:**\n",
    "\n",
    "* Taggers can create different types of layers, such as a _child layer_ , _enveloping layer_ and _ambiguous layer_ . For details, see the tutorial [low_level_layer_operations.ipynb](../system/low_level_layer_operations.ipynb)."
   ]
  },
  {
   "cell_type": "markdown",
   "metadata": {},
   "source": [
    "## Retagger\n",
    "**Retagger** changes an existing layer. The following **Retagger** adds `value` attribute to the numbers layer."
   ]
  },
  {
   "cell_type": "code",
   "execution_count": 7,
   "metadata": {},
   "outputs": [
    {
     "data": {
      "text/html": [
       "<h4>EvaluatingRetagger(Retagger)</h4>\n",
       "Evaluates parsed numbers in input layer.\n",
       "<table border=\"1\" class=\"dataframe\">\n",
       "  <thead>\n",
       "    <tr style=\"text-align: right;\">\n",
       "      <th>name</th>\n",
       "      <th>output layer</th>\n",
       "      <th>output attributes</th>\n",
       "      <th>input layers</th>\n",
       "    </tr>\n",
       "  </thead>\n",
       "  <tbody>\n",
       "    <tr>\n",
       "      <td>EvaluatingRetagger</td>\n",
       "      <td>numbers</td>\n",
       "      <td>('value',)</td>\n",
       "      <td>('numbers',)</td>\n",
       "    </tr>\n",
       "  </tbody>\n",
       "</table>\n",
       "No configuration parameters."
      ],
      "text/plain": [
       "EvaluatingRetagger()"
      ]
     },
     "execution_count": 7,
     "metadata": {},
     "output_type": "execute_result"
    }
   ],
   "source": [
    "from copy import deepcopy\n",
    "from estnltk.taggers import Retagger\n",
    "\n",
    "\n",
    "class EvaluatingRetagger(Retagger):\n",
    "    \"\"\"Evaluates parsed numbers in input layer.\"\"\"\n",
    "    conf_param = ()\n",
    "    \n",
    "    def __init__(self, output_layer='numbers', input_layers=['numbers']):\n",
    "        self.output_layer = output_layer\n",
    "        self.input_layers = input_layers\n",
    "        self.output_attributes = ['value']\n",
    "\n",
    "    def _change_layer(self, raw_text, layers, status):\n",
    "        layer = layers[self.output_layer]\n",
    "        layer.attributes += tuple(self.output_attributes)\n",
    "        for span in layers[self.input_layers[0]]:\n",
    "            span.value = int(span.text)\n",
    "        layer.meta['EvaluatingRetagger message'] = \"successfully added 'value' attribute\"\n",
    "\n",
    "\n",
    "evaluating_retagger = EvaluatingRetagger('numbers')\n",
    "evaluating_retagger"
   ]
  },
  {
   "cell_type": "code",
   "execution_count": 8,
   "metadata": {},
   "outputs": [
    {
     "data": {
      "text/html": [
       "<table border=\"1\" class=\"dataframe\">\n",
       "  <thead>\n",
       "    <tr style=\"text-align: right;\">\n",
       "      <th>text</th>\n",
       "    </tr>\n",
       "  </thead>\n",
       "  <tbody>\n",
       "    <tr>\n",
       "      <td><div align = \"left\">-123,45</div></td>\n",
       "    </tr>\n",
       "  </tbody>\n",
       "</table>\n",
       "<table border=\"1\" class=\"dataframe\">\n",
       "  <thead>\n",
       "    <tr style=\"text-align: right;\">\n",
       "      <th>layer name</th>\n",
       "      <th>attributes</th>\n",
       "      <th>parent</th>\n",
       "      <th>enveloping</th>\n",
       "      <th>ambiguous</th>\n",
       "      <th>span count</th>\n",
       "    </tr>\n",
       "  </thead>\n",
       "  <tbody>\n",
       "    <tr>\n",
       "      <td>numbers</td>\n",
       "      <td>value</td>\n",
       "      <td>None</td>\n",
       "      <td>None</td>\n",
       "      <td>False</td>\n",
       "      <td>2</td>\n",
       "    </tr>\n",
       "  </tbody>\n",
       "</table>"
      ],
      "text/plain": [
       "Text(text='-123,45')"
      ]
     },
     "execution_count": 8,
     "metadata": {},
     "output_type": "execute_result"
    }
   ],
   "source": [
    "evaluating_retagger.retag(text)"
   ]
  },
  {
   "cell_type": "code",
   "execution_count": 9,
   "metadata": {},
   "outputs": [
    {
     "data": {
      "text/html": [
       "<h4>Layer</h4>\n",
       "<h4>Metadata</h4>\n",
       "<table border=\"1\" class=\"dataframe\">\n",
       "  <tbody>\n",
       "    <tr>\n",
       "      <td>EvaluatingRetagger message</td>\n",
       "      <td>successfully added 'value' attribute</td>\n",
       "    </tr>\n",
       "    <tr>\n",
       "      <td>NumberTagger message</td>\n",
       "      <td>successfully created 'numbers' layer</td>\n",
       "    </tr>\n",
       "  </tbody>\n",
       "</table>\n",
       "\n",
       "<table border=\"1\" class=\"dataframe\">\n",
       "  <thead>\n",
       "    <tr style=\"text-align: right;\">\n",
       "      <th>layer name</th>\n",
       "      <th>attributes</th>\n",
       "      <th>parent</th>\n",
       "      <th>enveloping</th>\n",
       "      <th>ambiguous</th>\n",
       "      <th>span count</th>\n",
       "    </tr>\n",
       "  </thead>\n",
       "  <tbody>\n",
       "    <tr>\n",
       "      <td>numbers</td>\n",
       "      <td>value</td>\n",
       "      <td>None</td>\n",
       "      <td>None</td>\n",
       "      <td>False</td>\n",
       "      <td>2</td>\n",
       "    </tr>\n",
       "  </tbody>\n",
       "</table>\n",
       "<table border=\"1\" class=\"dataframe\">\n",
       "  <thead>\n",
       "    <tr style=\"text-align: right;\">\n",
       "      <th>text</th>\n",
       "      <th>value</th>\n",
       "    </tr>\n",
       "  </thead>\n",
       "  <tbody>\n",
       "    <tr>\n",
       "      <td>-123</td>\n",
       "      <td>-123</td>\n",
       "    </tr>\n",
       "    <tr>\n",
       "      <td>45</td>\n",
       "      <td>45</td>\n",
       "    </tr>\n",
       "  </tbody>\n",
       "</table>"
      ],
      "text/plain": [
       "Layer(name='numbers', attributes=('value',), spans=SL[Span('-123', [{'value': -123}]),\n",
       "Span('45', [{'value': 45}])])"
      ]
     },
     "execution_count": 9,
     "metadata": {},
     "output_type": "execute_result"
    }
   ],
   "source": [
    "text.numbers"
   ]
  }
 ],
 "metadata": {
  "anaconda-cloud": {},
  "kernelspec": {
   "display_name": "Python 3 (ipykernel)",
   "language": "python",
   "name": "python3"
  },
  "language_info": {
   "codemirror_mode": {
    "name": "ipython",
    "version": 3
   },
   "file_extension": ".py",
   "mimetype": "text/x-python",
   "name": "python",
   "nbconvert_exporter": "python",
   "pygments_lexer": "ipython3",
   "version": "3.9.12"
  }
 },
 "nbformat": 4,
 "nbformat_minor": 2
}
