{
 "cells": [
  {
   "cell_type": "markdown",
   "metadata": {},
   "source": [
    "# CombinedTagger\n",
    "Runs input taggers in parallel and resolves conflicts. "
   ]
  },
  {
   "cell_type": "code",
   "execution_count": 1,
   "metadata": {},
   "outputs": [],
   "source": [
    "from estnltk import Text\n",
    "from estnltk.taggers import RobustDateNumberTagger\n",
    "from estnltk.taggers import AddressPartTagger\n",
    "from estnltk.taggers import RegexTagger\n",
    "from estnltk.taggers import CombinedTagger"
   ]
  },
  {
   "cell_type": "markdown",
   "metadata": {},
   "source": [
    "Create a tagger combining `RobustDateNumberTagger` and `AddressPartTagger`."
   ]
  },
  {
   "cell_type": "code",
   "execution_count": 2,
   "metadata": {
    "scrolled": false
   },
   "outputs": [
    {
     "data": {
      "text/html": [
       "<h4>Tagger</h4>\n",
       "Runs input taggers in parallel, merges the resulting layers and resolves conflicts.\n",
       "<table border=\"1\" class=\"dataframe\">\n",
       "  <thead>\n",
       "    <tr style=\"text-align: right;\">\n",
       "      <th>name</th>\n",
       "      <th>output layer</th>\n",
       "      <th>output attributes</th>\n",
       "      <th>input layers</th>\n",
       "    </tr>\n",
       "  </thead>\n",
       "  <tbody>\n",
       "    <tr>\n",
       "      <td>CombinedTagger</td>\n",
       "      <td>combined</td>\n",
       "      <td>('grammar_symbol',)</td>\n",
       "      <td>('words',)</td>\n",
       "    </tr>\n",
       "  </tbody>\n",
       "</table>\n",
       "<h4>Configuration</h4>\n",
       "<table border=\"1\" class=\"dataframe\">\n",
       "  <tbody>\n",
       "    <tr>\n",
       "      <th>taggers</th>\n",
       "      <td>[RobustDateNumberTagger(input_layers=(), output_layer=dates_numbers, output_attr ..., type: &lt;class 'list'&gt;, length: 2</td>\n",
       "    </tr>\n",
       "    <tr>\n",
       "      <th>priority_attribute</th>\n",
       "      <td>None</td>\n",
       "    </tr>\n",
       "    <tr>\n",
       "      <th>conflict_resolving_strategy</th>\n",
       "      <td>ALL</td>\n",
       "    </tr>\n",
       "  </tbody>\n",
       "</table>"
      ],
      "text/plain": [
       "CombinedTagger(input_layers=('words',), output_layer=combined, output_attributes=('grammar_symbol',), taggers=[RobustDateNumberTagger(input_layers=(), output_layer=dates_numbers, output_attr ..., type: <class 'list'>, length: 2, priority_attribute=None, conflict_resolving_strategy=ALL)"
      ]
     },
     "execution_count": 2,
     "metadata": {},
     "output_type": "execute_result"
    }
   ],
   "source": [
    "tagger = CombinedTagger(output_layer='combined',\n",
    "                        taggers=[RobustDateNumberTagger(), AddressPartTagger()],\n",
    "                        output_attributes=['grammar_symbol'],\n",
    "                        priority_attribute=None\n",
    "                        )\n",
    "tagger"
   ]
  },
  {
   "cell_type": "code",
   "execution_count": 3,
   "metadata": {},
   "outputs": [
    {
     "data": {
      "text/html": [
       "<h4>Layer</h4>\n",
       "\n",
       "\n",
       "<table border=\"1\" class=\"dataframe\">\n",
       "  <thead>\n",
       "    <tr style=\"text-align: right;\">\n",
       "      <th>layer name</th>\n",
       "      <th>attributes</th>\n",
       "      <th>parent</th>\n",
       "      <th>enveloping</th>\n",
       "      <th>ambiguous</th>\n",
       "      <th>span count</th>\n",
       "    </tr>\n",
       "  </thead>\n",
       "  <tbody>\n",
       "    <tr>\n",
       "      <td>combined</td>\n",
       "      <td>grammar_symbol</td>\n",
       "      <td>None</td>\n",
       "      <td>None</td>\n",
       "      <td>True</td>\n",
       "      <td>7</td>\n",
       "    </tr>\n",
       "  </tbody>\n",
       "</table>\n",
       "<table border=\"1\" class=\"dataframe\">\n",
       "  <thead>\n",
       "    <tr style=\"text-align: right;\">\n",
       "      <th>text</th>\n",
       "      <th>grammar_symbol</th>\n",
       "    </tr>\n",
       "  </thead>\n",
       "  <tbody>\n",
       "    <tr>\n",
       "      <td>23</td>\n",
       "      <td>MAJA</td>\n",
       "    </tr>\n",
       "    <tr>\n",
       "      <td>23.01.2018</td>\n",
       "      <td>DATE</td>\n",
       "    </tr>\n",
       "    <tr>\n",
       "      <td>01</td>\n",
       "      <td>MAJA</td>\n",
       "    </tr>\n",
       "    <tr>\n",
       "      <td>2018</td>\n",
       "      <td>RANDOM_TEXT</td>\n",
       "    </tr>\n",
       "    <tr>\n",
       "      <td>Tartu</td>\n",
       "      <td>ASULA</td>\n",
       "    </tr>\n",
       "    <tr>\n",
       "      <td>Tartu maantee</td>\n",
       "      <td>TÄNAV</td>\n",
       "    </tr>\n",
       "    <tr>\n",
       "      <td>10</td>\n",
       "      <td>NUMBER</td>\n",
       "    </tr>\n",
       "    <tr>\n",
       "      <td></td>\n",
       "      <td>MAJA</td>\n",
       "    </tr>\n",
       "  </tbody>\n",
       "</table>"
      ],
      "text/plain": [
       "Layer(name='combined', attributes=('grammar_symbol',), spans=SL[Span('23', [{'grammar_symbol': 'MAJA'}]),\n",
       "Span('23.01.2018', [{'grammar_symbol': 'DATE'}]),\n",
       "Span('01', [{'grammar_symbol': 'MAJA'}]),\n",
       "Span('2018', [{'grammar_symbol': 'RANDOM_TEXT'}]),\n",
       "Span('Tartu', [{'grammar_symbol': 'ASULA'}]),\n",
       "Span('Tartu maantee', [{'grammar_symbol': 'TÄNAV'}]),\n",
       "Span('10', [{'grammar_symbol': 'NUMBER'}, {'grammar_symbol': 'MAJA'}])])"
      ]
     },
     "execution_count": 3,
     "metadata": {},
     "output_type": "execute_result"
    }
   ],
   "source": [
    "text = Text('23.01.2018 Tartu maantee 10')\n",
    "text.tag_layer(['words'])\n",
    "\n",
    "tagger.tag(text)\n",
    "text.combined"
   ]
  },
  {
   "cell_type": "markdown",
   "metadata": {},
   "source": [
    "## `add_tagger`\n",
    "Add new taggers to the combinet tagger."
   ]
  },
  {
   "cell_type": "code",
   "execution_count": 4,
   "metadata": {},
   "outputs": [],
   "source": [
    "regex_tagger = RegexTagger(vocabulary=[{'_regex_pattern_': 'tee'}])\n",
    "\n",
    "tagger.add_tagger(regex_tagger)"
   ]
  },
  {
   "cell_type": "code",
   "execution_count": 5,
   "metadata": {},
   "outputs": [
    {
     "data": {
      "text/html": [
       "<h4>Layer</h4>\n",
       "\n",
       "\n",
       "<table border=\"1\" class=\"dataframe\">\n",
       "  <thead>\n",
       "    <tr style=\"text-align: right;\">\n",
       "      <th>layer name</th>\n",
       "      <th>attributes</th>\n",
       "      <th>parent</th>\n",
       "      <th>enveloping</th>\n",
       "      <th>ambiguous</th>\n",
       "      <th>span count</th>\n",
       "    </tr>\n",
       "  </thead>\n",
       "  <tbody>\n",
       "    <tr>\n",
       "      <td>combined</td>\n",
       "      <td>grammar_symbol</td>\n",
       "      <td>None</td>\n",
       "      <td>None</td>\n",
       "      <td>True</td>\n",
       "      <td>8</td>\n",
       "    </tr>\n",
       "  </tbody>\n",
       "</table>\n",
       "<table border=\"1\" class=\"dataframe\">\n",
       "  <thead>\n",
       "    <tr style=\"text-align: right;\">\n",
       "      <th>text</th>\n",
       "      <th>grammar_symbol</th>\n",
       "    </tr>\n",
       "  </thead>\n",
       "  <tbody>\n",
       "    <tr>\n",
       "      <td>23</td>\n",
       "      <td>MAJA</td>\n",
       "    </tr>\n",
       "    <tr>\n",
       "      <td>23.01.2018</td>\n",
       "      <td>DATE</td>\n",
       "    </tr>\n",
       "    <tr>\n",
       "      <td>01</td>\n",
       "      <td>MAJA</td>\n",
       "    </tr>\n",
       "    <tr>\n",
       "      <td>2018</td>\n",
       "      <td>RANDOM_TEXT</td>\n",
       "    </tr>\n",
       "    <tr>\n",
       "      <td>Tartu</td>\n",
       "      <td>ASULA</td>\n",
       "    </tr>\n",
       "    <tr>\n",
       "      <td>Tartu maantee</td>\n",
       "      <td>TÄNAV</td>\n",
       "    </tr>\n",
       "    <tr>\n",
       "      <td>tee</td>\n",
       "      <td>None</td>\n",
       "    </tr>\n",
       "    <tr>\n",
       "      <td>10</td>\n",
       "      <td>NUMBER</td>\n",
       "    </tr>\n",
       "    <tr>\n",
       "      <td></td>\n",
       "      <td>MAJA</td>\n",
       "    </tr>\n",
       "  </tbody>\n",
       "</table>"
      ],
      "text/plain": [
       "Layer(name='combined', attributes=('grammar_symbol',), spans=SL[Span('23', [{'grammar_symbol': 'MAJA'}]),\n",
       "Span('23.01.2018', [{'grammar_symbol': 'DATE'}]),\n",
       "Span('01', [{'grammar_symbol': 'MAJA'}]),\n",
       "Span('2018', [{'grammar_symbol': 'RANDOM_TEXT'}]),\n",
       "Span('Tartu', [{'grammar_symbol': 'ASULA'}]),\n",
       "Span('Tartu maantee', [{'grammar_symbol': 'TÄNAV'}]),\n",
       "Span('tee', [{'grammar_symbol': None}]),\n",
       "Span('10', [{'grammar_symbol': 'NUMBER'}, {'grammar_symbol': 'MAJA'}])])"
      ]
     },
     "execution_count": 5,
     "metadata": {},
     "output_type": "execute_result"
    }
   ],
   "source": [
    "text = Text('23.01.2018 Tartu maantee 10').tag_layer(['words'])\n",
    "\n",
    "tagger.tag(text)\n",
    "\n",
    "text.combined"
   ]
  }
 ],
 "metadata": {
  "kernelspec": {
   "display_name": "Python 3",
   "language": "python",
   "name": "python3"
  },
  "language_info": {
   "codemirror_mode": {
    "name": "ipython",
    "version": 3
   },
   "file_extension": ".py",
   "mimetype": "text/x-python",
   "name": "python",
   "nbconvert_exporter": "python",
   "pygments_lexer": "ipython3",
   "version": "3.8.8"
  }
 },
 "nbformat": 4,
 "nbformat_minor": 2
}
