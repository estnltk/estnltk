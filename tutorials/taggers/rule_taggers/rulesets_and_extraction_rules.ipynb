{
 "cells": [
  {
   "cell_type": "markdown",
   "id": "71ee9e9f",
   "metadata": {},
   "source": [
    "## Rulesets and Extraction Rules"
   ]
  },
  {
   "cell_type": "markdown",
   "id": "69552de7",
   "metadata": {},
   "source": [
    "Rule-based taggers need rules for tagging. These rules are defined using ExtractionRule classes and added to rulesets which can be passed to the taggers. There are two kinds of extraction rules: StaticExtractionRule and DynamicExtractionRule. In addition, there are also two kinds of rulesets: AmbiguousRuleset and Ruleset."
   ]
  },
  {
   "cell_type": "markdown",
   "id": "8849ee36",
   "metadata": {},
   "source": [
    "#### Ruleset and AmbiguousRuleset"
   ]
  },
  {
   "cell_type": "markdown",
   "id": "96707a0a",
   "metadata": {},
   "source": [
    "Ruleset and AmbiguousRuleset behave very similarily and the only difference is that AmbiguousRuleset allows two rules to have the same left-hand side (pattern). Here are some very simple examples:"
   ]
  },
  {
   "cell_type": "code",
   "execution_count": 1,
   "id": "fc8e293f",
   "metadata": {},
   "outputs": [
    {
     "data": {
      "text/plain": [
       "[StaticExtractionRule(pattern='abc', attributes={'value': 'xyz'}, group=0, priority=0),\n",
       " StaticExtractionRule(pattern='pattern', attributes={'value': 'foobar'}, group=0, priority=0)]"
      ]
     },
     "execution_count": 1,
     "metadata": {},
     "output_type": "execute_result"
    }
   ],
   "source": [
    "from estnltk.taggers.system.rule_taggers import Ruleset, AmbiguousRuleset, StaticExtractionRule\n",
    "\n",
    "#this is a basic working example\n",
    "ruleset = Ruleset()\n",
    "different_rules = [StaticExtractionRule(pattern=\"abc\",attributes={\"value\": \"xyz\"}),\n",
    "                   StaticExtractionRule(pattern=\"pattern\",attributes={\"value\": \"foobar\"})]\n",
    "ruleset.add_rules(different_rules)\n",
    "\n",
    "#print the (static) rules currently in the ruleset\n",
    "ruleset.static_rules"
   ]
  },
  {
   "cell_type": "code",
   "execution_count": 2,
   "id": "15ca6933",
   "metadata": {},
   "outputs": [
    {
     "name": "stdout",
     "output_type": "stream",
     "text": [
      "Two rules in ruleset give a conflicting attribute definition for the same pattern but ambiguous ruleset is not allowed.\n"
     ]
    }
   ],
   "source": [
    "#duplicate rules in Ruleset\n",
    "ruleset = Ruleset()\n",
    "same_rules = [StaticExtractionRule(pattern=\"abc\",attributes={\"value\": \"xyz\"}),\n",
    "              StaticExtractionRule(pattern=\"abc\",attributes={\"value\": \"foobar\"})]\n",
    "try:\n",
    "    ruleset.add_rules(same_rules)\n",
    "except ValueError as err:\n",
    "    print(err)"
   ]
  },
  {
   "cell_type": "markdown",
   "id": "eb12d1b5",
   "metadata": {},
   "source": [
    "Note that only the pattern of the rules must be different for the rules to be allowed in Ruleset. Other properties are not checked. In an AmbiguousRuleset, all rules are allowed even if they have the same pattern:"
   ]
  },
  {
   "cell_type": "code",
   "execution_count": 3,
   "id": "ffb80f1b",
   "metadata": {},
   "outputs": [
    {
     "data": {
      "text/plain": [
       "[StaticExtractionRule(pattern='abc', attributes={'value': 'xyz'}, group=0, priority=0),\n",
       " StaticExtractionRule(pattern='abc', attributes={'value': 'foobar'}, group=0, priority=0)]"
      ]
     },
     "execution_count": 3,
     "metadata": {},
     "output_type": "execute_result"
    }
   ],
   "source": [
    "#duplicate rules in AmbiguousRuleset\n",
    "ruleset = AmbiguousRuleset()\n",
    "same_rules = [StaticExtractionRule(pattern=\"abc\",attributes={\"value\": \"xyz\"}),\n",
    "              StaticExtractionRule(pattern=\"abc\",attributes={\"value\": \"foobar\"})]\n",
    "ruleset.add_rules(same_rules)\n",
    "\n",
    "ruleset.static_rules"
   ]
  },
  {
   "cell_type": "markdown",
   "id": "b8022724",
   "metadata": {},
   "source": [
    "As can be seen, rules can be added to a ruleset with the `add_rules` method which takes a list of rules as an argument. It is also possible to give the rules as an argument when creating the ruleset or have the ruleset read the rules from a file."
   ]
  },
  {
   "cell_type": "code",
   "execution_count": 4,
   "id": "3f78918a",
   "metadata": {},
   "outputs": [
    {
     "data": {
      "text/plain": [
       "[StaticExtractionRule(pattern='abc', attributes={'value': 'xyz'}, group=0, priority=0),\n",
       " StaticExtractionRule(pattern='abc', attributes={'value': 'foobar'}, group=0, priority=0)]"
      ]
     },
     "execution_count": 4,
     "metadata": {},
     "output_type": "execute_result"
    }
   ],
   "source": [
    "#identical result to the approach above\n",
    "ruleset = AmbiguousRuleset(same_rules)\n",
    "ruleset.static_rules"
   ]
  },
  {
   "cell_type": "code",
   "execution_count": 5,
   "id": "5a9b87ee",
   "metadata": {},
   "outputs": [
    {
     "data": {
      "text/plain": [
       "[StaticExtractionRule(pattern=('tundma', 'inimene'), attributes={'value': 'TI_1'}, group=0, priority=0),\n",
       " StaticExtractionRule(pattern=('päike',), attributes={'value': 'P'}, group=0, priority=0),\n",
       " StaticExtractionRule(pattern=('tundma', 'inimene'), attributes={'value': 'TI_2'}, group=0, priority=0),\n",
       " StaticExtractionRule(pattern=('tundma', 'inimene', 'palju'), attributes={'value': 'TIP'}, group=0, priority=0)]"
      ]
     },
     "execution_count": 5,
     "metadata": {},
     "output_type": "execute_result"
    }
   ],
   "source": [
    "#read from a file\n",
    "ruleset = AmbiguousRuleset()\n",
    "ruleset.load(\"phrase_vocabulary.csv\")\n",
    "ruleset.static_rules"
   ]
  },
  {
   "cell_type": "markdown",
   "id": "7cda5cb0",
   "metadata": {},
   "source": [
    "Only static rules can be created by reading from a file.\n",
    "\n",
    "Also note the format necessary for the csv file:\n",
    "* The first header row must contain attribute names for rules.\n",
    "* The second header row must contain attribute types for each column.\n",
    "* Attribute type must be int, float, regex, or string.\n",
    "* The remaining rows must be the rules. All columns must be filled."
   ]
  },
  {
   "cell_type": "code",
   "execution_count": 6,
   "id": "441c9119",
   "metadata": {},
   "outputs": [
    {
     "name": "stdout",
     "output_type": "stream",
     "text": [
      "                       _phrase_   value\n",
      "0                      callable  string\n",
      "1           'tundma', 'inimene'    TI_1\n",
      "2                      'päike',       P\n",
      "3           'tundma', 'inimene'    TI_2\n",
      "4  'tundma', 'inimene', 'palju'     TIP\n"
     ]
    }
   ],
   "source": [
    "from pandas import read_csv\n",
    "\n",
    "print(read_csv(\"phrase_vocabulary.csv\"))"
   ]
  },
  {
   "cell_type": "markdown",
   "id": "ea1174f1",
   "metadata": {},
   "source": [
    "#### StaticExtractionRule"
   ]
  },
  {
   "cell_type": "markdown",
   "id": "7160b6ce",
   "metadata": {},
   "source": [
    "Some examples of StaticExtractionRules were already above. StaticExtractionRule is a data structure which defines rules with static attributes. It takes as parameters a pattern to match and a dictionary of attributes. It can optionally be given a group and a priority as well. It decorates the extracted spans with the intended attribute values. By default, groups and priorities are ignored but they can be used to resolve conflicts."
   ]
  },
  {
   "cell_type": "code",
   "execution_count": 7,
   "id": "2db40400",
   "metadata": {},
   "outputs": [],
   "source": [
    "rules = [StaticExtractionRule(pattern=\"abc\",attributes={\"value\": \"xyz\"}),\n",
    "         StaticExtractionRule(pattern=\"abc\",attributes={\"value\": \"foobar\"})]"
   ]
  },
  {
   "cell_type": "code",
   "execution_count": 8,
   "id": "077669f0",
   "metadata": {},
   "outputs": [],
   "source": [
    "ruleset = AmbiguousRuleset(rules)"
   ]
  },
  {
   "cell_type": "code",
   "execution_count": 9,
   "id": "c820354b",
   "metadata": {},
   "outputs": [],
   "source": [
    "from estnltk.taggers.system.rule_taggers import SubstringTagger\n",
    "tagger = SubstringTagger(ruleset=ruleset,output_attributes=['value'])"
   ]
  },
  {
   "cell_type": "code",
   "execution_count": 10,
   "id": "751f8a69",
   "metadata": {},
   "outputs": [],
   "source": [
    "from estnltk import Text\n",
    "\n",
    "tekst = Text(\"abcdef\")"
   ]
  },
  {
   "cell_type": "code",
   "execution_count": 11,
   "id": "4d29d350",
   "metadata": {},
   "outputs": [
    {
     "data": {
      "text/html": [
       "<table border=\"1\" class=\"dataframe\">\n",
       "  <thead>\n",
       "    <tr style=\"text-align: right;\">\n",
       "      <th>text</th>\n",
       "    </tr>\n",
       "  </thead>\n",
       "  <tbody>\n",
       "    <tr>\n",
       "      <td><div align = \"left\">abcdef</div></td>\n",
       "    </tr>\n",
       "  </tbody>\n",
       "</table>\n",
       "<table border=\"1\" class=\"dataframe\">\n",
       "  <thead>\n",
       "    <tr style=\"text-align: right;\">\n",
       "      <th>layer name</th>\n",
       "      <th>attributes</th>\n",
       "      <th>parent</th>\n",
       "      <th>enveloping</th>\n",
       "      <th>ambiguous</th>\n",
       "      <th>span count</th>\n",
       "    </tr>\n",
       "  </thead>\n",
       "  <tbody>\n",
       "    <tr>\n",
       "      <td>terms</td>\n",
       "      <td>value</td>\n",
       "      <td>None</td>\n",
       "      <td>None</td>\n",
       "      <td>True</td>\n",
       "      <td>1</td>\n",
       "    </tr>\n",
       "  </tbody>\n",
       "</table>"
      ],
      "text/plain": [
       "Text(text='abcdef')"
      ]
     },
     "execution_count": 11,
     "metadata": {},
     "output_type": "execute_result"
    }
   ],
   "source": [
    "tagger.tag(tekst)"
   ]
  },
  {
   "cell_type": "code",
   "execution_count": 12,
   "id": "b26665e8",
   "metadata": {},
   "outputs": [
    {
     "data": {
      "text/html": [
       "<h4>Layer</h4>\n",
       "\n",
       "\n",
       "<table border=\"1\" class=\"dataframe\">\n",
       "  <thead>\n",
       "    <tr style=\"text-align: right;\">\n",
       "      <th>layer name</th>\n",
       "      <th>attributes</th>\n",
       "      <th>parent</th>\n",
       "      <th>enveloping</th>\n",
       "      <th>ambiguous</th>\n",
       "      <th>span count</th>\n",
       "    </tr>\n",
       "  </thead>\n",
       "  <tbody>\n",
       "    <tr>\n",
       "      <td>terms</td>\n",
       "      <td>value</td>\n",
       "      <td>None</td>\n",
       "      <td>None</td>\n",
       "      <td>True</td>\n",
       "      <td>1</td>\n",
       "    </tr>\n",
       "  </tbody>\n",
       "</table>\n",
       "<table border=\"1\" class=\"dataframe\">\n",
       "  <thead>\n",
       "    <tr style=\"text-align: right;\">\n",
       "      <th>text</th>\n",
       "      <th>value</th>\n",
       "    </tr>\n",
       "  </thead>\n",
       "  <tbody>\n",
       "    <tr>\n",
       "      <td>abc</td>\n",
       "      <td>xyz</td>\n",
       "    </tr>\n",
       "    <tr>\n",
       "      <td></td>\n",
       "      <td>foobar</td>\n",
       "    </tr>\n",
       "  </tbody>\n",
       "</table>"
      ],
      "text/plain": [
       "Layer(name='terms', attributes=('value',), spans=SL[Span('abc', [{'value': 'xyz'}, {'value': 'foobar'}])])"
      ]
     },
     "execution_count": 12,
     "metadata": {},
     "output_type": "execute_result"
    }
   ],
   "source": [
    "tekst.terms"
   ]
  },
  {
   "cell_type": "markdown",
   "id": "2f9014be",
   "metadata": {},
   "source": [
    "#### DynamicExtractionRule"
   ]
  },
  {
   "cell_type": "markdown",
   "id": "72a0163c",
   "metadata": {},
   "source": [
    "DynamicExtractionRules have a decorator instead of attributes. They are very similar to the decorator parameter of rule-based taggers but they only apply to a specific rule, not all the rules."
   ]
  },
  {
   "cell_type": "markdown",
   "id": "12254d24",
   "metadata": {},
   "source": [
    "Dynamic rules are applied after static rules. Each dynamic rule only changes the annotation made by the static rule with the same pattern, group and priority. Just like the tagger decorators, the DynamicExtractionRule decorator takes as arguments text, span and annotation and returns the modified annotation."
   ]
  },
  {
   "cell_type": "code",
   "execution_count": 13,
   "id": "66d5e38b",
   "metadata": {},
   "outputs": [],
   "source": [
    "from estnltk.taggers.system.rule_taggers import DynamicExtractionRule"
   ]
  },
  {
   "cell_type": "code",
   "execution_count": 14,
   "id": "ec55e71b",
   "metadata": {},
   "outputs": [],
   "source": [
    "rules = [StaticExtractionRule(pattern=\"abc\",attributes={\"value\": \"xyz\"}),\n",
    "         StaticExtractionRule(pattern=\"def\",attributes={\"value\": \"foobar\"}),\n",
    "         DynamicExtractionRule(pattern=\"def\",decorator = lambda text, span, annotation: {\"value\": annotation['value'].upper()})\n",
    "        ]"
   ]
  },
  {
   "cell_type": "code",
   "execution_count": 15,
   "id": "97b0f1f3",
   "metadata": {},
   "outputs": [],
   "source": [
    "#Here the same pattern in two rules is allowed because one rule is static and other dynamic\n",
    "ruleset = Ruleset(rules)"
   ]
  },
  {
   "cell_type": "code",
   "execution_count": 16,
   "id": "5ccdbee3",
   "metadata": {},
   "outputs": [
    {
     "data": {
      "text/html": [
       "<table border=\"1\" class=\"dataframe\">\n",
       "  <thead>\n",
       "    <tr style=\"text-align: right;\">\n",
       "      <th>text</th>\n",
       "    </tr>\n",
       "  </thead>\n",
       "  <tbody>\n",
       "    <tr>\n",
       "      <td><div align = \"left\">abcdef</div></td>\n",
       "    </tr>\n",
       "  </tbody>\n",
       "</table>\n",
       "<table border=\"1\" class=\"dataframe\">\n",
       "  <thead>\n",
       "    <tr style=\"text-align: right;\">\n",
       "      <th>layer name</th>\n",
       "      <th>attributes</th>\n",
       "      <th>parent</th>\n",
       "      <th>enveloping</th>\n",
       "      <th>ambiguous</th>\n",
       "      <th>span count</th>\n",
       "    </tr>\n",
       "  </thead>\n",
       "  <tbody>\n",
       "    <tr>\n",
       "      <td>terms</td>\n",
       "      <td>value</td>\n",
       "      <td>None</td>\n",
       "      <td>None</td>\n",
       "      <td>True</td>\n",
       "      <td>2</td>\n",
       "    </tr>\n",
       "  </tbody>\n",
       "</table>"
      ],
      "text/plain": [
       "Text(text='abcdef')"
      ]
     },
     "execution_count": 16,
     "metadata": {},
     "output_type": "execute_result"
    }
   ],
   "source": [
    "tagger = SubstringTagger(ruleset=ruleset,output_attributes=['value'])\n",
    "tekst = Text(\"abcdef\")\n",
    "tagger.tag(tekst)"
   ]
  },
  {
   "cell_type": "code",
   "execution_count": 17,
   "id": "31581a44",
   "metadata": {},
   "outputs": [
    {
     "data": {
      "text/html": [
       "<h4>Layer</h4>\n",
       "\n",
       "\n",
       "<table border=\"1\" class=\"dataframe\">\n",
       "  <thead>\n",
       "    <tr style=\"text-align: right;\">\n",
       "      <th>layer name</th>\n",
       "      <th>attributes</th>\n",
       "      <th>parent</th>\n",
       "      <th>enveloping</th>\n",
       "      <th>ambiguous</th>\n",
       "      <th>span count</th>\n",
       "    </tr>\n",
       "  </thead>\n",
       "  <tbody>\n",
       "    <tr>\n",
       "      <td>terms</td>\n",
       "      <td>value</td>\n",
       "      <td>None</td>\n",
       "      <td>None</td>\n",
       "      <td>True</td>\n",
       "      <td>2</td>\n",
       "    </tr>\n",
       "  </tbody>\n",
       "</table>\n",
       "<table border=\"1\" class=\"dataframe\">\n",
       "  <thead>\n",
       "    <tr style=\"text-align: right;\">\n",
       "      <th>text</th>\n",
       "      <th>value</th>\n",
       "    </tr>\n",
       "  </thead>\n",
       "  <tbody>\n",
       "    <tr>\n",
       "      <td>abc</td>\n",
       "      <td>xyz</td>\n",
       "    </tr>\n",
       "    <tr>\n",
       "      <td>def</td>\n",
       "      <td>FOOBAR</td>\n",
       "    </tr>\n",
       "  </tbody>\n",
       "</table>"
      ],
      "text/plain": [
       "Layer(name='terms', attributes=('value',), spans=SL[Span('abc', [{'value': 'xyz'}]),\n",
       "Span('def', [{'value': 'FOOBAR'}])])"
      ]
     },
     "execution_count": 17,
     "metadata": {},
     "output_type": "execute_result"
    }
   ],
   "source": [
    "#dynamic rule is applied to only the corresponding rule\n",
    "tekst.terms"
   ]
  },
  {
   "cell_type": "markdown",
   "id": "79f58dd5",
   "metadata": {},
   "source": [
    "Dynamic rules are always applied to the corresponding static rule but if no such rule exists, an empty one is automatically created in the background. Therefore dynamic rules can also be used like this:"
   ]
  },
  {
   "cell_type": "code",
   "execution_count": 18,
   "id": "6a3533de",
   "metadata": {},
   "outputs": [
    {
     "data": {
      "text/html": [
       "<h4>Layer</h4>\n",
       "\n",
       "\n",
       "<table border=\"1\" class=\"dataframe\">\n",
       "  <thead>\n",
       "    <tr style=\"text-align: right;\">\n",
       "      <th>layer name</th>\n",
       "      <th>attributes</th>\n",
       "      <th>parent</th>\n",
       "      <th>enveloping</th>\n",
       "      <th>ambiguous</th>\n",
       "      <th>span count</th>\n",
       "    </tr>\n",
       "  </thead>\n",
       "  <tbody>\n",
       "    <tr>\n",
       "      <td>terms</td>\n",
       "      <td>value</td>\n",
       "      <td>None</td>\n",
       "      <td>None</td>\n",
       "      <td>True</td>\n",
       "      <td>2</td>\n",
       "    </tr>\n",
       "  </tbody>\n",
       "</table>\n",
       "<table border=\"1\" class=\"dataframe\">\n",
       "  <thead>\n",
       "    <tr style=\"text-align: right;\">\n",
       "      <th>text</th>\n",
       "      <th>value</th>\n",
       "    </tr>\n",
       "  </thead>\n",
       "  <tbody>\n",
       "    <tr>\n",
       "      <td>abc</td>\n",
       "      <td>xyz</td>\n",
       "    </tr>\n",
       "    <tr>\n",
       "      <td>def</td>\n",
       "      <td>abcdef</td>\n",
       "    </tr>\n",
       "  </tbody>\n",
       "</table>"
      ],
      "text/plain": [
       "Layer(name='terms', attributes=('value',), spans=SL[Span('abc', [{'value': 'xyz'}]),\n",
       "Span('def', [{'value': 'abcdef'}])])"
      ]
     },
     "execution_count": 18,
     "metadata": {},
     "output_type": "execute_result"
    }
   ],
   "source": [
    "rules = [StaticExtractionRule(pattern=\"abc\",attributes={\"value\": \"xyz\"}),\n",
    "         DynamicExtractionRule(pattern=\"def\",decorator = lambda text, span, annotation: {\"value\": text.text})\n",
    "        ]\n",
    "ruleset = Ruleset(rules)\n",
    "\n",
    "tagger = SubstringTagger(ruleset=ruleset,output_attributes=['value'])\n",
    "tekst = Text(\"abcdef\")\n",
    "tagger.tag(tekst)\n",
    "tekst.terms"
   ]
  }
 ],
 "metadata": {
  "kernelspec": {
   "display_name": "Python 3",
   "language": "python",
   "name": "python3"
  },
  "language_info": {
   "codemirror_mode": {
    "name": "ipython",
    "version": 3
   },
   "file_extension": ".py",
   "mimetype": "text/x-python",
   "name": "python",
   "nbconvert_exporter": "python",
   "pygments_lexer": "ipython3",
   "version": "3.6.12"
  }
 },
 "nbformat": 4,
 "nbformat_minor": 5
}
