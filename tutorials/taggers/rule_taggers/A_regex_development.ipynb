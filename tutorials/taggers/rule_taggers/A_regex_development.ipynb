{
 "cells": [
  {
   "cell_type": "markdown",
   "id": "86646265",
   "metadata": {},
   "source": [
    "# How to systematically build regular expression patterns\n",
    "\n",
    "In this notebook, we show how to systematically develop regular expression patterns that can be used for information extraction.\n",
    "\n",
    "Regular expression patterns developed for large-scale information extraction typically grow lengthy and complex. \n",
    "In such situations, it can be difficult to keep track, which parts of the pattern were designed for which purpose, let alone to fully ensure that each sub expression matches all of its intended targets.\n",
    "\n",
    "EstNLTK provides class `RegexElement`, which wraps around the [regex library](https://pypi.org/project/regex/) and simplifies \n",
    "documenting and testing regex patterns. \n",
    "It is possible to add tests for positive, negative and partial matches, and to automatically test patterns. \n",
    "`RegexElement` subclasses also add a way to construct regular expressions in an hierarchical manner together with test synthesis, which automatically combines existing tests of sub-expression."
   ]
  },
  {
   "cell_type": "markdown",
   "id": "06048c11",
   "metadata": {},
   "source": [
    "For the sake of simplicity, we use a toy example in this tutorial. \n",
    "We show how to develop a regex for extracting ingredient information from food recipes, such as:"
   ]
  },
  {
   "cell_type": "code",
   "execution_count": 1,
   "id": "b32e567a",
   "metadata": {},
   "outputs": [],
   "source": [
    "example_ingredients = \"\"\"\n",
    "1 pakk tordipulbrit \n",
    "4 tk muna \n",
    "400 g kohupiimapastat\n",
    "4 sl suhkrut\n",
    "200 g hapukoort\n",
    "100 g võid\n",
    "\"\"\""
   ]
  },
  {
   "cell_type": "code",
   "execution_count": 2,
   "id": "c2758cbb",
   "metadata": {},
   "outputs": [],
   "source": [
    "from estnltk.taggers.system.rule_taggers.regex_library.regex_element import RegexElement\n",
    "\n",
    "# Create pattern\n",
    "KOGUS = RegexElement('([0-9]+[.,])?[0-9]+', group_name='quantity', \n",
    "                   description='Captures integer and decimal quantities.')\n",
    "# Add tests\n",
    "KOGUS.full_match('1')\n",
    "KOGUS.full_match('100')\n",
    "KOGUS.full_match('1,5')\n",
    "KOGUS.full_match('2.5')\n",
    "KOGUS.no_match('x')\n",
    "KOGUS.no_match('N/A')\n",
    "KOGUS.no_match('teadmata arv')\n",
    "KOGUS.partial_match('<=3', '3')\n",
    "KOGUS.partial_match('~2', '2')\n",
    "\n",
    "# Create pattern\n",
    "# (Note: there's a better way to do a string choice, read about the StringList below)\n",
    "YHIK = RegexElement('(supilusika[ts]|teelusika[ts]|pakki?|grammi?|tk|sl|g)', group_name='unit',\n",
    "                     description='Captures 5 types of food units, including 3 unit abbreviations.')\n",
    "# Add tests\n",
    "YHIK.full_match('supilusikat')\n",
    "YHIK.full_match('teelusikas')\n",
    "YHIK.full_match('tk')\n",
    "YHIK.full_match('pakk')\n",
    "YHIK.full_match('gramm')\n",
    "YHIK.full_match('sl')\n",
    "YHIK.full_match('g')\n",
    "YHIK.no_match('tonni')\n",
    "YHIK.partial_match('100g', 'g')\n",
    "YHIK.partial_match('2tk', 'tk')\n",
    "\n",
    "# Create a pattern combining other patterns\n",
    "KOOSTISOSA = RegexElement(fr'{KOGUS}\\s*{YHIK}\\s+(?P<ingredient>[a-zöäüõšž]+)', \n",
    "                          description='Captures ingredients together with quantities and units.')\n",
    "# Add tests\n",
    "KOOSTISOSA.full_match('1 supilusikas suhkrut')\n",
    "KOOSTISOSA.full_match('2.5 sl võid')\n",
    "KOOSTISOSA.full_match('4 teelusikat siirupit')\n",
    "KOOSTISOSA.full_match('300g vahukoort')\n",
    "KOOSTISOSA.no_match('10 tonni telliskive')\n",
    "KOOSTISOSA.partial_match('100g vahukomme ka', {'quantity':'100', 'unit':'g', 'ingredient':'vahukomme'})"
   ]
  },
  {
   "cell_type": "markdown",
   "id": "28118434",
   "metadata": {},
   "source": [
    "`RegexElement` parameters:\n",
    "* `pattern` -- the regular expression pattern. For details about constructing regular expressions in Python, see https://docs.python.org/3/howto/regex.html , https://docs.python.org/3/library/re.html and https://pypi.org/project/regex/ ;\n",
    "* `group_name` -- (Optional) adds a named capture group around the regex. The `group_name` appears as the top level group in string representation of this expression (`str(regex_element)`), but the regular expression `pattern` itself must not contain the `group_name`. If `group_name` is not provided, then the regex is placed inside a non-capture group;\n",
    "* `description` -- (Optional) used in the display and should concisely describe the intent behind the pattern. Additional information about the intent can be specified through examples which are also used in the display (See \"Examples for displaying\" below).\n",
    "\n",
    "Methods for adding tests:\n",
    "* `full_match(example:str, description: str = None)` -- adds a positive example. The pattern must match with the whole example;\n",
    "* `no_match(example:str, description: str = None)` -- adds a negative example. The pattern must not be found inside the example, that is, it cannot match even with a substring of the example;\n",
    "* `partial_match(text: str, target: Union[str, Dict[str, str]], description: str = None)` adds an extraction example which requires the pattern to match the substring `target` inside `text`. Alternatively, `target` can also be a dictionary specifying exact matches required from capture groups of the `pattern` (mappings `group_name` -> `target_str`) when applied on `text`.\n",
    "\n",
    "All methods allow to add more detailed descriptions of examples via parameter `description`."
   ]
  },
  {
   "cell_type": "markdown",
   "id": "a71343ca",
   "metadata": {},
   "source": [
    "### Testing patterns\n",
    "\n",
    "Once you've defined a pattern and added tests, you can use the method `test()` to run all tests:"
   ]
  },
  {
   "cell_type": "code",
   "execution_count": 3,
   "id": "0e7e4589",
   "metadata": {},
   "outputs": [],
   "source": [
    "KOGUS.test()\n",
    "YHIK.test()\n",
    "KOOSTISOSA.test()"
   ]
  },
  {
   "cell_type": "markdown",
   "id": "b9e3ebfa",
   "metadata": {},
   "source": [
    "The method runs silent if all tests are passed. \n",
    "However, if any of the tests should fail, an `AssertionError` will be thrown, informing about the details of the test case on which the pattern fails. "
   ]
  },
  {
   "cell_type": "markdown",
   "id": "3bc8c27f",
   "metadata": {},
   "source": [
    "In Notebook, you can get a quick overview about the pattern and its testing status when you display a `RegexElement` object:"
   ]
  },
  {
   "cell_type": "code",
   "execution_count": 4,
   "id": "d0a02f54",
   "metadata": {},
   "outputs": [
    {
     "data": {
      "text/html": [
       "<b>regex:</b> (?P&lt;quantity&gt;([0-9]+[.,])?[0-9]+)<br/><b>description:</b> <p>Captures integer and decimal quantities.</p></br><style type=\"text/css\">\n",
       "#T_26ffe_row0_col1, #T_26ffe_row1_col1, #T_26ffe_row2_col1 {\n",
       "  color: green;\n",
       "}\n",
       "#T_26ffe_row0_col2, #T_26ffe_row1_col2, #T_26ffe_row2_col2 {\n",
       "  color: black;\n",
       "}\n",
       "</style>\n",
       "<table id=\"T_26ffe\">\n",
       "  <caption>Testing results</caption>\n",
       "  <thead>\n",
       "    <tr>\n",
       "      <th id=\"T_26ffe_level0_col0\" class=\"col_heading level0 col0\" >Test group</th>\n",
       "      <th id=\"T_26ffe_level0_col1\" class=\"col_heading level0 col1\" >passed</th>\n",
       "      <th id=\"T_26ffe_level0_col2\" class=\"col_heading level0 col2\" >failed</th>\n",
       "    </tr>\n",
       "  </thead>\n",
       "  <tbody>\n",
       "    <tr>\n",
       "      <td id=\"T_26ffe_row0_col0\" class=\"data row0 col0\" >positive examples</td>\n",
       "      <td id=\"T_26ffe_row0_col1\" class=\"data row0 col1\" >4</td>\n",
       "      <td id=\"T_26ffe_row0_col2\" class=\"data row0 col2\" >0</td>\n",
       "    </tr>\n",
       "    <tr>\n",
       "      <td id=\"T_26ffe_row1_col0\" class=\"data row1 col0\" >negative examples</td>\n",
       "      <td id=\"T_26ffe_row1_col1\" class=\"data row1 col1\" >3</td>\n",
       "      <td id=\"T_26ffe_row1_col2\" class=\"data row1 col2\" >0</td>\n",
       "    </tr>\n",
       "    <tr>\n",
       "      <td id=\"T_26ffe_row2_col0\" class=\"data row2 col0\" >extraction tests</td>\n",
       "      <td id=\"T_26ffe_row2_col1\" class=\"data row2 col1\" >2</td>\n",
       "      <td id=\"T_26ffe_row2_col2\" class=\"data row2 col2\" >0</td>\n",
       "    </tr>\n",
       "  </tbody>\n",
       "</table>\n"
      ],
      "text/plain": [
       "(?P<quantity>([0-9]+[.,])?[0-9]+)"
      ]
     },
     "execution_count": 4,
     "metadata": {},
     "output_type": "execute_result"
    }
   ],
   "source": [
    "KOGUS"
   ]
  },
  {
   "cell_type": "code",
   "execution_count": 5,
   "id": "f304ac9b",
   "metadata": {},
   "outputs": [
    {
     "data": {
      "text/html": [
       "<b>regex:</b> (?P&lt;unit&gt;(supilusika[ts]|teelusika[ts]|pakki?|grammi?|tk|sl|g))<br/><b>description:</b> <p>Captures 5 types of food units, including 3 unit abbreviations.</p></br><style type=\"text/css\">\n",
       "#T_2612f_row0_col1, #T_2612f_row1_col1, #T_2612f_row2_col1 {\n",
       "  color: green;\n",
       "}\n",
       "#T_2612f_row0_col2, #T_2612f_row1_col2, #T_2612f_row2_col2 {\n",
       "  color: black;\n",
       "}\n",
       "</style>\n",
       "<table id=\"T_2612f\">\n",
       "  <caption>Testing results</caption>\n",
       "  <thead>\n",
       "    <tr>\n",
       "      <th id=\"T_2612f_level0_col0\" class=\"col_heading level0 col0\" >Test group</th>\n",
       "      <th id=\"T_2612f_level0_col1\" class=\"col_heading level0 col1\" >passed</th>\n",
       "      <th id=\"T_2612f_level0_col2\" class=\"col_heading level0 col2\" >failed</th>\n",
       "    </tr>\n",
       "  </thead>\n",
       "  <tbody>\n",
       "    <tr>\n",
       "      <td id=\"T_2612f_row0_col0\" class=\"data row0 col0\" >positive examples</td>\n",
       "      <td id=\"T_2612f_row0_col1\" class=\"data row0 col1\" >7</td>\n",
       "      <td id=\"T_2612f_row0_col2\" class=\"data row0 col2\" >0</td>\n",
       "    </tr>\n",
       "    <tr>\n",
       "      <td id=\"T_2612f_row1_col0\" class=\"data row1 col0\" >negative examples</td>\n",
       "      <td id=\"T_2612f_row1_col1\" class=\"data row1 col1\" >1</td>\n",
       "      <td id=\"T_2612f_row1_col2\" class=\"data row1 col2\" >0</td>\n",
       "    </tr>\n",
       "    <tr>\n",
       "      <td id=\"T_2612f_row2_col0\" class=\"data row2 col0\" >extraction tests</td>\n",
       "      <td id=\"T_2612f_row2_col1\" class=\"data row2 col1\" >2</td>\n",
       "      <td id=\"T_2612f_row2_col2\" class=\"data row2 col2\" >0</td>\n",
       "    </tr>\n",
       "  </tbody>\n",
       "</table>\n"
      ],
      "text/plain": [
       "(?P<unit>(supilusika[ts]|teelusika[ts]|pakki?|grammi?|tk|sl|g))"
      ]
     },
     "execution_count": 5,
     "metadata": {},
     "output_type": "execute_result"
    }
   ],
   "source": [
    "YHIK"
   ]
  },
  {
   "cell_type": "code",
   "execution_count": 6,
   "id": "282ef76b",
   "metadata": {},
   "outputs": [
    {
     "data": {
      "text/html": [
       "<b>regex:</b> (?:(?P&lt;quantity&gt;([0-9]+[.,])?[0-9]+)\\s*(?P&lt;unit&gt;(supilusika[ts]|teelusika[ts]|pakki?|grammi?|tk|sl|g))\\s+(?P&lt;ingredient&gt;[a-zöäüõšž]+))<br/><b>description:</b> <p>Captures ingredients together with quantities and units.</p></br><style type=\"text/css\">\n",
       "#T_2ac82_row0_col1, #T_2ac82_row1_col1, #T_2ac82_row2_col1 {\n",
       "  color: green;\n",
       "}\n",
       "#T_2ac82_row0_col2, #T_2ac82_row1_col2, #T_2ac82_row2_col2 {\n",
       "  color: black;\n",
       "}\n",
       "</style>\n",
       "<table id=\"T_2ac82\">\n",
       "  <caption>Testing results</caption>\n",
       "  <thead>\n",
       "    <tr>\n",
       "      <th id=\"T_2ac82_level0_col0\" class=\"col_heading level0 col0\" >Test group</th>\n",
       "      <th id=\"T_2ac82_level0_col1\" class=\"col_heading level0 col1\" >passed</th>\n",
       "      <th id=\"T_2ac82_level0_col2\" class=\"col_heading level0 col2\" >failed</th>\n",
       "    </tr>\n",
       "  </thead>\n",
       "  <tbody>\n",
       "    <tr>\n",
       "      <td id=\"T_2ac82_row0_col0\" class=\"data row0 col0\" >positive examples</td>\n",
       "      <td id=\"T_2ac82_row0_col1\" class=\"data row0 col1\" >4</td>\n",
       "      <td id=\"T_2ac82_row0_col2\" class=\"data row0 col2\" >0</td>\n",
       "    </tr>\n",
       "    <tr>\n",
       "      <td id=\"T_2ac82_row1_col0\" class=\"data row1 col0\" >negative examples</td>\n",
       "      <td id=\"T_2ac82_row1_col1\" class=\"data row1 col1\" >1</td>\n",
       "      <td id=\"T_2ac82_row1_col2\" class=\"data row1 col2\" >0</td>\n",
       "    </tr>\n",
       "    <tr>\n",
       "      <td id=\"T_2ac82_row2_col0\" class=\"data row2 col0\" >extraction tests</td>\n",
       "      <td id=\"T_2ac82_row2_col1\" class=\"data row2 col1\" >1</td>\n",
       "      <td id=\"T_2ac82_row2_col2\" class=\"data row2 col2\" >0</td>\n",
       "    </tr>\n",
       "  </tbody>\n",
       "</table>\n"
      ],
      "text/plain": [
       "(?:(?P<quantity>([0-9]+[.,])?[0-9]+)\\s*(?P<unit>(supilusika[ts]|teelusika[ts]|pakki?|grammi?|tk|sl|g))\\s+(?P<ingredient>[a-zöäüõšž]+))"
      ]
     },
     "execution_count": 6,
     "metadata": {},
     "output_type": "execute_result"
    }
   ],
   "source": [
    "KOOSTISOSA"
   ]
  },
  {
   "cell_type": "markdown",
   "id": "b95bb7ee",
   "metadata": {},
   "source": [
    "To get **exact testing results**, use methods `evaluate_positive_examples()`, `evaluate_negative_examples()` and `evaluate_extraction_examples()`. The results will be returned in a `DataFrame`:"
   ]
  },
  {
   "cell_type": "code",
   "execution_count": 7,
   "id": "305d9504",
   "metadata": {},
   "outputs": [
    {
     "data": {
      "text/html": [
       "<div>\n",
       "<style scoped>\n",
       "    .dataframe tbody tr th:only-of-type {\n",
       "        vertical-align: middle;\n",
       "    }\n",
       "\n",
       "    .dataframe tbody tr th {\n",
       "        vertical-align: top;\n",
       "    }\n",
       "\n",
       "    .dataframe thead th {\n",
       "        text-align: right;\n",
       "    }\n",
       "</style>\n",
       "<table border=\"1\" class=\"dataframe\">\n",
       "  <thead>\n",
       "    <tr style=\"text-align: right;\">\n",
       "      <th></th>\n",
       "      <th>Example</th>\n",
       "      <th>Status</th>\n",
       "    </tr>\n",
       "  </thead>\n",
       "  <tbody>\n",
       "    <tr>\n",
       "      <th>0</th>\n",
       "      <td>supilusikat</td>\n",
       "      <td>+</td>\n",
       "    </tr>\n",
       "    <tr>\n",
       "      <th>1</th>\n",
       "      <td>teelusikas</td>\n",
       "      <td>+</td>\n",
       "    </tr>\n",
       "    <tr>\n",
       "      <th>2</th>\n",
       "      <td>tk</td>\n",
       "      <td>+</td>\n",
       "    </tr>\n",
       "    <tr>\n",
       "      <th>3</th>\n",
       "      <td>pakk</td>\n",
       "      <td>+</td>\n",
       "    </tr>\n",
       "    <tr>\n",
       "      <th>4</th>\n",
       "      <td>gramm</td>\n",
       "      <td>+</td>\n",
       "    </tr>\n",
       "    <tr>\n",
       "      <th>5</th>\n",
       "      <td>sl</td>\n",
       "      <td>+</td>\n",
       "    </tr>\n",
       "    <tr>\n",
       "      <th>6</th>\n",
       "      <td>g</td>\n",
       "      <td>+</td>\n",
       "    </tr>\n",
       "  </tbody>\n",
       "</table>\n",
       "</div>"
      ],
      "text/plain": [
       "       Example Status\n",
       "0  supilusikat      +\n",
       "1   teelusikas      +\n",
       "2           tk      +\n",
       "3         pakk      +\n",
       "4        gramm      +\n",
       "5           sl      +\n",
       "6            g      +"
      ]
     },
     "execution_count": 7,
     "metadata": {},
     "output_type": "execute_result"
    }
   ],
   "source": [
    "YHIK.evaluate_positive_examples()"
   ]
  },
  {
   "cell_type": "code",
   "execution_count": 8,
   "id": "a1e07319",
   "metadata": {},
   "outputs": [
    {
     "data": {
      "text/html": [
       "<div>\n",
       "<style scoped>\n",
       "    .dataframe tbody tr th:only-of-type {\n",
       "        vertical-align: middle;\n",
       "    }\n",
       "\n",
       "    .dataframe tbody tr th {\n",
       "        vertical-align: top;\n",
       "    }\n",
       "\n",
       "    .dataframe thead th {\n",
       "        text-align: right;\n",
       "    }\n",
       "</style>\n",
       "<table border=\"1\" class=\"dataframe\">\n",
       "  <thead>\n",
       "    <tr style=\"text-align: right;\">\n",
       "      <th></th>\n",
       "      <th>Example</th>\n",
       "      <th>Status</th>\n",
       "    </tr>\n",
       "  </thead>\n",
       "  <tbody>\n",
       "    <tr>\n",
       "      <th>0</th>\n",
       "      <td>tonni</td>\n",
       "      <td>+</td>\n",
       "    </tr>\n",
       "  </tbody>\n",
       "</table>\n",
       "</div>"
      ],
      "text/plain": [
       "  Example Status\n",
       "0   tonni      +"
      ]
     },
     "execution_count": 8,
     "metadata": {},
     "output_type": "execute_result"
    }
   ],
   "source": [
    "YHIK.evaluate_negative_examples()"
   ]
  },
  {
   "cell_type": "code",
   "execution_count": 9,
   "id": "f2415770",
   "metadata": {},
   "outputs": [
    {
     "data": {
      "text/html": [
       "<div>\n",
       "<style scoped>\n",
       "    .dataframe tbody tr th:only-of-type {\n",
       "        vertical-align: middle;\n",
       "    }\n",
       "\n",
       "    .dataframe tbody tr th {\n",
       "        vertical-align: top;\n",
       "    }\n",
       "\n",
       "    .dataframe thead th {\n",
       "        text-align: right;\n",
       "    }\n",
       "</style>\n",
       "<table border=\"1\" class=\"dataframe\">\n",
       "  <thead>\n",
       "    <tr style=\"text-align: right;\">\n",
       "      <th></th>\n",
       "      <th>Example</th>\n",
       "      <th>Status</th>\n",
       "    </tr>\n",
       "  </thead>\n",
       "  <tbody>\n",
       "    <tr>\n",
       "      <th>0</th>\n",
       "      <td>100g</td>\n",
       "      <td>+</td>\n",
       "    </tr>\n",
       "    <tr>\n",
       "      <th>1</th>\n",
       "      <td>2tk</td>\n",
       "      <td>+</td>\n",
       "    </tr>\n",
       "  </tbody>\n",
       "</table>\n",
       "</div>"
      ],
      "text/plain": [
       "  Example Status\n",
       "0    100g      +\n",
       "1     2tk      +"
      ]
     },
     "execution_count": 9,
     "metadata": {},
     "output_type": "execute_result"
    }
   ],
   "source": [
    "YHIK.evaluate_extraction_examples()"
   ]
  },
  {
   "cell_type": "markdown",
   "id": "a904e167",
   "metadata": {},
   "source": [
    "Status `+` indicates a passing test and status `F` indicates a failing one."
   ]
  },
  {
   "cell_type": "markdown",
   "id": "31fb1a08",
   "metadata": {},
   "source": [
    "### Examples for displaying\n",
    "\n",
    "You can add some of the positive examples as _display examples_, which will be show when the object is rendered in Notebook.\n",
    "\n",
    "For instance, let's redefine KOOSTISOSA with first 3 `full_match` tests as _display examples_:"
   ]
  },
  {
   "cell_type": "code",
   "execution_count": 10,
   "id": "4142b866",
   "metadata": {},
   "outputs": [],
   "source": [
    "KOOSTISOSA = RegexElement(fr'{KOGUS}\\s*{YHIK}\\s+(?P<ingredient>[a-zöäüõšž]+)', \n",
    "                          description='Captures ingredients together with quantities and units.')\n",
    "# Add tests & examples\n",
    "KOOSTISOSA.example('1 supilusikas suhkrut')\n",
    "KOOSTISOSA.example('2.5 sl võid')\n",
    "KOOSTISOSA.example('4 teelusikat siirupit')\n",
    "KOOSTISOSA.full_match('300g vahukoort')\n",
    "KOOSTISOSA.no_match('10 tonni telliskive')\n",
    "KOOSTISOSA.partial_match('100g vahukomme ka', {'quantity':'100', 'unit':'g', 'ingredient':'vahukomme'})"
   ]
  },
  {
   "cell_type": "code",
   "execution_count": 11,
   "id": "1b0999b4",
   "metadata": {},
   "outputs": [
    {
     "data": {
      "text/html": [
       "<b>regex:</b> (?:(?P&lt;quantity&gt;([0-9]+[.,])?[0-9]+)\\s*(?P&lt;unit&gt;(supilusika[ts]|teelusika[ts]|pakki?|grammi?|tk|sl|g))\\s+(?P&lt;ingredient&gt;[a-zöäüõšž]+))<br/><b>description:</b> <p>Captures ingredients together with quantities and units.</p></br><style type=\"text/css\">\n",
       "#T_2e66d_row0_col1, #T_2e66d_row1_col1, #T_2e66d_row2_col1 {\n",
       "  color: green;\n",
       "}\n",
       "</style>\n",
       "<table id=\"T_2e66d\">\n",
       "  <caption>Examples</caption>\n",
       "  <thead>\n",
       "    <tr>\n",
       "      <th id=\"T_2e66d_level0_col0\" class=\"col_heading level0 col0\" >Example</th>\n",
       "      <th id=\"T_2e66d_level0_col1\" class=\"col_heading level0 col1\" >Status</th>\n",
       "    </tr>\n",
       "  </thead>\n",
       "  <tbody>\n",
       "    <tr>\n",
       "      <td id=\"T_2e66d_row0_col0\" class=\"data row0 col0\" >1 supilusikas suhkrut</td>\n",
       "      <td id=\"T_2e66d_row0_col1\" class=\"data row0 col1\" >+</td>\n",
       "    </tr>\n",
       "    <tr>\n",
       "      <td id=\"T_2e66d_row1_col0\" class=\"data row1 col0\" >2.5 sl võid</td>\n",
       "      <td id=\"T_2e66d_row1_col1\" class=\"data row1 col1\" >+</td>\n",
       "    </tr>\n",
       "    <tr>\n",
       "      <td id=\"T_2e66d_row2_col0\" class=\"data row2 col0\" >4 teelusikat siirupit</td>\n",
       "      <td id=\"T_2e66d_row2_col1\" class=\"data row2 col1\" >+</td>\n",
       "    </tr>\n",
       "  </tbody>\n",
       "</table>\n",
       "<style type=\"text/css\">\n",
       "#T_b1646_row0_col1, #T_b1646_row1_col1, #T_b1646_row2_col1 {\n",
       "  color: green;\n",
       "}\n",
       "#T_b1646_row0_col2, #T_b1646_row1_col2, #T_b1646_row2_col2 {\n",
       "  color: black;\n",
       "}\n",
       "</style>\n",
       "<table id=\"T_b1646\">\n",
       "  <caption>Testing results</caption>\n",
       "  <thead>\n",
       "    <tr>\n",
       "      <th id=\"T_b1646_level0_col0\" class=\"col_heading level0 col0\" >Test group</th>\n",
       "      <th id=\"T_b1646_level0_col1\" class=\"col_heading level0 col1\" >passed</th>\n",
       "      <th id=\"T_b1646_level0_col2\" class=\"col_heading level0 col2\" >failed</th>\n",
       "    </tr>\n",
       "  </thead>\n",
       "  <tbody>\n",
       "    <tr>\n",
       "      <td id=\"T_b1646_row0_col0\" class=\"data row0 col0\" >positive examples</td>\n",
       "      <td id=\"T_b1646_row0_col1\" class=\"data row0 col1\" >4</td>\n",
       "      <td id=\"T_b1646_row0_col2\" class=\"data row0 col2\" >0</td>\n",
       "    </tr>\n",
       "    <tr>\n",
       "      <td id=\"T_b1646_row1_col0\" class=\"data row1 col0\" >negative examples</td>\n",
       "      <td id=\"T_b1646_row1_col1\" class=\"data row1 col1\" >1</td>\n",
       "      <td id=\"T_b1646_row1_col2\" class=\"data row1 col2\" >0</td>\n",
       "    </tr>\n",
       "    <tr>\n",
       "      <td id=\"T_b1646_row2_col0\" class=\"data row2 col0\" >extraction tests</td>\n",
       "      <td id=\"T_b1646_row2_col1\" class=\"data row2 col1\" >1</td>\n",
       "      <td id=\"T_b1646_row2_col2\" class=\"data row2 col2\" >0</td>\n",
       "    </tr>\n",
       "  </tbody>\n",
       "</table>\n"
      ],
      "text/plain": [
       "(?:(?P<quantity>([0-9]+[.,])?[0-9]+)\\s*(?P<unit>(supilusika[ts]|teelusika[ts]|pakki?|grammi?|tk|sl|g))\\s+(?P<ingredient>[a-zöäüõšž]+))"
      ]
     },
     "execution_count": 11,
     "metadata": {},
     "output_type": "execute_result"
    }
   ],
   "source": [
    "# Browse the pattern\n",
    "KOOSTISOSA"
   ]
  },
  {
   "cell_type": "markdown",
   "id": "b51e76dc",
   "metadata": {},
   "source": [
    "Note that there are 4 positive examples: all _display examples_ were also included in positive (`full_match`) examples."
   ]
  },
  {
   "cell_type": "markdown",
   "id": "5bbb6c55",
   "metadata": {},
   "source": [
    "### Choice groups\n",
    "\n",
    "Regex choice groups, such as `'(supilusika[ts]|teelusika[ts]|pakki?|grammi?|tk|sl|g)'`, allow to specify multiple alternative patterns to be searched for. \n",
    "\n",
    "Regex choice groups can contain sub-expressions with overlapping targets. \n",
    "For instance, _YHIK_ (unit) in the previous example contains choice sub-expressions `grammi?` and `g`, which both match with the string `'gramm'`.\n",
    "However, the extent of the match depends on the order of the sub-expressions in the group: the maximal extent is achieved only if sub-expressions capturing longest strings come first. \n",
    "The result of a wrong ordering is an incomplete match, e.g. `(g|grammi?)` matches only `'g'` inside the string `'gramm'`.\n",
    "\n",
    "If regex choice groups grow large and complex, it can be difficult to achieve a correct ordering. \n",
    "A rigorous work of pattern development and testing is required. \n",
    "However, for subsets of patterns satisfying specific constraints, correct ordering of the sub-expressions can be automatically guaranteed."
   ]
  },
  {
   "cell_type": "markdown",
   "id": "b3fa80e6",
   "metadata": {},
   "source": [
    "#### StringList\n",
    "\n",
    "Use `StringList` to make a choice group from (a large number of) strings. It will guarantee that the resulting regular expression matches even the longest string in the list; it will also detect and remove duplicates, escape all the meta symbols (such as `.` or `+`) and convert the pattern to a case insensitive format (if requested)."
   ]
  },
  {
   "cell_type": "markdown",
   "id": "7747bd45",
   "metadata": {},
   "source": [
    "For instance, let's redefine YHIK as a `StringList`, which has more units / unit abbreviations and which ignores case while matching the strings:"
   ]
  },
  {
   "cell_type": "code",
   "execution_count": 12,
   "id": "1d9b9bac",
   "metadata": {},
   "outputs": [],
   "source": [
    "from estnltk.taggers.system.rule_taggers.regex_library.string_list import StringList\n",
    "\n",
    "# Create pattern\n",
    "YHIK = StringList(['supilusikas', 'supilusikat', 'sl', \n",
    "                   'teelusikas', 'teelusikat', 'tl',\n",
    "                   'pakk', 'pakki', 'pk', \n",
    "                   'tükk', 'tükki', 'tk', \n",
    "                   'gramm', 'grammi', 'g'], group_name='unit',\n",
    "                   description='Captures 5 types of food units (incl abbreviations).',\n",
    "                   ignore_case=True)\n",
    "# Add tests\n",
    "YHIK.full_match('SUPILUSIKAS')\n",
    "YHIK.full_match('SupiLusiKaT')\n",
    "YHIK.full_match('teelusikas')\n",
    "YHIK.full_match('tk')\n",
    "YHIK.full_match('TK')\n",
    "YHIK.full_match('pakk')\n",
    "YHIK.full_match('PAKK')\n",
    "YHIK.full_match('gramm')\n",
    "YHIK.full_match('sl')\n",
    "YHIK.full_match('g')\n",
    "YHIK.no_match('tonni')\n",
    "YHIK.no_match('puuda')\n",
    "YHIK.partial_match('100g', 'g')\n",
    "YHIK.partial_match('2tk', 'tk')\n",
    "YHIK.partial_match('2Tk', 'Tk')"
   ]
  },
  {
   "cell_type": "code",
   "execution_count": 13,
   "id": "02636749",
   "metadata": {},
   "outputs": [
    {
     "data": {
      "text/html": [
       "<b>regex:</b> (?P&lt;unit&gt;[Ss][Uu][Pp][Ii][Ll][Uu][Ss][Ii][Kk][Aa][Ss]|[Ss][Uu][Pp][Ii][Ll][Uu][Ss][Ii][Kk][Aa][Tt]|[Tt][Ee][Ee][Ll][Uu][Ss][Ii][Kk][Aa][Ss]|[Tt][Ee][Ee][Ll][Uu][Ss][Ii][Kk][Aa][Tt]|[Gg][Rr][Aa][Mm][Mm][Ii]|[Gg][Rr][Aa][Mm][Mm]|[Pp][Aa][Kk][Kk][Ii]|[Tt][Üü][Kk][Kk][Ii]|[Pp][Aa][Kk][Kk]|[Tt][Üü][Kk][Kk]|[Pp][Kk]|[Ss][Ll]|[Tt][Kk]|[Tt][Ll]|[Gg])<br/><b>description:</b> <p>Captures 5 types of food units (incl abbreviations).</p></br><style type=\"text/css\">\n",
       "#T_abff2_row0_col1, #T_abff2_row1_col1, #T_abff2_row2_col1 {\n",
       "  color: green;\n",
       "}\n",
       "#T_abff2_row0_col2, #T_abff2_row1_col2, #T_abff2_row2_col2 {\n",
       "  color: black;\n",
       "}\n",
       "</style>\n",
       "<table id=\"T_abff2\">\n",
       "  <caption>Testing results</caption>\n",
       "  <thead>\n",
       "    <tr>\n",
       "      <th id=\"T_abff2_level0_col0\" class=\"col_heading level0 col0\" >Test group</th>\n",
       "      <th id=\"T_abff2_level0_col1\" class=\"col_heading level0 col1\" >passed</th>\n",
       "      <th id=\"T_abff2_level0_col2\" class=\"col_heading level0 col2\" >failed</th>\n",
       "    </tr>\n",
       "  </thead>\n",
       "  <tbody>\n",
       "    <tr>\n",
       "      <td id=\"T_abff2_row0_col0\" class=\"data row0 col0\" >positive examples</td>\n",
       "      <td id=\"T_abff2_row0_col1\" class=\"data row0 col1\" >10</td>\n",
       "      <td id=\"T_abff2_row0_col2\" class=\"data row0 col2\" >0</td>\n",
       "    </tr>\n",
       "    <tr>\n",
       "      <td id=\"T_abff2_row1_col0\" class=\"data row1 col0\" >negative examples</td>\n",
       "      <td id=\"T_abff2_row1_col1\" class=\"data row1 col1\" >2</td>\n",
       "      <td id=\"T_abff2_row1_col2\" class=\"data row1 col2\" >0</td>\n",
       "    </tr>\n",
       "    <tr>\n",
       "      <td id=\"T_abff2_row2_col0\" class=\"data row2 col0\" >extraction tests</td>\n",
       "      <td id=\"T_abff2_row2_col1\" class=\"data row2 col1\" >3</td>\n",
       "      <td id=\"T_abff2_row2_col2\" class=\"data row2 col2\" >0</td>\n",
       "    </tr>\n",
       "  </tbody>\n",
       "</table>\n"
      ],
      "text/plain": [
       "(?P<unit>[Ss][Uu][Pp][Ii][Ll][Uu][Ss][Ii][Kk][Aa][Ss]|[Ss][Uu][Pp][Ii][Ll][Uu][Ss][Ii][Kk][Aa][Tt]|[Tt][Ee][Ee][Ll][Uu][Ss][Ii][Kk][Aa][Ss]|[Tt][Ee][Ee][Ll][Uu][Ss][Ii][Kk][Aa][Tt]|[Gg][Rr][Aa][Mm][Mm][Ii]|[Gg][Rr][Aa][Mm][Mm]|[Pp][Aa][Kk][Kk][Ii]|[Tt][Üü][Kk][Kk][Ii]|[Pp][Aa][Kk][Kk]|[Tt][Üü][Kk][Kk]|[Pp][Kk]|[Ss][Ll]|[Tt][Kk]|[Tt][Ll]|[Gg])"
      ]
     },
     "execution_count": 13,
     "metadata": {},
     "output_type": "execute_result"
    }
   ],
   "source": [
    "YHIK"
   ]
  },
  {
   "cell_type": "markdown",
   "id": "2284f6a7",
   "metadata": {},
   "source": [
    "You can also generalize characters appearing in strings, e.g. replace all spaces with a more general pattern `r'\\s+'`. \n",
    "Parameter `replacements` allows to defined a dictionary of character to regex replacements that is applied to all strings. \n",
    "For instance:"
   ]
  },
  {
   "cell_type": "code",
   "execution_count": 14,
   "id": "b88d15de",
   "metadata": {},
   "outputs": [
    {
     "data": {
      "text/html": [
       "<b>regex:</b> (?P&lt;ingredient&gt;[Tt][Uu][Mm][Ee][Dd][Aa][Tt](?:\\s+)[Šš][Oo][Kk][Oo][Ll][Aa][Aa][Dd][Ii]|[Vv][Aa][Ll][Gg][Ee][Tt](?:\\s+)[Šš][Oo][Kk][Oo][Ll][Aa][Aa][Dd][Ii]|[Kk][Oo][Hh][Uu][Pp][Ii][Ii][Mm][Aa][Pp][Aa][Ss][Tt][Aa][Tt]|[Mm][Aa][Aa][Ss][Ii][Kk][Aa](?:\\s+)[Jj][Ää][Ää][Tt][Ii][Ss][Tt]|[Tt][Oo][Rr][Dd][Ii][Pp][Uu][Ll][Bb][Rr][Ii][Tt]|[Hh][Aa][Pp][Uu][Kk][Oo][Oo][Rr][Tt]|[Vv][Aa][Hh][Uu][Kk][Oo][Mm][Mm][Ee]|[Vv][Aa][Hh][Uu][Kk][Oo][Oo][Rr][Tt]|[Ss][Ii][Ii][Rr][Uu][Pp][Ii][Tt]|[Ss][Uu][Hh][Kk][Rr][Uu][Tt]|[Mm][Uu][Nn][Aa]|[Vv][Õõ][Ii][Dd])<br/><b>description:</b> <p>Captures ingredient names.</p></br><style type=\"text/css\">\n",
       "#T_7a856_row0_col1, #T_7a856_row1_col1, #T_7a856_row2_col1 {\n",
       "  color: green;\n",
       "}\n",
       "</style>\n",
       "<table id=\"T_7a856\">\n",
       "  <caption>Examples</caption>\n",
       "  <thead>\n",
       "    <tr>\n",
       "      <th id=\"T_7a856_level0_col0\" class=\"col_heading level0 col0\" >Example</th>\n",
       "      <th id=\"T_7a856_level0_col1\" class=\"col_heading level0 col1\" >Status</th>\n",
       "    </tr>\n",
       "  </thead>\n",
       "  <tbody>\n",
       "    <tr>\n",
       "      <td id=\"T_7a856_row0_col0\" class=\"data row0 col0\" >suhkrut</td>\n",
       "      <td id=\"T_7a856_row0_col1\" class=\"data row0 col1\" >+</td>\n",
       "    </tr>\n",
       "    <tr>\n",
       "      <td id=\"T_7a856_row1_col0\" class=\"data row1 col0\" >võid</td>\n",
       "      <td id=\"T_7a856_row1_col1\" class=\"data row1 col1\" >+</td>\n",
       "    </tr>\n",
       "    <tr>\n",
       "      <td id=\"T_7a856_row2_col0\" class=\"data row2 col0\" >siirupit</td>\n",
       "      <td id=\"T_7a856_row2_col1\" class=\"data row2 col1\" >+</td>\n",
       "    </tr>\n",
       "  </tbody>\n",
       "</table>\n",
       "<style type=\"text/css\">\n",
       "#T_3ae17_row0_col1, #T_3ae17_row1_col1 {\n",
       "  color: green;\n",
       "}\n",
       "#T_3ae17_row0_col2, #T_3ae17_row1_col2, #T_3ae17_row2_col1, #T_3ae17_row2_col2 {\n",
       "  color: black;\n",
       "}\n",
       "</style>\n",
       "<table id=\"T_3ae17\">\n",
       "  <caption>Testing results</caption>\n",
       "  <thead>\n",
       "    <tr>\n",
       "      <th id=\"T_3ae17_level0_col0\" class=\"col_heading level0 col0\" >Test group</th>\n",
       "      <th id=\"T_3ae17_level0_col1\" class=\"col_heading level0 col1\" >passed</th>\n",
       "      <th id=\"T_3ae17_level0_col2\" class=\"col_heading level0 col2\" >failed</th>\n",
       "    </tr>\n",
       "  </thead>\n",
       "  <tbody>\n",
       "    <tr>\n",
       "      <td id=\"T_3ae17_row0_col0\" class=\"data row0 col0\" >positive examples</td>\n",
       "      <td id=\"T_3ae17_row0_col1\" class=\"data row0 col1\" >6</td>\n",
       "      <td id=\"T_3ae17_row0_col2\" class=\"data row0 col2\" >0</td>\n",
       "    </tr>\n",
       "    <tr>\n",
       "      <td id=\"T_3ae17_row1_col0\" class=\"data row1 col0\" >negative examples</td>\n",
       "      <td id=\"T_3ae17_row1_col1\" class=\"data row1 col1\" >1</td>\n",
       "      <td id=\"T_3ae17_row1_col2\" class=\"data row1 col2\" >0</td>\n",
       "    </tr>\n",
       "    <tr>\n",
       "      <td id=\"T_3ae17_row2_col0\" class=\"data row2 col0\" >extraction tests</td>\n",
       "      <td id=\"T_3ae17_row2_col1\" class=\"data row2 col1\" >0</td>\n",
       "      <td id=\"T_3ae17_row2_col2\" class=\"data row2 col2\" >0</td>\n",
       "    </tr>\n",
       "  </tbody>\n",
       "</table>\n"
      ],
      "text/plain": [
       "(?P<ingredient>[Tt][Uu][Mm][Ee][Dd][Aa][Tt](?:\\s+)[Šš][Oo][Kk][Oo][Ll][Aa][Aa][Dd][Ii]|[Vv][Aa][Ll][Gg][Ee][Tt](?:\\s+)[Šš][Oo][Kk][Oo][Ll][Aa][Aa][Dd][Ii]|[Kk][Oo][Hh][Uu][Pp][Ii][Ii][Mm][Aa][Pp][Aa][Ss][Tt][Aa][Tt]|[Mm][Aa][Aa][Ss][Ii][Kk][Aa](?:\\s+)[Jj][Ää][Ää][Tt][Ii][Ss][Tt]|[Tt][Oo][Rr][Dd][Ii][Pp][Uu][Ll][Bb][Rr][Ii][Tt]|[Hh][Aa][Pp][Uu][Kk][Oo][Oo][Rr][Tt]|[Vv][Aa][Hh][Uu][Kk][Oo][Mm][Mm][Ee]|[Vv][Aa][Hh][Uu][Kk][Oo][Oo][Rr][Tt]|[Ss][Ii][Ii][Rr][Uu][Pp][Ii][Tt]|[Ss][Uu][Hh][Kk][Rr][Uu][Tt]|[Mm][Uu][Nn][Aa]|[Vv][Õõ][Ii][Dd])"
      ]
     },
     "execution_count": 14,
     "metadata": {},
     "output_type": "execute_result"
    }
   ],
   "source": [
    "TOIDUAINED = StringList(['muna', 'tordipulbrit', 'kohupiimapastat', 'suhkrut', 'hapukoort', 'võid', 'siirupit', \n",
    "                         'valget šokolaadi', 'tumedat šokolaadi', 'maasika jäätist', 'vahukoort', 'vahukomme'], \n",
    "                         group_name='ingredient',\n",
    "                         description='Captures ingredient names.',\n",
    "                         replacements={' ' : r'\\s+'}, \n",
    "                         ignore_case=True)\n",
    "# Add tests & examples\n",
    "TOIDUAINED.example('suhkrut')\n",
    "TOIDUAINED.example('võid')\n",
    "TOIDUAINED.example('siirupit')\n",
    "TOIDUAINED.full_match('vahukoort')\n",
    "TOIDUAINED.full_match('tumedat   šokolaadi')\n",
    "TOIDUAINED.full_match('valget  šokolaadi')\n",
    "TOIDUAINED.no_match('telliskive')\n",
    "TOIDUAINED"
   ]
  },
  {
   "cell_type": "markdown",
   "id": "42531f9f",
   "metadata": {},
   "source": [
    "Note that the left hand of the replacement rule can be only **a single character that is interpreted as a plain character**, not a regex meta character. \n",
    "The right-hand side of the rule is **a regex string**, in which meta characters (such as `.` or `+`) need to be properly escaped."
   ]
  },
  {
   "cell_type": "markdown",
   "id": "783346dc",
   "metadata": {},
   "source": [
    "#### StringList import\n",
    "\n",
    "You can also import StringList-s from CSV or TXT files. Use the function `StringList.from_file()`, which has the following signature:\n",
    "\n",
    "```python\n",
    "StringList.from_file(file: Union[str, List[str]],\n",
    "                     column: str = None,\n",
    "                     group_name: str = None,\n",
    "                     description: str = None,\n",
    "                     replacements: Dict[str, str] = None,\n",
    "                     ignore_case: bool = False,\n",
    "                     ...) -> StringList:\n",
    "```\n",
    "\n",
    "* `file` can be either a single file path or a list of file paths. Each file name must have `.txt` or `.csv` extension, which is used to determine file type;\n",
    "* `column` is used to extract strings from specific column in `.csv` files; if not provided, then strings will be extracted frm the first column by default. In `.txt` files, each row will extracted as an element of the string list;\n",
    "* Parameters `group_name`, `description`, `replacements`, `ignore_case` are passed on to the `StringList` upon initialization; note that these values need to be set beforehand, as they cannot be changed after the `StringList` has been initialized;\n",
    "* `...` -- additional arguments can be used to control the csv parsing with `pandas.read_csv` function;\n",
    "\n",
    "#### StringList export\n",
    "\n",
    "You can export strings of a StringList into a CSV via the method `to_csv()`:\n",
    "\n",
    "```python\n",
    "my_stringlist.to_csv(file: str, \n",
    "                     column: str = 'string_list')\n",
    "```\n",
    "\n",
    "Note that only plain text strings will be saved, without any post-processing (no sorting, no removal of duplicates nor applying replacements)."
   ]
  },
  {
   "cell_type": "markdown",
   "id": "8658a5c9",
   "metadata": {},
   "source": [
    "#### ChoiceGroup\n",
    "\n",
    "`ChoiceGroup` allows to systematically construct and test complex `RegexElement` choice groups. Currently, it provides the following functionalities:\n",
    "\n",
    "* If all choice group elements are `StringList`-s, then it automatically constructs the expression in a way that all strings are properly ordered (matching with the longest string is guaranteed) and `ignore_case` settings of all `StringList`-s will be preserved. Note that all `StringList`-s must have the same `replacements`.\n",
    "* All tests of choice group sub-expressions can be automatically carried over to tests of the `ChoiceGroup`, so it can be tested whether the order of sub-expressions is correct / satisfies tests. Note, however, that this is not a default behaviour, but needs to be switched on by special flags."
   ]
  },
  {
   "cell_type": "markdown",
   "id": "5909a7c1",
   "metadata": {},
   "source": [
    "Let's rewrite KOGUS (quantity) pattern in a way that it allows ranges of quantities in addition to simple quantities:"
   ]
  },
  {
   "cell_type": "code",
   "execution_count": 15,
   "id": "50f58495",
   "metadata": {},
   "outputs": [],
   "source": [
    "from estnltk.taggers.system.rule_taggers.regex_library.choice_group import ChoiceGroup\n",
    "\n",
    "# Create pattern\n",
    "ARV = RegexElement('([0-9]+[.,])?[0-9]+', description='Captures integer and decimal quantities.')\n",
    "# Add tests\n",
    "ARV.full_match('1')\n",
    "ARV.full_match('100')\n",
    "ARV.full_match('1,5')\n",
    "ARV.full_match('2.5')\n",
    "ARV.no_match('x')\n",
    "ARV.no_match('N/A')\n",
    "ARV.no_match('teadmata arv')\n",
    "ARV.partial_match('<=3', '3')\n",
    "ARV.partial_match('~2', '2')\n",
    "\n",
    "# Create pattern\n",
    "ARVU_VAHEMIK = RegexElement(fr'{ARV}\\s*(kuni|-)\\s*{ARV}', \n",
    "                            description='Captures ranges of integer and decimal quantities.')\n",
    "# Add tests\n",
    "ARVU_VAHEMIK.full_match('1-2')\n",
    "ARVU_VAHEMIK.full_match('100 kuni 150')\n",
    "ARVU_VAHEMIK.full_match('1,5 - 2')\n",
    "ARVU_VAHEMIK.full_match('2.5 kuni 3')\n",
    "ARVU_VAHEMIK.no_match('x kuni y')\n",
    "ARVU_VAHEMIK.no_match('N/A')\n",
    "ARVU_VAHEMIK.no_match('teadmata arv')\n",
    "ARVU_VAHEMIK.partial_match('~2-3', '2-3')\n",
    "\n",
    "# Redefine KOGUS as ChoiceGroup\n",
    "KOGUS = ChoiceGroup([ARVU_VAHEMIK, ARV], group_name='quantity', \n",
    "                    description='Captures integer and decimal quantities, including ranges.',\n",
    "                    merge_positive_tests=True,\n",
    "                    merge_negative_tests=True,\n",
    "                    merge_extraction_tests=True)\n",
    "# Add tests\n",
    "KOGUS.full_match('2')\n",
    "KOGUS.full_match('1,55')\n",
    "KOGUS.full_match('3.5-4')\n",
    "KOGUS.no_match('y')\n",
    "KOGUS.no_match('??-??')\n",
    "KOGUS.partial_match(' 3-4 ', '3-4')\n",
    "KOGUS.partial_match('~2', '2')"
   ]
  },
  {
   "cell_type": "markdown",
   "id": "334cf487",
   "metadata": {},
   "source": [
    "Flags `merge_positive_tests`, `merge_negative_tests` and `merge_extraction_tests` can be used to guide which types of tests will be gathered from sub-expressions and carried over to the choice group expression. \n",
    "Note that there is no default strategy for deciding which tests should be carried over -- it is up for the user to guide the merging process."
   ]
  },
  {
   "cell_type": "code",
   "execution_count": 16,
   "id": "e0a65cff",
   "metadata": {},
   "outputs": [
    {
     "data": {
      "text/html": [
       "<b>regex:</b> (?P&lt;quantity&gt;(?:(?:([0-9]+[.,])?[0-9]+)\\s*(kuni|-)\\s*(?:([0-9]+[.,])?[0-9]+))|(?:([0-9]+[.,])?[0-9]+))<br/><b>description:</b> <p>Captures integer and decimal quantities, including ranges.</p></br><style type=\"text/css\">\n",
       "#T_01fad_row0_col1, #T_01fad_row1_col1, #T_01fad_row2_col1 {\n",
       "  color: green;\n",
       "}\n",
       "#T_01fad_row0_col2, #T_01fad_row1_col2, #T_01fad_row2_col2 {\n",
       "  color: black;\n",
       "}\n",
       "</style>\n",
       "<table id=\"T_01fad\">\n",
       "  <caption>Testing results</caption>\n",
       "  <thead>\n",
       "    <tr>\n",
       "      <th id=\"T_01fad_level0_col0\" class=\"col_heading level0 col0\" >Test group</th>\n",
       "      <th id=\"T_01fad_level0_col1\" class=\"col_heading level0 col1\" >passed</th>\n",
       "      <th id=\"T_01fad_level0_col2\" class=\"col_heading level0 col2\" >failed</th>\n",
       "    </tr>\n",
       "  </thead>\n",
       "  <tbody>\n",
       "    <tr>\n",
       "      <td id=\"T_01fad_row0_col0\" class=\"data row0 col0\" >positive examples</td>\n",
       "      <td id=\"T_01fad_row0_col1\" class=\"data row0 col1\" >11</td>\n",
       "      <td id=\"T_01fad_row0_col2\" class=\"data row0 col2\" >0</td>\n",
       "    </tr>\n",
       "    <tr>\n",
       "      <td id=\"T_01fad_row1_col0\" class=\"data row1 col0\" >negative examples</td>\n",
       "      <td id=\"T_01fad_row1_col1\" class=\"data row1 col1\" >6</td>\n",
       "      <td id=\"T_01fad_row1_col2\" class=\"data row1 col2\" >0</td>\n",
       "    </tr>\n",
       "    <tr>\n",
       "      <td id=\"T_01fad_row2_col0\" class=\"data row2 col0\" >extraction tests</td>\n",
       "      <td id=\"T_01fad_row2_col1\" class=\"data row2 col1\" >5</td>\n",
       "      <td id=\"T_01fad_row2_col2\" class=\"data row2 col2\" >0</td>\n",
       "    </tr>\n",
       "  </tbody>\n",
       "</table>\n"
      ],
      "text/plain": [
       "(?P<quantity>(?:(?:([0-9]+[.,])?[0-9]+)\\s*(kuni|-)\\s*(?:([0-9]+[.,])?[0-9]+))|(?:([0-9]+[.,])?[0-9]+))"
      ]
     },
     "execution_count": 16,
     "metadata": {},
     "output_type": "execute_result"
    }
   ],
   "source": [
    "# Check tests\n",
    "KOGUS"
   ]
  },
  {
   "cell_type": "code",
   "execution_count": 17,
   "id": "45c37cbb",
   "metadata": {},
   "outputs": [
    {
     "data": {
      "text/html": [
       "<div>\n",
       "<style scoped>\n",
       "    .dataframe tbody tr th:only-of-type {\n",
       "        vertical-align: middle;\n",
       "    }\n",
       "\n",
       "    .dataframe tbody tr th {\n",
       "        vertical-align: top;\n",
       "    }\n",
       "\n",
       "    .dataframe thead th {\n",
       "        text-align: right;\n",
       "    }\n",
       "</style>\n",
       "<table border=\"1\" class=\"dataframe\">\n",
       "  <thead>\n",
       "    <tr style=\"text-align: right;\">\n",
       "      <th></th>\n",
       "      <th>Example</th>\n",
       "      <th>Description</th>\n",
       "      <th>Status</th>\n",
       "    </tr>\n",
       "  </thead>\n",
       "  <tbody>\n",
       "    <tr>\n",
       "      <th>0</th>\n",
       "      <td>1-2</td>\n",
       "      <td>(auto-merged test)</td>\n",
       "      <td>+</td>\n",
       "    </tr>\n",
       "    <tr>\n",
       "      <th>1</th>\n",
       "      <td>100 kuni 150</td>\n",
       "      <td>(auto-merged test)</td>\n",
       "      <td>+</td>\n",
       "    </tr>\n",
       "    <tr>\n",
       "      <th>2</th>\n",
       "      <td>1,5 - 2</td>\n",
       "      <td>(auto-merged test)</td>\n",
       "      <td>+</td>\n",
       "    </tr>\n",
       "    <tr>\n",
       "      <th>3</th>\n",
       "      <td>2.5 kuni 3</td>\n",
       "      <td>(auto-merged test)</td>\n",
       "      <td>+</td>\n",
       "    </tr>\n",
       "    <tr>\n",
       "      <th>4</th>\n",
       "      <td>1</td>\n",
       "      <td>(auto-merged test)</td>\n",
       "      <td>+</td>\n",
       "    </tr>\n",
       "    <tr>\n",
       "      <th>5</th>\n",
       "      <td>100</td>\n",
       "      <td>(auto-merged test)</td>\n",
       "      <td>+</td>\n",
       "    </tr>\n",
       "    <tr>\n",
       "      <th>6</th>\n",
       "      <td>1,5</td>\n",
       "      <td>(auto-merged test)</td>\n",
       "      <td>+</td>\n",
       "    </tr>\n",
       "    <tr>\n",
       "      <th>7</th>\n",
       "      <td>2.5</td>\n",
       "      <td>(auto-merged test)</td>\n",
       "      <td>+</td>\n",
       "    </tr>\n",
       "    <tr>\n",
       "      <th>8</th>\n",
       "      <td>2</td>\n",
       "      <td></td>\n",
       "      <td>+</td>\n",
       "    </tr>\n",
       "    <tr>\n",
       "      <th>9</th>\n",
       "      <td>1,55</td>\n",
       "      <td></td>\n",
       "      <td>+</td>\n",
       "    </tr>\n",
       "    <tr>\n",
       "      <th>10</th>\n",
       "      <td>3.5-4</td>\n",
       "      <td></td>\n",
       "      <td>+</td>\n",
       "    </tr>\n",
       "  </tbody>\n",
       "</table>\n",
       "</div>"
      ],
      "text/plain": [
       "         Example         Description Status\n",
       "0            1-2  (auto-merged test)      +\n",
       "1   100 kuni 150  (auto-merged test)      +\n",
       "2        1,5 - 2  (auto-merged test)      +\n",
       "3     2.5 kuni 3  (auto-merged test)      +\n",
       "4              1  (auto-merged test)      +\n",
       "5            100  (auto-merged test)      +\n",
       "6            1,5  (auto-merged test)      +\n",
       "7            2.5  (auto-merged test)      +\n",
       "8              2                          +\n",
       "9           1,55                          +\n",
       "10         3.5-4                          +"
      ]
     },
     "execution_count": 17,
     "metadata": {},
     "output_type": "execute_result"
    }
   ],
   "source": [
    "# Check positive tests\n",
    "KOGUS.evaluate_positive_examples()"
   ]
  },
  {
   "cell_type": "markdown",
   "id": "aa89d18b",
   "metadata": {},
   "source": [
    "Description `(auto-merged test)` indicates that the test has been carried over from sub-expression tests."
   ]
  },
  {
   "cell_type": "markdown",
   "id": "33b9f00c",
   "metadata": {},
   "source": [
    "### Output truncation\n",
    "\n",
    "If patterns and examples grow long and fill up entire sections of the output, it is desirable to truncate output strings. While `RegexElement` does not apply output truncation by default, it provides class variables for switching on truncation and for modifying the maximum string length in the output.\n",
    "\n",
    "Let's construct a final, long version of the KOOSTISOSA pattern:"
   ]
  },
  {
   "cell_type": "code",
   "execution_count": 18,
   "id": "cd1643be",
   "metadata": {},
   "outputs": [
    {
     "data": {
      "text/html": [
       "<b>regex:</b> (?:(?P&lt;quantity&gt;(?:(?:([0-9]+[.,])?[0-9]+)\\s*(kuni|-)\\s*(?:([0-9]+[.,])?[0-9]+))|(?:([0-9]+[.,])?[0-9]+))\\s*(?P&lt;unit&gt;[Ss][Uu][Pp][Ii][Ll][Uu][Ss][Ii][Kk][Aa][Ss]|[Ss][Uu][Pp][Ii][Ll][Uu][Ss][Ii][Kk][Aa][Tt]|[Tt][Ee][Ee][Ll][Uu][Ss][Ii][Kk][Aa][Ss]|[Tt][Ee][Ee][Ll][Uu][Ss][Ii][Kk][Aa][Tt]|[Gg][Rr][Aa][Mm][Mm][Ii]|[Gg][Rr][Aa][Mm][Mm]|[Pp][Aa][Kk][Kk][Ii]|[Tt][Üü][Kk][Kk][Ii]|[Pp][Aa][Kk][Kk]|[Tt][Üü][Kk][Kk]|[Pp][Kk]|[Ss][Ll]|[Tt][Kk]|[Tt][Ll]|[Gg])\\s+(?P&lt;ingredient&gt;[Tt][Uu][Mm][Ee][Dd][Aa][Tt](?:\\s+)[Šš][Oo][Kk][Oo][Ll][Aa][Aa][Dd][Ii]|[Vv][Aa][Ll][Gg][Ee][Tt](?:\\s+)[Šš][Oo][Kk][Oo][Ll][Aa][Aa][Dd][Ii]|[Kk][Oo][Hh][Uu][Pp][Ii][Ii][Mm][Aa][Pp][Aa][Ss][Tt][Aa][Tt]|[Mm][Aa][Aa][Ss][Ii][Kk][Aa](?:\\s+)[Jj][Ää][Ää][Tt][Ii][Ss][Tt]|[Tt][Oo][Rr][Dd][Ii][Pp][Uu][Ll][Bb][Rr][Ii][Tt]|[Hh][Aa][Pp][Uu][Kk][Oo][Oo][Rr][Tt]|[Vv][Aa][Hh][Uu][Kk][Oo][Mm][Mm][Ee]|[Vv][Aa][Hh][Uu][Kk][Oo][Oo][Rr][Tt]|[Ss][Ii][Ii][Rr][Uu][Pp][Ii][Tt]|[Ss][Uu][Hh][Kk][Rr][Uu][Tt]|[Mm][Uu][Nn][Aa]|[Vv][Õõ][Ii][Dd]))<br/><b>description:</b> <p>Captures ingredients together with quantities and units.</p></br><style type=\"text/css\">\n",
       "#T_975e2_row0_col1, #T_975e2_row1_col1, #T_975e2_row2_col1 {\n",
       "  color: green;\n",
       "}\n",
       "#T_975e2_row0_col2, #T_975e2_row1_col2, #T_975e2_row2_col2 {\n",
       "  color: black;\n",
       "}\n",
       "</style>\n",
       "<table id=\"T_975e2\">\n",
       "  <caption>Testing results</caption>\n",
       "  <thead>\n",
       "    <tr>\n",
       "      <th id=\"T_975e2_level0_col0\" class=\"col_heading level0 col0\" >Test group</th>\n",
       "      <th id=\"T_975e2_level0_col1\" class=\"col_heading level0 col1\" >passed</th>\n",
       "      <th id=\"T_975e2_level0_col2\" class=\"col_heading level0 col2\" >failed</th>\n",
       "    </tr>\n",
       "  </thead>\n",
       "  <tbody>\n",
       "    <tr>\n",
       "      <td id=\"T_975e2_row0_col0\" class=\"data row0 col0\" >positive examples</td>\n",
       "      <td id=\"T_975e2_row0_col1\" class=\"data row0 col1\" >4</td>\n",
       "      <td id=\"T_975e2_row0_col2\" class=\"data row0 col2\" >0</td>\n",
       "    </tr>\n",
       "    <tr>\n",
       "      <td id=\"T_975e2_row1_col0\" class=\"data row1 col0\" >negative examples</td>\n",
       "      <td id=\"T_975e2_row1_col1\" class=\"data row1 col1\" >1</td>\n",
       "      <td id=\"T_975e2_row1_col2\" class=\"data row1 col2\" >0</td>\n",
       "    </tr>\n",
       "    <tr>\n",
       "      <td id=\"T_975e2_row2_col0\" class=\"data row2 col0\" >extraction tests</td>\n",
       "      <td id=\"T_975e2_row2_col1\" class=\"data row2 col1\" >1</td>\n",
       "      <td id=\"T_975e2_row2_col2\" class=\"data row2 col2\" >0</td>\n",
       "    </tr>\n",
       "  </tbody>\n",
       "</table>\n"
      ],
      "text/plain": [
       "(?:(?P<quantity>(?:(?:([0-9]+[.,])?[0-9]+)\\s*(kuni|-)\\s*(?:([0-9]+[.,])?[0-9]+))|(?:([0-9]+[.,])?[0-9]+))\\s*(?P<unit>[Ss][Uu][Pp][Ii][Ll][Uu][Ss][Ii][Kk][Aa][Ss]|[Ss][Uu][Pp][Ii][Ll][Uu][Ss][Ii][Kk][Aa][Tt]|[Tt][Ee][Ee][Ll][Uu][Ss][Ii][Kk][Aa][Ss]|[Tt][Ee][Ee][Ll][Uu][Ss][Ii][Kk][Aa][Tt]|[Gg][Rr][Aa][Mm][Mm][Ii]|[Gg][Rr][Aa][Mm][Mm]|[Pp][Aa][Kk][Kk][Ii]|[Tt][Üü][Kk][Kk][Ii]|[Pp][Aa][Kk][Kk]|[Tt][Üü][Kk][Kk]|[Pp][Kk]|[Ss][Ll]|[Tt][Kk]|[Tt][Ll]|[Gg])\\s+(?P<ingredient>[Tt][Uu][Mm][Ee][Dd][Aa][Tt](?:\\s+)[Šš][Oo][Kk][Oo][Ll][Aa][Aa][Dd][Ii]|[Vv][Aa][Ll][Gg][Ee][Tt](?:\\s+)[Šš][Oo][Kk][Oo][Ll][Aa][Aa][Dd][Ii]|[Kk][Oo][Hh][Uu][Pp][Ii][Ii][Mm][Aa][Pp][Aa][Ss][Tt][Aa][Tt]|[Mm][Aa][Aa][Ss][Ii][Kk][Aa](?:\\s+)[Jj][Ää][Ää][Tt][Ii][Ss][Tt]|[Tt][Oo][Rr][Dd][Ii][Pp][Uu][Ll][Bb][Rr][Ii][Tt]|[Hh][Aa][Pp][Uu][Kk][Oo][Oo][Rr][Tt]|[Vv][Aa][Hh][Uu][Kk][Oo][Mm][Mm][Ee]|[Vv][Aa][Hh][Uu][Kk][Oo][Oo][Rr][Tt]|[Ss][Ii][Ii][Rr][Uu][Pp][Ii][Tt]|[Ss][Uu][Hh][Kk][Rr][Uu][Tt]|[Mm][Uu][Nn][Aa]|[Vv][Õõ][Ii][Dd]))"
      ]
     },
     "execution_count": 18,
     "metadata": {},
     "output_type": "execute_result"
    }
   ],
   "source": [
    "# Create a pattern combining other patterns\n",
    "KOOSTISOSA = RegexElement(fr'{KOGUS}\\s*{YHIK}\\s+{TOIDUAINED}', \n",
    "                          description='Captures ingredients together with quantities and units.')\n",
    "# Add tests\n",
    "KOOSTISOSA.full_match('1-2 supilusikat suhkrut')\n",
    "KOOSTISOSA.full_match('2.5 sl võid')\n",
    "KOOSTISOSA.full_match('4 kuni 5 teelusikat siirupit')\n",
    "KOOSTISOSA.full_match('300g vahukoort')\n",
    "KOOSTISOSA.no_match('10 tonni telliskive')\n",
    "KOOSTISOSA.partial_match('100g vahukomme ka', {'quantity':'100', 'unit':'g', 'ingredient':'vahukomme'})\n",
    "# Regular output\n",
    "KOOSTISOSA"
   ]
  },
  {
   "cell_type": "code",
   "execution_count": 19,
   "id": "5d3541bd",
   "metadata": {},
   "outputs": [],
   "source": [
    "# Switch on truncation\n",
    "RegexElement.TRUNCATE = True\n",
    "# Set max string width\n",
    "RegexElement.MAX_STRING_WIDTH = 100"
   ]
  },
  {
   "cell_type": "code",
   "execution_count": 20,
   "id": "e0bd43cb",
   "metadata": {},
   "outputs": [
    {
     "data": {
      "text/html": [
       "<b>regex:</b> (?:(?P&lt;quantity&gt;(?:(?:([0-9]+[.,])?[0-9]+)\\s*(kun...][Rr][Uu][Tt]|[Mm][Uu][Nn][Aa]|[Vv][Õõ][Ii][Dd]))<br/><b>description:</b> <p>Captures ingredients together with quantities and units.</p></br><style type=\"text/css\">\n",
       "#T_c54fa_row0_col1, #T_c54fa_row1_col1, #T_c54fa_row2_col1 {\n",
       "  color: green;\n",
       "}\n",
       "#T_c54fa_row0_col2, #T_c54fa_row1_col2, #T_c54fa_row2_col2 {\n",
       "  color: black;\n",
       "}\n",
       "</style>\n",
       "<table id=\"T_c54fa\">\n",
       "  <caption>Testing results</caption>\n",
       "  <thead>\n",
       "    <tr>\n",
       "      <th id=\"T_c54fa_level0_col0\" class=\"col_heading level0 col0\" >Test group</th>\n",
       "      <th id=\"T_c54fa_level0_col1\" class=\"col_heading level0 col1\" >passed</th>\n",
       "      <th id=\"T_c54fa_level0_col2\" class=\"col_heading level0 col2\" >failed</th>\n",
       "    </tr>\n",
       "  </thead>\n",
       "  <tbody>\n",
       "    <tr>\n",
       "      <td id=\"T_c54fa_row0_col0\" class=\"data row0 col0\" >positive examples</td>\n",
       "      <td id=\"T_c54fa_row0_col1\" class=\"data row0 col1\" >4</td>\n",
       "      <td id=\"T_c54fa_row0_col2\" class=\"data row0 col2\" >0</td>\n",
       "    </tr>\n",
       "    <tr>\n",
       "      <td id=\"T_c54fa_row1_col0\" class=\"data row1 col0\" >negative examples</td>\n",
       "      <td id=\"T_c54fa_row1_col1\" class=\"data row1 col1\" >1</td>\n",
       "      <td id=\"T_c54fa_row1_col2\" class=\"data row1 col2\" >0</td>\n",
       "    </tr>\n",
       "    <tr>\n",
       "      <td id=\"T_c54fa_row2_col0\" class=\"data row2 col0\" >extraction tests</td>\n",
       "      <td id=\"T_c54fa_row2_col1\" class=\"data row2 col1\" >1</td>\n",
       "      <td id=\"T_c54fa_row2_col2\" class=\"data row2 col2\" >0</td>\n",
       "    </tr>\n",
       "  </tbody>\n",
       "</table>\n"
      ],
      "text/plain": [
       "(?:(?P<quantity>(?:(?:([0-9]+[.,])?[0-9]+)\\s*(kuni|-)\\s*(?:([0-9]+[.,])?[0-9]+))|(?:([0-9]+[.,])?[0-9]+))\\s*(?P<unit>[Ss][Uu][Pp][Ii][Ll][Uu][Ss][Ii][Kk][Aa][Ss]|[Ss][Uu][Pp][Ii][Ll][Uu][Ss][Ii][Kk][Aa][Tt]|[Tt][Ee][Ee][Ll][Uu][Ss][Ii][Kk][Aa][Ss]|[Tt][Ee][Ee][Ll][Uu][Ss][Ii][Kk][Aa][Tt]|[Gg][Rr][Aa][Mm][Mm][Ii]|[Gg][Rr][Aa][Mm][Mm]|[Pp][Aa][Kk][Kk][Ii]|[Tt][Üü][Kk][Kk][Ii]|[Pp][Aa][Kk][Kk]|[Tt][Üü][Kk][Kk]|[Pp][Kk]|[Ss][Ll]|[Tt][Kk]|[Tt][Ll]|[Gg])\\s+(?P<ingredient>[Tt][Uu][Mm][Ee][Dd][Aa][Tt](?:\\s+)[Šš][Oo][Kk][Oo][Ll][Aa][Aa][Dd][Ii]|[Vv][Aa][Ll][Gg][Ee][Tt](?:\\s+)[Šš][Oo][Kk][Oo][Ll][Aa][Aa][Dd][Ii]|[Kk][Oo][Hh][Uu][Pp][Ii][Ii][Mm][Aa][Pp][Aa][Ss][Tt][Aa][Tt]|[Mm][Aa][Aa][Ss][Ii][Kk][Aa](?:\\s+)[Jj][Ää][Ää][Tt][Ii][Ss][Tt]|[Tt][Oo][Rr][Dd][Ii][Pp][Uu][Ll][Bb][Rr][Ii][Tt]|[Hh][Aa][Pp][Uu][Kk][Oo][Oo][Rr][Tt]|[Vv][Aa][Hh][Uu][Kk][Oo][Mm][Mm][Ee]|[Vv][Aa][Hh][Uu][Kk][Oo][Oo][Rr][Tt]|[Ss][Ii][Ii][Rr][Uu][Pp][Ii][Tt]|[Ss][Uu][Hh][Kk][Rr][Uu][Tt]|[Mm][Uu][Nn][Aa]|[Vv][Õõ][Ii][Dd]))"
      ]
     },
     "execution_count": 20,
     "metadata": {},
     "output_type": "execute_result"
    }
   ],
   "source": [
    "# truncated output\n",
    "KOOSTISOSA"
   ]
  },
  {
   "cell_type": "markdown",
   "id": "db68014c",
   "metadata": {},
   "source": [
    "Truncation is applied to examples and patterns longer than `MAX_STRING_WIDTH` in the `DataFrame` and HTML output, and in test error messages. "
   ]
  },
  {
   "cell_type": "markdown",
   "id": "36e09d2a",
   "metadata": {},
   "source": [
    "### Finalizing the pattern\n",
    "\n",
    "Once you've documented and covered a regex pattern with tests, use function `str(...)` to reveal the full regular expression string:"
   ]
  },
  {
   "cell_type": "code",
   "execution_count": 21,
   "id": "d88c3bbc",
   "metadata": {},
   "outputs": [
    {
     "data": {
      "text/plain": [
       "'(?:(?P<quantity>(?:(?:([0-9]+[.,])?[0-9]+)\\\\s*(kuni|-)\\\\s*(?:([0-9]+[.,])?[0-9]+))|(?:([0-9]+[.,])?[0-9]+))\\\\s*(?P<unit>[Ss][Uu][Pp][Ii][Ll][Uu][Ss][Ii][Kk][Aa][Ss]|[Ss][Uu][Pp][Ii][Ll][Uu][Ss][Ii][Kk][Aa][Tt]|[Tt][Ee][Ee][Ll][Uu][Ss][Ii][Kk][Aa][Ss]|[Tt][Ee][Ee][Ll][Uu][Ss][Ii][Kk][Aa][Tt]|[Gg][Rr][Aa][Mm][Mm][Ii]|[Gg][Rr][Aa][Mm][Mm]|[Pp][Aa][Kk][Kk][Ii]|[Tt][Üü][Kk][Kk][Ii]|[Pp][Aa][Kk][Kk]|[Tt][Üü][Kk][Kk]|[Pp][Kk]|[Ss][Ll]|[Tt][Kk]|[Tt][Ll]|[Gg])\\\\s+(?P<ingredient>[Tt][Uu][Mm][Ee][Dd][Aa][Tt](?:\\\\s+)[Šš][Oo][Kk][Oo][Ll][Aa][Aa][Dd][Ii]|[Vv][Aa][Ll][Gg][Ee][Tt](?:\\\\s+)[Šš][Oo][Kk][Oo][Ll][Aa][Aa][Dd][Ii]|[Kk][Oo][Hh][Uu][Pp][Ii][Ii][Mm][Aa][Pp][Aa][Ss][Tt][Aa][Tt]|[Mm][Aa][Aa][Ss][Ii][Kk][Aa](?:\\\\s+)[Jj][Ää][Ää][Tt][Ii][Ss][Tt]|[Tt][Oo][Rr][Dd][Ii][Pp][Uu][Ll][Bb][Rr][Ii][Tt]|[Hh][Aa][Pp][Uu][Kk][Oo][Oo][Rr][Tt]|[Vv][Aa][Hh][Uu][Kk][Oo][Mm][Mm][Ee]|[Vv][Aa][Hh][Uu][Kk][Oo][Oo][Rr][Tt]|[Ss][Ii][Ii][Rr][Uu][Pp][Ii][Tt]|[Ss][Uu][Hh][Kk][Rr][Uu][Tt]|[Mm][Uu][Nn][Aa]|[Vv][Õõ][Ii][Dd]))'"
      ]
     },
     "execution_count": 21,
     "metadata": {},
     "output_type": "execute_result"
    }
   ],
   "source": [
    "str(KOOSTISOSA)"
   ]
  },
  {
   "cell_type": "markdown",
   "id": "402dbcc9",
   "metadata": {},
   "source": [
    "Use the class method `compile()` to convert the pattern into a `regex.Regex` object:"
   ]
  },
  {
   "cell_type": "code",
   "execution_count": 22,
   "id": "8228d032",
   "metadata": {},
   "outputs": [
    {
     "data": {
      "text/plain": [
       "regex.Regex('(?:(?P<quantity>(?:(?:([0-9]+[.,])?[0-9]+)\\\\s*(kuni|-)\\\\s*(?:([0-9]+[.,])?[0-9]+))|(?:([0-9]+[.,])?[0-9]+))\\\\s*(?P<unit>[Ss][Uu][Pp][Ii][Ll][Uu][Ss][Ii][Kk][Aa][Ss]|[Ss][Uu][Pp][Ii][Ll][Uu][Ss][Ii][Kk][Aa][Tt]|[Tt][Ee][Ee][Ll][Uu][Ss][Ii][Kk][Aa][Ss]|[Tt][Ee][Ee][Ll][Uu][Ss][Ii][Kk][Aa][Tt]|[Gg][Rr][Aa][Mm][Mm][Ii]|[Gg][Rr][Aa][Mm][Mm]|[Pp][Aa][Kk][Kk][Ii]|[Tt][Üü][Kk][Kk][Ii]|[Pp][Aa][Kk][Kk]|[Tt][Üü][Kk][Kk]|[Pp][Kk]|[Ss][Ll]|[Tt][Kk]|[Tt][Ll]|[Gg])\\\\s+(?P<ingredient>[Tt][Uu][Mm][Ee][Dd][Aa][Tt](?:\\\\s+)[Šš][Oo][Kk][Oo][Ll][Aa][Aa][Dd][Ii]|[Vv][Aa][Ll][Gg][Ee][Tt](?:\\\\s+)[Šš][Oo][Kk][Oo][Ll][Aa][Aa][Dd][Ii]|[Kk][Oo][Hh][Uu][Pp][Ii][Ii][Mm][Aa][Pp][Aa][Ss][Tt][Aa][Tt]|[Mm][Aa][Aa][Ss][Ii][Kk][Aa](?:\\\\s+)[Jj][Ää][Ää][Tt][Ii][Ss][Tt]|[Tt][Oo][Rr][Dd][Ii][Pp][Uu][Ll][Bb][Rr][Ii][Tt]|[Hh][Aa][Pp][Uu][Kk][Oo][Oo][Rr][Tt]|[Vv][Aa][Hh][Uu][Kk][Oo][Mm][Mm][Ee]|[Vv][Aa][Hh][Uu][Kk][Oo][Oo][Rr][Tt]|[Ss][Ii][Ii][Rr][Uu][Pp][Ii][Tt]|[Ss][Uu][Hh][Kk][Rr][Uu][Tt]|[Mm][Uu][Nn][Aa]|[Vv][Õõ][Ii][Dd]))', flags=regex.V0)"
      ]
     },
     "execution_count": 22,
     "metadata": {},
     "output_type": "execute_result"
    }
   ],
   "source": [
    "KOOSTISOSA.compile()"
   ]
  },
  {
   "cell_type": "markdown",
   "id": "29bb6aae",
   "metadata": {},
   "source": [
    "You can also pass [flags](https://docs.python.org/3/library/re.html#flags), such as `regex.IGNORECASE` and `regex.DOTALL`, to the `compile()` method."
   ]
  },
  {
   "cell_type": "markdown",
   "id": "8c27a465",
   "metadata": {},
   "source": [
    "### Limitations\n",
    "\n",
    "The encapsulation provided by `RegexElement` makes it much safer to specify what should be matched by the regular expression, but it still has limitations. \n",
    "First, one cannot specify additional consistency constraints inside the hierarchical definition nor aggregate the contents of capture groups. \n",
    "If you need such features, use grammar rules instead. \n",
    "Second, self-overlapping can cause subtle errors. This is particularly true in case of string replacement. One way to diagnose is to compare `regex.sub(..., count=-1)` and several invocations of `regex.sub.(..., count=1)` to see if there are some differences."
   ]
  },
  {
   "cell_type": "markdown",
   "id": "2ffeb141",
   "metadata": {},
   "source": [
    "### Using the pattern with RegexTagger\n",
    "\n",
    "After creating a pattern, you can use it in a `RegexTagger`. \n",
    "Here, we give a brief example on how to do that, without going into details. \n",
    "Please see other tutorials in this folder for detailed explanations on how to construct rules and how to create rule taggers. "
   ]
  },
  {
   "cell_type": "code",
   "execution_count": 23,
   "id": "cc2828c1",
   "metadata": {},
   "outputs": [],
   "source": [
    "from estnltk import Text\n",
    "from estnltk.taggers import RegexTagger\n",
    "from estnltk.taggers.system.rule_taggers import Ruleset\n",
    "from estnltk.taggers.system.rule_taggers import StaticExtractionRule\n",
    "\n",
    "# Make rule set for RegexTagger\n",
    "rule_list = [StaticExtractionRule(pattern=KOOSTISOSA.compile())]\n",
    "ruleset = Ruleset()\n",
    "ruleset.add_rules(rule_list)\n",
    "\n",
    "# Use a decorator to rewrite capture group values to annotations\n",
    "def decorator(layer, base_span, annotation):\n",
    "    annotation['quantity'] = annotation['match'].group('quantity')\n",
    "    annotation['unit'] = annotation['match'].group('unit')\n",
    "    annotation['ingredient'] = annotation['match'].group('ingredient')\n",
    "    return annotation\n",
    "\n",
    "# Create RegexTagger\n",
    "regex_tagger = RegexTagger(ruleset=ruleset, \n",
    "                           output_layer='food_ingredients',\n",
    "                           output_attributes=['quantity', 'unit', 'ingredient'], \n",
    "                           decorator=decorator)"
   ]
  },
  {
   "cell_type": "code",
   "execution_count": 24,
   "id": "7512cf4e",
   "metadata": {},
   "outputs": [
    {
     "data": {
      "text/html": [
       "<h4>Layer</h4>\n",
       "\n",
       "\n",
       "<table border=\"1\" class=\"dataframe\">\n",
       "  <thead>\n",
       "    <tr style=\"text-align: right;\">\n",
       "      <th>layer name</th>\n",
       "      <th>attributes</th>\n",
       "      <th>parent</th>\n",
       "      <th>enveloping</th>\n",
       "      <th>ambiguous</th>\n",
       "      <th>span count</th>\n",
       "    </tr>\n",
       "  </thead>\n",
       "  <tbody>\n",
       "    <tr>\n",
       "      <td>food_ingredients</td>\n",
       "      <td>quantity, unit, ingredient</td>\n",
       "      <td>None</td>\n",
       "      <td>None</td>\n",
       "      <td>True</td>\n",
       "      <td>6</td>\n",
       "    </tr>\n",
       "  </tbody>\n",
       "</table>\n",
       "<style type=\"text/css\">\n",
       "</style>\n",
       "<table id=\"T_5ec3b\">\n",
       "  <thead>\n",
       "    <tr>\n",
       "      <th id=\"T_5ec3b_level0_col0\" class=\"col_heading level0 col0\" >text</th>\n",
       "      <th id=\"T_5ec3b_level0_col1\" class=\"col_heading level0 col1\" >quantity</th>\n",
       "      <th id=\"T_5ec3b_level0_col2\" class=\"col_heading level0 col2\" >unit</th>\n",
       "      <th id=\"T_5ec3b_level0_col3\" class=\"col_heading level0 col3\" >ingredient</th>\n",
       "    </tr>\n",
       "  </thead>\n",
       "  <tbody>\n",
       "    <tr>\n",
       "      <td id=\"T_5ec3b_row0_col0\" class=\"data row0 col0\" >1 pakk tordipulbrit</td>\n",
       "      <td id=\"T_5ec3b_row0_col1\" class=\"data row0 col1\" >1</td>\n",
       "      <td id=\"T_5ec3b_row0_col2\" class=\"data row0 col2\" >pakk</td>\n",
       "      <td id=\"T_5ec3b_row0_col3\" class=\"data row0 col3\" >tordipulbrit</td>\n",
       "    </tr>\n",
       "    <tr>\n",
       "      <td id=\"T_5ec3b_row1_col0\" class=\"data row1 col0\" >4 tk muna</td>\n",
       "      <td id=\"T_5ec3b_row1_col1\" class=\"data row1 col1\" >4</td>\n",
       "      <td id=\"T_5ec3b_row1_col2\" class=\"data row1 col2\" >tk</td>\n",
       "      <td id=\"T_5ec3b_row1_col3\" class=\"data row1 col3\" >muna</td>\n",
       "    </tr>\n",
       "    <tr>\n",
       "      <td id=\"T_5ec3b_row2_col0\" class=\"data row2 col0\" >400 g kohupiimapastat</td>\n",
       "      <td id=\"T_5ec3b_row2_col1\" class=\"data row2 col1\" >400</td>\n",
       "      <td id=\"T_5ec3b_row2_col2\" class=\"data row2 col2\" >g</td>\n",
       "      <td id=\"T_5ec3b_row2_col3\" class=\"data row2 col3\" >kohupiimapastat</td>\n",
       "    </tr>\n",
       "    <tr>\n",
       "      <td id=\"T_5ec3b_row3_col0\" class=\"data row3 col0\" >4 sl suhkrut</td>\n",
       "      <td id=\"T_5ec3b_row3_col1\" class=\"data row3 col1\" >4</td>\n",
       "      <td id=\"T_5ec3b_row3_col2\" class=\"data row3 col2\" >sl</td>\n",
       "      <td id=\"T_5ec3b_row3_col3\" class=\"data row3 col3\" >suhkrut</td>\n",
       "    </tr>\n",
       "    <tr>\n",
       "      <td id=\"T_5ec3b_row4_col0\" class=\"data row4 col0\" >200 g hapukoort</td>\n",
       "      <td id=\"T_5ec3b_row4_col1\" class=\"data row4 col1\" >200</td>\n",
       "      <td id=\"T_5ec3b_row4_col2\" class=\"data row4 col2\" >g</td>\n",
       "      <td id=\"T_5ec3b_row4_col3\" class=\"data row4 col3\" >hapukoort</td>\n",
       "    </tr>\n",
       "    <tr>\n",
       "      <td id=\"T_5ec3b_row5_col0\" class=\"data row5 col0\" >100 g võid</td>\n",
       "      <td id=\"T_5ec3b_row5_col1\" class=\"data row5 col1\" >100</td>\n",
       "      <td id=\"T_5ec3b_row5_col2\" class=\"data row5 col2\" >g</td>\n",
       "      <td id=\"T_5ec3b_row5_col3\" class=\"data row5 col3\" >võid</td>\n",
       "    </tr>\n",
       "  </tbody>\n",
       "</table>\n"
      ],
      "text/plain": [
       "Layer(name='food_ingredients', attributes=('quantity', 'unit', 'ingredient'), spans=SL[Span('1 pakk tordipulbrit', [{'quantity': '1', 'unit': 'pakk', 'ingredient': 'tordipulbrit'}]),\n",
       "Span('4 tk muna', [{'quantity': '4', 'unit': 'tk', 'ingredient': 'muna'}]),\n",
       "Span('400 g kohupiimapastat', [{'quantity': '400', 'unit': 'g', 'ingredient': 'kohupiimapastat'}]),\n",
       "Span('4 sl suhkrut', [{'quantity': '4', 'unit': 'sl', 'ingredient': 'suhkrut'}]),\n",
       "Span('200 g hapukoort', [{'quantity': '200', 'unit': 'g', 'ingredient': 'hapukoort'}]),\n",
       "Span('100 g võid', [{'quantity': '100', 'unit': 'g', 'ingredient': 'võid'}])])"
      ]
     },
     "execution_count": 24,
     "metadata": {},
     "output_type": "execute_result"
    }
   ],
   "source": [
    "# Example for analysis\n",
    "example_text = \"\"\"\n",
    "1 pakk tordipulbrit \n",
    "4 tk muna \n",
    "400 g kohupiimapastat\n",
    "4 sl suhkrut\n",
    "200 g hapukoort\n",
    "100 g võid\n",
    "\"\"\"\n",
    "\n",
    "# Apply the tagger\n",
    "text = Text(example_text)\n",
    "regex_tagger.tag(text)\n",
    "\n",
    "# Check the results\n",
    "text['food_ingredients']"
   ]
  },
  {
   "cell_type": "markdown",
   "id": "bbd37921",
   "metadata": {},
   "source": [
    "---"
   ]
  }
 ],
 "metadata": {
  "kernelspec": {
   "display_name": "Python 3 (ipykernel)",
   "language": "python",
   "name": "python3"
  },
  "language_info": {
   "codemirror_mode": {
    "name": "ipython",
    "version": 3
   },
   "file_extension": ".py",
   "mimetype": "text/x-python",
   "name": "python",
   "nbconvert_exporter": "python",
   "pygments_lexer": "ipython3",
   "version": "3.12.3"
  }
 },
 "nbformat": 4,
 "nbformat_minor": 5
}
