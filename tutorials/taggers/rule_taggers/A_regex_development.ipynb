{
 "cells": [
  {
   "cell_type": "markdown",
   "id": "163da0ff",
   "metadata": {},
   "source": [
    "# How to systematically build regular expression patterns\n",
    "\n",
    "In this notebook, we show how to systematically develop regular expression patterns that can be used for information extraction.\n",
    "\n",
    "EstNLTK provides class `RegexElement`, which wraps around the [regex library](https://pypi.org/project/regex/) and simplifies \n",
    "documenting and testing regex patterns. \n",
    "It is possible to add tests for positive, negative and partial matches, and to automatically test patterns. \n",
    "`RegexElement` subclasses add a way to construct regular expressions in an hierarchical manner together with test synthesis, which automatically combines existing tests of sub-expression.\n",
    "\n",
    "For an example, let's develop a regex for extracting ingredient information from food recipes, such as:"
   ]
  },
  {
   "cell_type": "code",
   "execution_count": 1,
   "id": "340154c6",
   "metadata": {},
   "outputs": [],
   "source": [
    "example_ingredients = \"\"\"\n",
    "1 pakk tordipulbrit \n",
    "4 tk muna \n",
    "400 g kohupiimapastat\n",
    "4 sl suhkrut\n",
    "200 g hapukoort\n",
    "100 g võid\n",
    "\"\"\""
   ]
  },
  {
   "cell_type": "code",
   "execution_count": 2,
   "id": "59f2fe09",
   "metadata": {},
   "outputs": [],
   "source": [
    "from estnltk.taggers.system.rule_taggers.regex_library.regex_element import RegexElement\n",
    "\n",
    "# Create pattern\n",
    "ARV = RegexElement('([0-9]+[.,])?[0-9]+', group_name='quantity', \n",
    "                   description='Captures integer and decimal quantities.')\n",
    "# Add tests\n",
    "ARV.full_match('1')\n",
    "ARV.full_match('100')\n",
    "ARV.full_match('1,5')\n",
    "ARV.full_match('2.5')\n",
    "ARV.no_match('x')\n",
    "ARV.no_match('N/A')\n",
    "ARV.no_match('teadmata arv')\n",
    "ARV.partial_match('<=3', '3')\n",
    "ARV.partial_match('~2', '2')\n",
    "\n",
    "# Create pattern\n",
    "# (Note: there's a better way to do a string choice, read about the StringList below)\n",
    "KOGUS = RegexElement('(supilusika[ts]|teelusika[ts]|pakki?|grammi?|tk|sl|g)', group_name='unit',\n",
    "                     description='Captures 4 types of food units, including 3 unit abbreviations.')\n",
    "# Add tests\n",
    "KOGUS.full_match('supilusikat')\n",
    "KOGUS.full_match('teelusikas')\n",
    "KOGUS.full_match('tk')\n",
    "KOGUS.full_match('pakk')\n",
    "KOGUS.full_match('gramm')\n",
    "KOGUS.full_match('sl')\n",
    "KOGUS.full_match('g')\n",
    "KOGUS.no_match('tonni')\n",
    "KOGUS.no_match('puuda')\n",
    "KOGUS.partial_match('100g', 'g')\n",
    "KOGUS.partial_match('2tk', 'tk')\n",
    "\n",
    "# Create a pattern combining other patterns\n",
    "KOOSTISOSA = RegexElement(f'{ARV}\\s*{KOGUS}\\s+(?P<ingredient>[a-zöäüõšž]+)', \n",
    "                          description='Captures ingredients together with quantities and units.')\n",
    "# Add tests\n",
    "KOOSTISOSA.full_match('1 supilusikas suhkrut')\n",
    "KOOSTISOSA.full_match('2.5 sl võid')\n",
    "KOOSTISOSA.full_match('4 teelusikat siirupit')\n",
    "KOOSTISOSA.full_match('300g vahukoort')\n",
    "KOOSTISOSA.no_match('10 tonni telliskive')\n",
    "KOOSTISOSA.partial_match('100g vahukomme ka', {'quantity':'100', 'unit':'g', 'ingredient':'vahukomme'})"
   ]
  },
  {
   "cell_type": "markdown",
   "id": "18df51c9",
   "metadata": {},
   "source": [
    "### Testing patterns\n",
    "\n",
    "Once you've defined a pattern and added tests, you can use the method `test()` to run all tests:"
   ]
  },
  {
   "cell_type": "code",
   "execution_count": 3,
   "id": "9297bde6",
   "metadata": {},
   "outputs": [],
   "source": [
    "ARV.test()\n",
    "KOGUS.test()\n",
    "KOOSTISOSA.test()"
   ]
  },
  {
   "cell_type": "markdown",
   "id": "19b75647",
   "metadata": {},
   "source": [
    "The method runs silent if all tests are passed. \n",
    "However, if any of the tests should fail, an `AssertionError` will be thrown, informing about the details of the test case on which the pattern fails. "
   ]
  },
  {
   "cell_type": "markdown",
   "id": "87838d4d",
   "metadata": {},
   "source": [
    "In Notebook, you can get a quick overview about the pattern and its testing status when you display a `RegexElement` object:"
   ]
  },
  {
   "cell_type": "code",
   "execution_count": 4,
   "id": "5c25eef0",
   "metadata": {},
   "outputs": [
    {
     "data": {
      "text/html": [
       "<b>regex:</b> (?P&lt;quantity&gt;([0-9]+[.,])?[0-9]+)<br/><b>description:</b> <p>Captures integer and decimal quantities.</p></br><style type=\"text/css\">\n",
       "#T_e8b31_row0_col1, #T_e8b31_row1_col1, #T_e8b31_row2_col1 {\n",
       "  color: green;\n",
       "}\n",
       "#T_e8b31_row0_col2, #T_e8b31_row1_col2, #T_e8b31_row2_col2 {\n",
       "  color: black;\n",
       "}\n",
       "</style>\n",
       "<table id=\"T_e8b31\">\n",
       "  <caption>Testing results</caption>\n",
       "  <thead>\n",
       "    <tr>\n",
       "      <th id=\"T_e8b31_level0_col0\" class=\"col_heading level0 col0\" >Test group</th>\n",
       "      <th id=\"T_e8b31_level0_col1\" class=\"col_heading level0 col1\" >passed</th>\n",
       "      <th id=\"T_e8b31_level0_col2\" class=\"col_heading level0 col2\" >failed</th>\n",
       "    </tr>\n",
       "  </thead>\n",
       "  <tbody>\n",
       "    <tr>\n",
       "      <td id=\"T_e8b31_row0_col0\" class=\"data row0 col0\" >positive examples</td>\n",
       "      <td id=\"T_e8b31_row0_col1\" class=\"data row0 col1\" >4</td>\n",
       "      <td id=\"T_e8b31_row0_col2\" class=\"data row0 col2\" >0</td>\n",
       "    </tr>\n",
       "    <tr>\n",
       "      <td id=\"T_e8b31_row1_col0\" class=\"data row1 col0\" >negative examples</td>\n",
       "      <td id=\"T_e8b31_row1_col1\" class=\"data row1 col1\" >3</td>\n",
       "      <td id=\"T_e8b31_row1_col2\" class=\"data row1 col2\" >0</td>\n",
       "    </tr>\n",
       "    <tr>\n",
       "      <td id=\"T_e8b31_row2_col0\" class=\"data row2 col0\" >extraction tests</td>\n",
       "      <td id=\"T_e8b31_row2_col1\" class=\"data row2 col1\" >2</td>\n",
       "      <td id=\"T_e8b31_row2_col2\" class=\"data row2 col2\" >0</td>\n",
       "    </tr>\n",
       "  </tbody>\n",
       "</table>\n"
      ],
      "text/plain": [
       "(?P<quantity>([0-9]+[.,])?[0-9]+)"
      ]
     },
     "execution_count": 4,
     "metadata": {},
     "output_type": "execute_result"
    }
   ],
   "source": [
    "ARV"
   ]
  },
  {
   "cell_type": "code",
   "execution_count": 5,
   "id": "2474a8e8",
   "metadata": {},
   "outputs": [
    {
     "data": {
      "text/html": [
       "<b>regex:</b> (?P&lt;unit&gt;(supilusika[ts]|teelusika[ts]|pakki?|grammi?|tk|sl|g))<br/><b>description:</b> <p>Captures 4 types of food units, including 3 unit abbreviations.</p></br><style type=\"text/css\">\n",
       "#T_d2a81_row0_col1, #T_d2a81_row1_col1, #T_d2a81_row2_col1 {\n",
       "  color: green;\n",
       "}\n",
       "#T_d2a81_row0_col2, #T_d2a81_row1_col2, #T_d2a81_row2_col2 {\n",
       "  color: black;\n",
       "}\n",
       "</style>\n",
       "<table id=\"T_d2a81\">\n",
       "  <caption>Testing results</caption>\n",
       "  <thead>\n",
       "    <tr>\n",
       "      <th id=\"T_d2a81_level0_col0\" class=\"col_heading level0 col0\" >Test group</th>\n",
       "      <th id=\"T_d2a81_level0_col1\" class=\"col_heading level0 col1\" >passed</th>\n",
       "      <th id=\"T_d2a81_level0_col2\" class=\"col_heading level0 col2\" >failed</th>\n",
       "    </tr>\n",
       "  </thead>\n",
       "  <tbody>\n",
       "    <tr>\n",
       "      <td id=\"T_d2a81_row0_col0\" class=\"data row0 col0\" >positive examples</td>\n",
       "      <td id=\"T_d2a81_row0_col1\" class=\"data row0 col1\" >7</td>\n",
       "      <td id=\"T_d2a81_row0_col2\" class=\"data row0 col2\" >0</td>\n",
       "    </tr>\n",
       "    <tr>\n",
       "      <td id=\"T_d2a81_row1_col0\" class=\"data row1 col0\" >negative examples</td>\n",
       "      <td id=\"T_d2a81_row1_col1\" class=\"data row1 col1\" >2</td>\n",
       "      <td id=\"T_d2a81_row1_col2\" class=\"data row1 col2\" >0</td>\n",
       "    </tr>\n",
       "    <tr>\n",
       "      <td id=\"T_d2a81_row2_col0\" class=\"data row2 col0\" >extraction tests</td>\n",
       "      <td id=\"T_d2a81_row2_col1\" class=\"data row2 col1\" >2</td>\n",
       "      <td id=\"T_d2a81_row2_col2\" class=\"data row2 col2\" >0</td>\n",
       "    </tr>\n",
       "  </tbody>\n",
       "</table>\n"
      ],
      "text/plain": [
       "(?P<unit>(supilusika[ts]|teelusika[ts]|pakki?|grammi?|tk|sl|g))"
      ]
     },
     "execution_count": 5,
     "metadata": {},
     "output_type": "execute_result"
    }
   ],
   "source": [
    "KOGUS"
   ]
  },
  {
   "cell_type": "code",
   "execution_count": 6,
   "id": "8227b9b2",
   "metadata": {},
   "outputs": [
    {
     "data": {
      "text/html": [
       "<b>regex:</b> (?:(?P&lt;quantity&gt;([0-9]+[.,])?[0-9]+)\\s*(?P&lt;unit&gt;(supilusika[ts]|teelusika[ts]|pakki?|grammi?|tk|sl|g))\\s+(?P&lt;ingredient&gt;[a-zöäüõšž]+))<br/><b>description:</b> <p>Captures ingredients together with quantities and units.</p></br><style type=\"text/css\">\n",
       "#T_bef30_row0_col1, #T_bef30_row1_col1, #T_bef30_row2_col1 {\n",
       "  color: green;\n",
       "}\n",
       "#T_bef30_row0_col2, #T_bef30_row1_col2, #T_bef30_row2_col2 {\n",
       "  color: black;\n",
       "}\n",
       "</style>\n",
       "<table id=\"T_bef30\">\n",
       "  <caption>Testing results</caption>\n",
       "  <thead>\n",
       "    <tr>\n",
       "      <th id=\"T_bef30_level0_col0\" class=\"col_heading level0 col0\" >Test group</th>\n",
       "      <th id=\"T_bef30_level0_col1\" class=\"col_heading level0 col1\" >passed</th>\n",
       "      <th id=\"T_bef30_level0_col2\" class=\"col_heading level0 col2\" >failed</th>\n",
       "    </tr>\n",
       "  </thead>\n",
       "  <tbody>\n",
       "    <tr>\n",
       "      <td id=\"T_bef30_row0_col0\" class=\"data row0 col0\" >positive examples</td>\n",
       "      <td id=\"T_bef30_row0_col1\" class=\"data row0 col1\" >4</td>\n",
       "      <td id=\"T_bef30_row0_col2\" class=\"data row0 col2\" >0</td>\n",
       "    </tr>\n",
       "    <tr>\n",
       "      <td id=\"T_bef30_row1_col0\" class=\"data row1 col0\" >negative examples</td>\n",
       "      <td id=\"T_bef30_row1_col1\" class=\"data row1 col1\" >1</td>\n",
       "      <td id=\"T_bef30_row1_col2\" class=\"data row1 col2\" >0</td>\n",
       "    </tr>\n",
       "    <tr>\n",
       "      <td id=\"T_bef30_row2_col0\" class=\"data row2 col0\" >extraction tests</td>\n",
       "      <td id=\"T_bef30_row2_col1\" class=\"data row2 col1\" >1</td>\n",
       "      <td id=\"T_bef30_row2_col2\" class=\"data row2 col2\" >0</td>\n",
       "    </tr>\n",
       "  </tbody>\n",
       "</table>\n"
      ],
      "text/plain": [
       "(?:(?P<quantity>([0-9]+[.,])?[0-9]+)\\s*(?P<unit>(supilusika[ts]|teelusika[ts]|pakki?|grammi?|tk|sl|g))\\s+(?P<ingredient>[a-zöäüõšž]+))"
      ]
     },
     "execution_count": 6,
     "metadata": {},
     "output_type": "execute_result"
    }
   ],
   "source": [
    "KOOSTISOSA"
   ]
  },
  {
   "cell_type": "markdown",
   "id": "e1d40447",
   "metadata": {},
   "source": [
    "To get **exact testing results**, use methods `evaluate_positive_examples()`, `evaluate_negative_examples()` and `evaluate_extraction_examples()`. The results will be returned in a `DataFrame`:"
   ]
  },
  {
   "cell_type": "code",
   "execution_count": 7,
   "id": "055048ab",
   "metadata": {},
   "outputs": [
    {
     "data": {
      "text/html": [
       "<div>\n",
       "<style scoped>\n",
       "    .dataframe tbody tr th:only-of-type {\n",
       "        vertical-align: middle;\n",
       "    }\n",
       "\n",
       "    .dataframe tbody tr th {\n",
       "        vertical-align: top;\n",
       "    }\n",
       "\n",
       "    .dataframe thead th {\n",
       "        text-align: right;\n",
       "    }\n",
       "</style>\n",
       "<table border=\"1\" class=\"dataframe\">\n",
       "  <thead>\n",
       "    <tr style=\"text-align: right;\">\n",
       "      <th></th>\n",
       "      <th>Example</th>\n",
       "      <th>Status</th>\n",
       "    </tr>\n",
       "  </thead>\n",
       "  <tbody>\n",
       "    <tr>\n",
       "      <th>0</th>\n",
       "      <td>supilusikat</td>\n",
       "      <td>+</td>\n",
       "    </tr>\n",
       "    <tr>\n",
       "      <th>1</th>\n",
       "      <td>teelusikas</td>\n",
       "      <td>+</td>\n",
       "    </tr>\n",
       "    <tr>\n",
       "      <th>2</th>\n",
       "      <td>tk</td>\n",
       "      <td>+</td>\n",
       "    </tr>\n",
       "    <tr>\n",
       "      <th>3</th>\n",
       "      <td>pakk</td>\n",
       "      <td>+</td>\n",
       "    </tr>\n",
       "    <tr>\n",
       "      <th>4</th>\n",
       "      <td>gramm</td>\n",
       "      <td>+</td>\n",
       "    </tr>\n",
       "    <tr>\n",
       "      <th>5</th>\n",
       "      <td>sl</td>\n",
       "      <td>+</td>\n",
       "    </tr>\n",
       "    <tr>\n",
       "      <th>6</th>\n",
       "      <td>g</td>\n",
       "      <td>+</td>\n",
       "    </tr>\n",
       "  </tbody>\n",
       "</table>\n",
       "</div>"
      ],
      "text/plain": [
       "       Example Status\n",
       "0  supilusikat      +\n",
       "1   teelusikas      +\n",
       "2           tk      +\n",
       "3         pakk      +\n",
       "4        gramm      +\n",
       "5           sl      +\n",
       "6            g      +"
      ]
     },
     "execution_count": 7,
     "metadata": {},
     "output_type": "execute_result"
    }
   ],
   "source": [
    "KOGUS.evaluate_positive_examples()"
   ]
  },
  {
   "cell_type": "code",
   "execution_count": 8,
   "id": "681c4290",
   "metadata": {},
   "outputs": [
    {
     "data": {
      "text/html": [
       "<div>\n",
       "<style scoped>\n",
       "    .dataframe tbody tr th:only-of-type {\n",
       "        vertical-align: middle;\n",
       "    }\n",
       "\n",
       "    .dataframe tbody tr th {\n",
       "        vertical-align: top;\n",
       "    }\n",
       "\n",
       "    .dataframe thead th {\n",
       "        text-align: right;\n",
       "    }\n",
       "</style>\n",
       "<table border=\"1\" class=\"dataframe\">\n",
       "  <thead>\n",
       "    <tr style=\"text-align: right;\">\n",
       "      <th></th>\n",
       "      <th>Example</th>\n",
       "      <th>Status</th>\n",
       "    </tr>\n",
       "  </thead>\n",
       "  <tbody>\n",
       "    <tr>\n",
       "      <th>0</th>\n",
       "      <td>tonni</td>\n",
       "      <td>+</td>\n",
       "    </tr>\n",
       "    <tr>\n",
       "      <th>1</th>\n",
       "      <td>puuda</td>\n",
       "      <td>+</td>\n",
       "    </tr>\n",
       "  </tbody>\n",
       "</table>\n",
       "</div>"
      ],
      "text/plain": [
       "  Example Status\n",
       "0   tonni      +\n",
       "1   puuda      +"
      ]
     },
     "execution_count": 8,
     "metadata": {},
     "output_type": "execute_result"
    }
   ],
   "source": [
    "KOGUS.evaluate_negative_examples()"
   ]
  },
  {
   "cell_type": "code",
   "execution_count": 9,
   "id": "cbf6d4d8",
   "metadata": {},
   "outputs": [
    {
     "data": {
      "text/html": [
       "<div>\n",
       "<style scoped>\n",
       "    .dataframe tbody tr th:only-of-type {\n",
       "        vertical-align: middle;\n",
       "    }\n",
       "\n",
       "    .dataframe tbody tr th {\n",
       "        vertical-align: top;\n",
       "    }\n",
       "\n",
       "    .dataframe thead th {\n",
       "        text-align: right;\n",
       "    }\n",
       "</style>\n",
       "<table border=\"1\" class=\"dataframe\">\n",
       "  <thead>\n",
       "    <tr style=\"text-align: right;\">\n",
       "      <th></th>\n",
       "      <th>Example</th>\n",
       "      <th>Status</th>\n",
       "    </tr>\n",
       "  </thead>\n",
       "  <tbody>\n",
       "    <tr>\n",
       "      <th>0</th>\n",
       "      <td>100g</td>\n",
       "      <td>+</td>\n",
       "    </tr>\n",
       "    <tr>\n",
       "      <th>1</th>\n",
       "      <td>2tk</td>\n",
       "      <td>+</td>\n",
       "    </tr>\n",
       "  </tbody>\n",
       "</table>\n",
       "</div>"
      ],
      "text/plain": [
       "  Example Status\n",
       "0    100g      +\n",
       "1     2tk      +"
      ]
     },
     "execution_count": 9,
     "metadata": {},
     "output_type": "execute_result"
    }
   ],
   "source": [
    "KOGUS.evaluate_extraction_examples()"
   ]
  },
  {
   "cell_type": "markdown",
   "id": "868c4864",
   "metadata": {},
   "source": [
    "Status `+` indicates a positive match (passed test) and status `F` indicates a failed match."
   ]
  },
  {
   "cell_type": "markdown",
   "id": "0a327a64",
   "metadata": {},
   "source": [
    "Under the hood, different tests use different matching strategies.\n",
    "\n",
    "* `full_match` (positive example) requires that the pattern matches with the whole example;\n",
    "* `no_match` (negative example) requires that the pattern cannot be found inside the example. In other words, the pattern must not match even with a substring of the example;\n",
    "* `partial_match` (extraction example) requires that the pattern matches a substring of the example (a target); the target substring is specified as the second argument of the `partial_match`. Alternatively, you can pass a dictionary as the target, specifying exact matches required from specific capture groups."
   ]
  },
  {
   "cell_type": "markdown",
   "id": "4de4cf6e",
   "metadata": {},
   "source": [
    "### Examples for displaying\n",
    "\n",
    "You can add some of the positive examples as _display examples_, which will be show when the object is rendered in Notebook.\n",
    "\n",
    "For instance, let's redefine KOOSTISOSA with first 3 `full_match` tests as _display examples_:"
   ]
  },
  {
   "cell_type": "code",
   "execution_count": 10,
   "id": "d54c2d7d",
   "metadata": {},
   "outputs": [],
   "source": [
    "KOOSTISOSA = RegexElement(f'{ARV}\\s*{KOGUS}\\s+(?P<ingredient>[a-zöäüõšž]+)', \n",
    "                          description='Captures ingredients together with quantities and units.')\n",
    "# Add tests & examples\n",
    "KOOSTISOSA.example('1 supilusikas suhkrut')\n",
    "KOOSTISOSA.example('2.5 sl võid')\n",
    "KOOSTISOSA.example('4 teelusikat siirupit')\n",
    "KOOSTISOSA.full_match('300g vahukoort')\n",
    "KOOSTISOSA.no_match('10 tonni telliskive')\n",
    "KOOSTISOSA.partial_match('100g vahukomme ka', {'quantity':'100', 'unit':'g', 'ingredient':'vahukomme'})"
   ]
  },
  {
   "cell_type": "code",
   "execution_count": 11,
   "id": "c5e17989",
   "metadata": {},
   "outputs": [
    {
     "data": {
      "text/html": [
       "<b>regex:</b> (?:(?P&lt;quantity&gt;([0-9]+[.,])?[0-9]+)\\s*(?P&lt;unit&gt;(supilusika[ts]|teelusika[ts]|pakki?|grammi?|tk|sl|g))\\s+(?P&lt;ingredient&gt;[a-zöäüõšž]+))<br/><b>description:</b> <p>Captures ingredients together with quantities and units.</p></br><style type=\"text/css\">\n",
       "#T_2a21d_row0_col1, #T_2a21d_row1_col1, #T_2a21d_row2_col1 {\n",
       "  color: green;\n",
       "}\n",
       "</style>\n",
       "<table id=\"T_2a21d\">\n",
       "  <caption>Examples</caption>\n",
       "  <thead>\n",
       "    <tr>\n",
       "      <th id=\"T_2a21d_level0_col0\" class=\"col_heading level0 col0\" >Example</th>\n",
       "      <th id=\"T_2a21d_level0_col1\" class=\"col_heading level0 col1\" >Status</th>\n",
       "    </tr>\n",
       "  </thead>\n",
       "  <tbody>\n",
       "    <tr>\n",
       "      <td id=\"T_2a21d_row0_col0\" class=\"data row0 col0\" >1 supilusikas suhkrut</td>\n",
       "      <td id=\"T_2a21d_row0_col1\" class=\"data row0 col1\" >+</td>\n",
       "    </tr>\n",
       "    <tr>\n",
       "      <td id=\"T_2a21d_row1_col0\" class=\"data row1 col0\" >2.5 sl võid</td>\n",
       "      <td id=\"T_2a21d_row1_col1\" class=\"data row1 col1\" >+</td>\n",
       "    </tr>\n",
       "    <tr>\n",
       "      <td id=\"T_2a21d_row2_col0\" class=\"data row2 col0\" >4 teelusikat siirupit</td>\n",
       "      <td id=\"T_2a21d_row2_col1\" class=\"data row2 col1\" >+</td>\n",
       "    </tr>\n",
       "  </tbody>\n",
       "</table>\n",
       "<style type=\"text/css\">\n",
       "#T_55a0e_row0_col1, #T_55a0e_row1_col1, #T_55a0e_row2_col1 {\n",
       "  color: green;\n",
       "}\n",
       "#T_55a0e_row0_col2, #T_55a0e_row1_col2, #T_55a0e_row2_col2 {\n",
       "  color: black;\n",
       "}\n",
       "</style>\n",
       "<table id=\"T_55a0e\">\n",
       "  <caption>Testing results</caption>\n",
       "  <thead>\n",
       "    <tr>\n",
       "      <th id=\"T_55a0e_level0_col0\" class=\"col_heading level0 col0\" >Test group</th>\n",
       "      <th id=\"T_55a0e_level0_col1\" class=\"col_heading level0 col1\" >passed</th>\n",
       "      <th id=\"T_55a0e_level0_col2\" class=\"col_heading level0 col2\" >failed</th>\n",
       "    </tr>\n",
       "  </thead>\n",
       "  <tbody>\n",
       "    <tr>\n",
       "      <td id=\"T_55a0e_row0_col0\" class=\"data row0 col0\" >positive examples</td>\n",
       "      <td id=\"T_55a0e_row0_col1\" class=\"data row0 col1\" >4</td>\n",
       "      <td id=\"T_55a0e_row0_col2\" class=\"data row0 col2\" >0</td>\n",
       "    </tr>\n",
       "    <tr>\n",
       "      <td id=\"T_55a0e_row1_col0\" class=\"data row1 col0\" >negative examples</td>\n",
       "      <td id=\"T_55a0e_row1_col1\" class=\"data row1 col1\" >1</td>\n",
       "      <td id=\"T_55a0e_row1_col2\" class=\"data row1 col2\" >0</td>\n",
       "    </tr>\n",
       "    <tr>\n",
       "      <td id=\"T_55a0e_row2_col0\" class=\"data row2 col0\" >extraction tests</td>\n",
       "      <td id=\"T_55a0e_row2_col1\" class=\"data row2 col1\" >1</td>\n",
       "      <td id=\"T_55a0e_row2_col2\" class=\"data row2 col2\" >0</td>\n",
       "    </tr>\n",
       "  </tbody>\n",
       "</table>\n"
      ],
      "text/plain": [
       "(?:(?P<quantity>([0-9]+[.,])?[0-9]+)\\s*(?P<unit>(supilusika[ts]|teelusika[ts]|pakki?|grammi?|tk|sl|g))\\s+(?P<ingredient>[a-zöäüõšž]+))"
      ]
     },
     "execution_count": 11,
     "metadata": {},
     "output_type": "execute_result"
    }
   ],
   "source": [
    "# Browse the pattern\n",
    "KOOSTISOSA"
   ]
  },
  {
   "cell_type": "markdown",
   "id": "c0132f80",
   "metadata": {},
   "source": [
    "Note that there are 4 positive examples: all _display examples_ were also included in positive (`full_match`) examples."
   ]
  },
  {
   "cell_type": "markdown",
   "id": "52663609",
   "metadata": {},
   "source": [
    "### Choice groups\n",
    "\n",
    "Regex choice groups can contain sub-expressions with overlapping targets. \n",
    "For instance, _KOGUS_ (quantity) in the previous example contains choice sub-expressions `grammi?` and `g`, which both match with the string `'gramm'`.\n",
    "However, the extent of the match depends on the order of the sub-expressions in the group: the maximal extent is achieved only if sub-expressions capturing longest strings come first. \n",
    "The result of a wrong ordering is an incomplete match, e.g. `(g|grammi?)` matches only `'g'` inside the string `'gramm'`.\n",
    "\n",
    "If regex choice groups grow large and complex, it can be difficult to achieve a correct ordering. \n",
    "It requires a rigorous work of pattern development and testing. \n",
    "However, for subsets of patterns satisfying specific contraints, correct ordering of the sub-expressions can be automatically guaranteed."
   ]
  },
  {
   "cell_type": "markdown",
   "id": "8d098cfa",
   "metadata": {},
   "source": [
    "#### StringList\n",
    "\n",
    "Use `StringList` to make a choice group out of (a large number of) strings. It will guarantee that the resulting regular expression matches even the longest string in the list, it will escape all the meta symbols (such as `.` or `+`) and convert the pattern to case insensitive format, if needed."
   ]
  },
  {
   "cell_type": "markdown",
   "id": "5726820b",
   "metadata": {},
   "source": [
    "For instance, let's redefine KOGUS as a `StringList`, which has more units / unit abbreviations and which ignores case while matching the strings:"
   ]
  },
  {
   "cell_type": "code",
   "execution_count": 12,
   "id": "13eb4943",
   "metadata": {},
   "outputs": [],
   "source": [
    "from estnltk.taggers.system.rule_taggers.regex_library.string_list import StringList\n",
    "\n",
    "# Create pattern\n",
    "KOGUS = StringList(['supilusikas', 'supilusikat', 'sl', \n",
    "                    'teelusikas', 'teelusikat', 'tl',\n",
    "                    'pakk', 'pakki', 'pk', \n",
    "                    'tükk', 'tükki', 'tk', \n",
    "                    'gramm', 'grammi', 'g'], group_name='unit',\n",
    "                     description='Captures 5 types of food units (incl abbreviations).',\n",
    "                     ignore_case=True)\n",
    "# Add tests\n",
    "KOGUS.full_match('SUPILUSIKAS')\n",
    "KOGUS.full_match('SupiLusiKaT')\n",
    "KOGUS.full_match('teelusikas')\n",
    "KOGUS.full_match('tk')\n",
    "KOGUS.full_match('TK')\n",
    "KOGUS.full_match('pakk')\n",
    "KOGUS.full_match('PAKK')\n",
    "KOGUS.full_match('gramm')\n",
    "KOGUS.full_match('sl')\n",
    "KOGUS.full_match('g')\n",
    "KOGUS.no_match('tonni')\n",
    "KOGUS.no_match('puuda')\n",
    "KOGUS.partial_match('100g', 'g')\n",
    "KOGUS.partial_match('2tk', 'tk')\n",
    "KOGUS.partial_match('2Tk', 'Tk')"
   ]
  },
  {
   "cell_type": "code",
   "execution_count": 13,
   "id": "510f427b",
   "metadata": {},
   "outputs": [
    {
     "data": {
      "text/html": [
       "<b>regex:</b> (?P&lt;unit&gt;[Ss][Uu][Pp][Ii][Ll][Uu][Ss][Ii][Kk][Aa][Ss]|[Ss][Uu][Pp][Ii][Ll][Uu][Ss][Ii][Kk][Aa][Tt]|[Tt][Ee][Ee][Ll][Uu][Ss][Ii][Kk][Aa][Ss]|[Tt][Ee][Ee][Ll][Uu][Ss][Ii][Kk][Aa][Tt]|[Gg][Rr][Aa][Mm][Mm][Ii]|[Gg][Rr][Aa][Mm][Mm]|[Pp][Aa][Kk][Kk][Ii]|[Tt][Üü][Kk][Kk][Ii]|[Pp][Aa][Kk][Kk]|[Tt][Üü][Kk][Kk]|[Pp][Kk]|[Ss][Ll]|[Tt][Kk]|[Tt][Ll]|[Gg])<br/><b>description:</b> <p>Captures 5 types of food units (incl abbreviations).</p></br><style type=\"text/css\">\n",
       "#T_4335c_row0_col1, #T_4335c_row1_col1, #T_4335c_row2_col1 {\n",
       "  color: green;\n",
       "}\n",
       "#T_4335c_row0_col2, #T_4335c_row1_col2, #T_4335c_row2_col2 {\n",
       "  color: black;\n",
       "}\n",
       "</style>\n",
       "<table id=\"T_4335c\">\n",
       "  <caption>Testing results</caption>\n",
       "  <thead>\n",
       "    <tr>\n",
       "      <th id=\"T_4335c_level0_col0\" class=\"col_heading level0 col0\" >Test group</th>\n",
       "      <th id=\"T_4335c_level0_col1\" class=\"col_heading level0 col1\" >passed</th>\n",
       "      <th id=\"T_4335c_level0_col2\" class=\"col_heading level0 col2\" >failed</th>\n",
       "    </tr>\n",
       "  </thead>\n",
       "  <tbody>\n",
       "    <tr>\n",
       "      <td id=\"T_4335c_row0_col0\" class=\"data row0 col0\" >positive examples</td>\n",
       "      <td id=\"T_4335c_row0_col1\" class=\"data row0 col1\" >10</td>\n",
       "      <td id=\"T_4335c_row0_col2\" class=\"data row0 col2\" >0</td>\n",
       "    </tr>\n",
       "    <tr>\n",
       "      <td id=\"T_4335c_row1_col0\" class=\"data row1 col0\" >negative examples</td>\n",
       "      <td id=\"T_4335c_row1_col1\" class=\"data row1 col1\" >2</td>\n",
       "      <td id=\"T_4335c_row1_col2\" class=\"data row1 col2\" >0</td>\n",
       "    </tr>\n",
       "    <tr>\n",
       "      <td id=\"T_4335c_row2_col0\" class=\"data row2 col0\" >extraction tests</td>\n",
       "      <td id=\"T_4335c_row2_col1\" class=\"data row2 col1\" >3</td>\n",
       "      <td id=\"T_4335c_row2_col2\" class=\"data row2 col2\" >0</td>\n",
       "    </tr>\n",
       "  </tbody>\n",
       "</table>\n"
      ],
      "text/plain": [
       "(?P<unit>[Ss][Uu][Pp][Ii][Ll][Uu][Ss][Ii][Kk][Aa][Ss]|[Ss][Uu][Pp][Ii][Ll][Uu][Ss][Ii][Kk][Aa][Tt]|[Tt][Ee][Ee][Ll][Uu][Ss][Ii][Kk][Aa][Ss]|[Tt][Ee][Ee][Ll][Uu][Ss][Ii][Kk][Aa][Tt]|[Gg][Rr][Aa][Mm][Mm][Ii]|[Gg][Rr][Aa][Mm][Mm]|[Pp][Aa][Kk][Kk][Ii]|[Tt][Üü][Kk][Kk][Ii]|[Pp][Aa][Kk][Kk]|[Tt][Üü][Kk][Kk]|[Pp][Kk]|[Ss][Ll]|[Tt][Kk]|[Tt][Ll]|[Gg])"
      ]
     },
     "execution_count": 13,
     "metadata": {},
     "output_type": "execute_result"
    }
   ],
   "source": [
    "KOGUS"
   ]
  },
  {
   "cell_type": "markdown",
   "id": "1976c1dd",
   "metadata": {},
   "source": [
    "You can also define modifications upon strings, e.g. replace all spaces with a more general pattern `r'\\s+'`. \n",
    "Parameter `replacements` allows to defined a dictionary of character to regex replacements that is applied to all strings. \n",
    "For instance:"
   ]
  },
  {
   "cell_type": "code",
   "execution_count": 14,
   "id": "1833be95",
   "metadata": {},
   "outputs": [
    {
     "data": {
      "text/html": [
       "<b>regex:</b> (?P&lt;ingredient&gt;[Tt][Uu][Mm][Ee][Dd][Aa][Tt](?:\\s+)[Šš][Oo][Kk][Oo][Ll][Aa][Aa][Dd][Ii]|[Vv][Aa][Ll][Gg][Ee][Tt](?:\\s+)[Šš][Oo][Kk][Oo][Ll][Aa][Aa][Dd][Ii]|[Kk][Oo][Hh][Uu][Pp][Ii][Ii][Mm][Aa][Pp][Aa][Ss][Tt][Aa][Tt]|[Mm][Aa][Aa][Ss][Ii][Kk][Aa](?:\\s+)[Jj][Ää][Ää][Tt][Ii][Ss][Tt]|[Tt][Oo][Rr][Dd][Ii][Pp][Uu][Ll][Bb][Rr][Ii][Tt]|[Hh][Aa][Pp][Uu][Kk][Oo][Oo][Rr][Tt]|[Vv][Aa][Hh][Uu][Kk][Oo][Mm][Mm][Ee]|[Vv][Aa][Hh][Uu][Kk][Oo][Oo][Rr][Tt]|[Ss][Ii][Ii][Rr][Uu][Pp][Ii][Tt]|[Ss][Uu][Hh][Kk][Rr][Uu][Tt]|[Mm][Uu][Nn][Aa]|[Vv][Õõ][Ii][Dd])<br/><b>description:</b> <p>Captures ingredients together with quantities and units.</p></br><style type=\"text/css\">\n",
       "#T_27ed0_row0_col1, #T_27ed0_row1_col1, #T_27ed0_row2_col1 {\n",
       "  color: green;\n",
       "}\n",
       "</style>\n",
       "<table id=\"T_27ed0\">\n",
       "  <caption>Examples</caption>\n",
       "  <thead>\n",
       "    <tr>\n",
       "      <th id=\"T_27ed0_level0_col0\" class=\"col_heading level0 col0\" >Example</th>\n",
       "      <th id=\"T_27ed0_level0_col1\" class=\"col_heading level0 col1\" >Status</th>\n",
       "    </tr>\n",
       "  </thead>\n",
       "  <tbody>\n",
       "    <tr>\n",
       "      <td id=\"T_27ed0_row0_col0\" class=\"data row0 col0\" >suhkrut</td>\n",
       "      <td id=\"T_27ed0_row0_col1\" class=\"data row0 col1\" >+</td>\n",
       "    </tr>\n",
       "    <tr>\n",
       "      <td id=\"T_27ed0_row1_col0\" class=\"data row1 col0\" >võid</td>\n",
       "      <td id=\"T_27ed0_row1_col1\" class=\"data row1 col1\" >+</td>\n",
       "    </tr>\n",
       "    <tr>\n",
       "      <td id=\"T_27ed0_row2_col0\" class=\"data row2 col0\" >siirupit</td>\n",
       "      <td id=\"T_27ed0_row2_col1\" class=\"data row2 col1\" >+</td>\n",
       "    </tr>\n",
       "  </tbody>\n",
       "</table>\n",
       "<style type=\"text/css\">\n",
       "#T_1207a_row0_col1, #T_1207a_row1_col1 {\n",
       "  color: green;\n",
       "}\n",
       "#T_1207a_row0_col2 {\n",
       "  color: red;\n",
       "}\n",
       "#T_1207a_row1_col2, #T_1207a_row2_col1, #T_1207a_row2_col2 {\n",
       "  color: black;\n",
       "}\n",
       "</style>\n",
       "<table id=\"T_1207a\">\n",
       "  <caption>Testing results</caption>\n",
       "  <thead>\n",
       "    <tr>\n",
       "      <th id=\"T_1207a_level0_col0\" class=\"col_heading level0 col0\" >Test group</th>\n",
       "      <th id=\"T_1207a_level0_col1\" class=\"col_heading level0 col1\" >passed</th>\n",
       "      <th id=\"T_1207a_level0_col2\" class=\"col_heading level0 col2\" >failed</th>\n",
       "    </tr>\n",
       "  </thead>\n",
       "  <tbody>\n",
       "    <tr>\n",
       "      <td id=\"T_1207a_row0_col0\" class=\"data row0 col0\" >positive examples</td>\n",
       "      <td id=\"T_1207a_row0_col1\" class=\"data row0 col1\" >5</td>\n",
       "      <td id=\"T_1207a_row0_col2\" class=\"data row0 col2\" >1</td>\n",
       "    </tr>\n",
       "    <tr>\n",
       "      <td id=\"T_1207a_row1_col0\" class=\"data row1 col0\" >negative examples</td>\n",
       "      <td id=\"T_1207a_row1_col1\" class=\"data row1 col1\" >1</td>\n",
       "      <td id=\"T_1207a_row1_col2\" class=\"data row1 col2\" >0</td>\n",
       "    </tr>\n",
       "    <tr>\n",
       "      <td id=\"T_1207a_row2_col0\" class=\"data row2 col0\" >extraction tests</td>\n",
       "      <td id=\"T_1207a_row2_col1\" class=\"data row2 col1\" >0</td>\n",
       "      <td id=\"T_1207a_row2_col2\" class=\"data row2 col2\" >0</td>\n",
       "    </tr>\n",
       "  </tbody>\n",
       "</table>\n"
      ],
      "text/plain": [
       "(?P<ingredient>[Tt][Uu][Mm][Ee][Dd][Aa][Tt](?:\\s+)[Šš][Oo][Kk][Oo][Ll][Aa][Aa][Dd][Ii]|[Vv][Aa][Ll][Gg][Ee][Tt](?:\\s+)[Šš][Oo][Kk][Oo][Ll][Aa][Aa][Dd][Ii]|[Kk][Oo][Hh][Uu][Pp][Ii][Ii][Mm][Aa][Pp][Aa][Ss][Tt][Aa][Tt]|[Mm][Aa][Aa][Ss][Ii][Kk][Aa](?:\\s+)[Jj][Ää][Ää][Tt][Ii][Ss][Tt]|[Tt][Oo][Rr][Dd][Ii][Pp][Uu][Ll][Bb][Rr][Ii][Tt]|[Hh][Aa][Pp][Uu][Kk][Oo][Oo][Rr][Tt]|[Vv][Aa][Hh][Uu][Kk][Oo][Mm][Mm][Ee]|[Vv][Aa][Hh][Uu][Kk][Oo][Oo][Rr][Tt]|[Ss][Ii][Ii][Rr][Uu][Pp][Ii][Tt]|[Ss][Uu][Hh][Kk][Rr][Uu][Tt]|[Mm][Uu][Nn][Aa]|[Vv][Õõ][Ii][Dd])"
      ]
     },
     "execution_count": 14,
     "metadata": {},
     "output_type": "execute_result"
    }
   ],
   "source": [
    "example_ingredients = \"\"\"\n",
    "1 pakk tordipulbrit \n",
    "4 tk muna \n",
    "400 g kohupiimapastat\n",
    "4 sl suhkrut\n",
    "200 g hapukoort\n",
    "100 g võid\n",
    "\"\"\"\n",
    "\n",
    "TOIDUAINED = StringList(['muna', 'tordipulbrit', 'kohupiimapastat', 'suhkrut', 'hapukoort', 'võid', 'siirupit', \n",
    "                         'valget šokolaadi', 'tumedat šokolaadi', 'maasika jäätist', 'vahukoort', 'vahukomme'], \n",
    "                         group_name='ingredient',\n",
    "                         description='Captures ingredients together with quantities and units.',\n",
    "                         replacements={' ' : r'\\s+'}, \n",
    "                         ignore_case=True)\n",
    "# Add tests & examples\n",
    "TOIDUAINED.example('suhkrut')\n",
    "TOIDUAINED.example('võid')\n",
    "TOIDUAINED.example('siirupit')\n",
    "TOIDUAINED.full_match('vahukoort')\n",
    "TOIDUAINED.full_match('tumedat   šokolaad')\n",
    "TOIDUAINED.full_match('valget  šokolaadi')\n",
    "TOIDUAINED.no_match('telliskive')\n",
    "# TODO : fix the test\n",
    "TOIDUAINED"
   ]
  },
  {
   "cell_type": "markdown",
   "id": "ba8a3572",
   "metadata": {},
   "source": [
    "The left hand of the rule can be only a single character that is interpreted as a plain character, not a regex meta character. Proper escaping of special symbols on the right-hand side of the rule is a responsibility of the user."
   ]
  },
  {
   "cell_type": "markdown",
   "id": "62afcd94",
   "metadata": {},
   "source": [
    "#### ChoiceGroup\n",
    "\n",
    "TODO"
   ]
  },
  {
   "cell_type": "markdown",
   "id": "b38bd94c",
   "metadata": {},
   "source": [
    "### Pattern truncation in the output\n",
    "\n",
    "TODO"
   ]
  },
  {
   "cell_type": "markdown",
   "id": "35d530a5",
   "metadata": {},
   "source": [
    "### Finalizing the pattern\n",
    "\n",
    "Once you've documented and covered a regex pattern with tests, use function `str(...)` to reveal the full regular expression string:"
   ]
  },
  {
   "cell_type": "code",
   "execution_count": 15,
   "id": "1a668901",
   "metadata": {},
   "outputs": [
    {
     "data": {
      "text/plain": [
       "'(?:(?P<quantity>([0-9]+[.,])?[0-9]+)\\\\s*(?P<unit>(supilusika[ts]|teelusika[ts]|pakki?|grammi?|tk|sl|g))\\\\s+(?P<ingredient>[a-zöäüõšž]+))'"
      ]
     },
     "execution_count": 15,
     "metadata": {},
     "output_type": "execute_result"
    }
   ],
   "source": [
    "str(KOOSTISOSA)"
   ]
  },
  {
   "cell_type": "markdown",
   "id": "6f13b0c2",
   "metadata": {},
   "source": [
    "Use the class method `compile()` to convert the pattern into Python's `Regex`:"
   ]
  },
  {
   "cell_type": "code",
   "execution_count": 16,
   "id": "0a8dbcc3",
   "metadata": {},
   "outputs": [
    {
     "data": {
      "text/plain": [
       "regex.Regex('(?:(?P<quantity>([0-9]+[.,])?[0-9]+)\\\\s*(?P<unit>(supilusika[ts]|teelusika[ts]|pakki?|grammi?|tk|sl|g))\\\\s+(?P<ingredient>[a-zöäüõšž]+))', flags=regex.V0)"
      ]
     },
     "execution_count": 16,
     "metadata": {},
     "output_type": "execute_result"
    }
   ],
   "source": [
    "KOOSTISOSA.compile()"
   ]
  },
  {
   "cell_type": "markdown",
   "id": "32637180",
   "metadata": {},
   "source": [
    "You can also pass flags, such as `regex.IGNORECASE` and `regex.DOTALL`, to the `compile()` method."
   ]
  },
  {
   "cell_type": "markdown",
   "id": "9e9b931d",
   "metadata": {},
   "source": [
    "### Using the pattern with RegexTagger\n",
    "\n",
    "After creating a pattern, you can use it in a `RegexTagger`:"
   ]
  },
  {
   "cell_type": "code",
   "execution_count": 17,
   "id": "867adea9",
   "metadata": {},
   "outputs": [],
   "source": [
    "from estnltk import Text\n",
    "from estnltk.taggers import RegexTagger\n",
    "from estnltk.taggers.system.rule_taggers import Ruleset\n",
    "from estnltk.taggers.system.rule_taggers import StaticExtractionRule\n",
    "\n",
    "# Make rule set for RegexTagger\n",
    "rule_list = [StaticExtractionRule(pattern=KOOSTISOSA.compile())]\n",
    "ruleset = Ruleset()\n",
    "ruleset.add_rules(rule_list)\n",
    "\n",
    "# Use a decorator to rewrite capture group values to annotations\n",
    "def decorator(layer, base_span, annotation):\n",
    "    annotation['quantity'] = annotation['match'].group('quantity')\n",
    "    annotation['unit'] = annotation['match'].group('unit')\n",
    "    annotation['ingredient'] = annotation['match'].group('ingredient')\n",
    "    return annotation\n",
    "\n",
    "# Create RegexTagger\n",
    "regex_tagger = RegexTagger(ruleset=ruleset, \n",
    "                           output_layer='food_ingredients',\n",
    "                           output_attributes=['quantity', 'unit', 'ingredient'], \n",
    "                           decorator=decorator)"
   ]
  },
  {
   "cell_type": "code",
   "execution_count": 18,
   "id": "b1ab73d5",
   "metadata": {},
   "outputs": [
    {
     "data": {
      "text/html": [
       "<h4>Layer</h4>\n",
       "\n",
       "\n",
       "<table border=\"1\" class=\"dataframe\">\n",
       "  <thead>\n",
       "    <tr style=\"text-align: right;\">\n",
       "      <th>layer name</th>\n",
       "      <th>attributes</th>\n",
       "      <th>parent</th>\n",
       "      <th>enveloping</th>\n",
       "      <th>ambiguous</th>\n",
       "      <th>span count</th>\n",
       "    </tr>\n",
       "  </thead>\n",
       "  <tbody>\n",
       "    <tr>\n",
       "      <td>food_ingredients</td>\n",
       "      <td>quantity, unit, ingredient</td>\n",
       "      <td>None</td>\n",
       "      <td>None</td>\n",
       "      <td>True</td>\n",
       "      <td>6</td>\n",
       "    </tr>\n",
       "  </tbody>\n",
       "</table>\n",
       "<table border=\"1\" class=\"dataframe\">\n",
       "  <thead>\n",
       "    <tr style=\"text-align: right;\">\n",
       "      <th>text</th>\n",
       "      <th>quantity</th>\n",
       "      <th>unit</th>\n",
       "      <th>ingredient</th>\n",
       "    </tr>\n",
       "  </thead>\n",
       "  <tbody>\n",
       "    <tr>\n",
       "      <td>1 pakk tordipulbrit</td>\n",
       "      <td>1</td>\n",
       "      <td>pakk</td>\n",
       "      <td>tordipulbrit</td>\n",
       "    </tr>\n",
       "    <tr>\n",
       "      <td>4 tk muna</td>\n",
       "      <td>4</td>\n",
       "      <td>tk</td>\n",
       "      <td>muna</td>\n",
       "    </tr>\n",
       "    <tr>\n",
       "      <td>400 g kohupiimapastat</td>\n",
       "      <td>400</td>\n",
       "      <td>g</td>\n",
       "      <td>kohupiimapastat</td>\n",
       "    </tr>\n",
       "    <tr>\n",
       "      <td>4 sl suhkrut</td>\n",
       "      <td>4</td>\n",
       "      <td>sl</td>\n",
       "      <td>suhkrut</td>\n",
       "    </tr>\n",
       "    <tr>\n",
       "      <td>200 g hapukoort</td>\n",
       "      <td>200</td>\n",
       "      <td>g</td>\n",
       "      <td>hapukoort</td>\n",
       "    </tr>\n",
       "    <tr>\n",
       "      <td>100 g võid</td>\n",
       "      <td>100</td>\n",
       "      <td>g</td>\n",
       "      <td>võid</td>\n",
       "    </tr>\n",
       "  </tbody>\n",
       "</table>"
      ],
      "text/plain": [
       "Layer(name='food_ingredients', attributes=('quantity', 'unit', 'ingredient'), spans=SL[Span('1 pakk tordipulbrit', [{'quantity': '1', 'unit': 'pakk', 'ingredient': 'tordipulbrit'}]),\n",
       "Span('4 tk muna', [{'quantity': '4', 'unit': 'tk', 'ingredient': 'muna'}]),\n",
       "Span('400 g kohupiimapastat', [{'quantity': '400', 'unit': 'g', 'ingredient': 'kohupiimapastat'}]),\n",
       "Span('4 sl suhkrut', [{'quantity': '4', 'unit': 'sl', 'ingredient': 'suhkrut'}]),\n",
       "Span('200 g hapukoort', [{'quantity': '200', 'unit': 'g', 'ingredient': 'hapukoort'}]),\n",
       "Span('100 g võid', [{'quantity': '100', 'unit': 'g', 'ingredient': 'võid'}])])"
      ]
     },
     "execution_count": 18,
     "metadata": {},
     "output_type": "execute_result"
    }
   ],
   "source": [
    "# Example for analysis\n",
    "example_text = \"\"\"\n",
    "1 pakk tordipulbrit \n",
    "4 tk muna \n",
    "400 g kohupiimapastat\n",
    "4 sl suhkrut\n",
    "200 g hapukoort\n",
    "100 g võid\n",
    "\"\"\"\n",
    "\n",
    "# Apply the tagger\n",
    "text = Text(example_text)\n",
    "regex_tagger.tag(text)\n",
    "text['food_ingredients']"
   ]
  },
  {
   "cell_type": "markdown",
   "id": "8c27cea7",
   "metadata": {},
   "source": [
    "### Limitations\n",
    "\n",
    "The encapsulation provided by `RegexElement` makes it much safer to specify what should be matched by the regular expression, but it still has limitations. \n",
    "First, one cannot specify additional consistency constraints inside the hierarchical definition nor aggregate the contents of capture groups. If you need such features use grammar rules instead. \n",
    "Second, self-overlapping can cause subtle errors. This is particularly true in case of string replacement. One way to diagnose is to compare `regex.sub(..., count=-1)` and several invocations of `regex.sub.(..., count=1)` to see if there are some differences."
   ]
  }
 ],
 "metadata": {
  "kernelspec": {
   "display_name": "Python 3 (ipykernel)",
   "language": "python",
   "name": "python3"
  },
  "language_info": {
   "codemirror_mode": {
    "name": "ipython",
    "version": 3
   },
   "file_extension": ".py",
   "mimetype": "text/x-python",
   "name": "python",
   "nbconvert_exporter": "python",
   "pygments_lexer": "ipython3",
   "version": "3.9.17"
  }
 },
 "nbformat": 4,
 "nbformat_minor": 5
}
