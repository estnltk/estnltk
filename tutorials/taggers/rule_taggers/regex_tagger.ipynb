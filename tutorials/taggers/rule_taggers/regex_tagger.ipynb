{
 "cells": [
  {
   "cell_type": "markdown",
   "metadata": {},
   "source": [
    "# RegexTagger\n",
    "\n",
    "For initialisation RegexTagger needs a ruleset. It can be read from a file in the following way."
   ]
  },
  {
   "cell_type": "code",
   "execution_count": 1,
   "metadata": {},
   "outputs": [],
   "source": [
    "from estnltk.taggers.system.rule_taggers import RegexTagger, Ruleset\n",
    "\n",
    "ruleset_file = 'regex_vocabulary.csv'\n",
    "ruleset = Ruleset()"
   ]
  },
  {
   "cell_type": "code",
   "execution_count": 2,
   "metadata": {},
   "outputs": [],
   "source": [
    "ruleset.load(file_name=ruleset_file, key_column='_regex_pattern_')"
   ]
  },
  {
   "cell_type": "code",
   "execution_count": 3,
   "metadata": {},
   "outputs": [
    {
     "data": {
      "text/plain": [
       "[StaticExtractionRule(pattern=regex.Regex('-?(\\\\d[\\\\s\\\\.]?)+(,\\\\s?(\\\\d[\\\\s\\\\.]?)+)?', flags=regex.V0), attributes={'_group_': 0, '_priority_': 1, 'comment': 'number', 'example': '-34 567 000 123 , 456'}, group=0, priority=0),\n",
       " StaticExtractionRule(pattern=regex.Regex('([a-zA-Z0-9_.+-]+@[a-zA-Z0-9-]+\\\\.[a-zA-Z0-9-.]+)', flags=regex.V0), attributes={'_group_': 1, '_priority_': 2, 'comment': 'e-mail', 'example': 'bla@bla.bl'}, group=0, priority=0)]"
      ]
     },
     "execution_count": 3,
     "metadata": {},
     "output_type": "execute_result"
    }
   ],
   "source": [
    "ruleset.static_rules"
   ]
  },
  {
   "cell_type": "markdown",
   "metadata": {},
   "source": [
    "**pattern** is a regular expression given as a string. **\\_group\\_** is an integer that determines which group of the pattern should be tagged on the text (the default is `0`). **\\_priority\\_** is used to resolve conflicts (the default is `0`). Smaller numbers (or any other comparables) represent higher priorities and bigger numbers lower priorities. Priorities can be used to resolve conflicts in intersecting spans based on the conflict resolving strategy.\n",
    "\n",
    "Additional attributes must be strings that specify the initial annotation for each rule. To alter the annotation dynamically, a DynamicExtractionRule for the same (pattern, group, priority) tuple must be added. This can not be read directly from the .csv file, it must be added manually."
   ]
  },
  {
   "cell_type": "markdown",
   "metadata": {},
   "source": [
    "**ruleset** is the ruleset as specified above\n",
    "\n",
    "**output_layer** is the name of the output layer\n",
    "\n",
    "**output_attributes** is a sequence of the attribute names to be annotated in the layer.\n",
    "\n",
    "**conflict_resolver** is either 'KEEP_MAXIMAL', 'KEEP_MINIMAL', 'KEEP_ALL' or a callable. In case of intersecting spans, 'KEEP_MAXIMAL' keeps longer, 'KEEP_MINIMAL' keeps shorter and 'KEEP_ALL' keeps all spans. A callable should be a function that does the conflict resolving itself. The default is 'KEEP_MAXIMAL'.\n",
    "\n",
    "If **overlapped** is True, overlapped matches are permitted. The dafault is False\n",
    "\n",
    "If **lowercase_text** is True, matches are found from the lowercase version of the input text. \n",
    "\n",
    "**decorator** is a function applied to each annotation to validate or edit them\n",
    "\n",
    "**match_attribute** is the name of the attribute in which the match object is stored in the annotation. It can be used in the dynamic rules or the decorator function as shown in the example"
   ]
  },
  {
   "cell_type": "code",
   "execution_count": 4,
   "metadata": {},
   "outputs": [
    {
     "data": {
      "text/html": [
       "<h4>Tagger</h4>\n",
       "Tags regular expression matches on the text.\n",
       "<table border=\"1\" class=\"dataframe\">\n",
       "  <thead>\n",
       "    <tr style=\"text-align: right;\">\n",
       "      <th>name</th>\n",
       "      <th>output layer</th>\n",
       "      <th>output attributes</th>\n",
       "      <th>input layers</th>\n",
       "    </tr>\n",
       "  </thead>\n",
       "  <tbody>\n",
       "    <tr>\n",
       "      <td>RegexTagger</td>\n",
       "      <td>tokenization_hints</td>\n",
       "      <td>('normalized', '_priority_')</td>\n",
       "      <td>()</td>\n",
       "    </tr>\n",
       "  </tbody>\n",
       "</table>\n",
       "<h4>Configuration</h4>\n",
       "<table border=\"1\" class=\"dataframe\">\n",
       "  <tbody>\n",
       "    <tr>\n",
       "      <th>conflict_resolver</th>\n",
       "      <td>KEEP_MAXIMAL</td>\n",
       "    </tr>\n",
       "    <tr>\n",
       "      <th>overlapped</th>\n",
       "      <td>False</td>\n",
       "    </tr>\n",
       "    <tr>\n",
       "      <th>ruleset</th>\n",
       "      <td>&lt;estnltk.taggers.system.rule_taggers.extraction_rules.ruleset.Ruleset object at 0x00000220E1447F98&gt;</td>\n",
       "    </tr>\n",
       "    <tr>\n",
       "      <th>global_decorator</th>\n",
       "      <td>&lt;function __main__.global_decorator&gt;</td>\n",
       "    </tr>\n",
       "    <tr>\n",
       "      <th>match_attribute</th>\n",
       "      <td>match</td>\n",
       "    </tr>\n",
       "    <tr>\n",
       "      <th>static_ruleset_map</th>\n",
       "      <td>{regex.Regex('-?(\\\\d[\\\\s\\\\.]?)+(,\\\\s?(\\\\d[\\\\s\\\\.]?)+)?', flags=regex.V0): [(0, 0 ..., type: &lt;class 'dict'&gt;, length: 2</td>\n",
       "    </tr>\n",
       "    <tr>\n",
       "      <th>dynamic_ruleset_map</th>\n",
       "      <td>{}</td>\n",
       "    </tr>\n",
       "    <tr>\n",
       "      <th>lowercase_text</th>\n",
       "      <td>False</td>\n",
       "    </tr>\n",
       "  </tbody>\n",
       "</table>"
      ],
      "text/plain": [
       "RegexTagger(input_layers=(), output_layer=tokenization_hints, output_attributes=('normalized', '_priority_'), conflict_resolver=KEEP_MAXIMAL, overlapped=False, ruleset=<estnltk.taggers.system.rule_taggers.extraction_rules.ruleset.Ruleset object at 0x00000220E1447F98>, global_decorator=<function __main__.global_decorator>, match_attribute=match, static_ruleset_map={regex.Regex('-?(\\\\d[\\\\s\\\\.]?)+(,\\\\s?(\\\\d[\\\\s\\\\.]?)+)?', flags=regex.V0): [(0, 0 ..., type: <class 'dict'>, length: 2, dynamic_ruleset_map={}, lowercase_text=False)"
      ]
     },
     "execution_count": 4,
     "metadata": {},
     "output_type": "execute_result"
    }
   ],
   "source": [
    "from estnltk.taggers import RegexTagger\n",
    "from estnltk import Text\n",
    "import re\n",
    "\n",
    "def global_decorator(layer,span,annotation):\n",
    "    annotation['normalized'] = re.sub('[\\s\\.]' ,'' , annotation['match'].group(0))\n",
    "    return annotation\n",
    "\n",
    "tokenization_hints_tagger = RegexTagger(ruleset=ruleset,\n",
    "                                        output_layer='tokenization_hints', # default 'regexes'\n",
    "                                        output_attributes=['normalized', '_priority_'], # default: None\n",
    "                                        conflict_resolver='KEEP_MAXIMAL', # default 'KEEP_MAXIMAL'\n",
    "                                        overlapped=False, # default False\n",
    "                                        lowercase_text=False,  # default False\n",
    "                                        decorator=global_decorator, #default None\n",
    "                                        match_attribute='match' #default 'match'\n",
    "                                        ) \n",
    "tokenization_hints_tagger"
   ]
  },
  {
   "cell_type": "code",
   "execution_count": 5,
   "metadata": {},
   "outputs": [
    {
     "data": {
      "text/html": [
       "<h4>Layer</h4>\n",
       "\n",
       "\n",
       "<table border=\"1\" class=\"dataframe\">\n",
       "  <thead>\n",
       "    <tr style=\"text-align: right;\">\n",
       "      <th>layer name</th>\n",
       "      <th>attributes</th>\n",
       "      <th>parent</th>\n",
       "      <th>enveloping</th>\n",
       "      <th>ambiguous</th>\n",
       "      <th>span count</th>\n",
       "    </tr>\n",
       "  </thead>\n",
       "  <tbody>\n",
       "    <tr>\n",
       "      <td>tokenization_hints</td>\n",
       "      <td>normalized, _priority_</td>\n",
       "      <td>None</td>\n",
       "      <td>None</td>\n",
       "      <td>True</td>\n",
       "      <td>4</td>\n",
       "    </tr>\n",
       "  </tbody>\n",
       "</table>\n",
       "<table border=\"1\" class=\"dataframe\">\n",
       "  <thead>\n",
       "    <tr style=\"text-align: right;\">\n",
       "      <th>text</th>\n",
       "      <th>normalized</th>\n",
       "      <th>_priority_</th>\n",
       "    </tr>\n",
       "  </thead>\n",
       "  <tbody>\n",
       "    <tr>\n",
       "      <td>bla@bla.ee</td>\n",
       "      <td>bla@blaee</td>\n",
       "      <td>2</td>\n",
       "    </tr>\n",
       "    <tr>\n",
       "      <td>10 456</td>\n",
       "      <td>10456</td>\n",
       "      <td>1</td>\n",
       "    </tr>\n",
       "    <tr>\n",
       "      <td>foo@foo.ee</td>\n",
       "      <td>foo@fooee</td>\n",
       "      <td>2</td>\n",
       "    </tr>\n",
       "    <tr>\n",
       "      <td>10</td>\n",
       "      <td>10</td>\n",
       "      <td>1</td>\n",
       "    </tr>\n",
       "  </tbody>\n",
       "</table>"
      ],
      "text/plain": [
       "Layer(name='tokenization_hints', attributes=('normalized', '_priority_'), spans=SL[Span('bla@bla.ee', [{'normalized': 'bla@blaee', '_priority_': 2}]),\n",
       "Span('10 456 ', [{'normalized': '10456', '_priority_': 1}]),\n",
       "Span('foo@foo.ee', [{'normalized': 'foo@fooee', '_priority_': 2}]),\n",
       "Span('10 ', [{'normalized': '10', '_priority_': 1}])])"
      ]
     },
     "execution_count": 5,
     "metadata": {},
     "output_type": "execute_result"
    }
   ],
   "source": [
    "text = Text('Aadressilt bla@bla.ee tuli 10 456 kirja aadressile foo@foo.ee 10 tunni jooksul.')\n",
    "status = {}\n",
    "tokenization_hints_tagger.tag(text, status=status)\n",
    "text['tokenization_hints']"
   ]
  },
  {
   "cell_type": "markdown",
   "metadata": {},
   "source": [
    "## Conflict resolving"
   ]
  },
  {
   "cell_type": "code",
   "execution_count": 6,
   "metadata": {},
   "outputs": [],
   "source": [
    "from estnltk.taggers.system.rule_taggers import StaticExtractionRule\n",
    "import regex\n",
    "\n",
    "# no _priority_, conflict_resolving_strategy='ALL'\n",
    "rule_list = [\n",
    "              StaticExtractionRule(pattern=regex.Regex('kaks')),\n",
    "              StaticExtractionRule(pattern=regex.Regex('kümme')),\n",
    "              StaticExtractionRule(pattern=regex.Regex('kakskümmend')),\n",
    "              StaticExtractionRule(pattern=regex.Regex('kakskümmend kaks'))\n",
    "             ]\n",
    "\n",
    "ruleset = Ruleset()\n",
    "ruleset.add_rules(rule_list)"
   ]
  },
  {
   "cell_type": "code",
   "execution_count": 7,
   "metadata": {},
   "outputs": [
    {
     "data": {
      "text/html": [
       "<h4>Layer</h4>\n",
       "\n",
       "\n",
       "<table border=\"1\" class=\"dataframe\">\n",
       "  <thead>\n",
       "    <tr style=\"text-align: right;\">\n",
       "      <th>layer name</th>\n",
       "      <th>attributes</th>\n",
       "      <th>parent</th>\n",
       "      <th>enveloping</th>\n",
       "      <th>ambiguous</th>\n",
       "      <th>span count</th>\n",
       "    </tr>\n",
       "  </thead>\n",
       "  <tbody>\n",
       "    <tr>\n",
       "      <td>regexes</td>\n",
       "      <td></td>\n",
       "      <td>None</td>\n",
       "      <td>None</td>\n",
       "      <td>True</td>\n",
       "      <td>5</td>\n",
       "    </tr>\n",
       "  </tbody>\n",
       "</table>\n",
       "<table border=\"1\" class=\"dataframe\">\n",
       "  <thead>\n",
       "    <tr style=\"text-align: right;\">\n",
       "      <th>text</th>\n",
       "    </tr>\n",
       "  </thead>\n",
       "  <tbody>\n",
       "    <tr>\n",
       "      <td>kaks</td>\n",
       "    </tr>\n",
       "    <tr>\n",
       "      <td>kakskümmend</td>\n",
       "    </tr>\n",
       "    <tr>\n",
       "      <td>kakskümmend kaks</td>\n",
       "    </tr>\n",
       "    <tr>\n",
       "      <td>kümme</td>\n",
       "    </tr>\n",
       "    <tr>\n",
       "      <td>kaks</td>\n",
       "    </tr>\n",
       "  </tbody>\n",
       "</table>"
      ],
      "text/plain": [
       "Layer(name='regexes', attributes=(), spans=SL[Span('kaks', [{}]),\n",
       "Span('kakskümmend', [{}]),\n",
       "Span('kakskümmend kaks', [{}]),\n",
       "Span('kümme', [{}]),\n",
       "Span('kaks', [{}])])"
      ]
     },
     "execution_count": 7,
     "metadata": {},
     "output_type": "execute_result"
    }
   ],
   "source": [
    "# no _priority_, conflict_resolver='KEEP_ALL'\n",
    "regex_tagger = RegexTagger(ruleset=ruleset, conflict_resolver='KEEP_ALL')\n",
    "text = Text('kakskümmend kaks')\n",
    "regex_tagger.tag(text)\n",
    "text['regexes']"
   ]
  },
  {
   "cell_type": "code",
   "execution_count": 8,
   "metadata": {},
   "outputs": [
    {
     "data": {
      "text/html": [
       "<h4>Layer</h4>\n",
       "\n",
       "\n",
       "<table border=\"1\" class=\"dataframe\">\n",
       "  <thead>\n",
       "    <tr style=\"text-align: right;\">\n",
       "      <th>layer name</th>\n",
       "      <th>attributes</th>\n",
       "      <th>parent</th>\n",
       "      <th>enveloping</th>\n",
       "      <th>ambiguous</th>\n",
       "      <th>span count</th>\n",
       "    </tr>\n",
       "  </thead>\n",
       "  <tbody>\n",
       "    <tr>\n",
       "      <td>regexes</td>\n",
       "      <td></td>\n",
       "      <td>None</td>\n",
       "      <td>None</td>\n",
       "      <td>True</td>\n",
       "      <td>1</td>\n",
       "    </tr>\n",
       "  </tbody>\n",
       "</table>\n",
       "<table border=\"1\" class=\"dataframe\">\n",
       "  <thead>\n",
       "    <tr style=\"text-align: right;\">\n",
       "      <th>text</th>\n",
       "    </tr>\n",
       "  </thead>\n",
       "  <tbody>\n",
       "    <tr>\n",
       "      <td>kakskümmend kaks</td>\n",
       "    </tr>\n",
       "  </tbody>\n",
       "</table>"
      ],
      "text/plain": [
       "Layer(name='regexes', attributes=(), spans=SL[Span('kakskümmend kaks', [{}])])"
      ]
     },
     "execution_count": 8,
     "metadata": {},
     "output_type": "execute_result"
    }
   ],
   "source": [
    "# no _priority_, conflict_resolver='KEEP_MAXIMAL'\n",
    "regex_tagger = RegexTagger(ruleset=ruleset, conflict_resolver='KEEP_MAXIMAL')\n",
    "text = Text('kakskümmend kaks')\n",
    "regex_tagger.tag(text)\n",
    "text['regexes']"
   ]
  },
  {
   "cell_type": "code",
   "execution_count": 9,
   "metadata": {},
   "outputs": [
    {
     "data": {
      "text/html": [
       "<h4>Layer</h4>\n",
       "\n",
       "\n",
       "<table border=\"1\" class=\"dataframe\">\n",
       "  <thead>\n",
       "    <tr style=\"text-align: right;\">\n",
       "      <th>layer name</th>\n",
       "      <th>attributes</th>\n",
       "      <th>parent</th>\n",
       "      <th>enveloping</th>\n",
       "      <th>ambiguous</th>\n",
       "      <th>span count</th>\n",
       "    </tr>\n",
       "  </thead>\n",
       "  <tbody>\n",
       "    <tr>\n",
       "      <td>regexes</td>\n",
       "      <td></td>\n",
       "      <td>None</td>\n",
       "      <td>None</td>\n",
       "      <td>True</td>\n",
       "      <td>3</td>\n",
       "    </tr>\n",
       "  </tbody>\n",
       "</table>\n",
       "<table border=\"1\" class=\"dataframe\">\n",
       "  <thead>\n",
       "    <tr style=\"text-align: right;\">\n",
       "      <th>text</th>\n",
       "    </tr>\n",
       "  </thead>\n",
       "  <tbody>\n",
       "    <tr>\n",
       "      <td>kaks</td>\n",
       "    </tr>\n",
       "    <tr>\n",
       "      <td>kümme</td>\n",
       "    </tr>\n",
       "    <tr>\n",
       "      <td>kaks</td>\n",
       "    </tr>\n",
       "  </tbody>\n",
       "</table>"
      ],
      "text/plain": [
       "Layer(name='regexes', attributes=(), spans=SL[Span('kaks', [{}]),\n",
       "Span('kümme', [{}]),\n",
       "Span('kaks', [{}])])"
      ]
     },
     "execution_count": 9,
     "metadata": {},
     "output_type": "execute_result"
    }
   ],
   "source": [
    "# no _priority_, conflict_resolver='KEEP_MINIMAL'\n",
    "regex_tagger = RegexTagger(ruleset=ruleset, conflict_resolver='KEEP_MINIMAL')\n",
    "text = Text('kakskümmend kaks')\n",
    "regex_tagger.tag(text)\n",
    "text['regexes']"
   ]
  },
  {
   "cell_type": "markdown",
   "metadata": {},
   "source": [
    "## Validating\n",
    "Match results can be validated using the decorator. Decorator takes three arguments: layer, span and annotation. If the annotation passes the validation, the validator must return the annotation, otherwise it should return `None` which omits the match."
   ]
  },
  {
   "cell_type": "code",
   "execution_count": 10,
   "metadata": {},
   "outputs": [
    {
     "data": {
      "text/html": [
       "<h4>Layer</h4>\n",
       "\n",
       "\n",
       "<table border=\"1\" class=\"dataframe\">\n",
       "  <thead>\n",
       "    <tr style=\"text-align: right;\">\n",
       "      <th>layer name</th>\n",
       "      <th>attributes</th>\n",
       "      <th>parent</th>\n",
       "      <th>enveloping</th>\n",
       "      <th>ambiguous</th>\n",
       "      <th>span count</th>\n",
       "    </tr>\n",
       "  </thead>\n",
       "  <tbody>\n",
       "    <tr>\n",
       "      <td>numbers</td>\n",
       "      <td>comment</td>\n",
       "      <td>None</td>\n",
       "      <td>None</td>\n",
       "      <td>True</td>\n",
       "      <td>3</td>\n",
       "    </tr>\n",
       "  </tbody>\n",
       "</table>\n",
       "<table border=\"1\" class=\"dataframe\">\n",
       "  <thead>\n",
       "    <tr style=\"text-align: right;\">\n",
       "      <th>text</th>\n",
       "      <th>comment</th>\n",
       "    </tr>\n",
       "  </thead>\n",
       "  <tbody>\n",
       "    <tr>\n",
       "      <td>0930</td>\n",
       "      <td>stars with zero</td>\n",
       "    </tr>\n",
       "    <tr>\n",
       "      <td>093</td>\n",
       "      <td>stars with zero</td>\n",
       "    </tr>\n",
       "    <tr>\n",
       "      <td>093402</td>\n",
       "      <td>stars with zero</td>\n",
       "    </tr>\n",
       "  </tbody>\n",
       "</table>"
      ],
      "text/plain": [
       "Layer(name='numbers', attributes=('comment',), spans=SL[Span('0930', [{'comment': 'stars with zero'}]),\n",
       "Span('093', [{'comment': 'stars with zero'}]),\n",
       "Span('093402', [{'comment': 'stars with zero'}])])"
      ]
     },
     "execution_count": 10,
     "metadata": {},
     "output_type": "execute_result"
    }
   ],
   "source": [
    "def decorator(layer,span,annotation):\n",
    "    if annotation['match'].group(0).startswith('0'):\n",
    "        return annotation\n",
    "    else:\n",
    "        return None\n",
    "    \n",
    "\n",
    "rules = [StaticExtractionRule(pattern=regex.Regex('\\d+'), attributes={'comment':'stars with zero'})]\n",
    "\n",
    "ruleset = Ruleset()\n",
    "ruleset.add_rules(rules)\n",
    "\n",
    "regex_tagger = RegexTagger(output_layer='numbers',\n",
    "                           ruleset=ruleset,\n",
    "                           output_attributes=['comment'],\n",
    "                           decorator=decorator)\n",
    "text = Text('3209 n  0930 093 2304209 093402')\n",
    "regex_tagger.tag(text)\n",
    "text['numbers']"
   ]
  },
  {
   "cell_type": "markdown",
   "metadata": {},
   "source": [
    "## Lowercase text\n",
    "Setting the flag `lowercase_text=True` means that the RegexTagger looks for matches in the lowercased version of the text."
   ]
  },
  {
   "cell_type": "code",
   "execution_count": 11,
   "metadata": {},
   "outputs": [
    {
     "data": {
      "text/html": [
       "<h4>Layer</h4>\n",
       "\n",
       "\n",
       "<table border=\"1\" class=\"dataframe\">\n",
       "  <thead>\n",
       "    <tr style=\"text-align: right;\">\n",
       "      <th>layer name</th>\n",
       "      <th>attributes</th>\n",
       "      <th>parent</th>\n",
       "      <th>enveloping</th>\n",
       "      <th>ambiguous</th>\n",
       "      <th>span count</th>\n",
       "    </tr>\n",
       "  </thead>\n",
       "  <tbody>\n",
       "    <tr>\n",
       "      <td>matches</td>\n",
       "      <td></td>\n",
       "      <td>None</td>\n",
       "      <td>None</td>\n",
       "      <td>True</td>\n",
       "      <td>3</td>\n",
       "    </tr>\n",
       "  </tbody>\n",
       "</table>\n",
       "<table border=\"1\" class=\"dataframe\">\n",
       "  <thead>\n",
       "    <tr style=\"text-align: right;\">\n",
       "      <th>text</th>\n",
       "    </tr>\n",
       "  </thead>\n",
       "  <tbody>\n",
       "    <tr>\n",
       "      <td>Miljonisõnaline</td>\n",
       "    </tr>\n",
       "    <tr>\n",
       "      <td>SÕNArikas</td>\n",
       "    </tr>\n",
       "    <tr>\n",
       "      <td>SõnaRaamat</td>\n",
       "    </tr>\n",
       "  </tbody>\n",
       "</table>"
      ],
      "text/plain": [
       "Layer(name='matches', attributes=(), spans=SL[Span('Miljonisõnaline', [{}]),\n",
       "Span('SÕNArikas', [{}]),\n",
       "Span('SõnaRaamat', [{}])])"
      ]
     },
     "execution_count": 11,
     "metadata": {},
     "output_type": "execute_result"
    }
   ],
   "source": [
    "rules = [StaticExtractionRule(pattern=regex.Regex('\\w*sõna\\w*'))]\n",
    "\n",
    "ruleset = Ruleset()\n",
    "ruleset.add_rules(rules)\n",
    "\n",
    "regex_tagger = RegexTagger(output_layer='matches',\n",
    "                           ruleset=ruleset,\n",
    "                           output_attributes=[],\n",
    "                           lowercase_text=True\n",
    "                          )\n",
    "text = Text('Miljonisõnaline SÕNArikas SõnaRaamat')\n",
    "regex_tagger.tag(text)\n",
    "text['matches']"
   ]
  }
 ],
 "metadata": {
  "kernelspec": {
   "display_name": "Python 3",
   "language": "python",
   "name": "python3"
  },
  "language_info": {
   "codemirror_mode": {
    "name": "ipython",
    "version": 3
   },
   "file_extension": ".py",
   "mimetype": "text/x-python",
   "name": "python",
   "nbconvert_exporter": "python",
   "pygments_lexer": "ipython3",
   "version": "3.6.12"
  }
 },
 "nbformat": 4,
 "nbformat_minor": 2
}
