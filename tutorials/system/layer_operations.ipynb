{
 "cells": [
  {
   "cell_type": "markdown",
   "metadata": {},
   "source": [
    "# Layer operations\n",
    "## Extractions"
   ]
  },
  {
   "cell_type": "markdown",
   "metadata": {},
   "source": [
    "Create a text object."
   ]
  },
  {
   "cell_type": "code",
   "execution_count": 1,
   "metadata": {},
   "outputs": [
    {
     "data": {
      "text/html": [
       "<table border=\"1\" class=\"dataframe\">\n",
       "  <thead>\n",
       "    <tr style=\"text-align: right;\">\n",
       "      <th>text</th>\n",
       "    </tr>\n",
       "  </thead>\n",
       "  <tbody>\n",
       "    <tr>\n",
       "      <td><div align = \"left\">Tere, maailm!</div></td>\n",
       "    </tr>\n",
       "  </tbody>\n",
       "</table>\n",
       "<table border=\"1\" class=\"dataframe\">\n",
       "  <thead>\n",
       "    <tr style=\"text-align: right;\">\n",
       "      <th>layer name</th>\n",
       "      <th>attributes</th>\n",
       "      <th>parent</th>\n",
       "      <th>enveloping</th>\n",
       "      <th>ambiguous</th>\n",
       "      <th>span count</th>\n",
       "    </tr>\n",
       "  </thead>\n",
       "  <tbody>\n",
       "    <tr>\n",
       "      <td>sentences</td>\n",
       "      <td></td>\n",
       "      <td>None</td>\n",
       "      <td>words</td>\n",
       "      <td>False</td>\n",
       "      <td>1</td>\n",
       "    </tr>\n",
       "    <tr>\n",
       "      <td>words</td>\n",
       "      <td>normalized_form</td>\n",
       "      <td>None</td>\n",
       "      <td>None</td>\n",
       "      <td>True</td>\n",
       "      <td>4</td>\n",
       "    </tr>\n",
       "    <tr>\n",
       "      <td>morph_analysis</td>\n",
       "      <td>normalized_text, lemma, root, root_tokens, ending, clitic, form, partofspeech</td>\n",
       "      <td>words</td>\n",
       "      <td>None</td>\n",
       "      <td>True</td>\n",
       "      <td>4</td>\n",
       "    </tr>\n",
       "  </tbody>\n",
       "</table>"
      ],
      "text/plain": [
       "Text(text='Tere, maailm!')"
      ]
     },
     "execution_count": 1,
     "metadata": {},
     "output_type": "execute_result"
    }
   ],
   "source": [
    "from estnltk import Text\n",
    "\n",
    "text = Text('Tere, maailm!').analyse('morphology')\n",
    "text"
   ]
  },
  {
   "cell_type": "markdown",
   "metadata": {},
   "source": [
    "### `extract_sections`\n",
    "Extract the first 9 and last 7 characters from the text."
   ]
  },
  {
   "cell_type": "code",
   "execution_count": 2,
   "metadata": {},
   "outputs": [
    {
     "data": {
      "text/plain": [
       "[Text(text='Tere, maa'), Text(text='maailm!')]"
      ]
     },
     "execution_count": 2,
     "metadata": {},
     "output_type": "execute_result"
    }
   ],
   "source": [
    "from estnltk.layer_operations import extract_sections\n",
    "\n",
    "texts = extract_sections(text=text,\n",
    "                         sections=[(0, 9), (6,13)],\n",
    "                         layers_to_keep=None,  # default: None\n",
    "                         trim_overlapping=False  # default: False\n",
    "                         )\n",
    "texts"
   ]
  },
  {
   "cell_type": "markdown",
   "metadata": {},
   "source": [
    "where<br>\n",
    "**text** is a Text object<br>\n",
    "**sections** is a list of tuples. Each tuple is a pair `(start, end)` where the `start` is the first character of the extraction and the `end` is the index of the first character after the extraction in the text<br>\n",
    "**layers_to_keep** is a list of the layer names to be kept. \n",
    "        The dependences must also be included, that is, if a layer in the list\n",
    "        has a parent or is enveloping, then the parent or enveloped layer\n",
    "        must also be in this list. If `None` (the default), all layers are kept.<br>\n",
    "**trim_overlapping** If `False` (the default), overlapping spans are not kept in the extracted text.\n",
    "If `True`, overlapping spans are trimmed to fit the boundaries.\n",
    "\n",
    "Returns a list of text objects that corresponds to the list of sections.\n",
    "\n",
    "Lets take a look at the first of the two texts extracted."
   ]
  },
  {
   "cell_type": "code",
   "execution_count": 3,
   "metadata": {},
   "outputs": [
    {
     "data": {
      "text/html": [
       "<table border=\"1\" class=\"dataframe\">\n",
       "  <thead>\n",
       "    <tr style=\"text-align: right;\">\n",
       "      <th>text</th>\n",
       "    </tr>\n",
       "  </thead>\n",
       "  <tbody>\n",
       "    <tr>\n",
       "      <td><div align = \"left\">Tere, maa</div></td>\n",
       "    </tr>\n",
       "  </tbody>\n",
       "</table>\n",
       "<table border=\"1\" class=\"dataframe\">\n",
       "  <thead>\n",
       "    <tr style=\"text-align: right;\">\n",
       "      <th>layer name</th>\n",
       "      <th>attributes</th>\n",
       "      <th>parent</th>\n",
       "      <th>enveloping</th>\n",
       "      <th>ambiguous</th>\n",
       "      <th>span count</th>\n",
       "    </tr>\n",
       "  </thead>\n",
       "  <tbody>\n",
       "    <tr>\n",
       "      <td>sentences</td>\n",
       "      <td></td>\n",
       "      <td>None</td>\n",
       "      <td>words</td>\n",
       "      <td>False</td>\n",
       "      <td>0</td>\n",
       "    </tr>\n",
       "    <tr>\n",
       "      <td>words</td>\n",
       "      <td>normalized_form</td>\n",
       "      <td>None</td>\n",
       "      <td>None</td>\n",
       "      <td>True</td>\n",
       "      <td>2</td>\n",
       "    </tr>\n",
       "    <tr>\n",
       "      <td>morph_analysis</td>\n",
       "      <td>normalized_text, lemma, root, root_tokens, ending, clitic, form, partofspeech</td>\n",
       "      <td>words</td>\n",
       "      <td>None</td>\n",
       "      <td>True</td>\n",
       "      <td>2</td>\n",
       "    </tr>\n",
       "  </tbody>\n",
       "</table>"
      ],
      "text/plain": [
       "Text(text='Tere, maa')"
      ]
     },
     "execution_count": 3,
     "metadata": {},
     "output_type": "execute_result"
    }
   ],
   "source": [
    "texts[0]"
   ]
  },
  {
   "cell_type": "markdown",
   "metadata": {},
   "source": [
    "Here the span count 2 means that 'Tere' and ',' are tagged as words, but the letters 'maa' are not covered by any spans since it is a part of a longer word 'maailm'.\n",
    "\n",
    "In the next example the span of 'maailm' is trimmed to cover the letters 'maa'. That gives a strange result where the analysis of 'maailm' is attached to the partial word 'maa'. So, use the trimming option with caution."
   ]
  },
  {
   "cell_type": "code",
   "execution_count": 4,
   "metadata": {},
   "outputs": [
    {
     "data": {
      "text/html": [
       "<h4>Layer</h4>\n",
       "\n",
       "\n",
       "<table border=\"1\" class=\"dataframe\">\n",
       "  <thead>\n",
       "    <tr style=\"text-align: right;\">\n",
       "      <th>layer name</th>\n",
       "      <th>attributes</th>\n",
       "      <th>parent</th>\n",
       "      <th>enveloping</th>\n",
       "      <th>ambiguous</th>\n",
       "      <th>span count</th>\n",
       "    </tr>\n",
       "  </thead>\n",
       "  <tbody>\n",
       "    <tr>\n",
       "      <td>morph_analysis</td>\n",
       "      <td>normalized_text, lemma, root, root_tokens, ending, clitic, form, partofspeech</td>\n",
       "      <td>words</td>\n",
       "      <td>None</td>\n",
       "      <td>True</td>\n",
       "      <td>3</td>\n",
       "    </tr>\n",
       "  </tbody>\n",
       "</table>\n",
       "<table border=\"1\" class=\"dataframe\">\n",
       "  <thead>\n",
       "    <tr style=\"text-align: right;\">\n",
       "      <th>text</th>\n",
       "      <th>normalized_text</th>\n",
       "      <th>lemma</th>\n",
       "      <th>root</th>\n",
       "      <th>root_tokens</th>\n",
       "      <th>ending</th>\n",
       "      <th>clitic</th>\n",
       "      <th>form</th>\n",
       "      <th>partofspeech</th>\n",
       "    </tr>\n",
       "  </thead>\n",
       "  <tbody>\n",
       "    <tr>\n",
       "      <td>Tere</td>\n",
       "      <td>Tere</td>\n",
       "      <td>tere</td>\n",
       "      <td>tere</td>\n",
       "      <td>['tere']</td>\n",
       "      <td>0</td>\n",
       "      <td></td>\n",
       "      <td></td>\n",
       "      <td>I</td>\n",
       "    </tr>\n",
       "    <tr>\n",
       "      <td>,</td>\n",
       "      <td>,</td>\n",
       "      <td>,</td>\n",
       "      <td>,</td>\n",
       "      <td>[',']</td>\n",
       "      <td></td>\n",
       "      <td></td>\n",
       "      <td></td>\n",
       "      <td>Z</td>\n",
       "    </tr>\n",
       "    <tr>\n",
       "      <td>maa</td>\n",
       "      <td>maailm</td>\n",
       "      <td>maailm</td>\n",
       "      <td>maa_ilm</td>\n",
       "      <td>['maa', 'ilm']</td>\n",
       "      <td>0</td>\n",
       "      <td></td>\n",
       "      <td>sg n</td>\n",
       "      <td>S</td>\n",
       "    </tr>\n",
       "  </tbody>\n",
       "</table>"
      ],
      "text/plain": [
       "Layer(name='morph_analysis', attributes=('normalized_text', 'lemma', 'root', 'root_tokens', 'ending', 'clitic', 'form', 'partofspeech'), spans=SL[Span('Tere', [{'normalized_text': 'Tere', 'lemma': 'tere', 'root': 'tere', 'root_tokens': ['tere'], 'ending': '0', 'clitic': '', 'form': '', 'partofspeech': 'I'}]),\n",
       "Span(',', [{'normalized_text': ',', 'lemma': ',', 'root': ',', 'root_tokens': [','], 'ending': '', 'clitic': '', 'form': '', 'partofspeech': 'Z'}]),\n",
       "Span('maa', [{'normalized_text': 'maailm', 'lemma': 'maailm', 'root': 'maa_ilm', 'root_tokens': ['maa', 'ilm'], 'ending': '0', 'clitic': '', 'form': 'sg n', 'partofspeech': 'S'}])])"
      ]
     },
     "execution_count": 4,
     "metadata": {},
     "output_type": "execute_result"
    }
   ],
   "source": [
    "extract_sections(text, [(0, 9)], ('words', 'morph_analysis'), True)[0]['morph_analysis']"
   ]
  },
  {
   "cell_type": "markdown",
   "metadata": {},
   "source": [
    "A more practical use case of\n",
    "```python\n",
    "trim_overlapping=True\n",
    "```\n",
    "would be trimming a span of a paragraph while leaving out the last sentence of a text.\n",
    "\n",
    "`extract_sections` does not yet use binary search of spans and is therefore not efficient on long texts.\n",
    "\n",
    "`extract_sections` does not yet support extracting layers of the following types:\n",
    "* not ambiguous with parent;\n",
    "* ambiguous enveloping;\n",
    "* ambiguous (not enveloping, no parent)."
   ]
  },
  {
   "cell_type": "markdown",
   "metadata": {},
   "source": [
    "### `extract_section`\n",
    "To extract only one section from a text, the `extract_section` function can be used."
   ]
  },
  {
   "cell_type": "code",
   "execution_count": 5,
   "metadata": {},
   "outputs": [
    {
     "data": {
      "text/html": [
       "<table border=\"1\" class=\"dataframe\">\n",
       "  <thead>\n",
       "    <tr style=\"text-align: right;\">\n",
       "      <th>text</th>\n",
       "    </tr>\n",
       "  </thead>\n",
       "  <tbody>\n",
       "    <tr>\n",
       "      <td><div align = \"left\">Tere, maa</div></td>\n",
       "    </tr>\n",
       "  </tbody>\n",
       "</table>\n",
       "<table border=\"1\" class=\"dataframe\">\n",
       "  <thead>\n",
       "    <tr style=\"text-align: right;\">\n",
       "      <th>layer name</th>\n",
       "      <th>attributes</th>\n",
       "      <th>parent</th>\n",
       "      <th>enveloping</th>\n",
       "      <th>ambiguous</th>\n",
       "      <th>span count</th>\n",
       "    </tr>\n",
       "  </thead>\n",
       "  <tbody>\n",
       "    <tr>\n",
       "      <td>sentences</td>\n",
       "      <td></td>\n",
       "      <td>None</td>\n",
       "      <td>words</td>\n",
       "      <td>False</td>\n",
       "      <td>0</td>\n",
       "    </tr>\n",
       "    <tr>\n",
       "      <td>words</td>\n",
       "      <td>normalized_form</td>\n",
       "      <td>None</td>\n",
       "      <td>None</td>\n",
       "      <td>True</td>\n",
       "      <td>2</td>\n",
       "    </tr>\n",
       "    <tr>\n",
       "      <td>morph_analysis</td>\n",
       "      <td>normalized_text, lemma, root, root_tokens, ending, clitic, form, partofspeech</td>\n",
       "      <td>words</td>\n",
       "      <td>None</td>\n",
       "      <td>True</td>\n",
       "      <td>2</td>\n",
       "    </tr>\n",
       "  </tbody>\n",
       "</table>"
      ],
      "text/plain": [
       "Text(text='Tere, maa')"
      ]
     },
     "execution_count": 5,
     "metadata": {},
     "output_type": "execute_result"
    }
   ],
   "source": [
    "from estnltk.layer_operations import extract_section\n",
    "extract_section(text=text,\n",
    "                start=0,\n",
    "                end=9,\n",
    "                layers_to_keep=None,  # defaut: None\n",
    "                trim_overlapping=False  # default: False\n",
    "                )"
   ]
  },
  {
   "cell_type": "markdown",
   "metadata": {},
   "source": [
    "Here the parameters `layers_to_keep` and `trim_overlapping` are the same as of `extract_sections` function."
   ]
  },
  {
   "cell_type": "markdown",
   "metadata": {},
   "source": [
    "## Splitting\n",
    "Now let's create a text with three sentences."
   ]
  },
  {
   "cell_type": "code",
   "execution_count": 6,
   "metadata": {},
   "outputs": [
    {
     "data": {
      "text/html": [
       "<table border=\"1\" class=\"dataframe\">\n",
       "  <thead>\n",
       "    <tr style=\"text-align: right;\">\n",
       "      <th>text</th>\n",
       "    </tr>\n",
       "  </thead>\n",
       "  <tbody>\n",
       "    <tr>\n",
       "      <td><div align = \"left\">Esimene lause.</br></br>Teine lõik. Kolmas lause.</div></td>\n",
       "    </tr>\n",
       "  </tbody>\n",
       "</table>\n",
       "<table border=\"1\" class=\"dataframe\">\n",
       "  <thead>\n",
       "    <tr style=\"text-align: right;\">\n",
       "      <th>layer name</th>\n",
       "      <th>attributes</th>\n",
       "      <th>parent</th>\n",
       "      <th>enveloping</th>\n",
       "      <th>ambiguous</th>\n",
       "      <th>span count</th>\n",
       "    </tr>\n",
       "  </thead>\n",
       "  <tbody>\n",
       "    <tr>\n",
       "      <td>paragraphs</td>\n",
       "      <td></td>\n",
       "      <td>None</td>\n",
       "      <td>sentences</td>\n",
       "      <td>False</td>\n",
       "      <td>2</td>\n",
       "    </tr>\n",
       "    <tr>\n",
       "      <td>sentences</td>\n",
       "      <td></td>\n",
       "      <td>None</td>\n",
       "      <td>words</td>\n",
       "      <td>False</td>\n",
       "      <td>3</td>\n",
       "    </tr>\n",
       "    <tr>\n",
       "      <td>tokens</td>\n",
       "      <td></td>\n",
       "      <td>None</td>\n",
       "      <td>None</td>\n",
       "      <td>False</td>\n",
       "      <td>9</td>\n",
       "    </tr>\n",
       "    <tr>\n",
       "      <td>compound_tokens</td>\n",
       "      <td>type, normalized</td>\n",
       "      <td>None</td>\n",
       "      <td>tokens</td>\n",
       "      <td>False</td>\n",
       "      <td>0</td>\n",
       "    </tr>\n",
       "    <tr>\n",
       "      <td>words</td>\n",
       "      <td>normalized_form</td>\n",
       "      <td>None</td>\n",
       "      <td>None</td>\n",
       "      <td>True</td>\n",
       "      <td>9</td>\n",
       "    </tr>\n",
       "    <tr>\n",
       "      <td>morph_analysis</td>\n",
       "      <td>normalized_text, lemma, root, root_tokens, ending, clitic, form, partofspeech</td>\n",
       "      <td>words</td>\n",
       "      <td>None</td>\n",
       "      <td>True</td>\n",
       "      <td>9</td>\n",
       "    </tr>\n",
       "    <tr>\n",
       "      <td>morph_extended</td>\n",
       "      <td>normalized_text, lemma, root, root_tokens, ending, clitic, form, partofspeech, punctuation_type, pronoun_type, letter_case, fin, verb_extension_suffix, subcat</td>\n",
       "      <td>morph_analysis</td>\n",
       "      <td>None</td>\n",
       "      <td>True</td>\n",
       "      <td>9</td>\n",
       "    </tr>\n",
       "  </tbody>\n",
       "</table>"
      ],
      "text/plain": [
       "Text(text='Esimene lause.\\n\\nTeine lõik. Kolmas lause.')"
      ]
     },
     "execution_count": 6,
     "metadata": {},
     "output_type": "execute_result"
    }
   ],
   "source": [
    "t = '''Esimene lause.\n",
    "\n",
    "Teine lõik. Kolmas lause.'''\n",
    "\n",
    "text = Text(t)\n",
    "text.analyse('all')\n",
    "text"
   ]
  },
  {
   "cell_type": "markdown",
   "metadata": {},
   "source": [
    "### `split_by`\n",
    "Using the `split_by` function, the text object can be split into pieces by spans of any layer. Here, for instance, we split the text by words."
   ]
  },
  {
   "cell_type": "code",
   "execution_count": 7,
   "metadata": {
    "scrolled": true
   },
   "outputs": [
    {
     "data": {
      "text/plain": [
       "[Text(text='Esimene'),\n",
       " Text(text='lause'),\n",
       " Text(text='.'),\n",
       " Text(text='Teine'),\n",
       " Text(text='lõik'),\n",
       " Text(text='.'),\n",
       " Text(text='Kolmas'),\n",
       " Text(text='lause'),\n",
       " Text(text='.')]"
      ]
     },
     "execution_count": 7,
     "metadata": {},
     "output_type": "execute_result"
    }
   ],
   "source": [
    "from estnltk.layer_operations import split_by\n",
    "\n",
    "texts = split_by(text, 'words')\n",
    "texts"
   ]
  },
  {
   "cell_type": "markdown",
   "metadata": {},
   "source": [
    "This is equivalent of writing\n",
    "```python\n",
    "split_by(text=text,\n",
    "         layer='words',\n",
    "         layers_to_keep=None,\n",
    "         trim_overlapping=False)\n",
    "```\n",
    "If **`layes_to_keep`** is `None`, then the list of layers that are kept is the minimal list with the poperties:\n",
    "* `layer` is in the list;\n",
    "* if L is in the list and L is enveloping M, then M is in the list;\n",
    "* if L is in the list and parent of L is M, then M is in the list;\n",
    "* if L is in the list and parent of M is L, then M is in the list.\n",
    "\n",
    "If\n",
    "```python\n",
    "layers_to_keep = None,\n",
    "```\n",
    "then `trim_overlapping` has no practical effect.\n",
    "\n",
    "Print out the first word extracted."
   ]
  },
  {
   "cell_type": "code",
   "execution_count": 8,
   "metadata": {},
   "outputs": [
    {
     "data": {
      "text/html": [
       "<table border=\"1\" class=\"dataframe\">\n",
       "  <thead>\n",
       "    <tr style=\"text-align: right;\">\n",
       "      <th>text</th>\n",
       "    </tr>\n",
       "  </thead>\n",
       "  <tbody>\n",
       "    <tr>\n",
       "      <td><div align = \"left\">Esimene</div></td>\n",
       "    </tr>\n",
       "  </tbody>\n",
       "</table>\n",
       "<table border=\"1\" class=\"dataframe\">\n",
       "  <thead>\n",
       "    <tr style=\"text-align: right;\">\n",
       "      <th>layer name</th>\n",
       "      <th>attributes</th>\n",
       "      <th>parent</th>\n",
       "      <th>enveloping</th>\n",
       "      <th>ambiguous</th>\n",
       "      <th>span count</th>\n",
       "    </tr>\n",
       "  </thead>\n",
       "  <tbody>\n",
       "    <tr>\n",
       "      <td>words</td>\n",
       "      <td>normalized_form</td>\n",
       "      <td>None</td>\n",
       "      <td>None</td>\n",
       "      <td>True</td>\n",
       "      <td>1</td>\n",
       "    </tr>\n",
       "    <tr>\n",
       "      <td>morph_analysis</td>\n",
       "      <td>normalized_text, lemma, root, root_tokens, ending, clitic, form, partofspeech</td>\n",
       "      <td>words</td>\n",
       "      <td>None</td>\n",
       "      <td>True</td>\n",
       "      <td>1</td>\n",
       "    </tr>\n",
       "    <tr>\n",
       "      <td>morph_extended</td>\n",
       "      <td>normalized_text, lemma, root, root_tokens, ending, clitic, form, partofspeech, punctuation_type, pronoun_type, letter_case, fin, verb_extension_suffix, subcat</td>\n",
       "      <td>morph_analysis</td>\n",
       "      <td>None</td>\n",
       "      <td>True</td>\n",
       "      <td>1</td>\n",
       "    </tr>\n",
       "  </tbody>\n",
       "</table>"
      ],
      "text/plain": [
       "Text(text='Esimene')"
      ]
     },
     "execution_count": 8,
     "metadata": {},
     "output_type": "execute_result"
    }
   ],
   "source": [
    "texts[0]"
   ]
  },
  {
   "cell_type": "markdown",
   "metadata": {},
   "source": [
    "### `split_by_sentences`\n",
    "Using the `split_by_sentences` function, we can turn the text object into a list of text objects, each containig one sentence of the original text."
   ]
  },
  {
   "cell_type": "code",
   "execution_count": 9,
   "metadata": {},
   "outputs": [
    {
     "data": {
      "text/plain": [
       "[Text(text='Esimene lause.'),\n",
       " Text(text='Teine lõik.'),\n",
       " Text(text='Kolmas lause.')]"
      ]
     },
     "execution_count": 9,
     "metadata": {},
     "output_type": "execute_result"
    }
   ],
   "source": [
    "from estnltk.layer_operations import split_by_sentences\n",
    "\n",
    "texts = split_by_sentences(text=text,\n",
    "                           layers_to_keep=None,  # default: None\n",
    "                           trim_overlapping=False  # default: False\n",
    "                           )\n",
    "texts"
   ]
  },
  {
   "cell_type": "markdown",
   "metadata": {},
   "source": [
    "Here `layers_to_keep` and `trim_overlapping` parameters are the same as of `split_by` function.\n",
    "Here is the second sentence."
   ]
  },
  {
   "cell_type": "code",
   "execution_count": 10,
   "metadata": {},
   "outputs": [
    {
     "data": {
      "text/html": [
       "<table border=\"1\" class=\"dataframe\">\n",
       "  <thead>\n",
       "    <tr style=\"text-align: right;\">\n",
       "      <th>text</th>\n",
       "    </tr>\n",
       "  </thead>\n",
       "  <tbody>\n",
       "    <tr>\n",
       "      <td><div align = \"left\">Teine lõik.</div></td>\n",
       "    </tr>\n",
       "  </tbody>\n",
       "</table>\n",
       "<table border=\"1\" class=\"dataframe\">\n",
       "  <thead>\n",
       "    <tr style=\"text-align: right;\">\n",
       "      <th>layer name</th>\n",
       "      <th>attributes</th>\n",
       "      <th>parent</th>\n",
       "      <th>enveloping</th>\n",
       "      <th>ambiguous</th>\n",
       "      <th>span count</th>\n",
       "    </tr>\n",
       "  </thead>\n",
       "  <tbody>\n",
       "    <tr>\n",
       "      <td>sentences</td>\n",
       "      <td></td>\n",
       "      <td>None</td>\n",
       "      <td>words</td>\n",
       "      <td>False</td>\n",
       "      <td>1</td>\n",
       "    </tr>\n",
       "    <tr>\n",
       "      <td>words</td>\n",
       "      <td>normalized_form</td>\n",
       "      <td>None</td>\n",
       "      <td>None</td>\n",
       "      <td>True</td>\n",
       "      <td>3</td>\n",
       "    </tr>\n",
       "    <tr>\n",
       "      <td>morph_analysis</td>\n",
       "      <td>normalized_text, lemma, root, root_tokens, ending, clitic, form, partofspeech</td>\n",
       "      <td>words</td>\n",
       "      <td>None</td>\n",
       "      <td>True</td>\n",
       "      <td>3</td>\n",
       "    </tr>\n",
       "    <tr>\n",
       "      <td>morph_extended</td>\n",
       "      <td>normalized_text, lemma, root, root_tokens, ending, clitic, form, partofspeech, punctuation_type, pronoun_type, letter_case, fin, verb_extension_suffix, subcat</td>\n",
       "      <td>morph_analysis</td>\n",
       "      <td>None</td>\n",
       "      <td>True</td>\n",
       "      <td>3</td>\n",
       "    </tr>\n",
       "  </tbody>\n",
       "</table>"
      ],
      "text/plain": [
       "Text(text='Teine lõik.')"
      ]
     },
     "execution_count": 10,
     "metadata": {},
     "output_type": "execute_result"
    }
   ],
   "source": [
    "texts[1]"
   ]
  },
  {
   "cell_type": "markdown",
   "metadata": {},
   "source": [
    "In the next example we keep all the layers of the text object, trim the overlaping spans, and print out the second sentence extracted."
   ]
  },
  {
   "cell_type": "code",
   "execution_count": 11,
   "metadata": {},
   "outputs": [
    {
     "data": {
      "text/html": [
       "<table border=\"1\" class=\"dataframe\">\n",
       "  <thead>\n",
       "    <tr style=\"text-align: right;\">\n",
       "      <th>text</th>\n",
       "    </tr>\n",
       "  </thead>\n",
       "  <tbody>\n",
       "    <tr>\n",
       "      <td><div align = \"left\">Teine lõik.</div></td>\n",
       "    </tr>\n",
       "  </tbody>\n",
       "</table>\n",
       "<table border=\"1\" class=\"dataframe\">\n",
       "  <thead>\n",
       "    <tr style=\"text-align: right;\">\n",
       "      <th>layer name</th>\n",
       "      <th>attributes</th>\n",
       "      <th>parent</th>\n",
       "      <th>enveloping</th>\n",
       "      <th>ambiguous</th>\n",
       "      <th>span count</th>\n",
       "    </tr>\n",
       "  </thead>\n",
       "  <tbody>\n",
       "    <tr>\n",
       "      <td>paragraphs</td>\n",
       "      <td></td>\n",
       "      <td>None</td>\n",
       "      <td>sentences</td>\n",
       "      <td>False</td>\n",
       "      <td>1</td>\n",
       "    </tr>\n",
       "    <tr>\n",
       "      <td>sentences</td>\n",
       "      <td></td>\n",
       "      <td>None</td>\n",
       "      <td>words</td>\n",
       "      <td>False</td>\n",
       "      <td>1</td>\n",
       "    </tr>\n",
       "    <tr>\n",
       "      <td>tokens</td>\n",
       "      <td></td>\n",
       "      <td>None</td>\n",
       "      <td>None</td>\n",
       "      <td>False</td>\n",
       "      <td>3</td>\n",
       "    </tr>\n",
       "    <tr>\n",
       "      <td>compound_tokens</td>\n",
       "      <td>type, normalized</td>\n",
       "      <td>None</td>\n",
       "      <td>tokens</td>\n",
       "      <td>False</td>\n",
       "      <td>0</td>\n",
       "    </tr>\n",
       "    <tr>\n",
       "      <td>words</td>\n",
       "      <td>normalized_form</td>\n",
       "      <td>None</td>\n",
       "      <td>None</td>\n",
       "      <td>True</td>\n",
       "      <td>3</td>\n",
       "    </tr>\n",
       "    <tr>\n",
       "      <td>morph_analysis</td>\n",
       "      <td>normalized_text, lemma, root, root_tokens, ending, clitic, form, partofspeech</td>\n",
       "      <td>words</td>\n",
       "      <td>None</td>\n",
       "      <td>True</td>\n",
       "      <td>3</td>\n",
       "    </tr>\n",
       "    <tr>\n",
       "      <td>morph_extended</td>\n",
       "      <td>normalized_text, lemma, root, root_tokens, ending, clitic, form, partofspeech, punctuation_type, pronoun_type, letter_case, fin, verb_extension_suffix, subcat</td>\n",
       "      <td>morph_analysis</td>\n",
       "      <td>None</td>\n",
       "      <td>True</td>\n",
       "      <td>3</td>\n",
       "    </tr>\n",
       "  </tbody>\n",
       "</table>"
      ],
      "text/plain": [
       "Text(text='Teine lõik.')"
      ]
     },
     "execution_count": 11,
     "metadata": {},
     "output_type": "execute_result"
    }
   ],
   "source": [
    "texts = split_by_sentences(text=text, \n",
    "                           layers_to_keep=list(text.layers),\n",
    "                           trim_overlapping=True\n",
    "                           )\n",
    "texts[1]"
   ]
  },
  {
   "cell_type": "markdown",
   "metadata": {},
   "source": [
    "### `split_by_clauses`\n",
    "\n",
    "Splitting text object into clauses requires a special splitting logic, because some of the clauses may be embedded inside other clauses.\n",
    "This logic is provided by the `split_by_clauses` function, which splits the text object into a list of text objects, each containing exactly one clause of the original text."
   ]
  },
  {
   "cell_type": "code",
   "execution_count": 12,
   "metadata": {},
   "outputs": [],
   "source": [
    "from estnltk.layer_operations import split_by_clauses\n",
    "\n",
    "# Create a text with clause annotations\n",
    "text = Text('Mees, keda seal kohtasime, oli tuttav ja teretas meid.').tag_layer('clauses')"
   ]
  },
  {
   "cell_type": "code",
   "execution_count": 13,
   "metadata": {},
   "outputs": [],
   "source": [
    "# Split text into clauses\n",
    "texts = split_by_clauses(text=text,\n",
    "                         layers_to_keep=list(text.layers),\n",
    "                         trim_overlapping=True )"
   ]
  },
  {
   "cell_type": "code",
   "execution_count": 14,
   "metadata": {},
   "outputs": [
    {
     "data": {
      "text/html": [
       "<table border=\"1\" class=\"dataframe\">\n",
       "  <thead>\n",
       "    <tr style=\"text-align: right;\">\n",
       "      <th>text</th>\n",
       "    </tr>\n",
       "  </thead>\n",
       "  <tbody>\n",
       "    <tr>\n",
       "      <td><div align = \"left\">Mees oli tuttav ja</div></td>\n",
       "    </tr>\n",
       "  </tbody>\n",
       "</table>\n",
       "<table border=\"1\" class=\"dataframe\">\n",
       "  <thead>\n",
       "    <tr style=\"text-align: right;\">\n",
       "      <th>layer name</th>\n",
       "      <th>attributes</th>\n",
       "      <th>parent</th>\n",
       "      <th>enveloping</th>\n",
       "      <th>ambiguous</th>\n",
       "      <th>span count</th>\n",
       "    </tr>\n",
       "  </thead>\n",
       "  <tbody>\n",
       "    <tr>\n",
       "      <td>sentences</td>\n",
       "      <td></td>\n",
       "      <td>None</td>\n",
       "      <td>words</td>\n",
       "      <td>False</td>\n",
       "      <td>1</td>\n",
       "    </tr>\n",
       "    <tr>\n",
       "      <td>tokens</td>\n",
       "      <td></td>\n",
       "      <td>None</td>\n",
       "      <td>None</td>\n",
       "      <td>False</td>\n",
       "      <td>4</td>\n",
       "    </tr>\n",
       "    <tr>\n",
       "      <td>compound_tokens</td>\n",
       "      <td>type, normalized</td>\n",
       "      <td>None</td>\n",
       "      <td>tokens</td>\n",
       "      <td>False</td>\n",
       "      <td>0</td>\n",
       "    </tr>\n",
       "    <tr>\n",
       "      <td>words</td>\n",
       "      <td>normalized_form</td>\n",
       "      <td>None</td>\n",
       "      <td>None</td>\n",
       "      <td>True</td>\n",
       "      <td>4</td>\n",
       "    </tr>\n",
       "    <tr>\n",
       "      <td>morph_analysis</td>\n",
       "      <td>normalized_text, lemma, root, root_tokens, ending, clitic, form, partofspeech</td>\n",
       "      <td>words</td>\n",
       "      <td>None</td>\n",
       "      <td>True</td>\n",
       "      <td>4</td>\n",
       "    </tr>\n",
       "    <tr>\n",
       "      <td>clauses</td>\n",
       "      <td>clause_type</td>\n",
       "      <td>None</td>\n",
       "      <td>words</td>\n",
       "      <td>False</td>\n",
       "      <td>1</td>\n",
       "    </tr>\n",
       "  </tbody>\n",
       "</table>"
      ],
      "text/plain": [
       "Text(text='Mees oli tuttav ja')"
      ]
     },
     "metadata": {},
     "output_type": "display_data"
    },
    {
     "data": {
      "text/html": [
       "<table border=\"1\" class=\"dataframe\">\n",
       "  <thead>\n",
       "    <tr style=\"text-align: right;\">\n",
       "      <th>text</th>\n",
       "    </tr>\n",
       "  </thead>\n",
       "  <tbody>\n",
       "    <tr>\n",
       "      <td><div align = \"left\">, keda seal kohtasime,</div></td>\n",
       "    </tr>\n",
       "  </tbody>\n",
       "</table>\n",
       "<table border=\"1\" class=\"dataframe\">\n",
       "  <thead>\n",
       "    <tr style=\"text-align: right;\">\n",
       "      <th>layer name</th>\n",
       "      <th>attributes</th>\n",
       "      <th>parent</th>\n",
       "      <th>enveloping</th>\n",
       "      <th>ambiguous</th>\n",
       "      <th>span count</th>\n",
       "    </tr>\n",
       "  </thead>\n",
       "  <tbody>\n",
       "    <tr>\n",
       "      <td>sentences</td>\n",
       "      <td></td>\n",
       "      <td>None</td>\n",
       "      <td>words</td>\n",
       "      <td>False</td>\n",
       "      <td>1</td>\n",
       "    </tr>\n",
       "    <tr>\n",
       "      <td>tokens</td>\n",
       "      <td></td>\n",
       "      <td>None</td>\n",
       "      <td>None</td>\n",
       "      <td>False</td>\n",
       "      <td>5</td>\n",
       "    </tr>\n",
       "    <tr>\n",
       "      <td>compound_tokens</td>\n",
       "      <td>type, normalized</td>\n",
       "      <td>None</td>\n",
       "      <td>tokens</td>\n",
       "      <td>False</td>\n",
       "      <td>0</td>\n",
       "    </tr>\n",
       "    <tr>\n",
       "      <td>words</td>\n",
       "      <td>normalized_form</td>\n",
       "      <td>None</td>\n",
       "      <td>None</td>\n",
       "      <td>True</td>\n",
       "      <td>5</td>\n",
       "    </tr>\n",
       "    <tr>\n",
       "      <td>morph_analysis</td>\n",
       "      <td>normalized_text, lemma, root, root_tokens, ending, clitic, form, partofspeech</td>\n",
       "      <td>words</td>\n",
       "      <td>None</td>\n",
       "      <td>True</td>\n",
       "      <td>5</td>\n",
       "    </tr>\n",
       "    <tr>\n",
       "      <td>clauses</td>\n",
       "      <td>clause_type</td>\n",
       "      <td>None</td>\n",
       "      <td>words</td>\n",
       "      <td>False</td>\n",
       "      <td>1</td>\n",
       "    </tr>\n",
       "  </tbody>\n",
       "</table>"
      ],
      "text/plain": [
       "Text(text=', keda seal kohtasime,')"
      ]
     },
     "metadata": {},
     "output_type": "display_data"
    },
    {
     "data": {
      "text/html": [
       "<table border=\"1\" class=\"dataframe\">\n",
       "  <thead>\n",
       "    <tr style=\"text-align: right;\">\n",
       "      <th>text</th>\n",
       "    </tr>\n",
       "  </thead>\n",
       "  <tbody>\n",
       "    <tr>\n",
       "      <td><div align = \"left\">teretas meid.</div></td>\n",
       "    </tr>\n",
       "  </tbody>\n",
       "</table>\n",
       "<table border=\"1\" class=\"dataframe\">\n",
       "  <thead>\n",
       "    <tr style=\"text-align: right;\">\n",
       "      <th>layer name</th>\n",
       "      <th>attributes</th>\n",
       "      <th>parent</th>\n",
       "      <th>enveloping</th>\n",
       "      <th>ambiguous</th>\n",
       "      <th>span count</th>\n",
       "    </tr>\n",
       "  </thead>\n",
       "  <tbody>\n",
       "    <tr>\n",
       "      <td>sentences</td>\n",
       "      <td></td>\n",
       "      <td>None</td>\n",
       "      <td>words</td>\n",
       "      <td>False</td>\n",
       "      <td>1</td>\n",
       "    </tr>\n",
       "    <tr>\n",
       "      <td>tokens</td>\n",
       "      <td></td>\n",
       "      <td>None</td>\n",
       "      <td>None</td>\n",
       "      <td>False</td>\n",
       "      <td>3</td>\n",
       "    </tr>\n",
       "    <tr>\n",
       "      <td>compound_tokens</td>\n",
       "      <td>type, normalized</td>\n",
       "      <td>None</td>\n",
       "      <td>tokens</td>\n",
       "      <td>False</td>\n",
       "      <td>0</td>\n",
       "    </tr>\n",
       "    <tr>\n",
       "      <td>words</td>\n",
       "      <td>normalized_form</td>\n",
       "      <td>None</td>\n",
       "      <td>None</td>\n",
       "      <td>True</td>\n",
       "      <td>3</td>\n",
       "    </tr>\n",
       "    <tr>\n",
       "      <td>morph_analysis</td>\n",
       "      <td>normalized_text, lemma, root, root_tokens, ending, clitic, form, partofspeech</td>\n",
       "      <td>words</td>\n",
       "      <td>None</td>\n",
       "      <td>True</td>\n",
       "      <td>3</td>\n",
       "    </tr>\n",
       "    <tr>\n",
       "      <td>clauses</td>\n",
       "      <td>clause_type</td>\n",
       "      <td>None</td>\n",
       "      <td>words</td>\n",
       "      <td>False</td>\n",
       "      <td>1</td>\n",
       "    </tr>\n",
       "  </tbody>\n",
       "</table>"
      ],
      "text/plain": [
       "Text(text='teretas meid.')"
      ]
     },
     "metadata": {},
     "output_type": "display_data"
    }
   ],
   "source": [
    "# Display results\n",
    "for clause_text in texts:\n",
    "    display(clause_text)"
   ]
  },
  {
   "cell_type": "markdown",
   "metadata": {},
   "source": [
    "Parameters `layers_to_keep` and `trim_overlapping` are the same as of `split_by` function.\n",
    "In addition, parameter `input_clauses_layer` can be used to specify name of the clauses layer, e.g. \n",
    "\n",
    "```python\n",
    "# split by the layer 'my_clauses'\n",
    "texts = split_by_clauses(text=text, input_clauses_layer='my_clauses')\n",
    "```"
   ]
  },
  {
   "cell_type": "markdown",
   "metadata": {},
   "source": [
    "## Rebase"
   ]
  },
  {
   "cell_type": "markdown",
   "metadata": {},
   "source": [
    "In order to exemplify rebasing, let's consider the following example text:"
   ]
  },
  {
   "cell_type": "code",
   "execution_count": 15,
   "metadata": {},
   "outputs": [
    {
     "data": {
      "text/html": [
       "<table border=\"1\" class=\"dataframe\">\n",
       "  <thead>\n",
       "    <tr style=\"text-align: right;\">\n",
       "      <th>text</th>\n",
       "    </tr>\n",
       "  </thead>\n",
       "  <tbody>\n",
       "    <tr>\n",
       "      <td><div align = \"left\">Päike paistab. Lõokene lõõritab.</div></td>\n",
       "    </tr>\n",
       "  </tbody>\n",
       "</table>\n",
       "<table border=\"1\" class=\"dataframe\">\n",
       "  <thead>\n",
       "    <tr style=\"text-align: right;\">\n",
       "      <th>layer name</th>\n",
       "      <th>attributes</th>\n",
       "      <th>parent</th>\n",
       "      <th>enveloping</th>\n",
       "      <th>ambiguous</th>\n",
       "      <th>span count</th>\n",
       "    </tr>\n",
       "  </thead>\n",
       "  <tbody>\n",
       "    <tr>\n",
       "      <td>paragraphs</td>\n",
       "      <td></td>\n",
       "      <td>None</td>\n",
       "      <td>sentences</td>\n",
       "      <td>False</td>\n",
       "      <td>1</td>\n",
       "    </tr>\n",
       "    <tr>\n",
       "      <td>sentences</td>\n",
       "      <td></td>\n",
       "      <td>None</td>\n",
       "      <td>words</td>\n",
       "      <td>False</td>\n",
       "      <td>2</td>\n",
       "    </tr>\n",
       "    <tr>\n",
       "      <td>tokens</td>\n",
       "      <td></td>\n",
       "      <td>None</td>\n",
       "      <td>None</td>\n",
       "      <td>False</td>\n",
       "      <td>6</td>\n",
       "    </tr>\n",
       "    <tr>\n",
       "      <td>compound_tokens</td>\n",
       "      <td>type, normalized</td>\n",
       "      <td>None</td>\n",
       "      <td>tokens</td>\n",
       "      <td>False</td>\n",
       "      <td>0</td>\n",
       "    </tr>\n",
       "    <tr>\n",
       "      <td>words</td>\n",
       "      <td>normalized_form</td>\n",
       "      <td>None</td>\n",
       "      <td>None</td>\n",
       "      <td>True</td>\n",
       "      <td>6</td>\n",
       "    </tr>\n",
       "    <tr>\n",
       "      <td>morph_analysis</td>\n",
       "      <td>normalized_text, lemma, root, root_tokens, ending, clitic, form, partofspeech</td>\n",
       "      <td>words</td>\n",
       "      <td>None</td>\n",
       "      <td>True</td>\n",
       "      <td>6</td>\n",
       "    </tr>\n",
       "    <tr>\n",
       "      <td>morph_extended</td>\n",
       "      <td>normalized_text, lemma, root, root_tokens, ending, clitic, form, partofspeech, punctuation_type, pronoun_type, letter_case, fin, verb_extension_suffix, subcat</td>\n",
       "      <td>morph_analysis</td>\n",
       "      <td>None</td>\n",
       "      <td>True</td>\n",
       "      <td>6</td>\n",
       "    </tr>\n",
       "  </tbody>\n",
       "</table>"
      ],
      "text/plain": [
       "Text(text='Päike paistab. Lõokene lõõritab.')"
      ]
     },
     "execution_count": 15,
     "metadata": {},
     "output_type": "execute_result"
    }
   ],
   "source": [
    "text = Text('''Päike paistab. Lõokene lõõritab.''')\n",
    "text.analyse('all')"
   ]
  },
  {
   "cell_type": "markdown",
   "metadata": {},
   "source": [
    "The parent of the `morph_extended` layer is `morph_analysis`. So, if one deletes `morph_analysis` layer, then `morph_extended` layer is also deleted. To avoid this, the `parent` attribute of `morph_extended` can be changed to `words` using the `rebase` function.\n",
    "\n",
    "This can be done because, the `_base` attribute of both layers is the same:"
   ]
  },
  {
   "cell_type": "code",
   "execution_count": 16,
   "metadata": {},
   "outputs": [
    {
     "data": {
      "text/html": [
       "<table border=\"1\" class=\"dataframe\">\n",
       "  <thead>\n",
       "    <tr style=\"text-align: right;\">\n",
       "      <th>text</th>\n",
       "    </tr>\n",
       "  </thead>\n",
       "  <tbody>\n",
       "    <tr>\n",
       "      <td><div align = \"left\">Päike paistab. Lõokene lõõritab.</div></td>\n",
       "    </tr>\n",
       "  </tbody>\n",
       "</table>\n",
       "<table border=\"1\" class=\"dataframe\">\n",
       "  <thead>\n",
       "    <tr style=\"text-align: right;\">\n",
       "      <th>layer name</th>\n",
       "      <th>attributes</th>\n",
       "      <th>parent</th>\n",
       "      <th>enveloping</th>\n",
       "      <th>ambiguous</th>\n",
       "      <th>span count</th>\n",
       "    </tr>\n",
       "  </thead>\n",
       "  <tbody>\n",
       "    <tr>\n",
       "      <td>paragraphs</td>\n",
       "      <td></td>\n",
       "      <td>None</td>\n",
       "      <td>sentences</td>\n",
       "      <td>False</td>\n",
       "      <td>1</td>\n",
       "    </tr>\n",
       "    <tr>\n",
       "      <td>sentences</td>\n",
       "      <td></td>\n",
       "      <td>None</td>\n",
       "      <td>words</td>\n",
       "      <td>False</td>\n",
       "      <td>2</td>\n",
       "    </tr>\n",
       "    <tr>\n",
       "      <td>tokens</td>\n",
       "      <td></td>\n",
       "      <td>None</td>\n",
       "      <td>None</td>\n",
       "      <td>False</td>\n",
       "      <td>6</td>\n",
       "    </tr>\n",
       "    <tr>\n",
       "      <td>compound_tokens</td>\n",
       "      <td>type, normalized</td>\n",
       "      <td>None</td>\n",
       "      <td>tokens</td>\n",
       "      <td>False</td>\n",
       "      <td>0</td>\n",
       "    </tr>\n",
       "    <tr>\n",
       "      <td>words</td>\n",
       "      <td>normalized_form</td>\n",
       "      <td>None</td>\n",
       "      <td>None</td>\n",
       "      <td>True</td>\n",
       "      <td>6</td>\n",
       "    </tr>\n",
       "    <tr>\n",
       "      <td>morph_analysis</td>\n",
       "      <td>normalized_text, lemma, root, root_tokens, ending, clitic, form, partofspeech</td>\n",
       "      <td>words</td>\n",
       "      <td>None</td>\n",
       "      <td>True</td>\n",
       "      <td>6</td>\n",
       "    </tr>\n",
       "    <tr>\n",
       "      <td>morph_extended</td>\n",
       "      <td>normalized_text, lemma, root, root_tokens, ending, clitic, form, partofspeech, punctuation_type, pronoun_type, letter_case, fin, verb_extension_suffix, subcat</td>\n",
       "      <td>words</td>\n",
       "      <td>None</td>\n",
       "      <td>True</td>\n",
       "      <td>6</td>\n",
       "    </tr>\n",
       "  </tbody>\n",
       "</table>"
      ],
      "text/plain": [
       "Text(text='Päike paistab. Lõokene lõõritab.')"
      ]
     },
     "execution_count": 16,
     "metadata": {},
     "output_type": "execute_result"
    }
   ],
   "source": [
    "from estnltk.layer_operations import rebase\n",
    "\n",
    "rebase(text, 'morph_extended', 'words')"
   ]
  },
  {
   "cell_type": "code",
   "execution_count": 17,
   "metadata": {
    "scrolled": true
   },
   "outputs": [
    {
     "data": {
      "text/html": [
       "<table border=\"1\" class=\"dataframe\">\n",
       "  <thead>\n",
       "    <tr style=\"text-align: right;\">\n",
       "      <th>text</th>\n",
       "    </tr>\n",
       "  </thead>\n",
       "  <tbody>\n",
       "    <tr>\n",
       "      <td><div align = \"left\">Päike paistab. Lõokene lõõritab.</div></td>\n",
       "    </tr>\n",
       "  </tbody>\n",
       "</table>\n",
       "<table border=\"1\" class=\"dataframe\">\n",
       "  <thead>\n",
       "    <tr style=\"text-align: right;\">\n",
       "      <th>layer name</th>\n",
       "      <th>attributes</th>\n",
       "      <th>parent</th>\n",
       "      <th>enveloping</th>\n",
       "      <th>ambiguous</th>\n",
       "      <th>span count</th>\n",
       "    </tr>\n",
       "  </thead>\n",
       "  <tbody>\n",
       "    <tr>\n",
       "      <td>paragraphs</td>\n",
       "      <td></td>\n",
       "      <td>None</td>\n",
       "      <td>sentences</td>\n",
       "      <td>False</td>\n",
       "      <td>1</td>\n",
       "    </tr>\n",
       "    <tr>\n",
       "      <td>sentences</td>\n",
       "      <td></td>\n",
       "      <td>None</td>\n",
       "      <td>words</td>\n",
       "      <td>False</td>\n",
       "      <td>2</td>\n",
       "    </tr>\n",
       "    <tr>\n",
       "      <td>tokens</td>\n",
       "      <td></td>\n",
       "      <td>None</td>\n",
       "      <td>None</td>\n",
       "      <td>False</td>\n",
       "      <td>6</td>\n",
       "    </tr>\n",
       "    <tr>\n",
       "      <td>compound_tokens</td>\n",
       "      <td>type, normalized</td>\n",
       "      <td>None</td>\n",
       "      <td>tokens</td>\n",
       "      <td>False</td>\n",
       "      <td>0</td>\n",
       "    </tr>\n",
       "    <tr>\n",
       "      <td>words</td>\n",
       "      <td>normalized_form</td>\n",
       "      <td>None</td>\n",
       "      <td>None</td>\n",
       "      <td>True</td>\n",
       "      <td>6</td>\n",
       "    </tr>\n",
       "    <tr>\n",
       "      <td>morph_extended</td>\n",
       "      <td>normalized_text, lemma, root, root_tokens, ending, clitic, form, partofspeech, punctuation_type, pronoun_type, letter_case, fin, verb_extension_suffix, subcat</td>\n",
       "      <td>words</td>\n",
       "      <td>None</td>\n",
       "      <td>True</td>\n",
       "      <td>6</td>\n",
       "    </tr>\n",
       "  </tbody>\n",
       "</table>"
      ],
      "text/plain": [
       "Text(text='Päike paistab. Lõokene lõõritab.')"
      ]
     },
     "execution_count": 17,
     "metadata": {},
     "output_type": "execute_result"
    }
   ],
   "source": [
    "text.pop_layer('morph_analysis') # remove morph_analysis from text\n",
    "text"
   ]
  },
  {
   "cell_type": "markdown",
   "metadata": {},
   "source": [
    "## Flatten"
   ]
  },
  {
   "cell_type": "markdown",
   "metadata": {},
   "source": [
    "Flatten operation turns any layer to a simple layer (parent==None, enveloping==None, ambiguous==False). In the following we flatten the sentences layer."
   ]
  },
  {
   "cell_type": "code",
   "execution_count": 18,
   "metadata": {},
   "outputs": [
    {
     "data": {
      "text/html": [
       "<table border=\"1\" class=\"dataframe\">\n",
       "  <thead>\n",
       "    <tr style=\"text-align: right;\">\n",
       "      <th>text</th>\n",
       "    </tr>\n",
       "  </thead>\n",
       "  <tbody>\n",
       "    <tr>\n",
       "      <td><div align = \"left\">Päike paistab. Lõokene lõõritab. Vana karu lööb trummi.</div></td>\n",
       "    </tr>\n",
       "  </tbody>\n",
       "</table>\n",
       "<table border=\"1\" class=\"dataframe\">\n",
       "  <thead>\n",
       "    <tr style=\"text-align: right;\">\n",
       "      <th>layer name</th>\n",
       "      <th>attributes</th>\n",
       "      <th>parent</th>\n",
       "      <th>enveloping</th>\n",
       "      <th>ambiguous</th>\n",
       "      <th>span count</th>\n",
       "    </tr>\n",
       "  </thead>\n",
       "  <tbody>\n",
       "    <tr>\n",
       "      <td>sentences</td>\n",
       "      <td></td>\n",
       "      <td>None</td>\n",
       "      <td>words</td>\n",
       "      <td>False</td>\n",
       "      <td>3</td>\n",
       "    </tr>\n",
       "    <tr>\n",
       "      <td>words</td>\n",
       "      <td>normalized_form</td>\n",
       "      <td>None</td>\n",
       "      <td>None</td>\n",
       "      <td>True</td>\n",
       "      <td>11</td>\n",
       "    </tr>\n",
       "    <tr>\n",
       "      <td>flat_sentences</td>\n",
       "      <td></td>\n",
       "      <td>None</td>\n",
       "      <td>None</td>\n",
       "      <td>True</td>\n",
       "      <td>3</td>\n",
       "    </tr>\n",
       "  </tbody>\n",
       "</table>"
      ],
      "text/plain": [
       "Text(text='Päike paistab. Lõokene lõõritab. Vana karu lööb trummi.')"
      ]
     },
     "execution_count": 18,
     "metadata": {},
     "output_type": "execute_result"
    }
   ],
   "source": [
    "from estnltk.layer_operations import flatten\n",
    "\n",
    "text = Text('Päike paistab. Lõokene lõõritab. Vana karu lööb trummi.').tag_layer(['sentences'])\n",
    "text.pop_layer('tokens')  # remove tokens from text\n",
    "text.add_layer(flatten(text['sentences'], 'flat_sentences'))\n",
    "text"
   ]
  },
  {
   "cell_type": "code",
   "execution_count": 19,
   "metadata": {},
   "outputs": [
    {
     "data": {
      "text/html": [
       "<h4>Layer</h4>\n",
       "\n",
       "\n",
       "<table border=\"1\" class=\"dataframe\">\n",
       "  <thead>\n",
       "    <tr style=\"text-align: right;\">\n",
       "      <th>layer name</th>\n",
       "      <th>attributes</th>\n",
       "      <th>parent</th>\n",
       "      <th>enveloping</th>\n",
       "      <th>ambiguous</th>\n",
       "      <th>span count</th>\n",
       "    </tr>\n",
       "  </thead>\n",
       "  <tbody>\n",
       "    <tr>\n",
       "      <td>flat_sentences</td>\n",
       "      <td></td>\n",
       "      <td>None</td>\n",
       "      <td>None</td>\n",
       "      <td>True</td>\n",
       "      <td>3</td>\n",
       "    </tr>\n",
       "  </tbody>\n",
       "</table>\n",
       "<table border=\"1\" class=\"dataframe\">\n",
       "  <thead>\n",
       "    <tr style=\"text-align: right;\">\n",
       "      <th>text</th>\n",
       "    </tr>\n",
       "  </thead>\n",
       "  <tbody>\n",
       "    <tr>\n",
       "      <td>Päike paistab.</td>\n",
       "    </tr>\n",
       "    <tr>\n",
       "      <td>Lõokene lõõritab.</td>\n",
       "    </tr>\n",
       "    <tr>\n",
       "      <td>Vana karu lööb trummi.</td>\n",
       "    </tr>\n",
       "  </tbody>\n",
       "</table>"
      ],
      "text/plain": [
       "Layer(name='flat_sentences', attributes=(), spans=SL[Span('Päike paistab.', [{}]),\n",
       "Span('Lõokene lõõritab.', [{}]),\n",
       "Span('Vana karu lööb trummi.', [{}])])"
      ]
     },
     "execution_count": 19,
     "metadata": {},
     "output_type": "execute_result"
    }
   ],
   "source": [
    "text.flat_sentences"
   ]
  },
  {
   "cell_type": "markdown",
   "metadata": {},
   "source": [
    "## Filter annotations\n",
    "Example layer"
   ]
  },
  {
   "cell_type": "code",
   "execution_count": 20,
   "metadata": {
    "scrolled": true
   },
   "outputs": [
    {
     "name": "stdout",
     "output_type": "stream",
     "text": [
      "{}\n"
     ]
    },
    {
     "data": {
      "text/html": [
       "<h4>Layer</h4>\n",
       "\n",
       "\n",
       "<table border=\"1\" class=\"dataframe\">\n",
       "  <thead>\n",
       "    <tr style=\"text-align: right;\">\n",
       "      <th>layer name</th>\n",
       "      <th>attributes</th>\n",
       "      <th>parent</th>\n",
       "      <th>enveloping</th>\n",
       "      <th>ambiguous</th>\n",
       "      <th>span count</th>\n",
       "    </tr>\n",
       "  </thead>\n",
       "  <tbody>\n",
       "    <tr>\n",
       "      <td>layer_1</td>\n",
       "      <td>attr, attr_1</td>\n",
       "      <td>None</td>\n",
       "      <td>None</td>\n",
       "      <td>True</td>\n",
       "      <td>4</td>\n",
       "    </tr>\n",
       "  </tbody>\n",
       "</table>\n",
       "<table border=\"1\" class=\"dataframe\">\n",
       "  <thead>\n",
       "    <tr style=\"text-align: right;\">\n",
       "      <th>text</th>\n",
       "      <th>attr</th>\n",
       "      <th>attr_1</th>\n",
       "    </tr>\n",
       "  </thead>\n",
       "  <tbody>\n",
       "    <tr>\n",
       "      <td>Tere</td>\n",
       "      <td>L1-0</td>\n",
       "      <td>A</td>\n",
       "    </tr>\n",
       "    <tr>\n",
       "      <td></td>\n",
       "      <td>L1-0</td>\n",
       "      <td>B</td>\n",
       "    </tr>\n",
       "    <tr>\n",
       "      <td>,</td>\n",
       "      <td>L1-1</td>\n",
       "      <td>C</td>\n",
       "    </tr>\n",
       "    <tr>\n",
       "      <td>maailm</td>\n",
       "      <td>L1-2</td>\n",
       "      <td>D</td>\n",
       "    </tr>\n",
       "    <tr>\n",
       "      <td></td>\n",
       "      <td>L1-2</td>\n",
       "      <td>E</td>\n",
       "    </tr>\n",
       "    <tr>\n",
       "      <td>!</td>\n",
       "      <td>L1-3</td>\n",
       "      <td>F</td>\n",
       "    </tr>\n",
       "  </tbody>\n",
       "</table>"
      ],
      "text/plain": [
       "Layer(name='layer_1', attributes=('attr', 'attr_1'), spans=SL[Span('Tere', [{'attr': 'L1-0', 'attr_1': 'A'}, {'attr': 'L1-0', 'attr_1': 'B'}]),\n",
       "Span(',', [{'attr': 'L1-1', 'attr_1': 'C'}]),\n",
       "Span('maailm', [{'attr': 'L1-2', 'attr_1': 'D'}, {'attr': 'L1-2', 'attr_1': 'E'}]),\n",
       "Span('!', [{'attr': 'L1-3', 'attr_1': 'F'}])])"
      ]
     },
     "execution_count": 20,
     "metadata": {},
     "output_type": "execute_result"
    }
   ],
   "source": [
    "from estnltk.tests import new_text\n",
    "\n",
    "new_text(3).layer_1"
   ]
  },
  {
   "cell_type": "markdown",
   "metadata": {},
   "source": [
    "### `apply_filter`\n",
    "\n",
    "The `function` parameter is a callable that takes three parameters: Layer, span index and annotation index.\n",
    "`preserve_spans=True` forces to keep at least one annotation for every span."
   ]
  },
  {
   "cell_type": "code",
   "execution_count": 21,
   "metadata": {},
   "outputs": [
    {
     "name": "stdout",
     "output_type": "stream",
     "text": [
      "{}\n"
     ]
    },
    {
     "data": {
      "text/html": [
       "<h4>Layer</h4>\n",
       "\n",
       "\n",
       "<table border=\"1\" class=\"dataframe\">\n",
       "  <thead>\n",
       "    <tr style=\"text-align: right;\">\n",
       "      <th>layer name</th>\n",
       "      <th>attributes</th>\n",
       "      <th>parent</th>\n",
       "      <th>enveloping</th>\n",
       "      <th>ambiguous</th>\n",
       "      <th>span count</th>\n",
       "    </tr>\n",
       "  </thead>\n",
       "  <tbody>\n",
       "    <tr>\n",
       "      <td>layer_1</td>\n",
       "      <td>attr, attr_1</td>\n",
       "      <td>None</td>\n",
       "      <td>None</td>\n",
       "      <td>True</td>\n",
       "      <td>4</td>\n",
       "    </tr>\n",
       "  </tbody>\n",
       "</table>\n",
       "<table border=\"1\" class=\"dataframe\">\n",
       "  <thead>\n",
       "    <tr style=\"text-align: right;\">\n",
       "      <th>text</th>\n",
       "      <th>attr</th>\n",
       "      <th>attr_1</th>\n",
       "    </tr>\n",
       "  </thead>\n",
       "  <tbody>\n",
       "    <tr>\n",
       "      <td>Tere</td>\n",
       "      <td>L1-0</td>\n",
       "      <td>B</td>\n",
       "    </tr>\n",
       "    <tr>\n",
       "      <td>,</td>\n",
       "      <td>L1-1</td>\n",
       "      <td>C</td>\n",
       "    </tr>\n",
       "    <tr>\n",
       "      <td>maailm</td>\n",
       "      <td>L1-2</td>\n",
       "      <td>E</td>\n",
       "    </tr>\n",
       "    <tr>\n",
       "      <td>!</td>\n",
       "      <td>L1-3</td>\n",
       "      <td>F</td>\n",
       "    </tr>\n",
       "  </tbody>\n",
       "</table>"
      ],
      "text/plain": [
       "Layer(name='layer_1', attributes=('attr', 'attr_1'), spans=SL[Span('Tere', [{'attr': 'L1-0', 'attr_1': 'B'}]),\n",
       "Span(',', [{'attr': 'L1-1', 'attr_1': 'C'}]),\n",
       "Span('maailm', [{'attr': 'L1-2', 'attr_1': 'E'}]),\n",
       "Span('!', [{'attr': 'L1-3', 'attr_1': 'F'}])])"
      ]
     },
     "execution_count": 21,
     "metadata": {},
     "output_type": "execute_result"
    }
   ],
   "source": [
    "from estnltk.layer_operations import apply_filter\n",
    "\n",
    "def filter_function(layer, i, j):\n",
    "    return layer[i].annotations[j].attr_1 in {'B', 'C', 'E', 'F'} \n",
    "    \n",
    "text = new_text(3)\n",
    "\n",
    "apply_filter(layer=text.layer_1,\n",
    "             function=filter_function,\n",
    "             preserve_spans=False,  # default: False\n",
    "             drop_immediately=False  # default: False\n",
    "            )\n",
    "\n",
    "text.layer_1"
   ]
  },
  {
   "cell_type": "markdown",
   "metadata": {},
   "source": [
    "### `keep_annotations`\n",
    "\n",
    "Use `keep_annotations` function to keep only those annotations in the layer that have certain attribute values. Here the annotations with `attr_1` value equal to `B`, `C`, `E` or `F` are kept. All other annotations are dropped."
   ]
  },
  {
   "cell_type": "code",
   "execution_count": 22,
   "metadata": {},
   "outputs": [
    {
     "name": "stdout",
     "output_type": "stream",
     "text": [
      "{}\n"
     ]
    },
    {
     "data": {
      "text/html": [
       "<h4>Layer</h4>\n",
       "\n",
       "\n",
       "<table border=\"1\" class=\"dataframe\">\n",
       "  <thead>\n",
       "    <tr style=\"text-align: right;\">\n",
       "      <th>layer name</th>\n",
       "      <th>attributes</th>\n",
       "      <th>parent</th>\n",
       "      <th>enveloping</th>\n",
       "      <th>ambiguous</th>\n",
       "      <th>span count</th>\n",
       "    </tr>\n",
       "  </thead>\n",
       "  <tbody>\n",
       "    <tr>\n",
       "      <td>layer_1</td>\n",
       "      <td>attr, attr_1</td>\n",
       "      <td>None</td>\n",
       "      <td>None</td>\n",
       "      <td>True</td>\n",
       "      <td>4</td>\n",
       "    </tr>\n",
       "  </tbody>\n",
       "</table>\n",
       "<table border=\"1\" class=\"dataframe\">\n",
       "  <thead>\n",
       "    <tr style=\"text-align: right;\">\n",
       "      <th>text</th>\n",
       "      <th>attr</th>\n",
       "      <th>attr_1</th>\n",
       "    </tr>\n",
       "  </thead>\n",
       "  <tbody>\n",
       "    <tr>\n",
       "      <td>Tere</td>\n",
       "      <td>L1-0</td>\n",
       "      <td>B</td>\n",
       "    </tr>\n",
       "    <tr>\n",
       "      <td>,</td>\n",
       "      <td>L1-1</td>\n",
       "      <td>C</td>\n",
       "    </tr>\n",
       "    <tr>\n",
       "      <td>maailm</td>\n",
       "      <td>L1-2</td>\n",
       "      <td>E</td>\n",
       "    </tr>\n",
       "    <tr>\n",
       "      <td>!</td>\n",
       "      <td>L1-3</td>\n",
       "      <td>F</td>\n",
       "    </tr>\n",
       "  </tbody>\n",
       "</table>"
      ],
      "text/plain": [
       "Layer(name='layer_1', attributes=('attr', 'attr_1'), spans=SL[Span('Tere', [{'attr': 'L1-0', 'attr_1': 'B'}]),\n",
       "Span(',', [{'attr': 'L1-1', 'attr_1': 'C'}]),\n",
       "Span('maailm', [{'attr': 'L1-2', 'attr_1': 'E'}]),\n",
       "Span('!', [{'attr': 'L1-3', 'attr_1': 'F'}])])"
      ]
     },
     "execution_count": 22,
     "metadata": {},
     "output_type": "execute_result"
    }
   ],
   "source": [
    "from estnltk.layer_operations import keep_annotations\n",
    "\n",
    "text = new_text(3)\n",
    "\n",
    "keep_annotations(layer=text.layer_1,\n",
    "                 attribute='attr_1',\n",
    "                 values={'B', 'C', 'E', 'F'},\n",
    "                 preserve_spans=False  # default: False\n",
    "                 )\n",
    "text.layer_1"
   ]
  },
  {
   "cell_type": "markdown",
   "metadata": {},
   "source": [
    "In the next example `preserve_spans=True` forces to keep one annotation for every span despite the fact that the set of values is empty."
   ]
  },
  {
   "cell_type": "code",
   "execution_count": 23,
   "metadata": {},
   "outputs": [
    {
     "name": "stdout",
     "output_type": "stream",
     "text": [
      "{}\n"
     ]
    },
    {
     "data": {
      "text/html": [
       "<h4>Layer</h4>\n",
       "\n",
       "\n",
       "<table border=\"1\" class=\"dataframe\">\n",
       "  <thead>\n",
       "    <tr style=\"text-align: right;\">\n",
       "      <th>layer name</th>\n",
       "      <th>attributes</th>\n",
       "      <th>parent</th>\n",
       "      <th>enveloping</th>\n",
       "      <th>ambiguous</th>\n",
       "      <th>span count</th>\n",
       "    </tr>\n",
       "  </thead>\n",
       "  <tbody>\n",
       "    <tr>\n",
       "      <td>layer_1</td>\n",
       "      <td>attr, attr_1</td>\n",
       "      <td>None</td>\n",
       "      <td>None</td>\n",
       "      <td>True</td>\n",
       "      <td>4</td>\n",
       "    </tr>\n",
       "  </tbody>\n",
       "</table>\n",
       "<table border=\"1\" class=\"dataframe\">\n",
       "  <thead>\n",
       "    <tr style=\"text-align: right;\">\n",
       "      <th>text</th>\n",
       "      <th>attr</th>\n",
       "      <th>attr_1</th>\n",
       "    </tr>\n",
       "  </thead>\n",
       "  <tbody>\n",
       "    <tr>\n",
       "      <td>Tere</td>\n",
       "      <td>L1-0</td>\n",
       "      <td>A</td>\n",
       "    </tr>\n",
       "    <tr>\n",
       "      <td>,</td>\n",
       "      <td>L1-1</td>\n",
       "      <td>C</td>\n",
       "    </tr>\n",
       "    <tr>\n",
       "      <td>maailm</td>\n",
       "      <td>L1-2</td>\n",
       "      <td>D</td>\n",
       "    </tr>\n",
       "    <tr>\n",
       "      <td>!</td>\n",
       "      <td>L1-3</td>\n",
       "      <td>F</td>\n",
       "    </tr>\n",
       "  </tbody>\n",
       "</table>"
      ],
      "text/plain": [
       "Layer(name='layer_1', attributes=('attr', 'attr_1'), spans=SL[Span('Tere', [{'attr': 'L1-0', 'attr_1': 'A'}]),\n",
       "Span(',', [{'attr': 'L1-1', 'attr_1': 'C'}]),\n",
       "Span('maailm', [{'attr': 'L1-2', 'attr_1': 'D'}]),\n",
       "Span('!', [{'attr': 'L1-3', 'attr_1': 'F'}])])"
      ]
     },
     "execution_count": 23,
     "metadata": {},
     "output_type": "execute_result"
    }
   ],
   "source": [
    "def function(annotation):\n",
    "    return len(annotation.span) == 1\n",
    "\n",
    "text = new_text(3)\n",
    "\n",
    "keep_annotations(layer=text.layer_1,\n",
    "                 attribute='attr_1',\n",
    "                 values={},\n",
    "                 preserve_spans=True\n",
    "                 )\n",
    "text.layer_1"
   ]
  },
  {
   "cell_type": "markdown",
   "metadata": {},
   "source": [
    "### `drop_annotations`\n",
    "\n",
    "Use `drop_annotations` function to drop only those annotations from the layer that have certain attribute values. The function parameters are similar to the parameters of the `keep_annotations` function.\n",
    "\n",
    "Here the annotations whith `attr_1` value equal to `A` or `D` are dropped. All other annotations are kept."
   ]
  },
  {
   "cell_type": "code",
   "execution_count": 24,
   "metadata": {
    "scrolled": false
   },
   "outputs": [
    {
     "name": "stdout",
     "output_type": "stream",
     "text": [
      "{}\n"
     ]
    },
    {
     "data": {
      "text/html": [
       "<h4>Layer</h4>\n",
       "\n",
       "\n",
       "<table border=\"1\" class=\"dataframe\">\n",
       "  <thead>\n",
       "    <tr style=\"text-align: right;\">\n",
       "      <th>layer name</th>\n",
       "      <th>attributes</th>\n",
       "      <th>parent</th>\n",
       "      <th>enveloping</th>\n",
       "      <th>ambiguous</th>\n",
       "      <th>span count</th>\n",
       "    </tr>\n",
       "  </thead>\n",
       "  <tbody>\n",
       "    <tr>\n",
       "      <td>layer_1</td>\n",
       "      <td>attr, attr_1</td>\n",
       "      <td>None</td>\n",
       "      <td>None</td>\n",
       "      <td>True</td>\n",
       "      <td>4</td>\n",
       "    </tr>\n",
       "  </tbody>\n",
       "</table>\n",
       "<table border=\"1\" class=\"dataframe\">\n",
       "  <thead>\n",
       "    <tr style=\"text-align: right;\">\n",
       "      <th>text</th>\n",
       "      <th>attr</th>\n",
       "      <th>attr_1</th>\n",
       "    </tr>\n",
       "  </thead>\n",
       "  <tbody>\n",
       "    <tr>\n",
       "      <td>Tere</td>\n",
       "      <td>L1-0</td>\n",
       "      <td>B</td>\n",
       "    </tr>\n",
       "    <tr>\n",
       "      <td>,</td>\n",
       "      <td>L1-1</td>\n",
       "      <td>C</td>\n",
       "    </tr>\n",
       "    <tr>\n",
       "      <td>maailm</td>\n",
       "      <td>L1-2</td>\n",
       "      <td>E</td>\n",
       "    </tr>\n",
       "    <tr>\n",
       "      <td>!</td>\n",
       "      <td>L1-3</td>\n",
       "      <td>F</td>\n",
       "    </tr>\n",
       "  </tbody>\n",
       "</table>"
      ],
      "text/plain": [
       "Layer(name='layer_1', attributes=('attr', 'attr_1'), spans=SL[Span('Tere', [{'attr': 'L1-0', 'attr_1': 'B'}]),\n",
       "Span(',', [{'attr': 'L1-1', 'attr_1': 'C'}]),\n",
       "Span('maailm', [{'attr': 'L1-2', 'attr_1': 'E'}]),\n",
       "Span('!', [{'attr': 'L1-3', 'attr_1': 'F'}])])"
      ]
     },
     "execution_count": 24,
     "metadata": {},
     "output_type": "execute_result"
    }
   ],
   "source": [
    "from estnltk.layer_operations import drop_annotations\n",
    "\n",
    "text = new_text(3)\n",
    "\n",
    "drop_annotations(layer=text.layer_1,\n",
    "                 attribute='attr_1',\n",
    "                 values={'A', 'D'},\n",
    "                 preserve_spans=False  # default: False\n",
    "                 )\n",
    "text.layer_1"
   ]
  },
  {
   "cell_type": "markdown",
   "metadata": {},
   "source": [
    "## `Layer.groupby`\n",
    "Creates a generator object that groups spans or annotations by the attribute values. The attribute values must be hashable.\n",
    "\n",
    "Spans can also be groubed by an enveloping layer."
   ]
  },
  {
   "cell_type": "code",
   "execution_count": 25,
   "metadata": {},
   "outputs": [
    {
     "name": "stdout",
     "output_type": "stream",
     "text": [
      "{}\n"
     ]
    },
    {
     "data": {
      "text/html": [
       "<h4>Layer</h4>\n",
       "\n",
       "\n",
       "<table border=\"1\" class=\"dataframe\">\n",
       "  <thead>\n",
       "    <tr style=\"text-align: right;\">\n",
       "      <th>layer name</th>\n",
       "      <th>attributes</th>\n",
       "      <th>parent</th>\n",
       "      <th>enveloping</th>\n",
       "      <th>ambiguous</th>\n",
       "      <th>span count</th>\n",
       "    </tr>\n",
       "  </thead>\n",
       "  <tbody>\n",
       "    <tr>\n",
       "      <td>layer_1</td>\n",
       "      <td>attr, attr_1</td>\n",
       "      <td>None</td>\n",
       "      <td>None</td>\n",
       "      <td>True</td>\n",
       "      <td>19</td>\n",
       "    </tr>\n",
       "  </tbody>\n",
       "</table>\n",
       "<table border=\"1\" class=\"dataframe\">\n",
       "  <thead>\n",
       "    <tr style=\"text-align: right;\">\n",
       "      <th>text</th>\n",
       "      <th>attr</th>\n",
       "      <th>attr_1</th>\n",
       "    </tr>\n",
       "  </thead>\n",
       "  <tbody>\n",
       "    <tr>\n",
       "      <td>Sada</td>\n",
       "      <td>L1-0</td>\n",
       "      <td>SADA</td>\n",
       "    </tr>\n",
       "    <tr>\n",
       "      <td>kaks</td>\n",
       "      <td>L1-1</td>\n",
       "      <td>KAKS</td>\n",
       "    </tr>\n",
       "    <tr>\n",
       "      <td>kakskümmend</td>\n",
       "      <td>L1-2</td>\n",
       "      <td>KAKS</td>\n",
       "    </tr>\n",
       "    <tr>\n",
       "      <td></td>\n",
       "      <td>L1-2</td>\n",
       "      <td>KÜMME</td>\n",
       "    </tr>\n",
       "    <tr>\n",
       "      <td></td>\n",
       "      <td>L1-2</td>\n",
       "      <td>KAKSKÜMMEND</td>\n",
       "    </tr>\n",
       "    <tr>\n",
       "      <td>kümme</td>\n",
       "      <td>L1-3</td>\n",
       "      <td>KÜMME</td>\n",
       "    </tr>\n",
       "    <tr>\n",
       "      <td>kolm</td>\n",
       "      <td>L1-4</td>\n",
       "      <td>KOLM</td>\n",
       "    </tr>\n",
       "    <tr>\n",
       "      <td>Neli</td>\n",
       "      <td>L1-5</td>\n",
       "      <td>NELI</td>\n",
       "    </tr>\n",
       "    <tr>\n",
       "      <td>tuhat</td>\n",
       "      <td>L1-6</td>\n",
       "      <td>TUHAT</td>\n",
       "    </tr>\n",
       "    <tr>\n",
       "      <td>viis</td>\n",
       "      <td>L1-7</td>\n",
       "      <td>VIIS</td>\n",
       "    </tr>\n",
       "    <tr>\n",
       "      <td>viissada</td>\n",
       "      <td>L1-8</td>\n",
       "      <td>SADA</td>\n",
       "    </tr>\n",
       "    <tr>\n",
       "      <td></td>\n",
       "      <td>L1-8</td>\n",
       "      <td>VIIS</td>\n",
       "    </tr>\n",
       "    <tr>\n",
       "      <td></td>\n",
       "      <td>L1-8</td>\n",
       "      <td>VIISSADA</td>\n",
       "    </tr>\n",
       "    <tr>\n",
       "      <td>sada</td>\n",
       "      <td>L1-9</td>\n",
       "      <td>SADA</td>\n",
       "    </tr>\n",
       "    <tr>\n",
       "      <td>kuus</td>\n",
       "      <td>L1-10</td>\n",
       "      <td>KUUS</td>\n",
       "    </tr>\n",
       "    <tr>\n",
       "      <td>kuuskümmend</td>\n",
       "      <td>L1-11</td>\n",
       "      <td>KUUS</td>\n",
       "    </tr>\n",
       "    <tr>\n",
       "      <td></td>\n",
       "      <td>L1-11</td>\n",
       "      <td>KÜMME</td>\n",
       "    </tr>\n",
       "    <tr>\n",
       "      <td></td>\n",
       "      <td>L1-11</td>\n",
       "      <td>KUUSKÜMMEND</td>\n",
       "    </tr>\n",
       "    <tr>\n",
       "      <td>kümme</td>\n",
       "      <td>L1-12</td>\n",
       "      <td>KÜMME</td>\n",
       "    </tr>\n",
       "    <tr>\n",
       "      <td>seitse</td>\n",
       "      <td>L1-13</td>\n",
       "      <td>SEITSE</td>\n",
       "    </tr>\n",
       "    <tr>\n",
       "      <td>koma</td>\n",
       "      <td>L1-14</td>\n",
       "      <td>KOMA</td>\n",
       "    </tr>\n",
       "    <tr>\n",
       "      <td>kaheksa</td>\n",
       "      <td>L1-15</td>\n",
       "      <td>KAHEKSA</td>\n",
       "    </tr>\n",
       "    <tr>\n",
       "      <td>Üheksa</td>\n",
       "      <td>L1-16</td>\n",
       "      <td>ÜHEKSA</td>\n",
       "    </tr>\n",
       "    <tr>\n",
       "      <td>Üheksakümmend</td>\n",
       "      <td>L1-17</td>\n",
       "      <td>ÜHEKSA</td>\n",
       "    </tr>\n",
       "    <tr>\n",
       "      <td></td>\n",
       "      <td>L1-17</td>\n",
       "      <td>KÜMME</td>\n",
       "    </tr>\n",
       "    <tr>\n",
       "      <td></td>\n",
       "      <td>L1-17</td>\n",
       "      <td>ÜHEKSAKÜMMEND</td>\n",
       "    </tr>\n",
       "    <tr>\n",
       "      <td>kümme</td>\n",
       "      <td>L1-18</td>\n",
       "      <td>KÜMME</td>\n",
       "    </tr>\n",
       "  </tbody>\n",
       "</table>"
      ],
      "text/plain": [
       "Layer(name='layer_1', attributes=('attr', 'attr_1'), spans=SL[Span('Sada', [{'attr': 'L1-0', 'attr_1': 'SADA'}]),\n",
       "Span('kaks', [{'attr': 'L1-1', 'attr_1': 'KAKS'}]),\n",
       "Span('kakskümmend', [{'attr': 'L1-2', 'attr_1': 'KAKS'}, {'attr': 'L1-2', 'attr_1': 'KÜMME'}, {'attr': 'L1-2', 'attr_1': 'KAKSKÜMMEND'}]),\n",
       "Span('kümme', [{'attr': 'L1-3', 'attr_1': 'KÜMME'}]),\n",
       "Span('kolm', [{'attr': 'L1-4', 'attr_1': 'KOLM'}]),\n",
       "Span('Neli', [{'attr': 'L1-5', 'attr_1': 'NELI'}]),\n",
       "Span('tuhat', [{'attr': 'L1-6', 'attr_1': 'TUHAT'}]),\n",
       "Span('viis', [{'attr': 'L1-7', 'attr_1': 'VIIS'}]),\n",
       "Span('viissada', [{'attr': 'L1-8', 'attr_1': 'SADA'}, {'attr': 'L1-8', 'attr_1': 'VIIS'}, {'attr': 'L1-8', 'attr_1': 'VIISSADA'}]),\n",
       "Span('sada', [{'attr': 'L1-9', 'attr_1': 'SADA'}]),\n",
       "Span('kuus', [{'attr': 'L1-10', 'attr_1': 'KUUS'}]),\n",
       "Span('kuuskümmend', [{'attr': 'L1-11', 'attr_1': 'KUUS'}, {'attr': 'L1-11', 'attr_1': 'KÜMME'}, {'attr': 'L1-11', 'attr_1': 'KUUSKÜMMEND'}]),\n",
       "Span('kümme', [{'attr': 'L1-12', 'attr_1': 'KÜMME'}]),\n",
       "Span('seitse', [{'attr': 'L1-13', 'attr_1': 'SEITSE'}]),\n",
       "Span('koma', [{'attr': 'L1-14', 'attr_1': 'KOMA'}]),\n",
       "Span('kaheksa', [{'attr': 'L1-15', 'attr_1': 'KAHEKSA'}]),\n",
       "Span('Üheksa', [{'attr': 'L1-16', 'attr_1': 'ÜHEKSA'}]),\n",
       "Span('Üheksakümmend', [{'attr': 'L1-17', 'attr_1': 'ÜHEKSA'}, {'attr': 'L1-17', 'attr_1': 'KÜMME'}, {'attr': 'L1-17', 'attr_1': 'ÜHEKSAKÜMMEND'}]),\n",
       "Span('kümme', [{'attr': 'L1-18', 'attr_1': 'KÜMME'}])])"
      ]
     },
     "execution_count": 25,
     "metadata": {},
     "output_type": "execute_result"
    }
   ],
   "source": [
    "text = new_text(5)\n",
    "text.layer_1"
   ]
  },
  {
   "cell_type": "markdown",
   "metadata": {},
   "source": [
    "### Group spans by attribute value"
   ]
  },
  {
   "cell_type": "code",
   "execution_count": 26,
   "metadata": {},
   "outputs": [
    {
     "data": {
      "text/plain": [
       "GroupBy(layer:'layer_1', by=['attr_1'], return_type='spans')"
      ]
     },
     "execution_count": 26,
     "metadata": {},
     "output_type": "execute_result"
    }
   ],
   "source": [
    "groups = text.layer_1.groupby(['attr_1'], return_type='spans')\n",
    "groups"
   ]
  },
  {
   "cell_type": "markdown",
   "metadata": {},
   "source": [
    "Here<br/>\n",
    "**layer** is a `Layer` object<br/>\n",
    "**by** is a sequence of attribute names<br/>\n",
    "**return_type** is either `'spans'` or `'annotations'`\n",
    "\n",
    "The `Layer.groupby` method provides a shortcut for this:"
   ]
  },
  {
   "cell_type": "code",
   "execution_count": 27,
   "metadata": {},
   "outputs": [
    {
     "name": "stdout",
     "output_type": "stream",
     "text": [
      "('KAHEKSA',)\n"
     ]
    },
    {
     "data": {
      "text/html": [
       "<b>Span</b>\n",
       "<table border=\"1\" class=\"dataframe\">\n",
       "  <thead>\n",
       "    <tr style=\"text-align: right;\">\n",
       "      <th>text</th>\n",
       "      <th>attr</th>\n",
       "      <th>attr_1</th>\n",
       "    </tr>\n",
       "  </thead>\n",
       "  <tbody>\n",
       "    <tr>\n",
       "      <td><span style=\"font-family: monospace; white-space: pre-wrap;\"><span style=\"text-decoration: underline;\">kaheksa</span></span></td>\n",
       "      <td>L1-15</td>\n",
       "      <td>KAHEKSA</td>\n",
       "    </tr>\n",
       "  </tbody>\n",
       "</table>"
      ],
      "text/plain": [
       "Span('kaheksa', [{'attr': 'L1-15', 'attr_1': 'KAHEKSA'}])"
      ]
     },
     "metadata": {},
     "output_type": "display_data"
    }
   ],
   "source": [
    "for key, spans in groups:\n",
    "    print(key)\n",
    "    for span in spans:\n",
    "        display(span)\n",
    "    break"
   ]
  },
  {
   "cell_type": "markdown",
   "metadata": {},
   "source": [
    "`GroupBy.count` returns number of spans/annotations in every group as a `dict`."
   ]
  },
  {
   "cell_type": "code",
   "execution_count": 28,
   "metadata": {},
   "outputs": [
    {
     "data": {
      "text/plain": [
       "{('SADA',): 3,\n",
       " ('KAKS',): 2,\n",
       " ('KAKSKÜMMEND',): 1,\n",
       " ('KÜMME',): 6,\n",
       " ('KOLM',): 1,\n",
       " ('NELI',): 1,\n",
       " ('TUHAT',): 1,\n",
       " ('VIIS',): 2,\n",
       " ('VIISSADA',): 1,\n",
       " ('KUUS',): 2,\n",
       " ('KUUSKÜMMEND',): 1,\n",
       " ('SEITSE',): 1,\n",
       " ('KOMA',): 1,\n",
       " ('KAHEKSA',): 1,\n",
       " ('ÜHEKSA',): 2,\n",
       " ('ÜHEKSAKÜMMEND',): 1}"
      ]
     },
     "execution_count": 28,
     "metadata": {},
     "output_type": "execute_result"
    }
   ],
   "source": [
    "groups.count"
   ]
  },
  {
   "cell_type": "markdown",
   "metadata": {},
   "source": [
    "`GroupBy.groups` returns `dict` of all groups."
   ]
  },
  {
   "cell_type": "code",
   "execution_count": 29,
   "metadata": {},
   "outputs": [
    {
     "data": {
      "text/plain": [
       "[Span('kaheksa', [{'attr': 'L1-15', 'attr_1': 'KAHEKSA'}])]"
      ]
     },
     "execution_count": 29,
     "metadata": {},
     "output_type": "execute_result"
    }
   ],
   "source": [
    "groups.groups[('KAHEKSA',)]"
   ]
  },
  {
   "cell_type": "code",
   "execution_count": 30,
   "metadata": {},
   "outputs": [
    {
     "data": {
      "text/html": [
       "<b>Span</b>\n",
       "<table border=\"1\" class=\"dataframe\">\n",
       "  <thead>\n",
       "    <tr style=\"text-align: right;\">\n",
       "      <th>text</th>\n",
       "      <th>attr</th>\n",
       "      <th>attr_1</th>\n",
       "    </tr>\n",
       "  </thead>\n",
       "  <tbody>\n",
       "    <tr>\n",
       "      <td><span style=\"font-family: monospace; white-space: pre-wrap;\"><span style=\"text-decoration: underline;\">kaheksa</span></span></td>\n",
       "      <td>L1-15</td>\n",
       "      <td>KAHEKSA</td>\n",
       "    </tr>\n",
       "  </tbody>\n",
       "</table>"
      ],
      "text/plain": [
       "Span('kaheksa', [{'attr': 'L1-15', 'attr_1': 'KAHEKSA'}])"
      ]
     },
     "execution_count": 30,
     "metadata": {},
     "output_type": "execute_result"
    }
   ],
   "source": [
    "groups.groups[('KAHEKSA',)][0]"
   ]
  },
  {
   "cell_type": "code",
   "execution_count": 31,
   "metadata": {},
   "outputs": [
    {
     "data": {
      "text/html": [
       "<div>\n",
       "<style scoped>\n",
       "    .dataframe tbody tr th:only-of-type {\n",
       "        vertical-align: middle;\n",
       "    }\n",
       "\n",
       "    .dataframe tbody tr th {\n",
       "        vertical-align: top;\n",
       "    }\n",
       "\n",
       "    .dataframe thead th {\n",
       "        text-align: right;\n",
       "    }\n",
       "</style>\n",
       "<table border=\"1\" class=\"dataframe\">\n",
       "  <thead>\n",
       "    <tr style=\"text-align: right;\">\n",
       "      <th></th>\n",
       "      <th>attr</th>\n",
       "    </tr>\n",
       "  </thead>\n",
       "  <tbody>\n",
       "    <tr>\n",
       "      <th>(KAHEKSA,)</th>\n",
       "      <td>[L1-15]</td>\n",
       "    </tr>\n",
       "    <tr>\n",
       "      <th>(KAKS,)</th>\n",
       "      <td>[L1-1, L1-2, L1-2, L1-2]</td>\n",
       "    </tr>\n",
       "    <tr>\n",
       "      <th>(KAKSKÜMMEND,)</th>\n",
       "      <td>[L1-2, L1-2, L1-2]</td>\n",
       "    </tr>\n",
       "    <tr>\n",
       "      <th>(KOLM,)</th>\n",
       "      <td>[L1-4]</td>\n",
       "    </tr>\n",
       "    <tr>\n",
       "      <th>(KOMA,)</th>\n",
       "      <td>[L1-14]</td>\n",
       "    </tr>\n",
       "    <tr>\n",
       "      <th>(KUUS,)</th>\n",
       "      <td>[L1-10, L1-11, L1-11, L1-11]</td>\n",
       "    </tr>\n",
       "    <tr>\n",
       "      <th>(KUUSKÜMMEND,)</th>\n",
       "      <td>[L1-11, L1-11, L1-11]</td>\n",
       "    </tr>\n",
       "    <tr>\n",
       "      <th>(KÜMME,)</th>\n",
       "      <td>[L1-2, L1-2, L1-2, L1-3, L1-11, L1-11, L1-11, L1-12, L1-17, L1-17, L1-17, L1-18]</td>\n",
       "    </tr>\n",
       "    <tr>\n",
       "      <th>(NELI,)</th>\n",
       "      <td>[L1-5]</td>\n",
       "    </tr>\n",
       "    <tr>\n",
       "      <th>(SADA,)</th>\n",
       "      <td>[L1-0, L1-8, L1-8, L1-8, L1-9]</td>\n",
       "    </tr>\n",
       "    <tr>\n",
       "      <th>(SEITSE,)</th>\n",
       "      <td>[L1-13]</td>\n",
       "    </tr>\n",
       "    <tr>\n",
       "      <th>(TUHAT,)</th>\n",
       "      <td>[L1-6]</td>\n",
       "    </tr>\n",
       "    <tr>\n",
       "      <th>(VIIS,)</th>\n",
       "      <td>[L1-7, L1-8, L1-8, L1-8]</td>\n",
       "    </tr>\n",
       "    <tr>\n",
       "      <th>(VIISSADA,)</th>\n",
       "      <td>[L1-8, L1-8, L1-8]</td>\n",
       "    </tr>\n",
       "    <tr>\n",
       "      <th>(ÜHEKSA,)</th>\n",
       "      <td>[L1-16, L1-17, L1-17, L1-17]</td>\n",
       "    </tr>\n",
       "    <tr>\n",
       "      <th>(ÜHEKSAKÜMMEND,)</th>\n",
       "      <td>[L1-17, L1-17, L1-17]</td>\n",
       "    </tr>\n",
       "  </tbody>\n",
       "</table>\n",
       "</div>"
      ],
      "text/plain": [
       "                                                                                              attr\n",
       "(KAHEKSA,)                                                                                 [L1-15]\n",
       "(KAKS,)                                                                   [L1-1, L1-2, L1-2, L1-2]\n",
       "(KAKSKÜMMEND,)                                                                  [L1-2, L1-2, L1-2]\n",
       "(KOLM,)                                                                                     [L1-4]\n",
       "(KOMA,)                                                                                    [L1-14]\n",
       "(KUUS,)                                                               [L1-10, L1-11, L1-11, L1-11]\n",
       "(KUUSKÜMMEND,)                                                               [L1-11, L1-11, L1-11]\n",
       "(KÜMME,)          [L1-2, L1-2, L1-2, L1-3, L1-11, L1-11, L1-11, L1-12, L1-17, L1-17, L1-17, L1-18]\n",
       "(NELI,)                                                                                     [L1-5]\n",
       "(SADA,)                                                             [L1-0, L1-8, L1-8, L1-8, L1-9]\n",
       "(SEITSE,)                                                                                  [L1-13]\n",
       "(TUHAT,)                                                                                    [L1-6]\n",
       "(VIIS,)                                                                   [L1-7, L1-8, L1-8, L1-8]\n",
       "(VIISSADA,)                                                                     [L1-8, L1-8, L1-8]\n",
       "(ÜHEKSA,)                                                             [L1-16, L1-17, L1-17, L1-17]\n",
       "(ÜHEKSAKÜMMEND,)                                                             [L1-17, L1-17, L1-17]"
      ]
     },
     "execution_count": 31,
     "metadata": {},
     "output_type": "execute_result"
    }
   ],
   "source": [
    "import pandas as pd\n",
    "\n",
    "def func(spans):\n",
    "    return [[a.attr for span in spans for a in span.annotations]]\n",
    "\n",
    "def combiner(d):\n",
    "    return pd.DataFrame.from_dict(d, orient='index', columns=['attr']).sort_index()\n",
    "\n",
    "groups.aggregate(func=func,\n",
    "                 combiner=combiner  # default: lambda d: d\n",
    "                 )"
   ]
  },
  {
   "cell_type": "markdown",
   "metadata": {},
   "source": [
    "### Group by an enveloping layer."
   ]
  },
  {
   "cell_type": "code",
   "execution_count": 32,
   "metadata": {},
   "outputs": [
    {
     "name": "stdout",
     "output_type": "stream",
     "text": [
      "{}\n",
      "['Sada', 'kakskümmend', 'kolm']\n",
      "L0-0 \t 100\n",
      "L0-2 \t 20\n",
      "L0-4 \t 3\n",
      "[' Neli', 'tuhat', 'viissada', 'kuuskümmend', 'seitse']\n",
      "L0-5 \t 4\n",
      "L0-6 \t 1000\n",
      "L0-8 \t 500\n",
      "L0-11 \t 60\n",
      "L0-13 \t 7\n",
      "['koma']\n",
      "L0-14 \t ,\n",
      "['kaheksa']\n",
      "L0-15 \t 8\n",
      "['Üheksakümmend', 'tuhat']\n",
      "L0-17 \t 90\n",
      "L0-19 \t 1000\n"
     ]
    }
   ],
   "source": [
    "text = new_text(5)\n",
    "for spanlist in text.layer_0.groupby(text.layer_4):\n",
    "    print(spanlist.text)\n",
    "    for span in spanlist:\n",
    "        print(span.attr, '\\t',span.attr_0)"
   ]
  },
  {
   "cell_type": "markdown",
   "metadata": {},
   "source": [
    "## `Layer.rolling`\n",
    "\n",
    "Yields span lists from window rolling over a layer."
   ]
  },
  {
   "cell_type": "code",
   "execution_count": 33,
   "metadata": {},
   "outputs": [
    {
     "name": "stdout",
     "output_type": "stream",
     "text": [
      "{}\n"
     ]
    },
    {
     "data": {
      "text/html": [
       "<h4>Layer</h4>\n",
       "\n",
       "\n",
       "<table border=\"1\" class=\"dataframe\">\n",
       "  <thead>\n",
       "    <tr style=\"text-align: right;\">\n",
       "      <th>layer name</th>\n",
       "      <th>attributes</th>\n",
       "      <th>parent</th>\n",
       "      <th>enveloping</th>\n",
       "      <th>ambiguous</th>\n",
       "      <th>span count</th>\n",
       "    </tr>\n",
       "  </thead>\n",
       "  <tbody>\n",
       "    <tr>\n",
       "      <td>layer_1</td>\n",
       "      <td>attr, attr_1</td>\n",
       "      <td>None</td>\n",
       "      <td>None</td>\n",
       "      <td>True</td>\n",
       "      <td>19</td>\n",
       "    </tr>\n",
       "  </tbody>\n",
       "</table>\n",
       "<table border=\"1\" class=\"dataframe\">\n",
       "  <thead>\n",
       "    <tr style=\"text-align: right;\">\n",
       "      <th>text</th>\n",
       "      <th>attr</th>\n",
       "      <th>attr_1</th>\n",
       "    </tr>\n",
       "  </thead>\n",
       "  <tbody>\n",
       "    <tr>\n",
       "      <td>Sada</td>\n",
       "      <td>L1-0</td>\n",
       "      <td>SADA</td>\n",
       "    </tr>\n",
       "    <tr>\n",
       "      <td>kaks</td>\n",
       "      <td>L1-1</td>\n",
       "      <td>KAKS</td>\n",
       "    </tr>\n",
       "    <tr>\n",
       "      <td>kakskümmend</td>\n",
       "      <td>L1-2</td>\n",
       "      <td>KAKS</td>\n",
       "    </tr>\n",
       "    <tr>\n",
       "      <td></td>\n",
       "      <td>L1-2</td>\n",
       "      <td>KÜMME</td>\n",
       "    </tr>\n",
       "    <tr>\n",
       "      <td></td>\n",
       "      <td>L1-2</td>\n",
       "      <td>KAKSKÜMMEND</td>\n",
       "    </tr>\n",
       "    <tr>\n",
       "      <td>kümme</td>\n",
       "      <td>L1-3</td>\n",
       "      <td>KÜMME</td>\n",
       "    </tr>\n",
       "    <tr>\n",
       "      <td>kolm</td>\n",
       "      <td>L1-4</td>\n",
       "      <td>KOLM</td>\n",
       "    </tr>\n",
       "    <tr>\n",
       "      <td>Neli</td>\n",
       "      <td>L1-5</td>\n",
       "      <td>NELI</td>\n",
       "    </tr>\n",
       "    <tr>\n",
       "      <td>tuhat</td>\n",
       "      <td>L1-6</td>\n",
       "      <td>TUHAT</td>\n",
       "    </tr>\n",
       "    <tr>\n",
       "      <td>viis</td>\n",
       "      <td>L1-7</td>\n",
       "      <td>VIIS</td>\n",
       "    </tr>\n",
       "    <tr>\n",
       "      <td>viissada</td>\n",
       "      <td>L1-8</td>\n",
       "      <td>SADA</td>\n",
       "    </tr>\n",
       "    <tr>\n",
       "      <td></td>\n",
       "      <td>L1-8</td>\n",
       "      <td>VIIS</td>\n",
       "    </tr>\n",
       "    <tr>\n",
       "      <td></td>\n",
       "      <td>L1-8</td>\n",
       "      <td>VIISSADA</td>\n",
       "    </tr>\n",
       "    <tr>\n",
       "      <td>sada</td>\n",
       "      <td>L1-9</td>\n",
       "      <td>SADA</td>\n",
       "    </tr>\n",
       "    <tr>\n",
       "      <td>kuus</td>\n",
       "      <td>L1-10</td>\n",
       "      <td>KUUS</td>\n",
       "    </tr>\n",
       "    <tr>\n",
       "      <td>kuuskümmend</td>\n",
       "      <td>L1-11</td>\n",
       "      <td>KUUS</td>\n",
       "    </tr>\n",
       "    <tr>\n",
       "      <td></td>\n",
       "      <td>L1-11</td>\n",
       "      <td>KÜMME</td>\n",
       "    </tr>\n",
       "    <tr>\n",
       "      <td></td>\n",
       "      <td>L1-11</td>\n",
       "      <td>KUUSKÜMMEND</td>\n",
       "    </tr>\n",
       "    <tr>\n",
       "      <td>kümme</td>\n",
       "      <td>L1-12</td>\n",
       "      <td>KÜMME</td>\n",
       "    </tr>\n",
       "    <tr>\n",
       "      <td>seitse</td>\n",
       "      <td>L1-13</td>\n",
       "      <td>SEITSE</td>\n",
       "    </tr>\n",
       "    <tr>\n",
       "      <td>koma</td>\n",
       "      <td>L1-14</td>\n",
       "      <td>KOMA</td>\n",
       "    </tr>\n",
       "    <tr>\n",
       "      <td>kaheksa</td>\n",
       "      <td>L1-15</td>\n",
       "      <td>KAHEKSA</td>\n",
       "    </tr>\n",
       "    <tr>\n",
       "      <td>Üheksa</td>\n",
       "      <td>L1-16</td>\n",
       "      <td>ÜHEKSA</td>\n",
       "    </tr>\n",
       "    <tr>\n",
       "      <td>Üheksakümmend</td>\n",
       "      <td>L1-17</td>\n",
       "      <td>ÜHEKSA</td>\n",
       "    </tr>\n",
       "    <tr>\n",
       "      <td></td>\n",
       "      <td>L1-17</td>\n",
       "      <td>KÜMME</td>\n",
       "    </tr>\n",
       "    <tr>\n",
       "      <td></td>\n",
       "      <td>L1-17</td>\n",
       "      <td>ÜHEKSAKÜMMEND</td>\n",
       "    </tr>\n",
       "    <tr>\n",
       "      <td>kümme</td>\n",
       "      <td>L1-18</td>\n",
       "      <td>KÜMME</td>\n",
       "    </tr>\n",
       "  </tbody>\n",
       "</table>"
      ],
      "text/plain": [
       "Layer(name='layer_1', attributes=('attr', 'attr_1'), spans=SL[Span('Sada', [{'attr': 'L1-0', 'attr_1': 'SADA'}]),\n",
       "Span('kaks', [{'attr': 'L1-1', 'attr_1': 'KAKS'}]),\n",
       "Span('kakskümmend', [{'attr': 'L1-2', 'attr_1': 'KAKS'}, {'attr': 'L1-2', 'attr_1': 'KÜMME'}, {'attr': 'L1-2', 'attr_1': 'KAKSKÜMMEND'}]),\n",
       "Span('kümme', [{'attr': 'L1-3', 'attr_1': 'KÜMME'}]),\n",
       "Span('kolm', [{'attr': 'L1-4', 'attr_1': 'KOLM'}]),\n",
       "Span('Neli', [{'attr': 'L1-5', 'attr_1': 'NELI'}]),\n",
       "Span('tuhat', [{'attr': 'L1-6', 'attr_1': 'TUHAT'}]),\n",
       "Span('viis', [{'attr': 'L1-7', 'attr_1': 'VIIS'}]),\n",
       "Span('viissada', [{'attr': 'L1-8', 'attr_1': 'SADA'}, {'attr': 'L1-8', 'attr_1': 'VIIS'}, {'attr': 'L1-8', 'attr_1': 'VIISSADA'}]),\n",
       "Span('sada', [{'attr': 'L1-9', 'attr_1': 'SADA'}]),\n",
       "Span('kuus', [{'attr': 'L1-10', 'attr_1': 'KUUS'}]),\n",
       "Span('kuuskümmend', [{'attr': 'L1-11', 'attr_1': 'KUUS'}, {'attr': 'L1-11', 'attr_1': 'KÜMME'}, {'attr': 'L1-11', 'attr_1': 'KUUSKÜMMEND'}]),\n",
       "Span('kümme', [{'attr': 'L1-12', 'attr_1': 'KÜMME'}]),\n",
       "Span('seitse', [{'attr': 'L1-13', 'attr_1': 'SEITSE'}]),\n",
       "Span('koma', [{'attr': 'L1-14', 'attr_1': 'KOMA'}]),\n",
       "Span('kaheksa', [{'attr': 'L1-15', 'attr_1': 'KAHEKSA'}]),\n",
       "Span('Üheksa', [{'attr': 'L1-16', 'attr_1': 'ÜHEKSA'}]),\n",
       "Span('Üheksakümmend', [{'attr': 'L1-17', 'attr_1': 'ÜHEKSA'}, {'attr': 'L1-17', 'attr_1': 'KÜMME'}, {'attr': 'L1-17', 'attr_1': 'ÜHEKSAKÜMMEND'}]),\n",
       "Span('kümme', [{'attr': 'L1-18', 'attr_1': 'KÜMME'}])])"
      ]
     },
     "execution_count": 33,
     "metadata": {},
     "output_type": "execute_result"
    }
   ],
   "source": [
    "text = new_text(5)\n",
    "text.layer_1"
   ]
  },
  {
   "cell_type": "code",
   "execution_count": 34,
   "metadata": {},
   "outputs": [
    {
     "name": "stdout",
     "output_type": "stream",
     "text": [
      "{}\n",
      "['Sada', 'kaks', 'kakskümmend']\n",
      "['kaks', 'kakskümmend', 'kümme']\n",
      "['kakskümmend', 'kümme', 'kolm']\n",
      "['kümme', 'kolm', ' Neli']\n",
      "['kolm', ' Neli', 'tuhat']\n",
      "[' Neli', 'tuhat', 'viis']\n",
      "['tuhat', 'viis', 'viissada']\n",
      "['viis', 'viissada', 'sada']\n",
      "['viissada', 'sada', 'kuus']\n",
      "['sada', 'kuus', 'kuuskümmend']\n",
      "['kuus', 'kuuskümmend', 'kümme']\n",
      "['kuuskümmend', 'kümme', 'seitse']\n",
      "['kümme', 'seitse', 'koma']\n",
      "['seitse', 'koma', 'kaheksa']\n",
      "['koma', 'kaheksa', 'Üheksa']\n",
      "['kaheksa', 'Üheksa', 'Üheksakümmend']\n",
      "['Üheksa', 'Üheksakümmend', 'kümme']\n",
      "['Üheksakümmend', 'kümme', 'tuhat']\n"
     ]
    }
   ],
   "source": [
    "for spans in new_text(5).layer_0.rolling(window=3,\n",
    "                                         min_periods=None,  # default None means that min_periods=window\n",
    "                                         inside=None):\n",
    "    print(spans.text)"
   ]
  },
  {
   "cell_type": "code",
   "execution_count": 35,
   "metadata": {},
   "outputs": [
    {
     "data": {
      "text/html": [
       "<h4>Layer</h4>\n",
       "\n",
       "\n",
       "<table border=\"1\" class=\"dataframe\">\n",
       "  <thead>\n",
       "    <tr style=\"text-align: right;\">\n",
       "      <th>layer name</th>\n",
       "      <th>attributes</th>\n",
       "      <th>parent</th>\n",
       "      <th>enveloping</th>\n",
       "      <th>ambiguous</th>\n",
       "      <th>span count</th>\n",
       "    </tr>\n",
       "  </thead>\n",
       "  <tbody>\n",
       "    <tr>\n",
       "      <td>layer_4</td>\n",
       "      <td>attr, attr_4</td>\n",
       "      <td>None</td>\n",
       "      <td>layer_0</td>\n",
       "      <td>False</td>\n",
       "      <td>5</td>\n",
       "    </tr>\n",
       "  </tbody>\n",
       "</table>\n",
       "<table border=\"1\" class=\"dataframe\">\n",
       "  <thead>\n",
       "    <tr style=\"text-align: right;\">\n",
       "      <th>text</th>\n",
       "      <th>attr</th>\n",
       "      <th>attr_4</th>\n",
       "    </tr>\n",
       "  </thead>\n",
       "  <tbody>\n",
       "    <tr>\n",
       "      <td>['Sada', 'kakskümmend', 'kolm']</td>\n",
       "      <td>L4-0</td>\n",
       "      <td>123</td>\n",
       "    </tr>\n",
       "    <tr>\n",
       "      <td>[' Neli', 'tuhat', 'viissada', 'kuuskümmend', 'seitse']</td>\n",
       "      <td>L4-1</td>\n",
       "      <td>4567</td>\n",
       "    </tr>\n",
       "    <tr>\n",
       "      <td>['koma']</td>\n",
       "      <td>L4-3</td>\n",
       "      <td>,</td>\n",
       "    </tr>\n",
       "    <tr>\n",
       "      <td>['kaheksa']</td>\n",
       "      <td>L4-2</td>\n",
       "      <td>8</td>\n",
       "    </tr>\n",
       "    <tr>\n",
       "      <td>['Üheksakümmend', 'tuhat']</td>\n",
       "      <td>L4-4</td>\n",
       "      <td>90 000</td>\n",
       "    </tr>\n",
       "  </tbody>\n",
       "</table>"
      ],
      "text/plain": [
       "Layer(name='layer_4', attributes=('attr', 'attr_4'), spans=SL[EnvelopingSpan(['Sada', 'kakskümmend', 'kolm'], [{'attr': 'L4-0', 'attr_4': '123'}]),\n",
       "EnvelopingSpan([' Neli', 'tuhat', 'viissada', 'kuuskümmend', 'seitse'], [{'attr': 'L4-1', 'attr_4': '4567'}]),\n",
       "EnvelopingSpan(['koma'], [{'attr': 'L4-3', 'attr_4': ','}]),\n",
       "EnvelopingSpan(['kaheksa'], [{'attr': 'L4-2', 'attr_4': '8'}]),\n",
       "EnvelopingSpan(['Üheksakümmend', 'tuhat'], [{'attr': 'L4-4', 'attr_4': '90 000'}])])"
      ]
     },
     "execution_count": 35,
     "metadata": {},
     "output_type": "execute_result"
    }
   ],
   "source": [
    "text.layer_4"
   ]
  },
  {
   "cell_type": "code",
   "execution_count": 36,
   "metadata": {},
   "outputs": [
    {
     "name": "stdout",
     "output_type": "stream",
     "text": [
      "{}\n",
      "['Sada', 'kakskümmend']\n",
      "['Sada', 'kakskümmend', 'kolm']\n",
      "['kakskümmend', 'kolm']\n",
      "[' Neli', 'tuhat']\n",
      "[' Neli', 'tuhat', 'viissada']\n",
      "['tuhat', 'viissada', 'kuuskümmend']\n",
      "['viissada', 'kuuskümmend', 'seitse']\n",
      "['kuuskümmend', 'seitse']\n",
      "['Üheksakümmend', 'tuhat']\n",
      "['Üheksakümmend', 'tuhat']\n"
     ]
    }
   ],
   "source": [
    "for spans in new_text(5).layer_0.rolling(window=3,\n",
    "                                         min_periods=2,\n",
    "                                         inside='layer_4'):\n",
    "    print(spans.text)"
   ]
  }
 ],
 "metadata": {
  "anaconda-cloud": {},
  "kernelspec": {
   "display_name": "Python 3",
   "language": "python",
   "name": "python3"
  },
  "language_info": {
   "codemirror_mode": {
    "name": "ipython",
    "version": 3
   },
   "file_extension": ".py",
   "mimetype": "text/x-python",
   "name": "python",
   "nbconvert_exporter": "python",
   "pygments_lexer": "ipython3",
   "version": "3.6.10"
  }
 },
 "nbformat": 4,
 "nbformat_minor": 2
}
