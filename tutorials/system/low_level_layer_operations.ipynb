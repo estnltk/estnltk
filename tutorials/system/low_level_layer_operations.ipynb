{
 "cells": [
  {
   "cell_type": "code",
   "execution_count": 1,
   "metadata": {
    "scrolled": true
   },
   "outputs": [],
   "source": [
    "from estnltk import EnvelopingBaseSpan\n",
    "from estnltk import Annotation, Span, EnvelopingSpan, Layer, Text, Tagger"
   ]
  },
  {
   "cell_type": "markdown",
   "metadata": {},
   "source": [
    "# Low-level layer operations\n",
    "## Create a layer\n",
    "```python\n",
    "Layer(name: str,\n",
    "      attributes: Sequence[str] = (),\n",
    "      text_object: Text = None,\n",
    "      parent: str = None,\n",
    "      enveloping: str = None,\n",
    "      ambiguous: bool = False,\n",
    "      default_values: dict = None\n",
    "      )\n",
    "```\n",
    "**name**: the name of the layer, required argument<br/>\n",
    "**attributes**: the list of the attributes of the layer<br/>\n",
    "**text_object**: the `Text` object of the layer<br/>\n",
    "**parent**: the name of the parent layer<br/>\n",
    "**enveloping**: the layer is enveloping<br/>\n",
    "**ambiguous**: the layer is ambiguous<br/>\n",
    "**defauld_values**: default values of the attributes\n",
    "\n",
    "If `parent is not None`, then `enveloping is None`.<br>\n",
    "If `enveloping is not None`, then `parent is None`."
   ]
  },
  {
   "cell_type": "markdown",
   "metadata": {},
   "source": [
    "### Has no parent, is not enveloping, is  not ambiguous"
   ]
  },
  {
   "cell_type": "code",
   "execution_count": 2,
   "metadata": {},
   "outputs": [
    {
     "data": {
      "text/html": [
       "<h4>Layer</h4>\n",
       "\n",
       "\n",
       "<table border=\"1\" class=\"dataframe\">\n",
       "  <thead>\n",
       "    <tr style=\"text-align: right;\">\n",
       "      <th>layer name</th>\n",
       "      <th>attributes</th>\n",
       "      <th>parent</th>\n",
       "      <th>enveloping</th>\n",
       "      <th>ambiguous</th>\n",
       "      <th>span count</th>\n",
       "    </tr>\n",
       "  </thead>\n",
       "  <tbody>\n",
       "    <tr>\n",
       "      <td>test_layer</td>\n",
       "      <td>attr_1, attr_2</td>\n",
       "      <td>None</td>\n",
       "      <td>None</td>\n",
       "      <td>False</td>\n",
       "      <td>3</td>\n",
       "    </tr>\n",
       "  </tbody>\n",
       "</table>\n",
       "<table border=\"1\" class=\"dataframe\">\n",
       "  <thead>\n",
       "    <tr style=\"text-align: right;\">\n",
       "      <th>text</th>\n",
       "      <th>attr_1</th>\n",
       "      <th>attr_2</th>\n",
       "    </tr>\n",
       "  </thead>\n",
       "  <tbody>\n",
       "    <tr>\n",
       "      <td>Tere</td>\n",
       "      <td>TERE</td>\n",
       "      <td>lambda a: a.layer[1]</td>\n",
       "    </tr>\n",
       "    <tr>\n",
       "      <td>maailm</td>\n",
       "      <td>MAAILM</td>\n",
       "      <td>lambda a: 12+88</td>\n",
       "    </tr>\n",
       "    <tr>\n",
       "      <td>!</td>\n",
       "      <td>!</td>\n",
       "      <td>None</td>\n",
       "    </tr>\n",
       "  </tbody>\n",
       "</table>"
      ],
      "text/plain": [
       "Layer(name='test_layer', attributes=('attr_1', 'attr_2'), spans=SL[Span('Tere', [{'attr_1': 'TERE', 'attr_2': 'lambda a: a.layer[1]'}]),\n",
       "Span('maailm', [{'attr_1': 'MAAILM', 'attr_2': 'lambda a: 12+88'}]),\n",
       "Span('!', [{'attr_1': '!', 'attr_2': None}])])"
      ]
     },
     "execution_count": 2,
     "metadata": {},
     "output_type": "execute_result"
    }
   ],
   "source": [
    "text = Text('Tere, maailm!')\n",
    "\n",
    "layer = Layer(name='test_layer',\n",
    "              text_object=text,\n",
    "              attributes=['attr_1', 'attr_2']\n",
    "              )\n",
    "\n",
    "layer.add_annotation(( 0,  4), attr_1='TERE', attr_2='lambda a: a.layer[1]')\n",
    "layer.add_annotation(( 6, 12), attr_1='MAAILM', attr_2='lambda a: 12+88')\n",
    "layer.add_annotation((12, 13), attr_1='!')\n",
    "\n",
    "layer"
   ]
  },
  {
   "cell_type": "markdown",
   "metadata": {},
   "source": [
    "### Has no parent, is not enveloping, is ambiguous\n",
    "The code below differs from the code above by one line:\n",
    "```python\n",
    "ambiguous=True\n",
    "```\n",
    "Note that in this case equal spans are grouped together."
   ]
  },
  {
   "cell_type": "code",
   "execution_count": 3,
   "metadata": {},
   "outputs": [
    {
     "data": {
      "text/html": [
       "<h4>Layer</h4>\n",
       "\n",
       "\n",
       "<table border=\"1\" class=\"dataframe\">\n",
       "  <thead>\n",
       "    <tr style=\"text-align: right;\">\n",
       "      <th>layer name</th>\n",
       "      <th>attributes</th>\n",
       "      <th>parent</th>\n",
       "      <th>enveloping</th>\n",
       "      <th>ambiguous</th>\n",
       "      <th>span count</th>\n",
       "    </tr>\n",
       "  </thead>\n",
       "  <tbody>\n",
       "    <tr>\n",
       "      <td>test_layer</td>\n",
       "      <td>attr_1</td>\n",
       "      <td>None</td>\n",
       "      <td>None</td>\n",
       "      <td>True</td>\n",
       "      <td>2</td>\n",
       "    </tr>\n",
       "  </tbody>\n",
       "</table>\n",
       "<table border=\"1\" class=\"dataframe\">\n",
       "  <thead>\n",
       "    <tr style=\"text-align: right;\">\n",
       "      <th>text</th>\n",
       "      <th>attr_1</th>\n",
       "    </tr>\n",
       "  </thead>\n",
       "  <tbody>\n",
       "    <tr>\n",
       "      <td>Tere</td>\n",
       "      <td>TERE</td>\n",
       "    </tr>\n",
       "    <tr>\n",
       "      <td>maailm</td>\n",
       "      <td>MAAILM</td>\n",
       "    </tr>\n",
       "    <tr>\n",
       "      <td></td>\n",
       "      <td>MaaIlm</td>\n",
       "    </tr>\n",
       "  </tbody>\n",
       "</table>"
      ],
      "text/plain": [
       "Layer(name='test_layer', attributes=('attr_1',), spans=SL[Span('Tere', [{'attr_1': 'TERE'}]),\n",
       "Span('maailm', [{'attr_1': 'MAAILM'}, {'attr_1': 'MaaIlm'}])])"
      ]
     },
     "execution_count": 3,
     "metadata": {},
     "output_type": "execute_result"
    }
   ],
   "source": [
    "text = Text('Tere, maailm!')\n",
    "\n",
    "layer = Layer(name='test_layer',\n",
    "              text_object=text,\n",
    "              attributes=['attr_1'],\n",
    "              ambiguous=True\n",
    "              )\n",
    "layer.add_annotation((0,  4), attr_1='TERE')\n",
    "layer.add_annotation((6, 12), attr_1='MAAILM')\n",
    "layer.add_annotation((6, 12), attr_1='MaaIlm')\n",
    "\n",
    "layer"
   ]
  },
  {
   "cell_type": "markdown",
   "metadata": {},
   "source": [
    "### Has a parent, is not enveloping, is  ambiguous"
   ]
  },
  {
   "cell_type": "code",
   "execution_count": 4,
   "metadata": {},
   "outputs": [
    {
     "data": {
      "text/html": [
       "<h4>Layer</h4>\n",
       "\n",
       "\n",
       "<table border=\"1\" class=\"dataframe\">\n",
       "  <thead>\n",
       "    <tr style=\"text-align: right;\">\n",
       "      <th>layer name</th>\n",
       "      <th>attributes</th>\n",
       "      <th>parent</th>\n",
       "      <th>enveloping</th>\n",
       "      <th>ambiguous</th>\n",
       "      <th>span count</th>\n",
       "    </tr>\n",
       "  </thead>\n",
       "  <tbody>\n",
       "    <tr>\n",
       "      <td>test_layer</td>\n",
       "      <td>a</td>\n",
       "      <td>words</td>\n",
       "      <td>None</td>\n",
       "      <td>True</td>\n",
       "      <td>4</td>\n",
       "    </tr>\n",
       "  </tbody>\n",
       "</table>\n",
       "<table border=\"1\" class=\"dataframe\">\n",
       "  <thead>\n",
       "    <tr style=\"text-align: right;\">\n",
       "      <th>text</th>\n",
       "      <th>a</th>\n",
       "    </tr>\n",
       "  </thead>\n",
       "  <tbody>\n",
       "    <tr>\n",
       "      <td>Tere</td>\n",
       "      <td>1</td>\n",
       "    </tr>\n",
       "    <tr>\n",
       "      <td></td>\n",
       "      <td>2</td>\n",
       "    </tr>\n",
       "    <tr>\n",
       "      <td>,</td>\n",
       "      <td>1</td>\n",
       "    </tr>\n",
       "    <tr>\n",
       "      <td></td>\n",
       "      <td>2</td>\n",
       "    </tr>\n",
       "    <tr>\n",
       "      <td>maailm</td>\n",
       "      <td>1</td>\n",
       "    </tr>\n",
       "    <tr>\n",
       "      <td></td>\n",
       "      <td>2</td>\n",
       "    </tr>\n",
       "    <tr>\n",
       "      <td>!</td>\n",
       "      <td>1</td>\n",
       "    </tr>\n",
       "    <tr>\n",
       "      <td></td>\n",
       "      <td>2</td>\n",
       "    </tr>\n",
       "  </tbody>\n",
       "</table>"
      ],
      "text/plain": [
       "Layer(name='test_layer', attributes=('a',), spans=SL[Span('Tere', [{'a': 1}, {'a': 2}]),\n",
       "Span(',', [{'a': 1}, {'a': 2}]),\n",
       "Span('maailm', [{'a': 1}, {'a': 2}]),\n",
       "Span('!', [{'a': 1}, {'a': 2}])])"
      ]
     },
     "execution_count": 4,
     "metadata": {},
     "output_type": "execute_result"
    }
   ],
   "source": [
    "text = Text('Tere, maailm!').tag_layer(['words'])\n",
    "\n",
    "layer = Layer(name='test_layer',\n",
    "              text_object=text,\n",
    "              attributes=['a'],\n",
    "              parent='words', \n",
    "              ambiguous=True\n",
    "              )\n",
    "for word in text.words:\n",
    "    span = Span(base_span=word.base_span, layer=layer)\n",
    "\n",
    "    span.add_annotation(Annotation(span, a=1))\n",
    "    span.add_annotation(Annotation(span, a=2))\n",
    "    \n",
    "    layer.add_span(span)\n",
    "\n",
    "layer"
   ]
  },
  {
   "cell_type": "markdown",
   "metadata": {},
   "source": [
    "### Does not have a parent, is enveloping, is not  ambiguous"
   ]
  },
  {
   "cell_type": "code",
   "execution_count": 5,
   "metadata": {},
   "outputs": [
    {
     "data": {
      "text/html": [
       "<h4>Layer</h4>\n",
       "\n",
       "\n",
       "<table border=\"1\" class=\"dataframe\">\n",
       "  <thead>\n",
       "    <tr style=\"text-align: right;\">\n",
       "      <th>layer name</th>\n",
       "      <th>attributes</th>\n",
       "      <th>parent</th>\n",
       "      <th>enveloping</th>\n",
       "      <th>ambiguous</th>\n",
       "      <th>span count</th>\n",
       "    </tr>\n",
       "  </thead>\n",
       "  <tbody>\n",
       "    <tr>\n",
       "      <td>test_layer</td>\n",
       "      <td>value</td>\n",
       "      <td>None</td>\n",
       "      <td>words</td>\n",
       "      <td>False</td>\n",
       "      <td>3</td>\n",
       "    </tr>\n",
       "  </tbody>\n",
       "</table>\n",
       "<table border=\"1\" class=\"dataframe\">\n",
       "  <thead>\n",
       "    <tr style=\"text-align: right;\">\n",
       "      <th>text</th>\n",
       "      <th>value</th>\n",
       "    </tr>\n",
       "  </thead>\n",
       "  <tbody>\n",
       "    <tr>\n",
       "      <td>['Kolmkümmend', 'kolm']</td>\n",
       "      <td>33</td>\n",
       "    </tr>\n",
       "    <tr>\n",
       "      <td>['kolm', 'kui']</td>\n",
       "      <td>0</td>\n",
       "    </tr>\n",
       "    <tr>\n",
       "      <td>['kaheksateist']</td>\n",
       "      <td>18</td>\n",
       "    </tr>\n",
       "  </tbody>\n",
       "</table>"
      ],
      "text/plain": [
       "Layer(name='test_layer', attributes=('value',), spans=SL[EnvelopingSpan(['Kolmkümmend', 'kolm'], [{'value': 33}]),\n",
       "EnvelopingSpan(['kolm', 'kui'], [{'value': 0}]),\n",
       "EnvelopingSpan(['kaheksateist'], [{'value': '18'}])])"
      ]
     },
     "execution_count": 5,
     "metadata": {},
     "output_type": "execute_result"
    }
   ],
   "source": [
    "t = 'Kolmkümmend kolm on suurem kui kaheksateist.'\n",
    "text = Text(t)\n",
    "text.tag_layer(['words'])\n",
    "\n",
    "layer = Layer(name='test_layer',\n",
    "              text_object=text,\n",
    "              enveloping='words',\n",
    "              attributes=['value'],\n",
    "              ambiguous=False)\n",
    "\n",
    "span = EnvelopingSpan(EnvelopingBaseSpan(s.base_span for s in text.words[0:2]), layer=layer)\n",
    "span.add_annotation(Annotation(span, value=33))\n",
    "layer.add_span(span)\n",
    "\n",
    "span = EnvelopingSpan(EnvelopingBaseSpan(([text.words[1].base_span, text.words[4].base_span])), layer=layer)\n",
    "span.add_annotation(Annotation(span, value=0))\n",
    "layer.add_span(span)\n",
    "\n",
    "span = EnvelopingSpan(EnvelopingBaseSpan((text.words[5].base_span, )), layer=layer)\n",
    "span.add_annotation(Annotation(span, value='18'))\n",
    "layer.add_span(span)\n",
    "\n",
    "layer"
   ]
  },
  {
   "cell_type": "markdown",
   "metadata": {},
   "source": [
    "The next demo phrase tagger marks all consequtive uppercase words inside a sentence."
   ]
  },
  {
   "cell_type": "code",
   "execution_count": 6,
   "metadata": {},
   "outputs": [
    {
     "data": {
      "text/html": [
       "<table border=\"1\" class=\"dataframe\">\n",
       "  <thead>\n",
       "    <tr style=\"text-align: right;\">\n",
       "      <th>text</th>\n",
       "    </tr>\n",
       "  </thead>\n",
       "  <tbody>\n",
       "    <tr>\n",
       "      <td><div align = \"left\">Minu KARU ON PUNANE. MIS värvi SINU KARU on? Kuidas PALUN?</div></td>\n",
       "    </tr>\n",
       "  </tbody>\n",
       "</table>\n",
       "<table border=\"1\" class=\"dataframe\">\n",
       "  <thead>\n",
       "    <tr style=\"text-align: right;\">\n",
       "      <th>layer name</th>\n",
       "      <th>attributes</th>\n",
       "      <th>parent</th>\n",
       "      <th>enveloping</th>\n",
       "      <th>ambiguous</th>\n",
       "      <th>span count</th>\n",
       "    </tr>\n",
       "  </thead>\n",
       "  <tbody>\n",
       "    <tr>\n",
       "      <td>sentences</td>\n",
       "      <td></td>\n",
       "      <td>None</td>\n",
       "      <td>words</td>\n",
       "      <td>False</td>\n",
       "      <td>3</td>\n",
       "    </tr>\n",
       "    <tr>\n",
       "      <td>tokens</td>\n",
       "      <td></td>\n",
       "      <td>None</td>\n",
       "      <td>None</td>\n",
       "      <td>False</td>\n",
       "      <td>14</td>\n",
       "    </tr>\n",
       "    <tr>\n",
       "      <td>compound_tokens</td>\n",
       "      <td>type, normalized</td>\n",
       "      <td>None</td>\n",
       "      <td>tokens</td>\n",
       "      <td>False</td>\n",
       "      <td>0</td>\n",
       "    </tr>\n",
       "    <tr>\n",
       "      <td>words</td>\n",
       "      <td>normalized_form</td>\n",
       "      <td>None</td>\n",
       "      <td>None</td>\n",
       "      <td>True</td>\n",
       "      <td>14</td>\n",
       "    </tr>\n",
       "    <tr>\n",
       "      <td>uppercasephrase</td>\n",
       "      <td>phrasetext, tag</td>\n",
       "      <td>None</td>\n",
       "      <td>words</td>\n",
       "      <td>False</td>\n",
       "      <td>2</td>\n",
       "    </tr>\n",
       "  </tbody>\n",
       "</table>"
      ],
      "text/plain": [
       "Text(text='Minu KARU ON PUNANE. MIS värvi SINU KARU on? Kuidas PALUN?')"
      ]
     },
     "execution_count": 6,
     "metadata": {},
     "output_type": "execute_result"
    }
   ],
   "source": [
    "import itertools\n",
    "\n",
    "class UppercasePhraseTagger(Tagger):\n",
    "    \"\"\"Tag uppercase phrases\n",
    "\n",
    "    \"\"\"\n",
    "    conf_param = []\n",
    "    \n",
    "    def __init__(self):\n",
    "        self.input_layers=['words', 'sentences']\n",
    "        self.output_layer='uppercasephrase'\n",
    "        self.output_attributes=['phrasetext', 'tag']\n",
    "    \n",
    "    def _make_layer(self, text: Text, layers, status) -> Layer:\n",
    "        layer = Layer(name=self.output_layer, \n",
    "                      text_object=text, \n",
    "                      enveloping='words', \n",
    "                      attributes=self.output_attributes)\n",
    "\n",
    "        uppercases = []\n",
    "        prevstart = 0\n",
    "        for sentence in text.sentences:\n",
    "            for idx, word in enumerate(sentence.words):\n",
    "                if word.text.upper() == word.text and word.text.lower() != word.text:\n",
    "                    uppercases.append((idx + prevstart, word))\n",
    "            prevstart += len(sentence)\n",
    "\n",
    "        from operator import itemgetter\n",
    "        from itertools import groupby\n",
    "        rs = []\n",
    "        for k, g in groupby(enumerate(uppercases), lambda i: i[0] - i[1][0]):\n",
    "            r = map(itemgetter(1), g)\n",
    "            rs.append(list(r))\n",
    "\n",
    "        spans = [[j for _, j in i] for i in rs if len(i) > 1]\n",
    "\n",
    "        for idx, s in enumerate(spans):\n",
    "            layer.add_annotation(s, phrasetext = ' '.join([i.text for i in s]).lower(), tag=idx)\n",
    "\n",
    "        return layer\n",
    "\n",
    "\n",
    "tagger = UppercasePhraseTagger()\n",
    "text = Text('Minu KARU ON PUNANE. MIS värvi SINU KARU on? Kuidas PALUN?')\n",
    "text.tag_layer(['words', 'sentences'])\n",
    "tagger.tag(text)"
   ]
  },
  {
   "cell_type": "code",
   "execution_count": 7,
   "metadata": {},
   "outputs": [
    {
     "data": {
      "text/html": [
       "<h4>Layer</h4>\n",
       "\n",
       "\n",
       "<table border=\"1\" class=\"dataframe\">\n",
       "  <thead>\n",
       "    <tr style=\"text-align: right;\">\n",
       "      <th>layer name</th>\n",
       "      <th>attributes</th>\n",
       "      <th>parent</th>\n",
       "      <th>enveloping</th>\n",
       "      <th>ambiguous</th>\n",
       "      <th>span count</th>\n",
       "    </tr>\n",
       "  </thead>\n",
       "  <tbody>\n",
       "    <tr>\n",
       "      <td>uppercasephrase</td>\n",
       "      <td>phrasetext, tag</td>\n",
       "      <td>None</td>\n",
       "      <td>words</td>\n",
       "      <td>False</td>\n",
       "      <td>2</td>\n",
       "    </tr>\n",
       "  </tbody>\n",
       "</table>\n",
       "<table border=\"1\" class=\"dataframe\">\n",
       "  <thead>\n",
       "    <tr style=\"text-align: right;\">\n",
       "      <th>text</th>\n",
       "      <th>phrasetext</th>\n",
       "      <th>tag</th>\n",
       "    </tr>\n",
       "  </thead>\n",
       "  <tbody>\n",
       "    <tr>\n",
       "      <td>['KARU', 'ON', 'PUNANE']</td>\n",
       "      <td>karu on punane</td>\n",
       "      <td>0</td>\n",
       "    </tr>\n",
       "    <tr>\n",
       "      <td>['SINU', 'KARU']</td>\n",
       "      <td>sinu karu</td>\n",
       "      <td>1</td>\n",
       "    </tr>\n",
       "  </tbody>\n",
       "</table>"
      ],
      "text/plain": [
       "Layer(name='uppercasephrase', attributes=('phrasetext', 'tag'), spans=SL[EnvelopingSpan(['KARU', 'ON', 'PUNANE'], [{'phrasetext': 'karu on punane', 'tag': 0}]),\n",
       "EnvelopingSpan(['SINU', 'KARU'], [{'phrasetext': 'sinu karu', 'tag': 1}])])"
      ]
     },
     "execution_count": 7,
     "metadata": {},
     "output_type": "execute_result"
    }
   ],
   "source": [
    "text.uppercasephrase"
   ]
  },
  {
   "cell_type": "code",
   "execution_count": 8,
   "metadata": {},
   "outputs": [
    {
     "name": "stdout",
     "output_type": "stream",
     "text": [
      "['karu on punane', 'sinu karu']\n",
      "[AmbiguousAttributeList([['karu'], ['olema', 'olema'], ['punane']], ('lemma',)), AmbiguousAttributeList([['sina'], ['karu']], ('lemma',))]\n",
      "['Minu', '.', 'MIS', 'värvi', 'on', '?', 'Kuidas', 'PALUN', '?']\n",
      "['Minu', '.', 'MIS', 'värvi', 'on', '?', 'Kuidas', 'PALUN', '?']\n",
      "['Minu', 0, 0, 0, '.', 'MIS', 'värvi', 1, 1, 'on', '?', 'Kuidas', 'PALUN', '?']\n"
     ]
    }
   ],
   "source": [
    "text.tag_layer(['morph_analysis'])\n",
    "\n",
    "print(text.phrasetext)\n",
    "#['karu on punane', 'sinu karu']\n",
    "\n",
    "print(text.uppercasephrase.lemma)\n",
    "# [[['karu'], ['olema', 'olema'], ['punane']], [['sina'], ['karu']]]\n",
    "\n",
    "print([i.text for i in text.words if i not in list(itertools.chain(*text.uppercasephrase.spans))])\n",
    "# ['Minu', '.', 'MIS', 'värvi', 'on', '?', 'Kuidas', 'PALUN', '?']\n",
    "\n",
    "print([i.text for i in text.words if i not in list(itertools.chain(*text.uppercasephrase.spans))])\n",
    "# ['Minu', '.', 'MIS', 'värvi', 'on', '?', 'Kuidas', 'PALUN', '?']\n",
    "\n",
    "mapping = {i: j for j in text.uppercasephrase for i in j.base_span}\n",
    "print([mapping[i.base_span].tag if i.base_span in mapping else i.text for i in text.words])\n",
    "# ['Minu', 0, 0, 0, '.', 'MIS', 'värvi', 1, 1, 'on', '?', 'Kuidas', 'PALUN', '?']"
   ]
  },
  {
   "cell_type": "markdown",
   "metadata": {},
   "source": [
    "Here is an example how to create a new layer on top of an enveloping layer."
   ]
  },
  {
   "cell_type": "code",
   "execution_count": 9,
   "metadata": {
    "scrolled": false
   },
   "outputs": [
    {
     "data": {
      "text/html": [
       "<h4>Layer</h4>\n",
       "\n",
       "\n",
       "<table border=\"1\" class=\"dataframe\">\n",
       "  <thead>\n",
       "    <tr style=\"text-align: right;\">\n",
       "      <th>layer name</th>\n",
       "      <th>attributes</th>\n",
       "      <th>parent</th>\n",
       "      <th>enveloping</th>\n",
       "      <th>ambiguous</th>\n",
       "      <th>span count</th>\n",
       "    </tr>\n",
       "  </thead>\n",
       "  <tbody>\n",
       "    <tr>\n",
       "      <td>sentence_type</td>\n",
       "      <td>type</td>\n",
       "      <td>sentences</td>\n",
       "      <td>None</td>\n",
       "      <td>False</td>\n",
       "      <td>3</td>\n",
       "    </tr>\n",
       "  </tbody>\n",
       "</table>\n",
       "<table border=\"1\" class=\"dataframe\">\n",
       "  <thead>\n",
       "    <tr style=\"text-align: right;\">\n",
       "      <th>text</th>\n",
       "      <th>type</th>\n",
       "    </tr>\n",
       "  </thead>\n",
       "  <tbody>\n",
       "    <tr>\n",
       "      <td>['Esimene', 'lause', '?']</td>\n",
       "      <td>question</td>\n",
       "    </tr>\n",
       "    <tr>\n",
       "      <td>['Teine', 'lause', '!']</td>\n",
       "      <td>exclamation</td>\n",
       "    </tr>\n",
       "    <tr>\n",
       "      <td>['Kolmas', 'lause', '.']</td>\n",
       "      <td>statement</td>\n",
       "    </tr>\n",
       "  </tbody>\n",
       "</table>"
      ],
      "text/plain": [
       "Layer(name='sentence_type', attributes=('type',), spans=SL[Span(['Esimene', 'lause', '?'], [{'type': 'question'}]),\n",
       "Span(['Teine', 'lause', '!'], [{'type': 'exclamation'}]),\n",
       "Span(['Kolmas', 'lause', '.'], [{'type': 'statement'}])])"
      ]
     },
     "execution_count": 9,
     "metadata": {},
     "output_type": "execute_result"
    }
   ],
   "source": [
    "text = Text('Esimene lause? Teine lause! Kolmas lause.').analyse('segmentation')\n",
    "sentence_types = {'.': 'statement', '?': 'question', '!': 'exclamation'}\n",
    "\n",
    "layer = Layer(name='sentence_type', parent='sentences', attributes=('type',), text_object=text)\n",
    "for s in text['sentences']:\n",
    "    layer.add_annotation(s, type=sentence_types.get(s[-1].text))\n",
    "\n",
    "layer"
   ]
  },
  {
   "cell_type": "markdown",
   "metadata": {},
   "source": [
    "## Descendant layers and ancestor layers\n",
    "\n",
    "Descendant layers are downward in the chain of `parent` and `enveloping` relations, ancestor layers are upward in the tree of `parent` and `enveloping` relations."
   ]
  },
  {
   "cell_type": "code",
   "execution_count": 10,
   "metadata": {},
   "outputs": [
    {
     "data": {
      "text/plain": [
       "['layer_1']"
      ]
     },
     "execution_count": 10,
     "metadata": {},
     "output_type": "execute_result"
    }
   ],
   "source": [
    "text = Text('')\n",
    "\n",
    "layer_1 = Layer('layer_1', text_object=text)\n",
    "layer_2 = Layer('layer_2', text_object=text, parent='layer_1')\n",
    "layer_3 = Layer('layer_3', text_object=text, parent='layer_2')\n",
    "layer_4 = Layer('layer_4', text_object=text, enveloping='layer_2')\n",
    "layer_5 = Layer('layer_5', text_object=text, enveloping='layer_2')\n",
    "layer_6 = Layer('layer_6', text_object=text, parent='layer_5')\n",
    "\n",
    "text.add_layer(layer_1)\n",
    "text.add_layer(layer_2)\n",
    "text.add_layer(layer_3)\n",
    "text.add_layer(layer_4)\n",
    "text.add_layer(layer_5)\n",
    "text.add_layer(layer_6)\n",
    "\n",
    "layer_2.descendant_layers()"
   ]
  },
  {
   "cell_type": "code",
   "execution_count": 11,
   "metadata": {},
   "outputs": [
    {
     "data": {
      "text/plain": [
       "['layer_3', 'layer_4', 'layer_5', 'layer_6']"
      ]
     },
     "execution_count": 11,
     "metadata": {},
     "output_type": "execute_result"
    }
   ],
   "source": [
    "layer_2.ancestor_layers()"
   ]
  },
  {
   "cell_type": "markdown",
   "metadata": {},
   "source": [
    "# Attribute lists\n",
    "Immutable lists for layer attribute value representation."
   ]
  },
  {
   "cell_type": "code",
   "execution_count": 12,
   "metadata": {},
   "outputs": [],
   "source": [
    "from estnltk.layer import AttributeList\n",
    "from estnltk.layer import AmbiguousAttributeList\n",
    "from estnltk.layer import AttributeTupleList\n",
    "from estnltk.layer import AmbiguousAttributeTupleList"
   ]
  },
  {
   "cell_type": "code",
   "execution_count": 13,
   "metadata": {},
   "outputs": [
    {
     "data": {
      "text/html": [
       "<h4>AttributeList</h4>\n",
       "<table border=\"1\" class=\"dataframe\">\n",
       "  <thead>\n",
       "    <tr style=\"text-align: right;\">\n",
       "      <th></th>\n",
       "      <th>attr</th>\n",
       "    </tr>\n",
       "  </thead>\n",
       "  <tbody>\n",
       "    <tr>\n",
       "      <td>0</td>\n",
       "      <td>1</td>\n",
       "    </tr>\n",
       "    <tr>\n",
       "      <td>1</td>\n",
       "      <td>2</td>\n",
       "    </tr>\n",
       "    <tr>\n",
       "      <td>2</td>\n",
       "      <td>3</td>\n",
       "    </tr>\n",
       "    <tr>\n",
       "      <td>3</td>\n",
       "      <td>4</td>\n",
       "    </tr>\n",
       "  </tbody>\n",
       "</table>"
      ],
      "text/plain": [
       "AttributeList([1, 2, 3, 4], ('attr',))"
      ]
     },
     "execution_count": 13,
     "metadata": {},
     "output_type": "execute_result"
    }
   ],
   "source": [
    "al = AttributeList([1,2,3,4], 'attr')\n",
    "al"
   ]
  },
  {
   "cell_type": "code",
   "execution_count": 14,
   "metadata": {},
   "outputs": [
    {
     "data": {
      "text/html": [
       "<h4>AmbiguousAttributeList</h4>\n",
       "<table border=\"1\" class=\"dataframe\">\n",
       "  <thead>\n",
       "    <tr style=\"text-align: right;\">\n",
       "      <th></th>\n",
       "      <th>attr</th>\n",
       "    </tr>\n",
       "  </thead>\n",
       "  <tbody>\n",
       "    <tr>\n",
       "      <td>0</td>\n",
       "      <td>1</td>\n",
       "    </tr>\n",
       "    <tr>\n",
       "      <td></td>\n",
       "      <td>2</td>\n",
       "    </tr>\n",
       "    <tr>\n",
       "      <td>1</td>\n",
       "      <td>3</td>\n",
       "    </tr>\n",
       "    <tr>\n",
       "      <td></td>\n",
       "      <td>4</td>\n",
       "    </tr>\n",
       "    <tr>\n",
       "      <td>2</td>\n",
       "      <td>5</td>\n",
       "    </tr>\n",
       "  </tbody>\n",
       "</table>"
      ],
      "text/plain": [
       "AmbiguousAttributeList([[1, 2], [3, 4], [5]], ('attr',))"
      ]
     },
     "execution_count": 14,
     "metadata": {},
     "output_type": "execute_result"
    }
   ],
   "source": [
    "aal = AmbiguousAttributeList([[1,2], [3,4], [5]], 'attr')\n",
    "aal"
   ]
  },
  {
   "cell_type": "code",
   "execution_count": 15,
   "metadata": {},
   "outputs": [
    {
     "data": {
      "text/html": [
       "<h4>AttributeTupleList</h4>\n",
       "<table border=\"1\" class=\"dataframe\">\n",
       "  <thead>\n",
       "    <tr style=\"text-align: right;\">\n",
       "      <th></th>\n",
       "      <th>attr_1</th>\n",
       "      <th>attr_2</th>\n",
       "      <th>attr_3</th>\n",
       "    </tr>\n",
       "  </thead>\n",
       "  <tbody>\n",
       "    <tr>\n",
       "      <td>0</td>\n",
       "      <td>1</td>\n",
       "      <td>2</td>\n",
       "      <td>3</td>\n",
       "    </tr>\n",
       "    <tr>\n",
       "      <td>1</td>\n",
       "      <td>4</td>\n",
       "      <td>5</td>\n",
       "      <td>6</td>\n",
       "    </tr>\n",
       "    <tr>\n",
       "      <td>2</td>\n",
       "      <td>7</td>\n",
       "      <td>8</td>\n",
       "      <td>9</td>\n",
       "    </tr>\n",
       "  </tbody>\n",
       "</table>"
      ],
      "text/plain": [
       "AttributeTupleList([[1, 2, 3], [4, 5, 6], [7, 8, 9]], ('attr_1', 'attr_2', 'attr_3'))"
      ]
     },
     "execution_count": 15,
     "metadata": {},
     "output_type": "execute_result"
    }
   ],
   "source": [
    "atl = AttributeTupleList([[1,2,3], [4,5,6], [7,8,9]], ['attr_1', 'attr_2', 'attr_3'])\n",
    "atl.index = False\n",
    "atl"
   ]
  },
  {
   "cell_type": "code",
   "execution_count": 16,
   "metadata": {},
   "outputs": [
    {
     "data": {
      "text/html": [
       "<h4>AmbiguousAttributeTupleList</h4>\n",
       "<table border=\"1\" class=\"dataframe\">\n",
       "  <thead>\n",
       "    <tr style=\"text-align: right;\">\n",
       "      <th></th>\n",
       "      <th>attr_1</th>\n",
       "      <th>attr_2</th>\n",
       "    </tr>\n",
       "  </thead>\n",
       "  <tbody>\n",
       "    <tr>\n",
       "      <td>0</td>\n",
       "      <td>1</td>\n",
       "      <td>2</td>\n",
       "    </tr>\n",
       "    <tr>\n",
       "      <td></td>\n",
       "      <td>3</td>\n",
       "      <td>4</td>\n",
       "    </tr>\n",
       "    <tr>\n",
       "      <td>1</td>\n",
       "      <td>5</td>\n",
       "      <td>6</td>\n",
       "    </tr>\n",
       "    <tr>\n",
       "      <td></td>\n",
       "      <td>7</td>\n",
       "      <td>8</td>\n",
       "    </tr>\n",
       "    <tr>\n",
       "      <td></td>\n",
       "      <td>9</td>\n",
       "      <td>10</td>\n",
       "    </tr>\n",
       "    <tr>\n",
       "      <td>2</td>\n",
       "      <td>11</td>\n",
       "      <td>12</td>\n",
       "    </tr>\n",
       "  </tbody>\n",
       "</table>"
      ],
      "text/plain": [
       "AmbiguousAttributeTupleList([[[1, 2], [3, 4]], [[5, 6], [7, 8], [9, 10]], [[11, 12]]], ('attr_1', 'attr_2'))"
      ]
     },
     "execution_count": 16,
     "metadata": {},
     "output_type": "execute_result"
    }
   ],
   "source": [
    "aatl = AmbiguousAttributeTupleList([[[1,2], [3,4]], [[5,6], [7,8], [9,10]], [[11,12]]],\n",
    "                                   ['attr_1', 'attr_2'])\n",
    "aatl"
   ]
  }
 ],
 "metadata": {
  "kernelspec": {
   "display_name": "Python 3",
   "language": "python",
   "name": "python3"
  },
  "language_info": {
   "codemirror_mode": {
    "name": "ipython",
    "version": 3
   },
   "file_extension": ".py",
   "mimetype": "text/x-python",
   "name": "python",
   "nbconvert_exporter": "python",
   "pygments_lexer": "ipython3",
   "version": "3.5.6"
  }
 },
 "nbformat": 4,
 "nbformat_minor": 2
}
