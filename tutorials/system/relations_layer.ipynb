{
 "cells": [
  {
   "cell_type": "markdown",
   "id": "ad4e91d7",
   "metadata": {},
   "source": [
    "## RelationsLayer\n",
    "\n",
    "RelationsLayer is a new type of layer introduced in estntlk v1.7.2. \n",
    "It allows to store information about relationships between entities mentioned in text, such as coreference relations or semantic roles."
   ]
  },
  {
   "cell_type": "markdown",
   "id": "ae51d758",
   "metadata": {},
   "source": [
    "### Example 1: coreference relations"
   ]
  },
  {
   "cell_type": "code",
   "execution_count": 1,
   "id": "263ae33f",
   "metadata": {},
   "outputs": [],
   "source": [
    "from estnltk import Text\n",
    "from estnltk_core import RelationsLayer"
   ]
  },
  {
   "cell_type": "code",
   "execution_count": 2,
   "id": "f234b18b",
   "metadata": {},
   "outputs": [],
   "source": [
    "text = Text('Mari kirjeldas õhinal, kuidas ta väiksena \"Sipsikut\" luges: '+\\\n",
    "'\"Ma ei suutnud seda raamatut kohe kuidagi käest ära panna! Nii põnev oli see!\"').tag_layer('words')"
   ]
  },
  {
   "cell_type": "code",
   "execution_count": 3,
   "id": "d8fe71ae",
   "metadata": {},
   "outputs": [],
   "source": [
    "# Get word span locations:\n",
    "#text.words[['start', 'end', 'text']]"
   ]
  },
  {
   "cell_type": "markdown",
   "id": "9e0d9fbd",
   "metadata": {},
   "source": [
    "Upon creating a RelationsLayer, you need to define names for the spans, and names for the attributes.\n",
    "Span names are required, attribute names can also be skipped:"
   ]
  },
  {
   "cell_type": "code",
   "execution_count": 4,
   "id": "fa29e479",
   "metadata": {},
   "outputs": [],
   "source": [
    "coref_layer = RelationsLayer('coreference', span_names=['mention', 'entity'], text_object=text)"
   ]
  },
  {
   "cell_type": "markdown",
   "id": "2e8fa0ba",
   "metadata": {},
   "source": [
    "Use add_annotation method to add new relations to the layer:"
   ]
  },
  {
   "cell_type": "code",
   "execution_count": 5,
   "id": "21fc7aea",
   "metadata": {},
   "outputs": [
    {
     "data": {
      "text/html": [
       "<h4>RelationsLayer</h4>\n",
       "\n",
       "\n",
       "<table border=\"1\" class=\"dataframe\">\n",
       "  <thead>\n",
       "    <tr style=\"text-align: right;\">\n",
       "      <th>layer name</th>\n",
       "      <th>span_names</th>\n",
       "      <th>attributes</th>\n",
       "      <th>ambiguous</th>\n",
       "      <th>relation count</th>\n",
       "    </tr>\n",
       "  </thead>\n",
       "  <tbody>\n",
       "    <tr>\n",
       "      <td>coreference</td>\n",
       "      <td>mention, entity</td>\n",
       "      <td></td>\n",
       "      <td>False</td>\n",
       "      <td>4</td>\n",
       "    </tr>\n",
       "  </tbody>\n",
       "</table>\n",
       "<table border=\"1\" class=\"dataframe\">\n",
       "  <thead>\n",
       "    <tr style=\"text-align: right;\">\n",
       "      <th>mention</th>\n",
       "      <th>entity</th>\n",
       "    </tr>\n",
       "  </thead>\n",
       "  <tbody>\n",
       "    <tr>\n",
       "      <td>ta</td>\n",
       "      <td>Mari</td>\n",
       "    </tr>\n",
       "    <tr>\n",
       "      <td>Ma</td>\n",
       "      <td>Mari</td>\n",
       "    </tr>\n",
       "    <tr>\n",
       "      <td>seda raamatut</td>\n",
       "      <td>\"Sipsikut\"</td>\n",
       "    </tr>\n",
       "    <tr>\n",
       "      <td>see</td>\n",
       "      <td>\"Sipsikut\"</td>\n",
       "    </tr>\n",
       "  </tbody>\n",
       "</table>"
      ],
      "text/plain": [
       "RelationsLayer(name='coreference', span_names=('mention', 'entity'), attributes=(), relations=[Relation([NamedSpan(mention: 'ta'), NamedSpan(entity: 'Mari')], [{}]), Relation([NamedSpan(mention: 'Ma'), NamedSpan(entity: 'Mari')], [{}]), Relation([NamedSpan(mention: 'seda raamatut'), NamedSpan(entity: '\"Sipsikut\"')], [{}]), Relation([NamedSpan(mention: 'see'), NamedSpan(entity: '\"Sipsikut\"')], [{}])])"
      ]
     },
     "execution_count": 5,
     "metadata": {},
     "output_type": "execute_result"
    }
   ],
   "source": [
    "# Add relation based on a dictionary\n",
    "coref_layer.add_annotation( {'mention': (30, 32), 'entity': (0, 4)} )\n",
    "coref_layer.add_annotation( {'mention': (61, 63), 'entity': (0, 4)} )\n",
    "# Or add relation by keyword arguments\n",
    "coref_layer.add_annotation( mention=(75, 88), entity=(42, 52) )\n",
    "coref_layer.add_annotation( mention=(133, 136), entity=(42, 52) )\n",
    "coref_layer"
   ]
  },
  {
   "cell_type": "code",
   "execution_count": 6,
   "id": "ece8ba33",
   "metadata": {},
   "outputs": [
    {
     "data": {
      "text/plain": [
       "('mention', 'entity')"
      ]
     },
     "execution_count": 6,
     "metadata": {},
     "output_type": "execute_result"
    }
   ],
   "source": [
    "# Access span names\n",
    "coref_layer.span_names"
   ]
  },
  {
   "cell_type": "code",
   "execution_count": 7,
   "id": "d386e460",
   "metadata": {},
   "outputs": [
    {
     "data": {
      "text/plain": [
       "Relation([NamedSpan(mention: 'ta'), NamedSpan(entity: 'Mari')], [{}])"
      ]
     },
     "execution_count": 7,
     "metadata": {},
     "output_type": "execute_result"
    }
   ],
   "source": [
    "# use numeric indexes to access relations\n",
    "coref_layer[0]"
   ]
  },
  {
   "cell_type": "code",
   "execution_count": 8,
   "id": "5342a2f1",
   "metadata": {},
   "outputs": [
    {
     "data": {
      "text/plain": [
       "NamedSpan(mention: 'ta')"
      ]
     },
     "execution_count": 8,
     "metadata": {},
     "output_type": "execute_result"
    }
   ],
   "source": [
    "coref_layer[0].mention"
   ]
  },
  {
   "cell_type": "code",
   "execution_count": 9,
   "id": "71f1092a",
   "metadata": {},
   "outputs": [
    {
     "data": {
      "text/plain": [
       "'ta'"
      ]
     },
     "execution_count": 9,
     "metadata": {},
     "output_type": "execute_result"
    }
   ],
   "source": [
    "coref_layer[0].mention.text"
   ]
  },
  {
   "cell_type": "code",
   "execution_count": 10,
   "id": "e3db0c80",
   "metadata": {},
   "outputs": [
    {
     "data": {
      "text/plain": [
       "'Mari'"
      ]
     },
     "execution_count": 10,
     "metadata": {},
     "output_type": "execute_result"
    }
   ],
   "source": [
    "coref_layer[0].entity.text"
   ]
  },
  {
   "cell_type": "code",
   "execution_count": 11,
   "id": "0bdfe999",
   "metadata": {},
   "outputs": [
    {
     "data": {
      "text/plain": [
       "[[NamedSpan(mention: 'ta')],\n",
       " [NamedSpan(mention: 'Ma')],\n",
       " [NamedSpan(mention: 'seda raamatut')],\n",
       " [NamedSpan(mention: 'see')]]"
      ]
     },
     "execution_count": 11,
     "metadata": {},
     "output_type": "execute_result"
    }
   ],
   "source": [
    "# get all mentions\n",
    "coref_layer[['mention']]"
   ]
  },
  {
   "cell_type": "code",
   "execution_count": 12,
   "id": "2fcba15f",
   "metadata": {},
   "outputs": [
    {
     "data": {
      "text/plain": [
       "[[NamedSpan(entity: 'Mari')],\n",
       " [NamedSpan(entity: 'Mari')],\n",
       " [NamedSpan(entity: '\"Sipsikut\"')],\n",
       " [NamedSpan(entity: '\"Sipsikut\"')]]"
      ]
     },
     "execution_count": 12,
     "metadata": {},
     "output_type": "execute_result"
    }
   ],
   "source": [
    "# get all entities\n",
    "coref_layer[['entity']]"
   ]
  },
  {
   "cell_type": "markdown",
   "id": "2980f0bf",
   "metadata": {},
   "source": [
    "### Example 2: temporal relations"
   ]
  },
  {
   "cell_type": "code",
   "execution_count": 13,
   "id": "4cb441da",
   "metadata": {},
   "outputs": [],
   "source": [
    "from estnltk import Text\n",
    "from estnltk_core import RelationsLayer"
   ]
  },
  {
   "cell_type": "code",
   "execution_count": 14,
   "id": "e650e8ed",
   "metadata": {},
   "outputs": [],
   "source": [
    "text = Text('Pühapäeva varahommikul kutsuti politsei Riia mäele. '+\\\n",
    "'Seal oli ühelt noorelt mehelt ära võetud nahktagi ja käekell. '+\\\n",
    "'Juhtumi kohta algatati uurimine.').tag_layer('words')"
   ]
  },
  {
   "cell_type": "code",
   "execution_count": 15,
   "id": "a29552af",
   "metadata": {},
   "outputs": [],
   "source": [
    "# Get word span locations:\n",
    "#text.words[['start', 'end', 'text']]"
   ]
  },
  {
   "cell_type": "code",
   "execution_count": 16,
   "id": "d690a87a",
   "metadata": {},
   "outputs": [],
   "source": [
    "tlinks_layer = RelationsLayer('temporal_relations', span_names=['entity_a', 'entity_b'], \n",
    "                                                    attributes=['rel_type'], text_object=text)"
   ]
  },
  {
   "cell_type": "code",
   "execution_count": 17,
   "id": "313b736d",
   "metadata": {},
   "outputs": [
    {
     "data": {
      "text/plain": [
       "('entity_a', 'entity_b')"
      ]
     },
     "execution_count": 17,
     "metadata": {},
     "output_type": "execute_result"
    }
   ],
   "source": [
    "# Access span names\n",
    "tlinks_layer.span_names"
   ]
  },
  {
   "cell_type": "code",
   "execution_count": 18,
   "id": "0a28f3f1",
   "metadata": {},
   "outputs": [
    {
     "data": {
      "text/plain": [
       "('rel_type',)"
      ]
     },
     "execution_count": 18,
     "metadata": {},
     "output_type": "execute_result"
    }
   ],
   "source": [
    "# Access attributes\n",
    "tlinks_layer.attributes"
   ]
  },
  {
   "cell_type": "code",
   "execution_count": 19,
   "id": "1c69649b",
   "metadata": {},
   "outputs": [
    {
     "data": {
      "text/html": [
       "<h4>RelationsLayer</h4>\n",
       "\n",
       "\n",
       "<table border=\"1\" class=\"dataframe\">\n",
       "  <thead>\n",
       "    <tr style=\"text-align: right;\">\n",
       "      <th>layer name</th>\n",
       "      <th>span_names</th>\n",
       "      <th>attributes</th>\n",
       "      <th>ambiguous</th>\n",
       "      <th>relation count</th>\n",
       "    </tr>\n",
       "  </thead>\n",
       "  <tbody>\n",
       "    <tr>\n",
       "      <td>temporal_relations</td>\n",
       "      <td>entity_a, entity_b</td>\n",
       "      <td>rel_type</td>\n",
       "      <td>False</td>\n",
       "      <td>4</td>\n",
       "    </tr>\n",
       "  </tbody>\n",
       "</table>\n",
       "<table border=\"1\" class=\"dataframe\">\n",
       "  <thead>\n",
       "    <tr style=\"text-align: right;\">\n",
       "      <th>entity_a</th>\n",
       "      <th>entity_b</th>\n",
       "      <th>rel_type</th>\n",
       "    </tr>\n",
       "  </thead>\n",
       "  <tbody>\n",
       "    <tr>\n",
       "      <td>Pühapäeva varahommikul</td>\n",
       "      <td>kutsuti</td>\n",
       "      <td>INCLUDES</td>\n",
       "    </tr>\n",
       "    <tr>\n",
       "      <td>ära võetud</td>\n",
       "      <td>kutsuti</td>\n",
       "      <td>BEFORE</td>\n",
       "    </tr>\n",
       "    <tr>\n",
       "      <td>ära võetud</td>\n",
       "      <td>Juhtumi</td>\n",
       "      <td>IDENTITY</td>\n",
       "    </tr>\n",
       "    <tr>\n",
       "      <td>ära võetud</td>\n",
       "      <td>algatati uurimine</td>\n",
       "      <td>BEFORE</td>\n",
       "    </tr>\n",
       "  </tbody>\n",
       "</table>"
      ],
      "text/plain": [
       "RelationsLayer(name='temporal_relations', span_names=('entity_a', 'entity_b'), attributes=('rel_type',), relations=[Relation([NamedSpan(entity_a: 'Pühapäeva varahommikul'), NamedSpan(entity_b: 'kutsuti')], [{'rel_type': 'INCLUDES'}]), Relation([NamedSpan(entity_a: 'ära võetud'), NamedSpan(entity_b: 'kutsuti')], [{'rel_type': 'BEFORE'}]), Relation([NamedSpan(entity_a: 'ära võetud'), NamedSpan(entity_b: 'Juhtumi')], [{'rel_type': 'IDENTITY'}]), Relation([NamedSpan(entity_a: 'ära võetud'), NamedSpan(entity_b: 'algatati uurimine')], [{'rel_type': 'BEFORE'}])])"
      ]
     },
     "execution_count": 19,
     "metadata": {},
     "output_type": "execute_result"
    }
   ],
   "source": [
    "# Add relation based on a dictionary\n",
    "tlinks_layer.add_annotation( {'entity_a': (0, 22),  'entity_b': (23, 30),   'rel_type': 'INCLUDES'} )\n",
    "tlinks_layer.add_annotation( {'entity_a': (82, 92), 'entity_b': (23, 30),   'rel_type': 'BEFORE'} )\n",
    "# Or add relation by keyword arguments\n",
    "tlinks_layer.add_annotation( entity_a=(82, 92), entity_b=(114, 121), rel_type='IDENTITY' )\n",
    "tlinks_layer.add_annotation( entity_a=(82, 92), entity_b=(128, 145), rel_type='BEFORE' )\n",
    "tlinks_layer"
   ]
  },
  {
   "cell_type": "code",
   "execution_count": 20,
   "id": "29eb243d",
   "metadata": {},
   "outputs": [
    {
     "data": {
      "text/plain": [
       "Relation([NamedSpan(entity_a: 'Pühapäeva varahommikul'), NamedSpan(entity_b: 'kutsuti')], [{'rel_type': 'INCLUDES'}])"
      ]
     },
     "execution_count": 20,
     "metadata": {},
     "output_type": "execute_result"
    }
   ],
   "source": [
    "tlinks_layer[0]"
   ]
  },
  {
   "cell_type": "code",
   "execution_count": 21,
   "id": "5230e69e",
   "metadata": {},
   "outputs": [
    {
     "data": {
      "text/plain": [
       "'INCLUDES'"
      ]
     },
     "execution_count": 21,
     "metadata": {},
     "output_type": "execute_result"
    }
   ],
   "source": [
    "tlinks_layer[0]['rel_type']"
   ]
  },
  {
   "cell_type": "markdown",
   "id": "41a04704",
   "metadata": {},
   "source": [
    "### Example 3: semantic roles"
   ]
  },
  {
   "cell_type": "code",
   "execution_count": 22,
   "id": "9191c888",
   "metadata": {},
   "outputs": [],
   "source": [
    "from estnltk import Text\n",
    "from estnltk_core import RelationsLayer"
   ]
  },
  {
   "cell_type": "code",
   "execution_count": 23,
   "id": "59f42e82",
   "metadata": {},
   "outputs": [],
   "source": [
    "text = Text('President Bush kohtus temaga privaatselt Valges Majas teisipäeval. '+\\\n",
    "'Aga John ja Mari kohtusid hoopis kokteilipeol. '+\\\n",
    "'Mari ei ostnud Johnile kokteili.').tag_layer('words')"
   ]
  },
  {
   "cell_type": "code",
   "execution_count": 24,
   "id": "fec5bd74",
   "metadata": {},
   "outputs": [],
   "source": [
    "# Get word span locations:\n",
    "#text.words[['start', 'end', 'text']]"
   ]
  },
  {
   "cell_type": "markdown",
   "id": "943c8a30",
   "metadata": {},
   "source": [
    "You can also define more span names than only the minimal set to be used in every relation. \n",
    "Some of the named spans can be filled out only in specific contexts. \n",
    "Next, we follow the example of English PropBank guidelines and define a layer of semantic roles, which have slots/placeholders for different arguments. However, whether an argument is realized or not, depends on the context:"
   ]
  },
  {
   "cell_type": "code",
   "execution_count": 25,
   "id": "59302c08",
   "metadata": {},
   "outputs": [],
   "source": [
    "sem_roles_layer = RelationsLayer('semantic_roles', span_names=['arg0', 'arg1', 'arg2', 'arg3', \n",
    "                                                               'arg4', 'argm_mnr', 'argm_tmp', \n",
    "                                                               'argm_loc'], \n",
    "                                                   attributes=['rel'], text_object=text)\n",
    "# Based on PropBank English guidelines:\n",
    "# ARG0 -- agent\n",
    "# ARG1 -- patient \n",
    "# ARG2 -- instrument, benefactive, attribute \n",
    "# ARG3 -- starting point, benefactive, attribute\n",
    "# ARG4 -- ending point, beneficiary\n",
    "# ARGM -- modifier (manner, time, location)"
   ]
  },
  {
   "cell_type": "code",
   "execution_count": 26,
   "id": "47710681",
   "metadata": {},
   "outputs": [
    {
     "data": {
      "text/html": [
       "<h4>RelationsLayer</h4>\n",
       "\n",
       "\n",
       "<table border=\"1\" class=\"dataframe\">\n",
       "  <thead>\n",
       "    <tr style=\"text-align: right;\">\n",
       "      <th>layer name</th>\n",
       "      <th>span_names</th>\n",
       "      <th>attributes</th>\n",
       "      <th>ambiguous</th>\n",
       "      <th>relation count</th>\n",
       "    </tr>\n",
       "  </thead>\n",
       "  <tbody>\n",
       "    <tr>\n",
       "      <td>semantic_roles</td>\n",
       "      <td>arg0, arg1, arg2, arg3, arg4, argm_mnr, argm_tmp, argm_loc</td>\n",
       "      <td>rel</td>\n",
       "      <td>False</td>\n",
       "      <td>3</td>\n",
       "    </tr>\n",
       "  </tbody>\n",
       "</table>\n",
       "<table border=\"1\" class=\"dataframe\">\n",
       "  <thead>\n",
       "    <tr style=\"text-align: right;\">\n",
       "      <th>arg0</th>\n",
       "      <th>arg1</th>\n",
       "      <th>arg2</th>\n",
       "      <th>arg3</th>\n",
       "      <th>arg4</th>\n",
       "      <th>argm_mnr</th>\n",
       "      <th>argm_tmp</th>\n",
       "      <th>argm_loc</th>\n",
       "      <th>rel</th>\n",
       "    </tr>\n",
       "  </thead>\n",
       "  <tbody>\n",
       "    <tr>\n",
       "      <td>President Bush</td>\n",
       "      <td>temaga</td>\n",
       "      <td>None</td>\n",
       "      <td>None</td>\n",
       "      <td>None</td>\n",
       "      <td>privaatselt</td>\n",
       "      <td>teisipäeval</td>\n",
       "      <td>Valges Majas</td>\n",
       "      <td>kohtumine</td>\n",
       "    </tr>\n",
       "    <tr>\n",
       "      <td>John</td>\n",
       "      <td>Mari</td>\n",
       "      <td>None</td>\n",
       "      <td>None</td>\n",
       "      <td>None</td>\n",
       "      <td>None</td>\n",
       "      <td>None</td>\n",
       "      <td>None</td>\n",
       "      <td>kohtumine</td>\n",
       "    </tr>\n",
       "    <tr>\n",
       "      <td>Mari</td>\n",
       "      <td>kokteili</td>\n",
       "      <td>None</td>\n",
       "      <td>None</td>\n",
       "      <td>Johnile</td>\n",
       "      <td>None</td>\n",
       "      <td>None</td>\n",
       "      <td>None</td>\n",
       "      <td>ostmine-NEG</td>\n",
       "    </tr>\n",
       "  </tbody>\n",
       "</table>"
      ],
      "text/plain": [
       "RelationsLayer(name='semantic_roles', span_names=('arg0', 'arg1', 'arg2', 'arg3', 'arg4', 'argm_mnr', 'argm_tmp', 'argm_loc'), attributes=('rel',), relations=[Relation([NamedSpan(arg0: 'President Bush'), NamedSpan(arg1: 'temaga'), NamedSpan(argm_mnr: 'privaatselt'), NamedSpan(argm_tmp: 'teisipäeval'), NamedSpan(argm_loc: 'Valges Majas')], [{'rel': 'kohtumine'}]), Relation([NamedSpan(arg0: 'John'), NamedSpan(arg1: 'Mari')], [{'rel': 'kohtumine'}]), Relation([NamedSpan(arg0: 'Mari'), NamedSpan(arg1: 'kokteili'), NamedSpan(arg4: 'Johnile')], [{'rel': 'ostmine-NEG'}])])"
      ]
     },
     "execution_count": 26,
     "metadata": {},
     "output_type": "execute_result"
    }
   ],
   "source": [
    "sem_roles_layer.add_annotation( {'arg0': (0, 14),  'arg1': (22, 28), 'argm_mnr': (29, 40), \n",
    "                                 'argm_loc': (41,53), 'argm_tmp': (54, 65), 'rel': 'kohtumine'} )\n",
    "sem_roles_layer.add_annotation( {'arg0': (71, 75), 'arg1': (79, 83), 'rel': 'kohtumine'} )\n",
    "sem_roles_layer.add_annotation( {'arg0': (114, 118), 'arg1': (137, 145), 'arg4': (129, 136), \n",
    "                                 'rel': 'ostmine-NEG'} )\n",
    "sem_roles_layer"
   ]
  },
  {
   "cell_type": "code",
   "execution_count": 27,
   "id": "1d4c1776",
   "metadata": {},
   "outputs": [
    {
     "data": {
      "text/plain": [
       "Relation([NamedSpan(arg0: 'President Bush'), NamedSpan(arg1: 'temaga'), NamedSpan(argm_mnr: 'privaatselt'), NamedSpan(argm_tmp: 'teisipäeval'), NamedSpan(argm_loc: 'Valges Majas')], [{'rel': 'kohtumine'}])"
      ]
     },
     "execution_count": 27,
     "metadata": {},
     "output_type": "execute_result"
    }
   ],
   "source": [
    "sem_roles_layer[0]"
   ]
  },
  {
   "cell_type": "code",
   "execution_count": 28,
   "id": "ccbc6fa6",
   "metadata": {},
   "outputs": [
    {
     "data": {
      "text/plain": [
       "[NamedSpan(arg0: 'President Bush'),\n",
       " NamedSpan(arg1: 'temaga'),\n",
       " NamedSpan(argm_mnr: 'privaatselt'),\n",
       " NamedSpan(argm_tmp: 'teisipäeval'),\n",
       " NamedSpan(argm_loc: 'Valges Majas')]"
      ]
     },
     "execution_count": 28,
     "metadata": {},
     "output_type": "execute_result"
    }
   ],
   "source": [
    "sem_roles_layer[0].spans"
   ]
  }
 ],
 "metadata": {
  "kernelspec": {
   "display_name": "Python 3 (ipykernel)",
   "language": "python",
   "name": "python3"
  },
  "language_info": {
   "codemirror_mode": {
    "name": "ipython",
    "version": 3
   },
   "file_extension": ".py",
   "mimetype": "text/x-python",
   "name": "python",
   "nbconvert_exporter": "python",
   "pygments_lexer": "ipython3",
   "version": "3.9.16"
  }
 },
 "nbformat": 4,
 "nbformat_minor": 5
}
