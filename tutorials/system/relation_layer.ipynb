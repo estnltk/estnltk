{
 "cells": [
  {
   "cell_type": "markdown",
   "id": "ad4e91d7",
   "metadata": {},
   "source": [
    "# RelationLayer\n",
    "\n",
    "RelationLayer is a new type of layer introduced in estntlk v1.7.2. \n",
    "It allows to store information about relations between entities mentioned in text, such as coreference relations between names and pronouns, or semantic roles/argument structures of verbs.\n",
    "\n",
    "Current limitations:\n",
    "* you cannot access attributes of foreign layers (such as lemmas from `morph_analysis`) directly via spans of relation layer;\n",
    "* `estnltk_core.layer_operations` do not support RelationLayer;\n",
    "* `estnltk.storage.postgres` does not support RelationLayer;\n"
   ]
  },
  {
   "cell_type": "markdown",
   "id": "ae51d758",
   "metadata": {},
   "source": [
    "### Example 1: coreference relations\n",
    "\n",
    "Essentially, RelationLayer is a collection of relations, and Relation is a set of named spans and annotations. "
   ]
  },
  {
   "cell_type": "code",
   "execution_count": 1,
   "id": "263ae33f",
   "metadata": {},
   "outputs": [],
   "source": [
    "from estnltk import Text\n",
    "from estnltk_core import RelationLayer"
   ]
  },
  {
   "cell_type": "code",
   "execution_count": 2,
   "id": "f234b18b",
   "metadata": {},
   "outputs": [],
   "source": [
    "text = Text('Mari kirjeldas õhinal, kuidas ta väiksena \"Sipsikut\" luges: '+\\\n",
    "'\"Ma ei suutnud seda raamatut kohe kuidagi käest ära panna! Nii põnev oli see!\"').tag_layer('words')"
   ]
  },
  {
   "cell_type": "code",
   "execution_count": 3,
   "id": "d8fe71ae",
   "metadata": {},
   "outputs": [],
   "source": [
    "# Get word span locations:\n",
    "#text.words[['start', 'end', 'text']]"
   ]
  },
  {
   "cell_type": "markdown",
   "id": "9e0d9fbd",
   "metadata": {},
   "source": [
    "Upon creating a RelationLayer, you need to define names for the spans, and names for the attributes.\n",
    "Span names are required, attribute names can also be skipped:"
   ]
  },
  {
   "cell_type": "code",
   "execution_count": 4,
   "id": "fa29e479",
   "metadata": {},
   "outputs": [],
   "source": [
    "coref_layer = RelationLayer('coreference', span_names=['mention', 'entity'], text_object=text)"
   ]
  },
  {
   "cell_type": "markdown",
   "id": "2e8fa0ba",
   "metadata": {},
   "source": [
    "Use add_annotation method to add new relation to the layer:"
   ]
  },
  {
   "cell_type": "code",
   "execution_count": 5,
   "id": "21fc7aea",
   "metadata": {},
   "outputs": [
    {
     "data": {
      "text/html": [
       "<h4>RelationLayer</h4>\n",
       "\n",
       "\n",
       "<table border=\"1\" class=\"dataframe\">\n",
       "  <thead>\n",
       "    <tr style=\"text-align: right;\">\n",
       "      <th>layer name</th>\n",
       "      <th>span_names</th>\n",
       "      <th>attributes</th>\n",
       "      <th>ambiguous</th>\n",
       "      <th>relation count</th>\n",
       "    </tr>\n",
       "  </thead>\n",
       "  <tbody>\n",
       "    <tr>\n",
       "      <td>coreference</td>\n",
       "      <td>mention, entity</td>\n",
       "      <td></td>\n",
       "      <td>False</td>\n",
       "      <td>4</td>\n",
       "    </tr>\n",
       "  </tbody>\n",
       "</table>\n",
       "<table border=\"1\" class=\"dataframe\">\n",
       "  <thead>\n",
       "    <tr style=\"text-align: right;\">\n",
       "      <th>mention</th>\n",
       "      <th>entity</th>\n",
       "    </tr>\n",
       "  </thead>\n",
       "  <tbody>\n",
       "    <tr>\n",
       "      <td>ta</td>\n",
       "      <td>Mari</td>\n",
       "    </tr>\n",
       "    <tr>\n",
       "      <td>Ma</td>\n",
       "      <td>Mari</td>\n",
       "    </tr>\n",
       "    <tr>\n",
       "      <td>seda raamatut</td>\n",
       "      <td>\"Sipsikut\"</td>\n",
       "    </tr>\n",
       "    <tr>\n",
       "      <td>see</td>\n",
       "      <td>\"Sipsikut\"</td>\n",
       "    </tr>\n",
       "  </tbody>\n",
       "</table>"
      ],
      "text/plain": [
       "RelationLayer(name='coreference', span_names=('mention', 'entity'), attributes=(), relations=[Relation([NamedSpan(mention: 'ta'), NamedSpan(entity: 'Mari')], [{}]), Relation([NamedSpan(mention: 'Ma'), NamedSpan(entity: 'Mari')], [{}]), Relation([NamedSpan(mention: 'seda raamatut'), NamedSpan(entity: '\"Sipsikut\"')], [{}]), Relation([NamedSpan(mention: 'see'), NamedSpan(entity: '\"Sipsikut\"')], [{}])])"
      ]
     },
     "execution_count": 5,
     "metadata": {},
     "output_type": "execute_result"
    }
   ],
   "source": [
    "# Add relation based on a dictionary\n",
    "coref_layer.add_annotation( {'mention': (30, 32), 'entity': (0, 4)} )\n",
    "coref_layer.add_annotation( {'mention': (61, 63), 'entity': (0, 4)} )\n",
    "# Or add relation by keyword arguments\n",
    "coref_layer.add_annotation( mention=(75, 88), entity=(42, 52) )\n",
    "coref_layer.add_annotation( mention=(133, 136), entity=(42, 52) )\n",
    "coref_layer"
   ]
  },
  {
   "cell_type": "markdown",
   "id": "d9e46805-b96b-4baa-9084-b39ae74071d0",
   "metadata": {},
   "source": [
    "#### Visualizing layer"
   ]
  },
  {
   "cell_type": "code",
   "execution_count": 6,
   "id": "4d4da9e8-4094-44fb-a2de-f3e441ac2e44",
   "metadata": {},
   "outputs": [
    {
     "data": {
      "text/html": [
       "<script>\n",
       "var elements = document.getElementsByClassName(\"overlapping-span\")\n",
       "for (let i = 0; i < elements.length; i++){\n",
       "    elements.item(i).addEventListener(\"click\",function() {show_conflicting_spans(elements.item(i));})}\n",
       "\n",
       "function show_conflicting_spans(span_element) {\n",
       "    let spantable = document.createElement('div')\n",
       "    spantable.classList.add('tables')\n",
       "\n",
       "    // Prepare the contents of the span table\n",
       "    data = span_element.getAttribute(\"span_info\")\n",
       "    data = data.split(\",\")\n",
       "    var spancontent = '<table>'\n",
       "    for (let row of data) {\n",
       "        spancontent+='<tr><td>'\n",
       "        spancontent+=row\n",
       "        spancontent+='</td></tr>'\n",
       "    }\n",
       "    spancontent += '</table>'\n",
       "    spantable.innerHTML = spancontent\n",
       "    span_element.parentElement.appendChild(spantable)\n",
       "\n",
       "    // Increase the size of the cell so the tables would fit\n",
       "    spantable.parentElement.style.height = Math.max(Number(spantable.parentElement.style.height.substring(0,spantable.parentElement.style.height.length-2)),span_element.offsetTop+90)+ 'px'\n",
       "    // Position the table directly below the corresponding text\n",
       "    spantable.style.left = span_element.getBoundingClientRect().left-spantable.parentElement.parentElement.getBoundingClientRect().left + 'px'\n",
       "    spantable.style.top = span_element.getBoundingClientRect().top-spantable.parentElement.parentElement.getBoundingClientRect().top+20+ 'px'\n",
       "\n",
       "    // Remove the table when clicked on again\n",
       "    spantable.addEventListener('click', function () {\n",
       "        let element = this.parentElement\n",
       "        element.removeChild(this)\n",
       "    })\n",
       "}\n",
       "</script><style>\n",
       ".span {\n",
       "    background-color: yellow;\n",
       "}\n",
       "\n",
       ".overlapping-span {\n",
       "    background-color: red;\n",
       "}\n",
       "\n",
       ".spanline {\n",
       "    background-color: blue;\n",
       "    position: relative;\n",
       "    height: 3px;\n",
       "    margin-left: 0px;\n",
       "}\n",
       "\n",
       ".tables {\n",
       "    position: absolute;\n",
       "    width: fit-content;\n",
       "    width: -moz-fit-content;\n",
       "    border: 1px solid black;\n",
       "}\n",
       "\n",
       ".maintext{0} {\n",
       "    position: relative;\n",
       "}\n",
       "\n",
       ".tables tbody tr:nth-child(even) {\n",
       "    background-color: lightgray;\n",
       "}\n",
       "\n",
       ".tables tbody tr:nth-child(odd) {\n",
       "    background-color: beige;\n",
       "}\n",
       "\n",
       ".tables tbody tr:hover {\n",
       "    background-color: ivory;\n",
       "}\n",
       "</style><span style=\"background:#FFCC00;\" span_info=Mari,Mari>Mari</span><sup style=\"font-size:75%\">entity(0), entity(1)</sup> kirjeldas õhinal, kuidas <span style=\"background:yellow;\">ta</span><sup style=\"font-size:75%\">mention(0)</sup> väiksena <span style=\"background:#FFCC00;\" span_info=\"Sipsikut\",\"Sipsikut\">\"Sipsikut\"</span><sup style=\"font-size:75%\">entity(2), entity(3)</sup> luges: \"<span style=\"background:yellow;\">Ma</span><sup style=\"font-size:75%\">mention(1)</sup> ei suutnud <span style=\"background:yellow;\">seda raamatut</span><sup style=\"font-size:75%\">mention(2)</sup> kohe kuidagi käest ära panna! Nii põnev oli <span style=\"background:yellow;\">see</span><sup style=\"font-size:75%\">mention(3)</sup>!\""
      ]
     },
     "metadata": {},
     "output_type": "display_data"
    }
   ],
   "source": [
    "# Display named spans with their respective relation id-s\n",
    "# (This is available from EstNLTK v1.7.3)\n",
    "coref_layer.display()"
   ]
  },
  {
   "cell_type": "markdown",
   "id": "fb0e5804",
   "metadata": {},
   "source": [
    "#### Accessing layer"
   ]
  },
  {
   "cell_type": "code",
   "execution_count": 7,
   "id": "6649e17f",
   "metadata": {},
   "outputs": [
    {
     "data": {
      "text/plain": [
       "('mention', 'entity')"
      ]
     },
     "execution_count": 7,
     "metadata": {},
     "output_type": "execute_result"
    }
   ],
   "source": [
    "# Access span names\n",
    "coref_layer.span_names"
   ]
  },
  {
   "cell_type": "code",
   "execution_count": 8,
   "id": "38c464c1",
   "metadata": {},
   "outputs": [
    {
     "data": {
      "text/plain": [
       "()"
      ]
     },
     "execution_count": 8,
     "metadata": {},
     "output_type": "execute_result"
    }
   ],
   "source": [
    "# Access attribute names (if defined)\n",
    "coref_layer.attributes"
   ]
  },
  {
   "cell_type": "code",
   "execution_count": 9,
   "id": "d386e460",
   "metadata": {},
   "outputs": [
    {
     "data": {
      "text/plain": [
       "Relation([NamedSpan(mention: 'ta'), NamedSpan(entity: 'Mari')], [{}])"
      ]
     },
     "execution_count": 9,
     "metadata": {},
     "output_type": "execute_result"
    }
   ],
   "source": [
    "# use numeric indexes to access relations\n",
    "coref_layer[0]"
   ]
  },
  {
   "cell_type": "code",
   "execution_count": 10,
   "id": "26370efb",
   "metadata": {},
   "outputs": [
    {
     "name": "stdout",
     "output_type": "stream",
     "text": [
      "Relation([NamedSpan(mention: 'ta'), NamedSpan(entity: 'Mari')], [{}])\n",
      "Relation([NamedSpan(mention: 'Ma'), NamedSpan(entity: 'Mari')], [{}])\n",
      "Relation([NamedSpan(mention: 'seda raamatut'), NamedSpan(entity: '\"Sipsikut\"')], [{}])\n",
      "Relation([NamedSpan(mention: 'see'), NamedSpan(entity: '\"Sipsikut\"')], [{}])\n"
     ]
    }
   ],
   "source": [
    "# or iterate over all relations\n",
    "for relation in coref_layer:\n",
    "    print(relation)"
   ]
  },
  {
   "cell_type": "code",
   "execution_count": 11,
   "id": "5342a2f1",
   "metadata": {},
   "outputs": [
    {
     "data": {
      "text/plain": [
       "NamedSpan(mention: 'ta')"
      ]
     },
     "execution_count": 11,
     "metadata": {},
     "output_type": "execute_result"
    }
   ],
   "source": [
    "coref_layer[0].mention"
   ]
  },
  {
   "cell_type": "code",
   "execution_count": 12,
   "id": "71f1092a",
   "metadata": {},
   "outputs": [
    {
     "data": {
      "text/plain": [
       "'ta'"
      ]
     },
     "execution_count": 12,
     "metadata": {},
     "output_type": "execute_result"
    }
   ],
   "source": [
    "coref_layer[0].mention.text"
   ]
  },
  {
   "cell_type": "code",
   "execution_count": 13,
   "id": "4b6c3f0b",
   "metadata": {},
   "outputs": [
    {
     "data": {
      "text/plain": [
       "(30, 32)"
      ]
     },
     "execution_count": 13,
     "metadata": {},
     "output_type": "execute_result"
    }
   ],
   "source": [
    "coref_layer[0].mention.start, coref_layer[0].mention.end"
   ]
  },
  {
   "cell_type": "code",
   "execution_count": 14,
   "id": "9f52f421",
   "metadata": {},
   "outputs": [
    {
     "data": {
      "text/plain": [
       "['ta', 'Mari']"
      ]
     },
     "execution_count": 14,
     "metadata": {},
     "output_type": "execute_result"
    }
   ],
   "source": [
    "coref_layer[0].text"
   ]
  },
  {
   "cell_type": "code",
   "execution_count": 15,
   "id": "0bdfe999",
   "metadata": {},
   "outputs": [
    {
     "data": {
      "text/plain": [
       "[[NamedSpan(mention: 'ta')],\n",
       " [NamedSpan(mention: 'Ma')],\n",
       " [NamedSpan(mention: 'seda raamatut')],\n",
       " [NamedSpan(mention: 'see')]]"
      ]
     },
     "execution_count": 15,
     "metadata": {},
     "output_type": "execute_result"
    }
   ],
   "source": [
    "# get all mentions\n",
    "coref_layer[['mention']]"
   ]
  },
  {
   "cell_type": "code",
   "execution_count": 16,
   "id": "2fcba15f",
   "metadata": {},
   "outputs": [
    {
     "data": {
      "text/plain": [
       "[[NamedSpan(entity: 'Mari')],\n",
       " [NamedSpan(entity: 'Mari')],\n",
       " [NamedSpan(entity: '\"Sipsikut\"')],\n",
       " [NamedSpan(entity: '\"Sipsikut\"')]]"
      ]
     },
     "execution_count": 16,
     "metadata": {},
     "output_type": "execute_result"
    }
   ],
   "source": [
    "# get all entities\n",
    "coref_layer[['entity']]"
   ]
  },
  {
   "cell_type": "markdown",
   "id": "aa2cd46c",
   "metadata": {},
   "source": [
    "#### Accessing other layers"
   ]
  },
  {
   "cell_type": "code",
   "execution_count": 17,
   "id": "ab473381",
   "metadata": {},
   "outputs": [],
   "source": [
    "# Add morph_analysis layer\n",
    "text = text.tag_layer('morph_analysis')"
   ]
  },
  {
   "cell_type": "markdown",
   "id": "12fa931d",
   "metadata": {},
   "source": [
    "Currently, you can access annotations from other layers via base spans:"
   ]
  },
  {
   "cell_type": "code",
   "execution_count": 18,
   "id": "d95b06ec",
   "metadata": {},
   "outputs": [
    {
     "data": {
      "text/html": [
       "<h4>AttributeList (annotations)</h4>\n",
       "<table border=\"1\" class=\"dataframe\">\n",
       "  <thead>\n",
       "    <tr style=\"text-align: right;\">\n",
       "      <th></th>\n",
       "      <th>lemma</th>\n",
       "    </tr>\n",
       "  </thead>\n",
       "  <tbody>\n",
       "    <tr>\n",
       "      <td>0</td>\n",
       "      <td>tema</td>\n",
       "    </tr>\n",
       "  </tbody>\n",
       "</table>"
      ],
      "text/plain": [
       "AttributeList(['tema'], ('lemma',))"
      ]
     },
     "execution_count": 18,
     "metadata": {},
     "output_type": "execute_result"
    }
   ],
   "source": [
    "# Get lemma of first mention\n",
    "text['morph_analysis'].get( coref_layer[0].mention.base_span ).lemma"
   ]
  },
  {
   "cell_type": "code",
   "execution_count": 19,
   "id": "5dae60e3",
   "metadata": {},
   "outputs": [
    {
     "data": {
      "text/html": [
       "<h4>AttributeList (annotations)</h4>\n",
       "<table border=\"1\" class=\"dataframe\">\n",
       "  <thead>\n",
       "    <tr style=\"text-align: right;\">\n",
       "      <th></th>\n",
       "      <th>lemma</th>\n",
       "    </tr>\n",
       "  </thead>\n",
       "  <tbody>\n",
       "    <tr>\n",
       "      <td>0</td>\n",
       "      <td>mari</td>\n",
       "    </tr>\n",
       "  </tbody>\n",
       "</table>"
      ],
      "text/plain": [
       "AttributeList(['mari'], ('lemma',))"
      ]
     },
     "execution_count": 19,
     "metadata": {},
     "output_type": "execute_result"
    }
   ],
   "source": [
    "# Get lemma of first entity\n",
    "text['morph_analysis'].get( coref_layer[0].entity.base_span ).lemma"
   ]
  },
  {
   "cell_type": "markdown",
   "id": "3098c6c4",
   "metadata": {},
   "source": [
    "But this only works for named spans that have exactly corresponding spans on the other layer. "
   ]
  },
  {
   "cell_type": "code",
   "execution_count": 20,
   "id": "c6220840",
   "metadata": {},
   "outputs": [
    {
     "name": "stdout",
     "output_type": "stream",
     "text": [
      "NamedSpan(mention: 'ta') -> ['tema']  | NamedSpan(entity: 'Mari') -> ['mari']\n",
      "NamedSpan(mention: 'Ma') -> ['mina']  | NamedSpan(entity: 'Mari') -> ['mari']\n",
      "NamedSpan(mention: 'seda raamatut') -> lemma not found  | NamedSpan(entity: '\"Sipsikut\"') -> lemma not found\n",
      "NamedSpan(mention: 'see') -> ['see']  | NamedSpan(entity: '\"Sipsikut\"') -> lemma not found\n"
     ]
    }
   ],
   "source": [
    "# Get lemmas for all relations (first attempt)\n",
    "for relation in coref_layer:\n",
    "    mention_morph_span = text['morph_analysis'].get( relation.mention.base_span )\n",
    "    entity_morph_span  = text['morph_analysis'].get( relation.entity.base_span )\n",
    "    if mention_morph_span is not None:\n",
    "        print(relation.mention, '->', mention_morph_span.lemma, end='  | ')\n",
    "    else:\n",
    "        print(relation.mention, '-> lemma not found', end='  | ')\n",
    "    if entity_morph_span is not None:\n",
    "        print(relation.entity, '->', entity_morph_span.lemma)\n",
    "    else:\n",
    "        print(relation.entity, '-> lemma not found',)"
   ]
  },
  {
   "cell_type": "markdown",
   "id": "7a386ba6",
   "metadata": {},
   "source": [
    "If a named span covers multiple spans on the other layer, then overlapping spans need to be detected via start/end indexes of  comparable spans:"
   ]
  },
  {
   "cell_type": "code",
   "execution_count": 21,
   "id": "4c5c7171",
   "metadata": {},
   "outputs": [
    {
     "name": "stdout",
     "output_type": "stream",
     "text": [
      "NamedSpan(mention: 'ta') -> ['tema']  | NamedSpan(entity: 'Mari') -> ['mari']\n",
      "NamedSpan(mention: 'Ma') -> ['mina']  | NamedSpan(entity: 'Mari') -> ['mari']\n",
      "NamedSpan(mention: 'seda raamatut') -> ['see', 'raamat']  | NamedSpan(entity: '\"Sipsikut\"') -> ['\"', 'sipsik', '\"']\n",
      "NamedSpan(mention: 'see') -> ['see']  | NamedSpan(entity: '\"Sipsikut\"') -> ['\"', 'sipsik', '\"']\n"
     ]
    }
   ],
   "source": [
    "def get_overlapping_spans( named_span, morph_layer ):\n",
    "    return [span for span in morph_layer if named_span.start <= span.start and span.end <= named_span.end]\n",
    "\n",
    "# Get lemmas for all relations (second attempt -- also detects partially overlapping phrases)\n",
    "for relation in coref_layer:\n",
    "    mention_morph_spans = get_overlapping_spans( relation.mention, text['morph_analysis'] )\n",
    "    entity_morph_spans  = get_overlapping_spans( relation.entity, text['morph_analysis'] )\n",
    "    if mention_morph_spans:\n",
    "        print(relation.mention, '->', [sp.lemma[0] for sp in mention_morph_spans], end='  | ')\n",
    "    else:\n",
    "        print(relation.mention, '-> lemma not found', end='  | ')\n",
    "    if entity_morph_spans:\n",
    "        print(relation.entity, '->', [sp.lemma[0] for sp in entity_morph_spans])\n",
    "    else:\n",
    "        print(relation.entity, '-> lemma not found',)"
   ]
  },
  {
   "cell_type": "markdown",
   "id": "2980f0bf",
   "metadata": {},
   "source": [
    "### Example 2: temporal relations"
   ]
  },
  {
   "cell_type": "code",
   "execution_count": 22,
   "id": "4cb441da",
   "metadata": {},
   "outputs": [],
   "source": [
    "from estnltk import Text\n",
    "from estnltk_core import RelationLayer"
   ]
  },
  {
   "cell_type": "code",
   "execution_count": 23,
   "id": "e650e8ed",
   "metadata": {},
   "outputs": [],
   "source": [
    "text = Text('Pühapäeva varahommikul kutsuti politsei Riia mäele. '+\\\n",
    "'Seal oli ühelt noorelt mehelt ära võetud nahktagi ja käekell. '+\\\n",
    "'Juhtumi kohta algatati uurimine.').tag_layer('words')"
   ]
  },
  {
   "cell_type": "code",
   "execution_count": 24,
   "id": "a29552af",
   "metadata": {},
   "outputs": [],
   "source": [
    "# Get word span locations:\n",
    "#text.words[['start', 'end', 'text']]"
   ]
  },
  {
   "cell_type": "code",
   "execution_count": 25,
   "id": "d690a87a",
   "metadata": {},
   "outputs": [],
   "source": [
    "tlinks_layer = RelationLayer('temporal_relations', span_names=['entity_a', 'entity_b'], \n",
    "                                                   attributes=['rel_type'], text_object=text)"
   ]
  },
  {
   "cell_type": "code",
   "execution_count": 26,
   "id": "6aee798a",
   "metadata": {},
   "outputs": [
    {
     "data": {
      "text/plain": [
       "('entity_a', 'entity_b')"
      ]
     },
     "execution_count": 26,
     "metadata": {},
     "output_type": "execute_result"
    }
   ],
   "source": [
    "# Access span names\n",
    "tlinks_layer.span_names"
   ]
  },
  {
   "cell_type": "code",
   "execution_count": 27,
   "id": "459140c2",
   "metadata": {},
   "outputs": [
    {
     "data": {
      "text/plain": [
       "('rel_type',)"
      ]
     },
     "execution_count": 27,
     "metadata": {},
     "output_type": "execute_result"
    }
   ],
   "source": [
    "# Access attribute names\n",
    "tlinks_layer.attributes"
   ]
  },
  {
   "cell_type": "code",
   "execution_count": 28,
   "id": "1c69649b",
   "metadata": {},
   "outputs": [
    {
     "data": {
      "text/html": [
       "<h4>RelationLayer</h4>\n",
       "\n",
       "\n",
       "<table border=\"1\" class=\"dataframe\">\n",
       "  <thead>\n",
       "    <tr style=\"text-align: right;\">\n",
       "      <th>layer name</th>\n",
       "      <th>span_names</th>\n",
       "      <th>attributes</th>\n",
       "      <th>ambiguous</th>\n",
       "      <th>relation count</th>\n",
       "    </tr>\n",
       "  </thead>\n",
       "  <tbody>\n",
       "    <tr>\n",
       "      <td>temporal_relations</td>\n",
       "      <td>entity_a, entity_b</td>\n",
       "      <td>rel_type</td>\n",
       "      <td>False</td>\n",
       "      <td>4</td>\n",
       "    </tr>\n",
       "  </tbody>\n",
       "</table>\n",
       "<table border=\"1\" class=\"dataframe\">\n",
       "  <thead>\n",
       "    <tr style=\"text-align: right;\">\n",
       "      <th>entity_a</th>\n",
       "      <th>entity_b</th>\n",
       "      <th>rel_type</th>\n",
       "    </tr>\n",
       "  </thead>\n",
       "  <tbody>\n",
       "    <tr>\n",
       "      <td>Pühapäeva varahommikul</td>\n",
       "      <td>kutsuti</td>\n",
       "      <td>INCLUDES</td>\n",
       "    </tr>\n",
       "    <tr>\n",
       "      <td>ära võetud</td>\n",
       "      <td>kutsuti</td>\n",
       "      <td>BEFORE</td>\n",
       "    </tr>\n",
       "    <tr>\n",
       "      <td>ära võetud</td>\n",
       "      <td>Juhtumi</td>\n",
       "      <td>IDENTITY</td>\n",
       "    </tr>\n",
       "    <tr>\n",
       "      <td>ära võetud</td>\n",
       "      <td>algatati uurimine</td>\n",
       "      <td>BEFORE</td>\n",
       "    </tr>\n",
       "  </tbody>\n",
       "</table>"
      ],
      "text/plain": [
       "RelationLayer(name='temporal_relations', span_names=('entity_a', 'entity_b'), attributes=('rel_type',), relations=[Relation([NamedSpan(entity_a: 'Pühapäeva varahommikul'), NamedSpan(entity_b: 'kutsuti')], [{'rel_type': 'INCLUDES'}]), Relation([NamedSpan(entity_a: 'ära võetud'), NamedSpan(entity_b: 'kutsuti')], [{'rel_type': 'BEFORE'}]), Relation([NamedSpan(entity_a: 'ära võetud'), NamedSpan(entity_b: 'Juhtumi')], [{'rel_type': 'IDENTITY'}]), Relation([NamedSpan(entity_a: 'ära võetud'), NamedSpan(entity_b: 'algatati uurimine')], [{'rel_type': 'BEFORE'}])])"
      ]
     },
     "execution_count": 28,
     "metadata": {},
     "output_type": "execute_result"
    }
   ],
   "source": [
    "# Add relation based on a dictionary\n",
    "tlinks_layer.add_annotation( {'entity_a': (0, 22),  'entity_b': (23, 30),   'rel_type': 'INCLUDES'} )\n",
    "tlinks_layer.add_annotation( {'entity_a': (82, 92), 'entity_b': (23, 30),   'rel_type': 'BEFORE'} )\n",
    "# Or add relation by keyword arguments\n",
    "tlinks_layer.add_annotation( entity_a=(82, 92), entity_b=(114, 121), rel_type='IDENTITY' )\n",
    "tlinks_layer.add_annotation( entity_a=(82, 92), entity_b=(128, 145), rel_type='BEFORE' )\n",
    "tlinks_layer"
   ]
  },
  {
   "cell_type": "code",
   "execution_count": 29,
   "id": "29eb243d",
   "metadata": {},
   "outputs": [
    {
     "data": {
      "text/plain": [
       "Relation([NamedSpan(entity_a: 'Pühapäeva varahommikul'), NamedSpan(entity_b: 'kutsuti')], [{'rel_type': 'INCLUDES'}])"
      ]
     },
     "execution_count": 29,
     "metadata": {},
     "output_type": "execute_result"
    }
   ],
   "source": [
    "tlinks_layer[0]"
   ]
  },
  {
   "cell_type": "code",
   "execution_count": 30,
   "id": "5230e69e",
   "metadata": {},
   "outputs": [
    {
     "data": {
      "text/plain": [
       "'INCLUDES'"
      ]
     },
     "execution_count": 30,
     "metadata": {},
     "output_type": "execute_result"
    }
   ],
   "source": [
    "tlinks_layer[0]['rel_type']"
   ]
  },
  {
   "cell_type": "code",
   "execution_count": 31,
   "id": "47a36f4e-0eb8-4a31-93c1-2b2e5550a226",
   "metadata": {},
   "outputs": [
    {
     "data": {
      "text/html": [
       "<script>\n",
       "var elements = document.getElementsByClassName(\"overlapping-span\")\n",
       "for (let i = 0; i < elements.length; i++){\n",
       "    elements.item(i).addEventListener(\"click\",function() {show_conflicting_spans(elements.item(i));})}\n",
       "\n",
       "function show_conflicting_spans(span_element) {\n",
       "    let spantable = document.createElement('div')\n",
       "    spantable.classList.add('tables')\n",
       "\n",
       "    // Prepare the contents of the span table\n",
       "    data = span_element.getAttribute(\"span_info\")\n",
       "    data = data.split(\",\")\n",
       "    var spancontent = '<table>'\n",
       "    for (let row of data) {\n",
       "        spancontent+='<tr><td>'\n",
       "        spancontent+=row\n",
       "        spancontent+='</td></tr>'\n",
       "    }\n",
       "    spancontent += '</table>'\n",
       "    spantable.innerHTML = spancontent\n",
       "    span_element.parentElement.appendChild(spantable)\n",
       "\n",
       "    // Increase the size of the cell so the tables would fit\n",
       "    spantable.parentElement.style.height = Math.max(Number(spantable.parentElement.style.height.substring(0,spantable.parentElement.style.height.length-2)),span_element.offsetTop+90)+ 'px'\n",
       "    // Position the table directly below the corresponding text\n",
       "    spantable.style.left = span_element.getBoundingClientRect().left-spantable.parentElement.parentElement.getBoundingClientRect().left + 'px'\n",
       "    spantable.style.top = span_element.getBoundingClientRect().top-spantable.parentElement.parentElement.getBoundingClientRect().top+20+ 'px'\n",
       "\n",
       "    // Remove the table when clicked on again\n",
       "    spantable.addEventListener('click', function () {\n",
       "        let element = this.parentElement\n",
       "        element.removeChild(this)\n",
       "    })\n",
       "}\n",
       "</script><style>\n",
       ".span {\n",
       "    background-color: yellow;\n",
       "}\n",
       "\n",
       ".overlapping-span {\n",
       "    background-color: red;\n",
       "}\n",
       "\n",
       ".spanline {\n",
       "    background-color: blue;\n",
       "    position: relative;\n",
       "    height: 3px;\n",
       "    margin-left: 0px;\n",
       "}\n",
       "\n",
       ".tables {\n",
       "    position: absolute;\n",
       "    width: fit-content;\n",
       "    width: -moz-fit-content;\n",
       "    border: 1px solid black;\n",
       "}\n",
       "\n",
       ".maintext{0} {\n",
       "    position: relative;\n",
       "}\n",
       "\n",
       ".tables tbody tr:nth-child(even) {\n",
       "    background-color: lightgray;\n",
       "}\n",
       "\n",
       ".tables tbody tr:nth-child(odd) {\n",
       "    background-color: beige;\n",
       "}\n",
       "\n",
       ".tables tbody tr:hover {\n",
       "    background-color: ivory;\n",
       "}\n",
       "</style><span style=\"background:yellow;\">Pühapäeva varahommikul</span><sup style=\"font-size:75%\">entity_a(0)</sup> <span style=\"background:#FFCC00;\" span_info=kutsuti,kutsuti>kutsuti</span><sup style=\"font-size:75%\">entity_b(0), entity_b(1)</sup> politsei Riia mäele. Seal oli ühelt noorelt mehelt <span style=\"background:#FFCC00;\" span_info=ära võetud,ära võetud,ära võetud>ära võetud</span><sup style=\"font-size:75%\">entity_a(1), entity_a(2), entity_a(3)</sup> nahktagi ja käekell. <span style=\"background:yellow;\">Juhtumi</span><sup style=\"font-size:75%\">entity_b(2)</sup> kohta <span style=\"background:yellow;\">algatati uurimine</span><sup style=\"font-size:75%\">entity_b(3)</sup>."
      ]
     },
     "metadata": {},
     "output_type": "display_data"
    }
   ],
   "source": [
    "# Display named spans with their respective relation id-s\n",
    "tlinks_layer.display()"
   ]
  },
  {
   "cell_type": "markdown",
   "id": "41a04704",
   "metadata": {},
   "source": [
    "### Example 3: semantic roles"
   ]
  },
  {
   "cell_type": "code",
   "execution_count": 32,
   "id": "9191c888",
   "metadata": {},
   "outputs": [],
   "source": [
    "from estnltk import Text\n",
    "from estnltk_core import RelationLayer"
   ]
  },
  {
   "cell_type": "code",
   "execution_count": 33,
   "id": "59f42e82",
   "metadata": {},
   "outputs": [],
   "source": [
    "text = Text('President Bush kohtus temaga privaatselt Valges Majas teisipäeval. '+\\\n",
    "'Aga John ja Mari kohtusid hoopis kokteilipeol. '+\\\n",
    "'Mari ei ostnud Johnile kokteili.').tag_layer('words')"
   ]
  },
  {
   "cell_type": "code",
   "execution_count": 34,
   "id": "fec5bd74",
   "metadata": {},
   "outputs": [],
   "source": [
    "# Get word span locations:\n",
    "#text.words[['start', 'end', 'text']]"
   ]
  },
  {
   "cell_type": "markdown",
   "id": "943c8a30",
   "metadata": {},
   "source": [
    "You can also define more span names than only the minimal set to be used in every relation. \n",
    "Some of the named spans can be filled out only in specific contexts. \n",
    "Next, we follow the example of English PropBank guidelines and define a layer of semantic roles, which has slots/placeholders for different arguments. \n",
    "However, whether an argument is realized or not, depends on the context:"
   ]
  },
  {
   "cell_type": "code",
   "execution_count": 35,
   "id": "59302c08",
   "metadata": {},
   "outputs": [],
   "source": [
    "sem_roles_layer = RelationLayer('semantic_roles', span_names=['arg0', 'arg1', 'arg2', 'arg3', \n",
    "                                                              'arg4', 'argm_mnr', 'argm_tmp', \n",
    "                                                              'argm_loc'], \n",
    "                                                  attributes=['rel'], text_object=text)\n",
    "# Based on PropBank English guidelines:\n",
    "# ARG0 -- agent\n",
    "# ARG1 -- patient \n",
    "# ARG2 -- instrument, benefactive, attribute \n",
    "# ARG3 -- starting point, benefactive, attribute\n",
    "# ARG4 -- ending point, beneficiary\n",
    "# ARGM -- modifier (manner, time, location)"
   ]
  },
  {
   "cell_type": "code",
   "execution_count": 36,
   "id": "47710681",
   "metadata": {},
   "outputs": [
    {
     "data": {
      "text/html": [
       "<h4>RelationLayer</h4>\n",
       "\n",
       "\n",
       "<table border=\"1\" class=\"dataframe\">\n",
       "  <thead>\n",
       "    <tr style=\"text-align: right;\">\n",
       "      <th>layer name</th>\n",
       "      <th>span_names</th>\n",
       "      <th>attributes</th>\n",
       "      <th>ambiguous</th>\n",
       "      <th>relation count</th>\n",
       "    </tr>\n",
       "  </thead>\n",
       "  <tbody>\n",
       "    <tr>\n",
       "      <td>semantic_roles</td>\n",
       "      <td>arg0, arg1, arg2, arg3, arg4, argm_mnr, argm_tmp, argm_loc</td>\n",
       "      <td>rel</td>\n",
       "      <td>False</td>\n",
       "      <td>3</td>\n",
       "    </tr>\n",
       "  </tbody>\n",
       "</table>\n",
       "<table border=\"1\" class=\"dataframe\">\n",
       "  <thead>\n",
       "    <tr style=\"text-align: right;\">\n",
       "      <th>arg0</th>\n",
       "      <th>arg1</th>\n",
       "      <th>arg2</th>\n",
       "      <th>arg3</th>\n",
       "      <th>arg4</th>\n",
       "      <th>argm_mnr</th>\n",
       "      <th>argm_tmp</th>\n",
       "      <th>argm_loc</th>\n",
       "      <th>rel</th>\n",
       "    </tr>\n",
       "  </thead>\n",
       "  <tbody>\n",
       "    <tr>\n",
       "      <td>President Bush</td>\n",
       "      <td>temaga</td>\n",
       "      <td>None</td>\n",
       "      <td>None</td>\n",
       "      <td>None</td>\n",
       "      <td>privaatselt</td>\n",
       "      <td>teisipäeval</td>\n",
       "      <td>Valges Majas</td>\n",
       "      <td>kohtumine</td>\n",
       "    </tr>\n",
       "    <tr>\n",
       "      <td>John</td>\n",
       "      <td>Mari</td>\n",
       "      <td>None</td>\n",
       "      <td>None</td>\n",
       "      <td>None</td>\n",
       "      <td>None</td>\n",
       "      <td>None</td>\n",
       "      <td>None</td>\n",
       "      <td>kohtumine</td>\n",
       "    </tr>\n",
       "    <tr>\n",
       "      <td>Mari</td>\n",
       "      <td>kokteili</td>\n",
       "      <td>None</td>\n",
       "      <td>None</td>\n",
       "      <td>Johnile</td>\n",
       "      <td>None</td>\n",
       "      <td>None</td>\n",
       "      <td>None</td>\n",
       "      <td>ostmine-NEG</td>\n",
       "    </tr>\n",
       "  </tbody>\n",
       "</table>"
      ],
      "text/plain": [
       "RelationLayer(name='semantic_roles', span_names=('arg0', 'arg1', 'arg2', 'arg3', 'arg4', 'argm_mnr', 'argm_tmp', 'argm_loc'), attributes=('rel',), relations=[Relation([NamedSpan(arg0: 'President Bush'), NamedSpan(arg1: 'temaga'), NamedSpan(argm_mnr: 'privaatselt'), NamedSpan(argm_tmp: 'teisipäeval'), NamedSpan(argm_loc: 'Valges Majas')], [{'rel': 'kohtumine'}]), Relation([NamedSpan(arg0: 'John'), NamedSpan(arg1: 'Mari')], [{'rel': 'kohtumine'}]), Relation([NamedSpan(arg0: 'Mari'), NamedSpan(arg1: 'kokteili'), NamedSpan(arg4: 'Johnile')], [{'rel': 'ostmine-NEG'}])])"
      ]
     },
     "execution_count": 36,
     "metadata": {},
     "output_type": "execute_result"
    }
   ],
   "source": [
    "sem_roles_layer.add_annotation( {'arg0': (0, 14),  'arg1': (22, 28), 'argm_mnr': (29, 40), \n",
    "                                 'argm_loc': (41,53), 'argm_tmp': (54, 65), 'rel': 'kohtumine'} )\n",
    "sem_roles_layer.add_annotation( {'arg0': (71, 75), 'arg1': (79, 83), 'rel': 'kohtumine'} )\n",
    "sem_roles_layer.add_annotation( {'arg0': (114, 118), 'arg1': (137, 145), 'arg4': (129, 136), \n",
    "                                 'rel': 'ostmine-NEG'} )\n",
    "sem_roles_layer"
   ]
  },
  {
   "cell_type": "code",
   "execution_count": 37,
   "id": "561f498f-b1b2-4386-9eb3-b21a779f281b",
   "metadata": {},
   "outputs": [
    {
     "data": {
      "text/html": [
       "<script>\n",
       "var elements = document.getElementsByClassName(\"overlapping-span\")\n",
       "for (let i = 0; i < elements.length; i++){\n",
       "    elements.item(i).addEventListener(\"click\",function() {show_conflicting_spans(elements.item(i));})}\n",
       "\n",
       "function show_conflicting_spans(span_element) {\n",
       "    let spantable = document.createElement('div')\n",
       "    spantable.classList.add('tables')\n",
       "\n",
       "    // Prepare the contents of the span table\n",
       "    data = span_element.getAttribute(\"span_info\")\n",
       "    data = data.split(\",\")\n",
       "    var spancontent = '<table>'\n",
       "    for (let row of data) {\n",
       "        spancontent+='<tr><td>'\n",
       "        spancontent+=row\n",
       "        spancontent+='</td></tr>'\n",
       "    }\n",
       "    spancontent += '</table>'\n",
       "    spantable.innerHTML = spancontent\n",
       "    span_element.parentElement.appendChild(spantable)\n",
       "\n",
       "    // Increase the size of the cell so the tables would fit\n",
       "    spantable.parentElement.style.height = Math.max(Number(spantable.parentElement.style.height.substring(0,spantable.parentElement.style.height.length-2)),span_element.offsetTop+90)+ 'px'\n",
       "    // Position the table directly below the corresponding text\n",
       "    spantable.style.left = span_element.getBoundingClientRect().left-spantable.parentElement.parentElement.getBoundingClientRect().left + 'px'\n",
       "    spantable.style.top = span_element.getBoundingClientRect().top-spantable.parentElement.parentElement.getBoundingClientRect().top+20+ 'px'\n",
       "\n",
       "    // Remove the table when clicked on again\n",
       "    spantable.addEventListener('click', function () {\n",
       "        let element = this.parentElement\n",
       "        element.removeChild(this)\n",
       "    })\n",
       "}\n",
       "</script><style>\n",
       ".span {\n",
       "    background-color: yellow;\n",
       "}\n",
       "\n",
       ".overlapping-span {\n",
       "    background-color: red;\n",
       "}\n",
       "\n",
       ".spanline {\n",
       "    background-color: blue;\n",
       "    position: relative;\n",
       "    height: 3px;\n",
       "    margin-left: 0px;\n",
       "}\n",
       "\n",
       ".tables {\n",
       "    position: absolute;\n",
       "    width: fit-content;\n",
       "    width: -moz-fit-content;\n",
       "    border: 1px solid black;\n",
       "}\n",
       "\n",
       ".maintext{0} {\n",
       "    position: relative;\n",
       "}\n",
       "\n",
       ".tables tbody tr:nth-child(even) {\n",
       "    background-color: lightgray;\n",
       "}\n",
       "\n",
       ".tables tbody tr:nth-child(odd) {\n",
       "    background-color: beige;\n",
       "}\n",
       "\n",
       ".tables tbody tr:hover {\n",
       "    background-color: ivory;\n",
       "}\n",
       "</style><span style=\"background:yellow;\">President Bush</span><sup style=\"font-size:75%\">arg0(0)</sup> kohtus <span style=\"background:yellow;\">temaga</span><sup style=\"font-size:75%\">arg1(0)</sup> <span style=\"background:yellow;\">privaatselt</span><sup style=\"font-size:75%\">argm_mnr(0)</sup> <span style=\"background:yellow;\">Valges Majas</span><sup style=\"font-size:75%\">argm_loc(0)</sup> <span style=\"background:yellow;\">teisipäeval</span><sup style=\"font-size:75%\">argm_tmp(0)</sup>. Aga <span style=\"background:yellow;\">John</span><sup style=\"font-size:75%\">arg0(1)</sup> ja <span style=\"background:yellow;\">Mari</span><sup style=\"font-size:75%\">arg1(1)</sup> kohtusid hoopis kokteilipeol. <span style=\"background:yellow;\">Mari</span><sup style=\"font-size:75%\">arg0(2)</sup> ei ostnud <span style=\"background:yellow;\">Johnile</span><sup style=\"font-size:75%\">arg4(2)</sup> <span style=\"background:yellow;\">kokteili</span><sup style=\"font-size:75%\">arg1(2)</sup>."
      ]
     },
     "metadata": {},
     "output_type": "display_data"
    }
   ],
   "source": [
    "# Display named spans with their respective relation id-s\n",
    "sem_roles_layer.display()"
   ]
  },
  {
   "cell_type": "code",
   "execution_count": 38,
   "id": "1d4c1776",
   "metadata": {},
   "outputs": [
    {
     "data": {
      "text/plain": [
       "Relation([NamedSpan(arg0: 'President Bush'), NamedSpan(arg1: 'temaga'), NamedSpan(argm_mnr: 'privaatselt'), NamedSpan(argm_tmp: 'teisipäeval'), NamedSpan(argm_loc: 'Valges Majas')], [{'rel': 'kohtumine'}])"
      ]
     },
     "execution_count": 38,
     "metadata": {},
     "output_type": "execute_result"
    }
   ],
   "source": [
    "sem_roles_layer[0]"
   ]
  },
  {
   "cell_type": "code",
   "execution_count": 39,
   "id": "ccbc6fa6",
   "metadata": {},
   "outputs": [
    {
     "data": {
      "text/plain": [
       "[NamedSpan(arg0: 'President Bush'),\n",
       " NamedSpan(arg1: 'temaga'),\n",
       " NamedSpan(argm_mnr: 'privaatselt'),\n",
       " NamedSpan(argm_tmp: 'teisipäeval'),\n",
       " NamedSpan(argm_loc: 'Valges Majas')]"
      ]
     },
     "execution_count": 39,
     "metadata": {},
     "output_type": "execute_result"
    }
   ],
   "source": [
    "sem_roles_layer[0].spans"
   ]
  },
  {
   "cell_type": "code",
   "execution_count": 40,
   "id": "f660e8d3",
   "metadata": {},
   "outputs": [
    {
     "name": "stdout",
     "output_type": "stream",
     "text": [
      "Relation([NamedSpan(arg0: 'President Bush'), NamedSpan(arg1: 'temaga'), NamedSpan(argm_mnr: 'privaatselt'), NamedSpan(argm_tmp: 'teisipäeval'), NamedSpan(argm_loc: 'Valges Majas')], [{'rel': 'kohtumine'}])\n",
      "Relation([NamedSpan(arg0: 'John'), NamedSpan(arg1: 'Mari')], [{'rel': 'kohtumine'}])\n",
      "Relation([NamedSpan(arg0: 'Mari'), NamedSpan(arg1: 'kokteili'), NamedSpan(arg4: 'Johnile')], [{'rel': 'ostmine-NEG'}])\n"
     ]
    }
   ],
   "source": [
    "for relation in sem_roles_layer:\n",
    "    print(relation)"
   ]
  },
  {
   "cell_type": "markdown",
   "id": "93d026bd",
   "metadata": {},
   "source": [
    "### RelationLayer and Text object\n",
    "\n",
    "You can use method add_layer to attach the relation layer to the Text object:"
   ]
  },
  {
   "cell_type": "code",
   "execution_count": 41,
   "id": "6c4326f2",
   "metadata": {},
   "outputs": [],
   "source": [
    "from estnltk import Text\n",
    "from estnltk_core import RelationLayer"
   ]
  },
  {
   "cell_type": "code",
   "execution_count": 42,
   "id": "553d3114",
   "metadata": {},
   "outputs": [],
   "source": [
    "text = Text('Mari kirjeldas õhinal, kuidas ta väiksena \"Sipsikut\" luges: '+\\\n",
    "'\"Ma ei suutnud seda raamatut kohe kuidagi käest ära panna! Nii põnev oli see!\"').tag_layer('words')"
   ]
  },
  {
   "cell_type": "code",
   "execution_count": 43,
   "id": "2a74d5e6",
   "metadata": {},
   "outputs": [],
   "source": [
    "coref_layer = RelationLayer('coreference', span_names=['mention', 'entity'], text_object=text)\n",
    "# Add relation based on a dictionary\n",
    "coref_layer.add_annotation( {'mention': (30, 32), 'entity': (0, 4)} )\n",
    "coref_layer.add_annotation( {'mention': (61, 63), 'entity': (0, 4)} )\n",
    "# Or add relation by keyword arguments\n",
    "coref_layer.add_annotation( mention=(75, 88), entity=(42, 52) )\n",
    "coref_layer.add_annotation( mention=(133, 136), entity=(42, 52) )\n",
    "text.add_layer(coref_layer)"
   ]
  },
  {
   "cell_type": "markdown",
   "id": "958f0f0c",
   "metadata": {},
   "source": [
    "Now, if you browse Text object's table, you'll also see the table of relation layers:"
   ]
  },
  {
   "cell_type": "code",
   "execution_count": 44,
   "id": "7929ad5f",
   "metadata": {},
   "outputs": [
    {
     "data": {
      "text/html": [
       "<table border=\"1\" class=\"dataframe\">\n",
       "  <thead>\n",
       "    <tr style=\"text-align: right;\">\n",
       "      <th>text</th>\n",
       "    </tr>\n",
       "  </thead>\n",
       "  <tbody>\n",
       "    <tr>\n",
       "      <td><div align = \"left\">Mari kirjeldas õhinal, kuidas ta väiksena &quot;Sipsikut&quot; luges: &quot;Ma ei suutnud seda raamatut kohe kuidagi käest ära panna! Nii põnev oli see!&quot;</div></td>\n",
       "    </tr>\n",
       "  </tbody>\n",
       "</table>\n",
       "<table border=\"1\" class=\"dataframe\">\n",
       "  <thead>\n",
       "    <tr style=\"text-align: right;\">\n",
       "      <th>layer name</th>\n",
       "      <th>attributes</th>\n",
       "      <th>parent</th>\n",
       "      <th>enveloping</th>\n",
       "      <th>ambiguous</th>\n",
       "      <th>span count</th>\n",
       "    </tr>\n",
       "  </thead>\n",
       "  <tbody>\n",
       "    <tr>\n",
       "      <td>tokens</td>\n",
       "      <td></td>\n",
       "      <td>None</td>\n",
       "      <td>None</td>\n",
       "      <td>False</td>\n",
       "      <td>30</td>\n",
       "    </tr>\n",
       "    <tr>\n",
       "      <td>compound_tokens</td>\n",
       "      <td>type, normalized</td>\n",
       "      <td>None</td>\n",
       "      <td>tokens</td>\n",
       "      <td>False</td>\n",
       "      <td>0</td>\n",
       "    </tr>\n",
       "    <tr>\n",
       "      <td>words</td>\n",
       "      <td>normalized_form</td>\n",
       "      <td>None</td>\n",
       "      <td>None</td>\n",
       "      <td>True</td>\n",
       "      <td>30</td>\n",
       "    </tr>\n",
       "  </tbody>\n",
       "</table>\n",
       "<table border=\"1\" class=\"dataframe\">\n",
       "  <thead>\n",
       "    <tr style=\"text-align: right;\">\n",
       "      <th>layer name</th>\n",
       "      <th>span_names</th>\n",
       "      <th>attributes</th>\n",
       "      <th>ambiguous</th>\n",
       "      <th>relation count</th>\n",
       "    </tr>\n",
       "  </thead>\n",
       "  <tbody>\n",
       "    <tr>\n",
       "      <td>coreference</td>\n",
       "      <td>mention, entity</td>\n",
       "      <td></td>\n",
       "      <td>False</td>\n",
       "      <td>4</td>\n",
       "    </tr>\n",
       "  </tbody>\n",
       "</table>"
      ],
      "text/plain": [
       "Text(text='Mari kirjeldas õhinal, kuidas ta väiksena \"Sipsikut\" luges: \"Ma ei suutnud seda raamatut kohe kuidagi käest ära panna! Nii põnev oli see!\"')"
      ]
     },
     "execution_count": 44,
     "metadata": {},
     "output_type": "execute_result"
    }
   ],
   "source": [
    "text"
   ]
  },
  {
   "cell_type": "code",
   "execution_count": 45,
   "id": "d33fa226",
   "metadata": {},
   "outputs": [
    {
     "data": {
      "text/plain": [
       "{'compound_tokens', 'tokens', 'words'}"
      ]
     },
     "execution_count": 45,
     "metadata": {},
     "output_type": "execute_result"
    }
   ],
   "source": [
    "# list span layers\n",
    "text.layers"
   ]
  },
  {
   "cell_type": "code",
   "execution_count": 46,
   "id": "8ffe5965",
   "metadata": {},
   "outputs": [
    {
     "data": {
      "text/plain": [
       "{'coreference'}"
      ]
     },
     "execution_count": 46,
     "metadata": {},
     "output_type": "execute_result"
    }
   ],
   "source": [
    "# list relation layers\n",
    "text.relation_layers"
   ]
  },
  {
   "cell_type": "markdown",
   "id": "0b0c1807",
   "metadata": {},
   "source": [
    "Use pop_layer to remove a relation layer. The method returns removed layer:"
   ]
  },
  {
   "cell_type": "code",
   "execution_count": 47,
   "id": "e9933ddd",
   "metadata": {},
   "outputs": [
    {
     "data": {
      "text/html": [
       "<h4>RelationLayer</h4>\n",
       "\n",
       "\n",
       "<table border=\"1\" class=\"dataframe\">\n",
       "  <thead>\n",
       "    <tr style=\"text-align: right;\">\n",
       "      <th>layer name</th>\n",
       "      <th>span_names</th>\n",
       "      <th>attributes</th>\n",
       "      <th>ambiguous</th>\n",
       "      <th>relation count</th>\n",
       "    </tr>\n",
       "  </thead>\n",
       "  <tbody>\n",
       "    <tr>\n",
       "      <td>coreference</td>\n",
       "      <td>mention, entity</td>\n",
       "      <td></td>\n",
       "      <td>False</td>\n",
       "      <td>4</td>\n",
       "    </tr>\n",
       "  </tbody>\n",
       "</table>\n",
       "<table border=\"1\" class=\"dataframe\">\n",
       "  <thead>\n",
       "    <tr style=\"text-align: right;\">\n",
       "      <th>mention</th>\n",
       "      <th>entity</th>\n",
       "    </tr>\n",
       "  </thead>\n",
       "  <tbody>\n",
       "    <tr>\n",
       "      <td>ta</td>\n",
       "      <td>Mari</td>\n",
       "    </tr>\n",
       "    <tr>\n",
       "      <td>Ma</td>\n",
       "      <td>Mari</td>\n",
       "    </tr>\n",
       "    <tr>\n",
       "      <td>seda raamatut</td>\n",
       "      <td>\"Sipsikut\"</td>\n",
       "    </tr>\n",
       "    <tr>\n",
       "      <td>see</td>\n",
       "      <td>\"Sipsikut\"</td>\n",
       "    </tr>\n",
       "  </tbody>\n",
       "</table>"
      ],
      "text/plain": [
       "RelationLayer(name='coreference', span_names=('mention', 'entity'), attributes=(), relations=[Relation([NamedSpan(mention: 'ta'), NamedSpan(entity: 'Mari')], [{}]), Relation([NamedSpan(mention: 'Ma'), NamedSpan(entity: 'Mari')], [{}]), Relation([NamedSpan(mention: 'seda raamatut'), NamedSpan(entity: '\"Sipsikut\"')], [{}]), Relation([NamedSpan(mention: 'see'), NamedSpan(entity: '\"Sipsikut\"')], [{}])])"
      ]
     },
     "execution_count": 47,
     "metadata": {},
     "output_type": "execute_result"
    }
   ],
   "source": [
    "text.pop_layer('coreference')"
   ]
  },
  {
   "cell_type": "code",
   "execution_count": 48,
   "id": "540cc03e",
   "metadata": {},
   "outputs": [
    {
     "data": {
      "text/plain": [
       "set()"
      ]
     },
     "execution_count": 48,
     "metadata": {},
     "output_type": "execute_result"
    }
   ],
   "source": [
    "# list relation layers\n",
    "text.relation_layers"
   ]
  },
  {
   "cell_type": "markdown",
   "id": "168cae1e",
   "metadata": {},
   "source": [
    "---\n",
    "## Technical comparisons"
   ]
  },
  {
   "cell_type": "markdown",
   "id": "05306273",
   "metadata": {},
   "source": [
    "---\n",
    "\n",
    "## Comparison: Layer vs RelationLayer\n",
    "\n",
    "|       | (Base)Layer | RelationLayer |\n",
    "|-------|-------|-------|\n",
    "| **attributes** | name<br><br> default_values<br><br>---<br><br> attributes<br><br> parent<br><br> enveloping<br><br>ambiguous<br><br> text_object<br><br> serialisation_module<br><br> secondary_attributes<br><br> meta | name<br><br>--- (not impl, but could be added?)<br><br>span_names<br><br> attributes<br><br> ---<br><br> ---<br><br> ambiguous<br><br> text_object<br><br> serialisation_module<br><br> secondary_attributes<br><br> meta |\n",
    "| **@properties** | layer _(why?!)_<br><br> start<br><br> end<br><br> spans<br><br> span_level<br><br> text<br><br> enclosing_text | ---<br><br> ---<br><br> ---<br><br> relations<br><br> span_level<br><br> ---<br><br> --- |\n",
    "| **overridden built-in methods** | `__deepcopy__`<br><br> `__setattr__`<br><br> `__setitem__`<br><br> `__getattr__` (call raises exception)<br><br> `__getitem__`<br><br> `__delitem__`<br><br> `__iter__`<br><br> `__len__`<br><br> `__eq__`<br><br> `__repr__`<br><br> `_repr_html_`<br><br> | `__deepcopy__`<br><br> `__setattr__`<br><br> `__setitem__`<br><br> `__getattr__` (call raises exception)<br><br> `__getitem__`<br><br> `__delitem__`<br><br> `__iter__`<br><br> `__len__`<br><br> `__eq__`<br><br> `__repr__`<br><br> `_repr_html_`<br><br> |\n",
    "| **indexing calls (`__getitem__`)** | `layer[index]`<br><br> `layer[ parent_layer[0].base_span ]`<br><br> `layer[attribute(s)]`<br><br> `layer[indexes, attributes]`<br><br> `layer[start:end]`<br><br>`layer[list_of_bools]`<br><br>`layer[list_of_indexes]`<br><br>`layer[list_of_base_span]`<br><br> `layer[selector_function]`  |  `layer[index]`<br><br> ---<br><br> `layer[list_of_span_names_and_attributes]`<br><br> --- (should be added?) <br><br> `layer[start:end]`<br><br>---<br><br>---<br><br>---<br><br> --- |\n",
    "| **span / annotation manipulation / access methods** | `add_span(span)`<br><br> `add_annotation(base_span, attribute_dict)`<br><br> `remove_span(span)`<br><br> `clear_spans()`<br><br> `get(span(s))`<br><br> ` attribute_values(attributes)`<br><br> | --- <br><br> `add_annotation(relation_dict)`<br><br> `remove_relation(relation)`<br><br> `clear_relations()` <br><br> `get(named_spans)`<br><br> --- <br><br> |\n",
    "| **get(self, item)** | Finds and returns Span (or EnvelopingSpan) corresponding to the given (Base)Span item(s). If this layer is empty, returns None. If the parameter item is a sequence of BaseSpans, then returns a new Layer populated with specified spans and bearing the same configuration as this layer. | Finds and returns a single Relation corresponding to the given list of NamedSpan(s). Alternatively, list of tuples (span_name, BaseSpan) can be the input parameter. If this layer is empty or Relation was not found, returns None. |\n",
    "| **other methods** | `check_span_consistency()`<br><br> `diff(other)`<br><br> `ancestor_layers()`<br><br> `descendant_layers()`<br><br> `count_values(...)`<br><br> `group_by(...)`<br><br> `rolling(...)`<br><br> `resolve_attribute(...)`<br><br> `display(...)`<br><br> |  --- (TODO)<br><br> `diff(other)`<br><br>  --- <br><br> ---<br><br> ---<br><br> ---<br><br> ---<br><br> --- (TODO?)<br><br> --- (TODO?)<br><br> |"
   ]
  },
  {
   "cell_type": "markdown",
   "id": "06ae1b1f",
   "metadata": {},
   "source": [
    "---\n",
    "\n",
    "## Comparison: (Enveloping)Span vs Relation\n",
    "\n",
    "Preamble:\n",
    "* each Relation must have at least one NamedSpan, and at least one RelationAnnotation;\n",
    "* Relation does not need to have all spans defined by RelationLayer, some spans (but not all) can be empty/unassigned;\n",
    "\n",
    "\n",
    "|       | (Enveloping)Span | Relation |\n",
    "|-------|-------|-------|\n",
    "| **@properties** | `annotations`<br><br> `spans` (only if enveloping)<br><br> ---<br><br> ---<br><br> `parent`<br><br> `layer`<br><br> ---<br><br> `legal_attribute_names`<br><br> `start`<br><br> `end`<br><br> `base_span`<br><br> `base_spans`<br><br> `text`<br><br> `enclosing_text`<br><br> `text_object`<br><br> `raw_text` (this is text_object.text) | `annotations`<br><br> `spans` (only assigned spans)<br><br> `span_names` (only assigned span names)<br><br> `span_level`<br><br> ---<br><br> `relation_layer`<br><br> `legal_span_names`<br><br> `legal_attribute_names`<br><br> ---<br><br> ---<br><br> ---<br><br> `base_spans`<br><br> `text`<br><br> ---<br><br> `text_object`<br><br> --- |\n",
    "| **overridden built-in methods** | `__deepcopy__`<br><br> `__setattr__`<br><br> ---<br><br> `__getattr__`<br><br> `__getitem__` (get annotation(s))<br><br>  `__iter__` (only if enveloping)<br><br> `__len__` (only if enveloping)<br><br> `__contains__` (only if enveloping)<br><br> `__lt__`<br><br> `__eq__`<br><br> `__repr__`<br><br> `_repr_html_`<br><br> | `__deepcopy__`<br><br> `__setattr__`<br><br> `__setitem__` (set named span only)<br><br> `__getattr__` (get named span only)<br><br> `__getitem__` (get annotations and/or named spans)<br><br>  `__iter__` (over assigned spans, TODO: is it a good idea?)<br><br> `__len__` (number of assigned spans, TODO: is it a good idea?)<br><br>  `__contains__` (check for existence of named span)<br><br> ---<br><br> `__eq__`<br><br> `__repr__`<br><br> --- (TODO)<br><br> |\n",
    "| **span / annotation manipulation / access methods** | ---<br><br> ---<br><br> `add_annotation(attribute_dict)`<br><br> `del_annotation(annotation)`<br><br> `clear_annotations()`<br><br> `resolve_attribute(item)`<br><br> | `set_span(name, base_span)`<br><br> `remove_span(name)`<br><br> `add_annotation(attribute_dict)`<br><br> `del_annotation(annotation)`<br><br> `clear_annotations()`<br><br> --- (TODO?)<br><br>  |"
   ]
  },
  {
   "cell_type": "markdown",
   "id": "0edf13d4",
   "metadata": {},
   "source": [
    "---\n",
    "\n",
    "## Comparison: (Enveloping)Span vs NamedSpan\n",
    "\n",
    "* main difference between (Enveloping)Span and NamedSpan is that NamedSpan does not have annotations -- annotations belong to relation, not to span;\n",
    "\n",
    "|       | (Enveloping)Span | NamedSpan |\n",
    "|-------|-------|-------|\n",
    "| **@properties** | ---<br><br> `annotations`<br><br> `spans` (only if enveloping)<br><br> `parent`<br><br> ---<br><br> `layer`<br><br>  `legal_attribute_names`<br><br> `start`<br><br> `end`<br><br> `base_span`<br><br> `base_spans`<br><br> `text`<br><br> `enclosing_text`<br><br> `text_object`<br><br> `raw_text` (this is text_object.text) <br><br> --- <br><br> | `name`<br><br> ---<br><br> --- <br><br> ---<br><br> `relation`<br><br> `relation_layer`<br><br> ---<br><br> `start`<br><br> `end`<br><br> `base_span`<br><br> `base_spans`<br><br> `text`<br><br> `enclosing_text`<br><br> `text_object`<br><br> `raw_text` (this is text_object.text) <br><br> `as_tuple` (returns: name, base_span)<br><br> |\n",
    "| **overridden built-in methods** | `__deepcopy__`<br><br> `__setattr__`<br><br> `__getattr__`<br><br> `__getitem__` (get annotation(s))<br><br>  `__iter__` (only if enveloping)<br><br> `__len__` (only if enveloping)<br><br> `__contains__` (only if enveloping)<br><br> `__lt__`<br><br> `__eq__`<br><br> `__repr__`<br><br> `_repr_html_`<br><br> | `__deepcopy__`<br><br> `__setattr__`<br><br> `__getattr__` (raises exception)<br><br> ---<br><br>  ---<br><br> ---<br><br>  ---<br><br> `__lt__`<br><br> `__eq__`<br><br> `__repr__`<br><br> --- (TODO)<br><br> |\n",
    "| **span / annotation manipulation / access methods** | `add_annotation(attribute_dict)`<br><br> `del_annotation(annotation)`<br><br> `clear_annotations()`<br><br> `resolve_attribute(item)`<br><br> |  ---<br><br> ---<br><br> ---<br><br> --- (this could be useful, TODO)<br><br>  |"
   ]
  },
  {
   "cell_type": "markdown",
   "id": "dc827759",
   "metadata": {},
   "source": [
    "---\n",
    "\n",
    "## Comparison: Annotation vs RelationAnnotation\n",
    "\n",
    "|       | Annotation | RelationAnnotation |\n",
    "|-------|-------|-------|\n",
    "| **@properties** | `span` <br><br>  `layer`<br><br>  `legal_attribute_names`<br><br> `start`<br><br> `end`<br><br> `text`<br><br> `text_object`<br><br> | `relation`<br><br> `relation_layer`<br><br> `legal_attribute_names` <br><br> ---<br><br> ---<br><br> ---<br><br> `text_object`<br><br> |\n",
    "| **overridden built-in methods** | `__deepcopy__`<br><br> `__setattr__`<br><br> `__setitem__`<br><br> `__getitem__`<br><br>  `__iter__`<br><br> `__len__`<br><br> `__contains__`<br><br> `__delattr__`<br><br> `__delitem__`<br><br> `__eq__`<br><br> `__repr__`<br><br> | `__deepcopy__`<br><br> `__setattr__`<br><br> `__setitem__`<br><br> `__getitem__`<br><br>  `__iter__`<br><br> `__len__`<br><br> `__contains__`<br><br> `__delattr__`<br><br> `__delitem__`<br><br> `__eq__`<br><br> `__repr__`<br><br> |"
   ]
  }
 ],
 "metadata": {
  "kernelspec": {
   "display_name": "Python 3 (ipykernel)",
   "language": "python",
   "name": "python3"
  },
  "language_info": {
   "codemirror_mode": {
    "name": "ipython",
    "version": 3
   },
   "file_extension": ".py",
   "mimetype": "text/x-python",
   "name": "python",
   "nbconvert_exporter": "python",
   "pygments_lexer": "ipython3",
   "version": "3.11.4"
  }
 },
 "nbformat": 4,
 "nbformat_minor": 5
}
