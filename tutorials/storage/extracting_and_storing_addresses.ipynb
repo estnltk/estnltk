{
 "cells": [
  {
   "cell_type": "markdown",
   "metadata": {},
   "source": [
    "# Extracting and Storing Addresses"
   ]
  },
  {
   "cell_type": "markdown",
   "metadata": {},
   "source": [
    "This tutorial demonstrates how to extract addresses from text and store results in Postgres using `PostgresStorage` module."
   ]
  },
  {
   "cell_type": "code",
   "execution_count": 1,
   "metadata": {},
   "outputs": [],
   "source": [
    "from estnltk import Text\n",
    "from estnltk.taggers import AddressPartTagger, AddressGrammarTagger\n",
    "from estnltk.storage.postgres import PostgresStorage, LayerQuery, RowMapperRecord\n",
    "from estnltk.storage.postgres import delete_schema"
   ]
  },
  {
   "cell_type": "markdown",
   "metadata": {},
   "source": [
    "In this tutorial we are going to use the following small toy dataset:"
   ]
  },
  {
   "cell_type": "code",
   "execution_count": 2,
   "metadata": {},
   "outputs": [],
   "source": [
    "text_corpus = [\n",
    "    'Kontor asub aadressil Rävala 5, Tallinn.',\n",
    "    'Salong asub uuel aadressil, üle tee asuvas Rävala pst 7 hoones',\n",
    "    'Korterite müük: Gonsiori tn 36, Tallinn'\n",
    "]"
   ]
  },
  {
   "cell_type": "markdown",
   "metadata": {},
   "source": [
    "First, let's save our dataset to the database:"
   ]
  },
  {
   "cell_type": "code",
   "execution_count": 3,
   "metadata": {
    "scrolled": true
   },
   "outputs": [
    {
     "name": "stdout",
     "output_type": "stream",
     "text": [
      "INFO:storage.py:52: connecting to host: 'localhost', port: '5432', dbname: 'test_db', user: 'postgres'\n",
      "INFO:storage.py:70: new schema 'grammarextractor' created\n",
      "INFO:storage.py:80: schema: 'grammarextractor', temporary: False, role: 'postgres'\n",
      "INFO:storage.py:156: new empty collection 'texts_with_addresses' created\n",
      "INFO:collection_text_object_inserter.py:100: inserted 3 texts into the collection 'texts_with_addresses'\n"
     ]
    }
   ],
   "source": [
    "storage = PostgresStorage(pgpass_file='~/.pgpass',\n",
    "                          schema=\"grammarextractor\",\n",
    "                          create_schema_if_missing=True)\n",
    "\n",
    "collection = storage.add_collection(\"texts_with_addresses\")\n",
    "\n",
    "with collection.insert() as collection_insert:\n",
    "    for key, text in enumerate(text_corpus):\n",
    "        collection_insert(Text(text).tag_layer(['words']), key=key)"
   ]
  },
  {
   "cell_type": "code",
   "execution_count": 4,
   "metadata": {},
   "outputs": [
    {
     "data": {
      "text/html": [
       "<b>PostgresStorage</b><br/>\n",
       "user=postgres password=xxx dbname=test_db host=localhost port=5432 schema=grammarextractor<br/>temporary=False<br/>\n",
       "collection count: 1\n",
       "<table border=\"1\" class=\"dataframe\">\n",
       "  <thead>\n",
       "    <tr style=\"text-align: right;\">\n",
       "      <th></th>\n",
       "      <th></th>\n",
       "      <th></th>\n",
       "      <th>rows</th>\n",
       "      <th>total_size</th>\n",
       "      <th>comment</th>\n",
       "    </tr>\n",
       "    <tr>\n",
       "      <th>collection</th>\n",
       "      <th>version</th>\n",
       "      <th>relations</th>\n",
       "      <th></th>\n",
       "      <th></th>\n",
       "      <th></th>\n",
       "    </tr>\n",
       "  </thead>\n",
       "  <tbody>\n",
       "    <tr>\n",
       "      <th rowspan=\"2\" valign=\"top\">texts_with_addresses</th>\n",
       "      <th rowspan=\"2\" valign=\"top\">3.0</th>\n",
       "      <th></th>\n",
       "      <td>0</td>\n",
       "      <td>56 kB</td>\n",
       "      <td>created by postgres on Mon Oct 24 15:48:36 2022</td>\n",
       "    </tr>\n",
       "    <tr>\n",
       "      <th>structure</th>\n",
       "      <td>0</td>\n",
       "      <td>32 kB</td>\n",
       "      <td>None</td>\n",
       "    </tr>\n",
       "  </tbody>\n",
       "</table>"
      ],
      "text/plain": [
       "<estnltk.storage.postgres.storage.PostgresStorage at 0x2420d39f6a0>"
      ]
     },
     "execution_count": 4,
     "metadata": {},
     "output_type": "execute_result"
    }
   ],
   "source": [
    "storage"
   ]
  },
  {
   "cell_type": "code",
   "execution_count": 5,
   "metadata": {},
   "outputs": [
    {
     "data": {
      "text/html": [
       "<b>PgCollection</b><br/><b>name:</b> texts_with_addresses<br/><b>storage:</b> PostgresStorage(user=postgres password=xxx dbname=test_db host=localhost port=5432 schema=grammarextractor temporary=False)<br/><b>count objects:</b> 3<br/><b>Metadata</b><br/>This collection has no metadata.<br/><b>Layers</b><table border=\"1\" class=\"dataframe\">\n",
       "  <thead>\n",
       "    <tr style=\"text-align: right;\">\n",
       "      <th></th>\n",
       "      <th>layer_type</th>\n",
       "      <th>attributes</th>\n",
       "      <th>ambiguous</th>\n",
       "      <th>sparse</th>\n",
       "      <th>parent</th>\n",
       "      <th>enveloping</th>\n",
       "      <th>meta</th>\n",
       "    </tr>\n",
       "  </thead>\n",
       "  <tbody>\n",
       "    <tr>\n",
       "      <th>tokens</th>\n",
       "      <td>attached</td>\n",
       "      <td>()</td>\n",
       "      <td>False</td>\n",
       "      <td>False</td>\n",
       "      <td>None</td>\n",
       "      <td>None</td>\n",
       "      <td>[]</td>\n",
       "    </tr>\n",
       "    <tr>\n",
       "      <th>words</th>\n",
       "      <td>attached</td>\n",
       "      <td>(normalized_form,)</td>\n",
       "      <td>True</td>\n",
       "      <td>False</td>\n",
       "      <td>None</td>\n",
       "      <td>None</td>\n",
       "      <td>[]</td>\n",
       "    </tr>\n",
       "    <tr>\n",
       "      <th>compound_tokens</th>\n",
       "      <td>attached</td>\n",
       "      <td>(type, normalized)</td>\n",
       "      <td>False</td>\n",
       "      <td>False</td>\n",
       "      <td>None</td>\n",
       "      <td>tokens</td>\n",
       "      <td>[]</td>\n",
       "    </tr>\n",
       "  </tbody>\n",
       "</table>"
      ],
      "text/plain": [
       "<estnltk.storage.postgres.collection.PgCollection at 0x24221fe7c70>"
      ]
     },
     "execution_count": 5,
     "metadata": {},
     "output_type": "execute_result"
    }
   ],
   "source": [
    "collection"
   ]
  },
  {
   "cell_type": "markdown",
   "metadata": {},
   "source": [
    "Next, we extract addresses and save them in a separate layer:"
   ]
  },
  {
   "cell_type": "code",
   "execution_count": 6,
   "metadata": {},
   "outputs": [
    {
     "name": "stdout",
     "output_type": "stream",
     "text": [
      "INFO:collection.py:915: collection: 'texts_with_addresses'\n",
      "INFO:collection.py:934: preparing to create a new layer: 'address_tokens'\n",
      "INFO:collection.py:966: inserting data into the 'address_tokens' layer table\n",
      "INFO:collection_detached_layer_inserter.py:86: inserted 3 detached 'address_tokens' layers into the collection 'texts_with_addresses'\n",
      "INFO:collection.py:1001: layer created: 'address_tokens'\n",
      "INFO:collection.py:915: collection: 'texts_with_addresses'\n",
      "INFO:collection.py:934: preparing to create a new layer: 'addresses'\n",
      "INFO:collection.py:966: inserting data into the 'addresses' layer table\n",
      "INFO:collection_detached_layer_inserter.py:86: inserted 3 detached 'addresses' layers into the collection 'texts_with_addresses'\n",
      "INFO:collection.py:1001: layer created: 'addresses'\n"
     ]
    },
    {
     "data": {
      "text/html": [
       "<b>PgCollection</b><br/><b>name:</b> texts_with_addresses<br/><b>storage:</b> PostgresStorage(user=postgres password=xxx dbname=test_db host=localhost port=5432 schema=grammarextractor temporary=False)<br/><b>count objects:</b> 3<br/><b>Metadata</b><br/>This collection has no metadata.<br/><b>Layers</b><table border=\"1\" class=\"dataframe\">\n",
       "  <thead>\n",
       "    <tr style=\"text-align: right;\">\n",
       "      <th></th>\n",
       "      <th>layer_type</th>\n",
       "      <th>attributes</th>\n",
       "      <th>ambiguous</th>\n",
       "      <th>sparse</th>\n",
       "      <th>parent</th>\n",
       "      <th>enveloping</th>\n",
       "      <th>meta</th>\n",
       "    </tr>\n",
       "  </thead>\n",
       "  <tbody>\n",
       "    <tr>\n",
       "      <th>tokens</th>\n",
       "      <td>attached</td>\n",
       "      <td>()</td>\n",
       "      <td>False</td>\n",
       "      <td>False</td>\n",
       "      <td>None</td>\n",
       "      <td>None</td>\n",
       "      <td>[]</td>\n",
       "    </tr>\n",
       "    <tr>\n",
       "      <th>words</th>\n",
       "      <td>attached</td>\n",
       "      <td>(normalized_form,)</td>\n",
       "      <td>True</td>\n",
       "      <td>False</td>\n",
       "      <td>None</td>\n",
       "      <td>None</td>\n",
       "      <td>[]</td>\n",
       "    </tr>\n",
       "    <tr>\n",
       "      <th>compound_tokens</th>\n",
       "      <td>attached</td>\n",
       "      <td>(type, normalized)</td>\n",
       "      <td>False</td>\n",
       "      <td>False</td>\n",
       "      <td>None</td>\n",
       "      <td>tokens</td>\n",
       "      <td>[]</td>\n",
       "    </tr>\n",
       "    <tr>\n",
       "      <th>address_tokens</th>\n",
       "      <td>detached</td>\n",
       "      <td>(grammar_symbol, type)</td>\n",
       "      <td>True</td>\n",
       "      <td>True</td>\n",
       "      <td>None</td>\n",
       "      <td>None</td>\n",
       "      <td>[]</td>\n",
       "    </tr>\n",
       "    <tr>\n",
       "      <th>addresses</th>\n",
       "      <td>detached</td>\n",
       "      <td>(grammar_symbol, TÄNAV, MAJA, ASULA, MAAKOND, INDEKS)</td>\n",
       "      <td>True</td>\n",
       "      <td>True</td>\n",
       "      <td>None</td>\n",
       "      <td>address_tokens</td>\n",
       "      <td>[]</td>\n",
       "    </tr>\n",
       "  </tbody>\n",
       "</table>"
      ],
      "text/plain": [
       "<estnltk.storage.postgres.collection.PgCollection at 0x24221fe7c70>"
      ]
     },
     "execution_count": 6,
     "metadata": {},
     "output_type": "execute_result"
    }
   ],
   "source": [
    "address_token_tagger = AddressPartTagger(output_layer='address_tokens')\n",
    "\n",
    "def row_mapper_1(row):\n",
    "    text_id, text = row[0], row[1]\n",
    "    layer = address_token_tagger.tag(text)[\"address_tokens\"]\n",
    "    return [RowMapperRecord(layer=layer, meta=None)]\n",
    "\n",
    "collection.create_layer(tagger=address_token_tagger, sparse=True)\n",
    "\n",
    "\n",
    "address_tagger = AddressGrammarTagger(output_layer='addresses', input_layer='address_tokens')\n",
    "\n",
    "def row_mapper_2(row):\n",
    "    text_id, text = row[0], row[1]\n",
    "    layer = address_tagger.tag(text)['addresses']\n",
    "    return [RowMapperRecord(layer=layer, meta=None)]\n",
    "\n",
    "collection.create_layer(tagger=address_tagger, sparse=True)\n",
    "\n",
    "collection"
   ]
  },
  {
   "cell_type": "markdown",
   "metadata": {},
   "source": [
    "Let's now load one text object and see what's inside:"
   ]
  },
  {
   "cell_type": "code",
   "execution_count": 7,
   "metadata": {},
   "outputs": [
    {
     "data": {
      "text/html": [
       "<table border=\"1\" class=\"dataframe\">\n",
       "  <thead>\n",
       "    <tr style=\"text-align: right;\">\n",
       "      <th>text</th>\n",
       "    </tr>\n",
       "  </thead>\n",
       "  <tbody>\n",
       "    <tr>\n",
       "      <td><div align = \"left\">Kontor asub aadressil Rävala 5, Tallinn.</div></td>\n",
       "    </tr>\n",
       "  </tbody>\n",
       "</table>\n",
       "<table border=\"1\" class=\"dataframe\">\n",
       "  <thead>\n",
       "    <tr style=\"text-align: right;\">\n",
       "      <th>layer name</th>\n",
       "      <th>attributes</th>\n",
       "      <th>parent</th>\n",
       "      <th>enveloping</th>\n",
       "      <th>ambiguous</th>\n",
       "      <th>span count</th>\n",
       "    </tr>\n",
       "  </thead>\n",
       "  <tbody>\n",
       "    <tr>\n",
       "      <td>tokens</td>\n",
       "      <td></td>\n",
       "      <td>None</td>\n",
       "      <td>None</td>\n",
       "      <td>False</td>\n",
       "      <td>8</td>\n",
       "    </tr>\n",
       "    <tr>\n",
       "      <td>compound_tokens</td>\n",
       "      <td>type, normalized</td>\n",
       "      <td>None</td>\n",
       "      <td>tokens</td>\n",
       "      <td>False</td>\n",
       "      <td>0</td>\n",
       "    </tr>\n",
       "    <tr>\n",
       "      <td>words</td>\n",
       "      <td>normalized_form</td>\n",
       "      <td>None</td>\n",
       "      <td>None</td>\n",
       "      <td>True</td>\n",
       "      <td>8</td>\n",
       "    </tr>\n",
       "    <tr>\n",
       "      <td>address_tokens</td>\n",
       "      <td>grammar_symbol, type</td>\n",
       "      <td>None</td>\n",
       "      <td>None</td>\n",
       "      <td>True</td>\n",
       "      <td>4</td>\n",
       "    </tr>\n",
       "    <tr>\n",
       "      <td>addresses</td>\n",
       "      <td>grammar_symbol, TÄNAV, MAJA, ASULA, MAAKOND, INDEKS</td>\n",
       "      <td>None</td>\n",
       "      <td>address_tokens</td>\n",
       "      <td>True</td>\n",
       "      <td>1</td>\n",
       "    </tr>\n",
       "  </tbody>\n",
       "</table>"
      ],
      "text/plain": [
       "Text(text='Kontor asub aadressil Rävala 5, Tallinn.')"
      ]
     },
     "execution_count": 7,
     "metadata": {},
     "output_type": "execute_result"
    }
   ],
   "source": [
    "collection.selected_layers = ['tokens', 'compound_tokens', 'words', 'address_tokens', 'addresses']\n",
    "\n",
    "collection[0]"
   ]
  },
  {
   "cell_type": "markdown",
   "metadata": {},
   "source": [
    "As we can see, the `addresses` layer has attributes TÄNAV, MAJA, ASULA, MAAKOND, INDEKS which  can be used in search. For example, we can search for records containing a street name 'Rävala' and a house number '5':"
   ]
  },
  {
   "cell_type": "code",
   "execution_count": 8,
   "metadata": {},
   "outputs": [
    {
     "name": "stdout",
     "output_type": "stream",
     "text": [
      "Text(text='Kontor asub aadressil Rävala 5, Tallinn.')\n"
     ]
    }
   ],
   "source": [
    "q = LayerQuery(layer_name=\"addresses\", TÄNAV='Rävala', MAJA='5')\n",
    "for key, text in collection.select(query=q):\n",
    "    print(text)"
   ]
  },
  {
   "cell_type": "markdown",
   "metadata": {},
   "source": [
    "And for search for a street name 'Gonsiori tn':"
   ]
  },
  {
   "cell_type": "code",
   "execution_count": 9,
   "metadata": {},
   "outputs": [
    {
     "name": "stdout",
     "output_type": "stream",
     "text": [
      "Text(text='Korterite müük: Gonsiori tn 36, Tallinn')\n"
     ]
    }
   ],
   "source": [
    "q = LayerQuery(layer_name=\"addresses\", TÄNAV=\"Gonsiori tn\")\n",
    "for key, text in collection.select(query=q):\n",
    "    print(text)"
   ]
  },
  {
   "cell_type": "code",
   "execution_count": 10,
   "metadata": {},
   "outputs": [],
   "source": [
    "delete_schema(storage)"
   ]
  }
 ],
 "metadata": {
  "kernelspec": {
   "display_name": "Python 3 (ipykernel)",
   "language": "python",
   "name": "python3"
  },
  "language_info": {
   "codemirror_mode": {
    "name": "ipython",
    "version": 3
   },
   "file_extension": ".py",
   "mimetype": "text/x-python",
   "name": "python",
   "nbconvert_exporter": "python",
   "pygments_lexer": "ipython3",
   "version": "3.9.12"
  }
 },
 "nbformat": 4,
 "nbformat_minor": 2
}
