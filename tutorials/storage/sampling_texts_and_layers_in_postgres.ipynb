{
 "cells": [
  {
   "cell_type": "markdown",
   "id": "valued-glenn",
   "metadata": {},
   "source": [
    "# Sampling `Text` objects and layers from a PostgreSQL database\n",
    "\n",
    "EstNLTK also provides methods for shuffling a text collection and drawing samples from a collection stored in a PostgreSQL database. "
   ]
  },
  {
   "cell_type": "markdown",
   "id": "lesbian-influence",
   "metadata": {},
   "source": [
    "### Preparing data\n",
    "\n",
    "To demonstrate these methods, let us first generate some test data:"
   ]
  },
  {
   "cell_type": "code",
   "execution_count": 1,
   "id": "imperial-copyright",
   "metadata": {},
   "outputs": [],
   "source": [
    "from estnltk import Text, logger\n",
    "\n",
    "def create_test_documents():\n",
    "    # Generates a test set containing 100 documents and 2500 sentences\n",
    "    # 1) Define subject words and phrases:\n",
    "    subj_words = ['kiisumiisu', 'vanahärra', 'vanama', 'neiu', 'tuttav', \\\n",
    "                  'filharmoonik', 'sahin', 'kärbes', 'teleskoop', 'võsalendur',\\\n",
    "                  'kapsauss', 'klaverijalg', 'sugulane', 'viiuldaja', 'temake', \\\n",
    "                  'kvantarvuti', 'puhvet', 'kuldlõige', 'proua', 'kahvel', \\\n",
    "                  'peremees', 'kaalujälgija', 'lõkats', 'vintraud', 'vahvel']\n",
    "    new_subj_words =[]\n",
    "    for adj in ['esimene', 'teine', 'kolmas', 'neljas']:\n",
    "        for subj in subj_words:\n",
    "            new_subj_words.append( adj+' '+subj )\n",
    "    subj_words = new_subj_words\n",
    "    # 2) Define verbs and objects:\n",
    "    verb_words = ['loeb', 'keedab', 'kasvatab', 'kiigutab', 'organiseerib']\n",
    "    obj_words = ['raamatut', 'ruutmeetreid', 'kartuleid', 'kohvrit', 'distantsõpet']\n",
    "    test_texts = []\n",
    "    sentence_counter = 0\n",
    "    # 3) Generate one document per each subject\n",
    "    for subj in subj_words:\n",
    "        subj_text = []\n",
    "        # Generate sentences for the text\n",
    "        for verb in verb_words:\n",
    "            for obj in obj_words:\n",
    "                text_str = (' '.join([subj, verb, obj])).capitalize()+'.'\n",
    "                subj_text.append( text_str )\n",
    "                sentence_counter += 1\n",
    "        text = Text( '\\n'.join(subj_text) )\n",
    "        text.meta['text_id'] = len(test_texts)\n",
    "        text.meta['text_actor'] = subj.capitalize()\n",
    "        test_texts.append( text )\n",
    "    logger.info('Total {} sentences generated.'.format(sentence_counter))\n",
    "    logger.info('Total {} texts generated.'.format(len(test_texts)))\n",
    "    return test_texts"
   ]
  },
  {
   "cell_type": "code",
   "execution_count": 2,
   "id": "featured-option",
   "metadata": {},
   "outputs": [
    {
     "name": "stdout",
     "output_type": "stream",
     "text": [
      "INFO:1630127573.py:34: Total 2500 sentences generated.\n",
      "INFO:1630127573.py:35: Total 100 texts generated.\n"
     ]
    }
   ],
   "source": [
    "test_texts = create_test_documents()"
   ]
  },
  {
   "cell_type": "markdown",
   "id": "fourth-paris",
   "metadata": {},
   "source": [
    "Connect to the database and set up the schema:"
   ]
  },
  {
   "cell_type": "code",
   "execution_count": 3,
   "id": "modular-exploration",
   "metadata": {},
   "outputs": [
    {
     "name": "stdout",
     "output_type": "stream",
     "text": [
      "INFO:storage.py:52: connecting to host: 'localhost', port: '5432', dbname: 'test_db', user: 'postgres'\n",
      "INFO:storage.py:70: new schema 'my_schema' created\n",
      "INFO:storage.py:80: schema: 'my_schema', temporary: False, role: 'postgres'\n"
     ]
    }
   ],
   "source": [
    "from estnltk.storage.postgres import PostgresStorage, delete_schema\n",
    "\n",
    "storage = PostgresStorage(pgpass_file='~/.pgpass', dbname='test_db', schema='my_schema', create_schema_if_missing=True)"
   ]
  },
  {
   "cell_type": "markdown",
   "id": "checked-prairie",
   "metadata": {},
   "source": [
    "Create a new collection. Add tokenization layers to `Text` objects and insert them into the collection:"
   ]
  },
  {
   "cell_type": "code",
   "execution_count": 4,
   "id": "split-devon",
   "metadata": {},
   "outputs": [
    {
     "name": "stdout",
     "output_type": "stream",
     "text": [
      "INFO:storage.py:156: new empty collection 'sampling_test_collection' created\n",
      "INFO:collection_text_object_inserter.py:100: inserted 100 texts into the collection 'sampling_test_collection'\n"
     ]
    }
   ],
   "source": [
    "from collections import OrderedDict\n",
    "\n",
    "collection = storage.add_collection('sampling_test_collection',\n",
    "                                     meta=OrderedDict([('text_actor', 'str')]) )\n",
    "\n",
    "with collection.insert() as collection_insert:\n",
    "    for text_obj in test_texts:\n",
    "        # Add tokenization layers to the Text\n",
    "        text_obj.tag_layer('sentences')\n",
    "        # Insert Text into the database\n",
    "        collection_insert(text_obj, meta_data={'text_actor':text_obj.meta['text_actor'] })"
   ]
  },
  {
   "cell_type": "markdown",
   "id": "negative-underwear",
   "metadata": {},
   "source": [
    "### Permutating the collection\n",
    "\n",
    "By default, collection's `select()` will return texts in the order of their insertion (i.e. texts are sorted by `text_id`):"
   ]
  },
  {
   "cell_type": "code",
   "execution_count": 5,
   "id": "threatened-cookbook",
   "metadata": {},
   "outputs": [
    {
     "name": "stdout",
     "output_type": "stream",
     "text": [
      "0 Esimene kiisumiisu loeb raamatut...\n",
      "1 Esimene vanahärra loeb raamatut...\n",
      "2 Esimene vanama loeb raamatut...\n",
      "3 Esimene neiu loeb raamatut...\n",
      "4 Esimene tuttav loeb raamatut...\n",
      "5 Esimene filharmoonik loeb raamatut...\n",
      "6 Esimene sahin loeb raamatut...\n",
      "7 Esimene kärbes loeb raamatut...\n",
      "8 Esimene teleskoop loeb raamatut...\n",
      "9 Esimene võsalendur loeb raamatut...\n",
      "...\n"
     ]
    }
   ],
   "source": [
    "for text_id, text_obj in collection.select().head(10):\n",
    "    print( text_id, text_obj.text.split('\\n')[0]+'..')\n",
    "print('...')"
   ]
  },
  {
   "cell_type": "markdown",
   "id": "young-coral",
   "metadata": {},
   "source": [
    "You can apply subcollection's method `permutate()` to iterate texts in random order:"
   ]
  },
  {
   "cell_type": "code",
   "execution_count": 6,
   "id": "compressed-directive",
   "metadata": {},
   "outputs": [
    {
     "name": "stdout",
     "output_type": "stream",
     "text": [
      "41 Teine puhvet loeb raamatut...\n",
      "98 Neljas vintraud loeb raamatut...\n",
      "30 Teine filharmoonik loeb raamatut...\n",
      "83 Neljas teleskoop loeb raamatut...\n",
      "95 Neljas peremees loeb raamatut...\n",
      "90 Neljas kvantarvuti loeb raamatut...\n",
      "5 Esimene filharmoonik loeb raamatut...\n",
      "52 Kolmas vanama loeb raamatut...\n",
      "16 Esimene puhvet loeb raamatut...\n",
      "25 Teine kiisumiisu loeb raamatut...\n",
      "...\n"
     ]
    }
   ],
   "source": [
    "counter = 0\n",
    "for text_id, text_obj in collection.select().permutate(seed=0.5):\n",
    "    print( text_id, text_obj.text.split('\\n')[0]+'..')\n",
    "    counter += 1\n",
    "    if counter > 9:\n",
    "        print('...')\n",
    "        break"
   ]
  },
  {
   "cell_type": "markdown",
   "id": "drawn-night",
   "metadata": {},
   "source": [
    "Fixing `seed` can be used to ensure repeatability of the permutation. The `seed` must be a float from range -1.0 to 1.0."
   ]
  },
  {
   "cell_type": "markdown",
   "id": "intelligent-painting",
   "metadata": {},
   "source": [
    "<p>\n",
    "<div class=\"alert alert-block alert-warning\">\n",
    "   <h4><i>Repeatability across platforms with <code>permutate()</code></i></h4> \n",
    "   <p>If you are using PostgreSQL's version &lt; 12.0, be aware that same <code>seed</code> value gives different results on different server platforms (Windows vs Linux). In case of PostgreSQL's versions &gt;= 12.0, the behaviour should be uniform across platforms. </p>\n",
    "</div>\n",
    "</p>"
   ]
  },
  {
   "cell_type": "markdown",
   "id": "impossible-moment",
   "metadata": {},
   "source": [
    "### Sampling `Text`-s from the collection"
   ]
  },
  {
   "cell_type": "markdown",
   "id": "shaped-scholarship",
   "metadata": {},
   "source": [
    "You can apply subcollection's method `sample()` to draw a random sample of texts from the subcollection. \n",
    "The amount of sample must be specified as a parameter, and by default, it is a _percentage_. \n",
    "In the following example, we draw approximately 10% of texts from the collection:"
   ]
  },
  {
   "cell_type": "code",
   "execution_count": 7,
   "id": "unsigned-turkish",
   "metadata": {},
   "outputs": [
    {
     "name": "stdout",
     "output_type": "stream",
     "text": [
      "16 Esimene puhvet loeb raamatut...\n",
      "17 Esimene kuldlõige loeb raamatut...\n",
      "19 Esimene kahvel loeb raamatut...\n",
      "26 Teine vanahärra loeb raamatut...\n",
      "36 Teine klaverijalg loeb raamatut...\n",
      "54 Kolmas tuttav loeb raamatut...\n",
      "77 Neljas vanama loeb raamatut...\n",
      "78 Neljas neiu loeb raamatut...\n",
      "94 Neljas kahvel loeb raamatut...\n",
      "99 Neljas vahvel loeb raamatut...\n"
     ]
    }
   ],
   "source": [
    "for text_id, text_obj in collection.select().sample( 10, seed=55 ):\n",
    "    print( text_id, text_obj.text.split('\\n')[0]+'..')"
   ]
  },
  {
   "cell_type": "markdown",
   "id": "backed-coordinator",
   "metadata": {},
   "source": [
    "Parameter `seed` (a positive integer) can be used to ensure repeatability."
   ]
  },
  {
   "cell_type": "markdown",
   "id": "enclosed-lesbian",
   "metadata": {},
   "source": [
    "Instead of drawing a percentage, you can also use `amount_type='SIZE'` to require that a specific amount of texts will be drawn. For instance, let's draw _approximately_ 15 texts from the collection:"
   ]
  },
  {
   "cell_type": "code",
   "execution_count": 8,
   "id": "prompt-alabama",
   "metadata": {},
   "outputs": [
    {
     "name": "stdout",
     "output_type": "stream",
     "text": [
      "0 Esimene kiisumiisu loeb raamatut...\n",
      "5 Esimene filharmoonik loeb raamatut...\n",
      "10 Esimene kapsauss loeb raamatut...\n",
      "14 Esimene temake loeb raamatut...\n",
      "17 Esimene kuldlõige loeb raamatut...\n",
      "33 Teine teleskoop loeb raamatut...\n",
      "35 Teine kapsauss loeb raamatut...\n",
      "37 Teine sugulane loeb raamatut...\n",
      "42 Teine kuldlõige loeb raamatut...\n",
      "47 Teine lõkats loeb raamatut...\n",
      "54 Kolmas tuttav loeb raamatut...\n",
      "65 Kolmas kvantarvuti loeb raamatut...\n",
      "69 Kolmas kahvel loeb raamatut...\n",
      "73 Kolmas vintraud loeb raamatut...\n",
      "74 Kolmas vahvel loeb raamatut...\n",
      "78 Neljas neiu loeb raamatut...\n",
      "92 Neljas kuldlõige loeb raamatut...\n"
     ]
    }
   ],
   "source": [
    "for text_id, text_obj in collection.select().sample( 15, amount_type='SIZE', seed=25 ):\n",
    "    print( text_id, text_obj.text.split('\\n')[0]+'..')"
   ]
  },
  {
   "cell_type": "markdown",
   "id": "further-edinburgh",
   "metadata": {},
   "source": [
    "_Note:_ Be aware that regardless of the `amount_type`, the number of returned texts **may not correspond exactly to the given amount** -- there can be some fluctuation in size. If you need a sample with exact size, it is advisable to sample a larger amount than needed, shuffle the result (to ensure that all elements have a good chance ending up in the final sample), and then cut the sample to the required size."
   ]
  },
  {
   "cell_type": "markdown",
   "id": "indirect-remove",
   "metadata": {},
   "source": [
    "### Sampling from collection's layer\n",
    "\n",
    "Subcollection's method `sample_from_layer()` allows to draw a random sample from a specific layer.\n",
    "\n",
    "In order to use the method, you first need to specify the target layer in `select()`, e.g. to sample from the 'sentences' layer, first use `select(layers=['sentences'])` on the collection.\n",
    "Then you can apply `sample_from_layer()` on the subcollection. For instance, let us sample _approximately_ 5% of sentences from the collection:"
   ]
  },
  {
   "cell_type": "code",
   "execution_count": 9,
   "id": "later-blend",
   "metadata": {},
   "outputs": [
    {
     "name": "stdout",
     "output_type": "stream",
     "text": [
      "selected text id: 1 | selected sentences (2):\n",
      "   Esimene vanahärra loeb kohvrit.\n",
      "   Esimene vanahärra kasvatab distantsõpet.\n",
      "selected text id: 4 | selected sentences (3):\n",
      "   Esimene tuttav loeb kohvrit.\n",
      "   Esimene tuttav kiigutab raamatut.\n",
      "   Esimene tuttav kiigutab kohvrit.\n",
      "selected text id: 6 | selected sentences (1):\n",
      "   Esimene sahin organiseerib raamatut.\n",
      "selected text id: 7 | selected sentences (2):\n",
      "   Esimene kärbes keedab raamatut.\n",
      "   Esimene kärbes organiseerib kartuleid.\n",
      "selected text id: 9 | selected sentences (2):\n",
      "   Esimene võsalendur keedab raamatut.\n",
      "   Esimene võsalendur kiigutab kartuleid.\n",
      "selected text id: 11 | selected sentences (1):\n",
      "   Esimene klaverijalg organiseerib distantsõpet.\n",
      "selected text id: 13 | selected sentences (2):\n",
      "   Esimene viiuldaja kiigutab kartuleid.\n",
      "   Esimene viiuldaja kiigutab kohvrit.\n",
      "selected text id: 14 | selected sentences (1):\n",
      "   Esimene temake organiseerib ruutmeetreid.\n",
      "selected text id: 15 | selected sentences (1):\n",
      "   Esimene kvantarvuti kiigutab kartuleid.\n",
      "selected text id: 16 | selected sentences (1):\n",
      "   Esimene puhvet keedab ruutmeetreid.\n",
      "selected text id: 20 | selected sentences (1):\n",
      "   Esimene peremees loeb distantsõpet.\n",
      "selected text id: 21 | selected sentences (1):\n",
      "   Esimene kaalujälgija kiigutab kohvrit.\n",
      "selected text id: 22 | selected sentences (1):\n",
      "   Esimene lõkats keedab kartuleid.\n",
      "selected text id: 23 | selected sentences (2):\n",
      "   Esimene vintraud kasvatab distantsõpet.\n",
      "   Esimene vintraud kiigutab kohvrit.\n",
      "selected text id: 24 | selected sentences (1):\n",
      "   Esimene vahvel keedab kartuleid.\n",
      "selected text id: 26 | selected sentences (1):\n",
      "   Teine vanahärra organiseerib distantsõpet.\n",
      "selected text id: 27 | selected sentences (4):\n",
      "   Teine vanama loeb ruutmeetreid.\n",
      "   Teine vanama keedab raamatut.\n",
      "   Teine vanama keedab kartuleid.\n",
      "   Teine vanama kiigutab raamatut.\n",
      "selected text id: 31 | selected sentences (5):\n",
      "   Teine sahin loeb kohvrit.\n",
      "   Teine sahin loeb distantsõpet.\n",
      "   Teine sahin keedab kartuleid.\n",
      "   Teine sahin kasvatab raamatut.\n",
      "   Teine sahin organiseerib raamatut.\n",
      "selected text id: 32 | selected sentences (1):\n",
      "   Teine kärbes loeb kartuleid.\n",
      "selected text id: 37 | selected sentences (2):\n",
      "   Teine sugulane kiigutab kohvrit.\n",
      "   Teine sugulane organiseerib kartuleid.\n",
      "selected text id: 38 | selected sentences (1):\n",
      "   Teine viiuldaja loeb raamatut.\n",
      "selected text id: 40 | selected sentences (2):\n",
      "   Teine kvantarvuti keedab kohvrit.\n",
      "   Teine kvantarvuti kiigutab raamatut.\n",
      "selected text id: 41 | selected sentences (2):\n",
      "   Teine puhvet keedab ruutmeetreid.\n",
      "   Teine puhvet kasvatab raamatut.\n",
      "selected text id: 44 | selected sentences (3):\n",
      "   Teine kahvel keedab ruutmeetreid.\n",
      "   Teine kahvel keedab kohvrit.\n",
      "   Teine kahvel kiigutab ruutmeetreid.\n",
      "selected text id: 51 | selected sentences (1):\n",
      "   Kolmas vanahärra kasvatab raamatut.\n",
      "selected text id: 52 | selected sentences (1):\n",
      "   Kolmas vanama organiseerib distantsõpet.\n",
      "selected text id: 55 | selected sentences (3):\n",
      "   Kolmas filharmoonik keedab kohvrit.\n",
      "   Kolmas filharmoonik kasvatab ruutmeetreid.\n",
      "   Kolmas filharmoonik kiigutab distantsõpet.\n",
      "selected text id: 56 | selected sentences (1):\n",
      "   Kolmas sahin organiseerib kartuleid.\n",
      "selected text id: 61 | selected sentences (3):\n",
      "   Kolmas klaverijalg keedab kartuleid.\n",
      "   Kolmas klaverijalg kasvatab kartuleid.\n",
      "   Kolmas klaverijalg organiseerib distantsõpet.\n",
      "selected text id: 63 | selected sentences (1):\n",
      "   Kolmas viiuldaja loeb kohvrit.\n",
      "selected text id: 65 | selected sentences (4):\n",
      "   Kolmas kvantarvuti loeb distantsõpet.\n",
      "   Kolmas kvantarvuti kasvatab kartuleid.\n",
      "   Kolmas kvantarvuti kiigutab ruutmeetreid.\n",
      "   Kolmas kvantarvuti organiseerib distantsõpet.\n",
      "selected text id: 67 | selected sentences (1):\n",
      "   Kolmas kuldlõige organiseerib distantsõpet.\n",
      "selected text id: 68 | selected sentences (2):\n",
      "   Kolmas proua kiigutab distantsõpet.\n",
      "   Kolmas proua organiseerib distantsõpet.\n",
      "selected text id: 70 | selected sentences (2):\n",
      "   Kolmas peremees loeb kartuleid.\n",
      "   Kolmas peremees loeb kohvrit.\n",
      "selected text id: 71 | selected sentences (1):\n",
      "   Kolmas kaalujälgija keedab distantsõpet.\n",
      "selected text id: 76 | selected sentences (2):\n",
      "   Neljas vanahärra keedab raamatut.\n",
      "   Neljas vanahärra organiseerib kohvrit.\n",
      "selected text id: 77 | selected sentences (3):\n",
      "   Neljas vanama keedab kohvrit.\n",
      "   Neljas vanama kasvatab ruutmeetreid.\n",
      "   Neljas vanama kiigutab kartuleid.\n",
      "selected text id: 79 | selected sentences (2):\n",
      "   Neljas tuttav kiigutab kohvrit.\n",
      "   Neljas tuttav organiseerib distantsõpet.\n",
      "selected text id: 80 | selected sentences (1):\n",
      "   Neljas filharmoonik organiseerib kartuleid.\n",
      "selected text id: 81 | selected sentences (2):\n",
      "   Neljas sahin loeb kohvrit.\n",
      "   Neljas sahin kasvatab raamatut.\n",
      "selected text id: 82 | selected sentences (4):\n",
      "   Neljas kärbes loeb kohvrit.\n",
      "   Neljas kärbes kasvatab ruutmeetreid.\n",
      "   Neljas kärbes kasvatab kohvrit.\n",
      "   Neljas kärbes organiseerib ruutmeetreid.\n",
      "selected text id: 84 | selected sentences (1):\n",
      "   Neljas võsalendur keedab kartuleid.\n",
      "selected text id: 85 | selected sentences (1):\n",
      "   Neljas kapsauss kasvatab kohvrit.\n",
      "selected text id: 86 | selected sentences (1):\n",
      "   Neljas klaverijalg keedab kartuleid.\n",
      "selected text id: 88 | selected sentences (1):\n",
      "   Neljas viiuldaja organiseerib kohvrit.\n",
      "selected text id: 89 | selected sentences (2):\n",
      "   Neljas temake loeb kartuleid.\n",
      "   Neljas temake kiigutab ruutmeetreid.\n",
      "selected text id: 91 | selected sentences (1):\n",
      "   Neljas puhvet kiigutab raamatut.\n",
      "selected text id: 92 | selected sentences (2):\n",
      "   Neljas kuldlõige kasvatab kartuleid.\n",
      "   Neljas kuldlõige kiigutab kartuleid.\n",
      "selected text id: 93 | selected sentences (3):\n",
      "   Neljas proua loeb kohvrit.\n",
      "   Neljas proua kiigutab ruutmeetreid.\n",
      "   Neljas proua kiigutab distantsõpet.\n",
      "selected text id: 94 | selected sentences (3):\n",
      "   Neljas kahvel keedab kohvrit.\n",
      "   Neljas kahvel kasvatab ruutmeetreid.\n",
      "   Neljas kahvel kiigutab ruutmeetreid.\n",
      "selected text id: 98 | selected sentences (1):\n",
      "   Neljas vintraud kasvatab kartuleid.\n"
     ]
    }
   ],
   "source": [
    "for text_id, text_obj in collection.select(layers=['sentences']).sample_from_layer('sentences', 5, seed=0.5):\n",
    "    # Output text id\n",
    "    print('selected text id:', text_id, '|', end=' ')\n",
    "    # Output randomly selected sentences\n",
    "    print( 'selected sentences ({}):'.format(len(text_obj.sentences)) )\n",
    "    for sentence in text_obj.sentences:\n",
    "        print( '  ', sentence.enclosing_text )"
   ]
  },
  {
   "cell_type": "markdown",
   "id": "educational-register",
   "metadata": {},
   "source": [
    "While the method `sample_from_layer()` will return `Text` objects with their full textual content, it will only return _randomly chosen spans_ from the sampled layer:"
   ]
  },
  {
   "cell_type": "code",
   "execution_count": 10,
   "id": "overhead-breakfast",
   "metadata": {},
   "outputs": [
    {
     "name": "stdout",
     "output_type": "stream",
     "text": [
      "selected text id: 1\n"
     ]
    },
    {
     "data": {
      "text/html": [
       "<script>\n",
       "var elements = document.getElementsByClassName(\"overlapping-span\")\n",
       "for (let i = 0; i < elements.length; i++){\n",
       "    elements.item(i).addEventListener(\"click\",function() {show_conflicting_spans(elements.item(i));})}\n",
       "\n",
       "function show_conflicting_spans(span_element) {\n",
       "    let spantable = document.createElement('div')\n",
       "    spantable.classList.add('tables')\n",
       "\n",
       "    // Prepare the contents of the span table\n",
       "    data = span_element.getAttribute(\"span_info\")\n",
       "    data = data.split(\",\")\n",
       "    var spancontent = '<table>'\n",
       "    for (let row of data) {\n",
       "        spancontent+='<tr><td>'\n",
       "        spancontent+=row\n",
       "        spancontent+='</td></tr>'\n",
       "    }\n",
       "    spancontent += '</table>'\n",
       "    spantable.innerHTML = spancontent\n",
       "    span_element.parentElement.appendChild(spantable)\n",
       "\n",
       "    // Increase the size of the cell so the tables would fit\n",
       "    spantable.parentElement.style.height = Math.max(Number(spantable.parentElement.style.height.substring(0,spantable.parentElement.style.height.length-2)),span_element.offsetTop+90)+ 'px'\n",
       "    // Position the table directly below the corresponding text\n",
       "    spantable.style.left = span_element.getBoundingClientRect().left-spantable.parentElement.parentElement.getBoundingClientRect().left + 'px'\n",
       "    spantable.style.top = span_element.getBoundingClientRect().top-spantable.parentElement.parentElement.getBoundingClientRect().top+20+ 'px'\n",
       "\n",
       "    // Remove the table when clicked on again\n",
       "    spantable.addEventListener('click', function () {\n",
       "        let element = this.parentElement\n",
       "        element.removeChild(this)\n",
       "    })\n",
       "}\n",
       "</script><style>\n",
       ".span {\n",
       "    background-color: yellow;\n",
       "}\n",
       "\n",
       ".overlapping-span {\n",
       "    background-color: red;\n",
       "}\n",
       "\n",
       ".spanline {\n",
       "    background-color: blue;\n",
       "    position: relative;\n",
       "    height: 3px;\n",
       "    margin-left: 0px;\n",
       "}\n",
       "\n",
       ".tables {\n",
       "    position: absolute;\n",
       "    width: fit-content;\n",
       "    width: -moz-fit-content;\n",
       "    border: 1px solid black;\n",
       "}\n",
       "\n",
       ".maintext{0} {\n",
       "    position: relative;\n",
       "}\n",
       "\n",
       ".tables tbody tr:nth-child(even) {\n",
       "    background-color: lightgray;\n",
       "}\n",
       "\n",
       ".tables tbody tr:nth-child(odd) {\n",
       "    background-color: beige;\n",
       "}\n",
       "\n",
       ".tables tbody tr:hover {\n",
       "    background-color: ivory;\n",
       "}\n",
       "</style>Esimene vanahärra loeb raamatut.<br>Esimene vanahärra loeb ruutmeetreid.<br>Esimene vanahärra loeb kartuleid.<br><span style=background:yellow; \">Esimene vanahärra loeb kohvrit.</span><br>Esimene vanahärra loeb distantsõpet.<br>Esimene vanahärra keedab raamatut.<br>Esimene vanahärra keedab ruutmeetreid.<br>Esimene vanahärra keedab kartuleid.<br>Esimene vanahärra keedab kohvrit.<br>Esimene vanahärra keedab distantsõpet.<br>Esimene vanahärra kasvatab raamatut.<br>Esimene vanahärra kasvatab ruutmeetreid.<br>Esimene vanahärra kasvatab kartuleid.<br>Esimene vanahärra kasvatab kohvrit.<br><span style=background:yellow; \">Esimene vanahärra kasvatab distantsõpet.</span><br>Esimene vanahärra kiigutab raamatut.<br>Esimene vanahärra kiigutab ruutmeetreid.<br>Esimene vanahärra kiigutab kartuleid.<br>Esimene vanahärra kiigutab kohvrit.<br>Esimene vanahärra kiigutab distantsõpet.<br>Esimene vanahärra organiseerib raamatut.<br>Esimene vanahärra organiseerib ruutmeetreid.<br>Esimene vanahärra organiseerib kartuleid.<br>Esimene vanahärra organiseerib kohvrit.<br>Esimene vanahärra organiseerib distantsõpet."
      ]
     },
     "metadata": {},
     "output_type": "display_data"
    }
   ],
   "source": [
    "# Display sampled sentences from the first Text object\n",
    "for text_id, text_obj in collection.select(layers=['sentences']).sample_from_layer('sentences', 5, seed=0.5):\n",
    "    print('selected text id:', text_id)\n",
    "    text_obj.sentences.display()\n",
    "    break"
   ]
  },
  {
   "cell_type": "markdown",
   "id": "distinguished-reserve",
   "metadata": {},
   "source": [
    "Note that sampling _only applies on the target layer_ -- all other selected layers will be returned at their full length."
   ]
  },
  {
   "cell_type": "markdown",
   "id": "approved-pizza",
   "metadata": {},
   "source": [
    "Additional notes about `sample_from_layer()`:\n",
    "\n",
    "   * Fixing `seed` (a float from range -1.0 to 1.0) can be used to ensure repeatability of sampling;\n",
    "   \n",
    "    * But if you are using PostgreSQL's version &lt; 12.0, then same `seed` gives different results on different platforms (Windows vs Linux). In case of PostgreSQL's versions &gt;= 12.0, the behaviour should be uniform across platforms.\n",
    "\n",
    "\n",
    "   * Instead of drawing a percentage of spans, you can also use `amount_type='SIZE'` to require that a specific amount of spans will be drawn;\n",
    "   \n",
    "    * But be aware that regardless of the `amount_type`, the number of returned texts **may not correspond exactly to the given amount** -- there can be some fluctuation in size."
   ]
  },
  {
   "cell_type": "markdown",
   "id": "neutral-taxation",
   "metadata": {},
   "source": [
    "### Combining with queries\n",
    "\n",
    "As permutating and sampling are subcollection's methods, you can apply these methods on query results.\n",
    "\n",
    "For instance, let's use `SubstringQuery` to select only texts with substring \"Kolmas\" (1/4 of all texts), and then use `sample_from_layer` to draw approximately 25% of sentences from these texts:"
   ]
  },
  {
   "cell_type": "code",
   "execution_count": 11,
   "id": "durable-consumption",
   "metadata": {},
   "outputs": [
    {
     "name": "stdout",
     "output_type": "stream",
     "text": [
      "selected text id: 50 | selected sentences (10):\n",
      "   Kolmas kiisumiisu loeb raamatut.\n",
      "   Kolmas kiisumiisu loeb kartuleid.\n",
      "   Kolmas kiisumiisu keedab kohvrit.\n",
      "   Kolmas kiisumiisu keedab distantsõpet.\n",
      "   Kolmas kiisumiisu kasvatab ruutmeetreid.\n",
      "   Kolmas kiisumiisu kasvatab kartuleid.\n",
      "   Kolmas kiisumiisu kasvatab distantsõpet.\n",
      "   Kolmas kiisumiisu kiigutab distantsõpet.\n",
      "   Kolmas kiisumiisu organiseerib raamatut.\n",
      "   Kolmas kiisumiisu organiseerib ruutmeetreid.\n",
      "selected text id: 51 | selected sentences (9):\n",
      "   Kolmas vanahärra loeb raamatut.\n",
      "   Kolmas vanahärra loeb ruutmeetreid.\n",
      "   Kolmas vanahärra loeb kartuleid.\n",
      "   Kolmas vanahärra keedab ruutmeetreid.\n",
      "   Kolmas vanahärra keedab distantsõpet.\n",
      "   Kolmas vanahärra kasvatab kartuleid.\n",
      "   Kolmas vanahärra kiigutab kartuleid.\n",
      "   Kolmas vanahärra kiigutab distantsõpet.\n",
      "   Kolmas vanahärra organiseerib distantsõpet.\n",
      "selected text id: 52 | selected sentences (8):\n",
      "   Kolmas vanama kasvatab raamatut.\n",
      "   Kolmas vanama kasvatab ruutmeetreid.\n",
      "   Kolmas vanama kasvatab distantsõpet.\n",
      "   Kolmas vanama kiigutab raamatut.\n",
      "   Kolmas vanama kiigutab ruutmeetreid.\n",
      "   Kolmas vanama kiigutab kohvrit.\n",
      "   Kolmas vanama organiseerib kartuleid.\n",
      "   Kolmas vanama organiseerib kohvrit.\n",
      "selected text id: 53 | selected sentences (8):\n",
      "   Kolmas neiu loeb ruutmeetreid.\n",
      "   Kolmas neiu loeb distantsõpet.\n",
      "   Kolmas neiu keedab distantsõpet.\n",
      "   Kolmas neiu kiigutab kartuleid.\n",
      "   Kolmas neiu organiseerib raamatut.\n",
      "   Kolmas neiu organiseerib kartuleid.\n",
      "   Kolmas neiu organiseerib kohvrit.\n",
      "   Kolmas neiu organiseerib distantsõpet.\n",
      "selected text id: 54 | selected sentences (5):\n",
      "   Kolmas tuttav loeb kartuleid.\n",
      "   Kolmas tuttav keedab raamatut.\n",
      "   Kolmas tuttav kasvatab kohvrit.\n",
      "   Kolmas tuttav organiseerib ruutmeetreid.\n",
      "   Kolmas tuttav organiseerib kohvrit.\n",
      "selected text id: 55 | selected sentences (6):\n",
      "   Kolmas filharmoonik keedab kartuleid.\n",
      "   Kolmas filharmoonik kasvatab raamatut.\n",
      "   Kolmas filharmoonik kasvatab ruutmeetreid.\n",
      "   Kolmas filharmoonik kasvatab kartuleid.\n",
      "   Kolmas filharmoonik organiseerib kartuleid.\n",
      "   Kolmas filharmoonik organiseerib distantsõpet.\n",
      "selected text id: 56 | selected sentences (8):\n",
      "   Kolmas sahin loeb raamatut.\n",
      "   Kolmas sahin loeb kartuleid.\n",
      "   Kolmas sahin loeb distantsõpet.\n",
      "   Kolmas sahin keedab ruutmeetreid.\n",
      "   Kolmas sahin kasvatab ruutmeetreid.\n",
      "   Kolmas sahin kiigutab ruutmeetreid.\n",
      "   Kolmas sahin kiigutab kartuleid.\n",
      "   Kolmas sahin organiseerib raamatut.\n",
      "selected text id: 57 | selected sentences (2):\n",
      "   Kolmas kärbes kiigutab kartuleid.\n",
      "   Kolmas kärbes kiigutab kohvrit.\n",
      "selected text id: 58 | selected sentences (3):\n",
      "   Kolmas teleskoop loeb ruutmeetreid.\n",
      "   Kolmas teleskoop loeb kartuleid.\n",
      "   Kolmas teleskoop kiigutab kohvrit.\n",
      "selected text id: 59 | selected sentences (4):\n",
      "   Kolmas võsalendur loeb raamatut.\n",
      "   Kolmas võsalendur loeb ruutmeetreid.\n",
      "   Kolmas võsalendur kasvatab distantsõpet.\n",
      "   Kolmas võsalendur organiseerib kartuleid.\n",
      "selected text id: 60 | selected sentences (9):\n",
      "   Kolmas kapsauss loeb ruutmeetreid.\n",
      "   Kolmas kapsauss loeb kohvrit.\n",
      "   Kolmas kapsauss keedab raamatut.\n",
      "   Kolmas kapsauss keedab ruutmeetreid.\n",
      "   Kolmas kapsauss kasvatab raamatut.\n",
      "   Kolmas kapsauss kasvatab kohvrit.\n",
      "   Kolmas kapsauss kiigutab ruutmeetreid.\n",
      "   Kolmas kapsauss organiseerib raamatut.\n",
      "   Kolmas kapsauss organiseerib kohvrit.\n",
      "selected text id: 61 | selected sentences (8):\n",
      "   Kolmas klaverijalg loeb distantsõpet.\n",
      "   Kolmas klaverijalg keedab kohvrit.\n",
      "   Kolmas klaverijalg kasvatab kohvrit.\n",
      "   Kolmas klaverijalg kiigutab ruutmeetreid.\n",
      "   Kolmas klaverijalg kiigutab kohvrit.\n",
      "   Kolmas klaverijalg organiseerib raamatut.\n",
      "   Kolmas klaverijalg organiseerib ruutmeetreid.\n",
      "   Kolmas klaverijalg organiseerib distantsõpet.\n",
      "selected text id: 62 | selected sentences (6):\n",
      "   Kolmas sugulane loeb raamatut.\n",
      "   Kolmas sugulane kasvatab distantsõpet.\n",
      "   Kolmas sugulane kiigutab raamatut.\n",
      "   Kolmas sugulane kiigutab kartuleid.\n",
      "   Kolmas sugulane kiigutab kohvrit.\n",
      "   Kolmas sugulane kiigutab distantsõpet.\n",
      "selected text id: 63 | selected sentences (8):\n",
      "   Kolmas viiuldaja loeb ruutmeetreid.\n",
      "   Kolmas viiuldaja keedab raamatut.\n",
      "   Kolmas viiuldaja keedab kartuleid.\n",
      "   Kolmas viiuldaja kasvatab ruutmeetreid.\n",
      "   Kolmas viiuldaja kiigutab distantsõpet.\n",
      "   Kolmas viiuldaja organiseerib raamatut.\n",
      "   Kolmas viiuldaja organiseerib kartuleid.\n",
      "   Kolmas viiuldaja organiseerib distantsõpet.\n",
      "selected text id: 64 | selected sentences (5):\n",
      "   Kolmas temake loeb kartuleid.\n",
      "   Kolmas temake loeb distantsõpet.\n",
      "   Kolmas temake keedab kohvrit.\n",
      "   Kolmas temake kiigutab distantsõpet.\n",
      "   Kolmas temake organiseerib kartuleid.\n",
      "selected text id: 65 | selected sentences (5):\n",
      "   Kolmas kvantarvuti loeb distantsõpet.\n",
      "   Kolmas kvantarvuti kasvatab ruutmeetreid.\n",
      "   Kolmas kvantarvuti kasvatab kartuleid.\n",
      "   Kolmas kvantarvuti kiigutab distantsõpet.\n",
      "   Kolmas kvantarvuti organiseerib ruutmeetreid.\n",
      "selected text id: 66 | selected sentences (6):\n",
      "   Kolmas puhvet loeb kohvrit.\n",
      "   Kolmas puhvet kasvatab ruutmeetreid.\n",
      "   Kolmas puhvet kiigutab ruutmeetreid.\n",
      "   Kolmas puhvet kiigutab kartuleid.\n",
      "   Kolmas puhvet organiseerib raamatut.\n",
      "   Kolmas puhvet organiseerib kartuleid.\n",
      "selected text id: 67 | selected sentences (5):\n",
      "   Kolmas kuldlõige loeb ruutmeetreid.\n",
      "   Kolmas kuldlõige keedab kartuleid.\n",
      "   Kolmas kuldlõige kasvatab distantsõpet.\n",
      "   Kolmas kuldlõige kiigutab kartuleid.\n",
      "   Kolmas kuldlõige organiseerib kartuleid.\n",
      "selected text id: 68 | selected sentences (5):\n",
      "   Kolmas proua loeb raamatut.\n",
      "   Kolmas proua loeb distantsõpet.\n",
      "   Kolmas proua keedab distantsõpet.\n",
      "   Kolmas proua organiseerib ruutmeetreid.\n",
      "   Kolmas proua organiseerib distantsõpet.\n",
      "selected text id: 69 | selected sentences (7):\n",
      "   Kolmas kahvel loeb raamatut.\n",
      "   Kolmas kahvel loeb distantsõpet.\n",
      "   Kolmas kahvel keedab raamatut.\n",
      "   Kolmas kahvel kasvatab raamatut.\n",
      "   Kolmas kahvel kasvatab ruutmeetreid.\n",
      "   Kolmas kahvel kasvatab distantsõpet.\n",
      "   Kolmas kahvel kiigutab kohvrit.\n",
      "selected text id: 70 | selected sentences (4):\n",
      "   Kolmas peremees keedab raamatut.\n",
      "   Kolmas peremees kasvatab raamatut.\n",
      "   Kolmas peremees kiigutab kohvrit.\n",
      "   Kolmas peremees organiseerib kartuleid.\n",
      "selected text id: 71 | selected sentences (3):\n",
      "   Kolmas kaalujälgija kasvatab kartuleid.\n",
      "   Kolmas kaalujälgija kiigutab ruutmeetreid.\n",
      "   Kolmas kaalujälgija kiigutab distantsõpet.\n",
      "selected text id: 72 | selected sentences (2):\n",
      "   Kolmas lõkats kasvatab distantsõpet.\n",
      "   Kolmas lõkats organiseerib distantsõpet.\n",
      "selected text id: 73 | selected sentences (6):\n",
      "   Kolmas vintraud loeb kartuleid.\n",
      "   Kolmas vintraud loeb kohvrit.\n",
      "   Kolmas vintraud kasvatab raamatut.\n",
      "   Kolmas vintraud kiigutab raamatut.\n",
      "   Kolmas vintraud kiigutab ruutmeetreid.\n",
      "   Kolmas vintraud kiigutab kartuleid.\n",
      "selected text id: 74 | selected sentences (10):\n",
      "   Kolmas vahvel loeb raamatut.\n",
      "   Kolmas vahvel loeb distantsõpet.\n",
      "   Kolmas vahvel keedab ruutmeetreid.\n",
      "   Kolmas vahvel kasvatab kohvrit.\n",
      "   Kolmas vahvel kasvatab distantsõpet.\n",
      "   Kolmas vahvel kiigutab raamatut.\n",
      "   Kolmas vahvel kiigutab ruutmeetreid.\n",
      "   Kolmas vahvel kiigutab distantsõpet.\n",
      "   Kolmas vahvel organiseerib kartuleid.\n",
      "   Kolmas vahvel organiseerib distantsõpet.\n"
     ]
    }
   ],
   "source": [
    "from estnltk.storage.postgres import SubstringQuery\n",
    "\n",
    "q = SubstringQuery('Kolmas')\n",
    "for text_id, text_obj in collection.select(query=q, layers=['sentences']).sample_from_layer('sentences', 25, seed=0.0):\n",
    "    # Output text id\n",
    "    print('selected text id:', text_id, '|', end=' ')\n",
    "    # Output randomly selected sentences\n",
    "    print( 'selected sentences ({}):'.format(len(text_obj.sentences)) )\n",
    "    for sentence in text_obj.sentences:\n",
    "        print( '  ', sentence.enclosing_text )"
   ]
  },
  {
   "cell_type": "markdown",
   "id": "applicable-robin",
   "metadata": {},
   "source": [
    "Finally, clean up the database and disconnect:"
   ]
  },
  {
   "cell_type": "code",
   "execution_count": 12,
   "id": "entertaining-mistress",
   "metadata": {},
   "outputs": [],
   "source": [
    "collection.delete()"
   ]
  },
  {
   "cell_type": "code",
   "execution_count": 13,
   "id": "configured-execution",
   "metadata": {},
   "outputs": [],
   "source": [
    "delete_schema(storage)\n",
    "storage.close()"
   ]
  }
 ],
 "metadata": {
  "kernelspec": {
   "display_name": "Python 3 (ipykernel)",
   "language": "python",
   "name": "python3"
  },
  "language_info": {
   "codemirror_mode": {
    "name": "ipython",
    "version": 3
   },
   "file_extension": ".py",
   "mimetype": "text/x-python",
   "name": "python",
   "nbconvert_exporter": "python",
   "pygments_lexer": "ipython3",
   "version": "3.9.12"
  }
 },
 "nbformat": 4,
 "nbformat_minor": 5
}
