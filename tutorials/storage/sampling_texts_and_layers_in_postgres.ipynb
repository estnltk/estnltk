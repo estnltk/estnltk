{
 "cells": [
  {
   "cell_type": "markdown",
   "id": "valued-glenn",
   "metadata": {},
   "source": [
    "# Sampling `Text` objects and layers from a PostgreSQL database\n",
    "\n",
    "EstNLTK also provides methods for shuffling a text collection and drawing samples from a collection stored in a PostgreSQL database. "
   ]
  },
  {
   "cell_type": "markdown",
   "id": "lesbian-influence",
   "metadata": {},
   "source": [
    "### Preparing data\n",
    "\n",
    "To demonstrate these methods, let us first define a function that generates example data:"
   ]
  },
  {
   "cell_type": "code",
   "execution_count": 1,
   "id": "imperial-copyright",
   "metadata": {},
   "outputs": [],
   "source": [
    "from estnltk import Text, logger\n",
    "\n",
    "def create_test_collection_of_docs():\n",
    "    # Generates a test set containing 100 documents and 2500 sentences\n",
    "    # 1) Define subject words and phrases:\n",
    "    subj_words = ['kiisumiisu', 'vanahärra', 'vanama', 'neiu', 'tuttav', \\\n",
    "                  'filharmoonik', 'sahin', 'kärbes', 'teleskoop', 'võsalendur',\\\n",
    "                  'kapsauss', 'klaverijalg', 'sugulane', 'viiuldaja', 'temake', \\\n",
    "                  'kvantarvuti', 'puhvet', 'kuldlõige', 'proua', 'kahvel', \\\n",
    "                  'peremees', 'kaalujälgija', 'lõkats', 'vintraud', 'vahvel']\n",
    "    new_subj_words =[]\n",
    "    for adj in ['esimene', 'teine', 'kolmas', 'neljas']:\n",
    "        for subj in subj_words:\n",
    "            new_subj_words.append( adj+' '+subj )\n",
    "    subj_words = new_subj_words\n",
    "    # 2) Define verbs and objects:\n",
    "    verb_words = ['loeb', 'keedab', 'kasvatab', 'kiigutab', 'organiseerib']\n",
    "    obj_words = ['raamatut', 'ruutmeetreid', 'kartuleid', 'kohvrit', 'distantsõpet']\n",
    "    test_texts = []\n",
    "    sentence_counter = 0\n",
    "    # 3) Generate one document per each subject\n",
    "    for subj in subj_words:\n",
    "        subj_text = []\n",
    "        # Generate sentences for the text\n",
    "        for verb in verb_words:\n",
    "            for obj in obj_words:\n",
    "                text_str = (' '.join([subj, verb, obj])).capitalize()+'.'\n",
    "                subj_text.append( text_str )\n",
    "                sentence_counter += 1\n",
    "        text = Text( '\\n'.join(subj_text) )\n",
    "        text.meta['text_id'] = len(test_texts)\n",
    "        text.meta['text_actor'] = subj.capitalize()\n",
    "        test_texts.append( text )\n",
    "    logger.info('Total {} sentences generated.'.format(sentence_counter))\n",
    "    logger.info('Total {} texts generated.'.format(len(test_texts)))\n",
    "    return test_texts"
   ]
  },
  {
   "cell_type": "code",
   "execution_count": 2,
   "id": "featured-option",
   "metadata": {},
   "outputs": [
    {
     "name": "stdout",
     "output_type": "stream",
     "text": [
      "INFO:<ipython-input-1-48445a78a642>:34: Total 2500 sentences generated.\n",
      "INFO:<ipython-input-1-48445a78a642>:35: Total 100 texts generated.\n"
     ]
    }
   ],
   "source": [
    "test_texts = create_test_collection_of_docs()"
   ]
  },
  {
   "cell_type": "markdown",
   "id": "fourth-paris",
   "metadata": {},
   "source": [
    "Connect to the database and set up the schema:"
   ]
  },
  {
   "cell_type": "code",
   "execution_count": 3,
   "id": "modular-exploration",
   "metadata": {},
   "outputs": [
    {
     "name": "stdout",
     "output_type": "stream",
     "text": [
      "INFO:storage.py:42: connecting to host: 'localhost', port: '5432', dbname: 'test_db', user: 'postgres'\n",
      "INFO:storage.py:58: schema: 'my_schema', temporary: False, role: 'postgres'\n"
     ]
    }
   ],
   "source": [
    "from estnltk.storage.postgres import PostgresStorage, create_schema, delete_schema\n",
    "\n",
    "storage = PostgresStorage(pgpass_file='~/.pgpass', dbname='test_db', schema='my_schema')\n",
    "create_schema(storage)"
   ]
  },
  {
   "cell_type": "markdown",
   "id": "checked-prairie",
   "metadata": {},
   "source": [
    "Create a new collection. Add tokenization layers to `Text` objects and insert them into the collection:"
   ]
  },
  {
   "cell_type": "code",
   "execution_count": 4,
   "id": "split-devon",
   "metadata": {},
   "outputs": [
    {
     "name": "stdout",
     "output_type": "stream",
     "text": [
      "INFO:collection.py:101: new empty collection 'sampling_test_collection' created\n",
      "INFO:collection_text_object_inserter.py:110: inserted 100 texts into the collection 'sampling_test_collection'\n"
     ]
    }
   ],
   "source": [
    "from collections import OrderedDict\n",
    "\n",
    "collection = storage['sampling_test_collection']\n",
    "collection.create(meta=OrderedDict([('text_actor', 'str')]))\n",
    "\n",
    "with collection.insert() as collection_insert:\n",
    "    for text_obj in test_texts:\n",
    "        # Add tokenization layers to the Text\n",
    "        text_obj.tag_layer('sentences')\n",
    "        # Insert Text into the database\n",
    "        collection_insert(text_obj, meta_data={'text_actor':text_obj.meta['text_actor'] })"
   ]
  },
  {
   "cell_type": "markdown",
   "id": "negative-underwear",
   "metadata": {},
   "source": [
    "### Permutating the collection\n",
    "\n",
    "By default, collection's `select()` will return texts in the order of their insertion (i.e. texts are sorted by `text_id`):"
   ]
  },
  {
   "cell_type": "code",
   "execution_count": 5,
   "id": "threatened-cookbook",
   "metadata": {},
   "outputs": [
    {
     "name": "stdout",
     "output_type": "stream",
     "text": [
      "0 Esimene kiisumiisu loeb raamatut...\n",
      "1 Esimene vanahärra loeb raamatut...\n",
      "2 Esimene vanama loeb raamatut...\n",
      "3 Esimene neiu loeb raamatut...\n",
      "4 Esimene tuttav loeb raamatut...\n",
      "5 Esimene filharmoonik loeb raamatut...\n",
      "6 Esimene sahin loeb raamatut...\n",
      "7 Esimene kärbes loeb raamatut...\n",
      "8 Esimene teleskoop loeb raamatut...\n",
      "9 Esimene võsalendur loeb raamatut...\n"
     ]
    }
   ],
   "source": [
    "for text_id, text_obj in collection.select().head(10):\n",
    "    print( text_id, text_obj.text.split('\\n')[0]+'..')"
   ]
  },
  {
   "cell_type": "markdown",
   "id": "young-coral",
   "metadata": {},
   "source": [
    "You can apply subcollection's method `permutate()` to retrieve texts in random order:"
   ]
  },
  {
   "cell_type": "code",
   "execution_count": 6,
   "id": "compressed-directive",
   "metadata": {},
   "outputs": [
    {
     "name": "stdout",
     "output_type": "stream",
     "text": [
      "65 Kolmas kvantarvuti loeb raamatut...\n",
      "55 Kolmas filharmoonik loeb raamatut...\n",
      "90 Neljas kvantarvuti loeb raamatut...\n",
      "45 Teine peremees loeb raamatut...\n",
      "14 Esimene temake loeb raamatut...\n",
      "50 Kolmas kiisumiisu loeb raamatut...\n",
      "26 Teine vanahärra loeb raamatut...\n",
      "88 Neljas viiuldaja loeb raamatut...\n",
      "93 Neljas proua loeb raamatut...\n",
      "36 Teine klaverijalg loeb raamatut...\n"
     ]
    }
   ],
   "source": [
    "counter = 0\n",
    "for text_id, text_obj in collection.select().permutate(seed=0.5):\n",
    "    print( text_id, text_obj.text.split('\\n')[0]+'..')\n",
    "    counter += 1\n",
    "    if counter > 9:\n",
    "        break"
   ]
  },
  {
   "cell_type": "markdown",
   "id": "drawn-night",
   "metadata": {},
   "source": [
    "Fixing `seed` can be used to ensure repeatability of the permutation. The `seed` must be a float from range -1.0 to 1.0."
   ]
  },
  {
   "cell_type": "markdown",
   "id": "intelligent-painting",
   "metadata": {},
   "source": [
    "<p>\n",
    "<div class=\"alert alert-block alert-warning\">\n",
    "   <h4><i>Repeatability across platforms with <code>permutate()</code></i></h4> \n",
    "   <p>If you are using PostgreSQL's version &lt; 12.0, be aware that same <code>seed</code> value gives different results on different server platforms (Windows vs Linux). In case of PostgreSQL's versions &gt;= 12.0, the behaviour should be uniform across platforms. </p>\n",
    "</div>\n",
    "</p>"
   ]
  },
  {
   "cell_type": "markdown",
   "id": "impossible-moment",
   "metadata": {},
   "source": [
    "### Sampling `Text`-s from the collection"
   ]
  },
  {
   "cell_type": "markdown",
   "id": "shaped-scholarship",
   "metadata": {},
   "source": [
    "You can apply subcollection's method `sample()` to draw a random sample of texts from the subcollection. \n",
    "The amount of sample must be specified as a parameter, and by default, it is a _percentage_. \n",
    "In the following example, we draw approximately 10% of texts from the collection:"
   ]
  },
  {
   "cell_type": "code",
   "execution_count": 7,
   "id": "unsigned-turkish",
   "metadata": {},
   "outputs": [
    {
     "name": "stdout",
     "output_type": "stream",
     "text": [
      "16 Esimene puhvet loeb raamatut...\n",
      "17 Esimene kuldlõige loeb raamatut...\n",
      "19 Esimene kahvel loeb raamatut...\n",
      "26 Teine vanahärra loeb raamatut...\n",
      "36 Teine klaverijalg loeb raamatut...\n",
      "54 Kolmas tuttav loeb raamatut...\n",
      "77 Neljas vanama loeb raamatut...\n",
      "78 Neljas neiu loeb raamatut...\n",
      "94 Neljas kahvel loeb raamatut...\n",
      "99 Neljas vahvel loeb raamatut...\n"
     ]
    }
   ],
   "source": [
    "for text_id, text_obj in collection.select().sample( 10, seed=55 ):\n",
    "    print( text_id, text_obj.text.split('\\n')[0]+'..')"
   ]
  },
  {
   "cell_type": "markdown",
   "id": "backed-coordinator",
   "metadata": {},
   "source": [
    "Parameter `seed` (a positive integer) can be used to ensure repeatability."
   ]
  },
  {
   "cell_type": "markdown",
   "id": "enclosed-lesbian",
   "metadata": {},
   "source": [
    "Instead of drawing a percentage, you can also use `amount_type='SIZE'` to require that a specific amount of texts will be drawn. For instance, let's draw _approximately_ 15 texts from the collection:"
   ]
  },
  {
   "cell_type": "code",
   "execution_count": 8,
   "id": "prompt-alabama",
   "metadata": {},
   "outputs": [
    {
     "name": "stdout",
     "output_type": "stream",
     "text": [
      "0 Esimene kiisumiisu loeb raamatut...\n",
      "5 Esimene filharmoonik loeb raamatut...\n",
      "10 Esimene kapsauss loeb raamatut...\n",
      "14 Esimene temake loeb raamatut...\n",
      "17 Esimene kuldlõige loeb raamatut...\n",
      "33 Teine teleskoop loeb raamatut...\n",
      "35 Teine kapsauss loeb raamatut...\n",
      "37 Teine sugulane loeb raamatut...\n",
      "42 Teine kuldlõige loeb raamatut...\n",
      "47 Teine lõkats loeb raamatut...\n",
      "54 Kolmas tuttav loeb raamatut...\n",
      "65 Kolmas kvantarvuti loeb raamatut...\n",
      "69 Kolmas kahvel loeb raamatut...\n",
      "73 Kolmas vintraud loeb raamatut...\n",
      "74 Kolmas vahvel loeb raamatut...\n",
      "78 Neljas neiu loeb raamatut...\n",
      "92 Neljas kuldlõige loeb raamatut...\n"
     ]
    }
   ],
   "source": [
    "for text_id, text_obj in collection.select().sample( 15, amount_type='SIZE', seed=25 ):\n",
    "    print( text_id, text_obj.text.split('\\n')[0]+'..')"
   ]
  },
  {
   "cell_type": "markdown",
   "id": "further-edinburgh",
   "metadata": {},
   "source": [
    "_Note:_ Be aware that regardless of the `amount_type`, the number of returned texts **may not correspond exactly to the given amount** -- there can be some fluctuation in size. If you need a sample with exact size, it is advisable to sample a larger amount than needed, shuffle the result (to ensure that all elements have a good chance ending up in the final sample), and then cut the sample to the required size."
   ]
  },
  {
   "cell_type": "markdown",
   "id": "indirect-remove",
   "metadata": {},
   "source": [
    "### Sampling from collection's layer\n",
    "\n",
    "Subcollection's method `sample_from_layer()` allows to draw a random sample from a specific layer.\n",
    "\n",
    "In order to use the method, you first need to specify the target layer in `select()`, e.g. to sample from the 'sentences' layer, first use `select(layers=['sentences'])` on the collection.\n",
    "Then you can apply `sample_from_layer()` on the subcollection. For instance, let us sample _approximately_ 5% of sentences from the collection:"
   ]
  },
  {
   "cell_type": "code",
   "execution_count": 9,
   "id": "later-blend",
   "metadata": {},
   "outputs": [
    {
     "name": "stdout",
     "output_type": "stream",
     "text": [
      "selected text id: 4 | selected sentences (2):\n",
      "   Esimene tuttav keedab distantsõpet.\n",
      "   Esimene tuttav organiseerib ruutmeetreid.\n",
      "selected text id: 5 | selected sentences (1):\n",
      "   Esimene filharmoonik loeb raamatut.\n",
      "selected text id: 6 | selected sentences (3):\n",
      "   Esimene sahin loeb ruutmeetreid.\n",
      "   Esimene sahin keedab ruutmeetreid.\n",
      "   Esimene sahin kiigutab kartuleid.\n",
      "selected text id: 7 | selected sentences (2):\n",
      "   Esimene kärbes kasvatab raamatut.\n",
      "   Esimene kärbes organiseerib ruutmeetreid.\n",
      "selected text id: 8 | selected sentences (2):\n",
      "   Esimene teleskoop kasvatab distantsõpet.\n",
      "   Esimene teleskoop kiigutab ruutmeetreid.\n",
      "selected text id: 10 | selected sentences (3):\n",
      "   Esimene kapsauss loeb kartuleid.\n",
      "   Esimene kapsauss loeb kohvrit.\n",
      "   Esimene kapsauss kiigutab raamatut.\n",
      "selected text id: 11 | selected sentences (2):\n",
      "   Esimene klaverijalg kiigutab kohvrit.\n",
      "   Esimene klaverijalg organiseerib ruutmeetreid.\n",
      "selected text id: 15 | selected sentences (2):\n",
      "   Esimene kvantarvuti kasvatab raamatut.\n",
      "   Esimene kvantarvuti kiigutab kartuleid.\n",
      "selected text id: 18 | selected sentences (1):\n",
      "   Esimene proua organiseerib ruutmeetreid.\n",
      "selected text id: 20 | selected sentences (2):\n",
      "   Esimene peremees kiigutab raamatut.\n",
      "   Esimene peremees organiseerib kartuleid.\n",
      "selected text id: 23 | selected sentences (2):\n",
      "   Esimene vintraud keedab kartuleid.\n",
      "   Esimene vintraud organiseerib ruutmeetreid.\n",
      "selected text id: 24 | selected sentences (3):\n",
      "   Esimene vahvel loeb kohvrit.\n",
      "   Esimene vahvel kiigutab kohvrit.\n",
      "   Esimene vahvel organiseerib raamatut.\n",
      "selected text id: 26 | selected sentences (1):\n",
      "   Teine vanahärra loeb raamatut.\n",
      "selected text id: 27 | selected sentences (1):\n",
      "   Teine vanama kiigutab ruutmeetreid.\n",
      "selected text id: 28 | selected sentences (1):\n",
      "   Teine neiu organiseerib distantsõpet.\n",
      "selected text id: 29 | selected sentences (1):\n",
      "   Teine tuttav keedab distantsõpet.\n",
      "selected text id: 35 | selected sentences (1):\n",
      "   Teine kapsauss kiigutab raamatut.\n",
      "selected text id: 42 | selected sentences (3):\n",
      "   Teine kuldlõige kasvatab distantsõpet.\n",
      "   Teine kuldlõige kiigutab ruutmeetreid.\n",
      "   Teine kuldlõige organiseerib kohvrit.\n",
      "selected text id: 45 | selected sentences (2):\n",
      "   Teine peremees keedab kartuleid.\n",
      "   Teine peremees kasvatab kohvrit.\n",
      "selected text id: 47 | selected sentences (1):\n",
      "   Teine lõkats kasvatab kartuleid.\n",
      "selected text id: 50 | selected sentences (2):\n",
      "   Kolmas kiisumiisu kiigutab kohvrit.\n",
      "   Kolmas kiisumiisu organiseerib kohvrit.\n",
      "selected text id: 51 | selected sentences (1):\n",
      "   Kolmas vanahärra kasvatab ruutmeetreid.\n",
      "selected text id: 53 | selected sentences (4):\n",
      "   Kolmas neiu loeb kohvrit.\n",
      "   Kolmas neiu keedab kartuleid.\n",
      "   Kolmas neiu organiseerib ruutmeetreid.\n",
      "   Kolmas neiu organiseerib kartuleid.\n",
      "selected text id: 58 | selected sentences (2):\n",
      "   Kolmas teleskoop kasvatab distantsõpet.\n",
      "   Kolmas teleskoop organiseerib raamatut.\n",
      "selected text id: 59 | selected sentences (1):\n",
      "   Kolmas võsalendur keedab kohvrit.\n",
      "selected text id: 62 | selected sentences (2):\n",
      "   Kolmas sugulane loeb kohvrit.\n",
      "   Kolmas sugulane organiseerib distantsõpet.\n",
      "selected text id: 66 | selected sentences (1):\n",
      "   Kolmas puhvet kasvatab distantsõpet.\n",
      "selected text id: 70 | selected sentences (2):\n",
      "   Kolmas peremees loeb distantsõpet.\n",
      "   Kolmas peremees kiigutab distantsõpet.\n",
      "selected text id: 72 | selected sentences (2):\n",
      "   Kolmas lõkats kasvatab kohvrit.\n",
      "   Kolmas lõkats kiigutab raamatut.\n",
      "selected text id: 73 | selected sentences (1):\n",
      "   Kolmas vintraud kasvatab raamatut.\n",
      "selected text id: 74 | selected sentences (1):\n",
      "   Kolmas vahvel kiigutab distantsõpet.\n",
      "selected text id: 79 | selected sentences (1):\n",
      "   Neljas tuttav loeb distantsõpet.\n",
      "selected text id: 82 | selected sentences (2):\n",
      "   Neljas kärbes loeb raamatut.\n",
      "   Neljas kärbes loeb ruutmeetreid.\n",
      "selected text id: 85 | selected sentences (1):\n",
      "   Neljas kapsauss keedab kohvrit.\n",
      "selected text id: 86 | selected sentences (2):\n",
      "   Neljas klaverijalg loeb ruutmeetreid.\n",
      "   Neljas klaverijalg loeb distantsõpet.\n",
      "selected text id: 88 | selected sentences (2):\n",
      "   Neljas viiuldaja loeb kartuleid.\n",
      "   Neljas viiuldaja kasvatab ruutmeetreid.\n",
      "selected text id: 90 | selected sentences (2):\n",
      "   Neljas kvantarvuti keedab ruutmeetreid.\n",
      "   Neljas kvantarvuti kasvatab distantsõpet.\n",
      "selected text id: 91 | selected sentences (1):\n",
      "   Neljas puhvet kasvatab ruutmeetreid.\n",
      "selected text id: 96 | selected sentences (2):\n",
      "   Neljas kaalujälgija keedab raamatut.\n",
      "   Neljas kaalujälgija keedab distantsõpet.\n"
     ]
    }
   ],
   "source": [
    "for text_id, text_obj in collection.select(layers=['sentences']).sample_from_layer('sentences', 5, seed=0.5):\n",
    "    # Output text id\n",
    "    print('selected text id:', text_id, '|', end=' ')\n",
    "    # Output randomly selected sentences\n",
    "    print( 'selected sentences ({}):'.format(len(text_obj.sentences)) )\n",
    "    for sentence in text_obj.sentences:\n",
    "        print( '  ', sentence.enclosing_text )"
   ]
  },
  {
   "cell_type": "markdown",
   "id": "educational-register",
   "metadata": {},
   "source": [
    "While the method `sample_from_layer()` will return `Text` objects with their full textual content, it will only return _randomly chosen spans_ from the sampled layer:"
   ]
  },
  {
   "cell_type": "code",
   "execution_count": 10,
   "id": "overhead-breakfast",
   "metadata": {},
   "outputs": [
    {
     "name": "stdout",
     "output_type": "stream",
     "text": [
      "selected text id: 4\n"
     ]
    },
    {
     "data": {
      "text/html": [
       "<script>\n",
       "var elements = document.getElementsByClassName(\"overlapping-span\")\n",
       "for (let i = 0; i < elements.length; i++){\n",
       "    elements.item(i).addEventListener(\"click\",function() {show_conflicting_spans(elements.item(i));})}\n",
       "\n",
       "function show_conflicting_spans(span_element) {\n",
       "    let spantable = document.createElement('div')\n",
       "    spantable.classList.add('tables')\n",
       "\n",
       "    // Prepare the contents of the span table\n",
       "    data = span_element.getAttribute(\"span_info\")\n",
       "    data = data.split(\",\")\n",
       "    var spancontent = '<table>'\n",
       "    for (let row of data) {\n",
       "        spancontent+='<tr><td>'\n",
       "        spancontent+=row\n",
       "        spancontent+='</td></tr>'\n",
       "    }\n",
       "    spancontent += '</table>'\n",
       "    spantable.innerHTML = spancontent\n",
       "    span_element.parentElement.appendChild(spantable)\n",
       "\n",
       "    // Increase the size of the cell so the tables would fit\n",
       "    spantable.parentElement.style.height = Math.max(Number(spantable.parentElement.style.height.substring(0,spantable.parentElement.style.height.length-2)),span_element.offsetTop+90)+ 'px'\n",
       "    // Position the table directly below the corresponding text\n",
       "    spantable.style.left = span_element.getBoundingClientRect().left-spantable.parentElement.parentElement.getBoundingClientRect().left + 'px'\n",
       "    spantable.style.top = span_element.getBoundingClientRect().top-spantable.parentElement.parentElement.getBoundingClientRect().top+20+ 'px'\n",
       "\n",
       "    // Remove the table when clicked on again\n",
       "    spantable.addEventListener('click', function () {\n",
       "        let element = this.parentElement\n",
       "        element.removeChild(this)\n",
       "    })\n",
       "}\n",
       "</script><style>\n",
       ".span {\n",
       "    background-color: yellow;\n",
       "}\n",
       "\n",
       ".overlapping-span {\n",
       "    background-color: red;\n",
       "}\n",
       "\n",
       ".spanline {\n",
       "    background-color: blue;\n",
       "    position: relative;\n",
       "    height: 3px;\n",
       "    margin-left: 0px;\n",
       "}\n",
       "\n",
       ".tables {\n",
       "    position: absolute;\n",
       "    width: fit-content;\n",
       "    width: -moz-fit-content;\n",
       "    border: 1px solid black;\n",
       "}\n",
       "\n",
       ".maintext{0} {\n",
       "    position: relative;\n",
       "}\n",
       "\n",
       ".tables tbody tr:nth-child(even) {\n",
       "    background-color: lightgray;\n",
       "}\n",
       "\n",
       ".tables tbody tr:nth-child(odd) {\n",
       "    background-color: beige;\n",
       "}\n",
       "\n",
       ".tables tbody tr:hover {\n",
       "    background-color: ivory;\n",
       "}\n",
       "</style>Esimene tuttav loeb raamatut.<br>Esimene tuttav loeb ruutmeetreid.<br>Esimene tuttav loeb kartuleid.<br>Esimene tuttav loeb kohvrit.<br>Esimene tuttav loeb distantsõpet.<br>Esimene tuttav keedab raamatut.<br>Esimene tuttav keedab ruutmeetreid.<br>Esimene tuttav keedab kartuleid.<br>Esimene tuttav keedab kohvrit.<br><span style=background:yellow; \">Esimene tuttav keedab distantsõpet.</span><br>Esimene tuttav kasvatab raamatut.<br>Esimene tuttav kasvatab ruutmeetreid.<br>Esimene tuttav kasvatab kartuleid.<br>Esimene tuttav kasvatab kohvrit.<br>Esimene tuttav kasvatab distantsõpet.<br>Esimene tuttav kiigutab raamatut.<br>Esimene tuttav kiigutab ruutmeetreid.<br>Esimene tuttav kiigutab kartuleid.<br>Esimene tuttav kiigutab kohvrit.<br>Esimene tuttav kiigutab distantsõpet.<br>Esimene tuttav organiseerib raamatut.<br><span style=background:yellow; \">Esimene tuttav organiseerib ruutmeetreid.</span><br>Esimene tuttav organiseerib kartuleid.<br>Esimene tuttav organiseerib kohvrit.<br>Esimene tuttav organiseerib distantsõpet."
      ]
     },
     "metadata": {},
     "output_type": "display_data"
    }
   ],
   "source": [
    "# Display sampled sentences from the first Text object\n",
    "for text_id, text_obj in collection.select(layers=['sentences']).sample_from_layer('sentences', 5, seed=0.5):\n",
    "    print('selected text id:', text_id)\n",
    "    text_obj.sentences.display()\n",
    "    break"
   ]
  },
  {
   "cell_type": "markdown",
   "id": "distinguished-reserve",
   "metadata": {},
   "source": [
    "Note that sampling _only applies on the target layer_ -- all other selected layers will be returned at their full length."
   ]
  },
  {
   "cell_type": "markdown",
   "id": "approved-pizza",
   "metadata": {},
   "source": [
    "Additional notes about `sample_from_layer()`:\n",
    "\n",
    "   * Fixing `seed` (a float from range -1.0 to 1.0) can be used to ensure repeatability of sampling;\n",
    "   \n",
    "    * But if you are using PostgreSQL's version &lt; 12.0, then same `seed` gives different results on different platforms (Windows vs Linux). In case of PostgreSQL's versions &gt;= 12.0, the behaviour should be uniform across platforms.\n",
    "\n",
    "\n",
    "   * Instead of drawing a percentage of spans, you can also use `amount_type='SIZE'` to require that a specific amount of spans will be drawn;\n",
    "   \n",
    "    * But be aware that regardless of the `amount_type`, the number of returned texts **may not correspond exactly to the given amount** -- there can be some fluctuation in size."
   ]
  },
  {
   "cell_type": "markdown",
   "id": "applicable-robin",
   "metadata": {},
   "source": [
    "Finally, clean up the database and disconnect:"
   ]
  },
  {
   "cell_type": "code",
   "execution_count": 11,
   "id": "entertaining-mistress",
   "metadata": {},
   "outputs": [],
   "source": [
    "collection.delete()"
   ]
  },
  {
   "cell_type": "code",
   "execution_count": 12,
   "id": "configured-execution",
   "metadata": {},
   "outputs": [],
   "source": [
    "delete_schema(storage)\n",
    "storage.close()"
   ]
  }
 ],
 "metadata": {
  "kernelspec": {
   "display_name": "Python 3",
   "language": "python",
   "name": "python3"
  },
  "language_info": {
   "codemirror_mode": {
    "name": "ipython",
    "version": 3
   },
   "file_extension": ".py",
   "mimetype": "text/x-python",
   "name": "python",
   "nbconvert_exporter": "python",
   "pygments_lexer": "ipython3",
   "version": "3.6.10"
  }
 },
 "nbformat": 4,
 "nbformat_minor": 5
}
