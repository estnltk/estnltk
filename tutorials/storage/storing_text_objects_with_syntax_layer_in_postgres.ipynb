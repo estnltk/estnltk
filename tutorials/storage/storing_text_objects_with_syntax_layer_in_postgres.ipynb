{
 "cells": [
  {
   "cell_type": "markdown",
   "metadata": {
    "collapsed": true
   },
   "source": [
    "# Storing of `Text` objects with syntax layer in a PostgreSQL database"
   ]
  },
  {
   "cell_type": "markdown",
   "metadata": {},
   "source": [
    "This tutorial demonstrates how to store and query EstNLTK `Text` objects with syntax layer in a PostgreSQL database."
   ]
  },
  {
   "cell_type": "code",
   "execution_count": 1,
   "metadata": {},
   "outputs": [],
   "source": [
    "from estnltk import Text, logger\n",
    "from estnltk.taggers import VabamorfTagger, WordTagger\n",
    "from estnltk.storage.postgres import PostgresStorage, delete_schema\n",
    "from estnltk.storage.postgres import LayerQuery, WhereClause"
   ]
  },
  {
   "cell_type": "markdown",
   "metadata": {},
   "source": [
    "## Access to the database"
   ]
  },
  {
   "cell_type": "code",
   "execution_count": 2,
   "metadata": {},
   "outputs": [
    {
     "name": "stdout",
     "output_type": "stream",
     "text": [
      "INFO:storage.py:55: connecting to host: 'localhost', port: '5432', dbname: 'test_db', user: 'postgres'\n",
      "INFO:storage.py:76: new schema 'my_schema' created\n",
      "INFO:storage.py:106: schema: 'my_schema', temporary: False, role: 'postgres'\n"
     ]
    }
   ],
   "source": [
    "storage = PostgresStorage(host=None,\n",
    "                          port=None,\n",
    "                          dbname='test_db',\n",
    "                          user=None,\n",
    "                          password=None,\n",
    "                          pgpass_file='~/.pgpass',\n",
    "                          schema='my_schema',\n",
    "                          role=None,\n",
    "                          temporary=False,\n",
    "                          create_schema_if_missing=True)"
   ]
  },
  {
   "cell_type": "code",
   "execution_count": 3,
   "metadata": {},
   "outputs": [
    {
     "name": "stdout",
     "output_type": "stream",
     "text": [
      "INFO:storage.py:211: new empty collection 'my_collection' created\n"
     ]
    },
    {
     "data": {
      "text/html": [
       "<b>PgCollection</b><br/><b>name:</b> my_collection<br/><b>storage:</b> PostgresStorage(user=postgres password=xxx dbname=test_db host=localhost port=5432 schema=my_schema temporary=False)<br/><b>count objects:</b> 0<br/><b>Metadata</b><br/>This collection has no metadata.<br/><b>Layers</b><br/>unknown"
      ],
      "text/plain": [
       "<estnltk.storage.postgres.collection.PgCollection at 0x1fab25240d0>"
      ]
     },
     "execution_count": 3,
     "metadata": {},
     "output_type": "execute_result"
    }
   ],
   "source": [
    "collection = storage.add_collection('my_collection')\n",
    "collection"
   ]
  },
  {
   "cell_type": "markdown",
   "metadata": {},
   "source": [
    "## Add texts\n",
    "\n",
    "Read a text from a conll file."
   ]
  },
  {
   "cell_type": "code",
   "execution_count": 4,
   "metadata": {},
   "outputs": [
    {
     "data": {
      "text/html": [
       "<table border=\"1\" class=\"dataframe\">\n",
       "  <thead>\n",
       "    <tr style=\"text-align: right;\">\n",
       "      <th>text</th>\n",
       "    </tr>\n",
       "  </thead>\n",
       "  <tbody>\n",
       "    <tr>\n",
       "      <td><div align = \"left\">Milliseks kujuneb Riigikassa ja Ühispanga vahekord ? Minu arvates on Eesti pangandus tehnoloogiliselt maailma tasemel . Eesti riik on veel suhteliselt laisaks kliendiks ( panganduses on kasutusel termin &quot; laisk raha &quot; , see tähendab ebaratsionaalne hoiustajale , kuid väga hea pangale ) . Valitsused üldiselt ongi nn laisaks kliendiks . Ilmselt need vahekorrad normaliseeruvad , selles mõttes , et optimeerimise käigus riik kui panga hoiustaja hakkab ratsionaalsemalt käituma . Kas kindlustus- , väärtpaberi- ja pangainspektsioon ühendatakse ? Teoreetiliselt on see ehk vale , aga praktiliselt ratsionaalne .</div></td>\n",
       "    </tr>\n",
       "  </tbody>\n",
       "</table>\n",
       "<table border=\"1\" class=\"dataframe\">\n",
       "  <thead>\n",
       "    <tr style=\"text-align: right;\">\n",
       "      <th>layer name</th>\n",
       "      <th>attributes</th>\n",
       "      <th>parent</th>\n",
       "      <th>enveloping</th>\n",
       "      <th>ambiguous</th>\n",
       "      <th>span count</th>\n",
       "    </tr>\n",
       "  </thead>\n",
       "  <tbody>\n",
       "    <tr>\n",
       "      <td>sentences</td>\n",
       "      <td></td>\n",
       "      <td>None</td>\n",
       "      <td>words</td>\n",
       "      <td>False</td>\n",
       "      <td>7</td>\n",
       "    </tr>\n",
       "    <tr>\n",
       "      <td>words</td>\n",
       "      <td></td>\n",
       "      <td>None</td>\n",
       "      <td>None</td>\n",
       "      <td>True</td>\n",
       "      <td>88</td>\n",
       "    </tr>\n",
       "    <tr>\n",
       "      <td>malt_1</td>\n",
       "      <td>id, lemma, upostag, xpostag, feats, head, deprel, deps, misc, parent_span, children</td>\n",
       "      <td>None</td>\n",
       "      <td>None</td>\n",
       "      <td>False</td>\n",
       "      <td>88</td>\n",
       "    </tr>\n",
       "  </tbody>\n",
       "</table>"
      ],
      "text/plain": [
       "Text(text='Milliseks kujuneb Riigikassa ja Ühispanga vahekord ? Minu arvates on Eesti pangandus tehnoloogiliselt maailma tasemel . Eesti riik on veel suhteliselt laisaks kliendiks ( panganduses on kasutusel termin \" laisk raha \" , see tähendab ebaratsionaalne hoiustajale , kuid väga hea pangale ) . Valitsused üldiselt ongi nn laisaks kliendiks . Ilmselt need vahekorrad normaliseeruvad , selles mõttes , et optimeerimise käigus riik kui panga hoiustaja hakkab ratsionaalsemalt käituma . Kas kindlustus- , väärtpaberi- ja pangainspektsioon ühendatakse ? Teoreetiliselt on see ehk vale , aga praktiliselt ratsionaalne .')"
      ]
     },
     "execution_count": 4,
     "metadata": {},
     "output_type": "execute_result"
    }
   ],
   "source": [
    "from estnltk.converters.conll.conll_importer import conll_to_text\n",
    "\n",
    "text = conll_to_text(file='example.conll', syntax_layer='malt_1')\n",
    "text"
   ]
  },
  {
   "cell_type": "markdown",
   "metadata": {},
   "source": [
    "Split by sentences"
   ]
  },
  {
   "cell_type": "code",
   "execution_count": 5,
   "metadata": {},
   "outputs": [
    {
     "data": {
      "text/html": [
       "<table border=\"1\" class=\"dataframe\">\n",
       "  <thead>\n",
       "    <tr style=\"text-align: right;\">\n",
       "      <th>text</th>\n",
       "    </tr>\n",
       "  </thead>\n",
       "  <tbody>\n",
       "    <tr>\n",
       "      <td><div align = \"left\">Milliseks kujuneb Riigikassa ja Ühispanga vahekord ?</div></td>\n",
       "    </tr>\n",
       "  </tbody>\n",
       "</table>\n",
       "<table border=\"1\" class=\"dataframe\">\n",
       "  <thead>\n",
       "    <tr style=\"text-align: right;\">\n",
       "      <th>layer name</th>\n",
       "      <th>attributes</th>\n",
       "      <th>parent</th>\n",
       "      <th>enveloping</th>\n",
       "      <th>ambiguous</th>\n",
       "      <th>span count</th>\n",
       "    </tr>\n",
       "  </thead>\n",
       "  <tbody>\n",
       "    <tr>\n",
       "      <td>words</td>\n",
       "      <td></td>\n",
       "      <td>None</td>\n",
       "      <td>None</td>\n",
       "      <td>True</td>\n",
       "      <td>7</td>\n",
       "    </tr>\n",
       "    <tr>\n",
       "      <td>malt_1</td>\n",
       "      <td>id, lemma, upostag, xpostag, feats, head, deprel, deps, misc, parent_span, children</td>\n",
       "      <td>None</td>\n",
       "      <td>None</td>\n",
       "      <td>False</td>\n",
       "      <td>7</td>\n",
       "    </tr>\n",
       "  </tbody>\n",
       "</table>"
      ],
      "text/plain": [
       "Text(text='Milliseks kujuneb Riigikassa ja Ühispanga vahekord ?')"
      ]
     },
     "execution_count": 5,
     "metadata": {},
     "output_type": "execute_result"
    }
   ],
   "source": [
    "from estnltk_core.layer_operations import split_by_sentences\n",
    "\n",
    "texts = split_by_sentences(text, layers_to_keep=['words', 'malt_1'])\n",
    "\n",
    "texts[0]"
   ]
  },
  {
   "cell_type": "markdown",
   "metadata": {},
   "source": [
    "Note the value of `dict_converter_module` attribute."
   ]
  },
  {
   "cell_type": "code",
   "execution_count": 6,
   "metadata": {},
   "outputs": [
    {
     "data": {
      "text/plain": [
       "'syntax_v0'"
      ]
     },
     "execution_count": 6,
     "metadata": {},
     "output_type": "execute_result"
    }
   ],
   "source": [
    "texts[0].malt_1.serialisation_module"
   ]
  },
  {
   "cell_type": "code",
   "execution_count": 7,
   "metadata": {},
   "outputs": [
    {
     "name": "stdout",
     "output_type": "stream",
     "text": [
      "INFO:collection_text_object_inserter.py:102: inserted 7 texts into the collection 'my_collection'\n"
     ]
    }
   ],
   "source": [
    "with collection.insert() as collection_insert:\n",
    "    for text in texts:\n",
    "        collection_insert(text)"
   ]
  },
  {
   "cell_type": "code",
   "execution_count": 8,
   "metadata": {
    "scrolled": true
   },
   "outputs": [
    {
     "data": {
      "text/html": [
       "<b>PgCollection</b><br/><b>name:</b> my_collection<br/><b>storage:</b> PostgresStorage(user=postgres password=xxx dbname=test_db host=localhost port=5432 schema=my_schema temporary=False)<br/><b>count objects:</b> 7<br/><b>Metadata</b><br/>This collection has no metadata.<br/><b>Layers</b><table border=\"1\" class=\"dataframe\">\n",
       "  <thead>\n",
       "    <tr style=\"text-align: right;\">\n",
       "      <th></th>\n",
       "      <th>layer_type</th>\n",
       "      <th>attributes</th>\n",
       "      <th>ambiguous</th>\n",
       "      <th>sparse</th>\n",
       "      <th>parent</th>\n",
       "      <th>enveloping</th>\n",
       "      <th>meta</th>\n",
       "    </tr>\n",
       "  </thead>\n",
       "  <tbody>\n",
       "    <tr>\n",
       "      <th>words</th>\n",
       "      <td>attached</td>\n",
       "      <td>()</td>\n",
       "      <td>True</td>\n",
       "      <td>False</td>\n",
       "      <td>None</td>\n",
       "      <td>None</td>\n",
       "      <td>[]</td>\n",
       "    </tr>\n",
       "    <tr>\n",
       "      <th>malt_1</th>\n",
       "      <td>attached</td>\n",
       "      <td>(id, lemma, upostag, xpostag, feats, head, deprel, deps, misc, parent_span, children)</td>\n",
       "      <td>False</td>\n",
       "      <td>False</td>\n",
       "      <td>None</td>\n",
       "      <td>None</td>\n",
       "      <td>[]</td>\n",
       "    </tr>\n",
       "  </tbody>\n",
       "</table>"
      ],
      "text/plain": [
       "<estnltk.storage.postgres.collection.PgCollection at 0x1fab25240d0>"
      ]
     },
     "execution_count": 8,
     "metadata": {},
     "output_type": "execute_result"
    }
   ],
   "source": [
    "collection"
   ]
  },
  {
   "cell_type": "markdown",
   "metadata": {},
   "source": [
    "The layers inserted with the `Text` objects are stored in the same database table with the `Text` object and are called **attached** layers."
   ]
  },
  {
   "cell_type": "markdown",
   "metadata": {},
   "source": [
    "### Iterate collection"
   ]
  },
  {
   "cell_type": "code",
   "execution_count": 9,
   "metadata": {},
   "outputs": [
    {
     "data": {
      "text/plain": [
       "7"
      ]
     },
     "execution_count": 9,
     "metadata": {},
     "output_type": "execute_result"
    }
   ],
   "source": [
    "len(collection)"
   ]
  },
  {
   "cell_type": "code",
   "execution_count": 10,
   "metadata": {},
   "outputs": [
    {
     "data": {
      "text/html": [
       "<table border=\"1\" class=\"dataframe\">\n",
       "  <thead>\n",
       "    <tr style=\"text-align: right;\">\n",
       "      <th>text</th>\n",
       "    </tr>\n",
       "  </thead>\n",
       "  <tbody>\n",
       "    <tr>\n",
       "      <td><div align = \"left\">Milliseks kujuneb Riigikassa ja Ühispanga vahekord ?</div></td>\n",
       "    </tr>\n",
       "  </tbody>\n",
       "</table>\n",
       "<table border=\"1\" class=\"dataframe\">\n",
       "  <thead>\n",
       "    <tr style=\"text-align: right;\">\n",
       "      <th>layer name</th>\n",
       "      <th>attributes</th>\n",
       "      <th>parent</th>\n",
       "      <th>enveloping</th>\n",
       "      <th>ambiguous</th>\n",
       "      <th>span count</th>\n",
       "    </tr>\n",
       "  </thead>\n",
       "  <tbody>\n",
       "    <tr>\n",
       "      <td>words</td>\n",
       "      <td></td>\n",
       "      <td>None</td>\n",
       "      <td>None</td>\n",
       "      <td>True</td>\n",
       "      <td>7</td>\n",
       "    </tr>\n",
       "    <tr>\n",
       "      <td>malt_1</td>\n",
       "      <td>id, lemma, upostag, xpostag, feats, head, deprel, deps, misc, parent_span, children</td>\n",
       "      <td>None</td>\n",
       "      <td>None</td>\n",
       "      <td>False</td>\n",
       "      <td>7</td>\n",
       "    </tr>\n",
       "  </tbody>\n",
       "</table>"
      ],
      "text/plain": [
       "Text(text='Milliseks kujuneb Riigikassa ja Ühispanga vahekord ?')"
      ]
     },
     "execution_count": 10,
     "metadata": {},
     "output_type": "execute_result"
    }
   ],
   "source": [
    "text = collection[0]\n",
    "text"
   ]
  },
  {
   "cell_type": "code",
   "execution_count": 11,
   "metadata": {},
   "outputs": [
    {
     "data": {
      "text/html": [
       "<h4>Layer</h4>\n",
       "\n",
       "\n",
       "<table border=\"1\" class=\"dataframe\">\n",
       "  <thead>\n",
       "    <tr style=\"text-align: right;\">\n",
       "      <th>layer name</th>\n",
       "      <th>attributes</th>\n",
       "      <th>parent</th>\n",
       "      <th>enveloping</th>\n",
       "      <th>ambiguous</th>\n",
       "      <th>span count</th>\n",
       "    </tr>\n",
       "  </thead>\n",
       "  <tbody>\n",
       "    <tr>\n",
       "      <td>malt_1</td>\n",
       "      <td>id, lemma, upostag, xpostag, feats, head, deprel, deps, misc, parent_span, children</td>\n",
       "      <td>None</td>\n",
       "      <td>None</td>\n",
       "      <td>False</td>\n",
       "      <td>7</td>\n",
       "    </tr>\n",
       "  </tbody>\n",
       "</table>\n",
       "<table border=\"1\" class=\"dataframe\">\n",
       "  <thead>\n",
       "    <tr style=\"text-align: right;\">\n",
       "      <th>text</th>\n",
       "      <th>id</th>\n",
       "      <th>lemma</th>\n",
       "      <th>upostag</th>\n",
       "      <th>xpostag</th>\n",
       "      <th>feats</th>\n",
       "      <th>head</th>\n",
       "      <th>deprel</th>\n",
       "      <th>deps</th>\n",
       "      <th>misc</th>\n",
       "      <th>parent_span</th>\n",
       "      <th>children</th>\n",
       "    </tr>\n",
       "  </thead>\n",
       "  <tbody>\n",
       "    <tr>\n",
       "      <td>Milliseks</td>\n",
       "      <td>1</td>\n",
       "      <td>milline</td>\n",
       "      <td>P</td>\n",
       "      <td>P</td>\n",
       "      <td>{'sg': '', 'tr': '', 'rel': ''}</td>\n",
       "      <td>2</td>\n",
       "      <td>@ADVL</td>\n",
       "      <td>None</td>\n",
       "      <td>None</td>\n",
       "      <td>Span('kujuneb', [{'id': 2, 'lemma': 'kujune', 'upostag': 'V', 'xpostag': 'V', 'f ..., type: &lt;class 'estnltk_core.layer.span.Span'&gt;</td>\n",
       "      <td>()</td>\n",
       "    </tr>\n",
       "    <tr>\n",
       "      <td>kujuneb</td>\n",
       "      <td>2</td>\n",
       "      <td>kujune</td>\n",
       "      <td>V</td>\n",
       "      <td>V</td>\n",
       "      <td>{'sg': '', 'ps3': '', 'pres': '', 'indic': ''}</td>\n",
       "      <td>0</td>\n",
       "      <td>ROOT</td>\n",
       "      <td>None</td>\n",
       "      <td>None</td>\n",
       "      <td>None</td>\n",
       "      <td>(\"Span('Milliseks', [{'id': 1, 'lemma': 'milline', 'upostag': 'P', 'xpostag': 'P ..., type: &lt;class 'tuple'&gt;, length: 3</td>\n",
       "    </tr>\n",
       "    <tr>\n",
       "      <td>Riigikassa</td>\n",
       "      <td>3</td>\n",
       "      <td>Riigi_kassa</td>\n",
       "      <td>S</td>\n",
       "      <td>H</td>\n",
       "      <td>{'sg': '', 'nom': ''}</td>\n",
       "      <td>2</td>\n",
       "      <td>@SUBJ</td>\n",
       "      <td>None</td>\n",
       "      <td>None</td>\n",
       "      <td>Span('kujuneb', [{'id': 2, 'lemma': 'kujune', 'upostag': 'V', 'xpostag': 'V', 'f ..., type: &lt;class 'estnltk_core.layer.span.Span'&gt;</td>\n",
       "      <td>()</td>\n",
       "    </tr>\n",
       "    <tr>\n",
       "      <td>ja</td>\n",
       "      <td>4</td>\n",
       "      <td>ja</td>\n",
       "      <td>J</td>\n",
       "      <td>Jc</td>\n",
       "      <td>None</td>\n",
       "      <td>6</td>\n",
       "      <td>@J</td>\n",
       "      <td>None</td>\n",
       "      <td>None</td>\n",
       "      <td>Span('vahekord', [{'id': 6, 'lemma': 'vahe_kord', 'upostag': 'S', 'xpostag': 'S' ..., type: &lt;class 'estnltk_core.layer.span.Span'&gt;</td>\n",
       "      <td>()</td>\n",
       "    </tr>\n",
       "    <tr>\n",
       "      <td>Ühispanga</td>\n",
       "      <td>5</td>\n",
       "      <td>ühis_pank</td>\n",
       "      <td>S</td>\n",
       "      <td>S</td>\n",
       "      <td>{'sg': '', 'gen': ''}</td>\n",
       "      <td>6</td>\n",
       "      <td>@NN&gt;</td>\n",
       "      <td>None</td>\n",
       "      <td>None</td>\n",
       "      <td>Span('vahekord', [{'id': 6, 'lemma': 'vahe_kord', 'upostag': 'S', 'xpostag': 'S' ..., type: &lt;class 'estnltk_core.layer.span.Span'&gt;</td>\n",
       "      <td>()</td>\n",
       "    </tr>\n",
       "    <tr>\n",
       "      <td>vahekord</td>\n",
       "      <td>6</td>\n",
       "      <td>vahe_kord</td>\n",
       "      <td>S</td>\n",
       "      <td>S</td>\n",
       "      <td>{'sg': '', 'nom': ''}</td>\n",
       "      <td>2</td>\n",
       "      <td>@SUBJ</td>\n",
       "      <td>None</td>\n",
       "      <td>None</td>\n",
       "      <td>Span('kujuneb', [{'id': 2, 'lemma': 'kujune', 'upostag': 'V', 'xpostag': 'V', 'f ..., type: &lt;class 'estnltk_core.layer.span.Span'&gt;</td>\n",
       "      <td>(\"Span('ja', [{'id': 4, 'lemma': 'ja', 'upostag': 'J', 'xpostag': 'Jc', 'feats': ..., type: &lt;class 'tuple'&gt;, length: 3</td>\n",
       "    </tr>\n",
       "    <tr>\n",
       "      <td>?</td>\n",
       "      <td>7</td>\n",
       "      <td>?</td>\n",
       "      <td>Z</td>\n",
       "      <td>Z</td>\n",
       "      <td>{'Int': ''}</td>\n",
       "      <td>6</td>\n",
       "      <td>@Punc</td>\n",
       "      <td>None</td>\n",
       "      <td>None</td>\n",
       "      <td>Span('vahekord', [{'id': 6, 'lemma': 'vahe_kord', 'upostag': 'S', 'xpostag': 'S' ..., type: &lt;class 'estnltk_core.layer.span.Span'&gt;</td>\n",
       "      <td>()</td>\n",
       "    </tr>\n",
       "  </tbody>\n",
       "</table>"
      ],
      "text/plain": [
       "Layer(name='malt_1', attributes=('id', 'lemma', 'upostag', 'xpostag', 'feats', 'head', 'deprel', 'deps', 'misc', 'parent_span', 'children'), spans=SL[Span('Milliseks', [{'id': 1, 'lemma': 'milline', 'upostag': 'P', 'xpostag': 'P', 'feats': {'sg': '', 'tr': '', 'rel': ''}, 'head': 2, 'deprel': '@ADVL', 'deps': None, 'misc': None, 'parent_span': <class 'estnltk_core.layer.span.Span'>, 'children': ()}]),\n",
       "Span('kujuneb', [{'id': 2, 'lemma': 'kujune', 'upostag': 'V', 'xpostag': 'V', 'feats': {'sg': '', 'ps3': '', 'pres': '', 'indic': ''}, 'head': 0, 'deprel': 'ROOT', 'deps': None, 'misc': None, 'parent_span': None, 'children': <class 'tuple'>}]),\n",
       "Span('Riigikassa', [{'id': 3, 'lemma': 'Riigi_kassa', 'upostag': 'S', 'xpostag': 'H', 'feats': {'sg': '', 'nom': ''}, 'head': 2, 'deprel': '@SUBJ', 'deps': None, 'misc': None, 'parent_span': <class 'estnltk_core.layer.span.Span'>, 'children': ()}]),\n",
       "Span('ja', [{'id': 4, 'lemma': 'ja', 'upostag': 'J', 'xpostag': 'Jc', 'feats': None, 'head': 6, 'deprel': '@J', 'deps': None, 'misc': None, 'parent_span': <class 'estnltk_core.layer.span.Span'>, 'children': ()}]),\n",
       "Span('Ühispanga', [{'id': 5, 'lemma': 'ühis_pank', 'upostag': 'S', 'xpostag': 'S', 'feats': {'sg': '', 'gen': ''}, 'head': 6, 'deprel': '@NN>', 'deps': None, 'misc': None, 'parent_span': <class 'estnltk_core.layer.span.Span'>, 'children': ()}]),\n",
       "Span('vahekord', [{'id': 6, 'lemma': 'vahe_kord', 'upostag': 'S', 'xpostag': 'S', 'feats': {'sg': '', 'nom': ''}, 'head': 2, 'deprel': '@SUBJ', 'deps': None, 'misc': None, 'parent_span': <class 'estnltk_core.layer.span.Span'>, 'children': <class 'tuple'>}]),\n",
       "Span('?', [{'id': 7, 'lemma': '?', 'upostag': 'Z', 'xpostag': 'Z', 'feats': {'Int': ''}, 'head': 6, 'deprel': '@Punc', 'deps': None, 'misc': None, 'parent_span': <class 'estnltk_core.layer.span.Span'>, 'children': ()}])])"
      ]
     },
     "execution_count": 11,
     "metadata": {},
     "output_type": "execute_result"
    }
   ],
   "source": [
    "text.malt_1"
   ]
  },
  {
   "cell_type": "code",
   "execution_count": 12,
   "metadata": {},
   "outputs": [],
   "source": [
    "storage.delete_collection( collection.name )"
   ]
  },
  {
   "cell_type": "code",
   "execution_count": 13,
   "metadata": {},
   "outputs": [],
   "source": [
    "delete_schema(storage)\n",
    "storage.close()"
   ]
  }
 ],
 "metadata": {
  "kernelspec": {
   "display_name": "Python 3 (ipykernel)",
   "language": "python",
   "name": "python3"
  },
  "language_info": {
   "codemirror_mode": {
    "name": "ipython",
    "version": 3
   },
   "file_extension": ".py",
   "mimetype": "text/x-python",
   "name": "python",
   "nbconvert_exporter": "python",
   "pygments_lexer": "ipython3",
   "version": "3.9.12"
  }
 },
 "nbformat": 4,
 "nbformat_minor": 1
}
