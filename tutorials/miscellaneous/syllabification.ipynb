{
 "cells": [
  {
   "cell_type": "markdown",
   "metadata": {},
   "source": [
    "## <span style=\"color:purple\">Syllabification</span>\n",
    "\n",
    "EstNLTK provides word syllabification functionality with the help of the [Vabamorf library](https://github.com/Filosoft/vabamorf).\n",
    "The function `syllabify_word()` accepts the following parameters:\n",
    "\n",
    "  1. surface word form (string);\n",
    "  2. (optional) `as_dict` -- a boolean specifying if results are formatted as a dict (default) or as a tuple;\n",
    "  3. (optional) `split_compounds` -- a boolean specifying if compound words will be heuristically split before syllabification;\n",
    "  \n",
    "For example, let's syllabify word _\"kiireloomuline\"_ :"
   ]
  },
  {
   "cell_type": "code",
   "execution_count": 1,
   "metadata": {},
   "outputs": [
    {
     "data": {
      "text/plain": [
       "[{'syllable': 'kii', 'quantity': 2, 'accent': 1},\n",
       " {'syllable': 're', 'quantity': 1, 'accent': 0},\n",
       " {'syllable': 'loo', 'quantity': 2, 'accent': 1},\n",
       " {'syllable': 'mu', 'quantity': 1, 'accent': 0},\n",
       " {'syllable': 'li', 'quantity': 1, 'accent': 0},\n",
       " {'syllable': 'ne', 'quantity': 1, 'accent': 0}]"
      ]
     },
     "execution_count": 1,
     "metadata": {},
     "output_type": "execute_result"
    }
   ],
   "source": [
    "from estnltk.vabamorf.morf import syllabify_word\n",
    "syllabify_word('kiireloomuline')"
   ]
  },
  {
   "cell_type": "markdown",
   "metadata": {},
   "source": [
    "The function returns a list of syllables, and the following information about each syllable:\n",
    "   * 'syllable' -- string corresponding to the syllable;\n",
    "   * 'quantity' -- 1, 2 or 3 (degree of quantity) ( _'välde'_ )\n",
    "   * 'accent' -- 1 or 0 (if the syllable is accented or not) ( _'rõhuline silp'_ )\n"
   ]
  },
  {
   "cell_type": "markdown",
   "metadata": {},
   "source": [
    "If `as_dict==False`, the function returns tuples `(syllable, quantity, accent)`:"
   ]
  },
  {
   "cell_type": "code",
   "execution_count": 2,
   "metadata": {},
   "outputs": [
    {
     "data": {
      "text/plain": [
       "[('kii', 2, 1),\n",
       " ('re', 1, 0),\n",
       " ('loo', 2, 1),\n",
       " ('mu', 1, 0),\n",
       " ('li', 1, 0),\n",
       " ('ne', 1, 0)]"
      ]
     },
     "execution_count": 2,
     "metadata": {},
     "output_type": "execute_result"
    }
   ],
   "source": [
    "syllabify_word('kiireloomuline', as_dict=False)"
   ]
  },
  {
   "cell_type": "markdown",
   "metadata": {},
   "source": [
    "#### Syllabification of compound words ( `split_compounds` )\n",
    "\n",
    "Since the version 1.6.x, EstNLTK's syllabifier includes a heuristic which improves syllabification of compound words.\n",
    "The heuristic checks if the input word is a compound word and if so, then tries to split it into subwords, so that each subword will be syllabified separately.\n",
    "Examples:"
   ]
  },
  {
   "cell_type": "code",
   "execution_count": 3,
   "metadata": {},
   "outputs": [
    {
     "data": {
      "text/plain": [
       "[{'syllable': 'va', 'quantity': 1, 'accent': 1},\n",
       " {'syllable': 'na', 'quantity': 1, 'accent': 0},\n",
       " {'syllable': 'e', 'quantity': 1, 'accent': 1},\n",
       " {'syllable': 'ma', 'quantity': 1, 'accent': 0}]"
      ]
     },
     "execution_count": 3,
     "metadata": {},
     "output_type": "execute_result"
    }
   ],
   "source": [
    "syllabify_word('vanaema')"
   ]
  },
  {
   "cell_type": "code",
   "execution_count": 4,
   "metadata": {},
   "outputs": [
    {
     "data": {
      "text/plain": [
       "[{'syllable': 'las', 'quantity': 2, 'accent': 1},\n",
       " {'syllable': 'te', 'quantity': 1, 'accent': 0},\n",
       " {'syllable': 'ai', 'quantity': 2, 'accent': 1},\n",
       " {'syllable': 'a', 'quantity': 1, 'accent': 0},\n",
       " {'syllable': 'lap', 'quantity': 2, 'accent': 1},\n",
       " {'syllable': 'se', 'quantity': 1, 'accent': 0},\n",
       " {'syllable': 'le', 'quantity': 1, 'accent': 0},\n",
       " {'syllable': 'gi', 'quantity': 1, 'accent': 0}]"
      ]
     },
     "execution_count": 4,
     "metadata": {},
     "output_type": "execute_result"
    }
   ],
   "source": [
    "syllabify_word('lasteaialapselegi')"
   ]
  },
  {
   "cell_type": "markdown",
   "metadata": {},
   "source": [
    "You can use the flag `split_compounds` to switch the heuristic off.\n",
    "This can improve syllabification speed a bit, but reduces the quality of syllabification on compound words:"
   ]
  },
  {
   "cell_type": "code",
   "execution_count": 5,
   "metadata": {},
   "outputs": [
    {
     "data": {
      "text/plain": [
       "[{'syllable': 'va', 'quantity': 1, 'accent': 0},\n",
       " {'syllable': 'nae', 'quantity': 2, 'accent': 1},\n",
       " {'syllable': 'ma', 'quantity': 1, 'accent': 0}]"
      ]
     },
     "execution_count": 5,
     "metadata": {},
     "output_type": "execute_result"
    }
   ],
   "source": [
    "syllabify_word('vanaema', split_compounds=False)"
   ]
  },
  {
   "cell_type": "markdown",
   "metadata": {},
   "source": [
    "<div class=\"alert alert-block alert-warning\">\n",
    "<h4><i>Limitations of syllabifying compound words</i></h4>\n",
    "<br>\n",
    "If <code>split_compounds==True</code> (the default setting), then the function <code>syllabify_word()</code> applies morphological analysis on the input word, and uses information from word lemmas to determine subword boundaries inside a compound word.\n",
    "This works reasonably well if: a) lemma of the word can be unambiguously determined, b) the lemma and the input word match by their prefix -- to an extent that covers all the subwords.\n",
    "If the conditions a) and b) are met, then splitting into compound words succeeds and this also improves the quality of syllabification. \n",
    "Otherwise, the input word will be syllabified as it is (without any knowledge of compound word boundaries), and the quality of syllabification can be suboptimal. \n",
    "</div>"
   ]
  },
  {
   "cell_type": "markdown",
   "metadata": {},
   "source": [
    "<div class=\"alert alert-block alert-warning\">\n",
    "<h4><i>Remark: <code>-</code> and <code>/</code> are special symbols for syllabifier</i></h4>\n",
    "<br>\n",
    "Syllabifier treats <code>-</code> and <code>/</code> as special symbols, and they always appear as  \"standalone syllables\" in the output.\n",
    "You can use these symbols to guide the syllabification process, e.g in syllabification of foreign proper names: \n",
    "<pre>\n",
    ">> syllabify_word('Mc/Donald/s',as_dict=False)\n",
    "[('Mc', 3, 1),\n",
    " ('/', 3, 1),\n",
    " ('do', 1, 0),\n",
    " ('nald', 3, 1),\n",
    " ('/', 3, 1),\n",
    " ('s', 3, 1)]\n",
    "</pre>\n",
    "But if you need an exact count of syllables, then you should count syllables while ignoring these symbols.\n",
    "</div>"
   ]
  }
 ],
 "metadata": {
  "anaconda-cloud": {},
  "kernelspec": {
   "display_name": "Python 3",
   "language": "python",
   "name": "python3"
  },
  "language_info": {
   "codemirror_mode": {
    "name": "ipython",
    "version": 3
   },
   "file_extension": ".py",
   "mimetype": "text/x-python",
   "name": "python",
   "nbconvert_exporter": "python",
   "pygments_lexer": "ipython3",
   "version": "3.6.9"
  }
 },
 "nbformat": 4,
 "nbformat_minor": 2
}
