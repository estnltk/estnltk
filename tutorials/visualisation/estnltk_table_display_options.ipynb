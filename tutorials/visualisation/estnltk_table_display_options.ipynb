{
 "cells": [
  {
   "cell_type": "markdown",
   "id": "d855445e",
   "metadata": {},
   "source": [
    "# Estnltk table display options"
   ]
  },
  {
   "cell_type": "markdown",
   "id": "ffcdb669",
   "metadata": {},
   "source": [
    "### Maximum length of a html output string\n",
    "### (how to see long sentences at their full length)\n",
    "\n",
    "The maxium length of a string in EstNLTK's HTML output is limited to 100 characters. If data exceeds that length, then it will be truncated and information about data type and length will be added at the end of the string.\n",
    "Example:"
   ]
  },
  {
   "cell_type": "code",
   "execution_count": 1,
   "id": "514b427b",
   "metadata": {},
   "outputs": [
    {
     "data": {
      "text/html": [
       "<h4>Layer</h4>\n",
       "\n",
       "\n",
       "<table border=\"1\" class=\"dataframe\">\n",
       "  <thead>\n",
       "    <tr style=\"text-align: right;\">\n",
       "      <th>layer name</th>\n",
       "      <th>attributes</th>\n",
       "      <th>parent</th>\n",
       "      <th>enveloping</th>\n",
       "      <th>ambiguous</th>\n",
       "      <th>span count</th>\n",
       "    </tr>\n",
       "  </thead>\n",
       "  <tbody>\n",
       "    <tr>\n",
       "      <td>sentences</td>\n",
       "      <td></td>\n",
       "      <td>None</td>\n",
       "      <td>words</td>\n",
       "      <td>False</td>\n",
       "      <td>3</td>\n",
       "    </tr>\n",
       "  </tbody>\n",
       "</table>\n",
       "<table border=\"1\" class=\"dataframe\">\n",
       "  <thead>\n",
       "    <tr style=\"text-align: right;\">\n",
       "      <th>text</th>\n",
       "    </tr>\n",
       "  </thead>\n",
       "  <tbody>\n",
       "    <tr>\n",
       "      <td>['Seetõttu', 'väljenduvad', 'teadlased', 'lühidalt', 'ja', 'abstraktselt', ';',  ..., type: &lt;class 'list'&gt;, length: 22</td>\n",
       "    </tr>\n",
       "    <tr>\n",
       "      <td>['Küllap', 'seetõttu', 'ongi', 'meie', 'kooliõpikud', 'ülemäära', 'rasked', 'ja' ..., type: &lt;class 'list'&gt;, length: 12</td>\n",
       "    </tr>\n",
       "    <tr>\n",
       "      <td>['Kui', 'autor', 'pöördub', 'vähem', 'ettevalmistatud', 'lugejate', 'poole', ',' ..., type: &lt;class 'list'&gt;, length: 17</td>\n",
       "    </tr>\n",
       "  </tbody>\n",
       "</table>"
      ],
      "text/plain": [
       "Layer(name='sentences', attributes=(), spans=SL[EnvelopingSpan(['Seetõttu', 'väljenduvad', 'teadlased', 'lühidalt', 'ja', 'abstraktselt', ';', 'nende', 'väljendusviis', 'on', 'mõistetav', 'teistele', 'eriteadlastele', ',', 'kuid', 'asjasse', 'pühendamatuile', 'võib', 'see', 'arusaamatuks', 'jääda', '.'], [{}]),\n",
       "EnvelopingSpan(['Küllap', 'seetõttu', 'ongi', 'meie', 'kooliõpikud', 'ülemäära', 'rasked', 'ja', 'sobimatud', 'iseseisvaks', 'tööks', '.'], [{}]),\n",
       "EnvelopingSpan(['Kui', 'autor', 'pöördub', 'vähem', 'ettevalmistatud', 'lugejate', 'poole', ',', 'siis', 'peaks', 'ta', 'teadlikult', 'arvestama', 'mõistetava', 'teksti', 'reegleid', '.'], [{}])])"
      ]
     },
     "execution_count": 1,
     "metadata": {},
     "output_type": "execute_result"
    }
   ],
   "source": [
    "from estnltk.text import Text\n",
    "# Create text with long sentences\n",
    "text = Text('''Seetõttu väljenduvad teadlased lühidalt ja abstraktselt; nende väljendusviis on mõistetav teistele \n",
    "eriteadlastele, kuid asjasse pühendamatuile võib see arusaamatuks jääda. Küllap seetõttu ongi meie kooliõpikud ülemäära \n",
    "rasked ja sobimatud iseseisvaks tööks. Kui autor pöördub vähem ettevalmistatud lugejate poole, siis peaks ta teadlikult \n",
    "arvestama mõistetava teksti reegleid.''')\n",
    "text.tag_layer('sentences')\n",
    "# See results\n",
    "text['sentences']"
   ]
  },
  {
   "cell_type": "code",
   "execution_count": 2,
   "id": "855d6f87",
   "metadata": {},
   "outputs": [],
   "source": [
    "# Change setting: display at least 300 characters in html field output \n",
    "# (in order to see 'sentences' at the full length)\n",
    "from estnltk_core.common import OUTPUT_CONFIG\n",
    "default_html_str_max_len = OUTPUT_CONFIG['html_str_max_len']\n",
    "OUTPUT_CONFIG['html_str_max_len'] = 300"
   ]
  },
  {
   "cell_type": "code",
   "execution_count": 3,
   "id": "1950dc5f",
   "metadata": {},
   "outputs": [
    {
     "data": {
      "text/html": [
       "<h4>Layer</h4>\n",
       "\n",
       "\n",
       "<table border=\"1\" class=\"dataframe\">\n",
       "  <thead>\n",
       "    <tr style=\"text-align: right;\">\n",
       "      <th>layer name</th>\n",
       "      <th>attributes</th>\n",
       "      <th>parent</th>\n",
       "      <th>enveloping</th>\n",
       "      <th>ambiguous</th>\n",
       "      <th>span count</th>\n",
       "    </tr>\n",
       "  </thead>\n",
       "  <tbody>\n",
       "    <tr>\n",
       "      <td>sentences</td>\n",
       "      <td></td>\n",
       "      <td>None</td>\n",
       "      <td>words</td>\n",
       "      <td>False</td>\n",
       "      <td>3</td>\n",
       "    </tr>\n",
       "  </tbody>\n",
       "</table>\n",
       "<table border=\"1\" class=\"dataframe\">\n",
       "  <thead>\n",
       "    <tr style=\"text-align: right;\">\n",
       "      <th>text</th>\n",
       "    </tr>\n",
       "  </thead>\n",
       "  <tbody>\n",
       "    <tr>\n",
       "      <td>['Seetõttu', 'väljenduvad', 'teadlased', 'lühidalt', 'ja', 'abstraktselt', ';', 'nende', 'väljendusviis', 'on', 'mõistetav', 'teistele', 'eriteadlastele', ',', 'kuid', 'asjasse', 'pühendamatuile', 'võib', 'see', 'arusaamatuks', 'jääda', '.']</td>\n",
       "    </tr>\n",
       "    <tr>\n",
       "      <td>['Küllap', 'seetõttu', 'ongi', 'meie', 'kooliõpikud', 'ülemäära', 'rasked', 'ja', 'sobimatud', 'iseseisvaks', 'tööks', '.']</td>\n",
       "    </tr>\n",
       "    <tr>\n",
       "      <td>['Kui', 'autor', 'pöördub', 'vähem', 'ettevalmistatud', 'lugejate', 'poole', ',', 'siis', 'peaks', 'ta', 'teadlikult', 'arvestama', 'mõistetava', 'teksti', 'reegleid', '.']</td>\n",
       "    </tr>\n",
       "  </tbody>\n",
       "</table>"
      ],
      "text/plain": [
       "Layer(name='sentences', attributes=(), spans=SL[EnvelopingSpan(['Seetõttu', 'väljenduvad', 'teadlased', 'lühidalt', 'ja', 'abstraktselt', ';', 'nende', 'väljendusviis', 'on', 'mõistetav', 'teistele', 'eriteadlastele', ',', 'kuid', 'asjasse', 'pühendamatuile', 'võib', 'see', 'arusaamatuks', 'jääda', '.'], [{}]),\n",
       "EnvelopingSpan(['Küllap', 'seetõttu', 'ongi', 'meie', 'kooliõpikud', 'ülemäära', 'rasked', 'ja', 'sobimatud', 'iseseisvaks', 'tööks', '.'], [{}]),\n",
       "EnvelopingSpan(['Kui', 'autor', 'pöördub', 'vähem', 'ettevalmistatud', 'lugejate', 'poole', ',', 'siis', 'peaks', 'ta', 'teadlikult', 'arvestama', 'mõistetava', 'teksti', 'reegleid', '.'], [{}])])"
      ]
     },
     "execution_count": 3,
     "metadata": {},
     "output_type": "execute_result"
    }
   ],
   "source": [
    "# See results\n",
    "text['sentences']"
   ]
  },
  {
   "cell_type": "code",
   "execution_count": 4,
   "id": "aaedb541",
   "metadata": {},
   "outputs": [],
   "source": [
    "# Reverse setting\n",
    "OUTPUT_CONFIG['html_str_max_len'] = default_html_str_max_len"
   ]
  }
 ],
 "metadata": {
  "kernelspec": {
   "display_name": "Python 3 (ipykernel)",
   "language": "python",
   "name": "python3"
  },
  "language_info": {
   "codemirror_mode": {
    "name": "ipython",
    "version": 3
   },
   "file_extension": ".py",
   "mimetype": "text/x-python",
   "name": "python",
   "nbconvert_exporter": "python",
   "pygments_lexer": "ipython3",
   "version": "3.8.12"
  }
 },
 "nbformat": 4,
 "nbformat_minor": 5
}
