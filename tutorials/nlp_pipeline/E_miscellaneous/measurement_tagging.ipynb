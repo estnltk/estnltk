{
 "cells": [
  {
   "cell_type": "markdown",
   "metadata": {},
   "source": [
    "## RobustDateNumberTagger\n",
    "``RobustDateNumberTagger`` wraps ``RegexTagger`` to tag dates and numbers."
   ]
  },
  {
   "cell_type": "code",
   "execution_count": 1,
   "metadata": {},
   "outputs": [],
   "source": [
    "from estnltk import Text\n",
    "from estnltk.taggers import RobustDateNumberTagger"
   ]
  },
  {
   "cell_type": "code",
   "execution_count": 2,
   "metadata": {},
   "outputs": [
    {
     "data": {
      "text/html": [
       "<h4>Tagger</h4>\n",
       "Tags dates and numbers.\n",
       "<table border=\"1\" class=\"dataframe\">\n",
       "  <thead>\n",
       "    <tr style=\"text-align: right;\">\n",
       "      <th>name</th>\n",
       "      <th>output layer</th>\n",
       "      <th>output attributes</th>\n",
       "      <th>input layers</th>\n",
       "    </tr>\n",
       "  </thead>\n",
       "  <tbody>\n",
       "    <tr>\n",
       "      <td>RobustDateNumberTagger</td>\n",
       "      <td>dates_numbers</td>\n",
       "      <td>('grammar_symbol', 'regex_type', 'value', '_priority_')</td>\n",
       "      <td>()</td>\n",
       "    </tr>\n",
       "  </tbody>\n",
       "</table>\n",
       "<h4>Configuration</h4>\n",
       "<table border=\"1\" class=\"dataframe\">\n",
       "  <tbody>\n",
       "    <tr>\n",
       "      <th>tagger</th>\n",
       "      <td>RegexTagger(()-&gt;dates_numbers)</td>\n",
       "    </tr>\n",
       "  </tbody>\n",
       "</table>"
      ],
      "text/plain": [
       "RobustDateNumberTagger(input_layers=(), output_layer=dates_numbers, output_attributes=('grammar_symbol', 'regex_type', 'value', '_priority_'), tagger=RegexTagger(()->dates_numbers))"
      ]
     },
     "execution_count": 2,
     "metadata": {},
     "output_type": "execute_result"
    }
   ],
   "source": [
    "date_number_tagger = RobustDateNumberTagger(conflict_resolving_strategy='ALL')\n",
    "date_number_tagger"
   ]
  },
  {
   "cell_type": "code",
   "execution_count": 3,
   "metadata": {},
   "outputs": [
    {
     "data": {
      "text/html": [
       "<table border=\"1\" class=\"dataframe\">\n",
       "  <thead>\n",
       "    <tr style=\"text-align: right;\">\n",
       "      <th>text</th>\n",
       "    </tr>\n",
       "  </thead>\n",
       "  <tbody>\n",
       "    <tr>\n",
       "      <td><div align = \"left\">PSA 2010. 3ng/ml, PSA 2012. 1,53ng/ml . - Bx va</div></td>\n",
       "    </tr>\n",
       "  </tbody>\n",
       "</table>"
      ],
      "text/plain": [
       "Text(text='PSA 2010. 3ng/ml, PSA 2012. 1,53ng/ml . - Bx va')"
      ]
     },
     "execution_count": 3,
     "metadata": {},
     "output_type": "execute_result"
    }
   ],
   "source": [
    "text = Text('PSA 2010. 3ng/ml, PSA 2012. 1,53ng/ml . - Bx va')\n",
    "text"
   ]
  },
  {
   "cell_type": "code",
   "execution_count": 4,
   "metadata": {
    "scrolled": false
   },
   "outputs": [
    {
     "data": {
      "text/html": [
       "<h4>Layer</h4>\n",
       "\n",
       "\n",
       "<table border=\"1\" class=\"dataframe\">\n",
       "  <thead>\n",
       "    <tr style=\"text-align: right;\">\n",
       "      <th>layer name</th>\n",
       "      <th>attributes</th>\n",
       "      <th>parent</th>\n",
       "      <th>enveloping</th>\n",
       "      <th>ambiguous</th>\n",
       "      <th>span count</th>\n",
       "    </tr>\n",
       "  </thead>\n",
       "  <tbody>\n",
       "    <tr>\n",
       "      <td>dates_numbers</td>\n",
       "      <td>grammar_symbol, regex_type, value, _priority_</td>\n",
       "      <td>None</td>\n",
       "      <td>None</td>\n",
       "      <td>True</td>\n",
       "      <td>4</td>\n",
       "    </tr>\n",
       "  </tbody>\n",
       "</table>\n",
       "<table border=\"1\" class=\"dataframe\">\n",
       "  <thead>\n",
       "    <tr style=\"text-align: right;\">\n",
       "      <th>text</th>\n",
       "      <th>grammar_symbol</th>\n",
       "      <th>regex_type</th>\n",
       "      <th>value</th>\n",
       "      <th>_priority_</th>\n",
       "    </tr>\n",
       "  </thead>\n",
       "  <tbody>\n",
       "    <tr>\n",
       "      <td>2010</td>\n",
       "      <td>DATE</td>\n",
       "      <td>date9</td>\n",
       "      <td>partial_date</td>\n",
       "      <td>0</td>\n",
       "    </tr>\n",
       "    <tr>\n",
       "      <td>3</td>\n",
       "      <td>NUMBER</td>\n",
       "      <td>anynumber</td>\n",
       "      <td>3</td>\n",
       "      <td>1</td>\n",
       "    </tr>\n",
       "    <tr>\n",
       "      <td>2012</td>\n",
       "      <td>DATE</td>\n",
       "      <td>date9</td>\n",
       "      <td>partial_date</td>\n",
       "      <td>0</td>\n",
       "    </tr>\n",
       "    <tr>\n",
       "      <td>1,53</td>\n",
       "      <td>NUMBER</td>\n",
       "      <td>anynumber</td>\n",
       "      <td>1.53</td>\n",
       "      <td>1</td>\n",
       "    </tr>\n",
       "  </tbody>\n",
       "</table>"
      ],
      "text/plain": [
       "Layer(name='dates_numbers', attributes=('grammar_symbol', 'regex_type', 'value', '_priority_'), spans=SL[Span('2010', [{'grammar_symbol': 'DATE', 'regex_type': 'date9', 'value': 'partial_date', '_priority_': 0}]),\n",
       "Span('3', [{'grammar_symbol': 'NUMBER', 'regex_type': 'anynumber', 'value': '3', '_priority_': 1}]),\n",
       "Span('2012', [{'grammar_symbol': 'DATE', 'regex_type': 'date9', 'value': 'partial_date', '_priority_': 0}]),\n",
       "Span('1,53', [{'grammar_symbol': 'NUMBER', 'regex_type': 'anynumber', 'value': '1.53', '_priority_': 1}])])"
      ]
     },
     "execution_count": 4,
     "metadata": {},
     "output_type": "execute_result"
    }
   ],
   "source": [
    "date_number_tagger.tag(text)\n",
    "text.dates_numbers"
   ]
  }
 ],
 "metadata": {
  "kernelspec": {
   "display_name": "Python 3 (ipykernel)",
   "language": "python",
   "name": "python3"
  },
  "language_info": {
   "codemirror_mode": {
    "name": "ipython",
    "version": 3
   },
   "file_extension": ".py",
   "mimetype": "text/x-python",
   "name": "python",
   "nbconvert_exporter": "python",
   "pygments_lexer": "ipython3",
   "version": "3.8.11"
  }
 },
 "nbformat": 4,
 "nbformat_minor": 2
}
