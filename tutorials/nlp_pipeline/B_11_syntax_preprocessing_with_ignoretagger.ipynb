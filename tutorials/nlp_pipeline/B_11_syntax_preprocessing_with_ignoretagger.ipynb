{
 "cells": [
  {
   "cell_type": "markdown",
   "metadata": {},
   "source": [
    "## Using SyntaxIgnoreTagger in pre-processing for syntactic analysis\n",
    "\n",
    "Some parts of a text may be difficult to analyse syntactically. For instance, enumerations of sports results, and content in parentheses (references and short remarks) may exhibit only very little linguistic structure suitable for analysis. So, you may want to skip the syntactic analysis on such parts of the text.\n",
    "\n",
    "In order to detect parts of text that should be ignored by the syntactic analysis, EstNLTK has a special tagger called SyntaxIgnoreTagger."
   ]
  },
  {
   "cell_type": "code",
   "execution_count": 1,
   "metadata": {},
   "outputs": [
    {
     "data": {
      "text/html": [
       "<h4>Tagger</h4>\n",
       "Tags text snippets that should be ignored during the syntactic analysis.\n",
       "<table border=\"1\" class=\"dataframe\">\n",
       "  <thead>\n",
       "    <tr style=\"text-align: right;\">\n",
       "      <th>name</th>\n",
       "      <th>output layer</th>\n",
       "      <th>output attributes</th>\n",
       "      <th>input layers</th>\n",
       "    </tr>\n",
       "  </thead>\n",
       "  <tbody>\n",
       "    <tr>\n",
       "      <td>SyntaxIgnoreTagger</td>\n",
       "      <td>syntax_ignore</td>\n",
       "      <td>('type',)</td>\n",
       "      <td>('words', 'sentences')</td>\n",
       "    </tr>\n",
       "  </tbody>\n",
       "</table>\n",
       "<h4>Configuration</h4>\n",
       "<table border=\"1\" class=\"dataframe\">\n",
       "  <tbody>\n",
       "    <tr>\n",
       "      <th>allow_loose_match</th>\n",
       "      <td>True</td>\n",
       "    </tr>\n",
       "    <tr>\n",
       "      <th>ignore_parenthesized_num</th>\n",
       "      <td>True</td>\n",
       "    </tr>\n",
       "    <tr>\n",
       "      <th>ignore_parenthesized_num_greedy</th>\n",
       "      <td>True</td>\n",
       "    </tr>\n",
       "    <tr>\n",
       "      <th>ignore_parenthesized_ref</th>\n",
       "      <td>True</td>\n",
       "    </tr>\n",
       "    <tr>\n",
       "      <th>ignore_parenthesized_title_words</th>\n",
       "      <td>True</td>\n",
       "    </tr>\n",
       "    <tr>\n",
       "      <th>ignore_parenthesized_short_char_sequences</th>\n",
       "      <td>True</td>\n",
       "    </tr>\n",
       "    <tr>\n",
       "      <th>ignore_consecutive_parenthesized_sentences</th>\n",
       "      <td>True</td>\n",
       "    </tr>\n",
       "    <tr>\n",
       "      <th>ignore_consecutive_enum_ucase_num_sentences</th>\n",
       "      <td>True</td>\n",
       "    </tr>\n",
       "    <tr>\n",
       "      <th>ignore_sentences_consisting_of_numbers</th>\n",
       "      <td>True</td>\n",
       "    </tr>\n",
       "    <tr>\n",
       "      <th>ignore_sentences_starting_with_time</th>\n",
       "      <td>True</td>\n",
       "    </tr>\n",
       "    <tr>\n",
       "      <th>ignore_sentences_with_comma_separated_num_name_lists</th>\n",
       "      <td>True</td>\n",
       "    </tr>\n",
       "    <tr>\n",
       "      <th>ignore_brackets</th>\n",
       "      <td>True</td>\n",
       "    </tr>\n",
       "  </tbody>\n",
       "</table>"
      ],
      "text/plain": [
       "SyntaxIgnoreTagger(input_layers=('words', 'sentences'), output_layer=syntax_ignore, output_attributes=('type',), allow_loose_match=True, ignore_parenthesized_num=True, ignore_parenthesized_num_greedy=True, ignore_parenthesized_ref=True, ignore_parenthesized_title_words=True, ignore_parenthesized_short_char_sequences=True, ignore_consecutive_parenthesized_sentences=True, ignore_consecutive_enum_ucase_num_sentences=True, ignore_sentences_consisting_of_numbers=True, ignore_sentences_starting_with_time=True, ignore_sentences_with_comma_separated_num_name_lists=True, ignore_brackets=True)"
      ]
     },
     "execution_count": 1,
     "metadata": {},
     "output_type": "execute_result"
    }
   ],
   "source": [
    "from estnltk.taggers.syntax_preprocessing.syntax_ignore_tagger import SyntaxIgnoreTagger\n",
    "syntax_ignore_tagger = SyntaxIgnoreTagger()\n",
    "syntax_ignore_tagger"
   ]
  },
  {
   "cell_type": "markdown",
   "metadata": {},
   "source": [
    "SyntaxIgnoreTagger requires that 'words' and 'sentences' have been annotated in text. It uses these layers to detect snippets of text (not necessarily full sentences) which should be ignored during the syntactic analysis. Detection patterns are partly based on the patterns used in pre-processing modules of EstSyntax, available [here](https://github.com/kristiinavaik/ettenten-eeltootlus) and [here](https://github.com/EstSyntax/preprocessing-module).\n",
    "\n",
    "Similar detection patterns have been grouped together. Upon the initialization of the tagger, flags can be used to switch these groups off (by default, all flags have been switched on). In following, we will give a minute introduction on the flags, and types of ignorable text snippets the corresponding patterns aim to extract."
   ]
  },
  {
   "cell_type": "markdown",
   "metadata": {},
   "source": [
    "### Patterns for detecting ignore content inside sentences\n",
    "\n",
    "#### Flag `ignore_brackets`\n",
    "\n",
    "Content inside square brackets will be ignored."
   ]
  },
  {
   "cell_type": "code",
   "execution_count": 2,
   "metadata": {},
   "outputs": [
    {
     "data": {
      "text/html": [
       "<h4>Layer</h4>\n",
       "\n",
       "\n",
       "<table border=\"1\" class=\"dataframe\">\n",
       "  <thead>\n",
       "    <tr style=\"text-align: right;\">\n",
       "      <th>layer name</th>\n",
       "      <th>attributes</th>\n",
       "      <th>parent</th>\n",
       "      <th>enveloping</th>\n",
       "      <th>ambiguous</th>\n",
       "      <th>span count</th>\n",
       "    </tr>\n",
       "  </thead>\n",
       "  <tbody>\n",
       "    <tr>\n",
       "      <td>syntax_ignore</td>\n",
       "      <td>type</td>\n",
       "      <td>None</td>\n",
       "      <td>words</td>\n",
       "      <td>False</td>\n",
       "      <td>3</td>\n",
       "    </tr>\n",
       "  </tbody>\n",
       "</table>\n",
       "<table border=\"1\" class=\"dataframe\">\n",
       "  <thead>\n",
       "    <tr style=\"text-align: right;\">\n",
       "      <th>text</th>\n",
       "      <th>type</th>\n",
       "    </tr>\n",
       "  </thead>\n",
       "  <tbody>\n",
       "    <tr>\n",
       "      <td>['[', '9', ':', '5', ']']</td>\n",
       "      <td>brackets_ref</td>\n",
       "    </tr>\n",
       "    <tr>\n",
       "      <td>['[', '9', 'lk', '5', ']']</td>\n",
       "      <td>brackets_ref</td>\n",
       "    </tr>\n",
       "    <tr>\n",
       "      <td>['[', '7', ']']</td>\n",
       "      <td>brackets_ref</td>\n",
       "    </tr>\n",
       "  </tbody>\n",
       "</table>"
      ],
      "text/plain": [
       "Layer(name='syntax_ignore', attributes=('type',), spans=SL[EnvelopingSpan(['[', '9', ':', '5', ']'], [{'type': 'brackets_ref'}]),\n",
       "EnvelopingSpan(['[', '9', 'lk', '5', ']'], [{'type': 'brackets_ref'}]),\n",
       "EnvelopingSpan(['[', '7', ']'], [{'type': 'brackets_ref'}])])"
      ]
     },
     "execution_count": 2,
     "metadata": {},
     "output_type": "execute_result"
    }
   ],
   "source": [
    "# Create text and preprocess\n",
    "from estnltk.text import Text\n",
    "text = Text('Nurksulgudes tuuakse materjali viitekirje järjekorranumber kirjanduse loetelus ja leheküljed , nt [9: 5] või [9 lk 5], aga internetimaterjalil lihtsalt viitekirje, nt [7]')\n",
    "text.tag_layer(['words', 'sentences'])\n",
    "\n",
    "# Apply syntax_ignore_tagger\n",
    "syntax_ignore_tagger = SyntaxIgnoreTagger(ignore_brackets=True)\n",
    "syntax_ignore_tagger.tag(text)\n",
    "\n",
    "# Examine results\n",
    "text.syntax_ignore"
   ]
  },
  {
   "cell_type": "markdown",
   "metadata": {},
   "source": [
    "#### Flag `ignore_parenthesized_ref`\n",
    "\n",
    "Parenthesized content which looks like a reference (e.g. contains titlecased words, and date information) will be ignored."
   ]
  },
  {
   "cell_type": "code",
   "execution_count": 3,
   "metadata": {},
   "outputs": [
    {
     "data": {
      "text/html": [
       "<h4>Layer</h4>\n",
       "\n",
       "\n",
       "<table border=\"1\" class=\"dataframe\">\n",
       "  <thead>\n",
       "    <tr style=\"text-align: right;\">\n",
       "      <th>layer name</th>\n",
       "      <th>attributes</th>\n",
       "      <th>parent</th>\n",
       "      <th>enveloping</th>\n",
       "      <th>ambiguous</th>\n",
       "      <th>span count</th>\n",
       "    </tr>\n",
       "  </thead>\n",
       "  <tbody>\n",
       "    <tr>\n",
       "      <td>syntax_ignore</td>\n",
       "      <td>type</td>\n",
       "      <td>None</td>\n",
       "      <td>words</td>\n",
       "      <td>False</td>\n",
       "      <td>3</td>\n",
       "    </tr>\n",
       "  </tbody>\n",
       "</table>\n",
       "<table border=\"1\" class=\"dataframe\">\n",
       "  <thead>\n",
       "    <tr style=\"text-align: right;\">\n",
       "      <th>text</th>\n",
       "      <th>type</th>\n",
       "    </tr>\n",
       "  </thead>\n",
       "  <tbody>\n",
       "    <tr>\n",
       "      <td>['(', 'Tuum', '2012', ')']</td>\n",
       "      <td>parentheses_ref_year</td>\n",
       "    </tr>\n",
       "    <tr>\n",
       "      <td>['(', 'Varrak', '2012', ')']</td>\n",
       "      <td>parentheses_ref_year</td>\n",
       "    </tr>\n",
       "    <tr>\n",
       "      <td>['(', 'Priit', 'Pullerits', '«', 'Džiibi', 'kaitseks', '»', ',', 'PM', '30.07.2010', ')']</td>\n",
       "      <td>parentheses_ref_year</td>\n",
       "    </tr>\n",
       "  </tbody>\n",
       "</table>"
      ],
      "text/plain": [
       "Layer(name='syntax_ignore', attributes=('type',), spans=SL[EnvelopingSpan(['(', 'Tuum', '2012', ')'], [{'type': 'parentheses_ref_year'}]),\n",
       "EnvelopingSpan(['(', 'Varrak', '2012', ')'], [{'type': 'parentheses_ref_year'}]),\n",
       "EnvelopingSpan(['(', 'Priit', 'Pullerits', '«', 'Džiibi', 'kaitseks', '»', ',', 'PM', '30.07.2010', ')'], [{'type': 'parentheses_ref_year'}])])"
      ]
     },
     "execution_count": 3,
     "metadata": {},
     "output_type": "execute_result"
    }
   ],
   "source": [
    "# Create text and preprocess\n",
    "from estnltk.text import Text\n",
    "text = Text('Tutvustamisele tulevad Jan Kausi romaan “Koju” (Tuum 2012) ning Ülo Pikkovi romaan “Vana prints” (Varrak 2012). Temaatikaga seondub veel teinegi äsja Postimehes ilmunud jutt (Priit Pullerits «Džiibi kaitseks», PM 30.07.2010).')\n",
    "text.tag_layer(['words', 'sentences'])\n",
    "\n",
    "# Apply syntax_ignore_tagger\n",
    "syntax_ignore_tagger = SyntaxIgnoreTagger(ignore_parenthesized_ref=True)\n",
    "syntax_ignore_tagger.tag(text)\n",
    "\n",
    "# Examine results\n",
    "text.syntax_ignore"
   ]
  },
  {
   "cell_type": "markdown",
   "metadata": {},
   "source": [
    "#### Flag `ignore_parenthesized_short_char_sequences`\n",
    "\n",
    "Parenthesized short sequences of tokens (up to 4 tokens), each of which also has as short length (up to 4 characters), will be ignored."
   ]
  },
  {
   "cell_type": "code",
   "execution_count": 4,
   "metadata": {},
   "outputs": [
    {
     "data": {
      "text/html": [
       "<h4>Layer</h4>\n",
       "\n",
       "\n",
       "<table border=\"1\" class=\"dataframe\">\n",
       "  <thead>\n",
       "    <tr style=\"text-align: right;\">\n",
       "      <th>layer name</th>\n",
       "      <th>attributes</th>\n",
       "      <th>parent</th>\n",
       "      <th>enveloping</th>\n",
       "      <th>ambiguous</th>\n",
       "      <th>span count</th>\n",
       "    </tr>\n",
       "  </thead>\n",
       "  <tbody>\n",
       "    <tr>\n",
       "      <td>syntax_ignore</td>\n",
       "      <td>type</td>\n",
       "      <td>None</td>\n",
       "      <td>words</td>\n",
       "      <td>False</td>\n",
       "      <td>2</td>\n",
       "    </tr>\n",
       "  </tbody>\n",
       "</table>\n",
       "<table border=\"1\" class=\"dataframe\">\n",
       "  <thead>\n",
       "    <tr style=\"text-align: right;\">\n",
       "      <th>text</th>\n",
       "      <th>type</th>\n",
       "    </tr>\n",
       "  </thead>\n",
       "  <tbody>\n",
       "    <tr>\n",
       "      <td>['(', '-66', 'kg', ')']</td>\n",
       "      <td>parentheses_1to3</td>\n",
       "    </tr>\n",
       "    <tr>\n",
       "      <td>['(', '-73', 'kg', ')']</td>\n",
       "      <td>parentheses_1to3</td>\n",
       "    </tr>\n",
       "  </tbody>\n",
       "</table>"
      ],
      "text/plain": [
       "Layer(name='syntax_ignore', attributes=('type',), spans=SL[EnvelopingSpan(['(', '-66', 'kg', ')'], [{'type': 'parentheses_1to3'}]),\n",
       "EnvelopingSpan(['(', '-73', 'kg', ')'], [{'type': 'parentheses_1to3'}])])"
      ]
     },
     "execution_count": 4,
     "metadata": {},
     "output_type": "execute_result"
    }
   ],
   "source": [
    "# Create text and preprocess\n",
    "from estnltk.text import Text\n",
    "text = Text('Eesti judokate võistlus jäi laupäeval lühikeseks , nii Joel Rothberg ( -66 kg ) kui ka Renee Villemson ( -73 kg ) võidurõõmu maitsta ei saanud .')\n",
    "text.tag_layer(['words', 'sentences'])\n",
    "\n",
    "# Apply syntax_ignore_tagger\n",
    "syntax_ignore_tagger = SyntaxIgnoreTagger(ignore_parenthesized_short_char_sequences=True)\n",
    "syntax_ignore_tagger.tag(text)\n",
    "\n",
    "# Examine results\n",
    "text.syntax_ignore"
   ]
  },
  {
   "cell_type": "markdown",
   "metadata": {},
   "source": [
    "#### Flag `ignore_parenthesized_title_words`\n",
    "\n",
    "Parenthesized 1-2 titlecase words (which may be comma-separated) will be ignored."
   ]
  },
  {
   "cell_type": "code",
   "execution_count": 5,
   "metadata": {},
   "outputs": [
    {
     "data": {
      "text/html": [
       "<h4>Layer</h4>\n",
       "\n",
       "\n",
       "<table border=\"1\" class=\"dataframe\">\n",
       "  <thead>\n",
       "    <tr style=\"text-align: right;\">\n",
       "      <th>layer name</th>\n",
       "      <th>attributes</th>\n",
       "      <th>parent</th>\n",
       "      <th>enveloping</th>\n",
       "      <th>ambiguous</th>\n",
       "      <th>span count</th>\n",
       "    </tr>\n",
       "  </thead>\n",
       "  <tbody>\n",
       "    <tr>\n",
       "      <td>syntax_ignore</td>\n",
       "      <td>type</td>\n",
       "      <td>None</td>\n",
       "      <td>words</td>\n",
       "      <td>False</td>\n",
       "      <td>3</td>\n",
       "    </tr>\n",
       "  </tbody>\n",
       "</table>\n",
       "<table border=\"1\" class=\"dataframe\">\n",
       "  <thead>\n",
       "    <tr style=\"text-align: right;\">\n",
       "      <th>text</th>\n",
       "      <th>type</th>\n",
       "    </tr>\n",
       "  </thead>\n",
       "  <tbody>\n",
       "    <tr>\n",
       "      <td>['(', 'Rootsi', ')']</td>\n",
       "      <td>parentheses_title_words</td>\n",
       "    </tr>\n",
       "    <tr>\n",
       "      <td>['(', 'Soome', ')']</td>\n",
       "      <td>parentheses_title_words</td>\n",
       "    </tr>\n",
       "    <tr>\n",
       "      <td>['(', 'Rootsi', ')']</td>\n",
       "      <td>parentheses_title_words</td>\n",
       "    </tr>\n",
       "  </tbody>\n",
       "</table>"
      ],
      "text/plain": [
       "Layer(name='syntax_ignore', attributes=('type',), spans=SL[EnvelopingSpan(['(', 'Rootsi', ')'], [{'type': 'parentheses_title_words'}]),\n",
       "EnvelopingSpan(['(', 'Soome', ')'], [{'type': 'parentheses_title_words'}]),\n",
       "EnvelopingSpan(['(', 'Rootsi', ')'], [{'type': 'parentheses_title_words'}])])"
      ]
     },
     "execution_count": 5,
     "metadata": {},
     "output_type": "execute_result"
    }
   ],
   "source": [
    "# Create text and preprocess\n",
    "from estnltk.text import Text\n",
    "text = Text('Neidude 5 km klassikat võitis Lina Andersson ( Rootsi ) Pirjo Mannineni ( Soome ) ja Karin Holmbergi ( Rootsi ) ees .')\n",
    "text.tag_layer(['words', 'sentences'])\n",
    "\n",
    "# Apply syntax_ignore_tagger\n",
    "syntax_ignore_tagger = SyntaxIgnoreTagger(ignore_parenthesized_title_words=True)\n",
    "syntax_ignore_tagger.tag(text)\n",
    "\n",
    "# Examine results\n",
    "text.syntax_ignore"
   ]
  },
  {
   "cell_type": "markdown",
   "metadata": {},
   "source": [
    "#### Flag `ignore_parenthesized_num`\n",
    "\n",
    "Parenthesized numerics (such as dates, date ranges, number sequences) will be ignored."
   ]
  },
  {
   "cell_type": "code",
   "execution_count": 6,
   "metadata": {},
   "outputs": [
    {
     "data": {
      "text/html": [
       "<h4>Layer</h4>\n",
       "\n",
       "\n",
       "<table border=\"1\" class=\"dataframe\">\n",
       "  <thead>\n",
       "    <tr style=\"text-align: right;\">\n",
       "      <th>layer name</th>\n",
       "      <th>attributes</th>\n",
       "      <th>parent</th>\n",
       "      <th>enveloping</th>\n",
       "      <th>ambiguous</th>\n",
       "      <th>span count</th>\n",
       "    </tr>\n",
       "  </thead>\n",
       "  <tbody>\n",
       "    <tr>\n",
       "      <td>syntax_ignore</td>\n",
       "      <td>type</td>\n",
       "      <td>None</td>\n",
       "      <td>words</td>\n",
       "      <td>False</td>\n",
       "      <td>4</td>\n",
       "    </tr>\n",
       "  </tbody>\n",
       "</table>\n",
       "<table border=\"1\" class=\"dataframe\">\n",
       "  <thead>\n",
       "    <tr style=\"text-align: right;\">\n",
       "      <th>text</th>\n",
       "      <th>type</th>\n",
       "    </tr>\n",
       "  </thead>\n",
       "  <tbody>\n",
       "    <tr>\n",
       "      <td>['(', '1976', ',', '1977', ',', '1979', ',', '1980', ',', '1982', ',', '1983', ')']</td>\n",
       "      <td>parentheses_num</td>\n",
       "    </tr>\n",
       "    <tr>\n",
       "      <td>['(', '21.', '-', '22.', 'mai', ')']</td>\n",
       "      <td>parentheses_num_range</td>\n",
       "    </tr>\n",
       "    <tr>\n",
       "      <td>['(', '2.', '-', '3.', 'juuli', ')']</td>\n",
       "      <td>parentheses_num_range</td>\n",
       "    </tr>\n",
       "    <tr>\n",
       "      <td>['(', '30.', '-', '31.', 'juuli', ')']</td>\n",
       "      <td>parentheses_num_range</td>\n",
       "    </tr>\n",
       "  </tbody>\n",
       "</table>"
      ],
      "text/plain": [
       "Layer(name='syntax_ignore', attributes=('type',), spans=SL[EnvelopingSpan(['(', '1976', ',', '1977', ',', '1979', ',', '1980', ',', '1982', ',', '1983', ')'], [{'type': 'parentheses_num'}]),\n",
       "EnvelopingSpan(['(', '21.', '-', '22.', 'mai', ')'], [{'type': 'parentheses_num_range'}]),\n",
       "EnvelopingSpan(['(', '2.', '-', '3.', 'juuli', ')'], [{'type': 'parentheses_num_range'}]),\n",
       "EnvelopingSpan(['(', '30.', '-', '31.', 'juuli', ')'], [{'type': 'parentheses_num_range'}])])"
      ]
     },
     "execution_count": 6,
     "metadata": {},
     "output_type": "execute_result"
    }
   ],
   "source": [
    "# Create text and preprocess\n",
    "from estnltk.text import Text\n",
    "text = Text('Klubi sai kuus korda Inglismaa meistriks (1976, 1977, 1979, 1980, 1982, 1983). Tallinna ( 21.-22. mai ) , Haapsalu ( 2.-3. juuli ) ja Liivimaa ( 30.-31. juuli ) rallidel on vähemalt see probleem lahendatud .')\n",
    "text.tag_layer(['words', 'sentences'])\n",
    "\n",
    "# Apply syntax_ignore_tagger\n",
    "syntax_ignore_tagger = SyntaxIgnoreTagger(ignore_parenthesized_num=True)\n",
    "syntax_ignore_tagger.tag(text)\n",
    "\n",
    "# Examine results\n",
    "text.syntax_ignore"
   ]
  },
  {
   "cell_type": "markdown",
   "metadata": {},
   "source": [
    "#### Flag `ignore_parenthesized_num_greedy`\n",
    "\n",
    "Applies greedy parenthesized numeric content detection patterns: if there is at least one number inside parentheses, but there cannot be found at least 3 consecutive lowercase words, then the whole content inside parentheses will be marked as to be ignored."
   ]
  },
  {
   "cell_type": "code",
   "execution_count": 7,
   "metadata": {},
   "outputs": [
    {
     "data": {
      "text/html": [
       "<h4>Layer</h4>\n",
       "\n",
       "\n",
       "<table border=\"1\" class=\"dataframe\">\n",
       "  <thead>\n",
       "    <tr style=\"text-align: right;\">\n",
       "      <th>layer name</th>\n",
       "      <th>attributes</th>\n",
       "      <th>parent</th>\n",
       "      <th>enveloping</th>\n",
       "      <th>ambiguous</th>\n",
       "      <th>span count</th>\n",
       "    </tr>\n",
       "  </thead>\n",
       "  <tbody>\n",
       "    <tr>\n",
       "      <td>syntax_ignore</td>\n",
       "      <td>type</td>\n",
       "      <td>None</td>\n",
       "      <td>words</td>\n",
       "      <td>False</td>\n",
       "      <td>3</td>\n",
       "    </tr>\n",
       "  </tbody>\n",
       "</table>\n",
       "<table border=\"1\" class=\"dataframe\">\n",
       "  <thead>\n",
       "    <tr style=\"text-align: right;\">\n",
       "      <th>text</th>\n",
       "      <th>type</th>\n",
       "    </tr>\n",
       "  </thead>\n",
       "  <tbody>\n",
       "    <tr>\n",
       "      <td>['(', '300 000 000', 'm/sek', ')']</td>\n",
       "      <td>parentheses_num_start_uncategorized</td>\n",
       "    </tr>\n",
       "    <tr>\n",
       "      <td>['(', 'naised', '5', 'km', ',', 'mehed', '7,5', 'km', ')']</td>\n",
       "      <td>parentheses_num_mid_uncategorized</td>\n",
       "    </tr>\n",
       "    <tr>\n",
       "      <td>['(', 'meie', 'puhul', '165', '/', '80', ')']</td>\n",
       "      <td>parentheses_num_end_uncategorized</td>\n",
       "    </tr>\n",
       "  </tbody>\n",
       "</table>"
      ],
      "text/plain": [
       "Layer(name='syntax_ignore', attributes=('type',), spans=SL[EnvelopingSpan(['(', '300 000 000', 'm/sek', ')'], [{'type': 'parentheses_num_start_uncategorized'}]),\n",
       "EnvelopingSpan(['(', 'naised', '5', 'km', ',', 'mehed', '7,5', 'km', ')'], [{'type': 'parentheses_num_mid_uncategorized'}]),\n",
       "EnvelopingSpan(['(', 'meie', 'puhul', '165', '/', '80', ')'], [{'type': 'parentheses_num_end_uncategorized'}])])"
      ]
     },
     "execution_count": 7,
     "metadata": {},
     "output_type": "execute_result"
    }
   ],
   "source": [
    "# Create text and preprocess\n",
    "from estnltk.text import Text\n",
    "text = Text('Näited: A (300 000 000 m/sek), B ( naised 5 km , mehed 7,5 km ) ning C (meie puhul 165/80) .')\n",
    "text.tag_layer(['words', 'sentences'])\n",
    "\n",
    "# Apply syntax_ignore_tagger\n",
    "syntax_ignore_tagger = SyntaxIgnoreTagger(ignore_parenthesized_num_greedy=True)\n",
    "syntax_ignore_tagger.tag(text)\n",
    "\n",
    "# Examine results\n",
    "text.syntax_ignore"
   ]
  },
  {
   "cell_type": "markdown",
   "metadata": {},
   "source": [
    "Note that this pattern group also covers content detected by some other `ignore_parenthesized_*` patterns. So, if you want to turn other patterns off, you may also want to turn off this pattern."
   ]
  },
  {
   "cell_type": "markdown",
   "metadata": {},
   "source": [
    "#### Flag `allow_loose_match`\n",
    "\n",
    "If `True` (default setting), then an ignore text snippet may consume words without matching exactly with their boundaries (e.g. ignore snippet's start does not have to match word's start). If `False`, then an ignore text snippet must match exactly with word boundaries: it must start where a word starts, and end where a word ends."
   ]
  },
  {
   "cell_type": "markdown",
   "metadata": {},
   "source": [
    "### Patterns for ignoring full sentences\n",
    "\n",
    "#### Flag  `ignore_sentences_starting_with_time`\n",
    "\n",
    "Sentences starting with a date range (e.g. a time schedule of a seminar, or a TV program) will be ignored."
   ]
  },
  {
   "cell_type": "code",
   "execution_count": 8,
   "metadata": {},
   "outputs": [
    {
     "data": {
      "text/html": [
       "<h4>Layer</h4>\n",
       "\n",
       "\n",
       "<table border=\"1\" class=\"dataframe\">\n",
       "  <thead>\n",
       "    <tr style=\"text-align: right;\">\n",
       "      <th>layer name</th>\n",
       "      <th>attributes</th>\n",
       "      <th>parent</th>\n",
       "      <th>enveloping</th>\n",
       "      <th>ambiguous</th>\n",
       "      <th>span count</th>\n",
       "    </tr>\n",
       "  </thead>\n",
       "  <tbody>\n",
       "    <tr>\n",
       "      <td>syntax_ignore</td>\n",
       "      <td>type</td>\n",
       "      <td>None</td>\n",
       "      <td>words</td>\n",
       "      <td>False</td>\n",
       "      <td>1</td>\n",
       "    </tr>\n",
       "  </tbody>\n",
       "</table>\n",
       "<table border=\"1\" class=\"dataframe\">\n",
       "  <thead>\n",
       "    <tr style=\"text-align: right;\">\n",
       "      <th>text</th>\n",
       "      <th>type</th>\n",
       "    </tr>\n",
       "  </thead>\n",
       "  <tbody>\n",
       "    <tr>\n",
       "      <td>['12.05', '-', '12.35', '\"', 'Õnne', '13', '\"', '(', '1.', 'osa', ')', '12.35',  ..., type: &lt;class 'list'&gt;, length: 34</td>\n",
       "      <td>sentence_starts_with_time</td>\n",
       "    </tr>\n",
       "  </tbody>\n",
       "</table>"
      ],
      "text/plain": [
       "Layer(name='syntax_ignore', attributes=('type',), spans=SL[EnvelopingSpan(['12.05', '-', '12.35', '\"', 'Õnne', '13', '\"', '(', '1.', 'osa', ')', '12.35', '-', '13.05', '\"', 'Õnne', '13', '\"', '(', '1.', 'osa', 'kordus', ')', '13.05', '-', '13.35', '\"', 'Õnne', '13', '\"', '(', '2.', 'osa', ')'], [{'type': 'sentence_starts_with_time'}])])"
      ]
     },
     "execution_count": 8,
     "metadata": {},
     "output_type": "execute_result"
    }
   ],
   "source": [
    "# Create text and preprocess\n",
    "from estnltk.text import Text\n",
    "text = Text('''\n",
    "12.05 - 12.35 \"Õnne 13\" (1. osa)\n",
    "12.35 - 13.05 \"Õnne 13\" (1. osa kordus)\n",
    "13.05 - 13.35 \"Õnne 13\" (2. osa)\n",
    "''')\n",
    "text.tag_layer(['words', 'sentences'])\n",
    "\n",
    "# Apply syntax_ignore_tagger\n",
    "syntax_ignore_tagger = SyntaxIgnoreTagger(ignore_sentences_starting_with_time=True)\n",
    "syntax_ignore_tagger.tag(text)\n",
    "\n",
    "# Examine results\n",
    "text.syntax_ignore"
   ]
  },
  {
   "cell_type": "markdown",
   "metadata": {},
   "source": [
    "#### Flag `ignore_sentences_with_comma_separated_num_name_lists`\n",
    "\n",
    "Sentences containing comma separated list of titlecase words / numbers ( like sport results, player/country listings, game scores etc.) will be ignored."
   ]
  },
  {
   "cell_type": "code",
   "execution_count": 9,
   "metadata": {},
   "outputs": [
    {
     "data": {
      "text/html": [
       "<h4>Layer</h4>\n",
       "\n",
       "\n",
       "<table border=\"1\" class=\"dataframe\">\n",
       "  <thead>\n",
       "    <tr style=\"text-align: right;\">\n",
       "      <th>layer name</th>\n",
       "      <th>attributes</th>\n",
       "      <th>parent</th>\n",
       "      <th>enveloping</th>\n",
       "      <th>ambiguous</th>\n",
       "      <th>span count</th>\n",
       "    </tr>\n",
       "  </thead>\n",
       "  <tbody>\n",
       "    <tr>\n",
       "      <td>syntax_ignore</td>\n",
       "      <td>type</td>\n",
       "      <td>None</td>\n",
       "      <td>words</td>\n",
       "      <td>False</td>\n",
       "      <td>2</td>\n",
       "    </tr>\n",
       "  </tbody>\n",
       "</table>\n",
       "<table border=\"1\" class=\"dataframe\">\n",
       "  <thead>\n",
       "    <tr style=\"text-align: right;\">\n",
       "      <th>text</th>\n",
       "      <th>type</th>\n",
       "    </tr>\n",
       "  </thead>\n",
       "  <tbody>\n",
       "    <tr>\n",
       "      <td>['Lindsay', 'Davenport', '(', '6', ')', ',', 'USA-Jana', 'Novotna', '(', '3', ') ..., type: &lt;class 'list'&gt;, length: 40</td>\n",
       "      <td>sentence_with_comma_separated_list</td>\n",
       "    </tr>\n",
       "    <tr>\n",
       "      <td>['Gigi', 'Fernandez', ',', 'USA', '/', 'Nataša', 'Zvereva', ',', 'Valgevene-', ' ..., type: &lt;class 'list'&gt;, length: 48</td>\n",
       "      <td>sentence_with_comma_separated_list</td>\n",
       "    </tr>\n",
       "  </tbody>\n",
       "</table>"
      ],
      "text/plain": [
       "Layer(name='syntax_ignore', attributes=('type',), spans=SL[EnvelopingSpan(['Lindsay', 'Davenport', '(', '6', ')', ',', 'USA-Jana', 'Novotna', '(', '3', ')', ',', 'Tšehhi', '6', ':', '2 , 4', ':', '6 , 7', ':', '6', ',', 'Martina', 'Hingis', '(', '1', ')', ',', 'Šveits-Arantxa', 'Sanchez', 'Vicario', '(', '10', ')', ',', 'Hispaania', '6', ':', '3 , 6', ':', '2 .'], [{'type': 'sentence_with_comma_separated_list'}]),\n",
       "EnvelopingSpan(['Gigi', 'Fernandez', ',', 'USA', '/', 'Nataša', 'Zvereva', ',', 'Valgevene-', 'Alexandra', 'Fusai', '/', 'Nathalie', 'Tauziat', ',', 'Prantsusmaa', '4', ':', '6 , 6', ':', '2 , 6', ':', '2', ',', 'Nicole', 'Arendt', ',', 'USA', '/', 'Manon', 'Bollegraf', ',', 'Holland-Ruxandra', 'Dragomir', ',', 'Rumeenia', '/', 'Iva', 'Majoli', ',', 'Horvaatia', '6', ':', '3 , 3', ':', '6 , 6', ':', '4 .'], [{'type': 'sentence_with_comma_separated_list'}])])"
      ]
     },
     "execution_count": 9,
     "metadata": {},
     "output_type": "execute_result"
    }
   ],
   "source": [
    "# Create text and preprocess\n",
    "from estnltk.text import Text\n",
    "text = Text('''\n",
    "Veerandfinaalid .\n",
    "Lindsay Davenport ( 6 ) , USA-Jana Novotna ( 3 ) , Tšehhi 6 : 2 , 4 : 6 , 7 : 6 , Martina Hingis ( 1 ) , Šveits-Arantxa Sanchez Vicario ( 10 ) , Hispaania 6 : 3 , 6 : 2 .\n",
    "Paarismängu veerandfinaalid .\n",
    "Gigi Fernandez , USA/Nataša Zvereva , Valgevene- Alexandra Fusai/Nathalie Tauziat , Prantsusmaa 4 : 6 , 6 : 2 , 6 : 2 , Nicole Arendt , USA/Manon Bollegraf , Holland-Ruxandra Dragomir , Rumeenia/Iva Majoli , Horvaatia 6 : 3 , 3 : 6 , 6 : 4 .\n",
    "''')\n",
    "text.tag_layer(['words', 'sentences'])\n",
    "\n",
    "# Apply syntax_ignore_tagger\n",
    "syntax_ignore_tagger = SyntaxIgnoreTagger(ignore_sentences_with_comma_separated_num_name_lists=True)\n",
    "syntax_ignore_tagger.tag(text)\n",
    "\n",
    "# Examine results\n",
    "text.syntax_ignore"
   ]
  },
  {
   "cell_type": "markdown",
   "metadata": {},
   "source": [
    "#### Flag  `ignore_sentences_consisting_of_numbers`\n",
    "\n",
    "Detects sentences that only contain number or numbers, no letters, and do not end with '!' nor '?'."
   ]
  },
  {
   "cell_type": "markdown",
   "metadata": {},
   "source": [
    "### Patterns for ignoring groups of consecutive sentences\n",
    "\n",
    "#### Flag  `ignore_consecutive_parenthesized_sentences `\n",
    "\n",
    "If consecutive sentences all contain parenthesized content that is already ignored, and all of these sentences contain less than 3 consecutive lowercase words, then these sentences likely represent enumerations (e.g. sports results) which can be safely ignored."
   ]
  },
  {
   "cell_type": "code",
   "execution_count": 10,
   "metadata": {},
   "outputs": [
    {
     "data": {
      "text/html": [
       "<h4>Layer</h4>\n",
       "\n",
       "\n",
       "<table border=\"1\" class=\"dataframe\">\n",
       "  <thead>\n",
       "    <tr style=\"text-align: right;\">\n",
       "      <th>layer name</th>\n",
       "      <th>attributes</th>\n",
       "      <th>parent</th>\n",
       "      <th>enveloping</th>\n",
       "      <th>ambiguous</th>\n",
       "      <th>span count</th>\n",
       "    </tr>\n",
       "  </thead>\n",
       "  <tbody>\n",
       "    <tr>\n",
       "      <td>syntax_ignore</td>\n",
       "      <td>type</td>\n",
       "      <td>None</td>\n",
       "      <td>words</td>\n",
       "      <td>False</td>\n",
       "      <td>5</td>\n",
       "    </tr>\n",
       "  </tbody>\n",
       "</table>\n",
       "<table border=\"1\" class=\"dataframe\">\n",
       "  <thead>\n",
       "    <tr style=\"text-align: right;\">\n",
       "      <th>text</th>\n",
       "      <th>type</th>\n",
       "    </tr>\n",
       "  </thead>\n",
       "  <tbody>\n",
       "    <tr>\n",
       "      <td>['Tulemused', ':', '1.']</td>\n",
       "      <td>consecutive_enum_ucase_sentences</td>\n",
       "    </tr>\n",
       "    <tr>\n",
       "      <td>['Tommi', 'Mäkinen', '(', 'FIN', ')', 'Mitsubishi', '-', '3.46 , 9', '2.']</td>\n",
       "      <td>consecutive_parenthesized_sentences</td>\n",
       "    </tr>\n",
       "    <tr>\n",
       "      <td>['Marcus', 'Grönholm', '(', 'FIN', ')', 'Peugeot', '+1,0', '3.']</td>\n",
       "      <td>consecutive_parenthesized_sentences</td>\n",
       "    </tr>\n",
       "    <tr>\n",
       "      <td>['Harri', 'Rovanperä', '(', 'FIN', ')', 'Peugeot', '+4,1', '4.']</td>\n",
       "      <td>consecutive_parenthesized_sentences</td>\n",
       "    </tr>\n",
       "    <tr>\n",
       "      <td>['Carlos', 'Sainz', '(', 'ESP', ')', 'Ford', '+6,0']</td>\n",
       "      <td>consecutive_parenthesized_sentences</td>\n",
       "    </tr>\n",
       "  </tbody>\n",
       "</table>"
      ],
      "text/plain": [
       "Layer(name='syntax_ignore', attributes=('type',), spans=SL[EnvelopingSpan(['Tulemused', ':', '1.'], [{'type': 'consecutive_enum_ucase_sentences'}]),\n",
       "EnvelopingSpan(['Tommi', 'Mäkinen', '(', 'FIN', ')', 'Mitsubishi', '-', '3.46 , 9', '2.'], [{'type': 'consecutive_parenthesized_sentences'}]),\n",
       "EnvelopingSpan(['Marcus', 'Grönholm', '(', 'FIN', ')', 'Peugeot', '+1,0', '3.'], [{'type': 'consecutive_parenthesized_sentences'}]),\n",
       "EnvelopingSpan(['Harri', 'Rovanperä', '(', 'FIN', ')', 'Peugeot', '+4,1', '4.'], [{'type': 'consecutive_parenthesized_sentences'}]),\n",
       "EnvelopingSpan(['Carlos', 'Sainz', '(', 'ESP', ')', 'Ford', '+6,0'], [{'type': 'consecutive_parenthesized_sentences'}])])"
      ]
     },
     "execution_count": 10,
     "metadata": {},
     "output_type": "execute_result"
    }
   ],
   "source": [
    "# Create text and preprocess\n",
    "from estnltk.text import Text\n",
    "text = Text('''Eile õhtul sõidetud avakatsel sai Markko Märtin ( Subaru , pildil ) viienda aja .\n",
    "Tulemused :\n",
    "1. Tommi Mäkinen ( FIN ) Mitsubishi - 3.46 , 9\n",
    "2. Marcus Grönholm ( FIN ) Peugeot +1,0\n",
    "3. Harri Rovanperä ( FIN ) Peugeot +4,1\n",
    "4. Carlos Sainz ( ESP ) Ford +6,0''')\n",
    "text.tag_layer(['words', 'sentences'])\n",
    "\n",
    "# Apply syntax_ignore_tagger\n",
    "syntax_ignore_tagger = SyntaxIgnoreTagger(ignore_consecutive_parenthesized_sentences=True)\n",
    "syntax_ignore_tagger.tag(text)\n",
    "\n",
    "# Examine results\n",
    "text.syntax_ignore"
   ]
  },
  {
   "cell_type": "markdown",
   "metadata": {},
   "source": [
    "#### Flag  `ignore_consecutive_enum_ucase_num_sentences`\n",
    "\n",
    "Detects sentences that: 1) start with an uppercase letter, or an ordinal number followed by an uppercase letter, or an ordinal number; 2) contain at least one number; 3) does not contain 3 consecutive lowercase words; 4) are a part of at least 4 consecutive sentences that have the same properties (1, 2 and 3)."
   ]
  },
  {
   "cell_type": "code",
   "execution_count": 11,
   "metadata": {},
   "outputs": [
    {
     "data": {
      "text/html": [
       "<h4>Layer</h4>\n",
       "\n",
       "\n",
       "<table border=\"1\" class=\"dataframe\">\n",
       "  <thead>\n",
       "    <tr style=\"text-align: right;\">\n",
       "      <th>layer name</th>\n",
       "      <th>attributes</th>\n",
       "      <th>parent</th>\n",
       "      <th>enveloping</th>\n",
       "      <th>ambiguous</th>\n",
       "      <th>span count</th>\n",
       "    </tr>\n",
       "  </thead>\n",
       "  <tbody>\n",
       "    <tr>\n",
       "      <td>syntax_ignore</td>\n",
       "      <td>type</td>\n",
       "      <td>None</td>\n",
       "      <td>words</td>\n",
       "      <td>False</td>\n",
       "      <td>5</td>\n",
       "    </tr>\n",
       "  </tbody>\n",
       "</table>\n",
       "<table border=\"1\" class=\"dataframe\">\n",
       "  <thead>\n",
       "    <tr style=\"text-align: right;\">\n",
       "      <th>text</th>\n",
       "      <th>type</th>\n",
       "    </tr>\n",
       "  </thead>\n",
       "  <tbody>\n",
       "    <tr>\n",
       "      <td>['Harjumaa', '2792', ',', '2.']</td>\n",
       "      <td>consecutive_enum_ucase_sentences</td>\n",
       "    </tr>\n",
       "    <tr>\n",
       "      <td>['Hiiumaa', '2119', ',', '3.']</td>\n",
       "      <td>consecutive_enum_ucase_sentences</td>\n",
       "    </tr>\n",
       "    <tr>\n",
       "      <td>['Tartumaa', '2081', ',', '4.']</td>\n",
       "      <td>consecutive_enum_ucase_sentences</td>\n",
       "    </tr>\n",
       "    <tr>\n",
       "      <td>['Läänemaa', '1933', ',', '5.']</td>\n",
       "      <td>consecutive_enum_ucase_sentences</td>\n",
       "    </tr>\n",
       "    <tr>\n",
       "      <td>['Pärnumaa', '1903.']</td>\n",
       "      <td>consecutive_enum_ucase_sentences</td>\n",
       "    </tr>\n",
       "  </tbody>\n",
       "</table>"
      ],
      "text/plain": [
       "Layer(name='syntax_ignore', attributes=('type',), spans=SL[EnvelopingSpan(['Harjumaa', '2792', ',', '2.'], [{'type': 'consecutive_enum_ucase_sentences'}]),\n",
       "EnvelopingSpan(['Hiiumaa', '2119', ',', '3.'], [{'type': 'consecutive_enum_ucase_sentences'}]),\n",
       "EnvelopingSpan(['Tartumaa', '2081', ',', '4.'], [{'type': 'consecutive_enum_ucase_sentences'}]),\n",
       "EnvelopingSpan(['Läänemaa', '1933', ',', '5.'], [{'type': 'consecutive_enum_ucase_sentences'}]),\n",
       "EnvelopingSpan(['Pärnumaa', '1903.'], [{'type': 'consecutive_enum_ucase_sentences'}])])"
      ]
     },
     "execution_count": 11,
     "metadata": {},
     "output_type": "execute_result"
    }
   ],
   "source": [
    "# Create text and preprocess\n",
    "from estnltk.text import Text\n",
    "text = Text('''Maakonniti summeerides on tulumaksu laekumise viis esimest :\n",
    "1. Harjumaa 2792 ,\n",
    "2. Hiiumaa 2119 ,\n",
    "3. Tartumaa 2081 ,\n",
    "4. Läänemaa 1933 ,\n",
    "5. Pärnumaa 1903.''')\n",
    "text.tag_layer(['words', 'sentences'])\n",
    "\n",
    "# Apply syntax_ignore_tagger\n",
    "syntax_ignore_tagger = SyntaxIgnoreTagger(ignore_consecutive_enum_ucase_num_sentences=True)\n",
    "syntax_ignore_tagger.tag(text)\n",
    "\n",
    "# Examine results\n",
    "text.syntax_ignore"
   ]
  },
  {
   "cell_type": "markdown",
   "metadata": {},
   "source": [
    "## Integration with the syntactic analysis pre-processing module\n",
    "\n",
    "Integration with the syntactic analysis pre-processing module is yet to be implemented."
   ]
  }
 ],
 "metadata": {
  "anaconda-cloud": {},
  "kernelspec": {
   "display_name": "Python 3",
   "language": "python",
   "name": "python3"
  },
  "language_info": {
   "codemirror_mode": {
    "name": "ipython",
    "version": 3
   },
   "file_extension": ".py",
   "mimetype": "text/x-python",
   "name": "python",
   "nbconvert_exporter": "python",
   "pygments_lexer": "ipython3",
   "version": "3.6.10"
  }
 },
 "nbformat": 4,
 "nbformat_minor": 1
}
