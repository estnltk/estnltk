{
 "cells": [
  {
   "cell_type": "markdown",
   "metadata": {},
   "source": [
    "## <span style=\"color:purple\">Utilities for syntactic analysis</span>"
   ]
  },
  {
   "cell_type": "markdown",
   "metadata": {},
   "source": [
    "This tutorial describes EstNLTK's helpful utilities for syntactic analysis. Namely:\n",
    "\n",
    "* `SyntaxDependencyRetagger`, which adds links between words that have syntactic relations, making it easier to navigate and query syntactic relations;\n",
    "* Functions for working with CONLL files;\n",
    "* Validation retaggers, which help to detect possible errors made by syntactic parsers;\n",
    "* Syntax evaluation tools for calculating LAS score;"
   ]
  },
  {
   "cell_type": "markdown",
   "metadata": {},
   "source": [
    "## `SyntaxDependencyRetagger` "
   ]
  },
  {
   "cell_type": "markdown",
   "metadata": {},
   "source": [
    "`SyntaxDependencyRetagger` adds `parent_span` and `children` attributes to a syntax layer, which help to navigate dependency relations.\n",
    "\n",
    "In syntax layer, each word has attributes `id` and `head`. `id` is the index of the word in the sentence, and `head` is the index of word's parent in the sentence.\n",
    "`SyntaxDependencyRetagger` makes this information explicit, adding to each word a link to its parent word (span), and links to all of its children spans.\n",
    "\n",
    "Note: Most EstNLTK's syntactic analysis taggers have flag `add_parent_and_children` which switches on automatic preprocessing of the output layer with `SyntaxDependencyRetagger`.\n",
    "If this flag is missing or you want to recalculate `parent_span` and `children` values, you can run `SyntaxDependencyRetagger` manually.\n",
    "\n",
    "Example:"
   ]
  },
  {
   "cell_type": "code",
   "execution_count": 1,
   "metadata": {},
   "outputs": [
    {
     "data": {
      "text/html": [
       "<table border=\"1\" class=\"dataframe\">\n",
       "  <thead>\n",
       "    <tr style=\"text-align: right;\">\n",
       "      <th>text</th>\n",
       "    </tr>\n",
       "  </thead>\n",
       "  <tbody>\n",
       "    <tr>\n",
       "      <td><div align = \"left\">Ilus suur karvane kass nurrus punasel diivanil.</div></td>\n",
       "    </tr>\n",
       "  </tbody>\n",
       "</table>\n",
       "<table border=\"1\" class=\"dataframe\">\n",
       "  <thead>\n",
       "    <tr style=\"text-align: right;\">\n",
       "      <th>layer name</th>\n",
       "      <th>attributes</th>\n",
       "      <th>parent</th>\n",
       "      <th>enveloping</th>\n",
       "      <th>ambiguous</th>\n",
       "      <th>span count</th>\n",
       "    </tr>\n",
       "  </thead>\n",
       "  <tbody>\n",
       "    <tr>\n",
       "      <td>sentences</td>\n",
       "      <td></td>\n",
       "      <td>None</td>\n",
       "      <td>words</td>\n",
       "      <td>False</td>\n",
       "      <td>1</td>\n",
       "    </tr>\n",
       "    <tr>\n",
       "      <td>tokens</td>\n",
       "      <td></td>\n",
       "      <td>None</td>\n",
       "      <td>None</td>\n",
       "      <td>False</td>\n",
       "      <td>8</td>\n",
       "    </tr>\n",
       "    <tr>\n",
       "      <td>compound_tokens</td>\n",
       "      <td>type, normalized</td>\n",
       "      <td>None</td>\n",
       "      <td>tokens</td>\n",
       "      <td>False</td>\n",
       "      <td>0</td>\n",
       "    </tr>\n",
       "    <tr>\n",
       "      <td>words</td>\n",
       "      <td>normalized_form</td>\n",
       "      <td>None</td>\n",
       "      <td>None</td>\n",
       "      <td>True</td>\n",
       "      <td>8</td>\n",
       "    </tr>\n",
       "    <tr>\n",
       "      <td>morph_analysis</td>\n",
       "      <td>normalized_text, lemma, root, root_tokens, ending, clitic, form, partofspeech</td>\n",
       "      <td>words</td>\n",
       "      <td>None</td>\n",
       "      <td>True</td>\n",
       "      <td>8</td>\n",
       "    </tr>\n",
       "    <tr>\n",
       "      <td>conll_morph</td>\n",
       "      <td>id, form, lemma, upostag, xpostag, feats, head, deprel, deps, misc</td>\n",
       "      <td>morph_analysis</td>\n",
       "      <td>None</td>\n",
       "      <td>True</td>\n",
       "      <td>8</td>\n",
       "    </tr>\n",
       "    <tr>\n",
       "      <td>maltparser_syntax</td>\n",
       "      <td>id, lemma, upostag, xpostag, feats, head, deprel, deps, misc</td>\n",
       "      <td>None</td>\n",
       "      <td>None</td>\n",
       "      <td>False</td>\n",
       "      <td>8</td>\n",
       "    </tr>\n",
       "  </tbody>\n",
       "</table>"
      ],
      "text/plain": [
       "Text(text='Ilus suur karvane kass nurrus punasel diivanil.')"
      ]
     },
     "execution_count": 1,
     "metadata": {},
     "output_type": "execute_result"
    }
   ],
   "source": [
    "# First, preprocess Text for MaltParserTagger\n",
    "from estnltk import Text\n",
    "from estnltk.taggers import ConllMorphTagger\n",
    "from estnltk.taggers import MaltParserTagger\n",
    "\n",
    "# create a preprocessing tagger\n",
    "conll_tagger = ConllMorphTagger( output_layer='conll_morph', morph_extended_layer='morph_analysis', no_visl=True )\n",
    "# create syntax tagger\n",
    "maltparser_tagger = MaltParserTagger(input_type='morph_analysis', version='conllu', add_parent_and_children=False)\n",
    "\n",
    "# create text and annotate with Maltparser\n",
    "text = Text('Ilus suur karvane kass nurrus punasel diivanil.')\n",
    "text.tag_layer('morph_analysis')\n",
    "conll_tagger.tag( text )\n",
    "maltparser_tagger.tag( text )"
   ]
  },
  {
   "cell_type": "code",
   "execution_count": 2,
   "metadata": {},
   "outputs": [
    {
     "data": {
      "text/html": [
       "<h4>Layer</h4>\n",
       "\n",
       "\n",
       "<table border=\"1\" class=\"dataframe\">\n",
       "  <thead>\n",
       "    <tr style=\"text-align: right;\">\n",
       "      <th>layer name</th>\n",
       "      <th>attributes</th>\n",
       "      <th>parent</th>\n",
       "      <th>enveloping</th>\n",
       "      <th>ambiguous</th>\n",
       "      <th>span count</th>\n",
       "    </tr>\n",
       "  </thead>\n",
       "  <tbody>\n",
       "    <tr>\n",
       "      <td>maltparser_syntax</td>\n",
       "      <td>id, lemma, upostag, xpostag, feats, head, deprel, deps, misc, parent_span, children</td>\n",
       "      <td>None</td>\n",
       "      <td>None</td>\n",
       "      <td>False</td>\n",
       "      <td>8</td>\n",
       "    </tr>\n",
       "  </tbody>\n",
       "</table>\n",
       "<table border=\"1\" class=\"dataframe\">\n",
       "  <thead>\n",
       "    <tr style=\"text-align: right;\">\n",
       "      <th>text</th>\n",
       "      <th>id</th>\n",
       "      <th>lemma</th>\n",
       "      <th>upostag</th>\n",
       "      <th>xpostag</th>\n",
       "      <th>feats</th>\n",
       "      <th>head</th>\n",
       "      <th>deprel</th>\n",
       "      <th>deps</th>\n",
       "      <th>misc</th>\n",
       "      <th>parent_span</th>\n",
       "      <th>children</th>\n",
       "    </tr>\n",
       "  </thead>\n",
       "  <tbody>\n",
       "    <tr>\n",
       "      <td>Ilus</td>\n",
       "      <td>1</td>\n",
       "      <td>ilus</td>\n",
       "      <td>A</td>\n",
       "      <td>A</td>\n",
       "      <td>{'sg': '', 'n': ''}</td>\n",
       "      <td>4</td>\n",
       "      <td>amod</td>\n",
       "      <td>None</td>\n",
       "      <td>None</td>\n",
       "      <td>Span('kass', [{'id': 4, 'lemma': 'kass', 'upostag': 'S', 'xpostag': 'S', 'feats' ..., type: &lt;class 'estnltk_core.layer.span.Span'&gt;</td>\n",
       "      <td>()</td>\n",
       "    </tr>\n",
       "    <tr>\n",
       "      <td>suur</td>\n",
       "      <td>2</td>\n",
       "      <td>suur</td>\n",
       "      <td>A</td>\n",
       "      <td>A</td>\n",
       "      <td>{'sg': '', 'n': ''}</td>\n",
       "      <td>4</td>\n",
       "      <td>amod</td>\n",
       "      <td>None</td>\n",
       "      <td>None</td>\n",
       "      <td>Span('kass', [{'id': 4, 'lemma': 'kass', 'upostag': 'S', 'xpostag': 'S', 'feats' ..., type: &lt;class 'estnltk_core.layer.span.Span'&gt;</td>\n",
       "      <td>()</td>\n",
       "    </tr>\n",
       "    <tr>\n",
       "      <td>karvane</td>\n",
       "      <td>3</td>\n",
       "      <td>karvane</td>\n",
       "      <td>A</td>\n",
       "      <td>A</td>\n",
       "      <td>{'sg': '', 'n': ''}</td>\n",
       "      <td>4</td>\n",
       "      <td>amod</td>\n",
       "      <td>None</td>\n",
       "      <td>None</td>\n",
       "      <td>Span('kass', [{'id': 4, 'lemma': 'kass', 'upostag': 'S', 'xpostag': 'S', 'feats' ..., type: &lt;class 'estnltk_core.layer.span.Span'&gt;</td>\n",
       "      <td>()</td>\n",
       "    </tr>\n",
       "    <tr>\n",
       "      <td>kass</td>\n",
       "      <td>4</td>\n",
       "      <td>kass</td>\n",
       "      <td>S</td>\n",
       "      <td>S</td>\n",
       "      <td>{'sg': '', 'n': ''}</td>\n",
       "      <td>5</td>\n",
       "      <td>nsubj</td>\n",
       "      <td>None</td>\n",
       "      <td>None</td>\n",
       "      <td>Span('nurrus', [{'id': 5, 'lemma': 'nurruma', 'upostag': 'V', 'xpostag': 'V', 'f ..., type: &lt;class 'estnltk_core.layer.span.Span'&gt;</td>\n",
       "      <td>(\"Span('Ilus', [{'id': 1, 'lemma': 'ilus', 'upostag': 'A', 'xpostag': 'A', 'feat ..., type: &lt;class 'tuple'&gt;, length: 3</td>\n",
       "    </tr>\n",
       "    <tr>\n",
       "      <td>nurrus</td>\n",
       "      <td>5</td>\n",
       "      <td>nurruma</td>\n",
       "      <td>V</td>\n",
       "      <td>V</td>\n",
       "      <td>{'s': ''}</td>\n",
       "      <td>0</td>\n",
       "      <td>root</td>\n",
       "      <td>None</td>\n",
       "      <td>None</td>\n",
       "      <td>None</td>\n",
       "      <td>(\"Span('kass', [{'id': 4, 'lemma': 'kass', 'upostag': 'S', 'xpostag': 'S', 'feat ..., type: &lt;class 'tuple'&gt;, length: 3</td>\n",
       "    </tr>\n",
       "    <tr>\n",
       "      <td>punasel</td>\n",
       "      <td>6</td>\n",
       "      <td>punane</td>\n",
       "      <td>A</td>\n",
       "      <td>A</td>\n",
       "      <td>{'sg': '', 'ad': ''}</td>\n",
       "      <td>7</td>\n",
       "      <td>amod</td>\n",
       "      <td>None</td>\n",
       "      <td>None</td>\n",
       "      <td>Span('diivanil', [{'id': 7, 'lemma': 'diivan', 'upostag': 'S', 'xpostag': 'S', ' ..., type: &lt;class 'estnltk_core.layer.span.Span'&gt;</td>\n",
       "      <td>()</td>\n",
       "    </tr>\n",
       "    <tr>\n",
       "      <td>diivanil</td>\n",
       "      <td>7</td>\n",
       "      <td>diivan</td>\n",
       "      <td>S</td>\n",
       "      <td>S</td>\n",
       "      <td>{'sg': '', 'ad': ''}</td>\n",
       "      <td>5</td>\n",
       "      <td>obl</td>\n",
       "      <td>None</td>\n",
       "      <td>None</td>\n",
       "      <td>Span('nurrus', [{'id': 5, 'lemma': 'nurruma', 'upostag': 'V', 'xpostag': 'V', 'f ..., type: &lt;class 'estnltk_core.layer.span.Span'&gt;</td>\n",
       "      <td>(\"Span('punasel', [{'id': 6, 'lemma': 'punane', 'upostag': 'A', 'xpostag': 'A',  ..., type: &lt;class 'tuple'&gt;, length: 1</td>\n",
       "    </tr>\n",
       "    <tr>\n",
       "      <td>.</td>\n",
       "      <td>8</td>\n",
       "      <td>.</td>\n",
       "      <td>Z</td>\n",
       "      <td>Z</td>\n",
       "      <td>None</td>\n",
       "      <td>5</td>\n",
       "      <td>punct</td>\n",
       "      <td>None</td>\n",
       "      <td>None</td>\n",
       "      <td>Span('nurrus', [{'id': 5, 'lemma': 'nurruma', 'upostag': 'V', 'xpostag': 'V', 'f ..., type: &lt;class 'estnltk_core.layer.span.Span'&gt;</td>\n",
       "      <td>()</td>\n",
       "    </tr>\n",
       "  </tbody>\n",
       "</table>"
      ],
      "text/plain": [
       "Layer(name='maltparser_syntax', attributes=('id', 'lemma', 'upostag', 'xpostag', 'feats', 'head', 'deprel', 'deps', 'misc', 'parent_span', 'children'), spans=SL[Span('Ilus', [{'id': 1, 'lemma': 'ilus', 'upostag': 'A', 'xpostag': 'A', 'feats': {'sg': '', 'n': ''}, 'head': 4, 'deprel': 'amod', 'deps': None, 'misc': None, 'parent_span': <class 'estnltk_core.layer.span.Span'>, 'children': ()}]),\n",
       "Span('suur', [{'id': 2, 'lemma': 'suur', 'upostag': 'A', 'xpostag': 'A', 'feats': {'sg': '', 'n': ''}, 'head': 4, 'deprel': 'amod', 'deps': None, 'misc': None, 'parent_span': <class 'estnltk_core.layer.span.Span'>, 'children': ()}]),\n",
       "Span('karvane', [{'id': 3, 'lemma': 'karvane', 'upostag': 'A', 'xpostag': 'A', 'feats': {'sg': '', 'n': ''}, 'head': 4, 'deprel': 'amod', 'deps': None, 'misc': None, 'parent_span': <class 'estnltk_core.layer.span.Span'>, 'children': ()}]),\n",
       "Span('kass', [{'id': 4, 'lemma': 'kass', 'upostag': 'S', 'xpostag': 'S', 'feats': {'sg': '', 'n': ''}, 'head': 5, 'deprel': 'nsubj', 'deps': None, 'misc': None, 'parent_span': <class 'estnltk_core.layer.span.Span'>, 'children': <class 'tuple'>}]),\n",
       "Span('nurrus', [{'id': 5, 'lemma': 'nurruma', 'upostag': 'V', 'xpostag': 'V', 'feats': {'s': ''}, 'head': 0, 'deprel': 'root', 'deps': None, 'misc': None, 'parent_span': None, 'children': <class 'tuple'>}]),\n",
       "Span('punasel', [{'id': 6, 'lemma': 'punane', 'upostag': 'A', 'xpostag': 'A', 'feats': {'sg': '', 'ad': ''}, 'head': 7, 'deprel': 'amod', 'deps': None, 'misc': None, 'parent_span': <class 'estnltk_core.layer.span.Span'>, 'children': ()}]),\n",
       "Span('diivanil', [{'id': 7, 'lemma': 'diivan', 'upostag': 'S', 'xpostag': 'S', 'feats': {'sg': '', 'ad': ''}, 'head': 5, 'deprel': 'obl', 'deps': None, 'misc': None, 'parent_span': <class 'estnltk_core.layer.span.Span'>, 'children': <class 'tuple'>}]),\n",
       "Span('.', [{'id': 8, 'lemma': '.', 'upostag': 'Z', 'xpostag': 'Z', 'feats': None, 'head': 5, 'deprel': 'punct', 'deps': None, 'misc': None, 'parent_span': <class 'estnltk_core.layer.span.Span'>, 'children': ()}])])"
      ]
     },
     "execution_count": 2,
     "metadata": {},
     "output_type": "execute_result"
    }
   ],
   "source": [
    "# Add parent_span and children information\n",
    "from estnltk.taggers import SyntaxDependencyRetagger\n",
    "\n",
    "SyntaxDependencyRetagger('maltparser_syntax').retag(text)\n",
    "\n",
    "text.maltparser_syntax"
   ]
  },
  {
   "cell_type": "markdown",
   "metadata": {},
   "source": [
    "Note: If `parent_span` or `children` attribute already exists in the syntax layer then the values are updated.  \n",
    "Therefore, to update the dependencies in the syntax layer first update the values of head attributes and then run `SyntaxDependencyRetagger`."
   ]
  },
  {
   "cell_type": "markdown",
   "metadata": {},
   "source": [
    "#### Navigating in dependency relations"
   ]
  },
  {
   "cell_type": "markdown",
   "metadata": {},
   "source": [
    "The span _'kass'_ has a parent span and three child spans:"
   ]
  },
  {
   "cell_type": "code",
   "execution_count": 3,
   "metadata": {
    "scrolled": true
   },
   "outputs": [
    {
     "data": {
      "text/html": [
       "<b>Span</b>\n",
       "<table border=\"1\" class=\"dataframe\">\n",
       "  <thead>\n",
       "    <tr style=\"text-align: right;\">\n",
       "      <th>text</th>\n",
       "      <th>id</th>\n",
       "      <th>lemma</th>\n",
       "      <th>upostag</th>\n",
       "      <th>xpostag</th>\n",
       "      <th>feats</th>\n",
       "      <th>head</th>\n",
       "      <th>deprel</th>\n",
       "      <th>deps</th>\n",
       "      <th>misc</th>\n",
       "      <th>parent_span</th>\n",
       "      <th>children</th>\n",
       "    </tr>\n",
       "  </thead>\n",
       "  <tbody>\n",
       "    <tr>\n",
       "      <td><span style=\"font-family: monospace; white-space: pre-wrap;\"><span style=\"text-decoration: underline;\">kass</span></span></td>\n",
       "      <td>4</td>\n",
       "      <td>kass</td>\n",
       "      <td>S</td>\n",
       "      <td>S</td>\n",
       "      <td>{&#x27;sg&#x27;: &#x27;&#x27;, &#x27;n&#x27;: &#x27;&#x27;}</td>\n",
       "      <td>5</td>\n",
       "      <td>nsubj</td>\n",
       "      <td>None</td>\n",
       "      <td>None</td>\n",
       "      <td>Span(&#x27;nurrus&#x27;, [{&#x27;id&#x27;: 5, &#x27;lemma&#x27;: &#x27;nurruma&#x27;, &#x27;upostag&#x27;: &#x27;V&#x27;, &#x27;xpostag&#x27;: &#x27;V&#x27;, &#x27;f ..., type: &lt;class &#x27;estnltk_core.layer.span.Span&#x27;&gt;</td>\n",
       "      <td>(&quot;Span(&#x27;Ilus&#x27;, [{&#x27;id&#x27;: 1, &#x27;lemma&#x27;: &#x27;ilus&#x27;, &#x27;upostag&#x27;: &#x27;A&#x27;, &#x27;xpostag&#x27;: &#x27;A&#x27;, &#x27;feat ..., type: &lt;class &#x27;tuple&#x27;&gt;, length: 3</td>\n",
       "    </tr>\n",
       "  </tbody>\n",
       "</table>"
      ],
      "text/plain": [
       "Span('kass', [{'id': 4, 'lemma': 'kass', 'upostag': 'S', 'xpostag': 'S', 'feats': {'sg': '', 'n': ''}, 'head': 5, 'deprel': 'nsubj', 'deps': None, 'misc': None, 'parent_span': <class 'estnltk_core.layer.span.Span'>, 'children': <class 'tuple'>}])"
      ]
     },
     "execution_count": 3,
     "metadata": {},
     "output_type": "execute_result"
    }
   ],
   "source": [
    "span = text.maltparser_syntax[3]\n",
    "span"
   ]
  },
  {
   "cell_type": "markdown",
   "metadata": {},
   "source": [
    "To get the **parent span**, write:"
   ]
  },
  {
   "cell_type": "code",
   "execution_count": 4,
   "metadata": {},
   "outputs": [
    {
     "data": {
      "text/html": [
       "<b>Span</b>\n",
       "<table border=\"1\" class=\"dataframe\">\n",
       "  <thead>\n",
       "    <tr style=\"text-align: right;\">\n",
       "      <th>text</th>\n",
       "      <th>id</th>\n",
       "      <th>lemma</th>\n",
       "      <th>upostag</th>\n",
       "      <th>xpostag</th>\n",
       "      <th>feats</th>\n",
       "      <th>head</th>\n",
       "      <th>deprel</th>\n",
       "      <th>deps</th>\n",
       "      <th>misc</th>\n",
       "      <th>parent_span</th>\n",
       "      <th>children</th>\n",
       "    </tr>\n",
       "  </thead>\n",
       "  <tbody>\n",
       "    <tr>\n",
       "      <td><span style=\"font-family: monospace; white-space: pre-wrap;\"><span style=\"text-decoration: underline;\">nurrus</span></span></td>\n",
       "      <td>5</td>\n",
       "      <td>nurruma</td>\n",
       "      <td>V</td>\n",
       "      <td>V</td>\n",
       "      <td>{&#x27;s&#x27;: &#x27;&#x27;}</td>\n",
       "      <td>0</td>\n",
       "      <td>root</td>\n",
       "      <td>None</td>\n",
       "      <td>None</td>\n",
       "      <td>None</td>\n",
       "      <td>(&quot;Span(&#x27;kass&#x27;, [{&#x27;id&#x27;: 4, &#x27;lemma&#x27;: &#x27;kass&#x27;, &#x27;upostag&#x27;: &#x27;S&#x27;, &#x27;xpostag&#x27;: &#x27;S&#x27;, &#x27;feat ..., type: &lt;class &#x27;tuple&#x27;&gt;, length: 3</td>\n",
       "    </tr>\n",
       "  </tbody>\n",
       "</table>"
      ],
      "text/plain": [
       "Span('nurrus', [{'id': 5, 'lemma': 'nurruma', 'upostag': 'V', 'xpostag': 'V', 'feats': {'s': ''}, 'head': 0, 'deprel': 'root', 'deps': None, 'misc': None, 'parent_span': None, 'children': <class 'tuple'>}])"
      ]
     },
     "execution_count": 4,
     "metadata": {},
     "output_type": "execute_result"
    }
   ],
   "source": [
    "span.annotations[0].parent_span"
   ]
  },
  {
   "cell_type": "markdown",
   "metadata": {},
   "source": [
    "To iterate over all **children**, write:"
   ]
  },
  {
   "cell_type": "code",
   "execution_count": 5,
   "metadata": {},
   "outputs": [
    {
     "data": {
      "text/html": [
       "<b>Span</b>\n",
       "<table border=\"1\" class=\"dataframe\">\n",
       "  <thead>\n",
       "    <tr style=\"text-align: right;\">\n",
       "      <th>text</th>\n",
       "      <th>id</th>\n",
       "      <th>lemma</th>\n",
       "      <th>upostag</th>\n",
       "      <th>xpostag</th>\n",
       "      <th>feats</th>\n",
       "      <th>head</th>\n",
       "      <th>deprel</th>\n",
       "      <th>deps</th>\n",
       "      <th>misc</th>\n",
       "      <th>parent_span</th>\n",
       "      <th>children</th>\n",
       "    </tr>\n",
       "  </thead>\n",
       "  <tbody>\n",
       "    <tr>\n",
       "      <td><span style=\"font-family: monospace; white-space: pre-wrap;\"><span style=\"text-decoration: underline;\">Ilus</span></span></td>\n",
       "      <td>1</td>\n",
       "      <td>ilus</td>\n",
       "      <td>A</td>\n",
       "      <td>A</td>\n",
       "      <td>{&#x27;sg&#x27;: &#x27;&#x27;, &#x27;n&#x27;: &#x27;&#x27;}</td>\n",
       "      <td>4</td>\n",
       "      <td>amod</td>\n",
       "      <td>None</td>\n",
       "      <td>None</td>\n",
       "      <td>Span(&#x27;kass&#x27;, [{&#x27;id&#x27;: 4, &#x27;lemma&#x27;: &#x27;kass&#x27;, &#x27;upostag&#x27;: &#x27;S&#x27;, &#x27;xpostag&#x27;: &#x27;S&#x27;, &#x27;feats&#x27; ..., type: &lt;class &#x27;estnltk_core.layer.span.Span&#x27;&gt;</td>\n",
       "      <td>()</td>\n",
       "    </tr>\n",
       "  </tbody>\n",
       "</table>"
      ],
      "text/plain": [
       "Span('Ilus', [{'id': 1, 'lemma': 'ilus', 'upostag': 'A', 'xpostag': 'A', 'feats': {'sg': '', 'n': ''}, 'head': 4, 'deprel': 'amod', 'deps': None, 'misc': None, 'parent_span': <class 'estnltk_core.layer.span.Span'>, 'children': ()}])"
      ]
     },
     "metadata": {},
     "output_type": "display_data"
    },
    {
     "data": {
      "text/html": [
       "<b>Span</b>\n",
       "<table border=\"1\" class=\"dataframe\">\n",
       "  <thead>\n",
       "    <tr style=\"text-align: right;\">\n",
       "      <th>text</th>\n",
       "      <th>id</th>\n",
       "      <th>lemma</th>\n",
       "      <th>upostag</th>\n",
       "      <th>xpostag</th>\n",
       "      <th>feats</th>\n",
       "      <th>head</th>\n",
       "      <th>deprel</th>\n",
       "      <th>deps</th>\n",
       "      <th>misc</th>\n",
       "      <th>parent_span</th>\n",
       "      <th>children</th>\n",
       "    </tr>\n",
       "  </thead>\n",
       "  <tbody>\n",
       "    <tr>\n",
       "      <td><span style=\"font-family: monospace; white-space: pre-wrap;\"><span style=\"text-decoration: underline;\">suur</span></span></td>\n",
       "      <td>2</td>\n",
       "      <td>suur</td>\n",
       "      <td>A</td>\n",
       "      <td>A</td>\n",
       "      <td>{&#x27;sg&#x27;: &#x27;&#x27;, &#x27;n&#x27;: &#x27;&#x27;}</td>\n",
       "      <td>4</td>\n",
       "      <td>amod</td>\n",
       "      <td>None</td>\n",
       "      <td>None</td>\n",
       "      <td>Span(&#x27;kass&#x27;, [{&#x27;id&#x27;: 4, &#x27;lemma&#x27;: &#x27;kass&#x27;, &#x27;upostag&#x27;: &#x27;S&#x27;, &#x27;xpostag&#x27;: &#x27;S&#x27;, &#x27;feats&#x27; ..., type: &lt;class &#x27;estnltk_core.layer.span.Span&#x27;&gt;</td>\n",
       "      <td>()</td>\n",
       "    </tr>\n",
       "  </tbody>\n",
       "</table>"
      ],
      "text/plain": [
       "Span('suur', [{'id': 2, 'lemma': 'suur', 'upostag': 'A', 'xpostag': 'A', 'feats': {'sg': '', 'n': ''}, 'head': 4, 'deprel': 'amod', 'deps': None, 'misc': None, 'parent_span': <class 'estnltk_core.layer.span.Span'>, 'children': ()}])"
      ]
     },
     "metadata": {},
     "output_type": "display_data"
    },
    {
     "data": {
      "text/html": [
       "<b>Span</b>\n",
       "<table border=\"1\" class=\"dataframe\">\n",
       "  <thead>\n",
       "    <tr style=\"text-align: right;\">\n",
       "      <th>text</th>\n",
       "      <th>id</th>\n",
       "      <th>lemma</th>\n",
       "      <th>upostag</th>\n",
       "      <th>xpostag</th>\n",
       "      <th>feats</th>\n",
       "      <th>head</th>\n",
       "      <th>deprel</th>\n",
       "      <th>deps</th>\n",
       "      <th>misc</th>\n",
       "      <th>parent_span</th>\n",
       "      <th>children</th>\n",
       "    </tr>\n",
       "  </thead>\n",
       "  <tbody>\n",
       "    <tr>\n",
       "      <td><span style=\"font-family: monospace; white-space: pre-wrap;\"><span style=\"text-decoration: underline;\">karvane</span></span></td>\n",
       "      <td>3</td>\n",
       "      <td>karvane</td>\n",
       "      <td>A</td>\n",
       "      <td>A</td>\n",
       "      <td>{&#x27;sg&#x27;: &#x27;&#x27;, &#x27;n&#x27;: &#x27;&#x27;}</td>\n",
       "      <td>4</td>\n",
       "      <td>amod</td>\n",
       "      <td>None</td>\n",
       "      <td>None</td>\n",
       "      <td>Span(&#x27;kass&#x27;, [{&#x27;id&#x27;: 4, &#x27;lemma&#x27;: &#x27;kass&#x27;, &#x27;upostag&#x27;: &#x27;S&#x27;, &#x27;xpostag&#x27;: &#x27;S&#x27;, &#x27;feats&#x27; ..., type: &lt;class &#x27;estnltk_core.layer.span.Span&#x27;&gt;</td>\n",
       "      <td>()</td>\n",
       "    </tr>\n",
       "  </tbody>\n",
       "</table>"
      ],
      "text/plain": [
       "Span('karvane', [{'id': 3, 'lemma': 'karvane', 'upostag': 'A', 'xpostag': 'A', 'feats': {'sg': '', 'n': ''}, 'head': 4, 'deprel': 'amod', 'deps': None, 'misc': None, 'parent_span': <class 'estnltk_core.layer.span.Span'>, 'children': ()}])"
      ]
     },
     "metadata": {},
     "output_type": "display_data"
    }
   ],
   "source": [
    "for child in span.annotations[0].children:\n",
    "    display(child)"
   ]
  },
  {
   "cell_type": "markdown",
   "metadata": {},
   "source": [
    "---"
   ]
  },
  {
   "cell_type": "markdown",
   "metadata": {},
   "source": [
    "## Working with CONLL files"
   ]
  },
  {
   "cell_type": "markdown",
   "metadata": {},
   "source": [
    "EstNLTK enables us to import data from CONLL format files as Text objects with one or more syntactic analysis layers. \n",
    "To see how this works, let's import the annotations from file `example.conll` (should be in the folder of this tutorial):"
   ]
  },
  {
   "cell_type": "code",
   "execution_count": 6,
   "metadata": {},
   "outputs": [],
   "source": [
    "from estnltk.converters.conll.conll_importer import conll_to_text\n",
    "\n",
    "# Reading data from the file 'example.conll'\n",
    "text = conll_to_text(file='example.conll', syntax_layer='imported_syntax')"
   ]
  },
  {
   "cell_type": "markdown",
   "metadata": {},
   "source": [
    "You can specify name of the syntax layer upon the import. \n",
    "While working with several syntactic analysis layers, please keep in mind that each layer should have a unique name."
   ]
  },
  {
   "cell_type": "code",
   "execution_count": 7,
   "metadata": {},
   "outputs": [
    {
     "data": {
      "text/html": [
       "<table border=\"1\" class=\"dataframe\">\n",
       "  <thead>\n",
       "    <tr style=\"text-align: right;\">\n",
       "      <th>text</th>\n",
       "    </tr>\n",
       "  </thead>\n",
       "  <tbody>\n",
       "    <tr>\n",
       "      <td><div align = \"left\">Ta on ise tee esimesel poolel .</div></td>\n",
       "    </tr>\n",
       "  </tbody>\n",
       "</table>\n",
       "<table border=\"1\" class=\"dataframe\">\n",
       "  <thead>\n",
       "    <tr style=\"text-align: right;\">\n",
       "      <th>layer name</th>\n",
       "      <th>attributes</th>\n",
       "      <th>parent</th>\n",
       "      <th>enveloping</th>\n",
       "      <th>ambiguous</th>\n",
       "      <th>span count</th>\n",
       "    </tr>\n",
       "  </thead>\n",
       "  <tbody>\n",
       "    <tr>\n",
       "      <td>sentences</td>\n",
       "      <td></td>\n",
       "      <td>None</td>\n",
       "      <td>words</td>\n",
       "      <td>False</td>\n",
       "      <td>1</td>\n",
       "    </tr>\n",
       "    <tr>\n",
       "      <td>words</td>\n",
       "      <td></td>\n",
       "      <td>None</td>\n",
       "      <td>None</td>\n",
       "      <td>True</td>\n",
       "      <td>7</td>\n",
       "    </tr>\n",
       "    <tr>\n",
       "      <td>imported_syntax</td>\n",
       "      <td>id, lemma, upostag, xpostag, feats, head, deprel, deps, misc, parent_span, children</td>\n",
       "      <td>None</td>\n",
       "      <td>None</td>\n",
       "      <td>False</td>\n",
       "      <td>7</td>\n",
       "    </tr>\n",
       "  </tbody>\n",
       "</table>"
      ],
      "text/plain": [
       "Text(text='Ta on ise tee esimesel poolel .')"
      ]
     },
     "execution_count": 7,
     "metadata": {},
     "output_type": "execute_result"
    }
   ],
   "source": [
    "text"
   ]
  },
  {
   "cell_type": "code",
   "execution_count": 8,
   "metadata": {},
   "outputs": [
    {
     "data": {
      "text/html": [
       "<h4>Layer</h4>\n",
       "\n",
       "\n",
       "<table border=\"1\" class=\"dataframe\">\n",
       "  <thead>\n",
       "    <tr style=\"text-align: right;\">\n",
       "      <th>layer name</th>\n",
       "      <th>attributes</th>\n",
       "      <th>parent</th>\n",
       "      <th>enveloping</th>\n",
       "      <th>ambiguous</th>\n",
       "      <th>span count</th>\n",
       "    </tr>\n",
       "  </thead>\n",
       "  <tbody>\n",
       "    <tr>\n",
       "      <td>imported_syntax</td>\n",
       "      <td>id, lemma, upostag, xpostag, feats, head, deprel, deps, misc, parent_span, children</td>\n",
       "      <td>None</td>\n",
       "      <td>None</td>\n",
       "      <td>False</td>\n",
       "      <td>7</td>\n",
       "    </tr>\n",
       "  </tbody>\n",
       "</table>\n",
       "<table border=\"1\" class=\"dataframe\">\n",
       "  <thead>\n",
       "    <tr style=\"text-align: right;\">\n",
       "      <th>text</th>\n",
       "      <th>id</th>\n",
       "      <th>lemma</th>\n",
       "      <th>upostag</th>\n",
       "      <th>xpostag</th>\n",
       "      <th>feats</th>\n",
       "      <th>head</th>\n",
       "      <th>deprel</th>\n",
       "      <th>deps</th>\n",
       "      <th>misc</th>\n",
       "      <th>parent_span</th>\n",
       "      <th>children</th>\n",
       "    </tr>\n",
       "  </thead>\n",
       "  <tbody>\n",
       "    <tr>\n",
       "      <td>Ta</td>\n",
       "      <td>1</td>\n",
       "      <td>tema</td>\n",
       "      <td>P</td>\n",
       "      <td>P</td>\n",
       "      <td>{'sg': '', 'n': ''}</td>\n",
       "      <td>2</td>\n",
       "      <td>@ADVL</td>\n",
       "      <td>None</td>\n",
       "      <td>None</td>\n",
       "      <td>Span('on', [{'id': 2, 'lemma': 'olema', 'upostag': 'V', 'xpostag': 'V', 'feats': ..., type: &lt;class 'estnltk_core.layer.span.Span'&gt;</td>\n",
       "      <td>()</td>\n",
       "    </tr>\n",
       "    <tr>\n",
       "      <td>on</td>\n",
       "      <td>2</td>\n",
       "      <td>olema</td>\n",
       "      <td>V</td>\n",
       "      <td>V</td>\n",
       "      <td>{'b': ''}</td>\n",
       "      <td>0</td>\n",
       "      <td>ROOT</td>\n",
       "      <td>None</td>\n",
       "      <td>None</td>\n",
       "      <td>None</td>\n",
       "      <td>(\"Span('Ta', [{'id': 1, 'lemma': 'tema', 'upostag': 'P', 'xpostag': 'P', 'feats' ..., type: &lt;class 'tuple'&gt;, length: 3</td>\n",
       "    </tr>\n",
       "    <tr>\n",
       "      <td>ise</td>\n",
       "      <td>3</td>\n",
       "      <td>ise</td>\n",
       "      <td>P</td>\n",
       "      <td>P</td>\n",
       "      <td>{'pl': '', 'n': ''}</td>\n",
       "      <td>4</td>\n",
       "      <td>@NN&gt;</td>\n",
       "      <td>None</td>\n",
       "      <td>None</td>\n",
       "      <td>Span('tee', [{'id': 4, 'lemma': 'tee', 'upostag': 'S', 'xpostag': 'S', 'feats':  ..., type: &lt;class 'estnltk_core.layer.span.Span'&gt;</td>\n",
       "      <td>()</td>\n",
       "    </tr>\n",
       "    <tr>\n",
       "      <td>tee</td>\n",
       "      <td>4</td>\n",
       "      <td>tee</td>\n",
       "      <td>S</td>\n",
       "      <td>S</td>\n",
       "      <td>{'sg': '', 'n': ''}</td>\n",
       "      <td>2</td>\n",
       "      <td>@ADVL</td>\n",
       "      <td>None</td>\n",
       "      <td>None</td>\n",
       "      <td>Span('on', [{'id': 2, 'lemma': 'olema', 'upostag': 'V', 'xpostag': 'V', 'feats': ..., type: &lt;class 'estnltk_core.layer.span.Span'&gt;</td>\n",
       "      <td>(\"Span('ise', [{'id': 3, 'lemma': 'ise', 'upostag': 'P', 'xpostag': 'P', 'feats' ..., type: &lt;class 'tuple'&gt;, length: 1</td>\n",
       "    </tr>\n",
       "    <tr>\n",
       "      <td>esimesel</td>\n",
       "      <td>5</td>\n",
       "      <td>esimene</td>\n",
       "      <td>O</td>\n",
       "      <td>O</td>\n",
       "      <td>{'sg': '', 'ad': ''}</td>\n",
       "      <td>6</td>\n",
       "      <td>@DN&gt;</td>\n",
       "      <td>None</td>\n",
       "      <td>None</td>\n",
       "      <td>Span('poolel', [{'id': 6, 'lemma': 'pool', 'upostag': 'S', 'xpostag': 'S', 'feat ..., type: &lt;class 'estnltk_core.layer.span.Span'&gt;</td>\n",
       "      <td>()</td>\n",
       "    </tr>\n",
       "    <tr>\n",
       "      <td>poolel</td>\n",
       "      <td>6</td>\n",
       "      <td>pool</td>\n",
       "      <td>S</td>\n",
       "      <td>S</td>\n",
       "      <td>{'sg': '', 'ad': ''}</td>\n",
       "      <td>2</td>\n",
       "      <td>@ADVL</td>\n",
       "      <td>None</td>\n",
       "      <td>None</td>\n",
       "      <td>Span('on', [{'id': 2, 'lemma': 'olema', 'upostag': 'V', 'xpostag': 'V', 'feats': ..., type: &lt;class 'estnltk_core.layer.span.Span'&gt;</td>\n",
       "      <td>(\"Span('esimesel', [{'id': 5, 'lemma': 'esimene', 'upostag': 'O', 'xpostag': 'O' ..., type: &lt;class 'tuple'&gt;, length: 2</td>\n",
       "    </tr>\n",
       "    <tr>\n",
       "      <td>.</td>\n",
       "      <td>7</td>\n",
       "      <td>.</td>\n",
       "      <td>Z</td>\n",
       "      <td>Z</td>\n",
       "      <td>None</td>\n",
       "      <td>6</td>\n",
       "      <td>@Punc</td>\n",
       "      <td>None</td>\n",
       "      <td>None</td>\n",
       "      <td>Span('poolel', [{'id': 6, 'lemma': 'pool', 'upostag': 'S', 'xpostag': 'S', 'feat ..., type: &lt;class 'estnltk_core.layer.span.Span'&gt;</td>\n",
       "      <td>()</td>\n",
       "    </tr>\n",
       "  </tbody>\n",
       "</table>"
      ],
      "text/plain": [
       "Layer(name='imported_syntax', attributes=('id', 'lemma', 'upostag', 'xpostag', 'feats', 'head', 'deprel', 'deps', 'misc', 'parent_span', 'children'), spans=SL[Span('Ta', [{'id': 1, 'lemma': 'tema', 'upostag': 'P', 'xpostag': 'P', 'feats': {'sg': '', 'n': ''}, 'head': 2, 'deprel': '@ADVL', 'deps': None, 'misc': None, 'parent_span': <class 'estnltk_core.layer.span.Span'>, 'children': ()}]),\n",
       "Span('on', [{'id': 2, 'lemma': 'olema', 'upostag': 'V', 'xpostag': 'V', 'feats': {'b': ''}, 'head': 0, 'deprel': 'ROOT', 'deps': None, 'misc': None, 'parent_span': None, 'children': <class 'tuple'>}]),\n",
       "Span('ise', [{'id': 3, 'lemma': 'ise', 'upostag': 'P', 'xpostag': 'P', 'feats': {'pl': '', 'n': ''}, 'head': 4, 'deprel': '@NN>', 'deps': None, 'misc': None, 'parent_span': <class 'estnltk_core.layer.span.Span'>, 'children': ()}]),\n",
       "Span('tee', [{'id': 4, 'lemma': 'tee', 'upostag': 'S', 'xpostag': 'S', 'feats': {'sg': '', 'n': ''}, 'head': 2, 'deprel': '@ADVL', 'deps': None, 'misc': None, 'parent_span': <class 'estnltk_core.layer.span.Span'>, 'children': <class 'tuple'>}]),\n",
       "Span('esimesel', [{'id': 5, 'lemma': 'esimene', 'upostag': 'O', 'xpostag': 'O', 'feats': {'sg': '', 'ad': ''}, 'head': 6, 'deprel': '@DN>', 'deps': None, 'misc': None, 'parent_span': <class 'estnltk_core.layer.span.Span'>, 'children': ()}]),\n",
       "Span('poolel', [{'id': 6, 'lemma': 'pool', 'upostag': 'S', 'xpostag': 'S', 'feats': {'sg': '', 'ad': ''}, 'head': 2, 'deprel': '@ADVL', 'deps': None, 'misc': None, 'parent_span': <class 'estnltk_core.layer.span.Span'>, 'children': <class 'tuple'>}]),\n",
       "Span('.', [{'id': 7, 'lemma': '.', 'upostag': 'Z', 'xpostag': 'Z', 'feats': None, 'head': 6, 'deprel': '@Punc', 'deps': None, 'misc': None, 'parent_span': <class 'estnltk_core.layer.span.Span'>, 'children': ()}])])"
      ]
     },
     "execution_count": 8,
     "metadata": {},
     "output_type": "execute_result"
    }
   ],
   "source": [
    "text.imported_syntax"
   ]
  },
  {
   "cell_type": "markdown",
   "metadata": {},
   "source": [
    "We can also add more syntax layers from CONLL files. \n",
    "This is useful if we have parsed our data with different parsing models and/or have gold standard and want to compare the annotations."
   ]
  },
  {
   "cell_type": "code",
   "execution_count": 9,
   "metadata": {},
   "outputs": [
    {
     "data": {
      "text/html": [
       "<table border=\"1\" class=\"dataframe\">\n",
       "  <thead>\n",
       "    <tr style=\"text-align: right;\">\n",
       "      <th>text</th>\n",
       "    </tr>\n",
       "  </thead>\n",
       "  <tbody>\n",
       "    <tr>\n",
       "      <td><div align = \"left\">Ta on ise tee esimesel poolel .</div></td>\n",
       "    </tr>\n",
       "  </tbody>\n",
       "</table>\n",
       "<table border=\"1\" class=\"dataframe\">\n",
       "  <thead>\n",
       "    <tr style=\"text-align: right;\">\n",
       "      <th>layer name</th>\n",
       "      <th>attributes</th>\n",
       "      <th>parent</th>\n",
       "      <th>enveloping</th>\n",
       "      <th>ambiguous</th>\n",
       "      <th>span count</th>\n",
       "    </tr>\n",
       "  </thead>\n",
       "  <tbody>\n",
       "    <tr>\n",
       "      <td>sentences</td>\n",
       "      <td></td>\n",
       "      <td>None</td>\n",
       "      <td>words</td>\n",
       "      <td>False</td>\n",
       "      <td>1</td>\n",
       "    </tr>\n",
       "    <tr>\n",
       "      <td>words</td>\n",
       "      <td></td>\n",
       "      <td>None</td>\n",
       "      <td>None</td>\n",
       "      <td>True</td>\n",
       "      <td>7</td>\n",
       "    </tr>\n",
       "    <tr>\n",
       "      <td>imported_syntax</td>\n",
       "      <td>id, lemma, upostag, xpostag, feats, head, deprel, deps, misc, parent_span, children</td>\n",
       "      <td>None</td>\n",
       "      <td>None</td>\n",
       "      <td>False</td>\n",
       "      <td>7</td>\n",
       "    </tr>\n",
       "    <tr>\n",
       "      <td>imported_syntax_2</td>\n",
       "      <td>id, lemma, upostag, xpostag, feats, head, deprel, deps, misc, parent_span, children</td>\n",
       "      <td>None</td>\n",
       "      <td>None</td>\n",
       "      <td>False</td>\n",
       "      <td>7</td>\n",
       "    </tr>\n",
       "  </tbody>\n",
       "</table>"
      ],
      "text/plain": [
       "Text(text='Ta on ise tee esimesel poolel .')"
      ]
     },
     "execution_count": 9,
     "metadata": {},
     "output_type": "execute_result"
    }
   ],
   "source": [
    "from estnltk.converters.conll.conll_importer import add_layer_from_conll\n",
    "\n",
    "# Adding the analysis from the second file to the Text object that we already created\n",
    "add_layer_from_conll(file='example2.conll', text=text, syntax_layer='imported_syntax_2')"
   ]
  },
  {
   "cell_type": "markdown",
   "metadata": {},
   "source": [
    "We can also iterate over sentences and words and compare their attributes:"
   ]
  },
  {
   "cell_type": "code",
   "execution_count": 10,
   "metadata": {},
   "outputs": [
    {
     "name": "stdout",
     "output_type": "stream",
     "text": [
      "Ta Ta\n",
      "on on\n",
      "ise ise\n",
      "tee tee\n",
      "esimesel esimesel\n",
      "poolel poolel\n",
      ". .\n"
     ]
    }
   ],
   "source": [
    "syntax_1 = text.imported_syntax\n",
    "syntax_2 = text.imported_syntax_2\n",
    "\n",
    "for sentence in text.sentences:\n",
    "    for word in sentence:\n",
    "        if syntax_1.get(word).deprel == syntax_2.get(word).deprel:\n",
    "            print(syntax_1.get(word).text, syntax_2.get(word).text)"
   ]
  },
  {
   "cell_type": "markdown",
   "metadata": {},
   "source": [
    "All _deprel_ values were equal. This is an expected result, as files' contents were also identical."
   ]
  },
  {
   "cell_type": "markdown",
   "metadata": {},
   "source": [
    "**Note #1:** you can also use `conll_to_text` to import a syntax preprocessing layer (a layer that is usually created by `ConllMorphTagger`, as described in [this tutorial](01_syntax_preprocessing.ipynb)).\n",
    "\n",
    "In the following example, the file `example.conllu` already has CoNNL-U format syntactic annotation: we read the file and add syntactic analysis with `UDPipeTagger` (note: running this example requires that `UDPipeTagger` has been properly installed, see [this tutorial](03_syntactic_analysis_with_udpipe.ipynb) for details):"
   ]
  },
  {
   "cell_type": "code",
   "execution_count": 11,
   "metadata": {
    "scrolled": true,
    "tags": [
     "nbval-skip"
    ]
   },
   "outputs": [
    {
     "name": "stderr",
     "output_type": "stream",
     "text": [
      "C:\\Programmid\\Miniconda3\\envs\\py39_devel\\lib\\subprocess.py:935: RuntimeWarning: line buffering (buffering=1) isn't supported in binary mode, the default buffer size will be used\n",
      "  self.stdin = io.open(p2cwrite, 'wb', bufsize)\n",
      "C:\\Programmid\\Miniconda3\\envs\\py39_devel\\lib\\subprocess.py:941: RuntimeWarning: line buffering (buffering=1) isn't supported in binary mode, the default buffer size will be used\n",
      "  self.stdout = io.open(c2pread, 'rb', bufsize)\n",
      "C:\\Programmid\\Miniconda3\\envs\\py39_devel\\lib\\subprocess.py:946: RuntimeWarning: line buffering (buffering=1) isn't supported in binary mode, the default buffer size will be used\n",
      "  self.stderr = io.open(errread, 'rb', bufsize)\n"
     ]
    },
    {
     "data": {
      "text/html": [
       "<h4>Layer</h4>\n",
       "\n",
       "\n",
       "<table border=\"1\" class=\"dataframe\">\n",
       "  <thead>\n",
       "    <tr style=\"text-align: right;\">\n",
       "      <th>layer name</th>\n",
       "      <th>attributes</th>\n",
       "      <th>parent</th>\n",
       "      <th>enveloping</th>\n",
       "      <th>ambiguous</th>\n",
       "      <th>span count</th>\n",
       "    </tr>\n",
       "  </thead>\n",
       "  <tbody>\n",
       "    <tr>\n",
       "      <td>udpipe_syntax</td>\n",
       "      <td>id, form, lemma, upostag, xpostag, feats, head, deprel, deps, misc</td>\n",
       "      <td>conllu_morph</td>\n",
       "      <td>None</td>\n",
       "      <td>True</td>\n",
       "      <td>22</td>\n",
       "    </tr>\n",
       "  </tbody>\n",
       "</table>\n",
       "<table border=\"1\" class=\"dataframe\">\n",
       "  <thead>\n",
       "    <tr style=\"text-align: right;\">\n",
       "      <th>text</th>\n",
       "      <th>id</th>\n",
       "      <th>form</th>\n",
       "      <th>lemma</th>\n",
       "      <th>upostag</th>\n",
       "      <th>xpostag</th>\n",
       "      <th>feats</th>\n",
       "      <th>head</th>\n",
       "      <th>deprel</th>\n",
       "      <th>deps</th>\n",
       "      <th>misc</th>\n",
       "    </tr>\n",
       "  </thead>\n",
       "  <tbody>\n",
       "    <tr>\n",
       "      <td>Aga</td>\n",
       "      <td>1</td>\n",
       "      <td>Aga</td>\n",
       "      <td>aga</td>\n",
       "      <td>CCONJ</td>\n",
       "      <td>J</td>\n",
       "      <td>OrderedDict()</td>\n",
       "      <td>5</td>\n",
       "      <td>cc</td>\n",
       "      <td>_</td>\n",
       "      <td>_</td>\n",
       "    </tr>\n",
       "    <tr>\n",
       "      <td>ma</td>\n",
       "      <td>2</td>\n",
       "      <td>ma</td>\n",
       "      <td>mina</td>\n",
       "      <td>PRON</td>\n",
       "      <td>P</td>\n",
       "      <td>OrderedDict([('Case', 'Nom'), ('Number', 'Sing'), ('Person', '1'), ('PronType', 'Prs')])</td>\n",
       "      <td>5</td>\n",
       "      <td>nsubj</td>\n",
       "      <td>_</td>\n",
       "      <td>_</td>\n",
       "    </tr>\n",
       "    <tr>\n",
       "      <td>peaksin</td>\n",
       "      <td>3</td>\n",
       "      <td>peaksin</td>\n",
       "      <td>pidama</td>\n",
       "      <td>AUX</td>\n",
       "      <td>V</td>\n",
       "      <td>OrderedDict([('Mood', 'Cnd'), ('Number', 'Sing'), ('Person', '1'), ('Tense', 'Pr ..., type: &lt;class 'collections.OrderedDict'&gt;, length: 6</td>\n",
       "      <td>5</td>\n",
       "      <td>aux</td>\n",
       "      <td>_</td>\n",
       "      <td>_</td>\n",
       "    </tr>\n",
       "    <tr>\n",
       "      <td>vist</td>\n",
       "      <td>4</td>\n",
       "      <td>vist</td>\n",
       "      <td>vist</td>\n",
       "      <td>ADV</td>\n",
       "      <td>D</td>\n",
       "      <td>OrderedDict()</td>\n",
       "      <td>5</td>\n",
       "      <td>advmod</td>\n",
       "      <td>_</td>\n",
       "      <td>_</td>\n",
       "    </tr>\n",
       "    <tr>\n",
       "      <td>pihtima</td>\n",
       "      <td>5</td>\n",
       "      <td>pihtima</td>\n",
       "      <td>pihtima</td>\n",
       "      <td>VERB</td>\n",
       "      <td>V</td>\n",
       "      <td>OrderedDict([('Case', 'Ill'), ('VerbForm', 'Sup'), ('Voice', 'Act')])</td>\n",
       "      <td>0</td>\n",
       "      <td>root</td>\n",
       "      <td>_</td>\n",
       "      <td>_</td>\n",
       "    </tr>\n",
       "    <tr>\n",
       "      <td>,</td>\n",
       "      <td>6</td>\n",
       "      <td>,</td>\n",
       "      <td>,</td>\n",
       "      <td>PUNCT</td>\n",
       "      <td>Z</td>\n",
       "      <td>OrderedDict()</td>\n",
       "      <td>10</td>\n",
       "      <td>punct</td>\n",
       "      <td>_</td>\n",
       "      <td>_</td>\n",
       "    </tr>\n",
       "    <tr>\n",
       "      <td>et</td>\n",
       "      <td>7</td>\n",
       "      <td>et</td>\n",
       "      <td>et</td>\n",
       "      <td>SCONJ</td>\n",
       "      <td>J</td>\n",
       "      <td>OrderedDict()</td>\n",
       "      <td>10</td>\n",
       "      <td>mark</td>\n",
       "      <td>_</td>\n",
       "      <td>_</td>\n",
       "    </tr>\n",
       "    <tr>\n",
       "      <td>ma</td>\n",
       "      <td>8</td>\n",
       "      <td>ma</td>\n",
       "      <td>mina</td>\n",
       "      <td>PRON</td>\n",
       "      <td>P</td>\n",
       "      <td>OrderedDict([('Case', 'Nom'), ('Number', 'Sing'), ('Person', '1'), ('PronType', 'Prs')])</td>\n",
       "      <td>10</td>\n",
       "      <td>nsubj</td>\n",
       "      <td>_</td>\n",
       "      <td>_</td>\n",
       "    </tr>\n",
       "    <tr>\n",
       "      <td>ei</td>\n",
       "      <td>9</td>\n",
       "      <td>ei</td>\n",
       "      <td>ei</td>\n",
       "      <td>AUX</td>\n",
       "      <td>V</td>\n",
       "      <td>OrderedDict([('Polarity', 'Neg')])</td>\n",
       "      <td>10</td>\n",
       "      <td>aux</td>\n",
       "      <td>_</td>\n",
       "      <td>_</td>\n",
       "    </tr>\n",
       "    <tr>\n",
       "      <td>tea</td>\n",
       "      <td>10</td>\n",
       "      <td>tea</td>\n",
       "      <td>teadma</td>\n",
       "      <td>VERB</td>\n",
       "      <td>V</td>\n",
       "      <td>OrderedDict([('Connegative', 'Yes'), ('Mood', 'Ind'), ('Tense', 'Pres'), ('VerbF ..., type: &lt;class 'collections.OrderedDict'&gt;, length: 5</td>\n",
       "      <td>5</td>\n",
       "      <td>ccomp</td>\n",
       "      <td>_</td>\n",
       "      <td>_</td>\n",
       "    </tr>\n",
       "    <tr>\n",
       "      <td>,</td>\n",
       "      <td>11</td>\n",
       "      <td>,</td>\n",
       "      <td>,</td>\n",
       "      <td>PUNCT</td>\n",
       "      <td>Z</td>\n",
       "      <td>OrderedDict()</td>\n",
       "      <td>17</td>\n",
       "      <td>punct</td>\n",
       "      <td>_</td>\n",
       "      <td>_</td>\n",
       "    </tr>\n",
       "    <tr>\n",
       "      <td>mida</td>\n",
       "      <td>12</td>\n",
       "      <td>mida</td>\n",
       "      <td>mis</td>\n",
       "      <td>PRON</td>\n",
       "      <td>P</td>\n",
       "      <td>OrderedDict([('Case', 'Par'), ('Number', 'Sing'), ('PronType', 'Int,Rel')])</td>\n",
       "      <td>17</td>\n",
       "      <td>obl</td>\n",
       "      <td>_</td>\n",
       "      <td>_</td>\n",
       "    </tr>\n",
       "    <tr>\n",
       "      <td>interaktiivne</td>\n",
       "      <td>13</td>\n",
       "      <td>interaktiivne</td>\n",
       "      <td>inter_aktiivne</td>\n",
       "      <td>ADJ</td>\n",
       "      <td>A</td>\n",
       "      <td>OrderedDict([('Case', 'Nom'), ('Degree', 'Pos'), ('Number', 'Sing')])</td>\n",
       "      <td>14</td>\n",
       "      <td>amod</td>\n",
       "      <td>_</td>\n",
       "      <td>_</td>\n",
       "    </tr>\n",
       "    <tr>\n",
       "      <td>meedia</td>\n",
       "      <td>14</td>\n",
       "      <td>meedia</td>\n",
       "      <td>meedia</td>\n",
       "      <td>NOUN</td>\n",
       "      <td>S</td>\n",
       "      <td>OrderedDict([('Case', 'Nom'), ('Number', 'Sing')])</td>\n",
       "      <td>17</td>\n",
       "      <td>nmod</td>\n",
       "      <td>_</td>\n",
       "      <td>_</td>\n",
       "    </tr>\n",
       "    <tr>\n",
       "      <td>endast</td>\n",
       "      <td>15</td>\n",
       "      <td>endast</td>\n",
       "      <td>ise</td>\n",
       "      <td>PRON</td>\n",
       "      <td>P</td>\n",
       "      <td>OrderedDict([('Case', 'Ela'), ('Number', 'Sing'), ('PronType', 'Prs'), ('Reflex', 'Yes')])</td>\n",
       "      <td>17</td>\n",
       "      <td>obl</td>\n",
       "      <td>_</td>\n",
       "      <td>_</td>\n",
       "    </tr>\n",
       "    <tr>\n",
       "      <td>täpselt</td>\n",
       "      <td>16</td>\n",
       "      <td>täpselt</td>\n",
       "      <td>täpselt</td>\n",
       "      <td>ADV</td>\n",
       "      <td>D</td>\n",
       "      <td>OrderedDict()</td>\n",
       "      <td>17</td>\n",
       "      <td>advmod</td>\n",
       "      <td>_</td>\n",
       "      <td>_</td>\n",
       "    </tr>\n",
       "    <tr>\n",
       "      <td>kujutab</td>\n",
       "      <td>17</td>\n",
       "      <td>kujutab</td>\n",
       "      <td>kujutama</td>\n",
       "      <td>VERB</td>\n",
       "      <td>V</td>\n",
       "      <td>OrderedDict([('Mood', 'Ind'), ('Number', 'Sing'), ('Person', '3'), ('Tense', 'Pr ..., type: &lt;class 'collections.OrderedDict'&gt;, length: 6</td>\n",
       "      <td>10</td>\n",
       "      <td>ccomp</td>\n",
       "      <td>_</td>\n",
       "      <td>_</td>\n",
       "    </tr>\n",
       "    <tr>\n",
       "      <td>,</td>\n",
       "      <td>18</td>\n",
       "      <td>,</td>\n",
       "      <td>,</td>\n",
       "      <td>PUNCT</td>\n",
       "      <td>Z</td>\n",
       "      <td>OrderedDict()</td>\n",
       "      <td>21</td>\n",
       "      <td>punct</td>\n",
       "      <td>_</td>\n",
       "      <td>_</td>\n",
       "    </tr>\n",
       "    <tr>\n",
       "      <td>mida</td>\n",
       "      <td>19</td>\n",
       "      <td>mida</td>\n",
       "      <td>mis</td>\n",
       "      <td>PRON</td>\n",
       "      <td>P</td>\n",
       "      <td>OrderedDict([('Case', 'Par'), ('Number', 'Sing'), ('PronType', 'Int,Rel')])</td>\n",
       "      <td>21</td>\n",
       "      <td>obj</td>\n",
       "      <td>_</td>\n",
       "      <td>_</td>\n",
       "    </tr>\n",
       "    <tr>\n",
       "      <td>ta</td>\n",
       "      <td>20</td>\n",
       "      <td>ta</td>\n",
       "      <td>tema</td>\n",
       "      <td>PRON</td>\n",
       "      <td>P</td>\n",
       "      <td>OrderedDict([('Case', 'Nom'), ('Number', 'Sing'), ('Person', '3'), ('PronType', 'Prs')])</td>\n",
       "      <td>21</td>\n",
       "      <td>nsubj</td>\n",
       "      <td>_</td>\n",
       "      <td>_</td>\n",
       "    </tr>\n",
       "    <tr>\n",
       "      <td>annab</td>\n",
       "      <td>21</td>\n",
       "      <td>annab</td>\n",
       "      <td>andma</td>\n",
       "      <td>VERB</td>\n",
       "      <td>V</td>\n",
       "      <td>OrderedDict([('Mood', 'Ind'), ('Number', 'Sing'), ('Person', '3'), ('Tense', 'Pr ..., type: &lt;class 'collections.OrderedDict'&gt;, length: 6</td>\n",
       "      <td>17</td>\n",
       "      <td>ccomp</td>\n",
       "      <td>_</td>\n",
       "      <td>_</td>\n",
       "    </tr>\n",
       "    <tr>\n",
       "      <td>.</td>\n",
       "      <td>22</td>\n",
       "      <td>.</td>\n",
       "      <td>.</td>\n",
       "      <td>PUNCT</td>\n",
       "      <td>Z</td>\n",
       "      <td>OrderedDict()</td>\n",
       "      <td>5</td>\n",
       "      <td>punct</td>\n",
       "      <td>_</td>\n",
       "      <td>_</td>\n",
       "    </tr>\n",
       "  </tbody>\n",
       "</table>"
      ],
      "text/plain": [
       "Layer(name='udpipe_syntax', attributes=('id', 'form', 'lemma', 'upostag', 'xpostag', 'feats', 'head', 'deprel', 'deps', 'misc'), spans=SL[Span('Aga', [{'id': 1, 'form': 'Aga', 'lemma': 'aga', 'upostag': 'CCONJ', 'xpostag': 'J', 'feats': OrderedDict(), 'head': 5, 'deprel': 'cc', 'deps': '_', 'misc': '_'}]),\n",
       "Span('ma', [{'id': 2, 'form': 'ma', 'lemma': 'mina', 'upostag': 'PRON', 'xpostag': 'P', 'feats': OrderedDict([('Case', 'Nom'), ('Number', 'Sing'), ('Person', '1'), ('PronType', 'Prs')]), 'head': 5, 'deprel': 'nsubj', 'deps': '_', 'misc': '_'}]),\n",
       "Span('peaksin', [{'id': 3, 'form': 'peaksin', 'lemma': 'pidama', 'upostag': 'AUX', 'xpostag': 'V', 'feats': OrderedDict([('Mood', 'Cnd'), ('Number', 'Sing'), ('Person', '1'), ('Tense', 'Pres'), ('VerbForm', 'Fin'), ('Voice', 'Act')]), 'head': 5, 'deprel': 'aux', 'deps': '_', 'misc': '_'}]),\n",
       "Span('vist', [{'id': 4, 'form': 'vist', 'lemma': 'vist', 'upostag': 'ADV', 'xpostag': 'D', 'feats': OrderedDict(), 'head': 5, 'deprel': 'advmod', 'deps': '_', 'misc': '_'}]),\n",
       "Span('pihtima', [{'id': 5, 'form': 'pihtima', 'lemma': 'pihtima', 'upostag': 'VERB', 'xpostag': 'V', 'feats': OrderedDict([('Case', 'Ill'), ('VerbForm', 'Sup'), ('Voice', 'Act')]), 'head': 0, 'deprel': 'root', 'deps': '_', 'misc': '_'}]),\n",
       "Span(',', [{'id': 6, 'form': ',', 'lemma': ',', 'upostag': 'PUNCT', 'xpostag': 'Z', 'feats': OrderedDict(), 'head': 10, 'deprel': 'punct', 'deps': '_', 'misc': '_'}]),\n",
       "Span('et', [{'id': 7, 'form': 'et', 'lemma': 'et', 'upostag': 'SCONJ', 'xpostag': 'J', 'feats': OrderedDict(), 'head': 10, 'deprel': 'mark', 'deps': '_', 'misc': '_'}]),\n",
       "Span('ma', [{'id': 8, 'form': 'ma', 'lemma': 'mina', 'upostag': 'PRON', 'xpostag': 'P', 'feats': OrderedDict([('Case', 'Nom'), ('Number', 'Sing'), ('Person', '1'), ('PronType', 'Prs')]), 'head': 10, 'deprel': 'nsubj', 'deps': '_', 'misc': '_'}]),\n",
       "Span('ei', [{'id': 9, 'form': 'ei', 'lemma': 'ei', 'upostag': 'AUX', 'xpostag': 'V', 'feats': OrderedDict([('Polarity', 'Neg')]), 'head': 10, 'deprel': 'aux', 'deps': '_', 'misc': '_'}]),\n",
       "Span('tea', [{'id': 10, 'form': 'tea', 'lemma': 'teadma', 'upostag': 'VERB', 'xpostag': 'V', 'feats': OrderedDict([('Connegative', 'Yes'), ('Mood', 'Ind'), ('Tense', 'Pres'), ('VerbForm', 'Fin'), ('Voice', 'Act')]), 'head': 5, 'deprel': 'ccomp', 'deps': '_', 'misc': '_'}]),\n",
       "Span(',', [{'id': 11, 'form': ',', 'lemma': ',', 'upostag': 'PUNCT', 'xpostag': 'Z', 'feats': OrderedDict(), 'head': 17, 'deprel': 'punct', 'deps': '_', 'misc': '_'}]),\n",
       "Span('mida', [{'id': 12, 'form': 'mida', 'lemma': 'mis', 'upostag': 'PRON', 'xpostag': 'P', 'feats': OrderedDict([('Case', 'Par'), ('Number', 'Sing'), ('PronType', 'Int,Rel')]), 'head': 17, 'deprel': 'obl', 'deps': '_', 'misc': '_'}]),\n",
       "Span('interaktiivne', [{'id': 13, 'form': 'interaktiivne', 'lemma': 'inter_aktiivne', 'upostag': 'ADJ', 'xpostag': 'A', 'feats': OrderedDict([('Case', 'Nom'), ('Degree', 'Pos'), ('Number', 'Sing')]), 'head': 14, 'deprel': 'amod', 'deps': '_', 'misc': '_'}]),\n",
       "Span('meedia', [{'id': 14, 'form': 'meedia', 'lemma': 'meedia', 'upostag': 'NOUN', 'xpostag': 'S', 'feats': OrderedDict([('Case', 'Nom'), ('Number', 'Sing')]), 'head': 17, 'deprel': 'nmod', 'deps': '_', 'misc': '_'}]),\n",
       "Span('endast', [{'id': 15, 'form': 'endast', 'lemma': 'ise', 'upostag': 'PRON', 'xpostag': 'P', 'feats': OrderedDict([('Case', 'Ela'), ('Number', 'Sing'), ('PronType', 'Prs'), ('Reflex', 'Yes')]), 'head': 17, 'deprel': 'obl', 'deps': '_', 'misc': '_'}]),\n",
       "Span('täpselt', [{'id': 16, 'form': 'täpselt', 'lemma': 'täpselt', 'upostag': 'ADV', 'xpostag': 'D', 'feats': OrderedDict(), 'head': 17, 'deprel': 'advmod', 'deps': '_', 'misc': '_'}]),\n",
       "Span('kujutab', [{'id': 17, 'form': 'kujutab', 'lemma': 'kujutama', 'upostag': 'VERB', 'xpostag': 'V', 'feats': OrderedDict([('Mood', 'Ind'), ('Number', 'Sing'), ('Person', '3'), ('Tense', 'Pres'), ('VerbForm', 'Fin'), ('Voice', 'Act')]), 'head': 10, 'deprel': 'ccomp', 'deps': '_', 'misc': '_'}]),\n",
       "Span(',', [{'id': 18, 'form': ',', 'lemma': ',', 'upostag': 'PUNCT', 'xpostag': 'Z', 'feats': OrderedDict(), 'head': 21, 'deprel': 'punct', 'deps': '_', 'misc': '_'}]),\n",
       "Span('mida', [{'id': 19, 'form': 'mida', 'lemma': 'mis', 'upostag': 'PRON', 'xpostag': 'P', 'feats': OrderedDict([('Case', 'Par'), ('Number', 'Sing'), ('PronType', 'Int,Rel')]), 'head': 21, 'deprel': 'obj', 'deps': '_', 'misc': '_'}]),\n",
       "Span('ta', [{'id': 20, 'form': 'ta', 'lemma': 'tema', 'upostag': 'PRON', 'xpostag': 'P', 'feats': OrderedDict([('Case', 'Nom'), ('Number', 'Sing'), ('Person', '3'), ('PronType', 'Prs')]), 'head': 21, 'deprel': 'nsubj', 'deps': '_', 'misc': '_'}]),\n",
       "Span('annab', [{'id': 21, 'form': 'annab', 'lemma': 'andma', 'upostag': 'VERB', 'xpostag': 'V', 'feats': OrderedDict([('Mood', 'Ind'), ('Number', 'Sing'), ('Person', '3'), ('Tense', 'Pres'), ('VerbForm', 'Fin'), ('Voice', 'Act')]), 'head': 17, 'deprel': 'ccomp', 'deps': '_', 'misc': '_'}]),\n",
       "Span('.', [{'id': 22, 'form': '.', 'lemma': '.', 'upostag': 'PUNCT', 'xpostag': 'Z', 'feats': OrderedDict(), 'head': 5, 'deprel': 'punct', 'deps': '_', 'misc': '_'}])])"
      ]
     },
     "execution_count": 11,
     "metadata": {},
     "output_type": "execute_result"
    }
   ],
   "source": [
    "from estnltk.taggers import UDPipeTagger\n",
    "from estnltk.converters.conll.conll_importer import conll_to_text\n",
    "\n",
    "# Import while using name of the \n",
    "text = conll_to_text(file='example.conllu', syntax_layer='conllu_morph') \n",
    "\n",
    "udpipe_tagger = UDPipeTagger(input_syntax_layer='conllu_morph', version='conllu') # default version is conllx\n",
    "\n",
    "udpipe_tagger.tag(text)\n",
    "\n",
    "text.udpipe_syntax"
   ]
  },
  {
   "cell_type": "markdown",
   "metadata": {},
   "source": [
    "**Note #2:** in addition to function `conll_to_text`, EstNLTK also has function `conll_to_texts_list` which allows to import multiple Text objects from a single CONLL file. However, detecting document boundaries inside a CONLL file relies on a heuristic specifically designed for [Estonian UD corpus](https://github.com/UniversalDependencies/UD_Estonian-EDT). For details, see [this tutorial](../../corpus_processing/importing_text_objects_from_corpora.ipynb)."
   ]
  },
  {
   "cell_type": "markdown",
   "metadata": {},
   "source": [
    "---\n",
    "\n",
    "## Validation Retaggers"
   ]
  },
  {
   "cell_type": "markdown",
   "metadata": {},
   "source": [
    "Tutorials about UDValidationRetagger and DeprelAgreementRetagger can be found [here](03_syntactic_analysis_with_stanza.ipynb) (scroll below the Stanza tutorials)."
   ]
  },
  {
   "cell_type": "markdown",
   "metadata": {},
   "source": [
    "---\n",
    "\n"
   ]
  },
  {
   "cell_type": "markdown",
   "metadata": {},
   "source": [
    "\n",
    "## Evaluation: Labeled Attachment Score\n",
    "\n",
    "Once we have two syntactic analysis layers on our Text object, we probably want to compare them computationally as well. Labeled Attachment Score (LAS) is a standard evaluation metric in dependency syntax. \n",
    "It is the ratio of words that are assigned both the correct syntactic head and the correct dependency label and varies between 0 and 1.\n",
    "\n",
    "Let's use syntax layers from files `example.conll` and `example2.conll` as an example:"
   ]
  },
  {
   "cell_type": "code",
   "execution_count": 12,
   "metadata": {},
   "outputs": [
    {
     "data": {
      "text/html": [
       "<table border=\"1\" class=\"dataframe\">\n",
       "  <thead>\n",
       "    <tr style=\"text-align: right;\">\n",
       "      <th>text</th>\n",
       "    </tr>\n",
       "  </thead>\n",
       "  <tbody>\n",
       "    <tr>\n",
       "      <td><div align = \"left\">Ta on ise tee esimesel poolel .</div></td>\n",
       "    </tr>\n",
       "  </tbody>\n",
       "</table>\n",
       "<table border=\"1\" class=\"dataframe\">\n",
       "  <thead>\n",
       "    <tr style=\"text-align: right;\">\n",
       "      <th>layer name</th>\n",
       "      <th>attributes</th>\n",
       "      <th>parent</th>\n",
       "      <th>enveloping</th>\n",
       "      <th>ambiguous</th>\n",
       "      <th>span count</th>\n",
       "    </tr>\n",
       "  </thead>\n",
       "  <tbody>\n",
       "    <tr>\n",
       "      <td>sentences</td>\n",
       "      <td></td>\n",
       "      <td>None</td>\n",
       "      <td>words</td>\n",
       "      <td>False</td>\n",
       "      <td>1</td>\n",
       "    </tr>\n",
       "    <tr>\n",
       "      <td>words</td>\n",
       "      <td></td>\n",
       "      <td>None</td>\n",
       "      <td>None</td>\n",
       "      <td>True</td>\n",
       "      <td>7</td>\n",
       "    </tr>\n",
       "    <tr>\n",
       "      <td>malt_1</td>\n",
       "      <td>id, lemma, upostag, xpostag, feats, head, deprel, deps, misc, parent_span, children</td>\n",
       "      <td>None</td>\n",
       "      <td>None</td>\n",
       "      <td>False</td>\n",
       "      <td>7</td>\n",
       "    </tr>\n",
       "    <tr>\n",
       "      <td>malt_2</td>\n",
       "      <td>id, lemma, upostag, xpostag, feats, head, deprel, deps, misc, parent_span, children</td>\n",
       "      <td>None</td>\n",
       "      <td>None</td>\n",
       "      <td>False</td>\n",
       "      <td>7</td>\n",
       "    </tr>\n",
       "  </tbody>\n",
       "</table>"
      ],
      "text/plain": [
       "Text(text='Ta on ise tee esimesel poolel .')"
      ]
     },
     "execution_count": 12,
     "metadata": {},
     "output_type": "execute_result"
    }
   ],
   "source": [
    "from estnltk.converters.conll.conll_importer import conll_to_text\n",
    "from estnltk.converters.conll.conll_importer import add_layer_from_conll\n",
    "\n",
    "# Reading data from the file 'example.conll'\n",
    "text = conll_to_text(file='example.conll', syntax_layer='malt_1')\n",
    "# Adding the analysis in the second file to the Text object that we already created\n",
    "add_layer_from_conll(file='example2.conll', text=text, syntax_layer='malt_2')"
   ]
  },
  {
   "cell_type": "code",
   "execution_count": 13,
   "metadata": {},
   "outputs": [],
   "source": [
    "from estnltk.taggers.standard.syntax.scoring.scoring import las_score"
   ]
  },
  {
   "cell_type": "markdown",
   "metadata": {},
   "source": [
    "Remember that both imported syntactic analysis layers were equal.\n",
    "So, the initial calculation gives us a perfect score:"
   ]
  },
  {
   "cell_type": "code",
   "execution_count": 14,
   "metadata": {},
   "outputs": [
    {
     "data": {
      "text/plain": [
       "1.0"
      ]
     },
     "execution_count": 14,
     "metadata": {},
     "output_type": "execute_result"
    }
   ],
   "source": [
    "las_score(layer_a=text.malt_1,\n",
    "          layer_b=text.malt_2)"
   ]
  },
  {
   "cell_type": "markdown",
   "metadata": {},
   "source": [
    "To understand LAS better, let's change the second layer a little bit:"
   ]
  },
  {
   "cell_type": "code",
   "execution_count": 15,
   "metadata": {},
   "outputs": [
    {
     "data": {
      "text/plain": [
       "True"
      ]
     },
     "execution_count": 15,
     "metadata": {},
     "output_type": "execute_result"
    }
   ],
   "source": [
    "text.malt_2[3].deprel = '@X'\n",
    "\n",
    "text.malt_1[3].deprel != text.malt_2[3].deprel"
   ]
  },
  {
   "cell_type": "markdown",
   "metadata": {},
   "source": [
    "Now, let's calculate the score again:"
   ]
  },
  {
   "cell_type": "code",
   "execution_count": 16,
   "metadata": {},
   "outputs": [
    {
     "data": {
      "text/plain": [
       "0.8571428571428571"
      ]
     },
     "execution_count": 16,
     "metadata": {},
     "output_type": "execute_result"
    }
   ],
   "source": [
    "las_score(layer_a=text.malt_1,\n",
    "          layer_b=text.malt_2)"
   ]
  },
  {
   "cell_type": "markdown",
   "metadata": {},
   "source": [
    "We can also just calculate the score for some parts of our Text object, e.g. to compare the first 4 spans or to compare the spans starting from the 5th:"
   ]
  },
  {
   "cell_type": "code",
   "execution_count": 17,
   "metadata": {},
   "outputs": [
    {
     "data": {
      "text/plain": [
       "0.75"
      ]
     },
     "execution_count": 17,
     "metadata": {},
     "output_type": "execute_result"
    }
   ],
   "source": [
    "las_score(text.malt_1, text.malt_2, 0, 4)"
   ]
  },
  {
   "cell_type": "code",
   "execution_count": 18,
   "metadata": {},
   "outputs": [
    {
     "data": {
      "text/plain": [
       "1.0"
      ]
     },
     "execution_count": 18,
     "metadata": {},
     "output_type": "execute_result"
    }
   ],
   "source": [
    "las_score(text.malt_1, text.malt_2, 4)"
   ]
  },
  {
   "cell_type": "markdown",
   "metadata": {},
   "source": [
    "In addition, we can tag sliding LAS scores to be able to compare different text segments."
   ]
  },
  {
   "cell_type": "code",
   "execution_count": 19,
   "metadata": {},
   "outputs": [
    {
     "data": {
      "text/html": [
       "<h4>Tagger</h4>\n",
       "Tag sliding Labeled Attachment Scores (LAS) and attach `aggregate_deprel_sequences` to the output layer meta.\n",
       "<table border=\"1\" class=\"dataframe\">\n",
       "  <thead>\n",
       "    <tr style=\"text-align: right;\">\n",
       "      <th>name</th>\n",
       "      <th>output layer</th>\n",
       "      <th>output attributes</th>\n",
       "      <th>input layers</th>\n",
       "    </tr>\n",
       "  </thead>\n",
       "  <tbody>\n",
       "    <tr>\n",
       "      <td>SyntaxLasTagger</td>\n",
       "      <td>las</td>\n",
       "      <td>('deprel_sequence', 'score')</td>\n",
       "      <td>('malt_1', 'malt_2')</td>\n",
       "    </tr>\n",
       "  </tbody>\n",
       "</table>\n",
       "<h4>Configuration</h4>\n",
       "<table border=\"1\" class=\"dataframe\">\n",
       "  <tbody>\n",
       "    <tr>\n",
       "      <th>window</th>\n",
       "      <td>3</td>\n",
       "    </tr>\n",
       "  </tbody>\n",
       "</table>"
      ],
      "text/plain": [
       "SyntaxLasTagger(input_layers=('malt_1', 'malt_2'), output_layer=las, output_attributes=('deprel_sequence', 'score'), window=3)"
      ]
     },
     "execution_count": 19,
     "metadata": {},
     "output_type": "execute_result"
    }
   ],
   "source": [
    "from estnltk.taggers import SyntaxLasTagger\n",
    "\n",
    "tagger = SyntaxLasTagger('malt_1', 'malt_2', window=3)\n",
    "tagger"
   ]
  },
  {
   "cell_type": "code",
   "execution_count": 20,
   "metadata": {
    "tags": [
     "nbval-skip"
    ]
   },
   "outputs": [
    {
     "data": {
      "text/html": [
       "<h4>Layer</h4>\n",
       "<h4>Metadata</h4>\n",
       "<table border=\"1\" class=\"dataframe\">\n",
       "  <tbody>\n",
       "    <tr>\n",
       "      <td>aggregate_deprel_sequences</td>\n",
       "      <td>{('@ADVL',): [1.0], ('@ADVL', 'ROOT'): [1.0], ('@ADVL', 'ROOT', '@NN&gt;'): [1.0], ('ROOT', '@NN&gt;', '@ADVL'): [0.6666666666666666], ('@NN&gt;', '@ADVL', '@DN&gt;'): [0.6666666666666666], ('@ADVL', '@DN&gt;', '@ADVL'): [0.6666666666666666], ('@DN&gt;', '@ADVL', '@Punc'): [1.0], ('@ADVL', '@Punc'): [1.0], ('@Punc',): [1.0]}</td>\n",
       "    </tr>\n",
       "  </tbody>\n",
       "</table>\n",
       "\n",
       "<table border=\"1\" class=\"dataframe\">\n",
       "  <thead>\n",
       "    <tr style=\"text-align: right;\">\n",
       "      <th>layer name</th>\n",
       "      <th>attributes</th>\n",
       "      <th>parent</th>\n",
       "      <th>enveloping</th>\n",
       "      <th>ambiguous</th>\n",
       "      <th>span count</th>\n",
       "    </tr>\n",
       "  </thead>\n",
       "  <tbody>\n",
       "    <tr>\n",
       "      <td>las</td>\n",
       "      <td>deprel_sequence, score</td>\n",
       "      <td>None</td>\n",
       "      <td>malt_1</td>\n",
       "      <td>False</td>\n",
       "      <td>9</td>\n",
       "    </tr>\n",
       "  </tbody>\n",
       "</table>\n",
       "<table border=\"1\" class=\"dataframe\">\n",
       "  <thead>\n",
       "    <tr style=\"text-align: right;\">\n",
       "      <th>text</th>\n",
       "      <th>deprel_sequence</th>\n",
       "      <th>score</th>\n",
       "    </tr>\n",
       "  </thead>\n",
       "  <tbody>\n",
       "    <tr>\n",
       "      <td>['Ta']</td>\n",
       "      <td>('@ADVL',)</td>\n",
       "      <td>1.0</td>\n",
       "    </tr>\n",
       "    <tr>\n",
       "      <td>['Ta', 'on']</td>\n",
       "      <td>('@ADVL', 'ROOT')</td>\n",
       "      <td>1.0</td>\n",
       "    </tr>\n",
       "    <tr>\n",
       "      <td>['Ta', 'on', 'ise']</td>\n",
       "      <td>('@ADVL', 'ROOT', '@NN&gt;')</td>\n",
       "      <td>1.0</td>\n",
       "    </tr>\n",
       "    <tr>\n",
       "      <td>['on', 'ise', 'tee']</td>\n",
       "      <td>('ROOT', '@NN&gt;', '@ADVL')</td>\n",
       "      <td>0.6666666666666666</td>\n",
       "    </tr>\n",
       "    <tr>\n",
       "      <td>['ise', 'tee', 'esimesel']</td>\n",
       "      <td>('@NN&gt;', '@ADVL', '@DN&gt;')</td>\n",
       "      <td>0.6666666666666666</td>\n",
       "    </tr>\n",
       "    <tr>\n",
       "      <td>['tee', 'esimesel', 'poolel']</td>\n",
       "      <td>('@ADVL', '@DN&gt;', '@ADVL')</td>\n",
       "      <td>0.6666666666666666</td>\n",
       "    </tr>\n",
       "    <tr>\n",
       "      <td>['esimesel', 'poolel', '.']</td>\n",
       "      <td>('@DN&gt;', '@ADVL', '@Punc')</td>\n",
       "      <td>1.0</td>\n",
       "    </tr>\n",
       "    <tr>\n",
       "      <td>['poolel', '.']</td>\n",
       "      <td>('@ADVL', '@Punc')</td>\n",
       "      <td>1.0</td>\n",
       "    </tr>\n",
       "    <tr>\n",
       "      <td>['.']</td>\n",
       "      <td>('@Punc',)</td>\n",
       "      <td>1.0</td>\n",
       "    </tr>\n",
       "  </tbody>\n",
       "</table>"
      ],
      "text/plain": [
       "Layer(name='las', attributes=('deprel_sequence', 'score'), spans=SL[EnvelopingSpan(['Ta'], [{'deprel_sequence': ('@ADVL',), 'score': 1.0}]),\n",
       "EnvelopingSpan(['Ta', 'on'], [{'deprel_sequence': ('@ADVL', 'ROOT'), 'score': 1.0}]),\n",
       "EnvelopingSpan(['Ta', 'on', 'ise'], [{'deprel_sequence': ('@ADVL', 'ROOT', '@NN>'), 'score': 1.0}]),\n",
       "EnvelopingSpan(['on', 'ise', 'tee'], [{'deprel_sequence': ('ROOT', '@NN>', '@ADVL'), 'score': 0.6666666666666666}]),\n",
       "EnvelopingSpan(['ise', 'tee', 'esimesel'], [{'deprel_sequence': ('@NN>', '@ADVL', '@DN>'), 'score': 0.6666666666666666}]),\n",
       "EnvelopingSpan(['tee', 'esimesel', 'poolel'], [{'deprel_sequence': ('@ADVL', '@DN>', '@ADVL'), 'score': 0.6666666666666666}]),\n",
       "EnvelopingSpan(['esimesel', 'poolel', '.'], [{'deprel_sequence': ('@DN>', '@ADVL', '@Punc'), 'score': 1.0}]),\n",
       "EnvelopingSpan(['poolel', '.'], [{'deprel_sequence': ('@ADVL', '@Punc'), 'score': 1.0}]),\n",
       "EnvelopingSpan(['.'], [{'deprel_sequence': ('@Punc',), 'score': 1.0}])])"
      ]
     },
     "execution_count": 20,
     "metadata": {},
     "output_type": "execute_result"
    }
   ],
   "source": [
    "tagger.tag(text)\n",
    "text.las"
   ]
  },
  {
   "cell_type": "markdown",
   "metadata": {},
   "source": [
    "`SyntaxLasTagger` adds metadata to the output layer. The `aggregate_deprel_sequences` field of the meta lists all LAS scores for every `deprel` sequence encountered."
   ]
  },
  {
   "cell_type": "code",
   "execution_count": 21,
   "metadata": {
    "tags": [
     "nbval-skip"
    ]
   },
   "outputs": [
    {
     "data": {
      "text/plain": [
       "{'aggregate_deprel_sequences': {('@ADVL',): [1.0],\n",
       "  ('@ADVL', 'ROOT'): [1.0],\n",
       "  ('@ADVL', 'ROOT', '@NN>'): [1.0],\n",
       "  ('ROOT', '@NN>', '@ADVL'): [0.6666666666666666],\n",
       "  ('@NN>', '@ADVL', '@DN>'): [0.6666666666666666],\n",
       "  ('@ADVL', '@DN>', '@ADVL'): [0.6666666666666666],\n",
       "  ('@DN>', '@ADVL', '@Punc'): [1.0],\n",
       "  ('@ADVL', '@Punc'): [1.0],\n",
       "  ('@Punc',): [1.0]}}"
      ]
     },
     "execution_count": 21,
     "metadata": {},
     "output_type": "execute_result"
    }
   ],
   "source": [
    "text.las.meta"
   ]
  }
 ],
 "metadata": {
  "kernelspec": {
   "display_name": "Python 3 (ipykernel)",
   "language": "python",
   "name": "python3"
  },
  "language_info": {
   "codemirror_mode": {
    "name": "ipython",
    "version": 3
   },
   "file_extension": ".py",
   "mimetype": "text/x-python",
   "name": "python",
   "nbconvert_exporter": "python",
   "pygments_lexer": "ipython3",
   "version": "3.9.12"
  }
 },
 "nbformat": 4,
 "nbformat_minor": 4
}
