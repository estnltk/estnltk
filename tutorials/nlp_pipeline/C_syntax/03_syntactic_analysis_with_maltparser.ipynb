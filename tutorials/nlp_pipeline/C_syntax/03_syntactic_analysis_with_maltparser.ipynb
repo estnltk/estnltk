{
 "cells": [
  {
   "cell_type": "markdown",
   "id": "8d2d309d",
   "metadata": {},
   "source": [
    "## <span style=\"color:purple\">Dependency syntactic analysis with MaltParser</span>\n",
    "\n",
    "EstNLTK provides wrappers for several syntactic analysers (see [this document](04_syntactic_analysers_and_utils.ipynb) for details), but only the MaltParser-based syntactic analyser is available by default.\n",
    "\n",
    "[Maltparser](http://www.maltparser.org) is a data-driven parser that has been trained on [Estonian Dependency Treebank](https://github.com/EstSyntax/EDT). \n",
    "For using Maltparser, you need to have:\n",
    "  * Java SE Runtime Environment (version >= 1.8) installed into the system;\n",
    "  * `java` in the PATH environment variable;\n",
    "  "
   ]
  },
  {
   "cell_type": "markdown",
   "id": "2a2f99b9",
   "metadata": {},
   "source": [
    "EstNLTK package contains the model for predicting syntax from `morph_analysis` layer, which outputs UD dependency relations. \n",
    "The easiest way to use Maltparser's syntactic analysis is by tagging the layer `maltparser_syntax` via default resolver:"
   ]
  },
  {
   "cell_type": "code",
   "execution_count": 1,
   "id": "067dfbef",
   "metadata": {},
   "outputs": [
    {
     "data": {
      "text/html": [
       "<table border=\"1\" class=\"dataframe\">\n",
       "  <thead>\n",
       "    <tr style=\"text-align: right;\">\n",
       "      <th>text</th>\n",
       "    </tr>\n",
       "  </thead>\n",
       "  <tbody>\n",
       "    <tr>\n",
       "      <td><div align = \"left\">Ilus suur karvane kass nurrus punasel diivanil</div></td>\n",
       "    </tr>\n",
       "  </tbody>\n",
       "</table>\n",
       "<table border=\"1\" class=\"dataframe\">\n",
       "  <thead>\n",
       "    <tr style=\"text-align: right;\">\n",
       "      <th>layer name</th>\n",
       "      <th>attributes</th>\n",
       "      <th>parent</th>\n",
       "      <th>enveloping</th>\n",
       "      <th>ambiguous</th>\n",
       "      <th>span count</th>\n",
       "    </tr>\n",
       "  </thead>\n",
       "  <tbody>\n",
       "    <tr>\n",
       "      <td>sentences</td>\n",
       "      <td></td>\n",
       "      <td>None</td>\n",
       "      <td>words</td>\n",
       "      <td>False</td>\n",
       "      <td>1</td>\n",
       "    </tr>\n",
       "    <tr>\n",
       "      <td>tokens</td>\n",
       "      <td></td>\n",
       "      <td>None</td>\n",
       "      <td>None</td>\n",
       "      <td>False</td>\n",
       "      <td>7</td>\n",
       "    </tr>\n",
       "    <tr>\n",
       "      <td>compound_tokens</td>\n",
       "      <td>type, normalized</td>\n",
       "      <td>None</td>\n",
       "      <td>tokens</td>\n",
       "      <td>False</td>\n",
       "      <td>0</td>\n",
       "    </tr>\n",
       "    <tr>\n",
       "      <td>words</td>\n",
       "      <td>normalized_form</td>\n",
       "      <td>None</td>\n",
       "      <td>None</td>\n",
       "      <td>True</td>\n",
       "      <td>7</td>\n",
       "    </tr>\n",
       "    <tr>\n",
       "      <td>morph_analysis</td>\n",
       "      <td>normalized_text, lemma, root, root_tokens, ending, clitic, form, partofspeech</td>\n",
       "      <td>words</td>\n",
       "      <td>None</td>\n",
       "      <td>True</td>\n",
       "      <td>7</td>\n",
       "    </tr>\n",
       "    <tr>\n",
       "      <td>maltparser_conll_morph</td>\n",
       "      <td>id, form, lemma, upostag, xpostag, feats, head, deprel, deps, misc</td>\n",
       "      <td>morph_analysis</td>\n",
       "      <td>None</td>\n",
       "      <td>True</td>\n",
       "      <td>7</td>\n",
       "    </tr>\n",
       "    <tr>\n",
       "      <td>maltparser_syntax</td>\n",
       "      <td>id, lemma, upostag, xpostag, feats, head, deprel, deps, misc, parent_span, children</td>\n",
       "      <td>None</td>\n",
       "      <td>None</td>\n",
       "      <td>False</td>\n",
       "      <td>7</td>\n",
       "    </tr>\n",
       "  </tbody>\n",
       "</table>"
      ],
      "text/plain": [
       "Text(text='Ilus suur karvane kass nurrus punasel diivanil')"
      ]
     },
     "execution_count": 1,
     "metadata": {},
     "output_type": "execute_result"
    }
   ],
   "source": [
    "from estnltk import Text\n",
    "\n",
    "text = Text('Ilus suur karvane kass nurrus punasel diivanil')\n",
    "\n",
    "text.tag_layer('maltparser_syntax')"
   ]
  },
  {
   "cell_type": "markdown",
   "id": "7bffe12a",
   "metadata": {},
   "source": [
    "This creates automatically all the prerequisite layers: segmentation layers and linguistic analysis layers `morph_analysis` and `maltparser_conll_morph`.\n",
    "\n",
    "The resulting `maltparser_syntax` layer uses [UD tags for the _deprel_ attribute](https://universaldependencies.org/u/dep/index.html) and [Vabamorf's tagset](https://github.com/estnltk/estnltk/blob/main/tutorials/nlp_pipeline/B_morphology/00_tables_of_morphological_categories.ipynb) for other linguistic attributes (_upostag_, _xpostag_, _feats_)."
   ]
  },
  {
   "cell_type": "code",
   "execution_count": 2,
   "id": "62c7657c",
   "metadata": {},
   "outputs": [
    {
     "data": {
      "text/html": [
       "<h4>Layer</h4>\n",
       "\n",
       "\n",
       "<table border=\"1\" class=\"dataframe\">\n",
       "  <thead>\n",
       "    <tr style=\"text-align: right;\">\n",
       "      <th>layer name</th>\n",
       "      <th>attributes</th>\n",
       "      <th>parent</th>\n",
       "      <th>enveloping</th>\n",
       "      <th>ambiguous</th>\n",
       "      <th>span count</th>\n",
       "    </tr>\n",
       "  </thead>\n",
       "  <tbody>\n",
       "    <tr>\n",
       "      <td>maltparser_syntax</td>\n",
       "      <td>id, lemma, upostag, xpostag, feats, head, deprel, deps, misc, parent_span, children</td>\n",
       "      <td>None</td>\n",
       "      <td>None</td>\n",
       "      <td>False</td>\n",
       "      <td>7</td>\n",
       "    </tr>\n",
       "  </tbody>\n",
       "</table>\n",
       "<table border=\"1\" class=\"dataframe\">\n",
       "  <thead>\n",
       "    <tr style=\"text-align: right;\">\n",
       "      <th>text</th>\n",
       "      <th>id</th>\n",
       "      <th>lemma</th>\n",
       "      <th>upostag</th>\n",
       "      <th>xpostag</th>\n",
       "      <th>feats</th>\n",
       "      <th>head</th>\n",
       "      <th>deprel</th>\n",
       "      <th>deps</th>\n",
       "      <th>misc</th>\n",
       "      <th>parent_span</th>\n",
       "      <th>children</th>\n",
       "    </tr>\n",
       "  </thead>\n",
       "  <tbody>\n",
       "    <tr>\n",
       "      <td>Ilus</td>\n",
       "      <td>1</td>\n",
       "      <td>ilus</td>\n",
       "      <td>A</td>\n",
       "      <td>A</td>\n",
       "      <td>{'sg': '', 'n': ''}</td>\n",
       "      <td>4</td>\n",
       "      <td>amod</td>\n",
       "      <td>None</td>\n",
       "      <td>None</td>\n",
       "      <td>Span('kass', [{'id': 4, 'lemma': 'kass', 'upostag': 'S', 'xpostag': 'S', 'feats' ..., type: &lt;class 'estnltk_core.layer.span.Span'&gt;</td>\n",
       "      <td>()</td>\n",
       "    </tr>\n",
       "    <tr>\n",
       "      <td>suur</td>\n",
       "      <td>2</td>\n",
       "      <td>suur</td>\n",
       "      <td>A</td>\n",
       "      <td>A</td>\n",
       "      <td>{'sg': '', 'n': ''}</td>\n",
       "      <td>4</td>\n",
       "      <td>amod</td>\n",
       "      <td>None</td>\n",
       "      <td>None</td>\n",
       "      <td>Span('kass', [{'id': 4, 'lemma': 'kass', 'upostag': 'S', 'xpostag': 'S', 'feats' ..., type: &lt;class 'estnltk_core.layer.span.Span'&gt;</td>\n",
       "      <td>()</td>\n",
       "    </tr>\n",
       "    <tr>\n",
       "      <td>karvane</td>\n",
       "      <td>3</td>\n",
       "      <td>karvane</td>\n",
       "      <td>A</td>\n",
       "      <td>A</td>\n",
       "      <td>{'sg': '', 'n': ''}</td>\n",
       "      <td>4</td>\n",
       "      <td>amod</td>\n",
       "      <td>None</td>\n",
       "      <td>None</td>\n",
       "      <td>Span('kass', [{'id': 4, 'lemma': 'kass', 'upostag': 'S', 'xpostag': 'S', 'feats' ..., type: &lt;class 'estnltk_core.layer.span.Span'&gt;</td>\n",
       "      <td>()</td>\n",
       "    </tr>\n",
       "    <tr>\n",
       "      <td>kass</td>\n",
       "      <td>4</td>\n",
       "      <td>kass</td>\n",
       "      <td>S</td>\n",
       "      <td>S</td>\n",
       "      <td>{'sg': '', 'n': ''}</td>\n",
       "      <td>5</td>\n",
       "      <td>nsubj</td>\n",
       "      <td>None</td>\n",
       "      <td>None</td>\n",
       "      <td>Span('nurrus', [{'id': 5, 'lemma': 'nurruma', 'upostag': 'V', 'xpostag': 'V', 'f ..., type: &lt;class 'estnltk_core.layer.span.Span'&gt;</td>\n",
       "      <td>(\"Span('Ilus', [{'id': 1, 'lemma': 'ilus', 'upostag': 'A', 'xpostag': 'A', 'feat ..., type: &lt;class 'tuple'&gt;, length: 3</td>\n",
       "    </tr>\n",
       "    <tr>\n",
       "      <td>nurrus</td>\n",
       "      <td>5</td>\n",
       "      <td>nurruma</td>\n",
       "      <td>V</td>\n",
       "      <td>V</td>\n",
       "      <td>{'s': ''}</td>\n",
       "      <td>0</td>\n",
       "      <td>root</td>\n",
       "      <td>None</td>\n",
       "      <td>None</td>\n",
       "      <td>None</td>\n",
       "      <td>(\"Span('kass', [{'id': 4, 'lemma': 'kass', 'upostag': 'S', 'xpostag': 'S', 'feat ..., type: &lt;class 'tuple'&gt;, length: 2</td>\n",
       "    </tr>\n",
       "    <tr>\n",
       "      <td>punasel</td>\n",
       "      <td>6</td>\n",
       "      <td>punane</td>\n",
       "      <td>A</td>\n",
       "      <td>A</td>\n",
       "      <td>{'sg': '', 'ad': ''}</td>\n",
       "      <td>7</td>\n",
       "      <td>amod</td>\n",
       "      <td>None</td>\n",
       "      <td>None</td>\n",
       "      <td>Span('diivanil', [{'id': 7, 'lemma': 'diivan', 'upostag': 'S', 'xpostag': 'S', ' ..., type: &lt;class 'estnltk_core.layer.span.Span'&gt;</td>\n",
       "      <td>()</td>\n",
       "    </tr>\n",
       "    <tr>\n",
       "      <td>diivanil</td>\n",
       "      <td>7</td>\n",
       "      <td>diivan</td>\n",
       "      <td>S</td>\n",
       "      <td>S</td>\n",
       "      <td>{'sg': '', 'ad': ''}</td>\n",
       "      <td>5</td>\n",
       "      <td>obl</td>\n",
       "      <td>None</td>\n",
       "      <td>None</td>\n",
       "      <td>Span('nurrus', [{'id': 5, 'lemma': 'nurruma', 'upostag': 'V', 'xpostag': 'V', 'f ..., type: &lt;class 'estnltk_core.layer.span.Span'&gt;</td>\n",
       "      <td>(\"Span('punasel', [{'id': 6, 'lemma': 'punane', 'upostag': 'A', 'xpostag': 'A',  ..., type: &lt;class 'tuple'&gt;, length: 1</td>\n",
       "    </tr>\n",
       "  </tbody>\n",
       "</table>"
      ],
      "text/plain": [
       "Layer(name='maltparser_syntax', attributes=('id', 'lemma', 'upostag', 'xpostag', 'feats', 'head', 'deprel', 'deps', 'misc', 'parent_span', 'children'), spans=SL[Span('Ilus', [{'id': 1, 'lemma': 'ilus', 'upostag': 'A', 'xpostag': 'A', 'feats': {'sg': '', 'n': ''}, 'head': 4, 'deprel': 'amod', 'deps': None, 'misc': None, 'parent_span': <class 'estnltk_core.layer.span.Span'>, 'children': ()}]),\n",
       "Span('suur', [{'id': 2, 'lemma': 'suur', 'upostag': 'A', 'xpostag': 'A', 'feats': {'sg': '', 'n': ''}, 'head': 4, 'deprel': 'amod', 'deps': None, 'misc': None, 'parent_span': <class 'estnltk_core.layer.span.Span'>, 'children': ()}]),\n",
       "Span('karvane', [{'id': 3, 'lemma': 'karvane', 'upostag': 'A', 'xpostag': 'A', 'feats': {'sg': '', 'n': ''}, 'head': 4, 'deprel': 'amod', 'deps': None, 'misc': None, 'parent_span': <class 'estnltk_core.layer.span.Span'>, 'children': ()}]),\n",
       "Span('kass', [{'id': 4, 'lemma': 'kass', 'upostag': 'S', 'xpostag': 'S', 'feats': {'sg': '', 'n': ''}, 'head': 5, 'deprel': 'nsubj', 'deps': None, 'misc': None, 'parent_span': <class 'estnltk_core.layer.span.Span'>, 'children': <class 'tuple'>}]),\n",
       "Span('nurrus', [{'id': 5, 'lemma': 'nurruma', 'upostag': 'V', 'xpostag': 'V', 'feats': {'s': ''}, 'head': 0, 'deprel': 'root', 'deps': None, 'misc': None, 'parent_span': None, 'children': <class 'tuple'>}]),\n",
       "Span('punasel', [{'id': 6, 'lemma': 'punane', 'upostag': 'A', 'xpostag': 'A', 'feats': {'sg': '', 'ad': ''}, 'head': 7, 'deprel': 'amod', 'deps': None, 'misc': None, 'parent_span': <class 'estnltk_core.layer.span.Span'>, 'children': ()}]),\n",
       "Span('diivanil', [{'id': 7, 'lemma': 'diivan', 'upostag': 'S', 'xpostag': 'S', 'feats': {'sg': '', 'ad': ''}, 'head': 5, 'deprel': 'obl', 'deps': None, 'misc': None, 'parent_span': <class 'estnltk_core.layer.span.Span'>, 'children': <class 'tuple'>}])])"
      ]
     },
     "execution_count": 2,
     "metadata": {},
     "output_type": "execute_result"
    }
   ],
   "source": [
    "text.maltparser_syntax"
   ]
  },
  {
   "cell_type": "markdown",
   "id": "9bcd3561",
   "metadata": {},
   "source": [
    "### Dependency relations\n",
    "\n",
    "Attributes _id_ and _head_ indicate syntactic dependency relations between words. \n",
    "Each word has a unique index within a sentence (_id_), and attribute _head_ points to its parent in the sentence.\n",
    "\n",
    "Attributes _parent_span_ and _children_ provide a convenient access to the same information: you can get a parent span or all child spans of a word:"
   ]
  },
  {
   "cell_type": "code",
   "execution_count": 3,
   "id": "ad3a61b4",
   "metadata": {},
   "outputs": [
    {
     "data": {
      "text/html": [
       "<b>Span</b>\n",
       "<table border=\"1\" class=\"dataframe\">\n",
       "  <thead>\n",
       "    <tr style=\"text-align: right;\">\n",
       "      <th>text</th>\n",
       "      <th>id</th>\n",
       "      <th>lemma</th>\n",
       "      <th>upostag</th>\n",
       "      <th>xpostag</th>\n",
       "      <th>feats</th>\n",
       "      <th>head</th>\n",
       "      <th>deprel</th>\n",
       "      <th>deps</th>\n",
       "      <th>misc</th>\n",
       "      <th>parent_span</th>\n",
       "      <th>children</th>\n",
       "    </tr>\n",
       "  </thead>\n",
       "  <tbody>\n",
       "    <tr>\n",
       "      <td><span style=\"font-family: monospace; white-space: pre-wrap;\"><span style=\"text-decoration: underline;\">kass</span></span></td>\n",
       "      <td>4</td>\n",
       "      <td>kass</td>\n",
       "      <td>S</td>\n",
       "      <td>S</td>\n",
       "      <td>{&#x27;sg&#x27;: &#x27;&#x27;, &#x27;n&#x27;: &#x27;&#x27;}</td>\n",
       "      <td>5</td>\n",
       "      <td>nsubj</td>\n",
       "      <td>None</td>\n",
       "      <td>None</td>\n",
       "      <td>Span(&#x27;nurrus&#x27;, [{&#x27;id&#x27;: 5, &#x27;lemma&#x27;: &#x27;nurruma&#x27;, &#x27;upostag&#x27;: &#x27;V&#x27;, &#x27;xpostag&#x27;: &#x27;V&#x27;, &#x27;f ..., type: &lt;class &#x27;estnltk_core.layer.span.Span&#x27;&gt;</td>\n",
       "      <td>(&quot;Span(&#x27;Ilus&#x27;, [{&#x27;id&#x27;: 1, &#x27;lemma&#x27;: &#x27;ilus&#x27;, &#x27;upostag&#x27;: &#x27;A&#x27;, &#x27;xpostag&#x27;: &#x27;A&#x27;, &#x27;feat ..., type: &lt;class &#x27;tuple&#x27;&gt;, length: 3</td>\n",
       "    </tr>\n",
       "  </tbody>\n",
       "</table>"
      ],
      "text/plain": [
       "Span('kass', [{'id': 4, 'lemma': 'kass', 'upostag': 'S', 'xpostag': 'S', 'feats': {'sg': '', 'n': ''}, 'head': 5, 'deprel': 'nsubj', 'deps': None, 'misc': None, 'parent_span': <class 'estnltk_core.layer.span.Span'>, 'children': <class 'tuple'>}])"
      ]
     },
     "execution_count": 3,
     "metadata": {},
     "output_type": "execute_result"
    }
   ],
   "source": [
    "# get the span corresponding to the word 'kass'\n",
    "span = text.maltparser_syntax[3]\n",
    "span"
   ]
  },
  {
   "cell_type": "code",
   "execution_count": 4,
   "id": "923b23a9",
   "metadata": {},
   "outputs": [
    {
     "data": {
      "text/html": [
       "<b>Span</b>\n",
       "<table border=\"1\" class=\"dataframe\">\n",
       "  <thead>\n",
       "    <tr style=\"text-align: right;\">\n",
       "      <th>text</th>\n",
       "      <th>id</th>\n",
       "      <th>lemma</th>\n",
       "      <th>upostag</th>\n",
       "      <th>xpostag</th>\n",
       "      <th>feats</th>\n",
       "      <th>head</th>\n",
       "      <th>deprel</th>\n",
       "      <th>deps</th>\n",
       "      <th>misc</th>\n",
       "      <th>parent_span</th>\n",
       "      <th>children</th>\n",
       "    </tr>\n",
       "  </thead>\n",
       "  <tbody>\n",
       "    <tr>\n",
       "      <td><span style=\"font-family: monospace; white-space: pre-wrap;\"><span style=\"text-decoration: underline;\">Ilus</span></span></td>\n",
       "      <td>1</td>\n",
       "      <td>ilus</td>\n",
       "      <td>A</td>\n",
       "      <td>A</td>\n",
       "      <td>{&#x27;sg&#x27;: &#x27;&#x27;, &#x27;n&#x27;: &#x27;&#x27;}</td>\n",
       "      <td>4</td>\n",
       "      <td>amod</td>\n",
       "      <td>None</td>\n",
       "      <td>None</td>\n",
       "      <td>Span(&#x27;kass&#x27;, [{&#x27;id&#x27;: 4, &#x27;lemma&#x27;: &#x27;kass&#x27;, &#x27;upostag&#x27;: &#x27;S&#x27;, &#x27;xpostag&#x27;: &#x27;S&#x27;, &#x27;feats&#x27; ..., type: &lt;class &#x27;estnltk_core.layer.span.Span&#x27;&gt;</td>\n",
       "      <td>()</td>\n",
       "    </tr>\n",
       "  </tbody>\n",
       "</table>"
      ],
      "text/plain": [
       "Span('Ilus', [{'id': 1, 'lemma': 'ilus', 'upostag': 'A', 'xpostag': 'A', 'feats': {'sg': '', 'n': ''}, 'head': 4, 'deprel': 'amod', 'deps': None, 'misc': None, 'parent_span': <class 'estnltk_core.layer.span.Span'>, 'children': ()}])"
      ]
     },
     "execution_count": 4,
     "metadata": {},
     "output_type": "execute_result"
    }
   ],
   "source": [
    "# get the first dependant of 'kass'\n",
    "span.annotations[0].children[0]"
   ]
  },
  {
   "cell_type": "code",
   "execution_count": 5,
   "id": "6bfe4048",
   "metadata": {},
   "outputs": [
    {
     "data": {
      "text/html": [
       "<b>Span</b>\n",
       "<table border=\"1\" class=\"dataframe\">\n",
       "  <thead>\n",
       "    <tr style=\"text-align: right;\">\n",
       "      <th>text</th>\n",
       "      <th>id</th>\n",
       "      <th>lemma</th>\n",
       "      <th>upostag</th>\n",
       "      <th>xpostag</th>\n",
       "      <th>feats</th>\n",
       "      <th>head</th>\n",
       "      <th>deprel</th>\n",
       "      <th>deps</th>\n",
       "      <th>misc</th>\n",
       "      <th>parent_span</th>\n",
       "      <th>children</th>\n",
       "    </tr>\n",
       "  </thead>\n",
       "  <tbody>\n",
       "    <tr>\n",
       "      <td><span style=\"font-family: monospace; white-space: pre-wrap;\"><span style=\"text-decoration: underline;\">suur</span></span></td>\n",
       "      <td>2</td>\n",
       "      <td>suur</td>\n",
       "      <td>A</td>\n",
       "      <td>A</td>\n",
       "      <td>{&#x27;sg&#x27;: &#x27;&#x27;, &#x27;n&#x27;: &#x27;&#x27;}</td>\n",
       "      <td>4</td>\n",
       "      <td>amod</td>\n",
       "      <td>None</td>\n",
       "      <td>None</td>\n",
       "      <td>Span(&#x27;kass&#x27;, [{&#x27;id&#x27;: 4, &#x27;lemma&#x27;: &#x27;kass&#x27;, &#x27;upostag&#x27;: &#x27;S&#x27;, &#x27;xpostag&#x27;: &#x27;S&#x27;, &#x27;feats&#x27; ..., type: &lt;class &#x27;estnltk_core.layer.span.Span&#x27;&gt;</td>\n",
       "      <td>()</td>\n",
       "    </tr>\n",
       "  </tbody>\n",
       "</table>"
      ],
      "text/plain": [
       "Span('suur', [{'id': 2, 'lemma': 'suur', 'upostag': 'A', 'xpostag': 'A', 'feats': {'sg': '', 'n': ''}, 'head': 4, 'deprel': 'amod', 'deps': None, 'misc': None, 'parent_span': <class 'estnltk_core.layer.span.Span'>, 'children': ()}])"
      ]
     },
     "execution_count": 5,
     "metadata": {},
     "output_type": "execute_result"
    }
   ],
   "source": [
    "# get the second dependant of 'kass'\n",
    "span.annotations[0].children[1]"
   ]
  },
  {
   "cell_type": "code",
   "execution_count": 6,
   "id": "8c246ee6",
   "metadata": {},
   "outputs": [
    {
     "data": {
      "text/html": [
       "<b>Span</b>\n",
       "<table border=\"1\" class=\"dataframe\">\n",
       "  <thead>\n",
       "    <tr style=\"text-align: right;\">\n",
       "      <th>text</th>\n",
       "      <th>id</th>\n",
       "      <th>lemma</th>\n",
       "      <th>upostag</th>\n",
       "      <th>xpostag</th>\n",
       "      <th>feats</th>\n",
       "      <th>head</th>\n",
       "      <th>deprel</th>\n",
       "      <th>deps</th>\n",
       "      <th>misc</th>\n",
       "      <th>parent_span</th>\n",
       "      <th>children</th>\n",
       "    </tr>\n",
       "  </thead>\n",
       "  <tbody>\n",
       "    <tr>\n",
       "      <td><span style=\"font-family: monospace; white-space: pre-wrap;\"><span style=\"text-decoration: underline;\">karvane</span></span></td>\n",
       "      <td>3</td>\n",
       "      <td>karvane</td>\n",
       "      <td>A</td>\n",
       "      <td>A</td>\n",
       "      <td>{&#x27;sg&#x27;: &#x27;&#x27;, &#x27;n&#x27;: &#x27;&#x27;}</td>\n",
       "      <td>4</td>\n",
       "      <td>amod</td>\n",
       "      <td>None</td>\n",
       "      <td>None</td>\n",
       "      <td>Span(&#x27;kass&#x27;, [{&#x27;id&#x27;: 4, &#x27;lemma&#x27;: &#x27;kass&#x27;, &#x27;upostag&#x27;: &#x27;S&#x27;, &#x27;xpostag&#x27;: &#x27;S&#x27;, &#x27;feats&#x27; ..., type: &lt;class &#x27;estnltk_core.layer.span.Span&#x27;&gt;</td>\n",
       "      <td>()</td>\n",
       "    </tr>\n",
       "  </tbody>\n",
       "</table>"
      ],
      "text/plain": [
       "Span('karvane', [{'id': 3, 'lemma': 'karvane', 'upostag': 'A', 'xpostag': 'A', 'feats': {'sg': '', 'n': ''}, 'head': 4, 'deprel': 'amod', 'deps': None, 'misc': None, 'parent_span': <class 'estnltk_core.layer.span.Span'>, 'children': ()}])"
      ]
     },
     "execution_count": 6,
     "metadata": {},
     "output_type": "execute_result"
    }
   ],
   "source": [
    "# get the third dependant of 'kass'\n",
    "span.annotations[0].children[2]"
   ]
  },
  {
   "cell_type": "code",
   "execution_count": 7,
   "id": "6bf95239",
   "metadata": {},
   "outputs": [
    {
     "data": {
      "text/html": [
       "<b>Span</b>\n",
       "<table border=\"1\" class=\"dataframe\">\n",
       "  <thead>\n",
       "    <tr style=\"text-align: right;\">\n",
       "      <th>text</th>\n",
       "      <th>id</th>\n",
       "      <th>lemma</th>\n",
       "      <th>upostag</th>\n",
       "      <th>xpostag</th>\n",
       "      <th>feats</th>\n",
       "      <th>head</th>\n",
       "      <th>deprel</th>\n",
       "      <th>deps</th>\n",
       "      <th>misc</th>\n",
       "      <th>parent_span</th>\n",
       "      <th>children</th>\n",
       "    </tr>\n",
       "  </thead>\n",
       "  <tbody>\n",
       "    <tr>\n",
       "      <td><span style=\"font-family: monospace; white-space: pre-wrap;\"><span style=\"text-decoration: underline;\">nurrus</span></span></td>\n",
       "      <td>5</td>\n",
       "      <td>nurruma</td>\n",
       "      <td>V</td>\n",
       "      <td>V</td>\n",
       "      <td>{&#x27;s&#x27;: &#x27;&#x27;}</td>\n",
       "      <td>0</td>\n",
       "      <td>root</td>\n",
       "      <td>None</td>\n",
       "      <td>None</td>\n",
       "      <td>None</td>\n",
       "      <td>(&quot;Span(&#x27;kass&#x27;, [{&#x27;id&#x27;: 4, &#x27;lemma&#x27;: &#x27;kass&#x27;, &#x27;upostag&#x27;: &#x27;S&#x27;, &#x27;xpostag&#x27;: &#x27;S&#x27;, &#x27;feat ..., type: &lt;class &#x27;tuple&#x27;&gt;, length: 2</td>\n",
       "    </tr>\n",
       "  </tbody>\n",
       "</table>"
      ],
      "text/plain": [
       "Span('nurrus', [{'id': 5, 'lemma': 'nurruma', 'upostag': 'V', 'xpostag': 'V', 'feats': {'s': ''}, 'head': 0, 'deprel': 'root', 'deps': None, 'misc': None, 'parent_span': None, 'children': <class 'tuple'>}])"
      ]
     },
     "execution_count": 7,
     "metadata": {},
     "output_type": "execute_result"
    }
   ],
   "source": [
    "# get the parent word of 'kass'\n",
    "span.annotations[0].parent_span"
   ]
  },
  {
   "cell_type": "markdown",
   "id": "ae946525",
   "metadata": {},
   "source": [
    "  "
   ]
  },
  {
   "cell_type": "markdown",
   "id": "9d11c451",
   "metadata": {},
   "source": [
    "In addition to the default model, EstNLTK has more syntactic analysis models available for Maltparser, but these models need to be downloaded separately. \n",
    "And there are also alternative syntactic parsers available, such UDPipeTagger and StanzaSyntaxTagger. \n",
    "For details about how to download models and how to use alternative parsers, see out [this tutorial](04_syntactic_analysers_and_utils.ipynb)."
   ]
  }
 ],
 "metadata": {
  "kernelspec": {
   "display_name": "Python 3 (ipykernel)",
   "language": "python",
   "name": "python3"
  },
  "language_info": {
   "codemirror_mode": {
    "name": "ipython",
    "version": 3
   },
   "file_extension": ".py",
   "mimetype": "text/x-python",
   "name": "python",
   "nbconvert_exporter": "python",
   "pygments_lexer": "ipython3",
   "version": "3.9.12"
  }
 },
 "nbformat": 4,
 "nbformat_minor": 5
}
