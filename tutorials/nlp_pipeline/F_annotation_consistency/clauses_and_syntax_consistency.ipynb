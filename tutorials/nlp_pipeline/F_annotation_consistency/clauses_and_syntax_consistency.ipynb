{
 "cells": [
  {
   "cell_type": "markdown",
   "id": "2be81c31",
   "metadata": {},
   "source": [
    "## Inconsistencies between clauses annotation and syntax annotation"
   ]
  },
  {
   "cell_type": "markdown",
   "id": "e11f3fec",
   "metadata": {},
   "source": [
    "### Detecting clause errors with syntax\n",
    "\n",
    "EstNLTK has a function for detecting potential clause errors based on automatic syntactic annotations."
   ]
  },
  {
   "cell_type": "code",
   "execution_count": 1,
   "id": "c2dd5fb4",
   "metadata": {},
   "outputs": [],
   "source": [
    "from estnltk.converters import json_to_text\n",
    "from estnltk.consistency.clauses_and_syntax_consistency import detect_clause_errors"
   ]
  },
  {
   "cell_type": "markdown",
   "id": "14431241",
   "metadata": {},
   "source": [
    "Load example pre-annotated data:"
   ]
  },
  {
   "cell_type": "code",
   "execution_count": 2,
   "id": "af70b45e",
   "metadata": {},
   "outputs": [],
   "source": [
    "examples_texts = []\n",
    "with open('example_clause_errors.jsonl', 'r', encoding='utf-8') as in_f:\n",
    "    for line in in_f:\n",
    "        line = line.strip()\n",
    "        text_obj = json_to_text(line.strip())\n",
    "        examples_texts.append(text_obj)"
   ]
  },
  {
   "cell_type": "markdown",
   "id": "3c3ed98a",
   "metadata": {},
   "source": [
    "Each text contains one sentence with erroneous clause annotations, extracted from the Estonian Reference Corpus:"
   ]
  },
  {
   "cell_type": "code",
   "execution_count": 3,
   "id": "38e0fda6",
   "metadata": {},
   "outputs": [
    {
     "data": {
      "text/plain": [
       "'Ka võib kütusehind , mis moodustab piletihinnast kolmandiku , teha ootamatuid pöördeid .'"
      ]
     },
     "execution_count": 3,
     "metadata": {},
     "output_type": "execute_result"
    }
   ],
   "source": [
    "examples_texts[0].text"
   ]
  },
  {
   "cell_type": "code",
   "execution_count": 4,
   "id": "f9e7b9d6",
   "metadata": {},
   "outputs": [
    {
     "data": {
      "text/html": [
       "<h4>AttributeTupleList (spans)</h4>\n",
       "<table border=\"1\" class=\"dataframe\">\n",
       "  <thead>\n",
       "    <tr style=\"text-align: right;\">\n",
       "      <th></th>\n",
       "      <th>start</th>\n",
       "      <th>end</th>\n",
       "      <th>text</th>\n",
       "      <th>clause_type</th>\n",
       "    </tr>\n",
       "  </thead>\n",
       "  <tbody>\n",
       "    <tr>\n",
       "      <td>0</td>\n",
       "      <td>0</td>\n",
       "      <td>20</td>\n",
       "      <td>['Ka', 'võib', 'kütusehind', ',']</td>\n",
       "      <td>regular</td>\n",
       "    </tr>\n",
       "    <tr>\n",
       "      <td>1</td>\n",
       "      <td>21</td>\n",
       "      <td>88</td>\n",
       "      <td>['mis', 'moodustab', 'piletihinnast', 'kolmandiku', ',', 'teha', 'ootamatuid', 'pöördeid', '.']</td>\n",
       "      <td>regular</td>\n",
       "    </tr>\n",
       "  </tbody>\n",
       "</table>"
      ],
      "text/plain": [
       "AttributeTupleList([[0, 20, ['Ka', 'võib', 'kütusehind', ','], 'regular'], [21, 88, ['mis', 'moodustab', 'piletihinnast', 'kolmandiku', ',', 'teha', 'ootamatuid', 'pöördeid', '.'], 'regular']], ('start', 'end', 'text', 'clause_type'))"
      ]
     },
     "execution_count": 4,
     "metadata": {},
     "output_type": "execute_result"
    }
   ],
   "source": [
    "# Browse erroneous annotation\n",
    "examples_texts[0]['v169_clauses'][['start', 'end', 'text', 'clause_type']]"
   ]
  },
  {
   "cell_type": "markdown",
   "id": "40995e85",
   "metadata": {},
   "source": [
    "For detecting the errors, texts must have the sentences layer and a syntax layer:"
   ]
  },
  {
   "cell_type": "code",
   "execution_count": 5,
   "id": "1dfb30b0",
   "metadata": {},
   "outputs": [
    {
     "data": {
      "text/plain": [
       "{'v166_sentences', 'v166_words', 'v168_stanza_syntax', 'v169_clauses'}"
      ]
     },
     "execution_count": 5,
     "metadata": {},
     "output_type": "execute_result"
    }
   ],
   "source": [
    "examples_texts[0].layers"
   ]
  },
  {
   "cell_type": "markdown",
   "id": "3d6a806c",
   "metadata": {},
   "source": [
    "Preferably the syntax layer is created by StanzaSyntaxTagger (which has the highest parsing accuracy), but layers created by other [syntactic taggers](https://github.com/estnltk/estnltk/tree/main/tutorials/nlp_pipeline/C_syntax) should also work.\n",
    "\n",
    "Use parameters `clauses_layer`, `syntax_layer` and `sentences_layer` to specify layer names, if these are different from the defaults:"
   ]
  },
  {
   "cell_type": "code",
   "execution_count": 6,
   "id": "ab6ee146",
   "metadata": {},
   "outputs": [],
   "source": [
    "cl_errors_layer = detect_clause_errors(examples_texts[0], \n",
    "                                       clauses_layer='v169_clauses', \n",
    "                                       syntax_layer='v168_stanza_syntax', \n",
    "                                       sentences_layer='v166_sentences')"
   ]
  },
  {
   "cell_type": "code",
   "execution_count": 7,
   "id": "963f5267",
   "metadata": {},
   "outputs": [
    {
     "data": {
      "text/html": [
       "<script>\n",
       "var elements = document.getElementsByClassName(\"overlapping-span\")\n",
       "for (let i = 0; i < elements.length; i++){\n",
       "    elements.item(i).addEventListener(\"click\",function() {show_conflicting_spans(elements.item(i));})}\n",
       "\n",
       "function show_conflicting_spans(span_element) {\n",
       "    let spantable = document.createElement('div')\n",
       "    spantable.classList.add('tables')\n",
       "\n",
       "    // Prepare the contents of the span table\n",
       "    data = span_element.getAttribute(\"span_info\")\n",
       "    data = data.split(\",\")\n",
       "    var spancontent = '<table>'\n",
       "    for (let row of data) {\n",
       "        spancontent+='<tr><td>'\n",
       "        spancontent+=row\n",
       "        spancontent+='</td></tr>'\n",
       "    }\n",
       "    spancontent += '</table>'\n",
       "    spantable.innerHTML = spancontent\n",
       "    span_element.parentElement.appendChild(spantable)\n",
       "\n",
       "    // Increase the size of the cell so the tables would fit\n",
       "    spantable.parentElement.style.height = Math.max(Number(spantable.parentElement.style.height.substring(0,spantable.parentElement.style.height.length-2)),span_element.offsetTop+90)+ 'px'\n",
       "    // Position the table directly below the corresponding text\n",
       "    spantable.style.left = span_element.getBoundingClientRect().left-spantable.parentElement.parentElement.getBoundingClientRect().left + 'px'\n",
       "    spantable.style.top = span_element.getBoundingClientRect().top-spantable.parentElement.parentElement.getBoundingClientRect().top+20+ 'px'\n",
       "\n",
       "    // Remove the table when clicked on again\n",
       "    spantable.addEventListener('click', function () {\n",
       "        let element = this.parentElement\n",
       "        element.removeChild(this)\n",
       "    })\n",
       "}\n",
       "</script><style>\n",
       ".span {\n",
       "    background-color: yellow;\n",
       "}\n",
       "\n",
       ".overlapping-span {\n",
       "    background-color: red;\n",
       "}\n",
       "\n",
       ".spanline {\n",
       "    background-color: blue;\n",
       "    position: relative;\n",
       "    height: 3px;\n",
       "    margin-left: 0px;\n",
       "}\n",
       "\n",
       ".tables {\n",
       "    position: absolute;\n",
       "    width: fit-content;\n",
       "    width: -moz-fit-content;\n",
       "    border: 1px solid black;\n",
       "}\n",
       "\n",
       ".maintext{0} {\n",
       "    position: relative;\n",
       "}\n",
       "\n",
       ".tables tbody tr:nth-child(even) {\n",
       "    background-color: lightgray;\n",
       "}\n",
       "\n",
       ".tables tbody tr:nth-child(odd) {\n",
       "    background-color: beige;\n",
       "}\n",
       "\n",
       ".tables tbody tr:hover {\n",
       "    background-color: ivory;\n",
       "}\n",
       "</style>Ka võib kütusehind , mis moodustab piletihinnast kolmandiku <span style=background:yellow; \">,</span> teha ootamatuid pöördeid ."
      ]
     },
     "metadata": {},
     "output_type": "display_data"
    }
   ],
   "source": [
    "cl_errors_layer.display()"
   ]
  },
  {
   "cell_type": "code",
   "execution_count": 8,
   "id": "3e2a230b",
   "metadata": {},
   "outputs": [
    {
     "data": {
      "text/html": [
       "<h4>Layer</h4>\n",
       "<h4>Metadata</h4>\n",
       "<table border=\"1\" class=\"dataframe\">\n",
       "  <tbody>\n",
       "    <tr>\n",
       "      <td>attributive_mis_embedded_clause_wrong_end</td>\n",
       "      <td>1</td>\n",
       "    </tr>\n",
       "  </tbody>\n",
       "</table>\n",
       "\n",
       "<table border=\"1\" class=\"dataframe\">\n",
       "  <thead>\n",
       "    <tr style=\"text-align: right;\">\n",
       "      <th>layer name</th>\n",
       "      <th>attributes</th>\n",
       "      <th>parent</th>\n",
       "      <th>enveloping</th>\n",
       "      <th>ambiguous</th>\n",
       "      <th>span count</th>\n",
       "    </tr>\n",
       "  </thead>\n",
       "  <tbody>\n",
       "    <tr>\n",
       "      <td>clause_errors</td>\n",
       "      <td>err_type, sent_id, correction_description</td>\n",
       "      <td>None</td>\n",
       "      <td>None</td>\n",
       "      <td>False</td>\n",
       "      <td>1</td>\n",
       "    </tr>\n",
       "  </tbody>\n",
       "</table>\n",
       "<table border=\"1\" class=\"dataframe\">\n",
       "  <thead>\n",
       "    <tr style=\"text-align: right;\">\n",
       "      <th>text</th>\n",
       "      <th>err_type</th>\n",
       "      <th>sent_id</th>\n",
       "      <th>correction_description</th>\n",
       "    </tr>\n",
       "  </thead>\n",
       "  <tbody>\n",
       "    <tr>\n",
       "      <td>,</td>\n",
       "      <td>attributive_mis_embedded_clause_wrong_end</td>\n",
       "      <td>0</td>\n",
       "      <td>Split clause after position 61 and then embed the clause 19:61 into clause 0:88.</td>\n",
       "    </tr>\n",
       "  </tbody>\n",
       "</table>"
      ],
      "text/plain": [
       "Layer(name='clause_errors', attributes=('err_type', 'sent_id', 'correction_description'), spans=SL[Span(',', [{'err_type': 'attributive_mis_embedded_clause_wrong_end', 'sent_id': 0, 'correction_description': 'Split clause after position 61 and then embed the clause 19:61 into clause 0:88.'}])])"
      ]
     },
     "execution_count": 8,
     "metadata": {},
     "output_type": "execute_result"
    }
   ],
   "source": [
    "cl_errors_layer"
   ]
  },
  {
   "cell_type": "markdown",
   "id": "2bbd49a5",
   "metadata": {},
   "source": [
    "Clause errors layer has the following attributes:\n",
    "* `text` -- text snippet indicating the error type;\n",
    "* `err_type` -- type of the error. for details about different error types, see below \"Details: current error detection patterns\"\n",
    "* `sent_id` -- index of the sentence in which the error occurred;\n",
    "* `correction_description` -- detailed description on how the error can be fixed. for details about different corrections, see below \"Details: current error detection patterns\".\n",
    "\n",
    "Note that metadata of clause errors layer contains counts of different types of errors detected."
   ]
  },
  {
   "cell_type": "markdown",
   "id": "85b5be21",
   "metadata": {},
   "source": [
    "### Repairing clause errors with syntax\n",
    "\n",
    "Function `fix_clause_errors_with_syntax` creates a new/fixed clauses layer, based on errors detected by `detect_clause_errors`."
   ]
  },
  {
   "cell_type": "code",
   "execution_count": 9,
   "id": "6984ead9",
   "metadata": {},
   "outputs": [],
   "source": [
    "from estnltk.consistency.clauses_and_syntax_consistency import fix_clause_errors_with_syntax"
   ]
  },
  {
   "cell_type": "markdown",
   "id": "89e82a23",
   "metadata": {},
   "source": [
    "Use parameters `clauses_layer`, `syntax_layer` and `sentences_layer` to specify input layer names, and `output_layer` to change name of the new clauses layer:"
   ]
  },
  {
   "cell_type": "code",
   "execution_count": 10,
   "id": "c52a978c",
   "metadata": {},
   "outputs": [],
   "source": [
    "for text_obj in examples_texts:\n",
    "    new_clauses_layer = fix_clause_errors_with_syntax(text_obj, \n",
    "                                                      clauses_layer='v169_clauses', \n",
    "                                                      syntax_layer='v168_stanza_syntax', \n",
    "                                                      sentences_layer='v166_sentences',\n",
    "                                                      output_layer='clauses_fixed')\n",
    "    # Attach new layer to the text\n",
    "    text_obj.add_layer( new_clauses_layer )"
   ]
  },
  {
   "cell_type": "code",
   "execution_count": 11,
   "id": "d04e6380",
   "metadata": {},
   "outputs": [],
   "source": [
    "from IPython.display import Markdown"
   ]
  },
  {
   "cell_type": "code",
   "execution_count": 12,
   "id": "678991c5",
   "metadata": {},
   "outputs": [
    {
     "name": "stdout",
     "output_type": "stream",
     "text": [
      "OLD:\n"
     ]
    },
    {
     "data": {
      "text/html": [
       "<h4>AttributeTupleList (spans)</h4>\n",
       "<table border=\"1\" class=\"dataframe\">\n",
       "  <thead>\n",
       "    <tr style=\"text-align: right;\">\n",
       "      <th></th>\n",
       "      <th>start</th>\n",
       "      <th>end</th>\n",
       "      <th>text</th>\n",
       "      <th>clause_type</th>\n",
       "    </tr>\n",
       "  </thead>\n",
       "  <tbody>\n",
       "    <tr>\n",
       "      <td>0</td>\n",
       "      <td>0</td>\n",
       "      <td>20</td>\n",
       "      <td>['Ka', 'võib', 'kütusehind', ',']</td>\n",
       "      <td>regular</td>\n",
       "    </tr>\n",
       "    <tr>\n",
       "      <td>1</td>\n",
       "      <td>21</td>\n",
       "      <td>88</td>\n",
       "      <td>['mis', 'moodustab', 'piletihinnast', 'kolmandiku', ',', 'teha', 'ootamatuid', 'pöördeid', '.']</td>\n",
       "      <td>regular</td>\n",
       "    </tr>\n",
       "  </tbody>\n",
       "</table>"
      ],
      "text/plain": [
       "AttributeTupleList([[0, 20, ['Ka', 'võib', 'kütusehind', ','], 'regular'], [21, 88, ['mis', 'moodustab', 'piletihinnast', 'kolmandiku', ',', 'teha', 'ootamatuid', 'pöördeid', '.'], 'regular']], ('start', 'end', 'text', 'clause_type'))"
      ]
     },
     "metadata": {},
     "output_type": "display_data"
    },
    {
     "name": "stdout",
     "output_type": "stream",
     "text": [
      "FIXED:\n"
     ]
    },
    {
     "data": {
      "text/html": [
       "<h4>AttributeTupleList (spans)</h4>\n",
       "<table border=\"1\" class=\"dataframe\">\n",
       "  <thead>\n",
       "    <tr style=\"text-align: right;\">\n",
       "      <th></th>\n",
       "      <th>start</th>\n",
       "      <th>end</th>\n",
       "      <th>text</th>\n",
       "      <th>clause_type</th>\n",
       "    </tr>\n",
       "  </thead>\n",
       "  <tbody>\n",
       "    <tr>\n",
       "      <td>0</td>\n",
       "      <td>0</td>\n",
       "      <td>88</td>\n",
       "      <td>['Ka', 'võib', 'kütusehind', 'teha', 'ootamatuid', 'pöördeid', '.']</td>\n",
       "      <td>regular</td>\n",
       "    </tr>\n",
       "    <tr>\n",
       "      <td>1</td>\n",
       "      <td>19</td>\n",
       "      <td>61</td>\n",
       "      <td>[',', 'mis', 'moodustab', 'piletihinnast', 'kolmandiku', ',']</td>\n",
       "      <td>embedded</td>\n",
       "    </tr>\n",
       "  </tbody>\n",
       "</table>"
      ],
      "text/plain": [
       "AttributeTupleList([[0, 88, ['Ka', 'võib', 'kütusehind', 'teha', 'ootamatuid', 'pöördeid', '.'], 'regular'], [19, 61, [',', 'mis', 'moodustab', 'piletihinnast', 'kolmandiku', ','], 'embedded']], ('start', 'end', 'text', 'clause_type'))"
      ]
     },
     "metadata": {},
     "output_type": "display_data"
    },
    {
     "data": {
      "text/markdown": [
       "---"
      ],
      "text/plain": [
       "<IPython.core.display.Markdown object>"
      ]
     },
     "metadata": {},
     "output_type": "display_data"
    },
    {
     "name": "stdout",
     "output_type": "stream",
     "text": [
      "\n",
      "OLD:\n"
     ]
    },
    {
     "data": {
      "text/html": [
       "<h4>AttributeTupleList (spans)</h4>\n",
       "<table border=\"1\" class=\"dataframe\">\n",
       "  <thead>\n",
       "    <tr style=\"text-align: right;\">\n",
       "      <th></th>\n",
       "      <th>start</th>\n",
       "      <th>end</th>\n",
       "      <th>text</th>\n",
       "      <th>clause_type</th>\n",
       "    </tr>\n",
       "  </thead>\n",
       "  <tbody>\n",
       "    <tr>\n",
       "      <td>0</td>\n",
       "      <td>0</td>\n",
       "      <td>8</td>\n",
       "      <td>['Riigid', ',']</td>\n",
       "      <td>regular</td>\n",
       "    </tr>\n",
       "    <tr>\n",
       "      <td>1</td>\n",
       "      <td>9</td>\n",
       "      <td>111</td>\n",
       "      <td>['kelle', 'vaatluspunktide', 'arv', 'on', 'piiratud', ',', 'võivad', 'andmed', ' ..., type: &lt;class 'list'&gt;, length: 13</td>\n",
       "      <td>regular</td>\n",
       "    </tr>\n",
       "    <tr>\n",
       "      <td>2</td>\n",
       "      <td>47</td>\n",
       "      <td>58</td>\n",
       "      <td>['(', 'alla', '20', ')']</td>\n",
       "      <td>embedded</td>\n",
       "    </tr>\n",
       "  </tbody>\n",
       "</table>"
      ],
      "text/plain": [
       "AttributeTupleList([[0, 8, ['Riigid', ','], 'regular'], [9, 111, ['kelle', 'vaatluspunktide', 'arv', 'on', 'piiratud', ',', 'võivad', 'andmed', 'esitada', 'lihtsalt', 'kirjalikus', 'vormis', '.'], 'regular'], [47, 58, ['(', 'alla', '20', ')'], 'embedded']], ('start', 'end', 'text', 'clause_type'))"
      ]
     },
     "metadata": {},
     "output_type": "display_data"
    },
    {
     "name": "stdout",
     "output_type": "stream",
     "text": [
      "FIXED:\n"
     ]
    },
    {
     "data": {
      "text/html": [
       "<h4>AttributeTupleList (spans)</h4>\n",
       "<table border=\"1\" class=\"dataframe\">\n",
       "  <thead>\n",
       "    <tr style=\"text-align: right;\">\n",
       "      <th></th>\n",
       "      <th>start</th>\n",
       "      <th>end</th>\n",
       "      <th>text</th>\n",
       "      <th>clause_type</th>\n",
       "    </tr>\n",
       "  </thead>\n",
       "  <tbody>\n",
       "    <tr>\n",
       "      <td>0</td>\n",
       "      <td>0</td>\n",
       "      <td>111</td>\n",
       "      <td>['Riigid', 'võivad', 'andmed', 'esitada', 'lihtsalt', 'kirjalikus', 'vormis', '.']</td>\n",
       "      <td>regular</td>\n",
       "    </tr>\n",
       "    <tr>\n",
       "      <td>1</td>\n",
       "      <td>7</td>\n",
       "      <td>60</td>\n",
       "      <td>[',', 'kelle', 'vaatluspunktide', 'arv', 'on', 'piiratud', ',']</td>\n",
       "      <td>embedded</td>\n",
       "    </tr>\n",
       "    <tr>\n",
       "      <td>2</td>\n",
       "      <td>47</td>\n",
       "      <td>58</td>\n",
       "      <td>['(', 'alla', '20', ')']</td>\n",
       "      <td>embedded</td>\n",
       "    </tr>\n",
       "  </tbody>\n",
       "</table>"
      ],
      "text/plain": [
       "AttributeTupleList([[0, 111, ['Riigid', 'võivad', 'andmed', 'esitada', 'lihtsalt', 'kirjalikus', 'vormis', '.'], 'regular'], [7, 60, [',', 'kelle', 'vaatluspunktide', 'arv', 'on', 'piiratud', ','], 'embedded'], [47, 58, ['(', 'alla', '20', ')'], 'embedded']], ('start', 'end', 'text', 'clause_type'))"
      ]
     },
     "metadata": {},
     "output_type": "display_data"
    },
    {
     "data": {
      "text/markdown": [
       "---"
      ],
      "text/plain": [
       "<IPython.core.display.Markdown object>"
      ]
     },
     "metadata": {},
     "output_type": "display_data"
    },
    {
     "name": "stdout",
     "output_type": "stream",
     "text": [
      "\n",
      "OLD:\n"
     ]
    },
    {
     "data": {
      "text/html": [
       "<h4>AttributeTupleList (spans)</h4>\n",
       "<table border=\"1\" class=\"dataframe\">\n",
       "  <thead>\n",
       "    <tr style=\"text-align: right;\">\n",
       "      <th></th>\n",
       "      <th>start</th>\n",
       "      <th>end</th>\n",
       "      <th>text</th>\n",
       "      <th>clause_type</th>\n",
       "    </tr>\n",
       "  </thead>\n",
       "  <tbody>\n",
       "    <tr>\n",
       "      <td>0</td>\n",
       "      <td>0</td>\n",
       "      <td>11</td>\n",
       "      <td>['Metoodika', ',']</td>\n",
       "      <td>regular</td>\n",
       "    </tr>\n",
       "    <tr>\n",
       "      <td>1</td>\n",
       "      <td>12</td>\n",
       "      <td>62</td>\n",
       "      <td>['kuidas', 'teda', 'ujuma', 'õpetada', ',', 'oleme', 'selgeks', 'teinud', '.']</td>\n",
       "      <td>regular</td>\n",
       "    </tr>\n",
       "  </tbody>\n",
       "</table>"
      ],
      "text/plain": [
       "AttributeTupleList([[0, 11, ['Metoodika', ','], 'regular'], [12, 62, ['kuidas', 'teda', 'ujuma', 'õpetada', ',', 'oleme', 'selgeks', 'teinud', '.'], 'regular']], ('start', 'end', 'text', 'clause_type'))"
      ]
     },
     "metadata": {},
     "output_type": "display_data"
    },
    {
     "name": "stdout",
     "output_type": "stream",
     "text": [
      "FIXED:\n"
     ]
    },
    {
     "data": {
      "text/html": [
       "<h4>AttributeTupleList (spans)</h4>\n",
       "<table border=\"1\" class=\"dataframe\">\n",
       "  <thead>\n",
       "    <tr style=\"text-align: right;\">\n",
       "      <th></th>\n",
       "      <th>start</th>\n",
       "      <th>end</th>\n",
       "      <th>text</th>\n",
       "      <th>clause_type</th>\n",
       "    </tr>\n",
       "  </thead>\n",
       "  <tbody>\n",
       "    <tr>\n",
       "      <td>0</td>\n",
       "      <td>0</td>\n",
       "      <td>62</td>\n",
       "      <td>['Metoodika', 'oleme', 'selgeks', 'teinud', '.']</td>\n",
       "      <td>regular</td>\n",
       "    </tr>\n",
       "    <tr>\n",
       "      <td>1</td>\n",
       "      <td>10</td>\n",
       "      <td>39</td>\n",
       "      <td>[',', 'kuidas', 'teda', 'ujuma', 'õpetada', ',']</td>\n",
       "      <td>embedded</td>\n",
       "    </tr>\n",
       "  </tbody>\n",
       "</table>"
      ],
      "text/plain": [
       "AttributeTupleList([[0, 62, ['Metoodika', 'oleme', 'selgeks', 'teinud', '.'], 'regular'], [10, 39, [',', 'kuidas', 'teda', 'ujuma', 'õpetada', ','], 'embedded']], ('start', 'end', 'text', 'clause_type'))"
      ]
     },
     "metadata": {},
     "output_type": "display_data"
    },
    {
     "data": {
      "text/markdown": [
       "---"
      ],
      "text/plain": [
       "<IPython.core.display.Markdown object>"
      ]
     },
     "metadata": {},
     "output_type": "display_data"
    },
    {
     "name": "stdout",
     "output_type": "stream",
     "text": [
      "\n",
      "OLD:\n"
     ]
    },
    {
     "data": {
      "text/html": [
       "<h4>AttributeTupleList (spans)</h4>\n",
       "<table border=\"1\" class=\"dataframe\">\n",
       "  <thead>\n",
       "    <tr style=\"text-align: right;\">\n",
       "      <th></th>\n",
       "      <th>start</th>\n",
       "      <th>end</th>\n",
       "      <th>text</th>\n",
       "      <th>clause_type</th>\n",
       "    </tr>\n",
       "  </thead>\n",
       "  <tbody>\n",
       "    <tr>\n",
       "      <td>0</td>\n",
       "      <td>0</td>\n",
       "      <td>20</td>\n",
       "      <td>['Kui', 'tuli', 'otsustada', ',']</td>\n",
       "      <td>regular</td>\n",
       "    </tr>\n",
       "    <tr>\n",
       "      <td>1</td>\n",
       "      <td>21</td>\n",
       "      <td>54</td>\n",
       "      <td>['mida', 'valida', ',', 'jäi', 'peale', 'muusika', '.']</td>\n",
       "      <td>regular</td>\n",
       "    </tr>\n",
       "  </tbody>\n",
       "</table>"
      ],
      "text/plain": [
       "AttributeTupleList([[0, 20, ['Kui', 'tuli', 'otsustada', ','], 'regular'], [21, 54, ['mida', 'valida', ',', 'jäi', 'peale', 'muusika', '.'], 'regular']], ('start', 'end', 'text', 'clause_type'))"
      ]
     },
     "metadata": {},
     "output_type": "display_data"
    },
    {
     "name": "stdout",
     "output_type": "stream",
     "text": [
      "FIXED:\n"
     ]
    },
    {
     "data": {
      "text/html": [
       "<h4>AttributeTupleList (spans)</h4>\n",
       "<table border=\"1\" class=\"dataframe\">\n",
       "  <thead>\n",
       "    <tr style=\"text-align: right;\">\n",
       "      <th></th>\n",
       "      <th>start</th>\n",
       "      <th>end</th>\n",
       "      <th>text</th>\n",
       "      <th>clause_type</th>\n",
       "    </tr>\n",
       "  </thead>\n",
       "  <tbody>\n",
       "    <tr>\n",
       "      <td>0</td>\n",
       "      <td>0</td>\n",
       "      <td>20</td>\n",
       "      <td>['Kui', 'tuli', 'otsustada', ',']</td>\n",
       "      <td>regular</td>\n",
       "    </tr>\n",
       "    <tr>\n",
       "      <td>1</td>\n",
       "      <td>21</td>\n",
       "      <td>34</td>\n",
       "      <td>['mida', 'valida', ',']</td>\n",
       "      <td>regular</td>\n",
       "    </tr>\n",
       "    <tr>\n",
       "      <td>2</td>\n",
       "      <td>35</td>\n",
       "      <td>54</td>\n",
       "      <td>['jäi', 'peale', 'muusika', '.']</td>\n",
       "      <td>regular</td>\n",
       "    </tr>\n",
       "  </tbody>\n",
       "</table>"
      ],
      "text/plain": [
       "AttributeTupleList([[0, 20, ['Kui', 'tuli', 'otsustada', ','], 'regular'], [21, 34, ['mida', 'valida', ','], 'regular'], [35, 54, ['jäi', 'peale', 'muusika', '.'], 'regular']], ('start', 'end', 'text', 'clause_type'))"
      ]
     },
     "metadata": {},
     "output_type": "display_data"
    },
    {
     "data": {
      "text/markdown": [
       "---"
      ],
      "text/plain": [
       "<IPython.core.display.Markdown object>"
      ]
     },
     "metadata": {},
     "output_type": "display_data"
    },
    {
     "name": "stdout",
     "output_type": "stream",
     "text": [
      "\n",
      "OLD:\n"
     ]
    },
    {
     "data": {
      "text/html": [
       "<h4>AttributeTupleList (spans)</h4>\n",
       "<table border=\"1\" class=\"dataframe\">\n",
       "  <thead>\n",
       "    <tr style=\"text-align: right;\">\n",
       "      <th></th>\n",
       "      <th>start</th>\n",
       "      <th>end</th>\n",
       "      <th>text</th>\n",
       "      <th>clause_type</th>\n",
       "    </tr>\n",
       "  </thead>\n",
       "  <tbody>\n",
       "    <tr>\n",
       "      <td>0</td>\n",
       "      <td>0</td>\n",
       "      <td>20</td>\n",
       "      <td>['Kui', 'tekkis', 'küsimus', ',']</td>\n",
       "      <td>regular</td>\n",
       "    </tr>\n",
       "    <tr>\n",
       "      <td>1</td>\n",
       "      <td>21</td>\n",
       "      <td>54</td>\n",
       "      <td>['keda', 'võtta', ',', 'tehti', 'minuga', 'juttu', '.']</td>\n",
       "      <td>regular</td>\n",
       "    </tr>\n",
       "  </tbody>\n",
       "</table>"
      ],
      "text/plain": [
       "AttributeTupleList([[0, 20, ['Kui', 'tekkis', 'küsimus', ','], 'regular'], [21, 54, ['keda', 'võtta', ',', 'tehti', 'minuga', 'juttu', '.'], 'regular']], ('start', 'end', 'text', 'clause_type'))"
      ]
     },
     "metadata": {},
     "output_type": "display_data"
    },
    {
     "name": "stdout",
     "output_type": "stream",
     "text": [
      "FIXED:\n"
     ]
    },
    {
     "data": {
      "text/html": [
       "<h4>AttributeTupleList (spans)</h4>\n",
       "<table border=\"1\" class=\"dataframe\">\n",
       "  <thead>\n",
       "    <tr style=\"text-align: right;\">\n",
       "      <th></th>\n",
       "      <th>start</th>\n",
       "      <th>end</th>\n",
       "      <th>text</th>\n",
       "      <th>clause_type</th>\n",
       "    </tr>\n",
       "  </thead>\n",
       "  <tbody>\n",
       "    <tr>\n",
       "      <td>0</td>\n",
       "      <td>0</td>\n",
       "      <td>20</td>\n",
       "      <td>['Kui', 'tekkis', 'küsimus', ',']</td>\n",
       "      <td>regular</td>\n",
       "    </tr>\n",
       "    <tr>\n",
       "      <td>1</td>\n",
       "      <td>21</td>\n",
       "      <td>33</td>\n",
       "      <td>['keda', 'võtta', ',']</td>\n",
       "      <td>regular</td>\n",
       "    </tr>\n",
       "    <tr>\n",
       "      <td>2</td>\n",
       "      <td>34</td>\n",
       "      <td>54</td>\n",
       "      <td>['tehti', 'minuga', 'juttu', '.']</td>\n",
       "      <td>regular</td>\n",
       "    </tr>\n",
       "  </tbody>\n",
       "</table>"
      ],
      "text/plain": [
       "AttributeTupleList([[0, 20, ['Kui', 'tekkis', 'küsimus', ','], 'regular'], [21, 33, ['keda', 'võtta', ','], 'regular'], [34, 54, ['tehti', 'minuga', 'juttu', '.'], 'regular']], ('start', 'end', 'text', 'clause_type'))"
      ]
     },
     "metadata": {},
     "output_type": "display_data"
    },
    {
     "data": {
      "text/markdown": [
       "---"
      ],
      "text/plain": [
       "<IPython.core.display.Markdown object>"
      ]
     },
     "metadata": {},
     "output_type": "display_data"
    },
    {
     "name": "stdout",
     "output_type": "stream",
     "text": [
      "\n"
     ]
    }
   ],
   "source": [
    "# Browse results\n",
    "for text_obj in examples_texts:\n",
    "    print('OLD:')\n",
    "    display(text_obj['v169_clauses'][['start', 'end', 'text', 'clause_type']])\n",
    "    print('FIXED:')\n",
    "    display(text_obj['clauses_fixed'][['start', 'end', 'text', 'clause_type']])\n",
    "    display(Markdown('---'))\n",
    "    print()"
   ]
  },
  {
   "cell_type": "markdown",
   "id": "993fdd8c",
   "metadata": {},
   "source": [
    "### Details: clause error detection patterns\n",
    "\n",
    "The following error patterns are used (square brackets mark clause boundaries in examples):\n",
    "\n",
    "**1 -** Errors related to attributive clauses starting with _mis/kes/millal/kus/kust/kuhu/kuna/kuidas/kas_, followed by a verb,  comma and then syntactic root, but no clause boundary between attributive clause start and the syntactic root:\n",
    " * Error type name: `attributive_(mis|kes|millal|kus|kust|kuhu|kuna|kuidas|kas)_embedded_clause_wrong_end`;\n",
    " * Error pattern: `A:[ ... ] B:[ mis/kes/... ... VERB ... , C: ... ROOT ]`\n",
    " * Repair pattern: `A:[ ... B:[ mis/kes/... ... VERB ...  , ] C: ... ROOT ]`\n",
    " * Example error:  `[Kahtlemata on iga keel,] [mida inimene valdab (VERB) , topeltrikkus (ROOT) .]`\n",
    " * Example repair: `[Kahtlemata on iga keel [, mida inimene valdab (VERB) ,] topeltrikkus (ROOT) .]`\n",
    " * Repair splits clauses B and C, then joins A and C, and creates a new embedded (attributive) clause B inside the joined clause.\n",
    " * Correction description: `Split clause after position x and then embed the clause y1:y2 into clause z1:z2`\n",
    "\n",
    "\n",
    " * 1.1) Exceptions: split clauses at the comma, but do not create an embedded clause if: \n",
    "   * 1.1.1) the comma is followed by phrase \"välja arvatud\";\n",
    "   * 1.1.2) the clause preceding the attributive clause starts with \"kui\" or \"et\";\n",
    "   * 1.1.3) the clause preceding the attributive clause starts with a discourse marker, such as \"ah\";\n",
    "   * Error type name: `attributive_(mis|kes|millal|kus|kust|kuhu|kuna|kuidas|kas)_clause_wrong_end`;\n",
    "   * Correction description: `Split clause after position x.`\n",
    " * 1.2) Exceptions: do not apply the pattern at all if: \n",
    "   * 1.2.1) the comma is in the middle of a conjunction phrase, then it is likely a false signal: belongs to the conjunction, and is not a clause break;\n",
    "   * 1.2.2) the attributive clause is actually at the beginning of a sentence;\n",
    "   * 1.2.3) the clause preceding the attributive clause is likely another attributive clause, starts with _mis/kes/millal/kus/kust/kuhu/kuna/kuidas/kas_;\n",
    "   * 1.2.4) there is no verb in the clause preceding the attributive clause, and also not in the clause containing syntactic root;\n",
    "\n",
    "**2 -** Errors related to disconnected root clauses: there is a clause headed by root, but not containing root nor a verb; it's followed by a simple clause, and then by a root clause:\n",
    " * Error type name: `disconnected_root_clause`;\n",
    " * Error pattern: `A:[ ... NO_VERB/NO_ROOT/HEADED_BY_ROOT ... , ] B:[ ... , ] C:[ ... ROOT ... ]`\n",
    " * Repair pattern: `A:[ ... NO_VERB/NO_ROOT/HEADED_BY_ROOT B:[ , ... , ] C: ... ROOT ... ]`\n",
    " * Example error #1:  `[Varakevadel,] [kui talvevarudest napib,] [käime Naissaarel hülgeid küttimas.]`\n",
    " * Example repair #1: `[Varakevadel   [,kui talvevarudest napib,] käime Naissaarel hülgeid küttimas.]`\n",
    " * Example error #2:  `[Sest selleks,] [et saada relvaluba,] [on vaja täita palju formaalsusi.]`\n",
    " * Example repair #2: `[Sest selleks [, et saada relvaluba ,] on vaja täita palju formaalsusi.]`\n",
    " * Repair joins A and C into one clause, and creates a new embedded clause B inside the joined clause.\n",
    " * Correction description: `Embed the adjusted clause x1:x2 into clause y1:y2`\n",
    "\n",
    "\n",
    " * 2.1) Exceptions: do not apply the pattern at all if: \n",
    "   * 2.1.1) Clause A contains any of the lemmas _lugupeetud, austatud, tõepoolest, tõsi, muide, muuseas, võimalik, alati, ükskõik, niipea, iseasi, iseküsimus_ or words _kallid, juhul, juhtudel_;\n",
    "   * 2.1.2) Clause B ends with quotes (likely a part of the direct speech);\n",
    "\n",
    "#### Performance evaluation\n",
    "\n",
    "Error detection patterns were developed and evaluated on random subsets of the Reference Corpus of Estonian.\n",
    "The final performance was evaluated on a 5 million word subset of the corpus (~12k randomly picked documents), where processing yielded:\n",
    "\n",
    "   * 624 `disconnected_root_clause` errors\n",
    "       * results of manual checking (of 100 randomly picked errors): 86 correct, 6 incorrect, 8 dubious corrections;\n",
    "   * 146 `attributive_.+_clause_wrong_end` errors:\n",
    "       * results of manual checking (of 100 randomly picked errors): 87 correct, 5 incorrect, 8 dubious corrections;\n",
    "\n",
    "\n",
    "#### Source\n",
    "\n",
    "For more information about the patterns, including examples of the exception, please see the source of the function: https://github.com/estnltk/estnltk/blob/fc6811e1f329244bb3623f2beba7fe7f082afdac/estnltk/estnltk/consistency/clauses_and_syntax_consistency.py#L274-L650\n",
    "\n",
    "Source code of the performance evaluation: https://github.com/estnltk/estnltk-workflows/tree/master/detect_inconsistencies/clauses_and_syntax"
   ]
  }
 ],
 "metadata": {
  "kernelspec": {
   "display_name": "Python 3 (ipykernel)",
   "language": "python",
   "name": "python3"
  },
  "language_info": {
   "codemirror_mode": {
    "name": "ipython",
    "version": 3
   },
   "file_extension": ".py",
   "mimetype": "text/x-python",
   "name": "python",
   "nbconvert_exporter": "python",
   "pygments_lexer": "ipython3",
   "version": "3.9.12"
  }
 },
 "nbformat": 4,
 "nbformat_minor": 5
}
