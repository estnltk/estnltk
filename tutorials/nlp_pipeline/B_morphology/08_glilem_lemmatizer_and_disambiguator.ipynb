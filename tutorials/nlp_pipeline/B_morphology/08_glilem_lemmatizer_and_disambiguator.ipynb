{
 "cells": [
  {
   "cell_type": "markdown",
   "id": "50c17eda-0d70-482b-b4f2-399288df52bf",
   "metadata": {},
   "source": [
    "# GliLem lemmatizer and morphological disambiguator (GliLemTagger)\n",
    "\n",
    "This tutorial introduces GliLem lemmatizer and morphological disambiguator created by [Dorkin and Sirts (2024)](https://arxiv.org/abs/2412.20597). \n",
    "GliLem enhances Vabamorf's lemmatizer with an external disambiguation module based on GliNER ([Zaratiana et al. (2023)](https://arxiv.org/abs/2311.08526)) to improve the lemmatization accuracy."
   ]
  },
  {
   "cell_type": "markdown",
   "id": "f5cb91cf-0f22-4c4d-8e12-bb93612dbafe",
   "metadata": {},
   "source": [
    "## Prerequisites\n",
    "\n",
    "*Note: you need to install [estnltk_neural](https://github.com/estnltk/estnltk/tree/main/estnltk_neural) and [gliner](https://pypi.org/project/gliner/) packages for using the GliLemTagger.*\n",
    "\n",
    "Note that the model required by the tagger is not distributed with the estnltk\\_neural package. You can download the model in the following ways:\n",
    "* If you create a new instance of `GliLemTagger` and the model has not been downloaded yet, you'll be prompted with a question asking for a permission to download the model;\n",
    "* Alternatively, you can pre-download the model manually via the download function:\n",
    "\n",
    "```python\n",
    "from estnltk import download\n",
    "download('glilem')\n",
    "```\n"
   ]
  },
  {
   "cell_type": "markdown",
   "id": "76807761-7317-4071-9baf-39bec143c842",
   "metadata": {},
   "source": [
    "### Usage example"
   ]
  },
  {
   "cell_type": "code",
   "execution_count": 1,
   "id": "e5e80f83-5d7d-4c13-96eb-d673fd1b9828",
   "metadata": {},
   "outputs": [],
   "source": [
    "from estnltk import Text\n",
    "from estnltk_neural.taggers import GliLemTagger"
   ]
  },
  {
   "cell_type": "code",
   "execution_count": 2,
   "id": "d9967d5a-1bfe-4254-9046-1a9dd6558aa9",
   "metadata": {},
   "outputs": [
    {
     "name": "stderr",
     "output_type": "stream",
     "text": [
      "config.json not found in C:\\Programmid\\Miniconda3\\envs\\py310_devel\\Lib\\site-packages\\estnltk\\estnltk_resources\\gliner\\vabamorf_disambiguator_hf_2024-09-26\n"
     ]
    },
    {
     "name": "stdout",
     "output_type": "stream",
     "text": [
      "WARNING:hub_mixin.py:511: config.json not found in C:\\Programmid\\Miniconda3\\envs\\py310_devel\\Lib\\site-packages\\estnltk\\estnltk_resources\\gliner\\vabamorf_disambiguator_hf_2024-09-26\n"
     ]
    }
   ],
   "source": [
    "glilem_tagger = GliLemTagger()"
   ]
  },
  {
   "cell_type": "code",
   "execution_count": 3,
   "id": "5d07ec4d-5700-4753-9050-6214ba85b3bc",
   "metadata": {},
   "outputs": [
    {
     "data": {
      "text/plain": [
       "('words', 'compound_tokens', 'sentences')"
      ]
     },
     "execution_count": 3,
     "metadata": {},
     "output_type": "execute_result"
    }
   ],
   "source": [
    "# Examine input layers\n",
    "glilem_tagger.input_layers"
   ]
  },
  {
   "cell_type": "code",
   "execution_count": 4,
   "id": "8939de83-a799-43fe-8990-c72e7bd0d46f",
   "metadata": {},
   "outputs": [
    {
     "name": "stderr",
     "output_type": "stream",
     "text": [
      "Asking to truncate to max_length but no maximum length is provided and the model has no predefined maximum length. Default to no truncation.\n"
     ]
    },
    {
     "data": {
      "text/html": [
       "<table border=\"1\" class=\"dataframe\">\n",
       "  <thead>\n",
       "    <tr style=\"text-align: right;\">\n",
       "      <th>text</th>\n",
       "    </tr>\n",
       "  </thead>\n",
       "  <tbody>\n",
       "    <tr>\n",
       "      <td><div align = \"left\">4. koha tõenäsus on täpselt 0, seda sõltumata lisakoha tulekust või mittetulekust.</div></td>\n",
       "    </tr>\n",
       "  </tbody>\n",
       "</table>\n",
       "<table border=\"1\" class=\"dataframe\">\n",
       "  <thead>\n",
       "    <tr style=\"text-align: right;\">\n",
       "      <th>layer name</th>\n",
       "      <th>attributes</th>\n",
       "      <th>parent</th>\n",
       "      <th>enveloping</th>\n",
       "      <th>ambiguous</th>\n",
       "      <th>span count</th>\n",
       "    </tr>\n",
       "  </thead>\n",
       "  <tbody>\n",
       "    <tr>\n",
       "      <td>sentences</td>\n",
       "      <td></td>\n",
       "      <td>None</td>\n",
       "      <td>words</td>\n",
       "      <td>False</td>\n",
       "      <td>1</td>\n",
       "    </tr>\n",
       "    <tr>\n",
       "      <td>tokens</td>\n",
       "      <td></td>\n",
       "      <td>None</td>\n",
       "      <td>None</td>\n",
       "      <td>False</td>\n",
       "      <td>15</td>\n",
       "    </tr>\n",
       "    <tr>\n",
       "      <td>compound_tokens</td>\n",
       "      <td>type, normalized</td>\n",
       "      <td>None</td>\n",
       "      <td>tokens</td>\n",
       "      <td>False</td>\n",
       "      <td>1</td>\n",
       "    </tr>\n",
       "    <tr>\n",
       "      <td>words</td>\n",
       "      <td>normalized_form</td>\n",
       "      <td>None</td>\n",
       "      <td>None</td>\n",
       "      <td>True</td>\n",
       "      <td>14</td>\n",
       "    </tr>\n",
       "    <tr>\n",
       "      <td>glilem</td>\n",
       "      <td>lemma, score, label, vabamorf_overwritten, is_input_token</td>\n",
       "      <td>words</td>\n",
       "      <td>None</td>\n",
       "      <td>True</td>\n",
       "      <td>7</td>\n",
       "    </tr>\n",
       "  </tbody>\n",
       "</table>"
      ],
      "text/plain": [
       "Text(text='4. koha tõenäsus on täpselt 0, seda sõltumata lisakoha tulekust või mittetulekust.')"
      ]
     },
     "execution_count": 4,
     "metadata": {},
     "output_type": "execute_result"
    }
   ],
   "source": [
    "# Create example input text\n",
    "text = Text('4. koha tõenäsus on täpselt 0, seda sõltumata lisakoha tulekust või mittetulekust.')\n",
    "# Add required layers\n",
    "text.tag_layer( glilem_tagger.input_layers )\n",
    "# Tag with glilem\n",
    "glilem_tagger.tag(text)"
   ]
  },
  {
   "cell_type": "code",
   "execution_count": 5,
   "id": "62c81660-0353-4abe-9828-26c7d8ac2a32",
   "metadata": {},
   "outputs": [
    {
     "data": {
      "text/html": [
       "<h4>Layer</h4>\n",
       "\n",
       "\n",
       "<table border=\"1\" class=\"dataframe\">\n",
       "  <thead>\n",
       "    <tr style=\"text-align: right;\">\n",
       "      <th>layer name</th>\n",
       "      <th>attributes</th>\n",
       "      <th>parent</th>\n",
       "      <th>enveloping</th>\n",
       "      <th>ambiguous</th>\n",
       "      <th>span count</th>\n",
       "    </tr>\n",
       "  </thead>\n",
       "  <tbody>\n",
       "    <tr>\n",
       "      <td>glilem</td>\n",
       "      <td>lemma, score, label, vabamorf_overwritten, is_input_token</td>\n",
       "      <td>words</td>\n",
       "      <td>None</td>\n",
       "      <td>True</td>\n",
       "      <td>7</td>\n",
       "    </tr>\n",
       "  </tbody>\n",
       "</table>\n",
       "<style type=\"text/css\">\n",
       "</style>\n",
       "<table id=\"T_f682e\">\n",
       "  <thead>\n",
       "    <tr>\n",
       "      <th id=\"T_f682e_level0_col0\" class=\"col_heading level0 col0\" >text</th>\n",
       "      <th id=\"T_f682e_level0_col1\" class=\"col_heading level0 col1\" >lemma</th>\n",
       "      <th id=\"T_f682e_level0_col2\" class=\"col_heading level0 col2\" >score</th>\n",
       "      <th id=\"T_f682e_level0_col3\" class=\"col_heading level0 col3\" >label</th>\n",
       "      <th id=\"T_f682e_level0_col4\" class=\"col_heading level0 col4\" >vabamorf_overwritten</th>\n",
       "      <th id=\"T_f682e_level0_col5\" class=\"col_heading level0 col5\" >is_input_token</th>\n",
       "    </tr>\n",
       "  </thead>\n",
       "  <tbody>\n",
       "    <tr>\n",
       "      <td id=\"T_f682e_row0_col0\" class=\"data row0 col0\" >koha</td>\n",
       "      <td id=\"T_f682e_row0_col1\" class=\"data row0 col1\" >koht</td>\n",
       "      <td id=\"T_f682e_row0_col2\" class=\"data row0 col2\" >0.9546396732330322</td>\n",
       "      <td id=\"T_f682e_row0_col3\" class=\"data row0 col3\" >↓0;d¦-+t</td>\n",
       "      <td id=\"T_f682e_row0_col4\" class=\"data row0 col4\" >True</td>\n",
       "      <td id=\"T_f682e_row0_col5\" class=\"data row0 col5\" >True</td>\n",
       "    </tr>\n",
       "    <tr>\n",
       "      <td id=\"T_f682e_row1_col0\" class=\"data row1 col0\" >on</td>\n",
       "      <td id=\"T_f682e_row1_col1\" class=\"data row1 col1\" >olema</td>\n",
       "      <td id=\"T_f682e_row1_col2\" class=\"data row1 col2\" >0.9999995231628418</td>\n",
       "      <td id=\"T_f682e_row1_col3\" class=\"data row1 col3\" >↓0;d¦-+l+e+m+a</td>\n",
       "      <td id=\"T_f682e_row1_col4\" class=\"data row1 col4\" >False</td>\n",
       "      <td id=\"T_f682e_row1_col5\" class=\"data row1 col5\" >True</td>\n",
       "    </tr>\n",
       "    <tr>\n",
       "      <td id=\"T_f682e_row2_col0\" class=\"data row2 col0\" >seda</td>\n",
       "      <td id=\"T_f682e_row2_col1\" class=\"data row2 col1\" >see</td>\n",
       "      <td id=\"T_f682e_row2_col2\" class=\"data row2 col2\" >0.9980397820472717</td>\n",
       "      <td id=\"T_f682e_row2_col3\" class=\"data row2 col3\" >↓0;d¦--+e</td>\n",
       "      <td id=\"T_f682e_row2_col4\" class=\"data row2 col4\" >False</td>\n",
       "      <td id=\"T_f682e_row2_col5\" class=\"data row2 col5\" >True</td>\n",
       "    </tr>\n",
       "    <tr>\n",
       "      <td id=\"T_f682e_row3_col0\" class=\"data row3 col0\" >sõltumata</td>\n",
       "      <td id=\"T_f682e_row3_col1\" class=\"data row3 col1\" >sõltuma</td>\n",
       "      <td id=\"T_f682e_row3_col2\" class=\"data row3 col2\" >0.9897437691688538</td>\n",
       "      <td id=\"T_f682e_row3_col3\" class=\"data row3 col3\" >↓0;d¦--</td>\n",
       "      <td id=\"T_f682e_row3_col4\" class=\"data row3 col4\" >True</td>\n",
       "      <td id=\"T_f682e_row3_col5\" class=\"data row3 col5\" >True</td>\n",
       "    </tr>\n",
       "    <tr>\n",
       "      <td id=\"T_f682e_row4_col0\" class=\"data row4 col0\" >lisakoha</td>\n",
       "      <td id=\"T_f682e_row4_col1\" class=\"data row4 col1\" >lisakoht</td>\n",
       "      <td id=\"T_f682e_row4_col2\" class=\"data row4 col2\" >0.9634009003639221</td>\n",
       "      <td id=\"T_f682e_row4_col3\" class=\"data row4 col3\" >↓0;d¦-+t</td>\n",
       "      <td id=\"T_f682e_row4_col4\" class=\"data row4 col4\" >False</td>\n",
       "      <td id=\"T_f682e_row4_col5\" class=\"data row4 col5\" >True</td>\n",
       "    </tr>\n",
       "    <tr>\n",
       "      <td id=\"T_f682e_row5_col0\" class=\"data row5 col0\" >tulekust</td>\n",
       "      <td id=\"T_f682e_row5_col1\" class=\"data row5 col1\" >tulek</td>\n",
       "      <td id=\"T_f682e_row5_col2\" class=\"data row5 col2\" >0.9831607937812805</td>\n",
       "      <td id=\"T_f682e_row5_col3\" class=\"data row5 col3\" >↓0;d¦--</td>\n",
       "      <td id=\"T_f682e_row5_col4\" class=\"data row5 col4\" >False</td>\n",
       "      <td id=\"T_f682e_row5_col5\" class=\"data row5 col5\" >True</td>\n",
       "    </tr>\n",
       "    <tr>\n",
       "      <td id=\"T_f682e_row6_col0\" class=\"data row6 col0\" >mittetulekust</td>\n",
       "      <td id=\"T_f682e_row6_col1\" class=\"data row6 col1\" >mittetulek</td>\n",
       "      <td id=\"T_f682e_row6_col2\" class=\"data row6 col2\" >0.9926141500473022</td>\n",
       "      <td id=\"T_f682e_row6_col3\" class=\"data row6 col3\" >↓0;d¦-+n→--</td>\n",
       "      <td id=\"T_f682e_row6_col4\" class=\"data row6 col4\" >False</td>\n",
       "      <td id=\"T_f682e_row6_col5\" class=\"data row6 col5\" >True</td>\n",
       "    </tr>\n",
       "  </tbody>\n",
       "</table>\n"
      ],
      "text/plain": [
       "Layer(name='glilem', attributes=('lemma', 'score', 'label', 'vabamorf_overwritten', 'is_input_token'), spans=SL[Span('koha', [{'lemma': 'koht', 'score': 0.9546396732330322, 'label': '↓0;d¦-+t', 'vabamorf_overwritten': True, 'is_input_token': True}]),\n",
       "Span('on', [{'lemma': 'olema', 'score': 0.9999995231628418, 'label': '↓0;d¦-+l+e+m+a', 'vabamorf_overwritten': False, 'is_input_token': True}]),\n",
       "Span('seda', [{'lemma': 'see', 'score': 0.9980397820472717, 'label': '↓0;d¦--+e', 'vabamorf_overwritten': False, 'is_input_token': True}]),\n",
       "Span('sõltumata', [{'lemma': 'sõltuma', 'score': 0.9897437691688538, 'label': '↓0;d¦--', 'vabamorf_overwritten': True, 'is_input_token': True}]),\n",
       "Span('lisakoha', [{'lemma': 'lisakoht', 'score': 0.9634009003639221, 'label': '↓0;d¦-+t', 'vabamorf_overwritten': False, 'is_input_token': True}]),\n",
       "Span('tulekust', [{'lemma': 'tulek', 'score': 0.9831607937812805, 'label': '↓0;d¦--', 'vabamorf_overwritten': False, 'is_input_token': True}]),\n",
       "Span('mittetulekust', [{'lemma': 'mittetulek', 'score': 0.9926141500473022, 'label': '↓0;d¦-+n→--', 'vabamorf_overwritten': False, 'is_input_token': True}])])"
      ]
     },
     "execution_count": 5,
     "metadata": {},
     "output_type": "execute_result"
    }
   ],
   "source": [
    "text['glilem']"
   ]
  },
  {
   "cell_type": "code",
   "execution_count": 6,
   "id": "9501c183-53bb-4f7e-9833-4da991508ef5",
   "metadata": {},
   "outputs": [
    {
     "data": {
      "text/html": [
       "<script>\n",
       "var elements = document.getElementsByClassName(\"overlapping-span\")\n",
       "for (let i = 0; i < elements.length; i++){\n",
       "    elements.item(i).addEventListener(\"click\",function() {show_conflicting_spans(elements.item(i));})}\n",
       "\n",
       "function show_conflicting_spans(span_element) {\n",
       "    let spantable = document.createElement('div')\n",
       "    spantable.classList.add('tables')\n",
       "\n",
       "    // Prepare the contents of the span table\n",
       "    data = span_element.getAttribute(\"span_info\")\n",
       "    data = data.split(\",\")\n",
       "    var spancontent = '<table>'\n",
       "    for (let row of data) {\n",
       "        spancontent+='<tr><td>'\n",
       "        spancontent+=row\n",
       "        spancontent+='</td></tr>'\n",
       "    }\n",
       "    spancontent += '</table>'\n",
       "    spantable.innerHTML = spancontent\n",
       "    span_element.parentElement.appendChild(spantable)\n",
       "\n",
       "    // Increase the size of the cell so the tables would fit\n",
       "    spantable.parentElement.style.height = Math.max(Number(spantable.parentElement.style.height.substring(0,spantable.parentElement.style.height.length-2)),span_element.offsetTop+90)+ 'px'\n",
       "    // Position the table directly below the corresponding text\n",
       "    spantable.style.left = span_element.getBoundingClientRect().left-spantable.parentElement.parentElement.getBoundingClientRect().left + 'px'\n",
       "    spantable.style.top = span_element.getBoundingClientRect().top-spantable.parentElement.parentElement.getBoundingClientRect().top+20+ 'px'\n",
       "\n",
       "    // Remove the table when clicked on again\n",
       "    spantable.addEventListener('click', function () {\n",
       "        let element = this.parentElement\n",
       "        element.removeChild(this)\n",
       "    })\n",
       "}\n",
       "</script><style>\n",
       ".span {\n",
       "    background-color: yellow;\n",
       "}\n",
       "\n",
       ".overlapping-span {\n",
       "    background-color: red;\n",
       "}\n",
       "\n",
       ".spanline {\n",
       "    background-color: blue;\n",
       "    position: relative;\n",
       "    height: 3px;\n",
       "    margin-left: 0px;\n",
       "}\n",
       "\n",
       ".tables {\n",
       "    position: absolute;\n",
       "    width: fit-content;\n",
       "    width: -moz-fit-content;\n",
       "    border: 1px solid black;\n",
       "}\n",
       "\n",
       ".maintext{0} {\n",
       "    position: relative;\n",
       "}\n",
       "\n",
       ".tables tbody tr:nth-child(even) {\n",
       "    background-color: lightgray;\n",
       "}\n",
       "\n",
       ".tables tbody tr:nth-child(odd) {\n",
       "    background-color: beige;\n",
       "}\n",
       "\n",
       ".tables tbody tr:hover {\n",
       "    background-color: ivory;\n",
       "}\n",
       "</style>4. <span style=background:yellow; \">koha</span> tõenäsus <span style=background:yellow; \">on</span> täpselt 0, <span style=background:yellow; \">seda</span> <span style=background:yellow; \">sõltumata</span> <span style=background:yellow; \">lisakoha</span> <span style=background:yellow; \">tulekust</span> või <span style=background:yellow; \">mittetulekust</span>."
      ]
     },
     "metadata": {},
     "output_type": "display_data"
    }
   ],
   "source": [
    "text['glilem'].display()"
   ]
  },
  {
   "cell_type": "markdown",
   "id": "f6d4c720-27ad-4a01-9fa7-deeb8dc29d44",
   "metadata": {},
   "source": [
    "Note that by default, the output layer only contains words which `lemma` differs from the surface form (`text`). \n",
    "Layer attributes:\n",
    "* `score` -- probability of the given lemma (assigned by GliNER);\n",
    "* `label` -- how the lemma was derived from the surface form (for details about the encoding, see [Dorkin and Sirts (2024)](https://arxiv.org/abs/2412.20597), [Straka (2018)](https://aclanthology.org/K18-2020/));\n",
    "* `vabamorf_overwritten` -- whether this lemma overwrites ambiguous lemmas output by Vabamorf. In other words: whether Vabamorf's lemma was disambiguated or not. If `False`, then this lemma corresponds to the unambiguous lemma output by Vabamorf:\n",
    "* `is_input_token` -- whether this word/token corresponds to a word in the input `words` layer or not. Note that GliNER's default tokenization may differ from the tokenization in the input `words` layer, so this flag indicates whether the tokens in two layers match."
   ]
  },
  {
   "cell_type": "markdown",
   "id": "64dac3b1-aeae-43af-9fab-ebfa4b83a2ad",
   "metadata": {},
   "source": [
    "### Missing lemmas strategy\n",
    "\n",
    "GliLem does not produce a lemma for every token, and there are many words that also do not need to be changed during the lemmatization. \n",
    "However, sometimes GliLem model erroneously misses words which need to be lemmatized. \n",
    "Parameter `missing_lemmas_strategy` (string) tells `GliLemTagger` what to do in case a word does not obtain a lemma.\n",
    "Possible values:\n",
    "* `\"discard\"` (default) -- do no produce any spans for words with missing lemmas;\n",
    "* `\"none_values\"` -- add spans filled in with `None` values for words with missing lemmas;\n",
    "* `\"vabamorf_lemmas\"` -- add missing lemmas from underlying Vabamorf's lemmatizer. Note: the underlying Vabamorf's lemmatizer uses settings `compound=False`, `disambiguate=False`, `guess=True`, `slang_lex=False`, `propername=True`;"
   ]
  },
  {
   "cell_type": "code",
   "execution_count": 7,
   "id": "02a992b4-81fe-44f0-97c6-c0825f851421",
   "metadata": {},
   "outputs": [
    {
     "name": "stderr",
     "output_type": "stream",
     "text": [
      "config.json not found in C:\\Programmid\\Miniconda3\\envs\\py310_devel\\Lib\\site-packages\\estnltk\\estnltk_resources\\gliner\\vabamorf_disambiguator_hf_2024-09-26\n"
     ]
    },
    {
     "name": "stdout",
     "output_type": "stream",
     "text": [
      "WARNING:hub_mixin.py:511: config.json not found in C:\\Programmid\\Miniconda3\\envs\\py310_devel\\Lib\\site-packages\\estnltk\\estnltk_resources\\gliner\\vabamorf_disambiguator_hf_2024-09-26\n"
     ]
    }
   ],
   "source": [
    "# Initialize GliLem in a mode where missing lemmas will be obtained from Vabamorf\n",
    "glilem_tagger_2 = GliLemTagger(missing_lemmas_strategy=\"vabamorf_lemmas\")"
   ]
  },
  {
   "cell_type": "code",
   "execution_count": 8,
   "id": "3707158f-f4a5-416e-a29a-64ab2fd9cec9",
   "metadata": {},
   "outputs": [
    {
     "name": "stderr",
     "output_type": "stream",
     "text": [
      "Asking to truncate to max_length but no maximum length is provided and the model has no predefined maximum length. Default to no truncation.\n"
     ]
    },
    {
     "data": {
      "text/html": [
       "<table border=\"1\" class=\"dataframe\">\n",
       "  <thead>\n",
       "    <tr style=\"text-align: right;\">\n",
       "      <th>text</th>\n",
       "    </tr>\n",
       "  </thead>\n",
       "  <tbody>\n",
       "    <tr>\n",
       "      <td><div align = \"left\">Teod roomasid aeglaselt kõrtsu poole.</div></td>\n",
       "    </tr>\n",
       "  </tbody>\n",
       "</table>\n",
       "<table border=\"1\" class=\"dataframe\">\n",
       "  <thead>\n",
       "    <tr style=\"text-align: right;\">\n",
       "      <th>layer name</th>\n",
       "      <th>attributes</th>\n",
       "      <th>parent</th>\n",
       "      <th>enveloping</th>\n",
       "      <th>ambiguous</th>\n",
       "      <th>span count</th>\n",
       "    </tr>\n",
       "  </thead>\n",
       "  <tbody>\n",
       "    <tr>\n",
       "      <td>sentences</td>\n",
       "      <td></td>\n",
       "      <td>None</td>\n",
       "      <td>words</td>\n",
       "      <td>False</td>\n",
       "      <td>1</td>\n",
       "    </tr>\n",
       "    <tr>\n",
       "      <td>tokens</td>\n",
       "      <td></td>\n",
       "      <td>None</td>\n",
       "      <td>None</td>\n",
       "      <td>False</td>\n",
       "      <td>6</td>\n",
       "    </tr>\n",
       "    <tr>\n",
       "      <td>compound_tokens</td>\n",
       "      <td>type, normalized</td>\n",
       "      <td>None</td>\n",
       "      <td>tokens</td>\n",
       "      <td>False</td>\n",
       "      <td>0</td>\n",
       "    </tr>\n",
       "    <tr>\n",
       "      <td>words</td>\n",
       "      <td>normalized_form</td>\n",
       "      <td>None</td>\n",
       "      <td>None</td>\n",
       "      <td>True</td>\n",
       "      <td>6</td>\n",
       "    </tr>\n",
       "    <tr>\n",
       "      <td>glilem</td>\n",
       "      <td>lemma, score, label, vabamorf_overwritten, is_input_token</td>\n",
       "      <td>words</td>\n",
       "      <td>None</td>\n",
       "      <td>True</td>\n",
       "      <td>6</td>\n",
       "    </tr>\n",
       "  </tbody>\n",
       "</table>"
      ],
      "text/plain": [
       "Text(text='Teod roomasid aeglaselt kõrtsu poole.')"
      ]
     },
     "execution_count": 8,
     "metadata": {},
     "output_type": "execute_result"
    }
   ],
   "source": [
    " # Create example input text\n",
    "text = Text('Teod roomasid aeglaselt kõrtsu poole.')\n",
    "# Add required layers\n",
    "text.tag_layer( glilem_tagger.input_layers )\n",
    "# Tag with glilem\n",
    "glilem_tagger_2.tag(text)"
   ]
  },
  {
   "cell_type": "code",
   "execution_count": 9,
   "id": "62a548f1-be4a-4458-ab75-64522cbe2fc7",
   "metadata": {},
   "outputs": [
    {
     "data": {
      "text/html": [
       "<h4>Layer</h4>\n",
       "\n",
       "\n",
       "<table border=\"1\" class=\"dataframe\">\n",
       "  <thead>\n",
       "    <tr style=\"text-align: right;\">\n",
       "      <th>layer name</th>\n",
       "      <th>attributes</th>\n",
       "      <th>parent</th>\n",
       "      <th>enveloping</th>\n",
       "      <th>ambiguous</th>\n",
       "      <th>span count</th>\n",
       "    </tr>\n",
       "  </thead>\n",
       "  <tbody>\n",
       "    <tr>\n",
       "      <td>glilem</td>\n",
       "      <td>lemma, score, label, vabamorf_overwritten, is_input_token</td>\n",
       "      <td>words</td>\n",
       "      <td>None</td>\n",
       "      <td>True</td>\n",
       "      <td>6</td>\n",
       "    </tr>\n",
       "  </tbody>\n",
       "</table>\n",
       "<style type=\"text/css\">\n",
       "#T_89837_row2_col2, #T_89837_row2_col3, #T_89837_row3_col2, #T_89837_row3_col3, #T_89837_row5_col2, #T_89837_row5_col3, #T_89837_row6_col2, #T_89837_row6_col3, #T_89837_row7_col2, #T_89837_row7_col3 {\n",
       "  opacity: 20%;\n",
       "}\n",
       "</style>\n",
       "<table id=\"T_89837\">\n",
       "  <thead>\n",
       "    <tr>\n",
       "      <th id=\"T_89837_level0_col0\" class=\"col_heading level0 col0\" >text</th>\n",
       "      <th id=\"T_89837_level0_col1\" class=\"col_heading level0 col1\" >lemma</th>\n",
       "      <th id=\"T_89837_level0_col2\" class=\"col_heading level0 col2\" >score</th>\n",
       "      <th id=\"T_89837_level0_col3\" class=\"col_heading level0 col3\" >label</th>\n",
       "      <th id=\"T_89837_level0_col4\" class=\"col_heading level0 col4\" >vabamorf_overwritten</th>\n",
       "      <th id=\"T_89837_level0_col5\" class=\"col_heading level0 col5\" >is_input_token</th>\n",
       "    </tr>\n",
       "  </thead>\n",
       "  <tbody>\n",
       "    <tr>\n",
       "      <td id=\"T_89837_row0_col0\" class=\"data row0 col0\" >Teod</td>\n",
       "      <td id=\"T_89837_row0_col1\" class=\"data row0 col1\" >tegu</td>\n",
       "      <td id=\"T_89837_row0_col2\" class=\"data row0 col2\" >0.569809079170227</td>\n",
       "      <td id=\"T_89837_row0_col3\" class=\"data row0 col3\" >↓0;d¦--+g+u</td>\n",
       "      <td id=\"T_89837_row0_col4\" class=\"data row0 col4\" >True</td>\n",
       "      <td id=\"T_89837_row0_col5\" class=\"data row0 col5\" >True</td>\n",
       "    </tr>\n",
       "    <tr>\n",
       "      <td id=\"T_89837_row1_col0\" class=\"data row1 col0\" >roomasid</td>\n",
       "      <td id=\"T_89837_row1_col1\" class=\"data row1 col1\" >roomama</td>\n",
       "      <td id=\"T_89837_row1_col2\" class=\"data row1 col2\" >0.9996744394302368</td>\n",
       "      <td id=\"T_89837_row1_col3\" class=\"data row1 col3\" >↓0;d¦---+m+a</td>\n",
       "      <td id=\"T_89837_row1_col4\" class=\"data row1 col4\" >True</td>\n",
       "      <td id=\"T_89837_row1_col5\" class=\"data row1 col5\" >True</td>\n",
       "    </tr>\n",
       "    <tr>\n",
       "      <td id=\"T_89837_row2_col0\" class=\"data row2 col0\" >aeglaselt</td>\n",
       "      <td id=\"T_89837_row2_col1\" class=\"data row2 col1\" >aeglane</td>\n",
       "      <td id=\"T_89837_row2_col2\" class=\"data row2 col2\" >None</td>\n",
       "      <td id=\"T_89837_row2_col3\" class=\"data row2 col3\" >None</td>\n",
       "      <td id=\"T_89837_row2_col4\" class=\"data row2 col4\" >False</td>\n",
       "      <td id=\"T_89837_row2_col5\" class=\"data row2 col5\" >True</td>\n",
       "    </tr>\n",
       "    <tr>\n",
       "      <td id=\"T_89837_row3_col0\" class=\"data row3 col0\" ></td>\n",
       "      <td id=\"T_89837_row3_col1\" class=\"data row3 col1\" >aeglaselt</td>\n",
       "      <td id=\"T_89837_row3_col2\" class=\"data row3 col2\" >None</td>\n",
       "      <td id=\"T_89837_row3_col3\" class=\"data row3 col3\" >None</td>\n",
       "      <td id=\"T_89837_row3_col4\" class=\"data row3 col4\" >False</td>\n",
       "      <td id=\"T_89837_row3_col5\" class=\"data row3 col5\" >True</td>\n",
       "    </tr>\n",
       "    <tr>\n",
       "      <td id=\"T_89837_row4_col0\" class=\"data row4 col0\" >kõrtsu</td>\n",
       "      <td id=\"T_89837_row4_col1\" class=\"data row4 col1\" >kõrts</td>\n",
       "      <td id=\"T_89837_row4_col2\" class=\"data row4 col2\" >0.8469443917274475</td>\n",
       "      <td id=\"T_89837_row4_col3\" class=\"data row4 col3\" >↓0;d¦-</td>\n",
       "      <td id=\"T_89837_row4_col4\" class=\"data row4 col4\" >True</td>\n",
       "      <td id=\"T_89837_row4_col5\" class=\"data row4 col5\" >True</td>\n",
       "    </tr>\n",
       "    <tr>\n",
       "      <td id=\"T_89837_row5_col0\" class=\"data row5 col0\" >poole</td>\n",
       "      <td id=\"T_89837_row5_col1\" class=\"data row5 col1\" >pool</td>\n",
       "      <td id=\"T_89837_row5_col2\" class=\"data row5 col2\" >None</td>\n",
       "      <td id=\"T_89837_row5_col3\" class=\"data row5 col3\" >None</td>\n",
       "      <td id=\"T_89837_row5_col4\" class=\"data row5 col4\" >False</td>\n",
       "      <td id=\"T_89837_row5_col5\" class=\"data row5 col5\" >True</td>\n",
       "    </tr>\n",
       "    <tr>\n",
       "      <td id=\"T_89837_row6_col0\" class=\"data row6 col0\" ></td>\n",
       "      <td id=\"T_89837_row6_col1\" class=\"data row6 col1\" >poole</td>\n",
       "      <td id=\"T_89837_row6_col2\" class=\"data row6 col2\" >None</td>\n",
       "      <td id=\"T_89837_row6_col3\" class=\"data row6 col3\" >None</td>\n",
       "      <td id=\"T_89837_row6_col4\" class=\"data row6 col4\" >False</td>\n",
       "      <td id=\"T_89837_row6_col5\" class=\"data row6 col5\" >True</td>\n",
       "    </tr>\n",
       "    <tr>\n",
       "      <td id=\"T_89837_row7_col0\" class=\"data row7 col0\" >.</td>\n",
       "      <td id=\"T_89837_row7_col1\" class=\"data row7 col1\" >.</td>\n",
       "      <td id=\"T_89837_row7_col2\" class=\"data row7 col2\" >None</td>\n",
       "      <td id=\"T_89837_row7_col3\" class=\"data row7 col3\" >None</td>\n",
       "      <td id=\"T_89837_row7_col4\" class=\"data row7 col4\" >False</td>\n",
       "      <td id=\"T_89837_row7_col5\" class=\"data row7 col5\" >True</td>\n",
       "    </tr>\n",
       "  </tbody>\n",
       "</table>\n"
      ],
      "text/plain": [
       "Layer(name='glilem', attributes=('lemma', 'score', 'label', 'vabamorf_overwritten', 'is_input_token'), spans=SL[Span('Teod', [{'lemma': 'tegu', 'score': 0.569809079170227, 'label': '↓0;d¦--+g+u', 'vabamorf_overwritten': True, 'is_input_token': True}]),\n",
       "Span('roomasid', [{'lemma': 'roomama', 'score': 0.9996744394302368, 'label': '↓0;d¦---+m+a', 'vabamorf_overwritten': True, 'is_input_token': True}]),\n",
       "Span('aeglaselt', [{'lemma': 'aeglane', 'score': None, 'label': None, 'vabamorf_overwritten': False, 'is_input_token': True}, {'lemma': 'aeglaselt', 'score': None, 'label': None, 'vabamorf_overwritten': False, 'is_input_token': True}]),\n",
       "Span('kõrtsu', [{'lemma': 'kõrts', 'score': 0.8469443917274475, 'label': '↓0;d¦-', 'vabamorf_overwritten': True, 'is_input_token': True}]),\n",
       "Span('poole', [{'lemma': 'pool', 'score': None, 'label': None, 'vabamorf_overwritten': False, 'is_input_token': True}, {'lemma': 'poole', 'score': None, 'label': None, 'vabamorf_overwritten': False, 'is_input_token': True}]),\n",
       "Span('.', [{'lemma': '.', 'score': None, 'label': None, 'vabamorf_overwritten': False, 'is_input_token': True}])])"
      ]
     },
     "execution_count": 9,
     "metadata": {},
     "output_type": "execute_result"
    }
   ],
   "source": [
    "text['glilem']"
   ]
  },
  {
   "cell_type": "markdown",
   "id": "e272c23f-221a-4a9c-b89e-f83be643248c",
   "metadata": {},
   "source": [
    "In the example above, words _aeglaselt_ and _poole_ did not obtain any lemmatization suggestions by GliLem, so their lemmas were obtained from Vabamorf. Note that because the underlying Vabamorf's lemmatizer does not used disambiguation, ambiguous lemmatization will be obtained. "
   ]
  },
  {
   "cell_type": "markdown",
   "id": "39734187-9e4a-4be6-9f5b-1b9425ec1120",
   "metadata": {},
   "source": [
    "### Using as a disambiguator\n",
    "\n",
    "`GliLemTagger` can also be used as a disambiguator to resolve **lemma ambiguities** of an existing morphological analysis layer that uses Vabamorf's tagset. \n",
    "For this, the flag `disambiguate` needs to be set to `True`, and the `output_layer` needs to be changed to the name of the morph analysis layer, which will be disambiguated.\n",
    "\n",
    "Example"
   ]
  },
  {
   "cell_type": "code",
   "execution_count": 10,
   "id": "a75ec5ec-1d29-4420-a0c0-3f4bf56ae9df",
   "metadata": {},
   "outputs": [],
   "source": [
    "from estnltk import Text\n",
    "from estnltk_neural.taggers import GliLemTagger"
   ]
  },
  {
   "cell_type": "code",
   "execution_count": 11,
   "id": "81c2d305-e302-4950-92d8-1bf4bb082cf1",
   "metadata": {},
   "outputs": [
    {
     "name": "stderr",
     "output_type": "stream",
     "text": [
      "config.json not found in C:\\Programmid\\Miniconda3\\envs\\py310_devel\\Lib\\site-packages\\estnltk\\estnltk_resources\\gliner\\vabamorf_disambiguator_hf_2024-09-26\n"
     ]
    },
    {
     "name": "stdout",
     "output_type": "stream",
     "text": [
      "WARNING:hub_mixin.py:511: config.json not found in C:\\Programmid\\Miniconda3\\envs\\py310_devel\\Lib\\site-packages\\estnltk\\estnltk_resources\\gliner\\vabamorf_disambiguator_hf_2024-09-26\n"
     ]
    }
   ],
   "source": [
    "# initialize GliLemTagger as a disambiguator\n",
    "glilem_disambiguator = GliLemTagger(output_layer='morph_analysis', disambiguate=True)"
   ]
  },
  {
   "cell_type": "code",
   "execution_count": 12,
   "id": "0d0bee08-93d6-4c97-9375-f875784d18c1",
   "metadata": {},
   "outputs": [
    {
     "data": {
      "text/plain": [
       "('words', 'compound_tokens', 'sentences', 'morph_analysis')"
      ]
     },
     "execution_count": 12,
     "metadata": {},
     "output_type": "execute_result"
    }
   ],
   "source": [
    "glilem_disambiguator.input_layers"
   ]
  },
  {
   "cell_type": "code",
   "execution_count": 13,
   "id": "57bf73eb-acd3-4cd0-a653-2f5fe20825b8",
   "metadata": {},
   "outputs": [
    {
     "data": {
      "text/html": [
       "<h4>Layer</h4>\n",
       "\n",
       "\n",
       "<table border=\"1\" class=\"dataframe\">\n",
       "  <thead>\n",
       "    <tr style=\"text-align: right;\">\n",
       "      <th>layer name</th>\n",
       "      <th>attributes</th>\n",
       "      <th>parent</th>\n",
       "      <th>enveloping</th>\n",
       "      <th>ambiguous</th>\n",
       "      <th>span count</th>\n",
       "    </tr>\n",
       "  </thead>\n",
       "  <tbody>\n",
       "    <tr>\n",
       "      <td>morph_analysis</td>\n",
       "      <td>normalized_text, lemma, root, root_tokens, ending, clitic, form, partofspeech</td>\n",
       "      <td>words</td>\n",
       "      <td>None</td>\n",
       "      <td>True</td>\n",
       "      <td>4</td>\n",
       "    </tr>\n",
       "  </tbody>\n",
       "</table>\n",
       "<style type=\"text/css\">\n",
       "</style>\n",
       "<table id=\"T_6a0d5\">\n",
       "  <thead>\n",
       "    <tr>\n",
       "      <th id=\"T_6a0d5_level0_col0\" class=\"col_heading level0 col0\" >text</th>\n",
       "      <th id=\"T_6a0d5_level0_col1\" class=\"col_heading level0 col1\" >normalized_text</th>\n",
       "      <th id=\"T_6a0d5_level0_col2\" class=\"col_heading level0 col2\" >lemma</th>\n",
       "      <th id=\"T_6a0d5_level0_col3\" class=\"col_heading level0 col3\" >root</th>\n",
       "      <th id=\"T_6a0d5_level0_col4\" class=\"col_heading level0 col4\" >root_tokens</th>\n",
       "      <th id=\"T_6a0d5_level0_col5\" class=\"col_heading level0 col5\" >ending</th>\n",
       "      <th id=\"T_6a0d5_level0_col6\" class=\"col_heading level0 col6\" >clitic</th>\n",
       "      <th id=\"T_6a0d5_level0_col7\" class=\"col_heading level0 col7\" >form</th>\n",
       "      <th id=\"T_6a0d5_level0_col8\" class=\"col_heading level0 col8\" >partofspeech</th>\n",
       "    </tr>\n",
       "  </thead>\n",
       "  <tbody>\n",
       "    <tr>\n",
       "      <td id=\"T_6a0d5_row0_col0\" class=\"data row0 col0\" >Mees</td>\n",
       "      <td id=\"T_6a0d5_row0_col1\" class=\"data row0 col1\" >Mees</td>\n",
       "      <td id=\"T_6a0d5_row0_col2\" class=\"data row0 col2\" >Mees</td>\n",
       "      <td id=\"T_6a0d5_row0_col3\" class=\"data row0 col3\" >Mees</td>\n",
       "      <td id=\"T_6a0d5_row0_col4\" class=\"data row0 col4\" >['Mees']</td>\n",
       "      <td id=\"T_6a0d5_row0_col5\" class=\"data row0 col5\" >0</td>\n",
       "      <td id=\"T_6a0d5_row0_col6\" class=\"data row0 col6\" ></td>\n",
       "      <td id=\"T_6a0d5_row0_col7\" class=\"data row0 col7\" >sg n</td>\n",
       "      <td id=\"T_6a0d5_row0_col8\" class=\"data row0 col8\" >H</td>\n",
       "    </tr>\n",
       "    <tr>\n",
       "      <td id=\"T_6a0d5_row1_col0\" class=\"data row1 col0\" ></td>\n",
       "      <td id=\"T_6a0d5_row1_col1\" class=\"data row1 col1\" >Mees</td>\n",
       "      <td id=\"T_6a0d5_row1_col2\" class=\"data row1 col2\" >Mee</td>\n",
       "      <td id=\"T_6a0d5_row1_col3\" class=\"data row1 col3\" >Mee</td>\n",
       "      <td id=\"T_6a0d5_row1_col4\" class=\"data row1 col4\" >['Mee']</td>\n",
       "      <td id=\"T_6a0d5_row1_col5\" class=\"data row1 col5\" >s</td>\n",
       "      <td id=\"T_6a0d5_row1_col6\" class=\"data row1 col6\" ></td>\n",
       "      <td id=\"T_6a0d5_row1_col7\" class=\"data row1 col7\" >sg in</td>\n",
       "      <td id=\"T_6a0d5_row1_col8\" class=\"data row1 col8\" >H</td>\n",
       "    </tr>\n",
       "    <tr>\n",
       "      <td id=\"T_6a0d5_row2_col0\" class=\"data row2 col0\" ></td>\n",
       "      <td id=\"T_6a0d5_row2_col1\" class=\"data row2 col1\" >Mees</td>\n",
       "      <td id=\"T_6a0d5_row2_col2\" class=\"data row2 col2\" >Mesi</td>\n",
       "      <td id=\"T_6a0d5_row2_col3\" class=\"data row2 col3\" >Mesi</td>\n",
       "      <td id=\"T_6a0d5_row2_col4\" class=\"data row2 col4\" >['Mesi']</td>\n",
       "      <td id=\"T_6a0d5_row2_col5\" class=\"data row2 col5\" >s</td>\n",
       "      <td id=\"T_6a0d5_row2_col6\" class=\"data row2 col6\" ></td>\n",
       "      <td id=\"T_6a0d5_row2_col7\" class=\"data row2 col7\" >sg in</td>\n",
       "      <td id=\"T_6a0d5_row2_col8\" class=\"data row2 col8\" >H</td>\n",
       "    </tr>\n",
       "    <tr>\n",
       "      <td id=\"T_6a0d5_row3_col0\" class=\"data row3 col0\" ></td>\n",
       "      <td id=\"T_6a0d5_row3_col1\" class=\"data row3 col1\" >Mees</td>\n",
       "      <td id=\"T_6a0d5_row3_col2\" class=\"data row3 col2\" >mees</td>\n",
       "      <td id=\"T_6a0d5_row3_col3\" class=\"data row3 col3\" >mees</td>\n",
       "      <td id=\"T_6a0d5_row3_col4\" class=\"data row3 col4\" >['mees']</td>\n",
       "      <td id=\"T_6a0d5_row3_col5\" class=\"data row3 col5\" >0</td>\n",
       "      <td id=\"T_6a0d5_row3_col6\" class=\"data row3 col6\" ></td>\n",
       "      <td id=\"T_6a0d5_row3_col7\" class=\"data row3 col7\" >sg n</td>\n",
       "      <td id=\"T_6a0d5_row3_col8\" class=\"data row3 col8\" >S</td>\n",
       "    </tr>\n",
       "    <tr>\n",
       "      <td id=\"T_6a0d5_row4_col0\" class=\"data row4 col0\" ></td>\n",
       "      <td id=\"T_6a0d5_row4_col1\" class=\"data row4 col1\" >Mees</td>\n",
       "      <td id=\"T_6a0d5_row4_col2\" class=\"data row4 col2\" >mesi</td>\n",
       "      <td id=\"T_6a0d5_row4_col3\" class=\"data row4 col3\" >mesi</td>\n",
       "      <td id=\"T_6a0d5_row4_col4\" class=\"data row4 col4\" >['mesi']</td>\n",
       "      <td id=\"T_6a0d5_row4_col5\" class=\"data row4 col5\" >s</td>\n",
       "      <td id=\"T_6a0d5_row4_col6\" class=\"data row4 col6\" ></td>\n",
       "      <td id=\"T_6a0d5_row4_col7\" class=\"data row4 col7\" >sg in</td>\n",
       "      <td id=\"T_6a0d5_row4_col8\" class=\"data row4 col8\" >S</td>\n",
       "    </tr>\n",
       "    <tr>\n",
       "      <td id=\"T_6a0d5_row5_col0\" class=\"data row5 col0\" >peeti</td>\n",
       "      <td id=\"T_6a0d5_row5_col1\" class=\"data row5 col1\" >peeti</td>\n",
       "      <td id=\"T_6a0d5_row5_col2\" class=\"data row5 col2\" >peet</td>\n",
       "      <td id=\"T_6a0d5_row5_col3\" class=\"data row5 col3\" >peet</td>\n",
       "      <td id=\"T_6a0d5_row5_col4\" class=\"data row5 col4\" >['peet']</td>\n",
       "      <td id=\"T_6a0d5_row5_col5\" class=\"data row5 col5\" >0</td>\n",
       "      <td id=\"T_6a0d5_row5_col6\" class=\"data row5 col6\" ></td>\n",
       "      <td id=\"T_6a0d5_row5_col7\" class=\"data row5 col7\" >adt</td>\n",
       "      <td id=\"T_6a0d5_row5_col8\" class=\"data row5 col8\" >S</td>\n",
       "    </tr>\n",
       "    <tr>\n",
       "      <td id=\"T_6a0d5_row6_col0\" class=\"data row6 col0\" ></td>\n",
       "      <td id=\"T_6a0d5_row6_col1\" class=\"data row6 col1\" >peeti</td>\n",
       "      <td id=\"T_6a0d5_row6_col2\" class=\"data row6 col2\" >pidama</td>\n",
       "      <td id=\"T_6a0d5_row6_col3\" class=\"data row6 col3\" >pida</td>\n",
       "      <td id=\"T_6a0d5_row6_col4\" class=\"data row6 col4\" >['pida']</td>\n",
       "      <td id=\"T_6a0d5_row6_col5\" class=\"data row6 col5\" >ti</td>\n",
       "      <td id=\"T_6a0d5_row6_col6\" class=\"data row6 col6\" ></td>\n",
       "      <td id=\"T_6a0d5_row6_col7\" class=\"data row6 col7\" >ti</td>\n",
       "      <td id=\"T_6a0d5_row6_col8\" class=\"data row6 col8\" >V</td>\n",
       "    </tr>\n",
       "    <tr>\n",
       "      <td id=\"T_6a0d5_row7_col0\" class=\"data row7 col0\" ></td>\n",
       "      <td id=\"T_6a0d5_row7_col1\" class=\"data row7 col1\" >peeti</td>\n",
       "      <td id=\"T_6a0d5_row7_col2\" class=\"data row7 col2\" >peet</td>\n",
       "      <td id=\"T_6a0d5_row7_col3\" class=\"data row7 col3\" >peet</td>\n",
       "      <td id=\"T_6a0d5_row7_col4\" class=\"data row7 col4\" >['peet']</td>\n",
       "      <td id=\"T_6a0d5_row7_col5\" class=\"data row7 col5\" >0</td>\n",
       "      <td id=\"T_6a0d5_row7_col6\" class=\"data row7 col6\" ></td>\n",
       "      <td id=\"T_6a0d5_row7_col7\" class=\"data row7 col7\" >sg p</td>\n",
       "      <td id=\"T_6a0d5_row7_col8\" class=\"data row7 col8\" >S</td>\n",
       "    </tr>\n",
       "    <tr>\n",
       "      <td id=\"T_6a0d5_row8_col0\" class=\"data row8 col0\" >kinni</td>\n",
       "      <td id=\"T_6a0d5_row8_col1\" class=\"data row8 col1\" >kinni</td>\n",
       "      <td id=\"T_6a0d5_row8_col2\" class=\"data row8 col2\" >kinni</td>\n",
       "      <td id=\"T_6a0d5_row8_col3\" class=\"data row8 col3\" >kinni</td>\n",
       "      <td id=\"T_6a0d5_row8_col4\" class=\"data row8 col4\" >['kinni']</td>\n",
       "      <td id=\"T_6a0d5_row8_col5\" class=\"data row8 col5\" >0</td>\n",
       "      <td id=\"T_6a0d5_row8_col6\" class=\"data row8 col6\" ></td>\n",
       "      <td id=\"T_6a0d5_row8_col7\" class=\"data row8 col7\" ></td>\n",
       "      <td id=\"T_6a0d5_row8_col8\" class=\"data row8 col8\" >D</td>\n",
       "    </tr>\n",
       "    <tr>\n",
       "      <td id=\"T_6a0d5_row9_col0\" class=\"data row9 col0\" >.</td>\n",
       "      <td id=\"T_6a0d5_row9_col1\" class=\"data row9 col1\" >.</td>\n",
       "      <td id=\"T_6a0d5_row9_col2\" class=\"data row9 col2\" >.</td>\n",
       "      <td id=\"T_6a0d5_row9_col3\" class=\"data row9 col3\" >.</td>\n",
       "      <td id=\"T_6a0d5_row9_col4\" class=\"data row9 col4\" >['.']</td>\n",
       "      <td id=\"T_6a0d5_row9_col5\" class=\"data row9 col5\" ></td>\n",
       "      <td id=\"T_6a0d5_row9_col6\" class=\"data row9 col6\" ></td>\n",
       "      <td id=\"T_6a0d5_row9_col7\" class=\"data row9 col7\" ></td>\n",
       "      <td id=\"T_6a0d5_row9_col8\" class=\"data row9 col8\" >Z</td>\n",
       "    </tr>\n",
       "  </tbody>\n",
       "</table>\n"
      ],
      "text/plain": [
       "Layer(name='morph_analysis', attributes=('normalized_text', 'lemma', 'root', 'root_tokens', 'ending', 'clitic', 'form', 'partofspeech'), spans=SL[Span('Mees', [{'normalized_text': 'Mees', 'lemma': 'Mees', 'root': 'Mees', 'root_tokens': ['Mees'], 'ending': '0', 'clitic': '', 'form': 'sg n', 'partofspeech': 'H'}, {'normalized_text': 'Mees', 'lemma': 'Mee', 'root': 'Mee', 'root_tokens': ['Mee'], 'ending': 's', 'clitic': '', 'form': 'sg in', 'partofspeech': 'H'}, {'normalized_text': 'Mees', 'lemma': 'Mesi', 'root': 'Mesi', 'root_tokens': ['Mesi'], 'ending': 's', 'clitic': '', 'form': 'sg in', 'partofspeech': 'H'}, {'normalized_text': 'Mees', 'lemma': 'mees', 'root': 'mees', 'root_tokens': ['mees'], 'ending': '0', 'clitic': '', 'form': 'sg n', 'partofspeech': 'S'}, {'normalized_text': 'Mees', 'lemma': 'mesi', 'root': 'mesi', 'root_tokens': ['mesi'], 'ending': 's', 'clitic': '', 'form': 'sg in', 'partofspeech': 'S'}]),\n",
       "Span('peeti', [{'normalized_text': 'peeti', 'lemma': 'peet', 'root': 'peet', 'root_tokens': ['peet'], 'ending': '0', 'clitic': '', 'form': 'adt', 'partofspeech': 'S'}, {'normalized_text': 'peeti', 'lemma': 'pidama', 'root': 'pida', 'root_tokens': ['pida'], 'ending': 'ti', 'clitic': '', 'form': 'ti', 'partofspeech': 'V'}, {'normalized_text': 'peeti', 'lemma': 'peet', 'root': 'peet', 'root_tokens': ['peet'], 'ending': '0', 'clitic': '', 'form': 'sg p', 'partofspeech': 'S'}]),\n",
       "Span('kinni', [{'normalized_text': 'kinni', 'lemma': 'kinni', 'root': 'kinni', 'root_tokens': ['kinni'], 'ending': '0', 'clitic': '', 'form': '', 'partofspeech': 'D'}]),\n",
       "Span('.', [{'normalized_text': '.', 'lemma': '.', 'root': '.', 'root_tokens': ['.'], 'ending': '', 'clitic': '', 'form': '', 'partofspeech': 'Z'}])])"
      ]
     },
     "execution_count": 13,
     "metadata": {},
     "output_type": "execute_result"
    }
   ],
   "source": [
    "# Use Vabamorf's analyzer to create an ambiguous morph analysis layer\n",
    "from estnltk.taggers import VabamorfAnalyzer\n",
    "vm_analyzer = VabamorfAnalyzer()\n",
    "text = Text(\"Mees peeti kinni.\")\n",
    "text.tag_layer( vm_analyzer.input_layers )\n",
    "vm_analyzer.tag(text)\n",
    "text['morph_analysis']"
   ]
  },
  {
   "cell_type": "code",
   "execution_count": 14,
   "id": "0f38b40d-47b9-4eb7-9bd4-2c821f3b4883",
   "metadata": {},
   "outputs": [
    {
     "name": "stderr",
     "output_type": "stream",
     "text": [
      "Asking to truncate to max_length but no maximum length is provided and the model has no predefined maximum length. Default to no truncation.\n"
     ]
    },
    {
     "data": {
      "text/html": [
       "<h4>Layer</h4>\n",
       "\n",
       "\n",
       "<table border=\"1\" class=\"dataframe\">\n",
       "  <thead>\n",
       "    <tr style=\"text-align: right;\">\n",
       "      <th>layer name</th>\n",
       "      <th>attributes</th>\n",
       "      <th>parent</th>\n",
       "      <th>enveloping</th>\n",
       "      <th>ambiguous</th>\n",
       "      <th>span count</th>\n",
       "    </tr>\n",
       "  </thead>\n",
       "  <tbody>\n",
       "    <tr>\n",
       "      <td>morph_analysis</td>\n",
       "      <td>normalized_text, lemma, root, root_tokens, ending, clitic, form, partofspeech</td>\n",
       "      <td>words</td>\n",
       "      <td>None</td>\n",
       "      <td>True</td>\n",
       "      <td>4</td>\n",
       "    </tr>\n",
       "  </tbody>\n",
       "</table>\n",
       "<style type=\"text/css\">\n",
       "</style>\n",
       "<table id=\"T_7c1ac\">\n",
       "  <thead>\n",
       "    <tr>\n",
       "      <th id=\"T_7c1ac_level0_col0\" class=\"col_heading level0 col0\" >text</th>\n",
       "      <th id=\"T_7c1ac_level0_col1\" class=\"col_heading level0 col1\" >normalized_text</th>\n",
       "      <th id=\"T_7c1ac_level0_col2\" class=\"col_heading level0 col2\" >lemma</th>\n",
       "      <th id=\"T_7c1ac_level0_col3\" class=\"col_heading level0 col3\" >root</th>\n",
       "      <th id=\"T_7c1ac_level0_col4\" class=\"col_heading level0 col4\" >root_tokens</th>\n",
       "      <th id=\"T_7c1ac_level0_col5\" class=\"col_heading level0 col5\" >ending</th>\n",
       "      <th id=\"T_7c1ac_level0_col6\" class=\"col_heading level0 col6\" >clitic</th>\n",
       "      <th id=\"T_7c1ac_level0_col7\" class=\"col_heading level0 col7\" >form</th>\n",
       "      <th id=\"T_7c1ac_level0_col8\" class=\"col_heading level0 col8\" >partofspeech</th>\n",
       "    </tr>\n",
       "  </thead>\n",
       "  <tbody>\n",
       "    <tr>\n",
       "      <td id=\"T_7c1ac_row0_col0\" class=\"data row0 col0\" >Mees</td>\n",
       "      <td id=\"T_7c1ac_row0_col1\" class=\"data row0 col1\" >Mees</td>\n",
       "      <td id=\"T_7c1ac_row0_col2\" class=\"data row0 col2\" >mees</td>\n",
       "      <td id=\"T_7c1ac_row0_col3\" class=\"data row0 col3\" >mees</td>\n",
       "      <td id=\"T_7c1ac_row0_col4\" class=\"data row0 col4\" >['mees']</td>\n",
       "      <td id=\"T_7c1ac_row0_col5\" class=\"data row0 col5\" >0</td>\n",
       "      <td id=\"T_7c1ac_row0_col6\" class=\"data row0 col6\" ></td>\n",
       "      <td id=\"T_7c1ac_row0_col7\" class=\"data row0 col7\" >sg n</td>\n",
       "      <td id=\"T_7c1ac_row0_col8\" class=\"data row0 col8\" >S</td>\n",
       "    </tr>\n",
       "    <tr>\n",
       "      <td id=\"T_7c1ac_row1_col0\" class=\"data row1 col0\" >peeti</td>\n",
       "      <td id=\"T_7c1ac_row1_col1\" class=\"data row1 col1\" >peeti</td>\n",
       "      <td id=\"T_7c1ac_row1_col2\" class=\"data row1 col2\" >pidama</td>\n",
       "      <td id=\"T_7c1ac_row1_col3\" class=\"data row1 col3\" >pida</td>\n",
       "      <td id=\"T_7c1ac_row1_col4\" class=\"data row1 col4\" >['pida']</td>\n",
       "      <td id=\"T_7c1ac_row1_col5\" class=\"data row1 col5\" >ti</td>\n",
       "      <td id=\"T_7c1ac_row1_col6\" class=\"data row1 col6\" ></td>\n",
       "      <td id=\"T_7c1ac_row1_col7\" class=\"data row1 col7\" >ti</td>\n",
       "      <td id=\"T_7c1ac_row1_col8\" class=\"data row1 col8\" >V</td>\n",
       "    </tr>\n",
       "    <tr>\n",
       "      <td id=\"T_7c1ac_row2_col0\" class=\"data row2 col0\" >kinni</td>\n",
       "      <td id=\"T_7c1ac_row2_col1\" class=\"data row2 col1\" >kinni</td>\n",
       "      <td id=\"T_7c1ac_row2_col2\" class=\"data row2 col2\" >kinni</td>\n",
       "      <td id=\"T_7c1ac_row2_col3\" class=\"data row2 col3\" >kinni</td>\n",
       "      <td id=\"T_7c1ac_row2_col4\" class=\"data row2 col4\" >['kinni']</td>\n",
       "      <td id=\"T_7c1ac_row2_col5\" class=\"data row2 col5\" >0</td>\n",
       "      <td id=\"T_7c1ac_row2_col6\" class=\"data row2 col6\" ></td>\n",
       "      <td id=\"T_7c1ac_row2_col7\" class=\"data row2 col7\" ></td>\n",
       "      <td id=\"T_7c1ac_row2_col8\" class=\"data row2 col8\" >D</td>\n",
       "    </tr>\n",
       "    <tr>\n",
       "      <td id=\"T_7c1ac_row3_col0\" class=\"data row3 col0\" >.</td>\n",
       "      <td id=\"T_7c1ac_row3_col1\" class=\"data row3 col1\" >.</td>\n",
       "      <td id=\"T_7c1ac_row3_col2\" class=\"data row3 col2\" >.</td>\n",
       "      <td id=\"T_7c1ac_row3_col3\" class=\"data row3 col3\" >.</td>\n",
       "      <td id=\"T_7c1ac_row3_col4\" class=\"data row3 col4\" >['.']</td>\n",
       "      <td id=\"T_7c1ac_row3_col5\" class=\"data row3 col5\" ></td>\n",
       "      <td id=\"T_7c1ac_row3_col6\" class=\"data row3 col6\" ></td>\n",
       "      <td id=\"T_7c1ac_row3_col7\" class=\"data row3 col7\" ></td>\n",
       "      <td id=\"T_7c1ac_row3_col8\" class=\"data row3 col8\" >Z</td>\n",
       "    </tr>\n",
       "  </tbody>\n",
       "</table>\n"
      ],
      "text/plain": [
       "Layer(name='morph_analysis', attributes=('normalized_text', 'lemma', 'root', 'root_tokens', 'ending', 'clitic', 'form', 'partofspeech'), spans=SL[Span('Mees', [{'normalized_text': 'Mees', 'lemma': 'mees', 'root': 'mees', 'root_tokens': ['mees'], 'ending': '0', 'clitic': '', 'form': 'sg n', 'partofspeech': 'S'}]),\n",
       "Span('peeti', [{'normalized_text': 'peeti', 'lemma': 'pidama', 'root': 'pida', 'root_tokens': ['pida'], 'ending': 'ti', 'clitic': '', 'form': 'ti', 'partofspeech': 'V'}]),\n",
       "Span('kinni', [{'normalized_text': 'kinni', 'lemma': 'kinni', 'root': 'kinni', 'root_tokens': ['kinni'], 'ending': '0', 'clitic': '', 'form': '', 'partofspeech': 'D'}]),\n",
       "Span('.', [{'normalized_text': '.', 'lemma': '.', 'root': '.', 'root_tokens': ['.'], 'ending': '', 'clitic': '', 'form': '', 'partofspeech': 'Z'}])])"
      ]
     },
     "execution_count": 14,
     "metadata": {},
     "output_type": "execute_result"
    }
   ],
   "source": [
    "# Use GliLemTagger to disambiguate the layer\n",
    "glilem_disambiguator.retag( text )\n",
    "text['morph_analysis']"
   ]
  },
  {
   "cell_type": "markdown",
   "id": "8754b860-1906-4651-a60a-25582ca32de6",
   "metadata": {},
   "source": [
    "As for the limitation, this disambiguator does not resolve partofspeech and form ambiguities ( such as ambiguity of the word _'üks'_ between pronoun and number interpretations, and ambiguity of the word _'kõne'_ between nominative and genitive interpretations )."
   ]
  }
 ],
 "metadata": {
  "kernelspec": {
   "display_name": "Python 3 (ipykernel)",
   "language": "python",
   "name": "python3"
  },
  "language_info": {
   "codemirror_mode": {
    "name": "ipython",
    "version": 3
   },
   "file_extension": ".py",
   "mimetype": "text/x-python",
   "name": "python",
   "nbconvert_exporter": "python",
   "pygments_lexer": "ipython3",
   "version": "3.10.13"
  }
 },
 "nbformat": 4,
 "nbformat_minor": 5
}
