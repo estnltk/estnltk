{
 "cells": [
  {
   "cell_type": "markdown",
   "metadata": {},
   "source": [
    "## <span style=\"color:purple\">Compound word detection</span>\n",
    "\n",
    "EstNLTK provides `CompoundWordTagger`, which annotates linguistic compound word boundaries on words. \n",
    "For instance, word `'Kaubahoovi'` can be split into subwords `['Kauba', 'hoovi']`, and `'rehepeksumasina'` into subwords `['rehe', 'peksu', 'masina']`. \n",
    "`CompoundWordTagger` uses on Vabamorf's stem-based morphological analysis for finding compound word boundaries."
   ]
  },
  {
   "cell_type": "markdown",
   "metadata": {},
   "source": [
    "An example:"
   ]
  },
  {
   "cell_type": "code",
   "execution_count": 1,
   "metadata": {},
   "outputs": [
    {
     "data": {
      "text/html": [
       "<h4>Layer</h4>\n",
       "\n",
       "\n",
       "<table border=\"1\" class=\"dataframe\">\n",
       "  <thead>\n",
       "    <tr style=\"text-align: right;\">\n",
       "      <th>layer name</th>\n",
       "      <th>attributes</th>\n",
       "      <th>parent</th>\n",
       "      <th>enveloping</th>\n",
       "      <th>ambiguous</th>\n",
       "      <th>span count</th>\n",
       "    </tr>\n",
       "  </thead>\n",
       "  <tbody>\n",
       "    <tr>\n",
       "      <td>compound_words</td>\n",
       "      <td>normalized_text, subwords</td>\n",
       "      <td>words</td>\n",
       "      <td>None</td>\n",
       "      <td>True</td>\n",
       "      <td>11</td>\n",
       "    </tr>\n",
       "  </tbody>\n",
       "</table>\n",
       "<style type=\"text/css\">\n",
       "</style>\n",
       "<table id=\"T_a9b5c\">\n",
       "  <thead>\n",
       "    <tr>\n",
       "      <th id=\"T_a9b5c_level0_col0\" class=\"col_heading level0 col0\" >text</th>\n",
       "      <th id=\"T_a9b5c_level0_col1\" class=\"col_heading level0 col1\" >normalized_text</th>\n",
       "      <th id=\"T_a9b5c_level0_col2\" class=\"col_heading level0 col2\" >subwords</th>\n",
       "    </tr>\n",
       "  </thead>\n",
       "  <tbody>\n",
       "    <tr>\n",
       "      <td id=\"T_a9b5c_row0_col0\" class=\"data row0 col0\" >Kaubahoovi</td>\n",
       "      <td id=\"T_a9b5c_row0_col1\" class=\"data row0 col1\" >Kaubahoovi</td>\n",
       "      <td id=\"T_a9b5c_row0_col2\" class=\"data row0 col2\" >['Kauba', 'hoovi']</td>\n",
       "    </tr>\n",
       "    <tr>\n",
       "      <td id=\"T_a9b5c_row1_col0\" class=\"data row1 col0\" >edelanurgas</td>\n",
       "      <td id=\"T_a9b5c_row1_col1\" class=\"data row1 col1\" >edelanurgas</td>\n",
       "      <td id=\"T_a9b5c_row1_col2\" class=\"data row1 col2\" >['edela', 'nurgas']</td>\n",
       "    </tr>\n",
       "    <tr>\n",
       "      <td id=\"T_a9b5c_row2_col0\" class=\"data row2 col0\" >,</td>\n",
       "      <td id=\"T_a9b5c_row2_col1\" class=\"data row2 col1\" >,</td>\n",
       "      <td id=\"T_a9b5c_row2_col2\" class=\"data row2 col2\" >[',']</td>\n",
       "    </tr>\n",
       "    <tr>\n",
       "      <td id=\"T_a9b5c_row3_col0\" class=\"data row3 col0\" >rehepeksumasina</td>\n",
       "      <td id=\"T_a9b5c_row3_col1\" class=\"data row3 col1\" >rehepeksumasina</td>\n",
       "      <td id=\"T_a9b5c_row3_col2\" class=\"data row3 col2\" >['rehe', 'peksu', 'masina']</td>\n",
       "    </tr>\n",
       "    <tr>\n",
       "      <td id=\"T_a9b5c_row4_col0\" class=\"data row4 col0\" >tagaluugi</td>\n",
       "      <td id=\"T_a9b5c_row4_col1\" class=\"data row4 col1\" >tagaluugi</td>\n",
       "      <td id=\"T_a9b5c_row4_col2\" class=\"data row4 col2\" >['taga', 'luugi']</td>\n",
       "    </tr>\n",
       "    <tr>\n",
       "      <td id=\"T_a9b5c_row5_col0\" class=\"data row5 col0\" >kõrval</td>\n",
       "      <td id=\"T_a9b5c_row5_col1\" class=\"data row5 col1\" >kõrval</td>\n",
       "      <td id=\"T_a9b5c_row5_col2\" class=\"data row5 col2\" >['kõrval']</td>\n",
       "    </tr>\n",
       "    <tr>\n",
       "      <td id=\"T_a9b5c_row6_col0\" class=\"data row6 col0\" >.</td>\n",
       "      <td id=\"T_a9b5c_row6_col1\" class=\"data row6 col1\" >.</td>\n",
       "      <td id=\"T_a9b5c_row6_col2\" class=\"data row6 col2\" >['.']</td>\n",
       "    </tr>\n",
       "    <tr>\n",
       "      <td id=\"T_a9b5c_row7_col0\" class=\"data row7 col0\" >Seal</td>\n",
       "      <td id=\"T_a9b5c_row7_col1\" class=\"data row7 col1\" >Seal</td>\n",
       "      <td id=\"T_a9b5c_row7_col2\" class=\"data row7 col2\" >['Seal']</td>\n",
       "    </tr>\n",
       "    <tr>\n",
       "      <td id=\"T_a9b5c_row8_col0\" class=\"data row8 col0\" >on</td>\n",
       "      <td id=\"T_a9b5c_row8_col1\" class=\"data row8 col1\" >on</td>\n",
       "      <td id=\"T_a9b5c_row8_col2\" class=\"data row8 col2\" >['on']</td>\n",
       "    </tr>\n",
       "    <tr>\n",
       "      <td id=\"T_a9b5c_row9_col0\" class=\"data row9 col0\" >kosmoselaev</td>\n",
       "      <td id=\"T_a9b5c_row9_col1\" class=\"data row9 col1\" >kosmoselaev</td>\n",
       "      <td id=\"T_a9b5c_row9_col2\" class=\"data row9 col2\" >['kosmose', 'laev']</td>\n",
       "    </tr>\n",
       "    <tr>\n",
       "      <td id=\"T_a9b5c_row10_col0\" class=\"data row10 col0\" >.</td>\n",
       "      <td id=\"T_a9b5c_row10_col1\" class=\"data row10 col1\" >.</td>\n",
       "      <td id=\"T_a9b5c_row10_col2\" class=\"data row10 col2\" >['.']</td>\n",
       "    </tr>\n",
       "  </tbody>\n",
       "</table>\n"
      ],
      "text/plain": [
       "Layer(name='compound_words', attributes=('normalized_text', 'subwords'), spans=SL[Span('Kaubahoovi', [{'normalized_text': 'Kaubahoovi', 'subwords': ['Kauba', 'hoovi']}]),\n",
       "Span('edelanurgas', [{'normalized_text': 'edelanurgas', 'subwords': ['edela', 'nurgas']}]),\n",
       "Span(',', [{'normalized_text': ',', 'subwords': [',']}]),\n",
       "Span('rehepeksumasina', [{'normalized_text': 'rehepeksumasina', 'subwords': ['rehe', 'peksu', 'masina']}]),\n",
       "Span('tagaluugi', [{'normalized_text': 'tagaluugi', 'subwords': ['taga', 'luugi']}]),\n",
       "Span('kõrval', [{'normalized_text': 'kõrval', 'subwords': ['kõrval']}]),\n",
       "Span('.', [{'normalized_text': '.', 'subwords': ['.']}]),\n",
       "Span('Seal', [{'normalized_text': 'Seal', 'subwords': ['Seal']}]),\n",
       "Span('on', [{'normalized_text': 'on', 'subwords': ['on']}]),\n",
       "Span('kosmoselaev', [{'normalized_text': 'kosmoselaev', 'subwords': ['kosmose', 'laev']}]),\n",
       "Span('.', [{'normalized_text': '.', 'subwords': ['.']}])])"
      ]
     },
     "execution_count": 1,
     "metadata": {},
     "output_type": "execute_result"
    }
   ],
   "source": [
    "from estnltk import Text\n",
    "from estnltk.taggers import CompoundWordTagger\n",
    "\n",
    "# Create an example text\n",
    "text = Text('Kaubahoovi edelanurgas, rehepeksumasina tagaluugi kõrval. Seal on kosmoselaev.')\n",
    "# Add pre-requisite layers\n",
    "text.tag_layer(['words', 'sentences'])\n",
    "\n",
    "# Create compound word tagger\n",
    "compound_words_tagger = CompoundWordTagger()\n",
    "# Add compound word layer\n",
    "compound_words_tagger.tag(text)\n",
    "\n",
    "# Check the results\n",
    "text.compound_words"
   ]
  },
  {
   "cell_type": "markdown",
   "metadata": {},
   "source": [
    "There are two attributes in the output layer: `normalized_text` and `subwords`.\n",
    "Attribute `normalized_text` is derived from the `normalized_form` attribute of the `words` layer; so, for instance, if the `words` layer contains spelling corrections, then compound word detection is applied on the spelling corrections (rather than on the surface word form).\n",
    "Attribute `subwords` contains the surface word form (or its normalized variant) split into (linguistic) compound word tokens. In case of non-compound words, such as functional words or punctuation, subwords list will just contain the word itself.\n",
    "\n",
    "Note that the output layer is ambiguous, because (due to ambiguities in morphological analysis) there can be multiple compound word interpretations for a word."
   ]
  },
  {
   "cell_type": "markdown",
   "metadata": {},
   "source": [
    "#### Flag `disambiguate`\n",
    "\n",
    "Flag `disambiguate` (which is set to `True` by default) can be used to make switch off morphological disambiguation during the analysis.\n",
    "This can help to reveal more compound word interpretations for ambiguous words."
   ]
  },
  {
   "cell_type": "markdown",
   "metadata": {},
   "source": [
    "#### Flag `correct_case`\n",
    "\n",
    "Flag `correct_case` (which is set to `True` by default) post-corrects upper-lower case in `subwords` to match case distinctions in the `'normalized_text'` attribute.\n",
    "This is required because Vabamorf's stem-based morphological analysis alters cases in its ouput (e.g. converts titlecase words that are not proper nouns into lowercase)."
   ]
  }
 ],
 "metadata": {
  "anaconda-cloud": {},
  "kernelspec": {
   "display_name": "Python 3 (ipykernel)",
   "language": "python",
   "name": "python3"
  },
  "language_info": {
   "codemirror_mode": {
    "name": "ipython",
    "version": 3
   },
   "file_extension": ".py",
   "mimetype": "text/x-python",
   "name": "python",
   "nbconvert_exporter": "python",
   "pygments_lexer": "ipython3",
   "version": "3.10.14"
  }
 },
 "nbformat": 4,
 "nbformat_minor": 4
}
