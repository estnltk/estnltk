{
 "cells": [
  {
   "cell_type": "markdown",
   "metadata": {},
   "source": [
    "# Neural Morphological Tagger / Disambiguator\n",
    "\n",
    "EstNLTK contains neural morphological tagger / disambiguator that was introduced by [Tkachenko and Sirts (2018)](https://arxiv.org/pdf/1810.06908.pdf). \n",
    "It takes Vabamorf's analyses as an input to predict morphological tags (`partofspeech` and `form`) with better accuracy than Vabamorf. \n",
    "The tagger also employs a morphological tagset that extends Vabamorf's tags towards [UD](https://universaldependencies.org/guidelines.html)'s morphological features. \n",
    "As for the limitation, the tagger does not resolve lemma ambiguities."
   ]
  },
  {
   "cell_type": "markdown",
   "metadata": {},
   "source": [
    "## Running as a web tagger\n",
    "\n",
    "Easiest way to use neural morphological tagger is via EstNLTK's web service:"
   ]
  },
  {
   "cell_type": "code",
   "execution_count": 1,
   "metadata": {
    "tags": [
     "nbval-skip"
    ]
   },
   "outputs": [
    {
     "data": {
      "text/html": [
       "<h4>BatchProcessingWebTagger</h4>\n",
       "Tags neural morph disambiguation using EstNLTK NeuralMorphTagger's webservice. Uses softmax emb_cat_sum model.\n",
       "<table border=\"1\" class=\"dataframe\">\n",
       "  <thead>\n",
       "    <tr style=\"text-align: right;\">\n",
       "      <th>name</th>\n",
       "      <th>output layer</th>\n",
       "      <th>output attributes</th>\n",
       "      <th>input layers</th>\n",
       "    </tr>\n",
       "  </thead>\n",
       "  <tbody>\n",
       "    <tr>\n",
       "      <td>NeuralMorphDisambWebTagger</td>\n",
       "      <td>neural_morph_disamb</td>\n",
       "      <td>('morphtag', 'pos', 'form')</td>\n",
       "      <td>('words', 'sentences', 'morph_analysis')</td>\n",
       "    </tr>\n",
       "  </tbody>\n",
       "</table>\n",
       "<h4>Configuration</h4>\n",
       "<table border=\"1\" class=\"dataframe\">\n",
       "  <tbody>\n",
       "    <tr>\n",
       "      <th>url</th>\n",
       "      <td>http://127.0.0.1:5000/estnltk/tagger/neural_morph_disamb</td>\n",
       "    </tr>\n",
       "    <tr>\n",
       "      <th>batch_layer</th>\n",
       "      <td>words</td>\n",
       "    </tr>\n",
       "    <tr>\n",
       "      <th>batch_layer_max_size</th>\n",
       "      <td>125</td>\n",
       "    </tr>\n",
       "    <tr>\n",
       "      <th>batch_enveloping_layer</th>\n",
       "      <td>sentences</td>\n",
       "    </tr>\n",
       "  </tbody>\n",
       "</table>"
      ],
      "text/plain": [
       "NeuralMorphDisambWebTagger(url=http://127.0.0.1:5000/estnltk/tagger/neural_morph_disamb, batch_layer=words, batch_layer_max_size=125, batch_enveloping_layer=sentences)"
      ]
     },
     "execution_count": 1,
     "metadata": {},
     "output_type": "execute_result"
    }
   ],
   "source": [
    "from estnltk import Text\n",
    "from estnltk.web_taggers import NeuralMorphDisambWebTagger\n",
    "\n",
    "neural_morph_tagger = NeuralMorphDisambWebTagger(url='http://127.0.0.1:5000/estnltk/tagger/neural_morph_disamb')\n",
    "neural_morph_tagger"
   ]
  },
  {
   "cell_type": "code",
   "execution_count": 2,
   "metadata": {
    "tags": [
     "nbval-skip"
    ]
   },
   "outputs": [
    {
     "data": {
      "text/html": [
       "<h4>Layer</h4>\n",
       "\n",
       "\n",
       "<table border=\"1\" class=\"dataframe\">\n",
       "  <thead>\n",
       "    <tr style=\"text-align: right;\">\n",
       "      <th>layer name</th>\n",
       "      <th>attributes</th>\n",
       "      <th>parent</th>\n",
       "      <th>enveloping</th>\n",
       "      <th>ambiguous</th>\n",
       "      <th>span count</th>\n",
       "    </tr>\n",
       "  </thead>\n",
       "  <tbody>\n",
       "    <tr>\n",
       "      <td>neural_morph_disamb</td>\n",
       "      <td>morphtag, pos, form</td>\n",
       "      <td>words</td>\n",
       "      <td>None</td>\n",
       "      <td>False</td>\n",
       "      <td>7</td>\n",
       "    </tr>\n",
       "  </tbody>\n",
       "</table>\n",
       "<table border=\"1\" class=\"dataframe\">\n",
       "  <thead>\n",
       "    <tr style=\"text-align: right;\">\n",
       "      <th>text</th>\n",
       "      <th>morphtag</th>\n",
       "      <th>pos</th>\n",
       "      <th>form</th>\n",
       "    </tr>\n",
       "  </thead>\n",
       "  <tbody>\n",
       "    <tr>\n",
       "      <td>Kiirelt</td>\n",
       "      <td>POS=S|NOUN_TYPE=com|NUMBER=sg|CASE=abl</td>\n",
       "      <td>S</td>\n",
       "      <td>sg abl</td>\n",
       "    </tr>\n",
       "    <tr>\n",
       "      <td>võetud</td>\n",
       "      <td>POS=A|DEGREE=pos</td>\n",
       "      <td>A</td>\n",
       "      <td></td>\n",
       "    </tr>\n",
       "    <tr>\n",
       "      <td>pangalaen</td>\n",
       "      <td>POS=S|NOUN_TYPE=com|NUMBER=sg|CASE=nom</td>\n",
       "      <td>S</td>\n",
       "      <td>sg n</td>\n",
       "    </tr>\n",
       "    <tr>\n",
       "      <td>on</td>\n",
       "      <td>POS=V|VERB_TYPE=aux|MOOD=indic|TENSE=pres|PERSON=ps3|NUMBER=sg|VERB_PS=ps|VERB_POLARITY=af</td>\n",
       "      <td>V</td>\n",
       "      <td>b</td>\n",
       "    </tr>\n",
       "    <tr>\n",
       "      <td>kärmelt</td>\n",
       "      <td>POS=D</td>\n",
       "      <td>D</td>\n",
       "      <td></td>\n",
       "    </tr>\n",
       "    <tr>\n",
       "      <td>kulunud</td>\n",
       "      <td>POS=V|VERB_TYPE=main|VERB_FORM=partic|TENSE=past|VERB_PS=ps</td>\n",
       "      <td>V</td>\n",
       "      <td>nud</td>\n",
       "    </tr>\n",
       "    <tr>\n",
       "      <td>.</td>\n",
       "      <td>POS=Z|PUNCT_TYPE=Fst</td>\n",
       "      <td>Z</td>\n",
       "      <td></td>\n",
       "    </tr>\n",
       "  </tbody>\n",
       "</table>"
      ],
      "text/plain": [
       "Layer(name='neural_morph_disamb', attributes=('morphtag', 'pos', 'form'), spans=SL[Span('Kiirelt', [{'morphtag': 'POS=S|NOUN_TYPE=com|NUMBER=sg|CASE=abl', 'pos': 'S', 'form': 'sg abl'}]),\n",
       "Span('võetud', [{'morphtag': 'POS=A|DEGREE=pos', 'pos': 'A', 'form': ''}]),\n",
       "Span('pangalaen', [{'morphtag': 'POS=S|NOUN_TYPE=com|NUMBER=sg|CASE=nom', 'pos': 'S', 'form': 'sg n'}]),\n",
       "Span('on', [{'morphtag': 'POS=V|VERB_TYPE=aux|MOOD=indic|TENSE=pres|PERSON=ps3|NUMBER=sg|VERB_PS=ps|VERB_POLARITY=af', 'pos': 'V', 'form': 'b'}]),\n",
       "Span('kärmelt', [{'morphtag': 'POS=D', 'pos': 'D', 'form': ''}]),\n",
       "Span('kulunud', [{'morphtag': 'POS=V|VERB_TYPE=main|VERB_FORM=partic|TENSE=past|VERB_PS=ps', 'pos': 'V', 'form': 'nud'}]),\n",
       "Span('.', [{'morphtag': 'POS=Z|PUNCT_TYPE=Fst', 'pos': 'Z', 'form': ''}])])"
      ]
     },
     "execution_count": 2,
     "metadata": {},
     "output_type": "execute_result"
    }
   ],
   "source": [
    "# Create input text\n",
    "text=Text('Kiirelt võetud pangalaen on kärmelt kulunud.').tag_layer('morph_analysis')\n",
    "# Add neural morph layer\n",
    "neural_morph_tagger.tag(text)\n",
    "text['neural_morph_disamb']"
   ]
  },
  {
   "cell_type": "markdown",
   "metadata": {},
   "source": [
    "In the output layer, attributes `'pos'`, `'form'` are based on Vabamorf's categories, and can be used to disambiguate the input `morph_analysis` layer; the attribute `'morphtag'` contains model-specific morphological features (Vabamorf's categories extended towards [UD](https://universaldependencies.org/guidelines.html) categories)."
   ]
  },
  {
   "cell_type": "markdown",
   "metadata": {},
   "source": [
    "You can also use NeuralMorphDisambWebTagger directly as **a disambiguator of the input morph analysis layer**. \n",
    "For this, you need to change the output_layer of the tagger to morph analysis layer, and then use the tagger as a retagger:"
   ]
  },
  {
   "cell_type": "code",
   "execution_count": 3,
   "metadata": {},
   "outputs": [
    {
     "data": {
      "text/html": [
       "<h4>Layer</h4>\n",
       "\n",
       "\n",
       "<table border=\"1\" class=\"dataframe\">\n",
       "  <thead>\n",
       "    <tr style=\"text-align: right;\">\n",
       "      <th>layer name</th>\n",
       "      <th>attributes</th>\n",
       "      <th>parent</th>\n",
       "      <th>enveloping</th>\n",
       "      <th>ambiguous</th>\n",
       "      <th>span count</th>\n",
       "    </tr>\n",
       "  </thead>\n",
       "  <tbody>\n",
       "    <tr>\n",
       "      <td>morph_analysis</td>\n",
       "      <td>normalized_text, lemma, root, root_tokens, ending, clitic, form, partofspeech</td>\n",
       "      <td>words</td>\n",
       "      <td>None</td>\n",
       "      <td>True</td>\n",
       "      <td>7</td>\n",
       "    </tr>\n",
       "  </tbody>\n",
       "</table>\n",
       "<table border=\"1\" class=\"dataframe\">\n",
       "  <thead>\n",
       "    <tr style=\"text-align: right;\">\n",
       "      <th>text</th>\n",
       "      <th>normalized_text</th>\n",
       "      <th>lemma</th>\n",
       "      <th>root</th>\n",
       "      <th>root_tokens</th>\n",
       "      <th>ending</th>\n",
       "      <th>clitic</th>\n",
       "      <th>form</th>\n",
       "      <th>partofspeech</th>\n",
       "    </tr>\n",
       "  </thead>\n",
       "  <tbody>\n",
       "    <tr>\n",
       "      <td>Kiirelt</td>\n",
       "      <td>Kiirelt</td>\n",
       "      <td>kiir</td>\n",
       "      <td>kiir</td>\n",
       "      <td>['kiir']</td>\n",
       "      <td>lt</td>\n",
       "      <td></td>\n",
       "      <td>sg abl</td>\n",
       "      <td>S</td>\n",
       "    </tr>\n",
       "    <tr>\n",
       "      <td>võetud</td>\n",
       "      <td>võetud</td>\n",
       "      <td>võetud</td>\n",
       "      <td>võetud</td>\n",
       "      <td>['võetud']</td>\n",
       "      <td>0</td>\n",
       "      <td></td>\n",
       "      <td></td>\n",
       "      <td>A</td>\n",
       "    </tr>\n",
       "    <tr>\n",
       "      <td>pangalaen</td>\n",
       "      <td>pangalaen</td>\n",
       "      <td>pangalaen</td>\n",
       "      <td>panga_laen</td>\n",
       "      <td>['panga', 'laen']</td>\n",
       "      <td>0</td>\n",
       "      <td></td>\n",
       "      <td>sg n</td>\n",
       "      <td>S</td>\n",
       "    </tr>\n",
       "    <tr>\n",
       "      <td>on</td>\n",
       "      <td>on</td>\n",
       "      <td>olema</td>\n",
       "      <td>ole</td>\n",
       "      <td>['ole']</td>\n",
       "      <td>0</td>\n",
       "      <td></td>\n",
       "      <td>b</td>\n",
       "      <td>V</td>\n",
       "    </tr>\n",
       "    <tr>\n",
       "      <td>kärmelt</td>\n",
       "      <td>kärmelt</td>\n",
       "      <td>kärmelt</td>\n",
       "      <td>kärmelt</td>\n",
       "      <td>['kärmelt']</td>\n",
       "      <td>0</td>\n",
       "      <td></td>\n",
       "      <td></td>\n",
       "      <td>D</td>\n",
       "    </tr>\n",
       "    <tr>\n",
       "      <td>kulunud</td>\n",
       "      <td>kulunud</td>\n",
       "      <td>kuluma</td>\n",
       "      <td>kulu</td>\n",
       "      <td>['kulu']</td>\n",
       "      <td>nud</td>\n",
       "      <td></td>\n",
       "      <td>nud</td>\n",
       "      <td>V</td>\n",
       "    </tr>\n",
       "    <tr>\n",
       "      <td>.</td>\n",
       "      <td>.</td>\n",
       "      <td>.</td>\n",
       "      <td>.</td>\n",
       "      <td>['.']</td>\n",
       "      <td></td>\n",
       "      <td></td>\n",
       "      <td></td>\n",
       "      <td>Z</td>\n",
       "    </tr>\n",
       "  </tbody>\n",
       "</table>"
      ],
      "text/plain": [
       "Layer(name='morph_analysis', attributes=('normalized_text', 'lemma', 'root', 'root_tokens', 'ending', 'clitic', 'form', 'partofspeech'), spans=SL[Span('Kiirelt', [{'normalized_text': 'Kiirelt', 'lemma': 'kiir', 'root': 'kiir', 'root_tokens': ['kiir'], 'ending': 'lt', 'clitic': '', 'form': 'sg abl', 'partofspeech': 'S'}]),\n",
       "Span('võetud', [{'normalized_text': 'võetud', 'lemma': 'võetud', 'root': 'võetud', 'root_tokens': ['võetud'], 'ending': '0', 'clitic': '', 'form': '', 'partofspeech': 'A'}]),\n",
       "Span('pangalaen', [{'normalized_text': 'pangalaen', 'lemma': 'pangalaen', 'root': 'panga_laen', 'root_tokens': ['panga', 'laen'], 'ending': '0', 'clitic': '', 'form': 'sg n', 'partofspeech': 'S'}]),\n",
       "Span('on', [{'normalized_text': 'on', 'lemma': 'olema', 'root': 'ole', 'root_tokens': ['ole'], 'ending': '0', 'clitic': '', 'form': 'b', 'partofspeech': 'V'}]),\n",
       "Span('kärmelt', [{'normalized_text': 'kärmelt', 'lemma': 'kärmelt', 'root': 'kärmelt', 'root_tokens': ['kärmelt'], 'ending': '0', 'clitic': '', 'form': '', 'partofspeech': 'D'}]),\n",
       "Span('kulunud', [{'normalized_text': 'kulunud', 'lemma': 'kuluma', 'root': 'kulu', 'root_tokens': ['kulu'], 'ending': 'nud', 'clitic': '', 'form': 'nud', 'partofspeech': 'V'}]),\n",
       "Span('.', [{'normalized_text': '.', 'lemma': '.', 'root': '.', 'root_tokens': ['.'], 'ending': '', 'clitic': '', 'form': '', 'partofspeech': 'Z'}])])"
      ]
     },
     "execution_count": 3,
     "metadata": {},
     "output_type": "execute_result"
    }
   ],
   "source": [
    "# Initialize neural morph tagger as retagger\n",
    "neural_morph_retagger = NeuralMorphDisambWebTagger(url='http://127.0.0.1:5000/estnltk/tagger/neural_morph_disamb', \n",
    "                                                   output_layer='morph_analysis')\n",
    "# Create input text\n",
    "text=Text('Kiirelt võetud pangalaen on kärmelt kulunud.').tag_layer('morph_analysis')\n",
    "# Disambiguate morph layer\n",
    "neural_morph_retagger.retag(text)\n",
    "text['morph_analysis']"
   ]
  },
  {
   "cell_type": "markdown",
   "metadata": {},
   "source": [
    "If you need to process large datasets, it is recommended to use neural morphological tagging locally."
   ]
  },
  {
   "cell_type": "markdown",
   "metadata": {},
   "source": [
    "## Running locally\n",
    "\n",
    "*Note: if you want to run neural morphological tagging locally, you need to install [estnltk_neural](https://github.com/estnltk/estnltk/tree/main/estnltk_neural) package. Be aware that the implementation also requires an old `tensorflow` version (version < 2.0, such as 1.15.5), and is not compatible with the newest `tensorflow`.*\n",
    "\n",
    "There are 4 morphological tagging models available, and for each of these models, there is a tagger class defined in `estnltk_neural.taggers`:\n",
    "\n",
    "* `SoftmaxEmbTagSumTagger()`\n",
    "* `SoftmaxEmbCatSumTagger()`\n",
    "* `Seq2SeqEmbTagSumTagger()`\n",
    "* `Seq2SeqEmbCatSumTagger()`\n",
    "\n",
    "Note that models are not distributed with the estnltk\\_neural package. You can download them in the following ways:\n",
    "* If you create a new instance of tagger (`SoftmaxEmbTagSumTagger()`, `Seq2SeqEmbTagSumTagger()` etc) and the model has not been downloaded yet, you'll be prompted with a question asking for a permission to download the model;\n",
    "* Alternatively, you can pre-download models manually via the download function:\n",
    "\n",
    "```python\n",
    "from estnltk import download\n",
    "# download model for SoftmaxEmbCatSumTagger\n",
    "download('softmaxembcatsumtagger')\n",
    "# download model for Seq2SeqEmbTagSumTagger\n",
    "download('seq2seqembtagsumtagger')\n",
    "...\n",
    "```"
   ]
  },
  {
   "cell_type": "markdown",
   "metadata": {},
   "source": [
    "### `SoftmaxEmbTagSumTagger`"
   ]
  },
  {
   "cell_type": "code",
   "execution_count": 1,
   "metadata": {
    "tags": [
     "nbval-skip"
    ]
   },
   "outputs": [
    {
     "name": "stdout",
     "output_type": "stream",
     "text": [
      "This requires downloading resource 'neural_morph_softmax_emb_tag_sum_2019-08-23' (size: 354M). Proceed with downloading? [Y/n] y\n"
     ]
    },
    {
     "name": "stderr",
     "output_type": "stream",
     "text": [
      "Downloading neural_morph_softmax_emb_tag_sum_2019-08-23: 349031it [00:29, 11877.95it/s]\n"
     ]
    },
    {
     "name": "stdout",
     "output_type": "stream",
     "text": [
      "Unpacked resource into subfolder 'neural_morph_disamb/softmax_emb_tag_sum_2019-08-23/' of the resources dir.\n",
      "Loaded analyses: 341 from file C:\\Programmid\\Miniconda3\\envs\\py37_estnltk_neural\\lib\\site-packages\\estnltk\\estnltk_resources\\neural_morph_disamb\\softmax_emb_tag_sum_2019-08-23\\output\\data\\analysis.txt\n",
      "WARNING:module_wrapper.py:139: From C:\\Programmid\\Miniconda3\\envs\\py37_estnltk_neural\\lib\\site-packages\\estnltk_neural-1.7.0rc0-py3.7.egg\\estnltk_neural\\taggers\\neural_morph\\new_neural_morph\\softmax_emb_tag_sum\\model.py:22: The name tf.placeholder is deprecated. Please use tf.compat.v1.placeholder instead.\n",
      "\n",
      "WARNING:module_wrapper.py:139: From C:\\Programmid\\Miniconda3\\envs\\py37_estnltk_neural\\lib\\site-packages\\estnltk_neural-1.7.0rc0-py3.7.egg\\estnltk_neural\\taggers\\neural_morph\\new_neural_morph\\softmax_emb_tag_sum\\model.py:227: The name tf.variable_scope is deprecated. Please use tf.compat.v1.variable_scope instead.\n",
      "\n",
      "WARNING:module_wrapper.py:139: From C:\\Programmid\\Miniconda3\\envs\\py37_estnltk_neural\\lib\\site-packages\\estnltk_neural-1.7.0rc0-py3.7.egg\\estnltk_neural\\taggers\\neural_morph\\new_neural_morph\\softmax_emb_tag_sum\\model.py:246: The name tf.get_variable is deprecated. Please use tf.compat.v1.get_variable instead.\n",
      "\n",
      "WARNING:lazy_loader.py:50: \n",
      "The TensorFlow contrib module will not be included in TensorFlow 2.0.\n",
      "For more information, please see:\n",
      "  * https://github.com/tensorflow/community/blob/master/rfcs/20180907-contrib-sunset.md\n",
      "  * https://github.com/tensorflow/addons\n",
      "  * https://github.com/tensorflow/io (for I/O related ops)\n",
      "If you depend on functionality not listed there, please file an issue.\n",
      "\n",
      "WARNING:deprecation.py:323: From C:\\Programmid\\Miniconda3\\envs\\py37_estnltk_neural\\lib\\site-packages\\estnltk_neural-1.7.0rc0-py3.7.egg\\estnltk_neural\\taggers\\neural_morph\\new_neural_morph\\softmax_emb_tag_sum\\model.py:262: LSTMCell.__init__ (from tensorflow.python.ops.rnn_cell_impl) is deprecated and will be removed in a future version.\n",
      "Instructions for updating:\n",
      "This class is equivalent as tf.keras.layers.LSTMCell, and will be replaced by that in Tensorflow 2.0.\n",
      "WARNING:deprecation.py:323: From C:\\Programmid\\Miniconda3\\envs\\py37_estnltk_neural\\lib\\site-packages\\estnltk_neural-1.7.0rc0-py3.7.egg\\estnltk_neural\\taggers\\neural_morph\\new_neural_morph\\softmax_emb_tag_sum\\model.py:267: bidirectional_dynamic_rnn (from tensorflow.python.ops.rnn) is deprecated and will be removed in a future version.\n",
      "Instructions for updating:\n",
      "Please use `keras.layers.Bidirectional(keras.layers.RNN(cell))`, which is equivalent to this API\n",
      "WARNING:deprecation.py:323: From C:\\Programmid\\Miniconda3\\envs\\py37_estnltk_neural\\lib\\site-packages\\tensorflow_core\\python\\ops\\rnn.py:464: dynamic_rnn (from tensorflow.python.ops.rnn) is deprecated and will be removed in a future version.\n",
      "Instructions for updating:\n",
      "Please use `keras.layers.RNN(cell)`, which is equivalent to this API\n",
      "WARNING:deprecation.py:323: From C:\\Programmid\\Miniconda3\\envs\\py37_estnltk_neural\\lib\\site-packages\\tensorflow_core\\python\\ops\\rnn_cell_impl.py:958: Layer.add_variable (from tensorflow.python.keras.engine.base_layer) is deprecated and will be removed in a future version.\n",
      "Instructions for updating:\n",
      "Please use `layer.add_weight` method instead.\n",
      "WARNING:deprecation.py:506: From C:\\Programmid\\Miniconda3\\envs\\py37_estnltk_neural\\lib\\site-packages\\tensorflow_core\\python\\ops\\rnn_cell_impl.py:962: calling Zeros.__init__ (from tensorflow.python.ops.init_ops) with dtype is deprecated and will be removed in a future version.\n",
      "Instructions for updating:\n",
      "Call initializer instance with the dtype argument instead of passing it to the constructor\n",
      "WARNING:deprecation.py:323: From C:\\Programmid\\Miniconda3\\envs\\py37_estnltk_neural\\lib\\site-packages\\tensorflow_core\\python\\ops\\rnn.py:244: where (from tensorflow.python.ops.array_ops) is deprecated and will be removed in a future version.\n",
      "Instructions for updating:\n",
      "Use tf.where in 2.0, which has the same broadcast rule as np.where\n",
      "WARNING:deprecation.py:323: From C:\\Programmid\\Miniconda3\\envs\\py37_estnltk_neural\\lib\\site-packages\\estnltk_neural-1.7.0rc0-py3.7.egg\\estnltk_neural\\taggers\\neural_morph\\new_neural_morph\\softmax_emb_tag_sum\\model.py:378: dropout (from tensorflow.python.layers.core) is deprecated and will be removed in a future version.\n",
      "Instructions for updating:\n",
      "Use keras.layers.dropout instead.\n",
      "WARNING:deprecation.py:323: From C:\\Programmid\\Miniconda3\\envs\\py37_estnltk_neural\\lib\\site-packages\\tensorflow_core\\python\\layers\\core.py:271: Layer.apply (from tensorflow.python.keras.engine.base_layer) is deprecated and will be removed in a future version.\n",
      "Instructions for updating:\n",
      "Please use `layer.__call__` method instead.\n",
      "WARNING:deprecation.py:506: From C:\\Programmid\\Miniconda3\\envs\\py37_estnltk_neural\\lib\\site-packages\\estnltk_neural-1.7.0rc0-py3.7.egg\\estnltk_neural\\taggers\\neural_morph\\new_neural_morph\\rnn_util.py:78: calling reverse_sequence (from tensorflow.python.ops.array_ops) with seq_dim is deprecated and will be removed in a future version.\n",
      "Instructions for updating:\n",
      "seq_dim is deprecated, use seq_axis instead\n",
      "WARNING:deprecation.py:506: From C:\\Programmid\\Miniconda3\\envs\\py37_estnltk_neural\\lib\\site-packages\\tensorflow_core\\python\\util\\deprecation.py:507: calling reverse_sequence (from tensorflow.python.ops.array_ops) with batch_dim is deprecated and will be removed in a future version.\n",
      "Instructions for updating:\n",
      "batch_dim is deprecated, use batch_axis instead\n",
      "WARNING:deprecation.py:323: From C:\\Programmid\\Miniconda3\\envs\\py37_estnltk_neural\\lib\\site-packages\\estnltk_neural-1.7.0rc0-py3.7.egg\\estnltk_neural\\taggers\\neural_morph\\new_neural_morph\\softmax_emb_tag_sum\\model.py:449: dense (from tensorflow.python.layers.core) is deprecated and will be removed in a future version.\n",
      "Instructions for updating:\n",
      "Use keras.layers.Dense instead.\n",
      "WARNING:module_wrapper.py:139: From C:\\Programmid\\Miniconda3\\envs\\py37_estnltk_neural\\lib\\site-packages\\estnltk_neural-1.7.0rc0-py3.7.egg\\estnltk_neural\\taggers\\neural_morph\\new_neural_morph\\softmax_emb_tag_sum\\model.py:480: The name tf.summary.scalar is deprecated. Please use tf.compat.v1.summary.scalar instead.\n",
      "\n",
      "WARNING:module_wrapper.py:139: From C:\\Programmid\\Miniconda3\\envs\\py37_estnltk_neural\\lib\\site-packages\\estnltk_neural-1.7.0rc0-py3.7.egg\\estnltk_neural\\taggers\\neural_morph\\new_neural_morph\\softmax_emb_tag_sum\\model.py:398: The name tf.train.GradientDescentOptimizer is deprecated. Please use tf.compat.v1.train.GradientDescentOptimizer instead.\n",
      "\n",
      "INFO:model.py:79: Initializing tf session\n",
      "WARNING:module_wrapper.py:139: From C:\\Programmid\\Miniconda3\\envs\\py37_estnltk_neural\\lib\\site-packages\\estnltk_neural-1.7.0rc0-py3.7.egg\\estnltk_neural\\taggers\\neural_morph\\new_neural_morph\\softmax_emb_tag_sum\\model.py:80: The name tf.Session is deprecated. Please use tf.compat.v1.Session instead.\n",
      "\n",
      "WARNING:module_wrapper.py:139: From C:\\Programmid\\Miniconda3\\envs\\py37_estnltk_neural\\lib\\site-packages\\estnltk_neural-1.7.0rc0-py3.7.egg\\estnltk_neural\\taggers\\neural_morph\\new_neural_morph\\softmax_emb_tag_sum\\model.py:80: The name tf.ConfigProto is deprecated. Please use tf.compat.v1.ConfigProto instead.\n",
      "\n",
      "WARNING:module_wrapper.py:139: From C:\\Programmid\\Miniconda3\\envs\\py37_estnltk_neural\\lib\\site-packages\\estnltk_neural-1.7.0rc0-py3.7.egg\\estnltk_neural\\taggers\\neural_morph\\new_neural_morph\\softmax_emb_tag_sum\\model.py:81: The name tf.global_variables_initializer is deprecated. Please use tf.compat.v1.global_variables_initializer instead.\n",
      "\n",
      "WARNING:module_wrapper.py:139: From C:\\Programmid\\Miniconda3\\envs\\py37_estnltk_neural\\lib\\site-packages\\estnltk_neural-1.7.0rc0-py3.7.egg\\estnltk_neural\\taggers\\neural_morph\\new_neural_morph\\softmax_emb_tag_sum\\model.py:82: The name tf.train.Saver is deprecated. Please use tf.compat.v1.train.Saver instead.\n",
      "\n",
      "INFO:model.py:92: Reloading the latest trained model...\n",
      "INFO:saver.py:1284: Restoring parameters from C:\\Programmid\\Miniconda3\\envs\\py37_estnltk_neural\\lib\\site-packages\\estnltk\\estnltk_resources\\neural_morph_disamb\\softmax_emb_tag_sum_2019-08-23\\output\\results\\model.weights\n"
     ]
    },
    {
     "data": {
      "text/html": [
       "<table border=\"1\" class=\"dataframe\">\n",
       "  <thead>\n",
       "    <tr style=\"text-align: right;\">\n",
       "      <th>text</th>\n",
       "    </tr>\n",
       "  </thead>\n",
       "  <tbody>\n",
       "    <tr>\n",
       "      <td><div align = \"left\">See on lause.</div></td>\n",
       "    </tr>\n",
       "  </tbody>\n",
       "</table>\n",
       "<table border=\"1\" class=\"dataframe\">\n",
       "  <thead>\n",
       "    <tr style=\"text-align: right;\">\n",
       "      <th>layer name</th>\n",
       "      <th>attributes</th>\n",
       "      <th>parent</th>\n",
       "      <th>enveloping</th>\n",
       "      <th>ambiguous</th>\n",
       "      <th>span count</th>\n",
       "    </tr>\n",
       "  </thead>\n",
       "  <tbody>\n",
       "    <tr>\n",
       "      <td>sentences</td>\n",
       "      <td></td>\n",
       "      <td>None</td>\n",
       "      <td>words</td>\n",
       "      <td>False</td>\n",
       "      <td>1</td>\n",
       "    </tr>\n",
       "    <tr>\n",
       "      <td>tokens</td>\n",
       "      <td></td>\n",
       "      <td>None</td>\n",
       "      <td>None</td>\n",
       "      <td>False</td>\n",
       "      <td>4</td>\n",
       "    </tr>\n",
       "    <tr>\n",
       "      <td>compound_tokens</td>\n",
       "      <td>type, normalized</td>\n",
       "      <td>None</td>\n",
       "      <td>tokens</td>\n",
       "      <td>False</td>\n",
       "      <td>0</td>\n",
       "    </tr>\n",
       "    <tr>\n",
       "      <td>words</td>\n",
       "      <td>normalized_form</td>\n",
       "      <td>None</td>\n",
       "      <td>None</td>\n",
       "      <td>True</td>\n",
       "      <td>4</td>\n",
       "    </tr>\n",
       "    <tr>\n",
       "      <td>morph_analysis</td>\n",
       "      <td>normalized_text, lemma, root, root_tokens, ending, clitic, form, partofspeech</td>\n",
       "      <td>words</td>\n",
       "      <td>None</td>\n",
       "      <td>True</td>\n",
       "      <td>4</td>\n",
       "    </tr>\n",
       "    <tr>\n",
       "      <td>morph_softmax_emb_tag_sum</td>\n",
       "      <td>morphtag, pos, form</td>\n",
       "      <td>words</td>\n",
       "      <td>None</td>\n",
       "      <td>False</td>\n",
       "      <td>4</td>\n",
       "    </tr>\n",
       "  </tbody>\n",
       "</table>"
      ],
      "text/plain": [
       "Text(text='See on lause.')"
      ]
     },
     "execution_count": 1,
     "metadata": {},
     "output_type": "execute_result"
    }
   ],
   "source": [
    "from estnltk import Text\n",
    "from estnltk_neural.taggers import SoftmaxEmbTagSumTagger\n",
    "\n",
    "text = Text(\"See on lause.\")\n",
    "text.tag_layer(['morph_analysis'])\n",
    "        \n",
    "tagger = SoftmaxEmbTagSumTagger('morph_softmax_emb_tag_sum')\n",
    "tagger.tag(text)"
   ]
  },
  {
   "cell_type": "markdown",
   "metadata": {},
   "source": [
    "Now the text object has a layer named `morph_softmax_emb_tag_sum`, which contains three attributes for every word: `morphtag` (which is the original tag predicted by the neural model), `pos` and `form` (which are morptags converted into vabamorf format)."
   ]
  },
  {
   "cell_type": "code",
   "execution_count": 2,
   "metadata": {
    "tags": [
     "nbval-skip"
    ]
   },
   "outputs": [
    {
     "data": {
      "text/html": [
       "<h4>Layer</h4>\n",
       "\n",
       "\n",
       "<table border=\"1\" class=\"dataframe\">\n",
       "  <thead>\n",
       "    <tr style=\"text-align: right;\">\n",
       "      <th>layer name</th>\n",
       "      <th>attributes</th>\n",
       "      <th>parent</th>\n",
       "      <th>enveloping</th>\n",
       "      <th>ambiguous</th>\n",
       "      <th>span count</th>\n",
       "    </tr>\n",
       "  </thead>\n",
       "  <tbody>\n",
       "    <tr>\n",
       "      <td>morph_softmax_emb_tag_sum</td>\n",
       "      <td>morphtag, pos, form</td>\n",
       "      <td>words</td>\n",
       "      <td>None</td>\n",
       "      <td>False</td>\n",
       "      <td>4</td>\n",
       "    </tr>\n",
       "  </tbody>\n",
       "</table>\n",
       "<table border=\"1\" class=\"dataframe\">\n",
       "  <thead>\n",
       "    <tr style=\"text-align: right;\">\n",
       "      <th>text</th>\n",
       "      <th>morphtag</th>\n",
       "      <th>pos</th>\n",
       "      <th>form</th>\n",
       "    </tr>\n",
       "  </thead>\n",
       "  <tbody>\n",
       "    <tr>\n",
       "      <td>See</td>\n",
       "      <td>POS=P|NUMBER=sg|CASE=nom</td>\n",
       "      <td>P</td>\n",
       "      <td>sg n</td>\n",
       "    </tr>\n",
       "    <tr>\n",
       "      <td>on</td>\n",
       "      <td>POS=V|VERB_TYPE=main|MOOD=indic|TENSE=pres|PERSON=ps3|NUMBER=sg|VERB_PS=ps|VERB_POLARITY=af</td>\n",
       "      <td>V</td>\n",
       "      <td>b</td>\n",
       "    </tr>\n",
       "    <tr>\n",
       "      <td>lause</td>\n",
       "      <td>POS=S|NOUN_TYPE=com|NUMBER=sg|CASE=nom</td>\n",
       "      <td>S</td>\n",
       "      <td>sg n</td>\n",
       "    </tr>\n",
       "    <tr>\n",
       "      <td>.</td>\n",
       "      <td>POS=Z|PUNCT_TYPE=Fst</td>\n",
       "      <td>Z</td>\n",
       "      <td></td>\n",
       "    </tr>\n",
       "  </tbody>\n",
       "</table>"
      ],
      "text/plain": [
       "Layer(name='morph_softmax_emb_tag_sum', attributes=('morphtag', 'pos', 'form'), spans=SL[Span('See', [{'morphtag': 'POS=P|NUMBER=sg|CASE=nom', 'pos': 'P', 'form': 'sg n'}]),\n",
       "Span('on', [{'morphtag': 'POS=V|VERB_TYPE=main|MOOD=indic|TENSE=pres|PERSON=ps3|NUMBER=sg|VERB_PS=ps|VERB_POLARITY=af', 'pos': 'V', 'form': 'b'}]),\n",
       "Span('lause', [{'morphtag': 'POS=S|NOUN_TYPE=com|NUMBER=sg|CASE=nom', 'pos': 'S', 'form': 'sg n'}]),\n",
       "Span('.', [{'morphtag': 'POS=Z|PUNCT_TYPE=Fst', 'pos': 'Z', 'form': ''}])])"
      ]
     },
     "execution_count": 2,
     "metadata": {},
     "output_type": "execute_result"
    }
   ],
   "source": [
    "text['morph_softmax_emb_tag_sum']"
   ]
  },
  {
   "cell_type": "markdown",
   "metadata": {},
   "source": [
    "### `SoftmaxEmbCatSumTagger`\n",
    "\n",
    "If you want to load a new tagger with a different neural model, you need to reset the previously loaded one with the `reset` method."
   ]
  },
  {
   "cell_type": "code",
   "execution_count": 3,
   "metadata": {
    "tags": [
     "nbval-skip"
    ]
   },
   "outputs": [
    {
     "name": "stdout",
     "output_type": "stream",
     "text": [
      "WARNING:module_wrapper.py:139: From C:\\Programmid\\Miniconda3\\envs\\py37_estnltk_neural\\lib\\site-packages\\estnltk_neural-1.7.0rc0-py3.7.egg\\estnltk_neural\\taggers\\neural_morph\\new_neural_morph\\softmax_emb_tag_sum\\model.py:99: The name tf.reset_default_graph is deprecated. Please use tf.compat.v1.reset_default_graph instead.\n",
      "\n",
      "WARNING:module_wrapper.py:139: From C:\\Programmid\\Miniconda3\\envs\\py37_estnltk_neural\\lib\\site-packages\\estnltk_neural-1.7.0rc0-py3.7.egg\\estnltk_neural\\taggers\\neural_morph\\new_neural_morph\\softmax_emb_cat_sum\\model.py:312: The name tf.assert_rank is deprecated. Please use tf.compat.v1.assert_rank instead.\n",
      "\n",
      "WARNING:module_wrapper.py:139: From C:\\Programmid\\Miniconda3\\envs\\py37_estnltk_neural\\lib\\site-packages\\estnltk_neural-1.7.0rc0-py3.7.egg\\estnltk_neural\\taggers\\neural_morph\\new_neural_morph\\softmax_emb_cat_sum\\model.py:313: The name tf.assert_equal is deprecated. Please use tf.compat.v1.assert_equal instead.\n",
      "\n",
      "INFO:model.py:79: Initializing tf session\n",
      "INFO:model.py:92: Reloading the latest trained model...\n",
      "INFO:saver.py:1284: Restoring parameters from C:\\Programmid\\Miniconda3\\envs\\py37_estnltk_neural\\lib\\site-packages\\estnltk\\estnltk_resources\\neural_morph_disamb\\softmax_emb_cat_sum_2019-08-23\\output\\results\\model.weights\n"
     ]
    },
    {
     "data": {
      "text/html": [
       "<h4>Layer</h4>\n",
       "\n",
       "\n",
       "<table border=\"1\" class=\"dataframe\">\n",
       "  <thead>\n",
       "    <tr style=\"text-align: right;\">\n",
       "      <th>layer name</th>\n",
       "      <th>attributes</th>\n",
       "      <th>parent</th>\n",
       "      <th>enveloping</th>\n",
       "      <th>ambiguous</th>\n",
       "      <th>span count</th>\n",
       "    </tr>\n",
       "  </thead>\n",
       "  <tbody>\n",
       "    <tr>\n",
       "      <td>morph_softmax_emb_cat_sum</td>\n",
       "      <td>morphtag, pos, form</td>\n",
       "      <td>words</td>\n",
       "      <td>None</td>\n",
       "      <td>False</td>\n",
       "      <td>4</td>\n",
       "    </tr>\n",
       "  </tbody>\n",
       "</table>\n",
       "<table border=\"1\" class=\"dataframe\">\n",
       "  <thead>\n",
       "    <tr style=\"text-align: right;\">\n",
       "      <th>text</th>\n",
       "      <th>morphtag</th>\n",
       "      <th>pos</th>\n",
       "      <th>form</th>\n",
       "    </tr>\n",
       "  </thead>\n",
       "  <tbody>\n",
       "    <tr>\n",
       "      <td>See</td>\n",
       "      <td>POS=P|NUMBER=sg|CASE=nom</td>\n",
       "      <td>P</td>\n",
       "      <td>sg n</td>\n",
       "    </tr>\n",
       "    <tr>\n",
       "      <td>on</td>\n",
       "      <td>POS=V|VERB_TYPE=main|MOOD=indic|TENSE=pres|PERSON=ps3|NUMBER=sg|VERB_PS=ps|VERB_POLARITY=af</td>\n",
       "      <td>V</td>\n",
       "      <td>b</td>\n",
       "    </tr>\n",
       "    <tr>\n",
       "      <td>lause</td>\n",
       "      <td>POS=S|NOUN_TYPE=com|NUMBER=sg|CASE=nom</td>\n",
       "      <td>S</td>\n",
       "      <td>sg n</td>\n",
       "    </tr>\n",
       "    <tr>\n",
       "      <td>.</td>\n",
       "      <td>POS=Z|PUNCT_TYPE=Fst</td>\n",
       "      <td>Z</td>\n",
       "      <td></td>\n",
       "    </tr>\n",
       "  </tbody>\n",
       "</table>"
      ],
      "text/plain": [
       "Layer(name='morph_softmax_emb_cat_sum', attributes=('morphtag', 'pos', 'form'), spans=SL[Span('See', [{'morphtag': 'POS=P|NUMBER=sg|CASE=nom', 'pos': 'P', 'form': 'sg n'}]),\n",
       "Span('on', [{'morphtag': 'POS=V|VERB_TYPE=main|MOOD=indic|TENSE=pres|PERSON=ps3|NUMBER=sg|VERB_PS=ps|VERB_POLARITY=af', 'pos': 'V', 'form': 'b'}]),\n",
       "Span('lause', [{'morphtag': 'POS=S|NOUN_TYPE=com|NUMBER=sg|CASE=nom', 'pos': 'S', 'form': 'sg n'}]),\n",
       "Span('.', [{'morphtag': 'POS=Z|PUNCT_TYPE=Fst', 'pos': 'Z', 'form': ''}])])"
      ]
     },
     "execution_count": 3,
     "metadata": {},
     "output_type": "execute_result"
    }
   ],
   "source": [
    "from estnltk_neural.taggers import SoftmaxEmbCatSumTagger\n",
    "\n",
    "tagger.reset()\n",
    "tagger = SoftmaxEmbCatSumTagger('morph_softmax_emb_cat_sum')\n",
    "tagger.tag(text)\n",
    "text['morph_softmax_emb_cat_sum']"
   ]
  },
  {
   "cell_type": "markdown",
   "metadata": {},
   "source": [
    "### `Seq2SeqEmbTagSumTagger`"
   ]
  },
  {
   "cell_type": "code",
   "execution_count": 4,
   "metadata": {
    "tags": [
     "nbval-skip"
    ]
   },
   "outputs": [
    {
     "name": "stdout",
     "output_type": "stream",
     "text": [
      "WARNING:tf_logging.py:125: From /home/paul/Projects/estnltk/estnltk/taggers/neural_morph/new_neural_morph/seq2seq_emb_tag_sum/model.py:606: calling softmax (from tensorflow.python.ops.nn_ops) with dim is deprecated and will be removed in a future version.\n",
      "Instructions for updating:\n",
      "dim is deprecated, use axis instead\n",
      "INFO:model.py:147: Initializing tf session\n",
      "INFO:model.py:160: Reloading the latest trained model...\n",
      "INFO:tf_logging.py:115: Restoring parameters from /home/paul/Projects/estnltk/estnltk/taggers/neural_morph/new_neural_morph/seq2seq_emb_tag_sum/output/results/model.weights\n"
     ]
    },
    {
     "data": {
      "text/html": [
       "<h4>Layer</h4>\n",
       "\n",
       "\n",
       "<table border=\"1\" class=\"dataframe\">\n",
       "  <thead>\n",
       "    <tr style=\"text-align: right;\">\n",
       "      <th>layer name</th>\n",
       "      <th>attributes</th>\n",
       "      <th>parent</th>\n",
       "      <th>enveloping</th>\n",
       "      <th>ambiguous</th>\n",
       "      <th>span count</th>\n",
       "    </tr>\n",
       "  </thead>\n",
       "  <tbody>\n",
       "    <tr>\n",
       "      <td>morph_seq2seq_emb_tag_sum</td>\n",
       "      <td>morphtag, pos, form</td>\n",
       "      <td>words</td>\n",
       "      <td>None</td>\n",
       "      <td>False</td>\n",
       "      <td>4</td>\n",
       "    </tr>\n",
       "  </tbody>\n",
       "</table>\n",
       "<table border=\"1\" class=\"dataframe\">\n",
       "  <thead>\n",
       "    <tr style=\"text-align: right;\">\n",
       "      <th>text</th>\n",
       "      <th>morphtag</th>\n",
       "      <th>pos</th>\n",
       "      <th>form</th>\n",
       "    </tr>\n",
       "  </thead>\n",
       "  <tbody>\n",
       "    <tr>\n",
       "      <td>See</td>\n",
       "      <td>POS=P|NUMBER=sg|CASE=nom</td>\n",
       "      <td>P</td>\n",
       "      <td>sg n</td>\n",
       "    </tr>\n",
       "    <tr>\n",
       "      <td>on</td>\n",
       "      <td>POS=V|VERB_TYPE=main|MOOD=indic|TENSE=pres|PERSON=ps3|NUMBER=sg|VERB_PS=ps|VERB_POLARITY=af</td>\n",
       "      <td>V</td>\n",
       "      <td>b</td>\n",
       "    </tr>\n",
       "    <tr>\n",
       "      <td>lause</td>\n",
       "      <td>POS=S|NOUN_TYPE=com|NUMBER=sg|CASE=nom</td>\n",
       "      <td>S</td>\n",
       "      <td>sg n</td>\n",
       "    </tr>\n",
       "    <tr>\n",
       "      <td>.</td>\n",
       "      <td>POS=Z|PUNCT_TYPE=Fst</td>\n",
       "      <td>Z</td>\n",
       "      <td></td>\n",
       "    </tr>\n",
       "  </tbody>\n",
       "</table>"
      ],
      "text/plain": [
       "Layer(name='morph_seq2seq_emb_tag_sum', attributes=('morphtag', 'pos', 'form'), spans=SL[Span('See', [{'morphtag': 'POS=P|NUMBER=sg|CASE=nom', 'pos': 'P', 'form': 'sg n'}]),\n",
       "Span('on', [{'morphtag': 'POS=V|VERB_TYPE=main|MOOD=indic|TENSE=pres|PERSON=ps3|NUMBER=sg|VERB_PS=ps|VERB_POLARITY=af', 'pos': 'V', 'form': 'b'}]),\n",
       "Span('lause', [{'morphtag': 'POS=S|NOUN_TYPE=com|NUMBER=sg|CASE=nom', 'pos': 'S', 'form': 'sg n'}]),\n",
       "Span('.', [{'morphtag': 'POS=Z|PUNCT_TYPE=Fst', 'pos': 'Z', 'form': ''}])])"
      ]
     },
     "execution_count": 4,
     "metadata": {},
     "output_type": "execute_result"
    }
   ],
   "source": [
    "from estnltk_neural.taggers import Seq2SeqEmbTagSumTagger\n",
    "\n",
    "tagger.reset()\n",
    "tagger = Seq2SeqEmbTagSumTagger('morph_seq2seq_emb_tag_sum')\n",
    "tagger.tag(text)\n",
    "text['morph_seq2seq_emb_tag_sum']"
   ]
  },
  {
   "cell_type": "markdown",
   "metadata": {},
   "source": [
    "### `Seq2SeqEmbCatSumTagger`"
   ]
  },
  {
   "cell_type": "code",
   "execution_count": 5,
   "metadata": {
    "tags": [
     "nbval-skip"
    ]
   },
   "outputs": [
    {
     "name": "stdout",
     "output_type": "stream",
     "text": [
      "INFO:model.py:147: Initializing tf session\n",
      "INFO:model.py:160: Reloading the latest trained model...\n",
      "INFO:tf_logging.py:115: Restoring parameters from /home/paul/Projects/estnltk/estnltk/taggers/neural_morph/new_neural_morph/seq2seq_emb_cat_sum/output/results/model.weights\n"
     ]
    },
    {
     "data": {
      "text/html": [
       "<h4>Layer</h4>\n",
       "\n",
       "\n",
       "<table border=\"1\" class=\"dataframe\">\n",
       "  <thead>\n",
       "    <tr style=\"text-align: right;\">\n",
       "      <th>layer name</th>\n",
       "      <th>attributes</th>\n",
       "      <th>parent</th>\n",
       "      <th>enveloping</th>\n",
       "      <th>ambiguous</th>\n",
       "      <th>span count</th>\n",
       "    </tr>\n",
       "  </thead>\n",
       "  <tbody>\n",
       "    <tr>\n",
       "      <td>morph_seq2seq_emb_cat_sum</td>\n",
       "      <td>morphtag, pos, form</td>\n",
       "      <td>words</td>\n",
       "      <td>None</td>\n",
       "      <td>False</td>\n",
       "      <td>4</td>\n",
       "    </tr>\n",
       "  </tbody>\n",
       "</table>\n",
       "<table border=\"1\" class=\"dataframe\">\n",
       "  <thead>\n",
       "    <tr style=\"text-align: right;\">\n",
       "      <th>text</th>\n",
       "      <th>morphtag</th>\n",
       "      <th>pos</th>\n",
       "      <th>form</th>\n",
       "    </tr>\n",
       "  </thead>\n",
       "  <tbody>\n",
       "    <tr>\n",
       "      <td>See</td>\n",
       "      <td>POS=P|NUMBER=sg|CASE=nom</td>\n",
       "      <td>P</td>\n",
       "      <td>sg n</td>\n",
       "    </tr>\n",
       "    <tr>\n",
       "      <td>on</td>\n",
       "      <td>POS=V|VERB_TYPE=main|MOOD=indic|TENSE=pres|PERSON=ps3|NUMBER=sg|VERB_PS=ps|VERB_POLARITY=af</td>\n",
       "      <td>V</td>\n",
       "      <td>b</td>\n",
       "    </tr>\n",
       "    <tr>\n",
       "      <td>lause</td>\n",
       "      <td>POS=S|NOUN_TYPE=com|NUMBER=sg|CASE=nom</td>\n",
       "      <td>S</td>\n",
       "      <td>sg n</td>\n",
       "    </tr>\n",
       "    <tr>\n",
       "      <td>.</td>\n",
       "      <td>POS=Z|PUNCT_TYPE=Fst</td>\n",
       "      <td>Z</td>\n",
       "      <td></td>\n",
       "    </tr>\n",
       "  </tbody>\n",
       "</table>"
      ],
      "text/plain": [
       "Layer(name='morph_seq2seq_emb_cat_sum', attributes=('morphtag', 'pos', 'form'), spans=SL[Span('See', [{'morphtag': 'POS=P|NUMBER=sg|CASE=nom', 'pos': 'P', 'form': 'sg n'}]),\n",
       "Span('on', [{'morphtag': 'POS=V|VERB_TYPE=main|MOOD=indic|TENSE=pres|PERSON=ps3|NUMBER=sg|VERB_PS=ps|VERB_POLARITY=af', 'pos': 'V', 'form': 'b'}]),\n",
       "Span('lause', [{'morphtag': 'POS=S|NOUN_TYPE=com|NUMBER=sg|CASE=nom', 'pos': 'S', 'form': 'sg n'}]),\n",
       "Span('.', [{'morphtag': 'POS=Z|PUNCT_TYPE=Fst', 'pos': 'Z', 'form': ''}])])"
      ]
     },
     "execution_count": 5,
     "metadata": {},
     "output_type": "execute_result"
    }
   ],
   "source": [
    "from estnltk_neural.taggers import Seq2SeqEmbCatSumTagger\n",
    "\n",
    "tagger.reset()\n",
    "tagger = Seq2SeqEmbCatSumTagger('morph_seq2seq_emb_cat_sum')\n",
    "tagger.tag(text)\n",
    "text['morph_seq2seq_emb_cat_sum']"
   ]
  }
 ],
 "metadata": {
  "celltoolbar": "Tags",
  "kernelspec": {
   "display_name": "Python 3 (ipykernel)",
   "language": "python",
   "name": "python3"
  },
  "language_info": {
   "codemirror_mode": {
    "name": "ipython",
    "version": 3
   },
   "file_extension": ".py",
   "mimetype": "text/x-python",
   "name": "python",
   "nbconvert_exporter": "python",
   "pygments_lexer": "ipython3",
   "version": "3.8.12"
  }
 },
 "nbformat": 4,
 "nbformat_minor": 2
}
