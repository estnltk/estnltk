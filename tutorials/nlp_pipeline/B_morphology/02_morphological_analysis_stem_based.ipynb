{
 "cells": [
  {
   "cell_type": "markdown",
   "id": "a75ed46e-8908-4bb6-8902-cffd58a0866d",
   "metadata": {},
   "source": [
    "## <span style=\"color:purple\">Morphological analysis (stem-based)</span>\n",
    "\n",
    "By default, Vabamorf's morphological analysis is _lemma-based_, which means that inflectional forms will be normalized to their lemmas in the output. For instance, verb _'läks'_ will be normalized to root/lemma _'minema'_ and noun _'vette'_ will be normalized to root/lemma _'vesi'_. The default _lemma-based_ morphological analysis is described in tutorial [01_morphological_analysis.ipynb](01_morphological_analysis.ipynb). \n",
    "However, Vabamorf can also produce a **stem-based morphological analysis**, in which inflectional forms will be kept as they are in the surface form. For instance, verb _'läks'_ will be normalized to root/stem _'läk'_ (with ending _'s'_) and noun _'vette'_ will be normalized to root/stem _'ve'_ (with ending _'tt'_). \n",
    "\n",
    "Stem-based analysis can be switched on in VabamorfTagger (and in its sub-components VabamorfAnalyzer, PostMorphAnalysisTagger and VabamorfDisambiguator) by passing the flag `stem=True` to the tagger:"
   ]
  },
  {
   "cell_type": "code",
   "execution_count": 1,
   "id": "5d2f8b81-b156-49f1-b9ae-76ac305e19bd",
   "metadata": {},
   "outputs": [
    {
     "data": {
      "text/html": [
       "<h4>Layer</h4>\n",
       "\n",
       "\n",
       "<table border=\"1\" class=\"dataframe\">\n",
       "  <thead>\n",
       "    <tr style=\"text-align: right;\">\n",
       "      <th>layer name</th>\n",
       "      <th>attributes</th>\n",
       "      <th>parent</th>\n",
       "      <th>enveloping</th>\n",
       "      <th>ambiguous</th>\n",
       "      <th>span count</th>\n",
       "    </tr>\n",
       "  </thead>\n",
       "  <tbody>\n",
       "    <tr>\n",
       "      <td>stembased_morph_analysis</td>\n",
       "      <td>normalized_text, root, root_tokens, ending, clitic, form, partofspeech</td>\n",
       "      <td>words</td>\n",
       "      <td>None</td>\n",
       "      <td>True</td>\n",
       "      <td>8</td>\n",
       "    </tr>\n",
       "  </tbody>\n",
       "</table>\n",
       "<style type=\"text/css\">\n",
       "</style>\n",
       "<table id=\"T_e9b12\">\n",
       "  <thead>\n",
       "    <tr>\n",
       "      <th id=\"T_e9b12_level0_col0\" class=\"col_heading level0 col0\" >text</th>\n",
       "      <th id=\"T_e9b12_level0_col1\" class=\"col_heading level0 col1\" >normalized_text</th>\n",
       "      <th id=\"T_e9b12_level0_col2\" class=\"col_heading level0 col2\" >root</th>\n",
       "      <th id=\"T_e9b12_level0_col3\" class=\"col_heading level0 col3\" >root_tokens</th>\n",
       "      <th id=\"T_e9b12_level0_col4\" class=\"col_heading level0 col4\" >ending</th>\n",
       "      <th id=\"T_e9b12_level0_col5\" class=\"col_heading level0 col5\" >clitic</th>\n",
       "      <th id=\"T_e9b12_level0_col6\" class=\"col_heading level0 col6\" >form</th>\n",
       "      <th id=\"T_e9b12_level0_col7\" class=\"col_heading level0 col7\" >partofspeech</th>\n",
       "    </tr>\n",
       "  </thead>\n",
       "  <tbody>\n",
       "    <tr>\n",
       "      <td id=\"T_e9b12_row0_col0\" class=\"data row0 col0\" >Ta</td>\n",
       "      <td id=\"T_e9b12_row0_col1\" class=\"data row0 col1\" >Ta</td>\n",
       "      <td id=\"T_e9b12_row0_col2\" class=\"data row0 col2\" >ta</td>\n",
       "      <td id=\"T_e9b12_row0_col3\" class=\"data row0 col3\" >['ta']</td>\n",
       "      <td id=\"T_e9b12_row0_col4\" class=\"data row0 col4\" >0</td>\n",
       "      <td id=\"T_e9b12_row0_col5\" class=\"data row0 col5\" ></td>\n",
       "      <td id=\"T_e9b12_row0_col6\" class=\"data row0 col6\" >sg n</td>\n",
       "      <td id=\"T_e9b12_row0_col7\" class=\"data row0 col7\" >P</td>\n",
       "    </tr>\n",
       "    <tr>\n",
       "      <td id=\"T_e9b12_row1_col0\" class=\"data row1 col0\" >läks</td>\n",
       "      <td id=\"T_e9b12_row1_col1\" class=\"data row1 col1\" >läks</td>\n",
       "      <td id=\"T_e9b12_row1_col2\" class=\"data row1 col2\" >läk</td>\n",
       "      <td id=\"T_e9b12_row1_col3\" class=\"data row1 col3\" >['läk']</td>\n",
       "      <td id=\"T_e9b12_row1_col4\" class=\"data row1 col4\" >s</td>\n",
       "      <td id=\"T_e9b12_row1_col5\" class=\"data row1 col5\" ></td>\n",
       "      <td id=\"T_e9b12_row1_col6\" class=\"data row1 col6\" >s</td>\n",
       "      <td id=\"T_e9b12_row1_col7\" class=\"data row1 col7\" >V</td>\n",
       "    </tr>\n",
       "    <tr>\n",
       "      <td id=\"T_e9b12_row2_col0\" class=\"data row2 col0\" >omastega</td>\n",
       "      <td id=\"T_e9b12_row2_col1\" class=\"data row2 col1\" >omastega</td>\n",
       "      <td id=\"T_e9b12_row2_col2\" class=\"data row2 col2\" >omas</td>\n",
       "      <td id=\"T_e9b12_row2_col3\" class=\"data row2 col3\" >['omas']</td>\n",
       "      <td id=\"T_e9b12_row2_col4\" class=\"data row2 col4\" >tega</td>\n",
       "      <td id=\"T_e9b12_row2_col5\" class=\"data row2 col5\" ></td>\n",
       "      <td id=\"T_e9b12_row2_col6\" class=\"data row2 col6\" >pl kom</td>\n",
       "      <td id=\"T_e9b12_row2_col7\" class=\"data row2 col7\" >S</td>\n",
       "    </tr>\n",
       "    <tr>\n",
       "      <td id=\"T_e9b12_row3_col0\" class=\"data row3 col0\" >rappa</td>\n",
       "      <td id=\"T_e9b12_row3_col1\" class=\"data row3 col1\" >rappa</td>\n",
       "      <td id=\"T_e9b12_row3_col2\" class=\"data row3 col2\" >rappa</td>\n",
       "      <td id=\"T_e9b12_row3_col3\" class=\"data row3 col3\" >['rappa']</td>\n",
       "      <td id=\"T_e9b12_row3_col4\" class=\"data row3 col4\" >0</td>\n",
       "      <td id=\"T_e9b12_row3_col5\" class=\"data row3 col5\" ></td>\n",
       "      <td id=\"T_e9b12_row3_col6\" class=\"data row3 col6\" >adt</td>\n",
       "      <td id=\"T_e9b12_row3_col7\" class=\"data row3 col7\" >S</td>\n",
       "    </tr>\n",
       "    <tr>\n",
       "      <td id=\"T_e9b12_row4_col0\" class=\"data row4 col0\" >ja</td>\n",
       "      <td id=\"T_e9b12_row4_col1\" class=\"data row4 col1\" >ja</td>\n",
       "      <td id=\"T_e9b12_row4_col2\" class=\"data row4 col2\" >ja</td>\n",
       "      <td id=\"T_e9b12_row4_col3\" class=\"data row4 col3\" >['ja']</td>\n",
       "      <td id=\"T_e9b12_row4_col4\" class=\"data row4 col4\" >0</td>\n",
       "      <td id=\"T_e9b12_row4_col5\" class=\"data row4 col5\" ></td>\n",
       "      <td id=\"T_e9b12_row4_col6\" class=\"data row4 col6\" ></td>\n",
       "      <td id=\"T_e9b12_row4_col7\" class=\"data row4 col7\" >J</td>\n",
       "    </tr>\n",
       "    <tr>\n",
       "      <td id=\"T_e9b12_row5_col0\" class=\"data row5 col0\" >jõi</td>\n",
       "      <td id=\"T_e9b12_row5_col1\" class=\"data row5 col1\" >jõi</td>\n",
       "      <td id=\"T_e9b12_row5_col2\" class=\"data row5 col2\" >jõ</td>\n",
       "      <td id=\"T_e9b12_row5_col3\" class=\"data row5 col3\" >['jõ']</td>\n",
       "      <td id=\"T_e9b12_row5_col4\" class=\"data row5 col4\" >i</td>\n",
       "      <td id=\"T_e9b12_row5_col5\" class=\"data row5 col5\" ></td>\n",
       "      <td id=\"T_e9b12_row5_col6\" class=\"data row5 col6\" >s</td>\n",
       "      <td id=\"T_e9b12_row5_col7\" class=\"data row5 col7\" >V</td>\n",
       "    </tr>\n",
       "    <tr>\n",
       "      <td id=\"T_e9b12_row6_col0\" class=\"data row6 col0\" >hundijalavett</td>\n",
       "      <td id=\"T_e9b12_row6_col1\" class=\"data row6 col1\" >hundijalavett</td>\n",
       "      <td id=\"T_e9b12_row6_col2\" class=\"data row6 col2\" >hundi_jala_ve</td>\n",
       "      <td id=\"T_e9b12_row6_col3\" class=\"data row6 col3\" >['hundi', 'jala', 've']</td>\n",
       "      <td id=\"T_e9b12_row6_col4\" class=\"data row6 col4\" >tt</td>\n",
       "      <td id=\"T_e9b12_row6_col5\" class=\"data row6 col5\" ></td>\n",
       "      <td id=\"T_e9b12_row6_col6\" class=\"data row6 col6\" >sg p</td>\n",
       "      <td id=\"T_e9b12_row6_col7\" class=\"data row6 col7\" >S</td>\n",
       "    </tr>\n",
       "    <tr>\n",
       "      <td id=\"T_e9b12_row7_col0\" class=\"data row7 col0\" >.</td>\n",
       "      <td id=\"T_e9b12_row7_col1\" class=\"data row7 col1\" >.</td>\n",
       "      <td id=\"T_e9b12_row7_col2\" class=\"data row7 col2\" >.</td>\n",
       "      <td id=\"T_e9b12_row7_col3\" class=\"data row7 col3\" >['.']</td>\n",
       "      <td id=\"T_e9b12_row7_col4\" class=\"data row7 col4\" ></td>\n",
       "      <td id=\"T_e9b12_row7_col5\" class=\"data row7 col5\" ></td>\n",
       "      <td id=\"T_e9b12_row7_col6\" class=\"data row7 col6\" ></td>\n",
       "      <td id=\"T_e9b12_row7_col7\" class=\"data row7 col7\" >Z</td>\n",
       "    </tr>\n",
       "  </tbody>\n",
       "</table>\n"
      ],
      "text/plain": [
       "Layer(name='stembased_morph_analysis', attributes=('normalized_text', 'root', 'root_tokens', 'ending', 'clitic', 'form', 'partofspeech'), spans=SL[Span('Ta', [{'normalized_text': 'Ta', 'root': 'ta', 'root_tokens': ['ta'], 'ending': '0', 'clitic': '', 'form': 'sg n', 'partofspeech': 'P'}]),\n",
       "Span('läks', [{'normalized_text': 'läks', 'root': 'läk', 'root_tokens': ['läk'], 'ending': 's', 'clitic': '', 'form': 's', 'partofspeech': 'V'}]),\n",
       "Span('omastega', [{'normalized_text': 'omastega', 'root': 'omas', 'root_tokens': ['omas'], 'ending': 'tega', 'clitic': '', 'form': 'pl kom', 'partofspeech': 'S'}]),\n",
       "Span('rappa', [{'normalized_text': 'rappa', 'root': 'rappa', 'root_tokens': ['rappa'], 'ending': '0', 'clitic': '', 'form': 'adt', 'partofspeech': 'S'}]),\n",
       "Span('ja', [{'normalized_text': 'ja', 'root': 'ja', 'root_tokens': ['ja'], 'ending': '0', 'clitic': '', 'form': '', 'partofspeech': 'J'}]),\n",
       "Span('jõi', [{'normalized_text': 'jõi', 'root': 'jõ', 'root_tokens': ['jõ'], 'ending': 'i', 'clitic': '', 'form': 's', 'partofspeech': 'V'}]),\n",
       "Span('hundijalavett', [{'normalized_text': 'hundijalavett', 'root': 'hundi_jala_ve', 'root_tokens': ['hundi', 'jala', 've'], 'ending': 'tt', 'clitic': '', 'form': 'sg p', 'partofspeech': 'S'}]),\n",
       "Span('.', [{'normalized_text': '.', 'root': '.', 'root_tokens': ['.'], 'ending': '', 'clitic': '', 'form': '', 'partofspeech': 'Z'}])])"
      ]
     },
     "execution_count": 1,
     "metadata": {},
     "output_type": "execute_result"
    }
   ],
   "source": [
    "from estnltk import Text\n",
    "from estnltk.taggers import VabamorfTagger\n",
    "\n",
    "# Initialize stem-based morphological analyser\n",
    "# Also, rename the layer to distinguish it from the default morph layer\n",
    "morph_tagger = VabamorfTagger(output_layer='stembased_morph_analysis', stem=True)\n",
    "\n",
    "# Prepare text\n",
    "text=Text(\"Ta läks omastega rappa ja jõi hundijalavett.\")\n",
    "# Tag layers required by morph analysis\n",
    "text.tag_layer(['words','sentences'])\n",
    "\n",
    "# Tag morph analysis\n",
    "morph_tagger.tag( text )\n",
    "\n",
    "# Results\n",
    "text.stembased_morph_analysis"
   ]
  },
  {
   "cell_type": "markdown",
   "id": "c735ef34-741a-446c-98fe-15e0fc6d7e21",
   "metadata": {},
   "source": [
    "Note that there is no _lemma_ attribute in the output layer. \n",
    "This is also hinders the usability of the `stembased_morph_analysis` by other tools, because most of the tools require lemma-based morphological analysis.\n",
    "\n",
    "Let's now compare stem-based and lemma-based morphological analysis:"
   ]
  },
  {
   "cell_type": "code",
   "execution_count": 2,
   "id": "85adf697-475f-4545-974c-0c5f46a4cafe",
   "metadata": {},
   "outputs": [
    {
     "name": "stdout",
     "output_type": "stream",
     "text": [
      "'Ta'             lemma-based root: ['tema']              stem-based root: ['ta']                ending: ['0']\n",
      "'läks'           lemma-based root: ['mine']              stem-based root: ['läk']               ending: ['s']\n",
      "'omastega'       lemma-based root: ['omaksed']           stem-based root: ['omas']              ending: ['tega']\n",
      "'rappa'          lemma-based root: ['raba']              stem-based root: ['rappa']             ending: ['0']\n",
      "'ja'             lemma-based root: ['ja']                stem-based root: ['ja']                ending: ['0']\n",
      "'jõi'            lemma-based root: ['joo']               stem-based root: ['jõ']                ending: ['i']\n",
      "'hundijalavett'  lemma-based root: ['hundi_jala_vesi']   stem-based root: ['hundi_jala_ve']     ending: ['tt']\n",
      "'.'              lemma-based root: ['.']                 stem-based root: ['.']                 ending: ['']\n"
     ]
    }
   ],
   "source": [
    "# add the lemma-based morphological analysis\n",
    "text.tag_layer('morph_analysis')\n",
    "\n",
    "# compare roots of stem-based and lemma-based morphological analysis\n",
    "for word, lemma, stem, ending in zip(text.words.text, text.morph_analysis['root'], \\\n",
    "                                     text.stembased_morph_analysis['root'], text.stembased_morph_analysis['ending']):\n",
    "    print(f'{word!r:15}  lemma-based root: {lemma!r:20}  stem-based root: {stem!r:20}  ending: {ending!r}')"
   ]
  },
  {
   "cell_type": "markdown",
   "id": "47172321-ce32-435c-a81e-693ead6e1471",
   "metadata": {},
   "source": [
    "### Limitations"
   ]
  },
  {
   "cell_type": "markdown",
   "id": "e58a760d-5453-4b89-8978-3aa2c9be814c",
   "metadata": {},
   "source": [
    "<div class=\"alert alert-block alert-warning\">\n",
    "<h4><i>VabamorfTagger's limitations with stem-based analysis</i></h4>\n",
    "<br>\n",
    "VabamorfTagger's flags <code>predisambiguate</code>, <code>postdisambiguate</code> and <code>use_reorderer</code> will be automatically set to <code>False</code> with stem-based analysis, because corresponding components (<code>CorpusBasedMorphDisambiguator</code> and <code>MorphAnalysisReorderer</code>) <b>do not support</b> stem-based analysis.\n",
    "</div>"
   ]
  },
  {
   "cell_type": "markdown",
   "id": "c3d73bfc-8c63-4565-8821-17d15abf25e0",
   "metadata": {},
   "source": [
    "<div class=\"alert alert-block alert-warning\">\n",
    "<h4><i>Warning: Stem-based morphological analysis <b>is not supported</b> by most of the downstream taggers in the pipeline</i></h4>\n",
    "<br>\n",
    "Please note that stem-based morphological analysis is currently <b>not supported</b> by most of downstream taggers that are depending on morphological analysis (such as named entity recognition and syntactic parsing). \n",
    "The taggers become unapplicable if the <code>morph_analysis</code> layer contains stem-based analysis instead of the default lemma-based one. Therefore, if you use stem-based morphological analysis, it is not recommended to use any taggers depending on <code>morph_analysis</code> (or use these taggers only when you know what you are doing).\n",
    "</div>"
   ]
  }
 ],
 "metadata": {
  "kernelspec": {
   "display_name": "Python 3 (ipykernel)",
   "language": "python",
   "name": "python3"
  },
  "language_info": {
   "codemirror_mode": {
    "name": "ipython",
    "version": 3
   },
   "file_extension": ".py",
   "mimetype": "text/x-python",
   "name": "python",
   "nbconvert_exporter": "python",
   "pygments_lexer": "ipython3",
   "version": "3.10.14"
  }
 },
 "nbformat": 4,
 "nbformat_minor": 5
}
