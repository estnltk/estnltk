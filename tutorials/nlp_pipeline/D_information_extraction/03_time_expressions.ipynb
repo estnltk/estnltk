{
 "cells": [
  {
   "cell_type": "markdown",
   "metadata": {},
   "source": [
    "## <span style=\"color:purple\"> Information extraction: temporal expressions (timexes)</span>\n",
    "\n",
    "Natural language texts often contain temporal expressions referring to calendrical timepoints or periods, such as _24. aprillil_ (on 24th of April), _kaks aastat_ (two years) or _igal aastal_ (annually).\n",
    "These kinds of temporal expressions can be automatically detected and semantically analysed by EstNLTK's `TimexTagger`. The tool identifies temporal expression phrases ( _timexes_ ) in text and normalizes these expressions, providing corresponding calendrical dates, times and durations.\n",
    "\n",
    "EstNLTK uses a Java-based temporal expression tagger implementation. Before tagging temporal expressions, make sure that:\n",
    "  * Java SE Runtime Environment (version >= 1.8) is installed into the system;\n",
    "  * `java` is in the [PATH environment variable](https://docs.oracle.com/javase/tutorial/essential/environment/paths.html);\n",
    "\n",
    "The easiest way to use `TimexTagger` is via default resolver:"
   ]
  },
  {
   "cell_type": "code",
   "execution_count": 1,
   "metadata": {},
   "outputs": [
    {
     "data": {
      "text/html": [
       "<h4>Layer</h4>\n",
       "\n",
       "\n",
       "<table border=\"1\" class=\"dataframe\">\n",
       "  <thead>\n",
       "    <tr style=\"text-align: right;\">\n",
       "      <th>layer name</th>\n",
       "      <th>attributes</th>\n",
       "      <th>parent</th>\n",
       "      <th>enveloping</th>\n",
       "      <th>ambiguous</th>\n",
       "      <th>span count</th>\n",
       "    </tr>\n",
       "  </thead>\n",
       "  <tbody>\n",
       "    <tr>\n",
       "      <td>timexes</td>\n",
       "      <td>tid, type, value, temporal_function, anchor_time_id, mod, quant, freq, begin_point, end_point, part_of_interval</td>\n",
       "      <td>None</td>\n",
       "      <td>None</td>\n",
       "      <td>False</td>\n",
       "      <td>3</td>\n",
       "    </tr>\n",
       "  </tbody>\n",
       "</table>\n",
       "<style type=\"text/css\">\n",
       "#T_811e7_row0_col6, #T_811e7_row0_col7, #T_811e7_row0_col8, #T_811e7_row0_col9, #T_811e7_row0_col10, #T_811e7_row0_col11, #T_811e7_row1_col6, #T_811e7_row1_col7, #T_811e7_row1_col8, #T_811e7_row1_col9, #T_811e7_row1_col10, #T_811e7_row1_col11, #T_811e7_row2_col5, #T_811e7_row2_col6, #T_811e7_row2_col7, #T_811e7_row2_col8, #T_811e7_row2_col9, #T_811e7_row2_col10, #T_811e7_row2_col11 {\n",
       "  opacity: 20%;\n",
       "}\n",
       "</style>\n",
       "<table id=\"T_811e7\">\n",
       "  <thead>\n",
       "    <tr>\n",
       "      <th id=\"T_811e7_level0_col0\" class=\"col_heading level0 col0\" >text</th>\n",
       "      <th id=\"T_811e7_level0_col1\" class=\"col_heading level0 col1\" >tid</th>\n",
       "      <th id=\"T_811e7_level0_col2\" class=\"col_heading level0 col2\" >type</th>\n",
       "      <th id=\"T_811e7_level0_col3\" class=\"col_heading level0 col3\" >value</th>\n",
       "      <th id=\"T_811e7_level0_col4\" class=\"col_heading level0 col4\" >temporal_function</th>\n",
       "      <th id=\"T_811e7_level0_col5\" class=\"col_heading level0 col5\" >anchor_time_id</th>\n",
       "      <th id=\"T_811e7_level0_col6\" class=\"col_heading level0 col6\" >mod</th>\n",
       "      <th id=\"T_811e7_level0_col7\" class=\"col_heading level0 col7\" >quant</th>\n",
       "      <th id=\"T_811e7_level0_col8\" class=\"col_heading level0 col8\" >freq</th>\n",
       "      <th id=\"T_811e7_level0_col9\" class=\"col_heading level0 col9\" >begin_point</th>\n",
       "      <th id=\"T_811e7_level0_col10\" class=\"col_heading level0 col10\" >end_point</th>\n",
       "      <th id=\"T_811e7_level0_col11\" class=\"col_heading level0 col11\" >part_of_interval</th>\n",
       "    </tr>\n",
       "  </thead>\n",
       "  <tbody>\n",
       "    <tr>\n",
       "      <td id=\"T_811e7_row0_col0\" class=\"data row0 col0\" >eile</td>\n",
       "      <td id=\"T_811e7_row0_col1\" class=\"data row0 col1\" >t1</td>\n",
       "      <td id=\"T_811e7_row0_col2\" class=\"data row0 col2\" >DATE</td>\n",
       "      <td id=\"T_811e7_row0_col3\" class=\"data row0 col3\" >2014-12-02</td>\n",
       "      <td id=\"T_811e7_row0_col4\" class=\"data row0 col4\" >True</td>\n",
       "      <td id=\"T_811e7_row0_col5\" class=\"data row0 col5\" >t0</td>\n",
       "      <td id=\"T_811e7_row0_col6\" class=\"data row0 col6\" >None</td>\n",
       "      <td id=\"T_811e7_row0_col7\" class=\"data row0 col7\" >None</td>\n",
       "      <td id=\"T_811e7_row0_col8\" class=\"data row0 col8\" >None</td>\n",
       "      <td id=\"T_811e7_row0_col9\" class=\"data row0 col9\" >None</td>\n",
       "      <td id=\"T_811e7_row0_col10\" class=\"data row0 col10\" >None</td>\n",
       "      <td id=\"T_811e7_row0_col11\" class=\"data row0 col11\" >None</td>\n",
       "    </tr>\n",
       "    <tr>\n",
       "      <td id=\"T_811e7_row1_col0\" class=\"data row1 col0\" >nüüd</td>\n",
       "      <td id=\"T_811e7_row1_col1\" class=\"data row1 col1\" >t2</td>\n",
       "      <td id=\"T_811e7_row1_col2\" class=\"data row1 col2\" >DATE</td>\n",
       "      <td id=\"T_811e7_row1_col3\" class=\"data row1 col3\" >PRESENT_REF</td>\n",
       "      <td id=\"T_811e7_row1_col4\" class=\"data row1 col4\" >True</td>\n",
       "      <td id=\"T_811e7_row1_col5\" class=\"data row1 col5\" >t0</td>\n",
       "      <td id=\"T_811e7_row1_col6\" class=\"data row1 col6\" >None</td>\n",
       "      <td id=\"T_811e7_row1_col7\" class=\"data row1 col7\" >None</td>\n",
       "      <td id=\"T_811e7_row1_col8\" class=\"data row1 col8\" >None</td>\n",
       "      <td id=\"T_811e7_row1_col9\" class=\"data row1 col9\" >None</td>\n",
       "      <td id=\"T_811e7_row1_col10\" class=\"data row1 col10\" >None</td>\n",
       "      <td id=\"T_811e7_row1_col11\" class=\"data row1 col11\" >None</td>\n",
       "    </tr>\n",
       "    <tr>\n",
       "      <td id=\"T_811e7_row2_col0\" class=\"data row2 col0\" >viie aasta</td>\n",
       "      <td id=\"T_811e7_row2_col1\" class=\"data row2 col1\" >t3</td>\n",
       "      <td id=\"T_811e7_row2_col2\" class=\"data row2 col2\" >DURATION</td>\n",
       "      <td id=\"T_811e7_row2_col3\" class=\"data row2 col3\" >P5Y</td>\n",
       "      <td id=\"T_811e7_row2_col4\" class=\"data row2 col4\" >False</td>\n",
       "      <td id=\"T_811e7_row2_col5\" class=\"data row2 col5\" >None</td>\n",
       "      <td id=\"T_811e7_row2_col6\" class=\"data row2 col6\" >None</td>\n",
       "      <td id=\"T_811e7_row2_col7\" class=\"data row2 col7\" >None</td>\n",
       "      <td id=\"T_811e7_row2_col8\" class=\"data row2 col8\" >None</td>\n",
       "      <td id=\"T_811e7_row2_col9\" class=\"data row2 col9\" >None</td>\n",
       "      <td id=\"T_811e7_row2_col10\" class=\"data row2 col10\" >None</td>\n",
       "      <td id=\"T_811e7_row2_col11\" class=\"data row2 col11\" >None</td>\n",
       "    </tr>\n",
       "  </tbody>\n",
       "</table>\n"
      ],
      "text/plain": [
       "Layer(name='timexes', attributes=('tid', 'type', 'value', 'temporal_function', 'anchor_time_id', 'mod', 'quant', 'freq', 'begin_point', 'end_point', 'part_of_interval'), spans=SL[Span('eile', [{'tid': 't1', 'type': 'DATE', 'value': '2014-12-02', 'temporal_function': True, 'anchor_time_id': 't0', 'mod': None, 'quant': None, 'freq': None, 'begin_point': None, 'end_point': None, 'part_of_interval': None}]),\n",
       "Span('nüüd', [{'tid': 't2', 'type': 'DATE', 'value': 'PRESENT_REF', 'temporal_function': True, 'anchor_time_id': 't0', 'mod': None, 'quant': None, 'freq': None, 'begin_point': None, 'end_point': None, 'part_of_interval': None}]),\n",
       "Span('viie aasta', [{'tid': 't3', 'type': 'DURATION', 'value': 'P5Y', 'temporal_function': False, 'anchor_time_id': None, 'mod': None, 'quant': None, 'freq': None, 'begin_point': None, 'end_point': None, 'part_of_interval': None}])])"
      ]
     },
     "execution_count": 1,
     "metadata": {},
     "output_type": "execute_result"
    }
   ],
   "source": [
    "from estnltk import Text\n",
    "\n",
    "text = Text('Potsataja ütles eile, et vaatavad nüüd Genaga viie aasta plaanid uuesti üle.')\n",
    "\n",
    "# Mark creation time of the document\n",
    "text.meta['document_creation_time'] = '2014-12-03'\n",
    "\n",
    "# Tag temporal expressions\n",
    "text.tag_layer('timexes')\n",
    "\n",
    "# Browse results\n",
    "text.timexes"
   ]
  },
  {
   "cell_type": "code",
   "execution_count": 2,
   "metadata": {},
   "outputs": [
    {
     "data": {
      "text/html": [
       "<h4>AttributeTupleList (spans)</h4>\n",
       "<table border=\"1\" class=\"dataframe\">\n",
       "  <thead>\n",
       "    <tr style=\"text-align: right;\">\n",
       "      <th></th>\n",
       "      <th>text</th>\n",
       "      <th>type</th>\n",
       "      <th>value</th>\n",
       "      <th>temporal_function</th>\n",
       "    </tr>\n",
       "  </thead>\n",
       "  <tbody>\n",
       "    <tr>\n",
       "      <td>0</td>\n",
       "      <td>eile</td>\n",
       "      <td>DATE</td>\n",
       "      <td>2014-12-02</td>\n",
       "      <td>True</td>\n",
       "    </tr>\n",
       "    <tr>\n",
       "      <td>1</td>\n",
       "      <td>nüüd</td>\n",
       "      <td>DATE</td>\n",
       "      <td>PRESENT_REF</td>\n",
       "      <td>True</td>\n",
       "    </tr>\n",
       "    <tr>\n",
       "      <td>2</td>\n",
       "      <td>viie aasta</td>\n",
       "      <td>DURATION</td>\n",
       "      <td>P5Y</td>\n",
       "      <td>False</td>\n",
       "    </tr>\n",
       "  </tbody>\n",
       "</table>"
      ],
      "text/plain": [
       "AttributeTupleList([['eile', 'DATE', '2014-12-02', True], ['nüüd', 'DATE', 'PRESENT_REF', True], ['viie aasta', 'DURATION', 'P5Y', False]], ('text', 'type', 'value', 'temporal_function'))"
      ]
     },
     "execution_count": 2,
     "metadata": {},
     "output_type": "execute_result"
    }
   ],
   "source": [
    "# Browse results with specific annotation attributes\n",
    "text.timexes[['text','type','value','temporal_function']]"
   ]
  },
  {
   "cell_type": "code",
   "execution_count": 3,
   "metadata": {},
   "outputs": [
    {
     "data": {
      "text/plain": [
       "['eile', 'nüüd', 'viie aasta']"
      ]
     },
     "execution_count": 3,
     "metadata": {},
     "output_type": "execute_result"
    }
   ],
   "source": [
    "# Get timex strings\n",
    "[timex.text for timex in text.timexes]"
   ]
  },
  {
   "cell_type": "code",
   "execution_count": 4,
   "metadata": {},
   "outputs": [
    {
     "data": {
      "text/plain": [
       "[('eile', '2014-12-02'), ('nüüd', 'PRESENT_REF'), ('viie aasta', 'P5Y')]"
      ]
     },
     "execution_count": 4,
     "metadata": {},
     "output_type": "execute_result"
    }
   ],
   "source": [
    "# Get timex strings & corresponding normalized times\n",
    "[(timex.text, timex.value) for timex in text.timexes]"
   ]
  },
  {
   "cell_type": "markdown",
   "metadata": {},
   "source": [
    "See the sections _\"TIMEX attributes: a breif overview\"_ and _\"Details of the annotation format\"_ below for the description of the annotation format."
   ]
  },
  {
   "cell_type": "markdown",
   "metadata": {},
   "source": [
    "A detailed description of Estonian temporal expression tagger, including algorithmic details and evaluation of the performance is available in the article [Orasmaa (2012)](http://dx.doi.org/10.5128/ERYa8.10); evaluation results are also summarized in the article [Orasmaa and Kaalep (2017)]( http://www.ep.liu.se/ecp/131/022/ecp17131022.pdf)."
   ]
  },
  {
   "cell_type": "markdown",
   "metadata": {},
   "source": [
    "## Using as a tagger"
   ]
  },
  {
   "cell_type": "markdown",
   "metadata": {},
   "source": [
    "You can also use `TimexTagger` as a separate tagger. Example:"
   ]
  },
  {
   "cell_type": "code",
   "execution_count": 5,
   "metadata": {},
   "outputs": [
    {
     "data": {
      "text/html": [
       "<h4>AttributeTupleList (spans)</h4>\n",
       "<table border=\"1\" class=\"dataframe\">\n",
       "  <thead>\n",
       "    <tr style=\"text-align: right;\">\n",
       "      <th></th>\n",
       "      <th>text</th>\n",
       "      <th>type</th>\n",
       "      <th>value</th>\n",
       "      <th>temporal_function</th>\n",
       "    </tr>\n",
       "  </thead>\n",
       "  <tbody>\n",
       "    <tr>\n",
       "      <td>0</td>\n",
       "      <td>eile</td>\n",
       "      <td>DATE</td>\n",
       "      <td>2014-12-02</td>\n",
       "      <td>True</td>\n",
       "    </tr>\n",
       "    <tr>\n",
       "      <td>1</td>\n",
       "      <td>nüüd</td>\n",
       "      <td>DATE</td>\n",
       "      <td>PRESENT_REF</td>\n",
       "      <td>True</td>\n",
       "    </tr>\n",
       "    <tr>\n",
       "      <td>2</td>\n",
       "      <td>viie aasta</td>\n",
       "      <td>DURATION</td>\n",
       "      <td>P5Y</td>\n",
       "      <td>False</td>\n",
       "    </tr>\n",
       "  </tbody>\n",
       "</table>"
      ],
      "text/plain": [
       "AttributeTupleList([['eile', 'DATE', '2014-12-02', True], ['nüüd', 'DATE', 'PRESENT_REF', True], ['viie aasta', 'DURATION', 'P5Y', False]], ('text', 'type', 'value', 'temporal_function'))"
      ]
     },
     "execution_count": 5,
     "metadata": {},
     "output_type": "execute_result"
    }
   ],
   "source": [
    "from estnltk import Text\n",
    "from estnltk.taggers import TimexTagger\n",
    "timex_tagger = TimexTagger()\n",
    "\n",
    "# Create new text object\n",
    "text = Text('Potsataja ütles eile, et vaatavad nüüd Genaga viie aasta plaanid uuesti üle.')\n",
    "\n",
    "# Mark creation time of the document\n",
    "text.meta['document_creation_time'] = '2014-12-03'\n",
    "\n",
    "# Annotate temporal expressions ('timexes')\n",
    "timex_tagger.tag(text)\n",
    "\n",
    "# Browse results\n",
    "text.timexes[['text','type','value','temporal_function']]"
   ]
  },
  {
   "cell_type": "markdown",
   "metadata": {},
   "source": [
    "**Note**: As `TimexTagger` uses Java-based processing, Java's resources should be released after the processing is done. This can be done by calling `timex_tagger.close()`. Alternatively, you can use `TimexTagger` as a context manager inside the _with_ statement (see the _\"Technical notes\"_ below for details) so that resources will be released automatically."
   ]
  },
  {
   "cell_type": "markdown",
   "metadata": {},
   "source": [
    "## TIMEX attributes: a breif overview\n",
    "\n",
    "The attributes of temporal expression are based on the attributes of the TIMEX3 tag in [TimeML](https://en.wikipedia.org/wiki/TimeML). While there are quite a few attributes, at first, you may want to focus on the attributes `type`, `value` and `temporal_function`, which convey the most important normalization details (for a robust practical analysis):"
   ]
  },
  {
   "cell_type": "code",
   "execution_count": 6,
   "metadata": {},
   "outputs": [
    {
     "data": {
      "text/html": [
       "<h4>AttributeTupleList (spans)</h4>\n",
       "<table border=\"1\" class=\"dataframe\">\n",
       "  <thead>\n",
       "    <tr style=\"text-align: right;\">\n",
       "      <th></th>\n",
       "      <th>text</th>\n",
       "      <th>type</th>\n",
       "      <th>value</th>\n",
       "      <th>temporal_function</th>\n",
       "    </tr>\n",
       "  </thead>\n",
       "  <tbody>\n",
       "    <tr>\n",
       "      <td>0</td>\n",
       "      <td>eile</td>\n",
       "      <td>DATE</td>\n",
       "      <td>2014-12-02</td>\n",
       "      <td>True</td>\n",
       "    </tr>\n",
       "    <tr>\n",
       "      <td>1</td>\n",
       "      <td>nüüd</td>\n",
       "      <td>DATE</td>\n",
       "      <td>PRESENT_REF</td>\n",
       "      <td>True</td>\n",
       "    </tr>\n",
       "    <tr>\n",
       "      <td>2</td>\n",
       "      <td>viie aasta</td>\n",
       "      <td>DURATION</td>\n",
       "      <td>P5Y</td>\n",
       "      <td>False</td>\n",
       "    </tr>\n",
       "  </tbody>\n",
       "</table>"
      ],
      "text/plain": [
       "AttributeTupleList([['eile', 'DATE', '2014-12-02', True], ['nüüd', 'DATE', 'PRESENT_REF', True], ['viie aasta', 'DURATION', 'P5Y', False]], ('text', 'type', 'value', 'temporal_function'))"
      ]
     },
     "execution_count": 6,
     "metadata": {},
     "output_type": "execute_result"
    }
   ],
   "source": [
    "# Browse types, values and temporal functions\n",
    "text.timexes[['text','type', 'value', 'temporal_function']]"
   ]
  },
  {
   "cell_type": "markdown",
   "metadata": {},
   "source": [
    "Attributes explained in more detail:\n",
    "\n",
    "   * **`type`** -- type of the temporal expression. Can be one of the following:\n",
    "       * `DATE` -- occurrence dates, such as _24. aprillil_ (on 24th of April), or _eelmise aastal_ (in last year);\n",
    "       * `TIME` -- occurrence times which have a granularity smaller than day, \n",
    "         such as _neljapäeva pärastlõunal_ (on Thursday afternoon),  _eile kell 3 päeval_ (yesterday at 3 p.m.);\n",
    "       * `DURATION` -- duration specifications, such as _kaks aastat_ (two years), or _pool päeva_ (half a day);\n",
    "       * `SET` -- recurrence specifications, such as _kolmapäeviti_ (on every Wednesday) or _igal aastal_ (annually);\n",
    "\n",
    "\n",
    "   * **`value`** -- semantics of the expression (mostly calendrical). Examples:\n",
    "   \n",
    "       * Most date and time expressions will be normalized based on the ISO datetime format `yyyy-mm-ddThh:mm`. For instance, _'24. aprillil 2009'_ (on 24th of April, 2009) will be normalized as `value=2009-04-24`;\n",
    "       * Duration expressions will be normalized based on the ISO duration format `P[n]Y[n]M[n]DT[n]H[n]M[n]S`. For instance, _'kaks aastat'_ (two years) will be normalized as `value=P2Y`;\n",
    "       * For common non-calendrical time expressions, special labels will be used in the value part. For instance, _'nüüd'_ (now) will be normalised as a reference to the present time (`value=PRESENT_REF`);\n",
    "       \n",
    "       See the section \"Details of the annotation format\" below for more information about possible formats of the `value`;\n",
    "       \n",
    "     \n",
    "   * **`temporal_function`** -- boolean indicating whether the semantics of the expression are relative to the context ( that is: have been calculated/need to be calculated by some function, hence the name `temporal_function` );\n",
    "   \n",
    "      * For `DATE` and `TIME` expressions:\n",
    "      \n",
    "           * `temporal_function=true` indicates that the expression is relative. For instance, _'eile'_ (yesterday) has `temporal_function=true` because its value will be calculated relative to the context (the creation time of the document);\n",
    "           \n",
    "           * `temporal_function=false` indicates that the expression is absolute. For instance, _'2009. aastal'_ (in 2009) has `temporal_function=false` because its value will be copied from the textual part of the expression (no need for calculations);\n",
    "           \n",
    "     * For `DURATION` expressions, `temporal_function` is mostly `false`, except for vague durations;\n",
    "     * For `SET` expressions, `temporal_function` is always `true`;\n",
    "     \n",
    "Other timex attributes ( `tid`, `mod`, `anchor_time_id`, `quant`, `freq`, `begin_point`, `end_point` and `part_of_interval` ) will be explained in more detail in the section _\"Details of the annotation format\"_ below."
   ]
  },
  {
   "cell_type": "markdown",
   "metadata": {},
   "source": [
    "## Document creation date\n",
    "\n",
    "In order to get the semantics of relative date and time expressions correct, you need to provide the _document creation time_ (_DCT_ in short), which is then used to calculate semantics of expressions such as _'eile'_ (yesterday) and _'järgmisel neljapäeval'_ (on next Thursday).\n",
    "\n",
    "`TimexTagger` looks for the _document creation time_ under the text metadata, searching for keys named `'dct'`, `'creation_time'` or `'document_creation_time'` (in that precise order). Normally, it is expected that _document creation time_ is a string in the ISO datetime format (`YYYY-mm-ddTHH:MM`) or in ISO date format (`YYYY-mm-dd`):"
   ]
  },
  {
   "cell_type": "code",
   "execution_count": 7,
   "metadata": {},
   "outputs": [
    {
     "data": {
      "text/html": [
       "<h4>AttributeTupleList (spans)</h4>\n",
       "<table border=\"1\" class=\"dataframe\">\n",
       "  <thead>\n",
       "    <tr style=\"text-align: right;\">\n",
       "      <th></th>\n",
       "      <th>text</th>\n",
       "      <th>type</th>\n",
       "      <th>value</th>\n",
       "      <th>temporal_function</th>\n",
       "    </tr>\n",
       "  </thead>\n",
       "  <tbody>\n",
       "    <tr>\n",
       "      <td>0</td>\n",
       "      <td>eile</td>\n",
       "      <td>DATE</td>\n",
       "      <td>2010-04-25</td>\n",
       "      <td>True</td>\n",
       "    </tr>\n",
       "    <tr>\n",
       "      <td>1</td>\n",
       "      <td>täna</td>\n",
       "      <td>DATE</td>\n",
       "      <td>2010-04-26</td>\n",
       "      <td>True</td>\n",
       "    </tr>\n",
       "  </tbody>\n",
       "</table>"
      ],
      "text/plain": [
       "AttributeTupleList([['eile', 'DATE', '2010-04-25', True], ['täna', 'DATE', '2010-04-26', True]], ('text', 'type', 'value', 'temporal_function'))"
      ]
     },
     "execution_count": 7,
     "metadata": {},
     "output_type": "execute_result"
    }
   ],
   "source": [
    "# Create new text object\n",
    "text = Text('Tulid eile meile, selle asemel et tulla täna?')\n",
    "\n",
    "# Mark creation time of the document in the metadata\n",
    "text.meta['document_creation_time'] = '2010-04-26'\n",
    "\n",
    "# Annotate temporal expressions ('timexes')\n",
    "timex_tagger.tag(text)\n",
    "\n",
    "# Browse results\n",
    "text.timexes[['text', 'type', 'value', 'temporal_function']]"
   ]
  },
  {
   "cell_type": "markdown",
   "metadata": {},
   "source": [
    "Optionally, you can also use Python's `datetime` object to specify the creation date:"
   ]
  },
  {
   "cell_type": "code",
   "execution_count": 8,
   "metadata": {},
   "outputs": [
    {
     "data": {
      "text/html": [
       "<h4>AttributeTupleList (spans)</h4>\n",
       "<table border=\"1\" class=\"dataframe\">\n",
       "  <thead>\n",
       "    <tr style=\"text-align: right;\">\n",
       "      <th></th>\n",
       "      <th>text</th>\n",
       "      <th>type</th>\n",
       "      <th>value</th>\n",
       "      <th>temporal_function</th>\n",
       "    </tr>\n",
       "  </thead>\n",
       "  <tbody>\n",
       "    <tr>\n",
       "      <td>0</td>\n",
       "      <td>eile</td>\n",
       "      <td>DATE</td>\n",
       "      <td>1986-12-20</td>\n",
       "      <td>True</td>\n",
       "    </tr>\n",
       "    <tr>\n",
       "      <td>1</td>\n",
       "      <td>täna</td>\n",
       "      <td>DATE</td>\n",
       "      <td>1986-12-21</td>\n",
       "      <td>True</td>\n",
       "    </tr>\n",
       "    <tr>\n",
       "      <td>2</td>\n",
       "      <td>homme</td>\n",
       "      <td>DATE</td>\n",
       "      <td>1986-12-22</td>\n",
       "      <td>True</td>\n",
       "    </tr>\n",
       "  </tbody>\n",
       "</table>"
      ],
      "text/plain": [
       "AttributeTupleList([['eile', 'DATE', '1986-12-20', True], ['täna', 'DATE', '1986-12-21', True], ['homme', 'DATE', '1986-12-22', True]], ('text', 'type', 'value', 'temporal_function'))"
      ]
     },
     "execution_count": 8,
     "metadata": {},
     "output_type": "execute_result"
    }
   ],
   "source": [
    "# Create new text object\n",
    "text = Text('Tulid eile meile, selle asemel et tulla täna või homme?')\n",
    "\n",
    "# Mark creation time of the document in the metadata\n",
    "import datetime\n",
    "text.meta['document_creation_time'] = datetime.datetime(1986, 12, 21)\n",
    "\n",
    "# Annotate temporal expressions ('timexes')\n",
    "timex_tagger.tag(text)\n",
    "\n",
    "# Browse results\n",
    "text.timexes[['text', 'type', 'value', 'temporal_function']]"
   ]
  },
  {
   "cell_type": "markdown",
   "metadata": {},
   "source": [
    " * **Note:** if there is no _document creation time_ specified in the metadata of the `Text` object, then `TimexTagger` assumes that the execution time of the tagger is the DCT. As a result of tagging, the execution time of the tagger will also be stored in the metadata, under the key `'document_creation_time'`;"
   ]
  },
  {
   "cell_type": "markdown",
   "metadata": {},
   "source": [
    "### Gaps in document creation date\n",
    "\n",
    "There can be situations when the exact document creation date cannot be specified. \n",
    "For instance, it may be that only year or month when the document was created is known, and there is no information about the exact date. \n",
    "In such cases, the string-based document creation date can have gaps: unknown granulatities can be replaced by `'X'` symbols. For instance, if we only know the year of writing (_2009_), we can use `'2009-XX-XX'` as the document creation date:"
   ]
  },
  {
   "cell_type": "code",
   "execution_count": 9,
   "metadata": {},
   "outputs": [
    {
     "data": {
      "text/html": [
       "<h4>AttributeTupleList (spans)</h4>\n",
       "<table border=\"1\" class=\"dataframe\">\n",
       "  <thead>\n",
       "    <tr style=\"text-align: right;\">\n",
       "      <th></th>\n",
       "      <th>text</th>\n",
       "      <th>type</th>\n",
       "      <th>value</th>\n",
       "      <th>temporal_function</th>\n",
       "    </tr>\n",
       "  </thead>\n",
       "  <tbody>\n",
       "    <tr>\n",
       "      <td>0</td>\n",
       "      <td>Homme</td>\n",
       "      <td>DATE</td>\n",
       "      <td>XXXX-XX-XX</td>\n",
       "      <td>True</td>\n",
       "    </tr>\n",
       "    <tr>\n",
       "      <td>1</td>\n",
       "      <td>järgmisel aastal</td>\n",
       "      <td>DATE</td>\n",
       "      <td>2010</td>\n",
       "      <td>True</td>\n",
       "    </tr>\n",
       "  </tbody>\n",
       "</table>"
      ],
      "text/plain": [
       "AttributeTupleList([['Homme', 'DATE', 'XXXX-XX-XX', True], ['järgmisel aastal', 'DATE', '2010', True]], ('text', 'type', 'value', 'temporal_function'))"
      ]
     },
     "execution_count": 9,
     "metadata": {},
     "output_type": "execute_result"
    }
   ],
   "source": [
    "# Create new text object\n",
    "text = Text('Homme või järgmisel aastal?')\n",
    "\n",
    "# Mark creation time of the document\n",
    "text.meta['document_creation_time'] = '2009-XX-XX'\n",
    "\n",
    "# Annotate temporal expressions ('timexes')\n",
    "timex_tagger.tag(text)\n",
    "\n",
    "# Browse results\n",
    "text.timexes[['text', 'type', 'value', 'temporal_function']]"
   ]
  },
  {
   "cell_type": "markdown",
   "metadata": {},
   "source": [
    "Note that using gaps in DCT also affects how relative date and time expressions are normalized. If a relative expression has granularity that is not specified ( such as the expression _homme_ (tomorrow) in the previous example -- it has granularities _day_ and _month_ which cannot be resolved using the given DCT ), then its value is also covered with `'X'` symbols, indicating that there is not enough information to find the exact value. "
   ]
  },
  {
   "cell_type": "markdown",
   "metadata": {},
   "source": [
    " * What to keep in mind when using gaps in DCT:\n",
    "\n",
    "    * You should start marking `'X'` symbols from the right side of DCT, and the markings should be continuous. Discontinuous gaps (such as `'2009-0X-X1'`) and gaps that cover a granularity only partially (such as `'2009-1X-XX'`) do not work -- they may actually lead to unexpected processing errors. However, DCT formats `XXXX-XX-XX`, `yyyy-XX-XX` and `yyyy-mm-XX` should be safe for usage;\n",
    "\n",
    "    * Marking gaps in DCT is an _experimental feature_. Do not expect that it always works automagically, rather, test it by yourself and see, if the results fit your purpose;\n"
   ]
  },
  {
   "cell_type": "markdown",
   "metadata": {},
   "source": [
    "---"
   ]
  },
  {
   "cell_type": "markdown",
   "metadata": {},
   "source": [
    "## Details of the annotation format\n",
    "\n",
    "In this section, we will give more details about the attributes of the layer `'timexes'`. \n",
    "\n",
    "Attributes **`tid`, `type`, `value`** and **`temporal_function`** are filled in for every timex. These attributes give the most basic details about (semantics of) the expression.\n",
    "\n",
    "Attributes **`mod`, `anchor_time_id`, `quant`, `freq`, `begin_point`, `end_point`** and **`part_of_interval`** are filled in only in specific contexts -- they give extra details (about semantics). Otherwise, these attributes will have **`None`** values."
   ]
  },
  {
   "cell_type": "markdown",
   "metadata": {},
   "source": [
    "### The attribute `tid`\n",
    "\n",
    "The attribute `tid` provides a unique identifier for each temporal expression. Identifier is a string that has prefix `t`, followed by the number of timex. Numbering of timexes starts from 1. Example:"
   ]
  },
  {
   "cell_type": "code",
   "execution_count": 10,
   "metadata": {},
   "outputs": [
    {
     "data": {
      "text/html": [
       "<h4>AttributeTupleList (spans)</h4>\n",
       "<table border=\"1\" class=\"dataframe\">\n",
       "  <thead>\n",
       "    <tr style=\"text-align: right;\">\n",
       "      <th></th>\n",
       "      <th>text</th>\n",
       "      <th>tid</th>\n",
       "      <th>type</th>\n",
       "      <th>value</th>\n",
       "    </tr>\n",
       "  </thead>\n",
       "  <tbody>\n",
       "    <tr>\n",
       "      <td>0</td>\n",
       "      <td>Kaks aastat</td>\n",
       "      <td>t1</td>\n",
       "      <td>DURATION</td>\n",
       "      <td>P2Y</td>\n",
       "    </tr>\n",
       "    <tr>\n",
       "      <td>1</td>\n",
       "      <td>14 aastat</td>\n",
       "      <td>t2</td>\n",
       "      <td>DURATION</td>\n",
       "      <td>P14Y</td>\n",
       "    </tr>\n",
       "    <tr>\n",
       "      <td>2</td>\n",
       "      <td>30 aastat</td>\n",
       "      <td>t3</td>\n",
       "      <td>DURATION</td>\n",
       "      <td>P30Y</td>\n",
       "    </tr>\n",
       "  </tbody>\n",
       "</table>"
      ],
      "text/plain": [
       "AttributeTupleList([['Kaks aastat', 't1', 'DURATION', 'P2Y'], ['14 aastat', 't2', 'DURATION', 'P14Y'], ['30 aastat', 't3', 'DURATION', 'P30Y']], ('text', 'tid', 'type', 'value'))"
      ]
     },
     "execution_count": 10,
     "metadata": {},
     "output_type": "execute_result"
    }
   ],
   "source": [
    "# Create new text object\n",
    "text = Text('Kaks aastat põrandaalust aktiivset tegevust, 14 aastat vanglat ning 30 aastat pideva '+\n",
    "            'nuhkimise all elamist.')\n",
    "\n",
    "# Annotate temporal expressions ('timexes')\n",
    "timex_tagger.tag(text)\n",
    "\n",
    "# See results\n",
    "text.timexes[['text', 'tid', 'type', 'value']]"
   ]
  },
  {
   "cell_type": "markdown",
   "metadata": {},
   "source": [
    " * **Note:** the identifier **`t0`** refers to the _document creation time_. It is never used as a `tid` of a timex, but it can be used (referred to) in the attributes `anchor_time_id`, `begin_point` and `end_point`, whenever calculations of semantics involve the using _document creation time_;"
   ]
  },
  {
   "cell_type": "markdown",
   "metadata": {},
   "source": [
    "### The attribute `type`\n",
    "\n",
    "... indicates the type of the temporal expression. Can be one of the following:\n",
    "   * `DATE` -- occurrence dates, such as _24. aprillil_ (on 24th of April), or _eelmise aastal_ (in last year);\n",
    "   * `TIME` -- occurrence times which have a granularity smaller than day, such as _neljapäeva pärastlõunal_ (on Thursday afternoon),  _eile kell 3 päeval_ (yesterday at 3 p.m.);\n",
    "   * `DURATION` -- duration specifications, such as _kaks aastat_ (two years), or _pool päeva_ (half a day);\n",
    "   * `SET` -- recurrence specifications, such as _kolmapäeviti_ (on every Wednesday) or _igal aastal_ (annually);\n"
   ]
  },
  {
   "cell_type": "markdown",
   "metadata": {},
   "source": [
    "### The attribute `value`\n",
    "\n",
    "... conveys most important part of the semantics of the temporal expression -- the semantics of a date, time or duration based on the ISO datetime format. There are five possible formats:\n",
    "\n",
    "   * I. Date-based format: `yyyy-mm-ddThh:mm`\n",
    "\n",
    "           yyyy - year (4 digits)\n",
    "           mm - month (01-12)\n",
    "           dd - day (01-31)\n",
    "             \n",
    "   * II. Weekday-based: `yyyy-Wnn-wdThh:mm`\n",
    "\n",
    "           nn - the week of the year (01-53)\n",
    "           wd - day of the week (1-7, where 1 denotes Monday).\n",
    "\n",
    "   * III. Time-based: `Thh:mm`\n",
    "\n",
    "           hh - hour of day (00-23)\n",
    "           mm - minute of hour (00-59)\n",
    "       \n",
    "   * IV. Time span: `Pn1Yn2Mn3Wn4DTn5Hn6M`\n",
    "\n",
    "           where ni denotes a value and Y (year), M (month), \n",
    "           W (week), D (day), H (hours), M (minutes) denotes \n",
    "           respective time granularity.\n",
    "       \n",
    "   * V. Special labels, such as `PRESENT_REF` and `PAST_REF`\n",
    "             \n",
    "           in some cases, special labels are used to \n",
    "           express the date & time semantics. See the \n",
    "           annotation guidelines below for more details \n",
    "           \n",
    "           \n",
    "Formats I and II are used with DATE, TIME and SET types. Format I is always preferred if both I and II can be used. Format III is used in cases when it is impossible to extract the date information. Format IV is used in DURATION expressions, and in some SET expressions.\n",
    "\n",
    "Parts of the ISO datetime format can be replaced by labels conveying special semantics of commonly used temporal expressions:\n",
    "\n",
    "   * `hh:mm` (_hours and minutes_) can be replaced by a label referring to a _time of the day_:\n",
    "         \n",
    "         MO - morning - hommik\n",
    "         AF - afternoon - pärastlõuna\n",
    "         EV - evening - õhtu\n",
    "         NI - night - öö\n",
    "         DT - daytime - päevane aeg\n",
    "\n",
    "   * `wd` (_weekday_) can be replaced by a general label referring to a group of weekdays:\n",
    "   \n",
    "         WD - workday - tööpäev\n",
    "         WE - weekend - nädalalõpp\n",
    "\n",
    "   * `mm` (_month_) can be replaced by a general label referring to a season:\n",
    "         \n",
    "         SP - spring - kevad\n",
    "         SU - summer - suvi\n",
    "         FA - fall - sügis\n",
    "         WI - winter - talv\n",
    "         \n",
    "   * `mm` (_month_) can also be replaced by a general label referring to a quarter (of year):\n",
    "   \n",
    "         Q1, Q2, Q3, Q4\n",
    "         QX - unknown/unspecified quarter\n",
    "         "
   ]
  },
  {
   "cell_type": "markdown",
   "metadata": {},
   "source": [
    "_Shortened `value`._ If a DATE expression does not contain all the information that can be expressed in the format ( `yyyy-mm-dd` or `yyyy-Wnn-wd` ), then `value` will be shortened from the right side, leaving out unspecified information. For instance, if the expression contains only _year_ and _month_ level information, then the `value` will be shortened and the _day_ part will be left out:"
   ]
  },
  {
   "cell_type": "code",
   "execution_count": 11,
   "metadata": {},
   "outputs": [
    {
     "data": {
      "text/html": [
       "<h4>AttributeTupleList (spans)</h4>\n",
       "<table border=\"1\" class=\"dataframe\">\n",
       "  <thead>\n",
       "    <tr style=\"text-align: right;\">\n",
       "      <th></th>\n",
       "      <th>text</th>\n",
       "      <th>type</th>\n",
       "      <th>value</th>\n",
       "    </tr>\n",
       "  </thead>\n",
       "  <tbody>\n",
       "    <tr>\n",
       "      <td>0</td>\n",
       "      <td>eelmisel kuul</td>\n",
       "      <td>DATE</td>\n",
       "      <td>2009-06</td>\n",
       "    </tr>\n",
       "  </tbody>\n",
       "</table>"
      ],
      "text/plain": [
       "AttributeTupleList([['eelmisel kuul', 'DATE', '2009-06']], ('text', 'type', 'value'))"
      ]
     },
     "execution_count": 11,
     "metadata": {},
     "output_type": "execute_result"
    }
   ],
   "source": [
    "# Create new text object\n",
    "text = Text('Digi-TV-le minnakse üle kõikjal maailmas, viimati eelmisel kuul kogu USAs, lisas ta.')\n",
    "\n",
    "# Mark creation time of the document\n",
    "text.meta['document_creation_time'] = '2009-07-02'\n",
    "\n",
    "# Annotate temporal expressions ('timexes')\n",
    "timex_tagger.tag(text)\n",
    "\n",
    "# See results\n",
    "text.timexes[['text', 'type', 'value']]"
   ]
  },
  {
   "cell_type": "markdown",
   "metadata": {},
   "source": [
    "In a similar way, if the expression contains only _year_ level information, and there is a lack of information about the specific year: only a decade or a century is mentioned, then the `value` will be further shortened from the right, leaving out unspecified _year_ information:"
   ]
  },
  {
   "cell_type": "code",
   "execution_count": 12,
   "metadata": {},
   "outputs": [
    {
     "data": {
      "text/html": [
       "<h4>AttributeTupleList (spans)</h4>\n",
       "<table border=\"1\" class=\"dataframe\">\n",
       "  <thead>\n",
       "    <tr style=\"text-align: right;\">\n",
       "      <th></th>\n",
       "      <th>text</th>\n",
       "      <th>type</th>\n",
       "      <th>value</th>\n",
       "    </tr>\n",
       "  </thead>\n",
       "  <tbody>\n",
       "    <tr>\n",
       "      <td>0</td>\n",
       "      <td>Üheksakümnendatel aastatel</td>\n",
       "      <td>DATE</td>\n",
       "      <td>199</td>\n",
       "    </tr>\n",
       "  </tbody>\n",
       "</table>"
      ],
      "text/plain": [
       "AttributeTupleList([['Üheksakümnendatel aastatel', 'DATE', '199']], ('text', 'type', 'value'))"
      ]
     },
     "execution_count": 12,
     "metadata": {},
     "output_type": "execute_result"
    }
   ],
   "source": [
    "# Create new text object\n",
    "text = Text('Üheksakümnendatel aastatel tegutses Saaremaal seitse panka.')\n",
    "\n",
    "# Mark creation time of the document\n",
    "text.meta['document_creation_time'] = '2008-04-01'\n",
    "\n",
    "# Annotate temporal expressions ('timexes')\n",
    "timex_tagger.tag(text)\n",
    "\n",
    "# See results\n",
    "text.timexes[['text', 'type', 'value']]"
   ]
  },
  {
   "cell_type": "markdown",
   "metadata": {},
   "source": [
    "_Before Common Era._ If the expression explicitly refers to date/time before the Common Era, then its `value` will have prefix `BC`:"
   ]
  },
  {
   "cell_type": "code",
   "execution_count": 13,
   "metadata": {},
   "outputs": [
    {
     "data": {
      "text/html": [
       "<h4>AttributeTupleList (spans)</h4>\n",
       "<table border=\"1\" class=\"dataframe\">\n",
       "  <thead>\n",
       "    <tr style=\"text-align: right;\">\n",
       "      <th></th>\n",
       "      <th>text</th>\n",
       "      <th>type</th>\n",
       "      <th>value</th>\n",
       "    </tr>\n",
       "  </thead>\n",
       "  <tbody>\n",
       "    <tr>\n",
       "      <td>0</td>\n",
       "      <td>umbes 8. sajandil e.m.a.</td>\n",
       "      <td>DATE</td>\n",
       "      <td>BC07</td>\n",
       "    </tr>\n",
       "  </tbody>\n",
       "</table>"
      ],
      "text/plain": [
       "AttributeTupleList([['umbes 8. sajandil e.m.a.', 'DATE', 'BC07']], ('text', 'type', 'value'))"
      ]
     },
     "execution_count": 13,
     "metadata": {},
     "output_type": "execute_result"
    }
   ],
   "source": [
    "# Create new text object\n",
    "text = Text('Lülle laevkalmed, rajatud umbes 8. sajandil e.m.a., on Eestis ainulaadsed.')\n",
    "\n",
    "# Annotate temporal expressions ('timexes')\n",
    "timex_tagger.tag(text)\n",
    "\n",
    "# See results\n",
    "text.timexes[['text', 'type', 'value']]"
   ]
  },
  {
   "cell_type": "markdown",
   "metadata": {},
   "source": [
    "More detailed description of the `value` can be found in the **annotation guidelines** [here](https://github.com/soras/Ajavt/blob/master/doc/margendusformaat_et.pdf?raw=true) (currently only in Estonian);"
   ]
  },
  {
   "cell_type": "markdown",
   "metadata": {},
   "source": [
    "### The attribute `temporal_function`\n",
    "\n",
    "... is boolean indicating whether the semantics of the expression are relative to the context ( that is: have been calculated/need to be calculated by some function, hence the name `temporal_function` );\n",
    "   \n",
    "   * For `DATE` and `TIME` expressions:\n",
    "      \n",
    "       * `temporal_function=true` indicates that the expression is relative. For instance, _'eile'_ (yesterday) has `temporal_function=true` because its value will be calculated relative to the context (the creation time of the document);\n",
    "           \n",
    "       * `temporal_function=false` indicates that the expression is absolute. For instance, _'2009. aastal'_ (in 2009) has `temporal_function=false` because its value will be copied from the textual part of the expression (no need for calculations);\n",
    "           \n",
    "           \n",
    "   * For `DURATION` expressions, `temporal_function` is mostly `false`, except for vague durations;\n",
    "   * For `SET` expressions, `temporal_function` is always `true`;"
   ]
  },
  {
   "cell_type": "markdown",
   "metadata": {},
   "source": [
    "### The attribute `mod`\n",
    "\n",
    "... refers to a modifier of the semantics part in the `value`. It is used in special occasions when semantics cannot be expressed completely by the attribute `value` -- there is a need for an elaboration. For instance, the expression _'2009. aasta alguses'_ (in the beginning of 2009) will have `value=2009` and `mod=START`.\n",
    "      \n",
    "Another example:"
   ]
  },
  {
   "cell_type": "code",
   "execution_count": 14,
   "metadata": {},
   "outputs": [
    {
     "data": {
      "text/html": [
       "<h4>AttributeTupleList (spans)</h4>\n",
       "<table border=\"1\" class=\"dataframe\">\n",
       "  <thead>\n",
       "    <tr style=\"text-align: right;\">\n",
       "      <th></th>\n",
       "      <th>text</th>\n",
       "      <th>type</th>\n",
       "      <th>value</th>\n",
       "      <th>mod</th>\n",
       "    </tr>\n",
       "  </thead>\n",
       "  <tbody>\n",
       "    <tr>\n",
       "      <td>0</td>\n",
       "      <td>umbes kaks aastat</td>\n",
       "      <td>DURATION</td>\n",
       "      <td>P2Y</td>\n",
       "      <td>APPROX</td>\n",
       "    </tr>\n",
       "  </tbody>\n",
       "</table>"
      ],
      "text/plain": [
       "AttributeTupleList([['umbes kaks aastat', 'DURATION', 'P2Y', 'APPROX']], ('text', 'type', 'value', 'mod'))"
      ]
     },
     "execution_count": 14,
     "metadata": {},
     "output_type": "execute_result"
    }
   ],
   "source": [
    "# Create new text object\n",
    "text = Text('Tavaliselt võtab paariks kasvamine aega umbes kaks aastat, mil toimub teineteise nurkade '+\n",
    "            'mahalihvimine ning ühiste reeglite ja maailmapildi kujunemine.')\n",
    "\n",
    "# Annotate temporal expressions ('timexes')\n",
    "timex_tagger.tag(text)\n",
    "\n",
    "# See results\n",
    "text.timexes[['text', 'type', 'value', 'mod']]"
   ]
  },
  {
   "cell_type": "markdown",
   "metadata": {},
   "source": [
    "The attribute `mod` can have the following string values: `START`, `MID`, `END`, `FIRST_HALF`, `SECOND_HALF`, `APPROX`, `LESS_THAN`, `MORE_THAN`, `EQUAL_OR_LESS` or `EQUAL_OR_MORE`."
   ]
  },
  {
   "cell_type": "markdown",
   "metadata": {},
   "source": [
    "### The attribute `anchor_time_id`\n",
    "\n",
    "... refers to the time point (identifier of the time point) which was used as the _reference time_ in calculating semantics of a relative expression. \n",
    "For relative date expressions such as _eile_ (yesterday) and _nüüd_ (now), the _reference time_ is usually the document creation date (\"the speech time\" or the \"writing time\"), so the value of the attribute will be `t0`:"
   ]
  },
  {
   "cell_type": "code",
   "execution_count": 15,
   "metadata": {},
   "outputs": [
    {
     "data": {
      "text/html": [
       "<h4>AttributeTupleList (spans)</h4>\n",
       "<table border=\"1\" class=\"dataframe\">\n",
       "  <thead>\n",
       "    <tr style=\"text-align: right;\">\n",
       "      <th></th>\n",
       "      <th>text</th>\n",
       "      <th>tid</th>\n",
       "      <th>type</th>\n",
       "      <th>value</th>\n",
       "      <th>anchor_time_id</th>\n",
       "    </tr>\n",
       "  </thead>\n",
       "  <tbody>\n",
       "    <tr>\n",
       "      <td>0</td>\n",
       "      <td>eile</td>\n",
       "      <td>t1</td>\n",
       "      <td>DATE</td>\n",
       "      <td>2010-07-14</td>\n",
       "      <td>t0</td>\n",
       "    </tr>\n",
       "    <tr>\n",
       "      <td>1</td>\n",
       "      <td>nüüd</td>\n",
       "      <td>t2</td>\n",
       "      <td>DATE</td>\n",
       "      <td>PRESENT_REF</td>\n",
       "      <td>t0</td>\n",
       "    </tr>\n",
       "  </tbody>\n",
       "</table>"
      ],
      "text/plain": [
       "AttributeTupleList([['eile', 't1', 'DATE', '2010-07-14', 't0'], ['nüüd', 't2', 'DATE', 'PRESENT_REF', 't0']], ('text', 'tid', 'type', 'value', 'anchor_time_id'))"
      ]
     },
     "execution_count": 15,
     "metadata": {},
     "output_type": "execute_result"
    }
   ],
   "source": [
    "# Create new text object\n",
    "text = Text('Ma alles grillisin eile, nüüd on Davidi või Kevini kord.')\n",
    "\n",
    "text.meta['dct'] = '2010-07-15'\n",
    "\n",
    "# Annotate temporal expressions ('timexes')\n",
    "timex_tagger.tag(text)\n",
    "\n",
    "# See results\n",
    "text.timexes[['text', 'tid', 'type', 'value', 'anchor_time_id']]"
   ]
  },
  {
   "cell_type": "markdown",
   "metadata": {},
   "source": [
    "The _reference time_ can also be some (previous) temporal expression in text, like in the following example:"
   ]
  },
  {
   "cell_type": "code",
   "execution_count": 16,
   "metadata": {},
   "outputs": [
    {
     "data": {
      "text/html": [
       "<h4>AttributeTupleList (spans)</h4>\n",
       "<table border=\"1\" class=\"dataframe\">\n",
       "  <thead>\n",
       "    <tr style=\"text-align: right;\">\n",
       "      <th></th>\n",
       "      <th>text</th>\n",
       "      <th>tid</th>\n",
       "      <th>type</th>\n",
       "      <th>value</th>\n",
       "      <th>anchor_time_id</th>\n",
       "    </tr>\n",
       "  </thead>\n",
       "  <tbody>\n",
       "    <tr>\n",
       "      <td>0</td>\n",
       "      <td>2006 aastal</td>\n",
       "      <td>t1</td>\n",
       "      <td>DATE</td>\n",
       "      <td>2006</td>\n",
       "      <td>None</td>\n",
       "    </tr>\n",
       "    <tr>\n",
       "      <td>1</td>\n",
       "      <td>aasta varem</td>\n",
       "      <td>t2</td>\n",
       "      <td>DATE</td>\n",
       "      <td>2005</td>\n",
       "      <td>t1</td>\n",
       "    </tr>\n",
       "  </tbody>\n",
       "</table>"
      ],
      "text/plain": [
       "AttributeTupleList([['2006 aastal', 't1', 'DATE', '2006', None], ['aasta varem', 't2', 'DATE', '2005', 't1']], ('text', 'tid', 'type', 'value', 'anchor_time_id'))"
      ]
     },
     "execution_count": 16,
     "metadata": {},
     "output_type": "execute_result"
    }
   ],
   "source": [
    "# Create new text object\n",
    "text = Text('Seetõttu on 2006 aastal oodata rohkem kutsikaid, kui aasta varem.')\n",
    "\n",
    "# Annotate temporal expressions ('timexes')\n",
    "timex_tagger.tag(text)\n",
    "\n",
    "# See results\n",
    "text.timexes[['text', 'tid', 'type', 'value', 'anchor_time_id']]"
   ]
  },
  {
   "cell_type": "markdown",
   "metadata": {},
   "source": [
    "_Notes:_\n",
    "   * in case of an absolute DATE/TIME expression (or a DURATION or SET expression), the `anchor_time_id` will be `None`;\n",
    "   \n",
    "   \n",
    "   * how relative datetime expressions should be anchored dependes on the text's domain (or subdomain). By default, `TimexTagger` uses a  set of rules that have been developed for analysing texts from the news domain. If you need to analyse texts from some other domain, you may want to adjust the rules for different anchoring strategies to get the correct normalizations -- see below for instructions how to do it;\n",
    "   \n",
    "   \n",
    "   * if a DATE expression has `temporal_function == True` and `anchor_time_id` is not set by the rules, then `TimexTagger` sets `anchor_time_id` to `t0`;"
   ]
  },
  {
   "cell_type": "markdown",
   "metadata": {},
   "source": [
    "### Attributes `quant` and `freq`\n",
    "\n",
    "... elaborate semantics of SET expressions. The attribute `quant` contains the quantifier keyword extracted from the recurrence expression:"
   ]
  },
  {
   "cell_type": "code",
   "execution_count": 17,
   "metadata": {},
   "outputs": [
    {
     "data": {
      "text/html": [
       "<h4>AttributeTupleList (spans)</h4>\n",
       "<table border=\"1\" class=\"dataframe\">\n",
       "  <thead>\n",
       "    <tr style=\"text-align: right;\">\n",
       "      <th></th>\n",
       "      <th>text</th>\n",
       "      <th>type</th>\n",
       "      <th>value</th>\n",
       "      <th>quant</th>\n",
       "      <th>freq</th>\n",
       "    </tr>\n",
       "  </thead>\n",
       "  <tbody>\n",
       "    <tr>\n",
       "      <td>0</td>\n",
       "      <td>igal aastal</td>\n",
       "      <td>SET</td>\n",
       "      <td>P1Y</td>\n",
       "      <td>EVERY</td>\n",
       "      <td>None</td>\n",
       "    </tr>\n",
       "  </tbody>\n",
       "</table>"
      ],
      "text/plain": [
       "AttributeTupleList([['igal aastal', 'SET', 'P1Y', 'EVERY', None]], ('text', 'type', 'value', 'quant', 'freq'))"
      ]
     },
     "execution_count": 17,
     "metadata": {},
     "output_type": "execute_result"
    }
   ],
   "source": [
    "# Create new text object\n",
    "text = Text('Põhjanaela mass väheneb igal aastal ligikaudu Maa massi võrra .')\n",
    "\n",
    "# Annotate temporal expressions ('timexes')\n",
    "timex_tagger.tag(text)\n",
    "\n",
    "# See results\n",
    "text.timexes[['text', 'type', 'value', 'quant', 'freq']]"
   ]
  },
  {
   "cell_type": "markdown",
   "metadata": {},
   "source": [
    "In the example above, `value=P1Y` indicates the recurring period (yearly / annual period), and the attribute `quant` fixes the quantifier applied to the period: `EVERY` is the English equivalent of the Estonian quantifier keyword _iga_."
   ]
  },
  {
   "cell_type": "markdown",
   "metadata": {},
   "source": [
    "The attribute `freq ` specifies the exact number of recurrence times (within the recurring period) -- if this information is explicitly available in the temporal expression. Example:"
   ]
  },
  {
   "cell_type": "code",
   "execution_count": 18,
   "metadata": {},
   "outputs": [
    {
     "data": {
      "text/html": [
       "<h4>AttributeTupleList (spans)</h4>\n",
       "<table border=\"1\" class=\"dataframe\">\n",
       "  <thead>\n",
       "    <tr style=\"text-align: right;\">\n",
       "      <th></th>\n",
       "      <th>text</th>\n",
       "      <th>type</th>\n",
       "      <th>value</th>\n",
       "      <th>quant</th>\n",
       "      <th>freq</th>\n",
       "      <th>mod</th>\n",
       "    </tr>\n",
       "  </thead>\n",
       "  <tbody>\n",
       "    <tr>\n",
       "      <td>0</td>\n",
       "      <td>vähemalt kaks korda nädalas</td>\n",
       "      <td>SET</td>\n",
       "      <td>P1W</td>\n",
       "      <td>None</td>\n",
       "      <td>2X</td>\n",
       "      <td>EQUAL_OR_MORE</td>\n",
       "    </tr>\n",
       "  </tbody>\n",
       "</table>"
      ],
      "text/plain": [
       "AttributeTupleList([['vähemalt kaks korda nädalas', 'SET', 'P1W', None, '2X', 'EQUAL_OR_MORE']], ('text', 'type', 'value', 'quant', 'freq', 'mod'))"
      ]
     },
     "execution_count": 18,
     "metadata": {},
     "output_type": "execute_result"
    }
   ],
   "source": [
    "# Create new text object \n",
    "text = Text('Füüsilist pingutust nõudva tegevusega tuleks tegeleda vähemalt kaks korda nädalas.')\n",
    "\n",
    "# Annotate temporal expressions ('timexes')\n",
    "timex_tagger.tag(text)\n",
    "\n",
    "# See results\n",
    "text.timexes[['text', 'type', 'value', 'quant', 'freq', 'mod']]"
   ]
  },
  {
   "cell_type": "markdown",
   "metadata": {},
   "source": [
    "In the example above, `value=P1W` indicates the recurring period (a week), and the attribute `freq` fixes recurrence frequency during that period (`2X` means \"twice a week\"). In addition, the phrase also contains _modifier_ `EQUAL_OR_MORE`, so the frequency `2X` can be interpreted as a lower bound of a possibly greater frequency."
   ]
  },
  {
   "cell_type": "markdown",
   "metadata": {},
   "source": [
    "### Attributes `begin_point` and `end_point`\n",
    "\n",
    "... elaborate semantics of DURATION expressions that refer to implicit start and end points of the duration. The attribute `begin_point` refers to the starting point of the interval, and the attribute `end_point` refers to the ending point.\n",
    "\n",
    "The exact value of `begin_point` / `end_point` can be either a timex identifier (a string), or a dictionary representing the implicit timex (a dictionary which contains keys `tid`, `type`, `value`, ...). \n",
    "Currently, timex identifier is only used if the timepoint refers to the document creation time (`t0`), and all other implicit timexes will be represented as dictionaries. Example:"
   ]
  },
  {
   "cell_type": "code",
   "execution_count": 19,
   "metadata": {},
   "outputs": [
    {
     "data": {
      "text/html": [
       "<h4>AttributeTupleList (spans)</h4>\n",
       "<table border=\"1\" class=\"dataframe\">\n",
       "  <thead>\n",
       "    <tr style=\"text-align: right;\">\n",
       "      <th></th>\n",
       "      <th>text</th>\n",
       "      <th>type</th>\n",
       "      <th>value</th>\n",
       "      <th>begin_point</th>\n",
       "      <th>end_point</th>\n",
       "    </tr>\n",
       "  </thead>\n",
       "  <tbody>\n",
       "    <tr>\n",
       "      <td>0</td>\n",
       "      <td>viimase kümne aasta jooksul</td>\n",
       "      <td>DURATION</td>\n",
       "      <td>P10Y</td>\n",
       "      <td>OrderedDict([('tid', 't2'), ('type', 'DATE'), ('value', '2003'), ('temporal_function', True)])</td>\n",
       "      <td>t0</td>\n",
       "    </tr>\n",
       "  </tbody>\n",
       "</table>"
      ],
      "text/plain": [
       "AttributeTupleList([['viimase kümne aasta jooksul', 'DURATION', 'P10Y', OrderedDict([('tid', 't2'), ('type', 'DATE'), ('value', '2003'), ('temporal_function', True)]), 't0']], ('text', 'type', 'value', 'begin_point', 'end_point'))"
      ]
     },
     "execution_count": 19,
     "metadata": {},
     "output_type": "execute_result"
    }
   ],
   "source": [
    "# Create new text object\n",
    "text = Text('Erinevad kotkauurijad on Saaremaal kaljukotkaid viimase kümne aasta jooksul aeg-ajalt lendamas näinud.')\n",
    "\n",
    "# Set document creation time\n",
    "text.meta['dct'] = '2013-XX-XX'\n",
    "\n",
    "# Annotate temporal expressions ('timexes')\n",
    "timex_tagger.tag(text)\n",
    "\n",
    "# See results\n",
    "text.timexes[['text', 'type', 'value', 'begin_point', 'end_point']]"
   ]
  },
  {
   "cell_type": "markdown",
   "metadata": {},
   "source": [
    "In the example above, `value=P10Y` indicates a time interval with the length of 10 years, the attribute `begin_point` fixes the starting point of the interval (not explicit in text, but can be calculated as a year 10 years ago -- 2003), and the attribute `end_point` fixes the end point (not explicit in text, but can be associated with the document creation date (the \"time of writing\"))."
   ]
  },
  {
   "cell_type": "markdown",
   "metadata": {},
   "source": [
    "_A Technical Note_:\n",
    "\n",
    "   * In order to ensure fixed order of keys, implicit start and end points use [`OrderedDict`](  https://docs.python.org/3/library/collections.html#collections.OrderedDict)-s instead of regular Python dictionaries. However, you can switch to the regular Python dictionaries in the output if you initiate `TimexTagger` with parameter `output_ordered_dicts=False`:\n",
    "   \n",
    "```python\n",
    "from estnltk.taggers import TimexTagger\n",
    "timexTagger = TimexTagger(output_ordered_dicts=False)\n",
    "```"
   ]
  },
  {
   "cell_type": "markdown",
   "metadata": {},
   "source": [
    "### The attribute `part_of_interval`\n",
    "\n",
    "... elaborates semantics of DATE/TIME expressions that are part of an implicit time interval. If a DATE/TIME expression is part of an implicit interval, then `part_of_interval` is a dictionary representing the implicit timex (a dictionary which contains keys `tid`, `type`, `value`, ...). For example:"
   ]
  },
  {
   "cell_type": "code",
   "execution_count": 20,
   "metadata": {},
   "outputs": [
    {
     "data": {
      "text/html": [
       "<h4>AttributeTupleList (spans)</h4>\n",
       "<table border=\"1\" class=\"dataframe\">\n",
       "  <thead>\n",
       "    <tr style=\"text-align: right;\">\n",
       "      <th></th>\n",
       "      <th>text</th>\n",
       "      <th>tid</th>\n",
       "      <th>type</th>\n",
       "      <th>value</th>\n",
       "      <th>part_of_interval</th>\n",
       "    </tr>\n",
       "  </thead>\n",
       "  <tbody>\n",
       "    <tr>\n",
       "      <td>0</td>\n",
       "      <td>04.</td>\n",
       "      <td>t1</td>\n",
       "      <td>DATE</td>\n",
       "      <td>2009-07-04</td>\n",
       "      <td>OrderedDict([('tid', 't3'), ('type', 'DURATION'), ('value', 'PXXD'), ('temporal_ ..., type: &lt;class 'collections.OrderedDict'&gt;, length: 6</td>\n",
       "    </tr>\n",
       "    <tr>\n",
       "      <td>1</td>\n",
       "      <td>05. juulini</td>\n",
       "      <td>t2</td>\n",
       "      <td>DATE</td>\n",
       "      <td>2009-07-05</td>\n",
       "      <td>OrderedDict([('tid', 't3'), ('type', 'DURATION'), ('value', 'PXXD'), ('temporal_ ..., type: &lt;class 'collections.OrderedDict'&gt;, length: 6</td>\n",
       "    </tr>\n",
       "  </tbody>\n",
       "</table>"
      ],
      "text/plain": [
       "AttributeTupleList([['04.', 't1', 'DATE', '2009-07-04', OrderedDict([('tid', 't3'), ('type', 'DURATION'), ('value', 'PXXD'), ('temporal_function', True), ('begin_point', 't1'), ('end_point', 't2')])], ['05. juulini', 't2', 'DATE', '2009-07-05', OrderedDict([('tid', 't3'), ('type', 'DURATION'), ('value', 'PXXD'), ('temporal_function', True), ('begin_point', 't1'), ('end_point', 't2')])]], ('text', 'tid', 'type', 'value', 'part_of_interval'))"
      ]
     },
     "execution_count": 20,
     "metadata": {},
     "output_type": "execute_result"
    }
   ],
   "source": [
    "# Create new text object\n",
    "text = Text('04.- 05. juulini toimus XXV Üldlaulupidu ja XVIII Üldtantsupidu.')\n",
    "\n",
    "# Set document creation time\n",
    "text.meta['dct'] = '2009-09-01'\n",
    "\n",
    "# Annotate temporal expressions ('timexes')\n",
    "timex_tagger.tag(text)\n",
    "\n",
    "# See results\n",
    "text.timexes[['text', 'tid', 'type', 'value', 'part_of_interval']]"
   ]
  },
  {
   "cell_type": "markdown",
   "metadata": {},
   "source": [
    "In the example above, starting and ending points of the interval are marked as explicit timexes (start: 4th of July, end: 5th of July). \n",
    "The interval itself is an implicit timex (DURATION), which refers to its explicit timex parts via attributes `begin_point` and `end_point`.\n",
    "The exact `value` of implicit interval is left unspecified (`value=PXXD`)."
   ]
  },
  {
   "cell_type": "markdown",
   "metadata": {},
   "source": [
    "_Notes:_\n",
    "\n",
    "  * In the current implementation, `value`-s of timexes of implicit intervals are not calculated. So, there will always be values like `PXXY` (an unspecified amount of years), `PXXD` (an unspecified amount of days) and so on;\n",
    "  \n",
    "\n",
    "  * The TIMEX3 tag in the [TimeML](https://en.wikipedia.org/wiki/TimeML) standard has only attributes `begin_point` (`beginPoint`) and `end_point` (`endPoint`) for referring to  implicit timexes, and the attribute `part_of_interval` is not supported. Because EstNLTK has no means for representing \"empty tags\" (the TimeML uses \"empty tags\" for implicit timexes), we have chosen to introduce an extra attribute which conveys the same information.\n",
    "  \n",
    "  \n",
    "  * _A technical note_: in order to ensure fixed order of keys, implicit interval uses an [`OrderedDict`](  https://docs.python.org/3/library/collections.html#collections.OrderedDict) instead of regular Python dictionary. However, you can switch to the regular Python dictionaries in the output if you initiate `TimexTagger` with parameter `output_ordered_dicts=False`:\n",
    "\n",
    "```python\n",
    "from estnltk.taggers import TimexTagger\n",
    "timexTagger = TimexTagger(output_ordered_dicts=False)\n",
    "```"
   ]
  },
  {
   "cell_type": "markdown",
   "metadata": {},
   "source": [
    "### Clean up"
   ]
  },
  {
   "cell_type": "markdown",
   "metadata": {},
   "source": [
    "After you have done the tagging, call `close` method to release the resources:"
   ]
  },
  {
   "cell_type": "code",
   "execution_count": 21,
   "metadata": {},
   "outputs": [],
   "source": [
    "timex_tagger.close()"
   ]
  },
  {
   "cell_type": "markdown",
   "metadata": {},
   "source": [
    "---"
   ]
  },
  {
   "cell_type": "markdown",
   "metadata": {},
   "source": [
    "---"
   ]
  },
  {
   "cell_type": "markdown",
   "metadata": {},
   "source": [
    "##  Technical notes about using `TimexTagger`\n",
    "\n",
    "* **Note 1:** EstNLTK's `TimexTagger` uses a Java-based temporal expression tagger implementation. Before using the tagger, make sure that:\n",
    "  * Java SE Runtime Environment (version >= 1.8) is installed into the system;\n",
    "  * `java` is in the [PATH environment variable](https://docs.oracle.com/javase/tutorial/essential/environment/paths.html);\n",
    "\n",
    "    Source code of the Java-based temporal expression tagger is available [here](https://github.com/soras/Ajavt).\n",
    "\n",
    "\n",
    "* **Note 2:** Because `TimexTagger` uses Java resources, these resources need to be cleaned up after using the tagger. We recommend to use `TimexTagger` in a **`with`** statement as a _context manager_ (like in the example below), so that the resources will be automatically cleaned up afterwards. After the **`with`** context, the `TimexTagger` instance can no longer be used for tagging texts.\n",
    "\n",
    "```python\n",
    "from estnltk.taggers import TimexTagger\n",
    "\n",
    "# Create new timex tagger and annotate temporal expressions\n",
    "with TimexTagger() as timexTagger: \n",
    "    timexTagger.tag( text )\n",
    "```\n",
    "\n",
    "\n",
    "* **Note 3:** If you need to create `TimexTagger` outside **`with`** context, you should use the method `close()` after tagging to terminate the process manually:\n",
    "\n",
    "\n",
    "```python\n",
    "from estnltk.taggers import TimexTagger\n",
    "\n",
    "# Create new timex tagger\n",
    "timexTagger = TimexTagger()\n",
    "\n",
    "# Tag texts\n",
    "...\n",
    "\n",
    "# Release resources\n",
    "timexTagger.close()\n",
    "```\n",
    "\n",
    "Because initiating `TimexTagger` takes time, and the process acquires memory resources, it is advisable to create `TimexTagger` instances sparingly (typically, one should be enough). "
   ]
  },
  {
   "cell_type": "markdown",
   "metadata": {},
   "source": [
    "## Creating new analysis rules for `TimexTagger`\n",
    "\n",
    "`TimexTagger` comes with a default set of rules that have been developed for analysing texts from news domain. If you need to analyse texts from some other domain, you may need to adapt the rules: provide new patterns for detecting domain-specific expressions, and/or change the normalization strategies.\n",
    "\n",
    "Rules used by the system are described in an XML file. The file (_reeglid.xml_) itself is available [here](https://github.com/estnltk/estnltk/blob/main/estnltk/estnltk/java/res/reeglid.xml), and its format is described in detail in [this document](https://github.com/soras/Ajavt/blob/master/doc/writingRules.txt).  You can make a copy of the rules file, modify the rules (or create your own rules from the scratch), and load `TimexTagger` with the new set of rules:\n",
    "\n",
    "\n",
    "```python\n",
    "from estnltk.taggers import TimexTagger\n",
    "\n",
    "# Location of the new rules file\n",
    "new_rules = 'C:\\\\My_stuff\\\\minu_reeglid.xml'\n",
    "\n",
    "# Create new timex tagger with new rules\n",
    "timexTagger = TimexTagger(rules_file=new_rules)\n",
    "\n",
    "# Now, you can use TimexTagger to analyse texts with your own rules\n",
    "...\n",
    "        \n",
    "# Release resources\n",
    "timexTagger.close()\n",
    "```"
   ]
  },
  {
   "cell_type": "markdown",
   "metadata": {},
   "source": [
    "## Getting 'timexes' layer to envelop 'words' layer [advanced]\n",
    "\n",
    "By default, `TimexTagger` produces a flat 'timexes' layer, which is not directly dependent on EstNLTK's default tokenization layers.\n",
    "The reason is that `TimexTagger` uses a specific tokenization, which can diverge from the default one. \n",
    "If you want to get the 'timexes' layer enveloping around the 'words' layer, use the constuctor parameter `enveloped_words_layer` to specify the name of the words layer:"
   ]
  },
  {
   "cell_type": "code",
   "execution_count": 22,
   "metadata": {},
   "outputs": [
    {
     "data": {
      "text/html": [
       "<h4>AttributeTupleList (spans)</h4>\n",
       "<table border=\"1\" class=\"dataframe\">\n",
       "  <thead>\n",
       "    <tr style=\"text-align: right;\">\n",
       "      <th></th>\n",
       "      <th>text</th>\n",
       "      <th>type</th>\n",
       "      <th>value</th>\n",
       "      <th>broken_phrase</th>\n",
       "    </tr>\n",
       "  </thead>\n",
       "  <tbody>\n",
       "    <tr>\n",
       "      <td>0</td>\n",
       "      <td>['eile']</td>\n",
       "      <td>DATE</td>\n",
       "      <td>2014-12-02</td>\n",
       "      <td>False</td>\n",
       "    </tr>\n",
       "    <tr>\n",
       "      <td>1</td>\n",
       "      <td>['nüüd']</td>\n",
       "      <td>DATE</td>\n",
       "      <td>PRESENT_REF</td>\n",
       "      <td>False</td>\n",
       "    </tr>\n",
       "    <tr>\n",
       "      <td>2</td>\n",
       "      <td>['viie', 'aasta']</td>\n",
       "      <td>DURATION</td>\n",
       "      <td>P5Y</td>\n",
       "      <td>False</td>\n",
       "    </tr>\n",
       "  </tbody>\n",
       "</table>"
      ],
      "text/plain": [
       "AttributeTupleList([[['eile'], 'DATE', '2014-12-02', False], [['nüüd'], 'DATE', 'PRESENT_REF', False], [['viie', 'aasta'], 'DURATION', 'P5Y', False]], ('text', 'type', 'value', 'broken_phrase'))"
      ]
     },
     "execution_count": 22,
     "metadata": {},
     "output_type": "execute_result"
    }
   ],
   "source": [
    "from estnltk import Text\n",
    "from estnltk.taggers import TimexTagger\n",
    "timex_tagger = TimexTagger(enveloped_words_layer='words')\n",
    "\n",
    "# Create new text object\n",
    "text = Text('Potsataja ütles eile, et vaatavad nüüd Genaga viie aasta plaanid uuesti üle.')\n",
    "# Tag prerequisite layer\n",
    "text.tag_layer('words')\n",
    "\n",
    "# Mark creation time of the document\n",
    "text.meta['document_creation_time'] = '2014-12-03'\n",
    "\n",
    "# Annotate temporal expressions ('timexes')\n",
    "timex_tagger.tag(text)\n",
    "\n",
    "text.timexes[['text', 'type', 'value', 'broken_phrase']]"
   ]
  },
  {
   "cell_type": "markdown",
   "metadata": {},
   "source": [
    "A caveat: due to tokenization diverges, enveloping process may not be successful for every timex phrase. \n",
    "A special boolean attribute `broken_phrase` is used to show phrases with wrong boundaries (i.e. timex phrase could not be marked precisely on the given word tokenzation). \n",
    "\n",
    "Layer's metadata reports statistics about successful and unsuccessful timex annotations on the words layer:"
   ]
  },
  {
   "cell_type": "code",
   "execution_count": 23,
   "metadata": {},
   "outputs": [
    {
     "data": {
      "text/plain": [
       "{'timexes_discarded': 0, 'timexes_broken': 0, 'timexes_ok': 3}"
      ]
     },
     "execution_count": 23,
     "metadata": {},
     "output_type": "execute_result"
    }
   ],
   "source": [
    "text.timexes.meta"
   ]
  },
  {
   "cell_type": "code",
   "execution_count": 24,
   "metadata": {},
   "outputs": [],
   "source": [
    "# release resources\n",
    "timex_tagger.close()"
   ]
  },
  {
   "cell_type": "markdown",
   "metadata": {},
   "source": [
    "---"
   ]
  }
 ],
 "metadata": {
  "kernelspec": {
   "display_name": "Python 3 (ipykernel)",
   "language": "python",
   "name": "python3"
  },
  "language_info": {
   "codemirror_mode": {
    "name": "ipython",
    "version": 3
   },
   "file_extension": ".py",
   "mimetype": "text/x-python",
   "name": "python",
   "nbconvert_exporter": "python",
   "pygments_lexer": "ipython3",
   "version": "3.9.17"
  }
 },
 "nbformat": 4,
 "nbformat_minor": 4
}
