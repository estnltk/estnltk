{
 "cells": [
  {
   "cell_type": "markdown",
   "id": "1d9628cb",
   "metadata": {},
   "source": [
    "## <span style=\"color:purple\"> Information extraction: pronominal coreference resolution</span>\n",
    "\n",
    "The pronominal coreference resolution aims to automatically find correct references for pronouns.\n",
    "EstNLTK includes the Estonian Coreference Resolution System, which was introduced by [Barbu et al. (2020)](https://ebooks.iospress.nl/pdf/doi/10.3233/FAIA200595) and which detects coreference of personal pronouns (\"mina\", \"sina\",        \"tema\"), relative pronouns \"kes\" and \"mis\", and the demonstrative pronoun \"see\".\n",
    "\n",
    "The source code of the original coreference resolution system along with the training/testing setup can be found [here](https://github.com/SoimulPatriei/EstonianCoreferenceSystem)."
   ]
  },
  {
   "cell_type": "markdown",
   "id": "0f59382d",
   "metadata": {},
   "source": [
    "### Running as a web tagger\n",
    "\n",
    "Easiest way to use coreference tagger is via EstNLTK's web service:"
   ]
  },
  {
   "cell_type": "code",
   "execution_count": 1,
   "id": "8f7efa4f",
   "metadata": {},
   "outputs": [
    {
     "data": {
      "text/html": [
       "<h4>BatchProcessingWebRelationTagger</h4>\n",
       "Tags pronominal coreference using EstNLTK CoreferenceTagger's webservice. Based on EstonianCoreferenceSystem v1.0.0.\n",
       "<table border=\"1\" class=\"dataframe\">\n",
       "  <thead>\n",
       "    <tr style=\"text-align: right;\">\n",
       "      <th>name</th>\n",
       "      <th>output layer</th>\n",
       "      <th>output span names</th>\n",
       "      <th>output attributes</th>\n",
       "      <th>input layers</th>\n",
       "    </tr>\n",
       "  </thead>\n",
       "  <tbody>\n",
       "    <tr>\n",
       "      <td>CoreferenceV1WebTagger</td>\n",
       "      <td>coreference_v1</td>\n",
       "      <td>('pronoun', 'mention')</td>\n",
       "      <td>()</td>\n",
       "      <td>()</td>\n",
       "    </tr>\n",
       "  </tbody>\n",
       "</table>\n",
       "<h4>Configuration</h4>\n",
       "<table border=\"1\" class=\"dataframe\">\n",
       "  <tbody>\n",
       "    <tr>\n",
       "      <th>url</th>\n",
       "      <td>http://127.0.0.1:5000/estnltk/tagger/coreference_v1</td>\n",
       "    </tr>\n",
       "    <tr>\n",
       "      <th>batch_layer</th>\n",
       "      <td>None</td>\n",
       "    </tr>\n",
       "    <tr>\n",
       "      <th>batch_max_size</th>\n",
       "      <td>175000</td>\n",
       "    </tr>\n",
       "    <tr>\n",
       "      <th>batch_enveloping_layer</th>\n",
       "      <td>None</td>\n",
       "    </tr>\n",
       "  </tbody>\n",
       "</table>"
      ],
      "text/plain": [
       "CoreferenceV1WebTagger(input_layers=(), output_layer=coreference_v1, output_span_names=('pronoun', 'mention'), output_attributes=(), url=http://127.0.0.1:5000/estnltk/tagger/coreference_v1, batch_layer=None, batch_max_size=175000, batch_enveloping_layer=None)"
      ]
     },
     "execution_count": 1,
     "metadata": {},
     "output_type": "execute_result"
    }
   ],
   "source": [
    "from estnltk import Text\n",
    "from estnltk.web_taggers import CoreferenceV1WebTagger\n",
    "\n",
    "coref_web_tagger = CoreferenceV1WebTagger(url='http://127.0.0.1:5000/estnltk/tagger/coreference_v1')\n",
    "coref_web_tagger"
   ]
  },
  {
   "cell_type": "markdown",
   "id": "88aa0669",
   "metadata": {},
   "source": [
    "Usage example:"
   ]
  },
  {
   "cell_type": "code",
   "execution_count": 2,
   "id": "15dd07cc",
   "metadata": {},
   "outputs": [
    {
     "data": {
      "text/html": [
       "<h4>RelationLayer</h4>\n",
       "\n",
       "\n",
       "<table border=\"1\" class=\"dataframe\">\n",
       "  <thead>\n",
       "    <tr style=\"text-align: right;\">\n",
       "      <th>layer name</th>\n",
       "      <th>span_names</th>\n",
       "      <th>attributes</th>\n",
       "      <th>ambiguous</th>\n",
       "      <th>relation count</th>\n",
       "    </tr>\n",
       "  </thead>\n",
       "  <tbody>\n",
       "    <tr>\n",
       "      <td>coreference_v1</td>\n",
       "      <td>pronoun, mention</td>\n",
       "      <td></td>\n",
       "      <td>False</td>\n",
       "      <td>2</td>\n",
       "    </tr>\n",
       "  </tbody>\n",
       "</table>\n",
       "<table border=\"1\" class=\"dataframe\">\n",
       "  <thead>\n",
       "    <tr style=\"text-align: right;\">\n",
       "      <th>pronoun</th>\n",
       "      <th>mention</th>\n",
       "    </tr>\n",
       "  </thead>\n",
       "  <tbody>\n",
       "    <tr>\n",
       "      <td>tema</td>\n",
       "      <td>Ahto</td>\n",
       "    </tr>\n",
       "    <tr>\n",
       "      <td>ta</td>\n",
       "      <td>Ahto</td>\n",
       "    </tr>\n",
       "  </tbody>\n",
       "</table>"
      ],
      "text/plain": [
       "RelationLayer(name='coreference_v1', span_names=('pronoun', 'mention'), attributes=(), relations=[Relation([NamedSpan(pronoun: 'tema'), NamedSpan(mention: 'Ahto')], [{}]), Relation([NamedSpan(pronoun: 'ta'), NamedSpan(mention: 'Ahto')], [{}])])"
      ]
     },
     "execution_count": 2,
     "metadata": {},
     "output_type": "execute_result"
    }
   ],
   "source": [
    "text = Text('Ahto ütles, et tema ei tegele rahadega. Jah, ta tegeleb hoopis suurte plaanidega. Proovib vähendada.')\n",
    "coref_web_tagger.tag( text )\n",
    "text['coreference_v1']"
   ]
  },
  {
   "cell_type": "markdown",
   "id": "ffe47f12",
   "metadata": {},
   "source": [
    "There are two types of named spans in the output layer:\n",
    "* _pronoun_ -- a pronoun from the set {\"mina\", \"sina\", \"tema\", \"kes\", \"mis\", \"see\"};\n",
    "* _mention_ -- antecedent: another pronoun, a noun or a proper noun;"
   ]
  },
  {
   "cell_type": "markdown",
   "id": "e7afaf26",
   "metadata": {},
   "source": [
    "### Local installation\n",
    "\n",
    "*In order to use the coreference resolver locally, you need to install additional packages: [estnltk_neural](https://github.com/estnltk/estnltk/tree/main/estnltk_neural), [scikit-learn](https://scikit-learn.org/stable/install.html), [gensim](https://radimrehurek.com/gensim/), [xgboost](https://pypi.org/project/xgboost). You also need stanza and stanza's Estonian models, but these will be installed automagically once you have other requirements fulfilled.*"
   ]
  },
  {
   "cell_type": "markdown",
   "id": "593147a2",
   "metadata": {},
   "source": [
    "`esnltk_neural` provides CoreferenceTagger for detecting pronoun-mention coreference pairs in text. The model and configuration files required by the tagger need to be downloaded separately. There are two ways for downloading the required resources:\n",
    "\n",
    "   * If you create a new instance of CoreferenceTagger and the resources have not been downloaded yet, you'll be prompted with a question asking for permission to download the resources;\n",
    "   * Alternatively, you can pre-download resources manually via download function:\n",
    "\n",
    "```python\n",
    "from estnltk import download\n",
    "download('coreference_v1')\n",
    "```"
   ]
  },
  {
   "cell_type": "code",
   "execution_count": 3,
   "id": "8a7bbe8b",
   "metadata": {},
   "outputs": [],
   "source": [
    "from estnltk import Text\n",
    "from estnltk_neural.taggers import CoreferenceTagger"
   ]
  },
  {
   "cell_type": "code",
   "execution_count": 4,
   "id": "d0bf47ad",
   "metadata": {
    "tags": [
     "nbval-skip"
    ]
   },
   "outputs": [
    {
     "name": "stdout",
     "output_type": "stream",
     "text": [
      "INFO:coreference_api.py:67: test::Initializing resources\n",
      "INFO:coreference_api.py:69: test::Read Resource Catalog from=>C:\\Programmid\\Miniconda3\\envs\\py38_est_coref\\lib\\site-packages\\estnltk-1.7.2-py3.8-win-amd64.egg\\estnltk\\estnltk_resources\\coreference\\model_2021-01-04\\estonian_configuration_files\\estonian_catalog.xml\n",
      "INFO:coreference_api.py:72: test::Read the global mention scores from=>C:\\Programmid\\Miniconda3\\envs\\py38_est_coref\\lib\\site-packages\\estnltk-1.7.2-py3.8-win-amd64.egg\\estnltk\\estnltk_resources\\coreference\\model_2021-01-04\\estonian_resources/estonian_global_mention_scores/estonian_mentions_score.txt\n",
      "INFO:coreference_api.py:74: test::Read Eleri Aedmaa abstractness scores from=> C:\\Programmid\\Miniconda3\\envs\\py38_est_coref\\lib\\site-packages\\estnltk-1.7.2-py3.8-win-amd64.egg\\estnltk\\estnltk_resources\\coreference\\model_2021-01-04\\estonian_resources/estonian_abstractness_lexicon/abstractness_ET.txt\n",
      "INFO:keyedvectors.py:2047: loading projection weights from C:\\Programmid\\Miniconda3\\envs\\py38_est_coref\\lib\\site-packages\\estnltk-1.7.2-py3.8-win-amd64.egg\\estnltk\\estnltk_resources\\coreference\\model_2021-01-04\\estonian_resources/estonian_embeddings/lemmas.cbow.s100.w2v.bin\n",
      "INFO:utils.py:448: KeyedVectors lifecycle event {'msg': 'loaded (441391, 100) matrix of type float32 from C:\\\\Programmid\\\\Miniconda3\\\\envs\\\\py38_est_coref\\\\lib\\\\site-packages\\\\estnltk-1.7.2-py3.8-win-amd64.egg\\\\estnltk\\\\estnltk_resources\\\\coreference\\\\model_2021-01-04\\\\estonian_resources/estonian_embeddings/lemmas.cbow.s100.w2v.bin', 'binary': True, 'encoding': 'utf8', 'datetime': '2023-05-18T15:14:04.157065', 'gensim': '4.3.1', 'python': '3.8.16 (default, Mar  2 2023, 03:18:16) [MSC v.1916 64 bit (AMD64)]', 'platform': 'Windows-10-10.0.19045-SP0', 'event': 'load_word2vec_format'}\n",
      "INFO:coreference_features.py:82: Inited tkachenko_embedding embeddings\n",
      "INFO:coreference_api.py:79: test::Inited the embedding models from=> C:\\Programmid\\Miniconda3\\envs\\py38_est_coref\\lib\\site-packages\\estnltk-1.7.2-py3.8-win-amd64.egg\\estnltk\\estnltk_resources\\coreference\\model_2021-01-04\\estonian_configuration_files/estonian_embeddings.xml\n",
      "INFO:coreference_api.py:87: test::Fitting model based on=> C:\\Programmid\\Miniconda3\\envs\\py38_est_coref\\lib\\site-packages\\estnltk-1.7.2-py3.8-win-amd64.egg\\estnltk\\estnltk_resources\\coreference\\model_2021-01-04\\estonian_resources\\estonian_training_data_preprocessed\\estonian_training_corpus-sklearn.txt\n",
      "INFO:coreference_api.py:96: test::Initialized background resources\n",
      "INFO:core.py:209: Checking for updates to resources.json in case models have been updated.  Note: this behavior can be turned off with download_method=None or download_method=DownloadMethod.REUSE_RESOURCES\n"
     ]
    },
    {
     "data": {
      "application/vnd.jupyter.widget-view+json": {
       "model_id": "89b9b0c63c544e5db9425d5528182332",
       "version_major": 2,
       "version_minor": 0
      },
      "text/plain": [
       "Downloading https://raw.githubusercontent.com/stanfordnlp/stanza-resources/main/resources_1.5.0.json:   0%|   …"
      ]
     },
     "metadata": {},
     "output_type": "display_data"
    },
    {
     "name": "stdout",
     "output_type": "stream",
     "text": [
      "INFO:core.py:259: Loading these models for language: et (Estonian):\n",
      "=======================\n",
      "| Processor | Package |\n",
      "-----------------------\n",
      "| tokenize  | edt     |\n",
      "| pos       | edt     |\n",
      "| lemma     | edt     |\n",
      "| depparse  | edt     |\n",
      "=======================\n",
      "\n",
      "INFO:core.py:278: Using device: cpu\n",
      "INFO:core.py:284: Loading: tokenize\n",
      "INFO:core.py:284: Loading: pos\n",
      "INFO:core.py:284: Loading: lemma\n",
      "INFO:core.py:284: Loading: depparse\n",
      "INFO:core.py:336: Done loading processors!\n",
      "INFO:coreference_api.py:107: test::Initialized stanza nlp pipeline\n"
     ]
    }
   ],
   "source": [
    "coref_tagger = CoreferenceTagger()"
   ]
  },
  {
   "cell_type": "markdown",
   "id": "afde3772",
   "metadata": {},
   "source": [
    "CoreferenceTagger relies on the stanza's Estonian models for preprocessing of the input text, and does not have any layer dependencies from EstNLTK:"
   ]
  },
  {
   "cell_type": "code",
   "execution_count": 5,
   "id": "dfefcea1",
   "metadata": {
    "tags": [
     "nbval-skip"
    ]
   },
   "outputs": [
    {
     "data": {
      "text/html": [
       "<h4>RelationTagger</h4>\n",
       "Tags pronoun-mention coreference pairs in texts.\n",
       "<table border=\"1\" class=\"dataframe\">\n",
       "  <thead>\n",
       "    <tr style=\"text-align: right;\">\n",
       "      <th>name</th>\n",
       "      <th>output layer</th>\n",
       "      <th>output span names</th>\n",
       "      <th>output attributes</th>\n",
       "      <th>input layers</th>\n",
       "    </tr>\n",
       "  </thead>\n",
       "  <tbody>\n",
       "    <tr>\n",
       "      <td>CoreferenceTagger</td>\n",
       "      <td>coreference</td>\n",
       "      <td>('pronoun', 'mention')</td>\n",
       "      <td>('chain_id',)</td>\n",
       "      <td>()</td>\n",
       "    </tr>\n",
       "  </tbody>\n",
       "</table>\n",
       "<h4>Configuration</h4>\n",
       "<table border=\"1\" class=\"dataframe\">\n",
       "  <tbody>\n",
       "    <tr>\n",
       "      <th>add_chain_ids</th>\n",
       "      <td>True</td>\n",
       "    </tr>\n",
       "    <tr>\n",
       "      <th>stanza_nlp</th>\n",
       "      <td>&lt;Pipeline: tokenize=TokenizeProcessor(C:\\Users\\soras\\stanza_resources\\et\\tokeniz ..., type: &lt;class 'stanza.pipeline.core.Pipeline'&gt;</td>\n",
       "    </tr>\n",
       "    <tr>\n",
       "      <th>coref_model</th>\n",
       "      <td>Pipeline(steps=[('t',\\n                 ColumnTransformer(remainder='passthrough' ..., type: &lt;class 'sklearn.pipeline.Pipeline'&gt;, length: 2</td>\n",
       "    </tr>\n",
       "  </tbody>\n",
       "</table>"
      ],
      "text/plain": [
       "CoreferenceTagger(input_layers=(), output_layer=coreference, output_span_names=('pronoun', 'mention'), output_attributes=('chain_id',), add_chain_ids=True, stanza_nlp=<Pipeline: tokenize=TokenizeProcessor(C:\\Users\\soras\\stanza_resources\\et\\tokeniz ..., type: <class 'stanza.pipeline.core.Pipeline'>, coref_model=Pipeline(steps=[('t',\n",
       "                 ColumnTransformer(remainder='passthrough' ..., type: <class 'sklearn.pipeline.Pipeline'>, length: 2)"
      ]
     },
     "execution_count": 5,
     "metadata": {},
     "output_type": "execute_result"
    }
   ],
   "source": [
    "coref_tagger"
   ]
  },
  {
   "cell_type": "markdown",
   "id": "1296f7cb",
   "metadata": {},
   "source": [
    "If you have downloaded _stanza's_ Estonian models manually and placed into a non-default location, you can pass path to the models directory via constructor parameter `stanza_models_dir`:\n",
    "\n",
    "```python\n",
    "coref_tagger = CoreferenceTagger(stanza_models_dir = ...)\n",
    "```\n",
    "This would avoid re-downloading _stanza's_ models."
   ]
  },
  {
   "cell_type": "markdown",
   "id": "2d3c53f1",
   "metadata": {},
   "source": [
    "Usage example:"
   ]
  },
  {
   "cell_type": "code",
   "execution_count": 6,
   "id": "45db46d5",
   "metadata": {
    "tags": [
     "nbval-skip"
    ]
   },
   "outputs": [
    {
     "data": {
      "text/html": [
       "<h4>RelationLayer</h4>\n",
       "\n",
       "\n",
       "<table border=\"1\" class=\"dataframe\">\n",
       "  <thead>\n",
       "    <tr style=\"text-align: right;\">\n",
       "      <th>layer name</th>\n",
       "      <th>span_names</th>\n",
       "      <th>attributes</th>\n",
       "      <th>ambiguous</th>\n",
       "      <th>relation count</th>\n",
       "    </tr>\n",
       "  </thead>\n",
       "  <tbody>\n",
       "    <tr>\n",
       "      <td>coreference</td>\n",
       "      <td>pronoun, mention</td>\n",
       "      <td>chain_id</td>\n",
       "      <td>False</td>\n",
       "      <td>2</td>\n",
       "    </tr>\n",
       "  </tbody>\n",
       "</table>\n",
       "<table border=\"1\" class=\"dataframe\">\n",
       "  <thead>\n",
       "    <tr style=\"text-align: right;\">\n",
       "      <th>pronoun</th>\n",
       "      <th>mention</th>\n",
       "      <th>chain_id</th>\n",
       "    </tr>\n",
       "  </thead>\n",
       "  <tbody>\n",
       "    <tr>\n",
       "      <td>Mina</td>\n",
       "      <td>Silver</td>\n",
       "      <td>0</td>\n",
       "    </tr>\n",
       "    <tr>\n",
       "      <td>teda</td>\n",
       "      <td>Silver</td>\n",
       "      <td>0</td>\n",
       "    </tr>\n",
       "  </tbody>\n",
       "</table>"
      ],
      "text/plain": [
       "RelationLayer(name='coreference', span_names=('pronoun', 'mention'), attributes=('chain_id',), relations=[Relation([NamedSpan(pronoun: 'Mina'), NamedSpan(mention: 'Silver')], [{'chain_id': 0}]), Relation([NamedSpan(pronoun: 'teda'), NamedSpan(mention: 'Silver')], [{'chain_id': 0}])])"
      ]
     },
     "execution_count": 6,
     "metadata": {},
     "output_type": "execute_result"
    }
   ],
   "source": [
    "text = Text('''Mina ei tagane sammugi, põrutas kapten Silver Üksjalg meestele. Aga teda ei kuulatud.''')\n",
    "coref_tagger.tag( text )\n",
    "text['coreference']"
   ]
  },
  {
   "cell_type": "markdown",
   "id": "aefc07d9",
   "metadata": {},
   "source": [
    "In the outcome layer:\n",
    "* _pronoun_ -- a pronoun from the set {\"mina\", \"sina\", \"tema\", \"kes\", \"mis\", \"see\"};\n",
    "* _mention_ -- antecedent: another pronoun, a noun or a proper noun;\n",
    "* _chain_id_ -- identifier of the chain; if multiple coreference pairs share common members, then they belong to a common chain;"
   ]
  },
  {
   "cell_type": "markdown",
   "id": "e72977fe",
   "metadata": {},
   "source": [
    "#### Assigning coreference chain id-s\n",
    "\n",
    "By default, CoreferenceTagger assigns `chain_id`-s to pronoun-mention pairs, so that all coreference relations that share a common mention will obtain a single `chain_id`.\n",
    "You can switch off the mark-up of `chain_id`-s via flag `add_chain_ids`:\n",
    "```python\n",
    "coref_tagger = CoreferenceTagger(add_chain_ids = False)\n",
    "```\n",
    "Note that the coreference chain mark-up is very basic and does not go beyond relations detected by the tagger. \n",
    "So, even if two mentions are same, but are not connected via a chain of pronoun-mention relations, the mentions will end up in different chains."
   ]
  },
  {
   "cell_type": "markdown",
   "id": "cdf1aa3b",
   "metadata": {},
   "source": [
    "#### Extending mentions with named entity information\n",
    "\n",
    "You can add a layer of named entity annotations as an input layer of CoreferenceTagger via parameter `ner_layer`.\n",
    "After that, CoreferenceTagger expands detected mentions to full extent named entity phrases, whenever there is an overlap between a detected mention and a named entity phrase.\n",
    "Example:\n"
   ]
  },
  {
   "cell_type": "code",
   "execution_count": 7,
   "id": "7b5e3d95",
   "metadata": {},
   "outputs": [
    {
     "data": {
      "text/html": [
       "<h4>Layer</h4>\n",
       "\n",
       "\n",
       "<table border=\"1\" class=\"dataframe\">\n",
       "  <thead>\n",
       "    <tr style=\"text-align: right;\">\n",
       "      <th>layer name</th>\n",
       "      <th>attributes</th>\n",
       "      <th>parent</th>\n",
       "      <th>enveloping</th>\n",
       "      <th>ambiguous</th>\n",
       "      <th>span count</th>\n",
       "    </tr>\n",
       "  </thead>\n",
       "  <tbody>\n",
       "    <tr>\n",
       "      <td>ner</td>\n",
       "      <td>nertag</td>\n",
       "      <td>None</td>\n",
       "      <td>words</td>\n",
       "      <td>False</td>\n",
       "      <td>1</td>\n",
       "    </tr>\n",
       "  </tbody>\n",
       "</table>\n",
       "<table border=\"1\" class=\"dataframe\">\n",
       "  <thead>\n",
       "    <tr style=\"text-align: right;\">\n",
       "      <th>text</th>\n",
       "      <th>nertag</th>\n",
       "    </tr>\n",
       "  </thead>\n",
       "  <tbody>\n",
       "    <tr>\n",
       "      <td>['Silver', 'Üksjalg']</td>\n",
       "      <td>PER</td>\n",
       "    </tr>\n",
       "  </tbody>\n",
       "</table>"
      ],
      "text/plain": [
       "Layer(name='ner', attributes=('nertag',), spans=SL[EnvelopingSpan(['Silver', 'Üksjalg'], [{'nertag': 'PER'}])])"
      ]
     },
     "execution_count": 7,
     "metadata": {},
     "output_type": "execute_result"
    }
   ],
   "source": [
    "# Prepare text with ner layer\n",
    "text = Text('''Mina ei tagane sammugi, põrutas kapten Silver Üksjalg meestele. Aga teda ei kuulatud.''')\n",
    "text.tag_layer('ner')\n",
    "text['ner']"
   ]
  },
  {
   "cell_type": "code",
   "execution_count": 8,
   "id": "afcd2358",
   "metadata": {
    "tags": [
     "nbval-skip"
    ]
   },
   "outputs": [
    {
     "data": {
      "application/vnd.jupyter.widget-view+json": {
       "model_id": "6645b152c64944aa9077f2596051aa2d",
       "version_major": 2,
       "version_minor": 0
      },
      "text/plain": [
       "Downloading https://raw.githubusercontent.com/stanfordnlp/stanza-resources/main/resources_1.5.0.json:   0%|   …"
      ]
     },
     "metadata": {},
     "output_type": "display_data"
    },
    {
     "data": {
      "text/html": [
       "<h4>RelationLayer</h4>\n",
       "\n",
       "\n",
       "<table border=\"1\" class=\"dataframe\">\n",
       "  <thead>\n",
       "    <tr style=\"text-align: right;\">\n",
       "      <th>layer name</th>\n",
       "      <th>span_names</th>\n",
       "      <th>attributes</th>\n",
       "      <th>ambiguous</th>\n",
       "      <th>relation count</th>\n",
       "    </tr>\n",
       "  </thead>\n",
       "  <tbody>\n",
       "    <tr>\n",
       "      <td>coreference</td>\n",
       "      <td>pronoun, mention</td>\n",
       "      <td>chain_id</td>\n",
       "      <td>False</td>\n",
       "      <td>2</td>\n",
       "    </tr>\n",
       "  </tbody>\n",
       "</table>\n",
       "<table border=\"1\" class=\"dataframe\">\n",
       "  <thead>\n",
       "    <tr style=\"text-align: right;\">\n",
       "      <th>pronoun</th>\n",
       "      <th>mention</th>\n",
       "      <th>chain_id</th>\n",
       "    </tr>\n",
       "  </thead>\n",
       "  <tbody>\n",
       "    <tr>\n",
       "      <td>Mina</td>\n",
       "      <td>Silver Üksjalg</td>\n",
       "      <td>0</td>\n",
       "    </tr>\n",
       "    <tr>\n",
       "      <td>teda</td>\n",
       "      <td>Silver Üksjalg</td>\n",
       "      <td>0</td>\n",
       "    </tr>\n",
       "  </tbody>\n",
       "</table>"
      ],
      "text/plain": [
       "RelationLayer(name='coreference', span_names=('pronoun', 'mention'), attributes=('chain_id',), relations=[Relation([NamedSpan(pronoun: 'Mina'), NamedSpan(mention: 'Silver Üksjalg')], [{'chain_id': 0}]), Relation([NamedSpan(pronoun: 'teda'), NamedSpan(mention: 'Silver Üksjalg')], [{'chain_id': 0}])])"
      ]
     },
     "execution_count": 8,
     "metadata": {},
     "output_type": "execute_result"
    }
   ],
   "source": [
    "# Disable CoreferenceTagger's init logging\n",
    "import logging\n",
    "logging.disable(logging.INFO)\n",
    "\n",
    "# Make CoreferenceTagger aware of ner layer\n",
    "coref_tagger = CoreferenceTagger(ner_layer='ner', logger=logging)\n",
    "\n",
    "# Detect coreference\n",
    "coref_tagger.tag( text )\n",
    "text['coreference']"
   ]
  },
  {
   "cell_type": "markdown",
   "id": "f88237ae",
   "metadata": {},
   "source": [
    "---"
   ]
  }
 ],
 "metadata": {
  "kernelspec": {
   "display_name": "Python 3 (ipykernel)",
   "language": "python",
   "name": "python3"
  },
  "language_info": {
   "codemirror_mode": {
    "name": "ipython",
    "version": 3
   },
   "file_extension": ".py",
   "mimetype": "text/x-python",
   "name": "python",
   "nbconvert_exporter": "python",
   "pygments_lexer": "ipython3",
   "version": "3.8.16"
  }
 },
 "nbformat": 4,
 "nbformat_minor": 5
}
