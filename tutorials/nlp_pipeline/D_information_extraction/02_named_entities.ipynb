{
 "cells": [
  {
   "cell_type": "markdown",
   "metadata": {},
   "source": [
    "## <span style=\"color:purple\"> Information extraction: named entities </span>"
   ]
  },
  {
   "cell_type": "markdown",
   "metadata": {},
   "source": [
    "Named Entity Recognition (NER) is a subtask of information extraction that seeks to locate and classify elements in text into pre-defined categories such as the names of persons, organizations, locations."
   ]
  },
  {
   "cell_type": "markdown",
   "metadata": {},
   "source": [
    "EstNLTK has multiple NER models for Estonian. \n",
    "The traditional machine learning based model was created by [Tkachenko et al. (2013)](https://aclanthology.org/W13-2412/), and is available through `NerTagger` and `WordLevelNerTagger` components in EstNLTK. This model annotates categories `PER`, `LOC`, `ORG`.\n",
    "\n",
    "Neural Bert-based models were created by [Kairit Sirts (2023)](https://openreview.net/pdf?id=4CTnlIc1rhw), and are available through `EstBERTNERTagger` component in EstNLTK neural. There are 2 neural NER models: first using the basic `PER`, `LOC`, `ORG` categories, and the second using the extended set of categories: `PER`, `LOC`, `ORG`, `GPE`, `MONEY`, `PERCENT`, `PROD`, `TITLE`, `DATE`, `TIME`, `EVENT`."
   ]
  },
  {
   "cell_type": "markdown",
   "metadata": {},
   "source": [
    "---"
   ]
  },
  {
   "cell_type": "markdown",
   "metadata": {},
   "source": [
    "## The basic NER model (traditional ML)\n",
    "\n",
    "The traditional machine learning based NER is distributed with the EstNLTK's main package. "
   ]
  },
  {
   "cell_type": "markdown",
   "metadata": {},
   "source": [
    "You can apply NER directly via default resolver:"
   ]
  },
  {
   "cell_type": "code",
   "execution_count": 1,
   "metadata": {},
   "outputs": [
    {
     "data": {
      "text/html": [
       "<h4>Layer</h4>\n",
       "\n",
       "\n",
       "<table border=\"1\" class=\"dataframe\">\n",
       "  <thead>\n",
       "    <tr style=\"text-align: right;\">\n",
       "      <th>layer name</th>\n",
       "      <th>attributes</th>\n",
       "      <th>parent</th>\n",
       "      <th>enveloping</th>\n",
       "      <th>ambiguous</th>\n",
       "      <th>span count</th>\n",
       "    </tr>\n",
       "  </thead>\n",
       "  <tbody>\n",
       "    <tr>\n",
       "      <td>ner</td>\n",
       "      <td>nertag</td>\n",
       "      <td>None</td>\n",
       "      <td>words</td>\n",
       "      <td>False</td>\n",
       "      <td>4</td>\n",
       "    </tr>\n",
       "  </tbody>\n",
       "</table>\n",
       "<table border=\"1\" class=\"dataframe\">\n",
       "  <thead>\n",
       "    <tr style=\"text-align: right;\">\n",
       "      <th>text</th>\n",
       "      <th>nertag</th>\n",
       "    </tr>\n",
       "  </thead>\n",
       "  <tbody>\n",
       "    <tr>\n",
       "      <td>['Eesti']</td>\n",
       "      <td>LOC</td>\n",
       "    </tr>\n",
       "    <tr>\n",
       "      <td>['Alar', 'Karis']</td>\n",
       "      <td>PER</td>\n",
       "    </tr>\n",
       "    <tr>\n",
       "      <td>['Eesti', 'Energia']</td>\n",
       "      <td>ORG</td>\n",
       "    </tr>\n",
       "    <tr>\n",
       "      <td>['Eesti', 'riigile']</td>\n",
       "      <td>LOC</td>\n",
       "    </tr>\n",
       "  </tbody>\n",
       "</table>"
      ],
      "text/plain": [
       "Layer(name='ner', attributes=('nertag',), spans=SL[EnvelopingSpan(['Eesti'], [{'nertag': 'LOC'}]),\n",
       "EnvelopingSpan(['Alar', 'Karis'], [{'nertag': 'PER'}]),\n",
       "EnvelopingSpan(['Eesti', 'Energia'], [{'nertag': 'ORG'}]),\n",
       "EnvelopingSpan(['Eesti', 'riigile'], [{'nertag': 'LOC'}])])"
      ]
     },
     "execution_count": 1,
     "metadata": {},
     "output_type": "execute_result"
    }
   ],
   "source": [
    "from estnltk import Text\n",
    "\n",
    "text = Text('Eesti president on Alar Karis. Eesti Energia on Eesti riigile kuuluv energiaettevõte.')\n",
    "\n",
    "text.tag_layer('ner')\n",
    "\n",
    "text.ner"
   ]
  },
  {
   "cell_type": "markdown",
   "metadata": {},
   "source": [
    "You can use `enclosing_text` to obtain exact strings corresponding to named entities:"
   ]
  },
  {
   "cell_type": "code",
   "execution_count": 2,
   "metadata": {},
   "outputs": [
    {
     "data": {
      "text/plain": [
       "['Eesti', 'Alar Karis', 'Eesti Energia', 'Eesti riigile']"
      ]
     },
     "execution_count": 2,
     "metadata": {},
     "output_type": "execute_result"
    }
   ],
   "source": [
    "# Get named entity strings\n",
    "[named_entity.enclosing_text for named_entity in text.ner]"
   ]
  },
  {
   "cell_type": "markdown",
   "metadata": {},
   "source": [
    "While NerTagger does not provide lemmatization of names, you can iterate over all words of each named entity, and you can get lemmas for these words from the `morph_analysis` layer:"
   ]
  },
  {
   "cell_type": "code",
   "execution_count": 3,
   "metadata": {},
   "outputs": [
    {
     "name": "stdout",
     "output_type": "stream",
     "text": [
      "Eesti ['Eesti']\n",
      "\n",
      "Alar ['Alar']\n",
      "Karis ['Karis']\n",
      "\n",
      "Eesti ['Eesti']\n",
      "Energia ['energia']\n",
      "\n",
      "Eesti ['Eesti']\n",
      "riigile ['riik']\n",
      "\n"
     ]
    }
   ],
   "source": [
    "# Get lemmas of the named entities\n",
    "for named_entity in text.ner:\n",
    "    for word in named_entity:\n",
    "        print(word.text, word.lemma)\n",
    "    print()"
   ]
  },
  {
   "cell_type": "markdown",
   "metadata": {},
   "source": [
    "Note that lemmas are provided as a list due to ambiguities in the morph analysis layer."
   ]
  },
  {
   "cell_type": "markdown",
   "metadata": {},
   "source": [
    "## Usage as a tagger \n",
    "\n",
    "Next, we'll see how to use NerTagger as a separate tagger.\n",
    "\n",
    "Loading the tagger:"
   ]
  },
  {
   "cell_type": "code",
   "execution_count": 4,
   "metadata": {
    "scrolled": true
   },
   "outputs": [],
   "source": [
    "from estnltk.taggers import NerTagger\n",
    "\n",
    "nertagger = NerTagger()"
   ]
  },
  {
   "cell_type": "markdown",
   "metadata": {},
   "source": [
    "Create a text object and add prerequisite layers"
   ]
  },
  {
   "cell_type": "code",
   "execution_count": 5,
   "metadata": {},
   "outputs": [],
   "source": [
    "from estnltk import Text"
   ]
  },
  {
   "cell_type": "code",
   "execution_count": 6,
   "metadata": {},
   "outputs": [],
   "source": [
    "text = Text('''Eesti Vabariik on riik Põhja-Euroopas. Eesti piirneb põhjas üle Soome lahe Soome Vabariigiga.''')\n",
    "text = text.tag_layer(['sentences', 'morph_analysis'])"
   ]
  },
  {
   "cell_type": "markdown",
   "metadata": {},
   "source": [
    "Add the NER layer to the text"
   ]
  },
  {
   "cell_type": "code",
   "execution_count": 7,
   "metadata": {},
   "outputs": [
    {
     "data": {
      "text/html": [
       "<table border=\"1\" class=\"dataframe\">\n",
       "  <thead>\n",
       "    <tr style=\"text-align: right;\">\n",
       "      <th>text</th>\n",
       "    </tr>\n",
       "  </thead>\n",
       "  <tbody>\n",
       "    <tr>\n",
       "      <td><div align = \"left\">Eesti Vabariik on riik Põhja-Euroopas. Eesti piirneb põhjas üle Soome lahe Soome Vabariigiga.</div></td>\n",
       "    </tr>\n",
       "  </tbody>\n",
       "</table>\n",
       "<table border=\"1\" class=\"dataframe\">\n",
       "  <thead>\n",
       "    <tr style=\"text-align: right;\">\n",
       "      <th>layer name</th>\n",
       "      <th>attributes</th>\n",
       "      <th>parent</th>\n",
       "      <th>enveloping</th>\n",
       "      <th>ambiguous</th>\n",
       "      <th>span count</th>\n",
       "    </tr>\n",
       "  </thead>\n",
       "  <tbody>\n",
       "    <tr>\n",
       "      <td>sentences</td>\n",
       "      <td></td>\n",
       "      <td>None</td>\n",
       "      <td>words</td>\n",
       "      <td>False</td>\n",
       "      <td>2</td>\n",
       "    </tr>\n",
       "    <tr>\n",
       "      <td>tokens</td>\n",
       "      <td></td>\n",
       "      <td>None</td>\n",
       "      <td>None</td>\n",
       "      <td>False</td>\n",
       "      <td>17</td>\n",
       "    </tr>\n",
       "    <tr>\n",
       "      <td>compound_tokens</td>\n",
       "      <td>type, normalized</td>\n",
       "      <td>None</td>\n",
       "      <td>tokens</td>\n",
       "      <td>False</td>\n",
       "      <td>1</td>\n",
       "    </tr>\n",
       "    <tr>\n",
       "      <td>words</td>\n",
       "      <td>normalized_form</td>\n",
       "      <td>None</td>\n",
       "      <td>None</td>\n",
       "      <td>True</td>\n",
       "      <td>15</td>\n",
       "    </tr>\n",
       "    <tr>\n",
       "      <td>morph_analysis</td>\n",
       "      <td>normalized_text, lemma, root, root_tokens, ending, clitic, form, partofspeech</td>\n",
       "      <td>words</td>\n",
       "      <td>None</td>\n",
       "      <td>True</td>\n",
       "      <td>15</td>\n",
       "    </tr>\n",
       "    <tr>\n",
       "      <td>ner</td>\n",
       "      <td>nertag</td>\n",
       "      <td>None</td>\n",
       "      <td>words</td>\n",
       "      <td>False</td>\n",
       "      <td>5</td>\n",
       "    </tr>\n",
       "  </tbody>\n",
       "</table>"
      ],
      "text/plain": [
       "Text(text='Eesti Vabariik on riik Põhja-Euroopas. Eesti piirneb põhjas üle Soome lahe Soome Vabariigiga.')"
      ]
     },
     "execution_count": 7,
     "metadata": {},
     "output_type": "execute_result"
    }
   ],
   "source": [
    "nertagger.tag(text)"
   ]
  },
  {
   "cell_type": "markdown",
   "metadata": {},
   "source": [
    "The nertag attribute shows the category of each named entity, either \"LOC\" - location, \"PER\" - person or \"ORG\" - organization"
   ]
  },
  {
   "cell_type": "code",
   "execution_count": 8,
   "metadata": {},
   "outputs": [
    {
     "data": {
      "text/html": [
       "<h4>Layer</h4>\n",
       "\n",
       "\n",
       "<table border=\"1\" class=\"dataframe\">\n",
       "  <thead>\n",
       "    <tr style=\"text-align: right;\">\n",
       "      <th>layer name</th>\n",
       "      <th>attributes</th>\n",
       "      <th>parent</th>\n",
       "      <th>enveloping</th>\n",
       "      <th>ambiguous</th>\n",
       "      <th>span count</th>\n",
       "    </tr>\n",
       "  </thead>\n",
       "  <tbody>\n",
       "    <tr>\n",
       "      <td>ner</td>\n",
       "      <td>nertag</td>\n",
       "      <td>None</td>\n",
       "      <td>words</td>\n",
       "      <td>False</td>\n",
       "      <td>5</td>\n",
       "    </tr>\n",
       "  </tbody>\n",
       "</table>\n",
       "<table border=\"1\" class=\"dataframe\">\n",
       "  <thead>\n",
       "    <tr style=\"text-align: right;\">\n",
       "      <th>text</th>\n",
       "      <th>nertag</th>\n",
       "    </tr>\n",
       "  </thead>\n",
       "  <tbody>\n",
       "    <tr>\n",
       "      <td>['Eesti', 'Vabariik']</td>\n",
       "      <td>LOC</td>\n",
       "    </tr>\n",
       "    <tr>\n",
       "      <td>['Põhja-Euroopas']</td>\n",
       "      <td>LOC</td>\n",
       "    </tr>\n",
       "    <tr>\n",
       "      <td>['Eesti']</td>\n",
       "      <td>LOC</td>\n",
       "    </tr>\n",
       "    <tr>\n",
       "      <td>['Soome', 'lahe']</td>\n",
       "      <td>LOC</td>\n",
       "    </tr>\n",
       "    <tr>\n",
       "      <td>['Soome', 'Vabariigiga']</td>\n",
       "      <td>LOC</td>\n",
       "    </tr>\n",
       "  </tbody>\n",
       "</table>"
      ],
      "text/plain": [
       "Layer(name='ner', attributes=('nertag',), spans=SL[EnvelopingSpan(['Eesti', 'Vabariik'], [{'nertag': 'LOC'}]),\n",
       "EnvelopingSpan(['Põhja-Euroopas'], [{'nertag': 'LOC'}]),\n",
       "EnvelopingSpan(['Eesti'], [{'nertag': 'LOC'}]),\n",
       "EnvelopingSpan(['Soome', 'lahe'], [{'nertag': 'LOC'}]),\n",
       "EnvelopingSpan(['Soome', 'Vabariigiga'], [{'nertag': 'LOC'}])])"
      ]
     },
     "execution_count": 8,
     "metadata": {},
     "output_type": "execute_result"
    }
   ],
   "source": [
    "text.ner"
   ]
  },
  {
   "cell_type": "markdown",
   "metadata": {},
   "source": [
    "For some use cases it might be better to have the output layer with a tag for each word. This can be used for visualizing or making manual changes to the layer."
   ]
  },
  {
   "cell_type": "code",
   "execution_count": 9,
   "metadata": {},
   "outputs": [],
   "source": [
    "from estnltk.taggers import WordLevelNerTagger\n",
    "\n",
    "word_level_ner = WordLevelNerTagger()"
   ]
  },
  {
   "cell_type": "code",
   "execution_count": 10,
   "metadata": {},
   "outputs": [
    {
     "data": {
      "text/html": [
       "<table border=\"1\" class=\"dataframe\">\n",
       "  <thead>\n",
       "    <tr style=\"text-align: right;\">\n",
       "      <th>text</th>\n",
       "    </tr>\n",
       "  </thead>\n",
       "  <tbody>\n",
       "    <tr>\n",
       "      <td><div align = \"left\">Eesti Vabariik on riik Põhja-Euroopas. Eesti piirneb põhjas üle Soome lahe Soome Vabariigiga.</div></td>\n",
       "    </tr>\n",
       "  </tbody>\n",
       "</table>\n",
       "<table border=\"1\" class=\"dataframe\">\n",
       "  <thead>\n",
       "    <tr style=\"text-align: right;\">\n",
       "      <th>layer name</th>\n",
       "      <th>attributes</th>\n",
       "      <th>parent</th>\n",
       "      <th>enveloping</th>\n",
       "      <th>ambiguous</th>\n",
       "      <th>span count</th>\n",
       "    </tr>\n",
       "  </thead>\n",
       "  <tbody>\n",
       "    <tr>\n",
       "      <td>sentences</td>\n",
       "      <td></td>\n",
       "      <td>None</td>\n",
       "      <td>words</td>\n",
       "      <td>False</td>\n",
       "      <td>2</td>\n",
       "    </tr>\n",
       "    <tr>\n",
       "      <td>tokens</td>\n",
       "      <td></td>\n",
       "      <td>None</td>\n",
       "      <td>None</td>\n",
       "      <td>False</td>\n",
       "      <td>17</td>\n",
       "    </tr>\n",
       "    <tr>\n",
       "      <td>compound_tokens</td>\n",
       "      <td>type, normalized</td>\n",
       "      <td>None</td>\n",
       "      <td>tokens</td>\n",
       "      <td>False</td>\n",
       "      <td>1</td>\n",
       "    </tr>\n",
       "    <tr>\n",
       "      <td>words</td>\n",
       "      <td>normalized_form</td>\n",
       "      <td>None</td>\n",
       "      <td>None</td>\n",
       "      <td>True</td>\n",
       "      <td>15</td>\n",
       "    </tr>\n",
       "    <tr>\n",
       "      <td>morph_analysis</td>\n",
       "      <td>normalized_text, lemma, root, root_tokens, ending, clitic, form, partofspeech</td>\n",
       "      <td>words</td>\n",
       "      <td>None</td>\n",
       "      <td>True</td>\n",
       "      <td>15</td>\n",
       "    </tr>\n",
       "    <tr>\n",
       "      <td>ner</td>\n",
       "      <td>nertag</td>\n",
       "      <td>None</td>\n",
       "      <td>words</td>\n",
       "      <td>False</td>\n",
       "      <td>5</td>\n",
       "    </tr>\n",
       "    <tr>\n",
       "      <td>wordner</td>\n",
       "      <td>nertag</td>\n",
       "      <td>words</td>\n",
       "      <td>None</td>\n",
       "      <td>False</td>\n",
       "      <td>15</td>\n",
       "    </tr>\n",
       "  </tbody>\n",
       "</table>"
      ],
      "text/plain": [
       "Text(text='Eesti Vabariik on riik Põhja-Euroopas. Eesti piirneb põhjas üle Soome lahe Soome Vabariigiga.')"
      ]
     },
     "execution_count": 10,
     "metadata": {},
     "output_type": "execute_result"
    }
   ],
   "source": [
    "word_level_ner.tag(text)"
   ]
  },
  {
   "cell_type": "markdown",
   "metadata": {},
   "source": [
    "Here, the tags are in IOB-format: B- prefix indicates that this token is the beginning of the named entity, I- prefix indicates that this token is inside the named entity. O shows that the token is outside named entities (not part of a named entity)."
   ]
  },
  {
   "cell_type": "code",
   "execution_count": 11,
   "metadata": {},
   "outputs": [
    {
     "data": {
      "text/html": [
       "<h4>Layer</h4>\n",
       "\n",
       "\n",
       "<table border=\"1\" class=\"dataframe\">\n",
       "  <thead>\n",
       "    <tr style=\"text-align: right;\">\n",
       "      <th>layer name</th>\n",
       "      <th>attributes</th>\n",
       "      <th>parent</th>\n",
       "      <th>enveloping</th>\n",
       "      <th>ambiguous</th>\n",
       "      <th>span count</th>\n",
       "    </tr>\n",
       "  </thead>\n",
       "  <tbody>\n",
       "    <tr>\n",
       "      <td>wordner</td>\n",
       "      <td>nertag</td>\n",
       "      <td>words</td>\n",
       "      <td>None</td>\n",
       "      <td>False</td>\n",
       "      <td>15</td>\n",
       "    </tr>\n",
       "  </tbody>\n",
       "</table>\n",
       "<table border=\"1\" class=\"dataframe\">\n",
       "  <thead>\n",
       "    <tr style=\"text-align: right;\">\n",
       "      <th>text</th>\n",
       "      <th>nertag</th>\n",
       "    </tr>\n",
       "  </thead>\n",
       "  <tbody>\n",
       "    <tr>\n",
       "      <td>Eesti</td>\n",
       "      <td>B-LOC</td>\n",
       "    </tr>\n",
       "    <tr>\n",
       "      <td>Vabariik</td>\n",
       "      <td>I-LOC</td>\n",
       "    </tr>\n",
       "    <tr>\n",
       "      <td>on</td>\n",
       "      <td>O</td>\n",
       "    </tr>\n",
       "    <tr>\n",
       "      <td>riik</td>\n",
       "      <td>O</td>\n",
       "    </tr>\n",
       "    <tr>\n",
       "      <td>Põhja-Euroopas</td>\n",
       "      <td>B-LOC</td>\n",
       "    </tr>\n",
       "    <tr>\n",
       "      <td>.</td>\n",
       "      <td>O</td>\n",
       "    </tr>\n",
       "    <tr>\n",
       "      <td>Eesti</td>\n",
       "      <td>B-LOC</td>\n",
       "    </tr>\n",
       "    <tr>\n",
       "      <td>piirneb</td>\n",
       "      <td>O</td>\n",
       "    </tr>\n",
       "    <tr>\n",
       "      <td>põhjas</td>\n",
       "      <td>O</td>\n",
       "    </tr>\n",
       "    <tr>\n",
       "      <td>üle</td>\n",
       "      <td>O</td>\n",
       "    </tr>\n",
       "    <tr>\n",
       "      <td>Soome</td>\n",
       "      <td>B-LOC</td>\n",
       "    </tr>\n",
       "    <tr>\n",
       "      <td>lahe</td>\n",
       "      <td>I-LOC</td>\n",
       "    </tr>\n",
       "    <tr>\n",
       "      <td>Soome</td>\n",
       "      <td>B-LOC</td>\n",
       "    </tr>\n",
       "    <tr>\n",
       "      <td>Vabariigiga</td>\n",
       "      <td>I-LOC</td>\n",
       "    </tr>\n",
       "    <tr>\n",
       "      <td>.</td>\n",
       "      <td>O</td>\n",
       "    </tr>\n",
       "  </tbody>\n",
       "</table>"
      ],
      "text/plain": [
       "Layer(name='wordner', attributes=('nertag',), spans=SL[Span('Eesti', [{'nertag': 'B-LOC'}]),\n",
       "Span('Vabariik', [{'nertag': 'I-LOC'}]),\n",
       "Span('on', [{'nertag': 'O'}]),\n",
       "Span('riik', [{'nertag': 'O'}]),\n",
       "Span('Põhja-Euroopas', [{'nertag': 'B-LOC'}]),\n",
       "Span('.', [{'nertag': 'O'}]),\n",
       "Span('Eesti', [{'nertag': 'B-LOC'}]),\n",
       "Span('piirneb', [{'nertag': 'O'}]),\n",
       "Span('põhjas', [{'nertag': 'O'}]),\n",
       "Span('üle', [{'nertag': 'O'}]),\n",
       "Span('Soome', [{'nertag': 'B-LOC'}]),\n",
       "Span('lahe', [{'nertag': 'I-LOC'}]),\n",
       "Span('Soome', [{'nertag': 'B-LOC'}]),\n",
       "Span('Vabariigiga', [{'nertag': 'I-LOC'}]),\n",
       "Span('.', [{'nertag': 'O'}])])"
      ]
     },
     "execution_count": 11,
     "metadata": {},
     "output_type": "execute_result"
    }
   ],
   "source": [
    "text.wordner"
   ]
  },
  {
   "cell_type": "markdown",
   "metadata": {},
   "source": [
    "---"
   ]
  },
  {
   "cell_type": "markdown",
   "metadata": {},
   "source": [
    "## Neural NER models"
   ]
  },
  {
   "cell_type": "markdown",
   "metadata": {},
   "source": [
    "### Local installation\n",
    "\n",
    "*In order to use the neural NER models, you need to install [estnltk_neural](https://github.com/estnltk/estnltk/tree/main/estnltk_neural) (v1.7.2+).*\n",
    "\n",
    "Before applying `EstBERTNERTagger`, you'll need to get the models. Models are not distributed with EstNLTK due to their large size, and need to be downloaded separately:\n",
    "\n",
    "* If you create a new instance of `EstBERTNERTagger` and the models are missing, you'll be prompted with a question asking for a permission to download the \"estbertner\" model;\n",
    "* Alternatively, you can pre-download models manually via `download` function:\n",
    "\n",
    "```python\n",
    "from estnltk import download\n",
    "download(\"estbertner\")\n",
    "download(\"estbertner_v2\")\n",
    "```"
   ]
  },
  {
   "cell_type": "markdown",
   "metadata": {},
   "source": [
    "### Model estbertner\n",
    "\n",
    "The model [estbertner_v1](https://huggingface.co/tartuNLP/EstBERT_NER) is the default model of `EstBERTNERTagger`. \n",
    "It tags named entities of `PER`, `LOC`, `ORG` categories:"
   ]
  },
  {
   "cell_type": "code",
   "execution_count": 12,
   "metadata": {
    "tags": [
     "nbval-skip"
    ]
   },
   "outputs": [
    {
     "data": {
      "text/html": [
       "<h4>MultiLayerTagger</h4>\n",
       "EstNLTK wrapper for the huggingface EstBERTNER models.\n",
       "<table border=\"1\" class=\"dataframe\">\n",
       "  <thead>\n",
       "    <tr style=\"text-align: right;\">\n",
       "      <th>name</th>\n",
       "      <th>output layers</th>\n",
       "      <th>output mapping</th>\n",
       "      <th>input layers</th>\n",
       "    </tr>\n",
       "  </thead>\n",
       "  <tbody>\n",
       "    <tr>\n",
       "      <td>EstBERTNERTagger</td>\n",
       "      <td>estbertner</td>\n",
       "      <td>{'estbertner': ['nertag']}</td>\n",
       "      <td>('words',)</td>\n",
       "    </tr>\n",
       "  </tbody>\n",
       "</table>\n",
       "<h4>Configuration</h4>\n",
       "<table border=\"1\" class=\"dataframe\">\n",
       "  <tbody>\n",
       "    <tr>\n",
       "      <th>model_location</th>\n",
       "      <td>C:\\Programmid\\Miniconda3\\envs\\py38_estnltk_neural\\lib\\site-packages\\estnltk-1.7. ..., type: &lt;class 'str'&gt;, length: 169</td>\n",
       "    </tr>\n",
       "    <tr>\n",
       "      <th>nlp</th>\n",
       "      <td>&lt;transformers.pipelines.token_classification.TokenClassificationPipeline object  ..., type: &lt;class 'transformers.pipelines.token_classification.TokenClassificationPipeline'&gt;</td>\n",
       "    </tr>\n",
       "    <tr>\n",
       "      <th>tokenizer</th>\n",
       "      <td>BertTokenizer(name_or_path='C:\\Programmid\\Miniconda3\\envs\\py38_estnltk_neural\\li ..., type: &lt;class 'transformers.models.bert.tokenization_bert.BertTokenizer'&gt;, length: 50004</td>\n",
       "    </tr>\n",
       "    <tr>\n",
       "      <th>custom_words_layer</th>\n",
       "      <td>words</td>\n",
       "    </tr>\n",
       "    <tr>\n",
       "      <th>batch_size</th>\n",
       "      <td>1750</td>\n",
       "    </tr>\n",
       "    <tr>\n",
       "      <th>postfix_expand_suffixes</th>\n",
       "      <td>False</td>\n",
       "    </tr>\n",
       "    <tr>\n",
       "      <th>postfix_concat_same_type_entities</th>\n",
       "      <td>False</td>\n",
       "    </tr>\n",
       "    <tr>\n",
       "      <th>postfix_remove_infix_matches</th>\n",
       "      <td>False</td>\n",
       "    </tr>\n",
       "  </tbody>\n",
       "</table>"
      ],
      "text/plain": [
       "EstBERTNERTagger(input_layers=('words',), output_layers=['estbertner'], output_layers_to_attributes={'estbertner': ['nertag']}, model_location=C:\\Programmid\\Miniconda3\\envs\\py38_estnltk_neural\\lib\\site-packages\\estnltk-1.7. ..., type: <class 'str'>, length: 169, nlp=<transformers.pipelines.token_classification.TokenClassificationPipeline object  ..., type: <class 'transformers.pipelines.token_classification.TokenClassificationPipeline'>, tokenizer=BertTokenizer(name_or_path='C:\\Programmid\\Miniconda3\\envs\\py38_estnltk_neural\\li ..., type: <class 'transformers.models.bert.tokenization_bert.BertTokenizer'>, length: 50004, custom_words_layer=words, batch_size=1750, postfix_expand_suffixes=False, postfix_concat_same_type_entities=False, postfix_remove_infix_matches=False)"
      ]
     },
     "execution_count": 12,
     "metadata": {},
     "output_type": "execute_result"
    }
   ],
   "source": [
    "from estnltk_neural.taggers import EstBERTNERTagger\n",
    "neural_ner = EstBERTNERTagger()\n",
    "neural_ner"
   ]
  },
  {
   "cell_type": "code",
   "execution_count": 13,
   "metadata": {
    "tags": [
     "nbval-skip"
    ]
   },
   "outputs": [
    {
     "data": {
      "text/html": [
       "<h4>Layer</h4>\n",
       "\n",
       "\n",
       "<table border=\"1\" class=\"dataframe\">\n",
       "  <thead>\n",
       "    <tr style=\"text-align: right;\">\n",
       "      <th>layer name</th>\n",
       "      <th>attributes</th>\n",
       "      <th>parent</th>\n",
       "      <th>enveloping</th>\n",
       "      <th>ambiguous</th>\n",
       "      <th>span count</th>\n",
       "    </tr>\n",
       "  </thead>\n",
       "  <tbody>\n",
       "    <tr>\n",
       "      <td>estbertner</td>\n",
       "      <td>nertag</td>\n",
       "      <td>None</td>\n",
       "      <td>words</td>\n",
       "      <td>False</td>\n",
       "      <td>4</td>\n",
       "    </tr>\n",
       "  </tbody>\n",
       "</table>\n",
       "<table border=\"1\" class=\"dataframe\">\n",
       "  <thead>\n",
       "    <tr style=\"text-align: right;\">\n",
       "      <th>text</th>\n",
       "      <th>nertag</th>\n",
       "    </tr>\n",
       "  </thead>\n",
       "  <tbody>\n",
       "    <tr>\n",
       "      <td>['Eesti']</td>\n",
       "      <td>LOC</td>\n",
       "    </tr>\n",
       "    <tr>\n",
       "      <td>['Alar', 'Karis']</td>\n",
       "      <td>PER</td>\n",
       "    </tr>\n",
       "    <tr>\n",
       "      <td>['Eesti', 'Energia']</td>\n",
       "      <td>ORG</td>\n",
       "    </tr>\n",
       "    <tr>\n",
       "      <td>['Eesti', 'riigile']</td>\n",
       "      <td>LOC</td>\n",
       "    </tr>\n",
       "  </tbody>\n",
       "</table>"
      ],
      "text/plain": [
       "Layer(name='estbertner', attributes=('nertag',), spans=SL[EnvelopingSpan(['Eesti'], [{'nertag': 'LOC'}]),\n",
       "EnvelopingSpan(['Alar', 'Karis'], [{'nertag': 'PER'}]),\n",
       "EnvelopingSpan(['Eesti', 'Energia'], [{'nertag': 'ORG'}]),\n",
       "EnvelopingSpan(['Eesti', 'riigile'], [{'nertag': 'LOC'}])])"
      ]
     },
     "execution_count": 13,
     "metadata": {},
     "output_type": "execute_result"
    }
   ],
   "source": [
    "from estnltk import Text\n",
    "\n",
    "text = Text('Eesti president on Alar Karis. Eesti Energia on Eesti riigile kuuluv energiaettevõte.')\n",
    "# NER requires words layer\n",
    "text.tag_layer('words')\n",
    "# Add NER layer\n",
    "neural_ner.tag(text)\n",
    "\n",
    "text.estbertner"
   ]
  },
  {
   "cell_type": "markdown",
   "metadata": {},
   "source": [
    "### Model estbertner_v2\n",
    "\n",
    "The model [estbertner_v2](https://huggingface.co/tartuNLP/EstBERT_NER_v2) tags named entities of `PER`, `LOC`, `ORG`, `GPE`, `MONEY`, `PERCENT`, `PROD`, `TITLE`, `DATE`, `TIME`, `EVENT` categories. \n",
    "In order to use this model, you first need to download it via EstNLTK's downloader, and then pass it's location to `EstBERTNERTagger` via parameter `model_location`:"
   ]
  },
  {
   "cell_type": "code",
   "execution_count": 14,
   "metadata": {
    "tags": [
     "nbval-skip"
    ]
   },
   "outputs": [
    {
     "name": "stdout",
     "output_type": "stream",
     "text": [
      "Resource 'estbertner_v2_from_tartunlp_hf_2022-12-12' has already been downloaded.\n"
     ]
    },
    {
     "data": {
      "text/plain": [
       "True"
      ]
     },
     "execution_count": 14,
     "metadata": {},
     "output_type": "execute_result"
    }
   ],
   "source": [
    "# Get the model\n",
    "from estnltk import download, get_resource_paths\n",
    "download(\"estbertner_v2\")"
   ]
  },
  {
   "cell_type": "code",
   "execution_count": 15,
   "metadata": {
    "tags": [
     "nbval-skip"
    ]
   },
   "outputs": [],
   "source": [
    "# Initialize tagger with the model\n",
    "model_location = get_resource_paths(\"estbertner_v2\", only_latest=True)\n",
    "neural_ner2 = EstBERTNERTagger(model_location=model_location, output_layer='estbertner2')"
   ]
  },
  {
   "cell_type": "code",
   "execution_count": 16,
   "metadata": {
    "tags": [
     "nbval-skip"
    ]
   },
   "outputs": [
    {
     "data": {
      "text/html": [
       "<h4>Layer</h4>\n",
       "\n",
       "\n",
       "<table border=\"1\" class=\"dataframe\">\n",
       "  <thead>\n",
       "    <tr style=\"text-align: right;\">\n",
       "      <th>layer name</th>\n",
       "      <th>attributes</th>\n",
       "      <th>parent</th>\n",
       "      <th>enveloping</th>\n",
       "      <th>ambiguous</th>\n",
       "      <th>span count</th>\n",
       "    </tr>\n",
       "  </thead>\n",
       "  <tbody>\n",
       "    <tr>\n",
       "      <td>estbertner2</td>\n",
       "      <td>nertag</td>\n",
       "      <td>None</td>\n",
       "      <td>words</td>\n",
       "      <td>False</td>\n",
       "      <td>8</td>\n",
       "    </tr>\n",
       "  </tbody>\n",
       "</table>\n",
       "<table border=\"1\" class=\"dataframe\">\n",
       "  <thead>\n",
       "    <tr style=\"text-align: right;\">\n",
       "      <th>text</th>\n",
       "      <th>nertag</th>\n",
       "    </tr>\n",
       "  </thead>\n",
       "  <tbody>\n",
       "    <tr>\n",
       "      <td>['Kaia', 'Kanepi']</td>\n",
       "      <td>PER</td>\n",
       "    </tr>\n",
       "    <tr>\n",
       "      <td>['WTA']</td>\n",
       "      <td>ORG</td>\n",
       "    </tr>\n",
       "    <tr>\n",
       "      <td>['USA-s']</td>\n",
       "      <td>GPE</td>\n",
       "    </tr>\n",
       "    <tr>\n",
       "      <td>['Charlestonis']</td>\n",
       "      <td>GPE</td>\n",
       "    </tr>\n",
       "    <tr>\n",
       "      <td>['WTA', '500', 'kategooria']</td>\n",
       "      <td>EVENT</td>\n",
       "    </tr>\n",
       "    <tr>\n",
       "      <td>['poolatarile']</td>\n",
       "      <td>TITLE</td>\n",
       "    </tr>\n",
       "    <tr>\n",
       "      <td>['Magda', \"Linette'ile\"]</td>\n",
       "      <td>PER</td>\n",
       "    </tr>\n",
       "    <tr>\n",
       "      <td>['WTA']</td>\n",
       "      <td>ORG</td>\n",
       "    </tr>\n",
       "  </tbody>\n",
       "</table>"
      ],
      "text/plain": [
       "Layer(name='estbertner2', attributes=('nertag',), spans=SL[EnvelopingSpan(['Kaia', 'Kanepi'], [{'nertag': 'PER'}]),\n",
       "EnvelopingSpan(['WTA'], [{'nertag': 'ORG'}]),\n",
       "EnvelopingSpan(['USA-s'], [{'nertag': 'GPE'}]),\n",
       "EnvelopingSpan(['Charlestonis'], [{'nertag': 'GPE'}]),\n",
       "EnvelopingSpan(['WTA', '500', 'kategooria'], [{'nertag': 'EVENT'}]),\n",
       "EnvelopingSpan(['poolatarile'], [{'nertag': 'TITLE'}]),\n",
       "EnvelopingSpan(['Magda', \"Linette'ile\"], [{'nertag': 'PER'}]),\n",
       "EnvelopingSpan(['WTA'], [{'nertag': 'ORG'}])])"
      ]
     },
     "execution_count": 16,
     "metadata": {},
     "output_type": "execute_result"
    }
   ],
   "source": [
    "from estnltk import Text\n",
    "\n",
    "text = Text(\"Kaia Kanepi (WTA 57.) langes USA-s Charlestonis toimuval WTA 500 kategooria tenniseturniiril konkurentsist \"+\\\n",
    "            \"kaheksandikfinaalis, kaotades poolatarile Magda Linette'ile (WTA 64.) 3 : 6, 6 : 4, 2 : 6.\")\n",
    "# NER requires words layer\n",
    "text.tag_layer('words')\n",
    "# Add NER layer\n",
    "neural_ner2.tag(text)\n",
    "\n",
    "text.estbertner2"
   ]
  }
 ],
 "metadata": {
  "kernelspec": {
   "display_name": "Python 3 (ipykernel)",
   "language": "python",
   "name": "python3"
  },
  "language_info": {
   "codemirror_mode": {
    "name": "ipython",
    "version": 3
   },
   "file_extension": ".py",
   "mimetype": "text/x-python",
   "name": "python",
   "nbconvert_exporter": "python",
   "pygments_lexer": "ipython3",
   "version": "3.8.16"
  }
 },
 "nbformat": 4,
 "nbformat_minor": 2
}
