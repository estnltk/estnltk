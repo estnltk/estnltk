{
 "cells": [
  {
   "cell_type": "markdown",
   "metadata": {},
   "source": [
    "## BertAugmentor"
   ]
  },
  {
   "cell_type": "markdown",
   "metadata": {},
   "source": [
    "BERT (Bidirectional Encoder Representation from Transformers) is a method of pre-training language representations.\n",
    "\n",
    "BERT is pre-trained on two tasks:  <br>\n",
    "1. Masked Language Modeling (MLM)  \n",
    "2. Next-Sentence Prediction (NSP)\n",
    "    \n",
    "We can use BERT models ability to fill in the masked word using the context to create new augmented sentences. <br>\n",
    "For example, in this next sentence, we replaced word `book` with [MASK] token: <br>\n",
    "\"She borrowed the [MASK] from him many years ago and hasn't yet returned it.\" <br>\n",
    "BERT (in this example it is [bert-base-cased](https://huggingface.co/bert-base-cased?text=She+borrowed+the+%5BMASK%5D+from+him+many+years+ago+and+hasn%27t+yet+returned+it.)) will output new words in place of [MASK] token: <br>\n",
    "`necklace`<br>\n",
    "`ring` <br>\n",
    "`painting` <br>\n",
    "`key` <br>\n",
    "`book`<br>"
   ]
  },
  {
   "cell_type": "markdown",
   "metadata": {},
   "source": [
    "*Note: you need to install [estnltk_neural](https://github.com/estnltk/estnltk/tree/main/estnltk_neural) package for using this component.*"
   ]
  },
  {
   "cell_type": "markdown",
   "metadata": {},
   "source": [
    "For augmenting sentences, we can use `BertAugmentor`."
   ]
  },
  {
   "cell_type": "code",
   "execution_count": 1,
   "metadata": {},
   "outputs": [],
   "source": [
    "from estnltk import Text\n",
    "from estnltk_neural.tools.bert.augmentation.bert_sentence_augmentor import BertAugmentor"
   ]
  },
  {
   "cell_type": "markdown",
   "metadata": {},
   "source": [
    "By default BertAugmentor uses pre-trained [EstBERT](https://huggingface.co/tartuNLP/EstBERT_512) model for the augmentations. If you want to use any other model, then specify `model_name`, when you initialize the augmentor. It can either be a location of directory where the model is, or name of the model that is availbale in the Hugging Face [transformers](https://huggingface.co/models) library. "
   ]
  },
  {
   "cell_type": "code",
   "execution_count": 2,
   "metadata": {},
   "outputs": [],
   "source": [
    "augmentor = BertAugmentor()\n",
    "\n",
    "# example with different model name and sentences layer\n",
    "# augmentor = BertAugmentor(model_name='bert-base-multilingual-cased', sentences='sents')"
   ]
  },
  {
   "cell_type": "markdown",
   "metadata": {},
   "source": [
    "To augment sentence, we need to first perform segmentation. Sentences layer can be changed by specifying the name of the sentences layer with `sentences_layer`. By default it is `sentences`. "
   ]
  },
  {
   "cell_type": "code",
   "execution_count": 3,
   "metadata": {},
   "outputs": [
    {
     "data": {
      "text/html": [
       "<table border=\"1\" class=\"dataframe\">\n",
       "  <thead>\n",
       "    <tr style=\"text-align: right;\">\n",
       "      <th>text</th>\n",
       "    </tr>\n",
       "  </thead>\n",
       "  <tbody>\n",
       "    <tr>\n",
       "      <td><div align = \"left\">Aas näeb selle taga üldist moraaliküsimust.</div></td>\n",
       "    </tr>\n",
       "  </tbody>\n",
       "</table>\n",
       "<table border=\"1\" class=\"dataframe\">\n",
       "  <thead>\n",
       "    <tr style=\"text-align: right;\">\n",
       "      <th>layer name</th>\n",
       "      <th>attributes</th>\n",
       "      <th>parent</th>\n",
       "      <th>enveloping</th>\n",
       "      <th>ambiguous</th>\n",
       "      <th>span count</th>\n",
       "    </tr>\n",
       "  </thead>\n",
       "  <tbody>\n",
       "    <tr>\n",
       "      <td>paragraphs</td>\n",
       "      <td></td>\n",
       "      <td>None</td>\n",
       "      <td>sentences</td>\n",
       "      <td>False</td>\n",
       "      <td>1</td>\n",
       "    </tr>\n",
       "    <tr>\n",
       "      <td>sentences</td>\n",
       "      <td></td>\n",
       "      <td>None</td>\n",
       "      <td>words</td>\n",
       "      <td>False</td>\n",
       "      <td>1</td>\n",
       "    </tr>\n",
       "    <tr>\n",
       "      <td>words</td>\n",
       "      <td>normalized_form</td>\n",
       "      <td>None</td>\n",
       "      <td>None</td>\n",
       "      <td>True</td>\n",
       "      <td>7</td>\n",
       "    </tr>\n",
       "  </tbody>\n",
       "</table>"
      ],
      "text/plain": [
       "Text(text='Aas näeb selle taga üldist moraaliküsimust.')"
      ]
     },
     "execution_count": 3,
     "metadata": {},
     "output_type": "execute_result"
    }
   ],
   "source": [
    "text = Text(\"Aas näeb selle taga üldist moraaliküsimust.\")\n",
    "text.tag_layer('paragraphs')"
   ]
  },
  {
   "cell_type": "markdown",
   "metadata": {},
   "source": [
    "We have two ways of augmenting the sentence. \n",
    "1. We can have many masks in one sentence and the augmentor will output new words to all of the masked tokens at once. \n",
    "2. We have one mask in one sentence and the augmentor will output new word in one place at a time. \n",
    "\n",
    "We have to use BertAugmentor class method `augment` to do the augmentations. Let's go over both possibilities. \n",
    "\n",
    "### 1. Many masks in a sentence\n",
    "\n",
    "First, we have to specify the mask variable, which is a list containing ones and zeros. One means that the word that is located in this index, should be augmented and zero means that the word located in this index should be left unchanged.  In this example, we want to change words `Aas`, `üldist` and `näeb`. All of those words will be replaced by the BertAugmentor. `how_many` specifies how many of such augmented sentences is outputted. `method` specifies the method of filling in the masks. In this case we need to use `method=many`. "
   ]
  },
  {
   "cell_type": "code",
   "execution_count": 4,
   "metadata": {},
   "outputs": [
    {
     "name": "stdout",
     "output_type": "stream",
     "text": [
      "[1, 1, 0, 0, 1, 0, 0]\n"
     ]
    },
    {
     "data": {
      "text/plain": [
       "['sageli on selle taga olevat moraaliküsimust .',\n",
       " 'küllap võib selle taga ka moraaliküsimust .',\n",
       " 'enamasti näeb selle taga olnud moraaliküsimust .',\n",
       " 'ilmselt pole selle taga otsida moraaliküsimust .']"
      ]
     },
     "execution_count": 4,
     "metadata": {},
     "output_type": "execute_result"
    }
   ],
   "source": [
    "mask = [1 if word.text in {'Aas','üldist', 'näeb'} else 0 for word in text.words]\n",
    "print(mask)\n",
    "augmentations = augmentor.augment(text, mask=mask, how_many=4, method='many')\n",
    "augmentations"
   ]
  },
  {
   "cell_type": "markdown",
   "metadata": {},
   "source": [
    "The output of the BertAugmentor method `augment` is a list containing augmented sentences. In the example, we wanted to replace the words `Aas`, `üldist` and `näeb`.  There will be `how_many` amount of sentences in the list, in our case, there is four sentences.  In the first outputted sentence, the word `Aas` is replaced with `sageli`, word `üldist` is replaced with `olevat` and word `näeb` with `on`. Other outputted sentences have been augmented the same way but using different words. "
   ]
  },
  {
   "cell_type": "markdown",
   "metadata": {},
   "source": [
    "### 2. One mask in a sentence\n",
    "\n",
    "In this case, we also need to specify the `mask` list. This time, one in the mask list means that the word that is located in the same location as the one should be replaced. There will be `how_many` sentences modified like that. "
   ]
  },
  {
   "cell_type": "code",
   "execution_count": 5,
   "metadata": {},
   "outputs": [
    {
     "name": "stdout",
     "output_type": "stream",
     "text": [
      "[1, 1, 0, 0, 1, 0, 0]\n"
     ]
    },
    {
     "data": {
      "text/plain": [
       "[['küllap näeb selle taga üldist moraaliküsimust .',\n",
       "  'ta näeb selle taga üldist moraaliküsimust .',\n",
       "  'eks näeb selle taga üldist moraaliküsimust .',\n",
       "  'ometi näeb selle taga üldist moraaliküsimust .'],\n",
       " ['Aas näeb selle taga üldist moraaliküsimust .',\n",
       "  'Aas nägi selle taga üldist moraaliküsimust .',\n",
       "  'Aas otsib selle taga üldist moraaliküsimust .',\n",
       "  'Aas tunneb selle taga üldist moraaliküsimust .'],\n",
       " ['Aas näeb selle taga oma moraaliküsimust .',\n",
       "  'Aas näeb selle taga olevat moraaliküsimust .',\n",
       "  'Aas näeb selle taga seisvat moraaliküsimust .',\n",
       "  'Aas näeb selle taga ka moraaliküsimust .']]"
      ]
     },
     "execution_count": 5,
     "metadata": {},
     "output_type": "execute_result"
    }
   ],
   "source": [
    "mask = [1 if word.text in {'Aas','üldist', 'näeb'} else 0 for word in text.words]\n",
    "print(mask)\n",
    "augmentations = augmentor.augment(text, mask=mask, how_many=4, method='one')\n",
    "augmentations"
   ]
  },
  {
   "cell_type": "markdown",
   "metadata": {},
   "source": [
    "As we can see, the output is a list of lists. The amount of sublists is equal to amount of ones in the mask list. Each sublist will contain `how_many` amount of sentences, where one word is augmented. First, we changed word `Aas` and wanted 4 sentences. This word was replaced with: `küllap`,`ta`, `eks`, `ometi`. Second, we changed the word `näeb`, this word was replaced with: `näeb`, `nägi`, `otsib`, `tunneb`. Third, we wanted to augment the word `üldist` as well. BertAugmentor replaced it with words: `oma`, `olevat`, `seisvat`, `ka`. "
   ]
  },
  {
   "cell_type": "markdown",
   "metadata": {},
   "source": [
    "## Specifying how many augmentations will be outputted\n",
    "\n",
    "As the BERT uses its vocabulary for the predictions, which contains subwords, characters, full words, numbers, etc. This means that BERT can predict subwords and not full words inside the blanks. BertAugmentor will filter some of those subwords out. \n",
    "\n",
    "For example, when we have a sentence: \n",
    "\n",
    "`Aas siiski leidis , et defineerimine on formaalsus .`\n",
    "\n",
    "BertTokenizer will tokenize this sentence like this: \n",
    "\n",
    "`['aas', 'siiski', 'leidis', ',', 'et', 'defineeri', '##mine', 'on', 'formaal', '##sus', '.']`\n",
    "\n",
    "As we can see, words `defineerimine` and `formaalsus` have been split into `defineeri + mine` and `formaal + sus`. When BERT outputs words that start with `##` BertAugmentor filters such words out. BertAugmentor cannot filter out other subwords that are not full words, for example `formaal`."
   ]
  }
 ],
 "metadata": {
  "kernelspec": {
   "display_name": "Python 3 (ipykernel)",
   "language": "python",
   "name": "python3"
  },
  "language_info": {
   "codemirror_mode": {
    "name": "ipython",
    "version": 3
   },
   "file_extension": ".py",
   "mimetype": "text/x-python",
   "name": "python",
   "nbconvert_exporter": "python",
   "pygments_lexer": "ipython3",
   "version": "3.9.12"
  },
  "pycharm": {
   "stem_cell": {
    "cell_type": "raw",
    "metadata": {
     "collapsed": false
    },
    "source": []
   }
  }
 },
 "nbformat": 4,
 "nbformat_minor": 4
}
