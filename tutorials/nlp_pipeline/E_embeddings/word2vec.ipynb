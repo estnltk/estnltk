{
 "cells": [
  {
   "cell_type": "markdown",
   "id": "1fb0300c",
   "metadata": {},
   "source": [
    "## Word2vec models\n",
    "\n",
    "EstNLTK's resources include Word2vec models, which are described here: https://github.com/estnltk/word2vec-models\n",
    "\n",
    "Use `ResourceView` to get an overview about models available for downloading:"
   ]
  },
  {
   "cell_type": "code",
   "execution_count": 1,
   "id": "bf184a78",
   "metadata": {},
   "outputs": [
    {
     "data": {
      "text/html": [
       "<h4>ResourceView</h4>\n",
       "<table border=\"1\" class=\"dataframe\">\n",
       "  <thead>\n",
       "    <tr style=\"text-align: right;\">\n",
       "      <th>name</th>\n",
       "      <th>description</th>\n",
       "      <th>license</th>\n",
       "      <th>downloaded</th>\n",
       "    </tr>\n",
       "  </thead>\n",
       "  <tbody>\n",
       "    <tr>\n",
       "      <td>word2vec_lemmas_cbow_s100_2015-06-21</td>\n",
       "      <td>word2vec lemma-based embeddings model created by Alexander Tkachenko. More info: https://github.com/estnltk/word2vec-models  (size: 174M)</td>\n",
       "      <td>CC BY-SA 4.0</td>\n",
       "      <td>False</td>\n",
       "    </tr>\n",
       "    <tr>\n",
       "      <td>word2vec_lemmas_cbow_s200_2015-06-21</td>\n",
       "      <td>word2vec lemma-based embeddings model created by Alexander Tkachenko. More info: https://github.com/estnltk/word2vec-models  (size: 342M)</td>\n",
       "      <td>CC BY-SA 4.0</td>\n",
       "      <td>False</td>\n",
       "    </tr>\n",
       "    <tr>\n",
       "      <td>word2vec_lemmas_sg_s100_2015-06-21</td>\n",
       "      <td>word2vec lemma-based embeddings model created by Alexander Tkachenko. More info: https://github.com/estnltk/word2vec-models  (size: 174M)</td>\n",
       "      <td>CC BY-SA 4.0</td>\n",
       "      <td>True</td>\n",
       "    </tr>\n",
       "    <tr>\n",
       "      <td>word2vec_lemmas_sg_s200_2015-06-21</td>\n",
       "      <td>word2vec lemma-based embeddings model created by Alexander Tkachenko. More info: https://github.com/estnltk/word2vec-models  (size: 342M)</td>\n",
       "      <td>CC BY-SA 4.0</td>\n",
       "      <td>True</td>\n",
       "    </tr>\n",
       "    <tr>\n",
       "      <td>word2vec_words_cbow_s100_2015-06-21</td>\n",
       "      <td>word2vec word-based embeddings model created by Alexander Tkachenko. More info: https://github.com/estnltk/word2vec-models  (size: 322M)</td>\n",
       "      <td>CC BY-SA 4.0</td>\n",
       "      <td>False</td>\n",
       "    </tr>\n",
       "    <tr>\n",
       "      <td>word2vec_words_cbow_s200_2015-06-21</td>\n",
       "      <td>word2vec word-based embeddings model created by Alexander Tkachenko. More info: https://github.com/estnltk/word2vec-models  (size: 633M)</td>\n",
       "      <td>CC BY-SA 4.0</td>\n",
       "      <td>False</td>\n",
       "    </tr>\n",
       "    <tr>\n",
       "      <td>word2vec_words_sg_s100_2015-06-21</td>\n",
       "      <td>word2vec word-based embeddings model created by Alexander Tkachenko. More info: https://github.com/estnltk/word2vec-models  (size: 322M)</td>\n",
       "      <td>CC BY-SA 4.0</td>\n",
       "      <td>True</td>\n",
       "    </tr>\n",
       "    <tr>\n",
       "      <td>word2vec_words_sg_s200_2015-06-21</td>\n",
       "      <td>word2vec word-based embeddings model created by Alexander Tkachenko. More info: https://github.com/estnltk/word2vec-models  (size: 633M)</td>\n",
       "      <td>CC BY-SA 4.0</td>\n",
       "      <td>True</td>\n",
       "    </tr>\n",
       "  </tbody>\n",
       "</table>"
      ],
      "text/plain": [
       "ResourceView\n",
       "name                  description                            license                    downloaded  \n",
       "====                  ===========                            =======                    ==========  \n",
       "\n",
       "word2vec_lemmas_cbow  word2vec lemma-based embeddings model  CC BY-SA 4.0               False       \n",
       "_s100_2015-06-21      created by Alexander Tkachenko. More                                          \n",
       "                      info:                                                                         \n",
       "                      https://github.com/estnltk/word2vec-                                          \n",
       "                      models  (size: 174M)                                                          \n",
       "\n",
       "word2vec_lemmas_cbow  word2vec lemma-based embeddings model  CC BY-SA 4.0               False       \n",
       "_s200_2015-06-21      created by Alexander Tkachenko. More                                          \n",
       "                      info:                                                                         \n",
       "                      https://github.com/estnltk/word2vec-                                          \n",
       "                      models  (size: 342M)                                                          \n",
       "\n",
       "word2vec_lemmas_sg_s  word2vec lemma-based embeddings model  CC BY-SA 4.0               True        \n",
       "100_2015-06-21        created by Alexander Tkachenko. More                                          \n",
       "                      info:                                                                         \n",
       "                      https://github.com/estnltk/word2vec-                                          \n",
       "                      models  (size: 174M)                                                          \n",
       "\n",
       "word2vec_lemmas_sg_s  word2vec lemma-based embeddings model  CC BY-SA 4.0               True        \n",
       "200_2015-06-21        created by Alexander Tkachenko. More                                          \n",
       "                      info:                                                                         \n",
       "                      https://github.com/estnltk/word2vec-                                          \n",
       "                      models  (size: 342M)                                                          \n",
       "\n",
       "word2vec_words_cbow_  word2vec word-based embeddings model   CC BY-SA 4.0               False       \n",
       "s100_2015-06-21       created by Alexander Tkachenko. More                                          \n",
       "                      info:                                                                         \n",
       "                      https://github.com/estnltk/word2vec-                                          \n",
       "                      models  (size: 322M)                                                          \n",
       "\n",
       "word2vec_words_cbow_  word2vec word-based embeddings model   CC BY-SA 4.0               False       \n",
       "s200_2015-06-21       created by Alexander Tkachenko. More                                          \n",
       "                      info:                                                                         \n",
       "                      https://github.com/estnltk/word2vec-                                          \n",
       "                      models  (size: 633M)                                                          \n",
       "\n",
       "word2vec_words_sg_s1  word2vec word-based embeddings model   CC BY-SA 4.0               True        \n",
       "00_2015-06-21         created by Alexander Tkachenko. More                                          \n",
       "                      info:                                                                         \n",
       "                      https://github.com/estnltk/word2vec-                                          \n",
       "                      models  (size: 322M)                                                          \n",
       "\n",
       "word2vec_words_sg_s2  word2vec word-based embeddings model   CC BY-SA 4.0               True        \n",
       "00_2015-06-21         created by Alexander Tkachenko. More                                          \n",
       "                      info:                                                                         \n",
       "                      https://github.com/estnltk/word2vec-                                          \n",
       "                      models  (size: 633M)                                                          \n"
      ]
     },
     "execution_count": 1,
     "metadata": {},
     "output_type": "execute_result"
    }
   ],
   "source": [
    "from estnltk.resource_utils import ResourceView\n",
    "\n",
    "ResourceView(name='word2vec')"
   ]
  },
  {
   "cell_type": "markdown",
   "id": "adf9e96b",
   "metadata": {},
   "source": [
    "### Downloading models"
   ]
  },
  {
   "cell_type": "code",
   "execution_count": 1,
   "id": "3c512aa8",
   "metadata": {},
   "outputs": [
    {
     "name": "stderr",
     "output_type": "stream",
     "text": [
      "Downloading word2vec_lemmas_cbow_s200_2015-06-21: 333MB [00:03, 95.6MB/s] \n"
     ]
    },
    {
     "data": {
      "text/plain": [
       "True"
      ]
     },
     "execution_count": 1,
     "metadata": {},
     "output_type": "execute_result"
    }
   ],
   "source": [
    "# Download a specific word2vec model\n",
    "from estnltk import download\n",
    "download(\"word2vec_lemmas_cbow_s200_2015-06-21\")"
   ]
  },
  {
   "cell_type": "markdown",
   "id": "fbee6854",
   "metadata": {},
   "source": [
    "For downloading all Word2vec models, use:\n",
    "\n",
    "```python\n",
    "download(\"word2vec\", only_latest=False)\n",
    "```\n",
    "\n",
    "Use function `get_resource_paths` to get the path to the downloaded model:"
   ]
  },
  {
   "cell_type": "code",
   "execution_count": 2,
   "id": "5110612e",
   "metadata": {},
   "outputs": [
    {
     "data": {
      "text/plain": [
       "'C:\\\\Programmid\\\\Miniconda3\\\\envs\\\\py39_devel\\\\lib\\\\site-packages\\\\estnltk-1.7.0-py3.9-win-amd64.egg\\\\estnltk\\\\estnltk_resources\\\\word2vec\\\\embeddings_2015-06-21\\\\lemmas.cbow.s200.w2v.bin'"
      ]
     },
     "execution_count": 2,
     "metadata": {},
     "output_type": "execute_result"
    }
   ],
   "source": [
    "from estnltk import get_resource_paths\n",
    "get_resource_paths(\"word2vec_lemmas_cbow_s200_2015-06-21\", only_latest=True)"
   ]
  },
  {
   "cell_type": "markdown",
   "id": "e32c457a",
   "metadata": {},
   "source": [
    "For getting paths to all Word2vec models (a list of paths), use:\n",
    "\n",
    "```python\n",
    "get_resource_paths(\"word2vec\", only_latest=False)\n",
    "```"
   ]
  },
  {
   "cell_type": "markdown",
   "id": "8b70212d",
   "metadata": {},
   "source": [
    "### Using models\n",
    "\n",
    "You can use models via [gensim package](https://radimrehurek.com/gensim/) (which needs to be [installed](https://radimrehurek.com/gensim/index.html#install) separately):"
   ]
  },
  {
   "cell_type": "code",
   "execution_count": 3,
   "id": "cbe2c816",
   "metadata": {},
   "outputs": [
    {
     "name": "stdout",
     "output_type": "stream",
     "text": [
      "INFO:keyedvectors.py:2051: loading projection weights from C:\\Programmid\\Miniconda3\\envs\\py39_devel\\lib\\site-packages\\estnltk-1.7.0-py3.9-win-amd64.egg\\estnltk\\estnltk_resources\\word2vec\\embeddings_2015-06-21\\lemmas.cbow.s200.w2v.bin\n",
      "INFO:utils.py:448: KeyedVectors lifecycle event {'msg': 'loaded (441391, 200) matrix of type float32 from C:\\\\Programmid\\\\Miniconda3\\\\envs\\\\py39_devel\\\\lib\\\\site-packages\\\\estnltk-1.7.0-py3.9-win-amd64.egg\\\\estnltk\\\\estnltk_resources\\\\word2vec\\\\embeddings_2015-06-21\\\\lemmas.cbow.s200.w2v.bin', 'binary': True, 'encoding': 'utf8', 'datetime': '2022-06-30T17:49:15.524810', 'gensim': '4.2.0', 'python': '3.9.12 (main, Apr  4 2022, 05:22:27) [MSC v.1916 64 bit (AMD64)]', 'platform': 'Windows-10-10.0.19043-SP0', 'event': 'load_word2vec_format'}\n"
     ]
    }
   ],
   "source": [
    "from gensim.models import KeyedVectors\n",
    "\n",
    "model_path = get_resource_paths(\"word2vec_lemmas_cbow_s200_2015-06-21\", only_latest=True)\n",
    "model = KeyedVectors.load_word2vec_format(model_path, binary=True)"
   ]
  },
  {
   "cell_type": "code",
   "execution_count": 4,
   "id": "e51c5bb4",
   "metadata": {},
   "outputs": [
    {
     "data": {
      "text/plain": [
       "[('lääne-virumaa', 0.7403180003166199),\n",
       " ('järvamaa', 0.7391915321350098),\n",
       " ('tartumaa', 0.7278605699539185),\n",
       " ('pärnumaa', 0.7234846353530884),\n",
       " ('viljandimaa', 0.7169548869132996),\n",
       " ('ida-virumaa', 0.7112703919410706),\n",
       " ('raplamaa', 0.6816533803939819),\n",
       " ('läänemaa', 0.6799672842025757),\n",
       " ('jõgevamaa', 0.6791231632232666),\n",
       " ('põlvamaa', 0.6766212582588196)]"
      ]
     },
     "execution_count": 4,
     "metadata": {},
     "output_type": "execute_result"
    }
   ],
   "source": [
    "model.most_similar('harjumaa')"
   ]
  }
 ],
 "metadata": {
  "kernelspec": {
   "display_name": "Python 3 (ipykernel)",
   "language": "python",
   "name": "python3"
  },
  "language_info": {
   "codemirror_mode": {
    "name": "ipython",
    "version": 3
   },
   "file_extension": ".py",
   "mimetype": "text/x-python",
   "name": "python",
   "nbconvert_exporter": "python",
   "pygments_lexer": "ipython3",
   "version": "3.9.12"
  }
 },
 "nbformat": 4,
 "nbformat_minor": 5
}
