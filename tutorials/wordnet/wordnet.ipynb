{
 "cells": [
  {
   "cell_type": "markdown",
   "metadata": {},
   "source": [
    "# Wordnet"
   ]
  },
  {
   "cell_type": "markdown",
   "metadata": {},
   "source": [
    "Estonian WordNet API provides means to query Estonian WordNet. WordNet is a network of synsets, in which synsets are collections of synonymous words and are connected to other synsets via relations."
   ]
  },
  {
   "cell_type": "markdown",
   "metadata": {},
   "source": [
    "For using Estonian WordNet, you need to get Wordnet database files. There are two possibilities:\n",
    "\n",
    "* If you create a new instance of `Wordnet` and database files are missing, you'll be prompted with a question asking for permission to download the files;\n",
    "* Alternatively, you can pre-download database files as manually via `download` function:\n",
    "\n",
    "```python\n",
    "from estnltk import download\n",
    "download('wordnet')\n",
    "```"
   ]
  },
  {
   "cell_type": "markdown",
   "metadata": {},
   "source": [
    "First, let's import the module and create a WordNet object:"
   ]
  },
  {
   "cell_type": "code",
   "execution_count": 1,
   "metadata": {},
   "outputs": [],
   "source": [
    "from estnltk.wordnet import Wordnet"
   ]
  },
  {
   "cell_type": "code",
   "execution_count": 2,
   "metadata": {},
   "outputs": [],
   "source": [
    "wn = Wordnet()"
   ]
  },
  {
   "cell_type": "markdown",
   "metadata": {},
   "source": [
    "## Synsets"
   ]
  },
  {
   "cell_type": "markdown",
   "metadata": {},
   "source": [
    "The most common use for the API is to query synsets. Synsets can be queried in several ways. "
   ]
  },
  {
   "cell_type": "markdown",
   "metadata": {},
   "source": [
    "The Wordnet class is iterable, so to get all synset objects, we can iterate over it."
   ]
  },
  {
   "cell_type": "code",
   "execution_count": 3,
   "metadata": {},
   "outputs": [
    {
     "name": "stdout",
     "output_type": "stream",
     "text": [
      "Synset('korda seadma.v.03')\n",
      "Synset('korraldamine.n.03')\n",
      "Synset('küsima.v.02')\n",
      "Synset('küsimine.n.02')\n",
      "Synset('kallutama.v.01')\n",
      "Synset('laskma.v.04')\n",
      "Synset('laskmine.n.03')\n",
      "Synset('nõus olema.v.01')\n",
      "Synset('informeerima.v.01')\n",
      "Synset('informeerimine.n.02')\n",
      "Synset('seletama.v.02')\n",
      "Synset('seletamine.n.02')\n",
      "Synset('väljendama.v.03')\n",
      "Synset('väljendamine.n.04')\n",
      "Synset('kõnelema.v.03')\n",
      "Synset('avaldama.v.04')\n",
      "Synset('avaldamine.n.02')\n",
      "Synset('mõtlema.v.02')\n",
      "Synset('hoolduspere.n.01')\n",
      "Synset('häälitsema.v.01')\n",
      "Synset('valimistulemus.n.01')\n",
      "Synset('kirjutama.v.02')\n",
      "Synset('kirjutamine.n.02')\n",
      "Synset('fikseerima.v.02')\n",
      "Synset('registreerimine.n.02')\n"
     ]
    }
   ],
   "source": [
    "for i, synset in enumerate(wn):\n",
    "    if i == 25:\n",
    "        break\n",
    "    print(synset)"
   ]
  },
  {
   "cell_type": "markdown",
   "metadata": {},
   "source": [
    "We can specify pos to get all synsets with words of specific type:"
   ]
  },
  {
   "cell_type": "code",
   "execution_count": 4,
   "metadata": {},
   "outputs": [
    {
     "name": "stdout",
     "output_type": "stream",
     "text": [
      "Synset('aadeldama.v.01')\n",
      "Synset('aaderdama.v.01')\n",
      "Synset('aasama.v.01')\n",
      "Synset('aasima.v.01')\n",
      "Synset('aasima.v.02')\n",
      "Synset('aatlema.v.01')\n",
      "Synset('abandoonima.v.01')\n",
      "Synset('abhorreerima.v.01')\n",
      "Synset('abielluma.v.01')\n",
      "Synset('abielu sõlmima.v.01')\n",
      "Synset('abiks olema.v.01')\n",
      "Synset('abistama.v.01')\n",
      "Synset('ablakteerima.v.01')\n",
      "Synset('ablakteerima.v.02')\n",
      "Synset('ablastuma.v.01')\n",
      "Synset('aboneerima.v.01')\n",
      "Synset('abordeerima.v.01')\n",
      "Synset('aborteerima.v.01')\n",
      "Synset('aborteeruma.v.01')\n",
      "Synset('abortima.v.02')\n",
      "Synset('abortima.v.03')\n",
      "Synset('absolutiseerima.v.01')\n",
      "Synset('absolveerima.v.01')\n",
      "Synset('absorbeerima.v.01')\n",
      "Synset('absorbeeruma.v.01')\n"
     ]
    }
   ],
   "source": [
    "verbs = wn.synsets_with_pos('v')\n",
    "for i, synset in enumerate(verbs):\n",
    "    if i == 25:\n",
    "        break\n",
    "    print(synset)"
   ]
  },
  {
   "cell_type": "markdown",
   "metadata": {},
   "source": [
    "This returns all the synsets of which part of speech is “verb”. We can also query synsets by providing a lemma:"
   ]
  },
  {
   "cell_type": "code",
   "execution_count": 5,
   "metadata": {},
   "outputs": [
    {
     "data": {
      "text/plain": [
       "[\"Synset('laulma.v.01')\", \"Synset('laulma.v.02')\"]"
      ]
     },
     "execution_count": 5,
     "metadata": {},
     "output_type": "execute_result"
    }
   ],
   "source": [
    "wn['laulma']"
   ]
  },
  {
   "cell_type": "markdown",
   "metadata": {},
   "source": [
    "or provide both a lemma and pos:"
   ]
  },
  {
   "cell_type": "code",
   "execution_count": 6,
   "metadata": {},
   "outputs": [
    {
     "data": {
      "text/plain": [
       "[\"Synset('laulma.v.01')\", \"Synset('laulma.v.02')\"]"
      ]
     },
     "execution_count": 6,
     "metadata": {},
     "output_type": "execute_result"
    }
   ],
   "source": [
    "wn['laulma', 'v']"
   ]
  },
  {
   "cell_type": "code",
   "execution_count": 7,
   "metadata": {},
   "outputs": [
    {
     "data": {
      "text/plain": [
       "[\"Synset('laulma.v.01')\", \"Synset('laulma.v.02')\"]"
      ]
     },
     "execution_count": 7,
     "metadata": {},
     "output_type": "execute_result"
    }
   ],
   "source": [
    "wn[('laulma', 'v')]"
   ]
  },
  {
   "cell_type": "markdown",
   "metadata": {},
   "source": [
    "The previous options return a list of synsets. However, it is also possible to query for a synset by its position in the list. For example, if you only want the second synset with the lemma 'laulma', you can specify it like this (this option will return a synset object):"
   ]
  },
  {
   "cell_type": "code",
   "execution_count": 8,
   "metadata": {},
   "outputs": [
    {
     "data": {
      "text/plain": [
       "\"Synset('laulma.v.02')\""
      ]
     },
     "execution_count": 8,
     "metadata": {},
     "output_type": "execute_result"
    }
   ],
   "source": [
    "wn['laulma', 2]"
   ]
  },
  {
   "cell_type": "markdown",
   "metadata": {},
   "source": [
    "It's also possible to retrieve a synset's details, like name and pos:"
   ]
  },
  {
   "cell_type": "code",
   "execution_count": 9,
   "metadata": {},
   "outputs": [
    {
     "name": "stdout",
     "output_type": "stream",
     "text": [
      "laulma.v.01\n",
      "v\n"
     ]
    }
   ],
   "source": [
    "synset = wn['laulma'][0]\n",
    "print(synset.name)\n",
    "print(synset.pos)"
   ]
  },
  {
   "cell_type": "markdown",
   "metadata": {},
   "source": [
    "We can also query the definition and examples:"
   ]
  },
  {
   "cell_type": "code",
   "execution_count": 10,
   "metadata": {},
   "outputs": [
    {
     "data": {
      "text/plain": [
       "'hääleelundite abil teat. rütmi ja kõrgusega helide jada kuuldavale tooma (EKSS)'"
      ]
     },
     "execution_count": 10,
     "metadata": {},
     "output_type": "execute_result"
    }
   ],
   "source": [
    "synset.definition"
   ]
  },
  {
   "cell_type": "code",
   "execution_count": 11,
   "metadata": {},
   "outputs": [
    {
     "data": {
      "text/plain": [
       "['Vaikselt, tasa, kõvasti, ilusasti, kõlavalt, kähinal, heleda häälega laulma (EKSS).']"
      ]
     },
     "execution_count": 11,
     "metadata": {},
     "output_type": "execute_result"
    }
   ],
   "source": [
    "synset.examples"
   ]
  },
  {
   "cell_type": "markdown",
   "metadata": {},
   "source": [
    "And we can get all lemmas of the synset:"
   ]
  },
  {
   "cell_type": "code",
   "execution_count": 12,
   "metadata": {},
   "outputs": [
    {
     "name": "stdout",
     "output_type": "stream",
     "text": [
      "Synset('laulja.n.01')\n",
      "['laulja', 'vokalist']\n"
     ]
    }
   ],
   "source": [
    "print( wn['laulja'][0] )\n",
    "print( wn['laulja'][0].lemmas )"
   ]
  },
  {
   "cell_type": "markdown",
   "metadata": {},
   "source": [
    "Finally, you can also retrieve a Synset object by its name:"
   ]
  },
  {
   "cell_type": "code",
   "execution_count": 13,
   "metadata": {},
   "outputs": [
    {
     "data": {
      "text/plain": [
       "\"Synset('laulja.n.01')\""
      ]
     },
     "execution_count": 13,
     "metadata": {},
     "output_type": "execute_result"
    }
   ],
   "source": [
    "wn.get_synset_by_name('laulja.n.01')"
   ]
  },
  {
   "cell_type": "markdown",
   "metadata": {},
   "source": [
    "Note: if you need to retrieve a large number of Synset objects by their names, then iterating over the Wordnet class and simply picking synsets by their names may be more efficient than using get_synset_by_name."
   ]
  },
  {
   "cell_type": "markdown",
   "metadata": {},
   "source": [
    "## Relations"
   ]
  },
  {
   "cell_type": "markdown",
   "metadata": {},
   "source": [
    "We can also query related synsets. There are relations, for which there are specific methods:"
   ]
  },
  {
   "cell_type": "code",
   "execution_count": 14,
   "metadata": {},
   "outputs": [
    {
     "data": {
      "text/plain": [
       "[\"Synset('häälitsema.v.01')\"]"
      ]
     },
     "execution_count": 14,
     "metadata": {},
     "output_type": "execute_result"
    }
   ],
   "source": [
    "synset.hypernyms"
   ]
  },
  {
   "cell_type": "code",
   "execution_count": 15,
   "metadata": {},
   "outputs": [
    {
     "data": {
      "text/plain": [
       "[\"Synset('aiduraidutama.v.01')\",\n",
       " \"Synset('lillutama.v.02')\",\n",
       " \"Synset('joodeldama.v.01')\",\n",
       " \"Synset('leelotama.v.01')\",\n",
       " \"Synset('kõõrutama.v.02')\",\n",
       " \"Synset('kaasitama.v.01')\",\n",
       " \"Synset('joiguma.v.01')\",\n",
       " \"Synset('helletama.v.01')\",\n",
       " \"Synset('üles laulma.v.01')\",\n",
       " \"Synset('ümisema.v.02')\",\n",
       " \"Synset('tremoleerima.v.01')\"]"
      ]
     },
     "execution_count": 15,
     "metadata": {},
     "output_type": "execute_result"
    }
   ],
   "source": [
    "synset.hyponyms"
   ]
  },
  {
   "cell_type": "code",
   "execution_count": 16,
   "metadata": {},
   "outputs": [
    {
     "data": {
      "text/plain": [
       "[]"
      ]
     },
     "execution_count": 16,
     "metadata": {},
     "output_type": "execute_result"
    }
   ],
   "source": [
    "synset.holonyms"
   ]
  },
  {
   "cell_type": "code",
   "execution_count": 17,
   "metadata": {},
   "outputs": [
    {
     "data": {
      "text/plain": [
       "[]"
      ]
     },
     "execution_count": 17,
     "metadata": {},
     "output_type": "execute_result"
    }
   ],
   "source": [
    "synset.meronyms"
   ]
  },
  {
   "cell_type": "code",
   "execution_count": 18,
   "metadata": {},
   "outputs": [
    {
     "data": {
      "text/plain": [
       "[]"
      ]
     },
     "execution_count": 18,
     "metadata": {},
     "output_type": "execute_result"
    }
   ],
   "source": [
    "synset.member_holonyms"
   ]
  },
  {
   "cell_type": "markdown",
   "metadata": {},
   "source": [
    "More specific relations can be queried with a universal method:"
   ]
  },
  {
   "cell_type": "code",
   "execution_count": 19,
   "metadata": {},
   "outputs": [
    {
     "data": {
      "text/plain": [
       "[\"Synset('laulja.n.01')\"]"
      ]
     },
     "execution_count": 19,
     "metadata": {},
     "output_type": "execute_result"
    }
   ],
   "source": [
    "synset.get_related_synset(\"involved_agent\")"
   ]
  },
  {
   "cell_type": "markdown",
   "metadata": {},
   "source": [
    "We can also find all ancestors of a synset using a specified relation:"
   ]
  },
  {
   "cell_type": "code",
   "execution_count": 20,
   "metadata": {},
   "outputs": [
    {
     "data": {
      "text/plain": [
       "[\"Synset('juust.n.02')\",\n",
       " \"Synset('koturn.n.01')\",\n",
       " \"Synset('itšiig.n.01')\",\n",
       " \"Synset('spordijalats.n.01')\",\n",
       " \"Synset('võimlemissuss.n.01')\",\n",
       " \"Synset('rattaking.n.01')\",\n",
       " \"Synset('golfiking.n.01')\",\n",
       " \"Synset('jooksuking.n.01')\",\n",
       " \"Synset('tennis.n.01')\",\n",
       " \"Synset('botas.n.01')\",\n",
       " \"Synset('kets.n.01')\",\n",
       " \"Synset('jalgpallijalats.n.01')\",\n",
       " \"Synset('uisusaabas.n.01')\",\n",
       " \"Synset('suusasaabas.n.01')\",\n",
       " \"Synset('mäesuusasaabas.n.01')\",\n",
       " \"Synset('balletisuss.n.01')\",\n",
       " \"Synset('kaloss.n.01')\",\n",
       " \"Synset('soome suss.n.01')\",\n",
       " \"Synset('papu.n.01')\",\n",
       " \"Synset('vahetusjalats.n.01')\",\n",
       " \"Synset('plätu.n.01')\",\n",
       " \"Synset('saabas.n.01')\",\n",
       " \"Synset('matkasaabas.n.01')\",\n",
       " \"Synset('sukksaabas.n.01')\",\n",
       " \"Synset('mägisaabas.n.01')\",\n",
       " \"Synset('vildik.n.01')\",\n",
       " \"Synset('kirsa.n.01')\",\n",
       " \"Synset('kroomik.n.01')\",\n",
       " \"Synset('kalavinsk.n.01')\",\n",
       " \"Synset('kummik.n.01')\",\n",
       " \"Synset('kalamehesaabas.n.01')\",\n",
       " \"Synset('suss.n.02')\",\n",
       " \"Synset('ratsasaabas.n.01')\",\n",
       " \"Synset('kamass.n.01')\",\n",
       " \"Synset('unta.n.01')\",\n",
       " \"Synset('tohusaabas.n.01')\",\n",
       " \"Synset('venekas.n.02')\",\n",
       " \"Synset('kauboisaabas.n.01')\",\n",
       " \"Synset('lumesaabas.n.01')\",\n",
       " \"Synset('alpinistisaabas.n.01')\",\n",
       " \"Synset('mootorratturisaabas.n.01')\",\n",
       " \"Synset('seitsmepenikoormasaapad.n.01')\",\n",
       " \"Synset('patinka.n.02')\",\n",
       " \"Synset('sõidusaabas.n.01')\",\n",
       " \"Synset('poolsaabas.n.01')\",\n",
       " \"Synset('patinka.n.01')\",\n",
       " \"Synset('king.n.01')\",\n",
       " \"Synset('hiiuranti king.n.01')\",\n",
       " \"Synset('kõpsking.n.01')\",\n",
       " \"Synset('sandaal.n.01')\",\n",
       " \"Synset('kontsaking.n.01')\",\n",
       " \"Synset('platvormking.n.01')\",\n",
       " \"Synset('mokassiin.n.01')\",\n",
       " \"Synset('riideking.n.01')\",\n",
       " \"Synset('libik.n.01')\",\n",
       " \"Synset('puukas.n.01')\",\n",
       " \"Synset('stileto.n.01')\",\n",
       " \"Synset('rihmik.n.01')\",\n",
       " \"Synset('pätt 3.n.01')\",\n",
       " \"Synset('lapseking.n.01')\",\n",
       " \"Synset('botik.n.01')\",\n",
       " \"Synset('suvejalats.n.01')\",\n",
       " \"Synset('pantohvel.n.01')\",\n",
       " \"Synset('viltsuss.n.01')\",\n",
       " \"Synset('pätu.n.01')\",\n",
       " \"Synset('pastel.n.01')\",\n",
       " \"Synset('loivad.n.01')\",\n",
       " \"Synset('viisk.n.01')\"]"
      ]
     },
     "execution_count": 20,
     "metadata": {},
     "output_type": "execute_result"
    }
   ],
   "source": [
    "wn[\"jalats\"][0].closure(\"hyponym\")"
   ]
  },
  {
   "cell_type": "markdown",
   "metadata": {},
   "source": [
    "Finally, you can use the method all_relation_types to list all relation types available in this Wordnet:"
   ]
  },
  {
   "cell_type": "code",
   "execution_count": 21,
   "metadata": {},
   "outputs": [
    {
     "data": {
      "text/plain": [
       "['hypernym',\n",
       " 'similar',\n",
       " 'domain_topic',\n",
       " 'hyponym',\n",
       " 'is_caused_by',\n",
       " 'role',\n",
       " 'state_of',\n",
       " 'also',\n",
       " 'holo_part',\n",
       " 'location',\n",
       " 'mero_location',\n",
       " 'mero_part',\n",
       " 'causes',\n",
       " 'target_direction',\n",
       " 'involved_location',\n",
       " 'involved_agent',\n",
       " 'instrument',\n",
       " 'mero_substance',\n",
       " 'involved',\n",
       " 'holonym',\n",
       " 'meronym',\n",
       " 'be_in_state',\n",
       " 'agent',\n",
       " 'involved_instrument',\n",
       " 'has_domain_topic',\n",
       " 'mero_member',\n",
       " 'mero_portion',\n",
       " 'holo_member',\n",
       " 'holo_substance',\n",
       " 'antonym',\n",
       " 'subevent',\n",
       " 'holo_location',\n",
       " 'patient',\n",
       " 'involved_patient',\n",
       " 'holo_portion',\n",
       " 'is_subevent_of',\n",
       " 'other',\n",
       " 'involved_source_direction',\n",
       " 'involved_target_direction',\n",
       " 'in_manner',\n",
       " 'has_domain_region',\n",
       " 'involved_result',\n",
       " 'instance_hyponym',\n",
       " 'domain_region',\n",
       " 'classified_by']"
      ]
     },
     "execution_count": 21,
     "metadata": {},
     "output_type": "execute_result"
    }
   ],
   "source": [
    "wn.all_relation_types()"
   ]
  },
  {
   "cell_type": "markdown",
   "metadata": {},
   "source": [
    "## Similarities"
   ]
  },
  {
   "cell_type": "markdown",
   "metadata": {},
   "source": [
    "We can measure distance or similarity between two synsets in several ways. For calculating similarity, we provide path, Leacock-Chodorow and Wu-Palmer similarities:"
   ]
  },
  {
   "cell_type": "code",
   "execution_count": 22,
   "metadata": {},
   "outputs": [],
   "source": [
    "synset = wn['aprill'][0]\n",
    "target_synset = wn['mai'][0]"
   ]
  },
  {
   "cell_type": "code",
   "execution_count": 23,
   "metadata": {},
   "outputs": [
    {
     "data": {
      "text/plain": [
       "0.3333333333333333"
      ]
     },
     "execution_count": 23,
     "metadata": {},
     "output_type": "execute_result"
    }
   ],
   "source": [
    "wn.path_similarity(synset, target_synset)"
   ]
  },
  {
   "cell_type": "code",
   "execution_count": 24,
   "metadata": {},
   "outputs": [
    {
     "data": {
      "text/plain": [
       "2.159484249353372"
      ]
     },
     "execution_count": 24,
     "metadata": {},
     "output_type": "execute_result"
    }
   ],
   "source": [
    "wn.lch_similarity(synset, target_synset)"
   ]
  },
  {
   "cell_type": "code",
   "execution_count": 25,
   "metadata": {},
   "outputs": [
    {
     "data": {
      "text/plain": [
       "0.8333333333333334"
      ]
     },
     "execution_count": 25,
     "metadata": {},
     "output_type": "execute_result"
    }
   ],
   "source": [
    "wn.wup_similarity(synset, target_synset)"
   ]
  },
  {
   "cell_type": "markdown",
   "metadata": {},
   "source": [
    "In addition, we can also find the closest common ancestor via hypernyms:"
   ]
  },
  {
   "cell_type": "code",
   "execution_count": 26,
   "metadata": {},
   "outputs": [
    {
     "data": {
      "text/plain": [
       "[\"Synset('kalendrikuu.n.01')\"]"
      ]
     },
     "execution_count": 26,
     "metadata": {},
     "output_type": "execute_result"
    }
   ],
   "source": [
    "wn.lowest_common_hypernyms(synset, target_synset)"
   ]
  },
  {
   "cell_type": "markdown",
   "metadata": {},
   "source": [
    "## EstWN versions\n",
    "\n",
    "By default, WordNet object uses the latest EstWN version that is available in estnltk_resources."
   ]
  },
  {
   "cell_type": "code",
   "execution_count": 27,
   "metadata": {},
   "outputs": [
    {
     "data": {
      "text/plain": [
       "'2.6.0'"
      ]
     },
     "execution_count": 27,
     "metadata": {},
     "output_type": "execute_result"
    }
   ],
   "source": [
    "wn.version"
   ]
  },
  {
   "cell_type": "markdown",
   "metadata": {},
   "source": [
    "Use `ResourceView` to browse which versions are available:"
   ]
  },
  {
   "cell_type": "code",
   "execution_count": 28,
   "metadata": {},
   "outputs": [
    {
     "data": {
      "text/html": [
       "<h4>ResourceView</h4>\n",
       "<table border=\"1\" class=\"dataframe\">\n",
       "  <thead>\n",
       "    <tr style=\"text-align: right;\">\n",
       "      <th>name</th>\n",
       "      <th>description</th>\n",
       "      <th>license</th>\n",
       "      <th>downloaded</th>\n",
       "    </tr>\n",
       "  </thead>\n",
       "  <tbody>\n",
       "    <tr>\n",
       "      <td>estwordnet_2023-07-20</td>\n",
       "      <td>Database files for Estonian Wordnet API. This resource is based on Estonian Wordnet version 2.6.0. The original source for creating the database files: https://github.com/estnltk/estnltk-model-training/blob/main/wordnet/data_extraction.ipynb  (size: 26M)</td>\n",
       "      <td>CC BY-SA 4.0</td>\n",
       "      <td>True</td>\n",
       "    </tr>\n",
       "    <tr>\n",
       "      <td>estwordnet_2020-06-30</td>\n",
       "      <td>Database files of Estonian Wordnet version 2.3.2. This resource was created by Birgit Sõrmus via XML wordnet conversion utilities from: https://github.com/estnltk/estnltk/blob/version_1.6/estnltk/wordnet/data_import/data_extract.ipynb  (size: 22M)</td>\n",
       "      <td>CC BY-SA 4.0</td>\n",
       "      <td>False</td>\n",
       "    </tr>\n",
       "  </tbody>\n",
       "</table>"
      ],
      "text/plain": [
       "ResourceView\n",
       "name                  description                            license                    downloaded  \n",
       "====                  ===========                            =======                    ==========  \n",
       "\n",
       "estwordnet_2023-07-2  Database files for Estonian Wordnet    CC BY-SA 4.0               True        \n",
       "0                     API. This resource is based on                                                \n",
       "                      Estonian Wordnet version 2.6.0. The                                           \n",
       "                      original source for creating the                                              \n",
       "                      database files:                                                               \n",
       "                      https://github.com/estnltk/estnltk-                                           \n",
       "                      model-training/blob/main/wordnet/data                                         \n",
       "                      _extraction.ipynb  (size: 26M)                                                \n",
       "\n",
       "estwordnet_2020-06-3  Database files of Estonian Wordnet     CC BY-SA 4.0               False       \n",
       "0                     version 2.3.2. This resource was                                              \n",
       "                      created by Birgit Sõrmus via XML                                              \n",
       "                      wordnet conversion utilities from: ht                                         \n",
       "                      tps://github.com/estnltk/estnltk/blob                                         \n",
       "                      /version_1.6/estnltk/wordnet/data_imp                                         \n",
       "                      ort/data_extract.ipynb  (size: 22M)                                           \n"
      ]
     },
     "execution_count": 28,
     "metadata": {},
     "output_type": "execute_result"
    }
   ],
   "source": [
    "from estnltk import ResourceView\n",
    "ResourceView('wordnet')"
   ]
  },
  {
   "cell_type": "markdown",
   "metadata": {},
   "source": [
    "If you want to use a different version of EstWN, then use the `download` function to get the resource and then initialize WordNet object with `version` parameter to use specific EstWN version:\n",
    "\n",
    "```python\n",
    "from estnltk import download\n",
    "\n",
    "# Download version '2.3.2'\n",
    "download('estwordnet_2020-06-30')\n",
    "\n",
    "# Initialize estwn version '2.3.2'\n",
    "wn_old = Wordnet(version='2.3.2')\n",
    "```"
   ]
  }
 ],
 "metadata": {
  "kernelspec": {
   "display_name": "Python 3 (ipykernel)",
   "language": "python",
   "name": "python3"
  },
  "language_info": {
   "codemirror_mode": {
    "name": "ipython",
    "version": 3
   },
   "file_extension": ".py",
   "mimetype": "text/x-python",
   "name": "python",
   "nbconvert_exporter": "python",
   "pygments_lexer": "ipython3",
   "version": "3.9.16"
  }
 },
 "nbformat": 4,
 "nbformat_minor": 2
}
