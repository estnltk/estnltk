{
 "cells": [
  {
   "cell_type": "markdown",
   "id": "ca132e74-ad89-4995-8f56-39e1162877bd",
   "metadata": {},
   "source": [
    "# Export CONLL \n",
    "\n",
    "## Export parser output\n",
    "\n",
    "The function `layer_to_conll` can be used to convert syntactic analysis layers created by EstNLTK's parsers into CONLL format."
   ]
  },
  {
   "cell_type": "code",
   "execution_count": 1,
   "id": "d08507f7-3713-473b-bc46-e206ff7d29b5",
   "metadata": {},
   "outputs": [],
   "source": [
    "from estnltk.converters.conll.conll_exporter import layer_to_conll\n",
    "from estnltk import Text"
   ]
  },
  {
   "cell_type": "code",
   "execution_count": 2,
   "id": "5a1187c4-bdb1-4b97-8c08-475eb1e0d949",
   "metadata": {},
   "outputs": [
    {
     "name": "stdout",
     "output_type": "stream",
     "text": [
      "1\tLähme\tminema\tV\tV\tme\t0\troot\t_\t_\n",
      "2\t!\t!\tZ\tZ\t_\t1\tpunct\t_\t_\n",
      "\n",
      "1\tTa\ttema\tP\tP\tsg|n\t3\tnsubj\t_\t_\n",
      "2\ton\tolema\tV\tV\tb\t3\taux\t_\t_\n",
      "3\trääkinud\trääkima\tV\tV\tnud\t0\troot\t_\t_\n",
      "4\t.\t.\tZ\tZ\t_\t3\tpunct\t_\t_\n",
      "\n",
      "\n"
     ]
    }
   ],
   "source": [
    "# Tag Maltparser syntax\n",
    "text = Text(\"Lähme! Ta on rääkinud.\").tag_layer('maltparser_syntax')\n",
    "\n",
    "# Export as CONLL string\n",
    "print( layer_to_conll(text, 'maltparser_syntax') )"
   ]
  },
  {
   "cell_type": "code",
   "execution_count": 3,
   "id": "7ffb01be-ac37-4df6-81d9-3423f4a90549",
   "metadata": {},
   "outputs": [
    {
     "name": "stdout",
     "output_type": "stream",
     "text": [
      "1\tLähme\tminema\tV\tV\taf=af|indic=indic|mod=mod|pl=pl|pres=pres|ps=ps|ps1=ps1\t0\troot\t_\t_\n",
      "2\t!\t!\tZ\tZ\t_\t1\tpunct\t_\t_\n",
      "\n",
      "1\tTa\ttema\tP\tP\tnom=nom|sg=sg\t3\tnsubj:cop\t_\t_\n",
      "2\ton\tolema\tV\tV\taf=af|indic=indic|main=main|pl=pl|pres=pres|ps=ps|ps3=ps3\t3\tcop\t_\t_\n",
      "3\trääkinud\trääkinud\tA\tA\tnom=nom|pos=pos|sg=sg\t0\troot\t_\t_\n",
      "4\t.\t.\tZ\tZ\t_\t3\tpunct\t_\t_\n",
      "\n",
      "\n"
     ]
    }
   ],
   "source": [
    "from estnltk.taggers import StanzaSyntaxWebTagger\n",
    "stanza_syntax_web_tagger = \\\n",
    "    StanzaSyntaxWebTagger(url='https://api.tartunlp.ai/estnltk/tagger/stanza_syntax')\n",
    "\n",
    "# Tag Stanza syntax via web tagger\n",
    "text = Text(\"Lähme! Ta on rääkinud.\").tag_layer('morph_extended')\n",
    "stanza_syntax_web_tagger.tag(text)\n",
    "\n",
    "# Export as CONLL string\n",
    "print( layer_to_conll(text, stanza_syntax_web_tagger.output_layer) )"
   ]
  },
  {
   "cell_type": "markdown",
   "id": "5e50d844-67a5-4b80-844e-1dfeba32100b",
   "metadata": {},
   "source": [
    "Note: if the convertable layer has ambiguities (multiple analyses per word), then the output will also have multiple analyses lines per ambiguous word."
   ]
  },
  {
   "cell_type": "markdown",
   "id": "a4b7cdac-b2a1-4e08-9906-3362b201067d",
   "metadata": {},
   "source": [
    "## Export ENC morphosyntax layer\n",
    "\n",
    "ENC morphosyntax layer is a special format of syntactic layer which contains both CG morphosyntactic categories and Vabamorf's categories. The layer should include (at minimum) the following attributes: `('id', 'lemma', 'xpostag', 'feats', 'extended_feats', 'head', 'deprel')`. \n",
    "You can use function `enc_layer_to_conll` to convert such layer into a CONLLU format string:\n",
    "\n",
    "```python\n",
    "from estnltk.converters.conll.conll_exporter import enc_layer_to_conll\n",
    "# Export as CONLL string\n",
    "print( enc_layer_to_conll( text_obj, 'morphosyntax' ) )\n",
    "```\n",
    "Optional flags:\n",
    "* `extended_feats: boolean` -- if True, then the CONLL 'feats' field will be filled in with values of layer's 'extended_feats' attribute. Layer's 'extended_feats' contains CG morphosyntactic categories. Otherwise, the CONLL 'feats' field will be filled in with layer's 'feats' attribute. Layer's 'feats' contains Vabamorf's morphological categories. (Default: True)\n",
    "* `separate_feats: boolean` -- if True, then CONLL 'feats' field will contain morphosyntactic categories separated by '|'. Otherwise, CONLL 'feats' field will contain morphosyntactic categories separated by whitespace. (Default: False)\n"
   ]
  }
 ],
 "metadata": {
  "kernelspec": {
   "display_name": "Python 3 (ipykernel)",
   "language": "python",
   "name": "python3"
  },
  "language_info": {
   "codemirror_mode": {
    "name": "ipython",
    "version": 3
   },
   "file_extension": ".py",
   "mimetype": "text/x-python",
   "name": "python",
   "nbconvert_exporter": "python",
   "pygments_lexer": "ipython3",
   "version": "3.12.3"
  }
 },
 "nbformat": 4,
 "nbformat_minor": 5
}
