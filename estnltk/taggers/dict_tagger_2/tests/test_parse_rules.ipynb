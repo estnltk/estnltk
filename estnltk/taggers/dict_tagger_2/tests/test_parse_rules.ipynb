{
 "cells": [
  {
   "cell_type": "code",
   "execution_count": 1,
   "id": "be3ad14a",
   "metadata": {},
   "outputs": [],
   "source": [
    "import sys\n",
    "sys.path.append(\"..\")"
   ]
  },
  {
   "cell_type": "code",
   "execution_count": 2,
   "id": "8be4b1f2",
   "metadata": {},
   "outputs": [],
   "source": [
    "from extraction_rules import Ruleset"
   ]
  },
  {
   "cell_type": "code",
   "execution_count": 3,
   "id": "1504722b",
   "metadata": {},
   "outputs": [
    {
     "name": "stdout",
     "output_type": "stream",
     "text": [
      "StaticExtractionRule(pattern=regex.Regex('trijodthyronin sandoz 25 gamma', flags=regex.V0), attributes={'grammar_symbol': 'drug_name', 'value': 'drug_name', '_group_': 0, '_priority_': 0}, group=0, priority=0)\n",
      "StaticExtractionRule(pattern=regex.Regex('ketanest', flags=regex.V0), attributes={'grammar_symbol': 'drug_name', 'value': 'drug_name', '_group_': 0, '_priority_': 0}, group=0, priority=0)\n",
      "StaticExtractionRule(pattern=regex.Regex('plerixafor', flags=regex.V0), attributes={'grammar_symbol': 'drug_name', 'value': 'drug_name', '_group_': 0, '_priority_': 0}, group=0, priority=0)\n",
      "StaticExtractionRule(pattern=regex.Regex('prenoxad', flags=regex.V0), attributes={'grammar_symbol': 'drug_name', 'value': 'drug_name', '_group_': 0, '_priority_': 0}, group=0, priority=0)\n",
      "StaticExtractionRule(pattern=regex.Regex('hetastarch\\\\+natrii chloridum', flags=regex.V0), attributes={'grammar_symbol': 'drug_name', 'value': 'drug_name', '_group_': 0, '_priority_': 0}, group=0, priority=0)\n",
      "StaticExtractionRule(pattern=regex.Regex('phenelzinum', flags=regex.V0), attributes={'grammar_symbol': 'drug_name', 'value': 'drug_name', '_group_': 0, '_priority_': 0}, group=0, priority=0)\n",
      "StaticExtractionRule(pattern=regex.Regex('pinazepamum', flags=regex.V0), attributes={'grammar_symbol': 'drug_name', 'value': 'drug_name', '_group_': 0, '_priority_': 0}, group=0, priority=0)\n",
      "StaticExtractionRule(pattern=regex.Regex('risperidon actavis 2mg', flags=regex.V0), attributes={'grammar_symbol': 'drug_name', 'value': 'drug_name', '_group_': 0, '_priority_': 0}, group=0, priority=0)\n"
     ]
    }
   ],
   "source": [
    "rules = Ruleset()\n",
    "rules.load('data/short.csv')\n",
    "for rule in rules.static_rules:\n",
    "    print(rule)"
   ]
  },
  {
   "cell_type": "code",
   "execution_count": 4,
   "id": "9c332c7a",
   "metadata": {},
   "outputs": [
    {
     "name": "stdout",
     "output_type": "stream",
     "text": [
      "StaticExtractionRule(pattern=regex.Regex('trijodthyronin sandoz 25 gamma', flags=regex.V0), attributes={'grammar_symbol': 'drug_name', 'value': 'drug_name', '_priority_': 0}, group=0, priority=0)\n",
      "StaticExtractionRule(pattern=regex.Regex('ketanest', flags=regex.V0), attributes={'grammar_symbol': 'drug_name', 'value': 'drug_name', '_priority_': 0}, group=0, priority=0)\n",
      "StaticExtractionRule(pattern=regex.Regex('plerixafor', flags=regex.V0), attributes={'grammar_symbol': 'drug_name', 'value': 'drug_name', '_priority_': 0}, group=0, priority=0)\n",
      "StaticExtractionRule(pattern=regex.Regex('prenoxad', flags=regex.V0), attributes={'grammar_symbol': 'drug_name', 'value': 'drug_name', '_priority_': 0}, group=0, priority=0)\n",
      "StaticExtractionRule(pattern=regex.Regex('hetastarch\\\\+natrii chloridum', flags=regex.V0), attributes={'grammar_symbol': 'drug_name', 'value': 'drug_name', '_priority_': 0}, group=0, priority=0)\n",
      "StaticExtractionRule(pattern=regex.Regex('phenelzinum', flags=regex.V0), attributes={'grammar_symbol': 'drug_name', 'value': 'drug_name', '_priority_': 0}, group=0, priority=0)\n",
      "StaticExtractionRule(pattern=regex.Regex('pinazepamum', flags=regex.V0), attributes={'grammar_symbol': 'drug_name', 'value': 'drug_name', '_priority_': 0}, group=0, priority=0)\n",
      "StaticExtractionRule(pattern=regex.Regex('risperidon actavis 2mg', flags=regex.V0), attributes={'grammar_symbol': 'drug_name', 'value': 'drug_name', '_priority_': 0}, group=0, priority=0)\n"
     ]
    }
   ],
   "source": [
    "rules.load('data/short.csv', group_column='_group_', mode='overwrite')\n",
    "for rule in rules.static_rules:\n",
    "    print(rule)"
   ]
  },
  {
   "cell_type": "code",
   "execution_count": 5,
   "id": "0992a88b",
   "metadata": {},
   "outputs": [
    {
     "name": "stdout",
     "output_type": "stream",
     "text": [
      "StaticExtractionRule(pattern=regex.Regex('trijodthyronin sandoz 25 gamma', flags=regex.V0), attributes={'grammar_symbol': 'drug_name', 'value': 'drug_name', '_priority_': 0}, group=0, priority=0)\n",
      "StaticExtractionRule(pattern=regex.Regex('ketanest', flags=regex.V0), attributes={'grammar_symbol': 'drug_name', 'value': 'drug_name', '_priority_': 0}, group=0, priority=0)\n",
      "StaticExtractionRule(pattern=regex.Regex('plerixafor', flags=regex.V0), attributes={'grammar_symbol': 'drug_name', 'value': 'drug_name', '_priority_': 0}, group=0, priority=0)\n",
      "StaticExtractionRule(pattern=regex.Regex('prenoxad', flags=regex.V0), attributes={'grammar_symbol': 'drug_name', 'value': 'drug_name', '_priority_': 0}, group=0, priority=0)\n",
      "StaticExtractionRule(pattern=regex.Regex('hetastarch\\\\+natrii chloridum', flags=regex.V0), attributes={'grammar_symbol': 'drug_name', 'value': 'drug_name', '_priority_': 0}, group=0, priority=0)\n",
      "StaticExtractionRule(pattern=regex.Regex('phenelzinum', flags=regex.V0), attributes={'grammar_symbol': 'drug_name', 'value': 'drug_name', '_priority_': 0}, group=0, priority=0)\n",
      "StaticExtractionRule(pattern=regex.Regex('pinazepamum', flags=regex.V0), attributes={'grammar_symbol': 'drug_name', 'value': 'drug_name', '_priority_': 0}, group=0, priority=0)\n",
      "StaticExtractionRule(pattern=regex.Regex('risperidon actavis 2mg', flags=regex.V0), attributes={'grammar_symbol': 'drug_name', 'value': 'drug_name', '_priority_': 0}, group=0, priority=0)\n",
      "StaticExtractionRule(pattern=regex.Regex('trijodthyronin sandoz 25 gamma', flags=regex.V0), attributes={'grammar_symbol': 'drug_name', 'value': 'drug_name'}, group=0, priority=0)\n",
      "StaticExtractionRule(pattern=regex.Regex('ketanest', flags=regex.V0), attributes={'grammar_symbol': 'drug_name', 'value': 'drug_name'}, group=0, priority=0)\n",
      "StaticExtractionRule(pattern=regex.Regex('plerixafor', flags=regex.V0), attributes={'grammar_symbol': 'drug_name', 'value': 'drug_name'}, group=0, priority=0)\n",
      "StaticExtractionRule(pattern=regex.Regex('prenoxad', flags=regex.V0), attributes={'grammar_symbol': 'drug_name', 'value': 'drug_name'}, group=0, priority=0)\n",
      "StaticExtractionRule(pattern=regex.Regex('hetastarch\\\\+natrii chloridum', flags=regex.V0), attributes={'grammar_symbol': 'drug_name', 'value': 'drug_name'}, group=0, priority=0)\n",
      "StaticExtractionRule(pattern=regex.Regex('phenelzinum', flags=regex.V0), attributes={'grammar_symbol': 'drug_name', 'value': 'drug_name'}, group=0, priority=0)\n",
      "StaticExtractionRule(pattern=regex.Regex('pinazepamum', flags=regex.V0), attributes={'grammar_symbol': 'drug_name', 'value': 'drug_name'}, group=0, priority=0)\n",
      "StaticExtractionRule(pattern=regex.Regex('risperidon actavis 2mg', flags=regex.V0), attributes={'grammar_symbol': 'drug_name', 'value': 'drug_name'}, group=0, priority=0)\n"
     ]
    }
   ],
   "source": [
    "rules.load('data/short.csv', group_column='_group_', priority_column='_priority_', mode='append')\n",
    "for rule in rules.static_rules:\n",
    "    print(rule)"
   ]
  },
  {
   "cell_type": "code",
   "execution_count": 6,
   "id": "eaeae488",
   "metadata": {},
   "outputs": [
    {
     "ename": "ValueError",
     "evalue": "File 'data/missing.csv' does not exist",
     "output_type": "error",
     "traceback": [
      "\u001b[0;31m---------------------------------------------------------------------------\u001b[0m",
      "\u001b[0;31mFileNotFoundError\u001b[0m                         Traceback (most recent call last)",
      "\u001b[0;32m~/Documents/GIT/precise4q/work/exploration/fast_matching/tests/../extraction_rules/ruleset.py\u001b[0m in \u001b[0;36mload\u001b[0;34m(self, file_name, key_column, group_column, priority_column, mode, **kwargs)\u001b[0m\n\u001b[1;32m    102\u001b[0m         \u001b[0;32mtry\u001b[0m\u001b[0;34m:\u001b[0m\u001b[0;34m\u001b[0m\u001b[0;34m\u001b[0m\u001b[0m\n\u001b[0;32m--> 103\u001b[0;31m             \u001b[0mcsv_file\u001b[0m \u001b[0;34m=\u001b[0m \u001b[0mopen\u001b[0m\u001b[0;34m(\u001b[0m\u001b[0mfile_name\u001b[0m\u001b[0;34m,\u001b[0m \u001b[0;34m'rt'\u001b[0m\u001b[0;34m)\u001b[0m\u001b[0;34m\u001b[0m\u001b[0;34m\u001b[0m\u001b[0m\n\u001b[0m\u001b[1;32m    104\u001b[0m             \u001b[0mcsv_buffer\u001b[0m \u001b[0;34m=\u001b[0m \u001b[0mread_csv\u001b[0m\u001b[0;34m(\u001b[0m\u001b[0mcsv_file\u001b[0m\u001b[0;34m,\u001b[0m \u001b[0;34m**\u001b[0m\u001b[0mkwargs\u001b[0m\u001b[0;34m)\u001b[0m\u001b[0;34m\u001b[0m\u001b[0;34m\u001b[0m\u001b[0m\n",
      "\u001b[0;31mFileNotFoundError\u001b[0m: [Errno 2] No such file or directory: 'data/missing.csv'",
      "\nDuring handling of the above exception, another exception occurred:\n",
      "\u001b[0;31mValueError\u001b[0m                                Traceback (most recent call last)",
      "\u001b[0;32m<ipython-input-6-56c919942b50>\u001b[0m in \u001b[0;36m<module>\u001b[0;34m\u001b[0m\n\u001b[1;32m      1\u001b[0m \u001b[0mrules\u001b[0m \u001b[0;34m=\u001b[0m \u001b[0mRuleset\u001b[0m\u001b[0;34m(\u001b[0m\u001b[0;34m)\u001b[0m\u001b[0;34m\u001b[0m\u001b[0;34m\u001b[0m\u001b[0m\n\u001b[0;32m----> 2\u001b[0;31m \u001b[0mrules\u001b[0m\u001b[0;34m.\u001b[0m\u001b[0mload\u001b[0m\u001b[0;34m(\u001b[0m\u001b[0;34m'data/missing.csv'\u001b[0m\u001b[0;34m)\u001b[0m\u001b[0;34m\u001b[0m\u001b[0;34m\u001b[0m\u001b[0m\n\u001b[0m",
      "\u001b[0;32m~/Documents/GIT/precise4q/work/exploration/fast_matching/tests/../extraction_rules/ruleset.py\u001b[0m in \u001b[0;36mload\u001b[0;34m(self, file_name, key_column, group_column, priority_column, mode, **kwargs)\u001b[0m\n\u001b[1;32m    104\u001b[0m             \u001b[0mcsv_buffer\u001b[0m \u001b[0;34m=\u001b[0m \u001b[0mread_csv\u001b[0m\u001b[0;34m(\u001b[0m\u001b[0mcsv_file\u001b[0m\u001b[0;34m,\u001b[0m \u001b[0;34m**\u001b[0m\u001b[0mkwargs\u001b[0m\u001b[0;34m)\u001b[0m\u001b[0;34m\u001b[0m\u001b[0;34m\u001b[0m\u001b[0m\n\u001b[1;32m    105\u001b[0m         \u001b[0;32mexcept\u001b[0m \u001b[0mFileNotFoundError\u001b[0m\u001b[0;34m:\u001b[0m\u001b[0;34m\u001b[0m\u001b[0;34m\u001b[0m\u001b[0m\n\u001b[0;32m--> 106\u001b[0;31m             \u001b[0;32mraise\u001b[0m \u001b[0mValueError\u001b[0m\u001b[0;34m(\u001b[0m\u001b[0;34m\"File '{}' does not exist\"\u001b[0m\u001b[0;34m.\u001b[0m \u001b[0mformat\u001b[0m\u001b[0;34m(\u001b[0m\u001b[0mfile_name\u001b[0m\u001b[0;34m)\u001b[0m\u001b[0;34m)\u001b[0m\u001b[0;34m\u001b[0m\u001b[0;34m\u001b[0m\u001b[0m\n\u001b[0m\u001b[1;32m    107\u001b[0m         \u001b[0;32mexcept\u001b[0m \u001b[0mPermissionError\u001b[0m\u001b[0;34m:\u001b[0m\u001b[0;34m\u001b[0m\u001b[0;34m\u001b[0m\u001b[0m\n\u001b[1;32m    108\u001b[0m             \u001b[0;32mraise\u001b[0m \u001b[0mValueError\u001b[0m\u001b[0;34m(\u001b[0m\u001b[0;34m\"Do not have permissions to read the rule file '{}'\"\u001b[0m\u001b[0;34m.\u001b[0m\u001b[0mformat\u001b[0m\u001b[0;34m(\u001b[0m\u001b[0mfile_name\u001b[0m\u001b[0;34m)\u001b[0m\u001b[0;34m)\u001b[0m\u001b[0;34m\u001b[0m\u001b[0;34m\u001b[0m\u001b[0m\n",
      "\u001b[0;31mValueError\u001b[0m: File 'data/missing.csv' does not exist"
     ]
    }
   ],
   "source": [
    "rules = Ruleset()\n",
    "rules.load('data/missing.csv')"
   ]
  }
 ],
 "metadata": {
  "kernelspec": {
   "display_name": "Python 3",
   "language": "python",
   "name": "python3"
  },
  "language_info": {
   "codemirror_mode": {
    "name": "ipython",
    "version": 3
   },
   "file_extension": ".py",
   "mimetype": "text/x-python",
   "name": "python",
   "nbconvert_exporter": "python",
   "pygments_lexer": "ipython3",
   "version": "3.8.10"
  }
 },
 "nbformat": 4,
 "nbformat_minor": 5
}
