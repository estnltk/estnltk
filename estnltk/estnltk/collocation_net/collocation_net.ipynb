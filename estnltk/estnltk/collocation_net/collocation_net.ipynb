{
 "cells": [
  {
   "cell_type": "code",
   "execution_count": 1,
   "id": "2afff655",
   "metadata": {},
   "outputs": [],
   "source": [
    "%load_ext autoreload\n",
    "%autoreload 2"
   ]
  },
  {
   "cell_type": "markdown",
   "id": "7f8deed4",
   "metadata": {},
   "source": [
    "### Noun-Adjective Collocation Net"
   ]
  },
  {
   "cell_type": "code",
   "execution_count": 2,
   "id": "12ff7699",
   "metadata": {},
   "outputs": [],
   "source": [
    "from noun_adjective_collocation_net import NounAdjectiveCollocationNet"
   ]
  },
  {
   "cell_type": "code",
   "execution_count": 3,
   "id": "a7fd3fdf",
   "metadata": {},
   "outputs": [],
   "source": [
    "cn = NounAdjectiveCollocationNet()"
   ]
  },
  {
   "cell_type": "code",
   "execution_count": 4,
   "id": "76dbeadb",
   "metadata": {},
   "outputs": [
    {
     "data": {
      "text/plain": [
       "['latern',\n",
       " 'tellis',\n",
       " 'rist',\n",
       " 'kurat',\n",
       " 'rätt',\n",
       " 'paprika',\n",
       " 'roos',\n",
       " 'rätik',\n",
       " 'foorituli',\n",
       " 'sõstar']"
      ]
     },
     "execution_count": 4,
     "metadata": {},
     "output_type": "execute_result"
    }
   ],
   "source": [
    "cn.nouns_used_with_adjective(\"punane\")"
   ]
  },
  {
   "cell_type": "code",
   "execution_count": 5,
   "id": "9bba6c02",
   "metadata": {},
   "outputs": [
    {
     "data": {
      "text/plain": [
       "['punane',\n",
       " 'valge',\n",
       " 'uus',\n",
       " 'tulipunane',\n",
       " 'suur',\n",
       " 'väikeseõieline',\n",
       " 'süüdatud',\n",
       " 'suureõieline',\n",
       " 'tumepunane',\n",
       " 'hõõguv']"
      ]
     },
     "execution_count": 5,
     "metadata": {},
     "output_type": "execute_result"
    }
   ],
   "source": [
    "cn.adjectives_used_with_noun(\"roos\")"
   ]
  },
  {
   "cell_type": "code",
   "execution_count": 6,
   "id": "bc9c326d",
   "metadata": {},
   "outputs": [
    {
     "ename": "ValueError",
     "evalue": "Word 'testsõna' not in the dataset.",
     "output_type": "error",
     "traceback": [
      "\u001b[1;31m---------------------------------------------------------------------------\u001b[0m",
      "\u001b[1;31mValueError\u001b[0m                                Traceback (most recent call last)",
      "\u001b[1;32m<ipython-input-6-e75ec24c5867>\u001b[0m in \u001b[0;36m<module>\u001b[1;34m\u001b[0m\n\u001b[1;32m----> 1\u001b[1;33m \u001b[0mcn\u001b[0m\u001b[1;33m.\u001b[0m\u001b[0madjectives_used_with_noun\u001b[0m\u001b[1;33m(\u001b[0m\u001b[1;34m\"testsõna\"\u001b[0m\u001b[1;33m)\u001b[0m\u001b[1;33m\u001b[0m\u001b[1;33m\u001b[0m\u001b[0m\n\u001b[0m",
      "\u001b[1;32m~\\Documents\\collocation-net\\collocation_net\\noun_adjective_collocation_net.py\u001b[0m in \u001b[0;36madjectives_used_with_noun\u001b[1;34m(self, word, number_of_words)\u001b[0m\n\u001b[0;32m      7\u001b[0m \u001b[1;33m\u001b[0m\u001b[0m\n\u001b[0;32m      8\u001b[0m     \u001b[1;32mdef\u001b[0m \u001b[0madjectives_used_with_noun\u001b[0m\u001b[1;33m(\u001b[0m\u001b[0mself\u001b[0m\u001b[1;33m,\u001b[0m \u001b[0mword\u001b[0m\u001b[1;33m:\u001b[0m \u001b[0mstr\u001b[0m\u001b[1;33m,\u001b[0m \u001b[0mnumber_of_words\u001b[0m\u001b[1;33m:\u001b[0m \u001b[0mint\u001b[0m \u001b[1;33m=\u001b[0m \u001b[1;36m10\u001b[0m\u001b[1;33m)\u001b[0m\u001b[1;33m:\u001b[0m\u001b[1;33m\u001b[0m\u001b[1;33m\u001b[0m\u001b[0m\n\u001b[1;32m----> 9\u001b[1;33m         \u001b[1;32mreturn\u001b[0m \u001b[0msuper\u001b[0m\u001b[1;33m(\u001b[0m\u001b[1;33m)\u001b[0m\u001b[1;33m.\u001b[0m\u001b[0mcolumns_used_with\u001b[0m\u001b[1;33m(\u001b[0m\u001b[0mword\u001b[0m\u001b[1;33m,\u001b[0m \u001b[0mnumber_of_words\u001b[0m\u001b[1;33m)\u001b[0m\u001b[1;33m\u001b[0m\u001b[1;33m\u001b[0m\u001b[0m\n\u001b[0m\u001b[0;32m     10\u001b[0m \u001b[1;33m\u001b[0m\u001b[0m\n\u001b[0;32m     11\u001b[0m     \u001b[1;32mdef\u001b[0m \u001b[0msimilar_nouns\u001b[0m\u001b[1;33m(\u001b[0m\u001b[0mself\u001b[0m\u001b[1;33m,\u001b[0m \u001b[0mword\u001b[0m\u001b[1;33m:\u001b[0m \u001b[0mstr\u001b[0m\u001b[1;33m,\u001b[0m \u001b[0mnumber_of_words\u001b[0m\u001b[1;33m:\u001b[0m \u001b[0mint\u001b[0m \u001b[1;33m=\u001b[0m \u001b[1;36m10\u001b[0m\u001b[1;33m)\u001b[0m\u001b[1;33m:\u001b[0m\u001b[1;33m\u001b[0m\u001b[1;33m\u001b[0m\u001b[0m\n",
      "\u001b[1;32m~\\Documents\\collocation-net\\collocation_net\\base_collocation_net.py\u001b[0m in \u001b[0;36mcolumns_used_with\u001b[1;34m(self, word, number_of_words)\u001b[0m\n\u001b[0;32m     59\u001b[0m         \u001b[0mgiven\u001b[0m \u001b[0mword\u001b[0m\u001b[1;33m.\u001b[0m\u001b[1;33m\u001b[0m\u001b[1;33m\u001b[0m\u001b[0m\n\u001b[0;32m     60\u001b[0m         \"\"\"\n\u001b[1;32m---> 61\u001b[1;33m         \u001b[0mword_index\u001b[0m \u001b[1;33m=\u001b[0m \u001b[0mself\u001b[0m\u001b[1;33m.\u001b[0m\u001b[0mrow_index\u001b[0m\u001b[1;33m(\u001b[0m\u001b[0mword\u001b[0m\u001b[1;33m)\u001b[0m\u001b[1;33m\u001b[0m\u001b[1;33m\u001b[0m\u001b[0m\n\u001b[0m\u001b[0;32m     62\u001b[0m \u001b[1;33m\u001b[0m\u001b[0m\n\u001b[0;32m     63\u001b[0m         \u001b[0mrow_topic\u001b[0m \u001b[1;33m=\u001b[0m \u001b[0mself\u001b[0m\u001b[1;33m.\u001b[0m\u001b[0mrow_dist\u001b[0m\u001b[1;33m[\u001b[0m\u001b[0mword_index\u001b[0m\u001b[1;33m]\u001b[0m\u001b[1;33m.\u001b[0m\u001b[0margmax\u001b[0m\u001b[1;33m(\u001b[0m\u001b[1;33m)\u001b[0m\u001b[1;33m\u001b[0m\u001b[1;33m\u001b[0m\u001b[0m\n",
      "\u001b[1;32m~\\Documents\\collocation-net\\collocation_net\\base_collocation_net.py\u001b[0m in \u001b[0;36mrow_index\u001b[1;34m(self, word)\u001b[0m\n\u001b[0;32m     31\u001b[0m             \u001b[1;32mif\u001b[0m \u001b[0mnoun\u001b[0m \u001b[1;33m==\u001b[0m \u001b[0mword\u001b[0m\u001b[1;33m:\u001b[0m\u001b[1;33m\u001b[0m\u001b[1;33m\u001b[0m\u001b[0m\n\u001b[0;32m     32\u001b[0m                 \u001b[1;32mreturn\u001b[0m \u001b[0mi\u001b[0m\u001b[1;33m\u001b[0m\u001b[1;33m\u001b[0m\u001b[0m\n\u001b[1;32m---> 33\u001b[1;33m         \u001b[1;32mraise\u001b[0m \u001b[0mValueError\u001b[0m\u001b[1;33m(\u001b[0m\u001b[1;34mf\"Word '{word}' not in the dataset.\"\u001b[0m\u001b[1;33m)\u001b[0m\u001b[1;33m\u001b[0m\u001b[1;33m\u001b[0m\u001b[0m\n\u001b[0m\u001b[0;32m     34\u001b[0m \u001b[1;33m\u001b[0m\u001b[0m\n\u001b[0;32m     35\u001b[0m     \u001b[1;32mdef\u001b[0m \u001b[0mcolumn_index\u001b[0m\u001b[1;33m(\u001b[0m\u001b[0mself\u001b[0m\u001b[1;33m,\u001b[0m \u001b[0mword\u001b[0m\u001b[1;33m:\u001b[0m \u001b[0mstr\u001b[0m\u001b[1;33m)\u001b[0m \u001b[1;33m->\u001b[0m \u001b[0mint\u001b[0m\u001b[1;33m:\u001b[0m\u001b[1;33m\u001b[0m\u001b[1;33m\u001b[0m\u001b[0m\n",
      "\u001b[1;31mValueError\u001b[0m: Word 'testsõna' not in the dataset."
     ]
    }
   ],
   "source": [
    "cn.adjectives_used_with_noun(\"testsõna\")"
   ]
  },
  {
   "cell_type": "code",
   "execution_count": 7,
   "id": "bbd2b33a",
   "metadata": {},
   "outputs": [
    {
     "ename": "ValueError",
     "evalue": "Word 'testsõna' not in the dataset.",
     "output_type": "error",
     "traceback": [
      "\u001b[1;31m---------------------------------------------------------------------------\u001b[0m",
      "\u001b[1;31mValueError\u001b[0m                                Traceback (most recent call last)",
      "\u001b[1;32m<ipython-input-7-168cb70ab63c>\u001b[0m in \u001b[0;36m<module>\u001b[1;34m\u001b[0m\n\u001b[1;32m----> 1\u001b[1;33m \u001b[0mcn\u001b[0m\u001b[1;33m.\u001b[0m\u001b[0mnouns_used_with_adjective\u001b[0m\u001b[1;33m(\u001b[0m\u001b[1;34m\"testsõna\"\u001b[0m\u001b[1;33m)\u001b[0m\u001b[1;33m\u001b[0m\u001b[1;33m\u001b[0m\u001b[0m\n\u001b[0m",
      "\u001b[1;32m~\\Documents\\collocation-net\\collocation_net\\noun_adjective_collocation_net.py\u001b[0m in \u001b[0;36mnouns_used_with_adjective\u001b[1;34m(self, word, number_of_words)\u001b[0m\n\u001b[0;32m      4\u001b[0m \u001b[1;32mclass\u001b[0m \u001b[0mNounAdjectiveCollocationNet\u001b[0m\u001b[1;33m(\u001b[0m\u001b[0mBaseCollocationNet\u001b[0m\u001b[1;33m)\u001b[0m\u001b[1;33m:\u001b[0m\u001b[1;33m\u001b[0m\u001b[1;33m\u001b[0m\u001b[0m\n\u001b[0;32m      5\u001b[0m     \u001b[1;32mdef\u001b[0m \u001b[0mnouns_used_with_adjective\u001b[0m\u001b[1;33m(\u001b[0m\u001b[0mself\u001b[0m\u001b[1;33m,\u001b[0m \u001b[0mword\u001b[0m\u001b[1;33m:\u001b[0m \u001b[0mstr\u001b[0m\u001b[1;33m,\u001b[0m \u001b[0mnumber_of_words\u001b[0m\u001b[1;33m:\u001b[0m \u001b[0mint\u001b[0m \u001b[1;33m=\u001b[0m \u001b[1;36m10\u001b[0m\u001b[1;33m)\u001b[0m\u001b[1;33m:\u001b[0m\u001b[1;33m\u001b[0m\u001b[1;33m\u001b[0m\u001b[0m\n\u001b[1;32m----> 6\u001b[1;33m         \u001b[1;32mreturn\u001b[0m \u001b[0msuper\u001b[0m\u001b[1;33m(\u001b[0m\u001b[1;33m)\u001b[0m\u001b[1;33m.\u001b[0m\u001b[0mrows_used_with\u001b[0m\u001b[1;33m(\u001b[0m\u001b[0mword\u001b[0m\u001b[1;33m,\u001b[0m \u001b[0mnumber_of_words\u001b[0m\u001b[1;33m)\u001b[0m\u001b[1;33m\u001b[0m\u001b[1;33m\u001b[0m\u001b[0m\n\u001b[0m\u001b[0;32m      7\u001b[0m \u001b[1;33m\u001b[0m\u001b[0m\n\u001b[0;32m      8\u001b[0m     \u001b[1;32mdef\u001b[0m \u001b[0madjectives_used_with_noun\u001b[0m\u001b[1;33m(\u001b[0m\u001b[0mself\u001b[0m\u001b[1;33m,\u001b[0m \u001b[0mword\u001b[0m\u001b[1;33m:\u001b[0m \u001b[0mstr\u001b[0m\u001b[1;33m,\u001b[0m \u001b[0mnumber_of_words\u001b[0m\u001b[1;33m:\u001b[0m \u001b[0mint\u001b[0m \u001b[1;33m=\u001b[0m \u001b[1;36m10\u001b[0m\u001b[1;33m)\u001b[0m\u001b[1;33m:\u001b[0m\u001b[1;33m\u001b[0m\u001b[1;33m\u001b[0m\u001b[0m\n",
      "\u001b[1;32m~\\Documents\\collocation-net\\collocation_net\\base_collocation_net.py\u001b[0m in \u001b[0;36mrows_used_with\u001b[1;34m(self, word, number_of_words)\u001b[0m\n\u001b[0;32m     47\u001b[0m         \u001b[0mgiven\u001b[0m \u001b[0mword\u001b[0m\u001b[1;33m.\u001b[0m\u001b[1;33m\u001b[0m\u001b[1;33m\u001b[0m\u001b[0m\n\u001b[0;32m     48\u001b[0m         \"\"\"\n\u001b[1;32m---> 49\u001b[1;33m         \u001b[0mword_index\u001b[0m \u001b[1;33m=\u001b[0m \u001b[0mself\u001b[0m\u001b[1;33m.\u001b[0m\u001b[0mcolumn_index\u001b[0m\u001b[1;33m(\u001b[0m\u001b[0mword\u001b[0m\u001b[1;33m)\u001b[0m\u001b[1;33m\u001b[0m\u001b[1;33m\u001b[0m\u001b[0m\n\u001b[0m\u001b[0;32m     50\u001b[0m \u001b[1;33m\u001b[0m\u001b[0m\n\u001b[0;32m     51\u001b[0m         \u001b[0mcolumn_topic\u001b[0m \u001b[1;33m=\u001b[0m \u001b[0mself\u001b[0m\u001b[1;33m.\u001b[0m\u001b[0mcolumn_dist\u001b[0m\u001b[1;33m[\u001b[0m\u001b[1;33m:\u001b[0m\u001b[1;33m,\u001b[0m \u001b[0mword_index\u001b[0m\u001b[1;33m]\u001b[0m\u001b[1;33m.\u001b[0m\u001b[0margmax\u001b[0m\u001b[1;33m(\u001b[0m\u001b[1;33m)\u001b[0m\u001b[1;33m\u001b[0m\u001b[1;33m\u001b[0m\u001b[0m\n",
      "\u001b[1;32m~\\Documents\\collocation-net\\collocation_net\\base_collocation_net.py\u001b[0m in \u001b[0;36mcolumn_index\u001b[1;34m(self, word)\u001b[0m\n\u001b[0;32m     40\u001b[0m             \u001b[1;32mif\u001b[0m \u001b[0madj\u001b[0m \u001b[1;33m==\u001b[0m \u001b[0mword\u001b[0m\u001b[1;33m:\u001b[0m\u001b[1;33m\u001b[0m\u001b[1;33m\u001b[0m\u001b[0m\n\u001b[0;32m     41\u001b[0m                 \u001b[1;32mreturn\u001b[0m \u001b[0mi\u001b[0m\u001b[1;33m\u001b[0m\u001b[1;33m\u001b[0m\u001b[0m\n\u001b[1;32m---> 42\u001b[1;33m         \u001b[1;32mraise\u001b[0m \u001b[0mValueError\u001b[0m\u001b[1;33m(\u001b[0m\u001b[1;34mf\"Word '{word}' not in the dataset.\"\u001b[0m\u001b[1;33m)\u001b[0m\u001b[1;33m\u001b[0m\u001b[1;33m\u001b[0m\u001b[0m\n\u001b[0m\u001b[0;32m     43\u001b[0m \u001b[1;33m\u001b[0m\u001b[0m\n\u001b[0;32m     44\u001b[0m     \u001b[1;32mdef\u001b[0m \u001b[0mrows_used_with\u001b[0m\u001b[1;33m(\u001b[0m\u001b[0mself\u001b[0m\u001b[1;33m,\u001b[0m \u001b[0mword\u001b[0m\u001b[1;33m:\u001b[0m \u001b[0mstr\u001b[0m\u001b[1;33m,\u001b[0m \u001b[0mnumber_of_words\u001b[0m\u001b[1;33m:\u001b[0m \u001b[0mint\u001b[0m \u001b[1;33m=\u001b[0m \u001b[1;36m10\u001b[0m\u001b[1;33m)\u001b[0m \u001b[1;33m->\u001b[0m \u001b[0mlist\u001b[0m\u001b[1;33m:\u001b[0m\u001b[1;33m\u001b[0m\u001b[1;33m\u001b[0m\u001b[0m\n",
      "\u001b[1;31mValueError\u001b[0m: Word 'testsõna' not in the dataset."
     ]
    }
   ],
   "source": [
    "cn.nouns_used_with_adjective(\"testsõna\")"
   ]
  },
  {
   "cell_type": "code",
   "execution_count": 8,
   "id": "b17541d6",
   "metadata": {},
   "outputs": [
    {
     "data": {
      "text/plain": [
       "['hooaeg',\n",
       " 'teisipäev',\n",
       " 'nädal',\n",
       " 'tali',\n",
       " 'õppeaasta',\n",
       " 'turustusaasta',\n",
       " 'sajand',\n",
       " 'sügis',\n",
       " 'kokkusaamine',\n",
       " 'kütteperiood']"
      ]
     },
     "execution_count": 8,
     "metadata": {},
     "output_type": "execute_result"
    }
   ],
   "source": [
    "cn.similar_nouns(\"esmaspäev\")"
   ]
  },
  {
   "cell_type": "code",
   "execution_count": 9,
   "id": "4d6cd9fc",
   "metadata": {},
   "outputs": [
    {
     "data": {
      "text/plain": [
       "['hapu',\n",
       " 'lõhnav',\n",
       " 'lilla',\n",
       " 'kuldkollane',\n",
       " 'kangendatud',\n",
       " 'kirgas',\n",
       " 'nominaalne',\n",
       " 'täidlane',\n",
       " 'pruunikas',\n",
       " 'oranzh']"
      ]
     },
     "execution_count": 9,
     "metadata": {},
     "output_type": "execute_result"
    }
   ],
   "source": [
    "cn.similar_adjectives(\"roosa\")"
   ]
  },
  {
   "cell_type": "code",
   "execution_count": 10,
   "id": "b14a4b66",
   "metadata": {},
   "outputs": [
    {
     "data": {
      "text/plain": [
       "['aasta', 'hooaeg', 'sajand', 'esmaspäev']"
      ]
     },
     "execution_count": 10,
     "metadata": {},
     "output_type": "execute_result"
    }
   ],
   "source": [
    "cn.topic(\"esmaspäev\")"
   ]
  },
  {
   "cell_type": "code",
   "execution_count": 11,
   "id": "cea6667c",
   "metadata": {},
   "outputs": [
    {
     "data": {
      "text/plain": [
       "[(0.322,\n",
       "  ['eelmine',\n",
       "   'järgmine',\n",
       "   'viimane',\n",
       "   'tulev',\n",
       "   'käesolev',\n",
       "   'uus',\n",
       "   'läinud',\n",
       "   'lõppev',\n",
       "   'terve',\n",
       "   'olnud']),\n",
       " (0.247,\n",
       "  ['järgmine',\n",
       "   'viimane',\n",
       "   'uus',\n",
       "   'eelmine',\n",
       "   'järjekordne',\n",
       "   'tänane',\n",
       "   'hea',\n",
       "   'nahaalne',\n",
       "   'eilne',\n",
       "   'tähtis']),\n",
       " (0.192,\n",
       "  ['läinud',\n",
       "   'eelmine',\n",
       "   'eelolev',\n",
       "   'tulev',\n",
       "   'järgmine',\n",
       "   'ülemöödunud',\n",
       "   'üle-eelmine',\n",
       "   'olnud',\n",
       "   'ülejärgmine',\n",
       "   'pilves']),\n",
       " (0.082,\n",
       "  ['eelmine',\n",
       "   'järgmine',\n",
       "   'viimane',\n",
       "   'terve',\n",
       "   'kogu',\n",
       "   'alanud',\n",
       "   'uus',\n",
       "   'olnud',\n",
       "   'üle-eelmine',\n",
       "   'ülejärgmine']),\n",
       " (0.02,\n",
       "  ['must',\n",
       "   'valge',\n",
       "   'uus',\n",
       "   'suur',\n",
       "   'ühesugune',\n",
       "   'vaimukas',\n",
       "   '9liitrine',\n",
       "   'olnud',\n",
       "   'hea',\n",
       "   'olev']),\n",
       " (0.02,\n",
       "  ['sinine',\n",
       "   'sisselülitatud',\n",
       "   'uus',\n",
       "   'kollane',\n",
       "   'töötav',\n",
       "   'punane',\n",
       "   'modernne',\n",
       "   'lepingueelne',\n",
       "   'lastud',\n",
       "   'maharaiutud']),\n",
       " (0.018,\n",
       "  ['tänane',\n",
       "   'kolmapäevane',\n",
       "   'homne',\n",
       "   'viimane',\n",
       "   'meelas',\n",
       "   'uus',\n",
       "   'toimuv',\n",
       "   'lõhkine',\n",
       "   'peetav',\n",
       "   'laupäevane']),\n",
       " (0.015,\n",
       "  ['järgnev',\n",
       "   'viimane',\n",
       "   'eelmine',\n",
       "   'järgmine',\n",
       "   'eelnev',\n",
       "   'kõnealune',\n",
       "   'veedetud',\n",
       "   'olnud',\n",
       "   'jooksev',\n",
       "   'loetud']),\n",
       " (0.012,\n",
       "  ['suletud',\n",
       "   'kinnine',\n",
       "   'suur',\n",
       "   'uus',\n",
       "   'steriilne',\n",
       "   'välimine',\n",
       "   'sümboliseeriv',\n",
       "   'ookeaniline',\n",
       "   'püstitatav',\n",
       "   'kontinentaalne']),\n",
       " (0.011,\n",
       "  ['terve',\n",
       "   'kaine',\n",
       "   'olnud',\n",
       "   'suur',\n",
       "   'särav',\n",
       "   'vahe',\n",
       "   'loogiline',\n",
       "   'ratsionaalne',\n",
       "   'terane',\n",
       "   'uinuv'])]"
      ]
     },
     "execution_count": 11,
     "metadata": {},
     "output_type": "execute_result"
    }
   ],
   "source": [
    "cn.characterisation(\"esmaspäev\")"
   ]
  },
  {
   "cell_type": "code",
   "execution_count": 12,
   "id": "f9655e49",
   "metadata": {},
   "outputs": [
    {
     "data": {
      "text/plain": [
       "[('kange', 0.10680824865174013), ('tugev', 7.497004354818274e-05)]"
      ]
     },
     "execution_count": 12,
     "metadata": {},
     "output_type": "execute_result"
    }
   ],
   "source": [
    "cn.predict_adjective_probabilities(\"kohv\", [\"kange\", \"tugev\"])"
   ]
  },
  {
   "cell_type": "code",
   "execution_count": 13,
   "id": "789f8dc8",
   "metadata": {},
   "outputs": [
    {
     "data": {
      "text/plain": [
       "[('kofeiinivaba', 0.20864943879101272),\n",
       " ('lahustuv', 0.19025468185819383),\n",
       " ('mittelubatu', 0.17337577992916897),\n",
       " ('maksumärgistamata', 0.16573196706353385),\n",
       " ('filoloogiline', 0.13549952499881776),\n",
       " ('enesekriitiline', 0.13462044313610583),\n",
       " ('9liitrine', 0.12902387713388305),\n",
       " ('aurav', 0.11972026115248807),\n",
       " ('must', 0.10896979291466401),\n",
       " ('kange', 0.10680824865174013)]"
      ]
     },
     "execution_count": 13,
     "metadata": {},
     "output_type": "execute_result"
    }
   ],
   "source": [
    "cn.predict_adjective_probabilities(\"kohv\")"
   ]
  },
  {
   "cell_type": "code",
   "execution_count": 14,
   "id": "6f08932d",
   "metadata": {},
   "outputs": [
    {
     "data": {
      "text/plain": [
       "[('hoone', 0.006823106727817134), ('inimene', 0.0003689164116009077)]"
      ]
     },
     "execution_count": 14,
     "metadata": {},
     "output_type": "execute_result"
    }
   ],
   "source": [
    "cn.predict_noun_probabilities(\"kõrge\", [\"inimene\", \"hoone\"])"
   ]
  },
  {
   "cell_type": "code",
   "execution_count": 15,
   "id": "e419d356",
   "metadata": {},
   "outputs": [
    {
     "data": {
      "text/plain": [
       "[('alkohol', 0.5521709825587598),\n",
       " ('sinep', 0.29174553788662405),\n",
       " ('naps', 0.1691925003184874),\n",
       " ('joogi', 0.14307327499991654),\n",
       " ('jook', 0.14120065326855283),\n",
       " ('uimasti', 0.14115953091815017),\n",
       " ('kohv', 0.1068082486517414),\n",
       " ('valuvaigisti', 0.10338865658692148),\n",
       " ('kael', 0.10038839628662441),\n",
       " ('õlu', 0.09004901047406218)]"
      ]
     },
     "execution_count": 15,
     "metadata": {},
     "output_type": "execute_result"
    }
   ],
   "source": [
    "cn.predict_noun_probabilities(\"kange\")"
   ]
  },
  {
   "cell_type": "code",
   "execution_count": 16,
   "id": "83d68d0a",
   "metadata": {},
   "outputs": [
    {
     "data": {
      "text/plain": [
       "[('kahetoaline', 0.4589713278382533),\n",
       " ('kolmetoaline', 0.4587494462879928),\n",
       " ('ühetoaline', 0.45866741919715204),\n",
       " ('neljatoaline', 0.45791468482319353),\n",
       " ('2toaline', 0.45636157569712615),\n",
       " ('3toaline', 0.4558914037036481),\n",
       " ('4toaline', 0.4538272339761194),\n",
       " ('viietoaline', 0.4532228599567853),\n",
       " ('1toaline', 0.45076830320853256),\n",
       " ('toaline', 0.4470280262587787)]"
      ]
     },
     "execution_count": 16,
     "metadata": {},
     "output_type": "execute_result"
    }
   ],
   "source": [
    "cn.predict_adjectives_for_several_nouns([\"maja\", \"korter\"])"
   ]
  },
  {
   "cell_type": "code",
   "execution_count": 17,
   "id": "e5a5897b",
   "metadata": {},
   "outputs": [
    {
     "data": {
      "text/plain": [
       "True"
      ]
     },
     "execution_count": 17,
     "metadata": {},
     "output_type": "execute_result"
    }
   ],
   "source": [
    "cn.usable_phrase(\"juuni\", \"ilus\")"
   ]
  },
  {
   "cell_type": "markdown",
   "id": "a4d575fd",
   "metadata": {},
   "source": [
    "#### Erinevate kollokatsioonide predict katsetus"
   ]
  },
  {
   "cell_type": "code",
   "execution_count": 18,
   "id": "42c6fc38",
   "metadata": {},
   "outputs": [
    {
     "data": {
      "text/plain": [
       "[('kange', 0.10680824865174013), ('tugev', 7.497004354818274e-05)]"
      ]
     },
     "execution_count": 18,
     "metadata": {},
     "output_type": "execute_result"
    }
   ],
   "source": [
    "cn.predict_adjective_probabilities(\"kohv\", [\"kange\", \"tugev\"])"
   ]
  },
  {
   "cell_type": "code",
   "execution_count": 19,
   "id": "e9a41729",
   "metadata": {},
   "outputs": [
    {
     "data": {
      "text/plain": [
       "[('pime', 0.20448211716664677), ('tume', 0.0032654356476160456)]"
      ]
     },
     "execution_count": 19,
     "metadata": {},
     "output_type": "execute_result"
    }
   ],
   "source": [
    "cn.predict_adjective_probabilities(\"aeg\", [\"pime\", \"tume\"])"
   ]
  },
  {
   "cell_type": "code",
   "execution_count": 20,
   "id": "95c5d1ec",
   "metadata": {},
   "outputs": [
    {
     "data": {
      "text/plain": [
       "[('inimene', 0.0015642000226769248), ('maja', 0.0005178189989328282)]"
      ]
     },
     "execution_count": 20,
     "metadata": {},
     "output_type": "execute_result"
    }
   ],
   "source": [
    "cn.predict_noun_probabilities(\"pikk\", [\"inimene\", \"maja\"])"
   ]
  },
  {
   "cell_type": "code",
   "execution_count": 21,
   "id": "c06f652e",
   "metadata": {},
   "outputs": [
    {
     "data": {
      "text/plain": [
       "[('maja', 0.002588186073131099), ('inimene', 0.0003689164116009077)]"
      ]
     },
     "execution_count": 21,
     "metadata": {},
     "output_type": "execute_result"
    }
   ],
   "source": [
    "cn.predict_noun_probabilities(\"kõrge\", [\"inimene\", \"maja\"])"
   ]
  },
  {
   "cell_type": "code",
   "execution_count": 22,
   "id": "edc100ab",
   "metadata": {},
   "outputs": [
    {
     "data": {
      "text/plain": [
       "[('must', 0.1718003894330074), ('valge', 0.03415380545603598)]"
      ]
     },
     "execution_count": 22,
     "metadata": {},
     "output_type": "execute_result"
    }
   ],
   "source": [
    "cn.predict_adjective_probabilities(\"leib\", [\"must\", \"valge\"])"
   ]
  },
  {
   "cell_type": "code",
   "execution_count": 24,
   "id": "01420176",
   "metadata": {},
   "outputs": [
    {
     "data": {
      "text/plain": [
       "[('vali', 0.05413442342947116),\n",
       " ('tugev', 0.016872810252320933),\n",
       " ('kõva', 0.008430963801411367)]"
      ]
     },
     "execution_count": 24,
     "metadata": {},
     "output_type": "execute_result"
    }
   ],
   "source": [
    "cn.predict_adjective_probabilities(\"heli\", [\"kõva\", \"vali\", \"tugev\"])"
   ]
  },
  {
   "cell_type": "markdown",
   "id": "0833294a",
   "metadata": {},
   "source": [
    "### Subject-Verb CollocationNet"
   ]
  },
  {
   "cell_type": "code",
   "execution_count": 2,
   "id": "7736c25c",
   "metadata": {},
   "outputs": [],
   "source": [
    "from subject_verb_collocation_net import SubjectVerbCollocationNet"
   ]
  },
  {
   "cell_type": "code",
   "execution_count": 3,
   "id": "507cf7f8",
   "metadata": {},
   "outputs": [],
   "source": [
    "sv_cn = SubjectVerbCollocationNet()"
   ]
  },
  {
   "cell_type": "code",
   "execution_count": 4,
   "id": "1476c1bf",
   "metadata": {},
   "outputs": [
    {
     "data": {
      "text/plain": [
       "['aim',\n",
       " 'tegu',\n",
       " 'tegemine',\n",
       " 'ainus',\n",
       " 'point',\n",
       " 'kokkupuude',\n",
       " 'meel',\n",
       " 'seostamine',\n",
       " 'voli',\n",
       " 'tuumarelv']"
      ]
     },
     "execution_count": 4,
     "metadata": {},
     "output_type": "execute_result"
    }
   ],
   "source": [
    "sv_cn.subjects_used_with_verb(\"olema\")"
   ]
  },
  {
   "cell_type": "code",
   "execution_count": 5,
   "id": "d99c9b1b",
   "metadata": {},
   "outputs": [
    {
     "data": {
      "text/plain": [
       "['olema',\n",
       " 'saama',\n",
       " 'vihkama',\n",
       " 'saavutama',\n",
       " 'teadma',\n",
       " 'peatuma',\n",
       " 'lahendama',\n",
       " 'ütlema',\n",
       " 'eitama',\n",
       " 'tegema']"
      ]
     },
     "execution_count": 5,
     "metadata": {},
     "output_type": "execute_result"
    }
   ],
   "source": [
    "sv_cn.verbs_used_with_subject(\"mina\")"
   ]
  },
  {
   "cell_type": "code",
   "execution_count": 6,
   "id": "b147a298",
   "metadata": {},
   "outputs": [
    {
     "data": {
      "text/plain": [
       "['poiss',\n",
       " 'tütarlaps',\n",
       " 'tüdruk',\n",
       " 'neiu',\n",
       " 'kana',\n",
       " 'lind',\n",
       " 'daam',\n",
       " 'laps',\n",
       " 'mõni',\n",
       " 'vanaema']"
      ]
     },
     "execution_count": 6,
     "metadata": {},
     "output_type": "execute_result"
    }
   ],
   "source": [
    "sv_cn.similar_subjects(\"naine\")"
   ]
  },
  {
   "cell_type": "code",
   "execution_count": 7,
   "id": "10b535b0",
   "metadata": {},
   "outputs": [
    {
     "data": {
      "text/plain": [
       "['neid',\n",
       " 'õppejõud',\n",
       " 'muusik',\n",
       " 'madonna',\n",
       " 'ohvitser',\n",
       " 'kaunitar',\n",
       " 'rühm',\n",
       " 'varblane',\n",
       " 'looja',\n",
       " 'tädi']"
      ]
     },
     "execution_count": 7,
     "metadata": {},
     "output_type": "execute_result"
    }
   ],
   "source": [
    "sv_cn.similar_subjects_for_several([\"laulja\", \"tantsija\"])"
   ]
  },
  {
   "cell_type": "code",
   "execution_count": 8,
   "id": "180a9acb",
   "metadata": {},
   "outputs": [
    {
     "data": {
      "text/plain": [
       "['põdema',\n",
       " 'jaksama',\n",
       " 'unistama',\n",
       " 'armuma',\n",
       " 'pistma',\n",
       " 'häbenema',\n",
       " 'hoolima',\n",
       " 'igatsema',\n",
       " 'vahtima',\n",
       " 'harrastama']"
      ]
     },
     "execution_count": 8,
     "metadata": {},
     "output_type": "execute_result"
    }
   ],
   "source": [
    "sv_cn.similar_verbs(\"laulma\")"
   ]
  },
  {
   "cell_type": "code",
   "execution_count": 9,
   "id": "8e4b8c18",
   "metadata": {},
   "outputs": [
    {
     "data": {
      "text/plain": [
       "['häbenema',\n",
       " 'armuma',\n",
       " 'igatsema',\n",
       " 'harrastama',\n",
       " 'vahtima',\n",
       " 'pistma',\n",
       " 'toppima',\n",
       " 'munema',\n",
       " 'põdema',\n",
       " 'solvuma']"
      ]
     },
     "execution_count": 9,
     "metadata": {},
     "output_type": "execute_result"
    }
   ],
   "source": [
    "sv_cn.similar_verbs_for_several([\"laulma\", \"tantsima\"])"
   ]
  },
  {
   "cell_type": "code",
   "execution_count": 10,
   "id": "4091c4ce",
   "metadata": {},
   "outputs": [
    {
     "name": "stdout",
     "output_type": "stream",
     "text": [
      "(550,) (550, 2370)\n"
     ]
    },
    {
     "data": {
      "text/plain": [
       "[('laulma', 0.07372043088277534), ('tantsima', 0.0621771636300363)]"
      ]
     },
     "execution_count": 10,
     "metadata": {},
     "output_type": "execute_result"
    }
   ],
   "source": [
    "sv_cn.predict_verb_probabilities(\"lind\", [\"laulma\", \"tantsima\"])"
   ]
  },
  {
   "cell_type": "code",
   "execution_count": 11,
   "id": "4de8377a",
   "metadata": {},
   "outputs": [
    {
     "data": {
      "text/plain": [
       "[('lind', 0.07372043088277659), ('loom', 0.007794484969839023)]"
      ]
     },
     "execution_count": 11,
     "metadata": {},
     "output_type": "execute_result"
    }
   ],
   "source": [
    "sv_cn.predict_subject_probabilities(\"laulma\", [\"lind\", \"loom\"])"
   ]
  },
  {
   "cell_type": "code",
   "execution_count": 12,
   "id": "b9cba006",
   "metadata": {},
   "outputs": [
    {
     "data": {
      "text/plain": [
       "[('sagima', 0.1515026349069275),\n",
       " ('haigestuma', 0.13823088974486422),\n",
       " ('nakatuma', 0.12251634498089081),\n",
       " ('siristama', 0.12012852838337838),\n",
       " ('põlvnema', 0.11995337645034425),\n",
       " ('rasestuma', 0.11444405166655126),\n",
       " ('nälgima', 0.11111105267132426),\n",
       " ('hirmuma', 0.10820010607151727),\n",
       " ('võõrduma', 0.10663116696131913),\n",
       " ('sädistama', 0.1050640796711572)]"
      ]
     },
     "execution_count": 12,
     "metadata": {},
     "output_type": "execute_result"
    }
   ],
   "source": [
    "sv_cn.predict_verb_for_several_subjects([\"inimene\", \"loom\", \"lind\"])"
   ]
  },
  {
   "cell_type": "code",
   "execution_count": 13,
   "id": "614aae5f",
   "metadata": {},
   "outputs": [
    {
     "data": {
      "text/plain": [
       "[(['olema',\n",
       "   'saama',\n",
       "   'vihkama',\n",
       "   'saavutama',\n",
       "   'teadma',\n",
       "   'peatuma',\n",
       "   'lahendama',\n",
       "   'ütlema',\n",
       "   'eitama',\n",
       "   'tegema'],\n",
       "  0.1826718270414643),\n",
       " (['olema',\n",
       "   'saama',\n",
       "   'tegema',\n",
       "   'tahtma',\n",
       "   'hakkama',\n",
       "   'suutma',\n",
       "   'jääma',\n",
       "   'tundma',\n",
       "   'oskama',\n",
       "   'minema'],\n",
       "  0.1679257182317944),\n",
       " (['mõtlema',\n",
       "   'tundma',\n",
       "   'võtma',\n",
       "   'panema',\n",
       "   'oskama',\n",
       "   'vaatama',\n",
       "   'leidma',\n",
       "   'pidama',\n",
       "   'hakkama',\n",
       "   'elama'],\n",
       "  0.1671196538931078),\n",
       " (['mõtlema',\n",
       "   'võtma',\n",
       "   'pidama',\n",
       "   'oskama',\n",
       "   'suutma',\n",
       "   'vaatama',\n",
       "   'hakkama',\n",
       "   'uskuma',\n",
       "   'panema',\n",
       "   'leidma'],\n",
       "  0.15998708418068006),\n",
       " (['olema',\n",
       "   'tegema',\n",
       "   'lisama',\n",
       "   'tahtma',\n",
       "   'saama',\n",
       "   'teadma',\n",
       "   'suutma',\n",
       "   'ütlema',\n",
       "   'nägema',\n",
       "   'võtma'],\n",
       "  0.06077577013122299),\n",
       " (['olema',\n",
       "   'saama',\n",
       "   'tegema',\n",
       "   'ütlema',\n",
       "   'tahtma',\n",
       "   'lisama',\n",
       "   'minema',\n",
       "   'tulema',\n",
       "   'jääma',\n",
       "   'võtma'],\n",
       "  0.030320671566405295),\n",
       " (['olema',\n",
       "   'saama',\n",
       "   'ütlema',\n",
       "   'tegema',\n",
       "   'tulema',\n",
       "   'minema',\n",
       "   'rääkima',\n",
       "   'võtma',\n",
       "   'hakkama',\n",
       "   'tahtma'],\n",
       "  0.014078506374484557),\n",
       " (['olema',\n",
       "   'saama',\n",
       "   'tulema',\n",
       "   'jääma',\n",
       "   'tegema',\n",
       "   'minema',\n",
       "   'tahtma',\n",
       "   'ütlema',\n",
       "   'käima',\n",
       "   'hakkama'],\n",
       "  0.013609174487450673),\n",
       " (['olema',\n",
       "   'jääma',\n",
       "   'tulema',\n",
       "   'saama',\n",
       "   'minema',\n",
       "   'muutuma',\n",
       "   'hakkama',\n",
       "   'tunduma',\n",
       "   'tegema',\n",
       "   'andma'],\n",
       "  0.010820098897846263),\n",
       " (['olema',\n",
       "   'tegema',\n",
       "   'tahtma',\n",
       "   'saama',\n",
       "   'suutma',\n",
       "   'teadma',\n",
       "   'soovima',\n",
       "   'hakkama',\n",
       "   'võtma',\n",
       "   'pidama'],\n",
       "  0.007775940731716558)]"
      ]
     },
     "execution_count": 13,
     "metadata": {},
     "output_type": "execute_result"
    }
   ],
   "source": [
    "sv_cn.predict_topic_for_several_subjects([\"mina\", \"sina\", \"tema\"])"
   ]
  },
  {
   "cell_type": "markdown",
   "id": "96251e59",
   "metadata": {},
   "source": [
    "### Verb-Object CollocationNet"
   ]
  },
  {
   "cell_type": "code",
   "execution_count": 14,
   "id": "b944a61f",
   "metadata": {},
   "outputs": [],
   "source": [
    "from verb_object_collocation_net import VerbObjectCollocationNet"
   ]
  },
  {
   "cell_type": "code",
   "execution_count": 15,
   "id": "aab2e564",
   "metadata": {},
   "outputs": [],
   "source": [
    "vo_cn = VerbObjectCollocationNet()"
   ]
  },
  {
   "cell_type": "code",
   "execution_count": 16,
   "id": "c188b1f6",
   "metadata": {},
   "outputs": [
    {
     "data": {
      "text/plain": [
       "['rämpstoit',\n",
       " 'lõuna',\n",
       " 'pizza',\n",
       " 'taimetoit',\n",
       " 'hamburger',\n",
       " 'krõps',\n",
       " 'silk',\n",
       " 'seapraad',\n",
       " 'kartulisalat',\n",
       " 'kalamari']"
      ]
     },
     "execution_count": 16,
     "metadata": {},
     "output_type": "execute_result"
    }
   ],
   "source": [
    "vo_cn.objects_used_with_verb(\"sööma\")"
   ]
  },
  {
   "cell_type": "code",
   "execution_count": 17,
   "id": "45ca916d",
   "metadata": {},
   "outputs": [
    {
     "data": {
      "text/plain": [
       "['tegema',\n",
       " 'ütlema',\n",
       " 'teadma',\n",
       " 'võtma',\n",
       " 'pidama',\n",
       " 'nägema',\n",
       " 'nimetama',\n",
       " 'näitama',\n",
       " 'saama',\n",
       " 'kasutama']"
      ]
     },
     "execution_count": 17,
     "metadata": {},
     "output_type": "execute_result"
    }
   ],
   "source": [
    "vo_cn.verbs_used_with_object(\"see\")"
   ]
  },
  {
   "cell_type": "code",
   "execution_count": 18,
   "id": "3be70b8b",
   "metadata": {},
   "outputs": [
    {
     "data": {
      "text/plain": [
       "['šokolaad',\n",
       " 'toit',\n",
       " 'jogurt',\n",
       " 'loomaliha',\n",
       " 'banaan',\n",
       " 'kama',\n",
       " 'sai',\n",
       " 'kohupiim',\n",
       " 'küpsis',\n",
       " 'konserv']"
      ]
     },
     "execution_count": 18,
     "metadata": {},
     "output_type": "execute_result"
    }
   ],
   "source": [
    "vo_cn.similar_objects(\"jäätis\")"
   ]
  },
  {
   "cell_type": "code",
   "execution_count": 19,
   "id": "e4fb8ed2",
   "metadata": {},
   "outputs": [
    {
     "data": {
      "text/plain": [
       "['õun',\n",
       " 'pasta',\n",
       " 'viiner',\n",
       " 'vorst',\n",
       " 'kanamuna',\n",
       " 'taldrik',\n",
       " 'juust',\n",
       " 'küpsis',\n",
       " 'pelmeen',\n",
       " 'rohi']"
      ]
     },
     "execution_count": 19,
     "metadata": {},
     "output_type": "execute_result"
    }
   ],
   "source": [
    "vo_cn.similar_objects_for_several([\"jäätis\", \"kartul\"])"
   ]
  },
  {
   "cell_type": "code",
   "execution_count": 20,
   "id": "2e0db445",
   "metadata": {},
   "outputs": [
    {
     "data": {
      "text/plain": [
       "['serveerima',\n",
       " 'praadima',\n",
       " 'helpima',\n",
       " 'soojendama',\n",
       " 'mugima',\n",
       " 'küpsema',\n",
       " 'vaaritama',\n",
       " 'õgima',\n",
       " 'vitsutama',\n",
       " 'küpsetama']"
      ]
     },
     "execution_count": 20,
     "metadata": {},
     "output_type": "execute_result"
    }
   ],
   "source": [
    "vo_cn.similar_verbs(\"sööma\")"
   ]
  },
  {
   "cell_type": "code",
   "execution_count": 24,
   "id": "bedf2ad1",
   "metadata": {},
   "outputs": [
    {
     "data": {
      "text/plain": [
       "['suutma',\n",
       " 'nähtuma',\n",
       " 'salgama',\n",
       " 'väitma',\n",
       " 'olema',\n",
       " 'kavatsema',\n",
       " 'häbenema',\n",
       " 'liigitama',\n",
       " 'järeldama',\n",
       " 'serveerima']"
      ]
     },
     "execution_count": 24,
     "metadata": {},
     "output_type": "execute_result"
    }
   ],
   "source": [
    "vo_cn.similar_verbs_for_several([\"nägema\", \"kuulma\"])"
   ]
  },
  {
   "cell_type": "code",
   "execution_count": 25,
   "id": "12704ec1",
   "metadata": {},
   "outputs": [
    {
     "data": {
      "text/plain": [
       "[('sööma', 0.2202940232919158), ('praadima', 0.04230203163700872)]"
      ]
     },
     "execution_count": 25,
     "metadata": {},
     "output_type": "execute_result"
    }
   ],
   "source": [
    "vo_cn.predict_verb_probabilities(\"jäätis\", [\"sööma\", \"praadima\"])"
   ]
  },
  {
   "cell_type": "code",
   "execution_count": 26,
   "id": "e61df6f0",
   "metadata": {},
   "outputs": [
    {
     "data": {
      "text/plain": [
       "[('hommikusöök', 0.24568443038807602), ('taldrik', 0.0660365346206374)]"
      ]
     },
     "execution_count": 26,
     "metadata": {},
     "output_type": "execute_result"
    }
   ],
   "source": [
    "vo_cn.predict_object_probabilities(\"sööma\", [\"hommikusöök\", \"taldrik\"])"
   ]
  },
  {
   "cell_type": "code",
   "execution_count": 29,
   "id": "b2fd9ccb",
   "metadata": {},
   "outputs": [
    {
     "data": {
      "text/plain": [
       "[('vestma', 0.10011678408798284),\n",
       " ('ajama', 0.05892821616952318),\n",
       " ('listima', 0.05217827088365395),\n",
       " ('kuulma', 0.047764017693673846),\n",
       " ('rääkima', 0.04448208855413636),\n",
       " ('liialdama', 0.043896176354103235),\n",
       " ('tekitama', 0.038353352808269736),\n",
       " ('puhuma', 0.02331663878123998),\n",
       " ('kuulama', 0.02248878721681455),\n",
       " ('nämmutama', 0.01943673664269251)]"
      ]
     },
     "execution_count": 29,
     "metadata": {},
     "output_type": "execute_result"
    }
   ],
   "source": [
    "vo_cn.predict_verb_for_several_objects([\"heli\", \"jutt\"])"
   ]
  },
  {
   "cell_type": "code",
   "execution_count": 30,
   "id": "eb50a6c7",
   "metadata": {},
   "outputs": [
    {
     "data": {
      "text/plain": [
       "[(['tegema',\n",
       "   'vaatama',\n",
       "   'näitama',\n",
       "   'nägema',\n",
       "   'väntama',\n",
       "   'saama',\n",
       "   'võtma',\n",
       "   'tooma',\n",
       "   'näima',\n",
       "   'valima'],\n",
       "  0.2498918642432175),\n",
       " (['laulma',\n",
       "   'kirjutama',\n",
       "   'tegema',\n",
       "   'esitama',\n",
       "   'valima',\n",
       "   'looma',\n",
       "   'kuulma',\n",
       "   'teadma',\n",
       "   'salvestama',\n",
       "   'hindama'],\n",
       "  0.18655617758978602),\n",
       " (['esitama',\n",
       "   'võtma',\n",
       "   'andma',\n",
       "   'saama',\n",
       "   'arutama',\n",
       "   'saatma',\n",
       "   'lükkama',\n",
       "   'tegema',\n",
       "   'nimetama',\n",
       "   'kirjutama'],\n",
       "  0.06673915312132217),\n",
       " (['lööma',\n",
       "   'looma',\n",
       "   'viskama',\n",
       "   'tegema',\n",
       "   'saama',\n",
       "   'tooma',\n",
       "   'hoidma',\n",
       "   'põrutama',\n",
       "   'ohustama',\n",
       "   'nägema'],\n",
       "  0.060232930810230456),\n",
       " (['laulma',\n",
       "   'esitama',\n",
       "   'tegema',\n",
       "   'mängima',\n",
       "   'võtma',\n",
       "   'kirjutama',\n",
       "   'kuulama',\n",
       "   'kuulma',\n",
       "   'saama',\n",
       "   'teadma'],\n",
       "  0.04429848784056647),\n",
       " (['tantsima',\n",
       "   'keerutama',\n",
       "   'tegema',\n",
       "   'näitama',\n",
       "   'esitama',\n",
       "   'nägema',\n",
       "   'panema',\n",
       "   'mängima',\n",
       "   'tooma',\n",
       "   'vaatama'],\n",
       "  0.04277943595368191),\n",
       " (['õppima',\n",
       "   'õpetama',\n",
       "   'tegema',\n",
       "   'võtma',\n",
       "   'tudeerima',\n",
       "   'pidama',\n",
       "   'saama',\n",
       "   'valima',\n",
       "   'tundma',\n",
       "   'teadma'],\n",
       "  0.03406134620279792),\n",
       " (['sõlmima',\n",
       "   'allkirjastama',\n",
       "   'kirjutama',\n",
       "   'tegema',\n",
       "   'ratifitseerima',\n",
       "   'kiitma',\n",
       "   'vihtuma',\n",
       "   'pikendama',\n",
       "   'parafeerima',\n",
       "   'saama'],\n",
       "  0.02576143204364305),\n",
       " (['tegema',\n",
       "   'saatma',\n",
       "   'saama',\n",
       "   'panema',\n",
       "   'võtma',\n",
       "   'nägema',\n",
       "   'ootama',\n",
       "   'andma',\n",
       "   'vaatama',\n",
       "   'tooma'],\n",
       "  0.01604112742950418),\n",
       " (['kirjutama',\n",
       "   'tegema',\n",
       "   'lugema',\n",
       "   'saama',\n",
       "   'panema',\n",
       "   'võtma',\n",
       "   'pidama',\n",
       "   'tooma',\n",
       "   'saatma',\n",
       "   'andma'],\n",
       "  0.015251240308897199)]"
      ]
     },
     "execution_count": 30,
     "metadata": {},
     "output_type": "execute_result"
    }
   ],
   "source": [
    "vo_cn.predict_topic_for_several_objects([\"laul\", \"film\", \"tants\"])"
   ]
  }
 ],
 "metadata": {
  "kernelspec": {
   "display_name": "Python 3",
   "language": "python",
   "name": "python3"
  },
  "language_info": {
   "codemirror_mode": {
    "name": "ipython",
    "version": 3
   },
   "file_extension": ".py",
   "mimetype": "text/x-python",
   "name": "python",
   "nbconvert_exporter": "python",
   "pygments_lexer": "ipython3",
   "version": "3.6.13"
  }
 },
 "nbformat": 4,
 "nbformat_minor": 5
}
