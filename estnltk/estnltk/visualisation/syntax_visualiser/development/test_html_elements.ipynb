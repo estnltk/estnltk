{
 "cells": [
  {
   "cell_type": "code",
   "execution_count": 1,
   "metadata": {},
   "outputs": [],
   "source": [
    "from IPython.display import display_html\n",
    "from estnltk.visualisation.core import format_tag_attributes \n",
    "from estnltk.visualisation.core import header_cell,value_cell, dropdown_cell\n",
    "from collections import OrderedDict"
   ]
  },
  {
   "cell_type": "markdown",
   "metadata": {},
   "source": [
    "## Tests for format_tag_attributes "
   ]
  },
  {
   "cell_type": "code",
   "execution_count": 2,
   "metadata": {},
   "outputs": [
    {
     "name": "stdout",
     "output_type": "stream",
     "text": [
      "\n",
      "id=\"6\"\n",
      "id=\"6\" class=\"syntax_choice\"\n",
      "id=\"6\" class=\"<td>\"\n"
     ]
    }
   ],
   "source": [
    "print(format_tag_attributes({}))\n",
    "print(format_tag_attributes({'id':6}))\n",
    "print(format_tag_attributes({'id':6, 'class': 'syntax_choice'}))\n",
    "print(format_tag_attributes({'id':6, 'class': '<td>'}))"
   ]
  },
  {
   "cell_type": "markdown",
   "metadata": {},
   "source": [
    "## Test header_cell"
   ]
  },
  {
   "cell_type": "code",
   "execution_count": 9,
   "metadata": {},
   "outputs": [
    {
     "name": "stdout",
     "output_type": "stream",
     "text": [
      "<th>boo</th>\n",
      "<th>&lt;/th&gt;</th>\n"
     ]
    }
   ],
   "source": [
    "print(header_cell(\"boo\"))\n",
    "print(header_cell(\"</th>\"))"
   ]
  },
  {
   "cell_type": "markdown",
   "metadata": {},
   "source": [
    "## Test value_cell"
   ]
  },
  {
   "cell_type": "code",
   "execution_count": 10,
   "metadata": {},
   "outputs": [
    {
     "name": "stdout",
     "output_type": "stream",
     "text": [
      "<td></td>\n",
      "<td>abd</td>\n",
      "<td>0.5</td>\n",
      "<td>1 2 4</td>\n",
      "<td>a b c</td>\n",
      "<td>indic pres ps3 sg</td>\n",
      "<td>&lt;td&gt;</td>\n"
     ]
    }
   ],
   "source": [
    "print(value_cell(None))\n",
    "print(value_cell('abd'))\n",
    "print(value_cell(1/2))\n",
    "print(value_cell([1,2,4]))\n",
    "print(value_cell(['a', 'b', 'c']))\n",
    "print(value_cell(OrderedDict([('indic', ''), ('pres', ''), ('ps3', ''), ('sg', '')])))\n",
    "print(value_cell(\"<td>\"))"
   ]
  },
  {
   "cell_type": "markdown",
   "metadata": {},
   "source": [
    "## Test dropdown_cell"
   ]
  },
  {
   "cell_type": "code",
   "execution_count": 11,
   "metadata": {},
   "outputs": [
    {
     "ename": "ValueError",
     "evalue": "values list cannot be empty",
     "output_type": "error",
     "traceback": [
      "\u001b[0;31m---------------------------------------------------------------------------\u001b[0m",
      "\u001b[0;31mValueError\u001b[0m                                Traceback (most recent call last)",
      "\u001b[0;32m<ipython-input-11-6709423937b4>\u001b[0m in \u001b[0;36m<module>\u001b[0;34m\u001b[0m\n\u001b[0;32m----> 1\u001b[0;31m \u001b[0mprint\u001b[0m\u001b[0;34m(\u001b[0m\u001b[0;34m\"\"\u001b[0m\u001b[0;34m.\u001b[0m\u001b[0mjoin\u001b[0m\u001b[0;34m(\u001b[0m\u001b[0mdropdown_cell\u001b[0m\u001b[0;34m(\u001b[0m\u001b[0;34m[\u001b[0m\u001b[0;34m]\u001b[0m\u001b[0;34m)\u001b[0m\u001b[0;34m)\u001b[0m\u001b[0;34m)\u001b[0m\u001b[0;34m\u001b[0m\u001b[0;34m\u001b[0m\u001b[0m\n\u001b[0m",
      "\u001b[0;32m~/Documents/GIT/estnltk/estnltk/visualisation/core/html_elements.py\u001b[0m in \u001b[0;36mdropdown_cell\u001b[0;34m(values, default_choice, select_tag_attributes)\u001b[0m\n\u001b[1;32m     48\u001b[0m \u001b[0;34m\u001b[0m\u001b[0m\n\u001b[1;32m     49\u001b[0m     \u001b[0;32mif\u001b[0m \u001b[0;32mnot\u001b[0m \u001b[0mvalues\u001b[0m\u001b[0;34m:\u001b[0m\u001b[0;34m\u001b[0m\u001b[0;34m\u001b[0m\u001b[0m\n\u001b[0;32m---> 50\u001b[0;31m         \u001b[0;32mraise\u001b[0m \u001b[0mValueError\u001b[0m\u001b[0;34m(\u001b[0m\u001b[0;34m'values list cannot be empty'\u001b[0m\u001b[0;34m)\u001b[0m\u001b[0;34m\u001b[0m\u001b[0;34m\u001b[0m\u001b[0m\n\u001b[0m\u001b[1;32m     51\u001b[0m \u001b[0;34m\u001b[0m\u001b[0m\n\u001b[1;32m     52\u001b[0m     \u001b[0;32mif\u001b[0m \u001b[0mselect_tag_attributes\u001b[0m\u001b[0;34m:\u001b[0m\u001b[0;34m\u001b[0m\u001b[0;34m\u001b[0m\u001b[0m\n",
      "\u001b[0;31mValueError\u001b[0m: values list cannot be empty"
     ]
    }
   ],
   "source": [
    "print(\"\".join(dropdown_cell([])))"
   ]
  },
  {
   "cell_type": "code",
   "execution_count": 12,
   "metadata": {},
   "outputs": [
    {
     "name": "stdout",
     "output_type": "stream",
     "text": [
      "<td>\n",
      "<select>\n",
      "<option value=\"1\">a</option>\n",
      "<option value=\"2\">b</option>\n",
      "<option value=\"3\">c</option>\n",
      "</select>\n",
      "</td>\n",
      "<td>\n",
      "<select>\n",
      "<option value=\"2\">b</option>\n",
      "<option value=\"1\">a</option>\n",
      "<option value=\"3\">c</option>\n",
      "</select>\n",
      "</td>\n",
      "<td>\n",
      "<select>\n",
      "<option value=\"3\">c</option>\n",
      "<option value=\"1\">a</option>\n",
      "<option value=\"2\">b</option>\n",
      "</select>\n",
      "</td>\n",
      "<td>\n",
      "<select>\n",
      "<option value=\"1\">a</option>\n",
      "<option value=\"2\">b</option>\n",
      "<option value=\"3\">c</option>\n",
      "</select>\n",
      "</td>\n"
     ]
    }
   ],
   "source": [
    "values = [(1, 'a'), (2, 'b'), (3, 'c')]\n",
    "print(\"\".join(dropdown_cell(values)))\n",
    "print(\"\".join(dropdown_cell(values, 1)))\n",
    "print(\"\".join(dropdown_cell(values, 2)))\n",
    "print(\"\".join(dropdown_cell(values, 3)))"
   ]
  },
  {
   "cell_type": "code",
   "execution_count": 13,
   "metadata": {},
   "outputs": [
    {
     "name": "stdout",
     "output_type": "stream",
     "text": [
      "<td>\n",
      "<select>\n",
      "<option value=\"1\">&lt;/option&gt;</option>\n",
      "</select>\n",
      "</td>\n"
     ]
    }
   ],
   "source": [
    "print(\"\".join(dropdown_cell([(1, '</option>')])))"
   ]
  },
  {
   "cell_type": "code",
   "execution_count": 14,
   "metadata": {},
   "outputs": [
    {
     "name": "stdout",
     "output_type": "stream",
     "text": [
      "<td>\n",
      "<select class=\"syntax_choice\">\n",
      "<option value=\"1\">a</option>\n",
      "<option value=\"2\">b</option>\n",
      "<option value=\"3\">c</option>\n",
      "</select>\n",
      "</td>\n",
      "<td>\n",
      "<select class=\"syntax_choice\" id=\"5\">\n",
      "<option value=\"1\">a</option>\n",
      "<option value=\"2\">b</option>\n",
      "<option value=\"3\">c</option>\n",
      "</select>\n",
      "</td>\n"
     ]
    }
   ],
   "source": [
    "print(\"\".join(dropdown_cell(values, 0, 'class=\"syntax_choice\"')))\n",
    "print(\"\".join(dropdown_cell(values, 0, 'class=\"syntax_choice\" id=\"5\"')))\n"
   ]
  },
  {
   "cell_type": "code",
   "execution_count": 15,
   "metadata": {},
   "outputs": [
    {
     "data": {
      "text/html": [
       "<table><tr>\n",
       "<td>\n",
       "<select class=\"syntax_choice\" id=\"5\">\n",
       "<option value=\"3\">c</option>\n",
       "<option value=\"1\">a</option>\n",
       "<option value=\"2\">b</option>\n",
       "</select>\n",
       "</td>\n",
       "</tr></table>"
      ]
     },
     "metadata": {},
     "output_type": "display_data"
    }
   ],
   "source": [
    "display_html(\n",
    "    \"<table><tr>\\n\" + \"\".join(dropdown_cell(values, 2, 'class=\"syntax_choice\" id=\"5\"')) + \"\\n</tr></table>\", raw=True)"
   ]
  },
  {
   "cell_type": "code",
   "execution_count": null,
   "metadata": {},
   "outputs": [],
   "source": []
  }
 ],
 "metadata": {
  "kernelspec": {
   "display_name": "Python 3",
   "language": "python",
   "name": "python3"
  },
  "language_info": {
   "codemirror_mode": {
    "name": "ipython",
    "version": 3
   },
   "file_extension": ".py",
   "mimetype": "text/x-python",
   "name": "python",
   "nbconvert_exporter": "python",
   "pygments_lexer": "ipython3",
   "version": "3.6.9"
  }
 },
 "nbformat": 4,
 "nbformat_minor": 2
}
