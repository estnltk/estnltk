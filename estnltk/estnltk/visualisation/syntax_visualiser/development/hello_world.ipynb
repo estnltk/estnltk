{
 "cells": [
  {
   "cell_type": "markdown",
   "metadata": {},
   "source": [
    "## Syntax visualisation"
   ]
  },
  {
   "cell_type": "code",
   "execution_count": null,
   "metadata": {},
   "outputs": [],
   "source": [
    "%config IPCompleter.greedy=True"
   ]
  },
  {
   "cell_type": "code",
   "execution_count": null,
   "metadata": {},
   "outputs": [],
   "source": [
    "import estnltk"
   ]
  },
  {
   "cell_type": "code",
   "execution_count": null,
   "metadata": {},
   "outputs": [],
   "source": [
    "from estnltk.converters.conll_importer import conll_to_text"
   ]
  },
  {
   "cell_type": "code",
   "execution_count": null,
   "metadata": {},
   "outputs": [],
   "source": [
    "text = conll_to_text(file='data/test_gold.conll', syntax_layer='test')"
   ]
  },
  {
   "cell_type": "code",
   "execution_count": null,
   "metadata": {},
   "outputs": [],
   "source": [
    "from syntax_visualiser import SyntaxVisualiser"
   ]
  },
  {
   "cell_type": "markdown",
   "metadata": {},
   "source": [
    "When the following code is first run, no cell in the table has focus. Clicking on a cell changes focus to that cell. Once a cell has focus, the table itself can be moved in by arrow keys, however the 'save', 'previous' and 'next' buttons cannot be accessed by arrow keys and must be clicked on. \n",
    "\n",
    "Dropdowns can be opened by pressing 'Enter', the same applies to choosing an option from it. Once an option is chosen and the dropdown closes, pressing either 'Shift' key leaves the dropdown.\n",
    "\n",
    "The save function isn't fully implemented yet, but once it is, clicking on the save button creates a new layer with the selected values."
   ]
  },
  {
   "cell_type": "code",
   "execution_count": null,
   "metadata": {
    "scrolled": true
   },
   "outputs": [],
   "source": [
    "display = SyntaxVisualiser()\n",
    "display.attributes = [\"id\", \"text\", \"lemma\", \"upostag\", \"xpostag\", \"feats\", \"head\", \"deprel\"]\n",
    "display(layers=[text.test],text=text)"
   ]
  },
  {
   "cell_type": "code",
   "execution_count": null,
   "metadata": {},
   "outputs": [],
   "source": [
    "#\n"
   ]
  },
  {
   "cell_type": "code",
   "execution_count": null,
   "metadata": {},
   "outputs": [],
   "source": [
    "\n"
   ]
  },
  {
   "cell_type": "code",
   "execution_count": null,
   "metadata": {},
   "outputs": [],
   "source": [
    "text = conll_to_text(file='data/test_gold_short.conll', syntax_layer='test')\n",
    "text\n",
    "\n"
   ]
  },
  {
   "cell_type": "code",
   "execution_count": null,
   "metadata": {},
   "outputs": [],
   "source": [
    "print(display.table_creation(layers=[text.test], attributes=display.attributes, text=text))\n",
    "\n"
   ]
  },
  {
   "cell_type": "code",
   "execution_count": null,
   "metadata": {},
   "outputs": [],
   "source": [
    "[(None, '0: ')] + [(span.base_span, \"{}: {}\".format(span.text, i + 1)) for i, span in enumerate(sentence)]\n"
   ]
  },
  {
   "cell_type": "code",
   "execution_count": null,
   "metadata": {},
   "outputs": [],
   "source": [
    "display.table_row(span=text.test[1], attribute=\"feats\")"
   ]
  },
  {
   "cell_type": "code",
   "execution_count": null,
   "metadata": {},
   "outputs": [],
   "source": [
    "display.table_row(span=text.test[1], attribute=\"lemma\")"
   ]
  },
  {
   "cell_type": "code",
   "execution_count": null,
   "metadata": {},
   "outputs": [],
   "source": [
    "display.table_row(span=text.test[1], attribute=\"deprel\")"
   ]
  },
  {
   "cell_type": "code",
   "execution_count": null,
   "metadata": {},
   "outputs": [],
   "source": [
    "display.table_head(span=text.test[0], sentence=text.sentences[0]) "
   ]
  },
  {
   "cell_type": "code",
   "execution_count": null,
   "metadata": {},
   "outputs": [],
   "source": [
    "from IPython.display import display_html"
   ]
  },
  {
   "cell_type": "code",
   "execution_count": null,
   "metadata": {},
   "outputs": [],
   "source": [
    "display_html(\n",
    "    \"<table><tr>\\n\" + \"\".join(display.table_head(span=text.test[0], sentence=text.sentences[0])) + \"\\n</tr></table>\", raw=True)"
   ]
  },
  {
   "cell_type": "code",
   "execution_count": null,
   "metadata": {},
   "outputs": [],
   "source": [
    "display_html(\n",
    "    \"<table><tr>\\n\" + \"\".join(display.table_row(span=text.test[1], attribute=\"deprel\")) + \"\\n</tr></table>\", raw=True)"
   ]
  },
  {
   "cell_type": "code",
   "execution_count": null,
   "metadata": {},
   "outputs": [],
   "source": []
  },
  {
   "cell_type": "code",
   "execution_count": null,
   "metadata": {},
   "outputs": [],
   "source": [
    "display.table_head(attribute=\"head\", layer=text.test, start=0, end=2, i=1)"
   ]
  },
  {
   "cell_type": "code",
   "execution_count": null,
   "metadata": {},
   "outputs": [],
   "source": [
    "list(text.test[0:2]['feats'][1].keys())"
   ]
  },
  {
   "cell_type": "code",
   "execution_count": null,
   "metadata": {},
   "outputs": [],
   "source": [
    "values=list(range(4))\n",
    "values"
   ]
  },
  {
   "cell_type": "code",
   "execution_count": null,
   "metadata": {},
   "outputs": [],
   "source": [
    "list(enumerate(values))"
   ]
  },
  {
   "cell_type": "code",
   "execution_count": null,
   "metadata": {},
   "outputs": [],
   "source": [
    "print(display.table_creation(layers=[text.test], attributes=display.attributes, text=text))"
   ]
  },
  {
   "cell_type": "code",
   "execution_count": null,
   "metadata": {},
   "outputs": [],
   "source": [
    "#print(display.css_style_tag)"
   ]
  },
  {
   "cell_type": "code",
   "execution_count": null,
   "metadata": {},
   "outputs": [],
   "source": [
    "print(display.data_import_script_tag(layers=[text.test], attributes=display.attributes, text=text))"
   ]
  },
  {
   "cell_type": "code",
   "execution_count": null,
   "metadata": {},
   "outputs": [],
   "source": [
    "display.value_cell(['a', 'b'])"
   ]
  },
  {
   "cell_type": "code",
   "execution_count": null,
   "metadata": {},
   "outputs": [],
   "source": [
    "from IPython.display import display_html"
   ]
  },
  {
   "cell_type": "code",
   "execution_count": null,
   "metadata": {},
   "outputs": [],
   "source": [
    "from syntax_visualiser import SyntaxVisualiser\n",
    "display = SyntaxVisualiser()"
   ]
  },
  {
   "cell_type": "code",
   "execution_count": null,
   "metadata": {},
   "outputs": [],
   "source": [
    "def dropdown_cell(values, default_value, select_attributes):\n",
    "    \"\"\"\n",
    "    Creates <td> cell with a dropdown selection element\n",
    "    \"\"\"\n",
    "    row = [\"<td>\\n\"]\n",
    "    row.extend([\"<select class = \\\"syntax_choice\\\" id = \\\"\", attribute, str(i), \"\\\">\\n\"])\n",
    "\n",
    "    row.extend([\"<option value=\\\"original\", str(attribute), \"\\\">\", str(default_value), \"</option>\\n\"])\n",
    "    \n",
    "    for value in values:\n",
    "        row.extend([\"<option value=\\\"\", attribute, str(value), \"\\\">\", str(value), \"</option>\\n\"])\n",
    "    \n",
    "    row.append(\"</select>\\n</td>\")\n",
    "    return row"
   ]
  },
  {
   "cell_type": "code",
   "execution_count": null,
   "metadata": {},
   "outputs": [],
   "source": [
    "select_attributes='class=\"syntax_choice\" id=\"5\"'\n",
    "select_attributes\n"
   ]
  },
  {
   "cell_type": "code",
   "execution_count": null,
   "metadata": {},
   "outputs": [],
   "source": [
    "print(\"\".join(dropdown_cell(values = ['a', 'b', 'c'], default_value='a', select_attributes=select_attributes)))"
   ]
  },
  {
   "cell_type": "code",
   "execution_count": null,
   "metadata": {},
   "outputs": [],
   "source": [
    "display_html(\"<table><tr>\\n\" + \"\".join(dropdown_cell(['a', 'b', 'c'], 'a')) + \"\\n</tr></table>\", raw=True)"
   ]
  },
  {
   "cell_type": "code",
   "execution_count": null,
   "metadata": {},
   "outputs": [],
   "source": [
    "def table_feats_cell(attribute):\n",
    "    if attribute is None:\n",
    "        return \"<td></td>\"\n",
    "    else:\n",
    "        return \"<td>\" + \" \".join([str(key) for key in attribute]) + \"</td>\"\n"
   ]
  },
  {
   "cell_type": "code",
   "execution_count": null,
   "metadata": {},
   "outputs": [],
   "source": [
    "display_html(\"Jee\", raw=True)"
   ]
  },
  {
   "cell_type": "code",
   "execution_count": null,
   "metadata": {},
   "outputs": [],
   "source": [
    "table_feats_cell(text.test[0]['feats'])"
   ]
  },
  {
   "cell_type": "code",
   "execution_count": null,
   "metadata": {},
   "outputs": [],
   "source": [
    "table_feats_cell(None)"
   ]
  },
  {
   "cell_type": "code",
   "execution_count": null,
   "metadata": {},
   "outputs": [],
   "source": [
    "[text.test][0][0:13]\n",
    "#['deprel']\n",
    "\n",
    "#layers[0][start:end][str(attribute)][i]"
   ]
  },
  {
   "cell_type": "code",
   "execution_count": null,
   "metadata": {},
   "outputs": [],
   "source": [
    "display(layers=[text.test],text=text)\n"
   ]
  },
  {
   "cell_type": "code",
   "execution_count": null,
   "metadata": {},
   "outputs": [],
   "source": [
    "'8: soojendada,8: soojendada,8: soojendada,5: plekkahju,6: vastas,8: soojendada,8: soojendada,0,8: soojendada,@ADVL,@FCV,@OBJ,@AN>,@P>,@ADVL,@Vpart,ROOT,@Punc'\n",
    "'8: soojendada,@ADVL'\n",
    "[{'id' : 1, 'head' : '8', 'deprel' : '@ADVL'}]"
   ]
  }
 ],
 "metadata": {
  "kernelspec": {
   "display_name": "Python 3",
   "language": "python",
   "name": "python3"
  },
  "language_info": {
   "codemirror_mode": {
    "name": "ipython",
    "version": 3
   },
   "file_extension": ".py",
   "mimetype": "text/x-python",
   "name": "python",
   "nbconvert_exporter": "python",
   "pygments_lexer": "ipython3",
   "version": "3.5.6"
  }
 },
 "nbformat": 4,
 "nbformat_minor": 2
}
