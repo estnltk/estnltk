{
 "cells": [
  {
   "cell_type": "markdown",
   "metadata": {},
   "source": [
    "# Functions"
   ]
  },
  {
   "cell_type": "markdown",
   "metadata": {},
   "source": [
    "The original information is in XML format and DB files are needed for the Wordnet module. This sections contains all functions created for extracting relevant information from the XML file and converting it into a suitable format for database creation. Data extraction from XML format uses BeautifulSoup and database files are created using SQLite."
   ]
  },
  {
   "cell_type": "code",
   "execution_count": 1,
   "metadata": {},
   "outputs": [],
   "source": [
    "import re\n",
    "import sqlite3\n",
    "from bs4 import BeautifulSoup"
   ]
  },
  {
   "cell_type": "markdown",
   "metadata": {},
   "source": [
    "Getting relevant information from all Wordnet entries from the XML-file."
   ]
  },
  {
   "cell_type": "code",
   "execution_count": 6,
   "metadata": {},
   "outputs": [],
   "source": [
    "def wordnet_entries(lexical_entries):\n",
    "    wn_entries = []\n",
    "\n",
    "    for entry in lexical_entries:\n",
    "        lemma_info = entry.find('lemma')\n",
    "        pos = lemma_info.get('partofspeech')\n",
    "        lemma = lemma_info.get('writtenform')\n",
    "        for sense in entry.find_all('sense'):\n",
    "            sense_id = sense.get('id')\n",
    "            estwn_id = sense.get('synset')\n",
    "            sense = re.sub('[^0-9]', '', sense_id.split('-')[-1])\n",
    "            wn_entries.append((lemma, pos, sense, sense_id, estwn_id))\n",
    "            \n",
    "    return wn_entries"
   ]
  },
  {
   "cell_type": "markdown",
   "metadata": {},
   "source": [
    "Finding the name (main phrase of the synset) for synsets, most of them can be found from the definition of the synset."
   ]
  },
  {
   "cell_type": "code",
   "execution_count": 7,
   "metadata": {},
   "outputs": [],
   "source": [
    "def synset_names(xml_synsets):\n",
    "    sourcesenses = {}\n",
    "\n",
    "    for s in xml_synsets:\n",
    "        d = s.find('definition')\n",
    "        if d is not None and d.get('sourcesense') not in sourcesenses:\n",
    "            if d.get('sourcesense') is not None:\n",
    "                sourcesenses[s.get('id')] = d.get('sourcesense')\n",
    "                \n",
    "    return sourcesenses"
   ]
  },
  {
   "cell_type": "markdown",
   "metadata": {},
   "source": [
    "Creating a list of tuples where each tuple contains relevant information about one lexical entry."
   ]
  },
  {
   "cell_type": "code",
   "execution_count": 8,
   "metadata": {},
   "outputs": [],
   "source": [
    "def database_entries(wn_entries, names):\n",
    "    sourcesenses = names\n",
    "    db_entries = []\n",
    "\n",
    "    for entry in wn_entries:\n",
    "        #Most of the names were found previously, but for some synsets, they couldn't be obtained.\n",
    "        #In those cases, the name of the first lexical entry of said synset is used as the name\n",
    "        if entry[-1] not in sourcesenses:\n",
    "            sourcesenses[entry[-1]] = entry[-2]\n",
    "        sourcesense = sourcesenses[entry[-1]]\n",
    "        if sourcesense == entry[3]:\n",
    "            #id is obtained from the estwn_id from the XML-file by removing all non-numeric characters from the string\n",
    "            db_entries.append((re.sub(\"[^0-9]\", \"\", entry[-1]), entry[0], entry[1], entry[2], sourcesense, entry[4], 1))\n",
    "        else:\n",
    "            db_entries.append((re.sub(\"[^0-9]\", \"\", entry[-1]), entry[0], entry[1], entry[2], sourcesense, entry[4], 0))\n",
    "            \n",
    "    return db_entries"
   ]
  },
  {
   "cell_type": "markdown",
   "metadata": {},
   "source": [
    "Creating a list of tuples (of synset relations) where each tuple contains the start vertex, end vertex and specified relation.\n",
    "Start and end vertex of each relation are numeric id's of said synsets."
   ]
  },
  {
   "cell_type": "code",
   "execution_count": 9,
   "metadata": {},
   "outputs": [],
   "source": [
    "def database_relations(xml_synsets):\n",
    "    db_relations = []\n",
    "\n",
    "    for synset in xml_synsets:\n",
    "        synset_id = re.sub(\"[^0-9]\", \"\", synset.get(\"id\"))\n",
    "        relations = synset.find_all(\"synsetrelation\")\n",
    "        for relation in relations:\n",
    "            db_relations.append((re.sub(\"[^0-9]\", \"\", relation.get(\"target\")), synset_id, relation.get(\"reltype\")))\n",
    "            \n",
    "    return db_relations"
   ]
  },
  {
   "cell_type": "markdown",
   "metadata": {},
   "source": [
    "Creating a list of tuples where each tuple consists of synset name and its definition."
   ]
  },
  {
   "cell_type": "code",
   "execution_count": 10,
   "metadata": {},
   "outputs": [],
   "source": [
    "def database_definitions(xml_synsets):\n",
    "    db_definitions = []\n",
    "\n",
    "    for synset in xml_synsets:\n",
    "        definitions = synset.find_all('definition')\n",
    "        if definitions is not None:\n",
    "            for definition in definitions:\n",
    "                sourcesense = definition.get('sourcesense')\n",
    "                if sourcesense is None:\n",
    "                    db_definitions.append((sourcesenses[synset.get('id')], definition.find(text=True)))\n",
    "                else:\n",
    "                    db_definitions.append((sourcesense, definition.find(text=True)))\n",
    "                    \n",
    "    return db_definitions"
   ]
  },
  {
   "cell_type": "markdown",
   "metadata": {},
   "source": [
    "Creating a list of tuples where each tuple consists of synset sense (literal) and an example for it"
   ]
  },
  {
   "cell_type": "code",
   "execution_count": 11,
   "metadata": {},
   "outputs": [],
   "source": [
    "def database_examples(xml_senses):\n",
    "    db_examples = []\n",
    "\n",
    "    for sense in xml_senses:\n",
    "        examples = sense.find_all(\"example\")\n",
    "        if examples is not None:\n",
    "            for example in examples:\n",
    "                db_examples.append((sense.get(\"id\"), example.find(text=True)))\n",
    "                \n",
    "    return db_examples"
   ]
  },
  {
   "cell_type": "code",
   "execution_count": 12,
   "metadata": {},
   "outputs": [],
   "source": [
    "def create_database(file_path, db_name, create_table, insert, values):\n",
    "    conn = sqlite3.connect(file_path)\n",
    "    cur = conn.cursor()\n",
    "    cur.execute(create_table)\n",
    "    with conn:\n",
    "        cur.execute(\"DELETE FROM {};\".format(db_name)) #if database exists, deletes all values so there wouldn't be duplicates\n",
    "        cur.executemany(insert, values)"
   ]
  },
  {
   "cell_type": "markdown",
   "metadata": {},
   "source": [
    "# Test"
   ]
  },
  {
   "cell_type": "code",
   "execution_count": 21,
   "metadata": {},
   "outputs": [],
   "source": [
    "import doctest"
   ]
  },
  {
   "cell_type": "code",
   "execution_count": 9,
   "metadata": {},
   "outputs": [],
   "source": [
    "with open(\"../source_data/estwn-et-2.3.2.xml\", encoding=\"UTF-8\") as f:\n",
    "    data = f.read()\n",
    "\n",
    "soup = BeautifulSoup(data, 'lxml')"
   ]
  },
  {
   "cell_type": "code",
   "execution_count": 10,
   "metadata": {},
   "outputs": [],
   "source": [
    "entry = soup.find('lexicalentry')\n",
    "synset = soup.find('synset')\n",
    "sense = soup.find('sense')"
   ]
  },
  {
   "cell_type": "code",
   "execution_count": 11,
   "metadata": {},
   "outputs": [],
   "source": [
    "wn_entry = wordnet_entries([entry])\n",
    "sourcesense = synset_names([synset])\n",
    "db_entry = database_entries(wn_entry, sourcesense)\n",
    "db_relation = database_relations([synset])\n",
    "db_definition = database_definitions([synset])\n",
    "db_example = database_examples([sense])"
   ]
  },
  {
   "cell_type": "code",
   "execution_count": 30,
   "metadata": {},
   "outputs": [],
   "source": [
    "def wn_entry_len():\n",
    "    '''\n",
    "    >>> wn_entry_len()\n",
    "    5\n",
    "    '''\n",
    "    return len(wordnet_entries([entry])[0])"
   ]
  },
  {
   "cell_type": "code",
   "execution_count": 51,
   "metadata": {},
   "outputs": [],
   "source": [
    "def sourcesense_test():\n",
    "    '''\n",
    "    >>> sourcesense_test()\n",
    "    True\n",
    "    '''\n",
    "    ss = synset_names([synset])\n",
    "    keys = list(sourcesense.keys())\n",
    "    values = list(sourcesense.values())\n",
    "    correct_key = False\n",
    "    correct_value = False\n",
    "    if re.match(r's-.+-', values[0]):\n",
    "        correct_value = True\n",
    "    if re.match(r'estwn-et-', keys[0]):\n",
    "        correct_key = True\n",
    "    return correct_key and correct_value"
   ]
  },
  {
   "cell_type": "code",
   "execution_count": 67,
   "metadata": {},
   "outputs": [],
   "source": [
    "def db_entry_len():\n",
    "    '''\n",
    "    >>> db_entry_len()\n",
    "    7\n",
    "    '''\n",
    "    wn_entry = wordnet_entries([entry])\n",
    "    sourcesense = synset_names([synset])\n",
    "    return len(database_entries(wn_entry, sourcesense)[0])"
   ]
  },
  {
   "cell_type": "code",
   "execution_count": 82,
   "metadata": {},
   "outputs": [],
   "source": [
    "def db_entry_id():\n",
    "    '''\n",
    "    >>> db_entry_id()\n",
    "    True\n",
    "    '''\n",
    "    try:\n",
    "        wn_entry = wordnet_entries([entry])\n",
    "        sourcesense = synset_names([synset])\n",
    "        db_entry = database_entries(wn_entry, sourcesense)[0]\n",
    "        entry_id = int(db_entry[0])\n",
    "        return int == type(entry_id)\n",
    "    except:\n",
    "        return False"
   ]
  },
  {
   "cell_type": "code",
   "execution_count": 86,
   "metadata": {},
   "outputs": [],
   "source": [
    "def db_relation_ids():\n",
    "    '''\n",
    "    >>> db_entry_id()\n",
    "    True\n",
    "    '''\n",
    "    try:\n",
    "        db_relation = database_relations([synset])\n",
    "        synset_1_id = int(db_relation[0])\n",
    "        synset_2_id = int(db_relation[1])\n",
    "        return type(synset_1_id) == int and type(synset_2_id) == int\n",
    "    except:\n",
    "        return False"
   ]
  },
  {
   "cell_type": "code",
   "execution_count": 87,
   "metadata": {},
   "outputs": [
    {
     "name": "stdout",
     "output_type": "stream",
     "text": [
      "Trying:\n",
      "    db_entry_id()\n",
      "Expecting:\n",
      "    True\n",
      "ok\n",
      "Trying:\n",
      "    db_entry_len()\n",
      "Expecting:\n",
      "    7\n",
      "ok\n",
      "Trying:\n",
      "    db_entry_id()\n",
      "Expecting:\n",
      "    True\n",
      "ok\n",
      "Trying:\n",
      "    sourcesense_len()\n",
      "Expecting:\n",
      "    2\n",
      "ok\n",
      "Trying:\n",
      "    sourcesense_test()\n",
      "Expecting:\n",
      "    True\n",
      "ok\n",
      "Trying:\n",
      "    wn_entry_len()\n",
      "Expecting:\n",
      "    5\n",
      "ok\n",
      "10 items had no tests:\n",
      "    __main__\n",
      "    __main__.create_database\n",
      "    __main__.database_definitions\n",
      "    __main__.database_entries\n",
      "    __main__.database_examples\n",
      "    __main__.database_relations\n",
      "    __main__.fun\n",
      "    __main__.ha\n",
      "    __main__.synset_names\n",
      "    __main__.wordnet_entries\n",
      "6 items passed all tests:\n",
      "   1 tests in __main__.db_entry_id\n",
      "   1 tests in __main__.db_entry_len\n",
      "   1 tests in __main__.db_relation_ids\n",
      "   1 tests in __main__.sourcesense_len\n",
      "   1 tests in __main__.sourcesense_test\n",
      "   1 tests in __main__.wn_entry_len\n",
      "6 tests in 16 items.\n",
      "6 passed and 0 failed.\n",
      "Test passed.\n"
     ]
    },
    {
     "data": {
      "text/plain": [
       "TestResults(failed=0, attempted=6)"
      ]
     },
     "execution_count": 87,
     "metadata": {},
     "output_type": "execute_result"
    }
   ],
   "source": [
    "doctest.testmod(verbose=True)"
   ]
  },
  {
   "cell_type": "markdown",
   "metadata": {},
   "source": [
    "# Data extraction and import"
   ]
  },
  {
   "cell_type": "markdown",
   "metadata": {},
   "source": [
    "Using previously created functions to extract relevant data from the XML file and create necessary database files."
   ]
  },
  {
   "cell_type": "code",
   "execution_count": 2,
   "metadata": {},
   "outputs": [],
   "source": [
    "with open(\"../source_data/estwn-et-2.3.2.xml\", encoding=\"UTF-8\") as f:\n",
    "    data = f.read()"
   ]
  },
  {
   "cell_type": "code",
   "execution_count": 3,
   "metadata": {},
   "outputs": [],
   "source": [
    "soup = BeautifulSoup(data,'lxml')"
   ]
  },
  {
   "cell_type": "markdown",
   "metadata": {},
   "source": [
    "Finding all lexical entries, synset objects and senses by their tags"
   ]
  },
  {
   "cell_type": "code",
   "execution_count": 4,
   "metadata": {},
   "outputs": [],
   "source": [
    "entries = soup.find_all('lexicalentry')\n",
    "synsets = soup.find_all('synset')\n",
    "senses = soup.find_all('sense')"
   ]
  },
  {
   "cell_type": "markdown",
   "metadata": {},
   "source": [
    "Extracting necessary information to create database files"
   ]
  },
  {
   "cell_type": "code",
   "execution_count": 13,
   "metadata": {},
   "outputs": [],
   "source": [
    "wn_entries = wordnet_entries(entries)\n",
    "sourcesenses = synset_names(synsets)\n",
    "db_entries = database_entries(wn_entries, sourcesenses)\n",
    "db_relations = database_relations(synsets)\n",
    "db_definitions = database_definitions(synsets)\n",
    "db_examples = database_examples(senses)"
   ]
  },
  {
   "cell_type": "markdown",
   "metadata": {},
   "source": [
    "There are some discrepancies when it comes to hyponyms and hypernyms in the original XML file. Here these are found and printed out."
   ]
  },
  {
   "cell_type": "code",
   "execution_count": 15,
   "metadata": {},
   "outputs": [],
   "source": [
    "dict_hypernyms = {}\n",
    "dict_hyponyms = {}\n",
    "\n",
    "for relation in db_relations:\n",
    "    if relation[2] == 'hypernym':\n",
    "        start = relation[0]\n",
    "        end = relation[1]\n",
    "        if start in dict_hypernyms:\n",
    "            dict_hypernyms[start].append(end)\n",
    "        else:\n",
    "            dict_hypernyms[start] = [end]\n",
    "    if relation[2] == 'hyponym':\n",
    "        start = relation[0]\n",
    "        end = relation[1]\n",
    "        if start in dict_hyponyms:\n",
    "            dict_hyponyms[start].append(end)\n",
    "        else:\n",
    "            dict_hyponyms[start] = [end]"
   ]
  },
  {
   "cell_type": "code",
   "execution_count": 34,
   "metadata": {},
   "outputs": [
    {
     "name": "stdout",
     "output_type": "stream",
     "text": [
      "s-tsüaanima-v1 is hyponym for s-töötlema-v2 but s-töötlema-v2 is not hypernym for s-tsüaanima-v1\n",
      "s-dekapeerima-v1 is hyponym for s-puhastama-v1 but s-puhastama-v1 is not hypernym for s-dekapeerima-v1\n",
      "s-alkoholiseerima-v1 is hyponym for s-lisama-v2 but s-lisama-v2 is not hypernym for s-alkoholiseerima-v1\n",
      "s-deklasseeruma-v1 is hyponym for s-eralduma-v1 but s-eralduma-v1 is not hypernym for s-deklasseeruma-v1\n",
      "s-redunka-n1 is hyponym for s-veislane-n1 but s-veislane-n1 is not hypernym for s-redunka-n1\n",
      "s-trasseerima-v1 is hyponym for s-märkima-v2 but s-märkima-v2 is not hypernym for s-trasseerima-v1\n",
      "s-tõkendama-v1 is hyponym for s-kohaldama-v1 but s-kohaldama-v1 is not hypernym for s-tõkendama-v1\n",
      "s-dekapeerima-v1 is hyponym for s-söövitama-v1 but s-söövitama-v1 is not hypernym for s-dekapeerima-v1\n"
     ]
    }
   ],
   "source": [
    "for key, values in dict_hypernyms.items():\n",
    "    for hyp in values:\n",
    "        if hyp not in dict_hyponyms or key not in dict_hyponyms[hyp]:\n",
    "            hyp_tuple = None\n",
    "            key_tuple = None\n",
    "            for entry in db_entries:\n",
    "                if hyp == entry[0]:\n",
    "                    hyp_tuple = entry[4]\n",
    "                if key == entry[0]:\n",
    "                    key_tuple = entry[4]\n",
    "            print(hyp_tuple, \"is hyponym for\", key_tuple, \"but\", key_tuple, \"is not hypernym for\", hyp_tuple)"
   ]
  },
  {
   "cell_type": "code",
   "execution_count": 32,
   "metadata": {},
   "outputs": [
    {
     "name": "stdout",
     "output_type": "stream",
     "text": [
      "s-gasell-n1 is hypernym for s-redunka-n1 but s-redunka-n1 is not hyponym for s-gasell-n1\n",
      "s-rabasaar-n1 is hypernym for s-peaksi-n1 but s-peaksi-n1 is not hyponym for s-rabasaar-n1\n",
      "s-sulfoonamiid-n1 is hypernym for s-streptotsiid-n1 but s-streptotsiid-n1 is not hyponym for s-sulfoonamiid-n1\n",
      "s-kliiniline_uuring-n1 is hypernym for s-sõeltest-n1 but s-sõeltest-n1 is not hyponym for s-kliiniline_uuring-n1\n",
      "s-mõlu-n1 is hypernym for s-radiaallaiksus-n1 but s-radiaallaiksus-n1 is not hyponym for s-mõlu-n1\n"
     ]
    }
   ],
   "source": [
    "for key, values in dict_hyponyms.items():\n",
    "    for hyp in values:\n",
    "        if hyp not in dict_hypernyms or key not in dict_hypernyms[hyp]:\n",
    "            hyp_tuple = None\n",
    "            key_tuple = None\n",
    "            for entry in db_entries:\n",
    "                if hyp == entry[0]:\n",
    "                    hyp_tuple = entry[4]\n",
    "                if key == entry[0]:\n",
    "                    key_tuple = entry[4]\n",
    "            print(hyp_tuple, \"is hypernym for\", key_tuple, \"but\", key_tuple, \"is not hyponym for\", hyp_tuple)"
   ]
  },
  {
   "cell_type": "markdown",
   "metadata": {},
   "source": [
    "Creating the 'Wordnet entries' database"
   ]
  },
  {
   "cell_type": "code",
   "execution_count": 20,
   "metadata": {},
   "outputs": [],
   "source": [
    "wn_entry_db = \"..//data//estwn-et-2.3.2//wordnet_entry.db\"\n",
    "wn_entry_name = \"wordnet_entry\"\n",
    "wn_entry_create = \"CREATE TABLE IF NOT EXISTS wordnet_entry(id INT, literal TEXT, pos TEXT, sense INT, synset_name TEXT, estwn_id TEXT, is_name INT)\"\n",
    "wn_entry_insert = \"insert into wordnet_entry(id, literal, pos, sense, synset_name, estwn_id, is_name) values (?,?,?,?,?,?,?)\"\n",
    "create_database(wn_entry_db, wn_entry_name, wn_entry_create, wn_entry_insert, db_entries)"
   ]
  },
  {
   "cell_type": "markdown",
   "metadata": {},
   "source": [
    "Creating the 'Wordnet relations' database"
   ]
  },
  {
   "cell_type": "code",
   "execution_count": 15,
   "metadata": {},
   "outputs": [],
   "source": [
    "wn_relation_db = \"..//data//estwn-et-2.3.2//wordnet_relation.db\"\n",
    "wn_relation_name = \"wordnet_relation\"\n",
    "wn_relation_create = \"CREATE TABLE IF NOT EXISTS wordnet_relation(start_vertex INT, end_vertex INT, relation TEXT)\"\n",
    "wn_relation_insert = \"insert into wordnet_relation(start_vertex, end_vertex, relation) values (?,?,?)\"\n",
    "create_database(wn_relation_db, wn_relation_name, wn_relation_create, wn_relation_insert, db_relations)"
   ]
  },
  {
   "cell_type": "markdown",
   "metadata": {
    "scrolled": true
   },
   "source": [
    "Creating the 'Wordnet definitions' database"
   ]
  },
  {
   "cell_type": "code",
   "execution_count": 32,
   "metadata": {
    "scrolled": true
   },
   "outputs": [],
   "source": [
    "wn_definitions_db = \"..//data//estwn-et-2.3.2//wordnet_definition.db\"\n",
    "wn_definitions_name = \"wordnet_definition\"\n",
    "wn_definitions_create = \"CREATE TABLE IF NOT EXISTS wordnet_definition(synset_name TEXT, definition TEXT)\"\n",
    "wn_definitions_insert = \"insert into wordnet_definition(synset_name, definition) values (?,?)\"\n",
    "create_database(wn_definitions_db, wn_definitions_name, wn_definitions_create, wn_definitions_insert, db_definitions)"
   ]
  },
  {
   "cell_type": "markdown",
   "metadata": {},
   "source": [
    "Creating the 'Wordnet examples' database"
   ]
  },
  {
   "cell_type": "code",
   "execution_count": 15,
   "metadata": {},
   "outputs": [],
   "source": [
    "wn_examples_db = \"..//data//estwn-et-2.3.2//wordnet_example.db\"\n",
    "wn_examples_name = \"wordnet_example\"\n",
    "wn_examples_create = \"CREATE TABLE IF NOT EXISTS wordnet_example(synset_name TEXT, example TEXT)\"\n",
    "wn_examples_insert = \"insert into wordnet_example(synset_name, example) values (?,?)\"\n",
    "create_database(wn_examples_db, wn_examples_name, wn_examples_create, wn_examples_insert, db_examples)"
   ]
  }
 ],
 "metadata": {
  "kernelspec": {
   "display_name": "Python 3",
   "language": "python",
   "name": "python3"
  },
  "language_info": {
   "codemirror_mode": {
    "name": "ipython",
    "version": 3
   },
   "file_extension": ".py",
   "mimetype": "text/x-python",
   "name": "python",
   "nbconvert_exporter": "python",
   "pygments_lexer": "ipython3",
   "version": "3.6.12"
  }
 },
 "nbformat": 4,
 "nbformat_minor": 2
}
