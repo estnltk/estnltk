{
 "cells": [
  {
   "cell_type": "markdown",
   "metadata": {},
   "source": [
    "# Visl row analyzer"
   ]
  },
  {
   "cell_type": "code",
   "execution_count": 31,
   "metadata": {},
   "outputs": [],
   "source": [
    "from estnltk import Text\n",
    "from estnltk.taggers import Tagger\n",
    "from estnltk.layer.layer import Layer\n",
    "from estnltk.converters.CG3_exporter import export_CG3\n",
    "from estnltk.taggers.syntax.vislcg3_syntax import VISLCG3Pipeline\n",
    "from estnltk import PACKAGE_PATH\n",
    "import os\n",
    "import re"
   ]
  },
  {
   "cell_type": "code",
   "execution_count": 32,
   "metadata": {},
   "outputs": [],
   "source": [
    "cats = {\n",
    "    'case' : ['nom', 'gen', 'part', 'ill', 'in', 'el', 'all', 'ad', 'abl', \n",
    "              'tr', 'term', 'es', 'abes', 'kom', 'adit'],\n",
    "    'number' : ['sg', 'pl'],\n",
    "    'voice' : ['imps', 'ps'],\n",
    "    'tense' : ['pres', 'past', 'impf'],\n",
    "    'mood' : ['indic', 'cond', 'imper', 'quot'],\n",
    "    'person' : ['ps1', 'ps2', 'ps3'],\n",
    "    'negation' : ['af', 'neg'],\n",
    "    'inf_form' : ['sup', 'inf', 'ger', 'partic'],\n",
    "    'pronoun_type' : ['pos', 'det', 'refl', 'dem', 'inter_rel', 'pers', 'rel', 'rec', 'indef'],\n",
    "    'adjective_type' : ['pos', 'comp', 'super'],\n",
    "    'verb_type' : ['main', 'mod', 'aux'],\n",
    "    'substantive_type' : ['prop', 'com'],\n",
    "    'numeral_type' : ['card', 'ord'],\n",
    "    'number_format' : ['l', 'roman', 'digit'],\n",
    "    'adposition_type' : ['pre', 'post'],\n",
    "    'conjunction_type' : ['crd', 'sub'],\n",
    "    'abbreviation_type' : ['adjectival', 'adverbial', 'nominal', 'verbal'],\n",
    "    'punctuation_type' : ['Col', 'Com', 'Cpr', 'Cqu', 'Csq', 'Dsd', 'Dsh', 'Ell', \n",
    "                          'Els', 'Exc', 'Fst', 'Int', 'Opr', 'Oqu', 'Osq', 'Quo', 'Scl', 'Sla', 'Sml'],   \n",
    "    'capitalized' : ['cap']\n",
    "}\n",
    "\n",
    "def get_analyzed_forms(forms):\n",
    "    analyzed_forms = {}\n",
    "    for i, form in enumerate(forms):\n",
    "        for key in cats.keys():\n",
    "            if form in cats[key]:\n",
    "                if key not in analyzed_forms:\n",
    "                    analyzed_forms[key] = form\n",
    "                else:\n",
    "                    analyzed_forms[key] += ' '+form\n",
    "        \n",
    "    return analyzed_forms\n",
    "\n",
    "def process_visl_line(line):\n",
    "    if not isinstance(line, str):\n",
    "        raise Exception('(!) Unexpected type of input argument! Expected a string.')\n",
    "    pat_analysis_line = re.compile('^\\s+\"(.+)\"\\s([^\"]+)$')\n",
    "    # 3 types of analyses:\n",
    "    pat_ending_pos_form = re.compile('^L\\S+\\s+\\S\\s+([^#@]+).*$')\n",
    "    pat_pos_form = re.compile('^\\S\\s+([^#@]+).*$')\n",
    "    pat_ending_pos = re.compile('^(L\\S+\\s+)?\\S\\s+[#@].+$')\n",
    "    pat_ending_pos2 = re.compile('^(L\\S+\\s+)?\\S$')\n",
    "    if line.startswith('  ') or line.startswith('\\t'):\n",
    "        analysis_match = pat_analysis_line.match(line)\n",
    "        # Analysis line; in case of multiple analyses, pick the first one;\n",
    "        if analysis_match:\n",
    "            lemma = analysis_match.group(1)\n",
    "            cats = analysis_match.group(2)\n",
    "            if cats.startswith('Z '):\n",
    "                postag = 'Z'\n",
    "            else:\n",
    "                postag = (cats.split())[1] if len(cats.split()) > 1 else 'X'\n",
    "            L = re.findall('^L(\\w+)', cats)\n",
    "            L = L[0] if L else ''\n",
    "            \n",
    "            m1 = pat_ending_pos_form.match(cats)\n",
    "            m2 = pat_pos_form.match(cats)\n",
    "            m3 = pat_ending_pos.match(cats)\n",
    "            m4 = pat_ending_pos2.match(cats)\n",
    "            if m1:\n",
    "                forms = (m1.group(1)).split()\n",
    "            elif m2:\n",
    "                forms = (m2.group(1)).split()\n",
    "            elif m3 or m4:\n",
    "                forms = ['_']  # no form (in case of adpositions and adverbs)\n",
    "            else:\n",
    "                # Unexpected format of analysis line\n",
    "                if error_on_unexp:\n",
    "                    raise Exception('(!) Unexpected format of analysis line: ' + line)\n",
    "                else:\n",
    "                    postag = 'X'\n",
    "                    forms = ['_']\n",
    "                    print('(!) Unexpected format of analysis line: ' + line, file=sys.stderr)\n",
    "            if '#' in cats:\n",
    "                deprels = re.findall('(@\\S+)', cats)\n",
    "                deprel = deprels[0] if deprels else 'xxx'\n",
    "                heads = re.findall('#\\d+\\s*->\\s*\\d+', cats)[0]\n",
    "                forms = get_analyzed_forms(forms)\n",
    "                return {'ending': L, 'partofspeech': postag, 'feats': forms, 'deprel':deprel, 'head':heads}\n",
    "            else:\n",
    "                visl_info = re.findall('(<[^>]+>)', cats)\n",
    "                forms = get_analyzed_forms(forms)\n",
    "                return {'ending': L, 'partofspeech': postag, 'feats': forms, 'visl_info' : visl_info}"
   ]
  },
  {
   "cell_type": "markdown",
   "metadata": {},
   "source": [
    "## Visl row using vislcg3 parser"
   ]
  },
  {
   "cell_type": "code",
   "execution_count": 34,
   "metadata": {},
   "outputs": [],
   "source": [
    "text = Text('Marile meeldib see raamat.')\n",
    "text.analyse('syntax_preprocessing')\n",
    "results2 = export_CG3(text)\n",
    "vislcgRulesDir = os.path.relpath(os.path.join(PACKAGE_PATH, 'taggers', 'syntax', 'files'))\n",
    "vislcg_path = '/usr/bin/vislcg3'\n",
    "pipeline2 = VISLCG3Pipeline(rules_dir=vislcgRulesDir, vislcg_cmd=vislcg_path)\n",
    "results2 = list(filter(None, pipeline2.process_lines(results2).split('\\n'))) #process_lines tulemus võiks olla list"
   ]
  },
  {
   "cell_type": "code",
   "execution_count": 35,
   "metadata": {},
   "outputs": [
    {
     "data": {
      "text/plain": [
       "['\"<s>\"',\n",
       " '\"<Marile>\"',\n",
       " '\\t\"mari\" Lle S com sg all cap @ADVL #1->2',\n",
       " '\"<meeldib>\"',\n",
       " '\\t\"meeldi\" Lb V main indic pres ps3 sg ps af @FMV #2->0',\n",
       " '\"<see>\"',\n",
       " '\\t\"see\" L0 P dem sg nom @NN> #3->4',\n",
       " '\"<raamat>\"',\n",
       " '\\t\"raamat\" L0 S com sg nom @SUBJ #4->2',\n",
       " '\"<.>\"',\n",
       " '\\t\".\" Z Fst CLB #5->5',\n",
       " '\"</s>\"']"
      ]
     },
     "execution_count": 35,
     "metadata": {},
     "output_type": "execute_result"
    }
   ],
   "source": [
    "results2"
   ]
  },
  {
   "cell_type": "code",
   "execution_count": 36,
   "metadata": {},
   "outputs": [
    {
     "name": "stdout",
     "output_type": "stream",
     "text": [
      "\t\"mari\" Lle S com sg all cap @ADVL #1->2\n",
      "{'ending': 'le', 'feats': {'number': 'sg', 'case': 'all', 'substantive_type': 'com', 'capitalized': 'cap'}, 'deprel': '@ADVL', 'partofspeech': 'S', 'head': '#1->2'}\n",
      "\n",
      "\n",
      "\t\"meeldi\" Lb V main indic pres ps3 sg ps af @FMV #2->0\n",
      "{'ending': 'b', 'feats': {'number': 'sg', 'negation': 'af', 'voice': 'ps', 'tense': 'pres', 'person': 'ps3', 'verb_type': 'main', 'mood': 'indic'}, 'deprel': '@FMV', 'partofspeech': 'V', 'head': '#2->0'}\n",
      "\n",
      "\n",
      "\t\"see\" L0 P dem sg nom @NN> #3->4\n",
      "{'ending': '0', 'feats': {'number': 'sg', 'pronoun_type': 'dem', 'case': 'nom'}, 'deprel': '@NN>', 'partofspeech': 'P', 'head': '#3->4'}\n",
      "\n",
      "\n",
      "\t\"raamat\" L0 S com sg nom @SUBJ #4->2\n",
      "{'ending': '0', 'feats': {'number': 'sg', 'case': 'nom', 'substantive_type': 'com'}, 'deprel': '@SUBJ', 'partofspeech': 'S', 'head': '#4->2'}\n",
      "\n",
      "\n",
      "\t\".\" Z Fst CLB #5->5\n",
      "{'ending': '', 'feats': {'punctuation_type': 'Fst'}, 'deprel': 'xxx', 'partofspeech': 'Z', 'head': '#5->5'}\n",
      "\n",
      "\n"
     ]
    }
   ],
   "source": [
    "for line in results2:\n",
    "    processed_line = process_visl_line(line)\n",
    "    if processed_line is not None: # None == token v <s> etc\n",
    "        print(line)\n",
    "        print(processed_line)\n",
    "        print('\\n')"
   ]
  },
  {
   "cell_type": "markdown",
   "metadata": {},
   "source": [
    "## Visl row without parser"
   ]
  },
  {
   "cell_type": "code",
   "execution_count": 37,
   "metadata": {},
   "outputs": [],
   "source": [
    "text = Text('Marile meeldib see raamat.')\n",
    "text.analyse('syntax_preprocessing')\n",
    "results2 = export_CG3(text)"
   ]
  },
  {
   "cell_type": "code",
   "execution_count": 38,
   "metadata": {},
   "outputs": [
    {
     "data": {
      "text/plain": [
       "['\"<s>\"',\n",
       " '\"<Marile>\"',\n",
       " '    \"mari\" Lle S com sg all cap',\n",
       " '\"<meeldib>\"',\n",
       " '    \"meeldi\" Lb V mod indic pres ps3 sg ps af <FinV> <Intr> <All>',\n",
       " '    \"meeldi\" Lb V aux indic pres ps3 sg ps af <FinV> <Intr> <All>',\n",
       " '    \"meeldi\" Lb V main indic pres ps3 sg ps af <FinV> <Intr> <All>',\n",
       " '\"<see>\"',\n",
       " '    \"see\" L0 P dem sg nom',\n",
       " '\"<raamat>\"',\n",
       " '    \"raamat\" L0 S com sg nom',\n",
       " '\"<.>\"',\n",
       " '    \".\" Z Fst',\n",
       " '\"</s>\"']"
      ]
     },
     "execution_count": 38,
     "metadata": {},
     "output_type": "execute_result"
    }
   ],
   "source": [
    "results2"
   ]
  },
  {
   "cell_type": "code",
   "execution_count": 39,
   "metadata": {},
   "outputs": [
    {
     "name": "stdout",
     "output_type": "stream",
     "text": [
      "    \"mari\" Lle S com sg all cap\n",
      "{'visl_info': [], 'ending': 'le', 'feats': {'number': 'sg', 'case': 'all', 'substantive_type': 'com', 'capitalized': 'cap'}, 'partofspeech': 'S'}\n",
      "\n",
      "\n",
      "    \"meeldi\" Lb V mod indic pres ps3 sg ps af <FinV> <Intr> <All>\n",
      "{'visl_info': ['<FinV>', '<Intr>', '<All>'], 'ending': 'b', 'feats': {'number': 'sg', 'negation': 'af', 'voice': 'ps', 'tense': 'pres', 'person': 'ps3', 'verb_type': 'mod', 'mood': 'indic'}, 'partofspeech': 'V'}\n",
      "\n",
      "\n",
      "    \"meeldi\" Lb V aux indic pres ps3 sg ps af <FinV> <Intr> <All>\n",
      "{'visl_info': ['<FinV>', '<Intr>', '<All>'], 'ending': 'b', 'feats': {'number': 'sg', 'negation': 'af', 'voice': 'ps', 'tense': 'pres', 'person': 'ps3', 'verb_type': 'aux', 'mood': 'indic'}, 'partofspeech': 'V'}\n",
      "\n",
      "\n",
      "    \"meeldi\" Lb V main indic pres ps3 sg ps af <FinV> <Intr> <All>\n",
      "{'visl_info': ['<FinV>', '<Intr>', '<All>'], 'ending': 'b', 'feats': {'number': 'sg', 'negation': 'af', 'voice': 'ps', 'tense': 'pres', 'person': 'ps3', 'verb_type': 'main', 'mood': 'indic'}, 'partofspeech': 'V'}\n",
      "\n",
      "\n",
      "    \"see\" L0 P dem sg nom\n",
      "{'visl_info': [], 'ending': '0', 'feats': {'number': 'sg', 'pronoun_type': 'dem', 'case': 'nom'}, 'partofspeech': 'P'}\n",
      "\n",
      "\n",
      "    \"raamat\" L0 S com sg nom\n",
      "{'visl_info': [], 'ending': '0', 'feats': {'number': 'sg', 'case': 'nom', 'substantive_type': 'com'}, 'partofspeech': 'S'}\n",
      "\n",
      "\n",
      "    \".\" Z Fst\n",
      "{'visl_info': [], 'ending': '', 'feats': {'punctuation_type': 'Fst'}, 'partofspeech': 'Z'}\n",
      "\n",
      "\n"
     ]
    }
   ],
   "source": [
    "for line in results2:\n",
    "    processed_line = process_visl_line(line)\n",
    "    if processed_line is not None: # None == token v <s> etc\n",
    "        print(line)\n",
    "        print(processed_line)\n",
    "        print('\\n')"
   ]
  }
 ],
 "metadata": {
  "kernelspec": {
   "display_name": "Python 3",
   "language": "python",
   "name": "python3"
  },
  "language_info": {
   "codemirror_mode": {
    "name": "ipython",
    "version": 3
   },
   "file_extension": ".py",
   "mimetype": "text/x-python",
   "name": "python",
   "nbconvert_exporter": "python",
   "pygments_lexer": "ipython3",
   "version": "3.5.6"
  }
 },
 "nbformat": 4,
 "nbformat_minor": 2
}
