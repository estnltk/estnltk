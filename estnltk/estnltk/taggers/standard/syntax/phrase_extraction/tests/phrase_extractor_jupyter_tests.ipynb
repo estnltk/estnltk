{
 "cells": [
  {
   "cell_type": "code",
   "execution_count": 1,
   "id": "a74d714f",
   "metadata": {},
   "outputs": [],
   "source": [
    "%load_ext autoreload\n",
    "%autoreload 2"
   ]
  },
  {
   "cell_type": "code",
   "execution_count": 2,
   "id": "dc6ecfe4",
   "metadata": {},
   "outputs": [],
   "source": [
    "from estnltk.taggers.standard.syntax.phrase_extraction.phrase_extractor import PhraseExtractor"
   ]
  },
  {
   "cell_type": "markdown",
   "id": "dd2cd787",
   "metadata": {},
   "source": [
    "## Käsitsi märgendatud süntaxi fail"
   ]
  },
  {
   "cell_type": "code",
   "execution_count": 3,
   "id": "13148b3b",
   "metadata": {},
   "outputs": [],
   "source": [
    "from estnltk.converters.conll.conll_importer import conll_to_text\n",
    "from estnltk_core.layer_operations import split_by_sentences\n"
   ]
  },
  {
   "cell_type": "code",
   "execution_count": 4,
   "id": "cdba69e5",
   "metadata": {},
   "outputs": [],
   "source": [
    "phrase_tagger1 = PhraseExtractor(deprel=\"obl\", input_type=\"conll_syntax\", \n",
    "                                syntax_layer=\"conll_syntax\", output_layer=\"obl_phrases\", morph_layer=\"words\")"
   ]
  },
  {
   "cell_type": "code",
   "execution_count": 5,
   "id": "67eb7ddb",
   "metadata": {},
   "outputs": [],
   "source": [
    "input_file = \"./test_files/aja_ee199920_osa_1_ud211.conllu\"\n",
    "text_obj = conll_to_text( input_file, syntax_layer='conll_syntax' )\n",
    "texts2 = split_by_sentences(text=text_obj,\n",
    "                               layers_to_keep=list(text_obj.layers),\n",
    "                               trim_overlapping=True\n",
    "                               )\n",
    "\n",
    "for txt in texts2:\n",
    "    phrase_tagger1.tag(txt)\n"
   ]
  },
  {
   "cell_type": "code",
   "execution_count": 6,
   "id": "4370f738",
   "metadata": {},
   "outputs": [
    {
     "data": {
      "text/html": [
       "<h4>Layer</h4>\n",
       "\n",
       "\n",
       "<table border=\"1\" class=\"dataframe\">\n",
       "  <thead>\n",
       "    <tr style=\"text-align: right;\">\n",
       "      <th>layer name</th>\n",
       "      <th>attributes</th>\n",
       "      <th>parent</th>\n",
       "      <th>enveloping</th>\n",
       "      <th>ambiguous</th>\n",
       "      <th>span count</th>\n",
       "    </tr>\n",
       "  </thead>\n",
       "  <tbody>\n",
       "    <tr>\n",
       "      <td>obl_phrases</td>\n",
       "      <td>entity_type, free_entity, is_valid, root</td>\n",
       "      <td>None</td>\n",
       "      <td>words</td>\n",
       "      <td>False</td>\n",
       "      <td>2</td>\n",
       "    </tr>\n",
       "  </tbody>\n",
       "</table>\n",
       "<table border=\"1\" class=\"dataframe\">\n",
       "  <thead>\n",
       "    <tr style=\"text-align: right;\">\n",
       "      <th>text</th>\n",
       "      <th>entity_type</th>\n",
       "      <th>free_entity</th>\n",
       "      <th>is_valid</th>\n",
       "      <th>root</th>\n",
       "    </tr>\n",
       "  </thead>\n",
       "  <tbody>\n",
       "    <tr>\n",
       "      <td>['uurijatel']</td>\n",
       "      <td>None</td>\n",
       "      <td>None</td>\n",
       "      <td>None</td>\n",
       "      <td>Span('uurijatel', [{'id': 4, 'lemma': 'uurija', 'upostag': 'NOUN', 'xpostag': 'S ..., type: &lt;class 'estnltk_core.layer.span.Span'&gt;</td>\n",
       "    </tr>\n",
       "    <tr>\n",
       "      <td>['rahapesu', 'vastu']</td>\n",
       "      <td>None</td>\n",
       "      <td>None</td>\n",
       "      <td>None</td>\n",
       "      <td>Span('rahapesu', [{'id': 7, 'lemma': 'raha_pesu', 'upostag': 'NOUN', 'xpostag':  ..., type: &lt;class 'estnltk_core.layer.span.Span'&gt;</td>\n",
       "    </tr>\n",
       "  </tbody>\n",
       "</table>"
      ],
      "text/plain": [
       "Layer(name='obl_phrases', attributes=('entity_type', 'free_entity', 'is_valid', 'root'), spans=SL[EnvelopingSpan(['uurijatel'], [{'entity_type': None, 'free_entity': None, 'is_valid': None, 'root': <class 'estnltk_core.layer.span.Span'>}]),\n",
       "EnvelopingSpan(['rahapesu', 'vastu'], [{'entity_type': None, 'free_entity': None, 'is_valid': None, 'root': <class 'estnltk_core.layer.span.Span'>}])])"
      ]
     },
     "execution_count": 6,
     "metadata": {},
     "output_type": "execute_result"
    }
   ],
   "source": [
    "sentence1 = texts2[5]\n",
    "sentence1.obl_phrases"
   ]
  },
  {
   "cell_type": "code",
   "execution_count": 7,
   "id": "1c1e8561",
   "metadata": {},
   "outputs": [],
   "source": [
    "assert len(sentence1.obl_phrases) == 2, len(sentence1.obl_phrases)\n",
    "assert list(sentence1.obl_phrases[0].text) == ['uurijatel'], list(sentence1.obl_phrases[0].text)\n",
    "assert len(sentence1.obl_phrases[1]) == 2, len(sentence1.obl_phrases[1])\n",
    "assert list(sentence1.obl_phrases[1].text) == ['rahapesu', 'vastu'], list(sentence1.obl_phrases[1].text)"
   ]
  },
  {
   "cell_type": "code",
   "execution_count": 8,
   "id": "4f869ded",
   "metadata": {},
   "outputs": [
    {
     "data": {
      "text/html": [
       "<h4>Layer</h4>\n",
       "\n",
       "\n",
       "<table border=\"1\" class=\"dataframe\">\n",
       "  <thead>\n",
       "    <tr style=\"text-align: right;\">\n",
       "      <th>layer name</th>\n",
       "      <th>attributes</th>\n",
       "      <th>parent</th>\n",
       "      <th>enveloping</th>\n",
       "      <th>ambiguous</th>\n",
       "      <th>span count</th>\n",
       "    </tr>\n",
       "  </thead>\n",
       "  <tbody>\n",
       "    <tr>\n",
       "      <td>obl_phrases</td>\n",
       "      <td>entity_type, free_entity, is_valid, root</td>\n",
       "      <td>None</td>\n",
       "      <td>words</td>\n",
       "      <td>False</td>\n",
       "      <td>2</td>\n",
       "    </tr>\n",
       "  </tbody>\n",
       "</table>\n",
       "<table border=\"1\" class=\"dataframe\">\n",
       "  <thead>\n",
       "    <tr style=\"text-align: right;\">\n",
       "      <th>text</th>\n",
       "      <th>entity_type</th>\n",
       "      <th>free_entity</th>\n",
       "      <th>is_valid</th>\n",
       "      <th>root</th>\n",
       "    </tr>\n",
       "  </thead>\n",
       "  <tbody>\n",
       "    <tr>\n",
       "      <td>['29.', 'mail']</td>\n",
       "      <td>None</td>\n",
       "      <td>None</td>\n",
       "      <td>None</td>\n",
       "      <td>Span('mail', [{'id': 5, 'lemma': 'mai', 'upostag': 'NOUN', 'xpostag': 'S', 'feat ..., type: &lt;class 'estnltk_core.layer.span.Span'&gt;</td>\n",
       "    </tr>\n",
       "    <tr>\n",
       "      <td>['Väike-Maarjas']</td>\n",
       "      <td>None</td>\n",
       "      <td>None</td>\n",
       "      <td>None</td>\n",
       "      <td>Span('Väike-Maarjas', [{'id': 6, 'lemma': 'Väike-Maarja', 'upostag': 'PROPN', 'x ..., type: &lt;class 'estnltk_core.layer.span.Span'&gt;</td>\n",
       "    </tr>\n",
       "  </tbody>\n",
       "</table>"
      ],
      "text/plain": [
       "Layer(name='obl_phrases', attributes=('entity_type', 'free_entity', 'is_valid', 'root'), spans=SL[EnvelopingSpan(['29.', 'mail'], [{'entity_type': None, 'free_entity': None, 'is_valid': None, 'root': <class 'estnltk_core.layer.span.Span'>}]),\n",
       "EnvelopingSpan(['Väike-Maarjas'], [{'entity_type': None, 'free_entity': None, 'is_valid': None, 'root': <class 'estnltk_core.layer.span.Span'>}])])"
      ]
     },
     "execution_count": 8,
     "metadata": {},
     "output_type": "execute_result"
    }
   ],
   "source": [
    "sentence2 = texts2[100]\n",
    "sentence2.obl_phrases"
   ]
  },
  {
   "cell_type": "code",
   "execution_count": 9,
   "id": "5e58eb62",
   "metadata": {},
   "outputs": [],
   "source": [
    "assert len(sentence2.obl_phrases) == 2, len(sentence2.obl_phrases)\n",
    "assert list(sentence2.obl_phrases[0].text) == ['29.', 'mail'], list(sentence2.obl_phrases[0].text)\n",
    "assert len(sentence2.obl_phrases[1]) == 1, len(sentence2.obl_phrases[1])\n",
    "assert list(sentence2.obl_phrases[1].text) == ['Väike-Maarjas'], list(sentence2.obl_phrases[1].text)"
   ]
  },
  {
   "cell_type": "code",
   "execution_count": null,
   "id": "c24ae0e7",
   "metadata": {},
   "outputs": [],
   "source": []
  },
  {
   "cell_type": "markdown",
   "id": "d1d7e6a5",
   "metadata": {},
   "source": [
    "## Koondkorpuse lausetega test"
   ]
  },
  {
   "cell_type": "code",
   "execution_count": 10,
   "id": "ca00fd30",
   "metadata": {},
   "outputs": [],
   "source": [
    "import os\n",
    "os.environ['TF_CPP_MIN_LOG_LEVEL'] = '2'\n",
    "\n",
    "from estnltk_neural.taggers.syntax.stanza_tagger.stanza_tagger import StanzaSyntaxTagger\n",
    "from estnltk import Text"
   ]
  },
  {
   "cell_type": "code",
   "execution_count": 11,
   "id": "b2b49c7f",
   "metadata": {},
   "outputs": [],
   "source": [
    "model_path = r\"./estnltk_neural/taggers/syntax/stanza_tagger/stanza_resources/\"\n",
    "input_type=\"morph_extended\"\n",
    "stanza_tagger = StanzaSyntaxTagger(input_type=input_type, input_morph_layer=input_type, add_parent_and_children=True, resources_path=model_path)"
   ]
  },
  {
   "cell_type": "code",
   "execution_count": 12,
   "id": "b86f7192",
   "metadata": {},
   "outputs": [],
   "source": [
    "phrase_tagger2 = PhraseExtractor(deprel=\"obl\", input_type=\"stanza_syntax\", \n",
    "                                syntax_layer=\"stanza_syntax\", output_layer=\"obl_phrases\")"
   ]
  },
  {
   "cell_type": "code",
   "execution_count": 13,
   "id": "b2104ffa",
   "metadata": {},
   "outputs": [
    {
     "data": {
      "text/html": [
       "<table border=\"1\" class=\"dataframe\">\n",
       "  <thead>\n",
       "    <tr style=\"text-align: right;\">\n",
       "      <th>text</th>\n",
       "    </tr>\n",
       "  </thead>\n",
       "  <tbody>\n",
       "    <tr>\n",
       "      <td><div align = \"left\">Kolme aastaga on Eminem  alias  Marshall Mathers III ( 30 ) kindlalt meie teadvusesse sööbinud .</div></td>\n",
       "    </tr>\n",
       "  </tbody>\n",
       "</table>\n",
       "<table border=\"1\" class=\"dataframe\">\n",
       "  <thead>\n",
       "    <tr style=\"text-align: right;\">\n",
       "      <th>layer name</th>\n",
       "      <th>attributes</th>\n",
       "      <th>parent</th>\n",
       "      <th>enveloping</th>\n",
       "      <th>ambiguous</th>\n",
       "      <th>span count</th>\n",
       "    </tr>\n",
       "  </thead>\n",
       "  <tbody>\n",
       "    <tr>\n",
       "      <td>sentences</td>\n",
       "      <td></td>\n",
       "      <td>None</td>\n",
       "      <td>words</td>\n",
       "      <td>False</td>\n",
       "      <td>1</td>\n",
       "    </tr>\n",
       "    <tr>\n",
       "      <td>tokens</td>\n",
       "      <td></td>\n",
       "      <td>None</td>\n",
       "      <td>None</td>\n",
       "      <td>False</td>\n",
       "      <td>16</td>\n",
       "    </tr>\n",
       "    <tr>\n",
       "      <td>compound_tokens</td>\n",
       "      <td>type, normalized</td>\n",
       "      <td>None</td>\n",
       "      <td>tokens</td>\n",
       "      <td>False</td>\n",
       "      <td>0</td>\n",
       "    </tr>\n",
       "    <tr>\n",
       "      <td>words</td>\n",
       "      <td>normalized_form</td>\n",
       "      <td>None</td>\n",
       "      <td>None</td>\n",
       "      <td>True</td>\n",
       "      <td>16</td>\n",
       "    </tr>\n",
       "    <tr>\n",
       "      <td>morph_analysis</td>\n",
       "      <td>normalized_text, lemma, root, root_tokens, ending, clitic, form, partofspeech</td>\n",
       "      <td>words</td>\n",
       "      <td>None</td>\n",
       "      <td>True</td>\n",
       "      <td>16</td>\n",
       "    </tr>\n",
       "    <tr>\n",
       "      <td>morph_extended</td>\n",
       "      <td>normalized_text, lemma, root, root_tokens, ending, clitic, form, partofspeech, punctuation_type, pronoun_type, letter_case, fin, verb_extension_suffix, subcat</td>\n",
       "      <td>morph_analysis</td>\n",
       "      <td>None</td>\n",
       "      <td>True</td>\n",
       "      <td>16</td>\n",
       "    </tr>\n",
       "    <tr>\n",
       "      <td>stanza_syntax</td>\n",
       "      <td>id, lemma, upostag, xpostag, feats, head, deprel, deps, misc, parent_span, children</td>\n",
       "      <td>morph_extended</td>\n",
       "      <td>None</td>\n",
       "      <td>False</td>\n",
       "      <td>16</td>\n",
       "    </tr>\n",
       "    <tr>\n",
       "      <td>obl_phrases</td>\n",
       "      <td>entity_type, free_entity, is_valid, root</td>\n",
       "      <td>None</td>\n",
       "      <td>morph_analysis</td>\n",
       "      <td>False</td>\n",
       "      <td>2</td>\n",
       "    </tr>\n",
       "  </tbody>\n",
       "</table>"
      ],
      "text/plain": [
       "Text(text='Kolme aastaga on Eminem  alias  Marshall Mathers III ( 30 ) kindlalt meie teadvusesse sööbinud .')"
      ]
     },
     "execution_count": 13,
     "metadata": {},
     "output_type": "execute_result"
    }
   ],
   "source": [
    "txt1 = Text('Kolme aastaga on Eminem  alias  Marshall Mathers III ( 30 ) kindlalt meie teadvusesse sööbinud .')\n",
    "txt1.tag_layer('morph_extended')\n",
    "stanza_tagger.tag( txt1 )\n",
    "phrase_tagger2.tag( txt1 )"
   ]
  },
  {
   "cell_type": "code",
   "execution_count": 14,
   "id": "10fb87cd",
   "metadata": {},
   "outputs": [],
   "source": [
    "assert len(txt1.obl_phrases) == 2, len(txt1.obl_phrases)\n",
    "assert list(txt1.obl_phrases[0].text) == ['Kolme', 'aastaga'], list(txt1.obl_phrases[0].text)\n",
    "assert len(txt1.obl_phrases[0]) == 2, len(txt1.obl_phrases[0])\n",
    "assert len(txt1.obl_phrases[1]) == 2, len(txt1.obl_phrases[1])\n",
    "assert list(txt1.obl_phrases[1].text) == ['meie', 'teadvusesse'], list(txt1.obl_phrases[1].text)"
   ]
  },
  {
   "cell_type": "code",
   "execution_count": 15,
   "id": "8eff911a",
   "metadata": {},
   "outputs": [
    {
     "data": {
      "text/html": [
       "<table border=\"1\" class=\"dataframe\">\n",
       "  <thead>\n",
       "    <tr style=\"text-align: right;\">\n",
       "      <th>text</th>\n",
       "    </tr>\n",
       "  </thead>\n",
       "  <tbody>\n",
       "    <tr>\n",
       "      <td><div align = \"left\">Aga ma sain sellest nõiaringist välja .</div></td>\n",
       "    </tr>\n",
       "  </tbody>\n",
       "</table>\n",
       "<table border=\"1\" class=\"dataframe\">\n",
       "  <thead>\n",
       "    <tr style=\"text-align: right;\">\n",
       "      <th>layer name</th>\n",
       "      <th>attributes</th>\n",
       "      <th>parent</th>\n",
       "      <th>enveloping</th>\n",
       "      <th>ambiguous</th>\n",
       "      <th>span count</th>\n",
       "    </tr>\n",
       "  </thead>\n",
       "  <tbody>\n",
       "    <tr>\n",
       "      <td>sentences</td>\n",
       "      <td></td>\n",
       "      <td>None</td>\n",
       "      <td>words</td>\n",
       "      <td>False</td>\n",
       "      <td>1</td>\n",
       "    </tr>\n",
       "    <tr>\n",
       "      <td>tokens</td>\n",
       "      <td></td>\n",
       "      <td>None</td>\n",
       "      <td>None</td>\n",
       "      <td>False</td>\n",
       "      <td>7</td>\n",
       "    </tr>\n",
       "    <tr>\n",
       "      <td>compound_tokens</td>\n",
       "      <td>type, normalized</td>\n",
       "      <td>None</td>\n",
       "      <td>tokens</td>\n",
       "      <td>False</td>\n",
       "      <td>0</td>\n",
       "    </tr>\n",
       "    <tr>\n",
       "      <td>words</td>\n",
       "      <td>normalized_form</td>\n",
       "      <td>None</td>\n",
       "      <td>None</td>\n",
       "      <td>True</td>\n",
       "      <td>7</td>\n",
       "    </tr>\n",
       "    <tr>\n",
       "      <td>morph_analysis</td>\n",
       "      <td>normalized_text, lemma, root, root_tokens, ending, clitic, form, partofspeech</td>\n",
       "      <td>words</td>\n",
       "      <td>None</td>\n",
       "      <td>True</td>\n",
       "      <td>7</td>\n",
       "    </tr>\n",
       "    <tr>\n",
       "      <td>morph_extended</td>\n",
       "      <td>normalized_text, lemma, root, root_tokens, ending, clitic, form, partofspeech, punctuation_type, pronoun_type, letter_case, fin, verb_extension_suffix, subcat</td>\n",
       "      <td>morph_analysis</td>\n",
       "      <td>None</td>\n",
       "      <td>True</td>\n",
       "      <td>7</td>\n",
       "    </tr>\n",
       "    <tr>\n",
       "      <td>stanza_syntax</td>\n",
       "      <td>id, lemma, upostag, xpostag, feats, head, deprel, deps, misc, parent_span, children</td>\n",
       "      <td>morph_extended</td>\n",
       "      <td>None</td>\n",
       "      <td>False</td>\n",
       "      <td>7</td>\n",
       "    </tr>\n",
       "    <tr>\n",
       "      <td>obl_phrases</td>\n",
       "      <td>entity_type, free_entity, is_valid, root</td>\n",
       "      <td>None</td>\n",
       "      <td>morph_analysis</td>\n",
       "      <td>False</td>\n",
       "      <td>2</td>\n",
       "    </tr>\n",
       "  </tbody>\n",
       "</table>"
      ],
      "text/plain": [
       "Text(text='Aga ma sain sellest nõiaringist välja .')"
      ]
     },
     "execution_count": 15,
     "metadata": {},
     "output_type": "execute_result"
    }
   ],
   "source": [
    "txt2 = Text('Aga ma sain sellest nõiaringist välja .')\n",
    "txt2.tag_layer('morph_extended')\n",
    "stanza_tagger.tag( txt2 )\n",
    "phrase_tagger2.tag( txt2 )"
   ]
  },
  {
   "cell_type": "code",
   "execution_count": 16,
   "id": "3d5da57d",
   "metadata": {},
   "outputs": [],
   "source": [
    "assert len(txt2.obl_phrases) == 2, len(txt2.obl_phrases)\n",
    "assert list(txt2.obl_phrases[0].text) == ['sellest'], list(txt2.obl_phrases[0].text)\n",
    "assert len(txt2.obl_phrases[0]) == 1, len(txt2.obl_phrases[0])\n",
    "assert len(txt2.obl_phrases[1]) == 1, len(txt2.obl_phrases[1])\n",
    "assert list(txt2.obl_phrases[1].text) == ['nõiaringist'], list(txt2.obl_phrases[1].text)"
   ]
  },
  {
   "cell_type": "code",
   "execution_count": 17,
   "id": "e27608ef",
   "metadata": {},
   "outputs": [
    {
     "data": {
      "text/html": [
       "<table border=\"1\" class=\"dataframe\">\n",
       "  <thead>\n",
       "    <tr style=\"text-align: right;\">\n",
       "      <th>text</th>\n",
       "    </tr>\n",
       "  </thead>\n",
       "  <tbody>\n",
       "    <tr>\n",
       "      <td><div align = \"left\">Oleksin võinud vangi sattuda .</div></td>\n",
       "    </tr>\n",
       "  </tbody>\n",
       "</table>\n",
       "<table border=\"1\" class=\"dataframe\">\n",
       "  <thead>\n",
       "    <tr style=\"text-align: right;\">\n",
       "      <th>layer name</th>\n",
       "      <th>attributes</th>\n",
       "      <th>parent</th>\n",
       "      <th>enveloping</th>\n",
       "      <th>ambiguous</th>\n",
       "      <th>span count</th>\n",
       "    </tr>\n",
       "  </thead>\n",
       "  <tbody>\n",
       "    <tr>\n",
       "      <td>sentences</td>\n",
       "      <td></td>\n",
       "      <td>None</td>\n",
       "      <td>words</td>\n",
       "      <td>False</td>\n",
       "      <td>1</td>\n",
       "    </tr>\n",
       "    <tr>\n",
       "      <td>tokens</td>\n",
       "      <td></td>\n",
       "      <td>None</td>\n",
       "      <td>None</td>\n",
       "      <td>False</td>\n",
       "      <td>5</td>\n",
       "    </tr>\n",
       "    <tr>\n",
       "      <td>compound_tokens</td>\n",
       "      <td>type, normalized</td>\n",
       "      <td>None</td>\n",
       "      <td>tokens</td>\n",
       "      <td>False</td>\n",
       "      <td>0</td>\n",
       "    </tr>\n",
       "    <tr>\n",
       "      <td>words</td>\n",
       "      <td>normalized_form</td>\n",
       "      <td>None</td>\n",
       "      <td>None</td>\n",
       "      <td>True</td>\n",
       "      <td>5</td>\n",
       "    </tr>\n",
       "    <tr>\n",
       "      <td>morph_analysis</td>\n",
       "      <td>normalized_text, lemma, root, root_tokens, ending, clitic, form, partofspeech</td>\n",
       "      <td>words</td>\n",
       "      <td>None</td>\n",
       "      <td>True</td>\n",
       "      <td>5</td>\n",
       "    </tr>\n",
       "    <tr>\n",
       "      <td>morph_extended</td>\n",
       "      <td>normalized_text, lemma, root, root_tokens, ending, clitic, form, partofspeech, punctuation_type, pronoun_type, letter_case, fin, verb_extension_suffix, subcat</td>\n",
       "      <td>morph_analysis</td>\n",
       "      <td>None</td>\n",
       "      <td>True</td>\n",
       "      <td>5</td>\n",
       "    </tr>\n",
       "    <tr>\n",
       "      <td>stanza_syntax</td>\n",
       "      <td>id, lemma, upostag, xpostag, feats, head, deprel, deps, misc, parent_span, children</td>\n",
       "      <td>morph_extended</td>\n",
       "      <td>None</td>\n",
       "      <td>False</td>\n",
       "      <td>5</td>\n",
       "    </tr>\n",
       "    <tr>\n",
       "      <td>obl_phrases</td>\n",
       "      <td>entity_type, free_entity, is_valid, root</td>\n",
       "      <td>None</td>\n",
       "      <td>morph_analysis</td>\n",
       "      <td>False</td>\n",
       "      <td>1</td>\n",
       "    </tr>\n",
       "  </tbody>\n",
       "</table>"
      ],
      "text/plain": [
       "Text(text='Oleksin võinud vangi sattuda .')"
      ]
     },
     "execution_count": 17,
     "metadata": {},
     "output_type": "execute_result"
    }
   ],
   "source": [
    "txt3 = Text('Oleksin võinud vangi sattuda .')\n",
    "txt3.tag_layer('morph_extended')\n",
    "stanza_tagger.tag( txt3 )\n",
    "phrase_tagger2.tag( txt3 )"
   ]
  },
  {
   "cell_type": "code",
   "execution_count": 18,
   "id": "035f8399",
   "metadata": {},
   "outputs": [],
   "source": [
    "assert len(txt3.obl_phrases) == 1, len(txt3.obl_phrases)\n",
    "assert list(txt3.obl_phrases[0].text) == ['vangi'], list(txt3.obl_phrases[0].text)\n",
    "assert len(txt3.obl_phrases[0]) == 1, len(txt3.obl_phrases[0])"
   ]
  },
  {
   "cell_type": "code",
   "execution_count": null,
   "id": "8502a15e",
   "metadata": {},
   "outputs": [],
   "source": []
  }
 ],
 "metadata": {
  "kernelspec": {
   "display_name": "Python 3 (ipykernel)",
   "language": "python",
   "name": "python3"
  },
  "language_info": {
   "codemirror_mode": {
    "name": "ipython",
    "version": 3
   },
   "file_extension": ".py",
   "mimetype": "text/x-python",
   "name": "python",
   "nbconvert_exporter": "python",
   "pygments_lexer": "ipython3",
   "version": "3.9.13"
  }
 },
 "nbformat": 4,
 "nbformat_minor": 5
}
