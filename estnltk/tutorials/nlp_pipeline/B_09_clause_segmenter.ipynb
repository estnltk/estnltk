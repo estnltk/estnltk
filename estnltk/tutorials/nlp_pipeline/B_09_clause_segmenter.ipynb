{
 "cells": [
  {
   "cell_type": "markdown",
   "metadata": {},
   "source": [
    "## Clause Segmenter\n",
    "\n",
    "A simple sentence, also called an independent clause, typically contains a finite verb, and expresses a complete thought. However, natural language sentences can also be long and complex, consisting of two or more clauses joined together. The clause structure can be made even more complex due to embedded clauses, which divide their parent clauses into two halves, for instance:"
   ]
  },
  {
   "cell_type": "markdown",
   "metadata": {},
   "source": [
    "        'Mees, keda seal kohtasime, oli tuttav ja teretas meid.'\n",
    "        '[Mees, [keda seal kohtasime,] oli tuttav ja] [teretas meid.]'\n",
    "        (in the example, clauses are surrounded by brackets)"
   ]
  },
  {
   "cell_type": "markdown",
   "metadata": {},
   "source": [
    "Clause segmenter is a program that splits long and complex natural language sentences into clauses. Example:"
   ]
  },
  {
   "cell_type": "code",
   "execution_count": 1,
   "metadata": {},
   "outputs": [
    {
     "data": {
      "text/html": [
       "<h4>Layer</h4>\n",
       "\n",
       "\n",
       "<table border=\"1\" class=\"dataframe\">\n",
       "  <thead>\n",
       "    <tr style=\"text-align: right;\">\n",
       "      <th>layer name</th>\n",
       "      <th>attributes</th>\n",
       "      <th>parent</th>\n",
       "      <th>enveloping</th>\n",
       "      <th>ambiguous</th>\n",
       "      <th>span count</th>\n",
       "    </tr>\n",
       "  </thead>\n",
       "  <tbody>\n",
       "    <tr>\n",
       "      <td>clauses</td>\n",
       "      <td>clause_type</td>\n",
       "      <td>None</td>\n",
       "      <td>words</td>\n",
       "      <td>False</td>\n",
       "      <td>3</td>\n",
       "    </tr>\n",
       "  </tbody>\n",
       "</table>\n",
       "<table border=\"1\" class=\"dataframe\">\n",
       "  <thead>\n",
       "    <tr style=\"text-align: right;\">\n",
       "      <th>text</th>\n",
       "      <th>clause_type</th>\n",
       "    </tr>\n",
       "  </thead>\n",
       "  <tbody>\n",
       "    <tr>\n",
       "      <td>['Mees', 'oli', 'tuttav', 'ja']</td>\n",
       "      <td>regular</td>\n",
       "    </tr>\n",
       "    <tr>\n",
       "      <td>[',', 'keda', 'seal', 'kohtasime', ',']</td>\n",
       "      <td>embedded</td>\n",
       "    </tr>\n",
       "    <tr>\n",
       "      <td>['teretas', 'meid', '.']</td>\n",
       "      <td>regular</td>\n",
       "    </tr>\n",
       "  </tbody>\n",
       "</table>"
      ],
      "text/plain": [
       "Layer(name='clauses', attributes=('clause_type',), spans=SL[EnvelopingSpan(['Mees', 'oli', 'tuttav', 'ja'], [{'clause_type': 'regular'}]),\n",
       "EnvelopingSpan([',', 'keda', 'seal', 'kohtasime', ','], [{'clause_type': 'embedded'}]),\n",
       "EnvelopingSpan(['teretas', 'meid', '.'], [{'clause_type': 'regular'}])])"
      ]
     },
     "execution_count": 1,
     "metadata": {},
     "output_type": "execute_result"
    }
   ],
   "source": [
    "from estnltk import Text\n",
    "\n",
    "text = Text('Mees, keda seal kohtasime, oli tuttav ja teretas meid.')\n",
    "\n",
    "text.tag_layer(['clauses'])\n",
    "text.clauses"
   ]
  },
  {
   "cell_type": "markdown",
   "metadata": {},
   "source": [
    "There are two types of clauses: \n",
    " * **regular** clauses, which are usually separated from one another by punctuation and/or conjunctive words (such as _ja, ning, et, sest, kuid_);\n",
    " * **embedded** clauses, which are nested inside other clauses, and divide their parent clauses into two parts; embedded clauses can also be nested inside other embedded clauses, that is, the structure of embedding can be recursive;\n"
   ]
  },
  {
   "cell_type": "markdown",
   "metadata": {},
   "source": [
    "Linguistic motivations behind the clause segmenting are discussed by Kaalep and Muischnek in the articles [(2012A)](http://www.lrec-conf.org/proceedings/lrec2012/summaries/229.html) and [(2012B)](http://arhiiv.rakenduslingvistika.ee/ajakirjad/index.php/aastaraamat/article/view/ERYa8.04/6)."
   ]
  },
  {
   "cell_type": "markdown",
   "metadata": {},
   "source": [
    "**Note**: EstNLTK's clause segmenter uses a Java-based implementation of the tool. Before using the clause segmenter, make sure that:\n",
    "  * Java SE Runtime Environment (version >= 1.8) is installed into the system;\n",
    "  * `java` is in the [PATH environment variable](https://docs.oracle.com/javase/tutorial/essential/environment/paths.html);\n",
    "\n",
    "Source code of the Java-based clause segmenter is available [here](https://github.com/soras/osalausestaja)."
   ]
  },
  {
   "cell_type": "markdown",
   "metadata": {},
   "source": [
    "### ClauseSegmenter class\n",
    "\n",
    "#### The basic mode"
   ]
  },
  {
   "cell_type": "markdown",
   "metadata": {},
   "source": [
    "Clause segmenter can also be used as a stand-alone class. Before using `ClauseSegmenter`, the input `Text` object must have layers `\"words\"`, `\"sentences\"`, and also `\"morph_analysis\"`. The last layer is required because clause tagging also needs information about finite verbs in the text."
   ]
  },
  {
   "cell_type": "code",
   "execution_count": 2,
   "metadata": {},
   "outputs": [
    {
     "data": {
      "text/html": [
       "<table border=\"1\" class=\"dataframe\">\n",
       "  <thead>\n",
       "    <tr style=\"text-align: right;\">\n",
       "      <th>text</th>\n",
       "    </tr>\n",
       "  </thead>\n",
       "  <tbody>\n",
       "    <tr>\n",
       "      <td><div align = \"left\">Igaüks, kes traktori eest miljon krooni lauale laob, on huvitatud sellest, et traktor meenutaks lisavõimaluste poolest võimalikult palju kosmoselaeva.</div></td>\n",
       "    </tr>\n",
       "  </tbody>\n",
       "</table>\n",
       "<table border=\"1\" class=\"dataframe\">\n",
       "  <thead>\n",
       "    <tr style=\"text-align: right;\">\n",
       "      <th>layer name</th>\n",
       "      <th>attributes</th>\n",
       "      <th>parent</th>\n",
       "      <th>enveloping</th>\n",
       "      <th>ambiguous</th>\n",
       "      <th>span count</th>\n",
       "    </tr>\n",
       "  </thead>\n",
       "  <tbody>\n",
       "    <tr>\n",
       "      <td>sentences</td>\n",
       "      <td></td>\n",
       "      <td>None</td>\n",
       "      <td>words</td>\n",
       "      <td>False</td>\n",
       "      <td>1</td>\n",
       "    </tr>\n",
       "    <tr>\n",
       "      <td>tokens</td>\n",
       "      <td></td>\n",
       "      <td>None</td>\n",
       "      <td>None</td>\n",
       "      <td>False</td>\n",
       "      <td>23</td>\n",
       "    </tr>\n",
       "    <tr>\n",
       "      <td>compound_tokens</td>\n",
       "      <td>type, normalized</td>\n",
       "      <td>None</td>\n",
       "      <td>tokens</td>\n",
       "      <td>False</td>\n",
       "      <td>0</td>\n",
       "    </tr>\n",
       "    <tr>\n",
       "      <td>words</td>\n",
       "      <td>normalized_form</td>\n",
       "      <td>None</td>\n",
       "      <td>None</td>\n",
       "      <td>True</td>\n",
       "      <td>23</td>\n",
       "    </tr>\n",
       "    <tr>\n",
       "      <td>morph_analysis</td>\n",
       "      <td>normalized_text, lemma, root, root_tokens, ending, clitic, form, partofspeech</td>\n",
       "      <td>words</td>\n",
       "      <td>None</td>\n",
       "      <td>True</td>\n",
       "      <td>23</td>\n",
       "    </tr>\n",
       "  </tbody>\n",
       "</table>"
      ],
      "text/plain": [
       "Text(text='Igaüks, kes traktori eest miljon krooni lauale laob, on huvitatud sellest, et traktor meenutaks lisavõimaluste poolest võimalikult palju kosmoselaeva.')"
      ]
     },
     "execution_count": 2,
     "metadata": {},
     "output_type": "execute_result"
    }
   ],
   "source": [
    "from estnltk import Text\n",
    "from estnltk.taggers import ClauseSegmenter\n",
    "\n",
    "# Create text with required layers\n",
    "text = Text('Igaüks, kes traktori eest miljon krooni lauale laob, on huvitatud sellest, '+\\\n",
    "            'et traktor meenutaks lisavõimaluste poolest võimalikult palju kosmoselaeva.')\n",
    "text.tag_layer(['words', 'sentences', 'morph_analysis'])"
   ]
  },
  {
   "cell_type": "markdown",
   "metadata": {},
   "source": [
    "Because Java resources need to be cleaned up after using the segmenter, we recommend to use `ClauseSegmenter` in a **`with`** statement as a _context manager_, so that the resources will be automatically cleaned up afterwards:"
   ]
  },
  {
   "cell_type": "code",
   "execution_count": 3,
   "metadata": {},
   "outputs": [
    {
     "data": {
      "text/html": [
       "<h4>Layer</h4>\n",
       "\n",
       "\n",
       "<table border=\"1\" class=\"dataframe\">\n",
       "  <thead>\n",
       "    <tr style=\"text-align: right;\">\n",
       "      <th>layer name</th>\n",
       "      <th>attributes</th>\n",
       "      <th>parent</th>\n",
       "      <th>enveloping</th>\n",
       "      <th>ambiguous</th>\n",
       "      <th>span count</th>\n",
       "    </tr>\n",
       "  </thead>\n",
       "  <tbody>\n",
       "    <tr>\n",
       "      <td>clauses</td>\n",
       "      <td>clause_type</td>\n",
       "      <td>None</td>\n",
       "      <td>words</td>\n",
       "      <td>False</td>\n",
       "      <td>3</td>\n",
       "    </tr>\n",
       "  </tbody>\n",
       "</table>\n",
       "<table border=\"1\" class=\"dataframe\">\n",
       "  <thead>\n",
       "    <tr style=\"text-align: right;\">\n",
       "      <th>text</th>\n",
       "      <th>clause_type</th>\n",
       "    </tr>\n",
       "  </thead>\n",
       "  <tbody>\n",
       "    <tr>\n",
       "      <td>['Igaüks', 'on', 'huvitatud', 'sellest', ',']</td>\n",
       "      <td>regular</td>\n",
       "    </tr>\n",
       "    <tr>\n",
       "      <td>[',', 'kes', 'traktori', 'eest', 'miljon', 'krooni', 'lauale', 'laob', ',']</td>\n",
       "      <td>embedded</td>\n",
       "    </tr>\n",
       "    <tr>\n",
       "      <td>['et', 'traktor', 'meenutaks', 'lisavõimaluste', 'poolest', 'võimalikult', 'palj ..., type: &lt;class 'list'&gt;, length: 9</td>\n",
       "      <td>regular</td>\n",
       "    </tr>\n",
       "  </tbody>\n",
       "</table>"
      ],
      "text/plain": [
       "Layer(name='clauses', attributes=('clause_type',), spans=SL[EnvelopingSpan(['Igaüks', 'on', 'huvitatud', 'sellest', ','], [{'clause_type': 'regular'}]),\n",
       "EnvelopingSpan([',', 'kes', 'traktori', 'eest', 'miljon', 'krooni', 'lauale', 'laob', ','], [{'clause_type': 'embedded'}]),\n",
       "EnvelopingSpan(['et', 'traktor', 'meenutaks', 'lisavõimaluste', 'poolest', 'võimalikult', 'palju', 'kosmoselaeva', '.'], [{'clause_type': 'regular'}])])"
      ]
     },
     "execution_count": 3,
     "metadata": {},
     "output_type": "execute_result"
    }
   ],
   "source": [
    "# Add clause annotations\n",
    "with ClauseSegmenter() as clause_segmenter:\n",
    "    clause_segmenter.tag(text)\n",
    "\n",
    "# Browse results\n",
    "text.clauses"
   ]
  },
  {
   "cell_type": "markdown",
   "metadata": {},
   "source": [
    "_Note_: after the **`with`** context, the `ClauseSegmenter` instance can no longer be used for tagging texts;"
   ]
  },
  {
   "cell_type": "markdown",
   "metadata": {},
   "source": [
    "#### Terminating `ClauseSegmenter` manually\n",
    "\n",
    "If you need to use `ClauseSegmenter` outside `with` statement, you should terminate its Java process manually. "
   ]
  },
  {
   "cell_type": "code",
   "execution_count": 4,
   "metadata": {},
   "outputs": [
    {
     "data": {
      "text/html": [
       "<h4>Tagger</h4>\n",
       "Tags clause boundaries inside sentences. \n",
       "<table border=\"1\" class=\"dataframe\">\n",
       "  <thead>\n",
       "    <tr style=\"text-align: right;\">\n",
       "      <th>name</th>\n",
       "      <th>output layer</th>\n",
       "      <th>output attributes</th>\n",
       "      <th>input layers</th>\n",
       "    </tr>\n",
       "  </thead>\n",
       "  <tbody>\n",
       "    <tr>\n",
       "      <td>ClauseSegmenter</td>\n",
       "      <td>clauses</td>\n",
       "      <td>('clause_type',)</td>\n",
       "      <td>('words', 'sentences', 'morph_analysis')</td>\n",
       "    </tr>\n",
       "  </tbody>\n",
       "</table>\n",
       "<h4>Configuration</h4>\n",
       "<table border=\"1\" class=\"dataframe\">\n",
       "  <tbody>\n",
       "    <tr>\n",
       "      <th>ignore_missing_commas</th>\n",
       "      <td>False</td>\n",
       "    </tr>\n",
       "    <tr>\n",
       "      <th>use_normalized_word_form</th>\n",
       "      <td>True</td>\n",
       "    </tr>\n",
       "  </tbody>\n",
       "</table>"
      ],
      "text/plain": [
       "ClauseSegmenter(input_layers=('words', 'sentences', 'morph_analysis'), output_layer=clauses, output_attributes=('clause_type',), ignore_missing_commas=False, use_normalized_word_form=True)"
      ]
     },
     "execution_count": 4,
     "metadata": {},
     "output_type": "execute_result"
    }
   ],
   "source": [
    "from estnltk import Text\n",
    "from estnltk.taggers import ClauseSegmenter\n",
    "\n",
    "# Create clause segmenter\n",
    "clause_segmenter = ClauseSegmenter()\n",
    "clause_segmenter"
   ]
  },
  {
   "cell_type": "markdown",
   "metadata": {},
   "source": [
    "Tag clauses, and use the method `close()` after tagging to terminate the process manually:"
   ]
  },
  {
   "cell_type": "code",
   "execution_count": 5,
   "metadata": {},
   "outputs": [
    {
     "data": {
      "text/html": [
       "<h4>Layer</h4>\n",
       "\n",
       "\n",
       "<table border=\"1\" class=\"dataframe\">\n",
       "  <thead>\n",
       "    <tr style=\"text-align: right;\">\n",
       "      <th>layer name</th>\n",
       "      <th>attributes</th>\n",
       "      <th>parent</th>\n",
       "      <th>enveloping</th>\n",
       "      <th>ambiguous</th>\n",
       "      <th>span count</th>\n",
       "    </tr>\n",
       "  </thead>\n",
       "  <tbody>\n",
       "    <tr>\n",
       "      <td>clauses</td>\n",
       "      <td>clause_type</td>\n",
       "      <td>None</td>\n",
       "      <td>words</td>\n",
       "      <td>False</td>\n",
       "      <td>3</td>\n",
       "    </tr>\n",
       "  </tbody>\n",
       "</table>\n",
       "<table border=\"1\" class=\"dataframe\">\n",
       "  <thead>\n",
       "    <tr style=\"text-align: right;\">\n",
       "      <th>text</th>\n",
       "      <th>clause_type</th>\n",
       "    </tr>\n",
       "  </thead>\n",
       "  <tbody>\n",
       "    <tr>\n",
       "      <td>['Igaüks', 'on', 'huvitatud', 'sellest', ',']</td>\n",
       "      <td>regular</td>\n",
       "    </tr>\n",
       "    <tr>\n",
       "      <td>[',', 'kes', 'traktori', 'eest', 'miljon', 'krooni', 'lauale', 'laob', ',']</td>\n",
       "      <td>embedded</td>\n",
       "    </tr>\n",
       "    <tr>\n",
       "      <td>['et', 'traktor', 'meenutaks', 'lisavõimaluste', 'poolest', 'võimalikult', 'palj ..., type: &lt;class 'list'&gt;, length: 9</td>\n",
       "      <td>regular</td>\n",
       "    </tr>\n",
       "  </tbody>\n",
       "</table>"
      ],
      "text/plain": [
       "Layer(name='clauses', attributes=('clause_type',), spans=SL[EnvelopingSpan(['Igaüks', 'on', 'huvitatud', 'sellest', ','], [{'clause_type': 'regular'}]),\n",
       "EnvelopingSpan([',', 'kes', 'traktori', 'eest', 'miljon', 'krooni', 'lauale', 'laob', ','], [{'clause_type': 'embedded'}]),\n",
       "EnvelopingSpan(['et', 'traktor', 'meenutaks', 'lisavõimaluste', 'poolest', 'võimalikult', 'palju', 'kosmoselaeva', '.'], [{'clause_type': 'regular'}])])"
      ]
     },
     "execution_count": 5,
     "metadata": {},
     "output_type": "execute_result"
    }
   ],
   "source": [
    "# Create text with required layers\n",
    "text = Text('Igaüks, kes traktori eest miljon krooni lauale laob, on huvitatud sellest, '+\\\n",
    "            'et traktor meenutaks lisavõimaluste poolest võimalikult palju kosmoselaeva.')\n",
    "text.tag_layer(['words', 'sentences', 'morph_analysis'])\n",
    "\n",
    "# Tag clause annotations\n",
    "clause_segmenter.tag(text)\n",
    "\n",
    "# Terminate the process\n",
    "clause_segmenter.close()\n",
    "\n",
    "# Browse results\n",
    "text.clauses"
   ]
  },
  {
   "cell_type": "markdown",
   "metadata": {},
   "source": [
    "_Notes_:\n",
    "\n",
    "  * After calling the method `close()`, the `ClauseSegmenter` instance can no longer be used for tagging texts;\n",
    "  \n",
    "  * Creating many `ClauseSegmenter`-s and not terminating them properly likely leads to unexpected errors;  "
   ]
  },
  {
   "cell_type": "markdown",
   "metadata": {},
   "source": [
    "#### The `ignore_missing_commas` mode\n",
    "\n",
    "Because commas are important clause delimiters in Estonian, the quality of the clause segmentation may suffer due to accidentially missing commas in the input text. To address this issue, the clause segmenter can be initialized in a mode in which the program tries to be less sensitive to missing commas while detecting clause boundaries. Example:"
   ]
  },
  {
   "cell_type": "code",
   "execution_count": 6,
   "metadata": {},
   "outputs": [
    {
     "data": {
      "text/html": [
       "<h4>Layer</h4>\n",
       "\n",
       "\n",
       "<table border=\"1\" class=\"dataframe\">\n",
       "  <thead>\n",
       "    <tr style=\"text-align: right;\">\n",
       "      <th>layer name</th>\n",
       "      <th>attributes</th>\n",
       "      <th>parent</th>\n",
       "      <th>enveloping</th>\n",
       "      <th>ambiguous</th>\n",
       "      <th>span count</th>\n",
       "    </tr>\n",
       "  </thead>\n",
       "  <tbody>\n",
       "    <tr>\n",
       "      <td>clauses</td>\n",
       "      <td>clause_type</td>\n",
       "      <td>None</td>\n",
       "      <td>words</td>\n",
       "      <td>False</td>\n",
       "      <td>4</td>\n",
       "    </tr>\n",
       "  </tbody>\n",
       "</table>\n",
       "<table border=\"1\" class=\"dataframe\">\n",
       "  <thead>\n",
       "    <tr style=\"text-align: right;\">\n",
       "      <th>text</th>\n",
       "      <th>clause_type</th>\n",
       "    </tr>\n",
       "  </thead>\n",
       "  <tbody>\n",
       "    <tr>\n",
       "      <td>['Keegi', 'teine', 'ka', 'siin', 'ju', 'kirjutas']</td>\n",
       "      <td>regular</td>\n",
       "    </tr>\n",
       "    <tr>\n",
       "      <td>['et', 'ütles']</td>\n",
       "      <td>regular</td>\n",
       "    </tr>\n",
       "    <tr>\n",
       "      <td>['et', 'saab', 'ise', 'asjadele', 'järgi', 'minna']</td>\n",
       "      <td>regular</td>\n",
       "    </tr>\n",
       "    <tr>\n",
       "      <td>['aga', 'vastust', 'seepeale', 'ei', 'tulnudki', '.']</td>\n",
       "      <td>regular</td>\n",
       "    </tr>\n",
       "  </tbody>\n",
       "</table>"
      ],
      "text/plain": [
       "Layer(name='clauses', attributes=('clause_type',), spans=SL[EnvelopingSpan(['Keegi', 'teine', 'ka', 'siin', 'ju', 'kirjutas'], [{'clause_type': 'regular'}]),\n",
       "EnvelopingSpan(['et', 'ütles'], [{'clause_type': 'regular'}]),\n",
       "EnvelopingSpan(['et', 'saab', 'ise', 'asjadele', 'järgi', 'minna'], [{'clause_type': 'regular'}]),\n",
       "EnvelopingSpan(['aga', 'vastust', 'seepeale', 'ei', 'tulnudki', '.'], [{'clause_type': 'regular'}])])"
      ]
     },
     "execution_count": 6,
     "metadata": {},
     "output_type": "execute_result"
    }
   ],
   "source": [
    "from estnltk import Text\n",
    "from estnltk.taggers import ClauseSegmenter\n",
    "\n",
    "with ClauseSegmenter(ignore_missing_commas=True) as clause_segmenter_2:\n",
    "    text = Text('Keegi teine ka siin ju kirjutas et ütles et saab ise asjadele järgi '+\n",
    "                'minna aga vastust seepeale ei tulnudki.')\n",
    "    # Add required layers\n",
    "    text.tag_layer(['words', 'sentences', 'morph_analysis'])\n",
    "    # Add clause annotation\n",
    "    clause_segmenter_2.tag(text)\n",
    "\n",
    "# Browse results\n",
    "text.clauses"
   ]
  },
  {
   "cell_type": "markdown",
   "metadata": {},
   "source": [
    "Note that compared to the basic mode, this mode may introduce additional incorrect clause boundaries, although it also improves clause boundary detection in texts with (a lot of) missing commas."
   ]
  },
  {
   "cell_type": "markdown",
   "metadata": {},
   "source": [
    "#### The `use_normalized_word_form` parameter\n",
    "\n",
    "The boolean parameter `use_normalized_word_form` specifies, if the normalized word forms are used in clause segmenter's input instead of the surface word forms (provided that normalized word forms are available). \n",
    "You can pass the parameter `use_normalized_word_form` to `ClauseSegmenter`'s constructor upon initialization of the tagger.\n",
    "\n",
    "Notes: \n",
    "  * in case of ambiguity of `normalized_form`, the first `normalized_form` is picked for the input;\n",
    "  * if `normalized_form` is `None`, then the surface word form is picked for the input;"
   ]
  }
 ],
 "metadata": {
  "kernelspec": {
   "display_name": "Python 3",
   "language": "python",
   "name": "python3"
  },
  "language_info": {
   "codemirror_mode": {
    "name": "ipython",
    "version": 3
   },
   "file_extension": ".py",
   "mimetype": "text/x-python",
   "name": "python",
   "nbconvert_exporter": "python",
   "pygments_lexer": "ipython3",
   "version": "3.5.6"
  }
 },
 "nbformat": 4,
 "nbformat_minor": 2
}
