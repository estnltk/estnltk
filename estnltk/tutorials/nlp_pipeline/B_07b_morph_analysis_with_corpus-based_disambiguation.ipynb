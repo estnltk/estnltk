{
 "cells": [
  {
   "cell_type": "markdown",
   "metadata": {},
   "source": [
    "## <span style=\"color:purple\">Morphological analysis with text-based and corpus-based disambiguation</span>\n",
    "\n",
    "EstNLTK's default morphological analysis uses a probabilistic disambiguator which relies on the local sentence context in making the disambiguation decisions (Kaalep and Vaino 2001). \n",
    "This works reasonably well for many types of texts: news articles, comments, mixed content etc.\n",
    "\n",
    "However, the default disambiguator has difficulties on getting the proper name analyses correct if proper names overlap with regular words ( e.g. family names that overlap with animal names, such as _Jänes_ or _Karu_ ).\n",
    "Furthermore, there are word forms which ambiguity is rather difficult to resolve locally. \n",
    "For instance, _koha_ can be either _a place_ (in genitive), or a _walleye (a fish)_ (in nominative) -- we need some knowledge about the topic of the text to pick the most likely candidate ( e.g. whether the text talks about _sports events_ or describes _nature_ ). \n",
    "These disambiguation problems can be addressed by using a broader context (e.g. a collection of texts) in the morphological disambiguation process.\n",
    "If morphologically ambiguous words reoccur in other parts of the text or in other related texts, one can use the assumption \"one lemma per discourse\" (inspired by the observation \"one sense per discourse\" from Word Sense Disambiguation (Gale et al. 1992)) and choose the right analysis based on the most frequently occurring lemma candidate (Kaalep et al. 2012).\n",
    "\n",
    "Considering the context used during the morphological disambiguation, we can distinguish sentence-based (the default), text-based and corpus-based disambiguation."
   ]
  },
  {
   "cell_type": "markdown",
   "metadata": {},
   "source": [
    "### Text-based morphological disambiguation"
   ]
  },
  {
   "cell_type": "markdown",
   "metadata": {},
   "source": [
    "Let's first consider an example text, which contains ambiguities that cannot be resolved by the default disambiguation:"
   ]
  },
  {
   "cell_type": "code",
   "execution_count": 1,
   "metadata": {},
   "outputs": [],
   "source": [
    "# Create text object\n",
    "from estnltk import Text\n",
    "text = Text('''Jänes oli võistluse favoriit, aga ka Karu suutis üllatada.\n",
    "Kes sai kõrgeima koha? Juba 2. koha peale käis pingeline võitlus.\n",
    "Karu tegi lõpuspurdi, hüppas üle Jänese ja maandus finiši ees põõsas.\n",
    "Karu audis, Jänesele esimene koht.''')\n",
    "\n",
    "# Add morphological analysis with the default disambiguation\n",
    "text = text.tag_layer('morph_analysis')"
   ]
  },
  {
   "cell_type": "code",
   "execution_count": 2,
   "metadata": {},
   "outputs": [
    {
     "name": "stdout",
     "output_type": "stream",
     "text": [
      "Jänes [('jänes', 'S', 'sg n')]\n",
      "Karu [('Karu', 'H', 'sg n')]\n",
      "Kes [('kes', 'P', 'sg n'), ('kes', 'P', 'pl n')]\n",
      "koha [('koht', 'S', 'sg g'), ('koha', 'S', 'sg g')]\n",
      "Juba [('juba', 'D', '')]\n",
      "koha [('koht', 'S', 'sg g'), ('koha', 'S', 'sg g')]\n",
      "Karu [('Karu', 'H', 'sg n')]\n",
      "Jänese [('Jänes', 'H', 'sg g'), ('Jänese', 'H', 'sg g')]\n",
      "Karu [('Karu', 'H', 'sg n')]\n",
      "Jänesele [('jänes', 'S', 'sg all')]\n"
     ]
    }
   ],
   "source": [
    "# Examine title-cased words amd words with ambiguous analyses\n",
    "for word in text.words:\n",
    "    if len(word.morph_analysis.annotations) > 1 or word.text.istitle():\n",
    "        print(word.text,[(a.root, a.partofspeech, a.form) for a in word.morph_analysis.annotations])"
   ]
  },
  {
   "cell_type": "markdown",
   "metadata": {},
   "source": [
    "Note that the common noun _koha_ remains ambiguous, and proper noun _Jänes_ is mistakenly analysed as a common noun (part-of-speech: 'S'), and has lemma ambiguity (_Jänese_ vs _Jänes_)."
   ]
  },
  {
   "cell_type": "markdown",
   "metadata": {},
   "source": [
    "Now, we can use `VabamorfTagger` with options `predisambiguate=True` and `postdisambiguate=True` to provide an enhanced, text-based disambiguation to the given text:"
   ]
  },
  {
   "cell_type": "code",
   "execution_count": 3,
   "metadata": {},
   "outputs": [],
   "source": [
    "# Initialize VabamorfTagger for text-based disambiguation\n",
    "from estnltk.taggers import VabamorfTagger\n",
    "vm_tagger = VabamorfTagger(output_layer='morph_analysis_with_tb_disamb',\n",
    "                           predisambiguate=True, \n",
    "                           postdisambiguate=True )\n",
    "text = vm_tagger.tag(text)"
   ]
  },
  {
   "cell_type": "markdown",
   "metadata": {},
   "source": [
    "Details about the flags `predisambiguate` and `postdisambiguate` are covered in the sections below; here, we can just note that they provide \"one lemma per discourse\" disambiguation within a single text."
   ]
  },
  {
   "cell_type": "code",
   "execution_count": 4,
   "metadata": {},
   "outputs": [
    {
     "name": "stdout",
     "output_type": "stream",
     "text": [
      "Jänes [('jänes', 'S', 'sg n')] => [('Jänes', 'H', 'sg n')]\n",
      "\n",
      "koha [('koht', 'S', 'sg g'), ('koha', 'S', 'sg g')] => [('koht', 'S', 'sg g')]\n",
      "\n",
      "koha [('koht', 'S', 'sg g'), ('koha', 'S', 'sg g')] => [('koht', 'S', 'sg g')]\n",
      "\n",
      "Jänese [('Jänes', 'H', 'sg g'), ('Jänese', 'H', 'sg g')] => [('Jänes', 'H', 'sg g')]\n",
      "\n",
      "Jänesele [('jänes', 'S', 'sg all')] => [('Jänes', 'H', 'sg all')]\n",
      "\n"
     ]
    }
   ],
   "source": [
    "# Compare the results: output differences in annotations\n",
    "for word_id, word_span in enumerate( text.words ):\n",
    "    default_annotations    = text['morph_analysis'][word_id].annotations\n",
    "    text_based_annotations = text['morph_analysis_with_tb_disamb'][word_id].annotations\n",
    "    if default_annotations != text_based_annotations:\n",
    "        annotations_1 = [(a.root, a.partofspeech, a.form) for a in default_annotations]\n",
    "        annotations_2 = [(a.root, a.partofspeech, a.form) for a in text_based_annotations]\n",
    "        print(word_span.text, annotations_1,'=>',annotations_2)\n",
    "        print()"
   ]
  },
  {
   "cell_type": "markdown",
   "metadata": {},
   "source": [
    "Note that the common noun _koha_ has been correctly disambiguated, and _Jänes_ has been correctly analysed as a proper noun (part of speech 'H')."
   ]
  },
  {
   "cell_type": "markdown",
   "metadata": {},
   "source": [
    "_Remark_ :\n",
    "\n",
    "   * If you do not specific the argument `output_layer` in VabamorfTagger's constructor, the name 'morph\\_analysis' will be used by default. If this layer already exists (like in the previous example), this will result an error;"
   ]
  },
  {
   "cell_type": "markdown",
   "metadata": {},
   "source": [
    "<div class=\"alert alert-block alert-warning\">\n",
    "<h4><i>Switching on text-based disambiguation via <code>make_resolver</code></i></h4>\n",
    "<br>\n",
    "Naturally, you do not need to import <code>VabamorfTagger</code> in order to switch on <i>text-based disambiguation</i> -- you can also use flags <code>predisambiguate</code> and <code>postdisambiguate</code> with the <code>make_resolver</code>. Example:\n",
    "<pre>\n",
    "# Make new resolver\n",
    "from estnltk.resolve_layer_dag import make_resolver\n",
    "text_based_disamb_resolver = make_resolver(predisambiguate=True, postdisambiguate=True)\n",
    "# Create text\n",
    "text = Text( ... )\n",
    "# Add morph_analysis with text-based disambiguation\n",
    "text.tag_layer(resolver=text_based_disamb_resolver)['morph_analysis']\n",
    "</pre>\n",
    "</div>"
   ]
  },
  {
   "cell_type": "markdown",
   "metadata": {},
   "source": [
    "### Corpus-based morphological disambiguation"
   ]
  },
  {
   "cell_type": "markdown",
   "metadata": {},
   "source": [
    "Sometimes, a context wider than a single text is required to make better disambiguation decisions. \n",
    "For this, EstNLTK provides a special tagger called `VabamorfCorpusTagger`."
   ]
  },
  {
   "cell_type": "markdown",
   "metadata": {},
   "source": [
    "Let's now consider an example of a text collection. Each text contains some ambiguities that cannot be correctly resolved within the text alone -- other texts must also be taken account:"
   ]
  },
  {
   "cell_type": "code",
   "execution_count": 5,
   "metadata": {},
   "outputs": [],
   "source": [
    "corpus_texts = ['Esimesele kohale tuleb Jänes, kuigi tema punktide summa pole kõrgeim.',\\\n",
    "                'Lõpparvestuses läks Karule esimene koht. Teise koha sai seekord Jänes. '+\\\n",
    "                'Uus võistlus toimub 2. mail.', \\\n",
    "                'Karu paistis silma suurima punktide summaga. Jänesega jokk. Uue võistluse '+\\\n",
    "                'toimumisajaks on 2. mai.']"
   ]
  },
  {
   "cell_type": "code",
   "execution_count": 6,
   "metadata": {},
   "outputs": [],
   "source": [
    "# Create Texts and apply default morphological analysis\n",
    "from estnltk import Text\n",
    "corpus = [Text(t).tag_layer(['morph_analysis']) for t in corpus_texts]"
   ]
  },
  {
   "cell_type": "code",
   "execution_count": 7,
   "metadata": {},
   "outputs": [
    {
     "name": "stdout",
     "output_type": "stream",
     "text": [
      "kohale [('koht', 'S', 'sg all'), ('koha', 'S', 'sg all')]\n",
      "kuigi [('kuigi', 'J', ''), ('kuigi', 'D', '')]\n",
      "Teise [('teine', 'P', 'sg g'), ('teine', 'O', 'sg g')]\n",
      "koha [('koht', 'S', 'sg g'), ('koha', 'S', 'sg g')]\n",
      "mail [('mai', 'S', 'sg ad'), ('maa', 'S', 'pl ad')]\n",
      "summaga [('summ', 'S', 'sg kom'), ('summa', 'S', 'sg kom')]\n",
      "on [('ole', 'V', 'b'), ('ole', 'V', 'vad')]\n"
     ]
    }
   ],
   "source": [
    "# Examine words with ambiguous analyses\n",
    "for text in corpus:\n",
    "    for word in text.words:\n",
    "        if len(word.morph_analysis.annotations) > 1:\n",
    "            print(word.text,[(a.root, a.partofspeech, a.form) for a in word.morph_analysis.annotations])"
   ]
  },
  {
   "cell_type": "markdown",
   "metadata": {},
   "source": [
    "Note that the content nouns _kohale_ , _koha_ , _mail_ and _summaga_ remain ambiguous in this process."
   ]
  },
  {
   "cell_type": "code",
   "execution_count": 8,
   "metadata": {},
   "outputs": [
    {
     "name": "stdout",
     "output_type": "stream",
     "text": [
      "Esimesele [('esimene', 'O', 'sg all')]\n",
      "Jänes [('jänes', 'S', 'sg n')]\n",
      "Lõpparvestuses [('lõpp_arvestus', 'S', 'sg in')]\n",
      "Karule [('karu', 'S', 'sg all')]\n",
      "Teise [('teine', 'P', 'sg g'), ('teine', 'O', 'sg g')]\n",
      "Jänes [('jänes', 'S', 'sg n')]\n",
      "Uus [('uus', 'A', 'sg n')]\n",
      "Karu [('Karu', 'H', 'sg n')]\n",
      "Jänesega [('jänes', 'S', 'sg kom')]\n",
      "Uue [('uus', 'A', 'sg g')]\n"
     ]
    }
   ],
   "source": [
    "# Examine analyses of titlecase words\n",
    "for text in corpus:\n",
    "    for word in text.words:\n",
    "        if word.text.istitle():\n",
    "            print(word.text, [(a.root, a.partofspeech, a.form) for a in word.morph_analysis.annotations])"
   ]
  },
  {
   "cell_type": "markdown",
   "metadata": {},
   "source": [
    "Note that the proper names _Jänes_ , _Karule_ and _Jänesega_ are incorrectly analysed as common nouns (part of speech 'S')."
   ]
  },
  {
   "cell_type": "markdown",
   "metadata": {},
   "source": [
    "Let's use corpus-based disambiguation to solve these problems!"
   ]
  },
  {
   "cell_type": "markdown",
   "metadata": {},
   "source": [
    "VabamorfCorpusTagger performs morphological analysis, local context morphological disambiguation, and \"one lemma per discourse\" disambiguation on a list of Text objects:"
   ]
  },
  {
   "cell_type": "code",
   "execution_count": 9,
   "metadata": {},
   "outputs": [],
   "source": [
    "# Create new VabamorfCorpusTagger. \n",
    "# Use a different name for morph analysis layer\n",
    "from estnltk.taggers import VabamorfCorpusTagger\n",
    "vm_corpus_tagger = VabamorfCorpusTagger( output_layer='morph_analysis_with_cb_disamb' )"
   ]
  },
  {
   "cell_type": "code",
   "execution_count": 10,
   "metadata": {},
   "outputs": [
    {
     "data": {
      "text/plain": [
       "[Text(text='Esimesele kohale tuleb Jänes, kuigi tema punktide summa pole kõrgeim.'),\n",
       " Text(text='Lõpparvestuses läks Karule esimene koht. Teise koha sai seekord Jänes. Uus võistlus toimub 2. mail.'),\n",
       " Text(text='Karu paistis silma suurima punktide summaga. Jänesega jokk. Uue võistluse toimumisajaks on 2. mai.')]"
      ]
     },
     "execution_count": 10,
     "metadata": {},
     "output_type": "execute_result"
    }
   ],
   "source": [
    "# Retag the corpus, apply corpus-based morph analysis\n",
    "vm_corpus_tagger.tag( corpus )"
   ]
  },
  {
   "cell_type": "markdown",
   "metadata": {},
   "source": [
    "Let's examine the results:"
   ]
  },
  {
   "cell_type": "code",
   "execution_count": 11,
   "metadata": {},
   "outputs": [
    {
     "name": "stdout",
     "output_type": "stream",
     "text": [
      "kohale [('koht', 'S', 'sg all'), ('koha', 'S', 'sg all')] --> [('koht', 'S', 'sg all')]\n",
      "\n",
      "Jänes [('jänes', 'S', 'sg n')] --> [('Jänes', 'H', 'sg n')]\n",
      "\n",
      "Karule [('karu', 'S', 'sg all')] --> [('Karu', 'H', 'sg all')]\n",
      "\n",
      "koha [('koht', 'S', 'sg g'), ('koha', 'S', 'sg g')] --> [('koht', 'S', 'sg g')]\n",
      "\n",
      "Jänes [('jänes', 'S', 'sg n')] --> [('Jänes', 'H', 'sg n')]\n",
      "\n",
      "mail [('mai', 'S', 'sg ad'), ('maa', 'S', 'pl ad')] --> [('mai', 'S', 'sg ad')]\n",
      "\n",
      "summaga [('summ', 'S', 'sg kom'), ('summa', 'S', 'sg kom')] --> [('summa', 'S', 'sg kom')]\n",
      "\n",
      "Jänesega [('jänes', 'S', 'sg kom')] --> [('Jänes', 'H', 'sg kom')]\n",
      "\n"
     ]
    }
   ],
   "source": [
    "# Output improvements of corpus-based disambiguation\n",
    "for text in corpus:\n",
    "    for word in text.words:\n",
    "        # old morph analyses\n",
    "        old_morph = word.morph_analysis\n",
    "        # new morph analyses\n",
    "        new_morph = word.morph_analysis_with_cb_disamb\n",
    "        if old_morph != new_morph:\n",
    "            # Output changed analyses\n",
    "            old_analyses = [(a.root, a.partofspeech, a.form) for a in old_morph.annotations]\n",
    "            new_analyses = [(a.root, a.partofspeech, a.form) for a in new_morph.annotations]\n",
    "            print(word.text, old_analyses, '-->', new_analyses)\n",
    "            print()"
   ]
  },
  {
   "cell_type": "markdown",
   "metadata": {},
   "source": [
    "Note that the content nouns _kohale_ , _koha_ , _mail_ and _summaga_ are no longer ambiguous, and that ambiguities of these words have been resolved correctly. And _Jänes_ , _Jänesega_ and _Karule_ have been correctly analysed as proper nouns (part of speech 'H')."
   ]
  },
  {
   "cell_type": "markdown",
   "metadata": {},
   "source": [
    "_Remarks_ :\n",
    "   * Applying VabamorfCorpusTagger on a list consisting of a single text is the same as applying _text-based disambiguation_ on that text;\n",
    "\n",
    "\n",
    "   * If you do not specific the argument `output_layer` in VabamorfCorpusTagger's constructor, the name 'morph\\_analysis' will be used by default. If this layer already exists (like in the previous example), this will result an error;\n",
    "   \n",
    "   \n",
    "   * You can also change names of the input layers via arguments `input_words_layer`, `input_sentences_layer` and `input_compound_tokens_layer`;"
   ]
  },
  {
   "cell_type": "markdown",
   "metadata": {},
   "source": [
    "#### Details of VabamorfCorpusTagger\n",
    "\n",
    "Under the hood, VabamorfCorpusTagger applies the following processing steps:\n",
    "\n",
    "  1. **Morphological analysis** of all the words in input texts, including guessing analyses for unknown words and proper names. This is done by applying `VabamorfAnalyzer`;\n",
    "  \n",
    "  2. **Post-processing of analyses**, which includes correcting words that contain numbers, correcting part of speech of compound tokens (such as names with initials, emoticons, abbreviations, numerics etc.), and marking some of the words as to be ignored during the morphological disambiguation; This is done by `PostMorphAnalysisTagger`;\n",
    "  \n",
    "  3. **Corpus-based pre-disambiguation of proper nouns**, which involves picking out proper name analyses based on lemma counts in the corpus; For this, a special analysis component `CorpusBasedMorphDisambiguator` is applied (see below for details);\n",
    "  \n",
    "  4. **Morphological disambiguation**, which involves picking out the most probable analyses for each word (based on the sentence context); This is done by `VabamorfDisambiguator`;\n",
    "  \n",
    "  5. **Corpus-based post-disambiguation**, which involves resolving remaining ambiguities based on lemma counts in the corpus; For this, `CorpusBasedMorphDisambiguator` is applied (see below for details);\n",
    "\n",
    "  6. **Reordering ambiguities**, which involves sorting remaining ambiguous analyses by their corpus frequency, using the frequencies [obtained from the Estonian UD corpus](https://github.com/estnltk/ambiguous-morph-reordering/). This is done by a special tagger called `MorphAnalysisReorderer`;\n",
    "  \n",
    "By default, all processing steps are enabled. Flags `use_postanalysis`, `use_predisambiguation`, `use_vabamorf_disambiguator`, `use_postdisambiguation`, `use_reorderer` can be used to turn corresponding steps on/off.\n",
    "For instance, we can initialize VabamorfCorpusTagger without the _post-processing of analyses_:"
   ]
  },
  {
   "cell_type": "code",
   "execution_count": 12,
   "metadata": {},
   "outputs": [
    {
     "data": {
      "text/html": [
       "<h4>VabamorfCorpusTagger</h4>\n",
       "VabamorfTagger that operates on a corpus of Text objects, and includes corpus-based disambiguation.\n",
       "<table border=\"1\" class=\"dataframe\">\n",
       "  <thead>\n",
       "    <tr style=\"text-align: right;\">\n",
       "      <th>output layer</th>\n",
       "      <th>output attributes</th>\n",
       "      <th>input layers</th>\n",
       "    </tr>\n",
       "  </thead>\n",
       "  <tbody>\n",
       "    <tr>\n",
       "      <td>morph_analysis</td>\n",
       "      <td>('normalized_text', 'lemma', 'root', 'root_tokens', 'ending', 'clitic', 'form', 'partofspeech')</td>\n",
       "      <td>['words', 'sentences']</td>\n",
       "    </tr>\n",
       "  </tbody>\n",
       "</table>\n",
       "<h4>Configuration</h4>\n",
       "<table border=\"1\" class=\"dataframe\">\n",
       "  <tbody>\n",
       "    <tr>\n",
       "      <th>validate_inputs</th>\n",
       "      <td>True</td>\n",
       "    </tr>\n",
       "    <tr>\n",
       "      <th>use_postanalysis</th>\n",
       "      <td>False</td>\n",
       "    </tr>\n",
       "    <tr>\n",
       "      <th>use_predisambiguation</th>\n",
       "      <td>True</td>\n",
       "    </tr>\n",
       "    <tr>\n",
       "      <th>use_vabamorf_disambiguator</th>\n",
       "      <td>True</td>\n",
       "    </tr>\n",
       "    <tr>\n",
       "      <th>use_postdisambiguation</th>\n",
       "      <td>True</td>\n",
       "    </tr>\n",
       "    <tr>\n",
       "      <th>use_reorderer</th>\n",
       "      <td>True</td>\n",
       "    </tr>\n",
       "    <tr>\n",
       "      <th>slang_lex</th>\n",
       "      <td>False</td>\n",
       "    </tr>\n",
       "    <tr>\n",
       "      <th>vabamorf_analyser</th>\n",
       "      <td>VabamorfAnalyzer(('words', 'sentences')-&gt;morph_analysis)</td>\n",
       "    </tr>\n",
       "    <tr>\n",
       "      <th>postanalysis_tagger</th>\n",
       "      <td>None</td>\n",
       "    </tr>\n",
       "    <tr>\n",
       "      <th>vabamorf_disambiguator</th>\n",
       "      <td>VabamorfDisambiguator(('words', 'sentences', 'morph_analysis')-&gt;morph_analysis)</td>\n",
       "    </tr>\n",
       "    <tr>\n",
       "      <th>cb_disambiguator</th>\n",
       "      <td>CorpusBasedMorphDisambiguator(['words', 'sentences', 'morph_analysis']*-&gt;morph_analysis*)</td>\n",
       "    </tr>\n",
       "    <tr>\n",
       "      <th>analysis_reorderer</th>\n",
       "      <td>MorphAnalysisReorderer(('morph_analysis',)-&gt;morph_analysis)</td>\n",
       "    </tr>\n",
       "  </tbody>\n",
       "</table>"
      ],
      "text/plain": [
       "VabamorfCorpusTagger(input_layers=[words, sentences], output_layer=morph_analysis)"
      ]
     },
     "execution_count": 12,
     "metadata": {},
     "output_type": "execute_result"
    }
   ],
   "source": [
    "vm_corpus_tagger = VabamorfCorpusTagger( use_postanalysis=False )\n",
    "vm_corpus_tagger"
   ]
  },
  {
   "cell_type": "markdown",
   "metadata": {},
   "source": [
    "Notes:\n",
    "   * you can also change which taggers or components are used in the morphological analysis process. For this, input parameters `vabamorf_analyser`, `postanalysis_tagger`, `vabamorf_disambiguator`, `analysis_reorderer`, and `cb_disambiguator` can be set.\n",
    "All custom taggers must be from their original class, or inherit from it. An exception is `postanalysis_tagger`, which can be a custom tagger that implements the interface class  `estnltk.taggers.Retagger` and modifies the `output_layer`;\n",
    "\n",
    "\n",
    "   * if you do not provide the `vabamorf_analyser` parameter, then VabamorfCorpusTagger will create the `VabamorfAnalyzer` internally, and you can use the input parameters `propername`, `guess`, `compound` and `phonetic` to change its settings. Additionally, the parameter `slang_lex` can be used to initialize the version of lexicon extended with spoken and slang words. But you should set these parameters only when you know what you are doing -- VabamorfCorpusTagger does not guard you against errors and conflicts resulting from wrong settings;"
   ]
  },
  {
   "cell_type": "markdown",
   "metadata": {},
   "source": [
    "### Two-level input corpus [ Experimental ]\n",
    "\n",
    "Corpus-based disambiguation makes disambiguation decisions based on a broader context.\n",
    "However, what is the extent of this \"broader context\" depends on what types of texts you have, and also requires a bit experimentation.\n",
    "Sometimes, it is good to \"broaden the context\" step-wise, especially if the input corpus has an additional level in its structure. \n",
    "For instance, in a newspaper corpus, we can first group articles by publishing day (all articles published on a single day make up a group), and then group publishing days into a (publishing) week or month.\n",
    "This follows a hypothesis that temporally closer groups should be disambiguated before temporally more distant groups.\n",
    "\n",
    "For tagging input, `VabamorfCorpusTagger` accepts the following corpus structures: \n",
    "   * a list of Text-s;\n",
    "   * a list of lists of Text-s;\n",
    "\n",
    "Follows an example of using 2 level input corpus:"
   ]
  },
  {
   "cell_type": "code",
   "execution_count": 13,
   "metadata": {},
   "outputs": [],
   "source": [
    "two_lvl_corpus = [['Esimesele kohale tuleb Jänes, kuigi tema punktide summa pole kõrgeim.',\\\n",
    "                   'Lõpparvestuses läks Karule esimene koht. Teise koha sai seekord Jänes. '+\\\n",
    "                   'Uus võistlus toimub 2. mail.',\\\n",
    "                   'Jänesega jokk.'], \\\n",
    "                  ['Karu paistis silma suurima punktide summaga. Uue võistluse toimumisajaks '+\\\n",
    "                   'on 2. mai.', \\\n",
    "                   'Karu ja Jänes jäävad ootama 2. maid.']]"
   ]
  },
  {
   "cell_type": "code",
   "execution_count": 14,
   "metadata": {},
   "outputs": [],
   "source": [
    "# Prepare texts for morphological analysis\n",
    "from estnltk import Text\n",
    "nested_corpus = []\n",
    "for articles in two_lvl_corpus:\n",
    "    nested_corpus.append([])\n",
    "    for t in articles:\n",
    "        nested_corpus[-1].append( Text(t).tag_layer(['words','sentences']) )"
   ]
  },
  {
   "cell_type": "code",
   "execution_count": 15,
   "metadata": {},
   "outputs": [],
   "source": [
    "# Create new VabamorfCorpusTagger\n",
    "from estnltk.taggers import VabamorfCorpusTagger\n",
    "vm_corpus_tagger = VabamorfCorpusTagger()"
   ]
  },
  {
   "cell_type": "code",
   "execution_count": 16,
   "metadata": {},
   "outputs": [
    {
     "data": {
      "text/plain": [
       "[[Text(text='Esimesele kohale tuleb Jänes, kuigi tema punktide summa pole kõrgeim.'),\n",
       "  Text(text='Lõpparvestuses läks Karule esimene koht. Teise koha sai seekord Jänes. Uus võistlus toimub 2. mail.'),\n",
       "  Text(text='Jänesega jokk.')],\n",
       " [Text(text='Karu paistis silma suurima punktide summaga. Uue võistluse toimumisajaks on 2. mai.'),\n",
       "  Text(text='Karu ja Jänes jäävad ootama 2. maid.')]]"
      ]
     },
     "execution_count": 16,
     "metadata": {},
     "output_type": "execute_result"
    }
   ],
   "source": [
    "# Tag the nested corpus\n",
    "vm_corpus_tagger.tag(nested_corpus)"
   ]
  },
  {
   "cell_type": "markdown",
   "metadata": {},
   "source": [
    "What happens if two-level input corpus is used? \n",
    "Two-level input corpus changes **corpus-based post-disambiguation strategy**: firstly, corpus-based post-disambiguation is performed locally within lists of Text-s, and after that, corpus-based post-disambiguation is performed globally over the whole corpus (on the list of lists of Text-s)."
   ]
  },
  {
   "cell_type": "markdown",
   "metadata": {},
   "source": [
    "### Disambiguating compound words [ Experimental ]\n",
    "\n",
    "Lemma-counting in the post-disambiguation can be extended in a way that the last words of _compound words_ will be counted separately, and this additional information is used for disambiguating both the non-compound words and compound words.\n",
    "\n",
    "Let's first consider an example corpus, which contains ambiguities that cannot be resolved solely based on the default disambiguation strategy:"
   ]
  },
  {
   "cell_type": "code",
   "execution_count": 17,
   "metadata": {},
   "outputs": [],
   "source": [
    "corpus_texts = ['Kolmas koht Kofu katserajal ja edasipääs tagatud. Võimete lagi pole veel sugugi käes!',\\\n",
    "                'Poolfinaali pääsu korral oleks ta esimene naissoost poolfinalist. Kes ütles, et ei saa klaaslaest edasi?',\\\n",
    "                'Konkurendid rajal on sõnatud, sugu ei määra siin midagi. Aga rada ise siiski ka määrab...',\\\n",
    "                'See soo küsimus jäi eelnevas ikkagi poolikuks.']"
   ]
  },
  {
   "cell_type": "code",
   "execution_count": 18,
   "metadata": {},
   "outputs": [],
   "source": [
    "# Create Texts and apply default morphological analysis\n",
    "from estnltk import Text\n",
    "corpus = [Text(t).tag_layer(['morph_analysis']) for t in corpus_texts]"
   ]
  },
  {
   "cell_type": "code",
   "execution_count": 19,
   "metadata": {},
   "outputs": [
    {
     "name": "stdout",
     "output_type": "stream",
     "text": [
      "katserajal [('katse_rada', 'S', 'sg ad'), ('katse_raja', 'S', 'sg ad')]\n",
      "tagatud [('taga', 'V', 'tud'), ('taga=tud', 'A', ''), ('taga=tud', 'A', 'pl n'), ('taga=tud', 'A', 'sg n')]\n",
      "pääsu [('pääs', 'S', 'sg g'), ('pääsu', 'S', 'sg g')]\n",
      "Kes [('kes', 'P', 'sg n'), ('kes', 'P', 'pl n')]\n",
      "klaaslaest [('klaas_laad', 'S', 'sg el'), ('klaas_lagi', 'S', 'sg el')]\n",
      "rajal [('rada', 'S', 'sg ad'), ('raja', 'S', 'sg ad')]\n",
      "on [('ole', 'V', 'b'), ('ole', 'V', 'vad')]\n",
      "ise [('ise', 'P', 'sg n'), ('ise', 'P', 'pl n')]\n",
      "soo [('sugu', 'S', 'sg g'), ('soo', 'S', 'sg g')]\n"
     ]
    }
   ],
   "source": [
    "# Inspect words with ambiguous analyses\n",
    "for text in corpus:\n",
    "    for word in text.words:\n",
    "        if len(word.morph_analysis.annotations) > 1:\n",
    "            print(word.text,[(a.root, a.partofspeech, a.form) for a in word.morph_analysis.annotations])"
   ]
  },
  {
   "cell_type": "markdown",
   "metadata": {},
   "source": [
    "To switch on the disambiguation of compound words, we need to create an instance of `CorpusBasedMorphDisambiguator` (see below for details about the class) with the parameter `disamb_compound_words`:"
   ]
  },
  {
   "cell_type": "code",
   "execution_count": 20,
   "metadata": {},
   "outputs": [
    {
     "data": {
      "text/plain": [
       "[Text(text='Kolmas koht Kofu katserajal ja edasipääs tagatud. Võimete lagi pole veel sugugi käes!'),\n",
       " Text(text='Poolfinaali pääsu korral oleks ta esimene naissoost poolfinalist. Kes ütles, et ei saa klaaslaest edasi?'),\n",
       " Text(text='Konkurendid rajal on sõnatud, sugu ei määra siin midagi. Aga rada ise siiski ka määrab...'),\n",
       " Text(text='See soo küsimus jäi eelnevas ikkagi poolikuks.')]"
      ]
     },
     "execution_count": 20,
     "metadata": {},
     "output_type": "execute_result"
    }
   ],
   "source": [
    "# Create new VabamorfCorpusTagger & CorpusBasedMorphDisambiguator \n",
    "from estnltk.taggers import VabamorfCorpusTagger, CorpusBasedMorphDisambiguator\n",
    "\n",
    "cb_disambiguator = CorpusBasedMorphDisambiguator( output_layer='morph_analysis_with_cb_disamb', \n",
    "                                                  disamb_compound_words=True )\n",
    "vm_corpus_tagger = VabamorfCorpusTagger( output_layer='morph_analysis_with_cb_disamb',\n",
    "                                         cb_disambiguator=cb_disambiguator)\n",
    "\n",
    "# Tag the corpus\n",
    "vm_corpus_tagger.tag( corpus )"
   ]
  },
  {
   "cell_type": "code",
   "execution_count": 21,
   "metadata": {},
   "outputs": [
    {
     "name": "stdout",
     "output_type": "stream",
     "text": [
      "katserajal [('katse_rada', 'S', 'sg ad'), ('katse_raja', 'S', 'sg ad')] --> [('katse_rada', 'S', 'sg ad')]\n",
      "\n",
      "pääsu [('pääs', 'S', 'sg g'), ('pääsu', 'S', 'sg g')] --> [('pääs', 'S', 'sg g')]\n",
      "\n",
      "klaaslaest [('klaas_laad', 'S', 'sg el'), ('klaas_lagi', 'S', 'sg el')] --> [('klaas_lagi', 'S', 'sg el')]\n",
      "\n",
      "rajal [('rada', 'S', 'sg ad'), ('raja', 'S', 'sg ad')] --> [('rada', 'S', 'sg ad')]\n",
      "\n",
      "soo [('sugu', 'S', 'sg g'), ('soo', 'S', 'sg g')] --> [('sugu', 'S', 'sg g')]\n",
      "\n"
     ]
    }
   ],
   "source": [
    "# Inspect improvements of corpus-based disambiguation\n",
    "for text in corpus:\n",
    "    for word in text.words:\n",
    "        # old morph analyses\n",
    "        old_morph = word.morph_analysis\n",
    "        # new morph analyses\n",
    "        new_morph = word.morph_analysis_with_cb_disamb\n",
    "        if old_morph != new_morph:\n",
    "            # Output changed analyses\n",
    "            old_analyses = [(a.root, a.partofspeech, a.form) for a in old_morph.annotations]\n",
    "            new_analyses = [(a.root, a.partofspeech, a.form) for a in new_morph.annotations]\n",
    "            print(word.text, old_analyses, '-->', new_analyses)\n",
    "            print()"
   ]
  },
  {
   "cell_type": "markdown",
   "metadata": {},
   "source": [
    "In the previous example, the non-compound word `pääsu` was disambiguated using the additional information from compound word `edasipääs`. The compound word `katserajal` was disambiguated based on the information from non-compound words `rajal` and `rada`. And the compound word `klaaslaest` was disambiguated based on the information from non-compound word `lagi`."
   ]
  },
  {
   "cell_type": "markdown",
   "metadata": {},
   "source": [
    "### CorpusBasedMorphDisambiguator\n",
    "\n",
    "Technically, `VabamorfTagger` and `VabamorfCorpusTagger` are just combining different morphological processing components into a  small corpus processing pipeline. \n",
    "If you want to make your own processing pipeline (e.g. you want to use more tools, such as `UserDictTagger` or multiple post-analysers), then you can add corpus-based disambiguation into your pipeline with the help of `CorpusBasedMorphDisambiguator`.\n",
    "\n",
    "An example:"
   ]
  },
  {
   "cell_type": "code",
   "execution_count": 22,
   "metadata": {},
   "outputs": [],
   "source": [
    "from estnltk.taggers import CorpusBasedMorphDisambiguator\n",
    "cb_disambiguator = CorpusBasedMorphDisambiguator()"
   ]
  },
  {
   "cell_type": "code",
   "execution_count": 23,
   "metadata": {},
   "outputs": [],
   "source": [
    "# Input corpus\n",
    "corpus_texts = ['Esimesele kohale tuleb Jänes, kuigi tema punktide summa pole kõrgeim.',\\\n",
    "                'Lõpparvestuses läks Karule esimene koht. Teise koha sai seekord Jänes. '+\\\n",
    "                'Uus võistlus toimub 2. mail.', \\\n",
    "                'Karu paistis silma suurima punktide summaga. Jänesega jokk. Uue võistluse '+\\\n",
    "                'toimumisajaks on 2. mai.']\n",
    "\n",
    "# Create Texts and add segmentation layers\n",
    "from estnltk import Text\n",
    "corpus = [Text(t).tag_layer(['words', 'sentences']) for t in corpus_texts]"
   ]
  },
  {
   "cell_type": "code",
   "execution_count": 24,
   "metadata": {},
   "outputs": [],
   "source": [
    "# Add morph layer (without disambiguation)\n",
    "from estnltk.taggers import VabamorfAnalyzer\n",
    "vm_analyser = VabamorfAnalyzer()\n",
    "for text in corpus:\n",
    "    vm_analyser.tag( text )"
   ]
  },
  {
   "cell_type": "code",
   "execution_count": 25,
   "metadata": {},
   "outputs": [],
   "source": [
    "# Perform corpus-based predisambiguation\n",
    "# Note: input must be a corpus, not a single Text object\n",
    "cb_disambiguator.predisambiguate( corpus )"
   ]
  },
  {
   "cell_type": "code",
   "execution_count": 26,
   "metadata": {},
   "outputs": [],
   "source": [
    "# Disambiguate morph layer (with Vabamorf)\n",
    "from estnltk.taggers import VabamorfDisambiguator\n",
    "vm_disambiguator = VabamorfDisambiguator()\n",
    "for text in corpus:\n",
    "    vm_disambiguator.retag( text )"
   ]
  },
  {
   "cell_type": "code",
   "execution_count": 27,
   "metadata": {},
   "outputs": [],
   "source": [
    "# Perform corpus-based postdisambiguation\n",
    "# Note: input must be a corpus, not a single Text object\n",
    "cb_disambiguator.postdisambiguate( corpus )"
   ]
  },
  {
   "cell_type": "code",
   "execution_count": 28,
   "metadata": {},
   "outputs": [],
   "source": [
    "# Perform reordering of remaining ambiguities\n",
    "from estnltk.taggers import MorphAnalysisReorderer\n",
    "vm_reorderer = MorphAnalysisReorderer()\n",
    "for text in corpus:\n",
    "    vm_reorderer.retag( text )"
   ]
  },
  {
   "cell_type": "markdown",
   "metadata": {},
   "source": [
    "Notes about CorpusBasedMorphDisambiguator:"
   ]
  },
  {
   "cell_type": "markdown",
   "metadata": {},
   "source": [
    "\n",
    "  * `CorpusBasedMorphDisambiguator`'s constructor takes the following extra arguments:\n",
    "    \n",
    "     * `output_layer` -- Name of the morphological analysis layer (in the input Text objects) that needs to be disambiguated;\n",
    "     \n",
    "     * `input_words_layer` -- Name of the words layer (in the input Text objects);\n",
    "     \n",
    "     * `input_sentences_layer` -- Name of the sentences layer (in the input Text objects);\n",
    "     \n",
    "     * `count_position_duplicates_once` -- If set, then duplicate lemmas appearing in one word position will be counted only  once during the post-disambiguation. An example: the word 'põhja' is ambiguous between 4 analyses: `[ ('põhi', 'S', 'adt'),  ('põhi', 'S', 'sg g'), ('põhi', 'S', 'sg p'), ('põhja', 'V', 'o') ]`. If count_position_duplicates_once==False (default),       then the counter will find `{'põhi':4, 'põhja':1}` for given word, but if count_position_duplicates_once==True, then counts will be: `{'põhi':1, 'põhja':1}`. (Default value: `False`) _Note:_ this is an experimental feature, and needs further testing;\n",
    "    \n",
    "     * `disamb_compound_words` -- If set, then additionally counts last words inside compound words during the post-disambiguation, and uses the counting information for disambiguating both the non-compound words and compound words. For example, the non-compound word `pääsu` has a lemma ambiguity between `pääs` and `pääsu`, which can be resolved with the help from additional counts from compound words such as `edasipääs` or `finaalipääs`; (Default value: `False`) _Note:_ this is an experimental feature, and needs further testing;\n",
    "\n",
    "     * `ignore_lemmas_in_compounds` -- set of lemmas, which should not be counted nor disambiguated as the last words of compound words (if `disamb_compound_words==True`), because their disambiguation is unreliable, likely leads to errors. Default: `{'alus','alune','mai','maa'}`;\n",
    "     \n",
    "     * `validate_inputs` -- If set (default), then input document collection will be validated for having the appropriate structure, and all documents will be checked for the existence of required layers. Normally, you wouldn't need to change this;"
   ]
  },
  {
   "cell_type": "markdown",
   "metadata": {},
   "source": [
    "\n",
    "`CorpusBasedMorphDisambiguator`'s methods:\n",
    "\n",
    "  * `predisambiguate(collections)` -- processes `collections` and tries to determine correct analysis for words that have both proper name and common noun analyses. This requires that input texts in `collections` have been segmented into words and sentences, and that morphological analysis has been done with settings `guess=True` and `propername=True`. The setting `propername=True` assures that title-cased common nouns such as _Jänes_ or _Karu_ will obtain additional proper name analysis, which will be either deleted or preserved during the pre-disambiguation process;\n",
    "  \n",
    "     * `collections` can be either 1) a list of Text-s or, 2) a list of lists of Text-s;\n",
    "\n",
    "\n",
    "  * `postdisambiguate(collections)` -- processes `collections` and tries to a determine correct analysis for all the remaining ambigouos words in the corpus (except some hard-to-resolve cases, such as ambiguities in _nud / tud / dud_ forms or singular / plural ambiguities in pronouns, which will be always excluded from the disambiguation process). The input `collections` needs to be morphologically analysed and, disambiguated by VabamorfDisambiguator;\n",
    "  \n",
    "     * `collections` can be either 1) a list of Text-s or, 2) a list of lists of Text-s;\n",
    "\n",
    "\n",
    "  * `_predisambiguate_detached_layers(collections, detached_layers)` -- does the same as `predisambiguate`, but expects that required input layers have been detached from `Text` objects and are available in `detached_layers`. Basically, the interface is similar to that of the `_change_layer` method of Retagger.\n",
    "  \n",
    "     * `collections` can be either 1) a list of Text-s or, 2) a list of lists of Text-s;\n",
    "     * `detached_layers` can be either 1) a list of lists of Layer-s or, 2) a list of lists of lists of Layer-s;\n",
    "\n",
    "\n",
    "  * `_postdisambiguate_detached_layers(collections, detached_layers)` -- does the same as `postdisambiguate`, but expects that required input layers have been detached from `Text` objects and are available in `detached_layers`. Basically, the interface is similar to that of the `_change_layer` method of Retagger.\n",
    "\n",
    "     * `collections` can be either 1) a list of Text-s or, 2) a list of lists of Text-s;\n",
    "     * `detached_layers` can be either 1) a list of lists of Layer-s or, 2) a list of lists of lists of Layer-s;\n",
    "\n",
    "\n",
    "Note: the input structure 2) only affects `postdisambiguate` and `_postdisambiguate_detached_layers` methods, which will perform in two stage disambiguation if two-level structure is used;"
   ]
  },
  {
   "cell_type": "markdown",
   "metadata": {},
   "source": [
    "## References\n",
    "\n",
    "* Kaalep, Heiki-Jaan, and Vaino, Tarmo. \"Complete morphological analysis in the linguist's toolbox.\" Congressus Nonus Internationalis Fenno-Ugristarum Pars V (2001): 9-16.\n",
    "* Gale, William A., Kenneth W. Church, and David Yarowsky. \"One sense per discourse.\" Proceedings of the workshop on Speech and Natural Language. Association for Computational Linguistics, 1992.\n",
    "* Kaalep, Heiki-Jaan, Riin Kirt, and Kadri Muischnek. \"A trivial method for choosing the right lemma.\" In Baltic HLT, pp. 82-89. 2012."
   ]
  }
 ],
 "metadata": {
  "kernelspec": {
   "display_name": "Python 3",
   "language": "python",
   "name": "python3"
  },
  "language_info": {
   "codemirror_mode": {
    "name": "ipython",
    "version": 3
   },
   "file_extension": ".py",
   "mimetype": "text/x-python",
   "name": "python",
   "nbconvert_exporter": "python",
   "pygments_lexer": "ipython3",
   "version": "3.6.10"
  }
 },
 "nbformat": 4,
 "nbformat_minor": 2
}
