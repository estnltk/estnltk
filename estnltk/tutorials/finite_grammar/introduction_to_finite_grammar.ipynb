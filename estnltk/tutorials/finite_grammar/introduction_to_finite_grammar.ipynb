{
 "cells": [
  {
   "cell_type": "markdown",
   "metadata": {},
   "source": [
    "# Introduction to GrammarParsingTagger"
   ]
  },
  {
   "cell_type": "markdown",
   "metadata": {},
   "source": [
    "**GrammarParsingTagger** is a tool that allows us to write a context-free grammar and apply the grammar on our Text object, creating a new layer that contains all the matches found by the grammar. This means that we can define the sequences of symbols that we want to extract from the text. In this tutorial, we present examples on extracting addresses from a text, but of course, the tool can be used for many different purposes."
   ]
  },
  {
   "cell_type": "markdown",
   "metadata": {},
   "source": [
    "First, we need to have a Text object. Let's create one containing an address:"
   ]
  },
  {
   "cell_type": "code",
   "execution_count": 1,
   "metadata": {},
   "outputs": [],
   "source": [
    "from estnltk import Text\n",
    "\n",
    "text = Text('Jüri Homenja kontsert toimub E, 22. mai kl 18:00 kultuurimajas Veski 5, Elva, Tartumaa.')"
   ]
  },
  {
   "cell_type": "code",
   "execution_count": 2,
   "metadata": {},
   "outputs": [
    {
     "data": {
      "text/html": [
       "<table border=\"1\" class=\"dataframe\">\n",
       "  <thead>\n",
       "    <tr style=\"text-align: right;\">\n",
       "      <th>text</th>\n",
       "    </tr>\n",
       "  </thead>\n",
       "  <tbody>\n",
       "    <tr>\n",
       "      <td><div align = \"left\">Jüri Homenja kontsert toimub E, 22. mai kl 18:00 kultuurimajas Veski 5, Elva, Tartumaa.</div></td>\n",
       "    </tr>\n",
       "  </tbody>\n",
       "</table>"
      ],
      "text/plain": [
       "Text(text='Jüri Homenja kontsert toimub E, 22. mai kl 18:00 kultuurimajas Veski 5, Elva, Tartumaa.')"
      ]
     },
     "execution_count": 2,
     "metadata": {},
     "output_type": "execute_result"
    }
   ],
   "source": [
    "text"
   ]
  },
  {
   "cell_type": "markdown",
   "metadata": {},
   "source": [
    "Next, we need to tag the **symbols** whose sequences we want to search for with our grammar. You can find out about different taggers from [here](https://github.com/estnltk/estnltk/tree/devel_1.6/tutorials/taggers), but for the GrammarParsingTagger example, let's not dive into this but use an existing tagger called *AddressPartTagger*. *AddressPartTagger* needs the text to be segmented into words, that's why we tag the layer *words* on the text before applying the tagger."
   ]
  },
  {
   "cell_type": "code",
   "execution_count": 3,
   "metadata": {},
   "outputs": [
    {
     "data": {
      "text/html": [
       "<h4>Layer</h4>\n",
       "\n",
       "\n",
       "<table border=\"1\" class=\"dataframe\">\n",
       "  <thead>\n",
       "    <tr style=\"text-align: right;\">\n",
       "      <th>layer name</th>\n",
       "      <th>attributes</th>\n",
       "      <th>parent</th>\n",
       "      <th>enveloping</th>\n",
       "      <th>ambiguous</th>\n",
       "      <th>span count</th>\n",
       "    </tr>\n",
       "  </thead>\n",
       "  <tbody>\n",
       "    <tr>\n",
       "      <td>address_parts</td>\n",
       "      <td>grammar_symbol, type</td>\n",
       "      <td>None</td>\n",
       "      <td>None</td>\n",
       "      <td>True</td>\n",
       "      <td>11</td>\n",
       "    </tr>\n",
       "  </tbody>\n",
       "</table>\n",
       "<table border=\"1\" class=\"dataframe\">\n",
       "  <thead>\n",
       "    <tr style=\"text-align: right;\">\n",
       "      <th>text</th>\n",
       "      <th>grammar_symbol</th>\n",
       "      <th>type</th>\n",
       "    </tr>\n",
       "  </thead>\n",
       "  <tbody>\n",
       "    <tr>\n",
       "      <td>Jüri</td>\n",
       "      <td>ASULA</td>\n",
       "      <td>asula</td>\n",
       "    </tr>\n",
       "    <tr>\n",
       "      <td></td>\n",
       "      <td>TÄNAV</td>\n",
       "      <td>tänav</td>\n",
       "    </tr>\n",
       "    <tr>\n",
       "      <td>Homenja kontsert toimub E</td>\n",
       "      <td>RANDOM_TEXT</td>\n",
       "      <td>None</td>\n",
       "    </tr>\n",
       "    <tr>\n",
       "      <td>22</td>\n",
       "      <td>MAJA</td>\n",
       "      <td>None</td>\n",
       "    </tr>\n",
       "    <tr>\n",
       "      <td>mai kl</td>\n",
       "      <td>RANDOM_TEXT</td>\n",
       "      <td>None</td>\n",
       "    </tr>\n",
       "    <tr>\n",
       "      <td>18</td>\n",
       "      <td>MAJA</td>\n",
       "      <td>None</td>\n",
       "    </tr>\n",
       "    <tr>\n",
       "      <td>00</td>\n",
       "      <td>MAJA</td>\n",
       "      <td>None</td>\n",
       "    </tr>\n",
       "    <tr>\n",
       "      <td>kultuurimajas</td>\n",
       "      <td>RANDOM_TEXT</td>\n",
       "      <td>None</td>\n",
       "    </tr>\n",
       "    <tr>\n",
       "      <td>Veski</td>\n",
       "      <td>ASULA</td>\n",
       "      <td>asula</td>\n",
       "    </tr>\n",
       "    <tr>\n",
       "      <td></td>\n",
       "      <td>TÄNAV</td>\n",
       "      <td>tänav</td>\n",
       "    </tr>\n",
       "    <tr>\n",
       "      <td>5</td>\n",
       "      <td>MAJA</td>\n",
       "      <td>None</td>\n",
       "    </tr>\n",
       "    <tr>\n",
       "      <td>Elva</td>\n",
       "      <td>ASULA</td>\n",
       "      <td>asula</td>\n",
       "    </tr>\n",
       "    <tr>\n",
       "      <td></td>\n",
       "      <td>TÄNAV</td>\n",
       "      <td>tänav</td>\n",
       "    </tr>\n",
       "    <tr>\n",
       "      <td>Tartumaa</td>\n",
       "      <td>MAAKOND</td>\n",
       "      <td>maakond</td>\n",
       "    </tr>\n",
       "  </tbody>\n",
       "</table>"
      ],
      "text/plain": [
       "Layer(name='address_parts', attributes=('grammar_symbol', 'type'), spans=SL[Span('Jüri', [{'grammar_symbol': 'ASULA', 'type': 'asula'}, {'grammar_symbol': 'TÄNAV', 'type': 'tänav'}]),\n",
       "Span('Homenja kontsert toimub E', [{'grammar_symbol': 'RANDOM_TEXT', 'type': None}]),\n",
       "Span('22', [{'grammar_symbol': 'MAJA', 'type': None}]),\n",
       "Span('mai kl', [{'grammar_symbol': 'RANDOM_TEXT', 'type': None}]),\n",
       "Span('18', [{'grammar_symbol': 'MAJA', 'type': None}]),\n",
       "Span('00', [{'grammar_symbol': 'MAJA', 'type': None}]),\n",
       "Span('kultuurimajas', [{'grammar_symbol': 'RANDOM_TEXT', 'type': None}]),\n",
       "Span('Veski', [{'grammar_symbol': 'ASULA', 'type': 'asula'}, {'grammar_symbol': 'TÄNAV', 'type': 'tänav'}]),\n",
       "Span('5', [{'grammar_symbol': 'MAJA', 'type': None}]),\n",
       "Span('Elva', [{'grammar_symbol': 'ASULA', 'type': 'asula'}, {'grammar_symbol': 'TÄNAV', 'type': 'tänav'}]),\n",
       "Span('Tartumaa', [{'grammar_symbol': 'MAAKOND', 'type': 'maakond'}])])"
      ]
     },
     "execution_count": 3,
     "metadata": {},
     "output_type": "execute_result"
    }
   ],
   "source": [
    "from estnltk.taggers import AddressPartTagger\n",
    "\n",
    "address_part_tagger = AddressPartTagger()\n",
    "text.tag_layer(['words'])\n",
    "address_part_tagger.tag(text)\n",
    "text.address_parts"
   ]
  },
  {
   "cell_type": "markdown",
   "metadata": {},
   "source": [
    "We can see that we have different **symbols** tagged on the text in the layer called *address_parts*. Some of the tagged symbols are in fact parts of the address, while others are not. To know whether the symbol is part of an address, we have to define the sequences of symbols that make up an address. These sequences are called grammar **rules**. "
   ]
  },
  {
   "cell_type": "markdown",
   "metadata": {},
   "source": [
    "### Rules and Grammar\n",
    "\n",
    "To define rules and a grammar, we first need to import the classes Rule and Grammar."
   ]
  },
  {
   "cell_type": "code",
   "execution_count": 4,
   "metadata": {},
   "outputs": [],
   "source": [
    "from estnltk.finite_grammar import Rule, Grammar"
   ]
  },
  {
   "cell_type": "markdown",
   "metadata": {},
   "source": [
    "Then it is possible to start defining the **rules**. A rule consists of a **left side** (non-terminal), a **right side** (non-terminals and terminals), and optional parameters. In the following example of a rule, the left side is 'ADDRESS' and the right side is 'TÄNAV MAJA ASULA'. The rule says that if symbols 'TÄNAV', 'MAJA', and 'ASULA' occurr in this order, this is an 'ADDRESS'. "
   ]
  },
  {
   "cell_type": "code",
   "execution_count": 5,
   "metadata": {},
   "outputs": [
    {
     "data": {
      "text/plain": [
       "ADDRESS -> TÄNAV MAJA ASULA\t: 0, val: default_validator, dec: default_decorator, scoring: default_scoring"
      ]
     },
     "execution_count": 5,
     "metadata": {},
     "output_type": "execute_result"
    }
   ],
   "source": [
    "Rule('ADDRESS', 'TÄNAV MAJA ASULA')"
   ]
  },
  {
   "cell_type": "markdown",
   "metadata": {},
   "source": [
    "To apply the rules, we need to create a **grammar**:"
   ]
  },
  {
   "cell_type": "code",
   "execution_count": 6,
   "metadata": {},
   "outputs": [],
   "source": [
    "grammar = Grammar(start_symbols=['ADDRESS'], \n",
    "                  depth_limit=float('inf'), # the default\n",
    "                  width_limit=float('inf'), # the default\n",
    "                  legal_attributes=None # the default\n",
    "                  )"
   ]
  },
  {
   "cell_type": "markdown",
   "metadata": {},
   "source": [
    "And then we need to **add rules to the grammar**. Let's add two rules to keep things simple:"
   ]
  },
  {
   "cell_type": "code",
   "execution_count": 7,
   "metadata": {},
   "outputs": [
    {
     "data": {
      "text/plain": [
       "\n",
       "Grammar:\n",
       "\tstart: ADDRESS\n",
       "\tterminals: ASULA, MAJA, TÄNAV\n",
       "\tnonterminals: ADDRESS\n",
       "\tlegal attributes: frozenset()\n",
       "\tdepth_limit: inf\n",
       "\twidth_limit: inf\n",
       "Rules:\n",
       "\tADDRESS -> TÄNAV MAJA ASULA\t: 0, val: default_validator, dec: default_decorator, scoring: default_scoring\n",
       "\tADDRESS -> TÄNAV MAJA\t: 0, val: default_validator, dec: default_decorator, scoring: default_scoring"
      ]
     },
     "execution_count": 7,
     "metadata": {},
     "output_type": "execute_result"
    }
   ],
   "source": [
    "grammar.add_rule('ADDRESS', 'TÄNAV MAJA ASULA')\n",
    "grammar.add_rule('ADDRESS', 'TÄNAV MAJA')\n",
    "grammar"
   ]
  },
  {
   "cell_type": "markdown",
   "metadata": {},
   "source": [
    "To apply the grammar on our text, we need to **create a tagger** - a *GrammarParsingTagger* object. This tagger gets our grammar for the parameter *grammar*. *layer_of_tokens* is the name of the layer that we want to apply our grammar on and *layer_name* is the name of the layer that we are creating with the *GrammarParsingTagger*. "
   ]
  },
  {
   "cell_type": "code",
   "execution_count": 8,
   "metadata": {},
   "outputs": [
    {
     "data": {
      "text/html": [
       "<h4>Tagger</h4>\n",
       "Parses input layer using grammar. Output layer envelopes input.\n",
       "<table border=\"1\" class=\"dataframe\">\n",
       "  <thead>\n",
       "    <tr style=\"text-align: right;\">\n",
       "      <th>name</th>\n",
       "      <th>output layer</th>\n",
       "      <th>output attributes</th>\n",
       "      <th>input layers</th>\n",
       "    </tr>\n",
       "  </thead>\n",
       "  <tbody>\n",
       "    <tr>\n",
       "      <td>GrammarParsingTagger</td>\n",
       "      <td>addresses</td>\n",
       "      <td>()</td>\n",
       "      <td>('address_parts',)</td>\n",
       "    </tr>\n",
       "  </tbody>\n",
       "</table>\n",
       "<h4>Configuration</h4>\n",
       "<table border=\"1\" class=\"dataframe\">\n",
       "  <tbody>\n",
       "    <tr>\n",
       "      <th>grammar</th>\n",
       "      <td>\\nGrammar:\\n\\tstart: ADDRESS\\n\\tterminals: ASULA, MAJA, TÄNAV\\n\\tnonterminals: ADDRESS\\n ..., type: &lt;class 'estnltk.finite_grammar.grammar.Grammar'&gt;</td>\n",
       "    </tr>\n",
       "    <tr>\n",
       "      <th>name_attribute</th>\n",
       "      <td>grammar_symbol</td>\n",
       "    </tr>\n",
       "    <tr>\n",
       "      <th>output_nodes</th>\n",
       "      <td>{'ADDRESS'}</td>\n",
       "    </tr>\n",
       "    <tr>\n",
       "      <th>resolve_support_conflicts</th>\n",
       "      <td>True</td>\n",
       "    </tr>\n",
       "    <tr>\n",
       "      <th>resolve_start_end_conflicts</th>\n",
       "      <td>True</td>\n",
       "    </tr>\n",
       "    <tr>\n",
       "      <th>resolve_terminals_conflicts</th>\n",
       "      <td>True</td>\n",
       "    </tr>\n",
       "    <tr>\n",
       "      <th>ambiguous</th>\n",
       "      <td>True</td>\n",
       "    </tr>\n",
       "    <tr>\n",
       "      <th>gap_validator</th>\n",
       "      <td>None</td>\n",
       "    </tr>\n",
       "    <tr>\n",
       "      <th>debug</th>\n",
       "      <td>False</td>\n",
       "    </tr>\n",
       "    <tr>\n",
       "      <th>force_resolving_by_priority</th>\n",
       "      <td>False</td>\n",
       "    </tr>\n",
       "    <tr>\n",
       "      <th>priority_attribute</th>\n",
       "      <td>_priority</td>\n",
       "    </tr>\n",
       "  </tbody>\n",
       "</table>"
      ],
      "text/plain": [
       "GrammarParsingTagger(input_layers=('address_parts',), output_layer=addresses, output_attributes=(), grammar=\n",
       "Grammar:\n",
       "\tstart: ADDRESS\n",
       "\tterminals: ASULA, MAJA, TÄNAV\n",
       "\tnonterminals: ADDRESS\n",
       " ..., type: <class 'estnltk.finite_grammar.grammar.Grammar'>, name_attribute=grammar_symbol, output_nodes={'ADDRESS'}, resolve_support_conflicts=True, resolve_start_end_conflicts=True, resolve_terminals_conflicts=True, ambiguous=True, gap_validator=None, debug=False, force_resolving_by_priority=False, priority_attribute=_priority)"
      ]
     },
     "execution_count": 8,
     "metadata": {},
     "output_type": "execute_result"
    }
   ],
   "source": [
    "from estnltk.taggers import GrammarParsingTagger\n",
    "\n",
    "tagger = GrammarParsingTagger(grammar=grammar,\n",
    "                              layer_of_tokens='address_parts',\n",
    "                              output_layer='addresses', \n",
    "                              output_ambiguous=True # default False, True recommended\n",
    "                              )\n",
    "tagger"
   ]
  },
  {
   "cell_type": "markdown",
   "metadata": {},
   "source": [
    "Then we can use the tagger to **tag the text**:"
   ]
  },
  {
   "cell_type": "code",
   "execution_count": 9,
   "metadata": {},
   "outputs": [
    {
     "data": {
      "text/html": [
       "<table border=\"1\" class=\"dataframe\">\n",
       "  <thead>\n",
       "    <tr style=\"text-align: right;\">\n",
       "      <th>text</th>\n",
       "    </tr>\n",
       "  </thead>\n",
       "  <tbody>\n",
       "    <tr>\n",
       "      <td><div align = \"left\">Jüri Homenja kontsert toimub E, 22. mai kl 18:00 kultuurimajas Veski 5, Elva, Tartumaa.</div></td>\n",
       "    </tr>\n",
       "  </tbody>\n",
       "</table>\n",
       "<table border=\"1\" class=\"dataframe\">\n",
       "  <thead>\n",
       "    <tr style=\"text-align: right;\">\n",
       "      <th>layer name</th>\n",
       "      <th>attributes</th>\n",
       "      <th>parent</th>\n",
       "      <th>enveloping</th>\n",
       "      <th>ambiguous</th>\n",
       "      <th>span count</th>\n",
       "    </tr>\n",
       "  </thead>\n",
       "  <tbody>\n",
       "    <tr>\n",
       "      <td>tokens</td>\n",
       "      <td></td>\n",
       "      <td>None</td>\n",
       "      <td>None</td>\n",
       "      <td>False</td>\n",
       "      <td>21</td>\n",
       "    </tr>\n",
       "    <tr>\n",
       "      <td>compound_tokens</td>\n",
       "      <td>type, normalized</td>\n",
       "      <td>None</td>\n",
       "      <td>tokens</td>\n",
       "      <td>False</td>\n",
       "      <td>2</td>\n",
       "    </tr>\n",
       "    <tr>\n",
       "      <td>words</td>\n",
       "      <td>normalized_form</td>\n",
       "      <td>None</td>\n",
       "      <td>None</td>\n",
       "      <td>True</td>\n",
       "      <td>18</td>\n",
       "    </tr>\n",
       "    <tr>\n",
       "      <td>address_parts</td>\n",
       "      <td>grammar_symbol, type</td>\n",
       "      <td>None</td>\n",
       "      <td>None</td>\n",
       "      <td>True</td>\n",
       "      <td>11</td>\n",
       "    </tr>\n",
       "    <tr>\n",
       "      <td>addresses</td>\n",
       "      <td></td>\n",
       "      <td>None</td>\n",
       "      <td>address_parts</td>\n",
       "      <td>True</td>\n",
       "      <td>2</td>\n",
       "    </tr>\n",
       "  </tbody>\n",
       "</table>"
      ],
      "text/plain": [
       "Text(text='Jüri Homenja kontsert toimub E, 22. mai kl 18:00 kultuurimajas Veski 5, Elva, Tartumaa.')"
      ]
     },
     "execution_count": 9,
     "metadata": {},
     "output_type": "execute_result"
    }
   ],
   "source": [
    "tagger.tag(text)"
   ]
  },
  {
   "cell_type": "code",
   "execution_count": 10,
   "metadata": {
    "scrolled": true
   },
   "outputs": [
    {
     "data": {
      "text/html": [
       "<h4>Layer</h4>\n",
       "\n",
       "\n",
       "<table border=\"1\" class=\"dataframe\">\n",
       "  <thead>\n",
       "    <tr style=\"text-align: right;\">\n",
       "      <th>layer name</th>\n",
       "      <th>attributes</th>\n",
       "      <th>parent</th>\n",
       "      <th>enveloping</th>\n",
       "      <th>ambiguous</th>\n",
       "      <th>span count</th>\n",
       "    </tr>\n",
       "  </thead>\n",
       "  <tbody>\n",
       "    <tr>\n",
       "      <td>addresses</td>\n",
       "      <td></td>\n",
       "      <td>None</td>\n",
       "      <td>address_parts</td>\n",
       "      <td>True</td>\n",
       "      <td>2</td>\n",
       "    </tr>\n",
       "  </tbody>\n",
       "</table>\n",
       "<table border=\"1\" class=\"dataframe\">\n",
       "  <thead>\n",
       "    <tr style=\"text-align: right;\">\n",
       "      <th>text</th>\n",
       "    </tr>\n",
       "  </thead>\n",
       "  <tbody>\n",
       "    <tr>\n",
       "      <td>['Veski', '5']</td>\n",
       "    </tr>\n",
       "    <tr>\n",
       "      <td>['Veski', '5', 'Elva']</td>\n",
       "    </tr>\n",
       "  </tbody>\n",
       "</table>"
      ],
      "text/plain": [
       "Layer(name='addresses', attributes=(), spans=SL[EnvelopingSpan(['Veski', '5'], [{}]),\n",
       "EnvelopingSpan(['Veski', '5', 'Elva'], [{}])])"
      ]
     },
     "execution_count": 10,
     "metadata": {},
     "output_type": "execute_result"
    }
   ],
   "source": [
    "text.addresses"
   ]
  },
  {
   "cell_type": "markdown",
   "metadata": {},
   "source": [
    "The address is indeed found, but we are probably not completely happy with all the received results. "
   ]
  },
  {
   "cell_type": "markdown",
   "metadata": {},
   "source": [
    "### Validating gaps"
   ]
  },
  {
   "cell_type": "markdown",
   "metadata": {},
   "source": [
    "The first problem that we see is that ['Jüri', '22'] has been tagged as an address, although the tokens are not even next to each other in the original text. However, as the grammar is looking at the layer *address_parts* and there's nothing between the grammar_symbols of these tokens, they are tagged as an address. To overcome this problem, we can use a **gaps_validator** function where we can define **what kind of strings we allow** between our tagged symbols - e.g. we would probably want to accept a space between the parts of an address but not long sequences of words or sentences. Let's define the one that accepts spaces and commas:"
   ]
  },
  {
   "cell_type": "code",
   "execution_count": 11,
   "metadata": {},
   "outputs": [],
   "source": [
    "import re\n",
    "\n",
    "def gap_validator(s):\n",
    "    if re.fullmatch('[, ]+', s):\n",
    "        return True\n",
    "    return False"
   ]
  },
  {
   "cell_type": "markdown",
   "metadata": {},
   "source": [
    "So, when we define a new GrammarParsingTagger that uses the *gap_validator()* function, we get rid of this problem:"
   ]
  },
  {
   "cell_type": "code",
   "execution_count": 12,
   "metadata": {},
   "outputs": [],
   "source": [
    "tagger2 = GrammarParsingTagger(grammar=grammar,\n",
    "                              layer_of_tokens='address_parts',\n",
    "                              output_layer='addresses2', # default: 'parse'\n",
    "                              output_ambiguous=True, # default False, True recommended\n",
    "                              gap_validator=gap_validator\n",
    "                              )"
   ]
  },
  {
   "cell_type": "code",
   "execution_count": 13,
   "metadata": {},
   "outputs": [
    {
     "data": {
      "text/html": [
       "<table border=\"1\" class=\"dataframe\">\n",
       "  <thead>\n",
       "    <tr style=\"text-align: right;\">\n",
       "      <th>text</th>\n",
       "    </tr>\n",
       "  </thead>\n",
       "  <tbody>\n",
       "    <tr>\n",
       "      <td><div align = \"left\">Jüri Homenja kontsert toimub E, 22. mai kl 18:00 kultuurimajas Veski 5, Elva, Tartumaa.</div></td>\n",
       "    </tr>\n",
       "  </tbody>\n",
       "</table>\n",
       "<table border=\"1\" class=\"dataframe\">\n",
       "  <thead>\n",
       "    <tr style=\"text-align: right;\">\n",
       "      <th>layer name</th>\n",
       "      <th>attributes</th>\n",
       "      <th>parent</th>\n",
       "      <th>enveloping</th>\n",
       "      <th>ambiguous</th>\n",
       "      <th>span count</th>\n",
       "    </tr>\n",
       "  </thead>\n",
       "  <tbody>\n",
       "    <tr>\n",
       "      <td>tokens</td>\n",
       "      <td></td>\n",
       "      <td>None</td>\n",
       "      <td>None</td>\n",
       "      <td>False</td>\n",
       "      <td>21</td>\n",
       "    </tr>\n",
       "    <tr>\n",
       "      <td>compound_tokens</td>\n",
       "      <td>type, normalized</td>\n",
       "      <td>None</td>\n",
       "      <td>tokens</td>\n",
       "      <td>False</td>\n",
       "      <td>2</td>\n",
       "    </tr>\n",
       "    <tr>\n",
       "      <td>words</td>\n",
       "      <td>normalized_form</td>\n",
       "      <td>None</td>\n",
       "      <td>None</td>\n",
       "      <td>True</td>\n",
       "      <td>18</td>\n",
       "    </tr>\n",
       "    <tr>\n",
       "      <td>address_parts</td>\n",
       "      <td>grammar_symbol, type</td>\n",
       "      <td>None</td>\n",
       "      <td>None</td>\n",
       "      <td>True</td>\n",
       "      <td>11</td>\n",
       "    </tr>\n",
       "    <tr>\n",
       "      <td>addresses</td>\n",
       "      <td></td>\n",
       "      <td>None</td>\n",
       "      <td>address_parts</td>\n",
       "      <td>True</td>\n",
       "      <td>2</td>\n",
       "    </tr>\n",
       "    <tr>\n",
       "      <td>addresses2</td>\n",
       "      <td></td>\n",
       "      <td>None</td>\n",
       "      <td>address_parts</td>\n",
       "      <td>True</td>\n",
       "      <td>2</td>\n",
       "    </tr>\n",
       "  </tbody>\n",
       "</table>"
      ],
      "text/plain": [
       "Text(text='Jüri Homenja kontsert toimub E, 22. mai kl 18:00 kultuurimajas Veski 5, Elva, Tartumaa.')"
      ]
     },
     "execution_count": 13,
     "metadata": {},
     "output_type": "execute_result"
    }
   ],
   "source": [
    "tagger2.tag(text)"
   ]
  },
  {
   "cell_type": "code",
   "execution_count": 14,
   "metadata": {},
   "outputs": [
    {
     "data": {
      "text/html": [
       "<h4>Layer</h4>\n",
       "\n",
       "\n",
       "<table border=\"1\" class=\"dataframe\">\n",
       "  <thead>\n",
       "    <tr style=\"text-align: right;\">\n",
       "      <th>layer name</th>\n",
       "      <th>attributes</th>\n",
       "      <th>parent</th>\n",
       "      <th>enveloping</th>\n",
       "      <th>ambiguous</th>\n",
       "      <th>span count</th>\n",
       "    </tr>\n",
       "  </thead>\n",
       "  <tbody>\n",
       "    <tr>\n",
       "      <td>addresses2</td>\n",
       "      <td></td>\n",
       "      <td>None</td>\n",
       "      <td>address_parts</td>\n",
       "      <td>True</td>\n",
       "      <td>2</td>\n",
       "    </tr>\n",
       "  </tbody>\n",
       "</table>\n",
       "<table border=\"1\" class=\"dataframe\">\n",
       "  <thead>\n",
       "    <tr style=\"text-align: right;\">\n",
       "      <th>text</th>\n",
       "    </tr>\n",
       "  </thead>\n",
       "  <tbody>\n",
       "    <tr>\n",
       "      <td>['Veski', '5']</td>\n",
       "    </tr>\n",
       "    <tr>\n",
       "      <td>['Veski', '5', 'Elva']</td>\n",
       "    </tr>\n",
       "  </tbody>\n",
       "</table>"
      ],
      "text/plain": [
       "Layer(name='addresses2', attributes=(), spans=SL[EnvelopingSpan(['Veski', '5'], [{}]),\n",
       "EnvelopingSpan(['Veski', '5', 'Elva'], [{}])])"
      ]
     },
     "execution_count": 14,
     "metadata": {},
     "output_type": "execute_result"
    }
   ],
   "source": [
    "text.addresses2"
   ]
  },
  {
   "cell_type": "markdown",
   "metadata": {},
   "source": [
    "### Priorities"
   ]
  },
  {
   "cell_type": "markdown",
   "metadata": {},
   "source": [
    "The next problem that we have is that both ['Veski', '5'] and ['Veski', '5', 'Elva'] are tagged. Of course, we could just remove the rule for the first case from the grammar, but as sometimes the address is expressed only by a streetname and a house number, we would prefer to keep both rules but to only receive the match of the longer rule if both match. \n",
    "\n",
    "For this, we can use optional parameters *group* and *priority* while defining our rules. The parameter *group* is a name for the group into which the rule belongs. It can be anything, but all rules that we want to put into one group need to have the same name for *group*. *priority* defines which rule of the ones belonging to the *group* is applied if several rules match. **NB!** The **higher** the value, the **lower** the priority. Therefore, if there are two rules with priorities 2 and 3 that both match, the rule with the priority of 2 is applied."
   ]
  },
  {
   "cell_type": "markdown",
   "metadata": {},
   "source": [
    "To view this, let's create a new grammar and add the rules with *group* and *priority* parameters:"
   ]
  },
  {
   "cell_type": "code",
   "execution_count": 15,
   "metadata": {},
   "outputs": [],
   "source": [
    "grammar3 = Grammar(start_symbols=['ADDRESS'], \n",
    "                  depth_limit=float('inf'), # the default\n",
    "                  width_limit=float('inf'), # the default\n",
    "                  legal_attributes=None # the default\n",
    "                  )\n",
    "\n",
    "grammar3.add_rule('ADDRESS', 'TÄNAV MAJA ASULA', group='g0', priority=2)\n",
    "grammar3.add_rule('ADDRESS', 'TÄNAV MAJA',       group='g0', priority=3)"
   ]
  },
  {
   "cell_type": "code",
   "execution_count": 16,
   "metadata": {},
   "outputs": [
    {
     "data": {
      "text/html": [
       "<h4>Layer</h4>\n",
       "\n",
       "\n",
       "<table border=\"1\" class=\"dataframe\">\n",
       "  <thead>\n",
       "    <tr style=\"text-align: right;\">\n",
       "      <th>layer name</th>\n",
       "      <th>attributes</th>\n",
       "      <th>parent</th>\n",
       "      <th>enveloping</th>\n",
       "      <th>ambiguous</th>\n",
       "      <th>span count</th>\n",
       "    </tr>\n",
       "  </thead>\n",
       "  <tbody>\n",
       "    <tr>\n",
       "      <td>addresses3</td>\n",
       "      <td></td>\n",
       "      <td>None</td>\n",
       "      <td>address_parts</td>\n",
       "      <td>True</td>\n",
       "      <td>1</td>\n",
       "    </tr>\n",
       "  </tbody>\n",
       "</table>\n",
       "<table border=\"1\" class=\"dataframe\">\n",
       "  <thead>\n",
       "    <tr style=\"text-align: right;\">\n",
       "      <th>text</th>\n",
       "    </tr>\n",
       "  </thead>\n",
       "  <tbody>\n",
       "    <tr>\n",
       "      <td>['Veski', '5', 'Elva']</td>\n",
       "    </tr>\n",
       "  </tbody>\n",
       "</table>"
      ],
      "text/plain": [
       "Layer(name='addresses3', attributes=(), spans=SL[EnvelopingSpan(['Veski', '5', 'Elva'], [{}])])"
      ]
     },
     "execution_count": 16,
     "metadata": {},
     "output_type": "execute_result"
    }
   ],
   "source": [
    "tagger3 = GrammarParsingTagger(grammar=grammar3,\n",
    "                              layer_of_tokens='address_parts',\n",
    "                              name_attribute='grammar_symbol', # the default\n",
    "                              output_layer='addresses3', # the default\n",
    "                              output_ambiguous=True, # default False\n",
    "                              gap_validator=gap_validator\n",
    "                              )\n",
    "tagger3.tag(text)\n",
    "text.addresses3"
   ]
  },
  {
   "cell_type": "markdown",
   "metadata": {},
   "source": [
    "### Decorators"
   ]
  },
  {
   "cell_type": "markdown",
   "metadata": {},
   "source": [
    "Now we have succeeded in tagging only the match that we wanted with GrammarParsingTagger. However, we only have a list of strings with no information about which one is the streetname, etc. To **add information to the layer** that we are tagging with a GrammarParsingTagger, we can use **decorator** functions. Decorators are also optional parameters of the rules of the grammar just like *group* and *priority*. "
   ]
  },
  {
   "cell_type": "markdown",
   "metadata": {},
   "source": [
    "Let's define a decorator that adds the attributes 'ASULA', 'TÄNAV', 'INDEKS', 'MAAKOND' and 'MAJA' to the tagger matches:"
   ]
  },
  {
   "cell_type": "code",
   "execution_count": 17,
   "metadata": {},
   "outputs": [],
   "source": [
    "def address_decorator(nodes):\n",
    "    asula = ''\n",
    "    maakond = ''\n",
    "    t2nav = ''\n",
    "    indeks = ''\n",
    "    maja = ''\n",
    "    for node in nodes:\n",
    "        if node.name == 'ASULA':\n",
    "            asula = node.text\n",
    "        elif node.name == 'TÄNAV':\n",
    "            t2nav = node.text\n",
    "        elif node.name == 'MAAKOND':\n",
    "            maakond = node.text\n",
    "        elif node.name == 'MAJA':\n",
    "            maja = node.text\n",
    "        elif node.name == 'INDEKS':\n",
    "            indeks = node.text\n",
    "    return {'grammar_symbol': 'ADDRESS',\n",
    "            'ASULA': asula,\n",
    "            'TÄNAV': t2nav,\n",
    "            'INDEKS': indeks,\n",
    "            'MAAKOND': maakond,\n",
    "            'MAJA': maja}"
   ]
  },
  {
   "cell_type": "markdown",
   "metadata": {},
   "source": [
    "If we want to add attributes with a decorator, we have to **allow those attributes in our grammar** - for this there is the parameter *legal_attributes*. "
   ]
  },
  {
   "cell_type": "code",
   "execution_count": 18,
   "metadata": {},
   "outputs": [],
   "source": [
    "grammar4 = Grammar(start_symbols=['ADDRESS'], \n",
    "                  depth_limit=float('inf'), # the default\n",
    "                  width_limit=float('inf'), # the default\n",
    "                  legal_attributes=['grammar_symbol', 'INDEKS', 'MAJA', 'TÄNAV', 'MAAKOND', 'ASULA']\n",
    "                  )"
   ]
  },
  {
   "cell_type": "markdown",
   "metadata": {},
   "source": [
    "Let's add the **rules with decorators** to the new grammar:"
   ]
  },
  {
   "cell_type": "code",
   "execution_count": 19,
   "metadata": {},
   "outputs": [],
   "source": [
    "grammar4.add_rule('ADDRESS', 'TÄNAV MAJA ASULA', group='g0', priority=2, decorator=address_decorator)\n",
    "grammar4.add_rule('ADDRESS', 'TÄNAV MAJA',       group='g0', priority=3, decorator=address_decorator)"
   ]
  },
  {
   "cell_type": "markdown",
   "metadata": {},
   "source": [
    "And then we can define a new tagger where we also have to **specify the attributes** that we want to tag with the GrammarParsingTagger - the *attributes* parameter is for this."
   ]
  },
  {
   "cell_type": "code",
   "execution_count": 20,
   "metadata": {},
   "outputs": [],
   "source": [
    "tagger4 = GrammarParsingTagger(grammar=grammar4,\n",
    "                              layer_of_tokens='address_parts',\n",
    "                              name_attribute='grammar_symbol',\n",
    "                              output_layer='addresses4',\n",
    "                              attributes=('grammar_symbol', 'INDEKS', 'MAJA', 'TÄNAV', 'MAAKOND', 'ASULA'),\n",
    "                              output_ambiguous=False, # default False\n",
    "                              gap_validator = gap_validator\n",
    "                              )"
   ]
  },
  {
   "cell_type": "code",
   "execution_count": 21,
   "metadata": {},
   "outputs": [
    {
     "data": {
      "text/html": [
       "<h4>Layer</h4>\n",
       "\n",
       "\n",
       "<table border=\"1\" class=\"dataframe\">\n",
       "  <thead>\n",
       "    <tr style=\"text-align: right;\">\n",
       "      <th>layer name</th>\n",
       "      <th>attributes</th>\n",
       "      <th>parent</th>\n",
       "      <th>enveloping</th>\n",
       "      <th>ambiguous</th>\n",
       "      <th>span count</th>\n",
       "    </tr>\n",
       "  </thead>\n",
       "  <tbody>\n",
       "    <tr>\n",
       "      <td>addresses4</td>\n",
       "      <td>grammar_symbol, INDEKS, MAJA, TÄNAV, MAAKOND, ASULA</td>\n",
       "      <td>None</td>\n",
       "      <td>address_parts</td>\n",
       "      <td>False</td>\n",
       "      <td>1</td>\n",
       "    </tr>\n",
       "  </tbody>\n",
       "</table>\n",
       "<table border=\"1\" class=\"dataframe\">\n",
       "  <thead>\n",
       "    <tr style=\"text-align: right;\">\n",
       "      <th>text</th>\n",
       "      <th>grammar_symbol</th>\n",
       "      <th>INDEKS</th>\n",
       "      <th>MAJA</th>\n",
       "      <th>TÄNAV</th>\n",
       "      <th>MAAKOND</th>\n",
       "      <th>ASULA</th>\n",
       "    </tr>\n",
       "  </thead>\n",
       "  <tbody>\n",
       "    <tr>\n",
       "      <td>['Veski', '5', 'Elva']</td>\n",
       "      <td>ADDRESS</td>\n",
       "      <td></td>\n",
       "      <td>5</td>\n",
       "      <td>Veski</td>\n",
       "      <td></td>\n",
       "      <td>Elva</td>\n",
       "    </tr>\n",
       "  </tbody>\n",
       "</table>"
      ],
      "text/plain": [
       "Layer(name='addresses4', attributes=('grammar_symbol', 'INDEKS', 'MAJA', 'TÄNAV', 'MAAKOND', 'ASULA'), spans=SL[EnvelopingSpan(['Veski', '5', 'Elva'], [{'grammar_symbol': 'ADDRESS', 'INDEKS': '', 'MAJA': '5', 'TÄNAV': 'Veski', 'MAAKOND': '', 'ASULA': 'Elva'}])])"
      ]
     },
     "execution_count": 21,
     "metadata": {},
     "output_type": "execute_result"
    }
   ],
   "source": [
    "tagger4.tag(text)\n",
    "text.addresses4"
   ]
  },
  {
   "cell_type": "markdown",
   "metadata": {},
   "source": [
    "Now we can easily get the tagged parts of the address:"
   ]
  },
  {
   "cell_type": "code",
   "execution_count": 22,
   "metadata": {},
   "outputs": [
    {
     "name": "stdout",
     "output_type": "stream",
     "text": [
      "['Veski']\n"
     ]
    }
   ],
   "source": [
    "print(text.addresses4.TÄNAV)"
   ]
  },
  {
   "cell_type": "code",
   "execution_count": 23,
   "metadata": {},
   "outputs": [
    {
     "name": "stdout",
     "output_type": "stream",
     "text": [
      "['5']\n"
     ]
    }
   ],
   "source": [
    "print(text.addresses4.MAJA)"
   ]
  },
  {
   "cell_type": "code",
   "execution_count": 24,
   "metadata": {},
   "outputs": [
    {
     "name": "stdout",
     "output_type": "stream",
     "text": [
      "['Elva']\n"
     ]
    }
   ],
   "source": [
    "print(text.addresses4.ASULA)"
   ]
  },
  {
   "cell_type": "markdown",
   "metadata": {},
   "source": [
    "### Validators"
   ]
  },
  {
   "cell_type": "markdown",
   "metadata": {},
   "source": [
    "We have nicely tagged an address on the text, but let's assume now that we have some more information about possible addresses in Estonia that we want to take into account too - namely, let's play that we know which streets exist in which towns, and while tagging addresses, we want to make sure that the street is a valid street in its town. So, let's have the following huge dataset of towns and their streetnames:"
   ]
  },
  {
   "cell_type": "code",
   "execution_count": 25,
   "metadata": {},
   "outputs": [],
   "source": [
    "town_streets = {'Elva': {'Veski', 'Tuletõrje'},\n",
    "                'Tartu': {'Veski', 'Ülikooli'}}"
   ]
  },
  {
   "cell_type": "markdown",
   "metadata": {},
   "source": [
    "And let's take an example that has this kind of problem:"
   ]
  },
  {
   "cell_type": "code",
   "execution_count": 26,
   "metadata": {},
   "outputs": [
    {
     "data": {
      "text/html": [
       "<table border=\"1\" class=\"dataframe\">\n",
       "  <thead>\n",
       "    <tr style=\"text-align: right;\">\n",
       "      <th>text</th>\n",
       "    </tr>\n",
       "  </thead>\n",
       "  <tbody>\n",
       "    <tr>\n",
       "      <td><div align = \"left\">Inimesed, kes töötavad Tartus Ülikooli 5, Elva haiglas             ja Tõravere observatooriumis, söövad esmaspäeviti õunu.</div></td>\n",
       "    </tr>\n",
       "  </tbody>\n",
       "</table>\n",
       "<table border=\"1\" class=\"dataframe\">\n",
       "  <thead>\n",
       "    <tr style=\"text-align: right;\">\n",
       "      <th>layer name</th>\n",
       "      <th>attributes</th>\n",
       "      <th>parent</th>\n",
       "      <th>enveloping</th>\n",
       "      <th>ambiguous</th>\n",
       "      <th>span count</th>\n",
       "    </tr>\n",
       "  </thead>\n",
       "  <tbody>\n",
       "    <tr>\n",
       "      <td>tokens</td>\n",
       "      <td></td>\n",
       "      <td>None</td>\n",
       "      <td>None</td>\n",
       "      <td>False</td>\n",
       "      <td>18</td>\n",
       "    </tr>\n",
       "    <tr>\n",
       "      <td>compound_tokens</td>\n",
       "      <td>type, normalized</td>\n",
       "      <td>None</td>\n",
       "      <td>tokens</td>\n",
       "      <td>False</td>\n",
       "      <td>0</td>\n",
       "    </tr>\n",
       "    <tr>\n",
       "      <td>words</td>\n",
       "      <td>normalized_form</td>\n",
       "      <td>None</td>\n",
       "      <td>None</td>\n",
       "      <td>True</td>\n",
       "      <td>18</td>\n",
       "    </tr>\n",
       "    <tr>\n",
       "      <td>address_parts</td>\n",
       "      <td>grammar_symbol, type</td>\n",
       "      <td>None</td>\n",
       "      <td>None</td>\n",
       "      <td>True</td>\n",
       "      <td>7</td>\n",
       "    </tr>\n",
       "  </tbody>\n",
       "</table>"
      ],
      "text/plain": [
       "Text(text='Inimesed, kes töötavad Tartus Ülikooli 5, Elva haiglas             ja Tõravere observatooriumis, söövad esmaspäeviti õunu.')"
      ]
     },
     "execution_count": 26,
     "metadata": {},
     "output_type": "execute_result"
    }
   ],
   "source": [
    "text = Text('Inimesed, kes töötavad Tartus Ülikooli 5, Elva haiglas \\\n",
    "            ja Tõravere observatooriumis, söövad esmaspäeviti õunu.').tag_layer(['words'])\n",
    "address_part_tagger.tag(text)"
   ]
  },
  {
   "cell_type": "code",
   "execution_count": 27,
   "metadata": {},
   "outputs": [
    {
     "data": {
      "text/html": [
       "<table border=\"1\" class=\"dataframe\">\n",
       "  <thead>\n",
       "    <tr style=\"text-align: right;\">\n",
       "      <th>text</th>\n",
       "    </tr>\n",
       "  </thead>\n",
       "  <tbody>\n",
       "    <tr>\n",
       "      <td><div align = \"left\">Inimesed, kes töötavad Tartus Ülikooli 5, Elva haiglas             ja Tõravere observatooriumis, söövad esmaspäeviti õunu.</div></td>\n",
       "    </tr>\n",
       "  </tbody>\n",
       "</table>\n",
       "<table border=\"1\" class=\"dataframe\">\n",
       "  <thead>\n",
       "    <tr style=\"text-align: right;\">\n",
       "      <th>layer name</th>\n",
       "      <th>attributes</th>\n",
       "      <th>parent</th>\n",
       "      <th>enveloping</th>\n",
       "      <th>ambiguous</th>\n",
       "      <th>span count</th>\n",
       "    </tr>\n",
       "  </thead>\n",
       "  <tbody>\n",
       "    <tr>\n",
       "      <td>tokens</td>\n",
       "      <td></td>\n",
       "      <td>None</td>\n",
       "      <td>None</td>\n",
       "      <td>False</td>\n",
       "      <td>18</td>\n",
       "    </tr>\n",
       "    <tr>\n",
       "      <td>compound_tokens</td>\n",
       "      <td>type, normalized</td>\n",
       "      <td>None</td>\n",
       "      <td>tokens</td>\n",
       "      <td>False</td>\n",
       "      <td>0</td>\n",
       "    </tr>\n",
       "    <tr>\n",
       "      <td>words</td>\n",
       "      <td>normalized_form</td>\n",
       "      <td>None</td>\n",
       "      <td>None</td>\n",
       "      <td>True</td>\n",
       "      <td>18</td>\n",
       "    </tr>\n",
       "    <tr>\n",
       "      <td>address_parts</td>\n",
       "      <td>grammar_symbol, type</td>\n",
       "      <td>None</td>\n",
       "      <td>None</td>\n",
       "      <td>True</td>\n",
       "      <td>7</td>\n",
       "    </tr>\n",
       "    <tr>\n",
       "      <td>addresses4</td>\n",
       "      <td>grammar_symbol, INDEKS, MAJA, TÄNAV, MAAKOND, ASULA</td>\n",
       "      <td>None</td>\n",
       "      <td>address_parts</td>\n",
       "      <td>False</td>\n",
       "      <td>1</td>\n",
       "    </tr>\n",
       "  </tbody>\n",
       "</table>"
      ],
      "text/plain": [
       "Text(text='Inimesed, kes töötavad Tartus Ülikooli 5, Elva haiglas             ja Tõravere observatooriumis, söövad esmaspäeviti õunu.')"
      ]
     },
     "execution_count": 27,
     "metadata": {},
     "output_type": "execute_result"
    }
   ],
   "source": [
    "tagger4.tag(text)"
   ]
  },
  {
   "cell_type": "code",
   "execution_count": 28,
   "metadata": {},
   "outputs": [
    {
     "data": {
      "text/html": [
       "<h4>Layer</h4>\n",
       "\n",
       "\n",
       "<table border=\"1\" class=\"dataframe\">\n",
       "  <thead>\n",
       "    <tr style=\"text-align: right;\">\n",
       "      <th>layer name</th>\n",
       "      <th>attributes</th>\n",
       "      <th>parent</th>\n",
       "      <th>enveloping</th>\n",
       "      <th>ambiguous</th>\n",
       "      <th>span count</th>\n",
       "    </tr>\n",
       "  </thead>\n",
       "  <tbody>\n",
       "    <tr>\n",
       "      <td>addresses4</td>\n",
       "      <td>grammar_symbol, INDEKS, MAJA, TÄNAV, MAAKOND, ASULA</td>\n",
       "      <td>None</td>\n",
       "      <td>address_parts</td>\n",
       "      <td>False</td>\n",
       "      <td>1</td>\n",
       "    </tr>\n",
       "  </tbody>\n",
       "</table>\n",
       "<table border=\"1\" class=\"dataframe\">\n",
       "  <thead>\n",
       "    <tr style=\"text-align: right;\">\n",
       "      <th>text</th>\n",
       "      <th>grammar_symbol</th>\n",
       "      <th>INDEKS</th>\n",
       "      <th>MAJA</th>\n",
       "      <th>TÄNAV</th>\n",
       "      <th>MAAKOND</th>\n",
       "      <th>ASULA</th>\n",
       "    </tr>\n",
       "  </thead>\n",
       "  <tbody>\n",
       "    <tr>\n",
       "      <td>['Ülikooli', '5', 'Elva']</td>\n",
       "      <td>ADDRESS</td>\n",
       "      <td></td>\n",
       "      <td>5</td>\n",
       "      <td>Ülikooli</td>\n",
       "      <td></td>\n",
       "      <td>Elva</td>\n",
       "    </tr>\n",
       "  </tbody>\n",
       "</table>"
      ],
      "text/plain": [
       "Layer(name='addresses4', attributes=('grammar_symbol', 'INDEKS', 'MAJA', 'TÄNAV', 'MAAKOND', 'ASULA'), spans=SL[EnvelopingSpan(['Ülikooli', '5', 'Elva'], [{'grammar_symbol': 'ADDRESS', 'INDEKS': '', 'MAJA': '5', 'TÄNAV': 'Ülikooli', 'MAAKOND': '', 'ASULA': 'Elva'}])])"
      ]
     },
     "execution_count": 28,
     "metadata": {},
     "output_type": "execute_result"
    }
   ],
   "source": [
    "text.addresses4"
   ]
  },
  {
   "cell_type": "markdown",
   "metadata": {},
   "source": [
    "As we can see, if we use our previous tagger, we get an incorrect address that we could detect by checking the data in *town_streets* dictionary. To do additional checks, we can use **validator** functions. Those can be added to the rules just like **decorators** but they must return either True or False, and, based on this, the match is either tagged or not. "
   ]
  },
  {
   "cell_type": "code",
   "execution_count": 29,
   "metadata": {},
   "outputs": [],
   "source": [
    "def validator(node):\n",
    "    street = node[0].text\n",
    "    town = node[2].text\n",
    "    if town in town_streets:\n",
    "        if street in town_streets[town]:\n",
    "            return True\n",
    "    return False"
   ]
  },
  {
   "cell_type": "code",
   "execution_count": 30,
   "metadata": {},
   "outputs": [],
   "source": [
    "grammar5 = Grammar(start_symbols=['ADDRESS'], \n",
    "                  legal_attributes=['INDEKS', 'grammar_symbol', 'MAJA', 'TÄNAV', 'MAAKOND', 'ASULA']\n",
    "                  )\n",
    "\n",
    "grammar5.add_rule('ADDRESS', 'TÄNAV MAJA ASULA', group='g0', priority=2, \n",
    "                 decorator=address_decorator, validator=validator)\n",
    "\n",
    "grammar5.add_rule('ADDRESS', 'TÄNAV MAJA',       group='g0', priority=3, \n",
    "                 decorator=address_decorator) # We cannot use the validator here as this rule doesn't tag the town\n",
    "\n",
    "tagger5 = GrammarParsingTagger(grammar=grammar5,\n",
    "                              layer_of_tokens='address_parts',\n",
    "                              name_attribute='grammar_symbol',\n",
    "                              output_layer='addresses5',\n",
    "                              attributes=('INDEKS', 'grammar_symbol', 'MAJA', 'TÄNAV', 'MAAKOND', 'ASULA'),\n",
    "                              output_ambiguous=True,\n",
    "                              gap_validator = gap_validator\n",
    "                              )"
   ]
  },
  {
   "cell_type": "code",
   "execution_count": 31,
   "metadata": {
    "scrolled": true
   },
   "outputs": [
    {
     "data": {
      "text/html": [
       "<h4>Layer</h4>\n",
       "\n",
       "\n",
       "<table border=\"1\" class=\"dataframe\">\n",
       "  <thead>\n",
       "    <tr style=\"text-align: right;\">\n",
       "      <th>layer name</th>\n",
       "      <th>attributes</th>\n",
       "      <th>parent</th>\n",
       "      <th>enveloping</th>\n",
       "      <th>ambiguous</th>\n",
       "      <th>span count</th>\n",
       "    </tr>\n",
       "  </thead>\n",
       "  <tbody>\n",
       "    <tr>\n",
       "      <td>addresses5</td>\n",
       "      <td>INDEKS, grammar_symbol, MAJA, TÄNAV, MAAKOND, ASULA</td>\n",
       "      <td>None</td>\n",
       "      <td>address_parts</td>\n",
       "      <td>True</td>\n",
       "      <td>1</td>\n",
       "    </tr>\n",
       "  </tbody>\n",
       "</table>\n",
       "<table border=\"1\" class=\"dataframe\">\n",
       "  <thead>\n",
       "    <tr style=\"text-align: right;\">\n",
       "      <th>text</th>\n",
       "      <th>INDEKS</th>\n",
       "      <th>grammar_symbol</th>\n",
       "      <th>MAJA</th>\n",
       "      <th>TÄNAV</th>\n",
       "      <th>MAAKOND</th>\n",
       "      <th>ASULA</th>\n",
       "    </tr>\n",
       "  </thead>\n",
       "  <tbody>\n",
       "    <tr>\n",
       "      <td>['Ülikooli', '5']</td>\n",
       "      <td></td>\n",
       "      <td>ADDRESS</td>\n",
       "      <td>5</td>\n",
       "      <td>Ülikooli</td>\n",
       "      <td></td>\n",
       "      <td></td>\n",
       "    </tr>\n",
       "  </tbody>\n",
       "</table>"
      ],
      "text/plain": [
       "Layer(name='addresses5', attributes=('INDEKS', 'grammar_symbol', 'MAJA', 'TÄNAV', 'MAAKOND', 'ASULA'), spans=SL[EnvelopingSpan(['Ülikooli', '5'], [{'INDEKS': '', 'grammar_symbol': 'ADDRESS', 'MAJA': '5', 'TÄNAV': 'Ülikooli', 'MAAKOND': '', 'ASULA': ''}])])"
      ]
     },
     "execution_count": 31,
     "metadata": {},
     "output_type": "execute_result"
    }
   ],
   "source": [
    "tagger5.tag(text)\n",
    "text.addresses5"
   ]
  },
  {
   "cell_type": "markdown",
   "metadata": {},
   "source": [
    "Now we successfully got the match ['Ülikooli', '5'] because ['Ülikooli', '5', 'Elva'] was not a valid address according to our validator."
   ]
  },
  {
   "cell_type": "markdown",
   "metadata": {},
   "source": [
    "### SEQ and MSEQ rules"
   ]
  },
  {
   "cell_type": "markdown",
   "metadata": {},
   "source": [
    "There are also special types of rules - **SEQ** and **MSEQ** rules. This means that the symbol can be repeated. Let's see an example where we have several houses on the same street mentioned:"
   ]
  },
  {
   "cell_type": "code",
   "execution_count": 32,
   "metadata": {},
   "outputs": [
    {
     "data": {
      "text/html": [
       "<table border=\"1\" class=\"dataframe\">\n",
       "  <thead>\n",
       "    <tr style=\"text-align: right;\">\n",
       "      <th>text</th>\n",
       "    </tr>\n",
       "  </thead>\n",
       "  <tbody>\n",
       "    <tr>\n",
       "      <td><div align = \"left\">Veekatkestus Veski 3, 5, 7 majades kestab 8. juunil kl 12-15.</div></td>\n",
       "    </tr>\n",
       "  </tbody>\n",
       "</table>\n",
       "<table border=\"1\" class=\"dataframe\">\n",
       "  <thead>\n",
       "    <tr style=\"text-align: right;\">\n",
       "      <th>layer name</th>\n",
       "      <th>attributes</th>\n",
       "      <th>parent</th>\n",
       "      <th>enveloping</th>\n",
       "      <th>ambiguous</th>\n",
       "      <th>span count</th>\n",
       "    </tr>\n",
       "  </thead>\n",
       "  <tbody>\n",
       "    <tr>\n",
       "      <td>tokens</td>\n",
       "      <td></td>\n",
       "      <td>None</td>\n",
       "      <td>None</td>\n",
       "      <td>False</td>\n",
       "      <td>17</td>\n",
       "    </tr>\n",
       "    <tr>\n",
       "      <td>compound_tokens</td>\n",
       "      <td>type, normalized</td>\n",
       "      <td>None</td>\n",
       "      <td>tokens</td>\n",
       "      <td>False</td>\n",
       "      <td>2</td>\n",
       "    </tr>\n",
       "    <tr>\n",
       "      <td>words</td>\n",
       "      <td>normalized_form</td>\n",
       "      <td>None</td>\n",
       "      <td>None</td>\n",
       "      <td>True</td>\n",
       "      <td>15</td>\n",
       "    </tr>\n",
       "    <tr>\n",
       "      <td>address_parts</td>\n",
       "      <td>grammar_symbol, type</td>\n",
       "      <td>None</td>\n",
       "      <td>None</td>\n",
       "      <td>True</td>\n",
       "      <td>9</td>\n",
       "    </tr>\n",
       "  </tbody>\n",
       "</table>"
      ],
      "text/plain": [
       "Text(text='Veekatkestus Veski 3, 5, 7 majades kestab 8. juunil kl 12-15.')"
      ]
     },
     "execution_count": 32,
     "metadata": {},
     "output_type": "execute_result"
    }
   ],
   "source": [
    "text = Text('Veekatkestus Veski 3, 5, 7 majades kestab 8. juunil kl 12-15.').tag_layer(['words'])\n",
    "address_part_tagger.tag(text)"
   ]
  },
  {
   "cell_type": "code",
   "execution_count": 33,
   "metadata": {},
   "outputs": [
    {
     "data": {
      "text/html": [
       "<table border=\"1\" class=\"dataframe\">\n",
       "  <thead>\n",
       "    <tr style=\"text-align: right;\">\n",
       "      <th>text</th>\n",
       "    </tr>\n",
       "  </thead>\n",
       "  <tbody>\n",
       "    <tr>\n",
       "      <td><div align = \"left\">Veekatkestus Veski 3, 5, 7 majades kestab 8. juunil kl 12-15.</div></td>\n",
       "    </tr>\n",
       "  </tbody>\n",
       "</table>\n",
       "<table border=\"1\" class=\"dataframe\">\n",
       "  <thead>\n",
       "    <tr style=\"text-align: right;\">\n",
       "      <th>layer name</th>\n",
       "      <th>attributes</th>\n",
       "      <th>parent</th>\n",
       "      <th>enveloping</th>\n",
       "      <th>ambiguous</th>\n",
       "      <th>span count</th>\n",
       "    </tr>\n",
       "  </thead>\n",
       "  <tbody>\n",
       "    <tr>\n",
       "      <td>tokens</td>\n",
       "      <td></td>\n",
       "      <td>None</td>\n",
       "      <td>None</td>\n",
       "      <td>False</td>\n",
       "      <td>17</td>\n",
       "    </tr>\n",
       "    <tr>\n",
       "      <td>compound_tokens</td>\n",
       "      <td>type, normalized</td>\n",
       "      <td>None</td>\n",
       "      <td>tokens</td>\n",
       "      <td>False</td>\n",
       "      <td>2</td>\n",
       "    </tr>\n",
       "    <tr>\n",
       "      <td>words</td>\n",
       "      <td>normalized_form</td>\n",
       "      <td>None</td>\n",
       "      <td>None</td>\n",
       "      <td>True</td>\n",
       "      <td>15</td>\n",
       "    </tr>\n",
       "    <tr>\n",
       "      <td>address_parts</td>\n",
       "      <td>grammar_symbol, type</td>\n",
       "      <td>None</td>\n",
       "      <td>None</td>\n",
       "      <td>True</td>\n",
       "      <td>9</td>\n",
       "    </tr>\n",
       "    <tr>\n",
       "      <td>addresses5</td>\n",
       "      <td>INDEKS, grammar_symbol, MAJA, TÄNAV, MAAKOND, ASULA</td>\n",
       "      <td>None</td>\n",
       "      <td>address_parts</td>\n",
       "      <td>True</td>\n",
       "      <td>1</td>\n",
       "    </tr>\n",
       "  </tbody>\n",
       "</table>"
      ],
      "text/plain": [
       "Text(text='Veekatkestus Veski 3, 5, 7 majades kestab 8. juunil kl 12-15.')"
      ]
     },
     "execution_count": 33,
     "metadata": {},
     "output_type": "execute_result"
    }
   ],
   "source": [
    "tagger5.tag(text)"
   ]
  },
  {
   "cell_type": "code",
   "execution_count": 34,
   "metadata": {},
   "outputs": [
    {
     "data": {
      "text/html": [
       "<h4>Layer</h4>\n",
       "\n",
       "\n",
       "<table border=\"1\" class=\"dataframe\">\n",
       "  <thead>\n",
       "    <tr style=\"text-align: right;\">\n",
       "      <th>layer name</th>\n",
       "      <th>attributes</th>\n",
       "      <th>parent</th>\n",
       "      <th>enveloping</th>\n",
       "      <th>ambiguous</th>\n",
       "      <th>span count</th>\n",
       "    </tr>\n",
       "  </thead>\n",
       "  <tbody>\n",
       "    <tr>\n",
       "      <td>addresses5</td>\n",
       "      <td>INDEKS, grammar_symbol, MAJA, TÄNAV, MAAKOND, ASULA</td>\n",
       "      <td>None</td>\n",
       "      <td>address_parts</td>\n",
       "      <td>True</td>\n",
       "      <td>1</td>\n",
       "    </tr>\n",
       "  </tbody>\n",
       "</table>\n",
       "<table border=\"1\" class=\"dataframe\">\n",
       "  <thead>\n",
       "    <tr style=\"text-align: right;\">\n",
       "      <th>text</th>\n",
       "      <th>INDEKS</th>\n",
       "      <th>grammar_symbol</th>\n",
       "      <th>MAJA</th>\n",
       "      <th>TÄNAV</th>\n",
       "      <th>MAAKOND</th>\n",
       "      <th>ASULA</th>\n",
       "    </tr>\n",
       "  </thead>\n",
       "  <tbody>\n",
       "    <tr>\n",
       "      <td>['Veski', '3']</td>\n",
       "      <td></td>\n",
       "      <td>ADDRESS</td>\n",
       "      <td>3</td>\n",
       "      <td>Veski</td>\n",
       "      <td></td>\n",
       "      <td></td>\n",
       "    </tr>\n",
       "  </tbody>\n",
       "</table>"
      ],
      "text/plain": [
       "Layer(name='addresses5', attributes=('INDEKS', 'grammar_symbol', 'MAJA', 'TÄNAV', 'MAAKOND', 'ASULA'), spans=SL[EnvelopingSpan(['Veski', '3'], [{'INDEKS': '', 'grammar_symbol': 'ADDRESS', 'MAJA': '3', 'TÄNAV': 'Veski', 'MAAKOND': '', 'ASULA': ''}])])"
      ]
     },
     "execution_count": 34,
     "metadata": {},
     "output_type": "execute_result"
    }
   ],
   "source": [
    "text.addresses5"
   ]
  },
  {
   "cell_type": "markdown",
   "metadata": {},
   "source": [
    "As can be anticipated, our grammar tags only the first house number because we haven't added rules for the others. We could add the rules one by one, like\n",
    "```\n",
    "'TÄNAV MAJA'\n",
    "'TÄNAV MAJA MAJA'\n",
    "'TÄNAV MAJA MAJA MAJA'\n",
    "...\n",
    "```\n",
    "but of course, we don't know exactly how many we should add. Therefore, it is easier to use a SEQ or an MSEQ rule. A SEQ rule finds the matches of all possible lengths while an MSEQ rule finds the longest possible match. So, let's define a new grammar again:"
   ]
  },
  {
   "cell_type": "code",
   "execution_count": 35,
   "metadata": {},
   "outputs": [],
   "source": [
    "grammar6 = Grammar(start_symbols=['ADDRESS'], \n",
    "                  legal_attributes=['grammar_symbol', 'INDEKS', 'MAJA', 'TÄNAV', 'MAAKOND', 'ASULA']\n",
    "                  )"
   ]
  },
  {
   "cell_type": "markdown",
   "metadata": {},
   "source": [
    "Note that if we want to use the decorator we have to redefine it so that it would be able to handle the SEQ/MSEQ rule:"
   ]
  },
  {
   "cell_type": "code",
   "execution_count": 36,
   "metadata": {},
   "outputs": [],
   "source": [
    "def address_decorator2(nodes):\n",
    "    asula = ''\n",
    "    maakond = ''\n",
    "    t2nav = ''\n",
    "    indeks = ''\n",
    "    maja = ''\n",
    "    for node in nodes:\n",
    "        if node.name == 'ASULA':\n",
    "            asula = node.text\n",
    "        elif node.name == 'TÄNAV':\n",
    "            t2nav = node.text\n",
    "        elif node.name == 'MAAKOND':\n",
    "            maakond = node.text\n",
    "        elif node.name == 'MAJA':\n",
    "            maja = node.text\n",
    "        elif node.name == 'MSEQ(MAJA)' or node.name == 'SEQ(MAJA)':\n",
    "            maja = [n.text for n in node.support]\n",
    "        elif node.name == 'INDEKS':\n",
    "            indeks = node.text\n",
    "    return {'grammar_symbol': 'ADDRESS',\n",
    "            'ASULA': asula,\n",
    "            'TÄNAV': t2nav,\n",
    "            'INDEKS': indeks,\n",
    "            'MAAKOND': maakond,\n",
    "            'MAJA': maja}"
   ]
  },
  {
   "cell_type": "markdown",
   "metadata": {},
   "source": [
    "Let's try the MSEQ rule:"
   ]
  },
  {
   "cell_type": "code",
   "execution_count": 37,
   "metadata": {},
   "outputs": [],
   "source": [
    "grammar6.add_rule('ADDRESS', 'TÄNAV MSEQ(MAJA) ASULA', group='g0', priority=3, \n",
    "                 decorator=address_decorator2, validator=validator)\n",
    "\n",
    "grammar6.add_rule('ADDRESS', 'TÄNAV MSEQ(MAJA)',       group='g0', priority=2, \n",
    "                 decorator=address_decorator2) # We cannot use the validator here as this rule doesn't tag the town\n",
    "\n",
    "tagger6 = GrammarParsingTagger(grammar=grammar6,\n",
    "                              layer_of_tokens='address_parts',\n",
    "                              name_attribute='grammar_symbol',\n",
    "                              output_layer='addresses6',\n",
    "                              attributes=('grammar_symbol', 'INDEKS', 'MAJA', 'TÄNAV', 'MAAKOND', 'ASULA'),\n",
    "                              output_ambiguous=True,\n",
    "                              gap_validator = gap_validator\n",
    "                              )"
   ]
  },
  {
   "cell_type": "code",
   "execution_count": 38,
   "metadata": {},
   "outputs": [
    {
     "data": {
      "text/html": [
       "<table border=\"1\" class=\"dataframe\">\n",
       "  <thead>\n",
       "    <tr style=\"text-align: right;\">\n",
       "      <th>text</th>\n",
       "    </tr>\n",
       "  </thead>\n",
       "  <tbody>\n",
       "    <tr>\n",
       "      <td><div align = \"left\">Veekatkestus Veski 3, 5, 7 majades kestab 8. juunil kl 12-15.</div></td>\n",
       "    </tr>\n",
       "  </tbody>\n",
       "</table>\n",
       "<table border=\"1\" class=\"dataframe\">\n",
       "  <thead>\n",
       "    <tr style=\"text-align: right;\">\n",
       "      <th>layer name</th>\n",
       "      <th>attributes</th>\n",
       "      <th>parent</th>\n",
       "      <th>enveloping</th>\n",
       "      <th>ambiguous</th>\n",
       "      <th>span count</th>\n",
       "    </tr>\n",
       "  </thead>\n",
       "  <tbody>\n",
       "    <tr>\n",
       "      <td>tokens</td>\n",
       "      <td></td>\n",
       "      <td>None</td>\n",
       "      <td>None</td>\n",
       "      <td>False</td>\n",
       "      <td>17</td>\n",
       "    </tr>\n",
       "    <tr>\n",
       "      <td>compound_tokens</td>\n",
       "      <td>type, normalized</td>\n",
       "      <td>None</td>\n",
       "      <td>tokens</td>\n",
       "      <td>False</td>\n",
       "      <td>2</td>\n",
       "    </tr>\n",
       "    <tr>\n",
       "      <td>words</td>\n",
       "      <td>normalized_form</td>\n",
       "      <td>None</td>\n",
       "      <td>None</td>\n",
       "      <td>True</td>\n",
       "      <td>15</td>\n",
       "    </tr>\n",
       "    <tr>\n",
       "      <td>address_parts</td>\n",
       "      <td>grammar_symbol, type</td>\n",
       "      <td>None</td>\n",
       "      <td>None</td>\n",
       "      <td>True</td>\n",
       "      <td>9</td>\n",
       "    </tr>\n",
       "    <tr>\n",
       "      <td>addresses5</td>\n",
       "      <td>INDEKS, grammar_symbol, MAJA, TÄNAV, MAAKOND, ASULA</td>\n",
       "      <td>None</td>\n",
       "      <td>address_parts</td>\n",
       "      <td>True</td>\n",
       "      <td>1</td>\n",
       "    </tr>\n",
       "    <tr>\n",
       "      <td>addresses6</td>\n",
       "      <td>grammar_symbol, INDEKS, MAJA, TÄNAV, MAAKOND, ASULA</td>\n",
       "      <td>None</td>\n",
       "      <td>address_parts</td>\n",
       "      <td>True</td>\n",
       "      <td>1</td>\n",
       "    </tr>\n",
       "  </tbody>\n",
       "</table>"
      ],
      "text/plain": [
       "Text(text='Veekatkestus Veski 3, 5, 7 majades kestab 8. juunil kl 12-15.')"
      ]
     },
     "execution_count": 38,
     "metadata": {},
     "output_type": "execute_result"
    }
   ],
   "source": [
    "tagger6.tag(text)"
   ]
  },
  {
   "cell_type": "code",
   "execution_count": 39,
   "metadata": {},
   "outputs": [
    {
     "data": {
      "text/html": [
       "<h4>Layer</h4>\n",
       "\n",
       "\n",
       "<table border=\"1\" class=\"dataframe\">\n",
       "  <thead>\n",
       "    <tr style=\"text-align: right;\">\n",
       "      <th>layer name</th>\n",
       "      <th>attributes</th>\n",
       "      <th>parent</th>\n",
       "      <th>enveloping</th>\n",
       "      <th>ambiguous</th>\n",
       "      <th>span count</th>\n",
       "    </tr>\n",
       "  </thead>\n",
       "  <tbody>\n",
       "    <tr>\n",
       "      <td>addresses6</td>\n",
       "      <td>grammar_symbol, INDEKS, MAJA, TÄNAV, MAAKOND, ASULA</td>\n",
       "      <td>None</td>\n",
       "      <td>address_parts</td>\n",
       "      <td>True</td>\n",
       "      <td>1</td>\n",
       "    </tr>\n",
       "  </tbody>\n",
       "</table>\n",
       "<table border=\"1\" class=\"dataframe\">\n",
       "  <thead>\n",
       "    <tr style=\"text-align: right;\">\n",
       "      <th>text</th>\n",
       "      <th>grammar_symbol</th>\n",
       "      <th>INDEKS</th>\n",
       "      <th>MAJA</th>\n",
       "      <th>TÄNAV</th>\n",
       "      <th>MAAKOND</th>\n",
       "      <th>ASULA</th>\n",
       "    </tr>\n",
       "  </thead>\n",
       "  <tbody>\n",
       "    <tr>\n",
       "      <td>['Veski', '3', '5', '7']</td>\n",
       "      <td>ADDRESS</td>\n",
       "      <td></td>\n",
       "      <td>['3', '5', '7']</td>\n",
       "      <td>Veski</td>\n",
       "      <td></td>\n",
       "      <td></td>\n",
       "    </tr>\n",
       "  </tbody>\n",
       "</table>"
      ],
      "text/plain": [
       "Layer(name='addresses6', attributes=('grammar_symbol', 'INDEKS', 'MAJA', 'TÄNAV', 'MAAKOND', 'ASULA'), spans=SL[EnvelopingSpan(['Veski', '3', '5', '7'], [{'grammar_symbol': 'ADDRESS', 'INDEKS': '', 'MAJA': ['3', '5', '7'], 'TÄNAV': 'Veski', 'MAAKOND': '', 'ASULA': ''}])])"
      ]
     },
     "execution_count": 39,
     "metadata": {},
     "output_type": "execute_result"
    }
   ],
   "source": [
    "text.addresses6"
   ]
  },
  {
   "cell_type": "markdown",
   "metadata": {},
   "source": [
    "As we can see, we were now able to match all the house numbers instead of only the first one. If we had used a SEQ rule, we'd also got the matches ['Veski', '3'] and ['Veski', '3', '5'], but this would not be the desired outcome for this example."
   ]
  },
  {
   "cell_type": "markdown",
   "metadata": {},
   "source": [
    "### Combining regular rules with SEQ and MSEQ rules [ experimental ]\n",
    "\n",
    "In some situations, we need to combine regular rules (that is: rules without SEQ or MSEQ) with rules containing SEQ or MSEQ.\n",
    "Let us consider an example, where we want to extract potential _noun phrase candidates_ (that is: sequences of nouns or proper nouns combined with conjunction words) from a text. The example text snippet is following:"
   ]
  },
  {
   "cell_type": "code",
   "execution_count": 40,
   "metadata": {},
   "outputs": [],
   "source": [
    "from estnltk import Text\n",
    "\n",
    "text = Text('Lendur. Lenduri diivani tugijalg. Lenduri diivani tugi ja jalg.'\n",
    "            'Lendur Leo. Lendur Leo diivan. Leo ja Matthias.').tag_layer(['morph_analysis'])"
   ]
  },
  {
   "cell_type": "markdown",
   "metadata": {},
   "source": [
    "In order to extract noun phrase candidates, we combine different types of rules and also assign priorities to rules, trying to construct rules in a way that longer phrases will obtain higher priority:"
   ]
  },
  {
   "cell_type": "code",
   "execution_count": 41,
   "metadata": {},
   "outputs": [
    {
     "data": {
      "text/plain": [
       "\n",
       "Grammar:\n",
       "\tstart: NOUN_PHRASE\n",
       "\tterminals: H, J, MSEQ(NOUN), S\n",
       "\tnonterminals: NOUN, NOUN_PHRASE\n",
       "\tlegal attributes: frozenset()\n",
       "\tdepth_limit: inf\n",
       "\twidth_limit: inf\n",
       "Rules:\n",
       "\tNOUN -> S\t: 4, val: default_validator, dec: default_decorator, scoring: default_scoring\n",
       "\tNOUN -> H\t: 4, val: default_validator, dec: default_decorator, scoring: default_scoring\n",
       "\tNOUN_PHRASE -> NOUN\t: 4, val: default_validator, dec: default_decorator, scoring: default_scoring\n",
       "\tNOUN_PHRASE -> MSEQ(NOUN)\t: 3, val: default_validator, dec: default_decorator, scoring: default_scoring\n",
       "\tNOUN_PHRASE -> NOUN J NOUN\t: 2, val: default_validator, dec: default_decorator, scoring: default_scoring\n",
       "\tNOUN_PHRASE -> MSEQ(NOUN) J NOUN\t: 1, val: default_validator, dec: default_decorator, scoring: default_scoring"
      ]
     },
     "execution_count": 41,
     "metadata": {},
     "output_type": "execute_result"
    }
   ],
   "source": [
    "from estnltk.finite_grammar import Grammar, Rule\n",
    "from estnltk.taggers import GrammarParsingTagger\n",
    "\n",
    "grammar = Grammar(start_symbols=['NOUN_PHRASE'], \n",
    "                  depth_limit=float('inf'), # the default\n",
    "                  width_limit=float('inf'), # the default\n",
    "                  )\n",
    "grammar.add_rule('NOUN', 'S', group='g0', priority=4)\n",
    "grammar.add_rule('NOUN', 'H', group='g0', priority=4)\n",
    "grammar.add_rule('NOUN_PHRASE', 'NOUN',        group='g0', priority=4)\n",
    "grammar.add_rule('NOUN_PHRASE', 'MSEQ(NOUN)',  group='g0', priority=3)\n",
    "grammar.add_rule('NOUN_PHRASE', 'NOUN J NOUN', group='g0', priority=2)\n",
    "grammar.add_rule('NOUN_PHRASE', 'MSEQ(NOUN) J NOUN', group='g0', priority=1)\n",
    "grammar"
   ]
  },
  {
   "cell_type": "markdown",
   "metadata": {},
   "source": [
    "Now, if we apply **GrammarParsingTagger**, we'll stumble upon a problem: there are just too many phrases in the output. \n",
    "It seems that the conflict resolving does not work properly:"
   ]
  },
  {
   "cell_type": "code",
   "execution_count": 42,
   "metadata": {},
   "outputs": [
    {
     "data": {
      "text/html": [
       "<h4>Layer</h4>\n",
       "\n",
       "\n",
       "<table border=\"1\" class=\"dataframe\">\n",
       "  <thead>\n",
       "    <tr style=\"text-align: right;\">\n",
       "      <th>layer name</th>\n",
       "      <th>attributes</th>\n",
       "      <th>parent</th>\n",
       "      <th>enveloping</th>\n",
       "      <th>ambiguous</th>\n",
       "      <th>span count</th>\n",
       "    </tr>\n",
       "  </thead>\n",
       "  <tbody>\n",
       "    <tr>\n",
       "      <td>noun_phrases</td>\n",
       "      <td></td>\n",
       "      <td>None</td>\n",
       "      <td>morph_analysis</td>\n",
       "      <td>False</td>\n",
       "      <td>18</td>\n",
       "    </tr>\n",
       "  </tbody>\n",
       "</table>\n",
       "<table border=\"1\" class=\"dataframe\">\n",
       "  <thead>\n",
       "    <tr style=\"text-align: right;\">\n",
       "      <th>text</th>\n",
       "    </tr>\n",
       "  </thead>\n",
       "  <tbody>\n",
       "    <tr>\n",
       "      <td>['Lendur']</td>\n",
       "    </tr>\n",
       "    <tr>\n",
       "      <td>['Lenduri']</td>\n",
       "    </tr>\n",
       "    <tr>\n",
       "      <td>['Lenduri', 'diivani', 'tugijalg']</td>\n",
       "    </tr>\n",
       "    <tr>\n",
       "      <td>['diivani']</td>\n",
       "    </tr>\n",
       "    <tr>\n",
       "      <td>['tugijalg']</td>\n",
       "    </tr>\n",
       "    <tr>\n",
       "      <td>['Lenduri']</td>\n",
       "    </tr>\n",
       "    <tr>\n",
       "      <td>['Lenduri', 'diivani', 'tugi', 'ja', 'jalg']</td>\n",
       "    </tr>\n",
       "    <tr>\n",
       "      <td>['diivani']</td>\n",
       "    </tr>\n",
       "    <tr>\n",
       "      <td>['jalg']</td>\n",
       "    </tr>\n",
       "    <tr>\n",
       "      <td>['Lendur']</td>\n",
       "    </tr>\n",
       "    <tr>\n",
       "      <td>['Lendur', 'Leo']</td>\n",
       "    </tr>\n",
       "    <tr>\n",
       "      <td>['Leo']</td>\n",
       "    </tr>\n",
       "    <tr>\n",
       "      <td>['Lendur']</td>\n",
       "    </tr>\n",
       "    <tr>\n",
       "      <td>['Lendur', 'Leo', 'diivan']</td>\n",
       "    </tr>\n",
       "    <tr>\n",
       "      <td>['Leo']</td>\n",
       "    </tr>\n",
       "    <tr>\n",
       "      <td>['diivan']</td>\n",
       "    </tr>\n",
       "    <tr>\n",
       "      <td>['Leo', 'ja', 'Matthias']</td>\n",
       "    </tr>\n",
       "    <tr>\n",
       "      <td>['Matthias']</td>\n",
       "    </tr>\n",
       "  </tbody>\n",
       "</table>"
      ],
      "text/plain": [
       "Layer(name='noun_phrases', attributes=(), spans=SL[EnvelopingSpan(['Lendur'], [{}]),\n",
       "EnvelopingSpan(['Lenduri'], [{}]),\n",
       "EnvelopingSpan(['Lenduri', 'diivani', 'tugijalg'], [{}]),\n",
       "EnvelopingSpan(['diivani'], [{}]),\n",
       "EnvelopingSpan(['tugijalg'], [{}]),\n",
       "EnvelopingSpan(['Lenduri'], [{}]),\n",
       "EnvelopingSpan(['Lenduri', 'diivani', 'tugi', 'ja', 'jalg'], [{}]),\n",
       "EnvelopingSpan(['diivani'], [{}]),\n",
       "EnvelopingSpan(['jalg'], [{}]),\n",
       "EnvelopingSpan(['Lendur'], [{}]),\n",
       "EnvelopingSpan(['Lendur', 'Leo'], [{}]),\n",
       "EnvelopingSpan(['Leo'], [{}]),\n",
       "EnvelopingSpan(['Lendur'], [{}]),\n",
       "EnvelopingSpan(['Lendur', 'Leo', 'diivan'], [{}]),\n",
       "EnvelopingSpan(['Leo'], [{}]),\n",
       "EnvelopingSpan(['diivan'], [{}]),\n",
       "EnvelopingSpan(['Leo', 'ja', 'Matthias'], [{}]),\n",
       "EnvelopingSpan(['Matthias'], [{}])])"
      ]
     },
     "execution_count": 42,
     "metadata": {},
     "output_type": "execute_result"
    }
   ],
   "source": [
    "# Create & apply GrammarParsingTagger\n",
    "grammar_tagger = GrammarParsingTagger(grammar=grammar,\n",
    "                                      name_attribute='partofspeech',\n",
    "                                      layer_of_tokens='morph_analysis',\n",
    "                                      output_layer='noun_phrases')\n",
    "grammar_tagger.tag(text)\n",
    "# Browse results\n",
    "text.noun_phrases"
   ]
  },
  {
   "attachments": {},
   "cell_type": "markdown",
   "metadata": {},
   "source": [
    "The reason behind this result is that priorities of SEQ and MSEQ rules _do not compete_ with the priorities of the regular rules in the default conflict resolving strategy. \n",
    "So, you get the unexpected results (overlaps remain where they should have been resolved)."
   ]
  },
  {
   "cell_type": "markdown",
   "metadata": {},
   "source": [
    "The situation can be fixed using **GrammarParsingTagger**'s flag `force_resolving_by_priority`.\n",
    "This forces (experimental) post-resolving all conflicts by *priority* attributes of grammar rules.\n",
    "\n",
    "If `force_resolving_by_priority` is switched on, then the grammar is first used to create an ambiguous layer retaining all the conflicting (overlapping) annotations.\n",
    "After the layer has been successfully created, the function [`resolve_conflicts`](https://github.com/estnltk/estnltk/blob/version_1.6/estnltk/layer_operations/conflict_resolver.py#L45) is applied for final resolving of the conflicts based on the *priority* attributes of grammar rules."
   ]
  },
  {
   "cell_type": "code",
   "execution_count": 43,
   "metadata": {},
   "outputs": [
    {
     "data": {
      "text/html": [
       "<h4>Layer</h4>\n",
       "\n",
       "\n",
       "<table border=\"1\" class=\"dataframe\">\n",
       "  <thead>\n",
       "    <tr style=\"text-align: right;\">\n",
       "      <th>layer name</th>\n",
       "      <th>attributes</th>\n",
       "      <th>parent</th>\n",
       "      <th>enveloping</th>\n",
       "      <th>ambiguous</th>\n",
       "      <th>span count</th>\n",
       "    </tr>\n",
       "  </thead>\n",
       "  <tbody>\n",
       "    <tr>\n",
       "      <td>noun_phrases2</td>\n",
       "      <td></td>\n",
       "      <td>None</td>\n",
       "      <td>morph_analysis</td>\n",
       "      <td>False</td>\n",
       "      <td>6</td>\n",
       "    </tr>\n",
       "  </tbody>\n",
       "</table>\n",
       "<table border=\"1\" class=\"dataframe\">\n",
       "  <thead>\n",
       "    <tr style=\"text-align: right;\">\n",
       "      <th>text</th>\n",
       "    </tr>\n",
       "  </thead>\n",
       "  <tbody>\n",
       "    <tr>\n",
       "      <td>['Lendur']</td>\n",
       "    </tr>\n",
       "    <tr>\n",
       "      <td>['Lenduri', 'diivani', 'tugijalg']</td>\n",
       "    </tr>\n",
       "    <tr>\n",
       "      <td>['Lenduri', 'diivani', 'tugi', 'ja', 'jalg']</td>\n",
       "    </tr>\n",
       "    <tr>\n",
       "      <td>['Lendur', 'Leo']</td>\n",
       "    </tr>\n",
       "    <tr>\n",
       "      <td>['Lendur', 'Leo', 'diivan']</td>\n",
       "    </tr>\n",
       "    <tr>\n",
       "      <td>['Leo', 'ja', 'Matthias']</td>\n",
       "    </tr>\n",
       "  </tbody>\n",
       "</table>"
      ],
      "text/plain": [
       "Layer(name='noun_phrases2', attributes=(), spans=SL[EnvelopingSpan(['Lendur'], [{}]),\n",
       "EnvelopingSpan(['Lenduri', 'diivani', 'tugijalg'], [{}]),\n",
       "EnvelopingSpan(['Lenduri', 'diivani', 'tugi', 'ja', 'jalg'], [{}]),\n",
       "EnvelopingSpan(['Lendur', 'Leo'], [{}]),\n",
       "EnvelopingSpan(['Lendur', 'Leo', 'diivan'], [{}]),\n",
       "EnvelopingSpan(['Leo', 'ja', 'Matthias'], [{}])])"
      ]
     },
     "execution_count": 43,
     "metadata": {},
     "output_type": "execute_result"
    }
   ],
   "source": [
    "# Create & apply GrammarParsingTagger with force_resolving_by_priority=True\n",
    "grammar_tagger = GrammarParsingTagger(grammar=grammar,\n",
    "                                      name_attribute='partofspeech',\n",
    "                                      layer_of_tokens='morph_analysis',\n",
    "                                      output_layer='noun_phrases2',\n",
    "                                      force_resolving_by_priority=True)\n",
    "grammar_tagger.tag(text)\n",
    "# Browse results\n",
    "text.noun_phrases2"
   ]
  },
  {
   "cell_type": "code",
   "execution_count": 44,
   "metadata": {},
   "outputs": [
    {
     "data": {
      "text/html": [
       "<script>\n",
       "var elements = document.getElementsByClassName(\"overlapping-span\")\n",
       "for (let i = 0; i < elements.length; i++){\n",
       "    elements.item(i).addEventListener(\"click\",function() {show_conflicting_spans(elements.item(i));})}\n",
       "\n",
       "function show_conflicting_spans(span_element) {\n",
       "    let spantable = document.createElement('div')\n",
       "    spantable.classList.add('tables')\n",
       "\n",
       "    // Prepare the contents of the span table\n",
       "    data = span_element.getAttribute(\"span_info\")\n",
       "    data = data.split(\",\")\n",
       "    var spancontent = '<table>'\n",
       "    for (let row of data) {\n",
       "        spancontent+='<tr><td>'\n",
       "        spancontent+=row\n",
       "        spancontent+='</td></tr>'\n",
       "    }\n",
       "    spancontent += '</table>'\n",
       "    spantable.innerHTML = spancontent\n",
       "    span_element.parentElement.appendChild(spantable)\n",
       "\n",
       "    // Increase the size of the cell so the tables would fit\n",
       "    spantable.parentElement.style.height = Math.max(Number(spantable.parentElement.style.height.substring(0,spantable.parentElement.style.height.length-2)),span_element.offsetTop+90)+ 'px'\n",
       "    // Position the table directly below the corresponding text\n",
       "    spantable.style.left = span_element.getBoundingClientRect().left-spantable.parentElement.parentElement.getBoundingClientRect().left + 'px'\n",
       "    spantable.style.top = span_element.getBoundingClientRect().top-spantable.parentElement.parentElement.getBoundingClientRect().top+20+ 'px'\n",
       "\n",
       "    // Remove the table when clicked on again\n",
       "    spantable.addEventListener('click', function () {\n",
       "        let element = this.parentElement\n",
       "        element.removeChild(this)\n",
       "    })\n",
       "}\n",
       "</script><style>\n",
       ".span {\n",
       "    background-color: yellow;\n",
       "}\n",
       "\n",
       ".overlapping-span {\n",
       "    background-color: red;\n",
       "}\n",
       "\n",
       ".spanline {\n",
       "    background-color: blue;\n",
       "    position: relative;\n",
       "    height: 3px;\n",
       "    margin-left: 0px;\n",
       "}\n",
       "\n",
       ".tables {\n",
       "    position: absolute;\n",
       "    width: fit-content;\n",
       "    width: -moz-fit-content;\n",
       "    border: 1px solid black;\n",
       "}\n",
       "\n",
       ".maintext{0} {\n",
       "    position: relative;\n",
       "}\n",
       "\n",
       ".tables tbody tr:nth-child(even) {\n",
       "    background-color: lightgray;\n",
       "}\n",
       "\n",
       ".tables tbody tr:nth-child(odd) {\n",
       "    background-color: beige;\n",
       "}\n",
       "\n",
       ".tables tbody tr:hover {\n",
       "    background-color: ivory;\n",
       "}\n",
       "</style><span style=background:yellow; \">Lendur</span>. <span style=background:yellow; \">Lenduri diivani tugijalg</span>. <span style=background:yellow; \">Lenduri diivani tugi ja jalg</span>.<span style=background:yellow; \">Lendur Leo</span>. <span style=background:yellow; \">Lendur Leo diivan</span>. <span style=background:yellow; \">Leo ja Matthias</span>."
      ]
     },
     "metadata": {},
     "output_type": "display_data"
    }
   ],
   "source": [
    "text.noun_phrases2.display()"
   ]
  },
  {
   "cell_type": "markdown",
   "metadata": {},
   "source": [
    "---"
   ]
  }
 ],
 "metadata": {
  "anaconda-cloud": {},
  "kernelspec": {
   "display_name": "Python 3",
   "language": "python",
   "name": "python3"
  },
  "language_info": {
   "codemirror_mode": {
    "name": "ipython",
    "version": 3
   },
   "file_extension": ".py",
   "mimetype": "text/x-python",
   "name": "python",
   "nbconvert_exporter": "python",
   "pygments_lexer": "ipython3",
   "version": "3.6.10"
  }
 },
 "nbformat": 4,
 "nbformat_minor": 2
}
