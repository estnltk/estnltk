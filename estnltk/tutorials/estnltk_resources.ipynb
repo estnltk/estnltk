{
 "cells": [
  {
   "cell_type": "markdown",
   "id": "0bccd790",
   "metadata": {},
   "source": [
    "## EstNLTK's resources\n",
    "\n",
    "As of version 1.7.0, EstNLTK contains tools for automatically downloading resources required by taggers and other tools. \n",
    "Resources are usually large (model) files, which are not included in the package and can be downloaded on user's demand. \n",
    "\n",
    "### In a nutshell\n",
    "\n",
    "For manually downloading a resource, use the function `download`:"
   ]
  },
  {
   "cell_type": "code",
   "execution_count": 1,
   "id": "b803831b",
   "metadata": {},
   "outputs": [
    {
     "name": "stderr",
     "output_type": "stream",
     "text": [
      "Downloading resources index: 3it [00:00, 497.56it/s]\n",
      "Downloading udpipe_syntax_2021-05-29: 39925it [00:05, 6955.76it/s] \n"
     ]
    },
    {
     "name": "stdout",
     "output_type": "stream",
     "text": [
      "Unpacked resource into subfolder 'udpipe_syntax/models_2021-05-29/' of the resources dir.\n"
     ]
    },
    {
     "data": {
      "text/plain": [
       "True"
      ]
     },
     "execution_count": 1,
     "metadata": {},
     "output_type": "execute_result"
    }
   ],
   "source": [
    "from estnltk import download\n",
    "# Download models for UDPipeTagger\n",
    "download('udpipetagger')"
   ]
  },
  {
   "cell_type": "markdown",
   "id": "ef3bb48a",
   "metadata": {},
   "source": [
    "The function returns True if the downloading was successful or if the resource already exists, and False otherwise.\n",
    "\n",
    "You can download a resource either by its alias (like in previous example: 'udpipetagger') or by its specific version name ('udpipe_syntax_2021-05-29' in the previous example).\n",
    "Resource names and aliases can be looked up from the resources index json file: https://github.com/estnltk/estnltk_resources.\n",
    "The index file also gives other information about resources, such as resource size, url, license, and unpacking path relative to the resources directory.\n",
    "\n",
    "**Downloading all resources.** By default, only one version -- the latest version -- of the resource will be downloaded, even if there are multiple resources available.\n",
    "However, if you set `only_latest=False`, then all resources with the given alias will be downloaded:"
   ]
  },
  {
   "cell_type": "code",
   "execution_count": 2,
   "id": "5489da0a",
   "metadata": {},
   "outputs": [
    {
     "name": "stderr",
     "output_type": "stream",
     "text": [
      "Downloading word2vec_lemmas_sg_s100_2015-06-21: 165006it [00:21, 7615.01it/s] \n",
      "Downloading word2vec_lemmas_sg_s200_2015-06-21: 325253it [00:41, 7862.16it/s] \n",
      "Downloading word2vec_words_sg_s100_2015-06-21: 305214it [00:30, 10048.17it/s]\n",
      "Downloading word2vec_words_sg_s200_2015-06-21: 601937it [01:11, 8434.39it/s] \n"
     ]
    },
    {
     "data": {
      "text/plain": [
       "True"
      ]
     },
     "execution_count": 2,
     "metadata": {},
     "output_type": "execute_result"
    }
   ],
   "source": [
    "# Download all word2vec skip-gram models (alias: 'word2vec_sg')\n",
    "download('word2vec_sg', only_latest=False)"
   ]
  },
  {
   "cell_type": "markdown",
   "id": "eee6321f",
   "metadata": {},
   "source": [
    "### Where to find downloaded resources?\n",
    "\n",
    "EstNLTK provides function `get_resource_paths`, which returns a list of all paths to downloaded resources associated with the given name or alias:"
   ]
  },
  {
   "cell_type": "code",
   "execution_count": 3,
   "id": "4f6d5d8b",
   "metadata": {},
   "outputs": [
    {
     "data": {
      "text/plain": [
       "['C:\\\\Programmid\\\\Miniconda3\\\\envs\\\\py37_estnltk_neural\\\\lib\\\\site-packages\\\\estnltk\\\\estnltk_resources\\\\udpipe_syntax\\\\models_2021-05-29\\\\']"
      ]
     },
     "execution_count": 3,
     "metadata": {},
     "output_type": "execute_result"
    }
   ],
   "source": [
    "from estnltk import get_resource_paths\n",
    "# Get paths to downloaded UDPipeTagger's models\n",
    "get_resource_paths('udpipetagger')"
   ]
  },
  {
   "cell_type": "code",
   "execution_count": 4,
   "id": "76dbf1ca",
   "metadata": {},
   "outputs": [
    {
     "data": {
      "text/plain": [
       "['C:\\\\Programmid\\\\Miniconda3\\\\envs\\\\py37_estnltk_neural\\\\lib\\\\site-packages\\\\estnltk\\\\estnltk_resources\\\\word2vec\\\\embeddings_2015-06-21\\\\lemmas.sg.s100.w2v.bin',\n",
       " 'C:\\\\Programmid\\\\Miniconda3\\\\envs\\\\py37_estnltk_neural\\\\lib\\\\site-packages\\\\estnltk\\\\estnltk_resources\\\\word2vec\\\\embeddings_2015-06-21\\\\lemmas.sg.s200.w2v.bin',\n",
       " 'C:\\\\Programmid\\\\Miniconda3\\\\envs\\\\py37_estnltk_neural\\\\lib\\\\site-packages\\\\estnltk\\\\estnltk_resources\\\\word2vec\\\\embeddings_2015-06-21\\\\words.sg.s100.w2v.bin',\n",
       " 'C:\\\\Programmid\\\\Miniconda3\\\\envs\\\\py37_estnltk_neural\\\\lib\\\\site-packages\\\\estnltk\\\\estnltk_resources\\\\word2vec\\\\embeddings_2015-06-21\\\\words.sg.s200.w2v.bin']"
      ]
     },
     "execution_count": 4,
     "metadata": {},
     "output_type": "execute_result"
    }
   ],
   "source": [
    "# Get paths to downloaded word2vec skip-gram models\n",
    "get_resource_paths('word2vec_sg')"
   ]
  },
  {
   "cell_type": "code",
   "execution_count": 6,
   "id": "cc31a7b1",
   "metadata": {},
   "outputs": [
    {
     "data": {
      "text/plain": [
       "[]"
      ]
     },
     "execution_count": 6,
     "metadata": {},
     "output_type": "execute_result"
    }
   ],
   "source": [
    "# Get paths to downloaded stanzatagger's\n",
    "get_resource_paths('stanzatagger')"
   ]
  },
  {
   "cell_type": "markdown",
   "id": "e979baf5",
   "metadata": {},
   "source": [
    "The function returns an empty list if resource has not been downloaded yet (or if there is no such resource).\n",
    "\n",
    "If there are multiple versions of the resource, then versions are _sorted by resource dates_ : the latest resources come first in the list.\n",
    "\n",
    "You can request only a single resource (the latest resource) by setting `only_latest=True`:"
   ]
  },
  {
   "cell_type": "code",
   "execution_count": 5,
   "id": "a7dfc395",
   "metadata": {},
   "outputs": [
    {
     "data": {
      "text/plain": [
       "'C:\\\\Programmid\\\\Miniconda3\\\\envs\\\\py37_estnltk_neural\\\\lib\\\\site-packages\\\\estnltk\\\\estnltk_resources\\\\word2vec\\\\embeddings_2015-06-21\\\\lemmas.sg.s100.w2v.bin'"
      ]
     },
     "execution_count": 5,
     "metadata": {},
     "output_type": "execute_result"
    }
   ],
   "source": [
    "get_resource_paths('word2vec_sg', only_latest=True)"
   ]
  },
  {
   "cell_type": "markdown",
   "id": "8461597b",
   "metadata": {},
   "source": [
    "Note that this returns a string instead of a list. \n",
    "And if the requested resource is missing, `None` value will be returned."
   ]
  },
  {
   "cell_type": "markdown",
   "id": "e33146d1",
   "metadata": {},
   "source": [
    "### Where is the resources directory and how to change it?\n",
    "\n",
    "By default, EstNLTK attempts to download resources into sub directory `estnltk_resources` inside the installation directory of the `estnltk` package.\n",
    "If that fails (e.g. due to insufficient permissions), then EstNLTK creates sub directory `estnltk_resources` into [user's home directory](https://docs.python.org/3/library/pathlib.html#pathlib.Path.home) and stores resources there. \n",
    "\n",
    "If you want to force your own resources location, then you can set system environment variable ESTNLTK_RESOURCES to a full path of the new resources directory.\n",
    "Note that this must be an existing directory where writing is permitted.\n",
    "Naturally, it is advisable to set the environment variable _before_ downloading any resources."
   ]
  },
  {
   "cell_type": "markdown",
   "id": "b412781d",
   "metadata": {},
   "source": [
    "### Removing resources\n",
    "\n",
    "Use the function `delete_resource` to remove a downloaded resource:"
   ]
  },
  {
   "cell_type": "code",
   "execution_count": 7,
   "id": "1d589d70",
   "metadata": {},
   "outputs": [
    {
     "data": {
      "text/plain": [
       "True"
      ]
     },
     "execution_count": 7,
     "metadata": {},
     "output_type": "execute_result"
    }
   ],
   "source": [
    "from estnltk.resource_utils import delete_resource\n",
    "delete_resource('word2vec_words_sg_s100_2015-06-21')"
   ]
  },
  {
   "cell_type": "markdown",
   "id": "62d65dc0",
   "metadata": {},
   "source": [
    "The function returns True in case of a successful deletion. \n",
    "Note that resources can be deleted only by their specific names, not by their aliases.\n",
    "E.g. `delete_resource('word2vec_sg')` would not have worked in the previous example."
   ]
  },
  {
   "cell_type": "markdown",
   "id": "cf1d93fd",
   "metadata": {},
   "source": [
    "### Integrating automatic resource downloading ( for developers )\n",
    "\n",
    "If you are creating a tagger that needs some of external / downloadable resources, then you can use the function `get_resource_paths` with an autodownload option.\n",
    "\n",
    "Namely, if you set `download_missing=True` and the requested resource has not been downloaded yet, then the user is prompted with a question asking for a permission to download the missing resource. \n",
    "If the user gives the permission, then the resource will be downloaded automatically and it's path returned as a result:"
   ]
  },
  {
   "cell_type": "code",
   "execution_count": 8,
   "id": "342e064a",
   "metadata": {},
   "outputs": [
    {
     "name": "stdout",
     "output_type": "stream",
     "text": [
      "This requires downloading resource 'word2vec_words_sg_s100_2015-06-21' (size: 322M). Proceed with downloading? [Y/n] Y\n"
     ]
    },
    {
     "name": "stderr",
     "output_type": "stream",
     "text": [
      "Downloading word2vec_words_sg_s100_2015-06-21: 305214it [00:31, 9579.56it/s] \n"
     ]
    },
    {
     "data": {
      "text/plain": [
       "'C:\\\\Programmid\\\\Miniconda3\\\\envs\\\\py37_estnltk_neural\\\\lib\\\\site-packages\\\\estnltk\\\\estnltk_resources\\\\word2vec\\\\embeddings_2015-06-21\\\\words.sg.s100.w2v.bin'"
      ]
     },
     "execution_count": 8,
     "metadata": {},
     "output_type": "execute_result"
    }
   ],
   "source": [
    "from estnltk.downloader import get_resource_paths\n",
    "get_resource_paths('word2vec_words_sg_s100_2015-06-21', only_latest=True, download_missing=True)"
   ]
  },
  {
   "cell_type": "markdown",
   "id": "d943c81e",
   "metadata": {},
   "source": [
    "So, you can use `get_resource_paths` in the constructor of tagger to get the path to a required resource, and download the resource (with user's permission) automatically if it is missing."
   ]
  }
 ],
 "metadata": {
  "kernelspec": {
   "display_name": "Python 3 (ipykernel)",
   "language": "python",
   "name": "python3"
  },
  "language_info": {
   "codemirror_mode": {
    "name": "ipython",
    "version": 3
   },
   "file_extension": ".py",
   "mimetype": "text/x-python",
   "name": "python",
   "nbconvert_exporter": "python",
   "pygments_lexer": "ipython3",
   "version": "3.7.13"
  }
 },
 "nbformat": 4,
 "nbformat_minor": 5
}
