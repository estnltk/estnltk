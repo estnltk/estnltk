{
 "cells": [
  {
   "cell_type": "markdown",
   "metadata": {},
   "source": [
    "# Export to TEXTA"
   ]
  },
  {
   "cell_type": "code",
   "execution_count": 1,
   "metadata": {},
   "outputs": [],
   "source": [
    "from estnltk import Text\n",
    "from estnltk.converters import TextaExporter"
   ]
  },
  {
   "cell_type": "code",
   "execution_count": 2,
   "metadata": {},
   "outputs": [
    {
     "data": {
      "text/html": [
       "<div>\n",
       "<style scoped>\n",
       "    .dataframe tbody tr th:only-of-type {\n",
       "        vertical-align: middle;\n",
       "    }\n",
       "\n",
       "    .dataframe tbody tr th {\n",
       "        vertical-align: top;\n",
       "    }\n",
       "\n",
       "    .dataframe thead th {\n",
       "        text-align: right;\n",
       "    }\n",
       "</style>\n",
       "<table border=\"1\" class=\"dataframe\">\n",
       "  <thead>\n",
       "    <tr style=\"text-align: right;\">\n",
       "      <th></th>\n",
       "      <th>facts_layer</th>\n",
       "      <th>fact_attr</th>\n",
       "      <th>fact_name</th>\n",
       "      <th>value_attr</th>\n",
       "      <th>value</th>\n",
       "      <th>fact_type</th>\n",
       "    </tr>\n",
       "  </thead>\n",
       "  <tbody>\n",
       "    <tr>\n",
       "      <th>0</th>\n",
       "      <td>timexes</td>\n",
       "      <td>type</td>\n",
       "      <td></td>\n",
       "      <td>value</td>\n",
       "      <td></td>\n",
       "      <td>str</td>\n",
       "    </tr>\n",
       "  </tbody>\n",
       "</table>\n",
       "</div>"
      ],
      "text/plain": [
       "  facts_layer fact_attr fact_name value_attr value fact_type\n",
       "0     timexes      type                value             str"
      ]
     },
     "execution_count": 2,
     "metadata": {},
     "output_type": "execute_result"
    }
   ],
   "source": [
    "import pandas\n",
    "\n",
    "pandas.read_csv('texta_fact_mapping.csv').fillna('')"
   ]
  },
  {
   "cell_type": "code",
   "execution_count": 3,
   "metadata": {
    "scrolled": false
   },
   "outputs": [],
   "source": [
    "exporter = TextaExporter(index='index_1',\n",
    "                         doc_type='mapping_1',\n",
    "                         fact_mapping='texta_fact_mapping.csv',\n",
    "                         texta_url='http://localhost:8000',\n",
    "                         texta_username='username',\n",
    "                         texta_password='password',\n",
    "                         session_username=None,\n",
    "                         session_password=None)"
   ]
  },
  {
   "cell_type": "code",
   "execution_count": 4,
   "metadata": {},
   "outputs": [],
   "source": [
    "from estnltk import Text\n",
    "from estnltk.taggers import TimexTagger\n",
    "\n",
    "\n",
    "timexTagger = TimexTagger()\n",
    "\n",
    "source_texts = ['Potsataja ütles eile, et vaatavad nüüd Genaga viie aasta plaanid uuesti üle.',\n",
    "                'Tulid eile meile, selle asemel et tulla täna?',\n",
    "                'Homme või järgmisel aastal?',\n",
    "                'Digi-TV-le minnakse üle kõikjal maailmas, viimati eelmisel kuul kogu USAs, lisas ta.',\n",
    "                'Üheksakümnendatel aastatel tegutses Saaremaal seitse panka.',\n",
    "                'Lülle laevkalmed, rajatud umbes 8. sajandil e.m.a., on Eestis ainulaadsed.',\n",
    "                'Ma alles grillisin eile, nüüd on Davidi või Kevini kord.',\n",
    "                'Seetõttu on 2006 aastal oodata rohkem kutsikaid, kui aasta varem.',\n",
    "                'Põhjanaela mass väheneb igal aastal ligikaudu Maa massi võrra .']\n",
    "\n",
    "with exporter.buffered_export() as buffered_export:\n",
    "    for t in source_texts:\n",
    "        text = Text(t)\n",
    "        text.meta['document_creation_time'] = '2014-12-03'\n",
    "        text.analyse('morphology')\n",
    "        timexTagger.tag(text)\n",
    "        buffered_export(text)"
   ]
  }
 ],
 "metadata": {
  "kernelspec": {
   "display_name": "Python 3",
   "language": "python",
   "name": "python3"
  },
  "language_info": {
   "codemirror_mode": {
    "name": "ipython",
    "version": 3
   },
   "file_extension": ".py",
   "mimetype": "text/x-python",
   "name": "python",
   "nbconvert_exporter": "python",
   "pygments_lexer": "ipython3",
   "version": "3.6.8"
  }
 },
 "nbformat": 4,
 "nbformat_minor": 2
}
