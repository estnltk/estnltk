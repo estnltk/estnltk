{
 "cells": [
  {
   "cell_type": "markdown",
   "metadata": {},
   "source": [
    "# Export Text object to dict and import from dict"
   ]
  },
  {
   "cell_type": "markdown",
   "metadata": {},
   "source": [
    "## Structure of the dict representation of the Text object\n",
    "```python\n",
    "{\n",
    "    # raw text string\n",
    "    'text': ___,\n",
    "    # dict of metadata\n",
    "    'meta': {___:___, ...},\n",
    "    # records of layers in order of dependences\n",
    "    'layers': [\n",
    "        {\n",
    "            'name': ___,\n",
    "            'attributes': ('attr_1', ...),\n",
    "            'parent': ___,\n",
    "            'enveloping': ___,\n",
    "            'ambiguous': ___,\n",
    "            'serialisation_module': ___,\n",
    "            'meta': {___: ___, ...},\n",
    "            'spans': [{'base_span': ___,\n",
    "                       'annotations': [{'attr_1': ___, ...}, \n",
    "                                       ...\n",
    "                                       ]\n",
    "                       },\n",
    "                      ...\n",
    "                      ]\n",
    "        },\n",
    "        ...\n",
    "    ]\n",
    "}\n",
    "```"
   ]
  },
  {
   "cell_type": "markdown",
   "metadata": {},
   "source": [
    "## Old structure of the dict representation of the Text object\n",
    "```python\n",
    "{\n",
    "# raw text\n",
    "'text': ___,\n",
    "# metadata\n",
    "'meta': {... },\n",
    "# records of layers in order of dependences\n",
    "'layers': [\n",
    "           {\n",
    "            # simple layer\n",
    "            'name': ___,\n",
    "            'attributes': ['attr_1', ...],\n",
    "            'parent': None,\n",
    "            '_base': None,\n",
    "            'enveloping': None,\n",
    "            'ambiguous': False,\n",
    "            'spans': [\n",
    "                      {'start': ___, 'end': ___, 'attr_1':___, ...},\n",
    "                      {'start': ___, 'end': ___, 'attr_1':___, ...},\n",
    "                      ...                     \n",
    "                     ]\n",
    "           },\n",
    "           {\n",
    "            # parent, not ambiguous\n",
    "            'name': ___,\n",
    "            'attributes': ['attr_1', ...],\n",
    "            'parent': '___',\n",
    "            '_base': '___',\n",
    "            'enveloping': None,\n",
    "            'ambiguous': True,\n",
    "            'spans': [\n",
    "                      {'_index_': _, 'attr_1':___, ...},\n",
    "                      {'_index_': _, 'attr_1':___, ...},\n",
    "                      ...\n",
    "                     ]\n",
    "           },\n",
    "           {\n",
    "            # parent, ambiguous\n",
    "            'name': ___,\n",
    "            'attributes': ['attr_1', ...],\n",
    "            'parent': '___',\n",
    "            '_base': '___',\n",
    "            'enveloping': None,\n",
    "            'ambiguous': True,\n",
    "            'spans': [\n",
    "                      [{'_index_': _, 'attr_1':___, ...},\n",
    "                       {'_index_': _, 'attr_1':___, ...},\n",
    "                       ...\n",
    "                      ],\n",
    "                      ...\n",
    "                     ]\n",
    "           },\n",
    "           {\n",
    "            # enveloping, not ambiguous\n",
    "            'name': ___,\n",
    "            'attributes': ['attr_1', ...],\n",
    "            'parent': None,\n",
    "            '_base': None,\n",
    "            'enveloping': '___',\n",
    "            'ambiguous': False,\n",
    "            'spans': [\n",
    "                      {'_index_': [_, ...], 'attr_1':___, ...},\n",
    "                      {'_index_': [_, ...], 'attr_1':___, ...},\n",
    "                      ...\n",
    "                     ]\n",
    "           },\n",
    "           {\n",
    "            # enveloping, ambiguous\n",
    "            'name': ___,\n",
    "            'attributes': ['attr_1', ...],\n",
    "            'parent': None,\n",
    "            '_base': None,\n",
    "            'enveloping': '___',\n",
    "            'ambiguous': True,\n",
    "            'spans': [\n",
    "                      [\n",
    "                       {'_index_': [_, ...], 'attr_1':___, ...},\n",
    "                       {'_index_': [_, ...], 'attr_1':___, ...},\n",
    "                       ...\n",
    "                      ],\n",
    "                      [\n",
    "                       {'_index_': [_, ...], 'attr_1':___, ...},\n",
    "                       {'_index_': [_, ...], 'attr_1':___, ...},\n",
    "                       ...\n",
    "                      ],\n",
    "                      ...\n",
    "                     ]\n",
    "           }\n",
    "          ]\n",
    "}\n",
    "```"
   ]
  },
  {
   "cell_type": "markdown",
   "metadata": {},
   "source": [
    "Converter functions can also convert list of objects. List of `Text` objects is converted to list of dicts, the same holds for list of `Layer` objects."
   ]
  },
  {
   "cell_type": "markdown",
   "metadata": {},
   "source": [
    "## Export `Text`"
   ]
  },
  {
   "cell_type": "code",
   "execution_count": 1,
   "metadata": {
    "scrolled": false
   },
   "outputs": [
    {
     "data": {
      "text/plain": [
       "{'text': 'Aias sadas saia.',\n",
       " 'meta': {'year': 2017, 'month': 'december'},\n",
       " 'layers': [{'name': 'words',\n",
       "   'attributes': ('normalized_form',),\n",
       "   'parent': None,\n",
       "   'enveloping': None,\n",
       "   'ambiguous': True,\n",
       "   'serialisation_module': None,\n",
       "   'meta': {},\n",
       "   'spans': [{'base_span': (0, 4), 'annotations': [{'normalized_form': None}]},\n",
       "    {'base_span': (5, 10), 'annotations': [{'normalized_form': None}]},\n",
       "    {'base_span': (11, 15), 'annotations': [{'normalized_form': None}]},\n",
       "    {'base_span': (15, 16), 'annotations': [{'normalized_form': None}]}]},\n",
       "  {'name': 'morph_analysis',\n",
       "   'attributes': ('lemma',\n",
       "    'root',\n",
       "    'root_tokens',\n",
       "    'ending',\n",
       "    'clitic',\n",
       "    'form',\n",
       "    'partofspeech'),\n",
       "   'parent': 'words',\n",
       "   'enveloping': None,\n",
       "   'ambiguous': True,\n",
       "   'serialisation_module': None,\n",
       "   'meta': {},\n",
       "   'spans': [{'base_span': (0, 4),\n",
       "     'annotations': [{'lemma': 'aed',\n",
       "       'root': 'aed',\n",
       "       'root_tokens': ['aed'],\n",
       "       'ending': 's',\n",
       "       'clitic': '',\n",
       "       'form': 'sg in',\n",
       "       'partofspeech': 'S'}]},\n",
       "    {'base_span': (5, 10),\n",
       "     'annotations': [{'lemma': 'sadama',\n",
       "       'root': 'sada',\n",
       "       'root_tokens': ['sada'],\n",
       "       'ending': 's',\n",
       "       'clitic': '',\n",
       "       'form': 's',\n",
       "       'partofspeech': 'V'}]},\n",
       "    {'base_span': (11, 15),\n",
       "     'annotations': [{'lemma': 'sai',\n",
       "       'root': 'sai',\n",
       "       'root_tokens': ['sai'],\n",
       "       'ending': '0',\n",
       "       'clitic': '',\n",
       "       'form': 'sg p',\n",
       "       'partofspeech': 'S'}]},\n",
       "    {'base_span': (15, 16),\n",
       "     'annotations': [{'lemma': '.',\n",
       "       'root': '.',\n",
       "       'root_tokens': ['.'],\n",
       "       'ending': '',\n",
       "       'clitic': '',\n",
       "       'form': '',\n",
       "       'partofspeech': 'Z'}]}]},\n",
       "  {'name': 'sentences',\n",
       "   'attributes': (),\n",
       "   'parent': None,\n",
       "   'enveloping': 'words',\n",
       "   'ambiguous': False,\n",
       "   'serialisation_module': None,\n",
       "   'meta': {},\n",
       "   'spans': [{'base_span': ((0, 4), (5, 10), (11, 15), (15, 16)),\n",
       "     'annotations': [{}]}]}]}"
      ]
     },
     "execution_count": 1,
     "metadata": {},
     "output_type": "execute_result"
    }
   ],
   "source": [
    "from estnltk import Text\n",
    "from estnltk.converters import text_to_dict\n",
    "\n",
    "text = Text('Aias sadas saia.')\n",
    "text.meta['year'] = 2017\n",
    "text.meta['month'] = 'december'\n",
    "text.analyse('morphology')\n",
    "text_dict = text_to_dict(text)\n",
    "text_dict"
   ]
  },
  {
   "cell_type": "markdown",
   "metadata": {},
   "source": [
    "## Import `Text`"
   ]
  },
  {
   "cell_type": "code",
   "execution_count": 2,
   "metadata": {},
   "outputs": [
    {
     "data": {
      "text/html": [
       "<table border=\"1\" class=\"dataframe\">\n",
       "  <thead>\n",
       "    <tr style=\"text-align: right;\">\n",
       "      <th>text</th>\n",
       "    </tr>\n",
       "  </thead>\n",
       "  <tbody>\n",
       "    <tr>\n",
       "      <td><div align = \"left\">Aias sadas saia.</div></td>\n",
       "    </tr>\n",
       "  </tbody>\n",
       "</table>\n",
       "<h4>Metadata</h4>\n",
       "<table border=\"1\" class=\"dataframe\">\n",
       "  <tbody>\n",
       "    <tr>\n",
       "      <td>month</td>\n",
       "      <td>december</td>\n",
       "    </tr>\n",
       "    <tr>\n",
       "      <td>year</td>\n",
       "      <td>2017</td>\n",
       "    </tr>\n",
       "  </tbody>\n",
       "</table>\n",
       "<table border=\"1\" class=\"dataframe\">\n",
       "  <thead>\n",
       "    <tr style=\"text-align: right;\">\n",
       "      <th>layer name</th>\n",
       "      <th>attributes</th>\n",
       "      <th>parent</th>\n",
       "      <th>enveloping</th>\n",
       "      <th>ambiguous</th>\n",
       "      <th>span count</th>\n",
       "    </tr>\n",
       "  </thead>\n",
       "  <tbody>\n",
       "    <tr>\n",
       "      <td>sentences</td>\n",
       "      <td></td>\n",
       "      <td>None</td>\n",
       "      <td>words</td>\n",
       "      <td>False</td>\n",
       "      <td>1</td>\n",
       "    </tr>\n",
       "    <tr>\n",
       "      <td>words</td>\n",
       "      <td>normalized_form</td>\n",
       "      <td>None</td>\n",
       "      <td>None</td>\n",
       "      <td>True</td>\n",
       "      <td>4</td>\n",
       "    </tr>\n",
       "    <tr>\n",
       "      <td>morph_analysis</td>\n",
       "      <td>lemma, root, root_tokens, ending, clitic, form, partofspeech</td>\n",
       "      <td>words</td>\n",
       "      <td>None</td>\n",
       "      <td>True</td>\n",
       "      <td>4</td>\n",
       "    </tr>\n",
       "  </tbody>\n",
       "</table>"
      ],
      "text/plain": [
       "Text(text='Aias sadas saia.')"
      ]
     },
     "execution_count": 2,
     "metadata": {},
     "output_type": "execute_result"
    }
   ],
   "source": [
    "from estnltk.converters import dict_to_text\n",
    "import_text = dict_to_text(text_dict)\n",
    "import_text"
   ]
  },
  {
   "cell_type": "code",
   "execution_count": 3,
   "metadata": {},
   "outputs": [
    {
     "data": {
      "text/plain": [
       "True"
      ]
     },
     "execution_count": 3,
     "metadata": {},
     "output_type": "execute_result"
    }
   ],
   "source": [
    "import_text == text"
   ]
  },
  {
   "cell_type": "markdown",
   "metadata": {},
   "source": [
    "## Export layer, import layer\n",
    "Layer is represented as a dict in the same way as layers are represented inside the dict representation of a `Text` object.\n",
    "### Export a layer to a dict."
   ]
  },
  {
   "cell_type": "code",
   "execution_count": 4,
   "metadata": {
    "scrolled": true
   },
   "outputs": [
    {
     "data": {
      "text/plain": [
       "{'name': 'words',\n",
       " 'attributes': ('normalized_form',),\n",
       " 'parent': None,\n",
       " 'enveloping': None,\n",
       " 'ambiguous': True,\n",
       " 'serialisation_module': None,\n",
       " 'meta': {},\n",
       " 'spans': [{'base_span': (0, 4), 'annotations': [{'normalized_form': None}]},\n",
       "  {'base_span': (4, 5), 'annotations': [{'normalized_form': None}]},\n",
       "  {'base_span': (6, 12), 'annotations': [{'normalized_form': None}]},\n",
       "  {'base_span': (12, 13), 'annotations': [{'normalized_form': None}]}]}"
      ]
     },
     "execution_count": 4,
     "metadata": {},
     "output_type": "execute_result"
    }
   ],
   "source": [
    "from estnltk.converters import layer_to_dict\n",
    "from estnltk.converters import dict_to_layer\n",
    "\n",
    "t = Text('Tere, maailm!').tag_layer(['words'])\n",
    "d = layer_to_dict(t['words'])\n",
    "d"
   ]
  },
  {
   "cell_type": "markdown",
   "metadata": {},
   "source": [
    "### Import a layer from a dict."
   ]
  },
  {
   "cell_type": "code",
   "execution_count": 5,
   "metadata": {
    "scrolled": true
   },
   "outputs": [
    {
     "data": {
      "text/html": [
       "<h4>Layer</h4>\n",
       "\n",
       "\n",
       "<table border=\"1\" class=\"dataframe\">\n",
       "  <thead>\n",
       "    <tr style=\"text-align: right;\">\n",
       "      <th>layer name</th>\n",
       "      <th>attributes</th>\n",
       "      <th>parent</th>\n",
       "      <th>enveloping</th>\n",
       "      <th>ambiguous</th>\n",
       "      <th>span count</th>\n",
       "    </tr>\n",
       "  </thead>\n",
       "  <tbody>\n",
       "    <tr>\n",
       "      <td>words</td>\n",
       "      <td>normalized_form</td>\n",
       "      <td>None</td>\n",
       "      <td>None</td>\n",
       "      <td>True</td>\n",
       "      <td>4</td>\n",
       "    </tr>\n",
       "  </tbody>\n",
       "</table>\n",
       "<table border=\"1\" class=\"dataframe\">\n",
       "  <thead>\n",
       "    <tr style=\"text-align: right;\">\n",
       "      <th>text</th>\n",
       "      <th>normalized_form</th>\n",
       "    </tr>\n",
       "  </thead>\n",
       "  <tbody>\n",
       "    <tr>\n",
       "      <td>Tere</td>\n",
       "      <td>None</td>\n",
       "    </tr>\n",
       "    <tr>\n",
       "      <td>,</td>\n",
       "      <td>None</td>\n",
       "    </tr>\n",
       "    <tr>\n",
       "      <td>maailm</td>\n",
       "      <td>None</td>\n",
       "    </tr>\n",
       "    <tr>\n",
       "      <td>!</td>\n",
       "      <td>None</td>\n",
       "    </tr>\n",
       "  </tbody>\n",
       "</table>"
      ],
      "text/plain": [
       "Layer(name='words', attributes=('normalized_form',), spans=SL[Span('Tere', [{'normalized_form': None}]),\n",
       "Span(',', [{'normalized_form': None}]),\n",
       "Span('maailm', [{'normalized_form': None}]),\n",
       "Span('!', [{'normalized_form': None}])])"
      ]
     },
     "execution_count": 5,
     "metadata": {},
     "output_type": "execute_result"
    }
   ],
   "source": [
    "text = Text('Tere, maailm!')\n",
    "dict_to_layer(d, text)"
   ]
  }
 ],
 "metadata": {
  "kernelspec": {
   "display_name": "Python 3",
   "language": "python",
   "name": "python3"
  },
  "language_info": {
   "codemirror_mode": {
    "name": "ipython",
    "version": 3
   },
   "file_extension": ".py",
   "mimetype": "text/x-python",
   "name": "python",
   "nbconvert_exporter": "python",
   "pygments_lexer": "ipython3",
   "version": "3.6.8"
  }
 },
 "nbformat": 4,
 "nbformat_minor": 2
}
