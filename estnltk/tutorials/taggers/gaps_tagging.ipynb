{
 "cells": [
  {
   "cell_type": "markdown",
   "metadata": {},
   "source": [
    "# Gaps tagging\n",
    "Gaps in layers can be found using ``GapTagger`` or ``EnvelopingGapTagger``.\n",
    "## GapTagger\n",
    "``GapTagger`` tags gaps of input layers. Input layers can be of any type. The resulting gaps layer is a simple layer of text spans. A gap is a maximal span of consequtive letters that are not covered by any span of any input layer. A letter is covered by a span if it lays between the start and end of that span. It means that gaps between spans of enveloping spans are not considered.\n",
    "\n",
    "The gaps can be trimmed using a trim function and annotated using a decorator function."
   ]
  },
  {
   "cell_type": "code",
   "execution_count": 1,
   "metadata": {},
   "outputs": [],
   "source": [
    "from estnltk import Text, Layer\n",
    "\n",
    "text = Text('Üks kaks kolm neli viis kuus seitse.')\n",
    "layer_1 = Layer('test_1')\n",
    "layer_1.add_annotation((4, 8))\n",
    "layer_1.add_annotation((9, 13))\n",
    "layer_1.add_annotation((24, 28))\n",
    "text.add_layer(layer_1)\n",
    "\n",
    "layer_2 = Layer('test_2')\n",
    "layer_2.add_annotation((4, 8))\n",
    "layer_2.add_annotation((9, 18))\n",
    "layer_2.add_annotation((35, 36))\n",
    "text.add_layer(layer_2)"
   ]
  },
  {
   "cell_type": "markdown",
   "metadata": {},
   "source": [
    "### Example 1"
   ]
  },
  {
   "cell_type": "code",
   "execution_count": 2,
   "metadata": {},
   "outputs": [
    {
     "data": {
      "text/html": [
       "<h4>Layer</h4>\n",
       "\n",
       "\n",
       "<table border=\"1\" class=\"dataframe\">\n",
       "  <thead>\n",
       "    <tr style=\"text-align: right;\">\n",
       "      <th>layer name</th>\n",
       "      <th>attributes</th>\n",
       "      <th>parent</th>\n",
       "      <th>enveloping</th>\n",
       "      <th>ambiguous</th>\n",
       "      <th>span count</th>\n",
       "    </tr>\n",
       "  </thead>\n",
       "  <tbody>\n",
       "    <tr>\n",
       "      <td>simple_gaps</td>\n",
       "      <td></td>\n",
       "      <td>None</td>\n",
       "      <td>None</td>\n",
       "      <td>False</td>\n",
       "      <td>4</td>\n",
       "    </tr>\n",
       "  </tbody>\n",
       "</table>\n",
       "<table border=\"1\" class=\"dataframe\">\n",
       "  <thead>\n",
       "    <tr style=\"text-align: right;\">\n",
       "      <th>text</th>\n",
       "    </tr>\n",
       "  </thead>\n",
       "  <tbody>\n",
       "    <tr>\n",
       "      <td>Üks</td>\n",
       "    </tr>\n",
       "    <tr>\n",
       "      <td></td>\n",
       "    </tr>\n",
       "    <tr>\n",
       "      <td>viis</td>\n",
       "    </tr>\n",
       "    <tr>\n",
       "      <td>seitse</td>\n",
       "    </tr>\n",
       "  </tbody>\n",
       "</table>"
      ],
      "text/plain": [
       "Layer(name='simple_gaps', attributes=(), spans=SL[Span('Üks ', [{}]),\n",
       "Span(' ', [{}]),\n",
       "Span(' viis ', [{}]),\n",
       "Span(' seitse', [{}])])"
      ]
     },
     "execution_count": 2,
     "metadata": {},
     "output_type": "execute_result"
    }
   ],
   "source": [
    "from estnltk.taggers import GapTagger\n",
    "gap_tagger = GapTagger('simple_gaps', ['test_1', 'test_2'])\n",
    "gap_tagger.tag(text)\n",
    "text.simple_gaps"
   ]
  },
  {
   "cell_type": "markdown",
   "metadata": {},
   "source": [
    "The following illustrates examples 1 and 2.\n",
    "\n",
    "    text:           'Üks kaks kolm neli viis kuus seitse.'\n",
    "    test_1:             'kaks'kolm'         'kuus'      \n",
    "    test_2:             'kaks'kolm neli'               '.'\n",
    "    simple_gaps:    'Üks '  ' '       ' viis '  ' seitse'\n",
    "    gaps:           'Üks'              'viis'    'seitse'"
   ]
  },
  {
   "cell_type": "markdown",
   "metadata": {},
   "source": [
    "### Example 2"
   ]
  },
  {
   "cell_type": "code",
   "execution_count": 3,
   "metadata": {},
   "outputs": [
    {
     "data": {
      "text/html": [
       "<h4>Tagger</h4>\n",
       "Tags all text regions that are not covered by any span of any input layer.\n",
       "<table border=\"1\" class=\"dataframe\">\n",
       "  <thead>\n",
       "    <tr style=\"text-align: right;\">\n",
       "      <th>name</th>\n",
       "      <th>output layer</th>\n",
       "      <th>output attributes</th>\n",
       "      <th>input layers</th>\n",
       "    </tr>\n",
       "  </thead>\n",
       "  <tbody>\n",
       "    <tr>\n",
       "      <td>GapTagger</td>\n",
       "      <td>gaps</td>\n",
       "      <td>('gap_length',)</td>\n",
       "      <td>('test_1', 'test_2')</td>\n",
       "    </tr>\n",
       "  </tbody>\n",
       "</table>\n",
       "<h4>Configuration</h4>\n",
       "<table border=\"1\" class=\"dataframe\">\n",
       "  <tbody>\n",
       "    <tr>\n",
       "      <th>decorator</th>\n",
       "      <td>&lt;function __main__.decorator&gt;</td>\n",
       "    </tr>\n",
       "    <tr>\n",
       "      <th>trim</th>\n",
       "      <td>&lt;function __main__.trim&gt;</td>\n",
       "    </tr>\n",
       "    <tr>\n",
       "      <th>ambiguous</th>\n",
       "      <td>False</td>\n",
       "    </tr>\n",
       "  </tbody>\n",
       "</table>"
      ],
      "text/plain": [
       "GapTagger(input_layers=('test_1', 'test_2'), output_layer=gaps, output_attributes=('gap_length',), decorator=<function __main__.decorator>, trim=<function __main__.trim>, ambiguous=False)"
      ]
     },
     "execution_count": 3,
     "metadata": {},
     "output_type": "execute_result"
    }
   ],
   "source": [
    "def trim(t:str) -> str:\n",
    "    return t.strip()\n",
    "\n",
    "def decorator(text:str):\n",
    "    return {'gap_length':len(text)}\n",
    "\n",
    "gap_tagger = GapTagger(output_layer='gaps',\n",
    "                       input_layers=['test_1', 'test_2'],\n",
    "                       trim=trim,\n",
    "                       decorator=decorator,\n",
    "                       output_attributes=['gap_length'])\n",
    "gap_tagger"
   ]
  },
  {
   "cell_type": "code",
   "execution_count": 4,
   "metadata": {
    "scrolled": false
   },
   "outputs": [
    {
     "data": {
      "text/html": [
       "<h4>Layer</h4>\n",
       "\n",
       "\n",
       "<table border=\"1\" class=\"dataframe\">\n",
       "  <thead>\n",
       "    <tr style=\"text-align: right;\">\n",
       "      <th>layer name</th>\n",
       "      <th>attributes</th>\n",
       "      <th>parent</th>\n",
       "      <th>enveloping</th>\n",
       "      <th>ambiguous</th>\n",
       "      <th>span count</th>\n",
       "    </tr>\n",
       "  </thead>\n",
       "  <tbody>\n",
       "    <tr>\n",
       "      <td>gaps</td>\n",
       "      <td>gap_length</td>\n",
       "      <td>None</td>\n",
       "      <td>None</td>\n",
       "      <td>False</td>\n",
       "      <td>3</td>\n",
       "    </tr>\n",
       "  </tbody>\n",
       "</table>\n",
       "<table border=\"1\" class=\"dataframe\">\n",
       "  <thead>\n",
       "    <tr style=\"text-align: right;\">\n",
       "      <th>text</th>\n",
       "      <th>gap_length</th>\n",
       "    </tr>\n",
       "  </thead>\n",
       "  <tbody>\n",
       "    <tr>\n",
       "      <td>Üks</td>\n",
       "      <td>3</td>\n",
       "    </tr>\n",
       "    <tr>\n",
       "      <td>viis</td>\n",
       "      <td>4</td>\n",
       "    </tr>\n",
       "    <tr>\n",
       "      <td>seitse</td>\n",
       "      <td>6</td>\n",
       "    </tr>\n",
       "  </tbody>\n",
       "</table>"
      ],
      "text/plain": [
       "Layer(name='gaps', attributes=('gap_length',), spans=SL[Span('Üks', [{'gap_length': 3}]),\n",
       "Span('viis', [{'gap_length': 4}]),\n",
       "Span('seitse', [{'gap_length': 6}])])"
      ]
     },
     "execution_count": 4,
     "metadata": {},
     "output_type": "execute_result"
    }
   ],
   "source": [
    "gap_tagger.tag(text)\n",
    "text.gaps"
   ]
  },
  {
   "cell_type": "markdown",
   "metadata": {},
   "source": [
    "## EnvelopingGapTagger\n",
    "\n",
    "``EnvelopingGapTagger`` tags gaps of enveloping layers. All input layers must be enveloping the same layer. Input layers can be ambiguous or unambiguous. The gaps layer of these layers is an unambiguous enveloping layer. A gap is a maximal SpanList of consequtive spans of enveloped layer that are not enveloped by any input layer.\n",
    "\n",
    "The gaps can be annotated using a decorator function."
   ]
  },
  {
   "cell_type": "code",
   "execution_count": 5,
   "metadata": {},
   "outputs": [
    {
     "data": {
      "text/html": [
       "<h4>Layer</h4>\n",
       "\n",
       "\n",
       "<table border=\"1\" class=\"dataframe\">\n",
       "  <thead>\n",
       "    <tr style=\"text-align: right;\">\n",
       "      <th>layer name</th>\n",
       "      <th>attributes</th>\n",
       "      <th>parent</th>\n",
       "      <th>enveloping</th>\n",
       "      <th>ambiguous</th>\n",
       "      <th>span count</th>\n",
       "    </tr>\n",
       "  </thead>\n",
       "  <tbody>\n",
       "    <tr>\n",
       "      <td>test_3</td>\n",
       "      <td></td>\n",
       "      <td>None</td>\n",
       "      <td>words</td>\n",
       "      <td>False</td>\n",
       "      <td>2</td>\n",
       "    </tr>\n",
       "  </tbody>\n",
       "</table>\n",
       "<table border=\"1\" class=\"dataframe\">\n",
       "  <thead>\n",
       "    <tr style=\"text-align: right;\">\n",
       "      <th>text</th>\n",
       "    </tr>\n",
       "  </thead>\n",
       "  <tbody>\n",
       "    <tr>\n",
       "      <td>['Üks', 'kaks']</td>\n",
       "    </tr>\n",
       "    <tr>\n",
       "      <td>['neli']</td>\n",
       "    </tr>\n",
       "  </tbody>\n",
       "</table>"
      ],
      "text/plain": [
       "Layer(name='test_3', attributes=(), spans=SL[EnvelopingSpan(['Üks', 'kaks'], [{}]),\n",
       "EnvelopingSpan(['neli'], [{}])])"
      ]
     },
     "execution_count": 5,
     "metadata": {},
     "output_type": "execute_result"
    }
   ],
   "source": [
    "from estnltk import EnvelopingSpan\n",
    "\n",
    "text = Text('Üks kaks kolm neli viis kuus seitse.')\n",
    "text.tag_layer(['words'])\n",
    "\n",
    "layer = Layer('test_3', enveloping='words', text_object=text)\n",
    "\n",
    "layer.add_annotation(text.words[0:2])\n",
    "layer.add_annotation(text.words[3:4])\n",
    "\n",
    "text.add_layer(layer)\n",
    "text.test_3"
   ]
  },
  {
   "cell_type": "code",
   "execution_count": 6,
   "metadata": {},
   "outputs": [
    {
     "data": {
      "text/html": [
       "<h4>Layer</h4>\n",
       "\n",
       "\n",
       "<table border=\"1\" class=\"dataframe\">\n",
       "  <thead>\n",
       "    <tr style=\"text-align: right;\">\n",
       "      <th>layer name</th>\n",
       "      <th>attributes</th>\n",
       "      <th>parent</th>\n",
       "      <th>enveloping</th>\n",
       "      <th>ambiguous</th>\n",
       "      <th>span count</th>\n",
       "    </tr>\n",
       "  </thead>\n",
       "  <tbody>\n",
       "    <tr>\n",
       "      <td>test_4</td>\n",
       "      <td></td>\n",
       "      <td>None</td>\n",
       "      <td>words</td>\n",
       "      <td>True</td>\n",
       "      <td>1</td>\n",
       "    </tr>\n",
       "  </tbody>\n",
       "</table>\n",
       "<table border=\"1\" class=\"dataframe\">\n",
       "  <thead>\n",
       "    <tr style=\"text-align: right;\">\n",
       "      <th>text</th>\n",
       "    </tr>\n",
       "  </thead>\n",
       "  <tbody>\n",
       "    <tr>\n",
       "      <td>['neli', 'viis']</td>\n",
       "    </tr>\n",
       "  </tbody>\n",
       "</table>"
      ],
      "text/plain": [
       "Layer(name='test_4', attributes=(), spans=SL[EnvelopingSpan(['neli', 'viis'], [{}])])"
      ]
     },
     "execution_count": 6,
     "metadata": {},
     "output_type": "execute_result"
    }
   ],
   "source": [
    "layer = Layer('test_4', enveloping='words', ambiguous=True)\n",
    "\n",
    "layer.add_annotation(text.words[3:5])\n",
    "\n",
    "text.add_layer(layer)\n",
    "text.test_4"
   ]
  },
  {
   "cell_type": "code",
   "execution_count": 7,
   "metadata": {},
   "outputs": [
    {
     "data": {
      "text/html": [
       "<h4>Tagger</h4>\n",
       "Tags all spans that are not covered by any span of any input layer.\n",
       "<table border=\"1\" class=\"dataframe\">\n",
       "  <thead>\n",
       "    <tr style=\"text-align: right;\">\n",
       "      <th>name</th>\n",
       "      <th>output layer</th>\n",
       "      <th>output attributes</th>\n",
       "      <th>input layers</th>\n",
       "    </tr>\n",
       "  </thead>\n",
       "  <tbody>\n",
       "    <tr>\n",
       "      <td>EnvelopingGapTagger</td>\n",
       "      <td>gaps</td>\n",
       "      <td>('gap_word_count',)</td>\n",
       "      <td>('test_3', 'test_4', 'words')</td>\n",
       "    </tr>\n",
       "  </tbody>\n",
       "</table>\n",
       "<h4>Configuration</h4>\n",
       "<table border=\"1\" class=\"dataframe\">\n",
       "  <tbody>\n",
       "    <tr>\n",
       "      <th>decorator</th>\n",
       "      <td>&lt;function __main__.decorator&gt;</td>\n",
       "    </tr>\n",
       "    <tr>\n",
       "      <th>layers_with_gaps</th>\n",
       "      <td>['test_3', 'test_4']</td>\n",
       "    </tr>\n",
       "    <tr>\n",
       "      <th>enveloped_layer</th>\n",
       "      <td>words</td>\n",
       "    </tr>\n",
       "  </tbody>\n",
       "</table>"
      ],
      "text/plain": [
       "EnvelopingGapTagger(input_layers=('test_3', 'test_4', 'words'), output_layer=gaps, output_attributes=('gap_word_count',), decorator=<function __main__.decorator>, layers_with_gaps=['test_3', 'test_4'], enveloped_layer=words)"
      ]
     },
     "execution_count": 7,
     "metadata": {},
     "output_type": "execute_result"
    }
   ],
   "source": [
    "from estnltk.taggers import EnvelopingGapTagger\n",
    "\n",
    "def decorator(spans):\n",
    "    return {'gap_word_count': len(spans)}\n",
    "\n",
    "gap_tagger = EnvelopingGapTagger(output_layer='gaps',\n",
    "                                 layers_with_gaps=['test_3', 'test_4'],\n",
    "                                 enveloped_layer='words',\n",
    "                                 decorator=decorator,\n",
    "                                 output_attributes=['gap_word_count'])\n",
    "gap_tagger"
   ]
  },
  {
   "cell_type": "code",
   "execution_count": 8,
   "metadata": {
    "scrolled": true
   },
   "outputs": [
    {
     "data": {
      "text/html": [
       "<h4>Layer</h4>\n",
       "\n",
       "\n",
       "<table border=\"1\" class=\"dataframe\">\n",
       "  <thead>\n",
       "    <tr style=\"text-align: right;\">\n",
       "      <th>layer name</th>\n",
       "      <th>attributes</th>\n",
       "      <th>parent</th>\n",
       "      <th>enveloping</th>\n",
       "      <th>ambiguous</th>\n",
       "      <th>span count</th>\n",
       "    </tr>\n",
       "  </thead>\n",
       "  <tbody>\n",
       "    <tr>\n",
       "      <td>gaps</td>\n",
       "      <td>gap_word_count</td>\n",
       "      <td>None</td>\n",
       "      <td>words</td>\n",
       "      <td>False</td>\n",
       "      <td>2</td>\n",
       "    </tr>\n",
       "  </tbody>\n",
       "</table>\n",
       "<table border=\"1\" class=\"dataframe\">\n",
       "  <thead>\n",
       "    <tr style=\"text-align: right;\">\n",
       "      <th>text</th>\n",
       "      <th>gap_word_count</th>\n",
       "    </tr>\n",
       "  </thead>\n",
       "  <tbody>\n",
       "    <tr>\n",
       "      <td>['kolm']</td>\n",
       "      <td>1</td>\n",
       "    </tr>\n",
       "    <tr>\n",
       "      <td>['kuus', 'seitse', '.']</td>\n",
       "      <td>3</td>\n",
       "    </tr>\n",
       "  </tbody>\n",
       "</table>"
      ],
      "text/plain": [
       "Layer(name='gaps', attributes=('gap_word_count',), spans=SL[EnvelopingSpan(['kolm'], [{'gap_word_count': 1}]),\n",
       "EnvelopingSpan(['kuus', 'seitse', '.'], [{'gap_word_count': 3}])])"
      ]
     },
     "execution_count": 8,
     "metadata": {},
     "output_type": "execute_result"
    }
   ],
   "source": [
    "gap_tagger.tag(text)\n",
    "text.gaps"
   ]
  }
 ],
 "metadata": {
  "anaconda-cloud": {},
  "kernelspec": {
   "display_name": "Python 3",
   "language": "python",
   "name": "python3"
  },
  "language_info": {
   "codemirror_mode": {
    "name": "ipython",
    "version": 3
   },
   "file_extension": ".py",
   "mimetype": "text/x-python",
   "name": "python",
   "nbconvert_exporter": "python",
   "pygments_lexer": "ipython3",
   "version": "3.6.8"
  }
 },
 "nbformat": 4,
 "nbformat_minor": 2
}
