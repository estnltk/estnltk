{
 "cells": [
  {
   "cell_type": "markdown",
   "metadata": {},
   "source": [
    "# Disambiguator (a system level tagger)"
   ]
  },
  {
   "cell_type": "code",
   "execution_count": 1,
   "metadata": {
    "scrolled": false
   },
   "outputs": [],
   "source": [
    "from estnltk import Text, Layer\n",
    "from estnltk.taggers import Disambiguator"
   ]
  },
  {
   "cell_type": "markdown",
   "metadata": {},
   "source": [
    "## Disambiguate a simple ambiguous layer"
   ]
  },
  {
   "cell_type": "code",
   "execution_count": 2,
   "metadata": {},
   "outputs": [
    {
     "data": {
      "text/html": [
       "<h4>Layer</h4>\n",
       "\n",
       "\n",
       "<table border=\"1\" class=\"dataframe\">\n",
       "  <thead>\n",
       "    <tr style=\"text-align: right;\">\n",
       "      <th>layer name</th>\n",
       "      <th>attributes</th>\n",
       "      <th>parent</th>\n",
       "      <th>enveloping</th>\n",
       "      <th>ambiguous</th>\n",
       "      <th>span count</th>\n",
       "    </tr>\n",
       "  </thead>\n",
       "  <tbody>\n",
       "    <tr>\n",
       "      <td>simple_ambiguous</td>\n",
       "      <td>attr_1, attr_2</td>\n",
       "      <td>None</td>\n",
       "      <td>None</td>\n",
       "      <td>True</td>\n",
       "      <td>4</td>\n",
       "    </tr>\n",
       "  </tbody>\n",
       "</table>\n",
       "<table border=\"1\" class=\"dataframe\">\n",
       "  <thead>\n",
       "    <tr style=\"text-align: right;\">\n",
       "      <th>text</th>\n",
       "      <th>attr_1</th>\n",
       "      <th>attr_2</th>\n",
       "    </tr>\n",
       "  </thead>\n",
       "  <tbody>\n",
       "    <tr>\n",
       "      <td>Tere</td>\n",
       "      <td>1</td>\n",
       "      <td>2</td>\n",
       "    </tr>\n",
       "    <tr>\n",
       "      <td></td>\n",
       "      <td>3</td>\n",
       "      <td>4</td>\n",
       "    </tr>\n",
       "    <tr>\n",
       "      <td></td>\n",
       "      <td>5</td>\n",
       "      <td>6</td>\n",
       "    </tr>\n",
       "    <tr>\n",
       "      <td></td>\n",
       "      <td>11</td>\n",
       "      <td>12</td>\n",
       "    </tr>\n",
       "    <tr>\n",
       "      <td>,</td>\n",
       "      <td>7</td>\n",
       "      <td>8</td>\n",
       "    </tr>\n",
       "    <tr>\n",
       "      <td></td>\n",
       "      <td>9</td>\n",
       "      <td>10</td>\n",
       "    </tr>\n",
       "    <tr>\n",
       "      <td>maailm</td>\n",
       "      <td>13</td>\n",
       "      <td>14</td>\n",
       "    </tr>\n",
       "    <tr>\n",
       "      <td></td>\n",
       "      <td>15</td>\n",
       "      <td>16</td>\n",
       "    </tr>\n",
       "    <tr>\n",
       "      <td>!</td>\n",
       "      <td>17</td>\n",
       "      <td>18</td>\n",
       "    </tr>\n",
       "  </tbody>\n",
       "</table>"
      ],
      "text/plain": [
       "Layer(name='simple_ambiguous', attributes=('attr_1', 'attr_2'), spans=SL[Span('Tere', [{'attr_1': 1, 'attr_2': 2}, {'attr_1': 3, 'attr_2': 4}, {'attr_1': 5, 'attr_2': 6}, {'attr_1': 11, 'attr_2': 12}]),\n",
       "Span(',', [{'attr_1': 7, 'attr_2': 8}, {'attr_1': 9, 'attr_2': 10}]),\n",
       "Span('maailm', [{'attr_1': 13, 'attr_2': 14}, {'attr_1': 15, 'attr_2': 16}]),\n",
       "Span('!', [{'attr_1': 17, 'attr_2': 18}])])"
      ]
     },
     "execution_count": 2,
     "metadata": {},
     "output_type": "execute_result"
    }
   ],
   "source": [
    "text = Text('Tere, maailm!')\n",
    "\n",
    "layer_1 = Layer(name='simple_ambiguous', attributes=['attr_1', 'attr_2'], ambiguous=True, text_object=text)\n",
    "layer_1.add_annotation(( 0,  4), attr_1= 1, attr_2= 2)\n",
    "layer_1.add_annotation(( 0,  4), attr_1= 3, attr_2= 4)\n",
    "layer_1.add_annotation(( 0,  4), attr_1= 5, attr_2= 6)\n",
    "layer_1.add_annotation(( 4,  5), attr_1= 7, attr_2= 8)\n",
    "layer_1.add_annotation(( 4,  5), attr_1= 9, attr_2=10)\n",
    "layer_1.add_annotation(( 0,  4), attr_1=11, attr_2=12)\n",
    "layer_1.add_annotation(( 6, 12), attr_1=13, attr_2=14)\n",
    "layer_1.add_annotation(( 6, 12), attr_1=15, attr_2=16)\n",
    "layer_1.add_annotation((12, 13), attr_1=17, attr_2=18)\n",
    "text.add_layer(layer_1)\n",
    "\n",
    "layer_1"
   ]
  },
  {
   "cell_type": "code",
   "execution_count": 3,
   "metadata": {},
   "outputs": [
    {
     "data": {
      "text/html": [
       "<h4>Tagger</h4>\n",
       "Disambiguates ambiguous layer.\n",
       "<table border=\"1\" class=\"dataframe\">\n",
       "  <thead>\n",
       "    <tr style=\"text-align: right;\">\n",
       "      <th>name</th>\n",
       "      <th>output layer</th>\n",
       "      <th>output attributes</th>\n",
       "      <th>input layers</th>\n",
       "    </tr>\n",
       "  </thead>\n",
       "  <tbody>\n",
       "    <tr>\n",
       "      <td>Disambiguator</td>\n",
       "      <td>simple</td>\n",
       "      <td>('attr_1',)</td>\n",
       "      <td>('simple_ambiguous',)</td>\n",
       "    </tr>\n",
       "  </tbody>\n",
       "</table>\n",
       "<h4>Configuration</h4>\n",
       "<table border=\"1\" class=\"dataframe\">\n",
       "  <tbody>\n",
       "    <tr>\n",
       "      <th>decorator</th>\n",
       "      <td>&lt;function __main__.decorator&gt;</td>\n",
       "    </tr>\n",
       "  </tbody>\n",
       "</table>"
      ],
      "text/plain": [
       "Disambiguator(input_layers=('simple_ambiguous',), output_layer=simple, output_attributes=('attr_1',), decorator=<function __main__.decorator>)"
      ]
     },
     "execution_count": 3,
     "metadata": {},
     "output_type": "execute_result"
    }
   ],
   "source": [
    "def decorator(ambiguous_span, raw_text):\n",
    "    attr_1 = 0\n",
    "    for annotation in ambiguous_span.annotations:\n",
    "        attr_1 += annotation.attr_1\n",
    "    return {'attr_1': attr_1}\n",
    "\n",
    "tagger_1 = Disambiguator(output_layer='simple',\n",
    "                         input_layer='simple_ambiguous',\n",
    "                         output_attributes=['attr_1'],\n",
    "                         decorator=decorator)\n",
    "tagger_1"
   ]
  },
  {
   "cell_type": "code",
   "execution_count": 4,
   "metadata": {},
   "outputs": [
    {
     "data": {
      "text/html": [
       "<h4>Layer</h4>\n",
       "\n",
       "\n",
       "<table border=\"1\" class=\"dataframe\">\n",
       "  <thead>\n",
       "    <tr style=\"text-align: right;\">\n",
       "      <th>layer name</th>\n",
       "      <th>attributes</th>\n",
       "      <th>parent</th>\n",
       "      <th>enveloping</th>\n",
       "      <th>ambiguous</th>\n",
       "      <th>span count</th>\n",
       "    </tr>\n",
       "  </thead>\n",
       "  <tbody>\n",
       "    <tr>\n",
       "      <td>simple</td>\n",
       "      <td>attr_1</td>\n",
       "      <td>None</td>\n",
       "      <td>None</td>\n",
       "      <td>False</td>\n",
       "      <td>4</td>\n",
       "    </tr>\n",
       "  </tbody>\n",
       "</table>\n",
       "<table border=\"1\" class=\"dataframe\">\n",
       "  <thead>\n",
       "    <tr style=\"text-align: right;\">\n",
       "      <th>text</th>\n",
       "      <th>attr_1</th>\n",
       "    </tr>\n",
       "  </thead>\n",
       "  <tbody>\n",
       "    <tr>\n",
       "      <td>Tere</td>\n",
       "      <td>20</td>\n",
       "    </tr>\n",
       "    <tr>\n",
       "      <td>,</td>\n",
       "      <td>16</td>\n",
       "    </tr>\n",
       "    <tr>\n",
       "      <td>maailm</td>\n",
       "      <td>28</td>\n",
       "    </tr>\n",
       "    <tr>\n",
       "      <td>!</td>\n",
       "      <td>17</td>\n",
       "    </tr>\n",
       "  </tbody>\n",
       "</table>"
      ],
      "text/plain": [
       "Layer(name='simple', attributes=('attr_1',), spans=SL[Span('Tere', [{'attr_1': 20}]),\n",
       "Span(',', [{'attr_1': 16}]),\n",
       "Span('maailm', [{'attr_1': 28}]),\n",
       "Span('!', [{'attr_1': 17}])])"
      ]
     },
     "execution_count": 4,
     "metadata": {},
     "output_type": "execute_result"
    }
   ],
   "source": [
    "tagger_1.tag(text)\n",
    "text.simple"
   ]
  },
  {
   "cell_type": "markdown",
   "metadata": {},
   "source": [
    "## Disamiguate an enveloping ambiguous layer"
   ]
  },
  {
   "cell_type": "code",
   "execution_count": 5,
   "metadata": {},
   "outputs": [
    {
     "data": {
      "text/html": [
       "<h4>Layer</h4>\n",
       "\n",
       "\n",
       "<table border=\"1\" class=\"dataframe\">\n",
       "  <thead>\n",
       "    <tr style=\"text-align: right;\">\n",
       "      <th>layer name</th>\n",
       "      <th>attributes</th>\n",
       "      <th>parent</th>\n",
       "      <th>enveloping</th>\n",
       "      <th>ambiguous</th>\n",
       "      <th>span count</th>\n",
       "    </tr>\n",
       "  </thead>\n",
       "  <tbody>\n",
       "    <tr>\n",
       "      <td>enveloping_ambiguous</td>\n",
       "      <td>attr_3</td>\n",
       "      <td>None</td>\n",
       "      <td>simple_ambiguous</td>\n",
       "      <td>True</td>\n",
       "      <td>2</td>\n",
       "    </tr>\n",
       "  </tbody>\n",
       "</table>\n",
       "<table border=\"1\" class=\"dataframe\">\n",
       "  <thead>\n",
       "    <tr style=\"text-align: right;\">\n",
       "      <th>text</th>\n",
       "      <th>attr_3</th>\n",
       "    </tr>\n",
       "  </thead>\n",
       "  <tbody>\n",
       "    <tr>\n",
       "      <td>['Tere', ',']</td>\n",
       "      <td>30</td>\n",
       "    </tr>\n",
       "    <tr>\n",
       "      <td></td>\n",
       "      <td>31</td>\n",
       "    </tr>\n",
       "    <tr>\n",
       "      <td>['maailm', '!']</td>\n",
       "      <td>32</td>\n",
       "    </tr>\n",
       "  </tbody>\n",
       "</table>"
      ],
      "text/plain": [
       "Layer(name='enveloping_ambiguous', attributes=('attr_3',), spans=SL[EnvelopingSpan(['Tere', ','], [{'attr_3': 30}, {'attr_3': 31}]),\n",
       "EnvelopingSpan(['maailm', '!'], [{'attr_3': 32}])])"
      ]
     },
     "execution_count": 5,
     "metadata": {},
     "output_type": "execute_result"
    }
   ],
   "source": [
    "layer_2 = Layer(name='enveloping_ambiguous',\n",
    "                attributes=['attr_3'],\n",
    "                enveloping='simple_ambiguous',\n",
    "                ambiguous=True)\n",
    "\n",
    "spans=text.simple_ambiguous[0:2]\n",
    "layer_2.add_annotation(spans, attr_3=30)\n",
    "layer_2.add_annotation(spans, attr_3=31)\n",
    "\n",
    "spans=text.simple_ambiguous[2:4]\n",
    "layer_2.add_annotation(spans, attr_3=32)\n",
    "\n",
    "\n",
    "text.add_layer(layer_2)\n",
    "\n",
    "layer_2"
   ]
  },
  {
   "cell_type": "code",
   "execution_count": 6,
   "metadata": {},
   "outputs": [
    {
     "data": {
      "text/html": [
       "<h4>Tagger</h4>\n",
       "Disambiguates ambiguous layer.\n",
       "<table border=\"1\" class=\"dataframe\">\n",
       "  <thead>\n",
       "    <tr style=\"text-align: right;\">\n",
       "      <th>name</th>\n",
       "      <th>output layer</th>\n",
       "      <th>output attributes</th>\n",
       "      <th>input layers</th>\n",
       "    </tr>\n",
       "  </thead>\n",
       "  <tbody>\n",
       "    <tr>\n",
       "      <td>Disambiguator</td>\n",
       "      <td>enveloping</td>\n",
       "      <td>('attr_1',)</td>\n",
       "      <td>('enveloping_ambiguous',)</td>\n",
       "    </tr>\n",
       "  </tbody>\n",
       "</table>\n",
       "<h4>Configuration</h4>\n",
       "<table border=\"1\" class=\"dataframe\">\n",
       "  <tbody>\n",
       "    <tr>\n",
       "      <th>decorator</th>\n",
       "      <td>&lt;function __main__.decorator&gt;</td>\n",
       "    </tr>\n",
       "  </tbody>\n",
       "</table>"
      ],
      "text/plain": [
       "Disambiguator(input_layers=('enveloping_ambiguous',), output_layer=enveloping, output_attributes=('attr_1',), decorator=<function __main__.decorator>)"
      ]
     },
     "execution_count": 6,
     "metadata": {},
     "output_type": "execute_result"
    }
   ],
   "source": [
    "def decorator(ambiguous_span, raw_text):\n",
    "    return {'attr_1': len(ambiguous_span)}\n",
    "\n",
    "tagger_2 = Disambiguator(output_layer='enveloping',\n",
    "                         input_layer='enveloping_ambiguous',\n",
    "                         output_attributes=['attr_1',],\n",
    "                         decorator=decorator\n",
    "                        )\n",
    "tagger_2"
   ]
  },
  {
   "cell_type": "code",
   "execution_count": 7,
   "metadata": {
    "scrolled": true
   },
   "outputs": [
    {
     "data": {
      "text/html": [
       "<h4>Layer</h4>\n",
       "\n",
       "\n",
       "<table border=\"1\" class=\"dataframe\">\n",
       "  <thead>\n",
       "    <tr style=\"text-align: right;\">\n",
       "      <th>layer name</th>\n",
       "      <th>attributes</th>\n",
       "      <th>parent</th>\n",
       "      <th>enveloping</th>\n",
       "      <th>ambiguous</th>\n",
       "      <th>span count</th>\n",
       "    </tr>\n",
       "  </thead>\n",
       "  <tbody>\n",
       "    <tr>\n",
       "      <td>enveloping</td>\n",
       "      <td>attr_1</td>\n",
       "      <td>None</td>\n",
       "      <td>simple_ambiguous</td>\n",
       "      <td>False</td>\n",
       "      <td>2</td>\n",
       "    </tr>\n",
       "  </tbody>\n",
       "</table>\n",
       "<table border=\"1\" class=\"dataframe\">\n",
       "  <thead>\n",
       "    <tr style=\"text-align: right;\">\n",
       "      <th>text</th>\n",
       "      <th>attr_1</th>\n",
       "    </tr>\n",
       "  </thead>\n",
       "  <tbody>\n",
       "    <tr>\n",
       "      <td>['Tere', ',']</td>\n",
       "      <td>2</td>\n",
       "    </tr>\n",
       "    <tr>\n",
       "      <td>['maailm', '!']</td>\n",
       "      <td>2</td>\n",
       "    </tr>\n",
       "  </tbody>\n",
       "</table>"
      ],
      "text/plain": [
       "Layer(name='enveloping', attributes=('attr_1',), spans=SL[EnvelopingSpan(['Tere', ','], [{'attr_1': 2}]),\n",
       "EnvelopingSpan(['maailm', '!'], [{'attr_1': 2}])])"
      ]
     },
     "execution_count": 7,
     "metadata": {},
     "output_type": "execute_result"
    }
   ],
   "source": [
    "tagger_2.tag(text)\n",
    "text.enveloping"
   ]
  }
 ],
 "metadata": {
  "kernelspec": {
   "display_name": "Python 3 (ipykernel)",
   "language": "python",
   "name": "python3"
  },
  "language_info": {
   "codemirror_mode": {
    "name": "ipython",
    "version": 3
   },
   "file_extension": ".py",
   "mimetype": "text/x-python",
   "name": "python",
   "nbconvert_exporter": "python",
   "pygments_lexer": "ipython3",
   "version": "3.8.11"
  }
 },
 "nbformat": 4,
 "nbformat_minor": 2
}
