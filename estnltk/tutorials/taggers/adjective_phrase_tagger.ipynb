{
 "cells": [
  {
   "cell_type": "markdown",
   "metadata": {},
   "source": [
    "# AdjectivePhraseTagger\n",
    "\n",
    "A class that tags simple adjective phrases on the **Text** object.\n",
    "\n",
    "## Usage"
   ]
  },
  {
   "cell_type": "code",
   "execution_count": 1,
   "metadata": {},
   "outputs": [],
   "source": [
    "from estnltk.taggers import AdjectivePhraseTagger\n",
    "from estnltk import Text"
   ]
  },
  {
   "cell_type": "markdown",
   "metadata": {},
   "source": [
    "To use **AdjectivePhraseTagger**, a **Text** object needs to be created with the layer of morphological analysis added to it:"
   ]
  },
  {
   "cell_type": "code",
   "execution_count": 2,
   "metadata": {},
   "outputs": [],
   "source": [
    "sent = Text(\"Eile leitud koer oli väga energiline ja mänguhimuline.\").tag_layer('morph_analysis')"
   ]
  },
  {
   "cell_type": "markdown",
   "metadata": {},
   "source": [
    "We also need to create an **AdjectivePhraseTagger** object and then tag adjective phrases as a new layer on the **Text** object:"
   ]
  },
  {
   "cell_type": "code",
   "execution_count": 3,
   "metadata": {},
   "outputs": [
    {
     "data": {
      "text/html": [
       "<h4>Layer</h4>\n",
       "\n",
       "\n",
       "<table border=\"1\" class=\"dataframe\">\n",
       "  <thead>\n",
       "    <tr style=\"text-align: right;\">\n",
       "      <th>layer name</th>\n",
       "      <th>attributes</th>\n",
       "      <th>parent</th>\n",
       "      <th>enveloping</th>\n",
       "      <th>ambiguous</th>\n",
       "      <th>span count</th>\n",
       "    </tr>\n",
       "  </thead>\n",
       "  <tbody>\n",
       "    <tr>\n",
       "      <td>grammar_tags</td>\n",
       "      <td>grammar_symbol</td>\n",
       "      <td>None</td>\n",
       "      <td>None</td>\n",
       "      <td>True</td>\n",
       "      <td>8</td>\n",
       "    </tr>\n",
       "  </tbody>\n",
       "</table>\n",
       "<table border=\"1\" class=\"dataframe\">\n",
       "  <thead>\n",
       "    <tr style=\"text-align: right;\">\n",
       "      <th>text</th>\n",
       "      <th>grammar_symbol</th>\n",
       "    </tr>\n",
       "  </thead>\n",
       "  <tbody>\n",
       "    <tr>\n",
       "      <td>Eile</td>\n",
       "      <td>ADV2</td>\n",
       "    </tr>\n",
       "    <tr>\n",
       "      <td>leitud</td>\n",
       "      <td>ADJ</td>\n",
       "    </tr>\n",
       "    <tr>\n",
       "      <td>koer oli</td>\n",
       "      <td>RANDOM_TEXT</td>\n",
       "    </tr>\n",
       "    <tr>\n",
       "      <td>väga</td>\n",
       "      <td>ADJ_M</td>\n",
       "    </tr>\n",
       "    <tr>\n",
       "      <td></td>\n",
       "      <td>ADV2</td>\n",
       "    </tr>\n",
       "    <tr>\n",
       "      <td>energiline</td>\n",
       "      <td>ADJ</td>\n",
       "    </tr>\n",
       "    <tr>\n",
       "      <td>ja</td>\n",
       "      <td>CONJ</td>\n",
       "    </tr>\n",
       "    <tr>\n",
       "      <td>mänguhimuline</td>\n",
       "      <td>ADJ</td>\n",
       "    </tr>\n",
       "    <tr>\n",
       "      <td>.</td>\n",
       "      <td>RANDOM_TEXT</td>\n",
       "    </tr>\n",
       "  </tbody>\n",
       "</table>"
      ],
      "text/plain": [
       "Layer(name='grammar_tags', attributes=('grammar_symbol',), spans=SL[Span('Eile', [{'grammar_symbol': 'ADV2'}]),\n",
       "Span('leitud', [{'grammar_symbol': 'ADJ'}]),\n",
       "Span('koer oli', [{'grammar_symbol': 'RANDOM_TEXT'}]),\n",
       "Span('väga', [{'grammar_symbol': 'ADJ_M'}, {'grammar_symbol': 'ADV2'}]),\n",
       "Span('energiline', [{'grammar_symbol': 'ADJ'}]),\n",
       "Span('ja', [{'grammar_symbol': 'CONJ'}]),\n",
       "Span('mänguhimuline', [{'grammar_symbol': 'ADJ'}]),\n",
       "Span('.', [{'grammar_symbol': 'RANDOM_TEXT'}])])"
      ]
     },
     "execution_count": 3,
     "metadata": {},
     "output_type": "execute_result"
    }
   ],
   "source": [
    "tagger = AdjectivePhraseTagger()\n",
    "tagger.tag(sent)\n",
    "sent.grammar_tags"
   ]
  },
  {
   "cell_type": "code",
   "execution_count": 4,
   "metadata": {},
   "outputs": [
    {
     "data": {
      "text/html": [
       "<h4>Layer</h4>\n",
       "\n",
       "\n",
       "<table border=\"1\" class=\"dataframe\">\n",
       "  <thead>\n",
       "    <tr style=\"text-align: right;\">\n",
       "      <th>layer name</th>\n",
       "      <th>attributes</th>\n",
       "      <th>parent</th>\n",
       "      <th>enveloping</th>\n",
       "      <th>ambiguous</th>\n",
       "      <th>span count</th>\n",
       "    </tr>\n",
       "  </thead>\n",
       "  <tbody>\n",
       "    <tr>\n",
       "      <td>adjective_phrases</td>\n",
       "      <td>type, adverb_class, adverb_weight</td>\n",
       "      <td>None</td>\n",
       "      <td>grammar_tags</td>\n",
       "      <td>False</td>\n",
       "      <td>2</td>\n",
       "    </tr>\n",
       "  </tbody>\n",
       "</table>\n",
       "<table border=\"1\" class=\"dataframe\">\n",
       "  <thead>\n",
       "    <tr style=\"text-align: right;\">\n",
       "      <th>text</th>\n",
       "      <th>type</th>\n",
       "      <th>adverb_class</th>\n",
       "      <th>adverb_weight</th>\n",
       "    </tr>\n",
       "  </thead>\n",
       "  <tbody>\n",
       "    <tr>\n",
       "      <td>['leitud']</td>\n",
       "      <td>adjective phrase</td>\n",
       "      <td>None</td>\n",
       "      <td>None</td>\n",
       "    </tr>\n",
       "    <tr>\n",
       "      <td>['väga', 'energiline', 'ja', 'mänguhimuline']</td>\n",
       "      <td>adjective phrase</td>\n",
       "      <td>None</td>\n",
       "      <td>None</td>\n",
       "    </tr>\n",
       "  </tbody>\n",
       "</table>"
      ],
      "text/plain": [
       "Layer(name='adjective_phrases', attributes=('type', 'adverb_class', 'adverb_weight'), spans=SL[EnvelopingSpan(['leitud'], [{'type': 'adjective phrase', 'adverb_class': None, 'adverb_weight': None}]),\n",
       "EnvelopingSpan(['väga', 'energiline', 'ja', 'mänguhimuline'], [{'type': 'adjective phrase', 'adverb_class': None, 'adverb_weight': None}])])"
      ]
     },
     "execution_count": 4,
     "metadata": {},
     "output_type": "execute_result"
    }
   ],
   "source": [
    "sent.adjective_phrases"
   ]
  },
  {
   "cell_type": "markdown",
   "metadata": {},
   "source": [
    "### Attributes that are given with the adjective phrases:\n",
    "\n",
    "**type** is the specific type of the adjective phrase: \n",
    "* **adjective**: adjective is in its 'normal' (aka positive) form\n",
    "* **comparative**: contains a comparative adjective\n",
    "* **participle**: contains an adjective derived from a verb"
   ]
  },
  {
   "cell_type": "markdown",
   "metadata": {},
   "source": [
    "**adverb_class** marks the intensity of the adverb in the phrase. Each class has also been assigned a weight (**adverb_weight**) noting its intensity. Currently there are 6 classes with their corresponding weights:\n",
    "* diminisher: 0.5\n",
    "* doubt: 0.7\n",
    "* affirmation: 1.5\n",
    "* strong_intensifier: 2\n",
    "* surprise: 3\n",
    "* excess: 3\n",
    "\n",
    "All the adverbs are not divided into classes, therefore some do have None as **adverb_class** and NaN as **adverb_weight**."
   ]
  }
 ],
 "metadata": {
  "anaconda-cloud": {},
  "kernelspec": {
   "display_name": "Python 3 (ipykernel)",
   "language": "python",
   "name": "python3"
  },
  "language_info": {
   "codemirror_mode": {
    "name": "ipython",
    "version": 3
   },
   "file_extension": ".py",
   "mimetype": "text/x-python",
   "name": "python",
   "nbconvert_exporter": "python",
   "pygments_lexer": "ipython3",
   "version": "3.8.11"
  }
 },
 "nbformat": 4,
 "nbformat_minor": 1
}
