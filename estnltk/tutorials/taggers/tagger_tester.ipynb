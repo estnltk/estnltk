{
 "cells": [
  {
   "cell_type": "code",
   "execution_count": 1,
   "metadata": {},
   "outputs": [],
   "source": [
    "from estnltk import Text\n",
    "from estnltk.taggers import TaggerTester"
   ]
  },
  {
   "cell_type": "markdown",
   "metadata": {},
   "source": [
    "# Tagger tester\n",
    "`TaggerTester` class helps to create tests for taggers."
   ]
  },
  {
   "cell_type": "markdown",
   "metadata": {},
   "source": [
    "We create tests for the `NumberTagger`."
   ]
  },
  {
   "cell_type": "code",
   "execution_count": 2,
   "metadata": {},
   "outputs": [],
   "source": [
    "from estnltk.taggers import Tagger\n",
    "from estnltk import Layer, Span\n",
    "import regex as re\n",
    "\n",
    "\n",
    "class NumberTagger(Tagger):\n",
    "    \"\"\"Tags numbers.\n",
    "\n",
    "    \"\"\"\n",
    "    conf_param = ['regex']\n",
    "\n",
    "    def __init__(self,\n",
    "                 output_layer='numbers',\n",
    "                 output_attributes=(),\n",
    "                 input_layers=()           \n",
    "                ):\n",
    "        self.output_layer = output_layer\n",
    "        self.output_attributes = output_attributes\n",
    "        self.input_layers = input_layers\n",
    "        self.regex = re.compile('-?\\d+')\n",
    "\n",
    "    def _make_layer(self, text, layers, status=None):\n",
    "        layer = Layer(self.output_layer, text_object=text)\n",
    "        for m in self.regex.finditer(text.text):\n",
    "            layer.add_annotation((m.start(), m.end()))\n",
    "        if isinstance(status, dict):\n",
    "            status['NumberTagger message'] = self.output_layer + ' layer created successfully'\n",
    "        return layer"
   ]
  },
  {
   "cell_type": "markdown",
   "metadata": {},
   "source": [
    "Create an instance of the tagger."
   ]
  },
  {
   "cell_type": "code",
   "execution_count": 3,
   "metadata": {},
   "outputs": [],
   "source": [
    "tagger = NumberTagger()"
   ]
  },
  {
   "cell_type": "markdown",
   "metadata": {},
   "source": [
    "Input file will contain a list of the Text objects in the estnltk json format."
   ]
  },
  {
   "cell_type": "code",
   "execution_count": 4,
   "metadata": {},
   "outputs": [],
   "source": [
    "input_file='input.json'"
   ]
  },
  {
   "cell_type": "markdown",
   "metadata": {},
   "source": [
    "Target file will contain a list of the `Layer` objects in the estnltk json format."
   ]
  },
  {
   "cell_type": "code",
   "execution_count": 5,
   "metadata": {},
   "outputs": [],
   "source": [
    "target_file='target.json'"
   ]
  },
  {
   "cell_type": "markdown",
   "metadata": {},
   "source": [
    "An instance of the `TaggerTester` will contain all the tests we create."
   ]
  },
  {
   "cell_type": "code",
   "execution_count": 6,
   "metadata": {},
   "outputs": [],
   "source": [
    "tester = TaggerTester(tagger=tagger, input_file=input_file, target_file=target_file)"
   ]
  },
  {
   "cell_type": "markdown",
   "metadata": {},
   "source": [
    "To create a new test we need a `Text` object that can be tagged with the tagger. It means that the text object must have all of the input layers of the tagger. `NumberTagger` has no input layers so here we don't add any to the text object."
   ]
  },
  {
   "cell_type": "code",
   "execution_count": 7,
   "metadata": {},
   "outputs": [],
   "source": [
    "text = Text('')"
   ]
  },
  {
   "cell_type": "markdown",
   "metadata": {},
   "source": [
    "To add test to the tester, use `add_test` method."
   ]
  },
  {
   "cell_type": "code",
   "execution_count": 8,
   "metadata": {},
   "outputs": [],
   "source": [
    "tester.add_test(annotation='empty text', text=text, expected_text=[])"
   ]
  },
  {
   "cell_type": "markdown",
   "metadata": {},
   "source": [
    "`annotation` is a string that describes the test. `expected_text` is the text of the layer created by the tagger. If the `expected_text` doesn't match with the output of the tagger, then an `AssertionError` is raised and the test is not added to the tester.\n",
    "\n",
    "Add one more test."
   ]
  },
  {
   "cell_type": "code",
   "execution_count": 9,
   "metadata": {},
   "outputs": [],
   "source": [
    "text = Text('-12,3')\n",
    "tester.add_test(annotation='simple', text=text, expected_text=['-12', '3'])"
   ]
  },
  {
   "cell_type": "markdown",
   "metadata": {},
   "source": [
    "Save the test data."
   ]
  },
  {
   "cell_type": "code",
   "execution_count": 10,
   "metadata": {},
   "outputs": [
    {
     "name": "stdout",
     "output_type": "stream",
     "text": [
      "Created input texts file 'input.json'.\n",
      "Created target layers file 'target.json'.\n"
     ]
    }
   ],
   "source": [
    "tester.save_input(overwrite=False)\n",
    "tester.save_target(overwrite=False)"
   ]
  },
  {
   "cell_type": "markdown",
   "metadata": {},
   "source": [
    "By default, the test data files are not overwritten."
   ]
  },
  {
   "cell_type": "code",
   "execution_count": 11,
   "metadata": {},
   "outputs": [
    {
     "name": "stdout",
     "output_type": "stream",
     "text": [
      "Input texts file 'input.json' already exists. Use 'overwrite=True' to overwrite.\n",
      "Target layers file 'target.json' already exists. Use 'overwrite=True' to overwrite.\n"
     ]
    }
   ],
   "source": [
    "tester.save_input()\n",
    "tester.save_target()"
   ]
  },
  {
   "cell_type": "markdown",
   "metadata": {},
   "source": [
    "The `run_tests` method runs all the tests up to the first failure. In case of failure, `run_tests` raises `AssertionError`."
   ]
  },
  {
   "cell_type": "code",
   "execution_count": 12,
   "metadata": {},
   "outputs": [
    {
     "name": "stdout",
     "output_type": "stream",
     "text": [
      "empty text PASSED\n",
      "simple PASSED\n"
     ]
    }
   ],
   "source": [
    "tester.run_tests()"
   ]
  },
  {
   "cell_type": "markdown",
   "metadata": {},
   "source": [
    "Change the `NumberTagger` by modifying its regex and create a new tagger instance."
   ]
  },
  {
   "cell_type": "code",
   "execution_count": 13,
   "metadata": {},
   "outputs": [],
   "source": [
    "class NumberTagger(Tagger):\n",
    "    \"\"\"Tags numbers.\n",
    "\n",
    "    \"\"\"\n",
    "    conf_param = ['regex']\n",
    "\n",
    "    def __init__(self,\n",
    "                 output_layer='numbers',\n",
    "                 output_attributes=(),\n",
    "                 input_layers=()           \n",
    "                ):\n",
    "        self.output_layer = output_layer\n",
    "        self.output_attributes = output_attributes\n",
    "        self.input_layers = input_layers\n",
    "        self.regex = re.compile('-?\\d')  # this regex is changed\n",
    "\n",
    "    def _make_layer(self, text, layers, status=None):\n",
    "        layer = Layer(self.output_layer, text_object=text)\n",
    "        for m in self.regex.finditer(text.text):\n",
    "            layer.add_annotation((m.start(), m.end()))\n",
    "        if isinstance(status, dict):\n",
    "            status['NumberTagger message'] = self.output_layer + ' layer created successfully'\n",
    "        return layer\n",
    "\n",
    "\n",
    "tagger = NumberTagger()"
   ]
  },
  {
   "cell_type": "markdown",
   "metadata": {},
   "source": [
    "Load the tester from the files."
   ]
  },
  {
   "cell_type": "code",
   "execution_count": 14,
   "metadata": {},
   "outputs": [],
   "source": [
    "tester = TaggerTester(tagger=tagger, input_file=input_file, target_file=target_file).load()"
   ]
  },
  {
   "cell_type": "markdown",
   "metadata": {},
   "source": [
    "Running the tests with the modified tagger raises the `AssertionError`."
   ]
  },
  {
   "cell_type": "code",
   "execution_count": 15,
   "metadata": {},
   "outputs": [
    {
     "name": "stdout",
     "output_type": "stream",
     "text": [
      "empty text PASSED\n",
      "simple FAILED\n",
      "error: simple\n"
     ]
    }
   ],
   "source": [
    "try:\n",
    "    tester.run_tests()\n",
    "except AssertionError as e:\n",
    "    print('error:', e)"
   ]
  },
  {
   "cell_type": "markdown",
   "metadata": {},
   "source": [
    "`inspect_tests` is a generator method of broken tests and `diagnose` method explains the problem (yes, it needs improvements)."
   ]
  },
  {
   "cell_type": "code",
   "execution_count": 16,
   "metadata": {},
   "outputs": [
    {
     "name": "stdout",
     "output_type": "stream",
     "text": [
      "simple\n",
      "numbers layer spans differ\n"
     ]
    }
   ],
   "source": [
    "for test in tester.inspect_tests():\n",
    "    print(test.annotation)\n",
    "    print(test.diagnose())"
   ]
  },
  {
   "cell_type": "code",
   "execution_count": 17,
   "metadata": {},
   "outputs": [
    {
     "data": {
      "text/html": [
       "<h3>Test</h3>\n",
       "simple\n",
       "<h4>Input text</h4>\n",
       "-12,3\n",
       "<h4>Expected layer</h4>\n",
       "<table border=\"1\" class=\"dataframe\">\n",
       "  <thead>\n",
       "    <tr style=\"text-align: right;\">\n",
       "      <th>layer name</th>\n",
       "      <th>attributes</th>\n",
       "      <th>parent</th>\n",
       "      <th>enveloping</th>\n",
       "      <th>ambiguous</th>\n",
       "      <th>span count</th>\n",
       "    </tr>\n",
       "  </thead>\n",
       "  <tbody>\n",
       "    <tr>\n",
       "      <td>numbers</td>\n",
       "      <td></td>\n",
       "      <td>None</td>\n",
       "      <td>None</td>\n",
       "      <td>False</td>\n",
       "      <td>2</td>\n",
       "    </tr>\n",
       "  </tbody>\n",
       "</table>\n",
       "<table border=\"1\" class=\"dataframe\">\n",
       "  <thead>\n",
       "    <tr style=\"text-align: right;\">\n",
       "      <th>text</th>\n",
       "      <th>start</th>\n",
       "      <th>end</th>\n",
       "    </tr>\n",
       "  </thead>\n",
       "  <tbody>\n",
       "    <tr>\n",
       "      <td>-12</td>\n",
       "      <td>0</td>\n",
       "      <td>3</td>\n",
       "    </tr>\n",
       "    <tr>\n",
       "      <td>3</td>\n",
       "      <td>4</td>\n",
       "      <td>5</td>\n",
       "    </tr>\n",
       "  </tbody>\n",
       "</table>"
      ],
      "text/plain": [
       "Test(simple, Text(text='-12,3'))"
      ]
     },
     "execution_count": 17,
     "metadata": {},
     "output_type": "execute_result"
    }
   ],
   "source": [
    "test"
   ]
  },
  {
   "cell_type": "markdown",
   "metadata": {},
   "source": [
    "Example test function in the `pytest` file."
   ]
  },
  {
   "cell_type": "code",
   "execution_count": 18,
   "metadata": {},
   "outputs": [],
   "source": [
    "def test_tagger():\n",
    "    input_file='input.json'\n",
    "    target_file='target.json'\n",
    "    tagger = NumberTagger()\n",
    "    tester = TaggerTester(tagger, input_file, target_file).load()\n",
    "    tester.run_tests()"
   ]
  },
  {
   "cell_type": "markdown",
   "metadata": {},
   "source": [
    "For real examples see [test data creation](../../dev_documentation/testing) and \n",
    "[test files](../../estnltk/tests/test_taggers/test_standard_taggers)."
   ]
  },
  {
   "cell_type": "markdown",
   "metadata": {},
   "source": [
    "Remove the test data files."
   ]
  },
  {
   "cell_type": "code",
   "execution_count": 19,
   "metadata": {},
   "outputs": [],
   "source": [
    "from os import remove\n",
    "\n",
    "remove(input_file)\n",
    "remove(target_file)"
   ]
  }
 ],
 "metadata": {
  "celltoolbar": "Raw Cell Format",
  "kernelspec": {
   "display_name": "Python 3",
   "language": "python",
   "name": "python3"
  },
  "language_info": {
   "codemirror_mode": {
    "name": "ipython",
    "version": 3
   },
   "file_extension": ".py",
   "mimetype": "text/x-python",
   "name": "python",
   "nbconvert_exporter": "python",
   "pygments_lexer": "ipython3",
   "version": "3.6.8"
  }
 },
 "nbformat": 4,
 "nbformat_minor": 2
}
