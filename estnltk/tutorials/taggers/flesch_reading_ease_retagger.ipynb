{
 "cells": [
  {
   "cell_type": "code",
   "execution_count": 1,
   "metadata": {
    "scrolled": false
   },
   "outputs": [
    {
     "name": "stdout",
     "output_type": "stream",
     "text": [
      "whole_text_flesch_score 115.13000000000002\n"
     ]
    },
    {
     "data": {
      "text/html": [
       "<h4>Layer</h4>\n",
       "<table border=\"1\" class=\"dataframe\">\n",
       "  <thead>\n",
       "    <tr style=\"text-align: right;\">\n",
       "      <th>layer name</th>\n",
       "      <th>attributes</th>\n",
       "      <th>parent</th>\n",
       "      <th>enveloping</th>\n",
       "      <th>ambiguous</th>\n",
       "      <th>span count</th>\n",
       "    </tr>\n",
       "  </thead>\n",
       "  <tbody>\n",
       "    <tr>\n",
       "      <td>sentences</td>\n",
       "      <td>flesch_score</td>\n",
       "      <td>None</td>\n",
       "      <td>words</td>\n",
       "      <td>False</td>\n",
       "      <td>3</td>\n",
       "    </tr>\n",
       "  </tbody>\n",
       "</table>\n",
       "<table border=\"1\" class=\"dataframe\">\n",
       "  <thead>\n",
       "    <tr style=\"text-align: right;\">\n",
       "      <th>text</th>\n",
       "      <th>flesch_score</th>\n",
       "    </tr>\n",
       "  </thead>\n",
       "  <tbody>\n",
       "    <tr>\n",
       "      <td>['Esimene', 'lause', '.']</td>\n",
       "      <td>156.36785714285713</td>\n",
       "    </tr>\n",
       "    <tr>\n",
       "      <td>['Teine', 'lause', '.']</td>\n",
       "      <td>169.445</td>\n",
       "    </tr>\n",
       "    <tr>\n",
       "      <td>['Kolmas', 'piklik', 'ja', 'käänuline', 'lause', '.']</td>\n",
       "      <td>141.2057142857143</td>\n",
       "    </tr>\n",
       "  </tbody>\n",
       "</table>"
      ],
      "text/plain": [
       "Layer(name=sentences, spans=SL[ES[Span(start=0, end=7, text='Esimene'),\n",
       "Span(start=8, end=13, text='lause'),\n",
       "Span(start=13, end=14, text='.')],\n",
       "ES[Span(start=15, end=20, text='Teine'),\n",
       "Span(start=21, end=26, text='lause'),\n",
       "Span(start=26, end=27, text='.')],\n",
       "ES[Span(start=28, end=34, text='Kolmas'),\n",
       "Span(start=35, end=41, text='piklik'),\n",
       "Span(start=42, end=44, text='ja'),\n",
       "Span(start=45, end=54, text='käänuline'),\n",
       "Span(start=55, end=60, text='lause'),\n",
       "Span(start=60, end=61, text='.')]])"
      ]
     },
     "execution_count": 1,
     "metadata": {},
     "output_type": "execute_result"
    }
   ],
   "source": [
    "from estnltk.taggers import SentenceFleschScoreRetagger\n",
    "from estnltk import Text\n",
    "\n",
    "# sample text\n",
    "text = Text('Esimene lause. Teine lause. Kolmas piklik ja käänuline lause.').tag_layer(['sentences'])\n",
    "\n",
    "# initialise the SentenceFleschScoreRetagger\n",
    "sentence_flesch_score_retagger = SentenceFleschScoreRetagger()\n",
    "\n",
    "# run the tagging\n",
    "sentence_flesch_score_retagger.retag(text)\n",
    "\n",
    "# print the wole text's flesch score\n",
    "print(\"whole_text_flesch_score\", text.meta['whole_text_flesch_score'])\n",
    "\n",
    "# show the layers\n",
    "text.sentences"
   ]
  }
 ],
 "metadata": {
  "kernelspec": {
   "display_name": "Python 3",
   "language": "python",
   "name": "python3"
  },
  "language_info": {
   "codemirror_mode": {
    "name": "ipython",
    "version": 3
   },
   "file_extension": ".py",
   "mimetype": "text/x-python",
   "name": "python",
   "nbconvert_exporter": "python",
   "pygments_lexer": "ipython3",
   "version": "3.5.6"
  }
 },
 "nbformat": 4,
 "nbformat_minor": 2
}
