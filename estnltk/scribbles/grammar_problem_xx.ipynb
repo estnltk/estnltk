{
 "cells": [
  {
   "cell_type": "code",
   "execution_count": 1,
   "metadata": {},
   "outputs": [],
   "source": [
    "import csv\n",
    "from collections import Counter\n",
    "import re\n",
    "from grammarextractor.taggers import RobustDateNumberTagger\n",
    "from estnltk.taggers import GapTagger\n",
    "from estnltk.finite_grammar import Rule, Grammar\n",
    "from estnltk.taggers import GrammarParsingTagger\n",
    "from estnltk.taggers import RegexTagger\n",
    "from estnltk import Text"
   ]
  },
  {
   "cell_type": "code",
   "execution_count": 2,
   "metadata": {},
   "outputs": [],
   "source": [
    "examples = [\n",
    "    '5 p',\n",
    "    '5 pos'\n",
    "]"
   ]
  },
  {
   "cell_type": "code",
   "execution_count": 3,
   "metadata": {},
   "outputs": [],
   "source": [
    "vocabulary = [\n",
    "{'grammar_symbol': 'NUMBER',\n",
    " 'regex_type': 'anynumber',\n",
    " '_regex_pattern_': r'(^|[^0-9.])([0-9]+(\\s?[,.]\\s?[0-9]+)?)',\n",
    " '_group_': 0,\n",
    " '_priority_': 1,\n",
    " '_validator_': lambda m: True,\n",
    " 'value': lambda m: re.sub('\\s?[.,]\\s?','.', m.group(2))},\n",
    "    \n",
    "   \n",
    "    {'grammar_symbol': 'POS',\n",
    " 'regex_type': 'pos',\n",
    " '_regex_pattern_': r'(POSITIVE|POSITIIVNE|POSIT|POS|[Pp]ositiivne|[Pp]osit|[Pp]os|\\+)',\n",
    " '_group_': 0,\n",
    " '_priority_': 0,\n",
    " '_validator_': lambda m: True,\n",
    " 'value': lambda m: m.group(0)}\n",
    "  \n",
    "]"
   ]
  },
  {
   "cell_type": "code",
   "execution_count": 4,
   "metadata": {},
   "outputs": [],
   "source": [
    "regex_tagger = RegexTagger(vocabulary=vocabulary,\n",
    "                              output_attributes=('grammar_symbol', 'regex_type', 'value', '_priority_'),\n",
    "                              conflict_resolving_strategy='MAX',\n",
    "                              priority_attribute='_priority_',\n",
    "                              overlapped=True,\n",
    "                              ambiguous = True,\n",
    "                              output_layer='numbers')"
   ]
  },
  {
   "cell_type": "code",
   "execution_count": 5,
   "metadata": {},
   "outputs": [],
   "source": [
    "def trim(t:str) -> str:\n",
    "    return t.strip().strip(',').strip()"
   ]
  },
  {
   "cell_type": "code",
   "execution_count": 6,
   "metadata": {},
   "outputs": [],
   "source": [
    "gap_tagger = GapTagger(output_layer='gaps',\n",
    "                       input_layers=['numbers'],\n",
    "                       trim=trim)"
   ]
  },
  {
   "cell_type": "code",
   "execution_count": 7,
   "metadata": {},
   "outputs": [
    {
     "name": "stdout",
     "output_type": "stream",
     "text": [
      "5 p\n",
      "['5']\n",
      "----------------------\n",
      "5 pos\n",
      "['5', 'pos']\n",
      "----------------------\n"
     ]
    }
   ],
   "source": [
    "for ex in examples:\n",
    "    text = Text(ex)\n",
    "    regex_tagger.tag(text)\n",
    "    print(text.text)\n",
    "    print(text.numbers.text)\n",
    "    print('----------------------')"
   ]
  },
  {
   "cell_type": "code",
   "execution_count": 8,
   "metadata": {},
   "outputs": [],
   "source": [
    "grammar = Grammar(start_symbols=['MEASUREMENT', 'EVAL_MEASUREMENT'], \n",
    "                  legal_attributes=('TYPE',) # the default\n",
    "                  )"
   ]
  },
  {
   "cell_type": "code",
   "execution_count": 9,
   "metadata": {},
   "outputs": [],
   "source": [
    "def dec1(nodes):\n",
    "    return {'TYPE': 'MEASUREMENT'}"
   ]
  },
  {
   "cell_type": "code",
   "execution_count": 10,
   "metadata": {},
   "outputs": [],
   "source": [
    "def dec2(nodes):\n",
    "    return {'TYPE': 'EVAL_MEASUREMENT'}"
   ]
  },
  {
   "cell_type": "code",
   "execution_count": 11,
   "metadata": {},
   "outputs": [],
   "source": [
    "grammar.add_rule('NUM', 'NUMBER',  group = 'g0', priority = 1, decorator = dec1)\n",
    "grammar.add_rule('NUM', 'NUMBER2',  group = 'g0', priority = 1, decorator = dec1)\n",
    "grammar.add_rule('NUM', 'NUMBER3',  group = 'g0', priority = 1, decorator = dec1)\n",
    "grammar.add_rule('MEASUREMENT', 'NUM',  group = 'g0', priority = 1, decorator = dec1)\n",
    "grammar.add_rule('EVAL_MEASUREMENT', 'NUM POS',  group = 'g0', priority = 0, decorator = dec2)"
   ]
  },
  {
   "cell_type": "code",
   "execution_count": 12,
   "metadata": {},
   "outputs": [],
   "source": [
    "gram_tagger = GrammarParsingTagger(grammar=grammar,\n",
    "                              layer_of_tokens='numbers',\n",
    "                              layer_name='measurements', \n",
    "                              output_ambiguous=True, # default False, True recommended\n",
    "                                   attributes = ('TYPE', )\n",
    "                              )"
   ]
  },
  {
   "cell_type": "code",
   "execution_count": 13,
   "metadata": {},
   "outputs": [],
   "source": [
    "gram_tagged = []\n",
    "for ex in examples:\n",
    "    ex = Text(ex)\n",
    "    regex_tagger.tag(ex)\n",
    "    gap_tagger.tag(ex)\n",
    "    gram_tagger.tag(ex)\n",
    "    gram_tagged.append(ex)"
   ]
  },
  {
   "cell_type": "code",
   "execution_count": 14,
   "metadata": {},
   "outputs": [
    {
     "data": {
      "text/html": [
       "<h4>Layer</h4>\n",
       "<table border=\"1\" class=\"dataframe\">\n",
       "  <thead>\n",
       "    <tr style=\"text-align: right;\">\n",
       "      <th>layer name</th>\n",
       "      <th>attributes</th>\n",
       "      <th>parent</th>\n",
       "      <th>enveloping</th>\n",
       "      <th>ambiguous</th>\n",
       "      <th>span count</th>\n",
       "    </tr>\n",
       "  </thead>\n",
       "  <tbody>\n",
       "    <tr>\n",
       "      <td>numbers</td>\n",
       "      <td>grammar_symbol, regex_type, value, _priority_</td>\n",
       "      <td>None</td>\n",
       "      <td>None</td>\n",
       "      <td>True</td>\n",
       "      <td>1</td>\n",
       "    </tr>\n",
       "  </tbody>\n",
       "</table>\n",
       "<table border=\"1\" class=\"dataframe\">\n",
       "  <thead>\n",
       "    <tr style=\"text-align: right;\">\n",
       "      <th>text</th>\n",
       "      <th>grammar_symbol</th>\n",
       "      <th>regex_type</th>\n",
       "      <th>value</th>\n",
       "      <th>_priority_</th>\n",
       "    </tr>\n",
       "  </thead>\n",
       "  <tbody>\n",
       "    <tr>\n",
       "      <td>5</td>\n",
       "      <td>NUMBER</td>\n",
       "      <td>anynumber</td>\n",
       "      <td>5</td>\n",
       "      <td>1</td>\n",
       "    </tr>\n",
       "  </tbody>\n",
       "</table>"
      ],
      "text/plain": [
       "Layer(name=numbers, spans=SL[AS[Span(5, {'_priority_': 1, 'grammar_symbol': 'NUMBER', 'regex_type': 'anynumber', 'value': '5'})]])"
      ]
     },
     "execution_count": 14,
     "metadata": {},
     "output_type": "execute_result"
    }
   ],
   "source": [
    "gram_tagged[0].numbers"
   ]
  },
  {
   "cell_type": "code",
   "execution_count": 15,
   "metadata": {
    "scrolled": true
   },
   "outputs": [
    {
     "data": {
      "text/html": [
       "<h4>Layer</h4>\n",
       "<table border=\"1\" class=\"dataframe\">\n",
       "  <thead>\n",
       "    <tr style=\"text-align: right;\">\n",
       "      <th>layer name</th>\n",
       "      <th>attributes</th>\n",
       "      <th>parent</th>\n",
       "      <th>enveloping</th>\n",
       "      <th>ambiguous</th>\n",
       "      <th>span count</th>\n",
       "    </tr>\n",
       "  </thead>\n",
       "  <tbody>\n",
       "    <tr>\n",
       "      <td>measurements</td>\n",
       "      <td>TYPE</td>\n",
       "      <td>None</td>\n",
       "      <td>numbers</td>\n",
       "      <td>True</td>\n",
       "      <td>1</td>\n",
       "    </tr>\n",
       "  </tbody>\n",
       "</table>\n",
       "<table border=\"1\" class=\"dataframe\">\n",
       "  <thead>\n",
       "    <tr style=\"text-align: right;\">\n",
       "      <th>text</th>\n",
       "      <th>TYPE</th>\n",
       "    </tr>\n",
       "  </thead>\n",
       "  <tbody>\n",
       "    <tr>\n",
       "      <td>['5']</td>\n",
       "      <td>MEASUREMENT</td>\n",
       "    </tr>\n",
       "  </tbody>\n",
       "</table>"
      ],
      "text/plain": [
       "Layer(name=measurements, spans=SL[AS[ES[AS[Span(5, {'_priority_': 1, 'grammar_symbol': 'NUMBER', 'regex_type': 'anynumber', 'value': '5'})]]]])"
      ]
     },
     "execution_count": 15,
     "metadata": {},
     "output_type": "execute_result"
    }
   ],
   "source": [
    "gram_tagged[0].measurements"
   ]
  },
  {
   "cell_type": "code",
   "execution_count": 16,
   "metadata": {},
   "outputs": [
    {
     "data": {
      "text/html": [
       "<h4>Layer</h4>\n",
       "<table border=\"1\" class=\"dataframe\">\n",
       "  <thead>\n",
       "    <tr style=\"text-align: right;\">\n",
       "      <th>layer name</th>\n",
       "      <th>attributes</th>\n",
       "      <th>parent</th>\n",
       "      <th>enveloping</th>\n",
       "      <th>ambiguous</th>\n",
       "      <th>span count</th>\n",
       "    </tr>\n",
       "  </thead>\n",
       "  <tbody>\n",
       "    <tr>\n",
       "      <td>numbers</td>\n",
       "      <td>grammar_symbol, regex_type, value, _priority_</td>\n",
       "      <td>None</td>\n",
       "      <td>None</td>\n",
       "      <td>True</td>\n",
       "      <td>2</td>\n",
       "    </tr>\n",
       "  </tbody>\n",
       "</table>\n",
       "<table border=\"1\" class=\"dataframe\">\n",
       "  <thead>\n",
       "    <tr style=\"text-align: right;\">\n",
       "      <th>text</th>\n",
       "      <th>grammar_symbol</th>\n",
       "      <th>regex_type</th>\n",
       "      <th>value</th>\n",
       "      <th>_priority_</th>\n",
       "    </tr>\n",
       "  </thead>\n",
       "  <tbody>\n",
       "    <tr>\n",
       "      <td>5</td>\n",
       "      <td>NUMBER</td>\n",
       "      <td>anynumber</td>\n",
       "      <td>5</td>\n",
       "      <td>1</td>\n",
       "    </tr>\n",
       "    <tr>\n",
       "      <td>pos</td>\n",
       "      <td>POS</td>\n",
       "      <td>pos</td>\n",
       "      <td>pos</td>\n",
       "      <td>0</td>\n",
       "    </tr>\n",
       "  </tbody>\n",
       "</table>"
      ],
      "text/plain": [
       "Layer(name=numbers, spans=SL[AS[Span(5, {'_priority_': 1, 'grammar_symbol': 'NUMBER', 'regex_type': 'anynumber', 'value': '5'})],\n",
       "AS[Span(pos, {'_priority_': 0, 'grammar_symbol': 'POS', 'regex_type': 'pos', 'value': 'pos'})]])"
      ]
     },
     "execution_count": 16,
     "metadata": {},
     "output_type": "execute_result"
    }
   ],
   "source": [
    "gram_tagged[1].numbers"
   ]
  },
  {
   "cell_type": "code",
   "execution_count": 17,
   "metadata": {},
   "outputs": [
    {
     "data": {
      "text/html": [
       "<h4>Layer</h4>\n",
       "<table border=\"1\" class=\"dataframe\">\n",
       "  <thead>\n",
       "    <tr style=\"text-align: right;\">\n",
       "      <th>layer name</th>\n",
       "      <th>attributes</th>\n",
       "      <th>parent</th>\n",
       "      <th>enveloping</th>\n",
       "      <th>ambiguous</th>\n",
       "      <th>span count</th>\n",
       "    </tr>\n",
       "  </thead>\n",
       "  <tbody>\n",
       "    <tr>\n",
       "      <td>measurements</td>\n",
       "      <td>TYPE</td>\n",
       "      <td>None</td>\n",
       "      <td>numbers</td>\n",
       "      <td>True</td>\n",
       "      <td>1</td>\n",
       "    </tr>\n",
       "  </tbody>\n",
       "</table>\n",
       "<table border=\"1\" class=\"dataframe\">\n",
       "  <thead>\n",
       "    <tr style=\"text-align: right;\">\n",
       "      <th>text</th>\n",
       "      <th>TYPE</th>\n",
       "    </tr>\n",
       "  </thead>\n",
       "  <tbody>\n",
       "    <tr>\n",
       "      <td>['5', 'pos']</td>\n",
       "      <td>EVAL_MEASUREMENT</td>\n",
       "    </tr>\n",
       "  </tbody>\n",
       "</table>"
      ],
      "text/plain": [
       "Layer(name=measurements, spans=SL[AS[ES[AS[Span(5, {'_priority_': 1, 'grammar_symbol': 'NUMBER', 'regex_type': 'anynumber', 'value': '5'})],\n",
       "AS[Span(pos, {'_priority_': 0, 'grammar_symbol': 'POS', 'regex_type': 'pos', 'value': 'pos'})]]]])"
      ]
     },
     "execution_count": 17,
     "metadata": {},
     "output_type": "execute_result"
    }
   ],
   "source": [
    "gram_tagged[1].measurements"
   ]
  },
  {
   "cell_type": "code",
   "execution_count": null,
   "metadata": {},
   "outputs": [],
   "source": []
  }
 ],
 "metadata": {
  "anaconda-cloud": {},
  "kernelspec": {
   "display_name": "Python 3",
   "language": "python",
   "name": "python3"
  },
  "language_info": {
   "codemirror_mode": {
    "name": "ipython",
    "version": 3
   },
   "file_extension": ".py",
   "mimetype": "text/x-python",
   "name": "python",
   "nbconvert_exporter": "python",
   "pygments_lexer": "ipython3",
   "version": "3.5.4"
  }
 },
 "nbformat": 4,
 "nbformat_minor": 2
}
