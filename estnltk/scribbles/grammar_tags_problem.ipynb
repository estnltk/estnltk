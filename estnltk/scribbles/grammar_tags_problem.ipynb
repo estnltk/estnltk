{
 "cells": [
  {
   "cell_type": "code",
   "execution_count": 1,
   "metadata": {},
   "outputs": [],
   "source": [
    "from estnltk import Text\n",
    "\n",
    "from pandas import read_csv\n",
    "from estnltk.taggers import RegexTagger\n",
    "\n",
    "from estnltk.spans import Span, SpanList\n",
    "from estnltk.layer import Layer\n",
    "from estnltk.finite_grammar.layer_graph import print_nodes\n",
    "import csv\n",
    "from estnltk.finite_grammar import PhraseListTagger\n",
    "\n",
    "from estnltk.taggers import GapTagger\n",
    "from estnltk.taggers import EnvelopingGapTagger\n",
    "from estnltk.taggers import MergeTagger\n",
    "\n",
    "from estnltk.layer_operations.flatten import flatten\n",
    "\n",
    "from estnltk.finite_grammar.layer_graph import layer_to_graph, plot_graph\n",
    "from estnltk.finite_grammar.grammar import parse_graph\n",
    "\n",
    "import re"
   ]
  },
  {
   "cell_type": "code",
   "execution_count": 2,
   "metadata": {},
   "outputs": [],
   "source": [
    "specification = [\n",
    "    ('parem',),\n",
    "    ('vasak',), \n",
    "    ('eesmine',),\n",
    "    ('tagumine',),\n",
    "    ('külgmine',)\n",
    "    ]"
   ]
  },
  {
   "cell_type": "code",
   "execution_count": 3,
   "metadata": {},
   "outputs": [],
   "source": [
    "bodypart = [\n",
    "    ('neer',),\n",
    "    ('põlv',), \n",
    "    ('kops',),\n",
    "    ('aju',),\n",
    "    ('külgvatsake',)\n",
    "    ]"
   ]
  },
  {
   "cell_type": "code",
   "execution_count": 4,
   "metadata": {},
   "outputs": [],
   "source": [
    "def specification_decorator(text, span, phrase):\n",
    "    return {'match': phrase, 'grammar_symbol': 'SPECIFICATION', \n",
    "            'form': str(span.form), 'partofspeech': str(span.partofspeech)}"
   ]
  },
  {
   "cell_type": "code",
   "execution_count": 5,
   "metadata": {},
   "outputs": [],
   "source": [
    "specification_tagger = PhraseListTagger(layer_name='specification',\n",
    "                              input_layer = 'morph_analysis',\n",
    "                               input_attribute='lemma',\n",
    "                             phrase_list=specification,\n",
    "                               decorator = specification_decorator,\n",
    "                             attributes=('match', 'grammar_symbol', 'form', 'partofspeech'),\n",
    "                             conflict_resolving_strategy= 'MAX'\n",
    "                              )"
   ]
  },
  {
   "cell_type": "code",
   "execution_count": 6,
   "metadata": {},
   "outputs": [],
   "source": [
    "def bodypart_decorator(text, span, phrase):\n",
    "    return {'match': phrase, 'grammar_symbol': 'BODYPART', \n",
    "            'form': str(span.form), 'partofspeech': str(span.partofspeech)}"
   ]
  },
  {
   "cell_type": "code",
   "execution_count": 7,
   "metadata": {},
   "outputs": [],
   "source": [
    "bodypart_tagger = PhraseListTagger(layer_name='bodypart',\n",
    "                              input_layer = 'morph_analysis',\n",
    "                               input_attribute='lemma',\n",
    "                             phrase_list=bodypart,\n",
    "                               decorator = bodypart_decorator,\n",
    "                             attributes=('match', 'grammar_symbol', 'form', 'partofspeech'),\n",
    "                             conflict_resolving_strategy= 'MAX'\n",
    "                              )"
   ]
  },
  {
   "cell_type": "code",
   "execution_count": 8,
   "metadata": {},
   "outputs": [],
   "source": [
    "taggers = {}\n",
    "taggers['bodypart_tagger'] = bodypart_tagger\n",
    "#taggers['location_tagger'] = location_tagger\n",
    "taggers['specification_tagger'] = specification_tagger"
   ]
  },
  {
   "cell_type": "code",
   "execution_count": 9,
   "metadata": {},
   "outputs": [],
   "source": [
    "def gaps_decorator(text:str):\n",
    "    return {'gap_length':len(text), 'grammar_symbol': 'RANDOM_TEXT'}"
   ]
  },
  {
   "cell_type": "code",
   "execution_count": 10,
   "metadata": {},
   "outputs": [],
   "source": [
    "def trim(text):\n",
    "    t_1 = re.sub('\\s*', '', text)\n",
    "    t_1 = re.sub('\\s+(on|oli)\\s+', '', t_1)\n",
    "    \n",
    "    return t_1"
   ]
  },
  {
   "cell_type": "code",
   "execution_count": 11,
   "metadata": {},
   "outputs": [],
   "source": [
    "gap_tagger = EnvelopingGapTagger(layer_name='gaps',\n",
    "                                 input_layers=['bodypart', \n",
    "                                               #'location_tagger',\n",
    "                                               'specification'\n",
    "                                              ],\n",
    "                                 enveloped_layer='morph_analysis',\n",
    "                                 decorator=gaps_decorator,\n",
    "                                 attributes=['grammar_symbol'])"
   ]
  },
  {
   "cell_type": "code",
   "execution_count": 12,
   "metadata": {},
   "outputs": [],
   "source": [
    "merge_tagger = MergeTagger(layer_name='grammar_tags',\n",
    "                           input_layers=['bodypart',\n",
    "                                       #'location_tagger',\n",
    "                                         'specification',\n",
    "                                      'gaps'],\n",
    "                           attributes=('grammar_symbol', 'value', 'form', 'partofspeech'))"
   ]
  },
  {
   "cell_type": "code",
   "execution_count": 13,
   "metadata": {},
   "outputs": [],
   "source": [
    "def tag_sent(sent):\n",
    "    sent = Text(sent)\n",
    "    sent.analyse('morphology')\n",
    "    for tagger in taggers:\n",
    "        taggers[tagger].tag(sent)\n",
    "        #temp_layer = taggers[tagger].tag(sent, return_layer = True)\n",
    "        #sent[tagger] = flatten(temp_layer, tagger)\n",
    "        #sent[tagger] = temp_layer\n",
    "    gap_tagger.tag(sent)\n",
    "    merge_tagger.tag(sent)\n",
    "    return sent"
   ]
  },
  {
   "cell_type": "code",
   "execution_count": 14,
   "metadata": {},
   "outputs": [],
   "source": [
    "i = 'vasakus põlves valu'"
   ]
  },
  {
   "cell_type": "code",
   "execution_count": 15,
   "metadata": {},
   "outputs": [],
   "source": [
    "j = tag_sent(i)"
   ]
  },
  {
   "cell_type": "code",
   "execution_count": 16,
   "metadata": {},
   "outputs": [
    {
     "data": {
      "text/html": [
       "<table border=\"1\" class=\"dataframe\">\n",
       "  <thead>\n",
       "    <tr style=\"text-align: right;\">\n",
       "      <th>text</th>\n",
       "    </tr>\n",
       "  </thead>\n",
       "  <tbody>\n",
       "    <tr>\n",
       "      <td>vasakus põlves valu</td>\n",
       "    </tr>\n",
       "  </tbody>\n",
       "</table>\n",
       "<table border=\"1\" class=\"dataframe\">\n",
       "  <thead>\n",
       "    <tr style=\"text-align: right;\">\n",
       "      <th>layer name</th>\n",
       "      <th>attributes</th>\n",
       "      <th>parent</th>\n",
       "      <th>enveloping</th>\n",
       "      <th>ambiguous</th>\n",
       "      <th>span count</th>\n",
       "    </tr>\n",
       "  </thead>\n",
       "  <tbody>\n",
       "    <tr>\n",
       "      <td>sentences</td>\n",
       "      <td></td>\n",
       "      <td>None</td>\n",
       "      <td>words</td>\n",
       "      <td>False</td>\n",
       "      <td>1</td>\n",
       "    </tr>\n",
       "    <tr>\n",
       "      <td>words</td>\n",
       "      <td>normalized_form</td>\n",
       "      <td>None</td>\n",
       "      <td>None</td>\n",
       "      <td>False</td>\n",
       "      <td>3</td>\n",
       "    </tr>\n",
       "    <tr>\n",
       "      <td>morph_analysis</td>\n",
       "      <td>lemma, root, root_tokens, ending, clitic, form, partofspeech</td>\n",
       "      <td>words</td>\n",
       "      <td>None</td>\n",
       "      <td>True</td>\n",
       "      <td>3</td>\n",
       "    </tr>\n",
       "    <tr>\n",
       "      <td>bodypart</td>\n",
       "      <td>match, grammar_symbol, form, partofspeech</td>\n",
       "      <td>None</td>\n",
       "      <td>morph_analysis</td>\n",
       "      <td>False</td>\n",
       "      <td>1</td>\n",
       "    </tr>\n",
       "    <tr>\n",
       "      <td>gaps</td>\n",
       "      <td>grammar_symbol</td>\n",
       "      <td>None</td>\n",
       "      <td>morph_analysis</td>\n",
       "      <td>False</td>\n",
       "      <td>1</td>\n",
       "    </tr>\n",
       "    <tr>\n",
       "      <td>grammar_tags</td>\n",
       "      <td>grammar_symbol, value, form, partofspeech</td>\n",
       "      <td>None</td>\n",
       "      <td>morph_analysis</td>\n",
       "      <td>False</td>\n",
       "      <td>3</td>\n",
       "    </tr>\n",
       "    <tr>\n",
       "      <td>specification</td>\n",
       "      <td>match, grammar_symbol, form, partofspeech</td>\n",
       "      <td>None</td>\n",
       "      <td>morph_analysis</td>\n",
       "      <td>False</td>\n",
       "      <td>1</td>\n",
       "    </tr>\n",
       "  </tbody>\n",
       "</table>"
      ],
      "text/plain": [
       "Text(text=\"vasakus põlves valu\")"
      ]
     },
     "execution_count": 16,
     "metadata": {},
     "output_type": "execute_result"
    }
   ],
   "source": [
    "j"
   ]
  },
  {
   "cell_type": "code",
   "execution_count": 17,
   "metadata": {},
   "outputs": [
    {
     "data": {
      "text/html": [
       "<h4>SpanList</h4>\n",
       "<table border=\"1\" class=\"dataframe\">\n",
       "  <thead>\n",
       "    <tr style=\"text-align: right;\">\n",
       "      <th>layer name</th>\n",
       "      <th>attributes</th>\n",
       "      <th>parent</th>\n",
       "      <th>enveloping</th>\n",
       "      <th>ambiguous</th>\n",
       "      <th>span count</th>\n",
       "    </tr>\n",
       "  </thead>\n",
       "  <tbody>\n",
       "    <tr>\n",
       "      <td>grammar_tags</td>\n",
       "      <td>grammar_symbol, value, form, partofspeech</td>\n",
       "      <td>None</td>\n",
       "      <td>morph_analysis</td>\n",
       "      <td>False</td>\n",
       "      <td>3</td>\n",
       "    </tr>\n",
       "  </tbody>\n",
       "</table>\n",
       "<table border=\"1\" class=\"dataframe\">\n",
       "  <thead>\n",
       "    <tr style=\"text-align: right;\">\n",
       "      <th>text</th>\n",
       "      <th>start</th>\n",
       "      <th>end</th>\n",
       "      <th>grammar_symbol</th>\n",
       "      <th>value</th>\n",
       "      <th>form</th>\n",
       "      <th>partofspeech</th>\n",
       "    </tr>\n",
       "  </thead>\n",
       "  <tbody>\n",
       "    <tr>\n",
       "      <td><b>vasakus</b></td>\n",
       "      <td>0</td>\n",
       "      <td>7</td>\n",
       "      <td>SPECIFICATION</td>\n",
       "      <td>None</td>\n",
       "      <td>[['sg in']]</td>\n",
       "      <td>[['A']]</td>\n",
       "    </tr>\n",
       "    <tr>\n",
       "      <td><b>põlves</b></td>\n",
       "      <td>8</td>\n",
       "      <td>14</td>\n",
       "      <td>BODYPART</td>\n",
       "      <td>None</td>\n",
       "      <td>[['sg in', 'sg in']]</td>\n",
       "      <td>[['S', 'S']]</td>\n",
       "    </tr>\n",
       "    <tr>\n",
       "      <td><b>valu</b></td>\n",
       "      <td>15</td>\n",
       "      <td>19</td>\n",
       "      <td>RANDOM_TEXT</td>\n",
       "      <td>None</td>\n",
       "      <td>None</td>\n",
       "      <td>None</td>\n",
       "    </tr>\n",
       "  </tbody>\n",
       "</table>"
      ],
      "text/plain": [
       "SL[SL[SL[Span(vasakus, {'clitic': '', 'ending': 's', 'form': 'sg in', 'lemma': 'vasak', 'partofspeech': 'A', 'root': 'vasak', 'root_tokens': ('vasak',)})]],\n",
       "SL[SL[Span(põlves, {'clitic': '', 'ending': 's', 'form': 'sg in', 'lemma': 'põli', 'partofspeech': 'S', 'root': 'põli', 'root_tokens': ('põli',)}),\n",
       "Span(põlves, {'clitic': '', 'ending': 's', 'form': 'sg in', 'lemma': 'põlv', 'partofspeech': 'S', 'root': 'põlv', 'root_tokens': ('põlv',)})]],\n",
       "SL[SL[Span(valu, {'clitic': '', 'ending': '0', 'form': 'sg p', 'lemma': 'valu', 'partofspeech': 'S', 'root': 'valu', 'root_tokens': ('valu',)})]]]"
      ]
     },
     "execution_count": 17,
     "metadata": {},
     "output_type": "execute_result"
    }
   ],
   "source": [
    "j.grammar_tags"
   ]
  },
  {
   "cell_type": "code",
   "execution_count": 18,
   "metadata": {},
   "outputs": [],
   "source": [
    "graph = layer_to_graph(j['grammar_tags'])"
   ]
  },
  {
   "cell_type": "code",
   "execution_count": 19,
   "metadata": {},
   "outputs": [
    {
     "data": {
      "text/plain": [
       "<estnltk.finite_grammar.layer_graph.LayerGraph at 0x7f70481d8710>"
      ]
     },
     "execution_count": 19,
     "metadata": {},
     "output_type": "execute_result"
    }
   ],
   "source": [
    "graph"
   ]
  },
  {
   "cell_type": "code",
   "execution_count": 20,
   "metadata": {
    "scrolled": true
   },
   "outputs": [
    {
     "data": {
      "image/png": "[encoded data removed]",
      "text/plain": [
       "<matplotlib.figure.Figure at 0x7f704803e630>"
      ]
     },
     "metadata": {},
     "output_type": "display_data"
    }
   ],
   "source": [
    "plot_graph(graph)"
   ]
  },
  {
   "cell_type": "code",
   "execution_count": 21,
   "metadata": {},
   "outputs": [
    {
     "data": {
      "text/plain": [
       "\n",
       "Grammar:\n",
       "\tstart: COMP_MAIN\n",
       "\tterminals: BODYPART, SPECIFICATION\n",
       "\tnonterminals: COMPLEMENT, COMP_MAIN, MAIN\n",
       "\tlegal attributes: frozenset({'form', 'type'})\n",
       "\tmax_depth: 4\n",
       "Rules:\n",
       "\tCOMPLEMENT -> SPECIFICATION\t: 0, val: default_validator, dec: default_decorator\n",
       "\tMAIN -> BODYPART\t: 1, val: default_validator, dec: default_decorator\n",
       "\tCOMP_MAIN -> COMPLEMENT MAIN\t: 0, val: default_validator, dec: default_decorator"
      ]
     },
     "execution_count": 21,
     "metadata": {},
     "output_type": "execute_result"
    }
   ],
   "source": [
    "from estnltk.finite_grammar.grammar import Rule, Grammar\n",
    "\n",
    "rules = []\n",
    "\n",
    "\n",
    "\n",
    "rules.append(Rule('COMPLEMENT', 'SPECIFICATION'))\n",
    "\n",
    "\n",
    "rules.append(Rule('MAIN', 'BODYPART', group = 'g1', priority = 1))\n",
    "\n",
    "\n",
    "\n",
    "rules.append(Rule('COMP_MAIN', 'COMPLEMENT MAIN'))#, decorator = complement_decorator))\n",
    "\n",
    "\n",
    "grammar = Grammar(start_symbols=['COMP_MAIN'\n",
    "                                \n",
    "                                ], rules=rules, max_depth = 4, \n",
    "                 legal_attributes=['form', 'type'])\n",
    "grammar\n"
   ]
  },
  {
   "cell_type": "code",
   "execution_count": 22,
   "metadata": {},
   "outputs": [],
   "source": [
    "graph = layer_to_graph(j['grammar_tags'])"
   ]
  },
  {
   "cell_type": "code",
   "execution_count": 23,
   "metadata": {},
   "outputs": [
    {
     "data": {
      "text/plain": [
       "<estnltk.finite_grammar.layer_graph.LayerGraph at 0x7f7048148278>"
      ]
     },
     "execution_count": 23,
     "metadata": {},
     "output_type": "execute_result"
    }
   ],
   "source": [
    "parse_graph(graph, grammar, 4)"
   ]
  },
  {
   "cell_type": "code",
   "execution_count": 24,
   "metadata": {
    "scrolled": true
   },
   "outputs": [
    {
     "data": {
      "image/png": "[encoded data removed]",
      "text/plain": [
       "<matplotlib.figure.Figure at 0x7f7040080978>"
      ]
     },
     "metadata": {},
     "output_type": "display_data"
    }
   ],
   "source": [
    "plot_graph(graph)"
   ]
  },
  {
   "cell_type": "code",
   "execution_count": 25,
   "metadata": {},
   "outputs": [
    {
     "name": "stdout",
     "output_type": "stream",
     "text": [
      "name                text                form                partofspeech        type                \n",
      "\n",
      "COMPLEMENT          vasakus                                                                         \n",
      "COMP_MAIN           vasakus põlves                                                                  \n",
      "RANDOM_TEXT         valu                None                None                                    \n"
     ]
    }
   ],
   "source": [
    "print_nodes(graph, j, \n",
    "        names={'COMP_MAIN', 'RANDOM_TEXT', 'COMPLEMENT', 'RANDOM_TEXT'},\n",
    "        attributes=['name', 'text', 'form', 'partofspeech', 'type'])"
   ]
  },
  {
   "cell_type": "code",
   "execution_count": 26,
   "metadata": {},
   "outputs": [],
   "source": [
    "from estnltk.taggers.grammar_parsing.grammar_parsing_tagger import GrammarParsingTagger\n",
    "parsing_tagger = GrammarParsingTagger(layer_name='parse',\n",
    "                                      attributes=['form', 'type'],\n",
    "                                      layer_of_tokens='grammar_tags',\n",
    "                                      grammar=grammar,\n",
    "                                      output_nodes={'COMP_MAIN', 'COMPLEMENT', 'MAIN','RANDOM_TEXT'})"
   ]
  },
  {
   "cell_type": "code",
   "execution_count": 27,
   "metadata": {},
   "outputs": [
    {
     "data": {
      "text/html": [
       "<h4>SpanList</h4>\n",
       "<table border=\"1\" class=\"dataframe\">\n",
       "  <thead>\n",
       "    <tr style=\"text-align: right;\">\n",
       "      <th>layer name</th>\n",
       "      <th>attributes</th>\n",
       "      <th>parent</th>\n",
       "      <th>enveloping</th>\n",
       "      <th>ambiguous</th>\n",
       "      <th>span count</th>\n",
       "    </tr>\n",
       "  </thead>\n",
       "  <tbody>\n",
       "    <tr>\n",
       "      <td>parse</td>\n",
       "      <td>form, type</td>\n",
       "      <td>None</td>\n",
       "      <td>grammar_tags</td>\n",
       "      <td>False</td>\n",
       "      <td>4</td>\n",
       "    </tr>\n",
       "  </tbody>\n",
       "</table>\n",
       "<table border=\"1\" class=\"dataframe\">\n",
       "  <thead>\n",
       "    <tr style=\"text-align: right;\">\n",
       "      <th>text</th>\n",
       "      <th>start</th>\n",
       "      <th>end</th>\n",
       "      <th>form</th>\n",
       "      <th>type</th>\n",
       "    </tr>\n",
       "  </thead>\n",
       "  <tbody>\n",
       "    <tr>\n",
       "      <td><b>vasakus</b></td>\n",
       "      <td>0</td>\n",
       "      <td>7</td>\n",
       "      <td>None</td>\n",
       "      <td>None</td>\n",
       "    </tr>\n",
       "    <tr>\n",
       "      <td><b>vasakus</b> <b>põlves</b></td>\n",
       "      <td>0</td>\n",
       "      <td>14</td>\n",
       "      <td>None</td>\n",
       "      <td>None</td>\n",
       "    </tr>\n",
       "    <tr>\n",
       "      <td><b>põlves</b></td>\n",
       "      <td>8</td>\n",
       "      <td>14</td>\n",
       "      <td>None</td>\n",
       "      <td>None</td>\n",
       "    </tr>\n",
       "    <tr>\n",
       "      <td><b>valu</b></td>\n",
       "      <td>15</td>\n",
       "      <td>19</td>\n",
       "      <td>None</td>\n",
       "      <td>None</td>\n",
       "    </tr>\n",
       "  </tbody>\n",
       "</table>"
      ],
      "text/plain": [
       "SL[SL[SL[Span(vasakus, {'clitic': '', 'ending': 's', 'form': 'sg in', 'lemma': 'vasak', 'partofspeech': 'A', 'root': 'vasak', 'root_tokens': ('vasak',)})]],\n",
       "SL[SL[Span(vasakus, {'clitic': '', 'ending': 's', 'form': 'sg in', 'lemma': 'vasak', 'partofspeech': 'A', 'root': 'vasak', 'root_tokens': ('vasak',)})],\n",
       "SL[Span(põlves, {'clitic': '', 'ending': 's', 'form': 'sg in', 'lemma': 'põli', 'partofspeech': 'S', 'root': 'põli', 'root_tokens': ('põli',)}),\n",
       "Span(põlves, {'clitic': '', 'ending': 's', 'form': 'sg in', 'lemma': 'põlv', 'partofspeech': 'S', 'root': 'põlv', 'root_tokens': ('põlv',)})]],\n",
       "SL[SL[Span(põlves, {'clitic': '', 'ending': 's', 'form': 'sg in', 'lemma': 'põli', 'partofspeech': 'S', 'root': 'põli', 'root_tokens': ('põli',)}),\n",
       "Span(põlves, {'clitic': '', 'ending': 's', 'form': 'sg in', 'lemma': 'põlv', 'partofspeech': 'S', 'root': 'põlv', 'root_tokens': ('põlv',)})]],\n",
       "SL[SL[Span(valu, {'clitic': '', 'ending': '0', 'form': 'sg p', 'lemma': 'valu', 'partofspeech': 'S', 'root': 'valu', 'root_tokens': ('valu',)})]]]"
      ]
     },
     "execution_count": 27,
     "metadata": {},
     "output_type": "execute_result"
    }
   ],
   "source": [
    "parsing_tagger.tag(j)\n",
    "j.parse"
   ]
  }
 ],
 "metadata": {
  "anaconda-cloud": {},
  "kernelspec": {
   "display_name": "Python 3",
   "language": "python",
   "name": "python3"
  },
  "language_info": {
   "codemirror_mode": {
    "name": "ipython",
    "version": 3
   },
   "file_extension": ".py",
   "mimetype": "text/x-python",
   "name": "python",
   "nbconvert_exporter": "python",
   "pygments_lexer": "ipython3",
   "version": "3.5.4"
  }
 },
 "nbformat": 4,
 "nbformat_minor": 2
}
