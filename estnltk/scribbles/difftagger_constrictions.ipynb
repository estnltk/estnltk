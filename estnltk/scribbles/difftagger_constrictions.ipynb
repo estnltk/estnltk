{
 "cells": [
  {
   "cell_type": "markdown",
   "metadata": {},
   "source": [
    "## DiffTagger's constrictions"
   ]
  },
  {
   "cell_type": "code",
   "execution_count": 1,
   "metadata": {},
   "outputs": [],
   "source": [
    "# Download UD corpus from here:  https://github.com/UniversalDependencies/UD_Estonian-EDT\n",
    "import os, os.path\n",
    "ud_corpus_dir = \"UD_Estonian-EDT\"\n",
    "assert os.path.isdir( ud_corpus_dir )"
   ]
  },
  {
   "cell_type": "code",
   "execution_count": 2,
   "metadata": {},
   "outputs": [],
   "source": [
    "from estnltk import Text\n",
    "from estnltk.converters.conll_importer import conll_to_text"
   ]
  },
  {
   "cell_type": "code",
   "execution_count": 3,
   "metadata": {},
   "outputs": [],
   "source": [
    "# Initialize estnltk's taggers with custom layer names\n",
    "from estnltk.taggers import TokensTagger, CompoundTokenTagger, WordTagger, SentenceTokenizer\n",
    "\n",
    "tokens_tagger = TokensTagger(output_layer='estnltk_tokens')\n",
    "cp_tagger     = CompoundTokenTagger(output_layer='estnltk_compounds', \n",
    "                                    input_tokens_layer='estnltk_tokens')\n",
    "word_tagger = WordTagger(output_layer='estnltk_words', \n",
    "                         input_tokens_layer='estnltk_tokens', \n",
    "                         input_compound_tokens_layer='estnltk_compounds')\n",
    "sentence_tokenizer = SentenceTokenizer(output_layer='estnltk_sentences', \n",
    "                                       input_words_layer='estnltk_words', \n",
    "                                       input_compound_tokens_layer='estnltk_compounds')\n",
    "\n",
    "def add_estnltk_segmentation( text ):\n",
    "    tokens_tagger.tag(text)\n",
    "    cp_tagger.tag(text)\n",
    "    word_tagger.tag(text)\n",
    "    sentence_tokenizer.tag(text)"
   ]
  },
  {
   "cell_type": "code",
   "execution_count": 4,
   "metadata": {},
   "outputs": [
    {
     "data": {
      "text/html": [
       "<h4>Tagger</h4>\n",
       "Finds differences of input layers.\n",
       "<table border=\"1\" class=\"dataframe\">\n",
       "  <thead>\n",
       "    <tr style=\"text-align: right;\">\n",
       "      <th>name</th>\n",
       "      <th>output layer</th>\n",
       "      <th>output attributes</th>\n",
       "      <th>input layers</th>\n",
       "    </tr>\n",
       "  </thead>\n",
       "  <tbody>\n",
       "    <tr>\n",
       "      <td>DiffTagger</td>\n",
       "      <td>sentences_diff_layer</td>\n",
       "      <td>('input_layer_name', 'span_status')</td>\n",
       "      <td>('sentences', 'estnltk_sentences')</td>\n",
       "    </tr>\n",
       "  </tbody>\n",
       "</table>\n",
       "<h4>Configuration</h4>\n",
       "<table border=\"1\" class=\"dataframe\">\n",
       "  <tbody>\n",
       "    <tr>\n",
       "      <th>input_layer_attribute</th>\n",
       "      <td>input_layer_name</td>\n",
       "    </tr>\n",
       "    <tr>\n",
       "      <th>span_status_attribute</th>\n",
       "      <td>span_status</td>\n",
       "    </tr>\n",
       "    <tr>\n",
       "      <th>compare_function</th>\n",
       "      <td>&lt;function _operator.eq&gt;</td>\n",
       "    </tr>\n",
       "  </tbody>\n",
       "</table>"
      ],
      "text/plain": [
       "DiffTagger(input_layers=('sentences', 'estnltk_sentences'), output_layer=sentences_diff_layer, output_attributes=('input_layer_name', 'span_status'), input_layer_attribute=input_layer_name, span_status_attribute=span_status, compare_function=<function _operator.eq>)"
      ]
     },
     "execution_count": 4,
     "metadata": {},
     "output_type": "execute_result"
    }
   ],
   "source": [
    "# Initialize sentences difftagger\n",
    "from estnltk.taggers import DiffTagger\n",
    "\n",
    "sentences_diff_tagger = DiffTagger(layer_a='sentences',\n",
    "                         layer_b='estnltk_sentences',\n",
    "                         output_layer='sentences_diff_layer',\n",
    "                         output_attributes=('span_status', ),\n",
    "                         span_status_attribute='span_status')\n",
    "sentences_diff_tagger"
   ]
  },
  {
   "cell_type": "code",
   "execution_count": 5,
   "metadata": {},
   "outputs": [
    {
     "data": {
      "text/html": [
       "<h4>Tagger</h4>\n",
       "Finds differences of input layers.\n",
       "<table border=\"1\" class=\"dataframe\">\n",
       "  <thead>\n",
       "    <tr style=\"text-align: right;\">\n",
       "      <th>name</th>\n",
       "      <th>output layer</th>\n",
       "      <th>output attributes</th>\n",
       "      <th>input layers</th>\n",
       "    </tr>\n",
       "  </thead>\n",
       "  <tbody>\n",
       "    <tr>\n",
       "      <td>DiffTagger</td>\n",
       "      <td>words_diff_layer</td>\n",
       "      <td>('input_layer_name', 'span_status')</td>\n",
       "      <td>('words', 'estnltk_words')</td>\n",
       "    </tr>\n",
       "  </tbody>\n",
       "</table>\n",
       "<h4>Configuration</h4>\n",
       "<table border=\"1\" class=\"dataframe\">\n",
       "  <tbody>\n",
       "    <tr>\n",
       "      <th>input_layer_attribute</th>\n",
       "      <td>input_layer_name</td>\n",
       "    </tr>\n",
       "    <tr>\n",
       "      <th>span_status_attribute</th>\n",
       "      <td>span_status</td>\n",
       "    </tr>\n",
       "    <tr>\n",
       "      <th>compare_function</th>\n",
       "      <td>&lt;function _operator.eq&gt;</td>\n",
       "    </tr>\n",
       "  </tbody>\n",
       "</table>"
      ],
      "text/plain": [
       "DiffTagger(input_layers=('words', 'estnltk_words'), output_layer=words_diff_layer, output_attributes=('input_layer_name', 'span_status'), input_layer_attribute=input_layer_name, span_status_attribute=span_status, compare_function=<function _operator.eq>)"
      ]
     },
     "execution_count": 5,
     "metadata": {},
     "output_type": "execute_result"
    }
   ],
   "source": [
    "# Initialize words difftagger\n",
    "from estnltk.taggers import DiffTagger\n",
    "\n",
    "words_diff_tagger = DiffTagger(layer_a='words',\n",
    "                         layer_b='estnltk_words',\n",
    "                         output_layer='words_diff_layer',\n",
    "                         output_attributes=('span_status', ),\n",
    "                         span_status_attribute='span_status')\n",
    "words_diff_tagger"
   ]
  },
  {
   "cell_type": "code",
   "execution_count": 6,
   "metadata": {},
   "outputs": [
    {
     "name": "stdout",
     "output_type": "stream",
     "text": [
      "et_edt-ud-dev.conllu\n",
      "   dict_keys(['conll', 'sentences', 'words'])\n",
      "   Adding estnltk segmentation ...\n",
      "   Finding diffs ...\n"
     ]
    }
   ],
   "source": [
    "# Find differences between estnltk's and conllu's words and sentences\n",
    "words_diff_layer = None\n",
    "sentences_diff_layer = None\n",
    "for fname in sorted(os.listdir( ud_corpus_dir )):\n",
    "    if fname == 'et_edt-ud-dev.conllu':  # take the smallest file for testing\n",
    "        fpath = os.path.join(ud_corpus_dir, fname)\n",
    "        text = conll_to_text(file=fpath, syntax_layer='conll')\n",
    "        print (fname)\n",
    "        print('  ',text.layers)\n",
    "        print('   Adding estnltk segmentation ...')\n",
    "        add_estnltk_segmentation( text )\n",
    "        print('   Finding diffs ...')\n",
    "        status = {}\n",
    "        words_diff_layer = words_diff_tagger(text, status).words_diff_layer\n",
    "        status = {}\n",
    "        sentences_diff_layer = sentences_diff_tagger(text, status).sentences_diff_layer"
   ]
  },
  {
   "cell_type": "markdown",
   "metadata": {},
   "source": [
    "## Sentences diff"
   ]
  },
  {
   "cell_type": "code",
   "execution_count": 7,
   "metadata": {},
   "outputs": [
    {
     "data": {
      "text/plain": [
       "{'conflicts': 657,\n",
       " 'extra_annotations': 426,\n",
       " 'extra_spans': 426,\n",
       " 'missing_annotations': 563,\n",
       " 'missing_spans': 563,\n",
       " 'modified_spans': 0,\n",
       " 'overlapped': 98,\n",
       " 'prolonged': 470,\n",
       " 'shortened': 89,\n",
       " 'unchanged_annotations': 2562,\n",
       " 'unchanged_spans': 2562}"
      ]
     },
     "execution_count": 7,
     "metadata": {},
     "output_type": "execute_result"
    }
   ],
   "source": [
    "sentences_diff_layer.meta"
   ]
  },
  {
   "cell_type": "code",
   "execution_count": 8,
   "metadata": {},
   "outputs": [
    {
     "data": {
      "text/html": [
       "<h4>Layer</h4>\n",
       "\n",
       "\n",
       "<table border=\"1\" class=\"dataframe\">\n",
       "  <thead>\n",
       "    <tr style=\"text-align: right;\">\n",
       "      <th>layer name</th>\n",
       "      <th>attributes</th>\n",
       "      <th>parent</th>\n",
       "      <th>enveloping</th>\n",
       "      <th>ambiguous</th>\n",
       "      <th>span count</th>\n",
       "    </tr>\n",
       "  </thead>\n",
       "  <tbody>\n",
       "    <tr>\n",
       "      <td>sentences_diff_layer</td>\n",
       "      <td>input_layer_name, span_status</td>\n",
       "      <td>None</td>\n",
       "      <td>words</td>\n",
       "      <td>True</td>\n",
       "      <td>10</td>\n",
       "    </tr>\n",
       "  </tbody>\n",
       "</table>\n",
       "<table border=\"1\" class=\"dataframe\">\n",
       "  <thead>\n",
       "    <tr style=\"text-align: right;\">\n",
       "      <th>text</th>\n",
       "      <th>input_layer_name</th>\n",
       "      <th>span_status</th>\n",
       "    </tr>\n",
       "  </thead>\n",
       "  <tbody>\n",
       "    <tr>\n",
       "      <td>['Ainult', 'kaks', 'maali', '(', '\"', 'Astronoom', '\"', 'ja', '\"', 'Geograaf', ' ..., type: &lt;class 'list'&gt;, length: 20</td>\n",
       "      <td>estnltk_sentences</td>\n",
       "      <td>extra</td>\n",
       "    </tr>\n",
       "    <tr>\n",
       "      <td>['Ainult', 'kaks', 'maali', '(', '\"', 'Astronoom', '\"', 'ja', '\"', 'Geograaf', ' ..., type: &lt;class 'list'&gt;, length: 18</td>\n",
       "      <td>sentences</td>\n",
       "      <td>missing</td>\n",
       "    </tr>\n",
       "    <tr>\n",
       "      <td>['Kui', 'te', 'aga', 'mõtlete', '\"', 'Võluflöödile', '\"', ',', 'siis', 'selle',  ..., type: &lt;class 'list'&gt;, length: 31</td>\n",
       "      <td>estnltk_sentences</td>\n",
       "      <td>extra</td>\n",
       "    </tr>\n",
       "    <tr>\n",
       "      <td>['Kui', 'te', 'aga', 'mõtlete', '\"', 'Võluflöödile', '\"', ',', 'siis', 'selle',  ..., type: &lt;class 'list'&gt;, length: 29</td>\n",
       "      <td>sentences</td>\n",
       "      <td>missing</td>\n",
       "    </tr>\n",
       "    <tr>\n",
       "      <td>['Ma', 'ei', 'ütle', ',', 'et', 'Fellini', 'on', 'parim', ',', 'seal', 'on', 've ..., type: &lt;class 'list'&gt;, length: 55</td>\n",
       "      <td>estnltk_sentences</td>\n",
       "      <td>extra</td>\n",
       "    </tr>\n",
       "    <tr>\n",
       "      <td>['Ma', 'ei', 'ütle', ',', 'et', 'Fellini', 'on', 'parim', ',', 'seal', 'on', 've ..., type: &lt;class 'list'&gt;, length: 53</td>\n",
       "      <td>sentences</td>\n",
       "      <td>missing</td>\n",
       "    </tr>\n",
       "    <tr>\n",
       "      <td>['\"', 'Writing', 'to', 'Vermeer', '\"', 'esietendub', 'Amsterdamis', '1.', 'detse ..., type: &lt;class 'list'&gt;, length: 11</td>\n",
       "      <td>sentences</td>\n",
       "      <td>missing</td>\n",
       "    </tr>\n",
       "    <tr>\n",
       "      <td>['\"', 'Writing', 'to', 'Vermeer', '\"', 'esietendub', 'Amsterdamis', '1.', 'detsembril', '1999 .']</td>\n",
       "      <td>estnltk_sentences</td>\n",
       "      <td>extra</td>\n",
       "    </tr>\n",
       "    <tr>\n",
       "      <td>['Peter', 'Greenaway', 'internetis', ':']</td>\n",
       "      <td>sentences</td>\n",
       "      <td>missing</td>\n",
       "    </tr>\n",
       "    <tr>\n",
       "      <td>['Peter', 'Greenaway', 'internetis', ':', 'Peter', 'Greenaway', 'mängufilmid', ' ..., type: &lt;class 'list'&gt;, length: 114</td>\n",
       "      <td>estnltk_sentences</td>\n",
       "      <td>extra</td>\n",
       "    </tr>\n",
       "  </tbody>\n",
       "</table>"
      ],
      "text/plain": [
       "Layer(name='sentences_diff_layer', attributes=('input_layer_name', 'span_status'), spans=SL[EnvelopingSpan(['Ainult', 'kaks', 'maali', '(', '\"', 'Astronoom', '\"', 'ja', '\"', 'Geograaf', '\"', '--', 'H', '.', 'L', '.', ')', 'kujutavad', 'mehi', '.'], [{'input_layer_name': 'estnltk_sentences', 'span_status': 'extra'}]),\n",
       "EnvelopingSpan(['Ainult', 'kaks', 'maali', '(', '\"', 'Astronoom', '\"', 'ja', '\"', 'Geograaf', '\"', '--', 'H.', 'L.', ')', 'kujutavad', 'mehi', '.'], [{'input_layer_name': 'sentences', 'span_status': 'missing'}]),\n",
       "EnvelopingSpan(['Kui', 'te', 'aga', 'mõtlete', '\"', 'Võluflöödile', '\"', ',', 'siis', 'selle', 'idee', 'tuli', 'libretistilt', 'ja', 'teatriomanikult', '(', 'Emanuel', 'Schikaneder', '--', 'H', '.', 'L', '.', ')', ',', 'kes', 'tahtis', 'ise', 'mängida', 'Papagenot', '.'], [{'input_layer_name': 'estnltk_sentences', 'span_status': 'extra'}]),\n",
       "EnvelopingSpan(['Kui', 'te', 'aga', 'mõtlete', '\"', 'Võluflöödile', '\"', ',', 'siis', 'selle', 'idee', 'tuli', 'libretistilt', 'ja', 'teatriomanikult', '(', 'Emanuel', 'Schikaneder', '--', 'H.', 'L.', ')', ',', 'kes', 'tahtis', 'ise', 'mängida', 'Papagenot', '.'], [{'input_layer_name': 'sentences', 'span_status': 'missing'}]),\n",
       "EnvelopingSpan(['Ma', 'ei', 'ütle', ',', 'et', 'Fellini', 'on', 'parim', ',', 'seal', 'on', 'veel', 'Renoir', 'ja', 'Godard', ',', '\"', 'Möödunud', 'suvel', 'Marienbadis', '\"', ',', 'aga', 'Fellini', 'esindab', 'sellist', 'kujutlusvõimet', ',', 'mida', 'ma', 'tahan', 'veel', 'ja', 'veel', 'tundma', 'õppida', ',', 'ja', '\"', '8', '1', '/', '2', '\"', 'on', 'tõenäoliselt', 'parim', 'film', ',', 'mis', 'on', 'tehtud', 'filmi', 'tegemisest', '.'], [{'input_layer_name': 'estnltk_sentences', 'span_status': 'extra'}]),\n",
       "EnvelopingSpan(['Ma', 'ei', 'ütle', ',', 'et', 'Fellini', 'on', 'parim', ',', 'seal', 'on', 'veel', 'Renoir', 'ja', 'Godard', ',', '\"', 'Möödunud', 'suvel', 'Marienbadis', '\"', ',', 'aga', 'Fellini', 'esindab', 'sellist', 'kujutlusvõimet', ',', 'mida', 'ma', 'tahan', 'veel', 'ja', 'veel', 'tundma', 'õppida', ',', 'ja', '\"', '8', '1/2', '\"', 'on', 'tõenäoliselt', 'parim', 'film', ',', 'mis', 'on', 'tehtud', 'filmi', 'tegemisest', '.'], [{'input_layer_name': 'sentences', 'span_status': 'missing'}]),\n",
       "EnvelopingSpan(['\"', 'Writing', 'to', 'Vermeer', '\"', 'esietendub', 'Amsterdamis', '1.', 'detsembril', '1999', '.'], [{'input_layer_name': 'sentences', 'span_status': 'missing'}]),\n",
       "EnvelopingSpan(['\"', 'Writing', 'to', 'Vermeer', '\"', 'esietendub', 'Amsterdamis', '1.', 'detsembril', '1999 .'], [{'input_layer_name': 'estnltk_sentences', 'span_status': 'extra'}]),\n",
       "EnvelopingSpan(['Peter', 'Greenaway', 'internetis', ':'], [{'input_layer_name': 'sentences', 'span_status': 'missing'}]),\n",
       "EnvelopingSpan(['Peter', 'Greenaway', 'internetis', ':', 'Peter', 'Greenaway', 'mängufilmid', '1982', '\"', 'Joonistaja', 'leping', '\"', '1986', '\"', 'Z', 'ja', 'kaks', 'nulli', '\"', '1987', '\"', 'Arhitekti', 'kõht', '\"', '1988', '\"', 'Uppumised', 'järgemööda', '\"', '1989', '\"', 'Kokk', ',', 'varas', ',', 'tema', 'naine', 'ja', 'tolle', 'armuke', '\"', '1991', '\"', 'Prospero', 'raamatud', '\"', '1993', '\"', 'Maconi', 'laps', '\"', '1996', '\"', 'Padjaraamat', '\"', '1999', '\"', '8', '1', '/', '2', 'naist', '\"', 'See', 'väga', 'rahulik', 'mees', ',', 'kes', 'iial', 'häält', 'ei', 'tõsta', ',', 'kõndis', 'päev', 'otsa', 'stuudios', 'ringi', ',', 'kordagi', 'maha', 'istumata', 'ning', 'näis', ',', 'et', 'ta', 'töötab', 'sama', 'sujuvalt', 'koos', 'inglasest', 'helimehe', ',', 'prantslasest', 'valgustaja', 'ja', 'kogu', 'paljurahvuselise', 'võttegrupiga', 'ning', 'kõikvõimalikest', 'rahvustest', 'osatäitjatega', ',', 'kes', 'olid', 'isegi', 'ületunde', 'tehes', 'väga', 'sõnakuulelikud', '.'], [{'input_layer_name': 'estnltk_sentences', 'span_status': 'extra'}])])"
      ]
     },
     "execution_count": 8,
     "metadata": {},
     "output_type": "execute_result"
    }
   ],
   "source": [
    "sentences_diff_layer[0:10]"
   ]
  },
  {
   "cell_type": "code",
   "execution_count": 9,
   "metadata": {},
   "outputs": [
    {
     "name": "stdout",
     "output_type": "stream",
     "text": [
      "16\n"
     ]
    }
   ],
   "source": [
    "# Kuidas saada erinevustega elemendid originaal-kihtidest kätte? \n",
    "# Kusagil võiks olla toodud indeksid vms, praegu peab manuaalselt otsima ...\n",
    "for sid, s in enumerate( text.sentences ):\n",
    "    if s.enclosing_text.startswith('Ainult kaks maali'):\n",
    "        print (sid)"
   ]
  },
  {
   "cell_type": "code",
   "execution_count": 10,
   "metadata": {},
   "outputs": [
    {
     "name": "stdout",
     "output_type": "stream",
     "text": [
      "conllu:  Ainult kaks maali ( \" Astronoom \" ja \" Geograaf \" -- H. L. ) kujutavad mehi .\n",
      "estnltk: Ainult kaks maali ( \" Astronoom \" ja \" Geograaf \" -- H. L. ) kujutavad mehi .\n"
     ]
    },
    {
     "data": {
      "text/plain": [
       "True"
      ]
     },
     "execution_count": 10,
     "metadata": {},
     "output_type": "execute_result"
    }
   ],
   "source": [
    "# Antud laused paistavad võrdsed, praegu jääb arusaamatuks, miks loetakse erinevaks ...\n",
    "print('conllu: ', text.sentences[ 16 ].enclosing_text)\n",
    "print('estnltk:', text.estnltk_sentences[ 16 ].enclosing_text)\n",
    "text.sentences[ 16 ].enclosing_text == text.estnltk_sentences[ 16 ].enclosing_text"
   ]
  },
  {
   "cell_type": "code",
   "execution_count": 11,
   "metadata": {},
   "outputs": [
    {
     "name": "stdout",
     "output_type": "stream",
     "text": [
      "26\n",
      "conllu:  Kui te aga mõtlete \" Võluflöödile \" , siis selle idee tuli libretistilt ja teatriomanikult ( Emanuel Schikaneder -- H. L. ) , kes tahtis ise mängida Papagenot .\n",
      "estnltk: Kui te aga mõtlete \" Võluflöödile \" , siis selle idee tuli libretistilt ja teatriomanikult ( Emanuel Schikaneder -- H. L. ) , kes tahtis ise mängida Papagenot .\n"
     ]
    },
    {
     "data": {
      "text/plain": [
       "True"
      ]
     },
     "execution_count": 11,
     "metadata": {},
     "output_type": "execute_result"
    }
   ],
   "source": [
    "# Jälle sama lugu: laused sisuliselt võrdsed, praegu arusaamatu, milles erinevus ...\n",
    "for sid, s in enumerate( text.sentences ):\n",
    "    if s.enclosing_text.startswith('Kui te aga mõtlete'):\n",
    "        print (sid)\n",
    "\n",
    "print('conllu: ', text.sentences[ 26 ].enclosing_text)\n",
    "print('estnltk:', text.estnltk_sentences[ 26 ].enclosing_text)\n",
    "text.sentences[ 26 ].enclosing_text == text.estnltk_sentences[ 26 ].enclosing_text"
   ]
  },
  {
   "cell_type": "code",
   "execution_count": 12,
   "metadata": {},
   "outputs": [
    {
     "name": "stdout",
     "output_type": "stream",
     "text": [
      "['Ainult', 'kaks', 'maali', '(', '\"', 'Astronoom', '\"', 'ja', '\"', 'Geograaf', '\"', '--', 'H', '.', 'L', '.', ')', 'kujutavad', 'mehi', '.']\n",
      "['Ainult', 'kaks', 'maali', '(', '\"', 'Astronoom', '\"', 'ja', '\"', 'Geograaf', '\"', '--', 'H.', 'L.', ')', 'kujutavad', 'mehi', '.']\n"
     ]
    }
   ],
   "source": [
    "# Ok, nüüd sain aru, kus läheb \"lappama\"\n",
    "# Nimelt, sentences_diff_layer toetub 'words' kihile ning kui 'words' on erinev 'estnltk_words'-ist,\n",
    "# siis loetakse ka laused erinevateks, kuigi lausepiiride osas need ei pruugi erineda ...\n",
    "\n",
    "print ( text.estnltk_sentences[ 16 ].text )\n",
    "print ( text.sentences[ 16 ].text )"
   ]
  },
  {
   "cell_type": "code",
   "execution_count": 13,
   "metadata": {},
   "outputs": [],
   "source": [
    "#\n",
    "#  Kas selle vastu aitab, kui teha 'sentences' ja 'estnltk_sentences' mõlemad \n",
    "#  flat layer'iteks ja võrrelda alles siis omavahel ?\n",
    "#"
   ]
  },
  {
   "cell_type": "markdown",
   "metadata": {},
   "source": [
    "## Words diff"
   ]
  },
  {
   "cell_type": "code",
   "execution_count": 14,
   "metadata": {},
   "outputs": [
    {
     "data": {
      "text/plain": [
       "{'conflicts': 592,\n",
       " 'extra_annotations': 44616,\n",
       " 'extra_spans': 406,\n",
       " 'missing_annotations': 44632,\n",
       " 'missing_spans': 422,\n",
       " 'modified_spans': 44210,\n",
       " 'overlapped': 16,\n",
       " 'prolonged': 325,\n",
       " 'shortened': 251,\n",
       " 'unchanged_annotations': 0,\n",
       " 'unchanged_spans': 0}"
      ]
     },
     "execution_count": 14,
     "metadata": {},
     "output_type": "execute_result"
    }
   ],
   "source": [
    "words_diff_layer.meta"
   ]
  },
  {
   "cell_type": "code",
   "execution_count": 15,
   "metadata": {},
   "outputs": [
    {
     "name": "stdout",
     "output_type": "stream",
     "text": [
      "conllu words attributes:  ()\n",
      "estnltk words attributes: ('normalized_form',)\n"
     ]
    }
   ],
   "source": [
    "# Ok, üks erinevuste põhjus on, et conllu-l puudub atribuut normalized_form, aga \n",
    "# estnltk_words-il on see olemas:\n",
    "print ('conllu words attributes: ', text.words.attributes)\n",
    "print ('estnltk words attributes:', text.estnltk_words.attributes)\n",
    "# ... mis seletab kõrgeid 'modified_spans', 'extra_annotations' ja 'missing_annotations' arve."
   ]
  },
  {
   "cell_type": "code",
   "execution_count": 16,
   "metadata": {},
   "outputs": [
    {
     "name": "stdout",
     "output_type": "stream",
     "text": [
      "=============================================\n",
      "Conflicting pair:\n"
     ]
    },
    {
     "data": {
      "text/html": [
       "<b>Span</b>\n",
       "<table border=\"1\" class=\"dataframe\">\n",
       "  <thead>\n",
       "    <tr style=\"text-align: right;\">\n",
       "      <th>text</th>\n",
       "      <th>input_layer_name</th>\n",
       "      <th>span_status</th>\n",
       "    </tr>\n",
       "  </thead>\n",
       "  <tbody>\n",
       "    <tr>\n",
       "      <td><span style=\"font-family: monospace; white-space: pre-wrap;\"><span style=\"text-decoration: underline;\">H.</span></span></td>\n",
       "      <td>words</td>\n",
       "      <td>missing</td>\n",
       "    </tr>\n",
       "  </tbody>\n",
       "</table>"
      ],
      "text/plain": [
       "Span('H.', [{'input_layer_name': 'words', 'span_status': 'missing'}])"
      ]
     },
     "metadata": {},
     "output_type": "display_data"
    },
    {
     "data": {
      "text/html": [
       "<b>Span</b>\n",
       "<table border=\"1\" class=\"dataframe\">\n",
       "  <thead>\n",
       "    <tr style=\"text-align: right;\">\n",
       "      <th>text</th>\n",
       "      <th>input_layer_name</th>\n",
       "      <th>span_status</th>\n",
       "    </tr>\n",
       "  </thead>\n",
       "  <tbody>\n",
       "    <tr>\n",
       "      <td><span style=\"font-family: monospace; white-space: pre-wrap;\"><span style=\"text-decoration: underline;\">H</span></span></td>\n",
       "      <td>estnltk_words</td>\n",
       "      <td>extra</td>\n",
       "    </tr>\n",
       "  </tbody>\n",
       "</table>"
      ],
      "text/plain": [
       "Span('H', [{'input_layer_name': 'estnltk_words', 'span_status': 'extra'}])"
      ]
     },
     "metadata": {},
     "output_type": "display_data"
    },
    {
     "name": "stdout",
     "output_type": "stream",
     "text": [
      "=============================================\n",
      "Conflicting pair:\n"
     ]
    },
    {
     "data": {
      "text/html": [
       "<b>Span</b>\n",
       "<table border=\"1\" class=\"dataframe\">\n",
       "  <thead>\n",
       "    <tr style=\"text-align: right;\">\n",
       "      <th>text</th>\n",
       "      <th>input_layer_name</th>\n",
       "      <th>span_status</th>\n",
       "    </tr>\n",
       "  </thead>\n",
       "  <tbody>\n",
       "    <tr>\n",
       "      <td><span style=\"font-family: monospace; white-space: pre-wrap;\"><span style=\"text-decoration: underline;\">H.</span></span></td>\n",
       "      <td>words</td>\n",
       "      <td>missing</td>\n",
       "    </tr>\n",
       "  </tbody>\n",
       "</table>"
      ],
      "text/plain": [
       "Span('H.', [{'input_layer_name': 'words', 'span_status': 'missing'}])"
      ]
     },
     "metadata": {},
     "output_type": "display_data"
    },
    {
     "data": {
      "text/html": [
       "<b>Span</b>\n",
       "<table border=\"1\" class=\"dataframe\">\n",
       "  <thead>\n",
       "    <tr style=\"text-align: right;\">\n",
       "      <th>text</th>\n",
       "      <th>input_layer_name</th>\n",
       "      <th>span_status</th>\n",
       "    </tr>\n",
       "  </thead>\n",
       "  <tbody>\n",
       "    <tr>\n",
       "      <td><span style=\"font-family: monospace; white-space: pre-wrap;\"><span style=\"text-decoration: underline;\">.</span></span></td>\n",
       "      <td>estnltk_words</td>\n",
       "      <td>extra</td>\n",
       "    </tr>\n",
       "  </tbody>\n",
       "</table>"
      ],
      "text/plain": [
       "Span('.', [{'input_layer_name': 'estnltk_words', 'span_status': 'extra'}])"
      ]
     },
     "metadata": {},
     "output_type": "display_data"
    },
    {
     "name": "stdout",
     "output_type": "stream",
     "text": [
      "=============================================\n",
      "Conflicting pair:\n"
     ]
    },
    {
     "data": {
      "text/html": [
       "<b>Span</b>\n",
       "<table border=\"1\" class=\"dataframe\">\n",
       "  <thead>\n",
       "    <tr style=\"text-align: right;\">\n",
       "      <th>text</th>\n",
       "      <th>input_layer_name</th>\n",
       "      <th>span_status</th>\n",
       "    </tr>\n",
       "  </thead>\n",
       "  <tbody>\n",
       "    <tr>\n",
       "      <td><span style=\"font-family: monospace; white-space: pre-wrap;\"><span style=\"text-decoration: underline;\">L.</span></span></td>\n",
       "      <td>words</td>\n",
       "      <td>missing</td>\n",
       "    </tr>\n",
       "  </tbody>\n",
       "</table>"
      ],
      "text/plain": [
       "Span('L.', [{'input_layer_name': 'words', 'span_status': 'missing'}])"
      ]
     },
     "metadata": {},
     "output_type": "display_data"
    },
    {
     "data": {
      "text/html": [
       "<b>Span</b>\n",
       "<table border=\"1\" class=\"dataframe\">\n",
       "  <thead>\n",
       "    <tr style=\"text-align: right;\">\n",
       "      <th>text</th>\n",
       "      <th>input_layer_name</th>\n",
       "      <th>span_status</th>\n",
       "    </tr>\n",
       "  </thead>\n",
       "  <tbody>\n",
       "    <tr>\n",
       "      <td><span style=\"font-family: monospace; white-space: pre-wrap;\"><span style=\"text-decoration: underline;\">L</span></span></td>\n",
       "      <td>estnltk_words</td>\n",
       "      <td>extra</td>\n",
       "    </tr>\n",
       "  </tbody>\n",
       "</table>"
      ],
      "text/plain": [
       "Span('L', [{'input_layer_name': 'estnltk_words', 'span_status': 'extra'}])"
      ]
     },
     "metadata": {},
     "output_type": "display_data"
    },
    {
     "name": "stdout",
     "output_type": "stream",
     "text": [
      "=============================================\n",
      "Conflicting pair:\n"
     ]
    },
    {
     "data": {
      "text/html": [
       "<b>Span</b>\n",
       "<table border=\"1\" class=\"dataframe\">\n",
       "  <thead>\n",
       "    <tr style=\"text-align: right;\">\n",
       "      <th>text</th>\n",
       "      <th>input_layer_name</th>\n",
       "      <th>span_status</th>\n",
       "    </tr>\n",
       "  </thead>\n",
       "  <tbody>\n",
       "    <tr>\n",
       "      <td><span style=\"font-family: monospace; white-space: pre-wrap;\"><span style=\"text-decoration: underline;\">L.</span></span></td>\n",
       "      <td>words</td>\n",
       "      <td>missing</td>\n",
       "    </tr>\n",
       "  </tbody>\n",
       "</table>"
      ],
      "text/plain": [
       "Span('L.', [{'input_layer_name': 'words', 'span_status': 'missing'}])"
      ]
     },
     "metadata": {},
     "output_type": "display_data"
    },
    {
     "data": {
      "text/html": [
       "<b>Span</b>\n",
       "<table border=\"1\" class=\"dataframe\">\n",
       "  <thead>\n",
       "    <tr style=\"text-align: right;\">\n",
       "      <th>text</th>\n",
       "      <th>input_layer_name</th>\n",
       "      <th>span_status</th>\n",
       "    </tr>\n",
       "  </thead>\n",
       "  <tbody>\n",
       "    <tr>\n",
       "      <td><span style=\"font-family: monospace; white-space: pre-wrap;\"><span style=\"text-decoration: underline;\">.</span></span></td>\n",
       "      <td>estnltk_words</td>\n",
       "      <td>extra</td>\n",
       "    </tr>\n",
       "  </tbody>\n",
       "</table>"
      ],
      "text/plain": [
       "Span('.', [{'input_layer_name': 'estnltk_words', 'span_status': 'extra'}])"
      ]
     },
     "metadata": {},
     "output_type": "display_data"
    },
    {
     "name": "stdout",
     "output_type": "stream",
     "text": [
      "=============================================\n",
      "Conflicting pair:\n"
     ]
    },
    {
     "data": {
      "text/html": [
       "<b>Span</b>\n",
       "<table border=\"1\" class=\"dataframe\">\n",
       "  <thead>\n",
       "    <tr style=\"text-align: right;\">\n",
       "      <th>text</th>\n",
       "      <th>input_layer_name</th>\n",
       "      <th>span_status</th>\n",
       "    </tr>\n",
       "  </thead>\n",
       "  <tbody>\n",
       "    <tr>\n",
       "      <td><span style=\"font-family: monospace; white-space: pre-wrap;\"><span style=\"text-decoration: underline;\">H.</span></span></td>\n",
       "      <td>words</td>\n",
       "      <td>missing</td>\n",
       "    </tr>\n",
       "  </tbody>\n",
       "</table>"
      ],
      "text/plain": [
       "Span('H.', [{'input_layer_name': 'words', 'span_status': 'missing'}])"
      ]
     },
     "metadata": {},
     "output_type": "display_data"
    },
    {
     "data": {
      "text/html": [
       "<b>Span</b>\n",
       "<table border=\"1\" class=\"dataframe\">\n",
       "  <thead>\n",
       "    <tr style=\"text-align: right;\">\n",
       "      <th>text</th>\n",
       "      <th>input_layer_name</th>\n",
       "      <th>span_status</th>\n",
       "    </tr>\n",
       "  </thead>\n",
       "  <tbody>\n",
       "    <tr>\n",
       "      <td><span style=\"font-family: monospace; white-space: pre-wrap;\"><span style=\"text-decoration: underline;\">H</span></span></td>\n",
       "      <td>estnltk_words</td>\n",
       "      <td>extra</td>\n",
       "    </tr>\n",
       "  </tbody>\n",
       "</table>"
      ],
      "text/plain": [
       "Span('H', [{'input_layer_name': 'estnltk_words', 'span_status': 'extra'}])"
      ]
     },
     "metadata": {},
     "output_type": "display_data"
    },
    {
     "name": "stdout",
     "output_type": "stream",
     "text": [
      "=============================================\n",
      "Conflicting pair:\n"
     ]
    },
    {
     "data": {
      "text/html": [
       "<b>Span</b>\n",
       "<table border=\"1\" class=\"dataframe\">\n",
       "  <thead>\n",
       "    <tr style=\"text-align: right;\">\n",
       "      <th>text</th>\n",
       "      <th>input_layer_name</th>\n",
       "      <th>span_status</th>\n",
       "    </tr>\n",
       "  </thead>\n",
       "  <tbody>\n",
       "    <tr>\n",
       "      <td><span style=\"font-family: monospace; white-space: pre-wrap;\"><span style=\"text-decoration: underline;\">H.</span></span></td>\n",
       "      <td>words</td>\n",
       "      <td>missing</td>\n",
       "    </tr>\n",
       "  </tbody>\n",
       "</table>"
      ],
      "text/plain": [
       "Span('H.', [{'input_layer_name': 'words', 'span_status': 'missing'}])"
      ]
     },
     "metadata": {},
     "output_type": "display_data"
    },
    {
     "data": {
      "text/html": [
       "<b>Span</b>\n",
       "<table border=\"1\" class=\"dataframe\">\n",
       "  <thead>\n",
       "    <tr style=\"text-align: right;\">\n",
       "      <th>text</th>\n",
       "      <th>input_layer_name</th>\n",
       "      <th>span_status</th>\n",
       "    </tr>\n",
       "  </thead>\n",
       "  <tbody>\n",
       "    <tr>\n",
       "      <td><span style=\"font-family: monospace; white-space: pre-wrap;\"><span style=\"text-decoration: underline;\">.</span></span></td>\n",
       "      <td>estnltk_words</td>\n",
       "      <td>extra</td>\n",
       "    </tr>\n",
       "  </tbody>\n",
       "</table>"
      ],
      "text/plain": [
       "Span('.', [{'input_layer_name': 'estnltk_words', 'span_status': 'extra'}])"
      ]
     },
     "metadata": {},
     "output_type": "display_data"
    },
    {
     "name": "stdout",
     "output_type": "stream",
     "text": [
      "=============================================\n",
      "Conflicting pair:\n"
     ]
    },
    {
     "data": {
      "text/html": [
       "<b>Span</b>\n",
       "<table border=\"1\" class=\"dataframe\">\n",
       "  <thead>\n",
       "    <tr style=\"text-align: right;\">\n",
       "      <th>text</th>\n",
       "      <th>input_layer_name</th>\n",
       "      <th>span_status</th>\n",
       "    </tr>\n",
       "  </thead>\n",
       "  <tbody>\n",
       "    <tr>\n",
       "      <td><span style=\"font-family: monospace; white-space: pre-wrap;\"><span style=\"text-decoration: underline;\">L.</span></span></td>\n",
       "      <td>words</td>\n",
       "      <td>missing</td>\n",
       "    </tr>\n",
       "  </tbody>\n",
       "</table>"
      ],
      "text/plain": [
       "Span('L.', [{'input_layer_name': 'words', 'span_status': 'missing'}])"
      ]
     },
     "metadata": {},
     "output_type": "display_data"
    },
    {
     "data": {
      "text/html": [
       "<b>Span</b>\n",
       "<table border=\"1\" class=\"dataframe\">\n",
       "  <thead>\n",
       "    <tr style=\"text-align: right;\">\n",
       "      <th>text</th>\n",
       "      <th>input_layer_name</th>\n",
       "      <th>span_status</th>\n",
       "    </tr>\n",
       "  </thead>\n",
       "  <tbody>\n",
       "    <tr>\n",
       "      <td><span style=\"font-family: monospace; white-space: pre-wrap;\"><span style=\"text-decoration: underline;\">L</span></span></td>\n",
       "      <td>estnltk_words</td>\n",
       "      <td>extra</td>\n",
       "    </tr>\n",
       "  </tbody>\n",
       "</table>"
      ],
      "text/plain": [
       "Span('L', [{'input_layer_name': 'estnltk_words', 'span_status': 'extra'}])"
      ]
     },
     "metadata": {},
     "output_type": "display_data"
    },
    {
     "name": "stdout",
     "output_type": "stream",
     "text": [
      "=============================================\n",
      "Conflicting pair:\n"
     ]
    },
    {
     "data": {
      "text/html": [
       "<b>Span</b>\n",
       "<table border=\"1\" class=\"dataframe\">\n",
       "  <thead>\n",
       "    <tr style=\"text-align: right;\">\n",
       "      <th>text</th>\n",
       "      <th>input_layer_name</th>\n",
       "      <th>span_status</th>\n",
       "    </tr>\n",
       "  </thead>\n",
       "  <tbody>\n",
       "    <tr>\n",
       "      <td><span style=\"font-family: monospace; white-space: pre-wrap;\"><span style=\"text-decoration: underline;\">L.</span></span></td>\n",
       "      <td>words</td>\n",
       "      <td>missing</td>\n",
       "    </tr>\n",
       "  </tbody>\n",
       "</table>"
      ],
      "text/plain": [
       "Span('L.', [{'input_layer_name': 'words', 'span_status': 'missing'}])"
      ]
     },
     "metadata": {},
     "output_type": "display_data"
    },
    {
     "data": {
      "text/html": [
       "<b>Span</b>\n",
       "<table border=\"1\" class=\"dataframe\">\n",
       "  <thead>\n",
       "    <tr style=\"text-align: right;\">\n",
       "      <th>text</th>\n",
       "      <th>input_layer_name</th>\n",
       "      <th>span_status</th>\n",
       "    </tr>\n",
       "  </thead>\n",
       "  <tbody>\n",
       "    <tr>\n",
       "      <td><span style=\"font-family: monospace; white-space: pre-wrap;\"><span style=\"text-decoration: underline;\">.</span></span></td>\n",
       "      <td>estnltk_words</td>\n",
       "      <td>extra</td>\n",
       "    </tr>\n",
       "  </tbody>\n",
       "</table>"
      ],
      "text/plain": [
       "Span('.', [{'input_layer_name': 'estnltk_words', 'span_status': 'extra'}])"
      ]
     },
     "metadata": {},
     "output_type": "display_data"
    },
    {
     "name": "stdout",
     "output_type": "stream",
     "text": [
      "=============================================\n",
      "Conflicting pair:\n"
     ]
    },
    {
     "data": {
      "text/html": [
       "<b>Span</b>\n",
       "<table border=\"1\" class=\"dataframe\">\n",
       "  <thead>\n",
       "    <tr style=\"text-align: right;\">\n",
       "      <th>text</th>\n",
       "      <th>input_layer_name</th>\n",
       "      <th>span_status</th>\n",
       "    </tr>\n",
       "  </thead>\n",
       "  <tbody>\n",
       "    <tr>\n",
       "      <td><span style=\"font-family: monospace; white-space: pre-wrap;\"><span style=\"text-decoration: underline;\">1/2</span></span></td>\n",
       "      <td>words</td>\n",
       "      <td>missing</td>\n",
       "    </tr>\n",
       "  </tbody>\n",
       "</table>"
      ],
      "text/plain": [
       "Span('1/2', [{'input_layer_name': 'words', 'span_status': 'missing'}])"
      ]
     },
     "metadata": {},
     "output_type": "display_data"
    },
    {
     "data": {
      "text/html": [
       "<b>Span</b>\n",
       "<table border=\"1\" class=\"dataframe\">\n",
       "  <thead>\n",
       "    <tr style=\"text-align: right;\">\n",
       "      <th>text</th>\n",
       "      <th>input_layer_name</th>\n",
       "      <th>span_status</th>\n",
       "    </tr>\n",
       "  </thead>\n",
       "  <tbody>\n",
       "    <tr>\n",
       "      <td><span style=\"font-family: monospace; white-space: pre-wrap;\"><span style=\"text-decoration: underline;\">1</span></span></td>\n",
       "      <td>estnltk_words</td>\n",
       "      <td>extra</td>\n",
       "    </tr>\n",
       "  </tbody>\n",
       "</table>"
      ],
      "text/plain": [
       "Span('1', [{'input_layer_name': 'estnltk_words', 'span_status': 'extra'}])"
      ]
     },
     "metadata": {},
     "output_type": "display_data"
    },
    {
     "name": "stdout",
     "output_type": "stream",
     "text": [
      "=============================================\n",
      "Conflicting pair:\n"
     ]
    },
    {
     "data": {
      "text/html": [
       "<b>Span</b>\n",
       "<table border=\"1\" class=\"dataframe\">\n",
       "  <thead>\n",
       "    <tr style=\"text-align: right;\">\n",
       "      <th>text</th>\n",
       "      <th>input_layer_name</th>\n",
       "      <th>span_status</th>\n",
       "    </tr>\n",
       "  </thead>\n",
       "  <tbody>\n",
       "    <tr>\n",
       "      <td><span style=\"font-family: monospace; white-space: pre-wrap;\"><span style=\"text-decoration: underline;\">1/2</span></span></td>\n",
       "      <td>words</td>\n",
       "      <td>missing</td>\n",
       "    </tr>\n",
       "  </tbody>\n",
       "</table>"
      ],
      "text/plain": [
       "Span('1/2', [{'input_layer_name': 'words', 'span_status': 'missing'}])"
      ]
     },
     "metadata": {},
     "output_type": "display_data"
    },
    {
     "data": {
      "text/html": [
       "<b>Span</b>\n",
       "<table border=\"1\" class=\"dataframe\">\n",
       "  <thead>\n",
       "    <tr style=\"text-align: right;\">\n",
       "      <th>text</th>\n",
       "      <th>input_layer_name</th>\n",
       "      <th>span_status</th>\n",
       "    </tr>\n",
       "  </thead>\n",
       "  <tbody>\n",
       "    <tr>\n",
       "      <td><span style=\"font-family: monospace; white-space: pre-wrap;\"><span style=\"text-decoration: underline;\">/</span></span></td>\n",
       "      <td>estnltk_words</td>\n",
       "      <td>extra</td>\n",
       "    </tr>\n",
       "  </tbody>\n",
       "</table>"
      ],
      "text/plain": [
       "Span('/', [{'input_layer_name': 'estnltk_words', 'span_status': 'extra'}])"
      ]
     },
     "metadata": {},
     "output_type": "display_data"
    },
    {
     "name": "stdout",
     "output_type": "stream",
     "text": [
      "=============================================\n",
      "Conflicting pair:\n"
     ]
    },
    {
     "data": {
      "text/html": [
       "<b>Span</b>\n",
       "<table border=\"1\" class=\"dataframe\">\n",
       "  <thead>\n",
       "    <tr style=\"text-align: right;\">\n",
       "      <th>text</th>\n",
       "      <th>input_layer_name</th>\n",
       "      <th>span_status</th>\n",
       "    </tr>\n",
       "  </thead>\n",
       "  <tbody>\n",
       "    <tr>\n",
       "      <td><span style=\"font-family: monospace; white-space: pre-wrap;\"><span style=\"text-decoration: underline;\">1/2</span></span></td>\n",
       "      <td>words</td>\n",
       "      <td>missing</td>\n",
       "    </tr>\n",
       "  </tbody>\n",
       "</table>"
      ],
      "text/plain": [
       "Span('1/2', [{'input_layer_name': 'words', 'span_status': 'missing'}])"
      ]
     },
     "metadata": {},
     "output_type": "display_data"
    },
    {
     "data": {
      "text/html": [
       "<b>Span</b>\n",
       "<table border=\"1\" class=\"dataframe\">\n",
       "  <thead>\n",
       "    <tr style=\"text-align: right;\">\n",
       "      <th>text</th>\n",
       "      <th>input_layer_name</th>\n",
       "      <th>span_status</th>\n",
       "    </tr>\n",
       "  </thead>\n",
       "  <tbody>\n",
       "    <tr>\n",
       "      <td><span style=\"font-family: monospace; white-space: pre-wrap;\"><span style=\"text-decoration: underline;\">2</span></span></td>\n",
       "      <td>estnltk_words</td>\n",
       "      <td>extra</td>\n",
       "    </tr>\n",
       "  </tbody>\n",
       "</table>"
      ],
      "text/plain": [
       "Span('2', [{'input_layer_name': 'estnltk_words', 'span_status': 'extra'}])"
      ]
     },
     "metadata": {},
     "output_type": "display_data"
    },
    {
     "name": "stdout",
     "output_type": "stream",
     "text": [
      "=============================================\n",
      "Conflicting pair:\n"
     ]
    },
    {
     "data": {
      "text/html": [
       "<b>Span</b>\n",
       "<table border=\"1\" class=\"dataframe\">\n",
       "  <thead>\n",
       "    <tr style=\"text-align: right;\">\n",
       "      <th>text</th>\n",
       "      <th>input_layer_name</th>\n",
       "      <th>span_status</th>\n",
       "    </tr>\n",
       "  </thead>\n",
       "  <tbody>\n",
       "    <tr>\n",
       "      <td><span style=\"font-family: monospace; white-space: pre-wrap;\"><span style=\"text-decoration: underline;\">1999</span></span></td>\n",
       "      <td>words</td>\n",
       "      <td>missing</td>\n",
       "    </tr>\n",
       "  </tbody>\n",
       "</table>"
      ],
      "text/plain": [
       "Span('1999', [{'input_layer_name': 'words', 'span_status': 'missing'}])"
      ]
     },
     "metadata": {},
     "output_type": "display_data"
    },
    {
     "data": {
      "text/html": [
       "<b>Span</b>\n",
       "<table border=\"1\" class=\"dataframe\">\n",
       "  <thead>\n",
       "    <tr style=\"text-align: right;\">\n",
       "      <th>text</th>\n",
       "      <th>input_layer_name</th>\n",
       "      <th>span_status</th>\n",
       "    </tr>\n",
       "  </thead>\n",
       "  <tbody>\n",
       "    <tr>\n",
       "      <td><span style=\"font-family: monospace; white-space: pre-wrap;\"><span style=\"text-decoration: underline;\">1999 .</span></span></td>\n",
       "      <td>estnltk_words</td>\n",
       "      <td>extra</td>\n",
       "    </tr>\n",
       "  </tbody>\n",
       "</table>"
      ],
      "text/plain": [
       "Span('1999 .', [{'input_layer_name': 'estnltk_words', 'span_status': 'extra'}])"
      ]
     },
     "metadata": {},
     "output_type": "display_data"
    }
   ],
   "source": [
    "from estnltk.taggers.standard_taggers.diff_tagger import iterate_diff_conflicts\n",
    "for cid, (a, b) in enumerate(iterate_diff_conflicts(words_diff_layer, 'span_status')):\n",
    "    print('='*45)\n",
    "    print('Conflicting pair:')\n",
    "    display(a)\n",
    "    display(b)\n",
    "    if cid > 10:\n",
    "        break"
   ]
  },
  {
   "cell_type": "code",
   "execution_count": 17,
   "metadata": {},
   "outputs": [],
   "source": [
    "#\n",
    "#    'words' kihi puhul paistab yldiselt OK;\n",
    "#\n",
    "#    Lahtiseks jääb, kas on vaja inkorpireerida võrdlusesse estnltk_words.normalized_form-i\n",
    "#    arvestamine? Kuna teistel märgenduskihtidel seda pole ning spelling correction'it me \n",
    "#    ka ei tee, siis kaldun arvama, et pigem mitte. Seega on variant on veel 'normalized_form' \n",
    "#    yldse eemaldada estnltk_words kyljest, et 'modified_spans' ==> 'unchanged_spans'.\n",
    "#\n",
    "#    Ning siis see erinevuste loendamise küsimus:\n",
    "#    nt, ['H.'] -- 1 missing, ['H', '.'] -- 2 extra, seega erinevuste koguarv erineb sõltuvalt\n",
    "#        sellest, kumma kihi poolt vaadata. Saaks ka need erinevused kokku võtta ja öelda, et \n",
    "#        \"a gap (of differences) in the middle of equal spans\"\n",
    "#"
   ]
  }
 ],
 "metadata": {
  "kernelspec": {
   "display_name": "Python 3",
   "language": "python",
   "name": "python3"
  },
  "language_info": {
   "codemirror_mode": {
    "name": "ipython",
    "version": 3
   },
   "file_extension": ".py",
   "mimetype": "text/x-python",
   "name": "python",
   "nbconvert_exporter": "python",
   "pygments_lexer": "ipython3",
   "version": "3.5.6"
  }
 },
 "nbformat": 4,
 "nbformat_minor": 2
}
