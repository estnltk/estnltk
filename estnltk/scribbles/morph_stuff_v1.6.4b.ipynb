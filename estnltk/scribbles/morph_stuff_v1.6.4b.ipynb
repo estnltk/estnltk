{
 "cells": [
  {
   "cell_type": "markdown",
   "metadata": {},
   "source": [
    "### Changing morph analyses (annotations)"
   ]
  },
  {
   "cell_type": "code",
   "execution_count": 1,
   "metadata": {},
   "outputs": [],
   "source": [
    "from estnltk import Text, Annotation\n",
    "from estnltk.taggers import Retagger, VabamorfAnalyzer\n",
    "\n",
    "class DummyMorphAnalysisRetagger( Retagger ):\n",
    "    '''Dummy morph analysis retagger: corrects analyses of the word \"olewad\"'''\n",
    "    \n",
    "    def __init__(self,\n",
    "                 morph_analysis_layer='morph_analysis'):\n",
    "        self.conf_param = []\n",
    "        self.input_layers = [morph_analysis_layer]\n",
    "        self.output_layer = morph_analysis_layer\n",
    "        self.output_attributes = VabamorfAnalyzer.output_attributes\n",
    "\n",
    "    def _change_layer(self, text_obj, layers, status):\n",
    "        layer = layers[self.output_layer]\n",
    "        for morph_span in layers[self.output_layer]:\n",
    "            if morph_span.text in ['olewad', 'onwad']:\n",
    "                morph_span.clear_annotations()\n",
    "                new_annotation = Annotation( morph_span, **{'form': 'vad', 'lemma': 'olema', 'root_tokens': ['olema'], 'root': 'ole', 'ending':'0', 'partofspeech': 'V', 'clitic':''})\n",
    "                morph_span.add_annotation( new_annotation )\n",
    "                # TODO: this word seems ambiguous: add also the annotation describing contemporary 'olevat' form\n"
   ]
  },
  {
   "cell_type": "code",
   "execution_count": 2,
   "metadata": {},
   "outputs": [
    {
     "name": "stdout",
     "output_type": "stream",
     "text": [
      "talus [('talu', 'S', 'sg in'), ('talu', 'V', 's')]\n",
      "olewad [('ole', 'V', 'vad')]\n",
      "ajad [('aeg', 'S', 'pl n'), ('aja', 'V', 'd')]\n",
      "ja [('ja', 'J', '')]\n",
      "kraawid [(None, None, None)]\n"
     ]
    }
   ],
   "source": [
    "text = Text('talus olewad ajad ja kraawid')\n",
    "text.tag_layer(['sentences'])\n",
    "vm_analyser = VabamorfAnalyzer(guess=False, propername=False)\n",
    "vm_analyser.tag(text)\n",
    "DummyMorphAnalysisRetagger().retag( text )\n",
    "for morph_span in text.morph_analysis:\n",
    "    ann_short = [(a.root, a.partofspeech, a.form) for a in morph_span.annotations]\n",
    "    print(morph_span.text, ann_short)"
   ]
  },
  {
   "cell_type": "markdown",
   "metadata": {},
   "source": [
    "### Checking empty analyses"
   ]
  },
  {
   "cell_type": "code",
   "execution_count": 3,
   "metadata": {},
   "outputs": [
    {
     "name": "stdout",
     "output_type": "stream",
     "text": [
      "Unknown: metsawahi\n",
      "Unknown: ehitet\n"
     ]
    }
   ],
   "source": [
    "from estnltk import Text\n",
    "from estnltk.taggers import VabamorfAnalyzer\n",
    "from estnltk.taggers.morph_analysis.morf_common import _is_empty_annotation\n",
    "\n",
    "text = Text('metsawahi hobusele ja lehmale uus laut ehitet')\n",
    "text.tag_layer(['sentences'])\n",
    "vm_analyser = VabamorfAnalyzer(guess=False, propername=False)\n",
    "vm_analyser.tag(text)\n",
    "\n",
    "for morph_span in text.morph_analysis:\n",
    "    if _is_empty_annotation( morph_span.annotations[0] ):\n",
    "        print( 'Unknown:', morph_span.text )"
   ]
  }
 ],
 "metadata": {
  "kernelspec": {
   "display_name": "Python 3",
   "language": "python",
   "name": "python3"
  },
  "language_info": {
   "codemirror_mode": {
    "name": "ipython",
    "version": 3
   },
   "file_extension": ".py",
   "mimetype": "text/x-python",
   "name": "python",
   "nbconvert_exporter": "python",
   "pygments_lexer": "ipython3",
   "version": "3.6.9"
  }
 },
 "nbformat": 4,
 "nbformat_minor": 2
}
