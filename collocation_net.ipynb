{
 "cells": [
  {
   "cell_type": "code",
   "execution_count": 1,
   "id": "975a59ce",
   "metadata": {},
   "outputs": [],
   "source": [
    "from collocation_net import NounAdjectiveCollocationNet"
   ]
  },
  {
   "cell_type": "code",
   "execution_count": 2,
   "id": "37f816cd",
   "metadata": {},
   "outputs": [],
   "source": [
    "cn = NounAdjectiveCollocationNet()"
   ]
  },
  {
   "cell_type": "code",
   "execution_count": 3,
   "id": "1770a99b",
   "metadata": {},
   "outputs": [
    {
     "data": {
      "text/plain": [
       "['latern',\n",
       " 'tellis',\n",
       " 'rist',\n",
       " 'kurat',\n",
       " 'rätt',\n",
       " 'paprika',\n",
       " 'roos',\n",
       " 'rätik',\n",
       " 'foorituli',\n",
       " 'sõstar']"
      ]
     },
     "execution_count": 3,
     "metadata": {},
     "output_type": "execute_result"
    }
   ],
   "source": [
    "cn.nouns_used_with_adjective(\"punane\")"
   ]
  },
  {
   "cell_type": "code",
   "execution_count": 4,
   "id": "35c54163",
   "metadata": {},
   "outputs": [
    {
     "data": {
      "text/plain": [
       "['punane',\n",
       " 'valge',\n",
       " 'uus',\n",
       " 'tulipunane',\n",
       " 'suur',\n",
       " 'väikeseõieline',\n",
       " 'süüdatud',\n",
       " 'suureõieline',\n",
       " 'tumepunane',\n",
       " 'hõõguv']"
      ]
     },
     "execution_count": 4,
     "metadata": {},
     "output_type": "execute_result"
    }
   ],
   "source": [
    "cn.adjectives_used_with_noun(\"roos\")"
   ]
  },
  {
   "cell_type": "code",
   "execution_count": 5,
   "id": "283b94fb",
   "metadata": {},
   "outputs": [
    {
     "ename": "CollocationNetException",
     "evalue": "Word 'testsõna' not in the dataset.",
     "output_type": "error",
     "traceback": [
      "\u001b[1;31m---------------------------------------------------------------------------\u001b[0m",
      "\u001b[1;31mCollocationNetException\u001b[0m                   Traceback (most recent call last)",
      "\u001b[1;32m<ipython-input-5-e75ec24c5867>\u001b[0m in \u001b[0;36m<module>\u001b[1;34m\u001b[0m\n\u001b[1;32m----> 1\u001b[1;33m \u001b[0mcn\u001b[0m\u001b[1;33m.\u001b[0m\u001b[0madjectives_used_with_noun\u001b[0m\u001b[1;33m(\u001b[0m\u001b[1;34m\"testsõna\"\u001b[0m\u001b[1;33m)\u001b[0m\u001b[1;33m\u001b[0m\u001b[1;33m\u001b[0m\u001b[0m\n\u001b[0m",
      "\u001b[1;32m~\\Documents\\collocation-net\\collocation_net\\collocation_net.py\u001b[0m in \u001b[0;36madjectives_used_with_noun\u001b[1;34m(self, word, number_of_words)\u001b[0m\n\u001b[0;32m    299\u001b[0m \u001b[1;33m\u001b[0m\u001b[0m\n\u001b[0;32m    300\u001b[0m     \u001b[1;32mdef\u001b[0m \u001b[0madjectives_used_with_noun\u001b[0m\u001b[1;33m(\u001b[0m\u001b[0mself\u001b[0m\u001b[1;33m,\u001b[0m \u001b[0mword\u001b[0m\u001b[1;33m:\u001b[0m \u001b[0mstr\u001b[0m\u001b[1;33m,\u001b[0m \u001b[0mnumber_of_words\u001b[0m\u001b[1;33m:\u001b[0m \u001b[0mint\u001b[0m \u001b[1;33m=\u001b[0m \u001b[1;36m10\u001b[0m\u001b[1;33m)\u001b[0m\u001b[1;33m:\u001b[0m\u001b[1;33m\u001b[0m\u001b[1;33m\u001b[0m\u001b[0m\n\u001b[1;32m--> 301\u001b[1;33m         \u001b[1;32mreturn\u001b[0m \u001b[0msuper\u001b[0m\u001b[1;33m(\u001b[0m\u001b[1;33m)\u001b[0m\u001b[1;33m.\u001b[0m\u001b[0mcolumns_used_with\u001b[0m\u001b[1;33m(\u001b[0m\u001b[0mword\u001b[0m\u001b[1;33m,\u001b[0m \u001b[0mnumber_of_words\u001b[0m\u001b[1;33m)\u001b[0m\u001b[1;33m\u001b[0m\u001b[1;33m\u001b[0m\u001b[0m\n\u001b[0m\u001b[0;32m    302\u001b[0m \u001b[1;33m\u001b[0m\u001b[0m\n\u001b[0;32m    303\u001b[0m     \u001b[1;32mdef\u001b[0m \u001b[0msimilar_nouns\u001b[0m\u001b[1;33m(\u001b[0m\u001b[0mself\u001b[0m\u001b[1;33m,\u001b[0m \u001b[0mword\u001b[0m\u001b[1;33m:\u001b[0m \u001b[0mstr\u001b[0m\u001b[1;33m,\u001b[0m \u001b[0mnumber_of_words\u001b[0m\u001b[1;33m:\u001b[0m \u001b[0mint\u001b[0m \u001b[1;33m=\u001b[0m \u001b[1;36m10\u001b[0m\u001b[1;33m)\u001b[0m\u001b[1;33m:\u001b[0m\u001b[1;33m\u001b[0m\u001b[1;33m\u001b[0m\u001b[0m\n",
      "\u001b[1;32m~\\Documents\\collocation-net\\collocation_net\\collocation_net.py\u001b[0m in \u001b[0;36mcolumns_used_with\u001b[1;34m(self, word, number_of_words)\u001b[0m\n\u001b[0;32m     50\u001b[0m \u001b[1;33m\u001b[0m\u001b[0m\n\u001b[0;32m     51\u001b[0m     \u001b[1;32mdef\u001b[0m \u001b[0mcolumns_used_with\u001b[0m\u001b[1;33m(\u001b[0m\u001b[0mself\u001b[0m\u001b[1;33m,\u001b[0m \u001b[0mword\u001b[0m\u001b[1;33m:\u001b[0m \u001b[0mstr\u001b[0m\u001b[1;33m,\u001b[0m \u001b[0mnumber_of_words\u001b[0m\u001b[1;33m:\u001b[0m \u001b[0mint\u001b[0m \u001b[1;33m=\u001b[0m \u001b[1;36m10\u001b[0m\u001b[1;33m)\u001b[0m \u001b[1;33m->\u001b[0m \u001b[0mlist\u001b[0m\u001b[1;33m:\u001b[0m\u001b[1;33m\u001b[0m\u001b[1;33m\u001b[0m\u001b[0m\n\u001b[1;32m---> 52\u001b[1;33m         \u001b[0mword_index\u001b[0m \u001b[1;33m=\u001b[0m \u001b[0mself\u001b[0m\u001b[1;33m.\u001b[0m\u001b[0mrow_index\u001b[0m\u001b[1;33m(\u001b[0m\u001b[0mword\u001b[0m\u001b[1;33m)\u001b[0m\u001b[1;33m\u001b[0m\u001b[1;33m\u001b[0m\u001b[0m\n\u001b[0m\u001b[0;32m     53\u001b[0m \u001b[1;33m\u001b[0m\u001b[0m\n\u001b[0;32m     54\u001b[0m         \u001b[0mrow_topic\u001b[0m \u001b[1;33m=\u001b[0m \u001b[0mself\u001b[0m\u001b[1;33m.\u001b[0m\u001b[0mrow_dist\u001b[0m\u001b[1;33m[\u001b[0m\u001b[0mword_index\u001b[0m\u001b[1;33m]\u001b[0m\u001b[1;33m.\u001b[0m\u001b[0margmax\u001b[0m\u001b[1;33m(\u001b[0m\u001b[1;33m)\u001b[0m\u001b[1;33m\u001b[0m\u001b[1;33m\u001b[0m\u001b[0m\n",
      "\u001b[1;32m~\\Documents\\collocation-net\\collocation_net\\collocation_net.py\u001b[0m in \u001b[0;36mrow_index\u001b[1;34m(self, word)\u001b[0m\n\u001b[0;32m     33\u001b[0m             \u001b[1;32mif\u001b[0m \u001b[0mnoun\u001b[0m \u001b[1;33m==\u001b[0m \u001b[0mword\u001b[0m\u001b[1;33m:\u001b[0m\u001b[1;33m\u001b[0m\u001b[1;33m\u001b[0m\u001b[0m\n\u001b[0;32m     34\u001b[0m                 \u001b[1;32mreturn\u001b[0m \u001b[0mi\u001b[0m\u001b[1;33m\u001b[0m\u001b[1;33m\u001b[0m\u001b[0m\n\u001b[1;32m---> 35\u001b[1;33m         \u001b[1;32mraise\u001b[0m \u001b[0mCollocationNetException\u001b[0m\u001b[1;33m(\u001b[0m\u001b[1;34mf\"Word '{word}' not in the dataset.\"\u001b[0m\u001b[1;33m)\u001b[0m\u001b[1;33m\u001b[0m\u001b[1;33m\u001b[0m\u001b[0m\n\u001b[0m\u001b[0;32m     36\u001b[0m \u001b[1;33m\u001b[0m\u001b[0m\n\u001b[0;32m     37\u001b[0m     \u001b[1;32mdef\u001b[0m \u001b[0mcolumn_index\u001b[0m\u001b[1;33m(\u001b[0m\u001b[0mself\u001b[0m\u001b[1;33m,\u001b[0m \u001b[0mword\u001b[0m\u001b[1;33m:\u001b[0m \u001b[0mstr\u001b[0m\u001b[1;33m)\u001b[0m \u001b[1;33m->\u001b[0m \u001b[0mint\u001b[0m\u001b[1;33m:\u001b[0m\u001b[1;33m\u001b[0m\u001b[1;33m\u001b[0m\u001b[0m\n",
      "\u001b[1;31mCollocationNetException\u001b[0m: Word 'testsõna' not in the dataset."
     ]
    }
   ],
   "source": [
    "cn.adjectives_used_with_noun(\"testsõna\")"
   ]
  },
  {
   "cell_type": "code",
   "execution_count": 6,
   "id": "2c3bdc15",
   "metadata": {},
   "outputs": [
    {
     "ename": "CollocationNetException",
     "evalue": "Word 'testsõna' not in the dataset.",
     "output_type": "error",
     "traceback": [
      "\u001b[1;31m---------------------------------------------------------------------------\u001b[0m",
      "\u001b[1;31mCollocationNetException\u001b[0m                   Traceback (most recent call last)",
      "\u001b[1;32m<ipython-input-6-168cb70ab63c>\u001b[0m in \u001b[0;36m<module>\u001b[1;34m\u001b[0m\n\u001b[1;32m----> 1\u001b[1;33m \u001b[0mcn\u001b[0m\u001b[1;33m.\u001b[0m\u001b[0mnouns_used_with_adjective\u001b[0m\u001b[1;33m(\u001b[0m\u001b[1;34m\"testsõna\"\u001b[0m\u001b[1;33m)\u001b[0m\u001b[1;33m\u001b[0m\u001b[1;33m\u001b[0m\u001b[0m\n\u001b[0m",
      "\u001b[1;32m~\\Documents\\collocation-net\\collocation_net\\collocation_net.py\u001b[0m in \u001b[0;36mnouns_used_with_adjective\u001b[1;34m(self, word, number_of_words)\u001b[0m\n\u001b[0;32m    296\u001b[0m \u001b[1;32mclass\u001b[0m \u001b[0mNounAdjectiveCollocationNet\u001b[0m\u001b[1;33m(\u001b[0m\u001b[0mBaseCollocationNet\u001b[0m\u001b[1;33m)\u001b[0m\u001b[1;33m:\u001b[0m\u001b[1;33m\u001b[0m\u001b[1;33m\u001b[0m\u001b[0m\n\u001b[0;32m    297\u001b[0m     \u001b[1;32mdef\u001b[0m \u001b[0mnouns_used_with_adjective\u001b[0m\u001b[1;33m(\u001b[0m\u001b[0mself\u001b[0m\u001b[1;33m,\u001b[0m \u001b[0mword\u001b[0m\u001b[1;33m:\u001b[0m \u001b[0mstr\u001b[0m\u001b[1;33m,\u001b[0m \u001b[0mnumber_of_words\u001b[0m\u001b[1;33m:\u001b[0m \u001b[0mint\u001b[0m \u001b[1;33m=\u001b[0m \u001b[1;36m10\u001b[0m\u001b[1;33m)\u001b[0m\u001b[1;33m:\u001b[0m\u001b[1;33m\u001b[0m\u001b[1;33m\u001b[0m\u001b[0m\n\u001b[1;32m--> 298\u001b[1;33m         \u001b[1;32mreturn\u001b[0m \u001b[0msuper\u001b[0m\u001b[1;33m(\u001b[0m\u001b[1;33m)\u001b[0m\u001b[1;33m.\u001b[0m\u001b[0mrows_used_with\u001b[0m\u001b[1;33m(\u001b[0m\u001b[0mword\u001b[0m\u001b[1;33m,\u001b[0m \u001b[0mnumber_of_words\u001b[0m\u001b[1;33m)\u001b[0m\u001b[1;33m\u001b[0m\u001b[1;33m\u001b[0m\u001b[0m\n\u001b[0m\u001b[0;32m    299\u001b[0m \u001b[1;33m\u001b[0m\u001b[0m\n\u001b[0;32m    300\u001b[0m     \u001b[1;32mdef\u001b[0m \u001b[0madjectives_used_with_noun\u001b[0m\u001b[1;33m(\u001b[0m\u001b[0mself\u001b[0m\u001b[1;33m,\u001b[0m \u001b[0mword\u001b[0m\u001b[1;33m:\u001b[0m \u001b[0mstr\u001b[0m\u001b[1;33m,\u001b[0m \u001b[0mnumber_of_words\u001b[0m\u001b[1;33m:\u001b[0m \u001b[0mint\u001b[0m \u001b[1;33m=\u001b[0m \u001b[1;36m10\u001b[0m\u001b[1;33m)\u001b[0m\u001b[1;33m:\u001b[0m\u001b[1;33m\u001b[0m\u001b[1;33m\u001b[0m\u001b[0m\n",
      "\u001b[1;32m~\\Documents\\collocation-net\\collocation_net\\collocation_net.py\u001b[0m in \u001b[0;36mrows_used_with\u001b[1;34m(self, word, number_of_words)\u001b[0m\n\u001b[0;32m     42\u001b[0m \u001b[1;33m\u001b[0m\u001b[0m\n\u001b[0;32m     43\u001b[0m     \u001b[1;32mdef\u001b[0m \u001b[0mrows_used_with\u001b[0m\u001b[1;33m(\u001b[0m\u001b[0mself\u001b[0m\u001b[1;33m,\u001b[0m \u001b[0mword\u001b[0m\u001b[1;33m:\u001b[0m \u001b[0mstr\u001b[0m\u001b[1;33m,\u001b[0m \u001b[0mnumber_of_words\u001b[0m\u001b[1;33m:\u001b[0m \u001b[0mint\u001b[0m \u001b[1;33m=\u001b[0m \u001b[1;36m10\u001b[0m\u001b[1;33m)\u001b[0m \u001b[1;33m->\u001b[0m \u001b[0mlist\u001b[0m\u001b[1;33m:\u001b[0m\u001b[1;33m\u001b[0m\u001b[1;33m\u001b[0m\u001b[0m\n\u001b[1;32m---> 44\u001b[1;33m         \u001b[0mword_index\u001b[0m \u001b[1;33m=\u001b[0m \u001b[0mself\u001b[0m\u001b[1;33m.\u001b[0m\u001b[0mcolumn_index\u001b[0m\u001b[1;33m(\u001b[0m\u001b[0mword\u001b[0m\u001b[1;33m)\u001b[0m\u001b[1;33m\u001b[0m\u001b[1;33m\u001b[0m\u001b[0m\n\u001b[0m\u001b[0;32m     45\u001b[0m \u001b[1;33m\u001b[0m\u001b[0m\n\u001b[0;32m     46\u001b[0m         \u001b[0mcolumn_topic\u001b[0m \u001b[1;33m=\u001b[0m \u001b[0mself\u001b[0m\u001b[1;33m.\u001b[0m\u001b[0mcolumn_dist\u001b[0m\u001b[1;33m[\u001b[0m\u001b[1;33m:\u001b[0m\u001b[1;33m,\u001b[0m \u001b[0mword_index\u001b[0m\u001b[1;33m]\u001b[0m\u001b[1;33m.\u001b[0m\u001b[0margmax\u001b[0m\u001b[1;33m(\u001b[0m\u001b[1;33m)\u001b[0m\u001b[1;33m\u001b[0m\u001b[1;33m\u001b[0m\u001b[0m\n",
      "\u001b[1;32m~\\Documents\\collocation-net\\collocation_net\\collocation_net.py\u001b[0m in \u001b[0;36mcolumn_index\u001b[1;34m(self, word)\u001b[0m\n\u001b[0;32m     39\u001b[0m             \u001b[1;32mif\u001b[0m \u001b[0madj\u001b[0m \u001b[1;33m==\u001b[0m \u001b[0mword\u001b[0m\u001b[1;33m:\u001b[0m\u001b[1;33m\u001b[0m\u001b[1;33m\u001b[0m\u001b[0m\n\u001b[0;32m     40\u001b[0m                 \u001b[1;32mreturn\u001b[0m \u001b[0mi\u001b[0m\u001b[1;33m\u001b[0m\u001b[1;33m\u001b[0m\u001b[0m\n\u001b[1;32m---> 41\u001b[1;33m         \u001b[1;32mraise\u001b[0m \u001b[0mCollocationNetException\u001b[0m\u001b[1;33m(\u001b[0m\u001b[1;34mf\"Word '{word}' not in the dataset.\"\u001b[0m\u001b[1;33m)\u001b[0m\u001b[1;33m\u001b[0m\u001b[1;33m\u001b[0m\u001b[0m\n\u001b[0m\u001b[0;32m     42\u001b[0m \u001b[1;33m\u001b[0m\u001b[0m\n\u001b[0;32m     43\u001b[0m     \u001b[1;32mdef\u001b[0m \u001b[0mrows_used_with\u001b[0m\u001b[1;33m(\u001b[0m\u001b[0mself\u001b[0m\u001b[1;33m,\u001b[0m \u001b[0mword\u001b[0m\u001b[1;33m:\u001b[0m \u001b[0mstr\u001b[0m\u001b[1;33m,\u001b[0m \u001b[0mnumber_of_words\u001b[0m\u001b[1;33m:\u001b[0m \u001b[0mint\u001b[0m \u001b[1;33m=\u001b[0m \u001b[1;36m10\u001b[0m\u001b[1;33m)\u001b[0m \u001b[1;33m->\u001b[0m \u001b[0mlist\u001b[0m\u001b[1;33m:\u001b[0m\u001b[1;33m\u001b[0m\u001b[1;33m\u001b[0m\u001b[0m\n",
      "\u001b[1;31mCollocationNetException\u001b[0m: Word 'testsõna' not in the dataset."
     ]
    }
   ],
   "source": [
    "cn.nouns_used_with_adjective(\"testsõna\")"
   ]
  },
  {
   "cell_type": "code",
   "execution_count": 7,
   "id": "2183def6",
   "metadata": {},
   "outputs": [
    {
     "data": {
      "text/plain": [
       "['hooaeg',\n",
       " 'teisipäev',\n",
       " 'nädal',\n",
       " 'tali',\n",
       " 'õppeaasta',\n",
       " 'turustusaasta',\n",
       " 'sajand',\n",
       " 'sügis',\n",
       " 'kokkusaamine',\n",
       " 'kütteperiood']"
      ]
     },
     "execution_count": 7,
     "metadata": {},
     "output_type": "execute_result"
    }
   ],
   "source": [
    "cn.similar_nouns(\"esmaspäev\")"
   ]
  },
  {
   "cell_type": "code",
   "execution_count": 8,
   "id": "2d042686",
   "metadata": {},
   "outputs": [
    {
     "data": {
      "text/plain": [
       "['hapu',\n",
       " 'lõhnav',\n",
       " 'lilla',\n",
       " 'kuldkollane',\n",
       " 'kangendatud',\n",
       " 'kirgas',\n",
       " 'nominaalne',\n",
       " 'täidlane',\n",
       " 'pruunikas',\n",
       " 'oranzh']"
      ]
     },
     "execution_count": 8,
     "metadata": {},
     "output_type": "execute_result"
    }
   ],
   "source": [
    "cn.similar_adjectives(\"roosa\")"
   ]
  },
  {
   "cell_type": "code",
   "execution_count": 9,
   "id": "4177ce86",
   "metadata": {},
   "outputs": [
    {
     "data": {
      "text/plain": [
       "['aasta', 'hooaeg', 'sajand', 'esmaspäev']"
      ]
     },
     "execution_count": 9,
     "metadata": {},
     "output_type": "execute_result"
    }
   ],
   "source": [
    "cn.topic(\"esmaspäev\")"
   ]
  },
  {
   "cell_type": "code",
   "execution_count": 10,
   "id": "bed55066",
   "metadata": {},
   "outputs": [
    {
     "data": {
      "text/plain": [
       "[(0.322,\n",
       "  ['eelmine',\n",
       "   'järgmine',\n",
       "   'viimane',\n",
       "   'tulev',\n",
       "   'käesolev',\n",
       "   'uus',\n",
       "   'läinud',\n",
       "   'lõppev',\n",
       "   'terve',\n",
       "   'olnud']),\n",
       " (0.247,\n",
       "  ['järgmine',\n",
       "   'viimane',\n",
       "   'uus',\n",
       "   'eelmine',\n",
       "   'järjekordne',\n",
       "   'tänane',\n",
       "   'hea',\n",
       "   'nahaalne',\n",
       "   'eilne',\n",
       "   'tähtis']),\n",
       " (0.192,\n",
       "  ['läinud',\n",
       "   'eelmine',\n",
       "   'eelolev',\n",
       "   'tulev',\n",
       "   'järgmine',\n",
       "   'ülemöödunud',\n",
       "   'üle-eelmine',\n",
       "   'olnud',\n",
       "   'ülejärgmine',\n",
       "   'pilves']),\n",
       " (0.082,\n",
       "  ['eelmine',\n",
       "   'järgmine',\n",
       "   'viimane',\n",
       "   'terve',\n",
       "   'kogu',\n",
       "   'alanud',\n",
       "   'uus',\n",
       "   'olnud',\n",
       "   'üle-eelmine',\n",
       "   'ülejärgmine']),\n",
       " (0.02,\n",
       "  ['must',\n",
       "   'valge',\n",
       "   'uus',\n",
       "   'suur',\n",
       "   'ühesugune',\n",
       "   'vaimukas',\n",
       "   '9liitrine',\n",
       "   'olnud',\n",
       "   'hea',\n",
       "   'olev']),\n",
       " (0.02,\n",
       "  ['sinine',\n",
       "   'sisselülitatud',\n",
       "   'uus',\n",
       "   'kollane',\n",
       "   'töötav',\n",
       "   'punane',\n",
       "   'modernne',\n",
       "   'lepingueelne',\n",
       "   'lastud',\n",
       "   'maharaiutud']),\n",
       " (0.018,\n",
       "  ['tänane',\n",
       "   'kolmapäevane',\n",
       "   'homne',\n",
       "   'viimane',\n",
       "   'meelas',\n",
       "   'uus',\n",
       "   'toimuv',\n",
       "   'lõhkine',\n",
       "   'peetav',\n",
       "   'laupäevane']),\n",
       " (0.015,\n",
       "  ['järgnev',\n",
       "   'viimane',\n",
       "   'eelmine',\n",
       "   'järgmine',\n",
       "   'eelnev',\n",
       "   'kõnealune',\n",
       "   'veedetud',\n",
       "   'olnud',\n",
       "   'jooksev',\n",
       "   'loetud']),\n",
       " (0.012,\n",
       "  ['suletud',\n",
       "   'kinnine',\n",
       "   'suur',\n",
       "   'uus',\n",
       "   'steriilne',\n",
       "   'välimine',\n",
       "   'sümboliseeriv',\n",
       "   'ookeaniline',\n",
       "   'püstitatav',\n",
       "   'kontinentaalne']),\n",
       " (0.011,\n",
       "  ['terve',\n",
       "   'kaine',\n",
       "   'olnud',\n",
       "   'suur',\n",
       "   'särav',\n",
       "   'vahe',\n",
       "   'loogiline',\n",
       "   'ratsionaalne',\n",
       "   'terane',\n",
       "   'uinuv'])]"
      ]
     },
     "execution_count": 10,
     "metadata": {},
     "output_type": "execute_result"
    }
   ],
   "source": [
    "cn.characterisation(\"esmaspäev\")"
   ]
  },
  {
   "cell_type": "code",
   "execution_count": 11,
   "id": "3061d6f5",
   "metadata": {},
   "outputs": [
    {
     "data": {
      "text/plain": [
       "[('kange', 0.10680824865174013), ('tugev', 7.497004354818274e-05)]"
      ]
     },
     "execution_count": 11,
     "metadata": {},
     "output_type": "execute_result"
    }
   ],
   "source": [
    "cn.predict_adjective_probabilities(\"kohv\", [\"kange\", \"tugev\"])"
   ]
  },
  {
   "cell_type": "code",
   "execution_count": 12,
   "id": "b635e7e1",
   "metadata": {},
   "outputs": [
    {
     "data": {
      "text/plain": [
       "[('kofeiinivaba', 0.20864943879101272),\n",
       " ('lahustuv', 0.19025468185819383),\n",
       " ('mittelubatu', 0.17337577992916897),\n",
       " ('maksumärgistamata', 0.16573196706353385),\n",
       " ('filoloogiline', 0.13549952499881776),\n",
       " ('enesekriitiline', 0.13462044313610583),\n",
       " ('9liitrine', 0.12902387713388305),\n",
       " ('aurav', 0.11972026115248807),\n",
       " ('must', 0.10896979291466401),\n",
       " ('kange', 0.10680824865174013)]"
      ]
     },
     "execution_count": 12,
     "metadata": {},
     "output_type": "execute_result"
    }
   ],
   "source": [
    "cn.predict_adjective_probabilities(\"kohv\")"
   ]
  },
  {
   "cell_type": "code",
   "execution_count": 13,
   "id": "4f1113b1",
   "metadata": {},
   "outputs": [
    {
     "data": {
      "text/plain": [
       "[('hoone', 0.006823106727817134), ('inimene', 0.0003689164116009077)]"
      ]
     },
     "execution_count": 13,
     "metadata": {},
     "output_type": "execute_result"
    }
   ],
   "source": [
    "cn.predict_noun_probabilities(\"kõrge\", [\"inimene\", \"hoone\"])"
   ]
  },
  {
   "cell_type": "code",
   "execution_count": 14,
   "id": "75efdf6e",
   "metadata": {},
   "outputs": [
    {
     "data": {
      "text/plain": [
       "[('alkohol', 0.5521709825587598),\n",
       " ('sinep', 0.29174553788662405),\n",
       " ('naps', 0.1691925003184874),\n",
       " ('joogi', 0.14307327499991654),\n",
       " ('jook', 0.14120065326855283),\n",
       " ('uimasti', 0.14115953091815017),\n",
       " ('kohv', 0.1068082486517414),\n",
       " ('valuvaigisti', 0.10338865658692148),\n",
       " ('kael', 0.10038839628662441),\n",
       " ('õlu', 0.09004901047406218)]"
      ]
     },
     "execution_count": 14,
     "metadata": {},
     "output_type": "execute_result"
    }
   ],
   "source": [
    "cn.predict_noun_probabilities(\"kange\")"
   ]
  },
  {
   "cell_type": "code",
   "execution_count": 15,
   "id": "d5068dd0",
   "metadata": {},
   "outputs": [
    {
     "data": {
      "text/plain": [
       "[('kahetoaline', 0.4589713278382533),\n",
       " ('kolmetoaline', 0.4587494462879928),\n",
       " ('ühetoaline', 0.45866741919715204),\n",
       " ('neljatoaline', 0.45791468482319353),\n",
       " ('2toaline', 0.45636157569712615),\n",
       " ('3toaline', 0.4558914037036481),\n",
       " ('4toaline', 0.4538272339761194),\n",
       " ('viietoaline', 0.4532228599567853),\n",
       " ('1toaline', 0.45076830320853256),\n",
       " ('toaline', 0.4470280262587787)]"
      ]
     },
     "execution_count": 15,
     "metadata": {},
     "output_type": "execute_result"
    }
   ],
   "source": [
    "cn.predict_adjectives_for_several_nouns([\"maja\", \"korter\"])"
   ]
  },
  {
   "cell_type": "code",
   "execution_count": 16,
   "id": "0cc97e0e",
   "metadata": {},
   "outputs": [
    {
     "data": {
      "text/plain": [
       "\"Fraas 'ilus juuni' on koos kasutatav.\""
      ]
     },
     "execution_count": 16,
     "metadata": {},
     "output_type": "execute_result"
    }
   ],
   "source": [
    "cn.usable_phrase(\"juuni\", \"ilus\")"
   ]
  }
 ],
 "metadata": {
  "kernelspec": {
   "display_name": "Python 3",
   "language": "python",
   "name": "python3"
  },
  "language_info": {
   "codemirror_mode": {
    "name": "ipython",
    "version": 3
   },
   "file_extension": ".py",
   "mimetype": "text/x-python",
   "name": "python",
   "nbconvert_exporter": "python",
   "pygments_lexer": "ipython3",
   "version": "3.6.13"
  }
 },
 "nbformat": 4,
 "nbformat_minor": 5
}
