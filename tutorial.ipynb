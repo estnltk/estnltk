{
 "cells": [
  {
   "cell_type": "markdown",
   "id": "a1b96e70",
   "metadata": {},
   "source": [
    "## CollocationNet tutorial"
   ]
  },
  {
   "cell_type": "markdown",
   "id": "d947cac6",
   "metadata": {},
   "source": [
    "Collocation net allows to find different connections between words based on the collocations each word was in. To do this, first the pairs extracted from the Estonian Koondkorpus were used to divide the words into topics. The distributions of words between different topics are then used to find different connections. For dividing the words between different topics, Latent Dirichlet' Allocation (LDA) was used.\n",
    "\n",
    "This tutorial showcases how to use the different functions defined in the collocation net using noun-adjective collocation net as an example. In addition the following collocation net types can be used:\n",
    "\n",
    "* subject-verb (subject_verb_collocation_net)\n",
    "* verb-subject (verb_subject_collocation_net)\n",
    "* object-verb (object_verb_collocation_net)\n",
    "* verb-object (verb_object_collocation_net)\n",
    "\n",
    "These can be used by changing the word types in the function names, ie cn.nouns_used_with_adjective would be cn.subjects_used_with_verb for the subject-verb collocation net. The first word in each collocation refers to the word type that was used as documents when training the LDA model."
   ]
  },
  {
   "cell_type": "markdown",
   "id": "a28a8e98",
   "metadata": {},
   "source": [
    "First let's import the necessary collocation net class and create a collocation net instance."
   ]
  },
  {
   "cell_type": "code",
   "execution_count": 1,
   "id": "12ff7699",
   "metadata": {},
   "outputs": [],
   "source": [
    "from noun_adjective_collocation_net import NounAdjectiveCollocationNet"
   ]
  },
  {
   "cell_type": "code",
   "execution_count": 2,
   "id": "a7fd3fdf",
   "metadata": {},
   "outputs": [],
   "source": [
    "cn = NounAdjectiveCollocationNet()"
   ]
  },
  {
   "cell_type": "markdown",
   "id": "2f01914f",
   "metadata": {},
   "source": [
    "After we have created the collocation net instance, we can obtain different kinds of information regarding the collocations. For example, we can see what words are used together.\n",
    "\n",
    "For example, if we want to know what kinds of nouns have been described as red (punane), we can use the following function. This finds the top topic for the given adjective and returns the most probable nouns from that topic. "
   ]
  },
  {
   "cell_type": "code",
   "execution_count": 3,
   "id": "76dbeadb",
   "metadata": {},
   "outputs": [
    {
     "data": {
      "text/plain": [
       "['latern',\n",
       " 'tellis',\n",
       " 'rist',\n",
       " 'kurat',\n",
       " 'rätt',\n",
       " 'paprika',\n",
       " 'roos',\n",
       " 'rätik',\n",
       " 'foorituli',\n",
       " 'sõstar']"
      ]
     },
     "execution_count": 3,
     "metadata": {},
     "output_type": "execute_result"
    }
   ],
   "source": [
    "cn.nouns_used_with_adjective(\"punane\")"
   ]
  },
  {
   "cell_type": "markdown",
   "id": "89c9aa2d",
   "metadata": {},
   "source": [
    "By default 10 nouns are returned but this can be changed by specifying the number_of_words parameter:"
   ]
  },
  {
   "cell_type": "code",
   "execution_count": 4,
   "id": "ce92d060",
   "metadata": {},
   "outputs": [
    {
     "data": {
      "text/plain": [
       "['latern', 'tellis', 'rist']"
      ]
     },
     "execution_count": 4,
     "metadata": {},
     "output_type": "execute_result"
    }
   ],
   "source": [
    "cn.nouns_used_with_adjective(\"punane\", number_of_words=3)"
   ]
  },
  {
   "cell_type": "markdown",
   "id": "851de7e5",
   "metadata": {},
   "source": [
    "We can obtain the same for nouns:"
   ]
  },
  {
   "cell_type": "code",
   "execution_count": 5,
   "id": "9bba6c02",
   "metadata": {},
   "outputs": [
    {
     "data": {
      "text/plain": [
       "['punane',\n",
       " 'valge',\n",
       " 'uus',\n",
       " 'tulipunane',\n",
       " 'suur',\n",
       " 'väikeseõieline',\n",
       " 'süüdatud',\n",
       " 'suureõieline',\n",
       " 'tumepunane',\n",
       " 'hõõguv']"
      ]
     },
     "execution_count": 5,
     "metadata": {},
     "output_type": "execute_result"
    }
   ],
   "source": [
    "cn.adjectives_used_with_noun(\"roos\")"
   ]
  },
  {
   "cell_type": "markdown",
   "id": "1e74bd4e",
   "metadata": {},
   "source": [
    "We can find which nouns are similar to a given noun and which adjectives are similar to a given adjective. Similarly, number_of_words can be specified if needed. Similar nouns are found by using the k-nearest neighbours algorithm based on word distributions across different topics obtained from the LDA model."
   ]
  },
  {
   "cell_type": "code",
   "execution_count": 6,
   "id": "b17541d6",
   "metadata": {},
   "outputs": [
    {
     "data": {
      "text/plain": [
       "['hooaeg',\n",
       " 'teisipäev',\n",
       " 'nädal',\n",
       " 'tali',\n",
       " 'õppeaasta',\n",
       " 'turustusaasta',\n",
       " 'sajand',\n",
       " 'sügis',\n",
       " 'kokkusaamine',\n",
       " 'kütteperiood']"
      ]
     },
     "execution_count": 6,
     "metadata": {},
     "output_type": "execute_result"
    }
   ],
   "source": [
    "cn.similar_nouns(\"esmaspäev\")"
   ]
  },
  {
   "cell_type": "code",
   "execution_count": 7,
   "id": "4d6cd9fc",
   "metadata": {},
   "outputs": [
    {
     "data": {
      "text/plain": [
       "['hapu',\n",
       " 'lõhnav',\n",
       " 'lilla',\n",
       " 'kuldkollane',\n",
       " 'kangendatud',\n",
       " 'kirgas',\n",
       " 'nominaalne',\n",
       " 'täidlane',\n",
       " 'pruunikas',\n",
       " 'oranzh']"
      ]
     },
     "execution_count": 7,
     "metadata": {},
     "output_type": "execute_result"
    }
   ],
   "source": [
    "cn.similar_adjectives(\"roosa\")"
   ]
  },
  {
   "cell_type": "markdown",
   "id": "42df441a",
   "metadata": {},
   "source": [
    "Similarly we can find which other words would be most similar to a list of words."
   ]
  },
  {
   "cell_type": "code",
   "execution_count": 8,
   "id": "f3d721a8",
   "metadata": {},
   "outputs": [
    {
     "data": {
      "text/plain": [
       "['jaanuar', 'august', 'vanalinn', 'teadus', 'september']"
      ]
     },
     "execution_count": 8,
     "metadata": {},
     "output_type": "execute_result"
    }
   ],
   "source": [
    "cn.similar_nouns_for_several([\"juuni\", \"juuli\"], number_of_words=5)"
   ]
  },
  {
   "cell_type": "code",
   "execution_count": 9,
   "id": "ea3fef51",
   "metadata": {},
   "outputs": [
    {
     "data": {
      "text/plain": [
       "['jube', 'naljakas', 'imeline', 'udune', 'vastik']"
      ]
     },
     "execution_count": 9,
     "metadata": {},
     "output_type": "execute_result"
    }
   ],
   "source": [
    "cn.similar_adjectives_for_several([\"ilus\", \"kole\"], number_of_words=5)"
   ]
  },
  {
   "cell_type": "markdown",
   "id": "58211b0a",
   "metadata": {},
   "source": [
    "We can find which topic a word was assigned to. This can only be used for the word type that was used as documents, in this case nouns. Since LDA was used, each word got a probability vector which showed the probability of the word belonging to each topic. After that all words were assigned to the topic that had the highest probability. The topic returned is a list of words whose probability for this topic was the highest. A topic ideally captures words that are somewhat similar, which here means they were used in similar collocations."
   ]
  },
  {
   "cell_type": "code",
   "execution_count": 10,
   "id": "b14a4b66",
   "metadata": {},
   "outputs": [
    {
     "data": {
      "text/plain": [
       "['aasta', 'hooaeg', 'sajand', 'esmaspäev']"
      ]
     },
     "execution_count": 10,
     "metadata": {},
     "output_type": "execute_result"
    }
   ],
   "source": [
    "cn.topic(\"esmaspäev\")"
   ]
  },
  {
   "cell_type": "markdown",
   "id": "2434f16a",
   "metadata": {},
   "source": [
    "In addition to the nouns in the topic, we can also find which adjectives describe the topic the most. This returns a wordcloud. The default number_of_words parameter is set as 100, so 100 words will appear in the image. The larger an adjective is, the more descriptive it is of said topic."
   ]
  },
  {
   "cell_type": "code",
   "execution_count": 11,
   "id": "421b5495",
   "metadata": {},
   "outputs": [
    {
     "data": {
      "image/png": "[encoded data removed]",
      "text/plain": [
       "<Figure size 432x288 with 1 Axes>"
      ]
     },
     "metadata": {
      "needs_background": "light"
     },
     "output_type": "display_data"
    }
   ],
   "source": [
    "cn.topic_words(\"esmaspäev\")"
   ]
  },
  {
   "cell_type": "markdown",
   "id": "19b7459a",
   "metadata": {},
   "source": [
    "To find more information regarding how a noun was assigned to different topics, the \"characterisation\" function can be used. This returns a list of tuples, where the first element in a tuple shows the probability of the noun belonging to said topic and the second element is a list of top adjectives for said topic. This means these adjectives influenced belonging to this topic the most and if a noun was paired with these adjectives often, it was more likely it would be assigned to this topic.\n",
    "\n",
    "For this function, number_of_topics and number_of_words can be specified to control how many topics and adjectives from each topic get returned. The default for both parameters is 10."
   ]
  },
  {
   "cell_type": "code",
   "execution_count": 12,
   "id": "cea6667c",
   "metadata": {},
   "outputs": [
    {
     "data": {
      "text/plain": [
       "[(0.322, ['eelmine', 'järgmine', 'viimane', 'tulev', 'käesolev']),\n",
       " (0.247, ['järgmine', 'viimane', 'uus', 'eelmine', 'järjekordne']),\n",
       " (0.192, ['läinud', 'eelmine', 'eelolev', 'tulev', 'järgmine'])]"
      ]
     },
     "execution_count": 12,
     "metadata": {},
     "output_type": "execute_result"
    }
   ],
   "source": [
    "cn.characterisation(\"esmaspäev\", number_of_topics=3, number_of_words=5)"
   ]
  },
  {
   "cell_type": "markdown",
   "id": "3be82a1c",
   "metadata": {},
   "source": [
    "Another thing the collocation net can be used for is collocation predictions. This can be done in two ways.\n",
    "\n",
    "First we can give the function a noun and a list of adjectives."
   ]
  },
  {
   "cell_type": "code",
   "execution_count": 13,
   "id": "f9655e49",
   "metadata": {},
   "outputs": [
    {
     "data": {
      "text/plain": [
       "[('kange', 0.10680824865174013), ('tugev', 7.497004354818274e-05)]"
      ]
     },
     "execution_count": 13,
     "metadata": {},
     "output_type": "execute_result"
    }
   ],
   "source": [
    "cn.predict_adjective_probabilities(\"kohv\", [\"kange\", \"tugev\"])"
   ]
  },
  {
   "cell_type": "markdown",
   "id": "36e647bb",
   "metadata": {},
   "source": [
    "This orders the list of adjectives based on how likely they are to form a collocation with the given noun and returns the ordered list with probabilities. From this example we can see that the collocation \"kange kohv\" is much more likely to occur than \"tugev kohv\"."
   ]
  },
  {
   "cell_type": "markdown",
   "id": "33b3999a",
   "metadata": {},
   "source": [
    "We can do the same with an adjective and a list of nouns."
   ]
  },
  {
   "cell_type": "code",
   "execution_count": 14,
   "id": "6f08932d",
   "metadata": {},
   "outputs": [
    {
     "data": {
      "text/plain": [
       "[('hoone', 0.006823106727817134), ('inimene', 0.0003689164116009077)]"
      ]
     },
     "execution_count": 14,
     "metadata": {},
     "output_type": "execute_result"
    }
   ],
   "source": [
    "cn.predict_noun_probabilities(\"kõrge\", [\"inimene\", \"hoone\"])"
   ]
  },
  {
   "cell_type": "markdown",
   "id": "960c55a5",
   "metadata": {},
   "source": [
    "Secondly we can find the most probable adjectives for a given noun or most probable nouns for a given adjective. The parameters number_of_adjectives or number_of_nouns can be specified. The default value is 10."
   ]
  },
  {
   "cell_type": "code",
   "execution_count": 15,
   "id": "789f8dc8",
   "metadata": {},
   "outputs": [
    {
     "data": {
      "text/plain": [
       "[('kofeiinivaba', 0.20864943879101272),\n",
       " ('lahustuv', 0.19025468185819383),\n",
       " ('mittelubatu', 0.17337577992916897)]"
      ]
     },
     "execution_count": 15,
     "metadata": {},
     "output_type": "execute_result"
    }
   ],
   "source": [
    "cn.predict_adjective_probabilities(\"kohv\", number_of_adjectives=3)"
   ]
  },
  {
   "cell_type": "code",
   "execution_count": 16,
   "id": "e419d356",
   "metadata": {},
   "outputs": [
    {
     "data": {
      "text/plain": [
       "[('alkohol', 0.5521709825587598),\n",
       " ('sinep', 0.29174553788662405),\n",
       " ('naps', 0.1691925003184874)]"
      ]
     },
     "execution_count": 16,
     "metadata": {},
     "output_type": "execute_result"
    }
   ],
   "source": [
    "cn.predict_noun_probabilities(\"kange\", number_of_nouns=3)"
   ]
  },
  {
   "cell_type": "markdown",
   "id": "de63953e",
   "metadata": {},
   "source": [
    "We can also predict the common adjectives for a list of nouns. This works for the word type used as documents."
   ]
  },
  {
   "cell_type": "code",
   "execution_count": 17,
   "id": "83d68d0a",
   "metadata": {},
   "outputs": [
    {
     "data": {
      "text/plain": [
       "[('kahetoaline', 0.4589713278382533),\n",
       " ('kolmetoaline', 0.4587494462879928),\n",
       " ('ühetoaline', 0.45866741919715204),\n",
       " ('neljatoaline', 0.45791468482319353),\n",
       " ('2toaline', 0.45636157569712615),\n",
       " ('3toaline', 0.4558914037036481),\n",
       " ('4toaline', 0.4538272339761194),\n",
       " ('viietoaline', 0.4532228599567853),\n",
       " ('1toaline', 0.45076830320853256),\n",
       " ('toaline', 0.4470280262587787)]"
      ]
     },
     "execution_count": 17,
     "metadata": {},
     "output_type": "execute_result"
    }
   ],
   "source": [
    "cn.predict_adjectives_for_several_nouns([\"maja\", \"korter\"])"
   ]
  },
  {
   "cell_type": "markdown",
   "id": "6f9cd39a",
   "metadata": {},
   "source": [
    "Lastly we can see if it is likely that a collocation could be used together."
   ]
  },
  {
   "cell_type": "code",
   "execution_count": 18,
   "id": "e5a5897b",
   "metadata": {},
   "outputs": [
    {
     "data": {
      "text/plain": [
       "True"
      ]
     },
     "execution_count": 18,
     "metadata": {},
     "output_type": "execute_result"
    }
   ],
   "source": [
    "cn.usable_phrase(\"juuni\", \"ilus\")"
   ]
  },
  {
   "cell_type": "code",
   "execution_count": 19,
   "id": "156b616f",
   "metadata": {},
   "outputs": [
    {
     "data": {
      "text/plain": [
       "False"
      ]
     },
     "execution_count": 19,
     "metadata": {},
     "output_type": "execute_result"
    }
   ],
   "source": [
    "cn.usable_phrase(\"inimene\", \"kõrge\")"
   ]
  }
 ],
 "metadata": {
  "kernelspec": {
   "display_name": "Python 3",
   "language": "python",
   "name": "python3"
  },
  "language_info": {
   "codemirror_mode": {
    "name": "ipython",
    "version": 3
   },
   "file_extension": ".py",
   "mimetype": "text/x-python",
   "name": "python",
   "nbconvert_exporter": "python",
   "pygments_lexer": "ipython3",
   "version": "3.6.13"
  }
 },
 "nbformat": 4,
 "nbformat_minor": 5
}
