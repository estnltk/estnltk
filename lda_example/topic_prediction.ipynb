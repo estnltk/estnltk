{
 "cells": [
  {
   "cell_type": "markdown",
   "id": "5c6fd879",
   "metadata": {},
   "source": [
    "## I. Theoretical formulation of the problem\n",
    "\n",
    "Let us first have count table for collocates $C$ where $c_{u,v}$ denotes the amount of $(u,v)$ pairs in the training corpus. Then our task is to predict topic probabilities for each collocate $u$ and topic probabilities for each collocate group $u_1, \\ldots, u_\\ell$. The first task can be solved with LDA. "
   ]
  },
  {
   "cell_type": "markdown",
   "id": "a68fd06a",
   "metadata": {},
   "source": [
    "## II. Prediction for the collocate group\n",
    "\n",
    "Let us start with setting where  words $u_1, \\ldots u_\\ell$ have the equal importance.\n",
    "Then the question we must ask is what is the posterior of a topic given that each ow the words was chosen uniformly.\n",
    "\n",
    "\\begin{align*}\n",
    " \\Pr[z|\\boldsymbol{\\alpha}, \\boldsymbol{\\beta}, C, \\mathcal{U}]=\n",
    " \\sum_u \\Pr[z u|\\boldsymbol{\\alpha}, \\boldsymbol{\\beta}, C, \\mathcal{U}]=\n",
    " \\Pr[z|u_i,\\boldsymbol{\\alpha}, \\boldsymbol{\\beta}, C]\\cdot\n",
    " \\Pr[u_i|\\mathcal{U}]\n",
    "\\end{align*}\n",
    "\n",
    "where $\\Pr[u_i|\\mathcal{U}]$ is the uniform distribution. That is we just compute topic averages over different words $u_i$. If words have different weights then we do the weighted averages. \n",
    "\n"
   ]
  }
 ],
 "metadata": {
  "kernelspec": {
   "display_name": "Python 3 (ipykernel)",
   "language": "python",
   "name": "python3"
  },
  "language_info": {
   "codemirror_mode": {
    "name": "ipython",
    "version": 3
   },
   "file_extension": ".py",
   "mimetype": "text/x-python",
   "name": "python",
   "nbconvert_exporter": "python",
   "pygments_lexer": "ipython3",
   "version": "3.8.12"
  }
 },
 "nbformat": 4,
 "nbformat_minor": 5
}
